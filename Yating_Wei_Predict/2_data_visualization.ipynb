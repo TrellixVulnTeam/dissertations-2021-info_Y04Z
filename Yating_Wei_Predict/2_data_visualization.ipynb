{
 "cells": [
  {
   "cell_type": "code",
   "execution_count": 1,
   "metadata": {},
   "outputs": [],
   "source": [
    "import pandas as pd\n",
    "import numpy as np\n",
    "from matplotlib import pyplot as plt"
   ]
  },
  {
   "cell_type": "code",
   "execution_count": 22,
   "metadata": {},
   "outputs": [],
   "source": [
    "set_never = pd.read_csv('set_never.csv')\n",
    "set_always = pd.read_csv('set_always.csv')"
   ]
  },
  {
   "cell_type": "code",
   "execution_count": 23,
   "metadata": {
    "scrolled": true
   },
   "outputs": [],
   "source": [
    "# set_never.info()\n",
    "# set_never['TVPI'].value_counts()"
   ]
  },
  {
   "cell_type": "code",
   "execution_count": 24,
   "metadata": {},
   "outputs": [],
   "source": [
    "# set_always.info()\n",
    "# set_always['TVPI'].value_counts()"
   ]
  },
  {
   "cell_type": "code",
   "execution_count": 25,
   "metadata": {},
   "outputs": [],
   "source": [
    "never = set_never['TVPI'].values.tolist()\n",
    "always = set_always['TVPI'].values.tolist()\n",
    "# never = []\n",
    "# always = []\n",
    "# for i in never_:\n",
    "#     if i < 300:\n",
    "#         never.append(i)\n",
    "# print(never)\n",
    "# for i in always_:\n",
    "#     if i < 300:\n",
    "#         never.append(i)\n",
    "# print(always)\n",
    "# never0 = []\n",
    "# for i in never:\n",
    "#     if i > 0:\n",
    "#         never0.append(i)\n",
    "# # print(never0)\n",
    "# always0 = []\n",
    "# for i in always:\n",
    "#     if i > 0:\n",
    "#         always0.append(i)\n",
    "# # print(always0)"
   ]
  },
  {
   "cell_type": "code",
   "execution_count": 26,
   "metadata": {},
   "outputs": [],
   "source": [
    "never_mean = np.mean(never)\n",
    "# never_mean0 = np.mean(never0)\n",
    "never_median = np.median(never)\n",
    "# never_median0 = np.median(never0)\n",
    "always_mean = np.mean(always)\n",
    "# always_mean0 = np.mean(always0)\n",
    "always_median = np.median(always)\n",
    "# always_median0 = np.median(always0)"
   ]
  },
  {
   "cell_type": "code",
   "execution_count": 27,
   "metadata": {
    "scrolled": true
   },
   "outputs": [
    {
     "data": {
      "text/html": [
       "<div>\n",
       "<style scoped>\n",
       "    .dataframe tbody tr th:only-of-type {\n",
       "        vertical-align: middle;\n",
       "    }\n",
       "\n",
       "    .dataframe tbody tr th {\n",
       "        vertical-align: top;\n",
       "    }\n",
       "\n",
       "    .dataframe thead th {\n",
       "        text-align: right;\n",
       "    }\n",
       "</style>\n",
       "<table border=\"1\" class=\"dataframe\">\n",
       "  <thead>\n",
       "    <tr style=\"text-align: right;\">\n",
       "      <th></th>\n",
       "      <th>Mean</th>\n",
       "      <th>Median</th>\n",
       "    </tr>\n",
       "  </thead>\n",
       "  <tbody>\n",
       "    <tr>\n",
       "      <th>Never-Follow</th>\n",
       "      <td>2.046033</td>\n",
       "      <td>0.0</td>\n",
       "    </tr>\n",
       "    <tr>\n",
       "      <th>Always-Follow</th>\n",
       "      <td>0.514427</td>\n",
       "      <td>0.0</td>\n",
       "    </tr>\n",
       "  </tbody>\n",
       "</table>\n",
       "</div>"
      ],
      "text/plain": [
       "                   Mean  Median\n",
       "Never-Follow   2.046033     0.0\n",
       "Always-Follow  0.514427     0.0"
      ]
     },
     "execution_count": 27,
     "metadata": {},
     "output_type": "execute_result"
    }
   ],
   "source": [
    "data = {'Mean':[never_mean,always_mean],\n",
    "       'Median':[never_median,always_median]}\n",
    "#         'Mean_Drop':[never_mean0,always_mean0],\n",
    "#        'Median_Drop':[never_median0,always_median0]}\n",
    "df = pd.DataFrame(data,index=['Never-Follow','Always-Follow'])\n",
    "df.head()"
   ]
  },
  {
   "cell_type": "code",
   "execution_count": 11,
   "metadata": {},
   "outputs": [
    {
     "data": {
      "image/png": "[encoded data removed]",
      "text/plain": [
       "<Figure size 720x360 with 1 Axes>"
      ]
     },
     "metadata": {
      "needs_background": "light"
     },
     "output_type": "display_data"
    }
   ],
   "source": [
    "plt.figure(figsize=(10,5))\n",
    "never_y = \n",
    "plt.scatter(never0,never_y,marker='o',label='Never-Follow',color='navy')\n",
    "always_x = \n",
    "plt.scatter(always_x,always0,marker='s',label='Always-Follow',color='brown')\n",
    "plt.legend()\n",
    "plt.title(\"TVPI of Different Follow-on Strategies\")\n",
    "plt.show()"
   ]
  },
  {
   "cell_type": "code",
   "execution_count": 34,
   "metadata": {},
   "outputs": [
    {
     "data": {
      "image/png": "[encoded data removed]",
      "text/plain": [
       "<Figure size 720x360 with 1 Axes>"
      ]
     },
     "metadata": {
      "needs_background": "light"
     },
     "output_type": "display_data"
    }
   ],
   "source": [
    "plt.figure(figsize=(10,5))\n",
    "never_y = set_never['rounds'].values.tolist()\n",
    "plt.scatter(never,never_y,marker='o',label='Never-Follow',color='navy')\n",
    "always_y = set_always['rounds'].values.tolist()\n",
    "plt.scatter(always,always_y,marker='s',label='Always-Follow',color='brown')\n",
    "plt.legend()\n",
    "# plt.xscale('log')\n",
    "# plt.yscale('log')\n",
    "plt.xlim((-10, 300))\n",
    "plt.ylim((0,10))\n",
    "plt.title(\"TVPI of Different Follow-on Strategies\")\n",
    "plt.show()"
   ]
  },
  {
   "cell_type": "code",
   "execution_count": null,
   "metadata": {},
   "outputs": [],
   "source": []
  }
 ],
 "metadata": {
  "kernelspec": {
   "display_name": "Python 3",
   "language": "python",
   "name": "python3"
  },
  "language_info": {
   "codemirror_mode": {
    "name": "ipython",
    "version": 3
   },
   "file_extension": ".py",
   "mimetype": "text/x-python",
   "name": "python",
   "nbconvert_exporter": "python",
   "pygments_lexer": "ipython3",
   "version": "3.8.5"
  }
 },
 "nbformat": 4,
 "nbformat_minor": 4
}
