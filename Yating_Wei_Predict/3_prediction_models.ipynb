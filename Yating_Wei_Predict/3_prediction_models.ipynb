{
 "cells": [
  {
   "cell_type": "code",
   "execution_count": 1,
   "metadata": {},
   "outputs": [],
   "source": [
    "import warnings; warnings.simplefilter('ignore')\n",
    "import pandas as pd\n",
    "import numpy as np\n",
    "import xgboost as xgb \n",
    "%matplotlib inline\n",
    "from matplotlib import pyplot as plt\n",
    "from tqdm import *"
   ]
  },
  {
   "cell_type": "code",
   "execution_count": 2,
   "metadata": {},
   "outputs": [],
   "source": [
    "df = pd.read_csv('modified_data.csv')\n",
    "del df['Unnamed: 0']"
   ]
  },
  {
   "cell_type": "code",
   "execution_count": 3,
   "metadata": {},
   "outputs": [],
   "source": [
    "choose_factor = [i for i in df.columns if i in ['rounds','percent_total','valuation','value_chg',\n",
    "                                                 'follow_count','industry_2','industry_val',\n",
    "                                                 'investor_count','founder_count','male_ratio','rate']]"
   ]
  },
  {
   "cell_type": "code",
   "execution_count": 4,
   "metadata": {},
   "outputs": [],
   "source": [
    "choose_feature = df[choose_factor]"
   ]
  },
  {
   "cell_type": "code",
   "execution_count": 5,
   "metadata": {},
   "outputs": [],
   "source": [
    "choose_feature['investor_count'] = choose_feature['investor_count'].fillna(choose_feature['investor_count'].mean())\n",
    "choose_feature['founder_count'] = choose_feature['founder_count'].fillna(choose_feature['founder_count'].mean())"
   ]
  },
  {
   "cell_type": "code",
   "execution_count": 6,
   "metadata": {},
   "outputs": [],
   "source": [
    "choose_feature.to_csv(r'choose_feature.csv')"
   ]
  },
  {
   "cell_type": "code",
   "execution_count": 7,
   "metadata": {},
   "outputs": [],
   "source": [
    "# fea = choose_feature.copy()"
   ]
  },
  {
   "cell_type": "code",
   "execution_count": 8,
   "metadata": {},
   "outputs": [],
   "source": [
    "choose_label = df['label']"
   ]
  },
  {
   "cell_type": "markdown",
   "metadata": {},
   "source": [
    "## Split training set and test set"
   ]
  },
  {
   "cell_type": "code",
   "execution_count": 9,
   "metadata": {},
   "outputs": [],
   "source": [
    "# X_train, X_test, y_train, y_test = train_test_split(choose_feature, choose_label, test_size=0.2)"
   ]
  },
  {
   "cell_type": "code",
   "execution_count": 10,
   "metadata": {},
   "outputs": [],
   "source": [
    "# dtrain = xgb.DMatrix(X_train, label=y_train)\n",
    "# dtest = xgb.DMatrix(X_test)"
   ]
  },
  {
   "cell_type": "code",
   "execution_count": 11,
   "metadata": {},
   "outputs": [],
   "source": [
    "from sklearn.model_selection import train_test_split  # Split training set and test set\n",
    "from sklearn.preprocessing import LabelEncoder   # Labelled classification parameters\n",
    "le = LabelEncoder()\n",
    "choose_label = le.fit_transform(choose_label)\n",
    "X_train,X_test,y_train,y_test = train_test_split(choose_feature, choose_label,test_size=0.3,random_state=1,stratify=choose_label)\n",
    "dtrain = xgb.DMatrix(X_train, label=y_train)\n",
    "dtest = xgb.DMatrix(X_test)\n",
    "# 1.Booster parameters\n",
    "params = {\n",
    "    'booster': 'gbtree',\n",
    "    'objective': 'multi:softmax',\n",
    "    \n",
    "    'num_class': 10,               # Number of classes, used in conjunction with multisoftmax    \n",
    "                                   #'objective': 'multi:softmax'\n",
    "                                   # Multiple classification issues 'objective':'binary:logistic'\n",
    "    'gamma': 0.1,                  # The larger the parameter, the more conservative it is, usually 0.1 or 0.2.\n",
    "    'max_depth': 30,               # Build the depth of the tree, the larger the tree, the easier it is to over-fit.\n",
    "    'lambda': 1,                   # The parameter of the L1 regularisation term that controls the weight value of the model complexity.\n",
    "                                   #the larger the parameter, the less likely the model is to be overfitted.\n",
    "    'subsample': 0.9,              # randomly sampled training samples\n",
    "    'colsample_bytree': 0.8,       # column sampling during tree generation\n",
    "    'min_child_weight': 3,\n",
    "    'silent': 0,                   # If it is set to 1, no run message is output and it is better to set it to 0.\n",
    "    'eta': 0.003,                  # similar with the learning rate\n",
    "    'seed': 1000,\n",
    "    'nthread': 6,                  # cpu threads# specify the validation set\n",
    "    'eval_metric':'auc'\n",
    "}\n",
    "plst = list(params.items())\n",
    "# evallist = [(dtest, 'eval'), (dtrain, 'train')]   # specify the validation set"
   ]
  },
  {
   "cell_type": "code",
   "execution_count": 12,
   "metadata": {},
   "outputs": [
    {
     "name": "stdout",
     "output_type": "stream",
     "text": [
      "[00:44:44] WARNING: C:/Users/Administrator/workspace/xgboost-win64_release_1.4.0/src/learner.cc:573: \n",
      "Parameters: { \"silent\" } might not be used.\n",
      "\n",
      "  This may not be accurate due to some parameters are only used in language bindings but\n",
      "  passed down to XGBoost core.  Or some parameters are not used but slip through this\n",
      "  verification. Please open an issue if you find above cases.\n",
      "\n",
      "\n"
     ]
    }
   ],
   "source": [
    "# 2.train\n",
    "num_round = 10\n",
    "bst = xgb.train(plst, dtrain, num_round)\n",
    "#bst = xgb.train( plst, dtrain, num_round, evallist )"
   ]
  },
  {
   "cell_type": "code",
   "execution_count": 13,
   "metadata": {},
   "outputs": [],
   "source": [
    "ypred = bst.predict(dtest)"
   ]
  },
  {
   "cell_type": "code",
   "execution_count": 14,
   "metadata": {},
   "outputs": [],
   "source": [
    "xgboost_precison = pd.DataFrame(ypred,y_test).reset_index()\n",
    "xgboost_precison.columns = ['predict','test']\n",
    "xgboost_precison = xgboost_precison.astype(int)"
   ]
  },
  {
   "cell_type": "code",
   "execution_count": 15,
   "metadata": {},
   "outputs": [
    {
     "data": {
      "text/plain": [
       "<AxesSubplot:title={'center':'Feature importance'}, xlabel='F score', ylabel='Features'>"
      ]
     },
     "execution_count": 15,
     "metadata": {},
     "output_type": "execute_result"
    },
    {
     "data": {
      "image/png": "[encoded data removed]",
      "text/plain": [
       "<Figure size 432x288 with 1 Axes>"
      ]
     },
     "metadata": {
      "needs_background": "light"
     },
     "output_type": "display_data"
    }
   ],
   "source": [
    "# 1.feature importance\n",
    "xgb.plot_importance(bst)"
   ]
  },
  {
   "cell_type": "code",
   "execution_count": 16,
   "metadata": {},
   "outputs": [
    {
     "name": "stdout",
     "output_type": "stream",
     "text": [
      "accuarcy: 78.927%\n",
      "precision: 82.366%\n"
     ]
    }
   ],
   "source": [
    "# valuation metrics\n",
    "from sklearn.metrics import accuracy_score\n",
    "from sklearn.metrics import precision_score\n",
    "accuracy = accuracy_score(y_test,ypred)\n",
    "precision = precision_score(y_test,ypred)\n",
    "print(\"accuarcy: %.3f%%\" % (accuracy*100.0))\n",
    "print(\"precision: %.3f%%\" % (precision*100.0))"
   ]
  },
  {
   "cell_type": "code",
   "execution_count": 17,
   "metadata": {},
   "outputs": [],
   "source": [
    "# plt.rcParams['font.sans-serif']=['SimHei']\n",
    "# plt.rcParams['axes.unicode_minus'] = False"
   ]
  },
  {
   "cell_type": "code",
   "execution_count": 18,
   "metadata": {},
   "outputs": [],
   "source": [
    "import seaborn as sns\n",
    "def dataPlot():\n",
    "    # Plotting based on the results of the correlation coefficient calculation\n",
    "    \n",
    "    fig,ax=plt.subplots(figsize=(18,8))\n",
    "#     key_list=['A','B','C','D','E','F','G','H']\n",
    "    sns.heatmap(pd.DataFrame(np.round(X_train[choose_factor].corr(),4),columns=choose_factor,index=choose_factor),annot=True,vmax=1,vmin=0,xticklabels=True,\n",
    "                             yticklabels=True,square=True,cmap=\"YlGnBu\")\n",
    "    ax.set_title(' Feature Correlation Coefficients ', fontsize=18)\n",
    "    ax.set_ylabel('Y', fontsize=16)\n",
    "    ax.set_xlabel('X', fontsize=16)"
   ]
  },
  {
   "cell_type": "code",
   "execution_count": 19,
   "metadata": {},
   "outputs": [
    {
     "data": {
      "image/png": "[encoded data removed]",
      "text/plain": [
       "<Figure size 1296x576 with 2 Axes>"
      ]
     },
     "metadata": {
      "needs_background": "light"
     },
     "output_type": "display_data"
    }
   ],
   "source": [
    "dataPlot()"
   ]
  },
  {
   "cell_type": "markdown",
   "metadata": {},
   "source": [
    "## Random Forest"
   ]
  },
  {
   "cell_type": "code",
   "execution_count": 20,
   "metadata": {},
   "outputs": [],
   "source": [
    "# from sklearn.model_selection import train_test_split\n",
    "from sklearn import tree\n",
    "from sklearn.metrics import confusion_matrix\n",
    "from sklearn.ensemble import RandomForestClassifier"
   ]
  },
  {
   "cell_type": "code",
   "execution_count": 21,
   "metadata": {},
   "outputs": [],
   "source": [
    "choose_feature['value_chg'] = choose_feature['value_chg'].fillna(choose_feature['value_chg'].mean())"
   ]
  },
  {
   "cell_type": "code",
   "execution_count": 22,
   "metadata": {},
   "outputs": [],
   "source": [
    "choose_feature['valuation'] = choose_feature['valuation'].fillna(choose_feature['valuation'].mean())"
   ]
  },
  {
   "cell_type": "code",
   "execution_count": 26,
   "metadata": {},
   "outputs": [],
   "source": [
    "choose_feature['industry_val'] = choose_feature['industry_val'].fillna(choose_feature['valuation'].mean())"
   ]
  },
  {
   "cell_type": "code",
   "execution_count": 35,
   "metadata": {},
   "outputs": [
    {
     "name": "stdout",
     "output_type": "stream",
     "text": [
      "rounds            False\n",
      "percent_total     False\n",
      "investor_count    False\n",
      "founder_count     False\n",
      "valuation         False\n",
      "value_chg         False\n",
      "follow_count      False\n",
      "rate              False\n",
      "industry_val      False\n",
      "male_ratio        False\n",
      "industry_2        False\n",
      "dtype: bool\n"
     ]
    }
   ],
   "source": [
    "print(np.isinf(choose_feature).any())"
   ]
  },
  {
   "cell_type": "code",
   "execution_count": 36,
   "metadata": {},
   "outputs": [],
   "source": [
    "X_train,X_test,y_train,y_test = train_test_split(choose_feature, choose_label,test_size=0.3,random_state=1,stratify=choose_label)"
   ]
  },
  {
   "cell_type": "code",
   "execution_count": 37,
   "metadata": {},
   "outputs": [
    {
     "data": {
      "text/plain": [
       "RandomForestClassifier(class_weight='balanced', max_depth=100,\n",
       "                       max_features='sqrt', n_estimators=10)"
      ]
     },
     "execution_count": 37,
     "metadata": {},
     "output_type": "execute_result"
    }
   ],
   "source": [
    "clf_forest = RandomForestClassifier(n_estimators=10, max_features='sqrt', max_depth=100, class_weight='balanced')\n",
    "clf_forest.fit(X_train,y_train)"
   ]
  },
  {
   "cell_type": "code",
   "execution_count": 38,
   "metadata": {},
   "outputs": [
    {
     "data": {
      "text/plain": [
       "(2534, 11)"
      ]
     },
     "execution_count": 38,
     "metadata": {},
     "output_type": "execute_result"
    }
   ],
   "source": [
    "X_test.shape"
   ]
  },
  {
   "cell_type": "code",
   "execution_count": 39,
   "metadata": {},
   "outputs": [],
   "source": [
    "predict = clf_forest.predict(X_test)"
   ]
  },
  {
   "cell_type": "code",
   "execution_count": 40,
   "metadata": {},
   "outputs": [
    {
     "name": "stdout",
     "output_type": "stream",
     "text": [
      "              precision    recall  f1-score   support\n",
      "\n",
      "           0       0.68      0.71      0.70       873\n",
      "           1       0.85      0.82      0.83      1661\n",
      "\n",
      "    accuracy                           0.79      2534\n",
      "   macro avg       0.76      0.77      0.77      2534\n",
      "weighted avg       0.79      0.79      0.79      2534\n",
      "\n",
      "precision: 84.592%\n"
     ]
    }
   ],
   "source": [
    "from sklearn.metrics import precision_score\n",
    "import sklearn.metrics as sm\n",
    "# sm.confusion_matrix(y_test,predict)\n",
    "print(sm.classification_report(y_test,predict))\n",
    "\n",
    "precision = precision_score(y_test,predict)\n",
    "print(\"precision: %.3f%%\" % (precision*100.0))"
   ]
  },
  {
   "cell_type": "markdown",
   "metadata": {},
   "source": [
    "## the feature importance"
   ]
  },
  {
   "cell_type": "code",
   "execution_count": 41,
   "metadata": {},
   "outputs": [
    {
     "data": {
      "text/html": [
       "<div>\n",
       "<style scoped>\n",
       "    .dataframe tbody tr th:only-of-type {\n",
       "        vertical-align: middle;\n",
       "    }\n",
       "\n",
       "    .dataframe tbody tr th {\n",
       "        vertical-align: top;\n",
       "    }\n",
       "\n",
       "    .dataframe thead th {\n",
       "        text-align: right;\n",
       "    }\n",
       "</style>\n",
       "<table border=\"1\" class=\"dataframe\">\n",
       "  <thead>\n",
       "    <tr style=\"text-align: right;\">\n",
       "      <th></th>\n",
       "      <th>Features</th>\n",
       "      <th>Importances</th>\n",
       "    </tr>\n",
       "  </thead>\n",
       "  <tbody>\n",
       "    <tr>\n",
       "      <th>1</th>\n",
       "      <td>percent_total</td>\n",
       "      <td>0.402718</td>\n",
       "    </tr>\n",
       "    <tr>\n",
       "      <th>0</th>\n",
       "      <td>rounds</td>\n",
       "      <td>0.129109</td>\n",
       "    </tr>\n",
       "    <tr>\n",
       "      <th>5</th>\n",
       "      <td>value_chg</td>\n",
       "      <td>0.110272</td>\n",
       "    </tr>\n",
       "    <tr>\n",
       "      <th>4</th>\n",
       "      <td>valuation</td>\n",
       "      <td>0.097341</td>\n",
       "    </tr>\n",
       "    <tr>\n",
       "      <th>6</th>\n",
       "      <td>follow_count</td>\n",
       "      <td>0.075553</td>\n",
       "    </tr>\n",
       "    <tr>\n",
       "      <th>7</th>\n",
       "      <td>rate</td>\n",
       "      <td>0.075455</td>\n",
       "    </tr>\n",
       "    <tr>\n",
       "      <th>8</th>\n",
       "      <td>industry_val</td>\n",
       "      <td>0.039031</td>\n",
       "    </tr>\n",
       "    <tr>\n",
       "      <th>10</th>\n",
       "      <td>industry_2</td>\n",
       "      <td>0.026816</td>\n",
       "    </tr>\n",
       "    <tr>\n",
       "      <th>2</th>\n",
       "      <td>investor_count</td>\n",
       "      <td>0.017878</td>\n",
       "    </tr>\n",
       "    <tr>\n",
       "      <th>3</th>\n",
       "      <td>founder_count</td>\n",
       "      <td>0.01383</td>\n",
       "    </tr>\n",
       "  </tbody>\n",
       "</table>\n",
       "</div>"
      ],
      "text/plain": [
       "          Features Importances\n",
       "1    percent_total    0.402718\n",
       "0           rounds    0.129109\n",
       "5        value_chg    0.110272\n",
       "4        valuation    0.097341\n",
       "6     follow_count    0.075553\n",
       "7             rate    0.075455\n",
       "8     industry_val    0.039031\n",
       "10      industry_2    0.026816\n",
       "2   investor_count    0.017878\n",
       "3    founder_count     0.01383"
      ]
     },
     "execution_count": 41,
     "metadata": {},
     "output_type": "execute_result"
    }
   ],
   "source": [
    "# print the importance of features\n",
    "importances = clf_forest.feature_importances_ \n",
    "importances_df = pd.DataFrame([choose_factor, importances], index=['Features', 'Importances']).T\n",
    "importances_df.sort_values(by='Importances',ascending=False).head(10)"
   ]
  },
  {
   "cell_type": "code",
   "execution_count": 42,
   "metadata": {},
   "outputs": [
    {
     "data": {
      "text/plain": [
       "<AxesSubplot:title={'center':'Feature Importance'}, xlabel='Features'>"
      ]
     },
     "execution_count": 42,
     "metadata": {},
     "output_type": "execute_result"
    },
    {
     "data": {
      "image/png": "[encoded data removed]",
      "text/plain": [
       "<Figure size 1008x432 with 1 Axes>"
      ]
     },
     "metadata": {
      "needs_background": "light"
     },
     "output_type": "display_data"
    }
   ],
   "source": [
    "importances_df.set_index('Features').sort_values(by='Importances',ascending=False).head(10).plot.bar(figsize=(14,6),title='Feature Importance')"
   ]
  },
  {
   "cell_type": "code",
   "execution_count": 43,
   "metadata": {},
   "outputs": [],
   "source": [
    "# Define the process of scoring the model and forming the confusion_matrix as a function\n",
    "def model_evaluation(estimator, train_data, real_mark):\n",
    "    # predict\n",
    "    predict = estimator.predict(train_data)\n",
    "    # calculate the model score\n",
    "    compare_df = pd.DataFrame({'Real': real_mark, 'Predict': predict})\n",
    "    compare_df['mark'] = ~np.logical_xor(compare_df.Predict, compare_df.Real)\n",
    "    score = estimator.score(train_data, real_mark)\n",
    "    print(f'Accuracy: {score}\\n\\nConfusion matrix:\\n')\n",
    "    # calculate confusion matrix\n",
    "    confusion = confusion_matrix(real_mark, predict, labels=[0,1])\n",
    "    confusion_df = pd.DataFrame(confusion, index=['0_real', '1_real'], columns=['0_predict', '1_predict'] )\n",
    "    return confusion_df"
   ]
  },
  {
   "cell_type": "code",
   "execution_count": 44,
   "metadata": {},
   "outputs": [
    {
     "name": "stdout",
     "output_type": "stream",
     "text": [
      "Accuracy: 0.7857142857142857\n",
      "\n",
      "Confusion matrix:\n",
      "\n"
     ]
    },
    {
     "data": {
      "text/html": [
       "<div>\n",
       "<style scoped>\n",
       "    .dataframe tbody tr th:only-of-type {\n",
       "        vertical-align: middle;\n",
       "    }\n",
       "\n",
       "    .dataframe tbody tr th {\n",
       "        vertical-align: top;\n",
       "    }\n",
       "\n",
       "    .dataframe thead th {\n",
       "        text-align: right;\n",
       "    }\n",
       "</style>\n",
       "<table border=\"1\" class=\"dataframe\">\n",
       "  <thead>\n",
       "    <tr style=\"text-align: right;\">\n",
       "      <th></th>\n",
       "      <th>0_predict</th>\n",
       "      <th>1_predict</th>\n",
       "    </tr>\n",
       "  </thead>\n",
       "  <tbody>\n",
       "    <tr>\n",
       "      <th>0_real</th>\n",
       "      <td>624</td>\n",
       "      <td>249</td>\n",
       "    </tr>\n",
       "    <tr>\n",
       "      <th>1_real</th>\n",
       "      <td>294</td>\n",
       "      <td>1367</td>\n",
       "    </tr>\n",
       "  </tbody>\n",
       "</table>\n",
       "</div>"
      ],
      "text/plain": [
       "        0_predict  1_predict\n",
       "0_real        624        249\n",
       "1_real        294       1367"
      ]
     },
     "execution_count": 44,
     "metadata": {},
     "output_type": "execute_result"
    }
   ],
   "source": [
    "# In-sample prediction results\n",
    "model_evaluation(clf_forest, X_test, y_test)"
   ]
  },
  {
   "cell_type": "markdown",
   "metadata": {},
   "source": [
    "## Naive Bayes"
   ]
  },
  {
   "cell_type": "code",
   "execution_count": 45,
   "metadata": {},
   "outputs": [],
   "source": [
    "from sklearn.naive_bayes import BernoulliNB"
   ]
  },
  {
   "cell_type": "code",
   "execution_count": 46,
   "metadata": {},
   "outputs": [
    {
     "data": {
      "text/plain": [
       "BernoulliNB()"
      ]
     },
     "execution_count": 46,
     "metadata": {},
     "output_type": "execute_result"
    }
   ],
   "source": [
    "# Training the model, the data passed in for machine learning needs to be in the np.array data structure.\n",
    "clf = BernoulliNB()\n",
    "clf.fit(X_train,y_train)"
   ]
  },
  {
   "cell_type": "code",
   "execution_count": 47,
   "metadata": {},
   "outputs": [],
   "source": [
    "predict = clf.predict(X_test)"
   ]
  },
  {
   "cell_type": "code",
   "execution_count": 48,
   "metadata": {},
   "outputs": [
    {
     "name": "stdout",
     "output_type": "stream",
     "text": [
      "              precision    recall  f1-score   support\n",
      "\n",
      "           0       0.55      0.08      0.15       873\n",
      "           1       0.67      0.96      0.79      1661\n",
      "\n",
      "    accuracy                           0.66      2534\n",
      "   macro avg       0.61      0.52      0.47      2534\n",
      "weighted avg       0.63      0.66      0.57      2534\n",
      "\n",
      "precision: 66.708%\n"
     ]
    }
   ],
   "source": [
    "from sklearn.metrics import precision_score\n",
    "import sklearn.metrics as sm\n",
    "# sm.confusion_matrix(y_test,predict)\n",
    "print(sm.classification_report(y_test,predict))\n",
    "\n",
    "precision = precision_score(y_test,predict)\n",
    "print(\"precision: %.3f%%\" % (precision*100.0))"
   ]
  },
  {
   "cell_type": "code",
   "execution_count": 49,
   "metadata": {},
   "outputs": [
    {
     "name": "stdout",
     "output_type": "stream",
     "text": [
      "Accuracy: 0.6610102604577742\n",
      "\n",
      "Confusion matrix:\n",
      "\n"
     ]
    },
    {
     "data": {
      "text/html": [
       "<div>\n",
       "<style scoped>\n",
       "    .dataframe tbody tr th:only-of-type {\n",
       "        vertical-align: middle;\n",
       "    }\n",
       "\n",
       "    .dataframe tbody tr th {\n",
       "        vertical-align: top;\n",
       "    }\n",
       "\n",
       "    .dataframe thead th {\n",
       "        text-align: right;\n",
       "    }\n",
       "</style>\n",
       "<table border=\"1\" class=\"dataframe\">\n",
       "  <thead>\n",
       "    <tr style=\"text-align: right;\">\n",
       "      <th></th>\n",
       "      <th>0_predict</th>\n",
       "      <th>1_predict</th>\n",
       "    </tr>\n",
       "  </thead>\n",
       "  <tbody>\n",
       "    <tr>\n",
       "      <th>0_real</th>\n",
       "      <td>74</td>\n",
       "      <td>799</td>\n",
       "    </tr>\n",
       "    <tr>\n",
       "      <th>1_real</th>\n",
       "      <td>60</td>\n",
       "      <td>1601</td>\n",
       "    </tr>\n",
       "  </tbody>\n",
       "</table>\n",
       "</div>"
      ],
      "text/plain": [
       "        0_predict  1_predict\n",
       "0_real         74        799\n",
       "1_real         60       1601"
      ]
     },
     "execution_count": 49,
     "metadata": {},
     "output_type": "execute_result"
    }
   ],
   "source": [
    "# In-sample prediction results\n",
    "model_evaluation(clf, X_test, y_test)"
   ]
  },
  {
   "cell_type": "markdown",
   "metadata": {},
   "source": [
    "# KFold"
   ]
  },
  {
   "cell_type": "code",
   "execution_count": 51,
   "metadata": {},
   "outputs": [],
   "source": [
    "from sklearn.model_selection import KFold,StratifiedKFold\n",
    "kf = KFold(n_splits=4 ,random_state=4000,shuffle=True)"
   ]
  },
  {
   "cell_type": "code",
   "execution_count": 52,
   "metadata": {},
   "outputs": [],
   "source": [
    "choose_feature['label'] = choose_label\n",
    "# X = choose_feature.copy()\n",
    "X = choose_feature[choose_factor].values\n",
    "y = choose_label"
   ]
  },
  {
   "cell_type": "code",
   "execution_count": 53,
   "metadata": {},
   "outputs": [
    {
     "name": "stdout",
     "output_type": "stream",
     "text": [
      "TRAIN: [   1    2    4 ... 8440 8441 8442] TEST: [   0    3    6 ... 8439 8443 8444]\n",
      "[00:52:36] WARNING: C:/Users/Administrator/workspace/xgboost-win64_release_1.4.0/src/learner.cc:573: \n",
      "Parameters: { \"silent\" } might not be used.\n",
      "\n",
      "  This may not be accurate due to some parameters are only used in language bindings but\n",
      "  passed down to XGBoost core.  Or some parameters are not used but slip through this\n",
      "  verification. Please open an issue if you find above cases.\n",
      "\n",
      "\n",
      "accuarcy: 79.451%\n",
      "TRAIN: [   0    1    3 ... 8440 8443 8444] TEST: [   2    4    8 ... 8432 8441 8442]\n",
      "[00:52:36] WARNING: C:/Users/Administrator/workspace/xgboost-win64_release_1.4.0/src/learner.cc:573: \n",
      "Parameters: { \"silent\" } might not be used.\n",
      "\n",
      "  This may not be accurate due to some parameters are only used in language bindings but\n",
      "  passed down to XGBoost core.  Or some parameters are not used but slip through this\n",
      "  verification. Please open an issue if you find above cases.\n",
      "\n",
      "\n",
      "accuarcy: 79.441%\n",
      "TRAIN: [   0    2    3 ... 8442 8443 8444] TEST: [   1   11   12 ... 8430 8431 8440]\n",
      "[00:52:36] WARNING: C:/Users/Administrator/workspace/xgboost-win64_release_1.4.0/src/learner.cc:573: \n",
      "Parameters: { \"silent\" } might not be used.\n",
      "\n",
      "  This may not be accurate due to some parameters are only used in language bindings but\n",
      "  passed down to XGBoost core.  Or some parameters are not used but slip through this\n",
      "  verification. Please open an issue if you find above cases.\n",
      "\n",
      "\n",
      "accuarcy: 79.015%\n",
      "TRAIN: [   0    1    2 ... 8442 8443 8444] TEST: [   5    7   10 ... 8428 8435 8438]\n",
      "[00:52:37] WARNING: C:/Users/Administrator/workspace/xgboost-win64_release_1.4.0/src/learner.cc:573: \n",
      "Parameters: { \"silent\" } might not be used.\n",
      "\n",
      "  This may not be accurate due to some parameters are only used in language bindings but\n",
      "  passed down to XGBoost core.  Or some parameters are not used but slip through this\n",
      "  verification. Please open an issue if you find above cases.\n",
      "\n",
      "\n",
      "accuarcy: 79.631%\n"
     ]
    }
   ],
   "source": [
    "from sklearn.metrics import accuracy_score\n",
    "for train_index, test_index in kf.split(X):\n",
    "    print(\"TRAIN:\", train_index, \"TEST:\", test_index)\n",
    "    X_train, X_test = X[train_index], X[test_index]\n",
    "    y_train, y_test = y[train_index], y[test_index]\n",
    "    le = LabelEncoder()\n",
    "    choose_label = le.fit_transform(choose_label)\n",
    "#     X_train,X_test,y_train,y_test = train_test_split(choose_feature, choose_label,test_size=0.3,random_state=1,stratify=choose_label)\n",
    "    dtrain = xgb.DMatrix(X_train, label=y_train)\n",
    "    dtest = xgb.DMatrix(X_test)\n",
    "   \n",
    "    # 1.Booster parameters\n",
    "    params = {\n",
    "        'booster': 'gbtree',\n",
    "        'objective': 'multi:softmax',\n",
    "\n",
    "        'num_class': 10,               # Number of classes, used in conjunction with multisoftmax    \n",
    "                                       #'objective': 'multi:softmax'\n",
    "                                       # Multiple classification issues 'objective':'binary:logistic'\n",
    "        'gamma': 0.1,                  # The larger the parameter, the more conservative it is, usually 0.1 or 0.2.\n",
    "        'max_depth': 30,               # Build the depth of the tree, the larger the tree, the easier it is to over-fit.\n",
    "        'lambda': 1,                   # The parameter of the L1 regularisation term that controls the weight value of the model complexity.\n",
    "                                       #the larger the parameter, the less likely the model is to be overfitted.\n",
    "        'subsample': 0.9,              # randomly sampled training samples\n",
    "        'colsample_bytree': 0.8,       # column sampling during tree generation\n",
    "        'min_child_weight': 3,\n",
    "        'silent': 0,                   # If it is set to 1, no run message is output and it is better to set it to 0.\n",
    "        'eta': 0.003,                  # similar with the learning rate\n",
    "        'seed': 1000,\n",
    "        'nthread': 6,                  # cpu threads# specify the validation set\n",
    "        'eval_metric':'auc'\n",
    "    }\n",
    "    plst = list(params.items())\n",
    "    # evallist = [(dtest, 'eval'), (dtrain, 'train')]   # specify the validation set\n",
    "\n",
    "    # 2.train\n",
    "    num_round = 10\n",
    "    bst = xgb.train(plst, dtrain, num_round)\n",
    "    #bst = xgb.train( plst, dtrain, num_round, evallist )\n",
    "\n",
    "    ypred = bst.predict(dtest)\n",
    "\n",
    "    xgboost_precison = pd.DataFrame(ypred,y_test).reset_index()\n",
    "    xgboost_precison.columns = ['predict','test']\n",
    "    xgboost_precison = xgboost_precison.astype(int)\n",
    "\n",
    "    # Calculate accuracy\n",
    "    accuracy = accuracy_score(y_test,ypred)\n",
    "    print(\"accuarcy: %.3f%%\" % (accuracy*100.0))\n"
   ]
  },
  {
   "cell_type": "code",
   "execution_count": null,
   "metadata": {},
   "outputs": [],
   "source": []
  },
  {
   "cell_type": "code",
   "execution_count": null,
   "metadata": {},
   "outputs": [],
   "source": []
  },
  {
   "cell_type": "code",
   "execution_count": null,
   "metadata": {},
   "outputs": [],
   "source": []
  },
  {
   "cell_type": "code",
   "execution_count": null,
   "metadata": {},
   "outputs": [],
   "source": []
  }
 ],
 "metadata": {
  "kernelspec": {
   "display_name": "Python 3",
   "language": "python",
   "name": "python3"
  },
  "language_info": {
   "codemirror_mode": {
    "name": "ipython",
    "version": 3
   },
   "file_extension": ".py",
   "mimetype": "text/x-python",
   "name": "python",
   "nbconvert_exporter": "python",
   "pygments_lexer": "ipython3",
   "version": "3.8.5"
  }
 },
 "nbformat": 4,
 "nbformat_minor": 4
}
