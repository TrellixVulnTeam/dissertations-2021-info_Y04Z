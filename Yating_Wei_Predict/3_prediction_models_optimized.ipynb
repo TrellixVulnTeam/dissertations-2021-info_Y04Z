{
 "cells": [
  {
   "cell_type": "code",
   "execution_count": 26,
   "metadata": {},
   "outputs": [],
   "source": [
    "import warnings; warnings.simplefilter('ignore')\n",
    "import pandas as pd\n",
    "import numpy as np\n",
    "import xgboost as xgb \n",
    "import seaborn as sns\n",
    "%matplotlib inline\n",
    "from matplotlib import pyplot as plt\n",
    "from tqdm import *\n",
    "from sklearn.merics import confusion_matrix\n",
    "from sklearn.metrics import precision_score\n",
    "import sklearn.metrics as sm\n",
    "from sklearn.metrics import accuracy_score\n",
    "from sklearn.metrics import precision_score"
   ]
  },
  {
   "cell_type": "code",
   "execution_count": 4,
   "metadata": {},
   "outputs": [],
   "source": [
    "df = pd.read_csv('training_data.csv')\n",
    "del df['Unnamed: 0']"
   ]
  },
  {
   "cell_type": "code",
   "execution_count": 5,
   "metadata": {
    "scrolled": true
   },
   "outputs": [
    {
     "data": {
      "text/html": [
       "<div>\n",
       "<style scoped>\n",
       "    .dataframe tbody tr th:only-of-type {\n",
       "        vertical-align: middle;\n",
       "    }\n",
       "\n",
       "    .dataframe tbody tr th {\n",
       "        vertical-align: top;\n",
       "    }\n",
       "\n",
       "    .dataframe thead th {\n",
       "        text-align: right;\n",
       "    }\n",
       "</style>\n",
       "<table border=\"1\" class=\"dataframe\">\n",
       "  <thead>\n",
       "    <tr style=\"text-align: right;\">\n",
       "      <th></th>\n",
       "      <th>Company name</th>\n",
       "      <th>filing_date</th>\n",
       "      <th>total_shares</th>\n",
       "      <th>round_shares</th>\n",
       "      <th>rounds</th>\n",
       "      <th>first_name</th>\n",
       "      <th>last_name</th>\n",
       "      <th>number_of_shares</th>\n",
       "      <th>percent_total</th>\n",
       "      <th>Deal date</th>\n",
       "      <th>...</th>\n",
       "      <th>first_industry</th>\n",
       "      <th>value_chg</th>\n",
       "      <th>follow_count</th>\n",
       "      <th>rate</th>\n",
       "      <th>industry_val</th>\n",
       "      <th>mean_val</th>\n",
       "      <th>industry_level</th>\n",
       "      <th>industry_code</th>\n",
       "      <th>male_ratio</th>\n",
       "      <th>label</th>\n",
       "    </tr>\n",
       "  </thead>\n",
       "  <tbody>\n",
       "    <tr>\n",
       "      <th>0</th>\n",
       "      <td>ATEEDA</td>\n",
       "      <td>2013-06-30</td>\n",
       "      <td>2.739548e+05</td>\n",
       "      <td>2.739548e+05</td>\n",
       "      <td>1</td>\n",
       "      <td>JOHN COLIN</td>\n",
       "      <td>ADAMS</td>\n",
       "      <td>559.0</td>\n",
       "      <td>0.00204</td>\n",
       "      <td>2012-05-24</td>\n",
       "      <td>...</td>\n",
       "      <td>Other</td>\n",
       "      <td>0.453900</td>\n",
       "      <td>0</td>\n",
       "      <td>1.00</td>\n",
       "      <td>NaN</td>\n",
       "      <td>2.535893e+07</td>\n",
       "      <td>-2.435893e+07</td>\n",
       "      <td>0</td>\n",
       "      <td>0.5</td>\n",
       "      <td>1</td>\n",
       "    </tr>\n",
       "    <tr>\n",
       "      <th>1</th>\n",
       "      <td>ATEEDA</td>\n",
       "      <td>2014-06-30</td>\n",
       "      <td>3.597177e+05</td>\n",
       "      <td>8.576293e+04</td>\n",
       "      <td>2</td>\n",
       "      <td>JOHN COLIN</td>\n",
       "      <td>ADAMS</td>\n",
       "      <td>1702.0</td>\n",
       "      <td>0.00473</td>\n",
       "      <td>2014-05-31</td>\n",
       "      <td>...</td>\n",
       "      <td>Other</td>\n",
       "      <td>0.453903</td>\n",
       "      <td>1</td>\n",
       "      <td>1.00</td>\n",
       "      <td>NaN</td>\n",
       "      <td>2.535893e+07</td>\n",
       "      <td>-2.460893e+07</td>\n",
       "      <td>0</td>\n",
       "      <td>0.5</td>\n",
       "      <td>1</td>\n",
       "    </tr>\n",
       "    <tr>\n",
       "      <th>2</th>\n",
       "      <td>ATEEDA</td>\n",
       "      <td>2015-06-30</td>\n",
       "      <td>3.469110e+05</td>\n",
       "      <td>-1.280670e+04</td>\n",
       "      <td>3</td>\n",
       "      <td>JOHN COLIN</td>\n",
       "      <td>ADAMS</td>\n",
       "      <td>1702.0</td>\n",
       "      <td>0.00491</td>\n",
       "      <td>2014-05-31</td>\n",
       "      <td>...</td>\n",
       "      <td>Other</td>\n",
       "      <td>0.453870</td>\n",
       "      <td>1</td>\n",
       "      <td>0.83</td>\n",
       "      <td>NaN</td>\n",
       "      <td>2.535893e+07</td>\n",
       "      <td>-2.460893e+07</td>\n",
       "      <td>0</td>\n",
       "      <td>0.5</td>\n",
       "      <td>0</td>\n",
       "    </tr>\n",
       "    <tr>\n",
       "      <th>3</th>\n",
       "      <td>ATEEDA</td>\n",
       "      <td>2016-06-30</td>\n",
       "      <td>4.297006e+05</td>\n",
       "      <td>8.278960e+04</td>\n",
       "      <td>4</td>\n",
       "      <td>JOHN COLIN</td>\n",
       "      <td>ADAMS</td>\n",
       "      <td>3082.0</td>\n",
       "      <td>0.00717</td>\n",
       "      <td>2015-11-19</td>\n",
       "      <td>...</td>\n",
       "      <td>Other</td>\n",
       "      <td>0.453902</td>\n",
       "      <td>2</td>\n",
       "      <td>0.32</td>\n",
       "      <td>NaN</td>\n",
       "      <td>2.535893e+07</td>\n",
       "      <td>-2.475894e+07</td>\n",
       "      <td>0</td>\n",
       "      <td>0.5</td>\n",
       "      <td>1</td>\n",
       "    </tr>\n",
       "    <tr>\n",
       "      <th>4</th>\n",
       "      <td>ATEEDA</td>\n",
       "      <td>2013-06-30</td>\n",
       "      <td>2.739548e+05</td>\n",
       "      <td>2.739548e+05</td>\n",
       "      <td>1</td>\n",
       "      <td>MICHAEL JAMES</td>\n",
       "      <td>ANDREW</td>\n",
       "      <td>720.0</td>\n",
       "      <td>0.00263</td>\n",
       "      <td>2012-05-24</td>\n",
       "      <td>...</td>\n",
       "      <td>Other</td>\n",
       "      <td>0.453900</td>\n",
       "      <td>0</td>\n",
       "      <td>1.00</td>\n",
       "      <td>NaN</td>\n",
       "      <td>2.535893e+07</td>\n",
       "      <td>-2.435893e+07</td>\n",
       "      <td>0</td>\n",
       "      <td>0.5</td>\n",
       "      <td>1</td>\n",
       "    </tr>\n",
       "    <tr>\n",
       "      <th>...</th>\n",
       "      <td>...</td>\n",
       "      <td>...</td>\n",
       "      <td>...</td>\n",
       "      <td>...</td>\n",
       "      <td>...</td>\n",
       "      <td>...</td>\n",
       "      <td>...</td>\n",
       "      <td>...</td>\n",
       "      <td>...</td>\n",
       "      <td>...</td>\n",
       "      <td>...</td>\n",
       "      <td>...</td>\n",
       "      <td>...</td>\n",
       "      <td>...</td>\n",
       "      <td>...</td>\n",
       "      <td>...</td>\n",
       "      <td>...</td>\n",
       "      <td>...</td>\n",
       "      <td>...</td>\n",
       "      <td>...</td>\n",
       "      <td>...</td>\n",
       "    </tr>\n",
       "    <tr>\n",
       "      <th>8440</th>\n",
       "      <td>tootle</td>\n",
       "      <td>2017-12-04</td>\n",
       "      <td>7.070543e+06</td>\n",
       "      <td>3.639250e+05</td>\n",
       "      <td>3</td>\n",
       "      <td>NINUO</td>\n",
       "      <td>ZHAO</td>\n",
       "      <td>12500.0</td>\n",
       "      <td>0.00177</td>\n",
       "      <td>2017-09-27</td>\n",
       "      <td>...</td>\n",
       "      <td>Other</td>\n",
       "      <td>0.453919</td>\n",
       "      <td>1</td>\n",
       "      <td>0.98</td>\n",
       "      <td>NaN</td>\n",
       "      <td>2.535893e+07</td>\n",
       "      <td>-2.403066e+07</td>\n",
       "      <td>0</td>\n",
       "      <td>0.5</td>\n",
       "      <td>0</td>\n",
       "    </tr>\n",
       "    <tr>\n",
       "      <th>8441</th>\n",
       "      <td>tootle</td>\n",
       "      <td>2018-12-04</td>\n",
       "      <td>8.217117e+06</td>\n",
       "      <td>1.146574e+06</td>\n",
       "      <td>4</td>\n",
       "      <td>NUNUO</td>\n",
       "      <td>ZHAO</td>\n",
       "      <td>12500.0</td>\n",
       "      <td>0.00152</td>\n",
       "      <td>2018-06-25</td>\n",
       "      <td>...</td>\n",
       "      <td>Other</td>\n",
       "      <td>0.453899</td>\n",
       "      <td>0</td>\n",
       "      <td>0.05</td>\n",
       "      <td>NaN</td>\n",
       "      <td>2.535893e+07</td>\n",
       "      <td>-2.518401e+07</td>\n",
       "      <td>0</td>\n",
       "      <td>0.5</td>\n",
       "      <td>1</td>\n",
       "    </tr>\n",
       "    <tr>\n",
       "      <th>8442</th>\n",
       "      <td>tootle</td>\n",
       "      <td>2017-11-24</td>\n",
       "      <td>6.706618e+06</td>\n",
       "      <td>3.328239e+06</td>\n",
       "      <td>2</td>\n",
       "      <td>HEYKEL</td>\n",
       "      <td>ZOUITEN</td>\n",
       "      <td>9121.0</td>\n",
       "      <td>0.00136</td>\n",
       "      <td>2017-09-27</td>\n",
       "      <td>...</td>\n",
       "      <td>Other</td>\n",
       "      <td>0.453901</td>\n",
       "      <td>0</td>\n",
       "      <td>1.00</td>\n",
       "      <td>NaN</td>\n",
       "      <td>2.535893e+07</td>\n",
       "      <td>-2.403066e+07</td>\n",
       "      <td>0</td>\n",
       "      <td>0.5</td>\n",
       "      <td>1</td>\n",
       "    </tr>\n",
       "    <tr>\n",
       "      <th>8443</th>\n",
       "      <td>tootle</td>\n",
       "      <td>2017-12-04</td>\n",
       "      <td>7.070543e+06</td>\n",
       "      <td>3.639250e+05</td>\n",
       "      <td>3</td>\n",
       "      <td>HEYKEL</td>\n",
       "      <td>ZOUITEN</td>\n",
       "      <td>9121.0</td>\n",
       "      <td>0.00129</td>\n",
       "      <td>2017-09-27</td>\n",
       "      <td>...</td>\n",
       "      <td>Other</td>\n",
       "      <td>0.453919</td>\n",
       "      <td>0</td>\n",
       "      <td>0.98</td>\n",
       "      <td>NaN</td>\n",
       "      <td>2.535893e+07</td>\n",
       "      <td>-2.403066e+07</td>\n",
       "      <td>0</td>\n",
       "      <td>0.5</td>\n",
       "      <td>0</td>\n",
       "    </tr>\n",
       "    <tr>\n",
       "      <th>8444</th>\n",
       "      <td>tootle</td>\n",
       "      <td>2018-12-04</td>\n",
       "      <td>8.217117e+06</td>\n",
       "      <td>1.146574e+06</td>\n",
       "      <td>4</td>\n",
       "      <td>HEYKEL</td>\n",
       "      <td>ZOUITEN</td>\n",
       "      <td>9121.0</td>\n",
       "      <td>0.00111</td>\n",
       "      <td>2018-06-25</td>\n",
       "      <td>...</td>\n",
       "      <td>Other</td>\n",
       "      <td>0.453899</td>\n",
       "      <td>0</td>\n",
       "      <td>0.05</td>\n",
       "      <td>NaN</td>\n",
       "      <td>2.535893e+07</td>\n",
       "      <td>-2.518401e+07</td>\n",
       "      <td>0</td>\n",
       "      <td>0.5</td>\n",
       "      <td>0</td>\n",
       "    </tr>\n",
       "  </tbody>\n",
       "</table>\n",
       "<p>8445 rows × 33 columns</p>\n",
       "</div>"
      ],
      "text/plain": [
       "     Company name filing_date  total_shares  round_shares  rounds  \\\n",
       "0          ATEEDA  2013-06-30  2.739548e+05  2.739548e+05       1   \n",
       "1          ATEEDA  2014-06-30  3.597177e+05  8.576293e+04       2   \n",
       "2          ATEEDA  2015-06-30  3.469110e+05 -1.280670e+04       3   \n",
       "3          ATEEDA  2016-06-30  4.297006e+05  8.278960e+04       4   \n",
       "4          ATEEDA  2013-06-30  2.739548e+05  2.739548e+05       1   \n",
       "...           ...         ...           ...           ...     ...   \n",
       "8440       tootle  2017-12-04  7.070543e+06  3.639250e+05       3   \n",
       "8441       tootle  2018-12-04  8.217117e+06  1.146574e+06       4   \n",
       "8442       tootle  2017-11-24  6.706618e+06  3.328239e+06       2   \n",
       "8443       tootle  2017-12-04  7.070543e+06  3.639250e+05       3   \n",
       "8444       tootle  2018-12-04  8.217117e+06  1.146574e+06       4   \n",
       "\n",
       "         first_name last_name  number_of_shares  percent_total   Deal date  \\\n",
       "0        JOHN COLIN     ADAMS             559.0        0.00204  2012-05-24   \n",
       "1        JOHN COLIN     ADAMS            1702.0        0.00473  2014-05-31   \n",
       "2        JOHN COLIN     ADAMS            1702.0        0.00491  2014-05-31   \n",
       "3        JOHN COLIN     ADAMS            3082.0        0.00717  2015-11-19   \n",
       "4     MICHAEL JAMES    ANDREW             720.0        0.00263  2012-05-24   \n",
       "...             ...       ...               ...            ...         ...   \n",
       "8440          NINUO      ZHAO           12500.0        0.00177  2017-09-27   \n",
       "8441          NUNUO      ZHAO           12500.0        0.00152  2018-06-25   \n",
       "8442         HEYKEL   ZOUITEN            9121.0        0.00136  2017-09-27   \n",
       "8443         HEYKEL   ZOUITEN            9121.0        0.00129  2017-09-27   \n",
       "8444         HEYKEL   ZOUITEN            9121.0        0.00111  2018-06-25   \n",
       "\n",
       "      ...  first_industry value_chg follow_count  rate  industry_val  \\\n",
       "0     ...           Other  0.453900            0  1.00           NaN   \n",
       "1     ...           Other  0.453903            1  1.00           NaN   \n",
       "2     ...           Other  0.453870            1  0.83           NaN   \n",
       "3     ...           Other  0.453902            2  0.32           NaN   \n",
       "4     ...           Other  0.453900            0  1.00           NaN   \n",
       "...   ...             ...       ...          ...   ...           ...   \n",
       "8440  ...           Other  0.453919            1  0.98           NaN   \n",
       "8441  ...           Other  0.453899            0  0.05           NaN   \n",
       "8442  ...           Other  0.453901            0  1.00           NaN   \n",
       "8443  ...           Other  0.453919            0  0.98           NaN   \n",
       "8444  ...           Other  0.453899            0  0.05           NaN   \n",
       "\n",
       "          mean_val  industry_level  industry_code  male_ratio  label  \n",
       "0     2.535893e+07   -2.435893e+07              0         0.5      1  \n",
       "1     2.535893e+07   -2.460893e+07              0         0.5      1  \n",
       "2     2.535893e+07   -2.460893e+07              0         0.5      0  \n",
       "3     2.535893e+07   -2.475894e+07              0         0.5      1  \n",
       "4     2.535893e+07   -2.435893e+07              0         0.5      1  \n",
       "...            ...             ...            ...         ...    ...  \n",
       "8440  2.535893e+07   -2.403066e+07              0         0.5      0  \n",
       "8441  2.535893e+07   -2.518401e+07              0         0.5      1  \n",
       "8442  2.535893e+07   -2.403066e+07              0         0.5      1  \n",
       "8443  2.535893e+07   -2.403066e+07              0         0.5      0  \n",
       "8444  2.535893e+07   -2.518401e+07              0         0.5      0  \n",
       "\n",
       "[8445 rows x 33 columns]"
      ]
     },
     "execution_count": 5,
     "metadata": {},
     "output_type": "execute_result"
    }
   ],
   "source": [
    "# df"
   ]
  },
  {
   "cell_type": "markdown",
   "metadata": {},
   "source": [
    "## Max-Min Normalization"
   ]
  },
  {
   "cell_type": "code",
   "execution_count": null,
   "metadata": {},
   "outputs": [],
   "source": [
    "df['value_chg'] = (df['value_chg'] - df['value_chg'].min()) / (df['value_chg'].max() - df['value_chg'].min())\n",
    "df['percent_total'] = (df['percent_total'] - df['percent_total'].min()) / (df['percent_total'].max() - df['percent_total'].min())"
   ]
  },
  {
   "cell_type": "markdown",
   "metadata": {},
   "source": [
    "## chose factors and label"
   ]
  },
  {
   "cell_type": "code",
   "execution_count": 6,
   "metadata": {},
   "outputs": [],
   "source": [
    "choose_factor = [i for i in df.columns if i in ['rounds','percent_total','value_chg','follow_count','industry_level',\n",
    "                                                 'industry_code','investor_count','founder_count','male_ratio','rate']]"
   ]
  },
  {
   "cell_type": "code",
   "execution_count": 7,
   "metadata": {},
   "outputs": [],
   "source": [
    "choose_feature = df[choose_factor]"
   ]
  },
  {
   "cell_type": "code",
   "execution_count": 8,
   "metadata": {},
   "outputs": [],
   "source": [
    "# choose_feature['investor_count'] = choose_feature['investor_count'].fillna(choose_feature['investor_count'].mean())\n",
    "# choose_feature['founder_count'] = choose_feature['founder_count'].fillna(choose_feature['founder_count'].mean())"
   ]
  },
  {
   "cell_type": "code",
   "execution_count": 9,
   "metadata": {},
   "outputs": [],
   "source": [
    "# choose_feature.to_csv(r'choose_feature.csv')"
   ]
  },
  {
   "cell_type": "code",
   "execution_count": 10,
   "metadata": {},
   "outputs": [],
   "source": [
    "choose_label = df['label']"
   ]
  },
  {
   "cell_type": "markdown",
   "metadata": {},
   "source": [
    "## SMOTE Over-sampling"
   ]
  },
  {
   "cell_type": "code",
   "execution_count": 11,
   "metadata": {},
   "outputs": [
    {
     "name": "stdout",
     "output_type": "stream",
     "text": [
      "[(0, 2909), (1, 5536)]\n",
      "[(0, 5536), (1, 5536)]\n"
     ]
    }
   ],
   "source": [
    "from imblearn.over_sampling import SMOTE\n",
    "from collections import Counter\n",
    "\n",
    "X_resampled_smote, y_resampled_smote = SMOTE().fit_resample(choose_feature, choose_label)\n",
    "print(sorted(Counter(choose_label).items()))\n",
    "print(sorted(Counter(y_resampled_smote).items()))"
   ]
  },
  {
   "cell_type": "markdown",
   "metadata": {},
   "source": [
    "## Split training set and test set"
   ]
  },
  {
   "cell_type": "code",
   "execution_count": 12,
   "metadata": {},
   "outputs": [],
   "source": [
    "from sklearn.model_selection import train_test_split  # Split training set and test set\n",
    "from sklearn.preprocessing import LabelEncoder   # Labelled classification parameters\n",
    "le = LabelEncoder()\n",
    "choose_label = le.fit_transform(choose_label)\n",
    "X_train,X_test,y_train,y_test = train_test_split(choose_feature, choose_label,test_size=0.3,random_state=1,stratify=choose_label)"
   ]
  },
  {
   "cell_type": "markdown",
   "metadata": {},
   "source": [
    "## XGBOOST"
   ]
  },
  {
   "cell_type": "code",
   "execution_count": 13,
   "metadata": {},
   "outputs": [],
   "source": [
    "dtrain = xgb.DMatrix(X_train, label=y_train)\n",
    "dtest = xgb.DMatrix(X_test)\n",
    "# 1.Booster parameters\n",
    "params = {\n",
    "    'booster': 'gbtree',\n",
    "    'objective': 'multi:softmax',\n",
    "    \n",
    "    'num_class': 10,               # Number of classes, used in conjunction with multisoftmax    \n",
    "                                   #'objective': 'multi:softmax'\n",
    "                                   # Multiple classification issues 'objective':'binary:logistic'\n",
    "    'gamma': 0.1,                  # The larger the parameter, the more conservative it is, usually 0.1 or 0.2.\n",
    "    'max_depth': 30,               # Build the depth of the tree, the larger the tree, the easier it is to over-fit.\n",
    "    'lambda': 1,                   # The parameter of the L1 regularisation term that controls the weight value of the model complexity.\n",
    "                                   #the larger the parameter, the less likely the model is to be overfitted.\n",
    "    'subsample': 0.9,              # randomly sampled training samples\n",
    "    'colsample_bytree': 0.8,       # column sampling during tree generation\n",
    "    'min_child_weight': 3,\n",
    "    'silent': 0,                   # If it is set to 1, no run message is output and it is better to set it to 0.\n",
    "    'eta': 0.003,                  # similar with the learning rate\n",
    "    'seed': 1000,\n",
    "    'nthread': 6,                  # cpu threads# specify the validation set\n",
    "    'eval_metric':'auc'\n",
    "}\n",
    "plst = list(params.items())\n",
    "# evallist = [(dtest, 'eval'), (dtrain, 'train')]   # specify the validation set"
   ]
  },
  {
   "cell_type": "code",
   "execution_count": 14,
   "metadata": {},
   "outputs": [
    {
     "name": "stdout",
     "output_type": "stream",
     "text": [
      "[02:13:21] WARNING: C:/Users/Administrator/workspace/xgboost-win64_release_1.4.0/src/learner.cc:573: \n",
      "Parameters: { \"silent\" } might not be used.\n",
      "\n",
      "  This may not be accurate due to some parameters are only used in language bindings but\n",
      "  passed down to XGBoost core.  Or some parameters are not used but slip through this\n",
      "  verification. Please open an issue if you find above cases.\n",
      "\n",
      "\n"
     ]
    }
   ],
   "source": [
    "# 2.train\n",
    "num_round = 10\n",
    "bst = xgb.train(plst, dtrain, num_round)\n",
    "#bst = xgb.train( plst, dtrain, num_round, evallist )"
   ]
  },
  {
   "cell_type": "code",
   "execution_count": 15,
   "metadata": {},
   "outputs": [],
   "source": [
    "ypred = bst.predict(dtest)"
   ]
  },
  {
   "cell_type": "code",
   "execution_count": 16,
   "metadata": {},
   "outputs": [],
   "source": [
    "xgboost_precison = pd.DataFrame(ypred,y_test).reset_index()\n",
    "xgboost_precison.columns = ['predict','test']\n",
    "xgboost_precison = xgboost_precison.astype(int)"
   ]
  },
  {
   "cell_type": "code",
   "execution_count": 17,
   "metadata": {
    "scrolled": true
   },
   "outputs": [
    {
     "data": {
      "text/plain": [
       "<AxesSubplot:title={'center':'Feature importance'}, xlabel='F score', ylabel='Features'>"
      ]
     },
     "execution_count": 17,
     "metadata": {},
     "output_type": "execute_result"
    },
    {
     "data": {
      "image/png": "[encoded data removed]",
      "text/plain": [
       "<Figure size 432x288 with 1 Axes>"
      ]
     },
     "metadata": {
      "needs_background": "light"
     },
     "output_type": "display_data"
    }
   ],
   "source": [
    "# 1.feature importance\n",
    "xgb.plot_importance(bst)"
   ]
  },
  {
   "cell_type": "code",
   "execution_count": 18,
   "metadata": {},
   "outputs": [
    {
     "name": "stdout",
     "output_type": "stream",
     "text": [
      "accuarcy: 79.242%\n",
      "precision: 82.634%\n"
     ]
    }
   ],
   "source": [
    "# valuation metrics\n",
    "accuracy = accuracy_score(y_test,ypred)\n",
    "precision = precision_score(y_test,ypred)\n",
    "print(\"accuarcy: %.3f%%\" % (accuracy*100.0))\n",
    "print(\"precision: %.3f%%\" % (precision*100.0))"
   ]
  },
  {
   "cell_type": "code",
   "execution_count": 19,
   "metadata": {},
   "outputs": [],
   "source": [
    "# plt.rcParams['font.sans-serif']=['SimHei']\n",
    "# plt.rcParams['axes.unicode_minus'] = False"
   ]
  },
  {
   "cell_type": "code",
   "execution_count": 27,
   "metadata": {},
   "outputs": [
    {
     "data": {
      "text/plain": [
       "array([[ 571,  302],\n",
       "       [ 224, 1437]], dtype=int64)"
      ]
     },
     "execution_count": 27,
     "metadata": {},
     "output_type": "execute_result"
    }
   ],
   "source": [
    "confusion_matrix(y_test,ypred)"
   ]
  },
  {
   "cell_type": "code",
   "execution_count": 28,
   "metadata": {},
   "outputs": [],
   "source": [
    "def dataPlot():\n",
    "    # Plotting based on the results of the correlation coefficient calculation\n",
    "    \n",
    "    fig,ax=plt.subplots(figsize=(18,8))\n",
    "#     key_list=['A','B','C','D','E','F','G','H']\n",
    "    sns.heatmap(pd.DataFrame(np.round(X_train[choose_factor].corr(),4),columns=choose_factor,index=choose_factor),annot=True,vmax=1,vmin=0,xticklabels=True,\n",
    "                             yticklabels=True,square=True,cmap=\"YlGnBu\")\n",
    "    ax.set_title(' Feature Correlation Coefficients ', fontsize=18)\n",
    "    ax.set_ylabel('Y', fontsize=16)\n",
    "    ax.set_xlabel('X', fontsize=16)"
   ]
  },
  {
   "cell_type": "code",
   "execution_count": 29,
   "metadata": {},
   "outputs": [
    {
     "data": {
      "image/png": "[encoded data removed]",
      "text/plain": [
       "<Figure size 1296x576 with 2 Axes>"
      ]
     },
     "metadata": {
      "needs_background": "light"
     },
     "output_type": "display_data"
    }
   ],
   "source": [
    "dataPlot()"
   ]
  },
  {
   "cell_type": "markdown",
   "metadata": {},
   "source": [
    "## Random Forest"
   ]
  },
  {
   "cell_type": "code",
   "execution_count": 30,
   "metadata": {},
   "outputs": [],
   "source": [
    "# from sklearn.model_selection import train_test_split\n",
    "from sklearn import tree\n",
    "from sklearn.ensemble import RandomForestClassifier"
   ]
  },
  {
   "cell_type": "code",
   "execution_count": 31,
   "metadata": {},
   "outputs": [],
   "source": [
    "# choose_feature['value_chg'] = choose_feature['value_chg'].fillna(choose_feature['value_chg'].mean())\n",
    "# choose_feature['valuation'] = choose_feature['valuation'].fillna(choose_feature['valuation'].mean())\n",
    "# choose_feature['industry_val'] = choose_feature['industry_val'].fillna(choose_feature['valuation'].mean())"
   ]
  },
  {
   "cell_type": "code",
   "execution_count": 32,
   "metadata": {},
   "outputs": [],
   "source": [
    "# choose_feature['valuation'] = choose_feature['valuation'].fillna(choose_feature['valuation'].mean())"
   ]
  },
  {
   "cell_type": "code",
   "execution_count": 33,
   "metadata": {},
   "outputs": [],
   "source": [
    "# choose_feature['industry_val'] = choose_feature['industry_val'].fillna(choose_feature['valuation'].mean())"
   ]
  },
  {
   "cell_type": "code",
   "execution_count": 34,
   "metadata": {},
   "outputs": [
    {
     "name": "stdout",
     "output_type": "stream",
     "text": [
      "rounds            False\n",
      "percent_total     False\n",
      "investor_count    False\n",
      "founder_count     False\n",
      "value_chg         False\n",
      "follow_count      False\n",
      "rate              False\n",
      "industry_level    False\n",
      "industry_code     False\n",
      "male_ratio        False\n",
      "dtype: bool\n"
     ]
    }
   ],
   "source": [
    "print(np.isinf(choose_feature).any())"
   ]
  },
  {
   "cell_type": "code",
   "execution_count": 35,
   "metadata": {},
   "outputs": [],
   "source": [
    "X_train,X_test,y_train,y_test = train_test_split(choose_feature, choose_label,test_size=0.3,random_state=1,stratify=choose_label)"
   ]
  },
  {
   "cell_type": "code",
   "execution_count": 36,
   "metadata": {},
   "outputs": [
    {
     "data": {
      "text/plain": [
       "RandomForestClassifier(class_weight='balanced', max_depth=100,\n",
       "                       max_features='sqrt', n_estimators=10)"
      ]
     },
     "execution_count": 36,
     "metadata": {},
     "output_type": "execute_result"
    }
   ],
   "source": [
    "clf_forest = RandomForestClassifier(n_estimators=10, max_features='sqrt', max_depth=100, class_weight='balanced')\n",
    "clf_forest.fit(X_train,y_train)"
   ]
  },
  {
   "cell_type": "code",
   "execution_count": 37,
   "metadata": {},
   "outputs": [
    {
     "data": {
      "text/plain": [
       "(2534, 10)"
      ]
     },
     "execution_count": 37,
     "metadata": {},
     "output_type": "execute_result"
    }
   ],
   "source": [
    "X_test.shape"
   ]
  },
  {
   "cell_type": "code",
   "execution_count": 38,
   "metadata": {},
   "outputs": [],
   "source": [
    "predict = clf_forest.predict(X_test)"
   ]
  },
  {
   "cell_type": "code",
   "execution_count": 39,
   "metadata": {},
   "outputs": [
    {
     "name": "stdout",
     "output_type": "stream",
     "text": [
      "              precision    recall  f1-score   support\n",
      "\n",
      "           0       0.70      0.72      0.71       873\n",
      "           1       0.85      0.83      0.84      1661\n",
      "\n",
      "    accuracy                           0.80      2534\n",
      "   macro avg       0.77      0.78      0.78      2534\n",
      "weighted avg       0.80      0.80      0.80      2534\n",
      "\n",
      "precision: 85.031%\n"
     ]
    }
   ],
   "source": [
    "# sm.confusion_matrix(y_test,predict)\n",
    "print(sm.classification_report(y_test,predict))\n",
    "\n",
    "precision = precision_score(y_test,predict)\n",
    "print(\"precision: %.3f%%\" % (precision*100.0))"
   ]
  },
  {
   "cell_type": "markdown",
   "metadata": {},
   "source": [
    "## the feature importance"
   ]
  },
  {
   "cell_type": "code",
   "execution_count": 40,
   "metadata": {},
   "outputs": [
    {
     "data": {
      "text/html": [
       "<div>\n",
       "<style scoped>\n",
       "    .dataframe tbody tr th:only-of-type {\n",
       "        vertical-align: middle;\n",
       "    }\n",
       "\n",
       "    .dataframe tbody tr th {\n",
       "        vertical-align: top;\n",
       "    }\n",
       "\n",
       "    .dataframe thead th {\n",
       "        text-align: right;\n",
       "    }\n",
       "</style>\n",
       "<table border=\"1\" class=\"dataframe\">\n",
       "  <thead>\n",
       "    <tr style=\"text-align: right;\">\n",
       "      <th></th>\n",
       "      <th>Features</th>\n",
       "      <th>Importances</th>\n",
       "    </tr>\n",
       "  </thead>\n",
       "  <tbody>\n",
       "    <tr>\n",
       "      <th>1</th>\n",
       "      <td>percent_total</td>\n",
       "      <td>0.391712</td>\n",
       "    </tr>\n",
       "    <tr>\n",
       "      <th>0</th>\n",
       "      <td>rounds</td>\n",
       "      <td>0.141212</td>\n",
       "    </tr>\n",
       "    <tr>\n",
       "      <th>4</th>\n",
       "      <td>value_chg</td>\n",
       "      <td>0.105849</td>\n",
       "    </tr>\n",
       "    <tr>\n",
       "      <th>7</th>\n",
       "      <td>industry_level</td>\n",
       "      <td>0.100088</td>\n",
       "    </tr>\n",
       "    <tr>\n",
       "      <th>6</th>\n",
       "      <td>rate</td>\n",
       "      <td>0.097412</td>\n",
       "    </tr>\n",
       "    <tr>\n",
       "      <th>5</th>\n",
       "      <td>follow_count</td>\n",
       "      <td>0.077969</td>\n",
       "    </tr>\n",
       "    <tr>\n",
       "      <th>8</th>\n",
       "      <td>industry_code</td>\n",
       "      <td>0.04151</td>\n",
       "    </tr>\n",
       "    <tr>\n",
       "      <th>2</th>\n",
       "      <td>investor_count</td>\n",
       "      <td>0.017288</td>\n",
       "    </tr>\n",
       "    <tr>\n",
       "      <th>9</th>\n",
       "      <td>male_ratio</td>\n",
       "      <td>0.014803</td>\n",
       "    </tr>\n",
       "    <tr>\n",
       "      <th>3</th>\n",
       "      <td>founder_count</td>\n",
       "      <td>0.012157</td>\n",
       "    </tr>\n",
       "  </tbody>\n",
       "</table>\n",
       "</div>"
      ],
      "text/plain": [
       "         Features Importances\n",
       "1   percent_total    0.391712\n",
       "0          rounds    0.141212\n",
       "4       value_chg    0.105849\n",
       "7  industry_level    0.100088\n",
       "6            rate    0.097412\n",
       "5    follow_count    0.077969\n",
       "8   industry_code     0.04151\n",
       "2  investor_count    0.017288\n",
       "9      male_ratio    0.014803\n",
       "3   founder_count    0.012157"
      ]
     },
     "execution_count": 40,
     "metadata": {},
     "output_type": "execute_result"
    }
   ],
   "source": [
    "# print the importance of features\n",
    "importances = clf_forest.feature_importances_ \n",
    "importances_df = pd.DataFrame([choose_factor, importances], index=['Features', 'Importances']).T\n",
    "importances_df.sort_values(by='Importances',ascending=False).head(10)"
   ]
  },
  {
   "cell_type": "code",
   "execution_count": 41,
   "metadata": {},
   "outputs": [
    {
     "data": {
      "text/plain": [
       "<AxesSubplot:title={'center':'Feature Importance'}, xlabel='Features'>"
      ]
     },
     "execution_count": 41,
     "metadata": {},
     "output_type": "execute_result"
    },
    {
     "data": {
      "image/png": "[encoded data removed]",
      "text/plain": [
       "<Figure size 1008x432 with 1 Axes>"
      ]
     },
     "metadata": {
      "needs_background": "light"
     },
     "output_type": "display_data"
    }
   ],
   "source": [
    "importances_df.set_index('Features').sort_values(by='Importances',ascending=False).head(10).plot.bar(figsize=(14,6),title='Feature Importance')"
   ]
  },
  {
   "cell_type": "code",
   "execution_count": 42,
   "metadata": {},
   "outputs": [],
   "source": [
    "# Define the process of scoring the model and forming the confusion_matrix as a function\n",
    "def model_evaluation(estimator, train_data, real_mark):\n",
    "    # predict\n",
    "    predict = estimator.predict(train_data)\n",
    "    # calculate the model score\n",
    "    compare_df = pd.DataFrame({'Real': real_mark, 'Predict': predict})\n",
    "    compare_df['mark'] = ~np.logical_xor(compare_df.Predict, compare_df.Real)\n",
    "    score = estimator.score(train_data, real_mark)\n",
    "    print(f'Accuracy: {score}\\n\\nConfusion matrix:\\n')\n",
    "    # calculate confusion matrix\n",
    "    confusion = confusion_matrix(real_mark, predict, labels=[0,1])\n",
    "    confusion_df = pd.DataFrame(confusion, index=['0_real', '1_real'], columns=['0_predict', '1_predict'] )\n",
    "    return confusion_df"
   ]
  },
  {
   "cell_type": "code",
   "execution_count": 43,
   "metadata": {},
   "outputs": [
    {
     "name": "stdout",
     "output_type": "stream",
     "text": [
      "Accuracy: 0.7951854775059195\n",
      "\n",
      "Confusion matrix:\n",
      "\n"
     ]
    },
    {
     "data": {
      "text/html": [
       "<div>\n",
       "<style scoped>\n",
       "    .dataframe tbody tr th:only-of-type {\n",
       "        vertical-align: middle;\n",
       "    }\n",
       "\n",
       "    .dataframe tbody tr th {\n",
       "        vertical-align: top;\n",
       "    }\n",
       "\n",
       "    .dataframe thead th {\n",
       "        text-align: right;\n",
       "    }\n",
       "</style>\n",
       "<table border=\"1\" class=\"dataframe\">\n",
       "  <thead>\n",
       "    <tr style=\"text-align: right;\">\n",
       "      <th></th>\n",
       "      <th>0_predict</th>\n",
       "      <th>1_predict</th>\n",
       "    </tr>\n",
       "  </thead>\n",
       "  <tbody>\n",
       "    <tr>\n",
       "      <th>0_real</th>\n",
       "      <td>629</td>\n",
       "      <td>244</td>\n",
       "    </tr>\n",
       "    <tr>\n",
       "      <th>1_real</th>\n",
       "      <td>275</td>\n",
       "      <td>1386</td>\n",
       "    </tr>\n",
       "  </tbody>\n",
       "</table>\n",
       "</div>"
      ],
      "text/plain": [
       "        0_predict  1_predict\n",
       "0_real        629        244\n",
       "1_real        275       1386"
      ]
     },
     "execution_count": 43,
     "metadata": {},
     "output_type": "execute_result"
    }
   ],
   "source": [
    "# In-sample prediction results\n",
    "model_evaluation(clf_forest, X_test, y_test)"
   ]
  },
  {
   "cell_type": "markdown",
   "metadata": {},
   "source": [
    "## SVM Classifer"
   ]
  },
  {
   "cell_type": "code",
   "execution_count": 44,
   "metadata": {},
   "outputs": [],
   "source": [
    "from sklearn import svm"
   ]
  },
  {
   "cell_type": "code",
   "execution_count": 45,
   "metadata": {},
   "outputs": [
    {
     "data": {
      "text/plain": [
       "SVC(C=2, gamma=10)"
      ]
     },
     "execution_count": 45,
     "metadata": {},
     "output_type": "execute_result"
    }
   ],
   "source": [
    "svc=svm.SVC(C=2,kernel='rbf',gamma=10,decision_function_shape='ovr') # ovr: One versus rest\n",
    "svc.fit(X_train,y_train.ravel()) # The ravel function defaults to row order first when descending"
   ]
  },
  {
   "cell_type": "code",
   "execution_count": 46,
   "metadata": {},
   "outputs": [
    {
     "name": "stdout",
     "output_type": "stream",
     "text": [
      "训练集： 0.8355608188123836\n",
      "测试集： 0.7955801104972375\n"
     ]
    }
   ],
   "source": [
    "print(\"Train: \",svc.score(X_train,y_train))\n",
    "print(\"Test: \",svc.score( X_test, y_test))"
   ]
  },
  {
   "cell_type": "code",
   "execution_count": 47,
   "metadata": {},
   "outputs": [],
   "source": [
    "predict = svc.predict(X_test)"
   ]
  },
  {
   "cell_type": "code",
   "execution_count": 48,
   "metadata": {},
   "outputs": [
    {
     "name": "stdout",
     "output_type": "stream",
     "text": [
      "              precision    recall  f1-score   support\n",
      "\n",
      "           0       0.71      0.69      0.70       873\n",
      "           1       0.84      0.85      0.85      1661\n",
      "\n",
      "    accuracy                           0.80      2534\n",
      "   macro avg       0.77      0.77      0.77      2534\n",
      "weighted avg       0.79      0.80      0.79      2534\n",
      "\n",
      "precision: 83.957%\n"
     ]
    }
   ],
   "source": [
    "# sm.confusion_matrix(y_test,predict)\n",
    "print(sm.classification_report(y_test,predict))\n",
    "\n",
    "precision = precision_score(y_test,predict)\n",
    "print(\"precision: %.3f%%\" % (precision*100.0))"
   ]
  },
  {
   "cell_type": "markdown",
   "metadata": {},
   "source": [
    "## Naive Bayes"
   ]
  },
  {
   "cell_type": "code",
   "execution_count": 49,
   "metadata": {},
   "outputs": [],
   "source": [
    "from sklearn.naive_bayes import BernoulliNB"
   ]
  },
  {
   "cell_type": "code",
   "execution_count": 50,
   "metadata": {},
   "outputs": [
    {
     "data": {
      "text/plain": [
       "BernoulliNB()"
      ]
     },
     "execution_count": 50,
     "metadata": {},
     "output_type": "execute_result"
    }
   ],
   "source": [
    "# Training the model, the data passed in for machine learning needs to be in the np.array data structure.\n",
    "clf = BernoulliNB()\n",
    "clf.fit(X_train,y_train)"
   ]
  },
  {
   "cell_type": "code",
   "execution_count": 51,
   "metadata": {},
   "outputs": [],
   "source": [
    "predict = clf.predict(X_test)"
   ]
  },
  {
   "cell_type": "code",
   "execution_count": 52,
   "metadata": {},
   "outputs": [
    {
     "name": "stdout",
     "output_type": "stream",
     "text": [
      "              precision    recall  f1-score   support\n",
      "\n",
      "           0       0.86      0.02      0.04       873\n",
      "           1       0.66      1.00      0.79      1661\n",
      "\n",
      "    accuracy                           0.66      2534\n",
      "   macro avg       0.76      0.51      0.42      2534\n",
      "weighted avg       0.73      0.66      0.53      2534\n",
      "\n",
      "precision: 65.977%\n"
     ]
    }
   ],
   "source": [
    "# sm.confusion_matrix(y_test,predict)\n",
    "print(sm.classification_report(y_test,predict))\n",
    "\n",
    "precision = precision_score(y_test,predict)\n",
    "print(\"precision: %.3f%%\" % (precision*100.0))"
   ]
  },
  {
   "cell_type": "code",
   "execution_count": 53,
   "metadata": {},
   "outputs": [
    {
     "name": "stdout",
     "output_type": "stream",
     "text": [
      "Accuracy: 0.6614048934490924\n",
      "\n",
      "Confusion matrix:\n",
      "\n"
     ]
    },
    {
     "data": {
      "text/html": [
       "<div>\n",
       "<style scoped>\n",
       "    .dataframe tbody tr th:only-of-type {\n",
       "        vertical-align: middle;\n",
       "    }\n",
       "\n",
       "    .dataframe tbody tr th {\n",
       "        vertical-align: top;\n",
       "    }\n",
       "\n",
       "    .dataframe thead th {\n",
       "        text-align: right;\n",
       "    }\n",
       "</style>\n",
       "<table border=\"1\" class=\"dataframe\">\n",
       "  <thead>\n",
       "    <tr style=\"text-align: right;\">\n",
       "      <th></th>\n",
       "      <th>0_predict</th>\n",
       "      <th>1_predict</th>\n",
       "    </tr>\n",
       "  </thead>\n",
       "  <tbody>\n",
       "    <tr>\n",
       "      <th>0_real</th>\n",
       "      <td>18</td>\n",
       "      <td>855</td>\n",
       "    </tr>\n",
       "    <tr>\n",
       "      <th>1_real</th>\n",
       "      <td>3</td>\n",
       "      <td>1658</td>\n",
       "    </tr>\n",
       "  </tbody>\n",
       "</table>\n",
       "</div>"
      ],
      "text/plain": [
       "        0_predict  1_predict\n",
       "0_real         18        855\n",
       "1_real          3       1658"
      ]
     },
     "execution_count": 53,
     "metadata": {},
     "output_type": "execute_result"
    }
   ],
   "source": [
    "# In-sample prediction results\n",
    "model_evaluation(clf, X_test, y_test)"
   ]
  },
  {
   "cell_type": "markdown",
   "metadata": {},
   "source": [
    "# KFold"
   ]
  },
  {
   "cell_type": "code",
   "execution_count": 54,
   "metadata": {},
   "outputs": [],
   "source": [
    "from sklearn.model_selection import KFold,StratifiedKFold\n",
    "kf = KFold(n_splits=4 ,random_state=4000,shuffle=True)"
   ]
  },
  {
   "cell_type": "code",
   "execution_count": 55,
   "metadata": {},
   "outputs": [],
   "source": [
    "choose_feature['label'] = choose_label\n",
    "# X = choose_feature.copy()\n",
    "X = choose_feature[choose_factor].values\n",
    "y = choose_label"
   ]
  },
  {
   "cell_type": "code",
   "execution_count": 56,
   "metadata": {},
   "outputs": [
    {
     "name": "stdout",
     "output_type": "stream",
     "text": [
      "TRAIN: [   1    2    4 ... 8440 8441 8442] TEST: [   0    3    6 ... 8439 8443 8444]\n",
      "[02:16:54] WARNING: C:/Users/Administrator/workspace/xgboost-win64_release_1.4.0/src/learner.cc:573: \n",
      "Parameters: { \"silent\" } might not be used.\n",
      "\n",
      "  This may not be accurate due to some parameters are only used in language bindings but\n",
      "  passed down to XGBoost core.  Or some parameters are not used but slip through this\n",
      "  verification. Please open an issue if you find above cases.\n",
      "\n",
      "\n",
      "accuarcy: 80.066%\n",
      "TRAIN: [   0    1    3 ... 8440 8443 8444] TEST: [   2    4    8 ... 8432 8441 8442]\n",
      "[02:16:54] WARNING: C:/Users/Administrator/workspace/xgboost-win64_release_1.4.0/src/learner.cc:573: \n",
      "Parameters: { \"silent\" } might not be used.\n",
      "\n",
      "  This may not be accurate due to some parameters are only used in language bindings but\n",
      "  passed down to XGBoost core.  Or some parameters are not used but slip through this\n",
      "  verification. Please open an issue if you find above cases.\n",
      "\n",
      "\n",
      "accuarcy: 78.494%\n",
      "TRAIN: [   0    2    3 ... 8442 8443 8444] TEST: [   1   11   12 ... 8430 8431 8440]\n",
      "[02:16:54] WARNING: C:/Users/Administrator/workspace/xgboost-win64_release_1.4.0/src/learner.cc:573: \n",
      "Parameters: { \"silent\" } might not be used.\n",
      "\n",
      "  This may not be accurate due to some parameters are only used in language bindings but\n",
      "  passed down to XGBoost core.  Or some parameters are not used but slip through this\n",
      "  verification. Please open an issue if you find above cases.\n",
      "\n",
      "\n",
      "accuarcy: 78.494%\n",
      "TRAIN: [   0    1    2 ... 8442 8443 8444] TEST: [   5    7   10 ... 8428 8435 8438]\n",
      "[02:16:55] WARNING: C:/Users/Administrator/workspace/xgboost-win64_release_1.4.0/src/learner.cc:573: \n",
      "Parameters: { \"silent\" } might not be used.\n",
      "\n",
      "  This may not be accurate due to some parameters are only used in language bindings but\n",
      "  passed down to XGBoost core.  Or some parameters are not used but slip through this\n",
      "  verification. Please open an issue if you find above cases.\n",
      "\n",
      "\n",
      "accuarcy: 78.636%\n"
     ]
    }
   ],
   "source": [
    "from sklearn.metrics import accuracy_score\n",
    "for train_index, test_index in kf.split(X):\n",
    "    print(\"TRAIN:\", train_index, \"TEST:\", test_index)\n",
    "    X_train, X_test = X[train_index], X[test_index]\n",
    "    y_train, y_test = y[train_index], y[test_index]\n",
    "    le = LabelEncoder()\n",
    "    choose_label = le.fit_transform(choose_label)\n",
    "#     X_train,X_test,y_train,y_test = train_test_split(choose_feature, choose_label,test_size=0.3,random_state=1,stratify=choose_label)\n",
    "    dtrain = xgb.DMatrix(X_train, label=y_train)\n",
    "    dtest = xgb.DMatrix(X_test)\n",
    "   \n",
    "    # 1.Booster parameters\n",
    "    params = {\n",
    "        'booster': 'gbtree',\n",
    "        'objective': 'multi:softmax',\n",
    "\n",
    "        'num_class': 10,               # Number of classes, used in conjunction with multisoftmax    \n",
    "                                       #'objective': 'multi:softmax'\n",
    "                                       # Multiple classification issues 'objective':'binary:logistic'\n",
    "        'gamma': 0.1,                  # The larger the parameter, the more conservative it is, usually 0.1 or 0.2.\n",
    "        'max_depth': 30,               # Build the depth of the tree, the larger the tree, the easier it is to over-fit.\n",
    "        'lambda': 1,                   # The parameter of the L1 regularisation term that controls the weight value of the model complexity.\n",
    "                                       #the larger the parameter, the less likely the model is to be overfitted.\n",
    "        'subsample': 0.9,              # randomly sampled training samples\n",
    "        'colsample_bytree': 0.8,       # column sampling during tree generation\n",
    "        'min_child_weight': 3,\n",
    "        'silent': 0,                   # If it is set to 1, no run message is output and it is better to set it to 0.\n",
    "        'eta': 0.003,                  # similar with the learning rate\n",
    "        'seed': 1000,\n",
    "        'nthread': 6,                  # cpu threads# specify the validation set\n",
    "        'eval_metric':'auc'\n",
    "    }\n",
    "    plst = list(params.items())\n",
    "    # evallist = [(dtest, 'eval'), (dtrain, 'train')]   # specify the validation set\n",
    "\n",
    "    # 2.train\n",
    "    num_round = 10\n",
    "    bst = xgb.train(plst, dtrain, num_round)\n",
    "    #bst = xgb.train( plst, dtrain, num_round, evallist )\n",
    "\n",
    "    ypred = bst.predict(dtest)\n",
    "\n",
    "    xgboost_precison = pd.DataFrame(ypred,y_test).reset_index()\n",
    "    xgboost_precison.columns = ['predict','test']\n",
    "    xgboost_precison = xgboost_precison.astype(int)\n",
    "\n",
    "    # Calculate accuracy\n",
    "    accuracy = accuracy_score(y_test,ypred)\n",
    "    print(\"accuarcy: %.3f%%\" % (accuracy*100.0))\n"
   ]
  },
  {
   "cell_type": "code",
   "execution_count": null,
   "metadata": {},
   "outputs": [],
   "source": []
  },
  {
   "cell_type": "code",
   "execution_count": null,
   "metadata": {},
   "outputs": [],
   "source": []
  },
  {
   "cell_type": "code",
   "execution_count": null,
   "metadata": {},
   "outputs": [],
   "source": []
  },
  {
   "cell_type": "code",
   "execution_count": null,
   "metadata": {},
   "outputs": [],
   "source": []
  }
 ],
 "metadata": {
  "kernelspec": {
   "display_name": "Python 3",
   "language": "python",
   "name": "python3"
  },
  "language_info": {
   "codemirror_mode": {
    "name": "ipython",
    "version": 3
   },
   "file_extension": ".py",
   "mimetype": "text/x-python",
   "name": "python",
   "nbconvert_exporter": "python",
   "pygments_lexer": "ipython3",
   "version": "3.8.5"
  }
 },
 "nbformat": 4,
 "nbformat_minor": 4
}
