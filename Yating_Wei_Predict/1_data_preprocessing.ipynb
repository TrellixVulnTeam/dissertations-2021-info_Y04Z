{
 "cells": [
  {
   "cell_type": "code",
   "execution_count": 1,
   "metadata": {},
   "outputs": [],
   "source": [
    "import warnings; warnings.simplefilter('ignore')    \n",
    "import pandas as pd\n",
    "import numpy as np\n",
    "# import statsmodels.api as sm\n",
    "# import scipy.stats as scs\n",
    "# import tushare as ts\n",
    "%matplotlib inline\n",
    "# from scipy.stats import norm\n",
    "from matplotlib import pyplot as plt\n",
    "# from scipy.interpolate import PchipInterpolator\n",
    "# from scipy.integrate import quad\n",
    "# from scipy import stats\n",
    "from tqdm import *"
   ]
  },
  {
   "cell_type": "markdown",
   "metadata": {},
   "source": [
    "## import and process liquidity.csv\n",
    "### feature: ['Exit price']"
   ]
  },
  {
   "cell_type": "code",
   "execution_count": 2,
   "metadata": {},
   "outputs": [],
   "source": [
    "liquidity = pd.read_csv('investmentsUK\\liquidity.csv')\n",
    "liquidity = liquidity.drop(columns=['Beauhurst URL','Companies House Number'])    #drop useless information\n",
    "liquidity = liquidity.rename(columns={\"Date of the company's exit or death\":\"Exit date\",\"Current Stage of Evolution\":\"Current stage\"})\n",
    "liquidity = liquidity.sort_values(by=['Company name']) #sort the data by company name"
   ]
  },
  {
   "cell_type": "code",
   "execution_count": 3,
   "metadata": {},
   "outputs": [
    {
     "data": {
      "text/html": [
       "<div>\n",
       "<style scoped>\n",
       "    .dataframe tbody tr th:only-of-type {\n",
       "        vertical-align: middle;\n",
       "    }\n",
       "\n",
       "    .dataframe tbody tr th {\n",
       "        vertical-align: top;\n",
       "    }\n",
       "\n",
       "    .dataframe thead th {\n",
       "        text-align: right;\n",
       "    }\n",
       "</style>\n",
       "<table border=\"1\" class=\"dataframe\">\n",
       "  <thead>\n",
       "    <tr style=\"text-align: right;\">\n",
       "      <th></th>\n",
       "      <th>Company name</th>\n",
       "      <th>Incorporation date</th>\n",
       "      <th>Current stage</th>\n",
       "      <th>Exit date</th>\n",
       "      <th>Exit price</th>\n",
       "    </tr>\n",
       "  </thead>\n",
       "  <tbody>\n",
       "    <tr>\n",
       "      <th>641</th>\n",
       "      <td>10 Digital Media</td>\n",
       "      <td>NaN</td>\n",
       "      <td>Dead</td>\n",
       "      <td>27/11/2018</td>\n",
       "      <td>0.0</td>\n",
       "    </tr>\n",
       "    <tr>\n",
       "      <th>1020</th>\n",
       "      <td>10 Minutes With</td>\n",
       "      <td>19/03/2013</td>\n",
       "      <td>Dead</td>\n",
       "      <td>29/06/2017</td>\n",
       "      <td>0.0</td>\n",
       "    </tr>\n",
       "    <tr>\n",
       "      <th>3197</th>\n",
       "      <td>1066 Airsoft</td>\n",
       "      <td>13/05/2014</td>\n",
       "      <td>Dead</td>\n",
       "      <td>27/02/2019</td>\n",
       "      <td>0.0</td>\n",
       "    </tr>\n",
       "    <tr>\n",
       "      <th>1076</th>\n",
       "      <td>14M Genomics</td>\n",
       "      <td>09/01/2014</td>\n",
       "      <td>Dead</td>\n",
       "      <td>21/03/2016</td>\n",
       "      <td>0.0</td>\n",
       "    </tr>\n",
       "    <tr>\n",
       "      <th>3358</th>\n",
       "      <td>1855</td>\n",
       "      <td>27/02/2013</td>\n",
       "      <td>Dead</td>\n",
       "      <td>20/02/2020</td>\n",
       "      <td>0.0</td>\n",
       "    </tr>\n",
       "  </tbody>\n",
       "</table>\n",
       "</div>"
      ],
      "text/plain": [
       "          Company name Incorporation date Current stage   Exit date  \\\n",
       "641   10 Digital Media                NaN          Dead  27/11/2018   \n",
       "1020   10 Minutes With         19/03/2013          Dead  29/06/2017   \n",
       "3197      1066 Airsoft         13/05/2014          Dead  27/02/2019   \n",
       "1076      14M Genomics         09/01/2014          Dead  21/03/2016   \n",
       "3358              1855         27/02/2013          Dead  20/02/2020   \n",
       "\n",
       "      Exit price  \n",
       "641          0.0  \n",
       "1020         0.0  \n",
       "3197         0.0  \n",
       "1076         0.0  \n",
       "3358         0.0  "
      ]
     },
     "execution_count": 3,
     "metadata": {},
     "output_type": "execute_result"
    }
   ],
   "source": [
    "liquidity.head()"
   ]
  },
  {
   "cell_type": "markdown",
   "metadata": {},
   "source": [
    "## import and process deals.csv\n",
    "### feature: ['Investment amount']"
   ]
  },
  {
   "cell_type": "code",
   "execution_count": 4,
   "metadata": {},
   "outputs": [],
   "source": [
    "deals = pd.read_csv('investmentsUK\\deals.csv')    #import data\n",
    "deals = deals.drop(columns=['Beauhurst company URL','Beauhurst deal URL','Amount raised (converted to GBP)'])    #drop useless information\n",
    "deals = deals.rename(columns={'Verified investment amount (converted to GBP)':'Investment amount'})    #rename column\n",
    "deals = deals.dropna()    #clean missing data rows\n",
    "deals['Deal date'] = pd.to_datetime(deals['Deal date'],format='%Y-%m-%d')\n",
    "deals = deals.sort_values(by=['Company name'])    #sort the data by company name"
   ]
  },
  {
   "cell_type": "code",
   "execution_count": 5,
   "metadata": {},
   "outputs": [
    {
     "data": {
      "text/html": [
       "<div>\n",
       "<style scoped>\n",
       "    .dataframe tbody tr th:only-of-type {\n",
       "        vertical-align: middle;\n",
       "    }\n",
       "\n",
       "    .dataframe tbody tr th {\n",
       "        vertical-align: top;\n",
       "    }\n",
       "\n",
       "    .dataframe thead th {\n",
       "        text-align: right;\n",
       "    }\n",
       "</style>\n",
       "<table border=\"1\" class=\"dataframe\">\n",
       "  <thead>\n",
       "    <tr style=\"text-align: right;\">\n",
       "      <th></th>\n",
       "      <th>Company name</th>\n",
       "      <th>Deal date</th>\n",
       "      <th>Investment amount</th>\n",
       "    </tr>\n",
       "  </thead>\n",
       "  <tbody>\n",
       "    <tr>\n",
       "      <th>3866</th>\n",
       "      <td>10 Digital Media</td>\n",
       "      <td>2015-11-16</td>\n",
       "      <td>3398454.0</td>\n",
       "    </tr>\n",
       "    <tr>\n",
       "      <th>6303</th>\n",
       "      <td>1066 Airsoft</td>\n",
       "      <td>2016-05-31</td>\n",
       "      <td>23668.0</td>\n",
       "    </tr>\n",
       "    <tr>\n",
       "      <th>1395</th>\n",
       "      <td>14M Genomics</td>\n",
       "      <td>2014-12-16</td>\n",
       "      <td>5000000.0</td>\n",
       "    </tr>\n",
       "    <tr>\n",
       "      <th>6787</th>\n",
       "      <td>1855</td>\n",
       "      <td>2017-06-30</td>\n",
       "      <td>20000.0</td>\n",
       "    </tr>\n",
       "    <tr>\n",
       "      <th>8443</th>\n",
       "      <td>1st Impression</td>\n",
       "      <td>2013-11-22</td>\n",
       "      <td>75005.0</td>\n",
       "    </tr>\n",
       "  </tbody>\n",
       "</table>\n",
       "</div>"
      ],
      "text/plain": [
       "          Company name  Deal date  Investment amount\n",
       "3866  10 Digital Media 2015-11-16          3398454.0\n",
       "6303      1066 Airsoft 2016-05-31            23668.0\n",
       "1395      14M Genomics 2014-12-16          5000000.0\n",
       "6787              1855 2017-06-30            20000.0\n",
       "8443    1st Impression 2013-11-22            75005.0"
      ]
     },
     "execution_count": 5,
     "metadata": {},
     "output_type": "execute_result"
    }
   ],
   "source": [
    "deals.head()"
   ]
  },
  {
   "cell_type": "markdown",
   "metadata": {},
   "source": [
    "## left merge deals.csv and liquidity.csv to get startups.csv\n",
    "### feature: ['Investment amount', 'Exit price']"
   ]
  },
  {
   "cell_type": "code",
   "execution_count": 6,
   "metadata": {},
   "outputs": [],
   "source": [
    "startups = pd.merge(deals, liquidity, on='Company name',how='left')    #left join deals.csv with liquidity.csv which have been processed\n",
    "startups.loc[(startups['Current stage'] == \"Dead\") ,'Exit price'] = 0    #put zero in the 'Exit price' column if the startup is dead\n",
    "startups = startups.dropna(subset=['Exit price'])    #clean data rows whose values in \"Exit price\" are missing\n",
    "startups['Exit date'] = pd.to_datetime(startups['Exit date'],format='%d/%m/%Y')\n",
    "startups['Exit date'] = pd.to_datetime(startups['Exit date'],format='%Y-%m-%d')"
   ]
  },
  {
   "cell_type": "code",
   "execution_count": 7,
   "metadata": {
    "scrolled": true
   },
   "outputs": [
    {
     "data": {
      "text/html": [
       "<div>\n",
       "<style scoped>\n",
       "    .dataframe tbody tr th:only-of-type {\n",
       "        vertical-align: middle;\n",
       "    }\n",
       "\n",
       "    .dataframe tbody tr th {\n",
       "        vertical-align: top;\n",
       "    }\n",
       "\n",
       "    .dataframe thead th {\n",
       "        text-align: right;\n",
       "    }\n",
       "</style>\n",
       "<table border=\"1\" class=\"dataframe\">\n",
       "  <thead>\n",
       "    <tr style=\"text-align: right;\">\n",
       "      <th></th>\n",
       "      <th>Company name</th>\n",
       "      <th>Deal date</th>\n",
       "      <th>Investment amount</th>\n",
       "      <th>Incorporation date</th>\n",
       "      <th>Current stage</th>\n",
       "      <th>Exit date</th>\n",
       "      <th>Exit price</th>\n",
       "    </tr>\n",
       "  </thead>\n",
       "  <tbody>\n",
       "    <tr>\n",
       "      <th>0</th>\n",
       "      <td>10 Digital Media</td>\n",
       "      <td>2015-11-16</td>\n",
       "      <td>3398454.0</td>\n",
       "      <td>NaN</td>\n",
       "      <td>Dead</td>\n",
       "      <td>2018-11-27</td>\n",
       "      <td>0.0</td>\n",
       "    </tr>\n",
       "    <tr>\n",
       "      <th>1</th>\n",
       "      <td>1066 Airsoft</td>\n",
       "      <td>2016-05-31</td>\n",
       "      <td>23668.0</td>\n",
       "      <td>13/05/2014</td>\n",
       "      <td>Dead</td>\n",
       "      <td>2019-02-27</td>\n",
       "      <td>0.0</td>\n",
       "    </tr>\n",
       "    <tr>\n",
       "      <th>2</th>\n",
       "      <td>14M Genomics</td>\n",
       "      <td>2014-12-16</td>\n",
       "      <td>5000000.0</td>\n",
       "      <td>09/01/2014</td>\n",
       "      <td>Dead</td>\n",
       "      <td>2016-03-21</td>\n",
       "      <td>0.0</td>\n",
       "    </tr>\n",
       "    <tr>\n",
       "      <th>3</th>\n",
       "      <td>1855</td>\n",
       "      <td>2017-06-30</td>\n",
       "      <td>20000.0</td>\n",
       "      <td>27/02/2013</td>\n",
       "      <td>Dead</td>\n",
       "      <td>2020-02-20</td>\n",
       "      <td>0.0</td>\n",
       "    </tr>\n",
       "    <tr>\n",
       "      <th>4</th>\n",
       "      <td>1st Impression</td>\n",
       "      <td>2013-11-22</td>\n",
       "      <td>75005.0</td>\n",
       "      <td>26/08/2009</td>\n",
       "      <td>Dead</td>\n",
       "      <td>2019-12-16</td>\n",
       "      <td>0.0</td>\n",
       "    </tr>\n",
       "  </tbody>\n",
       "</table>\n",
       "</div>"
      ],
      "text/plain": [
       "       Company name  Deal date  Investment amount Incorporation date  \\\n",
       "0  10 Digital Media 2015-11-16          3398454.0                NaN   \n",
       "1      1066 Airsoft 2016-05-31            23668.0         13/05/2014   \n",
       "2      14M Genomics 2014-12-16          5000000.0         09/01/2014   \n",
       "3              1855 2017-06-30            20000.0         27/02/2013   \n",
       "4    1st Impression 2013-11-22            75005.0         26/08/2009   \n",
       "\n",
       "  Current stage  Exit date  Exit price  \n",
       "0          Dead 2018-11-27         0.0  \n",
       "1          Dead 2019-02-27         0.0  \n",
       "2          Dead 2016-03-21         0.0  \n",
       "3          Dead 2020-02-20         0.0  \n",
       "4          Dead 2019-12-16         0.0  "
      ]
     },
     "execution_count": 7,
     "metadata": {},
     "output_type": "execute_result"
    }
   ],
   "source": [
    "startups.head()"
   ]
  },
  {
   "cell_type": "markdown",
   "metadata": {},
   "source": [
    "## import and process organizations.csv\n",
    "### feature: ['first_industry','industry_code']"
   ]
  },
  {
   "cell_type": "code",
   "execution_count": 8,
   "metadata": {},
   "outputs": [],
   "source": [
    "organizations = pd.read_csv('investmentsUK/organizations.csv')\n",
    "organizations = organizations.loc[:,['name', 'category_groups_list']]\n",
    "organizations = organizations.rename(columns={'name':'Company name'})\n",
    "organizations = organizations.dropna(inplace=False)"
   ]
  },
  {
   "cell_type": "code",
   "execution_count": 9,
   "metadata": {},
   "outputs": [],
   "source": [
    "organizations['first_industry'] = organizations['category_groups_list'].apply(lambda x:x.split(',')[0])\n",
    "map_df = pd.DataFrame(organizations['first_industry'].unique()).reset_index().rename(columns={0:'first_industry'})\n",
    "organizations = pd.merge(organizations,map_df,on='first_industry',how='outer')\n",
    "organizations = organizations.loc[:,['Company name','first_industry']]\n",
    "organizations['first_industry'] = organizations['first_industry'].fillna('Other')\n",
    "organizations = organizations.sort_values(by=['Company name']) "
   ]
  },
  {
   "cell_type": "code",
   "execution_count": 10,
   "metadata": {},
   "outputs": [],
   "source": [
    "map_ind = pd.DataFrame(organizations['first_industry'].unique().tolist()).reset_index().rename(columns={0:'first_industry','index':'industry_code'})\n",
    "organizations = pd.merge(organizations,map_ind,on='first_industry',how='left')"
   ]
  },
  {
   "cell_type": "code",
   "execution_count": 11,
   "metadata": {},
   "outputs": [],
   "source": [
    "startups = pd.merge(startups,organizations,on='Company name',how='left')"
   ]
  },
  {
   "cell_type": "code",
   "execution_count": 12,
   "metadata": {},
   "outputs": [],
   "source": [
    "# from sklearn import preprocessing\n",
    "\n",
    "# data = (organizations.category_groups_list.str.split('\\s*,\\s*', expand=True)\n",
    "#    .stack()\n",
    "#    .str.get_dummies()\n",
    "#    .sum(level=0))\n",
    "\n",
    "# enc = preprocessing.OneHotEncoder(sparse=False)\n",
    "# data = enc.fit_transform( organizations['first_industry'].values.reshape(-1,1) )\n",
    "\n",
    "# organizations['one_hot'] = list(data)"
   ]
  },
  {
   "cell_type": "markdown",
   "metadata": {},
   "source": [
    "## import and process funding_rounds.csv to get founder_count.csv\n",
    "### feature: ['investor_count']"
   ]
  },
  {
   "cell_type": "code",
   "execution_count": 13,
   "metadata": {},
   "outputs": [],
   "source": [
    "founder_count = pd.read_csv('investmentsUK\\\\funding_rounds.csv')\n",
    "funds = founder_count\n",
    "founder_count = founder_count.loc[:,['org_name','investor_count']]\n",
    "founder_count = founder_count.rename(columns={'org_name':'Company name'}) \n",
    "founder_count = founder_count.dropna(inplace=False)\n",
    "founder_count = founder_count.drop_duplicates(subset=None, keep='first', inplace=False)\n",
    "founder_count = founder_count.sort_values(by=['Company name']) "
   ]
  },
  {
   "cell_type": "code",
   "execution_count": 14,
   "metadata": {
    "scrolled": true
   },
   "outputs": [
    {
     "data": {
      "text/html": [
       "<div>\n",
       "<style scoped>\n",
       "    .dataframe tbody tr th:only-of-type {\n",
       "        vertical-align: middle;\n",
       "    }\n",
       "\n",
       "    .dataframe tbody tr th {\n",
       "        vertical-align: top;\n",
       "    }\n",
       "\n",
       "    .dataframe thead th {\n",
       "        text-align: right;\n",
       "    }\n",
       "</style>\n",
       "<table border=\"1\" class=\"dataframe\">\n",
       "  <thead>\n",
       "    <tr style=\"text-align: right;\">\n",
       "      <th></th>\n",
       "      <th>Company name</th>\n",
       "      <th>investor_count</th>\n",
       "    </tr>\n",
       "  </thead>\n",
       "  <tbody>\n",
       "    <tr>\n",
       "      <th>116667</th>\n",
       "      <td>!hey software</td>\n",
       "      <td>2.0</td>\n",
       "    </tr>\n",
       "    <tr>\n",
       "      <th>33185</th>\n",
       "      <td>#Vine</td>\n",
       "      <td>2.0</td>\n",
       "    </tr>\n",
       "    <tr>\n",
       "      <th>341803</th>\n",
       "      <td>#Yolo ex</td>\n",
       "      <td>1.0</td>\n",
       "    </tr>\n",
       "    <tr>\n",
       "      <th>106036</th>\n",
       "      <td>#hexology</td>\n",
       "      <td>1.0</td>\n",
       "    </tr>\n",
       "    <tr>\n",
       "      <th>266857</th>\n",
       "      <td>#paid</td>\n",
       "      <td>1.0</td>\n",
       "    </tr>\n",
       "  </tbody>\n",
       "</table>\n",
       "</div>"
      ],
      "text/plain": [
       "         Company name  investor_count\n",
       "116667  !hey software             2.0\n",
       "33185           #Vine             2.0\n",
       "341803       #Yolo ex             1.0\n",
       "106036      #hexology             1.0\n",
       "266857          #paid             1.0"
      ]
     },
     "execution_count": 14,
     "metadata": {},
     "output_type": "execute_result"
    }
   ],
   "source": [
    "founder_count.head()"
   ]
  },
  {
   "cell_type": "markdown",
   "metadata": {},
   "source": [
    "## left merge startups.csv and founder_count.csv\n",
    "### feature: ['Investment amount', 'Exit price', 'founder_count']"
   ]
  },
  {
   "cell_type": "code",
   "execution_count": 15,
   "metadata": {},
   "outputs": [],
   "source": [
    "startups = pd.merge(startups, founder_count, on='Company name',how='left') "
   ]
  },
  {
   "cell_type": "code",
   "execution_count": 16,
   "metadata": {
    "scrolled": false
   },
   "outputs": [
    {
     "name": "stdout",
     "output_type": "stream",
     "text": [
      "<class 'pandas.core.frame.DataFrame'>\n",
      "Int64Index: 7901 entries, 0 to 7900\n",
      "Data columns (total 10 columns):\n",
      " #   Column              Non-Null Count  Dtype         \n",
      "---  ------              --------------  -----         \n",
      " 0   Company name        7901 non-null   object        \n",
      " 1   Deal date           7901 non-null   datetime64[ns]\n",
      " 2   Investment amount   7901 non-null   float64       \n",
      " 3   Incorporation date  7723 non-null   object        \n",
      " 4   Current stage       7901 non-null   object        \n",
      " 5   Exit date           7901 non-null   datetime64[ns]\n",
      " 6   Exit price          7901 non-null   float64       \n",
      " 7   first_industry      4838 non-null   object        \n",
      " 8   industry_code       4838 non-null   float64       \n",
      " 9   investor_count      3879 non-null   float64       \n",
      "dtypes: datetime64[ns](2), float64(4), object(4)\n",
      "memory usage: 679.0+ KB\n"
     ]
    }
   ],
   "source": [
    "startups.info()"
   ]
  },
  {
   "cell_type": "markdown",
   "metadata": {},
   "source": [
    "## import funding_rounds.csv as 'funds' to filter the valuation of later-stage companies\n",
    "### feature: ['mean_val']"
   ]
  },
  {
   "cell_type": "code",
   "execution_count": 17,
   "metadata": {},
   "outputs": [],
   "source": [
    "funds = funds.loc[:,['org_name', 'investment_type','raised_amount_usd']]\n",
    "funds = funds[funds['investment_type'].isin(['series_c','series_d'])] #filter the later stage investments\n",
    "funds = funds.rename(columns={'org_name':'Company name'})\n",
    "funds['raised_amount_gbp'] = funds['raised_amount_usd']*0.72\n",
    "funds = funds.drop(columns=['raised_amount_usd'])\n",
    "funds = funds.dropna(inplace=False)"
   ]
  },
  {
   "cell_type": "markdown",
   "metadata": {},
   "source": [
    "## left merge organizations.csv and funds.csv "
   ]
  },
  {
   "cell_type": "code",
   "execution_count": 18,
   "metadata": {},
   "outputs": [],
   "source": [
    "ind_funds = pd.merge(organizations, funds, on='Company name',how='left') \n",
    "# ind_funds = ind_funds.drop(columns='index')\n",
    "ind_funds = ind_funds.dropna()\n",
    "ind_funds = ind_funds.sort_values(by=['first_industry','raised_amount_gbp'])"
   ]
  },
  {
   "cell_type": "markdown",
   "metadata": {},
   "source": [
    "## detect outliers"
   ]
  },
  {
   "cell_type": "code",
   "execution_count": 19,
   "metadata": {},
   "outputs": [
    {
     "name": "stderr",
     "output_type": "stream",
     "text": [
      "100%|█████████████████████████████████████████████████████████████████████████████████| 42/42 [00:00<00:00, 233.29it/s]\n"
     ]
    }
   ],
   "source": [
    "industry = ind_funds['first_industry'].unique()\n",
    "u = []\n",
    "std = []\n",
    "for i in tqdm(industry):\n",
    "    u.append(ind_funds['raised_amount_gbp'].loc[ind_funds['first_industry']==i].mean())\n",
    "    std.append(ind_funds['raised_amount_gbp'].loc[ind_funds['first_industry']==i].std())"
   ]
  },
  {
   "cell_type": "code",
   "execution_count": 20,
   "metadata": {},
   "outputs": [],
   "source": [
    "data = {'first_industry':industry,'mean':u,'std':std}\n",
    "u_std = pd.DataFrame(data)\n",
    "ind_val = pd.merge(ind_funds,u_std,on='first_industry',how='left')\n",
    "ind_val['bias'] = (ind_val['raised_amount_gbp']-ind_val['mean']).abs()\n",
    "ind_val['error']=0\n",
    "ind_val.loc[ind_val['bias']>(ind_val['std']*3),'error'] = 1"
   ]
  },
  {
   "cell_type": "markdown",
   "metadata": {},
   "source": [
    "## remove outliers"
   ]
  },
  {
   "cell_type": "code",
   "execution_count": 21,
   "metadata": {},
   "outputs": [],
   "source": [
    "ind_norm = ind_val.loc[ind_val['error']==0]"
   ]
  },
  {
   "cell_type": "code",
   "execution_count": 22,
   "metadata": {},
   "outputs": [],
   "source": [
    "# plt.style.use({'figure.figsize':(4, 2.5)}) #visualize the valuation distribution\n",
    "# # fig,axes=plt.subplots(11,4)\n",
    "# # for m in range(0,41):\n",
    "# for i in industry :\n",
    "#     sns.distplot(ind_norm['raised_amount_gbp'].loc[ind_norm['first_industry']==i],label=i)\n",
    "#     plt.show()"
   ]
  },
  {
   "cell_type": "markdown",
   "metadata": {},
   "source": [
    "## mean valuation of various industries"
   ]
  },
  {
   "cell_type": "code",
   "execution_count": 23,
   "metadata": {},
   "outputs": [],
   "source": [
    "mean=[]\n",
    "for i in industry:\n",
    "    mean.append(ind_norm['raised_amount_gbp'].loc[ind_norm['first_industry']==i].mean())"
   ]
  },
  {
   "cell_type": "code",
   "execution_count": 24,
   "metadata": {},
   "outputs": [],
   "source": [
    "data = {'first_industry':industry,'mean_val':mean}\n",
    "ind_val = pd.DataFrame(data)"
   ]
  },
  {
   "cell_type": "markdown",
   "metadata": {},
   "source": [
    "## left startups.csv and ind_val.csv"
   ]
  },
  {
   "cell_type": "code",
   "execution_count": 25,
   "metadata": {},
   "outputs": [],
   "source": [
    "startups['first_industry'] = startups['first_industry'].fillna('Other')\n",
    "startups = pd.merge(startups,ind_val,on=['first_industry'],how='left')\n",
    "startups['industry_level'] = startups['Investment amount'] - startups['mean_val']"
   ]
  },
  {
   "cell_type": "markdown",
   "metadata": {},
   "source": [
    "## import and process jobs.csv & people.csv to get founder_gender.csv\n",
    "### feature: ['male', 'female']"
   ]
  },
  {
   "cell_type": "code",
   "execution_count": 26,
   "metadata": {},
   "outputs": [],
   "source": [
    "jobs = pd.read_csv('investmentsUK/jobs.csv') \n",
    "jobs = jobs.loc[:,['person_name', 'org_name', 'title']]\n",
    "jobs = jobs.rename(columns={'person_name':'founder_name'})\n",
    "jobs = jobs.rename(columns={'org_name':'Company name'})\n",
    "jobs = jobs.dropna(inplace=False)\n",
    "searchfor = ['found','Found']\n",
    "jobs = jobs[jobs['title'].str.contains('|'.join(searchfor))] \n",
    "#search for 'founder'/'co-founder'/'founding partner'\n",
    "Cname = startups[['Company name']]\n",
    "jobs = pd.merge(Cname,jobs,on='Company name',how='left')\n",
    "jobs = jobs.dropna(subset=['founder_name','title'],inplace=False)\n",
    "jobs = jobs.sort_values(by=['Company name']) "
   ]
  },
  {
   "cell_type": "code",
   "execution_count": 27,
   "metadata": {},
   "outputs": [
    {
     "name": "stdout",
     "output_type": "stream",
     "text": [
      "<class 'pandas.core.frame.DataFrame'>\n",
      "Int64Index: 10737 entries, 12 to 14927\n",
      "Data columns (total 3 columns):\n",
      " #   Column        Non-Null Count  Dtype \n",
      "---  ------        --------------  ----- \n",
      " 0   Company name  10737 non-null  object\n",
      " 1   founder_name  10737 non-null  object\n",
      " 2   title         10737 non-null  object\n",
      "dtypes: object(3)\n",
      "memory usage: 335.5+ KB\n"
     ]
    }
   ],
   "source": [
    "jobs.info()"
   ]
  },
  {
   "cell_type": "code",
   "execution_count": 28,
   "metadata": {},
   "outputs": [],
   "source": [
    "people = pd.read_csv('investmentsUK/people.csv') \n",
    "people = people.loc[:,['name', 'gender']]\n",
    "people = people.rename(columns={'name':'founder_name'})\n",
    "founder = pd.merge(jobs,people,on='founder_name',how='left')\n",
    "founder = founder.drop_duplicates(subset=None, keep='first', inplace=False) "
   ]
  },
  {
   "cell_type": "code",
   "execution_count": 29,
   "metadata": {},
   "outputs": [
    {
     "data": {
      "text/html": [
       "<div>\n",
       "<style scoped>\n",
       "    .dataframe tbody tr th:only-of-type {\n",
       "        vertical-align: middle;\n",
       "    }\n",
       "\n",
       "    .dataframe tbody tr th {\n",
       "        vertical-align: top;\n",
       "    }\n",
       "\n",
       "    .dataframe thead th {\n",
       "        text-align: right;\n",
       "    }\n",
       "</style>\n",
       "<table border=\"1\" class=\"dataframe\">\n",
       "  <thead>\n",
       "    <tr style=\"text-align: right;\">\n",
       "      <th></th>\n",
       "      <th>Company name</th>\n",
       "      <th>founder_name</th>\n",
       "      <th>title</th>\n",
       "      <th>gender</th>\n",
       "    </tr>\n",
       "  </thead>\n",
       "  <tbody>\n",
       "    <tr>\n",
       "      <th>0</th>\n",
       "      <td>3 Kinds of Ice</td>\n",
       "      <td>David Bailey</td>\n",
       "      <td>CEO &amp; Co-Founder</td>\n",
       "      <td>male</td>\n",
       "    </tr>\n",
       "    <tr>\n",
       "      <th>19</th>\n",
       "      <td>3sun Group</td>\n",
       "      <td>Willie Dawson</td>\n",
       "      <td>Founder</td>\n",
       "      <td>male</td>\n",
       "    </tr>\n",
       "    <tr>\n",
       "      <th>20</th>\n",
       "      <td>4x4 Aviation</td>\n",
       "      <td>Thorsten Reinhardt</td>\n",
       "      <td>Founder &amp; CEO</td>\n",
       "      <td>male</td>\n",
       "    </tr>\n",
       "    <tr>\n",
       "      <th>21</th>\n",
       "      <td>A Suit That Fits</td>\n",
       "      <td>Warren Bennett</td>\n",
       "      <td>Co-Founder</td>\n",
       "      <td>male</td>\n",
       "    </tr>\n",
       "    <tr>\n",
       "      <th>25</th>\n",
       "      <td>ACAL Energy</td>\n",
       "      <td>Andrew Creeth</td>\n",
       "      <td>Chief Technology Officer &amp; Co-Founder</td>\n",
       "      <td>male</td>\n",
       "    </tr>\n",
       "  </tbody>\n",
       "</table>\n",
       "</div>"
      ],
      "text/plain": [
       "        Company name        founder_name  \\\n",
       "0     3 Kinds of Ice        David Bailey   \n",
       "19        3sun Group       Willie Dawson   \n",
       "20      4x4 Aviation  Thorsten Reinhardt   \n",
       "21  A Suit That Fits      Warren Bennett   \n",
       "25       ACAL Energy       Andrew Creeth   \n",
       "\n",
       "                                    title gender  \n",
       "0                        CEO & Co-Founder   male  \n",
       "19                                Founder   male  \n",
       "20                          Founder & CEO   male  \n",
       "21                             Co-Founder   male  \n",
       "25  Chief Technology Officer & Co-Founder   male  "
      ]
     },
     "execution_count": 29,
     "metadata": {},
     "output_type": "execute_result"
    }
   ],
   "source": [
    "founder.head()"
   ]
  },
  {
   "cell_type": "code",
   "execution_count": 30,
   "metadata": {},
   "outputs": [
    {
     "name": "stderr",
     "output_type": "stream",
     "text": [
      "100%|████████████████████████████████████████████████████████████████████████████| 1369/1369 [00:01<00:00, 1164.11it/s]\n"
     ]
    }
   ],
   "source": [
    "length_column = founder.shape[0]\n",
    "founder['male'] = (0)\n",
    "founder['female'] = (0)\n",
    "founder['founder_count'] = (0)\n",
    "for i in tqdm(range(0,length_column)):\n",
    "    if (founder['Company name'].iloc[i] == founder['Company name'].iloc[i-1])&(founder['gender'].iloc[i] == 'male'):\n",
    "        founder['male'].iloc[i] = founder['male'].iloc[i-1]+1\n",
    "        founder['founder_count'].iloc[i] += 1\n",
    "    elif (founder['Company name'].iloc[i] == founder['Company name'].iloc[i-1])&(founder['gender'].iloc[i] == 'female'):\n",
    "        founder['female'].iloc[i] = founder['female'].iloc[i-1]+1\n",
    "        founder['founder_count'].iloc[i] += 1\n",
    "    elif founder['gender'].iloc[i] == 'male':\n",
    "        founder['male'].iloc[i] = 1\n",
    "    else:\n",
    "        founder['female'].iloc[i] = 1\n",
    "founder_gender = pd.concat([founder,founder.fillna(0)],axis=0)\n",
    "founder_gender = founder_gender.drop_duplicates(subset=['Company name'], keep='last', inplace=False)\n",
    "founder_gender = founder_gender.loc[:,['Company name','male','female','founder_count']]"
   ]
  },
  {
   "cell_type": "code",
   "execution_count": 31,
   "metadata": {},
   "outputs": [
    {
     "data": {
      "text/html": [
       "<div>\n",
       "<style scoped>\n",
       "    .dataframe tbody tr th:only-of-type {\n",
       "        vertical-align: middle;\n",
       "    }\n",
       "\n",
       "    .dataframe tbody tr th {\n",
       "        vertical-align: top;\n",
       "    }\n",
       "\n",
       "    .dataframe thead th {\n",
       "        text-align: right;\n",
       "    }\n",
       "</style>\n",
       "<table border=\"1\" class=\"dataframe\">\n",
       "  <thead>\n",
       "    <tr style=\"text-align: right;\">\n",
       "      <th></th>\n",
       "      <th>Company name</th>\n",
       "      <th>male</th>\n",
       "      <th>female</th>\n",
       "      <th>founder_count</th>\n",
       "    </tr>\n",
       "  </thead>\n",
       "  <tbody>\n",
       "    <tr>\n",
       "      <th>0</th>\n",
       "      <td>3 Kinds of Ice</td>\n",
       "      <td>1</td>\n",
       "      <td>0</td>\n",
       "      <td>0</td>\n",
       "    </tr>\n",
       "    <tr>\n",
       "      <th>19</th>\n",
       "      <td>3sun Group</td>\n",
       "      <td>1</td>\n",
       "      <td>0</td>\n",
       "      <td>0</td>\n",
       "    </tr>\n",
       "    <tr>\n",
       "      <th>20</th>\n",
       "      <td>4x4 Aviation</td>\n",
       "      <td>1</td>\n",
       "      <td>0</td>\n",
       "      <td>0</td>\n",
       "    </tr>\n",
       "    <tr>\n",
       "      <th>21</th>\n",
       "      <td>A Suit That Fits</td>\n",
       "      <td>1</td>\n",
       "      <td>0</td>\n",
       "      <td>0</td>\n",
       "    </tr>\n",
       "    <tr>\n",
       "      <th>25</th>\n",
       "      <td>ACAL Energy</td>\n",
       "      <td>1</td>\n",
       "      <td>0</td>\n",
       "      <td>0</td>\n",
       "    </tr>\n",
       "    <tr>\n",
       "      <th>...</th>\n",
       "      <td>...</td>\n",
       "      <td>...</td>\n",
       "      <td>...</td>\n",
       "      <td>...</td>\n",
       "    </tr>\n",
       "    <tr>\n",
       "      <th>18274</th>\n",
       "      <td>passingboxes</td>\n",
       "      <td>0</td>\n",
       "      <td>1</td>\n",
       "      <td>0</td>\n",
       "    </tr>\n",
       "    <tr>\n",
       "      <th>18276</th>\n",
       "      <td>people.io</td>\n",
       "      <td>1</td>\n",
       "      <td>0</td>\n",
       "      <td>0</td>\n",
       "    </tr>\n",
       "    <tr>\n",
       "      <th>18280</th>\n",
       "      <td>rtobjects</td>\n",
       "      <td>1</td>\n",
       "      <td>0</td>\n",
       "      <td>0</td>\n",
       "    </tr>\n",
       "    <tr>\n",
       "      <th>18286</th>\n",
       "      <td>uberVU</td>\n",
       "      <td>3</td>\n",
       "      <td>0</td>\n",
       "      <td>1</td>\n",
       "    </tr>\n",
       "    <tr>\n",
       "      <th>18292</th>\n",
       "      <td>wayve</td>\n",
       "      <td>1</td>\n",
       "      <td>0</td>\n",
       "      <td>0</td>\n",
       "    </tr>\n",
       "  </tbody>\n",
       "</table>\n",
       "<p>690 rows × 4 columns</p>\n",
       "</div>"
      ],
      "text/plain": [
       "           Company name  male  female  founder_count\n",
       "0        3 Kinds of Ice     1       0              0\n",
       "19           3sun Group     1       0              0\n",
       "20         4x4 Aviation     1       0              0\n",
       "21     A Suit That Fits     1       0              0\n",
       "25          ACAL Energy     1       0              0\n",
       "...                 ...   ...     ...            ...\n",
       "18274      passingboxes     0       1              0\n",
       "18276         people.io     1       0              0\n",
       "18280         rtobjects     1       0              0\n",
       "18286            uberVU     3       0              1\n",
       "18292             wayve     1       0              0\n",
       "\n",
       "[690 rows x 4 columns]"
      ]
     },
     "execution_count": 31,
     "metadata": {},
     "output_type": "execute_result"
    }
   ],
   "source": [
    "founder_gender"
   ]
  },
  {
   "cell_type": "markdown",
   "metadata": {},
   "source": [
    "## left merge startups.csv and founder_count.csv\n",
    "### feature: ['Investment amount', 'Exit price', 'founder_count', 'male', 'female']"
   ]
  },
  {
   "cell_type": "code",
   "execution_count": 32,
   "metadata": {},
   "outputs": [],
   "source": [
    "startups = pd.merge(startups, founder_gender, on='Company name',how='left')\n",
    "startups = startups.drop_duplicates(subset=['Company name','Deal date'], keep='first', inplace=False) "
   ]
  },
  {
   "cell_type": "code",
   "execution_count": 33,
   "metadata": {},
   "outputs": [
    {
     "data": {
      "text/html": [
       "<div>\n",
       "<style scoped>\n",
       "    .dataframe tbody tr th:only-of-type {\n",
       "        vertical-align: middle;\n",
       "    }\n",
       "\n",
       "    .dataframe tbody tr th {\n",
       "        vertical-align: top;\n",
       "    }\n",
       "\n",
       "    .dataframe thead th {\n",
       "        text-align: right;\n",
       "    }\n",
       "</style>\n",
       "<table border=\"1\" class=\"dataframe\">\n",
       "  <thead>\n",
       "    <tr style=\"text-align: right;\">\n",
       "      <th></th>\n",
       "      <th>Company name</th>\n",
       "      <th>Deal date</th>\n",
       "      <th>Investment amount</th>\n",
       "      <th>Incorporation date</th>\n",
       "      <th>Current stage</th>\n",
       "      <th>Exit date</th>\n",
       "      <th>Exit price</th>\n",
       "      <th>first_industry</th>\n",
       "      <th>industry_code</th>\n",
       "      <th>investor_count</th>\n",
       "      <th>mean_val</th>\n",
       "      <th>industry_level</th>\n",
       "      <th>male</th>\n",
       "      <th>female</th>\n",
       "      <th>founder_count</th>\n",
       "    </tr>\n",
       "  </thead>\n",
       "  <tbody>\n",
       "    <tr>\n",
       "      <th>0</th>\n",
       "      <td>10 Digital Media</td>\n",
       "      <td>2015-11-16</td>\n",
       "      <td>3398454.0</td>\n",
       "      <td>NaN</td>\n",
       "      <td>Dead</td>\n",
       "      <td>2018-11-27</td>\n",
       "      <td>0.0</td>\n",
       "      <td>Other</td>\n",
       "      <td>NaN</td>\n",
       "      <td>NaN</td>\n",
       "      <td>2.535893e+07</td>\n",
       "      <td>-2.196048e+07</td>\n",
       "      <td>NaN</td>\n",
       "      <td>NaN</td>\n",
       "      <td>NaN</td>\n",
       "    </tr>\n",
       "    <tr>\n",
       "      <th>1</th>\n",
       "      <td>1066 Airsoft</td>\n",
       "      <td>2016-05-31</td>\n",
       "      <td>23668.0</td>\n",
       "      <td>13/05/2014</td>\n",
       "      <td>Dead</td>\n",
       "      <td>2019-02-27</td>\n",
       "      <td>0.0</td>\n",
       "      <td>Other</td>\n",
       "      <td>NaN</td>\n",
       "      <td>NaN</td>\n",
       "      <td>2.535893e+07</td>\n",
       "      <td>-2.533526e+07</td>\n",
       "      <td>NaN</td>\n",
       "      <td>NaN</td>\n",
       "      <td>NaN</td>\n",
       "    </tr>\n",
       "    <tr>\n",
       "      <th>2</th>\n",
       "      <td>14M Genomics</td>\n",
       "      <td>2014-12-16</td>\n",
       "      <td>5000000.0</td>\n",
       "      <td>09/01/2014</td>\n",
       "      <td>Dead</td>\n",
       "      <td>2016-03-21</td>\n",
       "      <td>0.0</td>\n",
       "      <td>Biotechnology</td>\n",
       "      <td>29.0</td>\n",
       "      <td>NaN</td>\n",
       "      <td>2.088792e+07</td>\n",
       "      <td>-1.588792e+07</td>\n",
       "      <td>NaN</td>\n",
       "      <td>NaN</td>\n",
       "      <td>NaN</td>\n",
       "    </tr>\n",
       "    <tr>\n",
       "      <th>3</th>\n",
       "      <td>1855</td>\n",
       "      <td>2017-06-30</td>\n",
       "      <td>20000.0</td>\n",
       "      <td>27/02/2013</td>\n",
       "      <td>Dead</td>\n",
       "      <td>2020-02-20</td>\n",
       "      <td>0.0</td>\n",
       "      <td>Other</td>\n",
       "      <td>NaN</td>\n",
       "      <td>NaN</td>\n",
       "      <td>2.535893e+07</td>\n",
       "      <td>-2.533893e+07</td>\n",
       "      <td>NaN</td>\n",
       "      <td>NaN</td>\n",
       "      <td>NaN</td>\n",
       "    </tr>\n",
       "    <tr>\n",
       "      <th>4</th>\n",
       "      <td>1st Impression</td>\n",
       "      <td>2013-11-22</td>\n",
       "      <td>75005.0</td>\n",
       "      <td>26/08/2009</td>\n",
       "      <td>Dead</td>\n",
       "      <td>2019-12-16</td>\n",
       "      <td>0.0</td>\n",
       "      <td>Other</td>\n",
       "      <td>NaN</td>\n",
       "      <td>NaN</td>\n",
       "      <td>2.535893e+07</td>\n",
       "      <td>-2.528392e+07</td>\n",
       "      <td>NaN</td>\n",
       "      <td>NaN</td>\n",
       "      <td>NaN</td>\n",
       "    </tr>\n",
       "  </tbody>\n",
       "</table>\n",
       "</div>"
      ],
      "text/plain": [
       "       Company name  Deal date  Investment amount Incorporation date  \\\n",
       "0  10 Digital Media 2015-11-16          3398454.0                NaN   \n",
       "1      1066 Airsoft 2016-05-31            23668.0         13/05/2014   \n",
       "2      14M Genomics 2014-12-16          5000000.0         09/01/2014   \n",
       "3              1855 2017-06-30            20000.0         27/02/2013   \n",
       "4    1st Impression 2013-11-22            75005.0         26/08/2009   \n",
       "\n",
       "  Current stage  Exit date  Exit price first_industry  industry_code  \\\n",
       "0          Dead 2018-11-27         0.0          Other            NaN   \n",
       "1          Dead 2019-02-27         0.0          Other            NaN   \n",
       "2          Dead 2016-03-21         0.0  Biotechnology           29.0   \n",
       "3          Dead 2020-02-20         0.0          Other            NaN   \n",
       "4          Dead 2019-12-16         0.0          Other            NaN   \n",
       "\n",
       "   investor_count      mean_val  industry_level  male  female  founder_count  \n",
       "0             NaN  2.535893e+07   -2.196048e+07   NaN     NaN            NaN  \n",
       "1             NaN  2.535893e+07   -2.533526e+07   NaN     NaN            NaN  \n",
       "2             NaN  2.088792e+07   -1.588792e+07   NaN     NaN            NaN  \n",
       "3             NaN  2.535893e+07   -2.533893e+07   NaN     NaN            NaN  \n",
       "4             NaN  2.535893e+07   -2.528392e+07   NaN     NaN            NaN  "
      ]
     },
     "execution_count": 33,
     "metadata": {},
     "output_type": "execute_result"
    }
   ],
   "source": [
    "startups.head()"
   ]
  },
  {
   "cell_type": "markdown",
   "metadata": {},
   "source": [
    "## import and process shares.csv\n",
    "### feature: ['number_of_shares', 'percent_total']"
   ]
  },
  {
   "cell_type": "code",
   "execution_count": 34,
   "metadata": {},
   "outputs": [],
   "source": [
    "shares = pd.read_csv('investmentsUK\\shares.csv')    #import data\n",
    "shares = shares.loc[:,['Company name','filing_date', 'first_name', 'last_name', 'number_of_shares','percent_total']]    #select and retain useful information\n",
    "shares = shares.dropna(subset=['last_name'])  \n",
    "# shares = shares[~shares['number_of_shares'].isin([0])]    #clean data rows whose values in \"number_of_shares\" or \"last_name\" are missing\n",
    "shares['first_name'] = shares['first_name'].fillna('')    #replace Nan to \"\" in \"first_name\" column\n",
    "shares = shares.drop_duplicates(subset=None, keep='first', inplace=False)    #eliminate duplicate data rows\n",
    "shares['filing_date'] = pd.to_datetime(shares['filing_date'],format='%d/%m/%Y')\n",
    "shares['filing_date'] = pd.to_datetime(shares['filing_date'],format='%Y-%m-%d')\n",
    "shares = shares.sort_values(by=['Company name','filing_date','last_name', 'number_of_shares'])    \n",
    "#set Investor name as index and sort the data first by 'Company name' then by 'number_of_shares'\n",
    "# investors = shares.drop_duplicates(subset=['Company name','number_of_shares'], keep='first', inplace=False)\n",
    "#eliminate duplicate data rows whose number_of_shares make no change [179719 rows x 6 columns] --> [87229 rows x 6 columns]"
   ]
  },
  {
   "cell_type": "code",
   "execution_count": 35,
   "metadata": {
    "scrolled": true
   },
   "outputs": [
    {
     "name": "stdout",
     "output_type": "stream",
     "text": [
      "<class 'pandas.core.frame.DataFrame'>\n",
      "Int64Index: 179398 entries, 33100 to 85938\n",
      "Data columns (total 6 columns):\n",
      " #   Column            Non-Null Count   Dtype         \n",
      "---  ------            --------------   -----         \n",
      " 0   Company name      179398 non-null  object        \n",
      " 1   filing_date       179398 non-null  datetime64[ns]\n",
      " 2   first_name        179398 non-null  object        \n",
      " 3   last_name         179398 non-null  object        \n",
      " 4   number_of_shares  179398 non-null  float64       \n",
      " 5   percent_total     179398 non-null  float64       \n",
      "dtypes: datetime64[ns](1), float64(2), object(3)\n",
      "memory usage: 9.6+ MB\n"
     ]
    }
   ],
   "source": [
    "shares.info()"
   ]
  },
  {
   "cell_type": "markdown",
   "metadata": {},
   "source": [
    "## Calculate how many shares have been issued each round \n",
    "### feature: ['round', 'round_shares']"
   ]
  },
  {
   "cell_type": "code",
   "execution_count": 36,
   "metadata": {
    "scrolled": true
   },
   "outputs": [
    {
     "name": "stderr",
     "output_type": "stream",
     "text": [
      "100%|██████████████████████████████████████████████████████████████████████████| 14982/14982 [00:07<00:00, 1955.05it/s]\n"
     ]
    }
   ],
   "source": [
    "rounds = shares.drop_duplicates(subset=['filing_date','Company name'], keep='last') \n",
    "rounds['total_shares'] = rounds['number_of_shares']*100/rounds['percent_total'] \n",
    "rounds = rounds.dropna(subset=['total_shares'])\n",
    "#Calculate the cumulative number of shares issued by the startup firms in each funding round\n",
    "# rounds.round({'total_shares': 2})\n",
    "rounds = rounds.loc[:,['Company name','filing_date','total_shares']]\n",
    "length_column = rounds.shape[0]\n",
    "rounds['round_shares'] = ''\n",
    "for i in tqdm(range(0,length_column)):\n",
    "    if rounds['Company name'].iloc[i] == rounds['Company name'].iloc[i-1]:\n",
    "        rounds['round_shares'].iloc[i] = rounds['total_shares'].iloc[i]-rounds['total_shares'].iloc[i-1]\n",
    "    else:\n",
    "        rounds['round_shares'].iloc[i] = rounds['total_shares'].iloc[i]\n",
    "#Calculate the number of shares issued separately by the startup in each funding round"
   ]
  },
  {
   "cell_type": "code",
   "execution_count": 37,
   "metadata": {},
   "outputs": [
    {
     "name": "stderr",
     "output_type": "stream",
     "text": [
      "100%|████████████████████████████████████████████████████████████████████████████| 8638/8638 [00:04<00:00, 2075.28it/s]\n"
     ]
    }
   ],
   "source": [
    "rounds = rounds[~rounds['round_shares'].isin([0])] \n",
    "# if the value of round_shares is zero, there was not a new funding round\n",
    "length_column = rounds.shape[0]\n",
    "rounds['rounds'] = ''\n",
    "for i in tqdm(range(0,length_column)):\n",
    "    if rounds['Company name'].iloc[i] == rounds['Company name'].iloc[i-1]:\n",
    "        rounds['rounds'].iloc[i] = rounds['rounds'].iloc[i-1]+1\n",
    "    else:\n",
    "        rounds['rounds'].iloc[i] = 1"
   ]
  },
  {
   "cell_type": "code",
   "execution_count": 38,
   "metadata": {},
   "outputs": [],
   "source": [
    "# company_name_lis = rounds['Company name'].unique().tolist()\n",
    "# for cmp in tqdm(company_name_lis):\n",
    "#     dd = rounds[rounds['Company name'] == cmp]\n",
    "#     length_column = dd.shape[0]\n",
    "#     dd['round_share'] = dd['number_of_shares'] - dd['number_of_shares'].shift()\n",
    "#     dd['round'] = length_column\n",
    "#     rounds = pd.concat([rounds,dd.fillna(0)],axis=0)"
   ]
  },
  {
   "cell_type": "code",
   "execution_count": 39,
   "metadata": {},
   "outputs": [
    {
     "data": {
      "text/html": [
       "<div>\n",
       "<style scoped>\n",
       "    .dataframe tbody tr th:only-of-type {\n",
       "        vertical-align: middle;\n",
       "    }\n",
       "\n",
       "    .dataframe tbody tr th {\n",
       "        vertical-align: top;\n",
       "    }\n",
       "\n",
       "    .dataframe thead th {\n",
       "        text-align: right;\n",
       "    }\n",
       "</style>\n",
       "<table border=\"1\" class=\"dataframe\">\n",
       "  <thead>\n",
       "    <tr style=\"text-align: right;\">\n",
       "      <th></th>\n",
       "      <th>Company name</th>\n",
       "      <th>filing_date</th>\n",
       "      <th>total_shares</th>\n",
       "      <th>round_shares</th>\n",
       "      <th>rounds</th>\n",
       "    </tr>\n",
       "  </thead>\n",
       "  <tbody>\n",
       "    <tr>\n",
       "      <th>33100</th>\n",
       "      <td>10 Digital Media</td>\n",
       "      <td>2015-06-18</td>\n",
       "      <td>1.000000e+02</td>\n",
       "      <td>100.0</td>\n",
       "      <td>1</td>\n",
       "    </tr>\n",
       "    <tr>\n",
       "      <th>52887</th>\n",
       "      <td>10 Minutes With</td>\n",
       "      <td>2013-03-19</td>\n",
       "      <td>1.000000e+06</td>\n",
       "      <td>1000000.0</td>\n",
       "      <td>1</td>\n",
       "    </tr>\n",
       "    <tr>\n",
       "      <th>52891</th>\n",
       "      <td>10 Minutes With</td>\n",
       "      <td>2014-03-19</td>\n",
       "      <td>2.577320e+06</td>\n",
       "      <td>1577319.587629</td>\n",
       "      <td>2</td>\n",
       "    </tr>\n",
       "    <tr>\n",
       "      <th>52919</th>\n",
       "      <td>10 Minutes With</td>\n",
       "      <td>2015-03-19</td>\n",
       "      <td>3.048780e+06</td>\n",
       "      <td>471460.900176</td>\n",
       "      <td>3</td>\n",
       "    </tr>\n",
       "    <tr>\n",
       "      <th>52978</th>\n",
       "      <td>10 Minutes With</td>\n",
       "      <td>2016-03-19</td>\n",
       "      <td>3.244444e+06</td>\n",
       "      <td>195663.95664</td>\n",
       "      <td>4</td>\n",
       "    </tr>\n",
       "    <tr>\n",
       "      <th>...</th>\n",
       "      <td>...</td>\n",
       "      <td>...</td>\n",
       "      <td>...</td>\n",
       "      <td>...</td>\n",
       "      <td>...</td>\n",
       "    </tr>\n",
       "    <tr>\n",
       "      <th>136317</th>\n",
       "      <td>yWasteFood</td>\n",
       "      <td>2015-11-27</td>\n",
       "      <td>1.000000e+01</td>\n",
       "      <td>10.0</td>\n",
       "      <td>1</td>\n",
       "    </tr>\n",
       "    <tr>\n",
       "      <th>136318</th>\n",
       "      <td>yWasteFood</td>\n",
       "      <td>2016-11-26</td>\n",
       "      <td>1.399992e+01</td>\n",
       "      <td>3.999916</td>\n",
       "      <td>2</td>\n",
       "    </tr>\n",
       "    <tr>\n",
       "      <th>85764</th>\n",
       "      <td>âcasă</td>\n",
       "      <td>2017-07-19</td>\n",
       "      <td>1.628879e+06</td>\n",
       "      <td>1628878.894957</td>\n",
       "      <td>1</td>\n",
       "    </tr>\n",
       "    <tr>\n",
       "      <th>85804</th>\n",
       "      <td>âcasă</td>\n",
       "      <td>2018-07-19</td>\n",
       "      <td>2.411378e+06</td>\n",
       "      <td>782498.996066</td>\n",
       "      <td>2</td>\n",
       "    </tr>\n",
       "    <tr>\n",
       "      <th>85870</th>\n",
       "      <td>âcasă</td>\n",
       "      <td>2019-07-19</td>\n",
       "      <td>2.598004e+06</td>\n",
       "      <td>186626.543567</td>\n",
       "      <td>3</td>\n",
       "    </tr>\n",
       "  </tbody>\n",
       "</table>\n",
       "<p>8638 rows × 5 columns</p>\n",
       "</div>"
      ],
      "text/plain": [
       "            Company name filing_date  total_shares    round_shares rounds\n",
       "33100   10 Digital Media  2015-06-18  1.000000e+02           100.0      1\n",
       "52887    10 Minutes With  2013-03-19  1.000000e+06       1000000.0      1\n",
       "52891    10 Minutes With  2014-03-19  2.577320e+06  1577319.587629      2\n",
       "52919    10 Minutes With  2015-03-19  3.048780e+06   471460.900176      3\n",
       "52978    10 Minutes With  2016-03-19  3.244444e+06    195663.95664      4\n",
       "...                  ...         ...           ...             ...    ...\n",
       "136317        yWasteFood  2015-11-27  1.000000e+01            10.0      1\n",
       "136318        yWasteFood  2016-11-26  1.399992e+01        3.999916      2\n",
       "85764              âcasă  2017-07-19  1.628879e+06  1628878.894957      1\n",
       "85804              âcasă  2018-07-19  2.411378e+06   782498.996066      2\n",
       "85870              âcasă  2019-07-19  2.598004e+06   186626.543567      3\n",
       "\n",
       "[8638 rows x 5 columns]"
      ]
     },
     "execution_count": 39,
     "metadata": {},
     "output_type": "execute_result"
    }
   ],
   "source": [
    "rounds"
   ]
  },
  {
   "cell_type": "markdown",
   "metadata": {},
   "source": [
    "## Select those start-ups who have raised fundings for 4 times"
   ]
  },
  {
   "cell_type": "code",
   "execution_count": 40,
   "metadata": {},
   "outputs": [],
   "source": [
    "# startups = startups.drop_duplicates(subset=['Company name','Deal date'])\n",
    "count_value=startups['Company name'].value_counts()\n",
    "limit = list(count_value[count_value>3].index)\n",
    "startups_limit = startups[startups['Company name'].isin(limit)]"
   ]
  },
  {
   "cell_type": "code",
   "execution_count": 41,
   "metadata": {},
   "outputs": [],
   "source": [
    "count_value=rounds['Company name'].value_counts()\n",
    "limit = list(count_value[count_value==4].index)\n",
    "rounds_limit = rounds[rounds['Company name'].isin(limit)]\n",
    "shares_limit = pd.merge(rounds_limit,shares, on=['Company name','filing_date'],how='left')"
   ]
  },
  {
   "cell_type": "code",
   "execution_count": 42,
   "metadata": {
    "scrolled": true
   },
   "outputs": [
    {
     "data": {
      "text/plain": [
       "The London Distillery Company    395\n",
       "Wonga                            352\n",
       "Ecco Recordings                  350\n",
       "Neyber                           323\n",
       "Metalysis                        310\n",
       "                                ... \n",
       "IPS                                7\n",
       "Tiller                             4\n",
       "CN Creative Group                  4\n",
       "IOmet Pharma                       4\n",
       "Oxitec                             4\n",
       "Name: Company name, Length: 325, dtype: int64"
      ]
     },
     "execution_count": 42,
     "metadata": {},
     "output_type": "execute_result"
    }
   ],
   "source": [
    "shares_limit['Company name'].value_counts()"
   ]
  },
  {
   "cell_type": "code",
   "execution_count": 43,
   "metadata": {},
   "outputs": [
    {
     "data": {
      "text/plain": [
       "Houseology                  13\n",
       "NetThings                   12\n",
       "Microtest Matrices          11\n",
       "Streetlife                  11\n",
       "Critical Pharmaceuticals     9\n",
       "                            ..\n",
       "Deals & Meals                4\n",
       "Dead Right                   4\n",
       "Thoughtonomy                 4\n",
       "Ongosa                       4\n",
       "Novolytics                   4\n",
       "Name: Company name, Length: 321, dtype: int64"
      ]
     },
     "execution_count": 43,
     "metadata": {},
     "output_type": "execute_result"
    }
   ],
   "source": [
    "startups_limit['Company name'].value_counts()\n",
    "# startups_limit.head()"
   ]
  },
  {
   "cell_type": "markdown",
   "metadata": {},
   "source": [
    "## Inner merge startups.csv and shares_limit.csv"
   ]
  },
  {
   "cell_type": "code",
   "execution_count": 44,
   "metadata": {},
   "outputs": [],
   "source": [
    "df = pd.merge(shares_limit,startups_limit,on='Company name',how='inner')\n",
    "# df = df[['Company name','Deal date','Investment amount','filing_date','Investor name','number_of_shares','percent_total','Current stage','Incorporation date','Exit date','Exit price']]\n",
    "df = df.sort_values(by=['Company name','last_name','Deal date','filing_date']) \n",
    "df=df.loc[(df['Deal date']<df['filing_date'] )]\n",
    "# drop deals whose deal date cannot match with filing date\n",
    "df=df.drop_duplicates(subset=['filing_date','first_name','last_name','Company name'], keep='last') \n",
    "#match 'filing_date' with the closest 'Deal date'"
   ]
  },
  {
   "cell_type": "code",
   "execution_count": 45,
   "metadata": {
    "scrolled": false
   },
   "outputs": [
    {
     "name": "stdout",
     "output_type": "stream",
     "text": [
      "<class 'pandas.core.frame.DataFrame'>\n",
      "Int64Index: 8445 entries, 4 to 51433\n",
      "Data columns (total 23 columns):\n",
      " #   Column              Non-Null Count  Dtype         \n",
      "---  ------              --------------  -----         \n",
      " 0   Company name        8445 non-null   object        \n",
      " 1   filing_date         8445 non-null   datetime64[ns]\n",
      " 2   total_shares        8445 non-null   float64       \n",
      " 3   round_shares        8445 non-null   object        \n",
      " 4   rounds              8445 non-null   object        \n",
      " 5   first_name          8445 non-null   object        \n",
      " 6   last_name           8445 non-null   object        \n",
      " 7   number_of_shares    8445 non-null   float64       \n",
      " 8   percent_total       8445 non-null   float64       \n",
      " 9   Deal date           8445 non-null   datetime64[ns]\n",
      " 10  Investment amount   8445 non-null   float64       \n",
      " 11  Incorporation date  8241 non-null   object        \n",
      " 12  Current stage       8445 non-null   object        \n",
      " 13  Exit date           8445 non-null   datetime64[ns]\n",
      " 14  Exit price          8445 non-null   float64       \n",
      " 15  first_industry      8445 non-null   object        \n",
      " 16  industry_code       4765 non-null   float64       \n",
      " 17  investor_count      3296 non-null   float64       \n",
      " 18  mean_val            8445 non-null   float64       \n",
      " 19  industry_level      8445 non-null   float64       \n",
      " 20  male                3258 non-null   float64       \n",
      " 21  female              3258 non-null   float64       \n",
      " 22  founder_count       3258 non-null   float64       \n",
      "dtypes: datetime64[ns](3), float64(12), object(8)\n",
      "memory usage: 1.5+ MB\n"
     ]
    }
   ],
   "source": [
    "# df['Company name'].value_counts()\n",
    "df.info()\n",
    "# df.head()"
   ]
  },
  {
   "cell_type": "markdown",
   "metadata": {},
   "source": [
    "## Calculate other features"
   ]
  },
  {
   "cell_type": "code",
   "execution_count": 46,
   "metadata": {},
   "outputs": [],
   "source": [
    "exit_share = rounds.loc[:,['Company name','filing_date','total_shares']]\n",
    "exit_share = exit_share.drop_duplicates(subset='Company name', keep='last')\n",
    "exit_share = exit_share.rename(columns={'total_shares':'exit_shares'})\n",
    "#Calculate the cumulative number of shares issued by the company at the time of investor exit\n",
    "exit_share = exit_share.drop(columns='filing_date')\n",
    "df = pd.merge(df, exit_share, on='Company name',how='left')"
   ]
  },
  {
   "cell_type": "code",
   "execution_count": 47,
   "metadata": {},
   "outputs": [
    {
     "name": "stderr",
     "output_type": "stream",
     "text": [
      "100%|████████████████████████████████████████████████████████████████████████████| 8445/8445 [00:04<00:00, 1865.42it/s]\n"
     ]
    }
   ],
   "source": [
    "length_column = df.shape[0]\n",
    "df['add_shares'] = ''\n",
    "for i in tqdm(range(0,length_column)):\n",
    "    if (df['last_name'].iloc[i] == df['last_name'].iloc[i-1])&(df['first_name'].iloc[i] == df['first_name'].iloc[i-1]):\n",
    "        df['add_shares'].iloc[i] = df['number_of_shares'].iloc[i]-df['number_of_shares'].iloc[i-1]\n",
    "    else:\n",
    "        df['add_shares'].iloc[i] = df['number_of_shares'].iloc[i]"
   ]
  },
  {
   "cell_type": "code",
   "execution_count": 48,
   "metadata": {},
   "outputs": [],
   "source": [
    "df['follow'] = (0)\n",
    "df.loc[(df['add_shares']>0) ,'follow'] = 1 #set the follow-on decisions as the label "
   ]
  },
  {
   "cell_type": "code",
   "execution_count": 49,
   "metadata": {},
   "outputs": [],
   "source": [
    "df['valuation'] = df['Investment amount']/df['round_shares']"
   ]
  },
  {
   "cell_type": "markdown",
   "metadata": {},
   "source": [
    "### Calculate Step_up Valuation"
   ]
  },
  {
   "cell_type": "code",
   "execution_count": 50,
   "metadata": {},
   "outputs": [
    {
     "name": "stderr",
     "output_type": "stream",
     "text": [
      "100%|██████████████████████████████████████████████████████████████████████████████| 311/311 [00:00<00:00, 1873.10it/s]\n"
     ]
    }
   ],
   "source": [
    "step_up = df.loc[:,['Company name','filing_date','rounds','valuation']]\n",
    "step_up = step_up.drop_duplicates(subset=['Company name','filing_date']).sort_values(by=['Company name','filing_date'])\n",
    "length_column = step_up.shape[0]\n",
    "step_up['value_chg'] = (0)\n",
    "for i in tqdm(range(0,length_column)):\n",
    "    if (step_up['Company name'].iloc[i] == step_up['Company name'].iloc[i-1]):\n",
    "        step_up['value_chg'].iloc[i] = step_up['valuation'].iloc[i]/step_up['valuation'].iloc[i-1]*step_up['value_chg'].iloc[i-1]\n",
    "    else:\n",
    "        step_up['value_chg'].iloc[i] = 1"
   ]
  },
  {
   "cell_type": "code",
   "execution_count": 51,
   "metadata": {},
   "outputs": [],
   "source": [
    "# step_up['v2/v1'] = ''\n",
    "# step_up['v3/v2'] = ''\n",
    "# step_up['v4/v3'] = ''\n",
    "# step_up.loc[(step_up['rounds']==2),'v2/v1']=step_up['value_chg']\n",
    "# step_up.loc[(step_up['rounds']==3),'v3/v2']=step_up['value_chg']\n",
    "# step_up.loc[(step_up['rounds']==3),'v2/v1']=step_up['v2/v1'].shift()\n",
    "# step_up.loc[(step_up['rounds']==4),'v4/v3']=step_up['value_chg']\n",
    "# step_up.loc[(step_up['rounds']==4),'v3/v2']=step_up['v3/v2'].shift()\n",
    "# step_up.loc[(step_up['rounds']==4),'v2/v1']=step_up['v2/v1'].shift()\n",
    "step_up = step_up.loc[:,['Company name','rounds','value_chg']]"
   ]
  },
  {
   "cell_type": "code",
   "execution_count": 52,
   "metadata": {},
   "outputs": [
    {
     "data": {
      "text/html": [
       "<div>\n",
       "<style scoped>\n",
       "    .dataframe tbody tr th:only-of-type {\n",
       "        vertical-align: middle;\n",
       "    }\n",
       "\n",
       "    .dataframe tbody tr th {\n",
       "        vertical-align: top;\n",
       "    }\n",
       "\n",
       "    .dataframe thead th {\n",
       "        text-align: right;\n",
       "    }\n",
       "</style>\n",
       "<table border=\"1\" class=\"dataframe\">\n",
       "  <thead>\n",
       "    <tr style=\"text-align: right;\">\n",
       "      <th></th>\n",
       "      <th>Company name</th>\n",
       "      <th>rounds</th>\n",
       "      <th>value_chg</th>\n",
       "    </tr>\n",
       "  </thead>\n",
       "  <tbody>\n",
       "    <tr>\n",
       "      <th>0</th>\n",
       "      <td>ATEEDA</td>\n",
       "      <td>1</td>\n",
       "      <td>1.000000</td>\n",
       "    </tr>\n",
       "    <tr>\n",
       "      <th>1</th>\n",
       "      <td>ATEEDA</td>\n",
       "      <td>2</td>\n",
       "      <td>2.395736</td>\n",
       "    </tr>\n",
       "    <tr>\n",
       "      <th>2</th>\n",
       "      <td>ATEEDA</td>\n",
       "      <td>3</td>\n",
       "      <td>-16.043576</td>\n",
       "    </tr>\n",
       "    <tr>\n",
       "      <th>3</th>\n",
       "      <td>ATEEDA</td>\n",
       "      <td>4</td>\n",
       "      <td>1.985387</td>\n",
       "    </tr>\n",
       "    <tr>\n",
       "      <th>261</th>\n",
       "      <td>Adbrain</td>\n",
       "      <td>1</td>\n",
       "      <td>1.000000</td>\n",
       "    </tr>\n",
       "  </tbody>\n",
       "</table>\n",
       "</div>"
      ],
      "text/plain": [
       "    Company name rounds  value_chg\n",
       "0         ATEEDA      1   1.000000\n",
       "1         ATEEDA      2   2.395736\n",
       "2         ATEEDA      3 -16.043576\n",
       "3         ATEEDA      4   1.985387\n",
       "261      Adbrain      1   1.000000"
      ]
     },
     "execution_count": 52,
     "metadata": {},
     "output_type": "execute_result"
    }
   ],
   "source": [
    "step_up.head()"
   ]
  },
  {
   "cell_type": "code",
   "execution_count": 53,
   "metadata": {},
   "outputs": [],
   "source": [
    "df = pd.merge(df,step_up,on=['Company name','rounds'],how='left')\n",
    "df = df.drop_duplicates(subset=['Company name','last_name','first_name','filing_date'])"
   ]
  },
  {
   "cell_type": "code",
   "execution_count": 54,
   "metadata": {},
   "outputs": [
    {
     "name": "stderr",
     "output_type": "stream",
     "text": [
      "100%|████████████████████████████████████████████████████████████████████████████| 8445/8445 [00:02<00:00, 3648.93it/s]\n"
     ]
    }
   ],
   "source": [
    "df = df.sort_values(by=['Company name','last_name','rounds'])\n",
    "length_column = df.shape[0]\n",
    "df['follow_count'] = (0)\n",
    "for i in tqdm(range(0,length_column)):\n",
    "    if (df['last_name'].iloc[i] == df['last_name'].iloc[i-1])&(df['first_name'].iloc[i] == df['first_name'].iloc[i-1])&(df['Company name'].iloc[i] == df['Company name'].iloc[i-1]):\n",
    "        df['follow_count'].iloc[i] = df['follow'].iloc[i]+df['follow_count'].iloc[i-1]"
   ]
  },
  {
   "cell_type": "code",
   "execution_count": 55,
   "metadata": {
    "scrolled": true
   },
   "outputs": [
    {
     "name": "stdout",
     "output_type": "stream",
     "text": [
      "<class 'pandas.core.frame.DataFrame'>\n",
      "Int64Index: 8445 entries, 0 to 8444\n",
      "Data columns (total 29 columns):\n",
      " #   Column              Non-Null Count  Dtype         \n",
      "---  ------              --------------  -----         \n",
      " 0   Company name        8445 non-null   object        \n",
      " 1   filing_date         8445 non-null   datetime64[ns]\n",
      " 2   total_shares        8445 non-null   float64       \n",
      " 3   round_shares        8445 non-null   object        \n",
      " 4   rounds              8445 non-null   object        \n",
      " 5   first_name          8445 non-null   object        \n",
      " 6   last_name           8445 non-null   object        \n",
      " 7   number_of_shares    8445 non-null   float64       \n",
      " 8   percent_total       8445 non-null   float64       \n",
      " 9   Deal date           8445 non-null   datetime64[ns]\n",
      " 10  Investment amount   8445 non-null   float64       \n",
      " 11  Incorporation date  8241 non-null   object        \n",
      " 12  Current stage       8445 non-null   object        \n",
      " 13  Exit date           8445 non-null   datetime64[ns]\n",
      " 14  Exit price          8445 non-null   float64       \n",
      " 15  first_industry      8445 non-null   object        \n",
      " 16  industry_code       4765 non-null   float64       \n",
      " 17  investor_count      3296 non-null   float64       \n",
      " 18  mean_val            8445 non-null   float64       \n",
      " 19  industry_level      8445 non-null   float64       \n",
      " 20  male                3258 non-null   float64       \n",
      " 21  female              3258 non-null   float64       \n",
      " 22  founder_count       3258 non-null   float64       \n",
      " 23  exit_shares         8445 non-null   float64       \n",
      " 24  add_shares          8445 non-null   object        \n",
      " 25  follow              8445 non-null   int64         \n",
      " 26  valuation           8445 non-null   object        \n",
      " 27  value_chg           8445 non-null   float64       \n",
      " 28  follow_count        8445 non-null   int64         \n",
      "dtypes: datetime64[ns](3), float64(14), int64(2), object(10)\n",
      "memory usage: 1.9+ MB\n"
     ]
    }
   ],
   "source": [
    "df.info()"
   ]
  },
  {
   "cell_type": "markdown",
   "metadata": {},
   "source": [
    "## Calculate the number of follow-on investors in the last rounds"
   ]
  },
  {
   "cell_type": "code",
   "execution_count": 56,
   "metadata": {},
   "outputs": [],
   "source": [
    "rate = df.sort_values(by=['Company name','rounds'])\n",
    "rate = rate.drop_duplicates()\n",
    "# rate['Company name'].unique()"
   ]
  },
  {
   "cell_type": "code",
   "execution_count": 57,
   "metadata": {},
   "outputs": [
    {
     "name": "stderr",
     "output_type": "stream",
     "text": [
      "100%|████████████████████████████████████████████████████████████████████████████| 8445/8445 [00:07<00:00, 1092.76it/s]\n"
     ]
    }
   ],
   "source": [
    "rate = rate.loc[:,['Company name','rounds','follow']]\n",
    "length_column = rate.shape[0]\n",
    "rate['num'] = 0\n",
    "rate['fo'] = 0\n",
    "for i in tqdm(range(0,length_column)):\n",
    "    if rate['rounds'].iloc[i]==rate['rounds'].iloc[i-1]:\n",
    "        rate['num'].iloc[i] = rate['num'].iloc[i-1]+1\n",
    "        rate['fo'].iloc[i] = rate['fo'].iloc[i-1]+rate['follow'].iloc[i]\n",
    "    else:\n",
    "        rate['num'].iloc[i] = 1\n",
    "        rate['fo'].iloc[i] = rate['follow'].iloc[i]"
   ]
  },
  {
   "cell_type": "code",
   "execution_count": 58,
   "metadata": {},
   "outputs": [],
   "source": [
    "rate = rate.drop_duplicates(subset=['Company name','rounds'],keep='last')\n",
    "rate['rate'] = round(rate['fo']/rate['num'],2)\n",
    "rate = rate.loc[:,['Company name','rounds','rate']]\n",
    "rate = rate.loc[rate['rounds']>1]\n",
    "rate['rounds'] = rate['rounds']+1\n",
    "df = pd.merge(df,rate,on=['Company name','rounds'],how='left')"
   ]
  },
  {
   "cell_type": "code",
   "execution_count": 59,
   "metadata": {},
   "outputs": [],
   "source": [
    "df.to_csv(r'df.csv')  "
   ]
  },
  {
   "cell_type": "markdown",
   "metadata": {},
   "source": [
    "## Calculate TVPI(total value to paid-in)"
   ]
  },
  {
   "cell_type": "code",
   "execution_count": 60,
   "metadata": {},
   "outputs": [
    {
     "name": "stderr",
     "output_type": "stream",
     "text": [
      "100%|████████████████████████████████████████████████████████████████████████████| 8445/8445 [00:06<00:00, 1324.70it/s]\n"
     ]
    }
   ],
   "source": [
    "df_tvpi = df.sort_values(by=['Company name','last_name','rounds'])\n",
    "length_column = df_tvpi.shape[0]\n",
    "df_tvpi['paid_in'] = ''\n",
    "df_tvpi['follow_count'] = (0)\n",
    "for i in tqdm(range(0,length_column)):\n",
    "    if (df_tvpi['last_name'].iloc[i] == df_tvpi['last_name'].iloc[i-1])&(df_tvpi['first_name'].iloc[i] == df_tvpi['first_name'].iloc[i-1])&(df_tvpi['Company name'].iloc[i] == df_tvpi['Company name'].iloc[i-1]):\n",
    "        df_tvpi['paid_in'].iloc[i] = df_tvpi['valuation'].iloc[i]*df_tvpi['add_shares'].iloc[i]+df_tvpi['paid_in'].iloc[i-1]\n",
    "        df_tvpi['follow_count'].iloc[i] = df_tvpi['follow'].iloc[i]+df_tvpi['follow_count'].iloc[i-1]\n",
    "    else:\n",
    "        df_tvpi['paid_in'].iloc[i] = df_tvpi['valuation'].iloc[i]*df_tvpi['add_shares'].iloc[i]\n",
    "#calculate the cumulative paid-in of investors"
   ]
  },
  {
   "cell_type": "code",
   "execution_count": 61,
   "metadata": {},
   "outputs": [
    {
     "data": {
      "text/html": [
       "<div>\n",
       "<style scoped>\n",
       "    .dataframe tbody tr th:only-of-type {\n",
       "        vertical-align: middle;\n",
       "    }\n",
       "\n",
       "    .dataframe tbody tr th {\n",
       "        vertical-align: top;\n",
       "    }\n",
       "\n",
       "    .dataframe thead th {\n",
       "        text-align: right;\n",
       "    }\n",
       "</style>\n",
       "<table border=\"1\" class=\"dataframe\">\n",
       "  <thead>\n",
       "    <tr style=\"text-align: right;\">\n",
       "      <th></th>\n",
       "      <th>Company name</th>\n",
       "      <th>filing_date</th>\n",
       "      <th>total_shares</th>\n",
       "      <th>round_shares</th>\n",
       "      <th>rounds</th>\n",
       "      <th>first_name</th>\n",
       "      <th>last_name</th>\n",
       "      <th>number_of_shares</th>\n",
       "      <th>percent_total</th>\n",
       "      <th>Deal date</th>\n",
       "      <th>...</th>\n",
       "      <th>female</th>\n",
       "      <th>founder_count</th>\n",
       "      <th>exit_shares</th>\n",
       "      <th>add_shares</th>\n",
       "      <th>follow</th>\n",
       "      <th>valuation</th>\n",
       "      <th>value_chg</th>\n",
       "      <th>follow_count</th>\n",
       "      <th>rate</th>\n",
       "      <th>paid_in</th>\n",
       "    </tr>\n",
       "  </thead>\n",
       "  <tbody>\n",
       "    <tr>\n",
       "      <th>7818</th>\n",
       "      <td>Upstream</td>\n",
       "      <td>2015-06-13</td>\n",
       "      <td>146053.853296</td>\n",
       "      <td>146053.853296</td>\n",
       "      <td>1</td>\n",
       "      <td>ELIAS</td>\n",
       "      <td>VYZAS</td>\n",
       "      <td>1573.0</td>\n",
       "      <td>1.077</td>\n",
       "      <td>2015-04-30</td>\n",
       "      <td>...</td>\n",
       "      <td>0.0</td>\n",
       "      <td>1.0</td>\n",
       "      <td>208344.370861</td>\n",
       "      <td>1573.0</td>\n",
       "      <td>1</td>\n",
       "      <td>9.229048</td>\n",
       "      <td>1.000000</td>\n",
       "      <td>0</td>\n",
       "      <td>NaN</td>\n",
       "      <td>14517.29226</td>\n",
       "    </tr>\n",
       "    <tr>\n",
       "      <th>7819</th>\n",
       "      <td>Upstream</td>\n",
       "      <td>2016-06-12</td>\n",
       "      <td>163005.181347</td>\n",
       "      <td>16951.328051</td>\n",
       "      <td>2</td>\n",
       "      <td>ELIAS</td>\n",
       "      <td>VYZAS</td>\n",
       "      <td>1573.0</td>\n",
       "      <td>0.965</td>\n",
       "      <td>2016-06-01</td>\n",
       "      <td>...</td>\n",
       "      <td>0.0</td>\n",
       "      <td>1.0</td>\n",
       "      <td>208344.370861</td>\n",
       "      <td>0.0</td>\n",
       "      <td>0</td>\n",
       "      <td>41.907985</td>\n",
       "      <td>4.540878</td>\n",
       "      <td>0</td>\n",
       "      <td>NaN</td>\n",
       "      <td>14517.29226</td>\n",
       "    </tr>\n",
       "    <tr>\n",
       "      <th>7820</th>\n",
       "      <td>Upstream</td>\n",
       "      <td>2017-06-12</td>\n",
       "      <td>173428.886439</td>\n",
       "      <td>10423.705092</td>\n",
       "      <td>3</td>\n",
       "      <td>ELIAS</td>\n",
       "      <td>VYZAS</td>\n",
       "      <td>1573.0</td>\n",
       "      <td>0.907</td>\n",
       "      <td>2017-03-09</td>\n",
       "      <td>...</td>\n",
       "      <td>0.0</td>\n",
       "      <td>1.0</td>\n",
       "      <td>208344.370861</td>\n",
       "      <td>0.0</td>\n",
       "      <td>0</td>\n",
       "      <td>19.183774</td>\n",
       "      <td>2.078630</td>\n",
       "      <td>0</td>\n",
       "      <td>0.25</td>\n",
       "      <td>14517.29226</td>\n",
       "    </tr>\n",
       "    <tr>\n",
       "      <th>7821</th>\n",
       "      <td>Upstream</td>\n",
       "      <td>2018-06-12</td>\n",
       "      <td>208344.370861</td>\n",
       "      <td>34915.484422</td>\n",
       "      <td>4</td>\n",
       "      <td>ELIAS</td>\n",
       "      <td>VYZAS</td>\n",
       "      <td>1573.0</td>\n",
       "      <td>0.755</td>\n",
       "      <td>2017-06-22</td>\n",
       "      <td>...</td>\n",
       "      <td>0.0</td>\n",
       "      <td>1.0</td>\n",
       "      <td>208344.370861</td>\n",
       "      <td>0.0</td>\n",
       "      <td>0</td>\n",
       "      <td>16.167469</td>\n",
       "      <td>1.751802</td>\n",
       "      <td>0</td>\n",
       "      <td>0.50</td>\n",
       "      <td>14517.29226</td>\n",
       "    </tr>\n",
       "  </tbody>\n",
       "</table>\n",
       "<p>4 rows × 31 columns</p>\n",
       "</div>"
      ],
      "text/plain": [
       "     Company name filing_date   total_shares   round_shares rounds first_name  \\\n",
       "7818     Upstream  2015-06-13  146053.853296  146053.853296      1      ELIAS   \n",
       "7819     Upstream  2016-06-12  163005.181347   16951.328051      2      ELIAS   \n",
       "7820     Upstream  2017-06-12  173428.886439   10423.705092      3      ELIAS   \n",
       "7821     Upstream  2018-06-12  208344.370861   34915.484422      4      ELIAS   \n",
       "\n",
       "     last_name  number_of_shares  percent_total  Deal date  ...  female  \\\n",
       "7818     VYZAS            1573.0          1.077 2015-04-30  ...     0.0   \n",
       "7819     VYZAS            1573.0          0.965 2016-06-01  ...     0.0   \n",
       "7820     VYZAS            1573.0          0.907 2017-03-09  ...     0.0   \n",
       "7821     VYZAS            1573.0          0.755 2017-06-22  ...     0.0   \n",
       "\n",
       "     founder_count    exit_shares add_shares  follow  valuation  value_chg  \\\n",
       "7818           1.0  208344.370861     1573.0       1   9.229048   1.000000   \n",
       "7819           1.0  208344.370861        0.0       0  41.907985   4.540878   \n",
       "7820           1.0  208344.370861        0.0       0  19.183774   2.078630   \n",
       "7821           1.0  208344.370861        0.0       0  16.167469   1.751802   \n",
       "\n",
       "      follow_count  rate      paid_in  \n",
       "7818             0   NaN  14517.29226  \n",
       "7819             0   NaN  14517.29226  \n",
       "7820             0  0.25  14517.29226  \n",
       "7821             0  0.50  14517.29226  \n",
       "\n",
       "[4 rows x 31 columns]"
      ]
     },
     "execution_count": 61,
     "metadata": {},
     "output_type": "execute_result"
    }
   ],
   "source": [
    "df_tvpi.loc[df_tvpi['last_name']=='VYZAS']"
   ]
  },
  {
   "cell_type": "code",
   "execution_count": 62,
   "metadata": {},
   "outputs": [],
   "source": [
    "df_tvpi = df_tvpi.drop_duplicates(subset=['Company name','first_name','last_name'], keep='last')\n",
    "df_tvpi['total_value'] = df_tvpi['Exit price']/df_tvpi['exit_shares']*df_tvpi['number_of_shares']\n",
    "df_tvpi['TVPI'] = df_tvpi['total_value']/df_tvpi['paid_in']"
   ]
  },
  {
   "cell_type": "code",
   "execution_count": 63,
   "metadata": {},
   "outputs": [
    {
     "name": "stdout",
     "output_type": "stream",
     "text": [
      "<class 'pandas.core.frame.DataFrame'>\n",
      "Int64Index: 3613 entries, 3 to 8444\n",
      "Data columns (total 33 columns):\n",
      " #   Column              Non-Null Count  Dtype         \n",
      "---  ------              --------------  -----         \n",
      " 0   Company name        3613 non-null   object        \n",
      " 1   filing_date         3613 non-null   datetime64[ns]\n",
      " 2   total_shares        3613 non-null   float64       \n",
      " 3   round_shares        3613 non-null   object        \n",
      " 4   rounds              3613 non-null   object        \n",
      " 5   first_name          3613 non-null   object        \n",
      " 6   last_name           3613 non-null   object        \n",
      " 7   number_of_shares    3613 non-null   float64       \n",
      " 8   percent_total       3613 non-null   float64       \n",
      " 9   Deal date           3613 non-null   datetime64[ns]\n",
      " 10  Investment amount   3613 non-null   float64       \n",
      " 11  Incorporation date  3539 non-null   object        \n",
      " 12  Current stage       3613 non-null   object        \n",
      " 13  Exit date           3613 non-null   datetime64[ns]\n",
      " 14  Exit price          3613 non-null   float64       \n",
      " 15  first_industry      3613 non-null   object        \n",
      " 16  industry_code       2119 non-null   float64       \n",
      " 17  investor_count      1546 non-null   float64       \n",
      " 18  mean_val            3613 non-null   float64       \n",
      " 19  industry_level      3613 non-null   float64       \n",
      " 20  male                1552 non-null   float64       \n",
      " 21  female              1552 non-null   float64       \n",
      " 22  founder_count       1552 non-null   float64       \n",
      " 23  exit_shares         3613 non-null   float64       \n",
      " 24  add_shares          3613 non-null   object        \n",
      " 25  follow              3613 non-null   int64         \n",
      " 26  valuation           3613 non-null   object        \n",
      " 27  value_chg           3613 non-null   float64       \n",
      " 28  follow_count        3613 non-null   int64         \n",
      " 29  rate                3308 non-null   float64       \n",
      " 30  paid_in             3613 non-null   object        \n",
      " 31  total_value         3613 non-null   float64       \n",
      " 32  TVPI                3613 non-null   object        \n",
      "dtypes: datetime64[ns](3), float64(16), int64(2), object(12)\n",
      "memory usage: 959.7+ KB\n"
     ]
    }
   ],
   "source": [
    "df_tvpi.info()"
   ]
  },
  {
   "cell_type": "code",
   "execution_count": 64,
   "metadata": {},
   "outputs": [],
   "source": [
    "df_tvpi.to_csv(r'df_tvpi.csv')  "
   ]
  },
  {
   "cell_type": "code",
   "execution_count": 65,
   "metadata": {},
   "outputs": [
    {
     "data": {
      "text/plain": [
       "0.13248259236984766"
      ]
     },
     "execution_count": 65,
     "metadata": {},
     "output_type": "execute_result"
    }
   ],
   "source": [
    "mean_TVPI = np.mean(df_tvpi['TVPI'].values.tolist())\n",
    "mean_TVPI"
   ]
  },
  {
   "cell_type": "markdown",
   "metadata": {},
   "source": [
    "## Add features: 'rate', 'first_industry', 'industry_level'"
   ]
  },
  {
   "cell_type": "code",
   "execution_count": 66,
   "metadata": {},
   "outputs": [],
   "source": [
    "# rate = pd.read_csv('rate.csv')\n",
    "# del rate['Unnamed: 0']\n",
    "# section_limit = pd.read_csv('section_limit.csv')\n",
    "# del section_limit['Unnamed: 0']\n",
    "# ind_val = pd.read_csv('ind_val.csv')\n",
    "# del ind_val['Unnamed: 0']"
   ]
  },
  {
   "cell_type": "code",
   "execution_count": 67,
   "metadata": {},
   "outputs": [],
   "source": [
    "# df1 = pd.merge(df,rate,on=['Company name','rounds'],how='left')\n",
    "# df1['rate'] = df1['rate'].fillna(1)\n",
    "# df2 = pd.merge(df1,section_limit,on=['first_industry','rounds'],how='left')\n",
    "# df2['first_industry'] = df2['first_industry'].fillna('Other')\n",
    "# df3 = pd.merge(df2,ind_val,on=['first_industry'],how='left')\n",
    "# df3['industry_level'] = df3['Investment amount'] - df3['mean_val']"
   ]
  },
  {
   "cell_type": "code",
   "execution_count": 68,
   "metadata": {},
   "outputs": [],
   "source": [
    "# map_ind = pd.DataFrame(df3['first_industry'].unique().tolist()).reset_index().rename(columns={0:'first_industry','index':'industry_code'})\n",
    "# df3 = pd.merge(df3,map_ind,on='first_industry',how='left')"
   ]
  },
  {
   "cell_type": "markdown",
   "metadata": {},
   "source": [
    "## Fill null data"
   ]
  },
  {
   "cell_type": "code",
   "execution_count": 69,
   "metadata": {},
   "outputs": [],
   "source": [
    "df['male_ratio'] = df['male']/(df['male']+df['female'])\n",
    "df['male_ratio'] = df['male_ratio'].fillna(0.5)"
   ]
  },
  {
   "cell_type": "code",
   "execution_count": 70,
   "metadata": {},
   "outputs": [],
   "source": [
    "df['label'] = df['follow'].astype(int) "
   ]
  },
  {
   "cell_type": "code",
   "execution_count": 71,
   "metadata": {},
   "outputs": [],
   "source": [
    "df['investor_count'] = df['investor_count'].fillna(df['investor_count'].mean())\n",
    "df['founder_count'] = df['founder_count'].fillna(df['founder_count'].mean())"
   ]
  },
  {
   "cell_type": "code",
   "execution_count": 72,
   "metadata": {},
   "outputs": [],
   "source": [
    "# df['value_chg'] = (df['value_chg'] - df['value_chg'].min()) / (df['value_chg'].max() - df['value_chg'].min())"
   ]
  },
  {
   "cell_type": "code",
   "execution_count": 73,
   "metadata": {},
   "outputs": [],
   "source": [
    "# df['percent_total'] = (df['percent_total'] - df['percent_total'].min()) / (df['percent_total'].max() - df['percent_total'].min())"
   ]
  },
  {
   "cell_type": "code",
   "execution_count": 74,
   "metadata": {},
   "outputs": [],
   "source": [
    "df.to_csv('training_data.csv')"
   ]
  },
  {
   "cell_type": "code",
   "execution_count": 75,
   "metadata": {},
   "outputs": [
    {
     "name": "stdout",
     "output_type": "stream",
     "text": [
      "<class 'pandas.core.frame.DataFrame'>\n",
      "Int64Index: 8445 entries, 0 to 8444\n",
      "Data columns (total 32 columns):\n",
      " #   Column              Non-Null Count  Dtype         \n",
      "---  ------              --------------  -----         \n",
      " 0   Company name        8445 non-null   object        \n",
      " 1   filing_date         8445 non-null   datetime64[ns]\n",
      " 2   total_shares        8445 non-null   float64       \n",
      " 3   round_shares        8445 non-null   object        \n",
      " 4   rounds              8445 non-null   object        \n",
      " 5   first_name          8445 non-null   object        \n",
      " 6   last_name           8445 non-null   object        \n",
      " 7   number_of_shares    8445 non-null   float64       \n",
      " 8   percent_total       8445 non-null   float64       \n",
      " 9   Deal date           8445 non-null   datetime64[ns]\n",
      " 10  Investment amount   8445 non-null   float64       \n",
      " 11  Incorporation date  8241 non-null   object        \n",
      " 12  Current stage       8445 non-null   object        \n",
      " 13  Exit date           8445 non-null   datetime64[ns]\n",
      " 14  Exit price          8445 non-null   float64       \n",
      " 15  first_industry      8445 non-null   object        \n",
      " 16  industry_code       4765 non-null   float64       \n",
      " 17  investor_count      8445 non-null   float64       \n",
      " 18  mean_val            8445 non-null   float64       \n",
      " 19  industry_level      8445 non-null   float64       \n",
      " 20  male                3258 non-null   float64       \n",
      " 21  female              3258 non-null   float64       \n",
      " 22  founder_count       8445 non-null   float64       \n",
      " 23  exit_shares         8445 non-null   float64       \n",
      " 24  add_shares          8445 non-null   object        \n",
      " 25  follow              8445 non-null   int64         \n",
      " 26  valuation           8445 non-null   object        \n",
      " 27  value_chg           8445 non-null   float64       \n",
      " 28  follow_count        8445 non-null   int64         \n",
      " 29  rate                5344 non-null   float64       \n",
      " 30  male_ratio          8445 non-null   float64       \n",
      " 31  label               8445 non-null   int32         \n",
      "dtypes: datetime64[ns](3), float64(16), int32(1), int64(2), object(10)\n",
      "memory usage: 2.1+ MB\n"
     ]
    }
   ],
   "source": [
    "df.info()"
   ]
  },
  {
   "cell_type": "code",
   "execution_count": null,
   "metadata": {},
   "outputs": [],
   "source": []
  },
  {
   "cell_type": "code",
   "execution_count": null,
   "metadata": {},
   "outputs": [],
   "source": []
  }
 ],
 "metadata": {
  "kernelspec": {
   "display_name": "Python 3",
   "language": "python",
   "name": "python3"
  },
  "language_info": {
   "codemirror_mode": {
    "name": "ipython",
    "version": 3
   },
   "file_extension": ".py",
   "mimetype": "text/x-python",
   "name": "python",
   "nbconvert_exporter": "python",
   "pygments_lexer": "ipython3",
   "version": "3.8.5"
  }
 },
 "nbformat": 4,
 "nbformat_minor": 4
}
