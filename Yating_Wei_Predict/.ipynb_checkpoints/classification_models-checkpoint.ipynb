{
 "cells": [
  {
   "cell_type": "code",
   "execution_count": 63,
   "metadata": {},
   "outputs": [],
   "source": [
    "import warnings; warnings.simplefilter('ignore')    \n",
    "import pandas as pd\n",
    "import numpy as np\n",
    "\n",
    "%matplotlib inline\n",
    "# from scipy.stats import norm\n",
    "from matplotlib import pyplot as plt\n",
    "from tqdm import *"
   ]
  },
  {
   "cell_type": "code",
   "execution_count": 64,
   "metadata": {},
   "outputs": [],
   "source": [
    "df = pd.read_csv('df.csv')\n",
    "del df['Unnamed: 0']"
   ]
  },
  {
   "cell_type": "code",
   "execution_count": 65,
   "metadata": {},
   "outputs": [],
   "source": [
    "rate = pd.read_csv('rate.csv')\n",
    "del rate['Unnamed: 0']"
   ]
  },
  {
   "cell_type": "code",
   "execution_count": 66,
   "metadata": {},
   "outputs": [
    {
     "data": {
      "text/html": [
       "<div>\n",
       "<style scoped>\n",
       "    .dataframe tbody tr th:only-of-type {\n",
       "        vertical-align: middle;\n",
       "    }\n",
       "\n",
       "    .dataframe tbody tr th {\n",
       "        vertical-align: top;\n",
       "    }\n",
       "\n",
       "    .dataframe thead th {\n",
       "        text-align: right;\n",
       "    }\n",
       "</style>\n",
       "<table border=\"1\" class=\"dataframe\">\n",
       "  <thead>\n",
       "    <tr style=\"text-align: right;\">\n",
       "      <th></th>\n",
       "      <th>Company name</th>\n",
       "      <th>rounds</th>\n",
       "      <th>rate</th>\n",
       "    </tr>\n",
       "  </thead>\n",
       "  <tbody>\n",
       "    <tr>\n",
       "      <th>0</th>\n",
       "      <td>ATEEDA</td>\n",
       "      <td>3</td>\n",
       "      <td>0.83</td>\n",
       "    </tr>\n",
       "    <tr>\n",
       "      <th>1</th>\n",
       "      <td>ATEEDA</td>\n",
       "      <td>4</td>\n",
       "      <td>0.32</td>\n",
       "    </tr>\n",
       "    <tr>\n",
       "      <th>2</th>\n",
       "      <td>ATEEDA</td>\n",
       "      <td>5</td>\n",
       "      <td>0.80</td>\n",
       "    </tr>\n",
       "    <tr>\n",
       "      <th>3</th>\n",
       "      <td>Adbrain</td>\n",
       "      <td>3</td>\n",
       "      <td>1.00</td>\n",
       "    </tr>\n",
       "    <tr>\n",
       "      <th>4</th>\n",
       "      <td>Adbrain</td>\n",
       "      <td>4</td>\n",
       "      <td>0.20</td>\n",
       "    </tr>\n",
       "  </tbody>\n",
       "</table>\n",
       "</div>"
      ],
      "text/plain": [
       "  Company name  rounds  rate\n",
       "0       ATEEDA       3  0.83\n",
       "1       ATEEDA       4  0.32\n",
       "2       ATEEDA       5  0.80\n",
       "3      Adbrain       3  1.00\n",
       "4      Adbrain       4  0.20"
      ]
     },
     "execution_count": 66,
     "metadata": {},
     "output_type": "execute_result"
    }
   ],
   "source": [
    "rate.head()"
   ]
  },
  {
   "cell_type": "code",
   "execution_count": 67,
   "metadata": {},
   "outputs": [],
   "source": [
    "section_limit = pd.read_csv('section_limit.csv')\n",
    "del section_limit['Unnamed: 0']"
   ]
  },
  {
   "cell_type": "code",
   "execution_count": 68,
   "metadata": {},
   "outputs": [
    {
     "data": {
      "text/html": [
       "<div>\n",
       "<style scoped>\n",
       "    .dataframe tbody tr th:only-of-type {\n",
       "        vertical-align: middle;\n",
       "    }\n",
       "\n",
       "    .dataframe tbody tr th {\n",
       "        vertical-align: top;\n",
       "    }\n",
       "\n",
       "    .dataframe thead th {\n",
       "        text-align: right;\n",
       "    }\n",
       "</style>\n",
       "<table border=\"1\" class=\"dataframe\">\n",
       "  <thead>\n",
       "    <tr style=\"text-align: right;\">\n",
       "      <th></th>\n",
       "      <th>first_industry</th>\n",
       "      <th>industry_val</th>\n",
       "      <th>rounds</th>\n",
       "    </tr>\n",
       "  </thead>\n",
       "  <tbody>\n",
       "    <tr>\n",
       "      <th>0</th>\n",
       "      <td>Administrative Services</td>\n",
       "      <td>NaN</td>\n",
       "      <td>1</td>\n",
       "    </tr>\n",
       "    <tr>\n",
       "      <th>1</th>\n",
       "      <td>Administrative Services</td>\n",
       "      <td>0.30</td>\n",
       "      <td>2</td>\n",
       "    </tr>\n",
       "    <tr>\n",
       "      <th>2</th>\n",
       "      <td>Administrative Services</td>\n",
       "      <td>0.83</td>\n",
       "      <td>3</td>\n",
       "    </tr>\n",
       "    <tr>\n",
       "      <th>3</th>\n",
       "      <td>Administrative Services</td>\n",
       "      <td>289.84</td>\n",
       "      <td>4</td>\n",
       "    </tr>\n",
       "    <tr>\n",
       "      <th>4</th>\n",
       "      <td>Advertising</td>\n",
       "      <td>10.30</td>\n",
       "      <td>1</td>\n",
       "    </tr>\n",
       "  </tbody>\n",
       "</table>\n",
       "</div>"
      ],
      "text/plain": [
       "            first_industry  industry_val  rounds\n",
       "0  Administrative Services           NaN       1\n",
       "1  Administrative Services          0.30       2\n",
       "2  Administrative Services          0.83       3\n",
       "3  Administrative Services        289.84       4\n",
       "4              Advertising         10.30       1"
      ]
     },
     "execution_count": 68,
     "metadata": {},
     "output_type": "execute_result"
    }
   ],
   "source": [
    "section_limit.head()"
   ]
  },
  {
   "cell_type": "code",
   "execution_count": 69,
   "metadata": {},
   "outputs": [],
   "source": [
    "df1 = pd.merge(df,rate,on=['Company name','rounds'],how='left')"
   ]
  },
  {
   "cell_type": "code",
   "execution_count": 70,
   "metadata": {},
   "outputs": [],
   "source": [
    "df1['rate'] = df1['rate'].fillna(1)"
   ]
  },
  {
   "cell_type": "code",
   "execution_count": 71,
   "metadata": {},
   "outputs": [],
   "source": [
    "df2 = pd.merge(df1,section_limit,on=['first_industry','rounds'],how='left')"
   ]
  },
  {
   "cell_type": "code",
   "execution_count": 72,
   "metadata": {},
   "outputs": [
    {
     "data": {
      "text/html": [
       "<div>\n",
       "<style scoped>\n",
       "    .dataframe tbody tr th:only-of-type {\n",
       "        vertical-align: middle;\n",
       "    }\n",
       "\n",
       "    .dataframe tbody tr th {\n",
       "        vertical-align: top;\n",
       "    }\n",
       "\n",
       "    .dataframe thead th {\n",
       "        text-align: right;\n",
       "    }\n",
       "</style>\n",
       "<table border=\"1\" class=\"dataframe\">\n",
       "  <thead>\n",
       "    <tr style=\"text-align: right;\">\n",
       "      <th></th>\n",
       "      <th>Company name</th>\n",
       "      <th>filing_date</th>\n",
       "      <th>total_shares</th>\n",
       "      <th>round_shares</th>\n",
       "      <th>rounds</th>\n",
       "      <th>first_name</th>\n",
       "      <th>last_name</th>\n",
       "      <th>number_of_shares</th>\n",
       "      <th>percent_total</th>\n",
       "      <th>Deal date</th>\n",
       "      <th>...</th>\n",
       "      <th>add_shares</th>\n",
       "      <th>follow</th>\n",
       "      <th>valuation</th>\n",
       "      <th>first_industry</th>\n",
       "      <th>v2/v1</th>\n",
       "      <th>v3/v2</th>\n",
       "      <th>v4/v3</th>\n",
       "      <th>follow_count</th>\n",
       "      <th>rate</th>\n",
       "      <th>industry_val</th>\n",
       "    </tr>\n",
       "  </thead>\n",
       "  <tbody>\n",
       "    <tr>\n",
       "      <th>0</th>\n",
       "      <td>ATEEDA</td>\n",
       "      <td>2013-06-30</td>\n",
       "      <td>2.739548e+05</td>\n",
       "      <td>2.739548e+05</td>\n",
       "      <td>1</td>\n",
       "      <td>JOHN COLIN</td>\n",
       "      <td>ADAMS</td>\n",
       "      <td>559.0</td>\n",
       "      <td>0.204</td>\n",
       "      <td>2012-05-24</td>\n",
       "      <td>...</td>\n",
       "      <td>559.0</td>\n",
       "      <td>1</td>\n",
       "      <td>3.650241</td>\n",
       "      <td>NaN</td>\n",
       "      <td>NaN</td>\n",
       "      <td>NaN</td>\n",
       "      <td>NaN</td>\n",
       "      <td>0</td>\n",
       "      <td>1.00</td>\n",
       "      <td>NaN</td>\n",
       "    </tr>\n",
       "    <tr>\n",
       "      <th>1</th>\n",
       "      <td>ATEEDA</td>\n",
       "      <td>2014-06-30</td>\n",
       "      <td>3.597177e+05</td>\n",
       "      <td>8.576293e+04</td>\n",
       "      <td>2</td>\n",
       "      <td>JOHN COLIN</td>\n",
       "      <td>ADAMS</td>\n",
       "      <td>1702.0</td>\n",
       "      <td>0.473</td>\n",
       "      <td>2014-05-31</td>\n",
       "      <td>...</td>\n",
       "      <td>1143.0</td>\n",
       "      <td>1</td>\n",
       "      <td>8.745013</td>\n",
       "      <td>NaN</td>\n",
       "      <td>2.395736</td>\n",
       "      <td>NaN</td>\n",
       "      <td>NaN</td>\n",
       "      <td>1</td>\n",
       "      <td>1.00</td>\n",
       "      <td>NaN</td>\n",
       "    </tr>\n",
       "    <tr>\n",
       "      <th>2</th>\n",
       "      <td>ATEEDA</td>\n",
       "      <td>2015-06-30</td>\n",
       "      <td>3.469110e+05</td>\n",
       "      <td>-1.280670e+04</td>\n",
       "      <td>3</td>\n",
       "      <td>JOHN COLIN</td>\n",
       "      <td>ADAMS</td>\n",
       "      <td>1702.0</td>\n",
       "      <td>0.491</td>\n",
       "      <td>2014-05-31</td>\n",
       "      <td>...</td>\n",
       "      <td>0.0</td>\n",
       "      <td>0</td>\n",
       "      <td>-58.562924</td>\n",
       "      <td>NaN</td>\n",
       "      <td>2.395736</td>\n",
       "      <td>-16.043576</td>\n",
       "      <td>NaN</td>\n",
       "      <td>1</td>\n",
       "      <td>0.83</td>\n",
       "      <td>NaN</td>\n",
       "    </tr>\n",
       "    <tr>\n",
       "      <th>3</th>\n",
       "      <td>ATEEDA</td>\n",
       "      <td>2016-06-30</td>\n",
       "      <td>4.297006e+05</td>\n",
       "      <td>8.278960e+04</td>\n",
       "      <td>4</td>\n",
       "      <td>JOHN COLIN</td>\n",
       "      <td>ADAMS</td>\n",
       "      <td>3082.0</td>\n",
       "      <td>0.717</td>\n",
       "      <td>2015-11-19</td>\n",
       "      <td>...</td>\n",
       "      <td>1380.0</td>\n",
       "      <td>1</td>\n",
       "      <td>7.247142</td>\n",
       "      <td>NaN</td>\n",
       "      <td>2.395736</td>\n",
       "      <td>-16.043576</td>\n",
       "      <td>1.985387</td>\n",
       "      <td>2</td>\n",
       "      <td>0.32</td>\n",
       "      <td>NaN</td>\n",
       "    </tr>\n",
       "    <tr>\n",
       "      <th>4</th>\n",
       "      <td>ATEEDA</td>\n",
       "      <td>2013-06-30</td>\n",
       "      <td>2.739548e+05</td>\n",
       "      <td>2.739548e+05</td>\n",
       "      <td>1</td>\n",
       "      <td>MICHAEL JAMES</td>\n",
       "      <td>ANDREW</td>\n",
       "      <td>720.0</td>\n",
       "      <td>0.263</td>\n",
       "      <td>2012-05-24</td>\n",
       "      <td>...</td>\n",
       "      <td>720.0</td>\n",
       "      <td>1</td>\n",
       "      <td>3.650241</td>\n",
       "      <td>NaN</td>\n",
       "      <td>NaN</td>\n",
       "      <td>NaN</td>\n",
       "      <td>NaN</td>\n",
       "      <td>0</td>\n",
       "      <td>1.00</td>\n",
       "      <td>NaN</td>\n",
       "    </tr>\n",
       "    <tr>\n",
       "      <th>...</th>\n",
       "      <td>...</td>\n",
       "      <td>...</td>\n",
       "      <td>...</td>\n",
       "      <td>...</td>\n",
       "      <td>...</td>\n",
       "      <td>...</td>\n",
       "      <td>...</td>\n",
       "      <td>...</td>\n",
       "      <td>...</td>\n",
       "      <td>...</td>\n",
       "      <td>...</td>\n",
       "      <td>...</td>\n",
       "      <td>...</td>\n",
       "      <td>...</td>\n",
       "      <td>...</td>\n",
       "      <td>...</td>\n",
       "      <td>...</td>\n",
       "      <td>...</td>\n",
       "      <td>...</td>\n",
       "      <td>...</td>\n",
       "      <td>...</td>\n",
       "    </tr>\n",
       "    <tr>\n",
       "      <th>8440</th>\n",
       "      <td>tootle</td>\n",
       "      <td>2017-12-04</td>\n",
       "      <td>7.070543e+06</td>\n",
       "      <td>3.639250e+05</td>\n",
       "      <td>3</td>\n",
       "      <td>NINUO</td>\n",
       "      <td>ZHAO</td>\n",
       "      <td>12500.0</td>\n",
       "      <td>0.177</td>\n",
       "      <td>2017-09-27</td>\n",
       "      <td>...</td>\n",
       "      <td>0.0</td>\n",
       "      <td>0</td>\n",
       "      <td>3.649846</td>\n",
       "      <td>NaN</td>\n",
       "      <td>1.309424</td>\n",
       "      <td>11.975207</td>\n",
       "      <td>NaN</td>\n",
       "      <td>1</td>\n",
       "      <td>0.98</td>\n",
       "      <td>NaN</td>\n",
       "    </tr>\n",
       "    <tr>\n",
       "      <th>8441</th>\n",
       "      <td>tootle</td>\n",
       "      <td>2018-12-04</td>\n",
       "      <td>8.217117e+06</td>\n",
       "      <td>1.146574e+06</td>\n",
       "      <td>4</td>\n",
       "      <td>NUNUO</td>\n",
       "      <td>ZHAO</td>\n",
       "      <td>12500.0</td>\n",
       "      <td>0.152</td>\n",
       "      <td>2018-06-25</td>\n",
       "      <td>...</td>\n",
       "      <td>12500.0</td>\n",
       "      <td>1</td>\n",
       "      <td>0.152556</td>\n",
       "      <td>NaN</td>\n",
       "      <td>1.309424</td>\n",
       "      <td>11.975207</td>\n",
       "      <td>0.500539</td>\n",
       "      <td>0</td>\n",
       "      <td>0.05</td>\n",
       "      <td>NaN</td>\n",
       "    </tr>\n",
       "    <tr>\n",
       "      <th>8442</th>\n",
       "      <td>tootle</td>\n",
       "      <td>2017-11-24</td>\n",
       "      <td>6.706618e+06</td>\n",
       "      <td>3.328239e+06</td>\n",
       "      <td>2</td>\n",
       "      <td>HEYKEL</td>\n",
       "      <td>ZOUITEN</td>\n",
       "      <td>9121.0</td>\n",
       "      <td>0.136</td>\n",
       "      <td>2017-09-27</td>\n",
       "      <td>...</td>\n",
       "      <td>9121.0</td>\n",
       "      <td>1</td>\n",
       "      <td>0.399091</td>\n",
       "      <td>NaN</td>\n",
       "      <td>1.309424</td>\n",
       "      <td>NaN</td>\n",
       "      <td>NaN</td>\n",
       "      <td>0</td>\n",
       "      <td>1.00</td>\n",
       "      <td>NaN</td>\n",
       "    </tr>\n",
       "    <tr>\n",
       "      <th>8443</th>\n",
       "      <td>tootle</td>\n",
       "      <td>2017-12-04</td>\n",
       "      <td>7.070543e+06</td>\n",
       "      <td>3.639250e+05</td>\n",
       "      <td>3</td>\n",
       "      <td>HEYKEL</td>\n",
       "      <td>ZOUITEN</td>\n",
       "      <td>9121.0</td>\n",
       "      <td>0.129</td>\n",
       "      <td>2017-09-27</td>\n",
       "      <td>...</td>\n",
       "      <td>0.0</td>\n",
       "      <td>0</td>\n",
       "      <td>3.649846</td>\n",
       "      <td>NaN</td>\n",
       "      <td>1.309424</td>\n",
       "      <td>11.975207</td>\n",
       "      <td>NaN</td>\n",
       "      <td>0</td>\n",
       "      <td>0.98</td>\n",
       "      <td>NaN</td>\n",
       "    </tr>\n",
       "    <tr>\n",
       "      <th>8444</th>\n",
       "      <td>tootle</td>\n",
       "      <td>2018-12-04</td>\n",
       "      <td>8.217117e+06</td>\n",
       "      <td>1.146574e+06</td>\n",
       "      <td>4</td>\n",
       "      <td>HEYKEL</td>\n",
       "      <td>ZOUITEN</td>\n",
       "      <td>9121.0</td>\n",
       "      <td>0.111</td>\n",
       "      <td>2018-06-25</td>\n",
       "      <td>...</td>\n",
       "      <td>0.0</td>\n",
       "      <td>0</td>\n",
       "      <td>0.152556</td>\n",
       "      <td>NaN</td>\n",
       "      <td>1.309424</td>\n",
       "      <td>11.975207</td>\n",
       "      <td>0.500539</td>\n",
       "      <td>0</td>\n",
       "      <td>0.05</td>\n",
       "      <td>NaN</td>\n",
       "    </tr>\n",
       "  </tbody>\n",
       "</table>\n",
       "<p>8445 rows × 30 columns</p>\n",
       "</div>"
      ],
      "text/plain": [
       "     Company name filing_date  total_shares  round_shares  rounds  \\\n",
       "0          ATEEDA  2013-06-30  2.739548e+05  2.739548e+05       1   \n",
       "1          ATEEDA  2014-06-30  3.597177e+05  8.576293e+04       2   \n",
       "2          ATEEDA  2015-06-30  3.469110e+05 -1.280670e+04       3   \n",
       "3          ATEEDA  2016-06-30  4.297006e+05  8.278960e+04       4   \n",
       "4          ATEEDA  2013-06-30  2.739548e+05  2.739548e+05       1   \n",
       "...           ...         ...           ...           ...     ...   \n",
       "8440       tootle  2017-12-04  7.070543e+06  3.639250e+05       3   \n",
       "8441       tootle  2018-12-04  8.217117e+06  1.146574e+06       4   \n",
       "8442       tootle  2017-11-24  6.706618e+06  3.328239e+06       2   \n",
       "8443       tootle  2017-12-04  7.070543e+06  3.639250e+05       3   \n",
       "8444       tootle  2018-12-04  8.217117e+06  1.146574e+06       4   \n",
       "\n",
       "         first_name last_name  number_of_shares  percent_total   Deal date  \\\n",
       "0        JOHN COLIN     ADAMS             559.0          0.204  2012-05-24   \n",
       "1        JOHN COLIN     ADAMS            1702.0          0.473  2014-05-31   \n",
       "2        JOHN COLIN     ADAMS            1702.0          0.491  2014-05-31   \n",
       "3        JOHN COLIN     ADAMS            3082.0          0.717  2015-11-19   \n",
       "4     MICHAEL JAMES    ANDREW             720.0          0.263  2012-05-24   \n",
       "...             ...       ...               ...            ...         ...   \n",
       "8440          NINUO      ZHAO           12500.0          0.177  2017-09-27   \n",
       "8441          NUNUO      ZHAO           12500.0          0.152  2018-06-25   \n",
       "8442         HEYKEL   ZOUITEN            9121.0          0.136  2017-09-27   \n",
       "8443         HEYKEL   ZOUITEN            9121.0          0.129  2017-09-27   \n",
       "8444         HEYKEL   ZOUITEN            9121.0          0.111  2018-06-25   \n",
       "\n",
       "      ...  add_shares follow  valuation first_industry     v2/v1      v3/v2  \\\n",
       "0     ...       559.0      1   3.650241            NaN       NaN        NaN   \n",
       "1     ...      1143.0      1   8.745013            NaN  2.395736        NaN   \n",
       "2     ...         0.0      0 -58.562924            NaN  2.395736 -16.043576   \n",
       "3     ...      1380.0      1   7.247142            NaN  2.395736 -16.043576   \n",
       "4     ...       720.0      1   3.650241            NaN       NaN        NaN   \n",
       "...   ...         ...    ...        ...            ...       ...        ...   \n",
       "8440  ...         0.0      0   3.649846            NaN  1.309424  11.975207   \n",
       "8441  ...     12500.0      1   0.152556            NaN  1.309424  11.975207   \n",
       "8442  ...      9121.0      1   0.399091            NaN  1.309424        NaN   \n",
       "8443  ...         0.0      0   3.649846            NaN  1.309424  11.975207   \n",
       "8444  ...         0.0      0   0.152556            NaN  1.309424  11.975207   \n",
       "\n",
       "         v4/v3  follow_count  rate  industry_val  \n",
       "0          NaN             0  1.00           NaN  \n",
       "1          NaN             1  1.00           NaN  \n",
       "2          NaN             1  0.83           NaN  \n",
       "3     1.985387             2  0.32           NaN  \n",
       "4          NaN             0  1.00           NaN  \n",
       "...        ...           ...   ...           ...  \n",
       "8440       NaN             1  0.98           NaN  \n",
       "8441  0.500539             0  0.05           NaN  \n",
       "8442       NaN             0  1.00           NaN  \n",
       "8443       NaN             0  0.98           NaN  \n",
       "8444  0.500539             0  0.05           NaN  \n",
       "\n",
       "[8445 rows x 30 columns]"
      ]
     },
     "execution_count": 72,
     "metadata": {},
     "output_type": "execute_result"
    }
   ],
   "source": [
    "df2"
   ]
  },
  {
   "cell_type": "code",
   "execution_count": 73,
   "metadata": {},
   "outputs": [],
   "source": [
    "df2['v2/v1'] = df2['v2/v1'].fillna(1)\n",
    "df2['v3/v2'] = df2['v3/v2'].fillna(1)\n",
    "df2['v4/v3'] = df2['v4/v3'].fillna(1)"
   ]
  },
  {
   "cell_type": "code",
   "execution_count": 74,
   "metadata": {},
   "outputs": [
    {
     "name": "stdout",
     "output_type": "stream",
     "text": [
      "<class 'pandas.core.frame.DataFrame'>\n",
      "Int64Index: 8445 entries, 0 to 8444\n",
      "Data columns (total 30 columns):\n",
      " #   Column              Non-Null Count  Dtype  \n",
      "---  ------              --------------  -----  \n",
      " 0   Company name        8445 non-null   object \n",
      " 1   filing_date         8445 non-null   object \n",
      " 2   total_shares        8445 non-null   float64\n",
      " 3   round_shares        8445 non-null   float64\n",
      " 4   rounds              8445 non-null   int64  \n",
      " 5   first_name          7319 non-null   object \n",
      " 6   last_name           8445 non-null   object \n",
      " 7   number_of_shares    8445 non-null   float64\n",
      " 8   percent_total       8445 non-null   float64\n",
      " 9   Deal date           8445 non-null   object \n",
      " 10  Investment amount   8445 non-null   float64\n",
      " 11  Incorporation date  8241 non-null   object \n",
      " 12  Current stage       8445 non-null   object \n",
      " 13  Exit date           8445 non-null   object \n",
      " 14  Exit price          8445 non-null   float64\n",
      " 15  investor_count      3296 non-null   float64\n",
      " 16  male                3258 non-null   float64\n",
      " 17  female              3258 non-null   float64\n",
      " 18  founder_count       3258 non-null   float64\n",
      " 19  exit_shares         8445 non-null   float64\n",
      " 20  add_shares          8445 non-null   float64\n",
      " 21  follow              8445 non-null   int64  \n",
      " 22  valuation           8445 non-null   float64\n",
      " 23  first_industry      4765 non-null   object \n",
      " 24  v2/v1               8445 non-null   float64\n",
      " 25  v3/v2               8445 non-null   float64\n",
      " 26  v4/v3               8445 non-null   float64\n",
      " 27  follow_count        8445 non-null   int64  \n",
      " 28  rate                8445 non-null   float64\n",
      " 29  industry_val        4338 non-null   float64\n",
      "dtypes: float64(18), int64(3), object(9)\n",
      "memory usage: 2.0+ MB\n"
     ]
    }
   ],
   "source": [
    "df2.info()"
   ]
  },
  {
   "cell_type": "code",
   "execution_count": 75,
   "metadata": {},
   "outputs": [],
   "source": [
    "df2['male_ratio'] = df2['male']/(df2['male']+df2['female'])"
   ]
  },
  {
   "cell_type": "code",
   "execution_count": 76,
   "metadata": {},
   "outputs": [],
   "source": [
    "df2['male_ratio'] = df2['male_ratio'].fillna(0.5)"
   ]
  },
  {
   "cell_type": "code",
   "execution_count": 77,
   "metadata": {},
   "outputs": [],
   "source": [
    "df2['label'] = df2['follow'].astype(int) "
   ]
  },
  {
   "cell_type": "code",
   "execution_count": 78,
   "metadata": {},
   "outputs": [],
   "source": [
    "df2['industry_1'] = df2['first_industry'].fillna('UNKNOWN')"
   ]
  },
  {
   "cell_type": "code",
   "execution_count": 79,
   "metadata": {},
   "outputs": [],
   "source": [
    "map_ind = pd.DataFrame(df2['industry_1'].unique().tolist()).reset_index().rename(columns={0:'industry_1','index':'industry_2'})"
   ]
  },
  {
   "cell_type": "code",
   "execution_count": 80,
   "metadata": {},
   "outputs": [],
   "source": [
    "df2 = pd.merge(df2,map_ind,on='industry_1',how='left')"
   ]
  },
  {
   "cell_type": "code",
   "execution_count": 81,
   "metadata": {},
   "outputs": [],
   "source": [
    "df2.to_csv(r'df2.csv')"
   ]
  },
  {
   "cell_type": "markdown",
   "metadata": {},
   "source": [
    "## *********************************************************************"
   ]
  },
  {
   "cell_type": "markdown",
   "metadata": {},
   "source": [
    "## Save preprocessed data to local storage"
   ]
  },
  {
   "cell_type": "code",
   "execution_count": 82,
   "metadata": {},
   "outputs": [],
   "source": [
    "import warnings; warnings.simplefilter('ignore')     \n",
    "import pandas as pd\n",
    "import numpy as np\n",
    "import xgboost as xgb \n",
    "%matplotlib inline\n",
    "from matplotlib import pyplot as plt\n",
    "from tqdm import *"
   ]
  },
  {
   "cell_type": "code",
   "execution_count": 83,
   "metadata": {},
   "outputs": [],
   "source": [
    "df2.to_csv('modified_data.csv')"
   ]
  },
  {
   "cell_type": "code",
   "execution_count": 84,
   "metadata": {},
   "outputs": [],
   "source": [
    "df2 = pd.read_csv('modified_data.csv')\n",
    "del df2['Unnamed: 0']"
   ]
  },
  {
   "cell_type": "code",
   "execution_count": 85,
   "metadata": {},
   "outputs": [],
   "source": [
    "df2['v2/v1'] = df2['v2/v1'].fillna(df2['v2/v1'].mean())\n",
    "df2['v3/v2'] = df2['v3/v2'].fillna(df2['v3/v2'].mean())\n",
    "df2['v4/v3'] = df2['v4/v3'].fillna(df2['v4/v3'].mean())"
   ]
  },
  {
   "cell_type": "code",
   "execution_count": 86,
   "metadata": {},
   "outputs": [],
   "source": [
    "df2['industry_val'] = df2['industry_val'].fillna(df2['industry_val'].mean())"
   ]
  },
  {
   "cell_type": "code",
   "execution_count": 87,
   "metadata": {},
   "outputs": [],
   "source": [
    "df2 = df2.fillna(0)"
   ]
  },
  {
   "cell_type": "code",
   "execution_count": 88,
   "metadata": {},
   "outputs": [],
   "source": [
    "choose_factor = [i for i in df2.columns if i in ['rounds','percent_total','valuation','v2/v1',\n",
    "                                                 'v3/v2','v4/v3','follow_count','industry_2',\n",
    "                                                 'investor_count','founder_count','male_ratio','rate','industry_val']]"
   ]
  },
  {
   "cell_type": "code",
   "execution_count": 89,
   "metadata": {},
   "outputs": [],
   "source": [
    "choose_feature = df2[choose_factor]"
   ]
  },
  {
   "cell_type": "code",
   "execution_count": 90,
   "metadata": {},
   "outputs": [],
   "source": [
    "choose_feature['investor_count'] = choose_feature['investor_count'].fillna(choose_feature['investor_count'].mean())\n",
    "choose_feature['founder_count'] = choose_feature['founder_count'].fillna(choose_feature['founder_count'].mean())"
   ]
  },
  {
   "cell_type": "code",
   "execution_count": 91,
   "metadata": {},
   "outputs": [
    {
     "data": {
      "text/html": [
       "<div>\n",
       "<style scoped>\n",
       "    .dataframe tbody tr th:only-of-type {\n",
       "        vertical-align: middle;\n",
       "    }\n",
       "\n",
       "    .dataframe tbody tr th {\n",
       "        vertical-align: top;\n",
       "    }\n",
       "\n",
       "    .dataframe thead th {\n",
       "        text-align: right;\n",
       "    }\n",
       "</style>\n",
       "<table border=\"1\" class=\"dataframe\">\n",
       "  <thead>\n",
       "    <tr style=\"text-align: right;\">\n",
       "      <th></th>\n",
       "      <th>rounds</th>\n",
       "      <th>percent_total</th>\n",
       "      <th>investor_count</th>\n",
       "      <th>founder_count</th>\n",
       "      <th>valuation</th>\n",
       "      <th>v2/v1</th>\n",
       "      <th>v3/v2</th>\n",
       "      <th>v4/v3</th>\n",
       "      <th>follow_count</th>\n",
       "      <th>rate</th>\n",
       "      <th>industry_val</th>\n",
       "      <th>male_ratio</th>\n",
       "      <th>industry_2</th>\n",
       "    </tr>\n",
       "  </thead>\n",
       "  <tbody>\n",
       "    <tr>\n",
       "      <th>0</th>\n",
       "      <td>1</td>\n",
       "      <td>0.204</td>\n",
       "      <td>0.0</td>\n",
       "      <td>0.0</td>\n",
       "      <td>3.650241</td>\n",
       "      <td>1.000000</td>\n",
       "      <td>1.000000</td>\n",
       "      <td>1.000000</td>\n",
       "      <td>0</td>\n",
       "      <td>1.00</td>\n",
       "      <td>5742.399064</td>\n",
       "      <td>0.5</td>\n",
       "      <td>0</td>\n",
       "    </tr>\n",
       "    <tr>\n",
       "      <th>1</th>\n",
       "      <td>2</td>\n",
       "      <td>0.473</td>\n",
       "      <td>0.0</td>\n",
       "      <td>0.0</td>\n",
       "      <td>8.745013</td>\n",
       "      <td>2.395736</td>\n",
       "      <td>1.000000</td>\n",
       "      <td>1.000000</td>\n",
       "      <td>1</td>\n",
       "      <td>1.00</td>\n",
       "      <td>5742.399064</td>\n",
       "      <td>0.5</td>\n",
       "      <td>0</td>\n",
       "    </tr>\n",
       "    <tr>\n",
       "      <th>2</th>\n",
       "      <td>3</td>\n",
       "      <td>0.491</td>\n",
       "      <td>0.0</td>\n",
       "      <td>0.0</td>\n",
       "      <td>-58.562924</td>\n",
       "      <td>2.395736</td>\n",
       "      <td>-16.043576</td>\n",
       "      <td>1.000000</td>\n",
       "      <td>1</td>\n",
       "      <td>0.83</td>\n",
       "      <td>5742.399064</td>\n",
       "      <td>0.5</td>\n",
       "      <td>0</td>\n",
       "    </tr>\n",
       "    <tr>\n",
       "      <th>3</th>\n",
       "      <td>4</td>\n",
       "      <td>0.717</td>\n",
       "      <td>0.0</td>\n",
       "      <td>0.0</td>\n",
       "      <td>7.247142</td>\n",
       "      <td>2.395736</td>\n",
       "      <td>-16.043576</td>\n",
       "      <td>1.985387</td>\n",
       "      <td>2</td>\n",
       "      <td>0.32</td>\n",
       "      <td>5742.399064</td>\n",
       "      <td>0.5</td>\n",
       "      <td>0</td>\n",
       "    </tr>\n",
       "    <tr>\n",
       "      <th>4</th>\n",
       "      <td>1</td>\n",
       "      <td>0.263</td>\n",
       "      <td>0.0</td>\n",
       "      <td>0.0</td>\n",
       "      <td>3.650241</td>\n",
       "      <td>1.000000</td>\n",
       "      <td>1.000000</td>\n",
       "      <td>1.000000</td>\n",
       "      <td>0</td>\n",
       "      <td>1.00</td>\n",
       "      <td>5742.399064</td>\n",
       "      <td>0.5</td>\n",
       "      <td>0</td>\n",
       "    </tr>\n",
       "    <tr>\n",
       "      <th>...</th>\n",
       "      <td>...</td>\n",
       "      <td>...</td>\n",
       "      <td>...</td>\n",
       "      <td>...</td>\n",
       "      <td>...</td>\n",
       "      <td>...</td>\n",
       "      <td>...</td>\n",
       "      <td>...</td>\n",
       "      <td>...</td>\n",
       "      <td>...</td>\n",
       "      <td>...</td>\n",
       "      <td>...</td>\n",
       "      <td>...</td>\n",
       "    </tr>\n",
       "    <tr>\n",
       "      <th>8440</th>\n",
       "      <td>3</td>\n",
       "      <td>0.177</td>\n",
       "      <td>0.0</td>\n",
       "      <td>0.0</td>\n",
       "      <td>3.649846</td>\n",
       "      <td>1.309424</td>\n",
       "      <td>11.975207</td>\n",
       "      <td>1.000000</td>\n",
       "      <td>1</td>\n",
       "      <td>0.98</td>\n",
       "      <td>5742.399064</td>\n",
       "      <td>0.5</td>\n",
       "      <td>0</td>\n",
       "    </tr>\n",
       "    <tr>\n",
       "      <th>8441</th>\n",
       "      <td>4</td>\n",
       "      <td>0.152</td>\n",
       "      <td>0.0</td>\n",
       "      <td>0.0</td>\n",
       "      <td>0.152556</td>\n",
       "      <td>1.309424</td>\n",
       "      <td>11.975207</td>\n",
       "      <td>0.500539</td>\n",
       "      <td>0</td>\n",
       "      <td>0.05</td>\n",
       "      <td>5742.399064</td>\n",
       "      <td>0.5</td>\n",
       "      <td>0</td>\n",
       "    </tr>\n",
       "    <tr>\n",
       "      <th>8442</th>\n",
       "      <td>2</td>\n",
       "      <td>0.136</td>\n",
       "      <td>0.0</td>\n",
       "      <td>0.0</td>\n",
       "      <td>0.399091</td>\n",
       "      <td>1.309424</td>\n",
       "      <td>1.000000</td>\n",
       "      <td>1.000000</td>\n",
       "      <td>0</td>\n",
       "      <td>1.00</td>\n",
       "      <td>5742.399064</td>\n",
       "      <td>0.5</td>\n",
       "      <td>0</td>\n",
       "    </tr>\n",
       "    <tr>\n",
       "      <th>8443</th>\n",
       "      <td>3</td>\n",
       "      <td>0.129</td>\n",
       "      <td>0.0</td>\n",
       "      <td>0.0</td>\n",
       "      <td>3.649846</td>\n",
       "      <td>1.309424</td>\n",
       "      <td>11.975207</td>\n",
       "      <td>1.000000</td>\n",
       "      <td>0</td>\n",
       "      <td>0.98</td>\n",
       "      <td>5742.399064</td>\n",
       "      <td>0.5</td>\n",
       "      <td>0</td>\n",
       "    </tr>\n",
       "    <tr>\n",
       "      <th>8444</th>\n",
       "      <td>4</td>\n",
       "      <td>0.111</td>\n",
       "      <td>0.0</td>\n",
       "      <td>0.0</td>\n",
       "      <td>0.152556</td>\n",
       "      <td>1.309424</td>\n",
       "      <td>11.975207</td>\n",
       "      <td>0.500539</td>\n",
       "      <td>0</td>\n",
       "      <td>0.05</td>\n",
       "      <td>5742.399064</td>\n",
       "      <td>0.5</td>\n",
       "      <td>0</td>\n",
       "    </tr>\n",
       "  </tbody>\n",
       "</table>\n",
       "<p>8445 rows × 13 columns</p>\n",
       "</div>"
      ],
      "text/plain": [
       "      rounds  percent_total  investor_count  founder_count  valuation  \\\n",
       "0          1          0.204             0.0            0.0   3.650241   \n",
       "1          2          0.473             0.0            0.0   8.745013   \n",
       "2          3          0.491             0.0            0.0 -58.562924   \n",
       "3          4          0.717             0.0            0.0   7.247142   \n",
       "4          1          0.263             0.0            0.0   3.650241   \n",
       "...      ...            ...             ...            ...        ...   \n",
       "8440       3          0.177             0.0            0.0   3.649846   \n",
       "8441       4          0.152             0.0            0.0   0.152556   \n",
       "8442       2          0.136             0.0            0.0   0.399091   \n",
       "8443       3          0.129             0.0            0.0   3.649846   \n",
       "8444       4          0.111             0.0            0.0   0.152556   \n",
       "\n",
       "         v2/v1      v3/v2     v4/v3  follow_count  rate  industry_val  \\\n",
       "0     1.000000   1.000000  1.000000             0  1.00   5742.399064   \n",
       "1     2.395736   1.000000  1.000000             1  1.00   5742.399064   \n",
       "2     2.395736 -16.043576  1.000000             1  0.83   5742.399064   \n",
       "3     2.395736 -16.043576  1.985387             2  0.32   5742.399064   \n",
       "4     1.000000   1.000000  1.000000             0  1.00   5742.399064   \n",
       "...        ...        ...       ...           ...   ...           ...   \n",
       "8440  1.309424  11.975207  1.000000             1  0.98   5742.399064   \n",
       "8441  1.309424  11.975207  0.500539             0  0.05   5742.399064   \n",
       "8442  1.309424   1.000000  1.000000             0  1.00   5742.399064   \n",
       "8443  1.309424  11.975207  1.000000             0  0.98   5742.399064   \n",
       "8444  1.309424  11.975207  0.500539             0  0.05   5742.399064   \n",
       "\n",
       "      male_ratio  industry_2  \n",
       "0            0.5           0  \n",
       "1            0.5           0  \n",
       "2            0.5           0  \n",
       "3            0.5           0  \n",
       "4            0.5           0  \n",
       "...          ...         ...  \n",
       "8440         0.5           0  \n",
       "8441         0.5           0  \n",
       "8442         0.5           0  \n",
       "8443         0.5           0  \n",
       "8444         0.5           0  \n",
       "\n",
       "[8445 rows x 13 columns]"
      ]
     },
     "execution_count": 91,
     "metadata": {},
     "output_type": "execute_result"
    }
   ],
   "source": [
    "choose_feature"
   ]
  },
  {
   "cell_type": "code",
   "execution_count": 92,
   "metadata": {},
   "outputs": [],
   "source": [
    "choose_label = df2['label']"
   ]
  },
  {
   "cell_type": "code",
   "execution_count": 127,
   "metadata": {},
   "outputs": [],
   "source": [
    "import seaborn as sns\n",
    "def dataPlot():\n",
    "    #Plotting based on the results of the correlation coefficient calculation\n",
    "    fig,ax=plt.subplots(figsize=(18,8))\n",
    "    #key_list=['A','B','C','D','E','F','G','H']\n",
    "    sns.heatmap(pd.DataFrame(np.round(X_train[choose_factor].corr(),4),columns=choose_factor,index=choose_factor),annot=True,vmax=1,vmin=0,xticklabels=True,\n",
    "                             yticklabels=True,square=True,cmap=\"YlGnBu\")\n",
    "    ax.set_title(' Feature Correlation ', fontsize=18)\n",
    "    ax.set_ylabel('Y', fontsize=16)\n",
    "    ax.set_xlabel('X', fontsize=16)"
   ]
  },
  {
   "cell_type": "code",
   "execution_count": 128,
   "metadata": {},
   "outputs": [
    {
     "data": {
      "image/png": "[encoded data removed]",
      "text/plain": [
       "<Figure size 1296x576 with 2 Axes>"
      ]
     },
     "metadata": {
      "needs_background": "light"
     },
     "output_type": "display_data"
    }
   ],
   "source": [
    "dataPlot()"
   ]
  },
  {
   "cell_type": "markdown",
   "metadata": {},
   "source": [
    "## Split training set and test set"
   ]
  },
  {
   "cell_type": "code",
   "execution_count": 95,
   "metadata": {},
   "outputs": [],
   "source": [
    "# X_train, X_test, y_train, y_test = train_test_split(choose_feature, choose_label, test_size=0.2)"
   ]
  },
  {
   "cell_type": "code",
   "execution_count": 96,
   "metadata": {},
   "outputs": [],
   "source": [
    "# dtrain = xgb.DMatrix(X_train, label=y_train)\n",
    "# dtest = xgb.DMatrix(X_test)"
   ]
  },
  {
   "cell_type": "code",
   "execution_count": 97,
   "metadata": {},
   "outputs": [],
   "source": [
    "from sklearn.model_selection import train_test_split  # Split training set and test set\n",
    "from sklearn.preprocessing import LabelEncoder   # Labelled classification parameters\n",
    "le = LabelEncoder()\n",
    "choose_label = le.fit_transform(choose_label)\n",
    "X_train,X_test,y_train,y_test = train_test_split(choose_feature, choose_label,test_size=0.2,random_state=1,stratify=choose_label)\n",
    "dtrain = xgb.DMatrix(X_train, label=y_train)\n",
    "dtest = xgb.DMatrix(X_test)\n",
    "# 1.Booster parameters\n",
    "params = {\n",
    "    'booster': 'gbtree',\n",
    "    'objective': 'multi:softmax',\n",
    "    \n",
    "    'num_class': 10,               # Number of classes, used in conjunction with multisoftmax    \n",
    "                                   #'objective': 'multi:softmax'\n",
    "                                   # Multiple classification issues 'objective':'binary:logistic',\n",
    "    'gamma': 0.1,                  # The larger the parameter, the more conservative it is, usually 0.1 or 0.2.\n",
    "    'max_depth': 12,               # Build the depth of the tree, the larger the tree, the easier it is to over-fit.\n",
    "    'lambda': 2,                   # The parameter of the L2 regularisation term that controls the weight value of the model complexity.\n",
    "                                   #the larger the parameter, the less likely the model is to be overfitted.\n",
    "    'subsample': 0.7,              # randomly sampled training samples\n",
    "    'colsample_bytree': 0.7,       # column sampling during tree generation\n",
    "    'min_child_weight': 3,\n",
    "    'silent': 1,                   # If it is set to 1, no run message is output and it is better to set it to 0.\n",
    "    'eta': 0.007,                  # similar with the learning rate\n",
    "    'seed': 1000,\n",
    "    'nthread': 4,                  # cpu threads\n",
    "    'eval_metric':'auc'\n",
    "}\n",
    "plst = list(params.items())\n",
    "# evallist = [(dtest, 'eval'), (dtrain, 'train')]   # specify the validation set"
   ]
  },
  {
   "cell_type": "code",
   "execution_count": 98,
   "metadata": {},
   "outputs": [
    {
     "name": "stdout",
     "output_type": "stream",
     "text": [
      "[11:59:50] WARNING: C:/Users/Administrator/workspace/xgboost-win64_release_1.4.0/src/learner.cc:573: \n",
      "Parameters: { \"silent\" } might not be used.\n",
      "\n",
      "  This may not be accurate due to some parameters are only used in language bindings but\n",
      "  passed down to XGBoost core.  Or some parameters are not used but slip through this\n",
      "  verification. Please open an issue if you find above cases.\n",
      "\n",
      "\n"
     ]
    }
   ],
   "source": [
    "# 2.train\n",
    "num_round = 10\n",
    "bst = xgb.train(plst, dtrain, num_round)\n",
    "#bst = xgb.train( plst, dtrain, num_round, evallist )"
   ]
  },
  {
   "cell_type": "code",
   "execution_count": 99,
   "metadata": {},
   "outputs": [],
   "source": [
    "ypred = bst.predict(dtest)"
   ]
  },
  {
   "cell_type": "code",
   "execution_count": 100,
   "metadata": {},
   "outputs": [
    {
     "data": {
      "text/plain": [
       "array([0., 1., 0., ..., 1., 1., 1.], dtype=float32)"
      ]
     },
     "execution_count": 100,
     "metadata": {},
     "output_type": "execute_result"
    }
   ],
   "source": [
    "ypred"
   ]
  },
  {
   "cell_type": "code",
   "execution_count": 101,
   "metadata": {},
   "outputs": [
    {
     "data": {
      "text/plain": [
       "array([0., 1., 0., ..., 1., 1., 1.], dtype=float32)"
      ]
     },
     "execution_count": 101,
     "metadata": {},
     "output_type": "execute_result"
    }
   ],
   "source": [
    "ypred"
   ]
  },
  {
   "cell_type": "code",
   "execution_count": 102,
   "metadata": {},
   "outputs": [],
   "source": [
    "xgboost_precison = pd.DataFrame(ypred,y_test).reset_index()\n",
    "xgboost_precison.columns = ['predict','test']"
   ]
  },
  {
   "cell_type": "code",
   "execution_count": 103,
   "metadata": {},
   "outputs": [],
   "source": [
    "xgboost_precison = xgboost_precison.astype(int)"
   ]
  },
  {
   "cell_type": "code",
   "execution_count": 104,
   "metadata": {},
   "outputs": [
    {
     "data": {
      "text/html": [
       "<div>\n",
       "<style scoped>\n",
       "    .dataframe tbody tr th:only-of-type {\n",
       "        vertical-align: middle;\n",
       "    }\n",
       "\n",
       "    .dataframe tbody tr th {\n",
       "        vertical-align: top;\n",
       "    }\n",
       "\n",
       "    .dataframe thead th {\n",
       "        text-align: right;\n",
       "    }\n",
       "</style>\n",
       "<table border=\"1\" class=\"dataframe\">\n",
       "  <thead>\n",
       "    <tr style=\"text-align: right;\">\n",
       "      <th></th>\n",
       "      <th>predict</th>\n",
       "      <th>test</th>\n",
       "    </tr>\n",
       "  </thead>\n",
       "  <tbody>\n",
       "    <tr>\n",
       "      <th>0</th>\n",
       "      <td>0</td>\n",
       "      <td>0</td>\n",
       "    </tr>\n",
       "    <tr>\n",
       "      <th>1</th>\n",
       "      <td>1</td>\n",
       "      <td>1</td>\n",
       "    </tr>\n",
       "    <tr>\n",
       "      <th>2</th>\n",
       "      <td>0</td>\n",
       "      <td>0</td>\n",
       "    </tr>\n",
       "    <tr>\n",
       "      <th>3</th>\n",
       "      <td>0</td>\n",
       "      <td>0</td>\n",
       "    </tr>\n",
       "    <tr>\n",
       "      <th>4</th>\n",
       "      <td>1</td>\n",
       "      <td>1</td>\n",
       "    </tr>\n",
       "    <tr>\n",
       "      <th>...</th>\n",
       "      <td>...</td>\n",
       "      <td>...</td>\n",
       "    </tr>\n",
       "    <tr>\n",
       "      <th>1684</th>\n",
       "      <td>0</td>\n",
       "      <td>0</td>\n",
       "    </tr>\n",
       "    <tr>\n",
       "      <th>1685</th>\n",
       "      <td>1</td>\n",
       "      <td>1</td>\n",
       "    </tr>\n",
       "    <tr>\n",
       "      <th>1686</th>\n",
       "      <td>1</td>\n",
       "      <td>1</td>\n",
       "    </tr>\n",
       "    <tr>\n",
       "      <th>1687</th>\n",
       "      <td>1</td>\n",
       "      <td>1</td>\n",
       "    </tr>\n",
       "    <tr>\n",
       "      <th>1688</th>\n",
       "      <td>1</td>\n",
       "      <td>1</td>\n",
       "    </tr>\n",
       "  </tbody>\n",
       "</table>\n",
       "<p>1689 rows × 2 columns</p>\n",
       "</div>"
      ],
      "text/plain": [
       "      predict  test\n",
       "0           0     0\n",
       "1           1     1\n",
       "2           0     0\n",
       "3           0     0\n",
       "4           1     1\n",
       "...       ...   ...\n",
       "1684        0     0\n",
       "1685        1     1\n",
       "1686        1     1\n",
       "1687        1     1\n",
       "1688        1     1\n",
       "\n",
       "[1689 rows x 2 columns]"
      ]
     },
     "execution_count": 104,
     "metadata": {},
     "output_type": "execute_result"
    }
   ],
   "source": [
    "xgboost_precison"
   ]
  },
  {
   "cell_type": "code",
   "execution_count": 105,
   "metadata": {},
   "outputs": [
    {
     "data": {
      "text/plain": [
       "<AxesSubplot:title={'center':'Feature importance'}, xlabel='F score', ylabel='Features'>"
      ]
     },
     "execution_count": 105,
     "metadata": {},
     "output_type": "execute_result"
    },
    {
     "data": {
      "image/png": "[encoded data removed]",
      "text/plain": [
       "<Figure size 432x288 with 1 Axes>"
      ]
     },
     "metadata": {
      "needs_background": "light"
     },
     "output_type": "display_data"
    }
   ],
   "source": [
    "# 1.feature importance\n",
    "xgb.plot_importance(bst)\n",
    "# 2.draw the tree\n",
    "#xgb.plot_tree(bst, num_trees=2)\n",
    "# 3.use xgboost.to_graphviz() to convert the target tree to graphviz\n",
    "#xgb.to_graphviz(bst, num_trees=2)"
   ]
  },
  {
   "cell_type": "code",
   "execution_count": 108,
   "metadata": {},
   "outputs": [
    {
     "name": "stdout",
     "output_type": "stream",
     "text": [
      "accuarcy: 77.798%\n",
      "precision: 81.389%\n"
     ]
    }
   ],
   "source": [
    "# valuation metrics\n",
    "from sklearn.metrics import accuracy_score\n",
    "from sklearn.metrics import precision_score\n",
    "accuracy = accuracy_score(y_test,ypred)\n",
    "precision = precision_score(y_test,ypred)\n",
    "print(\"accuarcy: %.3f%%\" % (accuracy*100.0))\n",
    "print(\"precision: %.3f%%\" % (precision*100.0))"
   ]
  },
  {
   "cell_type": "markdown",
   "metadata": {},
   "source": [
    "## Random Forest"
   ]
  },
  {
   "cell_type": "code",
   "execution_count": 109,
   "metadata": {},
   "outputs": [],
   "source": [
    "# from sklearn.model_selection import train_test_split\n",
    "from sklearn import tree\n",
    "from sklearn.metrics import confusion_matrix\n",
    "from sklearn.ensemble import RandomForestClassifier"
   ]
  },
  {
   "cell_type": "code",
   "execution_count": 110,
   "metadata": {},
   "outputs": [],
   "source": [
    "choose_feature['v2/v1'] = choose_feature['v2/v1'].fillna(choose_feature['v2/v1'].mean())\n",
    "choose_feature['v3/v2'] = choose_feature['v3/v2'].fillna(choose_feature['v3/v2'].mean())\n",
    "choose_feature['v4/v3'] = choose_feature['v4/v3'].fillna(choose_feature['v4/v3'].mean())"
   ]
  },
  {
   "cell_type": "code",
   "execution_count": 111,
   "metadata": {},
   "outputs": [],
   "source": [
    "choose_feature['valuation'] = choose_feature['valuation'].fillna(choose_feature['valuation'].mean())"
   ]
  },
  {
   "cell_type": "code",
   "execution_count": 112,
   "metadata": {},
   "outputs": [
    {
     "name": "stdout",
     "output_type": "stream",
     "text": [
      "rounds            False\n",
      "percent_total     False\n",
      "investor_count    False\n",
      "founder_count     False\n",
      "valuation         False\n",
      "v2/v1             False\n",
      "v3/v2             False\n",
      "v4/v3             False\n",
      "follow_count      False\n",
      "rate              False\n",
      "industry_val      False\n",
      "male_ratio        False\n",
      "industry_2        False\n",
      "dtype: bool\n"
     ]
    }
   ],
   "source": [
    "print(np.isnan(choose_feature).any())"
   ]
  },
  {
   "cell_type": "code",
   "execution_count": 113,
   "metadata": {},
   "outputs": [],
   "source": [
    "X_train,X_test,y_train,y_test = train_test_split(choose_feature, choose_label,test_size=0.2,random_state=1,stratify=choose_label)"
   ]
  },
  {
   "cell_type": "code",
   "execution_count": 114,
   "metadata": {},
   "outputs": [
    {
     "data": {
      "text/plain": [
       "RandomForestClassifier(class_weight='balanced', max_depth=100,\n",
       "                       max_features='sqrt', n_estimators=10)"
      ]
     },
     "execution_count": 114,
     "metadata": {},
     "output_type": "execute_result"
    }
   ],
   "source": [
    "clf_forest = RandomForestClassifier(n_estimators=10, max_features='sqrt', max_depth=100, class_weight='balanced')\n",
    "clf_forest.fit(X_train,y_train)"
   ]
  },
  {
   "cell_type": "code",
   "execution_count": 115,
   "metadata": {},
   "outputs": [],
   "source": [
    "predict = clf_forest.predict(X_test)"
   ]
  },
  {
   "cell_type": "code",
   "execution_count": 116,
   "metadata": {},
   "outputs": [
    {
     "name": "stdout",
     "output_type": "stream",
     "text": [
      "              precision    recall  f1-score   support\n",
      "\n",
      "           0       0.68      0.70      0.69       582\n",
      "           1       0.84      0.83      0.84      1107\n",
      "\n",
      "    accuracy                           0.79      1689\n",
      "   macro avg       0.76      0.77      0.76      1689\n",
      "weighted avg       0.79      0.79      0.79      1689\n",
      "\n",
      "precision: 84.081%\n"
     ]
    }
   ],
   "source": [
    "from sklearn.metrics import precision_score\n",
    "import sklearn.metrics as sm\n",
    "# sm.confusion_matrix(y_test,predict)\n",
    "print(sm.classification_report(y_test,predict))\n",
    "\n",
    "precision = precision_score(y_test,predict)\n",
    "print(\"precision: %.3f%%\" % (precision*100.0))"
   ]
  },
  {
   "cell_type": "markdown",
   "metadata": {},
   "source": [
    "## Calculate the feature importance"
   ]
  },
  {
   "cell_type": "code",
   "execution_count": 117,
   "metadata": {},
   "outputs": [
    {
     "data": {
      "text/html": [
       "<div>\n",
       "<style scoped>\n",
       "    .dataframe tbody tr th:only-of-type {\n",
       "        vertical-align: middle;\n",
       "    }\n",
       "\n",
       "    .dataframe tbody tr th {\n",
       "        vertical-align: top;\n",
       "    }\n",
       "\n",
       "    .dataframe thead th {\n",
       "        text-align: right;\n",
       "    }\n",
       "</style>\n",
       "<table border=\"1\" class=\"dataframe\">\n",
       "  <thead>\n",
       "    <tr style=\"text-align: right;\">\n",
       "      <th></th>\n",
       "      <th>Features</th>\n",
       "      <th>Importances</th>\n",
       "    </tr>\n",
       "  </thead>\n",
       "  <tbody>\n",
       "    <tr>\n",
       "      <th>1</th>\n",
       "      <td>percent_total</td>\n",
       "      <td>0.412987</td>\n",
       "    </tr>\n",
       "    <tr>\n",
       "      <th>0</th>\n",
       "      <td>rounds</td>\n",
       "      <td>0.116192</td>\n",
       "    </tr>\n",
       "    <tr>\n",
       "      <th>4</th>\n",
       "      <td>valuation</td>\n",
       "      <td>0.083111</td>\n",
       "    </tr>\n",
       "    <tr>\n",
       "      <th>8</th>\n",
       "      <td>follow_count</td>\n",
       "      <td>0.070873</td>\n",
       "    </tr>\n",
       "    <tr>\n",
       "      <th>5</th>\n",
       "      <td>v2/v1</td>\n",
       "      <td>0.06926</td>\n",
       "    </tr>\n",
       "    <tr>\n",
       "      <th>6</th>\n",
       "      <td>v3/v2</td>\n",
       "      <td>0.062255</td>\n",
       "    </tr>\n",
       "    <tr>\n",
       "      <th>9</th>\n",
       "      <td>rate</td>\n",
       "      <td>0.049004</td>\n",
       "    </tr>\n",
       "    <tr>\n",
       "      <th>7</th>\n",
       "      <td>v4/v3</td>\n",
       "      <td>0.046655</td>\n",
       "    </tr>\n",
       "    <tr>\n",
       "      <th>10</th>\n",
       "      <td>industry_val</td>\n",
       "      <td>0.033207</td>\n",
       "    </tr>\n",
       "    <tr>\n",
       "      <th>12</th>\n",
       "      <td>industry_2</td>\n",
       "      <td>0.026004</td>\n",
       "    </tr>\n",
       "  </tbody>\n",
       "</table>\n",
       "</div>"
      ],
      "text/plain": [
       "         Features Importances\n",
       "1   percent_total    0.412987\n",
       "0          rounds    0.116192\n",
       "4       valuation    0.083111\n",
       "8    follow_count    0.070873\n",
       "5           v2/v1     0.06926\n",
       "6           v3/v2    0.062255\n",
       "9            rate    0.049004\n",
       "7           v4/v3    0.046655\n",
       "10   industry_val    0.033207\n",
       "12     industry_2    0.026004"
      ]
     },
     "execution_count": 117,
     "metadata": {},
     "output_type": "execute_result"
    }
   ],
   "source": [
    "# check the features\n",
    "importances = clf_forest.feature_importances_ \n",
    "importances_df = pd.DataFrame([choose_factor, importances], index=['Features', 'Importances']).T\n",
    "importances_df.sort_values(by='Importances',ascending=False).head(10)"
   ]
  },
  {
   "cell_type": "code",
   "execution_count": 118,
   "metadata": {},
   "outputs": [],
   "source": [
    "plt.rcParams['font.sans-serif']=['SimHei']\n",
    "plt.rcParams['axes.unicode_minus'] = False"
   ]
  },
  {
   "cell_type": "code",
   "execution_count": 129,
   "metadata": {},
   "outputs": [
    {
     "data": {
      "text/plain": [
       "<AxesSubplot:title={'center':'Feature Importance'}, xlabel='Features'>"
      ]
     },
     "execution_count": 129,
     "metadata": {},
     "output_type": "execute_result"
    },
    {
     "data": {
      "image/png": "[encoded data removed]",
      "text/plain": [
       "<Figure size 1008x432 with 1 Axes>"
      ]
     },
     "metadata": {
      "needs_background": "light"
     },
     "output_type": "display_data"
    }
   ],
   "source": [
    "importances_df.set_index('Features').sort_values(by='Importances',ascending=False).head(10).plot.bar(figsize=(14,6),title='Feature Importance')"
   ]
  },
  {
   "cell_type": "code",
   "execution_count": 120,
   "metadata": {},
   "outputs": [],
   "source": [
    "# Define the process of scoring the model and forming the confusion_matrix as a function\n",
    "def model_evaluation(estimator, train_data, real_mark):\n",
    "    # predict\n",
    "    predict = estimator.predict(train_data)\n",
    "    # calculate the model score\n",
    "    compare_df = pd.DataFrame({'Real': real_mark, 'Predict': predict})\n",
    "    compare_df['mark'] = ~np.logical_xor(compare_df.Predict, compare_df.Real)\n",
    "    score = estimator.score(train_data, real_mark)\n",
    "    print(f'Accuracy: {score}\\n\\nConfusion matrix:\\n')\n",
    "    # calculate confusion matrix\n",
    "    confusion = confusion_matrix(real_mark, predict, labels=[0,1])\n",
    "    confusion_df = pd.DataFrame(confusion, index=['0_real', '1_real'], columns=['0_predict', '1_predict'] )\n",
    "    return confusion_df"
   ]
  },
  {
   "cell_type": "code",
   "execution_count": 121,
   "metadata": {},
   "outputs": [
    {
     "name": "stdout",
     "output_type": "stream",
     "text": [
      "Accuracy: 0.7856719952634695\n",
      "\n",
      "Confusion matrix:\n",
      "\n"
     ]
    },
    {
     "data": {
      "text/html": [
       "<div>\n",
       "<style scoped>\n",
       "    .dataframe tbody tr th:only-of-type {\n",
       "        vertical-align: middle;\n",
       "    }\n",
       "\n",
       "    .dataframe tbody tr th {\n",
       "        vertical-align: top;\n",
       "    }\n",
       "\n",
       "    .dataframe thead th {\n",
       "        text-align: right;\n",
       "    }\n",
       "</style>\n",
       "<table border=\"1\" class=\"dataframe\">\n",
       "  <thead>\n",
       "    <tr style=\"text-align: right;\">\n",
       "      <th></th>\n",
       "      <th>0_predict</th>\n",
       "      <th>1_predict</th>\n",
       "    </tr>\n",
       "  </thead>\n",
       "  <tbody>\n",
       "    <tr>\n",
       "      <th>0_real</th>\n",
       "      <td>408</td>\n",
       "      <td>174</td>\n",
       "    </tr>\n",
       "    <tr>\n",
       "      <th>1_real</th>\n",
       "      <td>188</td>\n",
       "      <td>919</td>\n",
       "    </tr>\n",
       "  </tbody>\n",
       "</table>\n",
       "</div>"
      ],
      "text/plain": [
       "        0_predict  1_predict\n",
       "0_real        408        174\n",
       "1_real        188        919"
      ]
     },
     "execution_count": 121,
     "metadata": {},
     "output_type": "execute_result"
    }
   ],
   "source": [
    "# In-sample prediction results\n",
    "model_evaluation(clf_forest, X_test, y_test)"
   ]
  },
  {
   "cell_type": "markdown",
   "metadata": {},
   "source": [
    "## Naive Bayes"
   ]
  },
  {
   "cell_type": "code",
   "execution_count": 122,
   "metadata": {},
   "outputs": [],
   "source": [
    "from sklearn.naive_bayes import BernoulliNB"
   ]
  },
  {
   "cell_type": "code",
   "execution_count": 123,
   "metadata": {},
   "outputs": [
    {
     "data": {
      "text/plain": [
       "BernoulliNB()"
      ]
     },
     "execution_count": 123,
     "metadata": {},
     "output_type": "execute_result"
    }
   ],
   "source": [
    "# Training the model, the data passed in for machine learning needs to be in the np.array data structure.\n",
    "clf = BernoulliNB()\n",
    "clf.fit(X_train,y_train)"
   ]
  },
  {
   "cell_type": "code",
   "execution_count": 124,
   "metadata": {},
   "outputs": [],
   "source": [
    "predict = clf.predict(X_test)"
   ]
  },
  {
   "cell_type": "code",
   "execution_count": 125,
   "metadata": {},
   "outputs": [
    {
     "name": "stdout",
     "output_type": "stream",
     "text": [
      "              precision    recall  f1-score   support\n",
      "\n",
      "           0       0.54      0.09      0.15       582\n",
      "           1       0.67      0.96      0.79      1107\n",
      "\n",
      "    accuracy                           0.66      1689\n",
      "   macro avg       0.60      0.52      0.47      1689\n",
      "weighted avg       0.62      0.66      0.57      1689\n",
      "\n",
      "precision: 66.667%\n"
     ]
    }
   ],
   "source": [
    "from sklearn.metrics import precision_score\n",
    "import sklearn.metrics as sm\n",
    "# sm.confusion_matrix(y_test,predict)\n",
    "print(sm.classification_report(y_test,predict))\n",
    "from sklearn.metrics import precision_score\n",
    "precision = precision_score(y_test,predict)\n",
    "print(\"precision: %.3f%%\" % (precision*100.0))"
   ]
  },
  {
   "cell_type": "code",
   "execution_count": 126,
   "metadata": {},
   "outputs": [
    {
     "name": "stdout",
     "output_type": "stream",
     "text": [
      "Accuracy: 0.6595618709295441\n",
      "\n",
      "Confusion matrix:\n",
      "\n"
     ]
    },
    {
     "data": {
      "text/html": [
       "<div>\n",
       "<style scoped>\n",
       "    .dataframe tbody tr th:only-of-type {\n",
       "        vertical-align: middle;\n",
       "    }\n",
       "\n",
       "    .dataframe tbody tr th {\n",
       "        vertical-align: top;\n",
       "    }\n",
       "\n",
       "    .dataframe thead th {\n",
       "        text-align: right;\n",
       "    }\n",
       "</style>\n",
       "<table border=\"1\" class=\"dataframe\">\n",
       "  <thead>\n",
       "    <tr style=\"text-align: right;\">\n",
       "      <th></th>\n",
       "      <th>0_predict</th>\n",
       "      <th>1_predict</th>\n",
       "    </tr>\n",
       "  </thead>\n",
       "  <tbody>\n",
       "    <tr>\n",
       "      <th>0_real</th>\n",
       "      <td>50</td>\n",
       "      <td>532</td>\n",
       "    </tr>\n",
       "    <tr>\n",
       "      <th>1_real</th>\n",
       "      <td>43</td>\n",
       "      <td>1064</td>\n",
       "    </tr>\n",
       "  </tbody>\n",
       "</table>\n",
       "</div>"
      ],
      "text/plain": [
       "        0_predict  1_predict\n",
       "0_real         50        532\n",
       "1_real         43       1064"
      ]
     },
     "execution_count": 126,
     "metadata": {},
     "output_type": "execute_result"
    }
   ],
   "source": [
    "# In-sample prediction results\n",
    "model_evaluation(clf, X_test, y_test)"
   ]
  },
  {
   "cell_type": "code",
   "execution_count": null,
   "metadata": {},
   "outputs": [],
   "source": []
  },
  {
   "cell_type": "code",
   "execution_count": null,
   "metadata": {},
   "outputs": [],
   "source": []
  },
  {
   "cell_type": "code",
   "execution_count": null,
   "metadata": {},
   "outputs": [],
   "source": []
  },
  {
   "cell_type": "code",
   "execution_count": null,
   "metadata": {},
   "outputs": [],
   "source": []
  }
 ],
 "metadata": {
  "kernelspec": {
   "display_name": "Python 3",
   "language": "python",
   "name": "python3"
  },
  "language_info": {
   "codemirror_mode": {
    "name": "ipython",
    "version": 3
   },
   "file_extension": ".py",
   "mimetype": "text/x-python",
   "name": "python",
   "nbconvert_exporter": "python",
   "pygments_lexer": "ipython3",
   "version": "3.8.5"
  }
 },
 "nbformat": 4,
 "nbformat_minor": 4
}
