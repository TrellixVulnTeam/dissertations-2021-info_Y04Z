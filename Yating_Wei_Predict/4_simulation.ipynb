{
 "cells": [
  {
   "cell_type": "code",
   "execution_count": 1,
   "metadata": {},
   "outputs": [],
   "source": [
    "import warnings; warnings.simplefilter('ignore')      # 忽略警告信息；\n",
    "import pandas as pd\n",
    "import numpy as np\n",
    "import seaborn as sns\n",
    "%matplotlib inline\n",
    "# from scipy.stats import norm\n",
    "from matplotlib import pyplot as plt\n",
    "from tqdm import *"
   ]
  },
  {
   "cell_type": "markdown",
   "metadata": {},
   "source": [
    "## Predict reinvest decisions"
   ]
  },
  {
   "cell_type": "code",
   "execution_count": 2,
   "metadata": {},
   "outputs": [],
   "source": [
    "df = pd.read_csv('modified_data.csv')\n",
    "del df['Unnamed: 0']\n",
    "choose_feature = pd.read_csv('choose_feature.csv')\n",
    "del choose_feature['Unnamed: 0']"
   ]
  },
  {
   "cell_type": "code",
   "execution_count": 3,
   "metadata": {},
   "outputs": [],
   "source": [
    "choose_label = df['label']\n",
    "choose_feature['rounds'] = df['rounds']"
   ]
  },
  {
   "cell_type": "code",
   "execution_count": 4,
   "metadata": {},
   "outputs": [],
   "source": [
    "df['investor_name'] = df['first_name'].apply(str) + df['last_name'].apply(str) \n",
    "compy_name = df['Company name'].unique().tolist()\n",
    "invstr_name = df['investor_name'].unique().tolist()\n",
    "ddd = pd.DataFrame()"
   ]
  },
  {
   "cell_type": "code",
   "execution_count": 5,
   "metadata": {},
   "outputs": [
    {
     "name": "stderr",
     "output_type": "stream",
     "text": [
      "100%|██████████████████████████████████████████████████████████████████████████████████| 82/82 [10:10<00:00,  7.44s/it]\n"
     ]
    }
   ],
   "source": [
    "for compy in tqdm(compy_name):\n",
    "    for invt in invstr_name:\n",
    "        dd = df[(df['Company name'] == compy)&(df.investor_name == invt)]\n",
    "        dd = dd.sort_values(by='rounds')\n",
    "        try:\n",
    "            dd['percent_total_1'] = dd['percent_total'].values[0]\n",
    "            ddd = pd.concat([ddd,dd],axis=0)\n",
    "#             print(ddd.head(2))\n",
    "        except:\n",
    "            continue"
   ]
  },
  {
   "cell_type": "code",
   "execution_count": 6,
   "metadata": {},
   "outputs": [],
   "source": [
    "data = ddd.copy()"
   ]
  },
  {
   "cell_type": "code",
   "execution_count": 7,
   "metadata": {},
   "outputs": [],
   "source": [
    "data['percent_total'] = data['percent_total_1']"
   ]
  },
  {
   "cell_type": "code",
   "execution_count": 8,
   "metadata": {},
   "outputs": [],
   "source": [
    "choose_factor = [i for i in df.columns if i in ['rounds','percent_total','valuation','value_chg',\n",
    "                                                 'follow_count','industry_2','industry_val',\n",
    "                                                 'investor_count','founder_count','male_ratio','rate']]"
   ]
  },
  {
   "cell_type": "code",
   "execution_count": 10,
   "metadata": {},
   "outputs": [],
   "source": [
    "import xgboost as xgb \n",
    "from sklearn.model_selection import train_test_split  # Split training set and test set\n",
    "from sklearn.preprocessing import LabelEncoder   # Labelled classification parameters\n",
    "le = LabelEncoder()\n",
    "choose_label = le.fit_transform(choose_label)\n",
    "X_train,X_test,y_train,y_test = train_test_split(choose_feature, choose_label,test_size=0.3,random_state=1,stratify=choose_label)\n",
    "dtrain = xgb.DMatrix(X_train, label=y_train)\n",
    "dtest = xgb.DMatrix(X_test)\n",
    "# 1.Booster parameters\n",
    "params = {\n",
    "    'booster': 'gbtree',\n",
    "    'objective': 'multi:softmax',\n",
    "    \n",
    "    'num_class': 10,               # Number of classes, used in conjunction with multisoftmax    \n",
    "                                   #'objective': 'multi:softmax'\n",
    "                                   # Multiple classification issues 'objective':'binary:logistic'\n",
    "    'gamma': 0.1,                  # The larger the parameter, the more conservative it is, usually 0.1 or 0.2.\n",
    "    'max_depth': 30,               # Build the depth of the tree, the larger the tree, the easier it is to over-fit.\n",
    "    'lambda': 1,                   # The parameter of the L1 regularisation term that controls the weight value of the model complexity.\n",
    "                                   #the larger the parameter, the less likely the model is to be overfitted.\n",
    "    'subsample': 0.9,              # randomly sampled training samples\n",
    "    'colsample_bytree': 0.8,       # column sampling during tree generation\n",
    "    'min_child_weight': 3,\n",
    "    'silent': 0,                   # If it is set to 1, no run message is output and it is better to set it to 0.\n",
    "    'eta': 0.003,                  # similar with the learning rate\n",
    "    'seed': 1000,\n",
    "    'nthread': 6,                  # cpu threads# specify the validation set\n",
    "    'eval_metric':'auc'\n",
    "}\n",
    "plst = list(params.items())\n",
    "# evallist = [(dtest, 'eval'), (dtrain, 'train')]   # specify the validation set"
   ]
  },
  {
   "cell_type": "code",
   "execution_count": 11,
   "metadata": {},
   "outputs": [
    {
     "name": "stdout",
     "output_type": "stream",
     "text": [
      "[01:10:02] WARNING: C:/Users/Administrator/workspace/xgboost-win64_release_1.4.0/src/learner.cc:573: \n",
      "Parameters: { \"silent\" } might not be used.\n",
      "\n",
      "  This may not be accurate due to some parameters are only used in language bindings but\n",
      "  passed down to XGBoost core.  Or some parameters are not used but slip through this\n",
      "  verification. Please open an issue if you find above cases.\n",
      "\n",
      "\n"
     ]
    }
   ],
   "source": [
    "# 2.train\n",
    "num_round = 10\n",
    "bst = xgb.train(plst, dtrain, num_round)\n",
    "#bst = xgb.train( plst, dtrain, num_round, evallist )"
   ]
  },
  {
   "cell_type": "code",
   "execution_count": 12,
   "metadata": {},
   "outputs": [],
   "source": [
    "data['predict_label'] = bst.predict(xgb.DMatrix(data[choose_factor]))"
   ]
  },
  {
   "cell_type": "code",
   "execution_count": 13,
   "metadata": {},
   "outputs": [
    {
     "data": {
      "text/plain": [
       "Index(['Company name', 'filing_date', 'total_shares', 'round_shares', 'rounds',\n",
       "       'first_name', 'last_name', 'number_of_shares', 'percent_total',\n",
       "       'Deal date', 'Investment amount', 'Incorporation date', 'Current stage',\n",
       "       'Exit date', 'Exit price', 'investor_count', 'male', 'female',\n",
       "       'founder_count', 'exit_shares', 'add_shares', 'follow', 'valuation',\n",
       "       'first_industry', 'value_chg', 'follow_count', 'rate', 'industry_val',\n",
       "       'male_ratio', 'label', 'industry_1', 'industry_2', 'investor_name',\n",
       "       'percent_total_1', 'predict_label'],\n",
       "      dtype='object')"
      ]
     },
     "execution_count": 13,
     "metadata": {},
     "output_type": "execute_result"
    }
   ],
   "source": [
    "data.columns"
   ]
  },
  {
   "cell_type": "code",
   "execution_count": 14,
   "metadata": {},
   "outputs": [],
   "source": [
    "data['paid_in_once'] = data['round_shares']*data['valuation']*data['percent_total']"
   ]
  },
  {
   "cell_type": "code",
   "execution_count": 15,
   "metadata": {},
   "outputs": [],
   "source": [
    "data_add_paidin = pd.DataFrame()"
   ]
  },
  {
   "cell_type": "code",
   "execution_count": 16,
   "metadata": {},
   "outputs": [
    {
     "name": "stderr",
     "output_type": "stream",
     "text": [
      "100%|██████████████████████████████████████████████████████████████████████████████████| 82/82 [45:30<00:00, 33.30s/it]\n"
     ]
    }
   ],
   "source": [
    "for compy in tqdm(compy_name):\n",
    "    for invt in invstr_name:\n",
    "        dd = data[(data['Company name'] == compy)&(data.investor_name == invt)]\n",
    "        dd = dd.sort_values(by='rounds')\n",
    "        dd['paid_in'] = dd['paid_in_once'].cumsum()\n",
    "        data_add_paidin = pd.concat([data_add_paidin,dd],axis=0)"
   ]
  },
  {
   "cell_type": "code",
   "execution_count": 17,
   "metadata": {},
   "outputs": [],
   "source": [
    "data_add_paidin.to_csv('data_add_paidin.csv')"
   ]
  },
  {
   "cell_type": "markdown",
   "metadata": {},
   "source": [
    "## import data_add_paidin.csv"
   ]
  },
  {
   "cell_type": "code",
   "execution_count": 18,
   "metadata": {},
   "outputs": [],
   "source": [
    "data_add_paidin = pd.read_csv('data_add_paidin.csv')\n",
    "del data_add_paidin['Unnamed: 0']"
   ]
  },
  {
   "cell_type": "code",
   "execution_count": 19,
   "metadata": {
    "scrolled": true
   },
   "outputs": [
    {
     "data": {
      "text/plain": [
       "Index(['Company name', 'filing_date', 'total_shares', 'round_shares', 'rounds',\n",
       "       'first_name', 'last_name', 'number_of_shares', 'percent_total',\n",
       "       'Deal date', 'Investment amount', 'Incorporation date', 'Current stage',\n",
       "       'Exit date', 'Exit price', 'investor_count', 'male', 'female',\n",
       "       'founder_count', 'exit_shares', 'add_shares', 'follow', 'valuation',\n",
       "       'first_industry', 'value_chg', 'follow_count', 'rate', 'industry_val',\n",
       "       'male_ratio', 'label', 'industry_1', 'industry_2', 'investor_name',\n",
       "       'percent_total_1', 'predict_label', 'paid_in_once', 'paid_in'],\n",
       "      dtype='object')"
      ]
     },
     "execution_count": 19,
     "metadata": {},
     "output_type": "execute_result"
    }
   ],
   "source": [
    "data_add_paidin.columns"
   ]
  },
  {
   "attachments": {},
   "cell_type": "markdown",
   "metadata": {},
   "source": [
    "## Always Follow-on\n",
    "### Involve in every funding round until the company Dead/M&A/IPO."
   ]
  },
  {
   "cell_type": "code",
   "execution_count": 20,
   "metadata": {},
   "outputs": [],
   "source": [
    "temp = data_add_paidin.drop_duplicates(subset=['Company name','investor_name'], keep='last', inplace=False) "
   ]
  },
  {
   "cell_type": "code",
   "execution_count": 21,
   "metadata": {},
   "outputs": [],
   "source": [
    "temp['tvpi'] = temp['percent_total'] * temp['Exit price']/temp['paid_in']"
   ]
  },
  {
   "cell_type": "code",
   "execution_count": 22,
   "metadata": {},
   "outputs": [],
   "source": [
    "always = pd.merge(data_add_paidin,temp[['Company name','investor_name','tvpi']],on=['Company name','investor_name'],how='outer')"
   ]
  },
  {
   "cell_type": "code",
   "execution_count": 40,
   "metadata": {},
   "outputs": [],
   "source": [
    "always.to_csv(r'always_tvpi.csv')"
   ]
  },
  {
   "cell_type": "code",
   "execution_count": 23,
   "metadata": {},
   "outputs": [],
   "source": [
    "always = always.dropna()"
   ]
  },
  {
   "cell_type": "code",
   "execution_count": 24,
   "metadata": {},
   "outputs": [
    {
     "name": "stdout",
     "output_type": "stream",
     "text": [
      "always_mean = 0.5496734257176457\n",
      "always_median = 0.0\n"
     ]
    }
   ],
   "source": [
    "always_mean = np.mean(always['tvpi'].values.tolist())\n",
    "always_median = np.median(always['tvpi'].values.tolist())\n",
    "print('always_mean =',always_mean)\n",
    "print('always_median =',always_median)"
   ]
  },
  {
   "cell_type": "code",
   "execution_count": 25,
   "metadata": {},
   "outputs": [
    {
     "data": {
      "text/plain": [
       "0.000000     1543\n",
       "9.331895       42\n",
       "7.260005       15\n",
       "7.260005       15\n",
       "0.431035        8\n",
       "7.260005        6\n",
       "0.431035        4\n",
       "12.164524       3\n",
       "18.663790       3\n",
       "18.246786       2\n",
       "32.699423       2\n",
       "32.699423       1\n",
       "18.663790       1\n",
       "Name: tvpi, dtype: int64"
      ]
     },
     "execution_count": 25,
     "metadata": {},
     "output_type": "execute_result"
    }
   ],
   "source": [
    "always['tvpi'].value_counts()"
   ]
  },
  {
   "cell_type": "code",
   "execution_count": 26,
   "metadata": {},
   "outputs": [
    {
     "data": {
      "text/plain": [
       "<AxesSubplot:xlabel='tvpi', ylabel='Density'>"
      ]
     },
     "execution_count": 26,
     "metadata": {},
     "output_type": "execute_result"
    },
    {
     "data": {
      "image/png": "[encoded data removed]",
      "text/plain": [
       "<Figure size 432x288 with 1 Axes>"
      ]
     },
     "metadata": {
      "needs_background": "light"
     },
     "output_type": "display_data"
    }
   ],
   "source": [
    "sns.distplot(always['tvpi'])"
   ]
  },
  {
   "attachments": {},
   "cell_type": "markdown",
   "metadata": {},
   "source": [
    "## Never Follow-on\n",
    "### Only involve in the first funding round."
   ]
  },
  {
   "cell_type": "code",
   "execution_count": 27,
   "metadata": {},
   "outputs": [],
   "source": [
    "never = always.loc[always['rounds']==1]"
   ]
  },
  {
   "cell_type": "code",
   "execution_count": 28,
   "metadata": {},
   "outputs": [],
   "source": [
    "never['tvpi'] = never['percent_total']*never['Exit price']/never['paid_in_once']"
   ]
  },
  {
   "cell_type": "code",
   "execution_count": 29,
   "metadata": {},
   "outputs": [
    {
     "name": "stdout",
     "output_type": "stream",
     "text": [
      "never_mean = 0.02972654808523686\n",
      "never_median = 0.0\n"
     ]
    }
   ],
   "source": [
    "never_mean = np.mean(never['tvpi'].values.tolist())\n",
    "never_median = np.median(never['tvpi'].values.tolist())\n",
    "print('never_mean =',never_mean)\n",
    "print('never_median =',never_median)"
   ]
  },
  {
   "cell_type": "code",
   "execution_count": 30,
   "metadata": {},
   "outputs": [
    {
     "data": {
      "text/plain": [
       "0.00000    171\n",
       "1.72414      2\n",
       "1.72414      1\n",
       "Name: tvpi, dtype: int64"
      ]
     },
     "execution_count": 30,
     "metadata": {},
     "output_type": "execute_result"
    }
   ],
   "source": [
    "never['tvpi'].value_counts()"
   ]
  },
  {
   "cell_type": "code",
   "execution_count": 31,
   "metadata": {},
   "outputs": [
    {
     "data": {
      "text/plain": [
       "<AxesSubplot:xlabel='tvpi', ylabel='Density'>"
      ]
     },
     "execution_count": 31,
     "metadata": {},
     "output_type": "execute_result"
    },
    {
     "data": {
      "image/png": "[encoded data removed]",
      "text/plain": [
       "<Figure size 432x288 with 1 Axes>"
      ]
     },
     "metadata": {
      "needs_background": "light"
     },
     "output_type": "display_data"
    }
   ],
   "source": [
    "sns.distplot(never['tvpi'])"
   ]
  },
  {
   "attachments": {},
   "cell_type": "markdown",
   "metadata": {},
   "source": [
    "## Follow-on according to the model predictions\n",
    "### Involve in subsequent rounds until the prediction output is ‘not follow-on’(label=0)"
   ]
  },
  {
   "cell_type": "code",
   "execution_count": 32,
   "metadata": {},
   "outputs": [],
   "source": [
    "# always['rounds'].unique().tolist()"
   ]
  },
  {
   "cell_type": "code",
   "execution_count": 33,
   "metadata": {
    "scrolled": true
   },
   "outputs": [],
   "source": [
    "# always['predict_label']"
   ]
  },
  {
   "cell_type": "code",
   "execution_count": 34,
   "metadata": {},
   "outputs": [
    {
     "name": "stderr",
     "output_type": "stream",
     "text": [
      "100%|████████████████████████████████████████████████████████████████████████████| 1645/1645 [00:00<00:00, 1867.15it/s]\n"
     ]
    }
   ],
   "source": [
    "predict = always\n",
    "length_column = predict.shape[0]\n",
    "\n",
    "for i in tqdm(range(0,length_column)):\n",
    "    if (predict['Company name'].iloc[i] == predict['Company name'].iloc[i-1])&(predict['investor_name'].iloc[i] == predict['investor_name'].iloc[i-1]):\n",
    "        predict['predict_label'].iloc[i] = predict['predict_label'].iloc[i]*predict['predict_label'].iloc[i-1]\n",
    "    else:\n",
    "        predict['predict_label'].iloc[i] = 1"
   ]
  },
  {
   "cell_type": "code",
   "execution_count": 35,
   "metadata": {},
   "outputs": [],
   "source": [
    "# predict.info()"
   ]
  },
  {
   "cell_type": "code",
   "execution_count": 36,
   "metadata": {},
   "outputs": [],
   "source": [
    "predict['add_shares'] = predict['percent_total'] * predict['round_shares'] * predict['predict_label']\n",
    "predict['paid_in_each'] = predict['add_shares'] * predict['valuation']"
   ]
  },
  {
   "cell_type": "code",
   "execution_count": 37,
   "metadata": {},
   "outputs": [
    {
     "name": "stderr",
     "output_type": "stream",
     "text": [
      "100%|█████████████████████████████████████████████████████████████████████████████| 1645/1645 [00:01<00:00, 989.18it/s]\n"
     ]
    }
   ],
   "source": [
    "predict['paid_in_add']=''\n",
    "length_column = predict.shape[0]\n",
    "for i in tqdm(range(0,length_column)):\n",
    "    if (predict['Company name'].iloc[i] == predict['Company name'].iloc[i-1])&(predict['investor_name'].iloc[i] == predict['investor_name'].iloc[i-1]):\n",
    "        predict['number_of_shares'].iloc[i] = predict['number_of_shares'].iloc[i-1] + predict['add_shares'].iloc[i]\n",
    "        predict['paid_in_add'].iloc[i] = predict['paid_in_add'].iloc[i-1] + predict['paid_in_each'].iloc[i]\n",
    "    else:\n",
    "        predict['number_of_shares'].iloc[i] = predict['add_shares'].iloc[i]\n",
    "        predict['paid_in_add'].iloc[i] = predict['paid_in_each'].iloc[i]    "
   ]
  },
  {
   "cell_type": "code",
   "execution_count": 38,
   "metadata": {},
   "outputs": [],
   "source": [
    "predict['tvpi'] = ((predict['number_of_shares'] / predict['total_shares']) * predict['Exit price']) / predict['paid_in_add']"
   ]
  },
  {
   "cell_type": "code",
   "execution_count": 39,
   "metadata": {},
   "outputs": [
    {
     "name": "stdout",
     "output_type": "stream",
     "text": [
      "predict_mean = 0.7083267727455683\n",
      "predict_median = 0.0\n"
     ]
    }
   ],
   "source": [
    "predict_mean = np.mean(predict['tvpi'].values.tolist())\n",
    "predict_median = np.median(predict['tvpi'].values.tolist())\n",
    "print('predict_mean =',predict_mean)\n",
    "print('predict_median =',predict_median)"
   ]
  },
  {
   "cell_type": "code",
   "execution_count": null,
   "metadata": {},
   "outputs": [],
   "source": []
  },
  {
   "cell_type": "code",
   "execution_count": null,
   "metadata": {},
   "outputs": [],
   "source": []
  },
  {
   "cell_type": "code",
   "execution_count": null,
   "metadata": {},
   "outputs": [],
   "source": []
  },
  {
   "cell_type": "code",
   "execution_count": null,
   "metadata": {},
   "outputs": [],
   "source": []
  },
  {
   "cell_type": "code",
   "execution_count": null,
   "metadata": {},
   "outputs": [],
   "source": []
  }
 ],
 "metadata": {
  "kernelspec": {
   "display_name": "Python 3",
   "language": "python",
   "name": "python3"
  },
  "language_info": {
   "codemirror_mode": {
    "name": "ipython",
    "version": 3
   },
   "file_extension": ".py",
   "mimetype": "text/x-python",
   "name": "python",
   "nbconvert_exporter": "python",
   "pygments_lexer": "ipython3",
   "version": "3.8.5"
  }
 },
 "nbformat": 4,
 "nbformat_minor": 4
}
