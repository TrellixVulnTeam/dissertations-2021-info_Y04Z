{
 "cells": [
  {
   "cell_type": "code",
   "execution_count": 1,
   "metadata": {},
   "outputs": [],
   "source": [
    "import warnings; warnings.simplefilter('ignore')      # 忽略警告信息；\n",
    "import pandas as pd\n",
    "import numpy as np\n",
    "import seaborn as sns\n",
    "%matplotlib inline\n",
    "# from scipy.stats import norm\n",
    "from matplotlib import pyplot as plt\n",
    "from tqdm import *"
   ]
  },
  {
   "cell_type": "markdown",
   "metadata": {},
   "source": [
    "## Predict reinvest decisions"
   ]
  },
  {
   "cell_type": "code",
   "execution_count": 2,
   "metadata": {},
   "outputs": [],
   "source": [
    "df = pd.read_csv('training_data.csv')\n",
    "del df['Unnamed: 0']"
   ]
  },
  {
   "cell_type": "code",
   "execution_count": null,
   "metadata": {},
   "outputs": [],
   "source": [
    "df['value_chg'] = (df['value_chg'] - df['value_chg'].min()) / (df['value_chg'].max() - df['value_chg'].min())\n",
    "df['percent_total'] = (df['percent_total'] - df['percent_total'].min()) / (df['percent_total'].max() - df['percent_total'].min())"
   ]
  },
  {
   "cell_type": "code",
   "execution_count": 3,
   "metadata": {},
   "outputs": [],
   "source": [
    "choose_factor = [i for i in df.columns if i in ['rounds','percent_total','value_chg','follow_count','industry_level',\n",
    "                                                 'industry_code','investor_count','founder_count','male_ratio','rate']]"
   ]
  },
  {
   "cell_type": "code",
   "execution_count": 4,
   "metadata": {},
   "outputs": [],
   "source": [
    "choose_feature = df[choose_factor]\n",
    "choose_label = df['label']"
   ]
  },
  {
   "cell_type": "code",
   "execution_count": 5,
   "metadata": {},
   "outputs": [
    {
     "name": "stdout",
     "output_type": "stream",
     "text": [
      "[(0, 5536), (1, 5536)]\n"
     ]
    }
   ],
   "source": [
    "from imblearn.over_sampling import SMOTE\n",
    "from collections import Counter\n",
    "\n",
    "X_resampled_smote, y_resampled_smote = SMOTE().fit_resample(choose_feature, choose_label)\n",
    "print(sorted(Counter(y_resampled_smote).items()))"
   ]
  },
  {
   "cell_type": "code",
   "execution_count": 6,
   "metadata": {},
   "outputs": [],
   "source": [
    "df['investor_name'] = df['first_name'].apply(str) + df['last_name'].apply(str) \n",
    "compy_name = df['Company name'].unique().tolist()\n",
    "invstr_name = df['investor_name'].unique().tolist()\n",
    "ddd = pd.DataFrame()"
   ]
  },
  {
   "cell_type": "code",
   "execution_count": 7,
   "metadata": {},
   "outputs": [
    {
     "name": "stderr",
     "output_type": "stream",
     "text": [
      "100%|██████████████████████████████████████████████████████████████████████████████████| 82/82 [09:49<00:00,  7.19s/it]\n"
     ]
    }
   ],
   "source": [
    "for compy in tqdm(compy_name):\n",
    "    for invt in invstr_name:\n",
    "        dd = df[(df['Company name'] == compy)&(df.investor_name == invt)]\n",
    "        dd = dd.sort_values(by='rounds')\n",
    "        try:\n",
    "            dd['percent_total_1'] = dd['percent_total'].values[0]\n",
    "            ddd = pd.concat([ddd,dd],axis=0)\n",
    "#             print(ddd.head(2))\n",
    "        except:\n",
    "            continue"
   ]
  },
  {
   "cell_type": "code",
   "execution_count": 8,
   "metadata": {},
   "outputs": [],
   "source": [
    "data = ddd.copy()"
   ]
  },
  {
   "cell_type": "code",
   "execution_count": 9,
   "metadata": {},
   "outputs": [],
   "source": [
    "data['percent_total'] = data['percent_total_1']"
   ]
  },
  {
   "cell_type": "code",
   "execution_count": 10,
   "metadata": {},
   "outputs": [],
   "source": [
    "from sklearn.model_selection import train_test_split\n",
    "from sklearn import tree\n",
    "from sklearn.ensemble import RandomForestClassifier\n",
    "\n",
    "X_train,X_test,y_train,y_test = train_test_split(choose_feature, choose_label,test_size=0.3,random_state=1,stratify=choose_label)\n",
    "clf_forest = RandomForestClassifier(n_estimators=10, max_features='sqrt', max_depth=100, class_weight='balanced')\n",
    "clf_forest.fit(X_train,y_train)\n",
    "predict = clf_forest.predict(X_test)\n",
    "print(sm.classification_report(y_test,predict))\n",
    "\n",
    "precision = precision_score(y_test,predict)\n",
    "print(\"precision: %.3f%%\" % (precision*100.0))"
   ]
  },
  {
   "cell_type": "code",
   "execution_count": null,
   "metadata": {},
   "outputs": [],
   "source": [
    "# print the importance of features\n",
    "importances = clf_forest.feature_importances_ \n",
    "importances_df = pd.DataFrame([choose_factor, importances], index=['Features', 'Importances']).T\n",
    "importances_df.sort_values(by='Importances',ascending=False).head(10)"
   ]
  },
  {
   "cell_type": "code",
   "execution_count": null,
   "metadata": {},
   "outputs": [],
   "source": [
    "importances_df.set_index('Features').sort_values(by='Importances',ascending=False).head(10).plot.bar(figsize=(14,6),title='Feature Importance')"
   ]
  },
  {
   "cell_type": "code",
   "execution_count": 12,
   "metadata": {},
   "outputs": [],
   "source": [
    "data['predict_label'] = clf_forest.predict(data[choose_factor])"
   ]
  },
  {
   "cell_type": "code",
   "execution_count": 13,
   "metadata": {},
   "outputs": [
    {
     "data": {
      "text/plain": [
       "Index(['Company name', 'filing_date', 'total_shares', 'round_shares', 'rounds',\n",
       "       'first_name', 'last_name', 'number_of_shares', 'percent_total',\n",
       "       'Deal date', 'Investment amount', 'Incorporation date', 'Current stage',\n",
       "       'Exit date', 'Exit price', 'investor_count', 'male', 'female',\n",
       "       'founder_count', 'exit_shares', 'add_shares', 'follow', 'valuation',\n",
       "       'first_industry', 'value_chg', 'follow_count', 'rate', 'industry_val',\n",
       "       'mean_val', 'industry_level', 'industry_code', 'male_ratio', 'label',\n",
       "       'investor_name', 'percent_total_1', 'predict_label'],\n",
       "      dtype='object')"
      ]
     },
     "execution_count": 13,
     "metadata": {},
     "output_type": "execute_result"
    }
   ],
   "source": [
    "data.columns"
   ]
  },
  {
   "cell_type": "code",
   "execution_count": 14,
   "metadata": {},
   "outputs": [],
   "source": [
    "data['paid_in_once'] = data['round_shares']*data['valuation']*data['percent_total']"
   ]
  },
  {
   "cell_type": "code",
   "execution_count": 15,
   "metadata": {},
   "outputs": [],
   "source": [
    "data_add_paidin = pd.DataFrame()"
   ]
  },
  {
   "cell_type": "code",
   "execution_count": 16,
   "metadata": {},
   "outputs": [
    {
     "name": "stderr",
     "output_type": "stream",
     "text": [
      "100%|██████████████████████████████████████████████████████████████████████████████████| 82/82 [45:58<00:00, 33.64s/it]\n"
     ]
    }
   ],
   "source": [
    "for compy in tqdm(compy_name):\n",
    "    for invt in invstr_name:\n",
    "        dd = data[(data['Company name'] == compy)&(data.investor_name == invt)]\n",
    "        dd = dd.sort_values(by='rounds')\n",
    "        dd['paid_in'] = dd['paid_in_once'].cumsum()\n",
    "        data_add_paidin = pd.concat([data_add_paidin,dd],axis=0)"
   ]
  },
  {
   "cell_type": "code",
   "execution_count": 17,
   "metadata": {},
   "outputs": [],
   "source": [
    "data_add_paidin.to_csv('data_add_paidin.csv')"
   ]
  },
  {
   "cell_type": "markdown",
   "metadata": {},
   "source": [
    "## import data_add_paidin.csv"
   ]
  },
  {
   "cell_type": "code",
   "execution_count": 18,
   "metadata": {},
   "outputs": [],
   "source": [
    "data_add_paidin = pd.read_csv('data_add_paidin.csv')\n",
    "del data_add_paidin['Unnamed: 0']"
   ]
  },
  {
   "cell_type": "code",
   "execution_count": 19,
   "metadata": {
    "scrolled": true
   },
   "outputs": [
    {
     "data": {
      "text/plain": [
       "Index(['Company name', 'filing_date', 'total_shares', 'round_shares', 'rounds',\n",
       "       'first_name', 'last_name', 'number_of_shares', 'percent_total',\n",
       "       'Deal date', 'Investment amount', 'Incorporation date', 'Current stage',\n",
       "       'Exit date', 'Exit price', 'investor_count', 'male', 'female',\n",
       "       'founder_count', 'exit_shares', 'add_shares', 'follow', 'valuation',\n",
       "       'first_industry', 'value_chg', 'follow_count', 'rate', 'industry_val',\n",
       "       'mean_val', 'industry_level', 'industry_code', 'male_ratio', 'label',\n",
       "       'investor_name', 'percent_total_1', 'predict_label', 'paid_in_once',\n",
       "       'paid_in'],\n",
       "      dtype='object')"
      ]
     },
     "execution_count": 19,
     "metadata": {},
     "output_type": "execute_result"
    }
   ],
   "source": [
    "data_add_paidin.columns"
   ]
  },
  {
   "cell_type": "markdown",
   "metadata": {},
   "source": [
    "## Always Follow-on\n",
    "### Involve in every funding round until the company Dead/M&A/IPO."
   ]
  },
  {
   "cell_type": "code",
   "execution_count": 20,
   "metadata": {},
   "outputs": [],
   "source": [
    "temp = data_add_paidin.drop_duplicates(subset=['Company name','investor_name'], keep='last', inplace=False) "
   ]
  },
  {
   "cell_type": "code",
   "execution_count": 21,
   "metadata": {},
   "outputs": [],
   "source": [
    "temp['tvpi'] = temp['percent_total'] * temp['Exit price']/temp['paid_in']"
   ]
  },
  {
   "cell_type": "code",
   "execution_count": 22,
   "metadata": {},
   "outputs": [],
   "source": [
    "always = pd.merge(data_add_paidin,temp[['Company name','investor_name','tvpi']],on=['Company name','investor_name'],how='outer')"
   ]
  },
  {
   "cell_type": "code",
   "execution_count": 23,
   "metadata": {},
   "outputs": [],
   "source": [
    "always.to_csv(r'always_tvpi.csv')"
   ]
  },
  {
   "cell_type": "code",
   "execution_count": 24,
   "metadata": {},
   "outputs": [],
   "source": [
    "always = always.dropna()"
   ]
  },
  {
   "cell_type": "code",
   "execution_count": 25,
   "metadata": {},
   "outputs": [
    {
     "name": "stdout",
     "output_type": "stream",
     "text": [
      "always_mean = 0.39537069755379417\n",
      "always_median = 0.0\n"
     ]
    }
   ],
   "source": [
    "always_mean = np.mean(always['tvpi'].values.tolist())\n",
    "always_median = np.median(always['tvpi'].values.tolist())\n",
    "print('always_mean =',always_mean)\n",
    "print('always_median =',always_median)"
   ]
  },
  {
   "cell_type": "code",
   "execution_count": 26,
   "metadata": {},
   "outputs": [
    {
     "data": {
      "text/plain": [
       "0.000000     2185\n",
       "9.331895       34\n",
       "7.260005       27\n",
       "0.431035       12\n",
       "9.331895        6\n",
       "7.260005        6\n",
       "32.699423       3\n",
       "12.164524       3\n",
       "7.260005        3\n",
       "18.663790       3\n",
       "18.246786       2\n",
       "9.331895        2\n",
       "18.663790       1\n",
       "Name: tvpi, dtype: int64"
      ]
     },
     "execution_count": 26,
     "metadata": {},
     "output_type": "execute_result"
    }
   ],
   "source": [
    "always['tvpi'].value_counts()"
   ]
  },
  {
   "cell_type": "code",
   "execution_count": 27,
   "metadata": {},
   "outputs": [
    {
     "data": {
      "text/plain": [
       "<AxesSubplot:xlabel='tvpi', ylabel='Density'>"
      ]
     },
     "execution_count": 27,
     "metadata": {},
     "output_type": "execute_result"
    },
    {
     "data": {
      "image/png": "[encoded data removed]",
      "text/plain": [
       "<Figure size 432x288 with 1 Axes>"
      ]
     },
     "metadata": {
      "needs_background": "light"
     },
     "output_type": "display_data"
    }
   ],
   "source": [
    "sns.distplot(always['tvpi'])"
   ]
  },
  {
   "cell_type": "markdown",
   "metadata": {},
   "source": [
    "## Never Follow-on\n",
    "### Only involve in the first funding round."
   ]
  },
  {
   "cell_type": "code",
   "execution_count": 41,
   "metadata": {},
   "outputs": [],
   "source": [
    "never = always.drop_duplicates(subset=['Company name','last_name','first_name'], keep='first', inplace=False)"
   ]
  },
  {
   "cell_type": "code",
   "execution_count": 42,
   "metadata": {},
   "outputs": [],
   "source": [
    "never['tvpi'] = never['percent_total']*never['Exit price']/never['paid_in_once']"
   ]
  },
  {
   "cell_type": "code",
   "execution_count": 43,
   "metadata": {},
   "outputs": [
    {
     "name": "stdout",
     "output_type": "stream",
     "text": [
      "never_mean = 0.963019235410572\n",
      "never_median = 0.0\n"
     ]
    }
   ],
   "source": [
    "never_mean = np.mean(never['tvpi'].values.tolist())\n",
    "never_median = np.median(never['tvpi'].values.tolist())\n",
    "print('never_mean =',never_mean)\n",
    "print('never_median =',never_median)"
   ]
  },
  {
   "cell_type": "code",
   "execution_count": 44,
   "metadata": {},
   "outputs": [
    {
     "data": {
      "text/plain": [
       "0.000000     1030\n",
       "18.663790      22\n",
       "32.699423      15\n",
       "1.724140        3\n",
       "18.663790       2\n",
       "18.663790       1\n",
       "36.493572       1\n",
       "36.493572       1\n",
       "Name: tvpi, dtype: int64"
      ]
     },
     "execution_count": 44,
     "metadata": {},
     "output_type": "execute_result"
    }
   ],
   "source": [
    "never['tvpi'].value_counts()"
   ]
  },
  {
   "cell_type": "code",
   "execution_count": 32,
   "metadata": {},
   "outputs": [
    {
     "data": {
      "text/plain": [
       "<AxesSubplot:xlabel='tvpi', ylabel='Density'>"
      ]
     },
     "execution_count": 32,
     "metadata": {},
     "output_type": "execute_result"
    },
    {
     "data": {
      "image/png": "[encoded data removed]",
      "text/plain": [
       "<Figure size 432x288 with 1 Axes>"
      ]
     },
     "metadata": {
      "needs_background": "light"
     },
     "output_type": "display_data"
    }
   ],
   "source": [
    "sns.distplot(never['tvpi'])"
   ]
  },
  {
   "cell_type": "markdown",
   "metadata": {},
   "source": [
    "## Follow-on according to the model predictions\n",
    "### Involve in subsequent rounds until the prediction output is ‘not follow-on’(label=0)"
   ]
  },
  {
   "cell_type": "code",
   "execution_count": 33,
   "metadata": {},
   "outputs": [],
   "source": [
    "# always['rounds'].unique().tolist()"
   ]
  },
  {
   "cell_type": "code",
   "execution_count": 34,
   "metadata": {
    "scrolled": true
   },
   "outputs": [],
   "source": [
    "# always['predict_label']"
   ]
  },
  {
   "cell_type": "code",
   "execution_count": 35,
   "metadata": {},
   "outputs": [
    {
     "name": "stderr",
     "output_type": "stream",
     "text": [
      "100%|████████████████████████████████████████████████████████████████████████████| 2287/2287 [00:01<00:00, 1768.76it/s]\n"
     ]
    }
   ],
   "source": [
    "predict = always\n",
    "length_column = predict.shape[0]\n",
    "\n",
    "for i in tqdm(range(0,length_column)):\n",
    "    if (predict['Company name'].iloc[i] == predict['Company name'].iloc[i-1])&(predict['investor_name'].iloc[i] == predict['investor_name'].iloc[i-1]):\n",
    "        predict['predict_label'].iloc[i] = predict['predict_label'].iloc[i]*predict['predict_label'].iloc[i-1]\n",
    "    else:\n",
    "        predict['predict_label'].iloc[i] = 1"
   ]
  },
  {
   "cell_type": "code",
   "execution_count": 36,
   "metadata": {},
   "outputs": [],
   "source": [
    "# predict.info()"
   ]
  },
  {
   "cell_type": "code",
   "execution_count": 37,
   "metadata": {},
   "outputs": [],
   "source": [
    "predict['add_shares'] = predict['percent_total'] * predict['round_shares'] * predict['predict_label']\n",
    "predict['paid_in_each'] = predict['add_shares'] * predict['valuation']"
   ]
  },
  {
   "cell_type": "code",
   "execution_count": 38,
   "metadata": {},
   "outputs": [
    {
     "name": "stderr",
     "output_type": "stream",
     "text": [
      "100%|█████████████████████████████████████████████████████████████████████████████| 2287/2287 [00:02<00:00, 950.15it/s]\n"
     ]
    }
   ],
   "source": [
    "predict['paid_in_add']=''\n",
    "length_column = predict.shape[0]\n",
    "for i in tqdm(range(0,length_column)):\n",
    "    if (predict['Company name'].iloc[i] == predict['Company name'].iloc[i-1])&(predict['investor_name'].iloc[i] == predict['investor_name'].iloc[i-1]):\n",
    "        predict['number_of_shares'].iloc[i] = predict['number_of_shares'].iloc[i-1] + predict['add_shares'].iloc[i]\n",
    "        predict['paid_in_add'].iloc[i] = predict['paid_in_add'].iloc[i-1] + predict['paid_in_each'].iloc[i]\n",
    "    else:\n",
    "        predict['number_of_shares'].iloc[i] = predict['add_shares'].iloc[i]\n",
    "        predict['paid_in_add'].iloc[i] = predict['paid_in_each'].iloc[i]    "
   ]
  },
  {
   "cell_type": "code",
   "execution_count": 39,
   "metadata": {},
   "outputs": [],
   "source": [
    "predict['tvpi'] = ((predict['number_of_shares'] / predict['total_shares']) * predict['Exit price']) / predict['paid_in_add']"
   ]
  },
  {
   "cell_type": "code",
   "execution_count": 40,
   "metadata": {},
   "outputs": [
    {
     "name": "stdout",
     "output_type": "stream",
     "text": [
      "predict_mean = 0.5094873376329077\n",
      "predict_median = 0.0\n"
     ]
    }
   ],
   "source": [
    "predict_mean = np.mean(predict['tvpi'].values.tolist())\n",
    "predict_median = np.median(predict['tvpi'].values.tolist())\n",
    "print('predict_mean =',predict_mean)\n",
    "print('predict_median =',predict_median)"
   ]
  },
  {
   "cell_type": "code",
   "execution_count": 45,
   "metadata": {},
   "outputs": [
    {
     "data": {
      "text/plain": [
       "0.000000     2185\n",
       "7.280746       17\n",
       "32.679959      14\n",
       "7.272611       10\n",
       "11.864366      10\n",
       "7.272611        9\n",
       "11.877637       9\n",
       "7.280746        4\n",
       "0.020853        3\n",
       "0.574713        2\n",
       "7.272611        2\n",
       "1.724140        2\n",
       "0.862070        2\n",
       "11.877637       2\n",
       "0.097638        1\n",
       "0.431035        1\n",
       "1.724140        1\n",
       "0.574713        1\n",
       "7.280746        1\n",
       "11.864366       1\n",
       "11.877637       1\n",
       "0.431035        1\n",
       "0.862070        1\n",
       "0.098101        1\n",
       "11.864366       1\n",
       "32.679959       1\n",
       "36.085710       1\n",
       "18.043403       1\n",
       "12.029575       1\n",
       "0.431035        1\n",
       "Name: tvpi, dtype: int64"
      ]
     },
     "execution_count": 45,
     "metadata": {},
     "output_type": "execute_result"
    }
   ],
   "source": [
    "predict['tvpi'].value_counts()"
   ]
  },
  {
   "cell_type": "code",
   "execution_count": 46,
   "metadata": {},
   "outputs": [
    {
     "data": {
      "text/plain": [
       "<AxesSubplot:xlabel='tvpi', ylabel='Density'>"
      ]
     },
     "execution_count": 46,
     "metadata": {},
     "output_type": "execute_result"
    },
    {
     "data": {
      "image/png": "[encoded data removed]",
      "text/plain": [
       "<Figure size 432x288 with 1 Axes>"
      ]
     },
     "metadata": {
      "needs_background": "light"
     },
     "output_type": "display_data"
    }
   ],
   "source": [
    "sns.distplot(predict['tvpi'])"
   ]
  },
  {
   "cell_type": "code",
   "execution_count": null,
   "metadata": {},
   "outputs": [],
   "source": []
  },
  {
   "cell_type": "code",
   "execution_count": null,
   "metadata": {},
   "outputs": [],
   "source": []
  },
  {
   "cell_type": "code",
   "execution_count": null,
   "metadata": {},
   "outputs": [],
   "source": []
  }
 ],
 "metadata": {
  "kernelspec": {
   "display_name": "Python 3",
   "language": "python",
   "name": "python3"
  },
  "language_info": {
   "codemirror_mode": {
    "name": "ipython",
    "version": 3
   },
   "file_extension": ".py",
   "mimetype": "text/x-python",
   "name": "python",
   "nbconvert_exporter": "python",
   "pygments_lexer": "ipython3",
   "version": "3.8.5"
  }
 },
 "nbformat": 4,
 "nbformat_minor": 4
}
