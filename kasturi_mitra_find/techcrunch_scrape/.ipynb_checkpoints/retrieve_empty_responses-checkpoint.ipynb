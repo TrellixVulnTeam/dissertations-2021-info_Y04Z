{
 "cells": [
  {
   "cell_type": "code",
   "execution_count": 1,
   "id": "fc032b48",
   "metadata": {},
   "outputs": [],
   "source": [
    "import pandas as pd"
   ]
  },
  {
   "cell_type": "code",
   "execution_count": 4,
   "id": "9b719eb9",
   "metadata": {},
   "outputs": [
    {
     "data": {
      "text/html": [
       "<div>\n",
       "<style scoped>\n",
       "    .dataframe tbody tr th:only-of-type {\n",
       "        vertical-align: middle;\n",
       "    }\n",
       "\n",
       "    .dataframe tbody tr th {\n",
       "        vertical-align: top;\n",
       "    }\n",
       "\n",
       "    .dataframe thead th {\n",
       "        text-align: right;\n",
       "    }\n",
       "</style>\n",
       "<table border=\"1\" class=\"dataframe\">\n",
       "  <thead>\n",
       "    <tr style=\"text-align: right;\">\n",
       "      <th></th>\n",
       "      <th>Unnamed: 0</th>\n",
       "      <th>article_id</th>\n",
       "      <th>organization</th>\n",
       "      <th>retrieved_result</th>\n",
       "    </tr>\n",
       "  </thead>\n",
       "  <tbody>\n",
       "    <tr>\n",
       "      <th>0</th>\n",
       "      <td>0</td>\n",
       "      <td>0</td>\n",
       "      <td>FamPay</td>\n",
       "      <td>&lt;div class=\"flex-1 mycontainer\"&gt;\\n&lt;div class=\"...</td>\n",
       "    </tr>\n",
       "    <tr>\n",
       "      <th>1</th>\n",
       "      <td>0</td>\n",
       "      <td>1</td>\n",
       "      <td>Ontario Teachers Pension Plan</td>\n",
       "      <td>&lt;div class=\"flex-1 mycontainer\"&gt;\\n&lt;div class=\"...</td>\n",
       "    </tr>\n",
       "    <tr>\n",
       "      <th>2</th>\n",
       "      <td>0</td>\n",
       "      <td>1</td>\n",
       "      <td>ApplyBoard</td>\n",
       "      <td>&lt;div class=\"flex-1 mycontainer\"&gt;\\n&lt;div class=\"...</td>\n",
       "    </tr>\n",
       "    <tr>\n",
       "      <th>3</th>\n",
       "      <td>0</td>\n",
       "      <td>1</td>\n",
       "      <td>Education Testing Services</td>\n",
       "      <td>&lt;div class=\"flex-1 mycontainer\"&gt;\\n&lt;div class=\"...</td>\n",
       "    </tr>\n",
       "    <tr>\n",
       "      <th>4</th>\n",
       "      <td>0</td>\n",
       "      <td>1</td>\n",
       "      <td>ETS</td>\n",
       "      <td>&lt;div class=\"flex-1 mycontainer\"&gt;\\n&lt;div class=\"...</td>\n",
       "    </tr>\n",
       "    <tr>\n",
       "      <th>...</th>\n",
       "      <td>...</td>\n",
       "      <td>...</td>\n",
       "      <td>...</td>\n",
       "      <td>...</td>\n",
       "    </tr>\n",
       "    <tr>\n",
       "      <th>1162</th>\n",
       "      <td>0</td>\n",
       "      <td>498</td>\n",
       "      <td>MSD Capital</td>\n",
       "      <td>&lt;div class=\"flex-1 mycontainer\"&gt;\\n&lt;div class=\"...</td>\n",
       "    </tr>\n",
       "    <tr>\n",
       "      <th>1163</th>\n",
       "      <td>0</td>\n",
       "      <td>498</td>\n",
       "      <td>NASCAR</td>\n",
       "      <td>&lt;div class=\"flex-1 mycontainer\"&gt;\\n&lt;div class=\"...</td>\n",
       "    </tr>\n",
       "    <tr>\n",
       "      <th>1164</th>\n",
       "      <td>0</td>\n",
       "      <td>499</td>\n",
       "      <td>CTO</td>\n",
       "      <td>&lt;div class=\"flex-1 mycontainer\"&gt;\\n&lt;div class=\"...</td>\n",
       "    </tr>\n",
       "    <tr>\n",
       "      <th>1165</th>\n",
       "      <td>0</td>\n",
       "      <td>499</td>\n",
       "      <td>VF Venture</td>\n",
       "      <td>&lt;div class=\"flex-1 mycontainer\"&gt;\\n&lt;div class=\"...</td>\n",
       "    </tr>\n",
       "    <tr>\n",
       "      <th>1166</th>\n",
       "      <td>0</td>\n",
       "      <td>499</td>\n",
       "      <td>Copenhagen</td>\n",
       "      <td>&lt;div class=\"flex-1 mycontainer\"&gt;\\n&lt;div class=\"...</td>\n",
       "    </tr>\n",
       "  </tbody>\n",
       "</table>\n",
       "<p>1167 rows × 4 columns</p>\n",
       "</div>"
      ],
      "text/plain": [
       "      Unnamed: 0  article_id                   organization  \\\n",
       "0              0           0                         FamPay   \n",
       "1              0           1  Ontario Teachers Pension Plan   \n",
       "2              0           1                     ApplyBoard   \n",
       "3              0           1     Education Testing Services   \n",
       "4              0           1                            ETS   \n",
       "...          ...         ...                            ...   \n",
       "1162           0         498                    MSD Capital   \n",
       "1163           0         498                         NASCAR   \n",
       "1164           0         499                            CTO   \n",
       "1165           0         499                     VF Venture   \n",
       "1166           0         499                     Copenhagen   \n",
       "\n",
       "                                       retrieved_result  \n",
       "0     <div class=\"flex-1 mycontainer\">\\n<div class=\"...  \n",
       "1     <div class=\"flex-1 mycontainer\">\\n<div class=\"...  \n",
       "2     <div class=\"flex-1 mycontainer\">\\n<div class=\"...  \n",
       "3     <div class=\"flex-1 mycontainer\">\\n<div class=\"...  \n",
       "4     <div class=\"flex-1 mycontainer\">\\n<div class=\"...  \n",
       "...                                                 ...  \n",
       "1162  <div class=\"flex-1 mycontainer\">\\n<div class=\"...  \n",
       "1163  <div class=\"flex-1 mycontainer\">\\n<div class=\"...  \n",
       "1164  <div class=\"flex-1 mycontainer\">\\n<div class=\"...  \n",
       "1165  <div class=\"flex-1 mycontainer\">\\n<div class=\"...  \n",
       "1166  <div class=\"flex-1 mycontainer\">\\n<div class=\"...  \n",
       "\n",
       "[1167 rows x 4 columns]"
      ]
     },
     "execution_count": 4,
     "metadata": {},
     "output_type": "execute_result"
    }
   ],
   "source": [
    "data = pd.read_csv(\"corepo_lookup_dump.csv\", quotechar='~', index_col=False)\n",
    "data"
   ]
  },
  {
   "cell_type": "code",
   "execution_count": 8,
   "id": "9304ddfb",
   "metadata": {},
   "outputs": [
    {
     "data": {
      "text/plain": [
       "14"
      ]
     },
     "execution_count": 8,
     "metadata": {},
     "output_type": "execute_result"
    }
   ],
   "source": [
    "# number of searches with no responses\n",
    "len(data[data['retrieved_result'] =='Empty'])"
   ]
  },
  {
   "cell_type": "code",
   "execution_count": 12,
   "id": "725571a2",
   "metadata": {},
   "outputs": [],
   "source": [
    "data2 = data[data['retrieved_result'] =='Empty'].drop(['Unnamed: 0', 'retrieved_result'], axis=1)"
   ]
  },
  {
   "cell_type": "code",
   "execution_count": 13,
   "id": "0d79a817",
   "metadata": {},
   "outputs": [],
   "source": [
    "data2.to_csv('organizations_no_info.csv', encoding='utf-8-sig')"
   ]
  }
 ],
 "metadata": {
  "kernelspec": {
   "display_name": "Python 3 (ipykernel)",
   "language": "python",
   "name": "python3"
  },
  "language_info": {
   "codemirror_mode": {
    "name": "ipython",
    "version": 3
   },
   "file_extension": ".py",
   "mimetype": "text/x-python",
   "name": "python",
   "nbconvert_exporter": "python",
   "pygments_lexer": "ipython3",
   "version": "3.9.2"
  }
 },
 "nbformat": 4,
 "nbformat_minor": 5
}
