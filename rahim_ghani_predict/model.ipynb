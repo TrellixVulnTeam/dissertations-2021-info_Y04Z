{
 "cells": [
  {
   "cell_type": "code",
   "execution_count": 1,
   "id": "sharing-worst",
   "metadata": {},
   "outputs": [],
   "source": [
    "import xgboost as xgb\n",
    "import pandas as pd\n",
    "from sklearn.model_selection import train_test_split\n",
    "from numpy import loadtxt\n",
    "from xgboost import XGBClassifier\n",
    "from sklearn.model_selection import train_test_split\n",
    "from sklearn.metrics import accuracy_score,recall_score,precision_score,f1_score,confusion_matrix\n",
    "from sklearn.utils import shuffle"
   ]
  },
  {
   "cell_type": "code",
   "execution_count": 2,
   "id": "comfortable-particular",
   "metadata": {},
   "outputs": [],
   "source": [
    "#import all data\n",
    "data = pd.read_csv(r'd:\\msc-project\\data\\final\\features_with_outcome.csv',encoding='utf=8')"
   ]
  },
  {
   "cell_type": "code",
   "execution_count": 19,
   "id": "gothic-sharp",
   "metadata": {},
   "outputs": [
    {
     "data": {
      "text/plain": [
       "26259"
      ]
     },
     "execution_count": 19,
     "metadata": {},
     "output_type": "execute_result"
    }
   ],
   "source": [
    "len(data)"
   ]
  },
  {
   "cell_type": "code",
   "execution_count": 3,
   "id": "biblical-introduction",
   "metadata": {},
   "outputs": [
    {
     "data": {
      "text/html": [
       "<div>\n",
       "<style scoped>\n",
       "    .dataframe tbody tr th:only-of-type {\n",
       "        vertical-align: middle;\n",
       "    }\n",
       "\n",
       "    .dataframe tbody tr th {\n",
       "        vertical-align: top;\n",
       "    }\n",
       "\n",
       "    .dataframe thead th {\n",
       "        text-align: right;\n",
       "    }\n",
       "</style>\n",
       "<table border=\"1\" class=\"dataframe\">\n",
       "  <thead>\n",
       "    <tr style=\"text-align: right;\">\n",
       "      <th></th>\n",
       "      <th>org_uuid</th>\n",
       "      <th>people_num_founder</th>\n",
       "      <th>people_is_founder_gender_diversity</th>\n",
       "      <th>people_is_bachelor</th>\n",
       "      <th>people_is_master</th>\n",
       "      <th>people_is_phd</th>\n",
       "      <th>people_is_mba</th>\n",
       "      <th>people_is_stem</th>\n",
       "      <th>people_is_ivy_league</th>\n",
       "      <th>people_is_top_100</th>\n",
       "      <th>...</th>\n",
       "      <th>network_is_country_vnm</th>\n",
       "      <th>network_is_country_yem</th>\n",
       "      <th>network_is_country_zaf</th>\n",
       "      <th>network_is_country_zmb</th>\n",
       "      <th>network_is_country_zwe</th>\n",
       "      <th>network_is_attend_top1percentile_event</th>\n",
       "      <th>investor_is_cbtop1000</th>\n",
       "      <th>investor_is_no_rank</th>\n",
       "      <th>investor_is_not_cbtop1000</th>\n",
       "      <th>outcome</th>\n",
       "    </tr>\n",
       "  </thead>\n",
       "  <tbody>\n",
       "    <tr>\n",
       "      <th>0</th>\n",
       "      <td>0a88fa0e-7abe-c4ac-ab69-877b01a9cb60</td>\n",
       "      <td>1.0</td>\n",
       "      <td>0</td>\n",
       "      <td>0.0</td>\n",
       "      <td>0.0</td>\n",
       "      <td>0.0</td>\n",
       "      <td>0.0</td>\n",
       "      <td>0.0</td>\n",
       "      <td>0.0</td>\n",
       "      <td>0.0</td>\n",
       "      <td>...</td>\n",
       "      <td>0</td>\n",
       "      <td>0</td>\n",
       "      <td>0</td>\n",
       "      <td>0</td>\n",
       "      <td>0</td>\n",
       "      <td>0</td>\n",
       "      <td>0</td>\n",
       "      <td>1</td>\n",
       "      <td>0</td>\n",
       "      <td>0</td>\n",
       "    </tr>\n",
       "    <tr>\n",
       "      <th>1</th>\n",
       "      <td>de462c42-b0a5-c5af-9637-ec426b4e991f</td>\n",
       "      <td>1.0</td>\n",
       "      <td>0</td>\n",
       "      <td>1.0</td>\n",
       "      <td>0.0</td>\n",
       "      <td>0.0</td>\n",
       "      <td>0.0</td>\n",
       "      <td>1.0</td>\n",
       "      <td>0.0</td>\n",
       "      <td>0.0</td>\n",
       "      <td>...</td>\n",
       "      <td>0</td>\n",
       "      <td>0</td>\n",
       "      <td>0</td>\n",
       "      <td>0</td>\n",
       "      <td>0</td>\n",
       "      <td>0</td>\n",
       "      <td>0</td>\n",
       "      <td>1</td>\n",
       "      <td>0</td>\n",
       "      <td>0</td>\n",
       "    </tr>\n",
       "    <tr>\n",
       "      <th>2</th>\n",
       "      <td>1b923b7c-b415-a83c-cbcc-53b27c877907</td>\n",
       "      <td>1.0</td>\n",
       "      <td>0</td>\n",
       "      <td>0.0</td>\n",
       "      <td>0.0</td>\n",
       "      <td>0.0</td>\n",
       "      <td>0.0</td>\n",
       "      <td>0.0</td>\n",
       "      <td>0.0</td>\n",
       "      <td>0.0</td>\n",
       "      <td>...</td>\n",
       "      <td>0</td>\n",
       "      <td>0</td>\n",
       "      <td>0</td>\n",
       "      <td>0</td>\n",
       "      <td>0</td>\n",
       "      <td>0</td>\n",
       "      <td>0</td>\n",
       "      <td>1</td>\n",
       "      <td>0</td>\n",
       "      <td>0</td>\n",
       "    </tr>\n",
       "  </tbody>\n",
       "</table>\n",
       "<p>3 rows × 253 columns</p>\n",
       "</div>"
      ],
      "text/plain": [
       "                               org_uuid  people_num_founder  \\\n",
       "0  0a88fa0e-7abe-c4ac-ab69-877b01a9cb60                 1.0   \n",
       "1  de462c42-b0a5-c5af-9637-ec426b4e991f                 1.0   \n",
       "2  1b923b7c-b415-a83c-cbcc-53b27c877907                 1.0   \n",
       "\n",
       "   people_is_founder_gender_diversity  people_is_bachelor  people_is_master  \\\n",
       "0                                   0                 0.0               0.0   \n",
       "1                                   0                 1.0               0.0   \n",
       "2                                   0                 0.0               0.0   \n",
       "\n",
       "   people_is_phd  people_is_mba  people_is_stem  people_is_ivy_league  \\\n",
       "0            0.0            0.0             0.0                   0.0   \n",
       "1            0.0            0.0             1.0                   0.0   \n",
       "2            0.0            0.0             0.0                   0.0   \n",
       "\n",
       "   people_is_top_100  ...  network_is_country_vnm  network_is_country_yem  \\\n",
       "0                0.0  ...                       0                       0   \n",
       "1                0.0  ...                       0                       0   \n",
       "2                0.0  ...                       0                       0   \n",
       "\n",
       "   network_is_country_zaf  network_is_country_zmb  network_is_country_zwe  \\\n",
       "0                       0                       0                       0   \n",
       "1                       0                       0                       0   \n",
       "2                       0                       0                       0   \n",
       "\n",
       "   network_is_attend_top1percentile_event  investor_is_cbtop1000  \\\n",
       "0                                       0                      0   \n",
       "1                                       0                      0   \n",
       "2                                       0                      0   \n",
       "\n",
       "   investor_is_no_rank  investor_is_not_cbtop1000  outcome  \n",
       "0                    1                          0        0  \n",
       "1                    1                          0        0  \n",
       "2                    1                          0        0  \n",
       "\n",
       "[3 rows x 253 columns]"
      ]
     },
     "execution_count": 3,
     "metadata": {},
     "output_type": "execute_result"
    }
   ],
   "source": [
    "data.head(3)"
   ]
  },
  {
   "cell_type": "code",
   "execution_count": 4,
   "id": "cultural-doubt",
   "metadata": {},
   "outputs": [
    {
     "data": {
      "text/plain": [
       "0    18326\n",
       "1     7933\n",
       "Name: outcome, dtype: int64"
      ]
     },
     "execution_count": 4,
     "metadata": {},
     "output_type": "execute_result"
    }
   ],
   "source": [
    "data['outcome'].value_counts()"
   ]
  },
  {
   "cell_type": "code",
   "execution_count": 5,
   "id": "lined-gregory",
   "metadata": {},
   "outputs": [
    {
     "data": {
      "text/plain": [
       "26259"
      ]
     },
     "execution_count": 5,
     "metadata": {},
     "output_type": "execute_result"
    }
   ],
   "source": [
    "len(data)"
   ]
  },
  {
   "cell_type": "code",
   "execution_count": 24,
   "id": "located-radar",
   "metadata": {},
   "outputs": [],
   "source": [
    "y_data = data['outcome']\n",
    "X_data = data.drop(columns = ['org_uuid','outcome'])"
   ]
  },
  {
   "cell_type": "code",
   "execution_count": 25,
   "id": "worse-hampton",
   "metadata": {},
   "outputs": [],
   "source": [
    "X_train_full, X_test, y_train_full, y_test = train_test_split(X_data,y_data, \n",
    "                                                              test_size = 0.2,\n",
    "                                                              stratify=y_data)"
   ]
  },
  {
   "cell_type": "code",
   "execution_count": 28,
   "id": "royal-nerve",
   "metadata": {},
   "outputs": [
    {
     "data": {
      "text/plain": [
       "0    3665\n",
       "1    1587\n",
       "Name: outcome, dtype: int64"
      ]
     },
     "execution_count": 28,
     "metadata": {},
     "output_type": "execute_result"
    }
   ],
   "source": [
    "y_test.value_counts()"
   ]
  },
  {
   "cell_type": "code",
   "execution_count": 29,
   "id": "chief-throw",
   "metadata": {},
   "outputs": [],
   "source": [
    "#apply scaler\n",
    "from sklearn.preprocessing import StandardScaler\n",
    "sc = StandardScaler().fit(X_train_full)\n",
    "X_train_full_sc = sc.transform(X_train_full)\n",
    "X_test_sc = sc.transform(X_test)"
   ]
  },
  {
   "cell_type": "code",
   "execution_count": 30,
   "id": "nominated-negotiation",
   "metadata": {},
   "outputs": [],
   "source": [
    "from sklearn.naive_bayes import GaussianNB\n",
    "gnb = GaussianNB().fit(X_train_full_sc,y_train_full)"
   ]
  },
  {
   "cell_type": "code",
   "execution_count": 32,
   "id": "super-connecticut",
   "metadata": {},
   "outputs": [
    {
     "name": "stdout",
     "output_type": "stream",
     "text": [
      "GNB classification accuracy on training set:\n",
      "Using the accuracy_score() function: 0.336\n"
     ]
    }
   ],
   "source": [
    "from sklearn.metrics import accuracy_score\n",
    "\n",
    "# By using the predict method and accuracy_score metric\n",
    "gnb_prediction_train_full = gnb.predict(X_train_full_sc)\n",
    "gnb_accuracy_train_full = accuracy_score(y_train_full, gnb_prediction_train_full) \n",
    "\n",
    "# Print results\n",
    "print(\"GNB classification accuracy on training set:\") \n",
    "print(\"Using the accuracy_score() function: {:.3f}\".format(gnb_accuracy_train_full))"
   ]
  },
  {
   "cell_type": "code",
   "execution_count": 42,
   "id": "removable-constitutional",
   "metadata": {},
   "outputs": [
    {
     "name": "stderr",
     "output_type": "stream",
     "text": [
      "The use of label encoder in XGBClassifier is deprecated and will be removed in a future release. To remove this warning, do the following: 1) Pass option use_label_encoder=False when constructing XGBClassifier object; and 2) Encode your labels (y) as integers starting with 0, i.e. 0, 1, 2, ..., [num_class - 1].\n"
     ]
    },
    {
     "name": "stdout",
     "output_type": "stream",
     "text": [
      "[17:10:24] WARNING: C:/Users/Administrator/workspace/xgboost-win64_release_1.4.0/src/learner.cc:1095: Starting in XGBoost 1.3.0, the default evaluation metric used with the objective 'binary:logistic' was changed from 'error' to 'logloss'. Explicitly set eval_metric if you'd like to restore the old behavior.\n",
      "GNB classification accuracy on training set: 0.813\n",
      "GNB classification accuracy on test set: 0.735\n"
     ]
    }
   ],
   "source": [
    "from sklearn.pipeline import Pipeline\n",
    "\n",
    "# construct the pipeline\n",
    "pipe = Pipeline([('scaler', StandardScaler()), ('xgb', XGBClassifier())])\n",
    "\n",
    "# train\n",
    "pipe.fit(X_train_full, y_train_full)\n",
    "\n",
    "# evaluate\n",
    "train_score = pipe.score(X_train_full, y_train_full)\n",
    "test_score = pipe.score(X_test, y_test)\n",
    "\n",
    "print(\"XGB classification accuracy on training set: {0:.3f}\".format(train_score))\n",
    "print(\"XGB classification accuracy on test set: {0:.3f}\".format(test_score))"
   ]
  },
  {
   "cell_type": "code",
   "execution_count": 44,
   "id": "rocky-verification",
   "metadata": {},
   "outputs": [],
   "source": [
    "#hold out validation set\n",
    "from sklearn.model_selection import train_test_split\n",
    "\n",
    "X_train, X_val, y_train, y_val = train_test_split(X_train_full, y_train_full, \n",
    "                                                  test_size=0.33,\n",
    "                                                  stratify=y_train_full)"
   ]
  },
  {
   "cell_type": "code",
   "execution_count": 33,
   "id": "molecular-steel",
   "metadata": {},
   "outputs": [
    {
     "name": "stderr",
     "output_type": "stream",
     "text": [
      "The use of label encoder in XGBClassifier is deprecated and will be removed in a future release. To remove this warning, do the following: 1) Pass option use_label_encoder=False when constructing XGBClassifier object; and 2) Encode your labels (y) as integers starting with 0, i.e. 0, 1, 2, ..., [num_class - 1].\n"
     ]
    },
    {
     "name": "stdout",
     "output_type": "stream",
     "text": [
      "[16:18:15] WARNING: C:/Users/Administrator/workspace/xgboost-win64_release_1.4.0/src/learner.cc:1095: Starting in XGBoost 1.3.0, the default evaluation metric used with the objective 'binary:logistic' was changed from 'error' to 'logloss'. Explicitly set eval_metric if you'd like to restore the old behavior.\n"
     ]
    },
    {
     "data": {
      "text/plain": [
       "XGBClassifier(base_score=0.5, booster='gbtree', colsample_bylevel=1,\n",
       "              colsample_bynode=1, colsample_bytree=1, gamma=0, gpu_id=-1,\n",
       "              importance_type='gain', interaction_constraints='',\n",
       "              learning_rate=0.300000012, max_delta_step=0, max_depth=6,\n",
       "              min_child_weight=1, missing=nan, monotone_constraints='()',\n",
       "              n_estimators=100, n_jobs=8, num_parallel_tree=1, random_state=0,\n",
       "              reg_alpha=0, reg_lambda=1, scale_pos_weight=1, subsample=1,\n",
       "              tree_method='exact', validate_parameters=1, verbosity=None)"
      ]
     },
     "execution_count": 33,
     "metadata": {},
     "output_type": "execute_result"
    }
   ],
   "source": [
    "model = XGBClassifier()\n",
    "model.fit(X_train_full, Y_train_full)"
   ]
  },
  {
   "cell_type": "code",
   "execution_count": 34,
   "id": "surprised-atmosphere",
   "metadata": {},
   "outputs": [],
   "source": [
    "Y_pred = model.predict(X_test)"
   ]
  },
  {
   "cell_type": "code",
   "execution_count": 35,
   "id": "banned-pledge",
   "metadata": {},
   "outputs": [
    {
     "data": {
      "text/plain": [
       "0.6822162985529322"
      ]
     },
     "execution_count": 35,
     "metadata": {},
     "output_type": "execute_result"
    }
   ],
   "source": [
    "accuracy_score(Y_test, Y_pred)"
   ]
  },
  {
   "cell_type": "code",
   "execution_count": 36,
   "id": "crazy-alarm",
   "metadata": {},
   "outputs": [
    {
     "data": {
      "text/plain": [
       "array([[3530,  125],\n",
       "       [1544,   53]], dtype=int64)"
      ]
     },
     "execution_count": 36,
     "metadata": {},
     "output_type": "execute_result"
    }
   ],
   "source": [
    "confusion_matrix(Y_test, Y_pred)"
   ]
  },
  {
   "cell_type": "code",
   "execution_count": 37,
   "id": "african-dispatch",
   "metadata": {},
   "outputs": [
    {
     "data": {
      "text/plain": [
       "0.03318722604884158"
      ]
     },
     "execution_count": 37,
     "metadata": {},
     "output_type": "execute_result"
    }
   ],
   "source": [
    "recall_score (Y_test,Y_pred)"
   ]
  },
  {
   "cell_type": "code",
   "execution_count": 38,
   "id": "registered-seating",
   "metadata": {},
   "outputs": [
    {
     "data": {
      "text/plain": [
       "0.29775280898876405"
      ]
     },
     "execution_count": 38,
     "metadata": {},
     "output_type": "execute_result"
    }
   ],
   "source": [
    "precision_score(Y_test,Y_pred)"
   ]
  },
  {
   "cell_type": "code",
   "execution_count": 39,
   "id": "decreased-tongue",
   "metadata": {},
   "outputs": [
    {
     "data": {
      "text/plain": [
       "0.05971830985915493"
      ]
     },
     "execution_count": 39,
     "metadata": {},
     "output_type": "execute_result"
    }
   ],
   "source": [
    "f1_score(Y_test,Y_pred)"
   ]
  },
  {
   "cell_type": "code",
   "execution_count": 40,
   "id": "virgin-species",
   "metadata": {},
   "outputs": [],
   "source": [
    "import shap"
   ]
  },
  {
   "cell_type": "code",
   "execution_count": 41,
   "id": "aggregate-somewhere",
   "metadata": {},
   "outputs": [
    {
     "name": "stderr",
     "output_type": "stream",
     "text": [
      "ntree_limit is deprecated, use `iteration_range` or model slicing instead.\n"
     ]
    },
    {
     "data": {
      "image/png": "[encoded data removed]",
      "text/plain": [
       "<Figure size 576x684 with 1 Axes>"
      ]
     },
     "metadata": {
      "needs_background": "light"
     },
     "output_type": "display_data"
    }
   ],
   "source": [
    "explainer = shap.TreeExplainer(model)\n",
    "shap_values = explainer.shap_values(X_test)\n",
    "shap.summary_plot(shap_values, X_test, plot_type=\"bar\")"
   ]
  },
  {
   "cell_type": "code",
   "execution_count": null,
   "id": "ordered-microphone",
   "metadata": {},
   "outputs": [],
   "source": []
  }
 ],
 "metadata": {
  "kernelspec": {
   "display_name": "Python 3",
   "language": "python",
   "name": "python3"
  },
  "language_info": {
   "codemirror_mode": {
    "name": "ipython",
    "version": 3
   },
   "file_extension": ".py",
   "mimetype": "text/x-python",
   "name": "python",
   "nbconvert_exporter": "python",
   "pygments_lexer": "ipython3",
   "version": "3.7.9"
  }
 },
 "nbformat": 4,
 "nbformat_minor": 5
}
