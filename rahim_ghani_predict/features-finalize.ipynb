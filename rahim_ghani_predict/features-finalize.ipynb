{
 "cells": [
  {
   "cell_type": "code",
   "execution_count": 1,
   "id": "suffering-chancellor",
   "metadata": {},
   "outputs": [],
   "source": [
    "#Import basic packages\n",
    "import os\n",
    "import numpy as np\n",
    "import pandas as pd\n",
    "import csv\n",
    "import regex as re\n",
    "import datetime as dt "
   ]
  },
  {
   "cell_type": "code",
   "execution_count": 2,
   "id": "common-venezuela",
   "metadata": {},
   "outputs": [
    {
     "name": "stderr",
     "output_type": "stream",
     "text": [
      "C:\\Users\\Abdul Rahim Ab Ghani\\miniconda3\\lib\\site-packages\\IPython\\core\\interactiveshell.py:3147: DtypeWarning: Columns (12,13,14) have mixed types.Specify dtype option on import or set low_memory=False.\n",
      "  interactivity=interactivity, compiler=compiler, result=result)\n"
     ]
    }
   ],
   "source": [
    "#import outcome file with org_uuid\n",
    "main_df = pd.read_csv(R\"d:/msc-project/data/final/outcome_final_v1.csv\",encoding='utf-8',\n",
    "                         index_col=False,\n",
    "                         parse_dates= ['founded_on','seed_date','series_a_date','series_b_date','series_c_date'])\n",
    "main_processing_df = main_df[['org_uuid','name','outcome']]"
   ]
  },
  {
   "cell_type": "code",
   "execution_count": 3,
   "id": "worst-highlight",
   "metadata": {},
   "outputs": [
    {
     "data": {
      "text/plain": [
       "26259"
      ]
     },
     "execution_count": 3,
     "metadata": {},
     "output_type": "execute_result"
    }
   ],
   "source": [
    "#import people features\n",
    "features_people = pd.read_csv(r'd:\\msc-project\\data\\final\\features_people.csv',encoding='utf=8')\n",
    "len(features_people)"
   ]
  },
  {
   "cell_type": "code",
   "execution_count": 4,
   "id": "printable-imperial",
   "metadata": {},
   "outputs": [
    {
     "data": {
      "text/plain": [
       "38605"
      ]
     },
     "execution_count": 4,
     "metadata": {},
     "output_type": "execute_result"
    }
   ],
   "source": [
    "#import network features\n",
    "features_network = pd.read_csv(r'd:\\msc-project\\data\\final\\features_network.csv',encoding='utf=8')\n",
    "len(features_network)"
   ]
  },
  {
   "cell_type": "code",
   "execution_count": 5,
   "id": "sharp-montreal",
   "metadata": {},
   "outputs": [
    {
     "data": {
      "text/plain": [
       "38605"
      ]
     },
     "execution_count": 5,
     "metadata": {},
     "output_type": "execute_result"
    }
   ],
   "source": [
    "#import innovation features\n",
    "features_innovation = pd.read_csv(r'd:\\msc-project\\data\\final\\features_innovation.csv',encoding='utf=8')\n",
    "len(features_innovation)"
   ]
  },
  {
   "cell_type": "code",
   "execution_count": 6,
   "id": "spatial-boost",
   "metadata": {},
   "outputs": [
    {
     "data": {
      "text/plain": [
       "38605"
      ]
     },
     "execution_count": 6,
     "metadata": {},
     "output_type": "execute_result"
    }
   ],
   "source": [
    "#import investor features\n",
    "features_investor = pd.read_csv(r'd:\\msc-project\\data\\final\\features_investor.csv',encoding='utf=8')\n",
    "len(features_innovation)"
   ]
  },
  {
   "cell_type": "code",
   "execution_count": 7,
   "id": "floating-three",
   "metadata": {},
   "outputs": [],
   "source": [
    "features_combine_v1 = pd.merge(features_people,\n",
    "                             features_innovation,\n",
    "                             on='org_uuid',\n",
    "                             how='left')"
   ]
  },
  {
   "cell_type": "code",
   "execution_count": 8,
   "id": "selected-amsterdam",
   "metadata": {},
   "outputs": [],
   "source": [
    "features_combine_v2 = pd.merge(features_combine_v1,\n",
    "                               features_network,\n",
    "                               on='org_uuid',\n",
    "                               how='left')"
   ]
  },
  {
   "cell_type": "code",
   "execution_count": 9,
   "id": "numerous-corrections",
   "metadata": {},
   "outputs": [],
   "source": [
    "features_combine_v3 = pd.merge(features_combine_v2,\n",
    "                               features_investor,\n",
    "                               on='org_uuid',\n",
    "                               how='left')"
   ]
  },
  {
   "cell_type": "code",
   "execution_count": 10,
   "id": "exciting-click",
   "metadata": {},
   "outputs": [],
   "source": [
    "features_combine_with_outcome = pd.merge(features_combine_v3,\n",
    "                                        main_df[['org_uuid','outcome']],\n",
    "                                        on='org_uuid',\n",
    "                                        how='left')"
   ]
  },
  {
   "cell_type": "code",
   "execution_count": 11,
   "id": "adequate-project",
   "metadata": {},
   "outputs": [
    {
     "data": {
      "text/html": [
       "<div>\n",
       "<style scoped>\n",
       "    .dataframe tbody tr th:only-of-type {\n",
       "        vertical-align: middle;\n",
       "    }\n",
       "\n",
       "    .dataframe tbody tr th {\n",
       "        vertical-align: top;\n",
       "    }\n",
       "\n",
       "    .dataframe thead th {\n",
       "        text-align: right;\n",
       "    }\n",
       "</style>\n",
       "<table border=\"1\" class=\"dataframe\">\n",
       "  <thead>\n",
       "    <tr style=\"text-align: right;\">\n",
       "      <th></th>\n",
       "      <th>org_uuid</th>\n",
       "      <th>people_num_founder</th>\n",
       "      <th>people_is_founder_gender_diversity</th>\n",
       "      <th>people_is_bachelor</th>\n",
       "      <th>people_is_master</th>\n",
       "      <th>people_is_phd</th>\n",
       "      <th>people_is_mba</th>\n",
       "      <th>people_is_stem</th>\n",
       "      <th>people_is_ivy_league</th>\n",
       "      <th>people_is_top_100</th>\n",
       "      <th>...</th>\n",
       "      <th>network_is_country_vnm</th>\n",
       "      <th>network_is_country_yem</th>\n",
       "      <th>network_is_country_zaf</th>\n",
       "      <th>network_is_country_zmb</th>\n",
       "      <th>network_is_country_zwe</th>\n",
       "      <th>network_is_attend_top1percentile_event</th>\n",
       "      <th>investor_is_cbtop1000</th>\n",
       "      <th>investor_is_no_rank</th>\n",
       "      <th>investor_is_not_cbtop1000</th>\n",
       "      <th>outcome</th>\n",
       "    </tr>\n",
       "  </thead>\n",
       "  <tbody>\n",
       "    <tr>\n",
       "      <th>0</th>\n",
       "      <td>0a88fa0e-7abe-c4ac-ab69-877b01a9cb60</td>\n",
       "      <td>1.0</td>\n",
       "      <td>0</td>\n",
       "      <td>0.0</td>\n",
       "      <td>0.0</td>\n",
       "      <td>0.0</td>\n",
       "      <td>0.0</td>\n",
       "      <td>0.0</td>\n",
       "      <td>0.0</td>\n",
       "      <td>0.0</td>\n",
       "      <td>...</td>\n",
       "      <td>0</td>\n",
       "      <td>0</td>\n",
       "      <td>0</td>\n",
       "      <td>0</td>\n",
       "      <td>0</td>\n",
       "      <td>0</td>\n",
       "      <td>0</td>\n",
       "      <td>1</td>\n",
       "      <td>0</td>\n",
       "      <td>0</td>\n",
       "    </tr>\n",
       "    <tr>\n",
       "      <th>1</th>\n",
       "      <td>de462c42-b0a5-c5af-9637-ec426b4e991f</td>\n",
       "      <td>1.0</td>\n",
       "      <td>0</td>\n",
       "      <td>1.0</td>\n",
       "      <td>0.0</td>\n",
       "      <td>0.0</td>\n",
       "      <td>0.0</td>\n",
       "      <td>1.0</td>\n",
       "      <td>0.0</td>\n",
       "      <td>0.0</td>\n",
       "      <td>...</td>\n",
       "      <td>0</td>\n",
       "      <td>0</td>\n",
       "      <td>0</td>\n",
       "      <td>0</td>\n",
       "      <td>0</td>\n",
       "      <td>0</td>\n",
       "      <td>0</td>\n",
       "      <td>1</td>\n",
       "      <td>0</td>\n",
       "      <td>0</td>\n",
       "    </tr>\n",
       "    <tr>\n",
       "      <th>2</th>\n",
       "      <td>1b923b7c-b415-a83c-cbcc-53b27c877907</td>\n",
       "      <td>1.0</td>\n",
       "      <td>0</td>\n",
       "      <td>0.0</td>\n",
       "      <td>0.0</td>\n",
       "      <td>0.0</td>\n",
       "      <td>0.0</td>\n",
       "      <td>0.0</td>\n",
       "      <td>0.0</td>\n",
       "      <td>0.0</td>\n",
       "      <td>...</td>\n",
       "      <td>0</td>\n",
       "      <td>0</td>\n",
       "      <td>0</td>\n",
       "      <td>0</td>\n",
       "      <td>0</td>\n",
       "      <td>0</td>\n",
       "      <td>0</td>\n",
       "      <td>1</td>\n",
       "      <td>0</td>\n",
       "      <td>0</td>\n",
       "    </tr>\n",
       "  </tbody>\n",
       "</table>\n",
       "<p>3 rows × 253 columns</p>\n",
       "</div>"
      ],
      "text/plain": [
       "                               org_uuid  people_num_founder  \\\n",
       "0  0a88fa0e-7abe-c4ac-ab69-877b01a9cb60                 1.0   \n",
       "1  de462c42-b0a5-c5af-9637-ec426b4e991f                 1.0   \n",
       "2  1b923b7c-b415-a83c-cbcc-53b27c877907                 1.0   \n",
       "\n",
       "   people_is_founder_gender_diversity  people_is_bachelor  people_is_master  \\\n",
       "0                                   0                 0.0               0.0   \n",
       "1                                   0                 1.0               0.0   \n",
       "2                                   0                 0.0               0.0   \n",
       "\n",
       "   people_is_phd  people_is_mba  people_is_stem  people_is_ivy_league  \\\n",
       "0            0.0            0.0             0.0                   0.0   \n",
       "1            0.0            0.0             1.0                   0.0   \n",
       "2            0.0            0.0             0.0                   0.0   \n",
       "\n",
       "   people_is_top_100  ...  network_is_country_vnm  network_is_country_yem  \\\n",
       "0                0.0  ...                       0                       0   \n",
       "1                0.0  ...                       0                       0   \n",
       "2                0.0  ...                       0                       0   \n",
       "\n",
       "   network_is_country_zaf  network_is_country_zmb  network_is_country_zwe  \\\n",
       "0                       0                       0                       0   \n",
       "1                       0                       0                       0   \n",
       "2                       0                       0                       0   \n",
       "\n",
       "   network_is_attend_top1percentile_event  investor_is_cbtop1000  \\\n",
       "0                                       0                      0   \n",
       "1                                       0                      0   \n",
       "2                                       0                      0   \n",
       "\n",
       "   investor_is_no_rank  investor_is_not_cbtop1000  outcome  \n",
       "0                    1                          0        0  \n",
       "1                    1                          0        0  \n",
       "2                    1                          0        0  \n",
       "\n",
       "[3 rows x 253 columns]"
      ]
     },
     "execution_count": 11,
     "metadata": {},
     "output_type": "execute_result"
    }
   ],
   "source": [
    "features_combine_with_outcome.head(3)"
   ]
  },
  {
   "cell_type": "code",
   "execution_count": 12,
   "id": "rotary-immune",
   "metadata": {},
   "outputs": [
    {
     "data": {
      "text/plain": [
       "26259"
      ]
     },
     "execution_count": 12,
     "metadata": {},
     "output_type": "execute_result"
    }
   ],
   "source": [
    "len(features_combine_with_outcome)"
   ]
  },
  {
   "cell_type": "code",
   "execution_count": 13,
   "id": "center-courage",
   "metadata": {},
   "outputs": [
    {
     "data": {
      "text/plain": [
       "0    18326\n",
       "1     7933\n",
       "Name: outcome, dtype: int64"
      ]
     },
     "execution_count": 13,
     "metadata": {},
     "output_type": "execute_result"
    }
   ],
   "source": [
    "features_combine_with_outcome['outcome'].value_counts()"
   ]
  },
  {
   "cell_type": "code",
   "execution_count": 14,
   "id": "needed-music",
   "metadata": {},
   "outputs": [],
   "source": [
    "features_combine_with_outcome.set_index('org_uuid',inplace=True)\n",
    "features_combine_with_outcome.to_csv(r'd:\\msc-project\\data\\final\\features_with_outcome.csv',encoding='utf=8')"
   ]
  },
  {
   "cell_type": "code",
   "execution_count": null,
   "id": "italic-recognition",
   "metadata": {},
   "outputs": [],
   "source": []
  }
 ],
 "metadata": {
  "kernelspec": {
   "display_name": "Python 3",
   "language": "python",
   "name": "python3"
  },
  "language_info": {
   "codemirror_mode": {
    "name": "ipython",
    "version": 3
   },
   "file_extension": ".py",
   "mimetype": "text/x-python",
   "name": "python",
   "nbconvert_exporter": "python",
   "pygments_lexer": "ipython3",
   "version": "3.7.9"
  }
 },
 "nbformat": 4,
 "nbformat_minor": 5
}
