{
 "cells": [
  {
   "cell_type": "code",
   "execution_count": 1,
   "id": "oriental-queens",
   "metadata": {},
   "outputs": [],
   "source": [
    "#Import basic packages\n",
    "import os\n",
    "import numpy as np\n",
    "import pandas as pd\n",
    "import csv\n",
    "import regex as re\n",
    "import datetime as dt "
   ]
  },
  {
   "cell_type": "code",
   "execution_count": 2,
   "id": "distributed-gibson",
   "metadata": {},
   "outputs": [
    {
     "name": "stderr",
     "output_type": "stream",
     "text": [
      "C:\\Users\\Abdul Rahim Ab Ghani\\miniconda3\\lib\\site-packages\\IPython\\core\\interactiveshell.py:3147: DtypeWarning: Columns (12,13,14) have mixed types.Specify dtype option on import or set low_memory=False.\n",
      "  interactivity=interactivity, compiler=compiler, result=result)\n"
     ]
    }
   ],
   "source": [
    "#import outcome file with org_uuid\n",
    "main_df = pd.read_csv(R\"d:/msc-project/data/final/outcome_final_v1.csv\",encoding='utf-8',\n",
    "                         index_col=False,\n",
    "                         parse_dates= ['founded_on','seed_date','series_a_date','series_b_date','series_c_date'])\n",
    "main_processing_df = main_df[['org_uuid','name','outcome','lead_investor_uuids_seed','lead_investor_uuids_series_a']]"
   ]
  },
  {
   "cell_type": "code",
   "execution_count": 3,
   "id": "resistant-newton",
   "metadata": {},
   "outputs": [
    {
     "data": {
      "text/plain": [
       "38605"
      ]
     },
     "execution_count": 3,
     "metadata": {},
     "output_type": "execute_result"
    }
   ],
   "source": [
    "len(main_df)"
   ]
  },
  {
   "cell_type": "code",
   "execution_count": 4,
   "id": "fossil-store",
   "metadata": {},
   "outputs": [],
   "source": [
    "#import investors data\n",
    "investors_df = pd.read_csv(R\"D:\\msc-project\\data\\pre-processed\\investors_preprocessed.csv\",encoding='utf-8',\n",
    "                         index_col=False,\n",
    "                         parse_dates= ['founded_on','closed_on'])"
   ]
  },
  {
   "cell_type": "code",
   "execution_count": 5,
   "id": "patient-magnet",
   "metadata": {},
   "outputs": [
    {
     "data": {
      "text/plain": [
       "Index(['investor_uuid', 'name', 'type', 'rank', 'country_code', 'state_code',\n",
       "       'region', 'city', 'investor_types', 'investment_count',\n",
       "       'total_funding_usd', 'total_funding', 'total_funding_currency_code',\n",
       "       'founded_on', 'closed_on', 'facebook_url', 'linkedin_url',\n",
       "       'twitter_url', 'logo_url'],\n",
       "      dtype='object')"
      ]
     },
     "execution_count": 5,
     "metadata": {},
     "output_type": "execute_result"
    }
   ],
   "source": [
    "investors_df.columns"
   ]
  },
  {
   "cell_type": "code",
   "execution_count": 6,
   "id": "herbal-western",
   "metadata": {},
   "outputs": [
    {
     "data": {
      "text/html": [
       "<div>\n",
       "<style scoped>\n",
       "    .dataframe tbody tr th:only-of-type {\n",
       "        vertical-align: middle;\n",
       "    }\n",
       "\n",
       "    .dataframe tbody tr th {\n",
       "        vertical-align: top;\n",
       "    }\n",
       "\n",
       "    .dataframe thead th {\n",
       "        text-align: right;\n",
       "    }\n",
       "</style>\n",
       "<table border=\"1\" class=\"dataframe\">\n",
       "  <thead>\n",
       "    <tr style=\"text-align: right;\">\n",
       "      <th></th>\n",
       "      <th>investor_uuid</th>\n",
       "      <th>name</th>\n",
       "      <th>type</th>\n",
       "      <th>rank</th>\n",
       "      <th>country_code</th>\n",
       "      <th>state_code</th>\n",
       "      <th>region</th>\n",
       "      <th>city</th>\n",
       "      <th>investor_types</th>\n",
       "      <th>investment_count</th>\n",
       "      <th>total_funding_usd</th>\n",
       "      <th>total_funding</th>\n",
       "      <th>total_funding_currency_code</th>\n",
       "      <th>founded_on</th>\n",
       "      <th>closed_on</th>\n",
       "      <th>facebook_url</th>\n",
       "      <th>linkedin_url</th>\n",
       "      <th>twitter_url</th>\n",
       "      <th>logo_url</th>\n",
       "    </tr>\n",
       "  </thead>\n",
       "  <tbody>\n",
       "    <tr>\n",
       "      <th>0</th>\n",
       "      <td>bf4d7b0e-b34d-2fd8-d292-6049c4f7efc7</td>\n",
       "      <td>Zoho</td>\n",
       "      <td>organization</td>\n",
       "      <td>7694.0</td>\n",
       "      <td>USA</td>\n",
       "      <td>CA</td>\n",
       "      <td>California</td>\n",
       "      <td>Pleasanton</td>\n",
       "      <td>NaN</td>\n",
       "      <td>6.0</td>\n",
       "      <td>NaN</td>\n",
       "      <td>NaN</td>\n",
       "      <td>NaN</td>\n",
       "      <td>1996-09-15</td>\n",
       "      <td>NaT</td>\n",
       "      <td>http://www.facebook.com/zoho</td>\n",
       "      <td>http://www.linkedin.com/company/zoho-corporati...</td>\n",
       "      <td>http://twitter.com/zoho</td>\n",
       "      <td>https://res.cloudinary.com/crunchbase-producti...</td>\n",
       "    </tr>\n",
       "    <tr>\n",
       "      <th>1</th>\n",
       "      <td>f4d5ab44-058b-298b-ea81-380e6e9a8eec</td>\n",
       "      <td>Omidyar Network</td>\n",
       "      <td>organization</td>\n",
       "      <td>1758.0</td>\n",
       "      <td>USA</td>\n",
       "      <td>CA</td>\n",
       "      <td>California</td>\n",
       "      <td>Redwood City</td>\n",
       "      <td>family_investment_office</td>\n",
       "      <td>313.0</td>\n",
       "      <td>NaN</td>\n",
       "      <td>NaN</td>\n",
       "      <td>NaN</td>\n",
       "      <td>2004-01-01</td>\n",
       "      <td>NaT</td>\n",
       "      <td>http://www.facebook.com/OmidyarNetwork</td>\n",
       "      <td>http://www.linkedin.com/company/22806</td>\n",
       "      <td>http://twitter.com/OmidyarNetwork</td>\n",
       "      <td>https://res.cloudinary.com/crunchbase-producti...</td>\n",
       "    </tr>\n",
       "    <tr>\n",
       "      <th>2</th>\n",
       "      <td>df662812-7f97-0b43-9d3e-12f64f504fbb</td>\n",
       "      <td>Facebook</td>\n",
       "      <td>organization</td>\n",
       "      <td>5.0</td>\n",
       "      <td>USA</td>\n",
       "      <td>CA</td>\n",
       "      <td>California</td>\n",
       "      <td>Menlo Park</td>\n",
       "      <td>NaN</td>\n",
       "      <td>32.0</td>\n",
       "      <td>1.612282e+10</td>\n",
       "      <td>1.612282e+10</td>\n",
       "      <td>USD</td>\n",
       "      <td>2004-02-04</td>\n",
       "      <td>NaT</td>\n",
       "      <td>https://www.facebook.com/facebook/</td>\n",
       "      <td>http://www.linkedin.com/company/facebook</td>\n",
       "      <td>https://twitter.com/facebook</td>\n",
       "      <td>https://res.cloudinary.com/crunchbase-producti...</td>\n",
       "    </tr>\n",
       "  </tbody>\n",
       "</table>\n",
       "</div>"
      ],
      "text/plain": [
       "                          investor_uuid             name          type  \\\n",
       "0  bf4d7b0e-b34d-2fd8-d292-6049c4f7efc7             Zoho  organization   \n",
       "1  f4d5ab44-058b-298b-ea81-380e6e9a8eec  Omidyar Network  organization   \n",
       "2  df662812-7f97-0b43-9d3e-12f64f504fbb         Facebook  organization   \n",
       "\n",
       "     rank country_code state_code      region          city  \\\n",
       "0  7694.0          USA         CA  California    Pleasanton   \n",
       "1  1758.0          USA         CA  California  Redwood City   \n",
       "2     5.0          USA         CA  California    Menlo Park   \n",
       "\n",
       "             investor_types  investment_count  total_funding_usd  \\\n",
       "0                       NaN               6.0                NaN   \n",
       "1  family_investment_office             313.0                NaN   \n",
       "2                       NaN              32.0       1.612282e+10   \n",
       "\n",
       "   total_funding total_funding_currency_code  founded_on closed_on  \\\n",
       "0            NaN                         NaN  1996-09-15       NaT   \n",
       "1            NaN                         NaN  2004-01-01       NaT   \n",
       "2   1.612282e+10                         USD  2004-02-04       NaT   \n",
       "\n",
       "                             facebook_url  \\\n",
       "0            http://www.facebook.com/zoho   \n",
       "1  http://www.facebook.com/OmidyarNetwork   \n",
       "2      https://www.facebook.com/facebook/   \n",
       "\n",
       "                                        linkedin_url  \\\n",
       "0  http://www.linkedin.com/company/zoho-corporati...   \n",
       "1              http://www.linkedin.com/company/22806   \n",
       "2           http://www.linkedin.com/company/facebook   \n",
       "\n",
       "                         twitter_url  \\\n",
       "0            http://twitter.com/zoho   \n",
       "1  http://twitter.com/OmidyarNetwork   \n",
       "2       https://twitter.com/facebook   \n",
       "\n",
       "                                            logo_url  \n",
       "0  https://res.cloudinary.com/crunchbase-producti...  \n",
       "1  https://res.cloudinary.com/crunchbase-producti...  \n",
       "2  https://res.cloudinary.com/crunchbase-producti...  "
      ]
     },
     "execution_count": 6,
     "metadata": {},
     "output_type": "execute_result"
    }
   ],
   "source": [
    "investors_df.head(3)"
   ]
  },
  {
   "cell_type": "code",
   "execution_count": 7,
   "id": "circular-secretariat",
   "metadata": {},
   "outputs": [
    {
     "data": {
      "text/html": [
       "<div>\n",
       "<style scoped>\n",
       "    .dataframe tbody tr th:only-of-type {\n",
       "        vertical-align: middle;\n",
       "    }\n",
       "\n",
       "    .dataframe tbody tr th {\n",
       "        vertical-align: top;\n",
       "    }\n",
       "\n",
       "    .dataframe thead th {\n",
       "        text-align: right;\n",
       "    }\n",
       "</style>\n",
       "<table border=\"1\" class=\"dataframe\">\n",
       "  <thead>\n",
       "    <tr style=\"text-align: right;\">\n",
       "      <th></th>\n",
       "      <th>org_uuid</th>\n",
       "      <th>name</th>\n",
       "      <th>outcome</th>\n",
       "      <th>lead_investor_uuids_seed</th>\n",
       "      <th>lead_investor_uuids_series_a</th>\n",
       "    </tr>\n",
       "  </thead>\n",
       "  <tbody>\n",
       "    <tr>\n",
       "      <th>0</th>\n",
       "      <td>eb37f7c8-c036-a915-bb7c-63f445330f66</td>\n",
       "      <td>Ceyba</td>\n",
       "      <td>0</td>\n",
       "      <td>NaN</td>\n",
       "      <td>beadb218-e5fa-2686-bc95-4dfaa9acc2e8</td>\n",
       "    </tr>\n",
       "    <tr>\n",
       "      <th>1</th>\n",
       "      <td>0a88fa0e-7abe-c4ac-ab69-877b01a9cb60</td>\n",
       "      <td>IceFyre Semiconductor</td>\n",
       "      <td>0</td>\n",
       "      <td>NaN</td>\n",
       "      <td>NaN</td>\n",
       "    </tr>\n",
       "    <tr>\n",
       "      <th>2</th>\n",
       "      <td>de462c42-b0a5-c5af-9637-ec426b4e991f</td>\n",
       "      <td>ORMvision</td>\n",
       "      <td>0</td>\n",
       "      <td>NaN</td>\n",
       "      <td>NaN</td>\n",
       "    </tr>\n",
       "  </tbody>\n",
       "</table>\n",
       "</div>"
      ],
      "text/plain": [
       "                               org_uuid                   name  outcome  \\\n",
       "0  eb37f7c8-c036-a915-bb7c-63f445330f66                  Ceyba        0   \n",
       "1  0a88fa0e-7abe-c4ac-ab69-877b01a9cb60  IceFyre Semiconductor        0   \n",
       "2  de462c42-b0a5-c5af-9637-ec426b4e991f              ORMvision        0   \n",
       "\n",
       "  lead_investor_uuids_seed          lead_investor_uuids_series_a  \n",
       "0                      NaN  beadb218-e5fa-2686-bc95-4dfaa9acc2e8  \n",
       "1                      NaN                                   NaN  \n",
       "2                      NaN                                   NaN  "
      ]
     },
     "execution_count": 7,
     "metadata": {},
     "output_type": "execute_result"
    }
   ],
   "source": [
    "main_processing_df.head(3)"
   ]
  },
  {
   "cell_type": "code",
   "execution_count": 8,
   "id": "pressed-music",
   "metadata": {},
   "outputs": [],
   "source": [
    "investor_processing_df = main_processing_df"
   ]
  },
  {
   "cell_type": "code",
   "execution_count": 9,
   "id": "incident-exhaust",
   "metadata": {
    "scrolled": true
   },
   "outputs": [
    {
     "name": "stderr",
     "output_type": "stream",
     "text": [
      "C:\\Users\\Abdul Rahim Ab Ghani\\miniconda3\\lib\\site-packages\\ipykernel_launcher.py:1: SettingWithCopyWarning: \n",
      "A value is trying to be set on a copy of a slice from a DataFrame.\n",
      "Try using .loc[row_indexer,col_indexer] = value instead\n",
      "\n",
      "See the caveats in the documentation: https://pandas.pydata.org/pandas-docs/stable/user_guide/indexing.html#returning-a-view-versus-a-copy\n",
      "  \"\"\"Entry point for launching an IPython kernel.\n",
      "C:\\Users\\Abdul Rahim Ab Ghani\\miniconda3\\lib\\site-packages\\ipykernel_launcher.py:2: SettingWithCopyWarning: \n",
      "A value is trying to be set on a copy of a slice from a DataFrame.\n",
      "Try using .loc[row_indexer,col_indexer] = value instead\n",
      "\n",
      "See the caveats in the documentation: https://pandas.pydata.org/pandas-docs/stable/user_guide/indexing.html#returning-a-view-versus-a-copy\n",
      "  \n"
     ]
    }
   ],
   "source": [
    "investor_processing_df['lead_investor_uuids_first_fund'] = investor_processing_df['lead_investor_uuids_seed']\n",
    "investor_processing_df['lead_investor_uuids_first_fund'] = investor_processing_df['lead_investor_uuids_first_fund'].fillna(investor_processing_df['lead_investor_uuids_series_a'])"
   ]
  },
  {
   "cell_type": "code",
   "execution_count": 10,
   "id": "handmade-repair",
   "metadata": {},
   "outputs": [
    {
     "data": {
      "text/html": [
       "<div>\n",
       "<style scoped>\n",
       "    .dataframe tbody tr th:only-of-type {\n",
       "        vertical-align: middle;\n",
       "    }\n",
       "\n",
       "    .dataframe tbody tr th {\n",
       "        vertical-align: top;\n",
       "    }\n",
       "\n",
       "    .dataframe thead th {\n",
       "        text-align: right;\n",
       "    }\n",
       "</style>\n",
       "<table border=\"1\" class=\"dataframe\">\n",
       "  <thead>\n",
       "    <tr style=\"text-align: right;\">\n",
       "      <th></th>\n",
       "      <th>org_uuid</th>\n",
       "      <th>name</th>\n",
       "      <th>outcome</th>\n",
       "      <th>lead_investor_uuids_seed</th>\n",
       "      <th>lead_investor_uuids_series_a</th>\n",
       "      <th>lead_investor_uuids_first_fund</th>\n",
       "    </tr>\n",
       "  </thead>\n",
       "  <tbody>\n",
       "    <tr>\n",
       "      <th>0</th>\n",
       "      <td>eb37f7c8-c036-a915-bb7c-63f445330f66</td>\n",
       "      <td>Ceyba</td>\n",
       "      <td>0</td>\n",
       "      <td>NaN</td>\n",
       "      <td>beadb218-e5fa-2686-bc95-4dfaa9acc2e8</td>\n",
       "      <td>beadb218-e5fa-2686-bc95-4dfaa9acc2e8</td>\n",
       "    </tr>\n",
       "    <tr>\n",
       "      <th>1</th>\n",
       "      <td>0a88fa0e-7abe-c4ac-ab69-877b01a9cb60</td>\n",
       "      <td>IceFyre Semiconductor</td>\n",
       "      <td>0</td>\n",
       "      <td>NaN</td>\n",
       "      <td>NaN</td>\n",
       "      <td>NaN</td>\n",
       "    </tr>\n",
       "    <tr>\n",
       "      <th>2</th>\n",
       "      <td>de462c42-b0a5-c5af-9637-ec426b4e991f</td>\n",
       "      <td>ORMvision</td>\n",
       "      <td>0</td>\n",
       "      <td>NaN</td>\n",
       "      <td>NaN</td>\n",
       "      <td>NaN</td>\n",
       "    </tr>\n",
       "  </tbody>\n",
       "</table>\n",
       "</div>"
      ],
      "text/plain": [
       "                               org_uuid                   name  outcome  \\\n",
       "0  eb37f7c8-c036-a915-bb7c-63f445330f66                  Ceyba        0   \n",
       "1  0a88fa0e-7abe-c4ac-ab69-877b01a9cb60  IceFyre Semiconductor        0   \n",
       "2  de462c42-b0a5-c5af-9637-ec426b4e991f              ORMvision        0   \n",
       "\n",
       "  lead_investor_uuids_seed          lead_investor_uuids_series_a  \\\n",
       "0                      NaN  beadb218-e5fa-2686-bc95-4dfaa9acc2e8   \n",
       "1                      NaN                                   NaN   \n",
       "2                      NaN                                   NaN   \n",
       "\n",
       "         lead_investor_uuids_first_fund  \n",
       "0  beadb218-e5fa-2686-bc95-4dfaa9acc2e8  \n",
       "1                                   NaN  \n",
       "2                                   NaN  "
      ]
     },
     "execution_count": 10,
     "metadata": {},
     "output_type": "execute_result"
    }
   ],
   "source": [
    "investor_processing_df.head(3)"
   ]
  },
  {
   "cell_type": "code",
   "execution_count": 11,
   "id": "super-stroke",
   "metadata": {},
   "outputs": [
    {
     "name": "stderr",
     "output_type": "stream",
     "text": [
      "C:\\Users\\Abdul Rahim Ab Ghani\\miniconda3\\lib\\site-packages\\pandas\\core\\frame.py:4315: SettingWithCopyWarning: \n",
      "A value is trying to be set on a copy of a slice from a DataFrame\n",
      "\n",
      "See the caveats in the documentation: https://pandas.pydata.org/pandas-docs/stable/user_guide/indexing.html#returning-a-view-versus-a-copy\n",
      "  errors=errors,\n"
     ]
    }
   ],
   "source": [
    "investor_processing_df.drop(columns=['lead_investor_uuids_seed','lead_investor_uuids_series_a'],inplace=True)"
   ]
  },
  {
   "cell_type": "code",
   "execution_count": 12,
   "id": "dominant-drill",
   "metadata": {},
   "outputs": [
    {
     "data": {
      "text/html": [
       "<div>\n",
       "<style scoped>\n",
       "    .dataframe tbody tr th:only-of-type {\n",
       "        vertical-align: middle;\n",
       "    }\n",
       "\n",
       "    .dataframe tbody tr th {\n",
       "        vertical-align: top;\n",
       "    }\n",
       "\n",
       "    .dataframe thead th {\n",
       "        text-align: right;\n",
       "    }\n",
       "</style>\n",
       "<table border=\"1\" class=\"dataframe\">\n",
       "  <thead>\n",
       "    <tr style=\"text-align: right;\">\n",
       "      <th></th>\n",
       "      <th>org_uuid</th>\n",
       "      <th>name</th>\n",
       "      <th>outcome</th>\n",
       "      <th>lead_investor_uuids_first_fund</th>\n",
       "    </tr>\n",
       "  </thead>\n",
       "  <tbody>\n",
       "    <tr>\n",
       "      <th>0</th>\n",
       "      <td>eb37f7c8-c036-a915-bb7c-63f445330f66</td>\n",
       "      <td>Ceyba</td>\n",
       "      <td>0</td>\n",
       "      <td>beadb218-e5fa-2686-bc95-4dfaa9acc2e8</td>\n",
       "    </tr>\n",
       "    <tr>\n",
       "      <th>1</th>\n",
       "      <td>0a88fa0e-7abe-c4ac-ab69-877b01a9cb60</td>\n",
       "      <td>IceFyre Semiconductor</td>\n",
       "      <td>0</td>\n",
       "      <td>NaN</td>\n",
       "    </tr>\n",
       "    <tr>\n",
       "      <th>2</th>\n",
       "      <td>de462c42-b0a5-c5af-9637-ec426b4e991f</td>\n",
       "      <td>ORMvision</td>\n",
       "      <td>0</td>\n",
       "      <td>NaN</td>\n",
       "    </tr>\n",
       "  </tbody>\n",
       "</table>\n",
       "</div>"
      ],
      "text/plain": [
       "                               org_uuid                   name  outcome  \\\n",
       "0  eb37f7c8-c036-a915-bb7c-63f445330f66                  Ceyba        0   \n",
       "1  0a88fa0e-7abe-c4ac-ab69-877b01a9cb60  IceFyre Semiconductor        0   \n",
       "2  de462c42-b0a5-c5af-9637-ec426b4e991f              ORMvision        0   \n",
       "\n",
       "         lead_investor_uuids_first_fund  \n",
       "0  beadb218-e5fa-2686-bc95-4dfaa9acc2e8  \n",
       "1                                   NaN  \n",
       "2                                   NaN  "
      ]
     },
     "execution_count": 12,
     "metadata": {},
     "output_type": "execute_result"
    }
   ],
   "source": [
    "investor_processing_df.head(3)"
   ]
  },
  {
   "cell_type": "code",
   "execution_count": 13,
   "id": "alpine-pontiac",
   "metadata": {},
   "outputs": [
    {
     "data": {
      "text/plain": [
       "38605"
      ]
     },
     "execution_count": 13,
     "metadata": {},
     "output_type": "execute_result"
    }
   ],
   "source": [
    "len(investor_processing_df)"
   ]
  },
  {
   "cell_type": "code",
   "execution_count": 14,
   "id": "physical-kruger",
   "metadata": {},
   "outputs": [
    {
     "name": "stderr",
     "output_type": "stream",
     "text": [
      "C:\\Users\\Abdul Rahim Ab Ghani\\miniconda3\\lib\\site-packages\\ipykernel_launcher.py:1: SettingWithCopyWarning: \n",
      "A value is trying to be set on a copy of a slice from a DataFrame\n",
      "\n",
      "See the caveats in the documentation: https://pandas.pydata.org/pandas-docs/stable/user_guide/indexing.html#returning-a-view-versus-a-copy\n",
      "  \"\"\"Entry point for launching an IPython kernel.\n"
     ]
    }
   ],
   "source": [
    "investor_processing_df.dropna(subset=['lead_investor_uuids_first_fund'],inplace=True)"
   ]
  },
  {
   "cell_type": "code",
   "execution_count": 15,
   "id": "recorded-handy",
   "metadata": {},
   "outputs": [
    {
     "data": {
      "text/plain": [
       "12158"
      ]
     },
     "execution_count": 15,
     "metadata": {},
     "output_type": "execute_result"
    }
   ],
   "source": [
    "len(investor_processing_df)"
   ]
  },
  {
   "cell_type": "code",
   "execution_count": 16,
   "id": "center-tsunami",
   "metadata": {},
   "outputs": [],
   "source": [
    "investor_processing_df_v1 = pd.merge(investor_processing_df,\n",
    "                                     investors_df[['investor_uuid','name','rank']],\n",
    "                                     left_on='lead_investor_uuids_first_fund',\n",
    "                                     right_on='investor_uuid',\n",
    "                                     how='left')"
   ]
  },
  {
   "cell_type": "code",
   "execution_count": 17,
   "id": "optional-racing",
   "metadata": {},
   "outputs": [
    {
     "data": {
      "text/plain": [
       "12158"
      ]
     },
     "execution_count": 17,
     "metadata": {},
     "output_type": "execute_result"
    }
   ],
   "source": [
    "len(investor_processing_df_v1)"
   ]
  },
  {
   "cell_type": "code",
   "execution_count": 18,
   "id": "urban-substitute",
   "metadata": {},
   "outputs": [
    {
     "data": {
      "text/html": [
       "<div>\n",
       "<style scoped>\n",
       "    .dataframe tbody tr th:only-of-type {\n",
       "        vertical-align: middle;\n",
       "    }\n",
       "\n",
       "    .dataframe tbody tr th {\n",
       "        vertical-align: top;\n",
       "    }\n",
       "\n",
       "    .dataframe thead th {\n",
       "        text-align: right;\n",
       "    }\n",
       "</style>\n",
       "<table border=\"1\" class=\"dataframe\">\n",
       "  <thead>\n",
       "    <tr style=\"text-align: right;\">\n",
       "      <th></th>\n",
       "      <th>org_uuid</th>\n",
       "      <th>name_x</th>\n",
       "      <th>outcome</th>\n",
       "      <th>lead_investor_uuids_first_fund</th>\n",
       "      <th>investor_uuid</th>\n",
       "      <th>name_y</th>\n",
       "      <th>rank</th>\n",
       "    </tr>\n",
       "  </thead>\n",
       "  <tbody>\n",
       "    <tr>\n",
       "      <th>0</th>\n",
       "      <td>eb37f7c8-c036-a915-bb7c-63f445330f66</td>\n",
       "      <td>Ceyba</td>\n",
       "      <td>0</td>\n",
       "      <td>beadb218-e5fa-2686-bc95-4dfaa9acc2e8</td>\n",
       "      <td>beadb218-e5fa-2686-bc95-4dfaa9acc2e8</td>\n",
       "      <td>Bessemer Venture Partners</td>\n",
       "      <td>63.0</td>\n",
       "    </tr>\n",
       "    <tr>\n",
       "      <th>1</th>\n",
       "      <td>3d607a21-39bb-651e-c53f-9890ee334f18</td>\n",
       "      <td>Ygnition Networks</td>\n",
       "      <td>0</td>\n",
       "      <td>fcab9355-11b8-fba0-fed7-b4c8a474da43</td>\n",
       "      <td>fcab9355-11b8-fba0-fed7-b4c8a474da43</td>\n",
       "      <td>ComVentures</td>\n",
       "      <td>151328.0</td>\n",
       "    </tr>\n",
       "    <tr>\n",
       "      <th>2</th>\n",
       "      <td>f29f5734-7560-f912-2b6f-c9805ac9d50d</td>\n",
       "      <td>Dynogen Pharmaceuticals</td>\n",
       "      <td>0</td>\n",
       "      <td>4884e025-054d-47d6-3c7e-6c397eee22cd,b2349e73-...</td>\n",
       "      <td>NaN</td>\n",
       "      <td>NaN</td>\n",
       "      <td>NaN</td>\n",
       "    </tr>\n",
       "  </tbody>\n",
       "</table>\n",
       "</div>"
      ],
      "text/plain": [
       "                               org_uuid                   name_x  outcome  \\\n",
       "0  eb37f7c8-c036-a915-bb7c-63f445330f66                    Ceyba        0   \n",
       "1  3d607a21-39bb-651e-c53f-9890ee334f18        Ygnition Networks        0   \n",
       "2  f29f5734-7560-f912-2b6f-c9805ac9d50d  Dynogen Pharmaceuticals        0   \n",
       "\n",
       "                      lead_investor_uuids_first_fund  \\\n",
       "0               beadb218-e5fa-2686-bc95-4dfaa9acc2e8   \n",
       "1               fcab9355-11b8-fba0-fed7-b4c8a474da43   \n",
       "2  4884e025-054d-47d6-3c7e-6c397eee22cd,b2349e73-...   \n",
       "\n",
       "                          investor_uuid                     name_y      rank  \n",
       "0  beadb218-e5fa-2686-bc95-4dfaa9acc2e8  Bessemer Venture Partners      63.0  \n",
       "1  fcab9355-11b8-fba0-fed7-b4c8a474da43                ComVentures  151328.0  \n",
       "2                                   NaN                        NaN       NaN  "
      ]
     },
     "execution_count": 18,
     "metadata": {},
     "output_type": "execute_result"
    }
   ],
   "source": [
    "investor_processing_df_v1.head(3)"
   ]
  },
  {
   "cell_type": "code",
   "execution_count": 19,
   "id": "unauthorized-athens",
   "metadata": {},
   "outputs": [
    {
     "data": {
      "text/html": [
       "<div>\n",
       "<style scoped>\n",
       "    .dataframe tbody tr th:only-of-type {\n",
       "        vertical-align: middle;\n",
       "    }\n",
       "\n",
       "    .dataframe tbody tr th {\n",
       "        vertical-align: top;\n",
       "    }\n",
       "\n",
       "    .dataframe thead th {\n",
       "        text-align: right;\n",
       "    }\n",
       "</style>\n",
       "<table border=\"1\" class=\"dataframe\">\n",
       "  <thead>\n",
       "    <tr style=\"text-align: right;\">\n",
       "      <th></th>\n",
       "      <th>org_uuid</th>\n",
       "      <th>name_y</th>\n",
       "      <th>rank</th>\n",
       "    </tr>\n",
       "  </thead>\n",
       "  <tbody>\n",
       "    <tr>\n",
       "      <th>0</th>\n",
       "      <td>eb37f7c8-c036-a915-bb7c-63f445330f66</td>\n",
       "      <td>Bessemer Venture Partners</td>\n",
       "      <td>63.0</td>\n",
       "    </tr>\n",
       "    <tr>\n",
       "      <th>1</th>\n",
       "      <td>3d607a21-39bb-651e-c53f-9890ee334f18</td>\n",
       "      <td>ComVentures</td>\n",
       "      <td>151328.0</td>\n",
       "    </tr>\n",
       "    <tr>\n",
       "      <th>2</th>\n",
       "      <td>f29f5734-7560-f912-2b6f-c9805ac9d50d</td>\n",
       "      <td>NaN</td>\n",
       "      <td>NaN</td>\n",
       "    </tr>\n",
       "  </tbody>\n",
       "</table>\n",
       "</div>"
      ],
      "text/plain": [
       "                               org_uuid                     name_y      rank\n",
       "0  eb37f7c8-c036-a915-bb7c-63f445330f66  Bessemer Venture Partners      63.0\n",
       "1  3d607a21-39bb-651e-c53f-9890ee334f18                ComVentures  151328.0\n",
       "2  f29f5734-7560-f912-2b6f-c9805ac9d50d                        NaN       NaN"
      ]
     },
     "execution_count": 19,
     "metadata": {},
     "output_type": "execute_result"
    }
   ],
   "source": [
    "investor_processing_df_v2 = investor_processing_df_v1[['org_uuid','name_y','rank']]\n",
    "investor_processing_df_v2.head(3)"
   ]
  },
  {
   "cell_type": "code",
   "execution_count": 20,
   "id": "clean-paradise",
   "metadata": {},
   "outputs": [
    {
     "name": "stderr",
     "output_type": "stream",
     "text": [
      "C:\\Users\\Abdul Rahim Ab Ghani\\miniconda3\\lib\\site-packages\\pandas\\core\\frame.py:4449: SettingWithCopyWarning: \n",
      "A value is trying to be set on a copy of a slice from a DataFrame\n",
      "\n",
      "See the caveats in the documentation: https://pandas.pydata.org/pandas-docs/stable/user_guide/indexing.html#returning-a-view-versus-a-copy\n",
      "  errors=errors,\n"
     ]
    },
    {
     "data": {
      "text/html": [
       "<div>\n",
       "<style scoped>\n",
       "    .dataframe tbody tr th:only-of-type {\n",
       "        vertical-align: middle;\n",
       "    }\n",
       "\n",
       "    .dataframe tbody tr th {\n",
       "        vertical-align: top;\n",
       "    }\n",
       "\n",
       "    .dataframe thead th {\n",
       "        text-align: right;\n",
       "    }\n",
       "</style>\n",
       "<table border=\"1\" class=\"dataframe\">\n",
       "  <thead>\n",
       "    <tr style=\"text-align: right;\">\n",
       "      <th></th>\n",
       "      <th>org_uuid</th>\n",
       "      <th>first_fund_investor</th>\n",
       "      <th>rank</th>\n",
       "    </tr>\n",
       "  </thead>\n",
       "  <tbody>\n",
       "    <tr>\n",
       "      <th>0</th>\n",
       "      <td>eb37f7c8-c036-a915-bb7c-63f445330f66</td>\n",
       "      <td>Bessemer Venture Partners</td>\n",
       "      <td>63.0</td>\n",
       "    </tr>\n",
       "    <tr>\n",
       "      <th>1</th>\n",
       "      <td>3d607a21-39bb-651e-c53f-9890ee334f18</td>\n",
       "      <td>ComVentures</td>\n",
       "      <td>151328.0</td>\n",
       "    </tr>\n",
       "    <tr>\n",
       "      <th>2</th>\n",
       "      <td>f29f5734-7560-f912-2b6f-c9805ac9d50d</td>\n",
       "      <td>NaN</td>\n",
       "      <td>NaN</td>\n",
       "    </tr>\n",
       "  </tbody>\n",
       "</table>\n",
       "</div>"
      ],
      "text/plain": [
       "                               org_uuid        first_fund_investor      rank\n",
       "0  eb37f7c8-c036-a915-bb7c-63f445330f66  Bessemer Venture Partners      63.0\n",
       "1  3d607a21-39bb-651e-c53f-9890ee334f18                ComVentures  151328.0\n",
       "2  f29f5734-7560-f912-2b6f-c9805ac9d50d                        NaN       NaN"
      ]
     },
     "execution_count": 20,
     "metadata": {},
     "output_type": "execute_result"
    }
   ],
   "source": [
    "investor_processing_df_v2.rename(columns={'name_y':'first_fund_investor'},inplace=True)\n",
    "investor_processing_df_v2.head(3)"
   ]
  },
  {
   "cell_type": "code",
   "execution_count": 21,
   "id": "romantic-nylon",
   "metadata": {},
   "outputs": [],
   "source": [
    "main_processing_df_v1 = pd.merge(main_df['org_uuid'],\n",
    "                                 investor_processing_df_v2,\n",
    "                                 on='org_uuid',\n",
    "                                 how='left')"
   ]
  },
  {
   "cell_type": "code",
   "execution_count": 22,
   "id": "developed-dream",
   "metadata": {},
   "outputs": [
    {
     "data": {
      "text/plain": [
       "38605"
      ]
     },
     "execution_count": 22,
     "metadata": {},
     "output_type": "execute_result"
    }
   ],
   "source": [
    "len(main_processing_df_v1)"
   ]
  },
  {
   "cell_type": "code",
   "execution_count": 23,
   "id": "spanish-authentication",
   "metadata": {},
   "outputs": [
    {
     "data": {
      "text/html": [
       "<div>\n",
       "<style scoped>\n",
       "    .dataframe tbody tr th:only-of-type {\n",
       "        vertical-align: middle;\n",
       "    }\n",
       "\n",
       "    .dataframe tbody tr th {\n",
       "        vertical-align: top;\n",
       "    }\n",
       "\n",
       "    .dataframe thead th {\n",
       "        text-align: right;\n",
       "    }\n",
       "</style>\n",
       "<table border=\"1\" class=\"dataframe\">\n",
       "  <thead>\n",
       "    <tr style=\"text-align: right;\">\n",
       "      <th></th>\n",
       "      <th>org_uuid</th>\n",
       "      <th>first_fund_investor</th>\n",
       "      <th>rank</th>\n",
       "    </tr>\n",
       "  </thead>\n",
       "  <tbody>\n",
       "    <tr>\n",
       "      <th>0</th>\n",
       "      <td>eb37f7c8-c036-a915-bb7c-63f445330f66</td>\n",
       "      <td>Bessemer Venture Partners</td>\n",
       "      <td>63.0</td>\n",
       "    </tr>\n",
       "    <tr>\n",
       "      <th>1</th>\n",
       "      <td>0a88fa0e-7abe-c4ac-ab69-877b01a9cb60</td>\n",
       "      <td>NaN</td>\n",
       "      <td>NaN</td>\n",
       "    </tr>\n",
       "    <tr>\n",
       "      <th>2</th>\n",
       "      <td>de462c42-b0a5-c5af-9637-ec426b4e991f</td>\n",
       "      <td>NaN</td>\n",
       "      <td>NaN</td>\n",
       "    </tr>\n",
       "  </tbody>\n",
       "</table>\n",
       "</div>"
      ],
      "text/plain": [
       "                               org_uuid        first_fund_investor  rank\n",
       "0  eb37f7c8-c036-a915-bb7c-63f445330f66  Bessemer Venture Partners  63.0\n",
       "1  0a88fa0e-7abe-c4ac-ab69-877b01a9cb60                        NaN   NaN\n",
       "2  de462c42-b0a5-c5af-9637-ec426b4e991f                        NaN   NaN"
      ]
     },
     "execution_count": 23,
     "metadata": {},
     "output_type": "execute_result"
    }
   ],
   "source": [
    "main_processing_df_v1.head(3)"
   ]
  },
  {
   "cell_type": "code",
   "execution_count": 24,
   "id": "legislative-employee",
   "metadata": {},
   "outputs": [
    {
     "data": {
      "text/plain": [
       "org_uuid                   0\n",
       "first_fund_investor    28065\n",
       "rank                   28065\n",
       "dtype: int64"
      ]
     },
     "execution_count": 24,
     "metadata": {},
     "output_type": "execute_result"
    }
   ],
   "source": [
    "main_processing_df_v1.isnull().sum(axis=0)"
   ]
  },
  {
   "cell_type": "code",
   "execution_count": 25,
   "id": "scheduled-transparency",
   "metadata": {},
   "outputs": [],
   "source": [
    "funding_rounds_df = pd.read_csv(R\"d:/msc-project/data/pre-processed/funding_rounds_preprocessed.csv\",encoding='utf-8', \n",
    "            index_col='funding_round_uuid',\n",
    "           parse_dates=['announced_on'])"
   ]
  },
  {
   "cell_type": "code",
   "execution_count": 26,
   "id": "driving-heating",
   "metadata": {},
   "outputs": [
    {
     "data": {
      "text/html": [
       "<div>\n",
       "<style scoped>\n",
       "    .dataframe tbody tr th:only-of-type {\n",
       "        vertical-align: middle;\n",
       "    }\n",
       "\n",
       "    .dataframe tbody tr th {\n",
       "        vertical-align: top;\n",
       "    }\n",
       "\n",
       "    .dataframe thead th {\n",
       "        text-align: right;\n",
       "    }\n",
       "</style>\n",
       "<table border=\"1\" class=\"dataframe\">\n",
       "  <thead>\n",
       "    <tr style=\"text-align: right;\">\n",
       "      <th></th>\n",
       "      <th>name</th>\n",
       "      <th>country_code</th>\n",
       "      <th>state_code</th>\n",
       "      <th>region</th>\n",
       "      <th>city</th>\n",
       "      <th>investment_type</th>\n",
       "      <th>announced_on</th>\n",
       "      <th>raised_amount_usd</th>\n",
       "      <th>raised_amount</th>\n",
       "      <th>raised_amount_currency_code</th>\n",
       "      <th>post_money_valuation_usd</th>\n",
       "      <th>post_money_valuation</th>\n",
       "      <th>post_money_valuation_currency_code</th>\n",
       "      <th>investor_count</th>\n",
       "      <th>org_uuid</th>\n",
       "      <th>org_name</th>\n",
       "      <th>lead_investor_uuids</th>\n",
       "    </tr>\n",
       "    <tr>\n",
       "      <th>funding_round_uuid</th>\n",
       "      <th></th>\n",
       "      <th></th>\n",
       "      <th></th>\n",
       "      <th></th>\n",
       "      <th></th>\n",
       "      <th></th>\n",
       "      <th></th>\n",
       "      <th></th>\n",
       "      <th></th>\n",
       "      <th></th>\n",
       "      <th></th>\n",
       "      <th></th>\n",
       "      <th></th>\n",
       "      <th></th>\n",
       "      <th></th>\n",
       "      <th></th>\n",
       "      <th></th>\n",
       "    </tr>\n",
       "  </thead>\n",
       "  <tbody>\n",
       "    <tr>\n",
       "      <th>49c9f66c-d6a6-58ed-8678-b01c2998e844</th>\n",
       "      <td>Series A - ORMvision</td>\n",
       "      <td>BEL</td>\n",
       "      <td>NaN</td>\n",
       "      <td>Oost-Vlaanderen</td>\n",
       "      <td>Lochristi</td>\n",
       "      <td>series_a</td>\n",
       "      <td>2001-05-01</td>\n",
       "      <td>445949.0</td>\n",
       "      <td>500000.0</td>\n",
       "      <td>EUR</td>\n",
       "      <td>NaN</td>\n",
       "      <td>NaN</td>\n",
       "      <td>NaN</td>\n",
       "      <td>1.0</td>\n",
       "      <td>de462c42-b0a5-c5af-9637-ec426b4e991f</td>\n",
       "      <td>ORMvision</td>\n",
       "      <td>NaN</td>\n",
       "    </tr>\n",
       "    <tr>\n",
       "      <th>fcb2422e-7230-442f-8367-e477036fe979</th>\n",
       "      <td>Series B - ORMvision</td>\n",
       "      <td>BEL</td>\n",
       "      <td>NaN</td>\n",
       "      <td>Oost-Vlaanderen</td>\n",
       "      <td>Lochristi</td>\n",
       "      <td>series_b</td>\n",
       "      <td>2001-11-06</td>\n",
       "      <td>1794321.0</td>\n",
       "      <td>2000000.0</td>\n",
       "      <td>EUR</td>\n",
       "      <td>NaN</td>\n",
       "      <td>NaN</td>\n",
       "      <td>NaN</td>\n",
       "      <td>2.0</td>\n",
       "      <td>de462c42-b0a5-c5af-9637-ec426b4e991f</td>\n",
       "      <td>ORMvision</td>\n",
       "      <td>0268c659-816e-00aa-2bc8-8f7b9fa5f86c</td>\n",
       "    </tr>\n",
       "  </tbody>\n",
       "</table>\n",
       "</div>"
      ],
      "text/plain": [
       "                                                      name country_code  \\\n",
       "funding_round_uuid                                                        \n",
       "49c9f66c-d6a6-58ed-8678-b01c2998e844  Series A - ORMvision          BEL   \n",
       "fcb2422e-7230-442f-8367-e477036fe979  Series B - ORMvision          BEL   \n",
       "\n",
       "                                     state_code           region       city  \\\n",
       "funding_round_uuid                                                            \n",
       "49c9f66c-d6a6-58ed-8678-b01c2998e844        NaN  Oost-Vlaanderen  Lochristi   \n",
       "fcb2422e-7230-442f-8367-e477036fe979        NaN  Oost-Vlaanderen  Lochristi   \n",
       "\n",
       "                                     investment_type announced_on  \\\n",
       "funding_round_uuid                                                  \n",
       "49c9f66c-d6a6-58ed-8678-b01c2998e844        series_a   2001-05-01   \n",
       "fcb2422e-7230-442f-8367-e477036fe979        series_b   2001-11-06   \n",
       "\n",
       "                                      raised_amount_usd  raised_amount  \\\n",
       "funding_round_uuid                                                       \n",
       "49c9f66c-d6a6-58ed-8678-b01c2998e844           445949.0       500000.0   \n",
       "fcb2422e-7230-442f-8367-e477036fe979          1794321.0      2000000.0   \n",
       "\n",
       "                                     raised_amount_currency_code  \\\n",
       "funding_round_uuid                                                 \n",
       "49c9f66c-d6a6-58ed-8678-b01c2998e844                         EUR   \n",
       "fcb2422e-7230-442f-8367-e477036fe979                         EUR   \n",
       "\n",
       "                                      post_money_valuation_usd  \\\n",
       "funding_round_uuid                                               \n",
       "49c9f66c-d6a6-58ed-8678-b01c2998e844                       NaN   \n",
       "fcb2422e-7230-442f-8367-e477036fe979                       NaN   \n",
       "\n",
       "                                      post_money_valuation  \\\n",
       "funding_round_uuid                                           \n",
       "49c9f66c-d6a6-58ed-8678-b01c2998e844                   NaN   \n",
       "fcb2422e-7230-442f-8367-e477036fe979                   NaN   \n",
       "\n",
       "                                     post_money_valuation_currency_code  \\\n",
       "funding_round_uuid                                                        \n",
       "49c9f66c-d6a6-58ed-8678-b01c2998e844                                NaN   \n",
       "fcb2422e-7230-442f-8367-e477036fe979                                NaN   \n",
       "\n",
       "                                      investor_count  \\\n",
       "funding_round_uuid                                     \n",
       "49c9f66c-d6a6-58ed-8678-b01c2998e844             1.0   \n",
       "fcb2422e-7230-442f-8367-e477036fe979             2.0   \n",
       "\n",
       "                                                                  org_uuid  \\\n",
       "funding_round_uuid                                                           \n",
       "49c9f66c-d6a6-58ed-8678-b01c2998e844  de462c42-b0a5-c5af-9637-ec426b4e991f   \n",
       "fcb2422e-7230-442f-8367-e477036fe979  de462c42-b0a5-c5af-9637-ec426b4e991f   \n",
       "\n",
       "                                       org_name  \\\n",
       "funding_round_uuid                                \n",
       "49c9f66c-d6a6-58ed-8678-b01c2998e844  ORMvision   \n",
       "fcb2422e-7230-442f-8367-e477036fe979  ORMvision   \n",
       "\n",
       "                                                       lead_investor_uuids  \n",
       "funding_round_uuid                                                          \n",
       "49c9f66c-d6a6-58ed-8678-b01c2998e844                                   NaN  \n",
       "fcb2422e-7230-442f-8367-e477036fe979  0268c659-816e-00aa-2bc8-8f7b9fa5f86c  "
      ]
     },
     "execution_count": 26,
     "metadata": {},
     "output_type": "execute_result"
    }
   ],
   "source": [
    "funding_rounds_df[funding_rounds_df['org_uuid'] == 'de462c42-b0a5-c5af-9637-ec426b4e991f']"
   ]
  },
  {
   "cell_type": "code",
   "execution_count": 27,
   "id": "architectural-launch",
   "metadata": {},
   "outputs": [
    {
     "data": {
      "text/plain": [
       "430.0        115\n",
       "2383.0        74\n",
       "180.0         61\n",
       "9086.0        54\n",
       "9381.0        51\n",
       "            ... \n",
       "249797.0       1\n",
       "37228.0        1\n",
       "199734.0       1\n",
       "1334353.0      1\n",
       "1420671.0      1\n",
       "Name: rank, Length: 4550, dtype: int64"
      ]
     },
     "execution_count": 27,
     "metadata": {},
     "output_type": "execute_result"
    }
   ],
   "source": [
    "main_processing_df_v1['rank'].value_counts()"
   ]
  },
  {
   "cell_type": "code",
   "execution_count": 28,
   "id": "coordinated-karen",
   "metadata": {},
   "outputs": [
    {
     "data": {
      "text/html": [
       "<div>\n",
       "<style scoped>\n",
       "    .dataframe tbody tr th:only-of-type {\n",
       "        vertical-align: middle;\n",
       "    }\n",
       "\n",
       "    .dataframe tbody tr th {\n",
       "        vertical-align: top;\n",
       "    }\n",
       "\n",
       "    .dataframe thead th {\n",
       "        text-align: right;\n",
       "    }\n",
       "</style>\n",
       "<table border=\"1\" class=\"dataframe\">\n",
       "  <thead>\n",
       "    <tr style=\"text-align: right;\">\n",
       "      <th></th>\n",
       "      <th>org_uuid</th>\n",
       "      <th>first_fund_investor</th>\n",
       "      <th>rank</th>\n",
       "    </tr>\n",
       "  </thead>\n",
       "  <tbody>\n",
       "    <tr>\n",
       "      <th>10828</th>\n",
       "      <td>cf1c8b7b-8a38-4a4c-d2a4-dbe1fe94b15c</td>\n",
       "      <td>Xiaomi</td>\n",
       "      <td>4.0</td>\n",
       "    </tr>\n",
       "    <tr>\n",
       "      <th>3345</th>\n",
       "      <td>f4f569af-694f-ff98-7fd2-0230dee95268</td>\n",
       "      <td>Xiaomi</td>\n",
       "      <td>4.0</td>\n",
       "    </tr>\n",
       "    <tr>\n",
       "      <th>11284</th>\n",
       "      <td>6874d23a-6617-48df-a7ee-2574e48f6897</td>\n",
       "      <td>Xiaomi</td>\n",
       "      <td>4.0</td>\n",
       "    </tr>\n",
       "    <tr>\n",
       "      <th>36015</th>\n",
       "      <td>e612fae5-2160-61a9-08a8-fbd3f763dc34</td>\n",
       "      <td>Xiaomi</td>\n",
       "      <td>4.0</td>\n",
       "    </tr>\n",
       "    <tr>\n",
       "      <th>28875</th>\n",
       "      <td>476aef3d-9cf8-03ba-b521-c4f266daa800</td>\n",
       "      <td>OurCrowd</td>\n",
       "      <td>11.0</td>\n",
       "    </tr>\n",
       "    <tr>\n",
       "      <th>...</th>\n",
       "      <td>...</td>\n",
       "      <td>...</td>\n",
       "      <td>...</td>\n",
       "    </tr>\n",
       "    <tr>\n",
       "      <th>38596</th>\n",
       "      <td>993a321e-5895-42c2-a234-841891fd694b</td>\n",
       "      <td>NaN</td>\n",
       "      <td>NaN</td>\n",
       "    </tr>\n",
       "    <tr>\n",
       "      <th>38599</th>\n",
       "      <td>207d0f85-34b0-45d4-8bf5-63841ae0ec4b</td>\n",
       "      <td>NaN</td>\n",
       "      <td>NaN</td>\n",
       "    </tr>\n",
       "    <tr>\n",
       "      <th>38600</th>\n",
       "      <td>e5c41b77-ca63-46f8-a1c5-ab0ffa60696d</td>\n",
       "      <td>NaN</td>\n",
       "      <td>NaN</td>\n",
       "    </tr>\n",
       "    <tr>\n",
       "      <th>38601</th>\n",
       "      <td>dc27b710-d616-513e-5125-04c1e14cbc1b</td>\n",
       "      <td>NaN</td>\n",
       "      <td>NaN</td>\n",
       "    </tr>\n",
       "    <tr>\n",
       "      <th>38602</th>\n",
       "      <td>d7a2a19c-b0cb-4424-9330-07b70021bcf3</td>\n",
       "      <td>NaN</td>\n",
       "      <td>NaN</td>\n",
       "    </tr>\n",
       "  </tbody>\n",
       "</table>\n",
       "<p>38605 rows × 3 columns</p>\n",
       "</div>"
      ],
      "text/plain": [
       "                                   org_uuid first_fund_investor  rank\n",
       "10828  cf1c8b7b-8a38-4a4c-d2a4-dbe1fe94b15c              Xiaomi   4.0\n",
       "3345   f4f569af-694f-ff98-7fd2-0230dee95268              Xiaomi   4.0\n",
       "11284  6874d23a-6617-48df-a7ee-2574e48f6897              Xiaomi   4.0\n",
       "36015  e612fae5-2160-61a9-08a8-fbd3f763dc34              Xiaomi   4.0\n",
       "28875  476aef3d-9cf8-03ba-b521-c4f266daa800            OurCrowd  11.0\n",
       "...                                     ...                 ...   ...\n",
       "38596  993a321e-5895-42c2-a234-841891fd694b                 NaN   NaN\n",
       "38599  207d0f85-34b0-45d4-8bf5-63841ae0ec4b                 NaN   NaN\n",
       "38600  e5c41b77-ca63-46f8-a1c5-ab0ffa60696d                 NaN   NaN\n",
       "38601  dc27b710-d616-513e-5125-04c1e14cbc1b                 NaN   NaN\n",
       "38602  d7a2a19c-b0cb-4424-9330-07b70021bcf3                 NaN   NaN\n",
       "\n",
       "[38605 rows x 3 columns]"
      ]
     },
     "execution_count": 28,
     "metadata": {},
     "output_type": "execute_result"
    }
   ],
   "source": [
    "main_processing_df_v1.sort_values(by=['rank'])"
   ]
  },
  {
   "cell_type": "code",
   "execution_count": null,
   "id": "secondary-million",
   "metadata": {},
   "outputs": [],
   "source": []
  },
  {
   "cell_type": "code",
   "execution_count": 29,
   "id": "modular-immunology",
   "metadata": {},
   "outputs": [],
   "source": [
    "#assign 1 for top 1000 rank and 0 for above 1000 and no info.\n",
    "rank_cat = list()\n",
    "\n",
    "for rank in list (main_processing_df_v1['rank']):\n",
    "    if rank <= 1000:\n",
    "        rank_cat.append('cbtop1000')\n",
    "    elif rank > 1000:\n",
    "        rank_cat.append('not_cbtop1000')\n",
    "    else:\n",
    "        rank_cat.append('no_rank')\n",
    "\n",
    "main_processing_df_v1['rank_cat'] = rank_cat"
   ]
  },
  {
   "cell_type": "code",
   "execution_count": 30,
   "id": "vocal-sandwich",
   "metadata": {},
   "outputs": [
    {
     "data": {
      "text/html": [
       "<div>\n",
       "<style scoped>\n",
       "    .dataframe tbody tr th:only-of-type {\n",
       "        vertical-align: middle;\n",
       "    }\n",
       "\n",
       "    .dataframe tbody tr th {\n",
       "        vertical-align: top;\n",
       "    }\n",
       "\n",
       "    .dataframe thead th {\n",
       "        text-align: right;\n",
       "    }\n",
       "</style>\n",
       "<table border=\"1\" class=\"dataframe\">\n",
       "  <thead>\n",
       "    <tr style=\"text-align: right;\">\n",
       "      <th></th>\n",
       "      <th>org_uuid</th>\n",
       "      <th>first_fund_investor</th>\n",
       "      <th>rank</th>\n",
       "      <th>rank_cat</th>\n",
       "    </tr>\n",
       "  </thead>\n",
       "  <tbody>\n",
       "    <tr>\n",
       "      <th>0</th>\n",
       "      <td>eb37f7c8-c036-a915-bb7c-63f445330f66</td>\n",
       "      <td>Bessemer Venture Partners</td>\n",
       "      <td>63.0</td>\n",
       "      <td>cbtop1000</td>\n",
       "    </tr>\n",
       "    <tr>\n",
       "      <th>1</th>\n",
       "      <td>0a88fa0e-7abe-c4ac-ab69-877b01a9cb60</td>\n",
       "      <td>NaN</td>\n",
       "      <td>NaN</td>\n",
       "      <td>no_rank</td>\n",
       "    </tr>\n",
       "    <tr>\n",
       "      <th>2</th>\n",
       "      <td>de462c42-b0a5-c5af-9637-ec426b4e991f</td>\n",
       "      <td>NaN</td>\n",
       "      <td>NaN</td>\n",
       "      <td>no_rank</td>\n",
       "    </tr>\n",
       "    <tr>\n",
       "      <th>3</th>\n",
       "      <td>46e0c7e4-64a3-f67e-2be2-6e707d6d5a51</td>\n",
       "      <td>NaN</td>\n",
       "      <td>NaN</td>\n",
       "      <td>no_rank</td>\n",
       "    </tr>\n",
       "    <tr>\n",
       "      <th>4</th>\n",
       "      <td>89d81ccd-1b5d-4adb-1bcc-312ab6e4f90d</td>\n",
       "      <td>NaN</td>\n",
       "      <td>NaN</td>\n",
       "      <td>no_rank</td>\n",
       "    </tr>\n",
       "    <tr>\n",
       "      <th>5</th>\n",
       "      <td>1b923b7c-b415-a83c-cbcc-53b27c877907</td>\n",
       "      <td>NaN</td>\n",
       "      <td>NaN</td>\n",
       "      <td>no_rank</td>\n",
       "    </tr>\n",
       "    <tr>\n",
       "      <th>6</th>\n",
       "      <td>88206b5f-eefe-e06c-5a84-0dedd98dd529</td>\n",
       "      <td>NaN</td>\n",
       "      <td>NaN</td>\n",
       "      <td>no_rank</td>\n",
       "    </tr>\n",
       "    <tr>\n",
       "      <th>7</th>\n",
       "      <td>91f5ca18-e026-9482-8e4f-22593943e0f5</td>\n",
       "      <td>NaN</td>\n",
       "      <td>NaN</td>\n",
       "      <td>no_rank</td>\n",
       "    </tr>\n",
       "    <tr>\n",
       "      <th>8</th>\n",
       "      <td>3d607a21-39bb-651e-c53f-9890ee334f18</td>\n",
       "      <td>ComVentures</td>\n",
       "      <td>151328.0</td>\n",
       "      <td>not_cbtop1000</td>\n",
       "    </tr>\n",
       "    <tr>\n",
       "      <th>9</th>\n",
       "      <td>ab272c7d-735f-8ff7-d5b6-009ac6d91792</td>\n",
       "      <td>NaN</td>\n",
       "      <td>NaN</td>\n",
       "      <td>no_rank</td>\n",
       "    </tr>\n",
       "  </tbody>\n",
       "</table>\n",
       "</div>"
      ],
      "text/plain": [
       "                               org_uuid        first_fund_investor      rank  \\\n",
       "0  eb37f7c8-c036-a915-bb7c-63f445330f66  Bessemer Venture Partners      63.0   \n",
       "1  0a88fa0e-7abe-c4ac-ab69-877b01a9cb60                        NaN       NaN   \n",
       "2  de462c42-b0a5-c5af-9637-ec426b4e991f                        NaN       NaN   \n",
       "3  46e0c7e4-64a3-f67e-2be2-6e707d6d5a51                        NaN       NaN   \n",
       "4  89d81ccd-1b5d-4adb-1bcc-312ab6e4f90d                        NaN       NaN   \n",
       "5  1b923b7c-b415-a83c-cbcc-53b27c877907                        NaN       NaN   \n",
       "6  88206b5f-eefe-e06c-5a84-0dedd98dd529                        NaN       NaN   \n",
       "7  91f5ca18-e026-9482-8e4f-22593943e0f5                        NaN       NaN   \n",
       "8  3d607a21-39bb-651e-c53f-9890ee334f18                ComVentures  151328.0   \n",
       "9  ab272c7d-735f-8ff7-d5b6-009ac6d91792                        NaN       NaN   \n",
       "\n",
       "        rank_cat  \n",
       "0      cbtop1000  \n",
       "1        no_rank  \n",
       "2        no_rank  \n",
       "3        no_rank  \n",
       "4        no_rank  \n",
       "5        no_rank  \n",
       "6        no_rank  \n",
       "7        no_rank  \n",
       "8  not_cbtop1000  \n",
       "9        no_rank  "
      ]
     },
     "execution_count": 30,
     "metadata": {},
     "output_type": "execute_result"
    }
   ],
   "source": [
    "main_processing_df_v1.head(10)"
   ]
  },
  {
   "cell_type": "code",
   "execution_count": 31,
   "id": "judicial-ukraine",
   "metadata": {},
   "outputs": [],
   "source": [
    "column_names = list()\n",
    "\n",
    "for column in pd.get_dummies(main_processing_df_v1['rank_cat']).columns:\n",
    "    column_names.append('is_'+ column)\n",
    "\n",
    "one_hot_encode_investor_rank = pd.get_dummies(main_processing_df_v1['rank_cat'], columns=column_names)\n",
    "\n",
    "column_name_dict = dict (zip(one_hot_encode_investor_rank.columns,column_names))\n",
    "one_hot_encode_investor_rank.rename (columns=column_name_dict,inplace=True)"
   ]
  },
  {
   "cell_type": "code",
   "execution_count": 32,
   "id": "educational-quebec",
   "metadata": {},
   "outputs": [
    {
     "data": {
      "text/html": [
       "<div>\n",
       "<style scoped>\n",
       "    .dataframe tbody tr th:only-of-type {\n",
       "        vertical-align: middle;\n",
       "    }\n",
       "\n",
       "    .dataframe tbody tr th {\n",
       "        vertical-align: top;\n",
       "    }\n",
       "\n",
       "    .dataframe thead th {\n",
       "        text-align: right;\n",
       "    }\n",
       "</style>\n",
       "<table border=\"1\" class=\"dataframe\">\n",
       "  <thead>\n",
       "    <tr style=\"text-align: right;\">\n",
       "      <th></th>\n",
       "      <th>is_cbtop1000</th>\n",
       "      <th>is_no_rank</th>\n",
       "      <th>is_not_cbtop1000</th>\n",
       "    </tr>\n",
       "  </thead>\n",
       "  <tbody>\n",
       "    <tr>\n",
       "      <th>0</th>\n",
       "      <td>1</td>\n",
       "      <td>0</td>\n",
       "      <td>0</td>\n",
       "    </tr>\n",
       "    <tr>\n",
       "      <th>1</th>\n",
       "      <td>0</td>\n",
       "      <td>1</td>\n",
       "      <td>0</td>\n",
       "    </tr>\n",
       "    <tr>\n",
       "      <th>2</th>\n",
       "      <td>0</td>\n",
       "      <td>1</td>\n",
       "      <td>0</td>\n",
       "    </tr>\n",
       "  </tbody>\n",
       "</table>\n",
       "</div>"
      ],
      "text/plain": [
       "   is_cbtop1000  is_no_rank  is_not_cbtop1000\n",
       "0             1           0                 0\n",
       "1             0           1                 0\n",
       "2             0           1                 0"
      ]
     },
     "execution_count": 32,
     "metadata": {},
     "output_type": "execute_result"
    }
   ],
   "source": [
    "one_hot_encode_investor_rank.head(3)"
   ]
  },
  {
   "cell_type": "code",
   "execution_count": 33,
   "id": "announced-immune",
   "metadata": {},
   "outputs": [],
   "source": [
    "main_processing_df_v2 = pd.concat([main_processing_df_v1,one_hot_encode_investor_rank],\n",
    "                                 axis = 1)"
   ]
  },
  {
   "cell_type": "code",
   "execution_count": 34,
   "id": "fewer-sherman",
   "metadata": {},
   "outputs": [
    {
     "data": {
      "text/html": [
       "<div>\n",
       "<style scoped>\n",
       "    .dataframe tbody tr th:only-of-type {\n",
       "        vertical-align: middle;\n",
       "    }\n",
       "\n",
       "    .dataframe tbody tr th {\n",
       "        vertical-align: top;\n",
       "    }\n",
       "\n",
       "    .dataframe thead th {\n",
       "        text-align: right;\n",
       "    }\n",
       "</style>\n",
       "<table border=\"1\" class=\"dataframe\">\n",
       "  <thead>\n",
       "    <tr style=\"text-align: right;\">\n",
       "      <th></th>\n",
       "      <th>org_uuid</th>\n",
       "      <th>first_fund_investor</th>\n",
       "      <th>rank</th>\n",
       "      <th>rank_cat</th>\n",
       "      <th>is_cbtop1000</th>\n",
       "      <th>is_no_rank</th>\n",
       "      <th>is_not_cbtop1000</th>\n",
       "    </tr>\n",
       "  </thead>\n",
       "  <tbody>\n",
       "    <tr>\n",
       "      <th>0</th>\n",
       "      <td>eb37f7c8-c036-a915-bb7c-63f445330f66</td>\n",
       "      <td>Bessemer Venture Partners</td>\n",
       "      <td>63.0</td>\n",
       "      <td>cbtop1000</td>\n",
       "      <td>1</td>\n",
       "      <td>0</td>\n",
       "      <td>0</td>\n",
       "    </tr>\n",
       "    <tr>\n",
       "      <th>1</th>\n",
       "      <td>0a88fa0e-7abe-c4ac-ab69-877b01a9cb60</td>\n",
       "      <td>NaN</td>\n",
       "      <td>NaN</td>\n",
       "      <td>no_rank</td>\n",
       "      <td>0</td>\n",
       "      <td>1</td>\n",
       "      <td>0</td>\n",
       "    </tr>\n",
       "    <tr>\n",
       "      <th>2</th>\n",
       "      <td>de462c42-b0a5-c5af-9637-ec426b4e991f</td>\n",
       "      <td>NaN</td>\n",
       "      <td>NaN</td>\n",
       "      <td>no_rank</td>\n",
       "      <td>0</td>\n",
       "      <td>1</td>\n",
       "      <td>0</td>\n",
       "    </tr>\n",
       "  </tbody>\n",
       "</table>\n",
       "</div>"
      ],
      "text/plain": [
       "                               org_uuid        first_fund_investor  rank  \\\n",
       "0  eb37f7c8-c036-a915-bb7c-63f445330f66  Bessemer Venture Partners  63.0   \n",
       "1  0a88fa0e-7abe-c4ac-ab69-877b01a9cb60                        NaN   NaN   \n",
       "2  de462c42-b0a5-c5af-9637-ec426b4e991f                        NaN   NaN   \n",
       "\n",
       "    rank_cat  is_cbtop1000  is_no_rank  is_not_cbtop1000  \n",
       "0  cbtop1000             1           0                 0  \n",
       "1    no_rank             0           1                 0  \n",
       "2    no_rank             0           1                 0  "
      ]
     },
     "execution_count": 34,
     "metadata": {},
     "output_type": "execute_result"
    }
   ],
   "source": [
    "main_processing_df_v2.head(3)"
   ]
  },
  {
   "cell_type": "code",
   "execution_count": 35,
   "id": "portuguese-buffalo",
   "metadata": {},
   "outputs": [],
   "source": [
    "main_processing_df_v3 = main_processing_df_v2.drop(['first_fund_investor','rank','rank_cat'],axis=1)"
   ]
  },
  {
   "cell_type": "code",
   "execution_count": 36,
   "id": "noble-biotechnology",
   "metadata": {},
   "outputs": [
    {
     "data": {
      "text/html": [
       "<div>\n",
       "<style scoped>\n",
       "    .dataframe tbody tr th:only-of-type {\n",
       "        vertical-align: middle;\n",
       "    }\n",
       "\n",
       "    .dataframe tbody tr th {\n",
       "        vertical-align: top;\n",
       "    }\n",
       "\n",
       "    .dataframe thead th {\n",
       "        text-align: right;\n",
       "    }\n",
       "</style>\n",
       "<table border=\"1\" class=\"dataframe\">\n",
       "  <thead>\n",
       "    <tr style=\"text-align: right;\">\n",
       "      <th></th>\n",
       "      <th>org_uuid</th>\n",
       "      <th>is_cbtop1000</th>\n",
       "      <th>is_no_rank</th>\n",
       "      <th>is_not_cbtop1000</th>\n",
       "    </tr>\n",
       "  </thead>\n",
       "  <tbody>\n",
       "    <tr>\n",
       "      <th>0</th>\n",
       "      <td>eb37f7c8-c036-a915-bb7c-63f445330f66</td>\n",
       "      <td>1</td>\n",
       "      <td>0</td>\n",
       "      <td>0</td>\n",
       "    </tr>\n",
       "    <tr>\n",
       "      <th>1</th>\n",
       "      <td>0a88fa0e-7abe-c4ac-ab69-877b01a9cb60</td>\n",
       "      <td>0</td>\n",
       "      <td>1</td>\n",
       "      <td>0</td>\n",
       "    </tr>\n",
       "    <tr>\n",
       "      <th>2</th>\n",
       "      <td>de462c42-b0a5-c5af-9637-ec426b4e991f</td>\n",
       "      <td>0</td>\n",
       "      <td>1</td>\n",
       "      <td>0</td>\n",
       "    </tr>\n",
       "  </tbody>\n",
       "</table>\n",
       "</div>"
      ],
      "text/plain": [
       "                               org_uuid  is_cbtop1000  is_no_rank  \\\n",
       "0  eb37f7c8-c036-a915-bb7c-63f445330f66             1           0   \n",
       "1  0a88fa0e-7abe-c4ac-ab69-877b01a9cb60             0           1   \n",
       "2  de462c42-b0a5-c5af-9637-ec426b4e991f             0           1   \n",
       "\n",
       "   is_not_cbtop1000  \n",
       "0                 0  \n",
       "1                 0  \n",
       "2                 0  "
      ]
     },
     "execution_count": 36,
     "metadata": {},
     "output_type": "execute_result"
    }
   ],
   "source": [
    "main_processing_df_v3.head(3)"
   ]
  },
  {
   "cell_type": "markdown",
   "id": "systematic-springfield",
   "metadata": {},
   "source": [
    "# Rename column and save file"
   ]
  },
  {
   "cell_type": "code",
   "execution_count": 37,
   "id": "egyptian-youth",
   "metadata": {},
   "outputs": [
    {
     "data": {
      "text/plain": [
       "38605"
      ]
     },
     "execution_count": 37,
     "metadata": {},
     "output_type": "execute_result"
    }
   ],
   "source": [
    "len(main_processing_df_v3)"
   ]
  },
  {
   "cell_type": "code",
   "execution_count": 38,
   "id": "changing-partnership",
   "metadata": {},
   "outputs": [
    {
     "data": {
      "text/html": [
       "<div>\n",
       "<style scoped>\n",
       "    .dataframe tbody tr th:only-of-type {\n",
       "        vertical-align: middle;\n",
       "    }\n",
       "\n",
       "    .dataframe tbody tr th {\n",
       "        vertical-align: top;\n",
       "    }\n",
       "\n",
       "    .dataframe thead th {\n",
       "        text-align: right;\n",
       "    }\n",
       "</style>\n",
       "<table border=\"1\" class=\"dataframe\">\n",
       "  <thead>\n",
       "    <tr style=\"text-align: right;\">\n",
       "      <th></th>\n",
       "      <th>investor_is_cbtop1000</th>\n",
       "      <th>investor_is_no_rank</th>\n",
       "      <th>investor_is_not_cbtop1000</th>\n",
       "    </tr>\n",
       "    <tr>\n",
       "      <th>org_uuid</th>\n",
       "      <th></th>\n",
       "      <th></th>\n",
       "      <th></th>\n",
       "    </tr>\n",
       "  </thead>\n",
       "  <tbody>\n",
       "    <tr>\n",
       "      <th>eb37f7c8-c036-a915-bb7c-63f445330f66</th>\n",
       "      <td>1</td>\n",
       "      <td>0</td>\n",
       "      <td>0</td>\n",
       "    </tr>\n",
       "    <tr>\n",
       "      <th>0a88fa0e-7abe-c4ac-ab69-877b01a9cb60</th>\n",
       "      <td>0</td>\n",
       "      <td>1</td>\n",
       "      <td>0</td>\n",
       "    </tr>\n",
       "    <tr>\n",
       "      <th>de462c42-b0a5-c5af-9637-ec426b4e991f</th>\n",
       "      <td>0</td>\n",
       "      <td>1</td>\n",
       "      <td>0</td>\n",
       "    </tr>\n",
       "  </tbody>\n",
       "</table>\n",
       "</div>"
      ],
      "text/plain": [
       "                                      investor_is_cbtop1000  \\\n",
       "org_uuid                                                      \n",
       "eb37f7c8-c036-a915-bb7c-63f445330f66                      1   \n",
       "0a88fa0e-7abe-c4ac-ab69-877b01a9cb60                      0   \n",
       "de462c42-b0a5-c5af-9637-ec426b4e991f                      0   \n",
       "\n",
       "                                      investor_is_no_rank  \\\n",
       "org_uuid                                                    \n",
       "eb37f7c8-c036-a915-bb7c-63f445330f66                    0   \n",
       "0a88fa0e-7abe-c4ac-ab69-877b01a9cb60                    1   \n",
       "de462c42-b0a5-c5af-9637-ec426b4e991f                    1   \n",
       "\n",
       "                                      investor_is_not_cbtop1000  \n",
       "org_uuid                                                         \n",
       "eb37f7c8-c036-a915-bb7c-63f445330f66                          0  \n",
       "0a88fa0e-7abe-c4ac-ab69-877b01a9cb60                          0  \n",
       "de462c42-b0a5-c5af-9637-ec426b4e991f                          0  "
      ]
     },
     "execution_count": 38,
     "metadata": {},
     "output_type": "execute_result"
    }
   ],
   "source": [
    "main_processing_df_v3.set_index('org_uuid',inplace=True)\n",
    "\n",
    "new_column_name = list()\n",
    "for column in list(main_processing_df_v3.columns):\n",
    "    new_column_name.append('investor_' + column)\n",
    "new_column_dict = dict(zip(main_processing_df_v3.columns,new_column_name))\n",
    "main_processing_df_v3.rename(columns = new_column_dict,inplace=True)\n",
    "main_processing_df_v3.head(3)"
   ]
  },
  {
   "cell_type": "code",
   "execution_count": 39,
   "id": "considered-alabama",
   "metadata": {},
   "outputs": [],
   "source": [
    "main_processing_df_v3.to_csv(r'd:\\msc-project\\data\\final\\features_investor.csv',encoding='utf=8')"
   ]
  },
  {
   "cell_type": "code",
   "execution_count": null,
   "id": "controversial-sunrise",
   "metadata": {},
   "outputs": [],
   "source": []
  }
 ],
 "metadata": {
  "kernelspec": {
   "display_name": "Python 3",
   "language": "python",
   "name": "python3"
  },
  "language_info": {
   "codemirror_mode": {
    "name": "ipython",
    "version": 3
   },
   "file_extension": ".py",
   "mimetype": "text/x-python",
   "name": "python",
   "nbconvert_exporter": "python",
   "pygments_lexer": "ipython3",
   "version": "3.7.9"
  }
 },
 "nbformat": 4,
 "nbformat_minor": 5
}
