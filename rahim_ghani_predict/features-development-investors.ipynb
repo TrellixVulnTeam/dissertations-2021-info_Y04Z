{
 "cells": [
  {
   "cell_type": "code",
   "execution_count": 84,
   "id": "oriental-queens",
   "metadata": {},
   "outputs": [],
   "source": [
    "#Import basic packages\n",
    "import os\n",
    "import numpy as np\n",
    "import pandas as pd\n",
    "import csv\n",
    "import regex as re\n",
    "import datetime as dt "
   ]
  },
  {
   "cell_type": "code",
   "execution_count": 85,
   "id": "distributed-gibson",
   "metadata": {},
   "outputs": [],
   "source": [
    "#import outcome file with org_uuid\n",
    "main_df = pd.read_csv(R\"d:/msc-project/data/final/outcome_final_v1.csv\",encoding='utf-8',\n",
    "                         index_col=False,\n",
    "                         parse_dates= ['founded_on','seed_date','series_a_date','series_b_date','series_c_date'])\n",
    "main_processing_df = main_df[['org_uuid','name','outcome','lead_investor_uuids_seed','lead_investor_uuids_series_a']]"
   ]
  },
  {
   "cell_type": "code",
   "execution_count": 105,
   "id": "resistant-newton",
   "metadata": {},
   "outputs": [
    {
     "data": {
      "text/plain": [
       "28658"
      ]
     },
     "execution_count": 105,
     "metadata": {},
     "output_type": "execute_result"
    }
   ],
   "source": [
    "len(main_df)"
   ]
  },
  {
   "cell_type": "code",
   "execution_count": 86,
   "id": "fossil-store",
   "metadata": {},
   "outputs": [],
   "source": [
    "#import investors data\n",
    "investors_df = pd.read_csv(R\"D:\\msc-project\\data\\pre-processed\\investors_preprocessed.csv\",encoding='utf-8',\n",
    "                         index_col=False,\n",
    "                         parse_dates= ['founded_on','closed_on'])"
   ]
  },
  {
   "cell_type": "code",
   "execution_count": 87,
   "id": "patient-magnet",
   "metadata": {},
   "outputs": [
    {
     "data": {
      "text/plain": [
       "Index(['investor_uuid', 'name', 'type', 'country_code', 'state_code', 'region',\n",
       "       'city', 'investor_types', 'investment_count', 'total_funding_usd',\n",
       "       'total_funding', 'total_funding_currency_code', 'founded_on',\n",
       "       'closed_on', 'facebook_url', 'linkedin_url', 'twitter_url', 'logo_url'],\n",
       "      dtype='object')"
      ]
     },
     "execution_count": 87,
     "metadata": {},
     "output_type": "execute_result"
    }
   ],
   "source": [
    "investors_df.columns"
   ]
  },
  {
   "cell_type": "code",
   "execution_count": 88,
   "id": "circular-secretariat",
   "metadata": {},
   "outputs": [
    {
     "data": {
      "text/html": [
       "<div>\n",
       "<style scoped>\n",
       "    .dataframe tbody tr th:only-of-type {\n",
       "        vertical-align: middle;\n",
       "    }\n",
       "\n",
       "    .dataframe tbody tr th {\n",
       "        vertical-align: top;\n",
       "    }\n",
       "\n",
       "    .dataframe thead th {\n",
       "        text-align: right;\n",
       "    }\n",
       "</style>\n",
       "<table border=\"1\" class=\"dataframe\">\n",
       "  <thead>\n",
       "    <tr style=\"text-align: right;\">\n",
       "      <th></th>\n",
       "      <th>org_uuid</th>\n",
       "      <th>name</th>\n",
       "      <th>outcome</th>\n",
       "      <th>lead_investor_uuids_seed</th>\n",
       "      <th>lead_investor_uuids_series_a</th>\n",
       "    </tr>\n",
       "  </thead>\n",
       "  <tbody>\n",
       "    <tr>\n",
       "      <th>0</th>\n",
       "      <td>eb37f7c8-c036-a915-bb7c-63f445330f66</td>\n",
       "      <td>Ceyba</td>\n",
       "      <td>0</td>\n",
       "      <td>NaN</td>\n",
       "      <td>beadb218-e5fa-2686-bc95-4dfaa9acc2e8</td>\n",
       "    </tr>\n",
       "    <tr>\n",
       "      <th>1</th>\n",
       "      <td>0a88fa0e-7abe-c4ac-ab69-877b01a9cb60</td>\n",
       "      <td>IceFyre Semiconductor</td>\n",
       "      <td>0</td>\n",
       "      <td>NaN</td>\n",
       "      <td>NaN</td>\n",
       "    </tr>\n",
       "    <tr>\n",
       "      <th>2</th>\n",
       "      <td>de462c42-b0a5-c5af-9637-ec426b4e991f</td>\n",
       "      <td>ORMvision</td>\n",
       "      <td>0</td>\n",
       "      <td>NaN</td>\n",
       "      <td>NaN</td>\n",
       "    </tr>\n",
       "  </tbody>\n",
       "</table>\n",
       "</div>"
      ],
      "text/plain": [
       "                               org_uuid                   name  outcome  \\\n",
       "0  eb37f7c8-c036-a915-bb7c-63f445330f66                  Ceyba        0   \n",
       "1  0a88fa0e-7abe-c4ac-ab69-877b01a9cb60  IceFyre Semiconductor        0   \n",
       "2  de462c42-b0a5-c5af-9637-ec426b4e991f              ORMvision        0   \n",
       "\n",
       "  lead_investor_uuids_seed          lead_investor_uuids_series_a  \n",
       "0                      NaN  beadb218-e5fa-2686-bc95-4dfaa9acc2e8  \n",
       "1                      NaN                                   NaN  \n",
       "2                      NaN                                   NaN  "
      ]
     },
     "execution_count": 88,
     "metadata": {},
     "output_type": "execute_result"
    }
   ],
   "source": [
    "main_processing_df.head(3)"
   ]
  },
  {
   "cell_type": "code",
   "execution_count": 89,
   "id": "pressed-music",
   "metadata": {},
   "outputs": [],
   "source": [
    "investor_processing_df = main_processing_df"
   ]
  },
  {
   "cell_type": "code",
   "execution_count": 90,
   "id": "incident-exhaust",
   "metadata": {
    "scrolled": true
   },
   "outputs": [
    {
     "name": "stderr",
     "output_type": "stream",
     "text": [
      "C:\\Users\\Abdul Rahim Ab Ghani\\miniconda3\\lib\\site-packages\\ipykernel_launcher.py:1: SettingWithCopyWarning: \n",
      "A value is trying to be set on a copy of a slice from a DataFrame.\n",
      "Try using .loc[row_indexer,col_indexer] = value instead\n",
      "\n",
      "See the caveats in the documentation: https://pandas.pydata.org/pandas-docs/stable/user_guide/indexing.html#returning-a-view-versus-a-copy\n",
      "  \"\"\"Entry point for launching an IPython kernel.\n",
      "C:\\Users\\Abdul Rahim Ab Ghani\\miniconda3\\lib\\site-packages\\ipykernel_launcher.py:2: SettingWithCopyWarning: \n",
      "A value is trying to be set on a copy of a slice from a DataFrame.\n",
      "Try using .loc[row_indexer,col_indexer] = value instead\n",
      "\n",
      "See the caveats in the documentation: https://pandas.pydata.org/pandas-docs/stable/user_guide/indexing.html#returning-a-view-versus-a-copy\n",
      "  \n"
     ]
    }
   ],
   "source": [
    "investor_processing_df['lead_investor_uuids_first_fund'] = investor_processing_df['lead_investor_uuids_seed']\n",
    "investor_processing_df['lead_investor_uuids_first_fund'] = investor_processing_df['lead_investor_uuids_first_fund'].fillna(investor_processing_df['lead_investor_uuids_series_a'])"
   ]
  },
  {
   "cell_type": "code",
   "execution_count": 91,
   "id": "handmade-repair",
   "metadata": {},
   "outputs": [
    {
     "data": {
      "text/html": [
       "<div>\n",
       "<style scoped>\n",
       "    .dataframe tbody tr th:only-of-type {\n",
       "        vertical-align: middle;\n",
       "    }\n",
       "\n",
       "    .dataframe tbody tr th {\n",
       "        vertical-align: top;\n",
       "    }\n",
       "\n",
       "    .dataframe thead th {\n",
       "        text-align: right;\n",
       "    }\n",
       "</style>\n",
       "<table border=\"1\" class=\"dataframe\">\n",
       "  <thead>\n",
       "    <tr style=\"text-align: right;\">\n",
       "      <th></th>\n",
       "      <th>org_uuid</th>\n",
       "      <th>name</th>\n",
       "      <th>outcome</th>\n",
       "      <th>lead_investor_uuids_seed</th>\n",
       "      <th>lead_investor_uuids_series_a</th>\n",
       "      <th>lead_investor_uuids_first_fund</th>\n",
       "    </tr>\n",
       "  </thead>\n",
       "  <tbody>\n",
       "    <tr>\n",
       "      <th>0</th>\n",
       "      <td>eb37f7c8-c036-a915-bb7c-63f445330f66</td>\n",
       "      <td>Ceyba</td>\n",
       "      <td>0</td>\n",
       "      <td>NaN</td>\n",
       "      <td>beadb218-e5fa-2686-bc95-4dfaa9acc2e8</td>\n",
       "      <td>beadb218-e5fa-2686-bc95-4dfaa9acc2e8</td>\n",
       "    </tr>\n",
       "    <tr>\n",
       "      <th>1</th>\n",
       "      <td>0a88fa0e-7abe-c4ac-ab69-877b01a9cb60</td>\n",
       "      <td>IceFyre Semiconductor</td>\n",
       "      <td>0</td>\n",
       "      <td>NaN</td>\n",
       "      <td>NaN</td>\n",
       "      <td>NaN</td>\n",
       "    </tr>\n",
       "    <tr>\n",
       "      <th>2</th>\n",
       "      <td>de462c42-b0a5-c5af-9637-ec426b4e991f</td>\n",
       "      <td>ORMvision</td>\n",
       "      <td>0</td>\n",
       "      <td>NaN</td>\n",
       "      <td>NaN</td>\n",
       "      <td>NaN</td>\n",
       "    </tr>\n",
       "  </tbody>\n",
       "</table>\n",
       "</div>"
      ],
      "text/plain": [
       "                               org_uuid                   name  outcome  \\\n",
       "0  eb37f7c8-c036-a915-bb7c-63f445330f66                  Ceyba        0   \n",
       "1  0a88fa0e-7abe-c4ac-ab69-877b01a9cb60  IceFyre Semiconductor        0   \n",
       "2  de462c42-b0a5-c5af-9637-ec426b4e991f              ORMvision        0   \n",
       "\n",
       "  lead_investor_uuids_seed          lead_investor_uuids_series_a  \\\n",
       "0                      NaN  beadb218-e5fa-2686-bc95-4dfaa9acc2e8   \n",
       "1                      NaN                                   NaN   \n",
       "2                      NaN                                   NaN   \n",
       "\n",
       "         lead_investor_uuids_first_fund  \n",
       "0  beadb218-e5fa-2686-bc95-4dfaa9acc2e8  \n",
       "1                                   NaN  \n",
       "2                                   NaN  "
      ]
     },
     "execution_count": 91,
     "metadata": {},
     "output_type": "execute_result"
    }
   ],
   "source": [
    "investor_processing_df.head(3)"
   ]
  },
  {
   "cell_type": "code",
   "execution_count": 92,
   "id": "super-stroke",
   "metadata": {},
   "outputs": [
    {
     "name": "stderr",
     "output_type": "stream",
     "text": [
      "C:\\Users\\Abdul Rahim Ab Ghani\\miniconda3\\lib\\site-packages\\pandas\\core\\frame.py:4315: SettingWithCopyWarning: \n",
      "A value is trying to be set on a copy of a slice from a DataFrame\n",
      "\n",
      "See the caveats in the documentation: https://pandas.pydata.org/pandas-docs/stable/user_guide/indexing.html#returning-a-view-versus-a-copy\n",
      "  errors=errors,\n"
     ]
    }
   ],
   "source": [
    "investor_processing_df.drop(columns=['lead_investor_uuids_seed','lead_investor_uuids_series_a'],inplace=True)"
   ]
  },
  {
   "cell_type": "code",
   "execution_count": 93,
   "id": "dominant-drill",
   "metadata": {},
   "outputs": [
    {
     "data": {
      "text/html": [
       "<div>\n",
       "<style scoped>\n",
       "    .dataframe tbody tr th:only-of-type {\n",
       "        vertical-align: middle;\n",
       "    }\n",
       "\n",
       "    .dataframe tbody tr th {\n",
       "        vertical-align: top;\n",
       "    }\n",
       "\n",
       "    .dataframe thead th {\n",
       "        text-align: right;\n",
       "    }\n",
       "</style>\n",
       "<table border=\"1\" class=\"dataframe\">\n",
       "  <thead>\n",
       "    <tr style=\"text-align: right;\">\n",
       "      <th></th>\n",
       "      <th>org_uuid</th>\n",
       "      <th>name</th>\n",
       "      <th>outcome</th>\n",
       "      <th>lead_investor_uuids_first_fund</th>\n",
       "    </tr>\n",
       "  </thead>\n",
       "  <tbody>\n",
       "    <tr>\n",
       "      <th>0</th>\n",
       "      <td>eb37f7c8-c036-a915-bb7c-63f445330f66</td>\n",
       "      <td>Ceyba</td>\n",
       "      <td>0</td>\n",
       "      <td>beadb218-e5fa-2686-bc95-4dfaa9acc2e8</td>\n",
       "    </tr>\n",
       "    <tr>\n",
       "      <th>1</th>\n",
       "      <td>0a88fa0e-7abe-c4ac-ab69-877b01a9cb60</td>\n",
       "      <td>IceFyre Semiconductor</td>\n",
       "      <td>0</td>\n",
       "      <td>NaN</td>\n",
       "    </tr>\n",
       "    <tr>\n",
       "      <th>2</th>\n",
       "      <td>de462c42-b0a5-c5af-9637-ec426b4e991f</td>\n",
       "      <td>ORMvision</td>\n",
       "      <td>0</td>\n",
       "      <td>NaN</td>\n",
       "    </tr>\n",
       "  </tbody>\n",
       "</table>\n",
       "</div>"
      ],
      "text/plain": [
       "                               org_uuid                   name  outcome  \\\n",
       "0  eb37f7c8-c036-a915-bb7c-63f445330f66                  Ceyba        0   \n",
       "1  0a88fa0e-7abe-c4ac-ab69-877b01a9cb60  IceFyre Semiconductor        0   \n",
       "2  de462c42-b0a5-c5af-9637-ec426b4e991f              ORMvision        0   \n",
       "\n",
       "         lead_investor_uuids_first_fund  \n",
       "0  beadb218-e5fa-2686-bc95-4dfaa9acc2e8  \n",
       "1                                   NaN  \n",
       "2                                   NaN  "
      ]
     },
     "execution_count": 93,
     "metadata": {},
     "output_type": "execute_result"
    }
   ],
   "source": [
    "investor_processing_df.head(3)"
   ]
  },
  {
   "cell_type": "code",
   "execution_count": 94,
   "id": "alpine-pontiac",
   "metadata": {},
   "outputs": [
    {
     "data": {
      "text/plain": [
       "28658"
      ]
     },
     "execution_count": 94,
     "metadata": {},
     "output_type": "execute_result"
    }
   ],
   "source": [
    "len(investor_processing_df)"
   ]
  },
  {
   "cell_type": "code",
   "execution_count": 95,
   "id": "physical-kruger",
   "metadata": {},
   "outputs": [
    {
     "name": "stderr",
     "output_type": "stream",
     "text": [
      "C:\\Users\\Abdul Rahim Ab Ghani\\miniconda3\\lib\\site-packages\\ipykernel_launcher.py:1: SettingWithCopyWarning: \n",
      "A value is trying to be set on a copy of a slice from a DataFrame\n",
      "\n",
      "See the caveats in the documentation: https://pandas.pydata.org/pandas-docs/stable/user_guide/indexing.html#returning-a-view-versus-a-copy\n",
      "  \"\"\"Entry point for launching an IPython kernel.\n"
     ]
    }
   ],
   "source": [
    "investor_processing_df.dropna(subset=['lead_investor_uuids_first_fund'],inplace=True)"
   ]
  },
  {
   "cell_type": "code",
   "execution_count": 96,
   "id": "recorded-handy",
   "metadata": {},
   "outputs": [
    {
     "data": {
      "text/plain": [
       "8320"
      ]
     },
     "execution_count": 96,
     "metadata": {},
     "output_type": "execute_result"
    }
   ],
   "source": [
    "len(investor_processing_df)"
   ]
  },
  {
   "cell_type": "code",
   "execution_count": 97,
   "id": "center-tsunami",
   "metadata": {},
   "outputs": [],
   "source": [
    "investor_processing_df_v1 = pd.merge(investor_processing_df,\n",
    "                                     investors_df[['investor_uuid','name']],\n",
    "                                     left_on='lead_investor_uuids_first_fund',\n",
    "                                     right_on='investor_uuid',\n",
    "                                     how='left')"
   ]
  },
  {
   "cell_type": "code",
   "execution_count": 98,
   "id": "optional-racing",
   "metadata": {},
   "outputs": [
    {
     "data": {
      "text/plain": [
       "8320"
      ]
     },
     "execution_count": 98,
     "metadata": {},
     "output_type": "execute_result"
    }
   ],
   "source": [
    "len(investor_processing_df_v1)"
   ]
  },
  {
   "cell_type": "code",
   "execution_count": 99,
   "id": "urban-substitute",
   "metadata": {},
   "outputs": [
    {
     "data": {
      "text/html": [
       "<div>\n",
       "<style scoped>\n",
       "    .dataframe tbody tr th:only-of-type {\n",
       "        vertical-align: middle;\n",
       "    }\n",
       "\n",
       "    .dataframe tbody tr th {\n",
       "        vertical-align: top;\n",
       "    }\n",
       "\n",
       "    .dataframe thead th {\n",
       "        text-align: right;\n",
       "    }\n",
       "</style>\n",
       "<table border=\"1\" class=\"dataframe\">\n",
       "  <thead>\n",
       "    <tr style=\"text-align: right;\">\n",
       "      <th></th>\n",
       "      <th>org_uuid</th>\n",
       "      <th>name_x</th>\n",
       "      <th>outcome</th>\n",
       "      <th>lead_investor_uuids_first_fund</th>\n",
       "      <th>investor_uuid</th>\n",
       "      <th>name_y</th>\n",
       "    </tr>\n",
       "  </thead>\n",
       "  <tbody>\n",
       "    <tr>\n",
       "      <th>0</th>\n",
       "      <td>eb37f7c8-c036-a915-bb7c-63f445330f66</td>\n",
       "      <td>Ceyba</td>\n",
       "      <td>0</td>\n",
       "      <td>beadb218-e5fa-2686-bc95-4dfaa9acc2e8</td>\n",
       "      <td>beadb218-e5fa-2686-bc95-4dfaa9acc2e8</td>\n",
       "      <td>Bessemer Venture Partners</td>\n",
       "    </tr>\n",
       "    <tr>\n",
       "      <th>1</th>\n",
       "      <td>3d607a21-39bb-651e-c53f-9890ee334f18</td>\n",
       "      <td>Ygnition Networks</td>\n",
       "      <td>0</td>\n",
       "      <td>fcab9355-11b8-fba0-fed7-b4c8a474da43</td>\n",
       "      <td>fcab9355-11b8-fba0-fed7-b4c8a474da43</td>\n",
       "      <td>ComVentures</td>\n",
       "    </tr>\n",
       "    <tr>\n",
       "      <th>2</th>\n",
       "      <td>f29f5734-7560-f912-2b6f-c9805ac9d50d</td>\n",
       "      <td>Dynogen Pharmaceuticals</td>\n",
       "      <td>0</td>\n",
       "      <td>4884e025-054d-47d6-3c7e-6c397eee22cd,b2349e73-...</td>\n",
       "      <td>NaN</td>\n",
       "      <td>NaN</td>\n",
       "    </tr>\n",
       "  </tbody>\n",
       "</table>\n",
       "</div>"
      ],
      "text/plain": [
       "                               org_uuid                   name_x  outcome  \\\n",
       "0  eb37f7c8-c036-a915-bb7c-63f445330f66                    Ceyba        0   \n",
       "1  3d607a21-39bb-651e-c53f-9890ee334f18        Ygnition Networks        0   \n",
       "2  f29f5734-7560-f912-2b6f-c9805ac9d50d  Dynogen Pharmaceuticals        0   \n",
       "\n",
       "                      lead_investor_uuids_first_fund  \\\n",
       "0               beadb218-e5fa-2686-bc95-4dfaa9acc2e8   \n",
       "1               fcab9355-11b8-fba0-fed7-b4c8a474da43   \n",
       "2  4884e025-054d-47d6-3c7e-6c397eee22cd,b2349e73-...   \n",
       "\n",
       "                          investor_uuid                     name_y  \n",
       "0  beadb218-e5fa-2686-bc95-4dfaa9acc2e8  Bessemer Venture Partners  \n",
       "1  fcab9355-11b8-fba0-fed7-b4c8a474da43                ComVentures  \n",
       "2                                   NaN                        NaN  "
      ]
     },
     "execution_count": 99,
     "metadata": {},
     "output_type": "execute_result"
    }
   ],
   "source": [
    "investor_processing_df_v1.head(3)"
   ]
  },
  {
   "cell_type": "code",
   "execution_count": 101,
   "id": "unauthorized-athens",
   "metadata": {},
   "outputs": [
    {
     "data": {
      "text/html": [
       "<div>\n",
       "<style scoped>\n",
       "    .dataframe tbody tr th:only-of-type {\n",
       "        vertical-align: middle;\n",
       "    }\n",
       "\n",
       "    .dataframe tbody tr th {\n",
       "        vertical-align: top;\n",
       "    }\n",
       "\n",
       "    .dataframe thead th {\n",
       "        text-align: right;\n",
       "    }\n",
       "</style>\n",
       "<table border=\"1\" class=\"dataframe\">\n",
       "  <thead>\n",
       "    <tr style=\"text-align: right;\">\n",
       "      <th></th>\n",
       "      <th>org_uuid</th>\n",
       "      <th>name_y</th>\n",
       "    </tr>\n",
       "  </thead>\n",
       "  <tbody>\n",
       "    <tr>\n",
       "      <th>0</th>\n",
       "      <td>eb37f7c8-c036-a915-bb7c-63f445330f66</td>\n",
       "      <td>Bessemer Venture Partners</td>\n",
       "    </tr>\n",
       "    <tr>\n",
       "      <th>1</th>\n",
       "      <td>3d607a21-39bb-651e-c53f-9890ee334f18</td>\n",
       "      <td>ComVentures</td>\n",
       "    </tr>\n",
       "    <tr>\n",
       "      <th>2</th>\n",
       "      <td>f29f5734-7560-f912-2b6f-c9805ac9d50d</td>\n",
       "      <td>NaN</td>\n",
       "    </tr>\n",
       "  </tbody>\n",
       "</table>\n",
       "</div>"
      ],
      "text/plain": [
       "                               org_uuid                     name_y\n",
       "0  eb37f7c8-c036-a915-bb7c-63f445330f66  Bessemer Venture Partners\n",
       "1  3d607a21-39bb-651e-c53f-9890ee334f18                ComVentures\n",
       "2  f29f5734-7560-f912-2b6f-c9805ac9d50d                        NaN"
      ]
     },
     "execution_count": 101,
     "metadata": {},
     "output_type": "execute_result"
    }
   ],
   "source": [
    "investor_processing_df_v2 = investor_processing_df_v1[['org_uuid','name_y']]\n",
    "investor_processing_df_v2.head(3)"
   ]
  },
  {
   "cell_type": "code",
   "execution_count": 102,
   "id": "clean-paradise",
   "metadata": {},
   "outputs": [
    {
     "name": "stderr",
     "output_type": "stream",
     "text": [
      "C:\\Users\\Abdul Rahim Ab Ghani\\miniconda3\\lib\\site-packages\\pandas\\core\\frame.py:4449: SettingWithCopyWarning: \n",
      "A value is trying to be set on a copy of a slice from a DataFrame\n",
      "\n",
      "See the caveats in the documentation: https://pandas.pydata.org/pandas-docs/stable/user_guide/indexing.html#returning-a-view-versus-a-copy\n",
      "  errors=errors,\n"
     ]
    },
    {
     "data": {
      "text/html": [
       "<div>\n",
       "<style scoped>\n",
       "    .dataframe tbody tr th:only-of-type {\n",
       "        vertical-align: middle;\n",
       "    }\n",
       "\n",
       "    .dataframe tbody tr th {\n",
       "        vertical-align: top;\n",
       "    }\n",
       "\n",
       "    .dataframe thead th {\n",
       "        text-align: right;\n",
       "    }\n",
       "</style>\n",
       "<table border=\"1\" class=\"dataframe\">\n",
       "  <thead>\n",
       "    <tr style=\"text-align: right;\">\n",
       "      <th></th>\n",
       "      <th>org_uuid</th>\n",
       "      <th>first_fund_investor</th>\n",
       "    </tr>\n",
       "  </thead>\n",
       "  <tbody>\n",
       "    <tr>\n",
       "      <th>0</th>\n",
       "      <td>eb37f7c8-c036-a915-bb7c-63f445330f66</td>\n",
       "      <td>Bessemer Venture Partners</td>\n",
       "    </tr>\n",
       "    <tr>\n",
       "      <th>1</th>\n",
       "      <td>3d607a21-39bb-651e-c53f-9890ee334f18</td>\n",
       "      <td>ComVentures</td>\n",
       "    </tr>\n",
       "    <tr>\n",
       "      <th>2</th>\n",
       "      <td>f29f5734-7560-f912-2b6f-c9805ac9d50d</td>\n",
       "      <td>NaN</td>\n",
       "    </tr>\n",
       "  </tbody>\n",
       "</table>\n",
       "</div>"
      ],
      "text/plain": [
       "                               org_uuid        first_fund_investor\n",
       "0  eb37f7c8-c036-a915-bb7c-63f445330f66  Bessemer Venture Partners\n",
       "1  3d607a21-39bb-651e-c53f-9890ee334f18                ComVentures\n",
       "2  f29f5734-7560-f912-2b6f-c9805ac9d50d                        NaN"
      ]
     },
     "execution_count": 102,
     "metadata": {},
     "output_type": "execute_result"
    }
   ],
   "source": [
    "investor_processing_df_v2.rename(columns={'name_y':'first_fund_investor'},inplace=True)\n",
    "investor_processing_df_v2.head(3)"
   ]
  },
  {
   "cell_type": "code",
   "execution_count": 103,
   "id": "romantic-nylon",
   "metadata": {},
   "outputs": [],
   "source": [
    "main_processing_df_v1 = pd.merge(main_df['org_uuid'],\n",
    "                                 investor_processing_df_v2,\n",
    "                                 on='org_uuid',\n",
    "                                 how='left')"
   ]
  },
  {
   "cell_type": "code",
   "execution_count": 104,
   "id": "developed-dream",
   "metadata": {},
   "outputs": [
    {
     "data": {
      "text/plain": [
       "28658"
      ]
     },
     "execution_count": 104,
     "metadata": {},
     "output_type": "execute_result"
    }
   ],
   "source": [
    "len(main_processing_df_v1)"
   ]
  },
  {
   "cell_type": "code",
   "execution_count": 106,
   "id": "spanish-authentication",
   "metadata": {},
   "outputs": [
    {
     "data": {
      "text/html": [
       "<div>\n",
       "<style scoped>\n",
       "    .dataframe tbody tr th:only-of-type {\n",
       "        vertical-align: middle;\n",
       "    }\n",
       "\n",
       "    .dataframe tbody tr th {\n",
       "        vertical-align: top;\n",
       "    }\n",
       "\n",
       "    .dataframe thead th {\n",
       "        text-align: right;\n",
       "    }\n",
       "</style>\n",
       "<table border=\"1\" class=\"dataframe\">\n",
       "  <thead>\n",
       "    <tr style=\"text-align: right;\">\n",
       "      <th></th>\n",
       "      <th>org_uuid</th>\n",
       "      <th>first_fund_investor</th>\n",
       "    </tr>\n",
       "  </thead>\n",
       "  <tbody>\n",
       "    <tr>\n",
       "      <th>0</th>\n",
       "      <td>eb37f7c8-c036-a915-bb7c-63f445330f66</td>\n",
       "      <td>Bessemer Venture Partners</td>\n",
       "    </tr>\n",
       "    <tr>\n",
       "      <th>1</th>\n",
       "      <td>0a88fa0e-7abe-c4ac-ab69-877b01a9cb60</td>\n",
       "      <td>NaN</td>\n",
       "    </tr>\n",
       "    <tr>\n",
       "      <th>2</th>\n",
       "      <td>de462c42-b0a5-c5af-9637-ec426b4e991f</td>\n",
       "      <td>NaN</td>\n",
       "    </tr>\n",
       "  </tbody>\n",
       "</table>\n",
       "</div>"
      ],
      "text/plain": [
       "                               org_uuid        first_fund_investor\n",
       "0  eb37f7c8-c036-a915-bb7c-63f445330f66  Bessemer Venture Partners\n",
       "1  0a88fa0e-7abe-c4ac-ab69-877b01a9cb60                        NaN\n",
       "2  de462c42-b0a5-c5af-9637-ec426b4e991f                        NaN"
      ]
     },
     "execution_count": 106,
     "metadata": {},
     "output_type": "execute_result"
    }
   ],
   "source": [
    "main_processing_df_v1.head(3)"
   ]
  },
  {
   "cell_type": "code",
   "execution_count": 123,
   "id": "professional-analysis",
   "metadata": {},
   "outputs": [
    {
     "data": {
      "text/html": [
       "<div>\n",
       "<style scoped>\n",
       "    .dataframe tbody tr th:only-of-type {\n",
       "        vertical-align: middle;\n",
       "    }\n",
       "\n",
       "    .dataframe tbody tr th {\n",
       "        vertical-align: top;\n",
       "    }\n",
       "\n",
       "    .dataframe thead th {\n",
       "        text-align: right;\n",
       "    }\n",
       "</style>\n",
       "<table border=\"1\" class=\"dataframe\">\n",
       "  <thead>\n",
       "    <tr style=\"text-align: right;\">\n",
       "      <th></th>\n",
       "      <th>org_uuid</th>\n",
       "      <th>first_fund_investor</th>\n",
       "    </tr>\n",
       "  </thead>\n",
       "  <tbody>\n",
       "  </tbody>\n",
       "</table>\n",
       "</div>"
      ],
      "text/plain": [
       "Empty DataFrame\n",
       "Columns: [org_uuid, first_fund_investor]\n",
       "Index: []"
      ]
     },
     "execution_count": 123,
     "metadata": {},
     "output_type": "execute_result"
    }
   ],
   "source": [
    "main_processing_df_v1[main_processing_df_v1['first_fund_investor'] == 'DST Global ']"
   ]
  },
  {
   "cell_type": "code",
   "execution_count": 110,
   "id": "bibliographic-entity",
   "metadata": {},
   "outputs": [],
   "source": [
    "#get number of events for top 10 percentile\n",
    "top10percentile = int(0.01*len(main_processing_df_v1['first_fund_investor'].value_counts()))\n",
    "top10percentile_investors = main_processing_df_v1['first_fund_investor'].value_counts().nlargest(top10percentile)"
   ]
  },
  {
   "cell_type": "code",
   "execution_count": 111,
   "id": "coupled-think",
   "metadata": {},
   "outputs": [
    {
     "data": {
      "text/plain": [
       "SOSV                           78\n",
       "Accel                          59\n",
       "Sequoia Capital                51\n",
       "New Enterprise Associates      45\n",
       "Khosla Ventures                41\n",
       "Andreessen Horowitz            40\n",
       "IDG Capital                    39\n",
       "Benchmark                      35\n",
       "Index Ventures                 33\n",
       "General Catalyst               32\n",
       "Kleiner Perkins                31\n",
       "True Ventures                  29\n",
       "Battery Ventures               28\n",
       "Spark Capital                  28\n",
       "Threshold                      26\n",
       "Bessemer Venture Partners      26\n",
       "Foundry Group                  24\n",
       "Lightspeed Venture Partners    24\n",
       "Redpoint                       23\n",
       "Matrix Partners                22\n",
       "Almi Invest                    22\n",
       "Intel Capital                  22\n",
       "Social Capital                 22\n",
       "Austin Ventures                21\n",
       "Seedrs                         21\n",
       "First Round Capital            21\n",
       "ACE Startups                   20\n",
       "Union Square Ventures          20\n",
       "Menlo Ventures                 20\n",
       "SeedRocket                     19\n",
       "Name: first_fund_investor, dtype: int64"
      ]
     },
     "execution_count": 111,
     "metadata": {},
     "output_type": "execute_result"
    }
   ],
   "source": [
    "top10percentile_investors"
   ]
  },
  {
   "cell_type": "code",
   "execution_count": 112,
   "id": "median-portal",
   "metadata": {},
   "outputs": [
    {
     "data": {
      "text/plain": [
       "pandas.core.series.Series"
      ]
     },
     "execution_count": 112,
     "metadata": {},
     "output_type": "execute_result"
    }
   ],
   "source": [
    "type(top10percentile_investors)"
   ]
  },
  {
   "cell_type": "code",
   "execution_count": 113,
   "id": "spiritual-essence",
   "metadata": {},
   "outputs": [
    {
     "data": {
      "text/html": [
       "<div>\n",
       "<style scoped>\n",
       "    .dataframe tbody tr th:only-of-type {\n",
       "        vertical-align: middle;\n",
       "    }\n",
       "\n",
       "    .dataframe tbody tr th {\n",
       "        vertical-align: top;\n",
       "    }\n",
       "\n",
       "    .dataframe thead th {\n",
       "        text-align: right;\n",
       "    }\n",
       "</style>\n",
       "<table border=\"1\" class=\"dataframe\">\n",
       "  <thead>\n",
       "    <tr style=\"text-align: right;\">\n",
       "      <th></th>\n",
       "      <th>first_fund_investor</th>\n",
       "    </tr>\n",
       "  </thead>\n",
       "  <tbody>\n",
       "    <tr>\n",
       "      <th>SOSV</th>\n",
       "      <td>78</td>\n",
       "    </tr>\n",
       "    <tr>\n",
       "      <th>Accel</th>\n",
       "      <td>59</td>\n",
       "    </tr>\n",
       "    <tr>\n",
       "      <th>Sequoia Capital</th>\n",
       "      <td>51</td>\n",
       "    </tr>\n",
       "    <tr>\n",
       "      <th>New Enterprise Associates</th>\n",
       "      <td>45</td>\n",
       "    </tr>\n",
       "    <tr>\n",
       "      <th>Khosla Ventures</th>\n",
       "      <td>41</td>\n",
       "    </tr>\n",
       "    <tr>\n",
       "      <th>Andreessen Horowitz</th>\n",
       "      <td>40</td>\n",
       "    </tr>\n",
       "    <tr>\n",
       "      <th>IDG Capital</th>\n",
       "      <td>39</td>\n",
       "    </tr>\n",
       "    <tr>\n",
       "      <th>Benchmark</th>\n",
       "      <td>35</td>\n",
       "    </tr>\n",
       "    <tr>\n",
       "      <th>Index Ventures</th>\n",
       "      <td>33</td>\n",
       "    </tr>\n",
       "    <tr>\n",
       "      <th>General Catalyst</th>\n",
       "      <td>32</td>\n",
       "    </tr>\n",
       "    <tr>\n",
       "      <th>Kleiner Perkins</th>\n",
       "      <td>31</td>\n",
       "    </tr>\n",
       "    <tr>\n",
       "      <th>True Ventures</th>\n",
       "      <td>29</td>\n",
       "    </tr>\n",
       "    <tr>\n",
       "      <th>Battery Ventures</th>\n",
       "      <td>28</td>\n",
       "    </tr>\n",
       "    <tr>\n",
       "      <th>Spark Capital</th>\n",
       "      <td>28</td>\n",
       "    </tr>\n",
       "    <tr>\n",
       "      <th>Threshold</th>\n",
       "      <td>26</td>\n",
       "    </tr>\n",
       "    <tr>\n",
       "      <th>Bessemer Venture Partners</th>\n",
       "      <td>26</td>\n",
       "    </tr>\n",
       "    <tr>\n",
       "      <th>Foundry Group</th>\n",
       "      <td>24</td>\n",
       "    </tr>\n",
       "    <tr>\n",
       "      <th>Lightspeed Venture Partners</th>\n",
       "      <td>24</td>\n",
       "    </tr>\n",
       "    <tr>\n",
       "      <th>Redpoint</th>\n",
       "      <td>23</td>\n",
       "    </tr>\n",
       "    <tr>\n",
       "      <th>Matrix Partners</th>\n",
       "      <td>22</td>\n",
       "    </tr>\n",
       "    <tr>\n",
       "      <th>Almi Invest</th>\n",
       "      <td>22</td>\n",
       "    </tr>\n",
       "    <tr>\n",
       "      <th>Intel Capital</th>\n",
       "      <td>22</td>\n",
       "    </tr>\n",
       "    <tr>\n",
       "      <th>Social Capital</th>\n",
       "      <td>22</td>\n",
       "    </tr>\n",
       "    <tr>\n",
       "      <th>Austin Ventures</th>\n",
       "      <td>21</td>\n",
       "    </tr>\n",
       "    <tr>\n",
       "      <th>Seedrs</th>\n",
       "      <td>21</td>\n",
       "    </tr>\n",
       "    <tr>\n",
       "      <th>First Round Capital</th>\n",
       "      <td>21</td>\n",
       "    </tr>\n",
       "    <tr>\n",
       "      <th>ACE Startups</th>\n",
       "      <td>20</td>\n",
       "    </tr>\n",
       "    <tr>\n",
       "      <th>Union Square Ventures</th>\n",
       "      <td>20</td>\n",
       "    </tr>\n",
       "    <tr>\n",
       "      <th>Menlo Ventures</th>\n",
       "      <td>20</td>\n",
       "    </tr>\n",
       "    <tr>\n",
       "      <th>SeedRocket</th>\n",
       "      <td>19</td>\n",
       "    </tr>\n",
       "  </tbody>\n",
       "</table>\n",
       "</div>"
      ],
      "text/plain": [
       "                             first_fund_investor\n",
       "SOSV                                          78\n",
       "Accel                                         59\n",
       "Sequoia Capital                               51\n",
       "New Enterprise Associates                     45\n",
       "Khosla Ventures                               41\n",
       "Andreessen Horowitz                           40\n",
       "IDG Capital                                   39\n",
       "Benchmark                                     35\n",
       "Index Ventures                                33\n",
       "General Catalyst                              32\n",
       "Kleiner Perkins                               31\n",
       "True Ventures                                 29\n",
       "Battery Ventures                              28\n",
       "Spark Capital                                 28\n",
       "Threshold                                     26\n",
       "Bessemer Venture Partners                     26\n",
       "Foundry Group                                 24\n",
       "Lightspeed Venture Partners                   24\n",
       "Redpoint                                      23\n",
       "Matrix Partners                               22\n",
       "Almi Invest                                   22\n",
       "Intel Capital                                 22\n",
       "Social Capital                                22\n",
       "Austin Ventures                               21\n",
       "Seedrs                                        21\n",
       "First Round Capital                           21\n",
       "ACE Startups                                  20\n",
       "Union Square Ventures                         20\n",
       "Menlo Ventures                                20\n",
       "SeedRocket                                    19"
      ]
     },
     "execution_count": 113,
     "metadata": {},
     "output_type": "execute_result"
    }
   ],
   "source": [
    "pd.DataFrame(top10percentile_investors)"
   ]
  },
  {
   "cell_type": "code",
   "execution_count": null,
   "id": "eastern-grenada",
   "metadata": {},
   "outputs": [],
   "source": []
  }
 ],
 "metadata": {
  "kernelspec": {
   "display_name": "Python 3",
   "language": "python",
   "name": "python3"
  },
  "language_info": {
   "codemirror_mode": {
    "name": "ipython",
    "version": 3
   },
   "file_extension": ".py",
   "mimetype": "text/x-python",
   "name": "python",
   "nbconvert_exporter": "python",
   "pygments_lexer": "ipython3",
   "version": "3.7.9"
  }
 },
 "nbformat": 4,
 "nbformat_minor": 5
}
