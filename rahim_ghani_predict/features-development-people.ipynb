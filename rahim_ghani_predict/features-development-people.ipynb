{
 "cells": [
  {
   "cell_type": "code",
   "execution_count": 1,
   "id": "gorgeous-rocket",
   "metadata": {},
   "outputs": [],
   "source": [
    "#Import basic packages\n",
    "import os\n",
    "import numpy as np\n",
    "import pandas as pd\n",
    "import csv\n",
    "import regex as re\n",
    "import datetime as dt "
   ]
  },
  {
   "cell_type": "code",
   "execution_count": 2,
   "id": "involved-floating",
   "metadata": {},
   "outputs": [],
   "source": [
    "#import outcome file with org_uuid\n",
    "main_df = pd.read_csv(R\"d:/msc-project/data/final/outcome_final.csv\",encoding='utf-8',\n",
    "                         index_col=False,\n",
    "                         parse_dates= ['founded_on','seed_date','series_a_date','series_b_date','series_c_date'])\n",
    "main_processing_df = main_df[['org_uuid','name','outcome']]"
   ]
  },
  {
   "cell_type": "code",
   "execution_count": 3,
   "id": "cosmetic-steel",
   "metadata": {},
   "outputs": [
    {
     "data": {
      "text/html": [
       "<div>\n",
       "<style scoped>\n",
       "    .dataframe tbody tr th:only-of-type {\n",
       "        vertical-align: middle;\n",
       "    }\n",
       "\n",
       "    .dataframe tbody tr th {\n",
       "        vertical-align: top;\n",
       "    }\n",
       "\n",
       "    .dataframe thead th {\n",
       "        text-align: right;\n",
       "    }\n",
       "</style>\n",
       "<table border=\"1\" class=\"dataframe\">\n",
       "  <thead>\n",
       "    <tr style=\"text-align: right;\">\n",
       "      <th></th>\n",
       "      <th>org_uuid</th>\n",
       "      <th>name</th>\n",
       "      <th>outcome</th>\n",
       "    </tr>\n",
       "  </thead>\n",
       "  <tbody>\n",
       "    <tr>\n",
       "      <th>0</th>\n",
       "      <td>00107fd1-b65b-85cd-7d60-c00c4b2ae2fb</td>\n",
       "      <td>CloudAptitude</td>\n",
       "      <td>0</td>\n",
       "    </tr>\n",
       "    <tr>\n",
       "      <th>1</th>\n",
       "      <td>0013719b-13cb-9419-c604-597100dd642f</td>\n",
       "      <td>Win Win Slots</td>\n",
       "      <td>0</td>\n",
       "    </tr>\n",
       "    <tr>\n",
       "      <th>2</th>\n",
       "      <td>001c3ed9-6eb1-63b6-eeba-dcdb97f9444f</td>\n",
       "      <td>PetaData Labs SocialDNA</td>\n",
       "      <td>0</td>\n",
       "    </tr>\n",
       "  </tbody>\n",
       "</table>\n",
       "</div>"
      ],
      "text/plain": [
       "                               org_uuid                     name  outcome\n",
       "0  00107fd1-b65b-85cd-7d60-c00c4b2ae2fb            CloudAptitude        0\n",
       "1  0013719b-13cb-9419-c604-597100dd642f            Win Win Slots        0\n",
       "2  001c3ed9-6eb1-63b6-eeba-dcdb97f9444f  PetaData Labs SocialDNA        0"
      ]
     },
     "execution_count": 3,
     "metadata": {},
     "output_type": "execute_result"
    }
   ],
   "source": [
    "main_processing_df.head(3)"
   ]
  },
  {
   "cell_type": "code",
   "execution_count": 4,
   "id": "heard-holocaust",
   "metadata": {},
   "outputs": [
    {
     "data": {
      "text/plain": [
       "76806"
      ]
     },
     "execution_count": 4,
     "metadata": {},
     "output_type": "execute_result"
    }
   ],
   "source": [
    "len(main_processing_df)"
   ]
  },
  {
   "cell_type": "code",
   "execution_count": 5,
   "id": "closing-sixth",
   "metadata": {},
   "outputs": [
    {
     "data": {
      "text/html": [
       "<div>\n",
       "<style scoped>\n",
       "    .dataframe tbody tr th:only-of-type {\n",
       "        vertical-align: middle;\n",
       "    }\n",
       "\n",
       "    .dataframe tbody tr th {\n",
       "        vertical-align: top;\n",
       "    }\n",
       "\n",
       "    .dataframe thead th {\n",
       "        text-align: right;\n",
       "    }\n",
       "</style>\n",
       "<table border=\"1\" class=\"dataframe\">\n",
       "  <thead>\n",
       "    <tr style=\"text-align: right;\">\n",
       "      <th></th>\n",
       "      <th>job_uuid</th>\n",
       "      <th>job_name</th>\n",
       "      <th>people_uuid</th>\n",
       "      <th>person_name</th>\n",
       "      <th>org_uuid</th>\n",
       "      <th>org_name</th>\n",
       "      <th>started_on</th>\n",
       "      <th>ended_on</th>\n",
       "      <th>is_current</th>\n",
       "      <th>title</th>\n",
       "      <th>job_type</th>\n",
       "      <th>is_founder</th>\n",
       "    </tr>\n",
       "  </thead>\n",
       "  <tbody>\n",
       "    <tr>\n",
       "      <th>0</th>\n",
       "      <td>697b6934-fc1f-9d63-cfb2-1a10759b378e</td>\n",
       "      <td>Ben Elowitz Co-Founder/CEO/Board of Directors ...</td>\n",
       "      <td>ed13cd36-fe2b-3707-197b-0c2d56e37a71</td>\n",
       "      <td>Ben Elowitz</td>\n",
       "      <td>e1393508-30ea-8a36-3f96-dd3226033abd</td>\n",
       "      <td>Wetpaint</td>\n",
       "      <td>NaN</td>\n",
       "      <td>NaN</td>\n",
       "      <td>False</td>\n",
       "      <td>Co-Founder/CEO/Board of Directors</td>\n",
       "      <td>executive</td>\n",
       "      <td>1</td>\n",
       "    </tr>\n",
       "    <tr>\n",
       "      <th>1</th>\n",
       "      <td>b1de3765-442e-b556-9304-551c2a055901</td>\n",
       "      <td>Kevin Flaherty VP Marketing @ Wetpaint</td>\n",
       "      <td>5ceca97b-493c-1446-6249-5aaa33464763</td>\n",
       "      <td>Kevin Flaherty</td>\n",
       "      <td>e1393508-30ea-8a36-3f96-dd3226033abd</td>\n",
       "      <td>Wetpaint</td>\n",
       "      <td>NaN</td>\n",
       "      <td>NaN</td>\n",
       "      <td>False</td>\n",
       "      <td>VP Marketing</td>\n",
       "      <td>executive</td>\n",
       "      <td>0</td>\n",
       "    </tr>\n",
       "    <tr>\n",
       "      <th>2</th>\n",
       "      <td>1319cd30-f5e8-c700-0af6-64029c6f7124</td>\n",
       "      <td>Raju Vegesna Chief Evangelist @ Zoho</td>\n",
       "      <td>9f99a98a-aa97-b30b-0d36-db67c1d277e0</td>\n",
       "      <td>Raju Vegesna</td>\n",
       "      <td>bf4d7b0e-b34d-2fd8-d292-6049c4f7efc7</td>\n",
       "      <td>Zoho</td>\n",
       "      <td>2000-11-01</td>\n",
       "      <td>NaN</td>\n",
       "      <td>True</td>\n",
       "      <td>Chief Evangelist</td>\n",
       "      <td>employee</td>\n",
       "      <td>0</td>\n",
       "    </tr>\n",
       "  </tbody>\n",
       "</table>\n",
       "</div>"
      ],
      "text/plain": [
       "                               job_uuid  \\\n",
       "0  697b6934-fc1f-9d63-cfb2-1a10759b378e   \n",
       "1  b1de3765-442e-b556-9304-551c2a055901   \n",
       "2  1319cd30-f5e8-c700-0af6-64029c6f7124   \n",
       "\n",
       "                                            job_name  \\\n",
       "0  Ben Elowitz Co-Founder/CEO/Board of Directors ...   \n",
       "1             Kevin Flaherty VP Marketing @ Wetpaint   \n",
       "2               Raju Vegesna Chief Evangelist @ Zoho   \n",
       "\n",
       "                            people_uuid     person_name  \\\n",
       "0  ed13cd36-fe2b-3707-197b-0c2d56e37a71     Ben Elowitz   \n",
       "1  5ceca97b-493c-1446-6249-5aaa33464763  Kevin Flaherty   \n",
       "2  9f99a98a-aa97-b30b-0d36-db67c1d277e0    Raju Vegesna   \n",
       "\n",
       "                               org_uuid  org_name  started_on ended_on  \\\n",
       "0  e1393508-30ea-8a36-3f96-dd3226033abd  Wetpaint         NaN      NaN   \n",
       "1  e1393508-30ea-8a36-3f96-dd3226033abd  Wetpaint         NaN      NaN   \n",
       "2  bf4d7b0e-b34d-2fd8-d292-6049c4f7efc7      Zoho  2000-11-01      NaN   \n",
       "\n",
       "   is_current                              title   job_type  is_founder  \n",
       "0       False  Co-Founder/CEO/Board of Directors  executive           1  \n",
       "1       False                       VP Marketing  executive           0  \n",
       "2        True                   Chief Evangelist   employee           0  "
      ]
     },
     "execution_count": 5,
     "metadata": {},
     "output_type": "execute_result"
    }
   ],
   "source": [
    "#import jobs file\n",
    "jobs_df = pd.read_csv(R\"d:/msc-project/data/pre-processed/jobs_preprocessed.csv\",encoding='utf-8',\n",
    "                         index_col=False,\n",
    "                         parse_dates= ['started_on','ended_on'])\n",
    "jobs_df.head(3)"
   ]
  },
  {
   "cell_type": "markdown",
   "id": "express-healing",
   "metadata": {},
   "source": [
    "# Assign Number of founder for each organisation"
   ]
  },
  {
   "cell_type": "code",
   "execution_count": 6,
   "id": "forbidden-completion",
   "metadata": {},
   "outputs": [
    {
     "data": {
      "text/html": [
       "<div>\n",
       "<style scoped>\n",
       "    .dataframe tbody tr th:only-of-type {\n",
       "        vertical-align: middle;\n",
       "    }\n",
       "\n",
       "    .dataframe tbody tr th {\n",
       "        vertical-align: top;\n",
       "    }\n",
       "\n",
       "    .dataframe thead th {\n",
       "        text-align: right;\n",
       "    }\n",
       "</style>\n",
       "<table border=\"1\" class=\"dataframe\">\n",
       "  <thead>\n",
       "    <tr style=\"text-align: right;\">\n",
       "      <th></th>\n",
       "      <th>org_uuid</th>\n",
       "      <th>name</th>\n",
       "      <th>outcome</th>\n",
       "      <th>num_founder</th>\n",
       "    </tr>\n",
       "  </thead>\n",
       "  <tbody>\n",
       "    <tr>\n",
       "      <th>0</th>\n",
       "      <td>00107fd1-b65b-85cd-7d60-c00c4b2ae2fb</td>\n",
       "      <td>CloudAptitude</td>\n",
       "      <td>0</td>\n",
       "      <td>1.0</td>\n",
       "    </tr>\n",
       "    <tr>\n",
       "      <th>1</th>\n",
       "      <td>0013719b-13cb-9419-c604-597100dd642f</td>\n",
       "      <td>Win Win Slots</td>\n",
       "      <td>0</td>\n",
       "      <td>1.0</td>\n",
       "    </tr>\n",
       "    <tr>\n",
       "      <th>2</th>\n",
       "      <td>001c3ed9-6eb1-63b6-eeba-dcdb97f9444f</td>\n",
       "      <td>PetaData Labs SocialDNA</td>\n",
       "      <td>0</td>\n",
       "      <td>0.0</td>\n",
       "    </tr>\n",
       "  </tbody>\n",
       "</table>\n",
       "</div>"
      ],
      "text/plain": [
       "                               org_uuid                     name  outcome  \\\n",
       "0  00107fd1-b65b-85cd-7d60-c00c4b2ae2fb            CloudAptitude        0   \n",
       "1  0013719b-13cb-9419-c604-597100dd642f            Win Win Slots        0   \n",
       "2  001c3ed9-6eb1-63b6-eeba-dcdb97f9444f  PetaData Labs SocialDNA        0   \n",
       "\n",
       "   num_founder  \n",
       "0          1.0  \n",
       "1          1.0  \n",
       "2          0.0  "
      ]
     },
     "execution_count": 6,
     "metadata": {},
     "output_type": "execute_result"
    }
   ],
   "source": [
    "num_founder = pd.DataFrame(jobs_df.groupby('org_uuid')['is_founder'].sum())\n",
    "main_processing_df_v1 = pd.merge(main_processing_df,\n",
    "                         num_founder,\n",
    "                         on='org_uuid',\n",
    "                         how='left'\n",
    "                         )\n",
    "main_processing_df_v1.rename(columns = {'is_founder':'num_founder'},inplace=True)\n",
    "main_processing_df_v1.head(3)"
   ]
  },
  {
   "cell_type": "code",
   "execution_count": 7,
   "id": "extra-flooring",
   "metadata": {},
   "outputs": [
    {
     "data": {
      "text/html": [
       "<div>\n",
       "<style scoped>\n",
       "    .dataframe tbody tr th:only-of-type {\n",
       "        vertical-align: middle;\n",
       "    }\n",
       "\n",
       "    .dataframe tbody tr th {\n",
       "        vertical-align: top;\n",
       "    }\n",
       "\n",
       "    .dataframe thead th {\n",
       "        text-align: right;\n",
       "    }\n",
       "</style>\n",
       "<table border=\"1\" class=\"dataframe\">\n",
       "  <thead>\n",
       "    <tr style=\"text-align: right;\">\n",
       "      <th></th>\n",
       "      <th>org_uuid</th>\n",
       "      <th>name</th>\n",
       "      <th>outcome</th>\n",
       "      <th>num_founder</th>\n",
       "    </tr>\n",
       "  </thead>\n",
       "  <tbody>\n",
       "    <tr>\n",
       "      <th>7</th>\n",
       "      <td>004c2baa-36be-4d84-8731-5418ce248ab5</td>\n",
       "      <td>Altitude Products</td>\n",
       "      <td>0</td>\n",
       "      <td>NaN</td>\n",
       "    </tr>\n",
       "    <tr>\n",
       "      <th>10</th>\n",
       "      <td>00662293-6e6e-a876-9070-f1a35e5ae110</td>\n",
       "      <td>Coupsta</td>\n",
       "      <td>0</td>\n",
       "      <td>NaN</td>\n",
       "    </tr>\n",
       "    <tr>\n",
       "      <th>14</th>\n",
       "      <td>00a36480-eaaa-4c18-9ee1-ab9d50cacb12</td>\n",
       "      <td>Southern Robotic Foods</td>\n",
       "      <td>0</td>\n",
       "      <td>NaN</td>\n",
       "    </tr>\n",
       "    <tr>\n",
       "      <th>15</th>\n",
       "      <td>00a9ee84-66bd-0807-2e70-d4fb5c81cc58</td>\n",
       "      <td>Atlantis</td>\n",
       "      <td>0</td>\n",
       "      <td>NaN</td>\n",
       "    </tr>\n",
       "    <tr>\n",
       "      <th>43</th>\n",
       "      <td>020964c6-3ba9-b83a-d2c6-f34440cacc2b</td>\n",
       "      <td>UeeeU.com</td>\n",
       "      <td>0</td>\n",
       "      <td>NaN</td>\n",
       "    </tr>\n",
       "    <tr>\n",
       "      <th>...</th>\n",
       "      <td>...</td>\n",
       "      <td>...</td>\n",
       "      <td>...</td>\n",
       "      <td>...</td>\n",
       "    </tr>\n",
       "    <tr>\n",
       "      <th>76763</th>\n",
       "      <td>ffcbc4ca-0236-4b6a-a3ac-835f94740f80</td>\n",
       "      <td>Jagger</td>\n",
       "      <td>0</td>\n",
       "      <td>NaN</td>\n",
       "    </tr>\n",
       "    <tr>\n",
       "      <th>76767</th>\n",
       "      <td>ffd10ff4-06da-49b3-9d42-91ec518fe3b6</td>\n",
       "      <td>Caihong Lushi</td>\n",
       "      <td>0</td>\n",
       "      <td>NaN</td>\n",
       "    </tr>\n",
       "    <tr>\n",
       "      <th>76775</th>\n",
       "      <td>ffd958cc-7c71-4fa8-bee5-ff54cb0ae194</td>\n",
       "      <td>Cutie Pie</td>\n",
       "      <td>0</td>\n",
       "      <td>NaN</td>\n",
       "    </tr>\n",
       "    <tr>\n",
       "      <th>76784</th>\n",
       "      <td>ffe01926-79ee-4d17-984c-c9a4f74ccbab</td>\n",
       "      <td>KTVme</td>\n",
       "      <td>1</td>\n",
       "      <td>NaN</td>\n",
       "    </tr>\n",
       "    <tr>\n",
       "      <th>76803</th>\n",
       "      <td>fffd10a8-24fc-4775-947a-25b31aa778ba</td>\n",
       "      <td>Holo-X</td>\n",
       "      <td>0</td>\n",
       "      <td>NaN</td>\n",
       "    </tr>\n",
       "  </tbody>\n",
       "</table>\n",
       "<p>14752 rows × 4 columns</p>\n",
       "</div>"
      ],
      "text/plain": [
       "                                   org_uuid                    name  outcome  \\\n",
       "7      004c2baa-36be-4d84-8731-5418ce248ab5       Altitude Products        0   \n",
       "10     00662293-6e6e-a876-9070-f1a35e5ae110                 Coupsta        0   \n",
       "14     00a36480-eaaa-4c18-9ee1-ab9d50cacb12  Southern Robotic Foods        0   \n",
       "15     00a9ee84-66bd-0807-2e70-d4fb5c81cc58                Atlantis        0   \n",
       "43     020964c6-3ba9-b83a-d2c6-f34440cacc2b               UeeeU.com        0   \n",
       "...                                     ...                     ...      ...   \n",
       "76763  ffcbc4ca-0236-4b6a-a3ac-835f94740f80                  Jagger        0   \n",
       "76767  ffd10ff4-06da-49b3-9d42-91ec518fe3b6           Caihong Lushi        0   \n",
       "76775  ffd958cc-7c71-4fa8-bee5-ff54cb0ae194               Cutie Pie        0   \n",
       "76784  ffe01926-79ee-4d17-984c-c9a4f74ccbab                   KTVme        1   \n",
       "76803  fffd10a8-24fc-4775-947a-25b31aa778ba                  Holo-X        0   \n",
       "\n",
       "       num_founder  \n",
       "7              NaN  \n",
       "10             NaN  \n",
       "14             NaN  \n",
       "15             NaN  \n",
       "43             NaN  \n",
       "...            ...  \n",
       "76763          NaN  \n",
       "76767          NaN  \n",
       "76775          NaN  \n",
       "76784          NaN  \n",
       "76803          NaN  \n",
       "\n",
       "[14752 rows x 4 columns]"
      ]
     },
     "execution_count": 7,
     "metadata": {},
     "output_type": "execute_result"
    }
   ],
   "source": [
    "main_processing_df_v1[main_processing_df_v1['num_founder'].isna()]"
   ]
  },
  {
   "cell_type": "code",
   "execution_count": 8,
   "id": "composed-tolerance",
   "metadata": {},
   "outputs": [],
   "source": [
    "#drop companies with no founder info\n",
    "main_processing_df_v1.dropna(subset=['num_founder'],inplace=True)\n",
    "main_processing_df_v2 = main_processing_df_v1[main_processing_df_v1['num_founder'] > 0]"
   ]
  },
  {
   "cell_type": "code",
   "execution_count": 9,
   "id": "piano-rating",
   "metadata": {},
   "outputs": [
    {
     "data": {
      "text/plain": [
       "50236"
      ]
     },
     "execution_count": 9,
     "metadata": {},
     "output_type": "execute_result"
    }
   ],
   "source": [
    "len(main_processing_df_v2)"
   ]
  },
  {
   "cell_type": "code",
   "execution_count": 10,
   "id": "indoor-engagement",
   "metadata": {},
   "outputs": [
    {
     "data": {
      "text/html": [
       "<div>\n",
       "<style scoped>\n",
       "    .dataframe tbody tr th:only-of-type {\n",
       "        vertical-align: middle;\n",
       "    }\n",
       "\n",
       "    .dataframe tbody tr th {\n",
       "        vertical-align: top;\n",
       "    }\n",
       "\n",
       "    .dataframe thead th {\n",
       "        text-align: right;\n",
       "    }\n",
       "</style>\n",
       "<table border=\"1\" class=\"dataframe\">\n",
       "  <thead>\n",
       "    <tr style=\"text-align: right;\">\n",
       "      <th></th>\n",
       "      <th>org_uuid</th>\n",
       "      <th>name</th>\n",
       "      <th>outcome</th>\n",
       "      <th>num_founder</th>\n",
       "    </tr>\n",
       "  </thead>\n",
       "  <tbody>\n",
       "    <tr>\n",
       "      <th>0</th>\n",
       "      <td>00107fd1-b65b-85cd-7d60-c00c4b2ae2fb</td>\n",
       "      <td>CloudAptitude</td>\n",
       "      <td>0</td>\n",
       "      <td>1.0</td>\n",
       "    </tr>\n",
       "    <tr>\n",
       "      <th>1</th>\n",
       "      <td>0013719b-13cb-9419-c604-597100dd642f</td>\n",
       "      <td>Win Win Slots</td>\n",
       "      <td>0</td>\n",
       "      <td>1.0</td>\n",
       "    </tr>\n",
       "    <tr>\n",
       "      <th>3</th>\n",
       "      <td>002194d5-e7cf-cc78-86ca-4213f8edf62b</td>\n",
       "      <td>Smart Lanes</td>\n",
       "      <td>0</td>\n",
       "      <td>2.0</td>\n",
       "    </tr>\n",
       "    <tr>\n",
       "      <th>4</th>\n",
       "      <td>002542fe-a20c-aab2-1bcf-6f495fac9ab1</td>\n",
       "      <td>Clay Piggy</td>\n",
       "      <td>0</td>\n",
       "      <td>2.0</td>\n",
       "    </tr>\n",
       "    <tr>\n",
       "      <th>5</th>\n",
       "      <td>002f3cd0-9655-4f2d-834f-af6fc7a8a437</td>\n",
       "      <td>Kids on 45th</td>\n",
       "      <td>0</td>\n",
       "      <td>1.0</td>\n",
       "    </tr>\n",
       "  </tbody>\n",
       "</table>\n",
       "</div>"
      ],
      "text/plain": [
       "                               org_uuid           name  outcome  num_founder\n",
       "0  00107fd1-b65b-85cd-7d60-c00c4b2ae2fb  CloudAptitude        0          1.0\n",
       "1  0013719b-13cb-9419-c604-597100dd642f  Win Win Slots        0          1.0\n",
       "3  002194d5-e7cf-cc78-86ca-4213f8edf62b    Smart Lanes        0          2.0\n",
       "4  002542fe-a20c-aab2-1bcf-6f495fac9ab1     Clay Piggy        0          2.0\n",
       "5  002f3cd0-9655-4f2d-834f-af6fc7a8a437   Kids on 45th        0          1.0"
      ]
     },
     "execution_count": 10,
     "metadata": {},
     "output_type": "execute_result"
    }
   ],
   "source": [
    "main_processing_df_v2.head(5)"
   ]
  },
  {
   "cell_type": "markdown",
   "id": "agricultural-financing",
   "metadata": {},
   "source": [
    "# Assign Gender Diversity Features"
   ]
  },
  {
   "cell_type": "code",
   "execution_count": 11,
   "id": "intermediate-orange",
   "metadata": {},
   "outputs": [],
   "source": [
    "founder_df = jobs_df[jobs_df['is_founder'] == 1]\n",
    "founder_gb = founder_df.groupby('org_uuid')"
   ]
  },
  {
   "cell_type": "code",
   "execution_count": 12,
   "id": "honest-addition",
   "metadata": {},
   "outputs": [],
   "source": [
    "people_df = pd.read_csv(R\"d:/msc-project/data/pre-processed/people_preprocessed.csv\",encoding='utf-8',\n",
    "                         index_col=False)"
   ]
  },
  {
   "cell_type": "code",
   "execution_count": 13,
   "id": "regional-matthew",
   "metadata": {},
   "outputs": [
    {
     "data": {
      "text/plain": [
       "Index(['people_uuid', 'people_name', 'first_name', 'last_name', 'gender',\n",
       "       'country_code', 'state_code', 'region', 'city', 'org_uuid',\n",
       "       'featured_job_organization_name', 'featured_job_title', 'facebook_url',\n",
       "       'linkedin_url', 'twitter_url', 'logo_url', 'description'],\n",
       "      dtype='object')"
      ]
     },
     "execution_count": 13,
     "metadata": {},
     "output_type": "execute_result"
    }
   ],
   "source": [
    "people_df.columns"
   ]
  },
  {
   "cell_type": "code",
   "execution_count": 14,
   "id": "frozen-column",
   "metadata": {},
   "outputs": [],
   "source": [
    "founder_gender_df = pd.merge(founder_df[['people_uuid','org_uuid']],\n",
    "                             people_df[['people_uuid','gender']],\n",
    "                             on='people_uuid',\n",
    "                             how='left')"
   ]
  },
  {
   "cell_type": "code",
   "execution_count": 15,
   "id": "sustained-sculpture",
   "metadata": {},
   "outputs": [
    {
     "data": {
      "text/html": [
       "<div>\n",
       "<style scoped>\n",
       "    .dataframe tbody tr th:only-of-type {\n",
       "        vertical-align: middle;\n",
       "    }\n",
       "\n",
       "    .dataframe tbody tr th {\n",
       "        vertical-align: top;\n",
       "    }\n",
       "\n",
       "    .dataframe thead th {\n",
       "        text-align: right;\n",
       "    }\n",
       "</style>\n",
       "<table border=\"1\" class=\"dataframe\">\n",
       "  <thead>\n",
       "    <tr style=\"text-align: right;\">\n",
       "      <th></th>\n",
       "      <th>people_uuid</th>\n",
       "      <th>org_uuid</th>\n",
       "      <th>gender</th>\n",
       "    </tr>\n",
       "  </thead>\n",
       "  <tbody>\n",
       "    <tr>\n",
       "      <th>0</th>\n",
       "      <td>ed13cd36-fe2b-3707-197b-0c2d56e37a71</td>\n",
       "      <td>e1393508-30ea-8a36-3f96-dd3226033abd</td>\n",
       "      <td>male</td>\n",
       "    </tr>\n",
       "    <tr>\n",
       "      <th>1</th>\n",
       "      <td>a01b8d46-d311-3333-7c34-aa3ae9c03f22</td>\n",
       "      <td>df662812-7f97-0b43-9d3e-12f64f504fbb</td>\n",
       "      <td>male</td>\n",
       "    </tr>\n",
       "    <tr>\n",
       "      <th>2</th>\n",
       "      <td>084aaa07-0795-1fe8-9c46-98bbeb02cd64</td>\n",
       "      <td>df662812-7f97-0b43-9d3e-12f64f504fbb</td>\n",
       "      <td>male</td>\n",
       "    </tr>\n",
       "  </tbody>\n",
       "</table>\n",
       "</div>"
      ],
      "text/plain": [
       "                            people_uuid                              org_uuid  \\\n",
       "0  ed13cd36-fe2b-3707-197b-0c2d56e37a71  e1393508-30ea-8a36-3f96-dd3226033abd   \n",
       "1  a01b8d46-d311-3333-7c34-aa3ae9c03f22  df662812-7f97-0b43-9d3e-12f64f504fbb   \n",
       "2  084aaa07-0795-1fe8-9c46-98bbeb02cd64  df662812-7f97-0b43-9d3e-12f64f504fbb   \n",
       "\n",
       "  gender  \n",
       "0   male  \n",
       "1   male  \n",
       "2   male  "
      ]
     },
     "execution_count": 15,
     "metadata": {},
     "output_type": "execute_result"
    }
   ],
   "source": [
    "founder_gender_df.head(3)"
   ]
  },
  {
   "cell_type": "code",
   "execution_count": 16,
   "id": "creative-plant",
   "metadata": {},
   "outputs": [],
   "source": [
    "founder_gender_gb = founder_gender_df.groupby('org_uuid')"
   ]
  },
  {
   "cell_type": "code",
   "execution_count": 17,
   "id": "suitable-biodiversity",
   "metadata": {},
   "outputs": [
    {
     "name": "stderr",
     "output_type": "stream",
     "text": [
      "C:\\Users\\Abdul Rahim Ab Ghani\\miniconda3\\lib\\site-packages\\ipykernel_launcher.py:10: SettingWithCopyWarning: \n",
      "A value is trying to be set on a copy of a slice from a DataFrame.\n",
      "Try using .loc[row_indexer,col_indexer] = value instead\n",
      "\n",
      "See the caveats in the documentation: https://pandas.pydata.org/pandas-docs/stable/user_guide/indexing.html#returning-a-view-versus-a-copy\n",
      "  # Remove the CWD from sys.path while we load stuff.\n"
     ]
    }
   ],
   "source": [
    "is_founder_gender_diversity = list()\n",
    "\n",
    "for org_uuid in list(main_processing_df_v2['org_uuid']):\n",
    "    founders_gender = list(founder_gender_gb.get_group(org_uuid)['gender']) #create list of founder's gender for one organisation\n",
    "    if 'male' in founders_gender and 'female' in founders_gender: #assign 1 if male and female in gender list\n",
    "        is_founder_gender_diversity.append(1)\n",
    "    else:\n",
    "        is_founder_gender_diversity.append(0)\n",
    "\n",
    "main_processing_df_v2['is_founder_gender_diversity'] = is_founder_gender_diversity"
   ]
  },
  {
   "cell_type": "code",
   "execution_count": 18,
   "id": "crazy-cleveland",
   "metadata": {},
   "outputs": [
    {
     "data": {
      "text/plain": [
       "(50236, 5)"
      ]
     },
     "execution_count": 18,
     "metadata": {},
     "output_type": "execute_result"
    }
   ],
   "source": [
    "main_processing_df_v2.shape"
   ]
  },
  {
   "cell_type": "code",
   "execution_count": 19,
   "id": "specific-calculation",
   "metadata": {},
   "outputs": [
    {
     "data": {
      "text/html": [
       "<div>\n",
       "<style scoped>\n",
       "    .dataframe tbody tr th:only-of-type {\n",
       "        vertical-align: middle;\n",
       "    }\n",
       "\n",
       "    .dataframe tbody tr th {\n",
       "        vertical-align: top;\n",
       "    }\n",
       "\n",
       "    .dataframe thead th {\n",
       "        text-align: right;\n",
       "    }\n",
       "</style>\n",
       "<table border=\"1\" class=\"dataframe\">\n",
       "  <thead>\n",
       "    <tr style=\"text-align: right;\">\n",
       "      <th></th>\n",
       "      <th>org_uuid</th>\n",
       "      <th>name</th>\n",
       "      <th>outcome</th>\n",
       "      <th>num_founder</th>\n",
       "      <th>is_founder_gender_diversity</th>\n",
       "    </tr>\n",
       "  </thead>\n",
       "  <tbody>\n",
       "    <tr>\n",
       "      <th>0</th>\n",
       "      <td>00107fd1-b65b-85cd-7d60-c00c4b2ae2fb</td>\n",
       "      <td>CloudAptitude</td>\n",
       "      <td>0</td>\n",
       "      <td>1.0</td>\n",
       "      <td>0</td>\n",
       "    </tr>\n",
       "    <tr>\n",
       "      <th>1</th>\n",
       "      <td>0013719b-13cb-9419-c604-597100dd642f</td>\n",
       "      <td>Win Win Slots</td>\n",
       "      <td>0</td>\n",
       "      <td>1.0</td>\n",
       "      <td>0</td>\n",
       "    </tr>\n",
       "    <tr>\n",
       "      <th>3</th>\n",
       "      <td>002194d5-e7cf-cc78-86ca-4213f8edf62b</td>\n",
       "      <td>Smart Lanes</td>\n",
       "      <td>0</td>\n",
       "      <td>2.0</td>\n",
       "      <td>1</td>\n",
       "    </tr>\n",
       "  </tbody>\n",
       "</table>\n",
       "</div>"
      ],
      "text/plain": [
       "                               org_uuid           name  outcome  num_founder  \\\n",
       "0  00107fd1-b65b-85cd-7d60-c00c4b2ae2fb  CloudAptitude        0          1.0   \n",
       "1  0013719b-13cb-9419-c604-597100dd642f  Win Win Slots        0          1.0   \n",
       "3  002194d5-e7cf-cc78-86ca-4213f8edf62b    Smart Lanes        0          2.0   \n",
       "\n",
       "   is_founder_gender_diversity  \n",
       "0                            0  \n",
       "1                            0  \n",
       "3                            1  "
      ]
     },
     "execution_count": 19,
     "metadata": {},
     "output_type": "execute_result"
    }
   ],
   "source": [
    "main_processing_df_v2.head(3)"
   ]
  },
  {
   "cell_type": "markdown",
   "id": "protective-programming",
   "metadata": {},
   "source": [
    "# Assigning degree type, ivy league, and top100 to organisation based on founder"
   ]
  },
  {
   "cell_type": "code",
   "execution_count": 20,
   "id": "naval-algebra",
   "metadata": {},
   "outputs": [
    {
     "data": {
      "text/html": [
       "<div>\n",
       "<style scoped>\n",
       "    .dataframe tbody tr th:only-of-type {\n",
       "        vertical-align: middle;\n",
       "    }\n",
       "\n",
       "    .dataframe tbody tr th {\n",
       "        vertical-align: top;\n",
       "    }\n",
       "\n",
       "    .dataframe thead th {\n",
       "        text-align: right;\n",
       "    }\n",
       "</style>\n",
       "<table border=\"1\" class=\"dataframe\">\n",
       "  <thead>\n",
       "    <tr style=\"text-align: right;\">\n",
       "      <th></th>\n",
       "      <th>deg_uuid</th>\n",
       "      <th>deg_name</th>\n",
       "      <th>people_uuid</th>\n",
       "      <th>person_name</th>\n",
       "      <th>institution_uuid</th>\n",
       "      <th>institution_name</th>\n",
       "      <th>degree_type</th>\n",
       "      <th>subject</th>\n",
       "      <th>started_on</th>\n",
       "      <th>completed_on</th>\n",
       "      <th>is_completed</th>\n",
       "      <th>is_bachelor</th>\n",
       "      <th>is_master</th>\n",
       "      <th>is_phd</th>\n",
       "      <th>is_mba</th>\n",
       "      <th>is_stem</th>\n",
       "      <th>is_ivy_league</th>\n",
       "    </tr>\n",
       "  </thead>\n",
       "  <tbody>\n",
       "    <tr>\n",
       "      <th>0</th>\n",
       "      <td>205fdfd1-ecac-aa43-262f-219f11755f67</td>\n",
       "      <td>MS  Mass Communication @ Boston University</td>\n",
       "      <td>4897dba9-3141-ecc0-2c4b-c9d844e6440f</td>\n",
       "      <td>John Green</td>\n",
       "      <td>1eab62d2-15d9-0db7-930f-2aa77d4688e1</td>\n",
       "      <td>Boston University</td>\n",
       "      <td>MS</td>\n",
       "      <td>Mass Communication</td>\n",
       "      <td>NaN</td>\n",
       "      <td>1992-01-01</td>\n",
       "      <td>True</td>\n",
       "      <td>0</td>\n",
       "      <td>1</td>\n",
       "      <td>0</td>\n",
       "      <td>0</td>\n",
       "      <td>1</td>\n",
       "      <td>0</td>\n",
       "    </tr>\n",
       "    <tr>\n",
       "      <th>1</th>\n",
       "      <td>1a2ac288-eb99-3318-fde5-1517bc168f51</td>\n",
       "      <td>BA  English, French @ Washington University in...</td>\n",
       "      <td>4897dba9-3141-ecc0-2c4b-c9d844e6440f</td>\n",
       "      <td>John Green</td>\n",
       "      <td>6ae9957a-8fb4-0ab1-73fa-dd547c4d3da4</td>\n",
       "      <td>Washington University in St. Louis</td>\n",
       "      <td>BA</td>\n",
       "      <td>English, French</td>\n",
       "      <td>NaN</td>\n",
       "      <td>1990-01-01</td>\n",
       "      <td>True</td>\n",
       "      <td>1</td>\n",
       "      <td>0</td>\n",
       "      <td>0</td>\n",
       "      <td>0</td>\n",
       "      <td>0</td>\n",
       "      <td>0</td>\n",
       "    </tr>\n",
       "    <tr>\n",
       "      <th>2</th>\n",
       "      <td>b978d338-7ccc-7469-5ce7-ef98c34155ad</td>\n",
       "      <td>MS  Internet Technology @ University of Greenwich</td>\n",
       "      <td>7d187b77-94f7-e6cc-6981-d7468db5968f</td>\n",
       "      <td>Sridhar Gundaiah</td>\n",
       "      <td>b5ea73f6-12a3-576d-ae9b-f4169147f974</td>\n",
       "      <td>University of Greenwich</td>\n",
       "      <td>MS</td>\n",
       "      <td>Internet Technology</td>\n",
       "      <td>NaN</td>\n",
       "      <td>2006-01-01</td>\n",
       "      <td>True</td>\n",
       "      <td>0</td>\n",
       "      <td>1</td>\n",
       "      <td>0</td>\n",
       "      <td>0</td>\n",
       "      <td>1</td>\n",
       "      <td>0</td>\n",
       "    </tr>\n",
       "  </tbody>\n",
       "</table>\n",
       "</div>"
      ],
      "text/plain": [
       "                               deg_uuid  \\\n",
       "0  205fdfd1-ecac-aa43-262f-219f11755f67   \n",
       "1  1a2ac288-eb99-3318-fde5-1517bc168f51   \n",
       "2  b978d338-7ccc-7469-5ce7-ef98c34155ad   \n",
       "\n",
       "                                            deg_name  \\\n",
       "0         MS  Mass Communication @ Boston University   \n",
       "1  BA  English, French @ Washington University in...   \n",
       "2  MS  Internet Technology @ University of Greenwich   \n",
       "\n",
       "                            people_uuid       person_name  \\\n",
       "0  4897dba9-3141-ecc0-2c4b-c9d844e6440f        John Green   \n",
       "1  4897dba9-3141-ecc0-2c4b-c9d844e6440f        John Green   \n",
       "2  7d187b77-94f7-e6cc-6981-d7468db5968f  Sridhar Gundaiah   \n",
       "\n",
       "                       institution_uuid                    institution_name  \\\n",
       "0  1eab62d2-15d9-0db7-930f-2aa77d4688e1                   Boston University   \n",
       "1  6ae9957a-8fb4-0ab1-73fa-dd547c4d3da4  Washington University in St. Louis   \n",
       "2  b5ea73f6-12a3-576d-ae9b-f4169147f974             University of Greenwich   \n",
       "\n",
       "  degree_type              subject started_on completed_on  is_completed  \\\n",
       "0          MS   Mass Communication        NaN   1992-01-01          True   \n",
       "1          BA      English, French        NaN   1990-01-01          True   \n",
       "2          MS  Internet Technology        NaN   2006-01-01          True   \n",
       "\n",
       "   is_bachelor  is_master  is_phd  is_mba  is_stem  is_ivy_league  \n",
       "0            0          1       0       0        1              0  \n",
       "1            1          0       0       0        0              0  \n",
       "2            0          1       0       0        1              0  "
      ]
     },
     "execution_count": 20,
     "metadata": {},
     "output_type": "execute_result"
    }
   ],
   "source": [
    "#import processed degree file\n",
    "deg_df = pd.read_csv(R\"d:/msc-project/data/pre-processed/degrees_preprocessed.csv\",encoding='utf-8',\n",
    "                         index_col=False)\n",
    "deg_df.head(3)"
   ]
  },
  {
   "cell_type": "code",
   "execution_count": 21,
   "id": "extensive-elephant",
   "metadata": {},
   "outputs": [
    {
     "ename": "KeyError",
     "evalue": "\"['is_top_100'] not in index\"",
     "output_type": "error",
     "traceback": [
      "\u001b[1;31m---------------------------------------------------------------------------\u001b[0m",
      "\u001b[1;31mKeyError\u001b[0m                                  Traceback (most recent call last)",
      "\u001b[1;32m<ipython-input-21-8174ba4f3afb>\u001b[0m in \u001b[0;36m<module>\u001b[1;34m\u001b[0m\n\u001b[0;32m      1\u001b[0m \u001b[1;31m#merge degree with founder_df\u001b[0m\u001b[1;33m\u001b[0m\u001b[1;33m\u001b[0m\u001b[1;33m\u001b[0m\u001b[0m\n\u001b[1;32m----> 2\u001b[1;33m \u001b[0mdeg_type_df\u001b[0m \u001b[1;33m=\u001b[0m \u001b[0mdeg_df\u001b[0m\u001b[1;33m[\u001b[0m\u001b[1;33m[\u001b[0m\u001b[1;34m'people_uuid'\u001b[0m\u001b[1;33m,\u001b[0m\u001b[1;34m'is_bachelor'\u001b[0m\u001b[1;33m,\u001b[0m\u001b[1;34m'is_master'\u001b[0m\u001b[1;33m,\u001b[0m\u001b[1;34m'is_phd'\u001b[0m\u001b[1;33m,\u001b[0m\u001b[1;34m'is_mba'\u001b[0m\u001b[1;33m,\u001b[0m\u001b[1;34m'is_stem'\u001b[0m\u001b[1;33m,\u001b[0m\u001b[1;34m'is_ivy_league'\u001b[0m\u001b[1;33m,\u001b[0m\u001b[1;34m'is_top_100'\u001b[0m\u001b[1;33m]\u001b[0m\u001b[1;33m]\u001b[0m\u001b[1;33m\u001b[0m\u001b[1;33m\u001b[0m\u001b[0m\n\u001b[0m\u001b[0;32m      3\u001b[0m founder_degree_df = pd.merge(founder_df[['people_uuid','org_uuid']],\n\u001b[0;32m      4\u001b[0m                              \u001b[0mdeg_type_df\u001b[0m\u001b[1;33m,\u001b[0m\u001b[1;33m\u001b[0m\u001b[1;33m\u001b[0m\u001b[0m\n\u001b[0;32m      5\u001b[0m                              \u001b[0mon\u001b[0m\u001b[1;33m=\u001b[0m\u001b[1;34m'people_uuid'\u001b[0m\u001b[1;33m,\u001b[0m\u001b[1;33m\u001b[0m\u001b[1;33m\u001b[0m\u001b[0m\n",
      "\u001b[1;32m~\\miniconda3\\lib\\site-packages\\pandas\\core\\frame.py\u001b[0m in \u001b[0;36m__getitem__\u001b[1;34m(self, key)\u001b[0m\n\u001b[0;32m   3028\u001b[0m             \u001b[1;32mif\u001b[0m \u001b[0mis_iterator\u001b[0m\u001b[1;33m(\u001b[0m\u001b[0mkey\u001b[0m\u001b[1;33m)\u001b[0m\u001b[1;33m:\u001b[0m\u001b[1;33m\u001b[0m\u001b[1;33m\u001b[0m\u001b[0m\n\u001b[0;32m   3029\u001b[0m                 \u001b[0mkey\u001b[0m \u001b[1;33m=\u001b[0m \u001b[0mlist\u001b[0m\u001b[1;33m(\u001b[0m\u001b[0mkey\u001b[0m\u001b[1;33m)\u001b[0m\u001b[1;33m\u001b[0m\u001b[1;33m\u001b[0m\u001b[0m\n\u001b[1;32m-> 3030\u001b[1;33m             \u001b[0mindexer\u001b[0m \u001b[1;33m=\u001b[0m \u001b[0mself\u001b[0m\u001b[1;33m.\u001b[0m\u001b[0mloc\u001b[0m\u001b[1;33m.\u001b[0m\u001b[0m_get_listlike_indexer\u001b[0m\u001b[1;33m(\u001b[0m\u001b[0mkey\u001b[0m\u001b[1;33m,\u001b[0m \u001b[0maxis\u001b[0m\u001b[1;33m=\u001b[0m\u001b[1;36m1\u001b[0m\u001b[1;33m,\u001b[0m \u001b[0mraise_missing\u001b[0m\u001b[1;33m=\u001b[0m\u001b[1;32mTrue\u001b[0m\u001b[1;33m)\u001b[0m\u001b[1;33m[\u001b[0m\u001b[1;36m1\u001b[0m\u001b[1;33m]\u001b[0m\u001b[1;33m\u001b[0m\u001b[1;33m\u001b[0m\u001b[0m\n\u001b[0m\u001b[0;32m   3031\u001b[0m \u001b[1;33m\u001b[0m\u001b[0m\n\u001b[0;32m   3032\u001b[0m         \u001b[1;31m# take() does not accept boolean indexers\u001b[0m\u001b[1;33m\u001b[0m\u001b[1;33m\u001b[0m\u001b[1;33m\u001b[0m\u001b[0m\n",
      "\u001b[1;32m~\\miniconda3\\lib\\site-packages\\pandas\\core\\indexing.py\u001b[0m in \u001b[0;36m_get_listlike_indexer\u001b[1;34m(self, key, axis, raise_missing)\u001b[0m\n\u001b[0;32m   1264\u001b[0m             \u001b[0mkeyarr\u001b[0m\u001b[1;33m,\u001b[0m \u001b[0mindexer\u001b[0m\u001b[1;33m,\u001b[0m \u001b[0mnew_indexer\u001b[0m \u001b[1;33m=\u001b[0m \u001b[0max\u001b[0m\u001b[1;33m.\u001b[0m\u001b[0m_reindex_non_unique\u001b[0m\u001b[1;33m(\u001b[0m\u001b[0mkeyarr\u001b[0m\u001b[1;33m)\u001b[0m\u001b[1;33m\u001b[0m\u001b[1;33m\u001b[0m\u001b[0m\n\u001b[0;32m   1265\u001b[0m \u001b[1;33m\u001b[0m\u001b[0m\n\u001b[1;32m-> 1266\u001b[1;33m         \u001b[0mself\u001b[0m\u001b[1;33m.\u001b[0m\u001b[0m_validate_read_indexer\u001b[0m\u001b[1;33m(\u001b[0m\u001b[0mkeyarr\u001b[0m\u001b[1;33m,\u001b[0m \u001b[0mindexer\u001b[0m\u001b[1;33m,\u001b[0m \u001b[0maxis\u001b[0m\u001b[1;33m,\u001b[0m \u001b[0mraise_missing\u001b[0m\u001b[1;33m=\u001b[0m\u001b[0mraise_missing\u001b[0m\u001b[1;33m)\u001b[0m\u001b[1;33m\u001b[0m\u001b[1;33m\u001b[0m\u001b[0m\n\u001b[0m\u001b[0;32m   1267\u001b[0m         \u001b[1;32mreturn\u001b[0m \u001b[0mkeyarr\u001b[0m\u001b[1;33m,\u001b[0m \u001b[0mindexer\u001b[0m\u001b[1;33m\u001b[0m\u001b[1;33m\u001b[0m\u001b[0m\n\u001b[0;32m   1268\u001b[0m \u001b[1;33m\u001b[0m\u001b[0m\n",
      "\u001b[1;32m~\\miniconda3\\lib\\site-packages\\pandas\\core\\indexing.py\u001b[0m in \u001b[0;36m_validate_read_indexer\u001b[1;34m(self, key, indexer, axis, raise_missing)\u001b[0m\n\u001b[0;32m   1314\u001b[0m             \u001b[1;32mif\u001b[0m \u001b[0mraise_missing\u001b[0m\u001b[1;33m:\u001b[0m\u001b[1;33m\u001b[0m\u001b[1;33m\u001b[0m\u001b[0m\n\u001b[0;32m   1315\u001b[0m                 \u001b[0mnot_found\u001b[0m \u001b[1;33m=\u001b[0m \u001b[0mlist\u001b[0m\u001b[1;33m(\u001b[0m\u001b[0mset\u001b[0m\u001b[1;33m(\u001b[0m\u001b[0mkey\u001b[0m\u001b[1;33m)\u001b[0m \u001b[1;33m-\u001b[0m \u001b[0mset\u001b[0m\u001b[1;33m(\u001b[0m\u001b[0max\u001b[0m\u001b[1;33m)\u001b[0m\u001b[1;33m)\u001b[0m\u001b[1;33m\u001b[0m\u001b[1;33m\u001b[0m\u001b[0m\n\u001b[1;32m-> 1316\u001b[1;33m                 \u001b[1;32mraise\u001b[0m \u001b[0mKeyError\u001b[0m\u001b[1;33m(\u001b[0m\u001b[1;34mf\"{not_found} not in index\"\u001b[0m\u001b[1;33m)\u001b[0m\u001b[1;33m\u001b[0m\u001b[1;33m\u001b[0m\u001b[0m\n\u001b[0m\u001b[0;32m   1317\u001b[0m \u001b[1;33m\u001b[0m\u001b[0m\n\u001b[0;32m   1318\u001b[0m             \u001b[0mnot_found\u001b[0m \u001b[1;33m=\u001b[0m \u001b[0mkey\u001b[0m\u001b[1;33m[\u001b[0m\u001b[0mmissing_mask\u001b[0m\u001b[1;33m]\u001b[0m\u001b[1;33m\u001b[0m\u001b[1;33m\u001b[0m\u001b[0m\n",
      "\u001b[1;31mKeyError\u001b[0m: \"['is_top_100'] not in index\""
     ]
    }
   ],
   "source": [
    "#merge degree with founder_df\n",
    "deg_type_df = deg_df[['people_uuid','is_bachelor','is_master','is_phd','is_mba','is_stem','is_ivy_league','is_top_100']]\n",
    "founder_degree_df = pd.merge(founder_df[['people_uuid','org_uuid']],\n",
    "                             deg_type_df,\n",
    "                             on='people_uuid',\n",
    "                             how='left')\n",
    "founder_degree_df.fillna(value=0,inplace=True)\n",
    "len(founder_degree_df)"
   ]
  },
  {
   "cell_type": "code",
   "execution_count": null,
   "id": "posted-owner",
   "metadata": {},
   "outputs": [],
   "source": [
    "founder_degree_df.head(3)"
   ]
  },
  {
   "cell_type": "code",
   "execution_count": null,
   "id": "gothic-paintball",
   "metadata": {},
   "outputs": [],
   "source": [
    "#group by org_uuid and merge with main file\n",
    "founder_degree_df = founder_degree_df[['org_uuid','is_bachelor','is_master','is_phd','is_mba','is_stem',\n",
    "                                      'is_ivy_league','is_top_100']].groupby('org_uuid').max()\n",
    "\n",
    "main_processing_df_v3 = pd.merge(main_processing_df_v2,\n",
    "                                 founder_degree_df,\n",
    "                                 on='org_uuid',\n",
    "                                 how = 'left')"
   ]
  },
  {
   "cell_type": "code",
   "execution_count": null,
   "id": "decent-capability",
   "metadata": {},
   "outputs": [],
   "source": [
    "#assign 0 to founder with no degree information\n",
    "main_processing_df_v3.isnull().sum(axis=0)"
   ]
  },
  {
   "cell_type": "code",
   "execution_count": null,
   "id": "continuing-handling",
   "metadata": {},
   "outputs": [],
   "source": [
    "main_processing_df_v3.head(10)"
   ]
  },
  {
   "cell_type": "markdown",
   "id": "impressive-senate",
   "metadata": {},
   "source": [
    "# Assign number of advisor"
   ]
  },
  {
   "cell_type": "code",
   "execution_count": null,
   "id": "french-poison",
   "metadata": {},
   "outputs": [],
   "source": [
    "jobs_df['job_type'].value_counts()"
   ]
  },
  {
   "cell_type": "code",
   "execution_count": null,
   "id": "intellectual-calculation",
   "metadata": {},
   "outputs": [],
   "source": [
    "jobs_advisor_df = jobs_df[jobs_df['job_type'] == 'advisor']"
   ]
  },
  {
   "cell_type": "code",
   "execution_count": null,
   "id": "advanced-decade",
   "metadata": {},
   "outputs": [],
   "source": [
    "jobs_advisor_df.head(3)"
   ]
  },
  {
   "cell_type": "code",
   "execution_count": null,
   "id": "lyric-recovery",
   "metadata": {},
   "outputs": [],
   "source": [
    "advisor_gb = jobs_advisor_df.groupby('org_uuid')"
   ]
  },
  {
   "cell_type": "code",
   "execution_count": null,
   "id": "developing-psychology",
   "metadata": {},
   "outputs": [],
   "source": [
    "num_advisor = advisor_gb.size()\n",
    "num_advisor = pd.DataFrame(num_advisor,\n",
    "                          columns=['num_advisor'])"
   ]
  },
  {
   "cell_type": "code",
   "execution_count": null,
   "id": "robust-refund",
   "metadata": {},
   "outputs": [],
   "source": [
    "type(num_advisor)"
   ]
  },
  {
   "cell_type": "code",
   "execution_count": null,
   "id": "handled-hygiene",
   "metadata": {},
   "outputs": [],
   "source": [
    "main_processing_df_v4 = pd.merge(main_processing_df_v3,\n",
    "                                 num_advisor,\n",
    "                                 on='org_uuid',\n",
    "                                 how='left')"
   ]
  },
  {
   "cell_type": "code",
   "execution_count": null,
   "id": "approved-lindsay",
   "metadata": {},
   "outputs": [],
   "source": [
    "main_processing_df_v4.head(3)"
   ]
  },
  {
   "cell_type": "code",
   "execution_count": null,
   "id": "aggregate-uruguay",
   "metadata": {},
   "outputs": [],
   "source": [
    "main_processing_df_v4['num_advisor'].fillna(0,inplace=True)"
   ]
  },
  {
   "cell_type": "code",
   "execution_count": null,
   "id": "noticed-lesson",
   "metadata": {},
   "outputs": [],
   "source": [
    "main_processing_df_v4.head(3)"
   ]
  },
  {
   "cell_type": "markdown",
   "id": "referenced-hazard",
   "metadata": {},
   "source": [
    "# Board Composition"
   ]
  },
  {
   "cell_type": "code",
   "execution_count": null,
   "id": "crucial-declaration",
   "metadata": {},
   "outputs": [],
   "source": [
    "jobs_board_df = jobs_df[jobs_df['job_type'] == 'board_member']"
   ]
  },
  {
   "cell_type": "code",
   "execution_count": null,
   "id": "hydraulic-stopping",
   "metadata": {},
   "outputs": [],
   "source": [
    "jobs_board_df.head(3)"
   ]
  },
  {
   "cell_type": "code",
   "execution_count": null,
   "id": "banned-latter",
   "metadata": {},
   "outputs": [],
   "source": [
    "jobs_board_df=jobs_board_df[['people_uuid','org_uuid']]"
   ]
  },
  {
   "cell_type": "code",
   "execution_count": null,
   "id": "complimentary-director",
   "metadata": {},
   "outputs": [],
   "source": [
    "jobs_board_df.head(3)"
   ]
  },
  {
   "cell_type": "code",
   "execution_count": null,
   "id": "exterior-brook",
   "metadata": {},
   "outputs": [],
   "source": [
    "investors_df = pd.read_csv(R'd:\\msc-project\\data\\pre-processed\\investors_preprocessed.csv',encoding='utf-8')"
   ]
  },
  {
   "cell_type": "code",
   "execution_count": null,
   "id": "revised-router",
   "metadata": {},
   "outputs": [],
   "source": [
    "investors_df.head(3)"
   ]
  },
  {
   "cell_type": "code",
   "execution_count": null,
   "id": "tamil-indianapolis",
   "metadata": {},
   "outputs": [],
   "source": []
  }
 ],
 "metadata": {
  "kernelspec": {
   "display_name": "Python 3",
   "language": "python",
   "name": "python3"
  },
  "language_info": {
   "codemirror_mode": {
    "name": "ipython",
    "version": 3
   },
   "file_extension": ".py",
   "mimetype": "text/x-python",
   "name": "python",
   "nbconvert_exporter": "python",
   "pygments_lexer": "ipython3",
   "version": "3.7.9"
  }
 },
 "nbformat": 4,
 "nbformat_minor": 5
}
