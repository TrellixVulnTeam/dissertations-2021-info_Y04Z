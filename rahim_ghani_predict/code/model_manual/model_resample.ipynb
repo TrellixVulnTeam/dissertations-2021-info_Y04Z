{
 "cells": [
  {
   "cell_type": "code",
   "execution_count": 1,
   "id": "584e6fa5",
   "metadata": {},
   "outputs": [],
   "source": [
    "# Import basic packages \n",
    "import os\n",
    "import numpy as np \n",
    "import pandas as pd\n",
    "import matplotlib.pyplot as plt\n",
    "import seaborn as sns\n",
    "random_state = 10 # Ensure reproducible results\n",
    "%matplotlib inline"
   ]
  },
  {
   "cell_type": "code",
   "execution_count": 2,
   "id": "comfortable-particular",
   "metadata": {},
   "outputs": [],
   "source": [
    "#import all data\n",
    "data = pd.read_csv(r'd:\\msc-project\\data\\final\\features_with_outcome.csv',encoding='utf=8')"
   ]
  },
  {
   "cell_type": "code",
   "execution_count": 3,
   "id": "gothic-sharp",
   "metadata": {},
   "outputs": [
    {
     "data": {
      "text/plain": [
       "28727"
      ]
     },
     "execution_count": 3,
     "metadata": {},
     "output_type": "execute_result"
    }
   ],
   "source": [
    "len(data)"
   ]
  },
  {
   "cell_type": "code",
   "execution_count": 4,
   "id": "biblical-introduction",
   "metadata": {},
   "outputs": [
    {
     "data": {
      "text/html": [
       "<div>\n",
       "<style scoped>\n",
       "    .dataframe tbody tr th:only-of-type {\n",
       "        vertical-align: middle;\n",
       "    }\n",
       "\n",
       "    .dataframe tbody tr th {\n",
       "        vertical-align: top;\n",
       "    }\n",
       "\n",
       "    .dataframe thead th {\n",
       "        text-align: right;\n",
       "    }\n",
       "</style>\n",
       "<table border=\"1\" class=\"dataframe\">\n",
       "  <thead>\n",
       "    <tr style=\"text-align: right;\">\n",
       "      <th></th>\n",
       "      <th>org_uuid</th>\n",
       "      <th>people_num_founder</th>\n",
       "      <th>people_is_founder_gender_diversity</th>\n",
       "      <th>people_num_bachelor</th>\n",
       "      <th>people_num_master</th>\n",
       "      <th>people_num_phd</th>\n",
       "      <th>people_num_mba</th>\n",
       "      <th>people_num_stem</th>\n",
       "      <th>people_num_ivy_league</th>\n",
       "      <th>people_num_top_100</th>\n",
       "      <th>...</th>\n",
       "      <th>network_has_facebook_url</th>\n",
       "      <th>network_has_linkedin_url</th>\n",
       "      <th>network_has_twitter_url</th>\n",
       "      <th>network_has_homepage</th>\n",
       "      <th>network_is_attend_top_event</th>\n",
       "      <th>network_has_description</th>\n",
       "      <th>investor_is_cbtop1000</th>\n",
       "      <th>investor_is_no_rank</th>\n",
       "      <th>investor_is_not_cbtop1000</th>\n",
       "      <th>outcome</th>\n",
       "    </tr>\n",
       "  </thead>\n",
       "  <tbody>\n",
       "    <tr>\n",
       "      <th>0</th>\n",
       "      <td>9dc17185-743d-5fbc-f03b-ad0c81c8795d</td>\n",
       "      <td>1.0</td>\n",
       "      <td>0</td>\n",
       "      <td>0.0</td>\n",
       "      <td>0.0</td>\n",
       "      <td>0.0</td>\n",
       "      <td>0.0</td>\n",
       "      <td>0.0</td>\n",
       "      <td>0.0</td>\n",
       "      <td>0.0</td>\n",
       "      <td>...</td>\n",
       "      <td>0</td>\n",
       "      <td>0</td>\n",
       "      <td>0</td>\n",
       "      <td>0</td>\n",
       "      <td>0</td>\n",
       "      <td>1</td>\n",
       "      <td>0</td>\n",
       "      <td>1</td>\n",
       "      <td>0</td>\n",
       "      <td>1</td>\n",
       "    </tr>\n",
       "    <tr>\n",
       "      <th>1</th>\n",
       "      <td>9c8adac6-5c8e-9344-b763-6beab966c63c</td>\n",
       "      <td>0.0</td>\n",
       "      <td>0</td>\n",
       "      <td>0.0</td>\n",
       "      <td>0.0</td>\n",
       "      <td>0.0</td>\n",
       "      <td>0.0</td>\n",
       "      <td>0.0</td>\n",
       "      <td>0.0</td>\n",
       "      <td>0.0</td>\n",
       "      <td>...</td>\n",
       "      <td>0</td>\n",
       "      <td>0</td>\n",
       "      <td>0</td>\n",
       "      <td>1</td>\n",
       "      <td>0</td>\n",
       "      <td>1</td>\n",
       "      <td>0</td>\n",
       "      <td>1</td>\n",
       "      <td>0</td>\n",
       "      <td>1</td>\n",
       "    </tr>\n",
       "    <tr>\n",
       "      <th>2</th>\n",
       "      <td>6749cc07-efed-ff09-4efe-43faf6f580de</td>\n",
       "      <td>1.0</td>\n",
       "      <td>0</td>\n",
       "      <td>0.0</td>\n",
       "      <td>0.0</td>\n",
       "      <td>1.0</td>\n",
       "      <td>0.0</td>\n",
       "      <td>0.0</td>\n",
       "      <td>0.0</td>\n",
       "      <td>0.0</td>\n",
       "      <td>...</td>\n",
       "      <td>0</td>\n",
       "      <td>0</td>\n",
       "      <td>0</td>\n",
       "      <td>1</td>\n",
       "      <td>0</td>\n",
       "      <td>1</td>\n",
       "      <td>0</td>\n",
       "      <td>0</td>\n",
       "      <td>1</td>\n",
       "      <td>1</td>\n",
       "    </tr>\n",
       "  </tbody>\n",
       "</table>\n",
       "<p>3 rows × 88 columns</p>\n",
       "</div>"
      ],
      "text/plain": [
       "                               org_uuid  people_num_founder  \\\n",
       "0  9dc17185-743d-5fbc-f03b-ad0c81c8795d                 1.0   \n",
       "1  9c8adac6-5c8e-9344-b763-6beab966c63c                 0.0   \n",
       "2  6749cc07-efed-ff09-4efe-43faf6f580de                 1.0   \n",
       "\n",
       "   people_is_founder_gender_diversity  people_num_bachelor  people_num_master  \\\n",
       "0                                   0                  0.0                0.0   \n",
       "1                                   0                  0.0                0.0   \n",
       "2                                   0                  0.0                0.0   \n",
       "\n",
       "   people_num_phd  people_num_mba  people_num_stem  people_num_ivy_league  \\\n",
       "0             0.0             0.0              0.0                    0.0   \n",
       "1             0.0             0.0              0.0                    0.0   \n",
       "2             1.0             0.0              0.0                    0.0   \n",
       "\n",
       "   people_num_top_100  ...  network_has_facebook_url  \\\n",
       "0                 0.0  ...                         0   \n",
       "1                 0.0  ...                         0   \n",
       "2                 0.0  ...                         0   \n",
       "\n",
       "   network_has_linkedin_url  network_has_twitter_url  network_has_homepage  \\\n",
       "0                         0                        0                     0   \n",
       "1                         0                        0                     1   \n",
       "2                         0                        0                     1   \n",
       "\n",
       "   network_is_attend_top_event  network_has_description  \\\n",
       "0                            0                        1   \n",
       "1                            0                        1   \n",
       "2                            0                        1   \n",
       "\n",
       "   investor_is_cbtop1000  investor_is_no_rank  investor_is_not_cbtop1000  \\\n",
       "0                      0                    1                          0   \n",
       "1                      0                    1                          0   \n",
       "2                      0                    0                          1   \n",
       "\n",
       "   outcome  \n",
       "0        1  \n",
       "1        1  \n",
       "2        1  \n",
       "\n",
       "[3 rows x 88 columns]"
      ]
     },
     "execution_count": 4,
     "metadata": {},
     "output_type": "execute_result"
    }
   ],
   "source": [
    "data.head(3)"
   ]
  },
  {
   "cell_type": "code",
   "execution_count": 5,
   "id": "cultural-doubt",
   "metadata": {},
   "outputs": [
    {
     "data": {
      "text/plain": [
       "0    22066\n",
       "1     6661\n",
       "Name: outcome, dtype: int64"
      ]
     },
     "execution_count": 5,
     "metadata": {},
     "output_type": "execute_result"
    }
   ],
   "source": [
    "data['outcome'].value_counts()"
   ]
  },
  {
   "cell_type": "code",
   "execution_count": 6,
   "id": "located-radar",
   "metadata": {},
   "outputs": [],
   "source": [
    "y_data = data['outcome']\n",
    "X_data = data.drop(columns = ['org_uuid','outcome'])"
   ]
  },
  {
   "cell_type": "code",
   "execution_count": 7,
   "id": "worse-hampton",
   "metadata": {},
   "outputs": [],
   "source": [
    "#splitting data into test and full training set\n",
    "from sklearn.model_selection import train_test_split\n",
    "\n",
    "X_train_full, X_test, y_train_full, y_test = train_test_split(X_data,y_data, \n",
    "                                                              test_size = 0.2,\n",
    "                                                              stratify=y_data)"
   ]
  },
  {
   "cell_type": "code",
   "execution_count": 8,
   "id": "e3bd6df6",
   "metadata": {},
   "outputs": [
    {
     "data": {
      "text/plain": [
       "0    17652\n",
       "1     5329\n",
       "Name: outcome, dtype: int64"
      ]
     },
     "execution_count": 8,
     "metadata": {},
     "output_type": "execute_result"
    }
   ],
   "source": [
    "y_train_full.value_counts()"
   ]
  },
  {
   "cell_type": "code",
   "execution_count": 9,
   "id": "ec5cf5a1",
   "metadata": {},
   "outputs": [],
   "source": [
    "#splitting full training data into training and validation set\n",
    "X_train, X_val, y_train, y_val = train_test_split(X_train_full,y_train_full, \n",
    "                                                  test_size = 0.2,\n",
    "                                                  stratify=y_train_full)"
   ]
  },
  {
   "cell_type": "code",
   "execution_count": 10,
   "id": "supposed-hardwood",
   "metadata": {},
   "outputs": [],
   "source": [
    "#define score function\n",
    "\n",
    "def compute_score (y_act,y_pred,y_pred_proba):\n",
    "    \n",
    "    from sklearn.metrics import accuracy_score,log_loss,recall_score,precision_score,f1_score\n",
    "    \n",
    "    accuracy = accuracy_score (y_act,y_pred)\n",
    "    log_loss = log_loss (y_act,y_pred_proba)\n",
    "    recall = recall_score (y_act,y_pred)\n",
    "    precision = precision_score (y_act,y_pred)\n",
    "    f1 = f1_score (y_act,y_pred)\n",
    "    \n",
    "    return accuracy,log_loss,recall,precision,f1"
   ]
  },
  {
   "cell_type": "code",
   "execution_count": 11,
   "id": "a1fb8197",
   "metadata": {},
   "outputs": [
    {
     "ename": "ModuleNotFoundError",
     "evalue": "No module named 'imblearn'",
     "output_type": "error",
     "traceback": [
      "\u001b[1;31m---------------------------------------------------------------------------\u001b[0m",
      "\u001b[1;31mModuleNotFoundError\u001b[0m                       Traceback (most recent call last)",
      "\u001b[1;32m<ipython-input-11-58c6a4a77bcd>\u001b[0m in \u001b[0;36m<module>\u001b[1;34m\u001b[0m\n\u001b[1;32m----> 1\u001b[1;33m \u001b[1;32mfrom\u001b[0m \u001b[0mimblearn\u001b[0m\u001b[1;33m.\u001b[0m\u001b[0mover_sampling\u001b[0m \u001b[1;32mimport\u001b[0m \u001b[0mRandomOverSampler\u001b[0m\u001b[1;33m\u001b[0m\u001b[1;33m\u001b[0m\u001b[0m\n\u001b[0m",
      "\u001b[1;31mModuleNotFoundError\u001b[0m: No module named 'imblearn'"
     ]
    }
   ],
   "source": [
    "from imblearn.over_sampling import RandomOverSampler"
   ]
  },
  {
   "cell_type": "code",
   "execution_count": 20,
   "id": "super-connecticut",
   "metadata": {},
   "outputs": [
    {
     "name": "stderr",
     "output_type": "stream",
     "text": [
      "C:\\Users\\Abdul Rahim Ab Ghani\\miniconda3\\lib\\site-packages\\sklearn\\metrics\\_classification.py:1221: UndefinedMetricWarning: Precision is ill-defined and being set to 0.0 due to no predicted samples. Use `zero_division` parameter to control this behavior.\n",
      "  _warn_prf(average, modifier, msg_start, len(result))\n",
      "C:\\Users\\Abdul Rahim Ab Ghani\\miniconda3\\lib\\site-packages\\sklearn\\metrics\\_classification.py:1221: UndefinedMetricWarning: Precision is ill-defined and being set to 0.0 due to no predicted samples. Use `zero_division` parameter to control this behavior.\n",
      "  _warn_prf(average, modifier, msg_start, len(result))\n",
      "C:\\Users\\Abdul Rahim Ab Ghani\\miniconda3\\lib\\site-packages\\xgboost\\sklearn.py:1146: UserWarning: The use of label encoder in XGBClassifier is deprecated and will be removed in a future release. To remove this warning, do the following: 1) Pass option use_label_encoder=False when constructing XGBClassifier object; and 2) Encode your labels (y) as integers starting with 0, i.e. 0, 1, 2, ..., [num_class - 1].\n",
      "  warnings.warn(label_encoder_deprecation_msg, UserWarning)\n"
     ]
    },
    {
     "name": "stdout",
     "output_type": "stream",
     "text": [
      "[14:50:46] WARNING: C:/Users/Administrator/workspace/xgboost-win64_release_1.4.0/src/learner.cc:1095: Starting in XGBoost 1.3.0, the default evaluation metric used with the objective 'binary:logistic' was changed from 'error' to 'logloss'. Explicitly set eval_metric if you'd like to restore the old behavior.\n",
      "Classification performance on validation set: \n",
      "\n",
      "                       -------Validation--------   ------Training-------\n",
      "Method                  Accuracy↑      Recall↑    Accuracy↑      Recall↑\n",
      "------------------------------------------------------------------------\n"
     ]
    },
    {
     "ename": "KeyError",
     "evalue": "'val_logloss'",
     "output_type": "error",
     "traceback": [
      "\u001b[1;31m---------------------------------------------------------------------------\u001b[0m",
      "\u001b[1;31mKeyError\u001b[0m                                  Traceback (most recent call last)",
      "\u001b[1;32m<ipython-input-20-155d7e385202>\u001b[0m in \u001b[0;36m<module>\u001b[1;34m\u001b[0m\n\u001b[0;32m     75\u001b[0m     print (\"{method:<20s}{val_accuracy:>13.3f}{val_logloss:>13.3f}{train_accuracy:>13.3f}{train_logloss:>13.3f}\".format(\n\u001b[0;32m     76\u001b[0m         \u001b[0mmethod\u001b[0m\u001b[1;33m=\u001b[0m\u001b[0mclf\u001b[0m\u001b[1;33m,\u001b[0m \u001b[0mval_accuracy\u001b[0m\u001b[1;33m=\u001b[0m\u001b[0mca_val_score\u001b[0m\u001b[1;33m[\u001b[0m\u001b[0mclf\u001b[0m\u001b[1;33m]\u001b[0m\u001b[1;33m,\u001b[0m \u001b[0mval_recall\u001b[0m\u001b[1;33m=\u001b[0m\u001b[0mre_val_score\u001b[0m\u001b[1;33m[\u001b[0m\u001b[0mclf\u001b[0m\u001b[1;33m]\u001b[0m\u001b[1;33m,\u001b[0m\u001b[1;33m\u001b[0m\u001b[1;33m\u001b[0m\u001b[0m\n\u001b[1;32m---> 77\u001b[1;33m         train_accuracy=ca_train_score[clf], train_recall=re_train_score[clf]))\n\u001b[0m",
      "\u001b[1;31mKeyError\u001b[0m: 'val_logloss'"
     ]
    }
   ],
   "source": [
    "#run classifier\n",
    "\n",
    "from sklearn.dummy import DummyClassifier\n",
    "from sklearn.naive_bayes import GaussianNB\n",
    "from sklearn.linear_model import LogisticRegression\n",
    "from sklearn.neural_network import MLPClassifier\n",
    "from sklearn.svm import SVC\n",
    "from sklearn.ensemble import RandomForestClassifier\n",
    "from xgboost import XGBClassifier\n",
    "random_state = 42\n",
    "\n",
    "names = [\"Dummy, most frequent\", #dummy classifer\n",
    "         \"Gaussian Naive Bayes\", #\"Logistic Regression\", #white-box method\n",
    "         \"Random Forest\", \"Xgboost\", #white-box\n",
    "         \"Linear SVM\", \"RBF SVM\", #black-box\n",
    "         \"MLP\", \"MLP stronger reg\", #black-box\n",
    "         ]\n",
    "\n",
    "classifiers = [\n",
    "    DummyClassifier(strategy='most_frequent'),\n",
    "    GaussianNB(),\n",
    "    #LogisticRegression(max_iter=1000),\n",
    "    RandomForestClassifier(max_depth=10, n_estimators=50,random_state=random_state),\n",
    "    XGBClassifier(),\n",
    "    SVC(kernel=\"linear\", probability=True, random_state=random_state),\n",
    "    SVC(kernel='rbf', probability=True, random_state=random_state),\n",
    "    MLPClassifier(random_state=random_state, max_iter=800),  # default regularisation\n",
    "    MLPClassifier(random_state=random_state, max_iter=800, alpha=1),  # more regularisation\n",
    "    ]\n",
    "\n",
    "# Training score\n",
    "ca_train_score = {}  # Classification accuracy\n",
    "ce_train_score = {}  # Cross-entropy\n",
    "re_train_score = {}  # recall\n",
    "pr_train_score = {}  # precision\n",
    "f1_train_score = {}  # f1 score\n",
    "\n",
    "# Validation\n",
    "ca_val_score = {} \n",
    "ce_val_score = {}\n",
    "re_val_score = {}\n",
    "pr_val_score = {}\n",
    "f1_val_score = {}\n",
    "\n",
    "for name, clf in zip(names, classifiers):\n",
    "    clf.fit(X_train, y_train)\n",
    "    \n",
    "    y_train_predict = clf.predict(X_train)\n",
    "    y_train_predict_proba = clf.predict_proba(X_train)\n",
    "    acc, log_loss, re, pr, f1 = compute_score (y_train,y_train_predict,y_train_predict_proba)\n",
    "    \n",
    "    ca_train_score[name] = acc\n",
    "    ce_train_score[name] = log_loss\n",
    "    re_train_score[name] = re\n",
    "    pr_train_score[name] = pr\n",
    "    f1_train_score[name] = f1\n",
    "    \n",
    "    y_val_predict = clf.predict(X_val)\n",
    "    y_val_predict_proba = clf.predict_proba(X_val)\n",
    "    acc, log_loss, re, pr, f1 = compute_score (y_val,y_val_predict,y_val_predict_proba)\n",
    "    ca_val_score[name] = acc\n",
    "    ce_val_score[name] = log_loss\n",
    "    re_val_score[name] = re\n",
    "    pr_val_score[name] = pr\n",
    "    f1_val_score[name] = f1\n",
    "\n",
    "#Print Result\n",
    "print('Classification performance on validation set: \\n')\n",
    "print(\"{0:<20s}   {1:-^25s}   {2:-^21s}\".format('','Validation', 'Training'))\n",
    "print(\"{0:<20s}{1:>13s}{2:>13s}{3:>13s}{4:>13s}\".format(\n",
    "    'Method', 'Accuracy\\u2191', 'Recall\\u2191',\n",
    "    'Accuracy\\u2191', 'Recall\\u2191'))\n",
    "print(\"-\"*(20+4*13))\n",
    "for clf in names:\n",
    "    print (\"{method:<20s}{val_accuracy:>13.3f}{val_logloss:>13.3f}{train_accuracy:>13.3f}{train_logloss:>13.3f}\".format(\n",
    "        method=clf, val_accuracy=ca_val_score[clf], val_recall=re_val_score[clf],\n",
    "        train_accuracy=ca_train_score[clf], train_recall=re_train_score[clf]))"
   ]
  },
  {
   "cell_type": "code",
   "execution_count": 26,
   "id": "56dc1b35",
   "metadata": {},
   "outputs": [
    {
     "name": "stdout",
     "output_type": "stream",
     "text": [
      "Classification performance on validation set: \n",
      "\n",
      "                       -------Validation--------   ------Training-------\n",
      "Method                  Accuracy↑    log loss↓    Accuracy↑    log loss↓\n",
      "------------------------------------------------------------------------\n",
      "Dummy, most frequent        0.768        8.009        0.768        8.009\n",
      "Gaussian Naive Bayes        0.730        2.898        0.722        2.930\n",
      "Random Forest               0.782        0.474        0.822        0.429\n",
      "Xgboost                     0.781        0.482        0.866        0.342\n",
      "Linear SVM                  0.772        0.489        0.771        0.490\n",
      "RBF SVM                     0.771        0.524        0.770        0.526\n",
      "MLP                         0.750        0.647        0.867        0.308\n",
      "MLP stronger reg            0.781        0.477        0.783        0.477\n"
     ]
    }
   ],
   "source": [
    "#Print Result\n",
    "print('Classification performance on validation set: \\n')\n",
    "print(\"{0:<20s}   {1:-^25s}   {2:-^21s}\".format('','Validation', 'Training'))\n",
    "print(\"{0:<20s}{1:>13s}{2:>13s}{3:>13s}{4:>13s}\".format(\n",
    "    'Method', 'Accuracy\\u2191', 'log loss\\u2193',\n",
    "    'Accuracy\\u2191', 'log loss\\u2193'))\n",
    "print(\"-\"*(20+4*13))\n",
    "for clf in names:\n",
    "    print (\"{method:<20s}{val_accuracy:>13.3f}{val_log_loss:>13.3f}{train_accuracy:>13.3f}{train_log_loss:>13.3f}\".format(\n",
    "        method=clf, val_accuracy=ca_val_score[clf], val_log_loss=ce_val_score[clf],\n",
    "        train_accuracy=ca_train_score[clf], train_log_loss=ce_train_score[clf]))"
   ]
  },
  {
   "cell_type": "code",
   "execution_count": 23,
   "id": "ec4d1c0b",
   "metadata": {},
   "outputs": [
    {
     "name": "stdout",
     "output_type": "stream",
     "text": [
      "Classification performance on validation set: \n",
      "\n",
      "                       -------Validation--------   ------Training-------\n",
      "Method                 Precision↑      Recall↑   Precision↑      Recall↑\n",
      "------------------------------------------------------------------------\n",
      "Dummy, most frequent        0.000        0.000        0.000        0.000\n",
      "Gaussian Naive Bayes        0.428        0.484        0.412        0.470\n",
      "Random Forest               0.626        0.149        0.948        0.247\n",
      "Xgboost                     0.556        0.285        0.904        0.474\n",
      "Linear SVM                  0.815        0.021        0.734        0.016\n",
      "RBF SVM                     0.750        0.017        0.643        0.015\n",
      "MLP                         0.438        0.277        0.828        0.540\n",
      "MLP stronger reg            0.625        0.136        0.656        0.131\n"
     ]
    }
   ],
   "source": [
    "#Print Result\n",
    "print('Classification performance on validation set: \\n')\n",
    "print(\"{0:<20s}   {1:-^25s}   {2:-^21s}\".format('','Validation', 'Training'))\n",
    "print(\"{0:<20s}{1:>13s}{2:>13s}{3:>13s}{4:>13s}\".format(\n",
    "    'Method', 'Precision\\u2191', 'Recall\\u2191',\n",
    "    'Precision\\u2191', 'Recall\\u2191'))\n",
    "print(\"-\"*(20+4*13))\n",
    "for clf in names:\n",
    "    print (\"{method:<20s}{val_precision:>13.3f}{val_recall:>13.3f}{train_precision:>13.3f}{train_recall:>13.3f}\".format(\n",
    "        method=clf, val_precision=pr_val_score[clf], val_recall=re_val_score[clf],\n",
    "        train_precision=pr_train_score[clf], train_recall=re_train_score[clf]))"
   ]
  },
  {
   "cell_type": "code",
   "execution_count": 27,
   "id": "virgin-species",
   "metadata": {},
   "outputs": [],
   "source": [
    "import shap"
   ]
  },
  {
   "cell_type": "code",
   "execution_count": 49,
   "id": "aggregate-somewhere",
   "metadata": {},
   "outputs": [
    {
     "name": "stderr",
     "output_type": "stream",
     "text": [
      "ntree_limit is deprecated, use `iteration_range` or model slicing instead.\n"
     ]
    },
    {
     "data": {
      "image/png": "[encoded data removed]",
      "text/plain": [
       "<Figure size 576x684 with 1 Axes>"
      ]
     },
     "metadata": {
      "needs_background": "light"
     },
     "output_type": "display_data"
    }
   ],
   "source": [
    "explainer = shap.TreeExplainer(model)\n",
    "shap_values = explainer.shap_values(X_test)\n",
    "shap.summary_plot(shap_values, X_test, plot_type=\"bar\")"
   ]
  },
  {
   "cell_type": "code",
   "execution_count": null,
   "id": "8009c480",
   "metadata": {},
   "outputs": [],
   "source": []
  }
 ],
 "metadata": {
  "kernelspec": {
   "display_name": "Python 3",
   "language": "python",
   "name": "python3"
  },
  "language_info": {
   "codemirror_mode": {
    "name": "ipython",
    "version": 3
   },
   "file_extension": ".py",
   "mimetype": "text/x-python",
   "name": "python",
   "nbconvert_exporter": "python",
   "pygments_lexer": "ipython3",
   "version": "3.7.9"
  }
 },
 "nbformat": 4,
 "nbformat_minor": 5
}
