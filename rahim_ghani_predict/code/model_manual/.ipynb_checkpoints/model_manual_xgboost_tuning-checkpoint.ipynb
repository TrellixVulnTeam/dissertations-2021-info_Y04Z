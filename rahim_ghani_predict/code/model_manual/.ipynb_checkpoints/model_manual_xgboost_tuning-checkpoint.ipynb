{
 "cells": [
  {
   "cell_type": "code",
   "execution_count": 1,
   "id": "0b544fe1",
   "metadata": {},
   "outputs": [
    {
     "name": "stdout",
     "output_type": "stream",
     "text": [
      "Requirement already satisfied: sklearn in c:\\users\\abdul rahim ab ghani\\miniconda3\\lib\\site-packages (0.0)\n",
      "Requirement already satisfied: scikit-learn in c:\\users\\abdul rahim ab ghani\\miniconda3\\lib\\site-packages (from sklearn) (0.24.2)\n",
      "Requirement already satisfied: numpy>=1.13.3 in c:\\users\\abdul rahim ab ghani\\miniconda3\\lib\\site-packages (from scikit-learn->sklearn) (1.20.2)\n",
      "Requirement already satisfied: threadpoolctl>=2.0.0 in c:\\users\\abdul rahim ab ghani\\miniconda3\\lib\\site-packages (from scikit-learn->sklearn) (2.2.0)\n",
      "Requirement already satisfied: joblib>=0.11 in c:\\users\\abdul rahim ab ghani\\miniconda3\\lib\\site-packages (from scikit-learn->sklearn) (1.0.1)\n",
      "Requirement already satisfied: scipy>=0.19.1 in c:\\users\\abdul rahim ab ghani\\miniconda3\\lib\\site-packages (from scikit-learn->sklearn) (1.6.2)\n"
     ]
    }
   ],
   "source": [
    "!pip install sklearn"
   ]
  },
  {
   "cell_type": "code",
   "execution_count": 2,
   "id": "584e6fa5",
   "metadata": {
    "executionInfo": {
     "elapsed": 485,
     "status": "ok",
     "timestamp": 1627644473189,
     "user": {
      "displayName": "Abdul Rahim Ab Ghani",
      "photoUrl": "",
      "userId": "00278979136237245233"
     },
     "user_tz": -60
    },
    "id": "584e6fa5"
   },
   "outputs": [],
   "source": [
    "# #Import libraries:\n",
    "import pandas as pd\n",
    "import numpy as np\n",
    "import xgboost as xgb\n",
    "from xgboost.sklearn import XGBClassifier\n",
    "from sklearn import model_selection, metrics   #Additional scklearn functions\n",
    "from sklearn.model_selection import GridSearchCV   #Perforing grid search\n",
    "\n",
    "import matplotlib.pylab as plt\n",
    "%matplotlib inline\n",
    "from matplotlib.pylab import rcParams\n",
    "rcParams['figure.figsize'] = 12, 4\n",
    "\n",
    "data = pd.read_csv(r'D:\\msc-project\\from-github\\dissertations-2021-info\\rahim_ghani_predict\\data\\final\\features_with_outcome.csv',\n",
    "                   encoding='utf=8',\n",
    "                  index_col='org_uuid')\n",
    "target = 'outcome'"
   ]
  },
  {
   "cell_type": "code",
   "execution_count": 3,
   "id": "83957ee2",
   "metadata": {},
   "outputs": [],
   "source": [
    "from sklearn.model_selection import train_test_split\n",
    "\n",
    "y_data = data['outcome']\n",
    "X_data = data.drop(columns=['outcome'])\n",
    "\n",
    "X_train,X_test,y_train,y_test = train_test_split(X_data,y_data,stratify=y_data)"
   ]
  },
  {
   "cell_type": "code",
   "execution_count": 4,
   "id": "fefdb634",
   "metadata": {},
   "outputs": [],
   "source": [
    "train = pd.concat([X_train,y_train],axis=1)\n",
    "test = pd.concat([X_test,y_test],axis=1)"
   ]
  },
  {
   "cell_type": "code",
   "execution_count": 5,
   "id": "comfortable-particular",
   "metadata": {
    "executionInfo": {
     "elapsed": 468,
     "status": "ok",
     "timestamp": 1627644474795,
     "user": {
      "displayName": "Abdul Rahim Ab Ghani",
      "photoUrl": "",
      "userId": "00278979136237245233"
     },
     "user_tz": -60
    },
    "id": "comfortable-particular"
   },
   "outputs": [],
   "source": [
    "def modelfit(alg, dtrain, dtest, predictors,useTrainCV=True, cv_folds=5, early_stopping_rounds=50):\n",
    "    \n",
    "    if useTrainCV:\n",
    "        xgb_param = alg.get_xgb_params()\n",
    "        xgtrain = xgb.DMatrix(dtrain[predictors].values, label=dtrain[target].values)\n",
    "        cvresult = xgb.cv(xgb_param, xgtrain, num_boost_round=alg.get_params()['n_estimators'], nfold=cv_folds,\n",
    "            metrics='auc', early_stopping_rounds=early_stopping_rounds)\n",
    "        alg.set_params(n_estimators=cvresult.shape[0])\n",
    "    \n",
    "    #Fit the algorithm on the data\n",
    "    alg.fit(dtrain[predictors], dtrain['outcome'],eval_metric='auc')\n",
    "        \n",
    "    #Predict training set:\n",
    "    dtrain_predictions = alg.predict(dtrain[predictors])\n",
    "    dtest_predictions = alg.predict(dtest[predictors])\n",
    "    dtrain_predprob = alg.predict_proba(dtrain[predictors])[:,1]\n",
    "    dtest_predprob = alg.predict_proba(dtest[predictors])[:,1]\n",
    "        \n",
    "    #Print model report:\n",
    "    print (\"\\nModel Report\")\n",
    "    print (\"Training Accuracy : %.4g\" % metrics.accuracy_score(dtrain['outcome'].values, dtrain_predictions))\n",
    "    print (\"Test Accuracy : %.4g\" % metrics.accuracy_score(dtest['outcome'].values, dtest_predictions))\n",
    "    print (\"Training Precision : %.4g\" % metrics.precision_score(dtrain['outcome'].values, dtrain_predictions))\n",
    "    print (\"Test Precision : %.4g\" % metrics.precision_score(dtest['outcome'].values, dtest_predictions))\n",
    "    print (\"Training Recall : %.4g\" % metrics.recall_score(dtrain['outcome'].values, dtrain_predictions))\n",
    "    print (\"Test Recall : %.4g\" % metrics.recall_score(dtest['outcome'].values, dtest_predictions))\n",
    "    print (\"Training f1 : %.4g\" % metrics.f1_score(dtrain['outcome'].values, dtrain_predictions))\n",
    "    print (\"Test f1 : %.4g\" % metrics.f1_score(dtest['outcome'].values, dtest_predictions))\n",
    "    print (\"AUC Score (Train): %f\" % metrics.roc_auc_score(dtrain['outcome'], dtrain_predprob))\n",
    "    print (\"AUC Score (Test): %f\" % metrics.roc_auc_score(dtest['outcome'], dtest_predprob))\n",
    "    print (\"Training Set Confusion Matrix\\n\")\n",
    "    print (metrics.confusion_matrix(dtrain['outcome'],dtrain_predictions))\n",
    "    print (\"Test Set Confusion Matrix\\n\")\n",
    "    print (metrics.confusion_matrix(dtest['outcome'],dtest_predictions))\n",
    "                    \n",
    "    feat_imp = pd.Series(alg.feature_importances_,index=predictors).sort_values(ascending=False).nlargest(n=20)\n",
    "    feat_imp.plot(kind='bar', title='Feature Importances')\n",
    "    plt.ylabel('Feature Importance Score')"
   ]
  },
  {
   "cell_type": "code",
   "execution_count": 6,
   "id": "a2968283",
   "metadata": {},
   "outputs": [],
   "source": [
    "#specify parameters taken from autosklearn: Gradient boosting with f1 as target metric\n",
    "early_stop = 'valid'\n",
    "l2_regularization = 0.017722562473527163\n",
    "learning_rate = 0.04226227092427818\n",
    "loss = 'auto'\n",
    "max_bins = 255\n",
    "max_depth = None\n",
    "max_leaf_nodes = 15\n",
    "min_sample_leaf = 22\n",
    "scoring = 'loss'\n",
    "tol = 1**(-7)\n",
    "n_iter_no_change = 6"
   ]
  },
  {
   "cell_type": "code",
   "execution_count": 7,
   "id": "3cc03d50",
   "metadata": {},
   "outputs": [],
   "source": [
    "#Choose all predictors except target & IDcols\n",
    "predictors = [x for x in train.columns if x not in [target]]"
   ]
  },
  {
   "cell_type": "code",
   "execution_count": 8,
   "id": "e3bd6df6",
   "metadata": {
    "colab": {
     "base_uri": "https://localhost:8080/"
    },
    "executionInfo": {
     "elapsed": 11,
     "status": "ok",
     "timestamp": 1627644474800,
     "user": {
      "displayName": "Abdul Rahim Ab Ghani",
      "photoUrl": "",
      "userId": "00278979136237245233"
     },
     "user_tz": -60
    },
    "id": "e3bd6df6",
    "outputId": "35269cea-412a-4043-a614-4584021a1659"
   },
   "outputs": [
    {
     "name": "stderr",
     "output_type": "stream",
     "text": [
      "C:\\Users\\Abdul Rahim Ab Ghani\\miniconda3\\lib\\site-packages\\xgboost\\sklearn.py:1146: UserWarning: The use of label encoder in XGBClassifier is deprecated and will be removed in a future release. To remove this warning, do the following: 1) Pass option use_label_encoder=False when constructing XGBClassifier object; and 2) Encode your labels (y) as integers starting with 0, i.e. 0, 1, 2, ..., [num_class - 1].\n",
      "  warnings.warn(label_encoder_deprecation_msg, UserWarning)\n"
     ]
    },
    {
     "name": "stdout",
     "output_type": "stream",
     "text": [
      "\n",
      "Model Report\n",
      "Training Accuracy : 0.832\n",
      "Test Accuracy : 0.786\n",
      "Training Precision : 0.8369\n",
      "Test Precision : 0.5967\n",
      "Training Recall : 0.3421\n",
      "Test Recall : 0.2372\n",
      "Training f1 : 0.4856\n",
      "Test f1 : 0.3395\n",
      "AUC Score (Train): 0.831431\n",
      "AUC Score (Test): 0.755331\n",
      "Training Set Confusion Matrix\n",
      "\n",
      "[[16216   333]\n",
      " [ 3287  1709]]\n",
      "Test Set Confusion Matrix\n",
      "\n",
      "[[5250  267]\n",
      " [1270  395]]\n"
     ]
    },
    {
     "data": {
      "image/png": "[encoded data removed]",
      "text/plain": [
       "<Figure size 864x288 with 1 Axes>"
      ]
     },
     "metadata": {
      "needs_background": "light"
     },
     "output_type": "display_data"
    }
   ],
   "source": [
    "xgb1 = XGBClassifier(\n",
    "        learning_rate =learning_rate,\n",
    "        reg_lambda = l2_regularization,\n",
    "        max_depth=6,\n",
    "        min_child_weight=1,\n",
    "        n_estimators=1000,\n",
    "        gamma=0,\n",
    "        subsample=0.8,\n",
    "        colsample_bytree=0.8,\n",
    "        objective= 'binary:logistic',\n",
    "        nthread=4,\n",
    "        scale_pos_weight=1,\n",
    "        seed=27\n",
    ")\n",
    "\n",
    "modelfit(xgb1, train, test, predictors)"
   ]
  },
  {
   "cell_type": "code",
   "execution_count": null,
   "id": "ec5cf5a1",
   "metadata": {
    "executionInfo": {
     "elapsed": 10,
     "status": "ok",
     "timestamp": 1627644474800,
     "user": {
      "displayName": "Abdul Rahim Ab Ghani",
      "photoUrl": "",
      "userId": "00278979136237245233"
     },
     "user_tz": -60
    },
    "id": "ec5cf5a1"
   },
   "outputs": [],
   "source": [
    "#Tune scale_pos_weight\n",
    "param_test1 = {\n",
    "    'scale_pos_weight':range(0,10,2)    \n",
    "}\n",
    "gsearch1 = GridSearchCV(estimator = XGBClassifier(learning_rate =learning_rate,\n",
    "                                                reg_lambda = l2_regularization,\n",
    "                                                max_depth=6,\n",
    "                                                min_child_weight=1,\n",
    "                                                n_estimators=1000,\n",
    "                                                gamma=0,\n",
    "                                                subsample=0.8,\n",
    "                                                colsample_bytree=0.8,\n",
    "                                                objective= 'binary:logistic',\n",
    "                                                nthread=4,\n",
    "                                                scale_pos_weight=1,\n",
    "                                                seed=27), \n",
    "                        param_grid = param_test1, scoring='f1',n_jobs=4, cv=5)\n",
    "\n",
    "gsearch1.fit(train[predictors],train[target])\n",
    "\n",
    "print(pd.DataFrame(gsearch1.cv_results_))\n",
    "print(gsearch1.best_params_)\n",
    "print(gsearch1.best_score_)"
   ]
  },
  {
   "cell_type": "code",
   "execution_count": null,
   "id": "113342e1",
   "metadata": {
    "executionInfo": {
     "elapsed": 10,
     "status": "ok",
     "timestamp": 1627644474800,
     "user": {
      "displayName": "Abdul Rahim Ab Ghani",
      "photoUrl": "",
      "userId": "00278979136237245233"
     },
     "user_tz": -60
    },
    "id": "ec5cf5a1"
   },
   "outputs": [],
   "source": [
    "#Tune scale_pos_weight\n",
    "param_test1a = {\n",
    "    'scale_pos_weight':[3,4,5]    \n",
    "}\n",
    "gsearch1a = GridSearchCV(estimator = XGBClassifier(learning_rate =learning_rate,\n",
    "                                                reg_lambda = l2_regularization,\n",
    "                                                max_depth=6,\n",
    "                                                min_child_weight=1,\n",
    "                                                n_estimators=1000,\n",
    "                                                gamma=0,\n",
    "                                                subsample=0.8,\n",
    "                                                colsample_bytree=0.8,\n",
    "                                                objective= 'binary:logistic',\n",
    "                                                nthread=4,\n",
    "                                                scale_pos_weight=4,\n",
    "                                                seed=27), \n",
    "                        param_grid = param_test1a, scoring='f1',n_jobs=4, cv=5)\n",
    "\n",
    "gsearch1a.fit(train[predictors],train[target])\n",
    "\n",
    "print(pd.DataFrame(gsearch1a.cv_results_))\n",
    "print(gsearch1a.best_params_)\n",
    "print(gsearch1a.best_score_)"
   ]
  },
  {
   "cell_type": "code",
   "execution_count": null,
   "id": "1f678a4b",
   "metadata": {},
   "outputs": [],
   "source": [
    "param_test2 = {\n",
    " 'max_depth':range(0,10,2),\n",
    " 'min_child_weight':range (1,5,1)\n",
    "}\n",
    "\n",
    "gsearch2 = GridSearchCV(estimator = XGBClassifier(learning_rate=0.1, \n",
    "                                                  n_estimators=140, \n",
    "                                                  max_depth=9,\n",
    "                                                  min_child_weight=1, \n",
    "                                                  gamma=0, \n",
    "                                                  subsample=0.8, \n",
    "                                                  colsample_bytree=0.8,\n",
    "                                                  objective= 'binary:logistic', \n",
    "                                                  nthread=4, \n",
    "                                                  scale_pos_weight=4,\n",
    "                                                  seed=27), \n",
    "                        param_grid = param_test2, scoring='f1',n_jobs=4, cv=5)\n",
    "\n",
    "gsearch2.fit(train[predictors],train[target])\n",
    "\n",
    "print(pd.DataFrame(gsearch2.cv_results_))\n",
    "print(gsearch2.best_params_)\n",
    "print(gsearch2.best_score_)"
   ]
  },
  {
   "cell_type": "code",
   "execution_count": null,
   "id": "c590d63a",
   "metadata": {},
   "outputs": [],
   "source": [
    "param_test2a = {\n",
    "    'max_depth':[3,4,5],\n",
    "    'min_child_weight':[1,2,3]\n",
    "}\n",
    "\n",
    "gsearch2a = GridSearchCV(estimator = XGBClassifier(learning_rate=0.1, \n",
    "                                                  n_estimators=140, \n",
    "                                                  max_depth=4,\n",
    "                                                  min_child_weight=2, \n",
    "                                                  gamma=0, \n",
    "                                                  subsample=0.8, \n",
    "                                                  colsample_bytree=0.8,\n",
    "                                                  objective= 'binary:logistic', \n",
    "                                                  nthread=4, \n",
    "                                                  scale_pos_weight=4,\n",
    "                                                  seed=27), \n",
    "                        param_grid = param_test2a, scoring='f1',n_jobs=4, cv=5)\n",
    "\n",
    "gsearch2a.fit(train[predictors],train[target])\n",
    "\n",
    "print(pd.DataFrame(gsearch2a.cv_results_))\n",
    "print(gsearch2a.best_params_)\n",
    "print(gsearch2a.best_score_)"
   ]
  },
  {
   "cell_type": "code",
   "execution_count": null,
   "id": "31b8e46d",
   "metadata": {},
   "outputs": [],
   "source": [
    "xgb2 = XGBClassifier(\n",
    "        learning_rate =learning_rate,\n",
    "        reg_lambda = l2_regularization,\n",
    "        max_depth=4,\n",
    "        min_child_weight=2,\n",
    "        n_estimators=1000,\n",
    "        gamma=0,\n",
    "        subsample=0.8,\n",
    "        colsample_bytree=0.8,\n",
    "        objective= 'binary:logistic',\n",
    "        nthread=4,\n",
    "        scale_pos_weight=4,\n",
    "        seed=27\n",
    ")\n",
    "\n",
    "modelfit(xgb2, train, test, predictors)"
   ]
  },
  {
   "cell_type": "code",
   "execution_count": null,
   "id": "301f1b00",
   "metadata": {},
   "outputs": [],
   "source": [
    "param_test3 = {\n",
    " 'gamma':[i/10.0 for i in range(0,5)]\n",
    "}\n",
    "\n",
    "gsearch3 = GridSearchCV(estimator = XGBClassifier(learning_rate=0.1, \n",
    "                                                  n_estimators=1000, \n",
    "                                                  max_depth=4,\n",
    "                                                  min_child_weight=2, \n",
    "                                                  gamma=0, \n",
    "                                                  subsample=0.8, \n",
    "                                                  colsample_bytree=0.8,\n",
    "                                                  objective= 'binary:logistic', \n",
    "                                                  nthread=4, \n",
    "                                                  scale_pos_weight=4,\n",
    "                                                  seed=27), \n",
    "                        param_grid = param_test3, scoring='f1',n_jobs=4, cv=5)\n",
    "\n",
    "gsearch3.fit(train[predictors],train[target])\n",
    "\n",
    "print(pd.DataFrame(gsearch3.cv_results_))\n",
    "print(gsearch3.best_params_)\n",
    "print(gsearch3.best_score_)"
   ]
  },
  {
   "cell_type": "code",
   "execution_count": null,
   "id": "8cb8c2c5",
   "metadata": {},
   "outputs": [],
   "source": [
    "param_test3a = {\n",
    " 'gamma':[i/100.0 for i in range(20,30)]\n",
    "}\n",
    "\n",
    "gsearch3a = GridSearchCV(estimator = XGBClassifier(learning_rate=0.1, \n",
    "                                                  n_estimators=1000, \n",
    "                                                  max_depth=4,\n",
    "                                                  min_child_weight=2, \n",
    "                                                  gamma=0.2, \n",
    "                                                  subsample=0.8, \n",
    "                                                  colsample_bytree=0.8,\n",
    "                                                  objective= 'binary:logistic', \n",
    "                                                  nthread=4, \n",
    "                                                  scale_pos_weight=4,\n",
    "                                                  seed=27), \n",
    "                        param_grid = param_test3a, scoring='f1',n_jobs=4, cv=5)\n",
    "\n",
    "gsearch3a.fit(train[predictors],train[target])\n",
    "\n",
    "print(pd.DataFrame(gsearch3a.cv_results_))\n",
    "print(gsearch3a.best_params_)\n",
    "print(gsearch3a.best_score_)"
   ]
  },
  {
   "cell_type": "code",
   "execution_count": null,
   "id": "4e615d8f",
   "metadata": {},
   "outputs": [],
   "source": [
    "param_test3b = {\n",
    " 'gamma':[i/100.0 for i in range(10,20)]\n",
    "}\n",
    "\n",
    "gsearch3b = GridSearchCV(estimator = XGBClassifier(learning_rate=0.1, \n",
    "                                                  n_estimators=140, \n",
    "                                                  max_depth=4,\n",
    "                                                  min_child_weight=2, \n",
    "                                                  gamma=0.2, \n",
    "                                                  subsample=0.8, \n",
    "                                                  colsample_bytree=0.8,\n",
    "                                                  objective= 'binary:logistic', \n",
    "                                                  nthread=4, \n",
    "                                                  scale_pos_weight=4,\n",
    "                                                  seed=27), \n",
    "                        param_grid = param_test3b, scoring='f1',n_jobs=4, cv=5)\n",
    "\n",
    "gsearch3b.fit(train[predictors],train[target])\n",
    "\n",
    "print(pd.DataFrame(gsearch3b.cv_results_))\n",
    "print(gsearch3b.best_params_)\n",
    "print(gsearch3b.best_score_)"
   ]
  },
  {
   "cell_type": "code",
   "execution_count": null,
   "id": "96e3a601",
   "metadata": {},
   "outputs": [],
   "source": [
    "param_test4 = {\n",
    " 'subsample':[i/10.0 for i in range(6,10)],\n",
    " 'colsample_bytree':[i/10.0 for i in range(6,10)]\n",
    "}\n",
    "\n",
    "gsearch4 = GridSearchCV(estimator = XGBClassifier(learning_rate=0.1, \n",
    "                                                  n_estimators=140, \n",
    "                                                  max_depth=4,\n",
    "                                                  min_child_weight=2, \n",
    "                                                  gamma=0.13, \n",
    "                                                  subsample=0.8, \n",
    "                                                  colsample_bytree=0.8,\n",
    "                                                  objective= 'binary:logistic', \n",
    "                                                  nthread=4, \n",
    "                                                  scale_pos_weight=4,\n",
    "                                                  seed=27), \n",
    "                        param_grid = param_test4, scoring='f1',n_jobs=4, cv=5)\n",
    "\n",
    "gsearch4.fit(train[predictors],train[target])\n",
    "\n",
    "print(pd.DataFrame(gsearch4.cv_results_))\n",
    "print(gsearch4.best_params_)\n",
    "print(gsearch4.best_score_)"
   ]
  },
  {
   "cell_type": "code",
   "execution_count": null,
   "id": "2059d9d7",
   "metadata": {},
   "outputs": [],
   "source": [
    "param_test4a = {\n",
    " 'colsample_bytree':[i/100.0 for i in range(80,90)]\n",
    "}\n",
    "\n",
    "gsearch4a = GridSearchCV(estimator = XGBClassifier(learning_rate=0.1, \n",
    "                                                  n_estimators=140, \n",
    "                                                  max_depth=4,\n",
    "                                                  min_child_weight=2, \n",
    "                                                  gamma=0.13, \n",
    "                                                  subsample=0.9, \n",
    "                                                  colsample_bytree=0.9,\n",
    "                                                  objective= 'binary:logistic', \n",
    "                                                  nthread=4, \n",
    "                                                  scale_pos_weight=4,\n",
    "                                                  seed=27), \n",
    "                        param_grid = param_test4a, scoring='f1',n_jobs=4, cv=5)\n",
    "\n",
    "gsearch4a.fit(train[predictors],train[target])\n",
    "\n",
    "print(pd.DataFrame(gsearch4a.cv_results_))\n",
    "print(gsearch4a.best_params_)\n",
    "print(gsearch4a.best_score_)"
   ]
  },
  {
   "cell_type": "code",
   "execution_count": null,
   "id": "d7a9badb",
   "metadata": {},
   "outputs": [],
   "source": [
    "param_test5 = {\n",
    " 'reg_alpha':[0, 0.001, 0.005, 0.01, 0.05]\n",
    "}\n",
    "\n",
    "gsearch5 = GridSearchCV(estimator = XGBClassifier(learning_rate=0.1, \n",
    "                                                  n_estimators=140, \n",
    "                                                  max_depth=4,\n",
    "                                                  min_child_weight=2, \n",
    "                                                  gamma=0.13, \n",
    "                                                  subsample=0.9, \n",
    "                                                  colsample_bytree=0.87,\n",
    "                                                  objective= 'binary:logistic', \n",
    "                                                  nthread=4, \n",
    "                                                  scale_pos_weight=4,\n",
    "                                                  seed=27), \n",
    "                        param_grid = param_test5, scoring='f1',n_jobs=4, cv=5)\n",
    "\n",
    "gsearch5.fit(train[predictors],train[target])\n",
    "\n",
    "print(pd.DataFrame(gsearch5.cv_results_))\n",
    "print(gsearch5.best_params_)\n",
    "print(gsearch5.best_score_)"
   ]
  },
  {
   "cell_type": "code",
   "execution_count": 7,
   "id": "1faa1146",
   "metadata": {},
   "outputs": [
    {
     "name": "stderr",
     "output_type": "stream",
     "text": [
      "C:\\Users\\Abdul Rahim Ab Ghani\\miniconda3\\lib\\site-packages\\xgboost\\sklearn.py:1146: UserWarning: The use of label encoder in XGBClassifier is deprecated and will be removed in a future release. To remove this warning, do the following: 1) Pass option use_label_encoder=False when constructing XGBClassifier object; and 2) Encode your labels (y) as integers starting with 0, i.e. 0, 1, 2, ..., [num_class - 1].\n",
      "  warnings.warn(label_encoder_deprecation_msg, UserWarning)\n"
     ]
    },
    {
     "name": "stdout",
     "output_type": "stream",
     "text": [
      "\n",
      "Model Report\n",
      "Training Accuracy : 0.7071\n",
      "Test Accuracy : 0.6688\n",
      "Training Precision : 0.4269\n",
      "Test Precision : 0.3845\n",
      "Training Recall : 0.7682\n",
      "Test Recall : 0.7135\n",
      "Training f1 : 0.5488\n",
      "Test f1 : 0.4997\n",
      "AUC Score (Train): 0.808713\n",
      "AUC Score (Test): 0.751538\n",
      "Training Set Confusion Matrix\n",
      "\n",
      "[[11396  5153]\n",
      " [ 1158  3838]]\n",
      "Test Set Confusion Matrix\n",
      "\n",
      "[[3615 1902]\n",
      " [ 477 1188]]\n"
     ]
    },
    {
     "data": {
      "image/png": "[encoded data removed]",
      "text/plain": [
       "<Figure size 864x288 with 1 Axes>"
      ]
     },
     "metadata": {
      "needs_background": "light"
     },
     "output_type": "display_data"
    }
   ],
   "source": [
    "xgb3 = XGBClassifier(\n",
    "        learning_rate =learning_rate,\n",
    "        reg_lambda = l2_regularization,\n",
    "        reg_alpha = 0.005,\n",
    "        max_depth=4,\n",
    "        min_child_weight=2,\n",
    "        n_estimators=1000,\n",
    "        gamma=0.13,\n",
    "        subsample=0.9,\n",
    "        colsample_bytree=0.87,\n",
    "        objective= 'binary:logistic',\n",
    "        nthread=4,\n",
    "        scale_pos_weight=4,\n",
    "        seed=27\n",
    ")\n",
    "\n",
    "modelfit(xgb3, train, test, predictors)"
   ]
  },
  {
   "cell_type": "code",
   "execution_count": null,
   "id": "584ab951",
   "metadata": {},
   "outputs": [],
   "source": [
    "param_test7 = {\n",
    " 'reg_lambda':[0,0.5,1,1.5,2.0]\n",
    "}\n",
    "\n",
    "gsearch7 = GridSearchCV(estimator = XGBClassifier(learning_rate =learning_rate,\n",
    "                                                    reg_lambda = 1,\n",
    "                                                    reg_alpha = 0.005,\n",
    "                                                    max_depth=4,\n",
    "                                                    min_child_weight=2,\n",
    "                                                    n_estimators=1000,\n",
    "                                                    gamma=0.13,\n",
    "                                                    subsample=0.9,\n",
    "                                                    colsample_bytree=0.87,\n",
    "                                                    objective= 'binary:logistic',\n",
    "                                                    nthread=4,\n",
    "                                                    scale_pos_weight=4,\n",
    "                                                    seed=27), \n",
    "                        param_grid = param_test7, scoring='f1',n_jobs=4, cv=5)\n",
    "\n",
    "gsearch7.fit(train[predictors],train[target])\n",
    "\n",
    "print(pd.DataFrame(gsearch7.cv_results_))\n",
    "print(gsearch7.best_params_)\n",
    "print(gsearch7.best_score_)"
   ]
  },
  {
   "cell_type": "code",
   "execution_count": null,
   "id": "39d51a7c",
   "metadata": {},
   "outputs": [],
   "source": [
    "param_test7a = {\n",
    " 'reg_lambda':[1.8,1.9,2.0,2.1,2.2]\n",
    "}\n",
    "\n",
    "gsearch7a = GridSearchCV(estimator = XGBClassifier(learning_rate =learning_rate,\n",
    "                                                    reg_lambda = 2.0,\n",
    "                                                    reg_alpha = 0.005,\n",
    "                                                    max_depth=4,\n",
    "                                                    min_child_weight=2,\n",
    "                                                    n_estimators=1000,\n",
    "                                                    gamma=0.13,\n",
    "                                                    subsample=0.9,\n",
    "                                                    colsample_bytree=0.87,\n",
    "                                                    objective= 'binary:logistic',\n",
    "                                                    nthread=4,\n",
    "                                                    scale_pos_weight=4,\n",
    "                                                    seed=27,\n",
    "                                                      max_delta_step=1), \n",
    "                        param_grid = param_test7a, scoring='f1',n_jobs=4, cv=5)\n",
    "\n",
    "gsearch7a.fit(train[predictors],train[target])\n",
    "\n",
    "print(pd.DataFrame(gsearch7a.cv_results_))\n",
    "print(gsearch7a.best_params_)\n",
    "print(gsearch7a.best_score_)"
   ]
  },
  {
   "cell_type": "code",
   "execution_count": null,
   "id": "37a0786d",
   "metadata": {},
   "outputs": [],
   "source": [
    "xgb4 = XGBClassifier(\n",
    "        learning_rate =learning_rate,\n",
    "        n_estimators=1000,\n",
    "        reg_alpha = 0.005,\n",
    "        reg_lambda = 1.8,\n",
    "        max_depth=4,\n",
    "        min_child_weight=2,\n",
    "        gamma=0.13,\n",
    "        subsample=0.9,\n",
    "        colsample_bytree=0.87,\n",
    "        objective= 'binary:logistic',\n",
    "        nthread=4,\n",
    "        scale_pos_weight=4,\n",
    "        seed=27,\n",
    "        max_delta_step=1,\n",
    ")\n",
    "\n",
    "modelfit(xgb4, train, test, predictors)"
   ]
  },
  {
   "cell_type": "code",
   "execution_count": null,
   "id": "7d170429",
   "metadata": {},
   "outputs": [],
   "source": [
    "xgb5 = XGBClassifier(\n",
    "        learning_rate =0.01,\n",
    "        n_estimators=5000,\n",
    "        reg_lambda = 1.8,\n",
    "        reg_alpha = 0.005,\n",
    "        max_depth=4,\n",
    "        min_child_weight=2,\n",
    "        gamma=0.13,\n",
    "        subsample=0.9,\n",
    "        colsample_bytree=0.87,\n",
    "        objective= 'binary:logistic',\n",
    "        nthread=4,\n",
    "        scale_pos_weight=4,\n",
    "        seed=27,\n",
    "        max_delta_step=1,\n",
    ")\n",
    "\n",
    "modelfit(xgb5, train, test, predictors)"
   ]
  }
 ],
 "metadata": {
  "colab": {
   "collapsed_sections": [],
   "name": "model_normal.ipynb",
   "provenance": []
  },
  "kernelspec": {
   "display_name": "Python 3",
   "language": "python",
   "name": "python3"
  },
  "language_info": {
   "codemirror_mode": {
    "name": "ipython",
    "version": 3
   },
   "file_extension": ".py",
   "mimetype": "text/x-python",
   "name": "python",
   "nbconvert_exporter": "python",
   "pygments_lexer": "ipython3",
   "version": "3.7.9"
  }
 },
 "nbformat": 4,
 "nbformat_minor": 5
}
