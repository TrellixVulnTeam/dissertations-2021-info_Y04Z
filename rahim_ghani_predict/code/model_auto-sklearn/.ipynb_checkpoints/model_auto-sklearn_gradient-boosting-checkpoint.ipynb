{
 "cells": [
  {
   "cell_type": "code",
   "execution_count": null,
   "metadata": {
    "id": "ZHsPkICZ5ybv"
   },
   "outputs": [],
   "source": [
    " with!pip3 install auto-sklearn"
   ]
  },
  {
   "cell_type": "code",
   "execution_count": null,
   "metadata": {
    "id": "5yHG_EuS5psd"
   },
   "outputs": [],
   "source": [
    "%matplotlib inline"
   ]
  },
  {
   "cell_type": "code",
   "execution_count": null,
   "metadata": {
    "id": "NCv5Mc_95psi"
   },
   "outputs": [],
   "source": [
    "import autosklearn.classification\n",
    "import numpy as np\n",
    "import pandas as pd\n",
    "import sklearn.metrics\n",
    "from autosklearn.metrics import accuracy, balanced_accuracy, precision, recall, f1, roc_auc"
   ]
  },
  {
   "cell_type": "markdown",
   "metadata": {
    "id": "705RzKmaAwYl"
   },
   "source": [
    "# Define Score Function\n"
   ]
  },
  {
   "cell_type": "code",
   "execution_count": null,
   "metadata": {
    "id": "LAzX2dZYAsc-"
   },
   "outputs": [],
   "source": [
    "def error(solution, prediction):\n",
    "    # custom function defining error\n",
    "    return np.mean(solution != prediction)\n",
    "\n",
    "def get_metric_result(cv_results):\n",
    "    results = pd.DataFrame.from_dict(cv_results)\n",
    "    results = results[results['status'] == \"Success\"]\n",
    "    cols = ['rank_test_scores', 'param_classifier:__choice__', 'mean_test_score']\n",
    "    cols.extend([key for key in cv_results.keys() if key.startswith('metric_')])\n",
    "    return results[cols]\n",
    "\n",
    "error_rate = autosklearn.metrics.make_scorer(\n",
    "    name='custom_error',\n",
    "    score_func=error,\n",
    "    optimum=0,\n",
    "    greater_is_better=False,\n",
    "    needs_proba=False,\n",
    "    needs_threshold=False\n",
    ")"
   ]
  },
  {
   "cell_type": "code",
   "execution_count": null,
   "metadata": {
    "id": "5xzYk1UDLRxA"
   },
   "outputs": [],
   "source": [
    "#define show result function\n",
    "def evaluate_model(model):\n",
    "\n",
    "  y_test_predict = model.predict(X_test)\n",
    "  y_test_predict_proba = model.predict_proba(X_test)\n",
    "  print(\"Accuracy score: \", sklearn.metrics.accuracy_score(y_test, y_test_predict))\n",
    "  print('Balanced Accuracy Score: ', sklearn.metrics.balanced_accuracy_score(y_test,y_test_predict))\n",
    "  print (\"Log Loss: \", sklearn.metrics.log_loss(y_test, y_test_predict_proba))\n",
    "  print(\"Precision Score: \", sklearn.metrics.precision_score(y_test, y_test_predict))\n",
    "  print(\"Recall Score: : \", sklearn.metrics.recall_score(y_test, y_test_predict))\n",
    "  print(\"F1 Score: \", sklearn.metrics.f1_score(y_test, y_test_predict))\n",
    "  print(\"F1 (beta=2) Score: \", sklearn.metrics.fbeta_score(y_test, y_test_predict,beta=2))\n",
    "  print(\"ROC Auc Score: \", sklearn.metrics.roc_auc_score(y_test, model.predict_proba(X_test)[:, 1]))\n",
    "  print ('Confusion Matrix: \\n', sklearn.metrics.confusion_matrix (y_test,y_test_predict))\n",
    "\n",
    "  print(\"#\" * 80)\n",
    "  print(\"Metric results\")\n",
    "  print(get_metric_result(model.cv_results_).to_string(index=False))\n",
    "\n",
    "  print(model.leaderboard())\n",
    "  print(model.sprint_statistics())\n",
    "  print(model.show_models())\n",
    "  print(model.get_models_with_weights())"
   ]
  },
  {
   "cell_type": "markdown",
   "metadata": {
    "id": "AYqqLR6P5psi"
   },
   "source": [
    "## Data Loading\n",
    "\n"
   ]
  },
  {
   "cell_type": "code",
   "execution_count": null,
   "metadata": {
    "colab": {
     "base_uri": "https://localhost:8080/"
    },
    "executionInfo": {
     "elapsed": 1472,
     "status": "ok",
     "timestamp": 1627795951966,
     "user": {
      "displayName": "Abdul Rahim Ab Ghani",
      "photoUrl": "",
      "userId": "00278979136237245233"
     },
     "user_tz": -60
    },
    "id": "o3gFC7pr5psj",
    "outputId": "75d1f92d-9b38-404c-d5a3-008fb09f5b30"
   },
   "outputs": [
    {
     "name": "stdout",
     "output_type": "stream",
     "text": [
      "Mounted at /content/drive\n"
     ]
    }
   ],
   "source": [
    "from google.colab import drive\n",
    "drive.mount('/content/drive', force_remount=True)\n",
    "\n",
    "#import all data\n",
    "data = pd.read_csv(r'/content/drive/MyDrive/msc-project-data/features_with_outcome.csv',encoding='utf=8')\n",
    "\n",
    "y_data = data['outcome']\n",
    "X_data = data.drop(columns = ['org_uuid','outcome'])\n",
    "\n",
    "#splitting data into test and full training set\n",
    "from sklearn.model_selection import train_test_split\n",
    "\n",
    "X_train, X_test, y_train, y_test = train_test_split(X_data,y_data, test_size = 0.2,stratify=y_data)"
   ]
  },
  {
   "cell_type": "markdown",
   "metadata": {
    "id": "A6GgCJ2gfYJW"
   },
   "source": [
    "# Print a list of available Classifier"
   ]
  },
  {
   "cell_type": "code",
   "execution_count": null,
   "metadata": {
    "colab": {
     "base_uri": "https://localhost:8080/"
    },
    "executionInfo": {
     "elapsed": 3,
     "status": "ok",
     "timestamp": 1627795954461,
     "user": {
      "displayName": "Abdul Rahim Ab Ghani",
      "photoUrl": "",
      "userId": "00278979136237245233"
     },
     "user_tz": -60
    },
    "id": "Yzj3YToIfb8G",
    "outputId": "d0516838-7311-49d4-d604-5efc890ba39d"
   },
   "outputs": [
    {
     "name": "stdout",
     "output_type": "stream",
     "text": [
      "adaboost\n",
      "bernoulli_nb\n",
      "decision_tree\n",
      "extra_trees\n",
      "gaussian_nb\n",
      "gradient_boosting\n",
      "k_nearest_neighbors\n",
      "lda\n",
      "liblinear_svc\n",
      "libsvm_svc\n",
      "mlp\n",
      "multinomial_nb\n",
      "passive_aggressive\n",
      "qda\n",
      "random_forest\n",
      "sgd\n"
     ]
    }
   ],
   "source": [
    "import autosklearn.pipeline.components.classification\n",
    "for name in autosklearn.pipeline.components.classification.ClassifierChoice.get_components():\n",
    "    print(name)"
   ]
  },
  {
   "cell_type": "markdown",
   "metadata": {
    "id": "DOhovElQAe0y"
   },
   "source": [
    "## Print a list of available metrics"
   ]
  },
  {
   "cell_type": "code",
   "execution_count": null,
   "metadata": {
    "colab": {
     "base_uri": "https://localhost:8080/"
    },
    "executionInfo": {
     "elapsed": 186,
     "status": "ok",
     "timestamp": 1627795955907,
     "user": {
      "displayName": "Abdul Rahim Ab Ghani",
      "photoUrl": "",
      "userId": "00278979136237245233"
     },
     "user_tz": -60
    },
    "id": "sbx0xtTfAePX",
    "outputId": "efa4a6ee-f198-40b1-e477-48d0e61c81af"
   },
   "outputs": [
    {
     "name": "stdout",
     "output_type": "stream",
     "text": [
      "Available CLASSIFICATION metrics autosklearn.metrics.*:\n",
      "\t*accuracy\n",
      "\t*balanced_accuracy\n",
      "\t*roc_auc\n",
      "\t*average_precision\n",
      "\t*log_loss\n",
      "\t*precision\n",
      "\t*precision_macro\n",
      "\t*precision_micro\n",
      "\t*precision_samples\n",
      "\t*precision_weighted\n",
      "\t*recall\n",
      "\t*recall_macro\n",
      "\t*recall_micro\n",
      "\t*recall_samples\n",
      "\t*recall_weighted\n",
      "\t*f1\n",
      "\t*f1_macro\n",
      "\t*f1_micro\n",
      "\t*f1_samples\n",
      "\t*f1_weighted\n"
     ]
    }
   ],
   "source": [
    "print(\"Available CLASSIFICATION metrics autosklearn.metrics.*:\")\n",
    "print(\"\\t*\" + \"\\n\\t*\".join(autosklearn.metrics.CLASSIFICATION_METRICS))"
   ]
  },
  {
   "cell_type": "markdown",
   "metadata": {
    "id": "bo49XYIy5psk"
   },
   "source": [
    "## Build and fit a classifier - gradient boosting - with no target metric\n",
    "\n"
   ]
  },
  {
   "cell_type": "code",
   "execution_count": null,
   "metadata": {
    "id": "YUeV_mLqAdRn"
   },
   "outputs": [],
   "source": [
    "#set up classifier, set no target metric\n",
    "automl = autosklearn.classification.AutoSklearnClassifier(\n",
    "    time_left_for_this_task=3600,\n",
    "    #per_run_time_limit=720,\n",
    "    include_estimators =['gradient_boosting'],\n",
    "    resampling_strategy ='cv',\n",
    "    resampling_strategy_arguments={'folds': 5},\n",
    "    ensemble_size=1,\n",
    "    include_preprocessors = ['no_preprocessing'],\n",
    "    scoring_functions=[accuracy, balanced_accuracy, precision, recall, f1, error_rate, roc_auc],\n",
    "    #metric=autosklearn.metrics.recall\n",
    ")"
   ]
  },
  {
   "cell_type": "code",
   "execution_count": null,
   "metadata": {
    "id": "P9FHkxJPAZpY"
   },
   "outputs": [],
   "source": [
    "#fit classifier\n",
    "automl.fit(X_train, y_train, X_test, y_test)"
   ]
  },
  {
   "cell_type": "code",
   "execution_count": null,
   "metadata": {
    "colab": {
     "base_uri": "https://localhost:8080/"
    },
    "executionInfo": {
     "elapsed": 2172,
     "status": "ok",
     "timestamp": 1627816320470,
     "user": {
      "displayName": "Abdul Rahim Ab Ghani",
      "photoUrl": "",
      "userId": "00278979136237245233"
     },
     "user_tz": -60
    },
    "id": "3-VziovT5psl",
    "outputId": "f70dd596-05ea-4f8e-ac38-6919d5db3029"
   },
   "outputs": [
    {
     "name": "stdout",
     "output_type": "stream",
     "text": [
      "Accuracy score:  0.7868082144100244\n",
      "Balanced Accuracy Score:  0.5902261572855139\n",
      "Log Loss:  0.46595426571772963\n",
      "Precision Score:  0.6094069529652352\n",
      "Recall Score: :  0.22372372372372373\n",
      "F1 Score:  0.32729269632070296\n",
      "F1 (beta=2) Score:  0.2561457796114836\n",
      "ROC Auc Score:  0.7529379458751909\n",
      "Confusion Matrix: \n",
      " [[4223  191]\n",
      " [1034  298]]\n",
      "################################################################################\n",
      "Metric results\n",
      " rank_test_scores param_classifier:__choice__  mean_test_score  metric_accuracy  metric_balanced_accuracy  metric_precision  metric_recall  metric_f1  metric_custom_error  metric_roc_auc\n",
      "               14           gradient_boosting         0.781037         0.781037                  0.608892          0.553432       0.287860   0.378663             0.218963        0.731817\n",
      "                4           gradient_boosting         0.789870         0.789870                  0.591453          0.634466       0.221429   0.328150             0.210130        0.754460\n",
      "               31           gradient_boosting         0.701144         0.701144                  0.665291          0.402857       0.598427   0.481465             0.298856        0.727623\n",
      "               19           gradient_boosting         0.768548         0.768548                  0.607575          0.501445       0.307379   0.381096             0.231452        0.700774\n",
      "               26           gradient_boosting         0.721204         0.721204                  0.656406          0.420613       0.535562   0.471111             0.278796        0.720705\n",
      "               30           gradient_boosting         0.708803         0.708803                  0.689598          0.418253       0.653782   0.510131             0.291197        0.754455\n",
      "               23           gradient_boosting         0.746791         0.746791                  0.632910          0.450717       0.420534   0.435016             0.253209        0.697135\n",
      "               10           gradient_boosting         0.786693         0.786693                  0.609167          0.584454       0.278101   0.376819             0.213307        0.743931\n",
      "                3           gradient_boosting         0.790392         0.790392                  0.604698          0.614112       0.258399   0.363714             0.209608        0.753654\n",
      "               22           gradient_boosting         0.755494         0.755494                  0.602024          0.460183       0.315821   0.374464             0.244506        0.685388\n",
      "               33           gradient_boosting         0.692877         0.692877                  0.681719          0.401613       0.660911   0.499581             0.307123        0.747999\n",
      "               16           gradient_boosting         0.778991         0.778991                  0.609460          0.543730       0.293303   0.381029             0.221009        0.730087\n",
      "                8           gradient_boosting         0.787433         0.787433                  0.609846          0.587825       0.278666   0.378078             0.212567        0.745370\n",
      "                7           gradient_boosting         0.788129         0.788129                  0.600343          0.604976       0.250142   0.353818             0.211871        0.752533\n",
      "               20           gradient_boosting         0.765371         0.765371                  0.608650          0.491246       0.316383   0.384811             0.234629        0.700696\n",
      "               11           gradient_boosting         0.786519         0.786519                  0.575910          0.638926       0.183148   0.284346             0.213481        0.750376\n",
      "               28           gradient_boosting         0.710413         0.710413                  0.681999          0.417437       0.629011   0.501823             0.289587        0.748559\n",
      "                5           gradient_boosting         0.789304         0.789304                  0.594098          0.624128       0.230062   0.336069             0.210696        0.754927\n",
      "                2           gradient_boosting         0.791001         0.791001                  0.606143          0.616417       0.261403   0.367058             0.208999        0.753977\n",
      "                1           gradient_boosting         0.791219         0.791219                  0.597376          0.634003       0.235880   0.343781             0.208781        0.755082\n",
      "               21           gradient_boosting         0.761760         0.761760                  0.590514          0.476015       0.271159   0.345435             0.238240        0.693610\n",
      "               18           gradient_boosting         0.774683         0.774683                  0.603709          0.526288       0.284859   0.369584             0.225317        0.719394\n",
      "                9           gradient_boosting         0.786737         0.786737                  0.584763          0.618258       0.208106   0.310894             0.213263        0.748095\n",
      "               32           gradient_boosting         0.694965         0.694965                  0.683733          0.403942       0.662788   0.501947             0.305035        0.749445\n",
      "               27           gradient_boosting         0.714025         0.714025                  0.656120          0.412278       0.548135   0.470579             0.285975        0.720687\n",
      "               15           gradient_boosting         0.779644         0.779644                  0.570781          0.578864       0.181275   0.275796             0.220356        0.723702\n",
      "               25           gradient_boosting         0.722162         0.722162                  0.651526          0.419960       0.519797   0.464569             0.277838        0.713719\n",
      "               29           gradient_boosting         0.710065         0.710065                  0.670049          0.413151       0.595423   0.487802             0.289935        0.738748\n",
      "               13           gradient_boosting         0.783691         0.783691                  0.557694          0.664656       0.136235   0.226008             0.216309        0.738564\n",
      "               12           gradient_boosting         0.785344         0.785344                  0.602067          0.583476       0.260275   0.359948             0.214656        0.744948\n",
      "               24           gradient_boosting         0.744746         0.744746                  0.605182          0.436359       0.344909   0.385081             0.255254        0.687390\n",
      "                6           gradient_boosting         0.788782         0.788782                  0.586095          0.636172       0.208106   0.313508             0.211218        0.752364\n",
      "               17           gradient_boosting         0.775989         0.775989                  0.609143          0.530249       0.297993   0.381535             0.224011        0.720292\n",
      "          rank  ensemble_weight               type      cost   duration\n",
      "model_id                                                               \n",
      "21           1              1.0  gradient_boosting  0.208781  52.370739\n",
      "auto-sklearn results:\n",
      "  Dataset name: f371fd94-f2af-11eb-92a7-0242ac1c0002\n",
      "  Metric: accuracy\n",
      "  Best validation score: 0.791219\n",
      "  Number of target algorithm runs: 36\n",
      "  Number of successful target algorithm runs: 33\n",
      "  Number of crashed target algorithm runs: 0\n",
      "  Number of target algorithms that exceeded the time limit: 3\n",
      "  Number of target algorithms that exceeded the memory limit: 0\n",
      "\n",
      "[(1.000000, SimpleClassificationPipeline({'balancing:strategy': 'none', 'classifier:__choice__': 'gradient_boosting', 'data_preprocessing:categorical_transformer:categorical_encoding:__choice__': 'one_hot_encoding', 'data_preprocessing:categorical_transformer:category_coalescence:__choice__': 'minority_coalescer', 'data_preprocessing:numerical_transformer:imputation:strategy': 'most_frequent', 'data_preprocessing:numerical_transformer:rescaling:__choice__': 'power_transformer', 'feature_preprocessor:__choice__': 'no_preprocessing', 'classifier:gradient_boosting:early_stop': 'train', 'classifier:gradient_boosting:l2_regularization': 1.2979542131507469e-09, 'classifier:gradient_boosting:learning_rate': 0.055296913656149534, 'classifier:gradient_boosting:loss': 'auto', 'classifier:gradient_boosting:max_bins': 255, 'classifier:gradient_boosting:max_depth': 'None', 'classifier:gradient_boosting:max_leaf_nodes': 6, 'classifier:gradient_boosting:min_samples_leaf': 6, 'classifier:gradient_boosting:scoring': 'loss', 'classifier:gradient_boosting:tol': 1e-07, 'data_preprocessing:categorical_transformer:category_coalescence:minority_coalescer:minimum_fraction': 0.005397431706073423, 'classifier:gradient_boosting:n_iter_no_change': 20},\n",
      "dataset_properties={\n",
      "  'task': 1,\n",
      "  'sparse': False,\n",
      "  'multilabel': False,\n",
      "  'multiclass': False,\n",
      "  'target_type': 'classification',\n",
      "  'signed': False})),\n",
      "]\n",
      "[(1.0, SimpleClassificationPipeline({'balancing:strategy': 'none', 'classifier:__choice__': 'gradient_boosting', 'data_preprocessing:categorical_transformer:categorical_encoding:__choice__': 'one_hot_encoding', 'data_preprocessing:categorical_transformer:category_coalescence:__choice__': 'minority_coalescer', 'data_preprocessing:numerical_transformer:imputation:strategy': 'most_frequent', 'data_preprocessing:numerical_transformer:rescaling:__choice__': 'power_transformer', 'feature_preprocessor:__choice__': 'no_preprocessing', 'classifier:gradient_boosting:early_stop': 'train', 'classifier:gradient_boosting:l2_regularization': 1.2979542131507469e-09, 'classifier:gradient_boosting:learning_rate': 0.055296913656149534, 'classifier:gradient_boosting:loss': 'auto', 'classifier:gradient_boosting:max_bins': 255, 'classifier:gradient_boosting:max_depth': 'None', 'classifier:gradient_boosting:max_leaf_nodes': 6, 'classifier:gradient_boosting:min_samples_leaf': 6, 'classifier:gradient_boosting:scoring': 'loss', 'classifier:gradient_boosting:tol': 1e-07, 'data_preprocessing:categorical_transformer:category_coalescence:minority_coalescer:minimum_fraction': 0.005397431706073423, 'classifier:gradient_boosting:n_iter_no_change': 20},\n",
      "dataset_properties={\n",
      "  'task': 1,\n",
      "  'sparse': False,\n",
      "  'multilabel': False,\n",
      "  'multiclass': False,\n",
      "  'target_type': 'classification',\n",
      "  'signed': False}))]\n"
     ]
    }
   ],
   "source": [
    "evaluate_model(automl)"
   ]
  },
  {
   "cell_type": "markdown",
   "metadata": {
    "id": "FXkSkKTqK22f"
   },
   "source": [
    "# Build and fit classifier (gradient boosting) with f1 as target metric"
   ]
  },
  {
   "cell_type": "code",
   "execution_count": null,
   "metadata": {
    "id": "EZ1qSZtMib9D"
   },
   "outputs": [],
   "source": [
    "#set up classifier, set no target metric\n",
    "automl1 = autosklearn.classification.AutoSklearnClassifier(\n",
    "    time_left_for_this_task=3600,\n",
    "    #per_run_time_limit=720,\n",
    "    include_estimators =['gradient_boosting'],\n",
    "    resampling_strategy ='cv',\n",
    "    resampling_strategy_arguments={'folds': 5},\n",
    "    ensemble_size=1,\n",
    "    include_preprocessors = ['no_preprocessing'],\n",
    "    scoring_functions=[accuracy, balanced_accuracy, precision, recall, f1, error_rate, roc_auc],\n",
    "    metric=autosklearn.metrics.f1\n",
    ")"
   ]
  },
  {
   "cell_type": "code",
   "execution_count": null,
   "metadata": {
    "id": "bN6lWYwcLDRN"
   },
   "outputs": [],
   "source": [
    "automl1.fit(X_train,y_train,X_test,y_test)"
   ]
  },
  {
   "cell_type": "code",
   "execution_count": null,
   "metadata": {
    "colab": {
     "base_uri": "https://localhost:8080/"
    },
    "executionInfo": {
     "elapsed": 902,
     "status": "ok",
     "timestamp": 1627812234516,
     "user": {
      "displayName": "Abdul Rahim Ab Ghani",
      "photoUrl": "",
      "userId": "00278979136237245233"
     },
     "user_tz": -60
    },
    "id": "JxRZNI8nLJka",
    "outputId": "6830ee19-8cce-4be3-be36-2492c5f202dc"
   },
   "outputs": [
    {
     "name": "stdout",
     "output_type": "stream",
     "text": [
      "Accuracy score:  0.7044900800556909\n",
      "Balanced Accuracy Score:  0.6821118241032151\n",
      "Log Loss:  0.5815350332984409\n",
      "Precision Score:  0.41167953667953666\n",
      "Recall Score: :  0.6403903903903904\n",
      "F1 Score:  0.5011750881316098\n",
      "F1 (beta=2) Score:  0.5763513513513512\n",
      "ROC Auc Score:  0.7488415579149607\n",
      "Confusion Matrix: \n",
      " [[3195 1219]\n",
      " [ 479  853]]\n",
      "################################################################################\n",
      "Metric results\n",
      " rank_test_scores param_classifier:__choice__  mean_test_score  metric_accuracy  metric_balanced_accuracy  metric_precision  metric_recall  metric_f1  metric_custom_error  metric_roc_auc\n",
      "               33           gradient_boosting         0.378663         0.781037                  0.608892          0.553432       0.287860   0.378663             0.218963        0.731817\n",
      "               32           gradient_boosting         0.381096         0.768548                  0.607575          0.501445       0.307379   0.381096             0.231452        0.700774\n",
      "               25           gradient_boosting         0.471111         0.721204                  0.656406          0.420613       0.535562   0.471111             0.278796        0.720705\n",
      "               12           gradient_boosting         0.500898         0.708890                  0.681336          0.415736       0.629951   0.500898             0.291110        0.747768\n",
      "               39           gradient_boosting         0.303483         0.788042                  0.582534          0.637930       0.199285   0.303483             0.211958        0.750915\n",
      "               36           gradient_boosting         0.330557         0.789304                  0.592134          0.627527       0.224433   0.330557             0.210696        0.753231\n",
      "               37           gradient_boosting         0.329424         0.786171                  0.590882          0.604281       0.226687   0.329424             0.213829        0.751716\n",
      "               27           gradient_boosting         0.446279         0.737696                  0.639303          0.437146       0.455810   0.446279             0.262304        0.718759\n",
      "               29           gradient_boosting         0.383332         0.754058                  0.605938          0.458049       0.329710   0.383332             0.245942        0.690910\n",
      "               31           gradient_boosting         0.382810         0.748749                  0.604708          0.444741       0.336087   0.382810             0.251251        0.689911\n",
      "               30           gradient_boosting         0.382874         0.751055                  0.605162          0.450313       0.333085   0.382874             0.248945        0.691248\n",
      "               38           gradient_boosting         0.309878         0.787477                  0.584460          0.627152       0.205856   0.309878             0.212523        0.748385\n",
      "               20           gradient_boosting         0.495194         0.695618                  0.677545          0.402329       0.643838   0.495194             0.304382        0.742906\n",
      "               22           gradient_boosting         0.487470         0.708585                  0.669873          0.411594       0.597676   0.487470             0.291415        0.735553\n",
      "                5           gradient_boosting         0.504183         0.698577                  0.685430          0.407548       0.660912   0.504183             0.301423        0.748424\n",
      "               23           gradient_boosting         0.484141         0.705322                  0.667288          0.407471       0.596359   0.484141             0.294678        0.727768\n",
      "               35           gradient_boosting         0.354635         0.790653                  0.601265          0.622009       0.248077   0.354635             0.209347        0.754373\n",
      "                2           gradient_boosting         0.504844         0.701580                  0.685681          0.410293       0.656033   0.504844             0.298420        0.752988\n",
      "               24           gradient_boosting         0.475252         0.701536                  0.660174          0.401169       0.583037   0.475252             0.298464        0.717835\n",
      "               28           gradient_boosting         0.420157         0.719116                  0.621313          0.402974       0.438922   0.420157             0.280884        0.680604\n",
      "               21           gradient_boosting         0.490351         0.704669                  0.672563          0.408760       0.612688   0.490351             0.295331        0.738537\n",
      "                7           gradient_boosting         0.502806         0.701406                  0.683866          0.409544       0.651156   0.502806             0.298594        0.752033\n",
      "                3           gradient_boosting         0.504377         0.707367                  0.684603          0.415300       0.642149   0.504377             0.292633        0.749303\n",
      "               26           gradient_boosting         0.465226         0.722336                  0.652033          0.420400       0.520925   0.465226             0.277664        0.715272\n",
      "                4           gradient_boosting         0.504201         0.703059                  0.684942          0.411386       0.651156   0.504201             0.296941        0.751805\n",
      "                6           gradient_boosting         0.503741         0.697881                  0.685108          0.406827       0.661288   0.503741             0.302119        0.750172\n",
      "               13           gradient_boosting         0.500777         0.697489                  0.682430          0.405599       0.654345   0.500777             0.302511        0.747905\n",
      "               17           gradient_boosting         0.496972         0.692703                  0.679379          0.400571       0.654532   0.496972             0.307297        0.742241\n",
      "               34           gradient_boosting         0.366902         0.729690                  0.592891          0.401990       0.337776   0.366902             0.270310        0.685826\n",
      "                9           gradient_boosting         0.502388         0.697968                  0.683789          0.406582       0.657347   0.502388             0.302032        0.749779\n",
      "                8           gradient_boosting         0.502595         0.697315                  0.684084          0.406076       0.659410   0.502595             0.302685        0.749539\n",
      "               16           gradient_boosting         0.499798         0.702841                  0.681001          0.409890       0.640272   0.499798             0.297159        0.748575\n",
      "               10           gradient_boosting         0.501786         0.700361                  0.683055          0.408325       0.650781   0.501786             0.299639        0.751109\n",
      "               14           gradient_boosting         0.500319         0.693225                  0.682405          0.402055       0.662226   0.500319             0.306775        0.748618\n",
      "               15           gradient_boosting         0.499908         0.699578                  0.681431          0.407094       0.647589   0.499908             0.300422        0.747599\n",
      "               11           gradient_boosting         0.501382         0.698011                  0.682901          0.406305       0.654721   0.501382             0.301989        0.747929\n",
      "               19           gradient_boosting         0.495429         0.706236                  0.676857          0.411678       0.622068   0.495429             0.293764        0.739761\n",
      "                1           gradient_boosting         0.506430         0.703407                  0.686938          0.412337       0.656224   0.506430             0.296593        0.751360\n",
      "               18           gradient_boosting         0.495571         0.718071                  0.675916          0.423467       0.597301   0.495571             0.281929        0.741150\n",
      "          rank  ensemble_weight               type     cost   duration\n",
      "model_id                                                              \n",
      "42           1              1.0  gradient_boosting  0.49357  22.784885\n",
      "auto-sklearn results:\n",
      "  Dataset name: 1e0992d4-f2a6-11eb-92a7-0242ac1c0002\n",
      "  Metric: f1\n",
      "  Best validation score: 0.506430\n",
      "  Number of target algorithm runs: 43\n",
      "  Number of successful target algorithm runs: 39\n",
      "  Number of crashed target algorithm runs: 0\n",
      "  Number of target algorithms that exceeded the time limit: 4\n",
      "  Number of target algorithms that exceeded the memory limit: 0\n",
      "\n",
      "[(1.000000, SimpleClassificationPipeline({'balancing:strategy': 'weighting', 'classifier:__choice__': 'gradient_boosting', 'data_preprocessing:categorical_transformer:categorical_encoding:__choice__': 'no_encoding', 'data_preprocessing:categorical_transformer:category_coalescence:__choice__': 'no_coalescense', 'data_preprocessing:numerical_transformer:imputation:strategy': 'mean', 'data_preprocessing:numerical_transformer:rescaling:__choice__': 'minmax', 'feature_preprocessor:__choice__': 'no_preprocessing', 'classifier:gradient_boosting:early_stop': 'valid', 'classifier:gradient_boosting:l2_regularization': 0.017722562473527163, 'classifier:gradient_boosting:learning_rate': 0.04226227092427818, 'classifier:gradient_boosting:loss': 'auto', 'classifier:gradient_boosting:max_bins': 255, 'classifier:gradient_boosting:max_depth': 'None', 'classifier:gradient_boosting:max_leaf_nodes': 15, 'classifier:gradient_boosting:min_samples_leaf': 22, 'classifier:gradient_boosting:scoring': 'loss', 'classifier:gradient_boosting:tol': 1e-07, 'classifier:gradient_boosting:n_iter_no_change': 6, 'classifier:gradient_boosting:validation_fraction': 0.2660893967430464},\n",
      "dataset_properties={\n",
      "  'task': 1,\n",
      "  'sparse': False,\n",
      "  'multilabel': False,\n",
      "  'multiclass': False,\n",
      "  'target_type': 'classification',\n",
      "  'signed': False})),\n",
      "]\n",
      "[(1.0, SimpleClassificationPipeline({'balancing:strategy': 'weighting', 'classifier:__choice__': 'gradient_boosting', 'data_preprocessing:categorical_transformer:categorical_encoding:__choice__': 'no_encoding', 'data_preprocessing:categorical_transformer:category_coalescence:__choice__': 'no_coalescense', 'data_preprocessing:numerical_transformer:imputation:strategy': 'mean', 'data_preprocessing:numerical_transformer:rescaling:__choice__': 'minmax', 'feature_preprocessor:__choice__': 'no_preprocessing', 'classifier:gradient_boosting:early_stop': 'valid', 'classifier:gradient_boosting:l2_regularization': 0.017722562473527163, 'classifier:gradient_boosting:learning_rate': 0.04226227092427818, 'classifier:gradient_boosting:loss': 'auto', 'classifier:gradient_boosting:max_bins': 255, 'classifier:gradient_boosting:max_depth': 'None', 'classifier:gradient_boosting:max_leaf_nodes': 15, 'classifier:gradient_boosting:min_samples_leaf': 22, 'classifier:gradient_boosting:scoring': 'loss', 'classifier:gradient_boosting:tol': 1e-07, 'classifier:gradient_boosting:n_iter_no_change': 6, 'classifier:gradient_boosting:validation_fraction': 0.2660893967430464},\n",
      "dataset_properties={\n",
      "  'task': 1,\n",
      "  'sparse': False,\n",
      "  'multilabel': False,\n",
      "  'multiclass': False,\n",
      "  'target_type': 'classification',\n",
      "  'signed': False}))]\n"
     ]
    }
   ],
   "source": [
    "evaluate_model(automl1)"
   ]
  },
  {
   "cell_type": "markdown",
   "metadata": {
    "id": "--hzcjMPbDG8"
   },
   "source": [
    "# Build and fit classifier (gradient boosting) with recall as target metric"
   ]
  },
  {
   "cell_type": "code",
   "execution_count": null,
   "metadata": {
    "id": "iximzObwbF7b"
   },
   "outputs": [],
   "source": [
    "#set up classifier, set recall as target metric\n",
    "automl2 = autosklearn.classification.AutoSklearnClassifier(\n",
    "    time_left_for_this_task=3600,\n",
    "    #per_run_time_limit=720,\n",
    "    include_estimators =['gradient_boosting'],\n",
    "    resampling_strategy ='cv',\n",
    "    resampling_strategy_arguments={'folds': 5},\n",
    "    ensemble_size=1,\n",
    "    include_preprocessors = ['no_preprocessing'],\n",
    "    scoring_functions=[accuracy, balanced_accuracy, precision, recall, f1, error_rate, roc_auc],\n",
    "    metric=autosklearn.metrics.recall\n",
    ")"
   ]
  },
  {
   "cell_type": "code",
   "execution_count": null,
   "metadata": {
    "colab": {
     "base_uri": "https://localhost:8080/"
    },
    "executionInfo": {
     "elapsed": 226,
     "status": "ok",
     "timestamp": 1627807390031,
     "user": {
      "displayName": "Abdul Rahim Ab Ghani",
      "photoUrl": "",
      "userId": "00278979136237245233"
     },
     "user_tz": -60
    },
    "id": "P0oKHMYrbLno",
    "outputId": "82bc36ad-5794-4e26-e5b9-fc656628abb0"
   },
   "outputs": [
    {
     "data": {
      "text/plain": [
       "AutoSklearnClassifier(ensemble_size=1, include_estimators=['gradient_boosting'],\n",
       "                      include_preprocessors=['no_preprocessing'], metric=recall,\n",
       "                      per_run_time_limit=360, resampling_strategy='cv',\n",
       "                      resampling_strategy_arguments={'folds': 5},\n",
       "                      scoring_functions=[accuracy, balanced_accuracy, precision,\n",
       "                                         recall, f1, custom_error, roc_auc])"
      ]
     },
     "execution_count": 17,
     "metadata": {
      "tags": []
     },
     "output_type": "execute_result"
    }
   ],
   "source": [
    "automl2.fit(X_train,y_train,X_test,y_test)"
   ]
  },
  {
   "cell_type": "code",
   "execution_count": null,
   "metadata": {
    "colab": {
     "base_uri": "https://localhost:8080/"
    },
    "executionInfo": {
     "elapsed": 1926,
     "status": "ok",
     "timestamp": 1627808024532,
     "user": {
      "displayName": "Abdul Rahim Ab Ghani",
      "photoUrl": "",
      "userId": "00278979136237245233"
     },
     "user_tz": -60
    },
    "id": "vW7k3kn_bOpl",
    "outputId": "2f23d715-4543-4742-ff4f-af239fba72cd"
   },
   "outputs": [
    {
     "name": "stdout",
     "output_type": "stream",
     "text": [
      "Accuracy score:  0.6936999651931779\n",
      "Balanced Accuracy Score:  0.6766613124225267\n",
      "Log Loss:  0.592243672130228\n",
      "Precision Score:  0.40027958993476237\n",
      "Recall Score: :  0.6448948948948949\n",
      "F1 Score:  0.4939620471535365\n",
      "F1 (beta=2) Score:  0.5746588172330747\n",
      "ROC Auc Score:  0.7442084699107807\n",
      "Confusion Matrix: \n",
      " [[3127 1287]\n",
      " [ 473  859]]\n",
      "################################################################################\n",
      "Metric results\n",
      " rank_test_scores param_classifier:__choice__  mean_test_score  metric_accuracy  metric_balanced_accuracy  metric_precision  metric_recall  metric_f1  metric_custom_error  metric_roc_auc\n",
      "               28           gradient_boosting         0.287860         0.781037                  0.608892          0.553432       0.287860   0.378663             0.218963        0.731817\n",
      "                1           gradient_boosting         0.664290         0.694182                  0.683748          0.403249       0.664290   0.501851             0.305818        0.748867\n",
      "               15           gradient_boosting         0.563337         0.721248                  0.666129          0.423950       0.563337   0.483776             0.278752        0.728793\n",
      "                5           gradient_boosting         0.657909         0.696619                  0.683107          0.405090       0.657909   0.501427             0.303381        0.750944\n",
      "               25           gradient_boosting         0.307379         0.768548                  0.607575          0.501445       0.307379   0.381096             0.231452        0.700774\n",
      "               34           gradient_boosting         0.199285         0.788042                  0.582534          0.637930       0.199285   0.303483             0.211958        0.750915\n",
      "               20           gradient_boosting         0.419593         0.730473                  0.621959          0.418996       0.419593   0.419272             0.269527        0.681008\n",
      "               17           gradient_boosting         0.552637         0.722640                  0.663300          0.424651       0.552637   0.480234             0.277360        0.729552\n",
      "                4           gradient_boosting         0.658660         0.700405                  0.685833          0.409305       0.658660   0.504867             0.299595        0.753003\n",
      "               30           gradient_boosting         0.277540         0.788129                  0.609906          0.592059       0.277540   0.377911             0.211871        0.745387\n",
      "               31           gradient_boosting         0.250142         0.788129                  0.600343          0.604976       0.250142   0.353818             0.211871        0.752533\n",
      "               18           gradient_boosting         0.547383         0.713415                  0.655461          0.411391       0.547383   0.469720             0.286585        0.722476\n",
      "               27           gradient_boosting         0.298371         0.769288                  0.604913          0.504412       0.298371   0.374855             0.230712        0.708901\n",
      "                7           gradient_boosting         0.657347         0.701275                  0.685942          0.410095       0.657347   0.505073             0.298725        0.749935\n",
      "               19           gradient_boosting         0.507791         0.731561                  0.653454          0.432811       0.507791   0.467294             0.268439        0.721074\n",
      "               33           gradient_boosting         0.210171         0.788651                  0.586731          0.633252       0.210171   0.315404             0.211349        0.750550\n",
      "               11           gradient_boosting         0.654344         0.704364                  0.686905          0.413197       0.654344   0.506526             0.295636        0.754673\n",
      "               22           gradient_boosting         0.402704         0.749141                  0.628215          0.454283       0.402704   0.426818             0.250859        0.704181\n",
      "               21           gradient_boosting         0.403642         0.747531                  0.627495          0.450610       0.403642   0.425813             0.252469        0.706102\n",
      "               26           gradient_boosting         0.303438         0.762674                  0.602376          0.481697       0.303438   0.372256             0.237326        0.695251\n",
      "               32           gradient_boosting         0.217114         0.789478                  0.589692          0.634719       0.217114   0.323471             0.210522        0.753623\n",
      "                3           gradient_boosting         0.661476         0.695966                  0.683927          0.404815       0.661476   0.502252             0.304034        0.750426\n",
      "                8           gradient_boosting         0.657346         0.702189                  0.686536          0.411105       0.657346   0.505849             0.297811        0.754124\n",
      "               12           gradient_boosting         0.653969         0.695749                  0.681165          0.403784       0.653969   0.499269             0.304251        0.746425\n",
      "               23           gradient_boosting         0.362736         0.752970                  0.616757          0.458940       0.362736   0.405149             0.247030        0.692322\n",
      "                9           gradient_boosting         0.657161         0.702406                  0.686614          0.411311       0.657161   0.505940             0.297594        0.753627\n",
      "                6           gradient_boosting         0.657536         0.704060                  0.687821          0.413227       0.657536   0.507492             0.295940        0.754992\n",
      "               16           gradient_boosting         0.553763         0.697228                  0.647151          0.391902       0.553763   0.458913             0.302772        0.693985\n",
      "               10           gradient_boosting         0.656410         0.704277                  0.687569          0.413344       0.656410   0.507244             0.295723        0.753413\n",
      "               14           gradient_boosting         0.644213         0.708890                  0.686315          0.417269       0.644213   0.506475             0.291110        0.753270\n",
      "               13           gradient_boosting         0.646464         0.698011                  0.680019          0.405243       0.646464   0.498172             0.301989        0.749403\n",
      "               29           gradient_boosting         0.283919         0.772508                  0.601964          0.517264       0.283919   0.366601             0.227492        0.727956\n",
      "                2           gradient_boosting         0.662226         0.699752                  0.686654          0.408998       0.662226   0.505676             0.300248        0.753096\n",
      "               24           gradient_boosting         0.358043         0.747661                  0.611664          0.445289       0.358043   0.396877             0.252339        0.695657\n",
      "          rank  ensemble_weight               type     cost   duration\n",
      "model_id                                                              \n",
      "3            1              1.0  gradient_boosting  0.33571  43.169583\n",
      "auto-sklearn results:\n",
      "  Dataset name: 1f63437e-f29c-11eb-92a7-0242ac1c0002\n",
      "  Metric: recall\n",
      "  Best validation score: 0.664290\n",
      "  Number of target algorithm runs: 36\n",
      "  Number of successful target algorithm runs: 34\n",
      "  Number of crashed target algorithm runs: 0\n",
      "  Number of target algorithms that exceeded the time limit: 2\n",
      "  Number of target algorithms that exceeded the memory limit: 0\n",
      "\n",
      "[(1.000000, SimpleClassificationPipeline({'balancing:strategy': 'weighting', 'classifier:__choice__': 'gradient_boosting', 'data_preprocessing:categorical_transformer:categorical_encoding:__choice__': 'one_hot_encoding', 'data_preprocessing:categorical_transformer:category_coalescence:__choice__': 'minority_coalescer', 'data_preprocessing:numerical_transformer:imputation:strategy': 'mean', 'data_preprocessing:numerical_transformer:rescaling:__choice__': 'none', 'feature_preprocessor:__choice__': 'no_preprocessing', 'classifier:gradient_boosting:early_stop': 'off', 'classifier:gradient_boosting:l2_regularization': 0.00010378703661112682, 'classifier:gradient_boosting:learning_rate': 0.013519848428317332, 'classifier:gradient_boosting:loss': 'auto', 'classifier:gradient_boosting:max_bins': 255, 'classifier:gradient_boosting:max_depth': 'None', 'classifier:gradient_boosting:max_leaf_nodes': 6, 'classifier:gradient_boosting:min_samples_leaf': 6, 'classifier:gradient_boosting:scoring': 'loss', 'classifier:gradient_boosting:tol': 1e-07, 'data_preprocessing:categorical_transformer:category_coalescence:minority_coalescer:minimum_fraction': 0.002659843750449214},\n",
      "dataset_properties={\n",
      "  'task': 1,\n",
      "  'sparse': False,\n",
      "  'multilabel': False,\n",
      "  'multiclass': False,\n",
      "  'target_type': 'classification',\n",
      "  'signed': False})),\n",
      "]\n",
      "[(1.0, SimpleClassificationPipeline({'balancing:strategy': 'weighting', 'classifier:__choice__': 'gradient_boosting', 'data_preprocessing:categorical_transformer:categorical_encoding:__choice__': 'one_hot_encoding', 'data_preprocessing:categorical_transformer:category_coalescence:__choice__': 'minority_coalescer', 'data_preprocessing:numerical_transformer:imputation:strategy': 'mean', 'data_preprocessing:numerical_transformer:rescaling:__choice__': 'none', 'feature_preprocessor:__choice__': 'no_preprocessing', 'classifier:gradient_boosting:early_stop': 'off', 'classifier:gradient_boosting:l2_regularization': 0.00010378703661112682, 'classifier:gradient_boosting:learning_rate': 0.013519848428317332, 'classifier:gradient_boosting:loss': 'auto', 'classifier:gradient_boosting:max_bins': 255, 'classifier:gradient_boosting:max_depth': 'None', 'classifier:gradient_boosting:max_leaf_nodes': 6, 'classifier:gradient_boosting:min_samples_leaf': 6, 'classifier:gradient_boosting:scoring': 'loss', 'classifier:gradient_boosting:tol': 1e-07, 'data_preprocessing:categorical_transformer:category_coalescence:minority_coalescer:minimum_fraction': 0.002659843750449214},\n",
      "dataset_properties={\n",
      "  'task': 1,\n",
      "  'sparse': False,\n",
      "  'multilabel': False,\n",
      "  'multiclass': False,\n",
      "  'target_type': 'classification',\n",
      "  'signed': False}))]\n"
     ]
    }
   ],
   "source": [
    "evaluate_model(automl2)"
   ]
  },
  {
   "cell_type": "markdown",
   "metadata": {
    "id": "PN_ryE6wpkQ2"
   },
   "source": [
    "# Build and fit classifier - ensemble - with ROC AUC as target metric"
   ]
  },
  {
   "cell_type": "code",
   "execution_count": null,
   "metadata": {
    "id": "k3TobYyiptNH"
   },
   "outputs": [],
   "source": [
    "#set up classifier, set ROC AUC as target metric\n",
    "automl3 = autosklearn.classification.AutoSklearnClassifier(\n",
    "    time_left_for_this_task=3600,\n",
    "    #per_run_time_limit=720,\n",
    "    include_estimators =['gradient_boosting'],\n",
    "    resampling_strategy ='cv',\n",
    "    resampling_strategy_arguments={'folds': 5},\n",
    "    ensemble_size=1,\n",
    "    include_preprocessors = ['no_preprocessing'],\n",
    "    scoring_functions=[accuracy, balanced_accuracy, precision, recall, f1, error_rate, roc_auc],\n",
    "    metric=autosklearn.metrics.roc_auc\n",
    ")"
   ]
  },
  {
   "cell_type": "code",
   "execution_count": null,
   "metadata": {
    "colab": {
     "base_uri": "https://localhost:8080/"
    },
    "executionInfo": {
     "elapsed": 236,
     "status": "ok",
     "timestamp": 1627802170421,
     "user": {
      "displayName": "Abdul Rahim Ab Ghani",
      "photoUrl": "",
      "userId": "00278979136237245233"
     },
     "user_tz": -60
    },
    "id": "w6riwyNZp2jn",
    "outputId": "6275fdd5-ca51-4746-d686-69433ec79278"
   },
   "outputs": [
    {
     "data": {
      "text/plain": [
       "AutoSklearnClassifier(ensemble_size=1, include_estimators=['gradient_boosting'],\n",
       "                      include_preprocessors=['no_preprocessing'],\n",
       "                      metric=roc_auc, per_run_time_limit=360,\n",
       "                      resampling_strategy='cv',\n",
       "                      resampling_strategy_arguments={'folds': 5},\n",
       "                      scoring_functions=[accuracy, balanced_accuracy, precision,\n",
       "                                         recall, f1, custom_error, roc_auc])"
      ]
     },
     "execution_count": 14,
     "metadata": {
      "tags": []
     },
     "output_type": "execute_result"
    }
   ],
   "source": [
    "automl3.fit(X_train,y_train,X_test,y_test)"
   ]
  },
  {
   "cell_type": "code",
   "execution_count": null,
   "metadata": {
    "colab": {
     "base_uri": "https://localhost:8080/"
    },
    "executionInfo": {
     "elapsed": 1796,
     "status": "ok",
     "timestamp": 1627802318727,
     "user": {
      "displayName": "Abdul Rahim Ab Ghani",
      "photoUrl": "",
      "userId": "00278979136237245233"
     },
     "user_tz": -60
    },
    "id": "5Gj0eK9Bp8Bp",
    "outputId": "d8dc9f6a-e5c2-4a3b-ae16-6921736c81ef"
   },
   "outputs": [
    {
     "name": "stdout",
     "output_type": "stream",
     "text": [
      "Accuracy score:  0.7878524190741385\n",
      "Balanced Accuracy Score:  0.5895953157507303\n",
      "Log Loss:  0.46666757551391796\n",
      "Precision Score:  0.6194503171247357\n",
      "Recall Score: :  0.21996996996996998\n",
      "F1 Score:  0.3246537396121884\n",
      "F1 (beta=2) Score:  0.2525426650577487\n",
      "ROC Auc Score:  0.7521786058827291\n",
      "Confusion Matrix: \n",
      " [[4234  180]\n",
      " [1039  293]]\n",
      "################################################################################\n",
      "Metric results\n",
      " rank_test_scores param_classifier:__choice__  mean_test_score  metric_accuracy  metric_balanced_accuracy  metric_precision  metric_recall  metric_f1  metric_custom_error  metric_roc_auc\n",
      "               37           gradient_boosting         0.731817         0.781037                  0.608892          0.553432       0.287860   0.378663             0.218963        0.731817\n",
      "               44           gradient_boosting         0.700774         0.768548                  0.607575          0.501445       0.307379   0.381096             0.231452        0.700774\n",
      "               38           gradient_boosting         0.720705         0.721204                  0.656406          0.420613       0.535562   0.471111             0.278796        0.720705\n",
      "               29           gradient_boosting         0.746752         0.787825                  0.578725          0.644942       0.188778   0.291855             0.212175        0.746752\n",
      "               19           gradient_boosting         0.750915         0.788042                  0.582534          0.637930       0.199285   0.303483             0.211958        0.750915\n",
      "                6           gradient_boosting         0.753231         0.789304                  0.592134          0.627527       0.224433   0.330557             0.210696        0.753231\n",
      "               12           gradient_boosting         0.751716         0.786171                  0.590882          0.604281       0.226687   0.329424             0.213829        0.751716\n",
      "               40           gradient_boosting         0.718759         0.737696                  0.639303          0.437146       0.455810   0.446279             0.262304        0.718759\n",
      "               47           gradient_boosting         0.690910         0.754058                  0.605938          0.458049       0.329710   0.383332             0.245942        0.690910\n",
      "               48           gradient_boosting         0.689911         0.748749                  0.604708          0.444741       0.336087   0.382810             0.251251        0.689911\n",
      "               46           gradient_boosting         0.691248         0.751055                  0.605162          0.450313       0.333085   0.382874             0.248945        0.691248\n",
      "               27           gradient_boosting         0.748385         0.787477                  0.584460          0.627152       0.205856   0.309878             0.212523        0.748385\n",
      "               34           gradient_boosting         0.742906         0.695618                  0.677545          0.402329       0.643838   0.495194             0.304382        0.742906\n",
      "               28           gradient_boosting         0.747284         0.786824                  0.583969          0.622281       0.205668   0.308986             0.213176        0.747284\n",
      "               51           gradient_boosting         0.679777         0.740568                  0.615365          0.432691       0.381875   0.405690             0.259432        0.679777\n",
      "               52           gradient_boosting         0.678263         0.731213                  0.589298          0.401592       0.324643   0.358933             0.268787        0.678263\n",
      "                1           gradient_boosting         0.754566         0.790262                  0.593608          0.633382       0.226871   0.333884             0.209738        0.754566\n",
      "               35           gradient_boosting         0.740673         0.714416                  0.675109          0.419310       0.601804   0.494238             0.285584        0.740673\n",
      "               45           gradient_boosting         0.693409         0.720987                  0.632879          0.410909       0.468569   0.437823             0.279013        0.693409\n",
      "                4           gradient_boosting         0.753278         0.707106                  0.686267          0.415571       0.647403   0.506186             0.292894        0.753278\n",
      "               49           gradient_boosting         0.686539         0.735912                  0.609323          0.421382       0.373247   0.395778             0.264088        0.686539\n",
      "               41           gradient_boosting         0.713805         0.774335                  0.615600          0.521784       0.319575   0.396344             0.225665        0.713805\n",
      "               15           gradient_boosting         0.751564         0.701667                  0.685411          0.410362       0.655096   0.504576             0.298333        0.751564\n",
      "                5           gradient_boosting         0.753234         0.789043                  0.598188          0.614751       0.242262   0.347203             0.210957        0.753234\n",
      "               13           gradient_boosting         0.751627         0.789391                  0.600706          0.612505       0.248829   0.353672             0.210609        0.751627\n",
      "               31           gradient_boosting         0.745998         0.785954                  0.596176          0.594475       0.242262   0.344023             0.214046        0.745998\n",
      "               43           gradient_boosting         0.710082         0.771507                  0.606618          0.512598       0.299118   0.377775             0.228493        0.710082\n",
      "                3           gradient_boosting         0.753488         0.789043                  0.599954          0.611567       0.247325   0.352038             0.210957        0.753488\n",
      "               18           gradient_boosting         0.751229         0.699230                  0.684610          0.407897       0.657346   0.503403             0.300770        0.751229\n",
      "               11           gradient_boosting         0.752099         0.785344                  0.593093          0.594253       0.234566   0.336117             0.214656        0.752099\n",
      "               22           gradient_boosting         0.749884         0.701449                  0.685007          0.409992       0.654344   0.504103             0.298551        0.749884\n",
      "               32           gradient_boosting         0.744665         0.716157                  0.682268          0.423382       0.619067   0.502856             0.283843        0.744665\n",
      "               10           gradient_boosting         0.752468         0.789391                  0.600836          0.613151       0.249203   0.354336             0.210609        0.752468\n",
      "               25           gradient_boosting         0.748843         0.785867                  0.600900          0.588248       0.255959   0.356568             0.214133        0.748843\n",
      "               33           gradient_boosting         0.743262         0.783995                  0.597913          0.579066       0.250891   0.349965             0.216005        0.743262\n",
      "               16           gradient_boosting         0.751492         0.786737                  0.595506          0.600961       0.238882   0.341824             0.213263        0.751492\n",
      "               14           gradient_boosting         0.751600         0.786650                  0.589619          0.609815       0.222180   0.325649             0.213350        0.751600\n",
      "               30           gradient_boosting         0.746700         0.787390                  0.606412          0.591421       0.268909   0.369695             0.212610        0.746700\n",
      "               23           gradient_boosting         0.749123         0.786432                  0.597666          0.596150       0.245638   0.347674             0.213568        0.749123\n",
      "               21           gradient_boosting         0.750097         0.698795                  0.684720          0.407536       0.658472   0.503463             0.301205        0.750097\n",
      "                7           gradient_boosting         0.752810         0.788303                  0.591809          0.619343       0.225370   0.330393             0.211697        0.752810\n",
      "                9           gradient_boosting         0.752640         0.789826                  0.598106          0.620646       0.240569   0.346654             0.210174        0.752640\n",
      "               20           gradient_boosting         0.750567         0.786824                  0.599886          0.595779       0.251268   0.353444             0.213176        0.750567\n",
      "               50           gradient_boosting         0.683662         0.741917                  0.618341          0.436539       0.387882   0.410696             0.258083        0.683662\n",
      "               42           gradient_boosting         0.711390         0.760063                  0.592488          0.471256       0.279980   0.351151             0.239937        0.711390\n",
      "                2           gradient_boosting         0.754495         0.790000                  0.597762          0.623101       0.239258   0.345616             0.210000        0.754495\n",
      "               17           gradient_boosting         0.751393         0.701318                  0.685774          0.410095       0.656785   0.504910             0.298682        0.751393\n",
      "               36           gradient_boosting         0.737848         0.713764                  0.674422          0.418434       0.601054   0.493357             0.286236        0.737848\n",
      "               39           gradient_boosting         0.720694         0.715809                  0.656365          0.414345       0.545508   0.470948             0.284191        0.720694\n",
      "               24           gradient_boosting         0.748922         0.786954                  0.578550          0.636169       0.189901   0.291643             0.213046        0.748922\n",
      "               26           gradient_boosting         0.748461         0.789435                  0.597654          0.618174       0.240005   0.345433             0.210565        0.748461\n",
      "                8           gradient_boosting         0.752787         0.703103                  0.682611          0.410675       0.644398   0.501643             0.296897        0.752787\n",
      "          rank  ensemble_weight               type      cost   duration\n",
      "model_id                                                               \n",
      "18           1              1.0  gradient_boosting  0.245434  36.904004\n",
      "auto-sklearn results:\n",
      "  Dataset name: f7744f82-f28f-11eb-92a7-0242ac1c0002\n",
      "  Metric: roc_auc\n",
      "  Best validation score: 0.754566\n",
      "  Number of target algorithm runs: 54\n",
      "  Number of successful target algorithm runs: 52\n",
      "  Number of crashed target algorithm runs: 0\n",
      "  Number of target algorithms that exceeded the time limit: 2\n",
      "  Number of target algorithms that exceeded the memory limit: 0\n",
      "\n",
      "[(1.000000, SimpleClassificationPipeline({'balancing:strategy': 'none', 'classifier:__choice__': 'gradient_boosting', 'data_preprocessing:categorical_transformer:categorical_encoding:__choice__': 'encoding', 'data_preprocessing:categorical_transformer:category_coalescence:__choice__': 'minority_coalescer', 'data_preprocessing:numerical_transformer:imputation:strategy': 'most_frequent', 'data_preprocessing:numerical_transformer:rescaling:__choice__': 'standardize', 'feature_preprocessor:__choice__': 'no_preprocessing', 'classifier:gradient_boosting:early_stop': 'train', 'classifier:gradient_boosting:l2_regularization': 0.21650801623029248, 'classifier:gradient_boosting:learning_rate': 0.06754035436813624, 'classifier:gradient_boosting:loss': 'auto', 'classifier:gradient_boosting:max_bins': 255, 'classifier:gradient_boosting:max_depth': 'None', 'classifier:gradient_boosting:max_leaf_nodes': 4, 'classifier:gradient_boosting:min_samples_leaf': 1, 'classifier:gradient_boosting:scoring': 'loss', 'classifier:gradient_boosting:tol': 1e-07, 'data_preprocessing:categorical_transformer:category_coalescence:minority_coalescer:minimum_fraction': 0.00012660385893300966, 'classifier:gradient_boosting:n_iter_no_change': 5},\n",
      "dataset_properties={\n",
      "  'task': 1,\n",
      "  'sparse': False,\n",
      "  'multilabel': False,\n",
      "  'multiclass': False,\n",
      "  'target_type': 'classification',\n",
      "  'signed': False})),\n",
      "]\n",
      "[(1.0, SimpleClassificationPipeline({'balancing:strategy': 'none', 'classifier:__choice__': 'gradient_boosting', 'data_preprocessing:categorical_transformer:categorical_encoding:__choice__': 'encoding', 'data_preprocessing:categorical_transformer:category_coalescence:__choice__': 'minority_coalescer', 'data_preprocessing:numerical_transformer:imputation:strategy': 'most_frequent', 'data_preprocessing:numerical_transformer:rescaling:__choice__': 'standardize', 'feature_preprocessor:__choice__': 'no_preprocessing', 'classifier:gradient_boosting:early_stop': 'train', 'classifier:gradient_boosting:l2_regularization': 0.21650801623029248, 'classifier:gradient_boosting:learning_rate': 0.06754035436813624, 'classifier:gradient_boosting:loss': 'auto', 'classifier:gradient_boosting:max_bins': 255, 'classifier:gradient_boosting:max_depth': 'None', 'classifier:gradient_boosting:max_leaf_nodes': 4, 'classifier:gradient_boosting:min_samples_leaf': 1, 'classifier:gradient_boosting:scoring': 'loss', 'classifier:gradient_boosting:tol': 1e-07, 'data_preprocessing:categorical_transformer:category_coalescence:minority_coalescer:minimum_fraction': 0.00012660385893300966, 'classifier:gradient_boosting:n_iter_no_change': 5},\n",
      "dataset_properties={\n",
      "  'task': 1,\n",
      "  'sparse': False,\n",
      "  'multilabel': False,\n",
      "  'multiclass': False,\n",
      "  'target_type': 'classification',\n",
      "  'signed': False}))]\n"
     ]
    }
   ],
   "source": [
    "evaluate_model(automl3)"
   ]
  },
  {
   "cell_type": "code",
   "execution_count": null,
   "metadata": {
    "id": "F81WUx6E6y-k"
   },
   "outputs": [],
   "source": []
  }
 ],
 "metadata": {
  "colab": {
   "collapsed_sections": [],
   "machine_shape": "hm",
   "name": "model_auto-sklearn_gradient-boosting.ipynb",
   "provenance": [
    {
     "file_id": "1ydk0fJ76WJwLdmJs0jOTCkLSRpVMiHMW",
     "timestamp": 1627758268184
    },
    {
     "file_id": "1MSBUUELKgclQakDSNY554-8O5gGz-Osk",
     "timestamp": 1627736238026
    },
    {
     "file_id": "1daGkmz-CFDKuHL7FT3inLWHXmfXVOVVI",
     "timestamp": 1627657018630
    }
   ]
  },
  "kernelspec": {
   "display_name": "Python 3",
   "language": "python",
   "name": "python3"
  },
  "language_info": {
   "codemirror_mode": {
    "name": "ipython",
    "version": 3
   },
   "file_extension": ".py",
   "mimetype": "text/x-python",
   "name": "python",
   "nbconvert_exporter": "python",
   "pygments_lexer": "ipython3",
   "version": "3.7.9"
  }
 },
 "nbformat": 4,
 "nbformat_minor": 1
}
