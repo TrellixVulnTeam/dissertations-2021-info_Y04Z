{
 "cells": [
  {
   "cell_type": "code",
   "execution_count": 1,
   "id": "gorgeous-rocket",
   "metadata": {},
   "outputs": [],
   "source": [
    "#Import basic packages\n",
    "import os\n",
    "import numpy as np\n",
    "import pandas as pd\n",
    "import csv\n",
    "import regex as re\n",
    "import datetime as dt "
   ]
  },
  {
   "cell_type": "code",
   "execution_count": 2,
   "id": "involved-floating",
   "metadata": {},
   "outputs": [],
   "source": [
    "#import outcome file with org_uuid\n",
    "main_df = pd.read_csv(R\"d:/msc-project/data/final/outcome_final_v1.csv\",encoding='utf-8',\n",
    "                         index_col=False,\n",
    "                         parse_dates= ['founded_on','seed_date','series_a_date','series_b_date','series_c_date'])\n",
    "main_processing_df = main_df[['org_uuid']]"
   ]
  },
  {
   "cell_type": "code",
   "execution_count": 3,
   "id": "cosmetic-steel",
   "metadata": {},
   "outputs": [
    {
     "data": {
      "text/html": [
       "<div>\n",
       "<style scoped>\n",
       "    .dataframe tbody tr th:only-of-type {\n",
       "        vertical-align: middle;\n",
       "    }\n",
       "\n",
       "    .dataframe tbody tr th {\n",
       "        vertical-align: top;\n",
       "    }\n",
       "\n",
       "    .dataframe thead th {\n",
       "        text-align: right;\n",
       "    }\n",
       "</style>\n",
       "<table border=\"1\" class=\"dataframe\">\n",
       "  <thead>\n",
       "    <tr style=\"text-align: right;\">\n",
       "      <th></th>\n",
       "      <th>org_uuid</th>\n",
       "    </tr>\n",
       "  </thead>\n",
       "  <tbody>\n",
       "    <tr>\n",
       "      <th>0</th>\n",
       "      <td>9dc17185-743d-5fbc-f03b-ad0c81c8795d</td>\n",
       "    </tr>\n",
       "    <tr>\n",
       "      <th>1</th>\n",
       "      <td>9c8adac6-5c8e-9344-b763-6beab966c63c</td>\n",
       "    </tr>\n",
       "    <tr>\n",
       "      <th>2</th>\n",
       "      <td>6749cc07-efed-ff09-4efe-43faf6f580de</td>\n",
       "    </tr>\n",
       "  </tbody>\n",
       "</table>\n",
       "</div>"
      ],
      "text/plain": [
       "                               org_uuid\n",
       "0  9dc17185-743d-5fbc-f03b-ad0c81c8795d\n",
       "1  9c8adac6-5c8e-9344-b763-6beab966c63c\n",
       "2  6749cc07-efed-ff09-4efe-43faf6f580de"
      ]
     },
     "execution_count": 3,
     "metadata": {},
     "output_type": "execute_result"
    }
   ],
   "source": [
    "main_processing_df.head(3)"
   ]
  },
  {
   "cell_type": "code",
   "execution_count": 4,
   "id": "heard-holocaust",
   "metadata": {},
   "outputs": [
    {
     "data": {
      "text/plain": [
       "28727"
      ]
     },
     "execution_count": 4,
     "metadata": {},
     "output_type": "execute_result"
    }
   ],
   "source": [
    "len(main_processing_df)"
   ]
  },
  {
   "cell_type": "code",
   "execution_count": 5,
   "id": "closing-sixth",
   "metadata": {},
   "outputs": [
    {
     "data": {
      "text/html": [
       "<div>\n",
       "<style scoped>\n",
       "    .dataframe tbody tr th:only-of-type {\n",
       "        vertical-align: middle;\n",
       "    }\n",
       "\n",
       "    .dataframe tbody tr th {\n",
       "        vertical-align: top;\n",
       "    }\n",
       "\n",
       "    .dataframe thead th {\n",
       "        text-align: right;\n",
       "    }\n",
       "</style>\n",
       "<table border=\"1\" class=\"dataframe\">\n",
       "  <thead>\n",
       "    <tr style=\"text-align: right;\">\n",
       "      <th></th>\n",
       "      <th>job_uuid</th>\n",
       "      <th>job_name</th>\n",
       "      <th>people_uuid</th>\n",
       "      <th>person_name</th>\n",
       "      <th>org_uuid</th>\n",
       "      <th>org_name</th>\n",
       "      <th>started_on</th>\n",
       "      <th>ended_on</th>\n",
       "      <th>is_current</th>\n",
       "      <th>title</th>\n",
       "      <th>job_type</th>\n",
       "      <th>is_founder</th>\n",
       "    </tr>\n",
       "  </thead>\n",
       "  <tbody>\n",
       "    <tr>\n",
       "      <th>0</th>\n",
       "      <td>697b6934-fc1f-9d63-cfb2-1a10759b378e</td>\n",
       "      <td>Ben Elowitz Co-Founder/CEO/Board of Directors ...</td>\n",
       "      <td>ed13cd36-fe2b-3707-197b-0c2d56e37a71</td>\n",
       "      <td>Ben Elowitz</td>\n",
       "      <td>e1393508-30ea-8a36-3f96-dd3226033abd</td>\n",
       "      <td>Wetpaint</td>\n",
       "      <td>NaN</td>\n",
       "      <td>NaN</td>\n",
       "      <td>False</td>\n",
       "      <td>Co-Founder/CEO/Board of Directors</td>\n",
       "      <td>executive</td>\n",
       "      <td>1</td>\n",
       "    </tr>\n",
       "    <tr>\n",
       "      <th>1</th>\n",
       "      <td>b1de3765-442e-b556-9304-551c2a055901</td>\n",
       "      <td>Kevin Flaherty VP Marketing @ Wetpaint</td>\n",
       "      <td>5ceca97b-493c-1446-6249-5aaa33464763</td>\n",
       "      <td>Kevin Flaherty</td>\n",
       "      <td>e1393508-30ea-8a36-3f96-dd3226033abd</td>\n",
       "      <td>Wetpaint</td>\n",
       "      <td>NaN</td>\n",
       "      <td>NaN</td>\n",
       "      <td>False</td>\n",
       "      <td>VP Marketing</td>\n",
       "      <td>executive</td>\n",
       "      <td>0</td>\n",
       "    </tr>\n",
       "    <tr>\n",
       "      <th>2</th>\n",
       "      <td>1319cd30-f5e8-c700-0af6-64029c6f7124</td>\n",
       "      <td>Raju Vegesna Chief Evangelist @ Zoho</td>\n",
       "      <td>9f99a98a-aa97-b30b-0d36-db67c1d277e0</td>\n",
       "      <td>Raju Vegesna</td>\n",
       "      <td>bf4d7b0e-b34d-2fd8-d292-6049c4f7efc7</td>\n",
       "      <td>Zoho</td>\n",
       "      <td>2000-11-01</td>\n",
       "      <td>NaN</td>\n",
       "      <td>True</td>\n",
       "      <td>Chief Evangelist</td>\n",
       "      <td>employee</td>\n",
       "      <td>0</td>\n",
       "    </tr>\n",
       "  </tbody>\n",
       "</table>\n",
       "</div>"
      ],
      "text/plain": [
       "                               job_uuid  \\\n",
       "0  697b6934-fc1f-9d63-cfb2-1a10759b378e   \n",
       "1  b1de3765-442e-b556-9304-551c2a055901   \n",
       "2  1319cd30-f5e8-c700-0af6-64029c6f7124   \n",
       "\n",
       "                                            job_name  \\\n",
       "0  Ben Elowitz Co-Founder/CEO/Board of Directors ...   \n",
       "1             Kevin Flaherty VP Marketing @ Wetpaint   \n",
       "2               Raju Vegesna Chief Evangelist @ Zoho   \n",
       "\n",
       "                            people_uuid     person_name  \\\n",
       "0  ed13cd36-fe2b-3707-197b-0c2d56e37a71     Ben Elowitz   \n",
       "1  5ceca97b-493c-1446-6249-5aaa33464763  Kevin Flaherty   \n",
       "2  9f99a98a-aa97-b30b-0d36-db67c1d277e0    Raju Vegesna   \n",
       "\n",
       "                               org_uuid  org_name  started_on ended_on  \\\n",
       "0  e1393508-30ea-8a36-3f96-dd3226033abd  Wetpaint         NaN      NaN   \n",
       "1  e1393508-30ea-8a36-3f96-dd3226033abd  Wetpaint         NaN      NaN   \n",
       "2  bf4d7b0e-b34d-2fd8-d292-6049c4f7efc7      Zoho  2000-11-01      NaN   \n",
       "\n",
       "   is_current                              title   job_type  is_founder  \n",
       "0       False  Co-Founder/CEO/Board of Directors  executive           1  \n",
       "1       False                       VP Marketing  executive           0  \n",
       "2        True                   Chief Evangelist   employee           0  "
      ]
     },
     "execution_count": 5,
     "metadata": {},
     "output_type": "execute_result"
    }
   ],
   "source": [
    "#import jobs file\n",
    "jobs_df = pd.read_csv(R\"d:/msc-project/data/pre-processed/jobs_preprocessed.csv\",encoding='utf-8',\n",
    "                         index_col=False,\n",
    "                         parse_dates= ['started_on','ended_on'])\n",
    "jobs_df.head(3)"
   ]
  },
  {
   "cell_type": "markdown",
   "id": "express-healing",
   "metadata": {},
   "source": [
    "# Assign Number of founder for each organisation"
   ]
  },
  {
   "cell_type": "code",
   "execution_count": 6,
   "id": "forbidden-completion",
   "metadata": {},
   "outputs": [
    {
     "data": {
      "text/html": [
       "<div>\n",
       "<style scoped>\n",
       "    .dataframe tbody tr th:only-of-type {\n",
       "        vertical-align: middle;\n",
       "    }\n",
       "\n",
       "    .dataframe tbody tr th {\n",
       "        vertical-align: top;\n",
       "    }\n",
       "\n",
       "    .dataframe thead th {\n",
       "        text-align: right;\n",
       "    }\n",
       "</style>\n",
       "<table border=\"1\" class=\"dataframe\">\n",
       "  <thead>\n",
       "    <tr style=\"text-align: right;\">\n",
       "      <th></th>\n",
       "      <th>org_uuid</th>\n",
       "      <th>num_founder</th>\n",
       "    </tr>\n",
       "  </thead>\n",
       "  <tbody>\n",
       "    <tr>\n",
       "      <th>0</th>\n",
       "      <td>9dc17185-743d-5fbc-f03b-ad0c81c8795d</td>\n",
       "      <td>1.0</td>\n",
       "    </tr>\n",
       "    <tr>\n",
       "      <th>1</th>\n",
       "      <td>9c8adac6-5c8e-9344-b763-6beab966c63c</td>\n",
       "      <td>NaN</td>\n",
       "    </tr>\n",
       "    <tr>\n",
       "      <th>2</th>\n",
       "      <td>6749cc07-efed-ff09-4efe-43faf6f580de</td>\n",
       "      <td>1.0</td>\n",
       "    </tr>\n",
       "  </tbody>\n",
       "</table>\n",
       "</div>"
      ],
      "text/plain": [
       "                               org_uuid  num_founder\n",
       "0  9dc17185-743d-5fbc-f03b-ad0c81c8795d          1.0\n",
       "1  9c8adac6-5c8e-9344-b763-6beab966c63c          NaN\n",
       "2  6749cc07-efed-ff09-4efe-43faf6f580de          1.0"
      ]
     },
     "execution_count": 6,
     "metadata": {},
     "output_type": "execute_result"
    }
   ],
   "source": [
    "num_founder = pd.DataFrame(jobs_df.groupby('org_uuid')['is_founder'].sum())\n",
    "main_processing_df_v1 = pd.merge(main_processing_df,\n",
    "                         num_founder,\n",
    "                         on='org_uuid',\n",
    "                         how='left'\n",
    "                         )\n",
    "main_processing_df_v1.rename(columns = {'is_founder':'num_founder'},inplace=True)\n",
    "main_processing_df_v1.head(3)"
   ]
  },
  {
   "cell_type": "code",
   "execution_count": 7,
   "id": "composed-tolerance",
   "metadata": {},
   "outputs": [],
   "source": [
    "#assign 0 for companies with no information of founder\n",
    "main_processing_df_v2 = main_processing_df_v1.fillna(0)"
   ]
  },
  {
   "cell_type": "code",
   "execution_count": 8,
   "id": "piano-rating",
   "metadata": {},
   "outputs": [
    {
     "data": {
      "text/plain": [
       "28727"
      ]
     },
     "execution_count": 8,
     "metadata": {},
     "output_type": "execute_result"
    }
   ],
   "source": [
    "len(main_processing_df_v2)"
   ]
  },
  {
   "cell_type": "code",
   "execution_count": 9,
   "id": "indoor-engagement",
   "metadata": {},
   "outputs": [
    {
     "data": {
      "text/html": [
       "<div>\n",
       "<style scoped>\n",
       "    .dataframe tbody tr th:only-of-type {\n",
       "        vertical-align: middle;\n",
       "    }\n",
       "\n",
       "    .dataframe tbody tr th {\n",
       "        vertical-align: top;\n",
       "    }\n",
       "\n",
       "    .dataframe thead th {\n",
       "        text-align: right;\n",
       "    }\n",
       "</style>\n",
       "<table border=\"1\" class=\"dataframe\">\n",
       "  <thead>\n",
       "    <tr style=\"text-align: right;\">\n",
       "      <th></th>\n",
       "      <th>org_uuid</th>\n",
       "      <th>num_founder</th>\n",
       "    </tr>\n",
       "  </thead>\n",
       "  <tbody>\n",
       "    <tr>\n",
       "      <th>0</th>\n",
       "      <td>9dc17185-743d-5fbc-f03b-ad0c81c8795d</td>\n",
       "      <td>1.0</td>\n",
       "    </tr>\n",
       "    <tr>\n",
       "      <th>1</th>\n",
       "      <td>9c8adac6-5c8e-9344-b763-6beab966c63c</td>\n",
       "      <td>0.0</td>\n",
       "    </tr>\n",
       "    <tr>\n",
       "      <th>2</th>\n",
       "      <td>6749cc07-efed-ff09-4efe-43faf6f580de</td>\n",
       "      <td>1.0</td>\n",
       "    </tr>\n",
       "    <tr>\n",
       "      <th>3</th>\n",
       "      <td>bbc29f4a-a798-4f74-f0a0-b1d8267692ac</td>\n",
       "      <td>0.0</td>\n",
       "    </tr>\n",
       "    <tr>\n",
       "      <th>4</th>\n",
       "      <td>9bbaf540-5994-029a-3346-501ad2d1fb89</td>\n",
       "      <td>2.0</td>\n",
       "    </tr>\n",
       "  </tbody>\n",
       "</table>\n",
       "</div>"
      ],
      "text/plain": [
       "                               org_uuid  num_founder\n",
       "0  9dc17185-743d-5fbc-f03b-ad0c81c8795d          1.0\n",
       "1  9c8adac6-5c8e-9344-b763-6beab966c63c          0.0\n",
       "2  6749cc07-efed-ff09-4efe-43faf6f580de          1.0\n",
       "3  bbc29f4a-a798-4f74-f0a0-b1d8267692ac          0.0\n",
       "4  9bbaf540-5994-029a-3346-501ad2d1fb89          2.0"
      ]
     },
     "execution_count": 9,
     "metadata": {},
     "output_type": "execute_result"
    }
   ],
   "source": [
    "main_processing_df_v2.head(5)"
   ]
  },
  {
   "cell_type": "markdown",
   "id": "agricultural-financing",
   "metadata": {},
   "source": [
    "# Assign Gender Diversity Features"
   ]
  },
  {
   "cell_type": "code",
   "execution_count": 10,
   "id": "intermediate-orange",
   "metadata": {},
   "outputs": [],
   "source": [
    "founder_df = jobs_df[jobs_df['is_founder'] == 1]\n",
    "founder_gb = founder_df.groupby('org_uuid')"
   ]
  },
  {
   "cell_type": "code",
   "execution_count": 11,
   "id": "honest-addition",
   "metadata": {},
   "outputs": [],
   "source": [
    "people_df = pd.read_csv(R\"d:/msc-project/data/pre-processed/people_preprocessed.csv\",encoding='utf-8',\n",
    "                         index_col=False)"
   ]
  },
  {
   "cell_type": "code",
   "execution_count": 12,
   "id": "regional-matthew",
   "metadata": {},
   "outputs": [
    {
     "data": {
      "text/plain": [
       "Index(['people_uuid', 'people_name', 'first_name', 'last_name', 'gender',\n",
       "       'country_code', 'state_code', 'region', 'city', 'org_uuid',\n",
       "       'featured_job_organization_name', 'featured_job_title', 'facebook_url',\n",
       "       'linkedin_url', 'twitter_url', 'logo_url', 'description'],\n",
       "      dtype='object')"
      ]
     },
     "execution_count": 12,
     "metadata": {},
     "output_type": "execute_result"
    }
   ],
   "source": [
    "people_df.columns"
   ]
  },
  {
   "cell_type": "code",
   "execution_count": 13,
   "id": "frozen-column",
   "metadata": {},
   "outputs": [],
   "source": [
    "founder_gender_df = pd.merge(founder_df[['people_uuid','org_uuid']],\n",
    "                             people_df[['people_uuid','gender']],\n",
    "                             on='people_uuid',\n",
    "                             how='left')"
   ]
  },
  {
   "cell_type": "code",
   "execution_count": 14,
   "id": "sustained-sculpture",
   "metadata": {},
   "outputs": [
    {
     "data": {
      "text/html": [
       "<div>\n",
       "<style scoped>\n",
       "    .dataframe tbody tr th:only-of-type {\n",
       "        vertical-align: middle;\n",
       "    }\n",
       "\n",
       "    .dataframe tbody tr th {\n",
       "        vertical-align: top;\n",
       "    }\n",
       "\n",
       "    .dataframe thead th {\n",
       "        text-align: right;\n",
       "    }\n",
       "</style>\n",
       "<table border=\"1\" class=\"dataframe\">\n",
       "  <thead>\n",
       "    <tr style=\"text-align: right;\">\n",
       "      <th></th>\n",
       "      <th>people_uuid</th>\n",
       "      <th>org_uuid</th>\n",
       "      <th>gender</th>\n",
       "    </tr>\n",
       "  </thead>\n",
       "  <tbody>\n",
       "    <tr>\n",
       "      <th>0</th>\n",
       "      <td>ed13cd36-fe2b-3707-197b-0c2d56e37a71</td>\n",
       "      <td>e1393508-30ea-8a36-3f96-dd3226033abd</td>\n",
       "      <td>male</td>\n",
       "    </tr>\n",
       "    <tr>\n",
       "      <th>1</th>\n",
       "      <td>a01b8d46-d311-3333-7c34-aa3ae9c03f22</td>\n",
       "      <td>df662812-7f97-0b43-9d3e-12f64f504fbb</td>\n",
       "      <td>male</td>\n",
       "    </tr>\n",
       "    <tr>\n",
       "      <th>2</th>\n",
       "      <td>084aaa07-0795-1fe8-9c46-98bbeb02cd64</td>\n",
       "      <td>df662812-7f97-0b43-9d3e-12f64f504fbb</td>\n",
       "      <td>male</td>\n",
       "    </tr>\n",
       "  </tbody>\n",
       "</table>\n",
       "</div>"
      ],
      "text/plain": [
       "                            people_uuid                              org_uuid  \\\n",
       "0  ed13cd36-fe2b-3707-197b-0c2d56e37a71  e1393508-30ea-8a36-3f96-dd3226033abd   \n",
       "1  a01b8d46-d311-3333-7c34-aa3ae9c03f22  df662812-7f97-0b43-9d3e-12f64f504fbb   \n",
       "2  084aaa07-0795-1fe8-9c46-98bbeb02cd64  df662812-7f97-0b43-9d3e-12f64f504fbb   \n",
       "\n",
       "  gender  \n",
       "0   male  \n",
       "1   male  \n",
       "2   male  "
      ]
     },
     "execution_count": 14,
     "metadata": {},
     "output_type": "execute_result"
    }
   ],
   "source": [
    "founder_gender_df.head(3)"
   ]
  },
  {
   "cell_type": "code",
   "execution_count": 15,
   "id": "stainless-bread",
   "metadata": {},
   "outputs": [
    {
     "data": {
      "text/plain": [
       "332569"
      ]
     },
     "execution_count": 15,
     "metadata": {},
     "output_type": "execute_result"
    }
   ],
   "source": [
    "len(founder_df)"
   ]
  },
  {
   "cell_type": "code",
   "execution_count": 16,
   "id": "motivated-mobile",
   "metadata": {},
   "outputs": [
    {
     "data": {
      "text/plain": [
       "332569"
      ]
     },
     "execution_count": 16,
     "metadata": {},
     "output_type": "execute_result"
    }
   ],
   "source": [
    "len(founder_gender_df)"
   ]
  },
  {
   "cell_type": "code",
   "execution_count": 17,
   "id": "creative-plant",
   "metadata": {},
   "outputs": [],
   "source": [
    "founder_gender_gb = founder_gender_df.groupby('org_uuid')"
   ]
  },
  {
   "cell_type": "code",
   "execution_count": 18,
   "id": "suitable-biodiversity",
   "metadata": {},
   "outputs": [],
   "source": [
    "is_founder_gender_diversity = list()\n",
    "\n",
    "for org_uuid in list(main_processing_df_v2['org_uuid']):\n",
    "    founders_gender = list(founder_gender_df[founder_gender_df['org_uuid'] == org_uuid]['gender']) #create list of founder's gender for one organisation\n",
    "    if 'male' in founders_gender and 'female' in founders_gender: #assign 1 if male and female in gender list\n",
    "        is_founder_gender_diversity.append(1)\n",
    "    else:\n",
    "        is_founder_gender_diversity.append(0)\n",
    "\n",
    "main_processing_df_v2['is_founder_gender_diversity'] = is_founder_gender_diversity"
   ]
  },
  {
   "cell_type": "code",
   "execution_count": 19,
   "id": "phantom-pontiac",
   "metadata": {},
   "outputs": [
    {
     "data": {
      "text/plain": [
       "28727"
      ]
     },
     "execution_count": 19,
     "metadata": {},
     "output_type": "execute_result"
    }
   ],
   "source": [
    "len(is_founder_gender_diversity)"
   ]
  },
  {
   "cell_type": "code",
   "execution_count": 20,
   "id": "explicit-mainland",
   "metadata": {},
   "outputs": [
    {
     "data": {
      "text/plain": [
       "1733"
      ]
     },
     "execution_count": 20,
     "metadata": {},
     "output_type": "execute_result"
    }
   ],
   "source": [
    "is_founder_gender_diversity.count(1)"
   ]
  },
  {
   "cell_type": "code",
   "execution_count": 21,
   "id": "crazy-cleveland",
   "metadata": {},
   "outputs": [
    {
     "data": {
      "text/plain": [
       "28727"
      ]
     },
     "execution_count": 21,
     "metadata": {},
     "output_type": "execute_result"
    }
   ],
   "source": [
    "len(main_processing_df_v2)"
   ]
  },
  {
   "cell_type": "code",
   "execution_count": 22,
   "id": "specific-calculation",
   "metadata": {},
   "outputs": [
    {
     "data": {
      "text/html": [
       "<div>\n",
       "<style scoped>\n",
       "    .dataframe tbody tr th:only-of-type {\n",
       "        vertical-align: middle;\n",
       "    }\n",
       "\n",
       "    .dataframe tbody tr th {\n",
       "        vertical-align: top;\n",
       "    }\n",
       "\n",
       "    .dataframe thead th {\n",
       "        text-align: right;\n",
       "    }\n",
       "</style>\n",
       "<table border=\"1\" class=\"dataframe\">\n",
       "  <thead>\n",
       "    <tr style=\"text-align: right;\">\n",
       "      <th></th>\n",
       "      <th>org_uuid</th>\n",
       "      <th>num_founder</th>\n",
       "      <th>is_founder_gender_diversity</th>\n",
       "    </tr>\n",
       "  </thead>\n",
       "  <tbody>\n",
       "    <tr>\n",
       "      <th>0</th>\n",
       "      <td>9dc17185-743d-5fbc-f03b-ad0c81c8795d</td>\n",
       "      <td>1.0</td>\n",
       "      <td>0</td>\n",
       "    </tr>\n",
       "    <tr>\n",
       "      <th>1</th>\n",
       "      <td>9c8adac6-5c8e-9344-b763-6beab966c63c</td>\n",
       "      <td>0.0</td>\n",
       "      <td>0</td>\n",
       "    </tr>\n",
       "    <tr>\n",
       "      <th>2</th>\n",
       "      <td>6749cc07-efed-ff09-4efe-43faf6f580de</td>\n",
       "      <td>1.0</td>\n",
       "      <td>0</td>\n",
       "    </tr>\n",
       "  </tbody>\n",
       "</table>\n",
       "</div>"
      ],
      "text/plain": [
       "                               org_uuid  num_founder  \\\n",
       "0  9dc17185-743d-5fbc-f03b-ad0c81c8795d          1.0   \n",
       "1  9c8adac6-5c8e-9344-b763-6beab966c63c          0.0   \n",
       "2  6749cc07-efed-ff09-4efe-43faf6f580de          1.0   \n",
       "\n",
       "   is_founder_gender_diversity  \n",
       "0                            0  \n",
       "1                            0  \n",
       "2                            0  "
      ]
     },
     "execution_count": 22,
     "metadata": {},
     "output_type": "execute_result"
    }
   ],
   "source": [
    "main_processing_df_v2.head(3)"
   ]
  },
  {
   "cell_type": "markdown",
   "id": "protective-programming",
   "metadata": {},
   "source": [
    "# Assigning number of founder with degree level, ivy league, and top100 to organisation."
   ]
  },
  {
   "cell_type": "code",
   "execution_count": 23,
   "id": "naval-algebra",
   "metadata": {},
   "outputs": [
    {
     "data": {
      "text/html": [
       "<div>\n",
       "<style scoped>\n",
       "    .dataframe tbody tr th:only-of-type {\n",
       "        vertical-align: middle;\n",
       "    }\n",
       "\n",
       "    .dataframe tbody tr th {\n",
       "        vertical-align: top;\n",
       "    }\n",
       "\n",
       "    .dataframe thead th {\n",
       "        text-align: right;\n",
       "    }\n",
       "</style>\n",
       "<table border=\"1\" class=\"dataframe\">\n",
       "  <thead>\n",
       "    <tr style=\"text-align: right;\">\n",
       "      <th></th>\n",
       "      <th>deg_uuid</th>\n",
       "      <th>deg_name</th>\n",
       "      <th>people_uuid</th>\n",
       "      <th>person_name</th>\n",
       "      <th>institution_uuid</th>\n",
       "      <th>institution_name</th>\n",
       "      <th>degree_type</th>\n",
       "      <th>subject</th>\n",
       "      <th>started_on</th>\n",
       "      <th>completed_on</th>\n",
       "      <th>is_completed</th>\n",
       "      <th>is_bachelor</th>\n",
       "      <th>is_master</th>\n",
       "      <th>is_phd</th>\n",
       "      <th>is_mba</th>\n",
       "      <th>is_stem</th>\n",
       "      <th>is_ivy_league</th>\n",
       "      <th>is_top_100</th>\n",
       "    </tr>\n",
       "  </thead>\n",
       "  <tbody>\n",
       "    <tr>\n",
       "      <th>0</th>\n",
       "      <td>205fdfd1-ecac-aa43-262f-219f11755f67</td>\n",
       "      <td>MS  Mass Communication @ Boston University</td>\n",
       "      <td>4897dba9-3141-ecc0-2c4b-c9d844e6440f</td>\n",
       "      <td>John Green</td>\n",
       "      <td>1eab62d2-15d9-0db7-930f-2aa77d4688e1</td>\n",
       "      <td>Boston University</td>\n",
       "      <td>MS</td>\n",
       "      <td>Mass Communication</td>\n",
       "      <td>NaN</td>\n",
       "      <td>1992-01-01</td>\n",
       "      <td>True</td>\n",
       "      <td>0</td>\n",
       "      <td>1</td>\n",
       "      <td>0</td>\n",
       "      <td>0</td>\n",
       "      <td>1</td>\n",
       "      <td>0</td>\n",
       "      <td>1</td>\n",
       "    </tr>\n",
       "    <tr>\n",
       "      <th>1</th>\n",
       "      <td>1a2ac288-eb99-3318-fde5-1517bc168f51</td>\n",
       "      <td>BA  English, French @ Washington University in...</td>\n",
       "      <td>4897dba9-3141-ecc0-2c4b-c9d844e6440f</td>\n",
       "      <td>John Green</td>\n",
       "      <td>6ae9957a-8fb4-0ab1-73fa-dd547c4d3da4</td>\n",
       "      <td>Washington University in St. Louis</td>\n",
       "      <td>BA</td>\n",
       "      <td>English, French</td>\n",
       "      <td>NaN</td>\n",
       "      <td>1990-01-01</td>\n",
       "      <td>True</td>\n",
       "      <td>1</td>\n",
       "      <td>0</td>\n",
       "      <td>0</td>\n",
       "      <td>0</td>\n",
       "      <td>0</td>\n",
       "      <td>0</td>\n",
       "      <td>0</td>\n",
       "    </tr>\n",
       "    <tr>\n",
       "      <th>2</th>\n",
       "      <td>b978d338-7ccc-7469-5ce7-ef98c34155ad</td>\n",
       "      <td>MS  Internet Technology @ University of Greenwich</td>\n",
       "      <td>7d187b77-94f7-e6cc-6981-d7468db5968f</td>\n",
       "      <td>Sridhar Gundaiah</td>\n",
       "      <td>b5ea73f6-12a3-576d-ae9b-f4169147f974</td>\n",
       "      <td>University of Greenwich</td>\n",
       "      <td>MS</td>\n",
       "      <td>Internet Technology</td>\n",
       "      <td>NaN</td>\n",
       "      <td>2006-01-01</td>\n",
       "      <td>True</td>\n",
       "      <td>0</td>\n",
       "      <td>1</td>\n",
       "      <td>0</td>\n",
       "      <td>0</td>\n",
       "      <td>1</td>\n",
       "      <td>0</td>\n",
       "      <td>0</td>\n",
       "    </tr>\n",
       "  </tbody>\n",
       "</table>\n",
       "</div>"
      ],
      "text/plain": [
       "                               deg_uuid  \\\n",
       "0  205fdfd1-ecac-aa43-262f-219f11755f67   \n",
       "1  1a2ac288-eb99-3318-fde5-1517bc168f51   \n",
       "2  b978d338-7ccc-7469-5ce7-ef98c34155ad   \n",
       "\n",
       "                                            deg_name  \\\n",
       "0         MS  Mass Communication @ Boston University   \n",
       "1  BA  English, French @ Washington University in...   \n",
       "2  MS  Internet Technology @ University of Greenwich   \n",
       "\n",
       "                            people_uuid       person_name  \\\n",
       "0  4897dba9-3141-ecc0-2c4b-c9d844e6440f        John Green   \n",
       "1  4897dba9-3141-ecc0-2c4b-c9d844e6440f        John Green   \n",
       "2  7d187b77-94f7-e6cc-6981-d7468db5968f  Sridhar Gundaiah   \n",
       "\n",
       "                       institution_uuid                    institution_name  \\\n",
       "0  1eab62d2-15d9-0db7-930f-2aa77d4688e1                   Boston University   \n",
       "1  6ae9957a-8fb4-0ab1-73fa-dd547c4d3da4  Washington University in St. Louis   \n",
       "2  b5ea73f6-12a3-576d-ae9b-f4169147f974             University of Greenwich   \n",
       "\n",
       "  degree_type              subject started_on completed_on  is_completed  \\\n",
       "0          MS   Mass Communication        NaN   1992-01-01          True   \n",
       "1          BA      English, French        NaN   1990-01-01          True   \n",
       "2          MS  Internet Technology        NaN   2006-01-01          True   \n",
       "\n",
       "   is_bachelor  is_master  is_phd  is_mba  is_stem  is_ivy_league  is_top_100  \n",
       "0            0          1       0       0        1              0           1  \n",
       "1            1          0       0       0        0              0           0  \n",
       "2            0          1       0       0        1              0           0  "
      ]
     },
     "execution_count": 23,
     "metadata": {},
     "output_type": "execute_result"
    }
   ],
   "source": [
    "#import processed degree file\n",
    "deg_df = pd.read_csv(R\"d:/msc-project/data/pre-processed/degrees_preprocessed.csv\",encoding='utf-8',\n",
    "                         index_col=False)\n",
    "deg_df.head(3)"
   ]
  },
  {
   "cell_type": "code",
   "execution_count": 24,
   "id": "excess-eugene",
   "metadata": {},
   "outputs": [
    {
     "data": {
      "text/plain": [
       "47496"
      ]
     },
     "execution_count": 24,
     "metadata": {},
     "output_type": "execute_result"
    }
   ],
   "source": [
    "#merge founder df with main processing to compress size of founder df to only companies in sample\n",
    "founder_df_v1 = pd.merge(main_processing_df_v2['org_uuid'],\n",
    "                         founder_df,\n",
    "                         on='org_uuid',\n",
    "                         how='left')\n",
    "len(founder_df_v1)"
   ]
  },
  {
   "cell_type": "code",
   "execution_count": 25,
   "id": "extensive-elephant",
   "metadata": {},
   "outputs": [
    {
     "data": {
      "text/plain": [
       "51787"
      ]
     },
     "execution_count": 25,
     "metadata": {},
     "output_type": "execute_result"
    }
   ],
   "source": [
    "#merge degree with founder_df\n",
    "deg_type_df = deg_df[['people_uuid','is_bachelor','is_master','is_phd','is_mba','is_stem','is_ivy_league','is_top_100']]\n",
    "founder_degree_df = pd.merge(founder_df_v1[['org_uuid','people_uuid']],\n",
    "                             deg_type_df,\n",
    "                             on='people_uuid',\n",
    "                             how='left')\n",
    "founder_degree_df.fillna(value=0,inplace=True)\n",
    "len(founder_degree_df)"
   ]
  },
  {
   "cell_type": "code",
   "execution_count": 26,
   "id": "limited-alcohol",
   "metadata": {},
   "outputs": [
    {
     "data": {
      "text/html": [
       "<div>\n",
       "<style scoped>\n",
       "    .dataframe tbody tr th:only-of-type {\n",
       "        vertical-align: middle;\n",
       "    }\n",
       "\n",
       "    .dataframe tbody tr th {\n",
       "        vertical-align: top;\n",
       "    }\n",
       "\n",
       "    .dataframe thead th {\n",
       "        text-align: right;\n",
       "    }\n",
       "</style>\n",
       "<table border=\"1\" class=\"dataframe\">\n",
       "  <thead>\n",
       "    <tr style=\"text-align: right;\">\n",
       "      <th></th>\n",
       "      <th>org_uuid</th>\n",
       "      <th>people_uuid</th>\n",
       "      <th>is_bachelor</th>\n",
       "      <th>is_master</th>\n",
       "      <th>is_phd</th>\n",
       "      <th>is_mba</th>\n",
       "      <th>is_stem</th>\n",
       "      <th>is_ivy_league</th>\n",
       "      <th>is_top_100</th>\n",
       "    </tr>\n",
       "  </thead>\n",
       "  <tbody>\n",
       "    <tr>\n",
       "      <th>0</th>\n",
       "      <td>9dc17185-743d-5fbc-f03b-ad0c81c8795d</td>\n",
       "      <td>31dabae0-f52d-7a27-4f76-51f4d4dfa04c</td>\n",
       "      <td>0.0</td>\n",
       "      <td>0.0</td>\n",
       "      <td>0.0</td>\n",
       "      <td>0.0</td>\n",
       "      <td>0.0</td>\n",
       "      <td>0.0</td>\n",
       "      <td>0.0</td>\n",
       "    </tr>\n",
       "    <tr>\n",
       "      <th>1</th>\n",
       "      <td>9c8adac6-5c8e-9344-b763-6beab966c63c</td>\n",
       "      <td>0</td>\n",
       "      <td>0.0</td>\n",
       "      <td>0.0</td>\n",
       "      <td>0.0</td>\n",
       "      <td>0.0</td>\n",
       "      <td>0.0</td>\n",
       "      <td>0.0</td>\n",
       "      <td>0.0</td>\n",
       "    </tr>\n",
       "    <tr>\n",
       "      <th>2</th>\n",
       "      <td>6749cc07-efed-ff09-4efe-43faf6f580de</td>\n",
       "      <td>d5e595c1-9ccd-4f89-8c9b-c8cc3c17076d</td>\n",
       "      <td>0.0</td>\n",
       "      <td>0.0</td>\n",
       "      <td>1.0</td>\n",
       "      <td>0.0</td>\n",
       "      <td>0.0</td>\n",
       "      <td>0.0</td>\n",
       "      <td>0.0</td>\n",
       "    </tr>\n",
       "  </tbody>\n",
       "</table>\n",
       "</div>"
      ],
      "text/plain": [
       "                               org_uuid                           people_uuid  \\\n",
       "0  9dc17185-743d-5fbc-f03b-ad0c81c8795d  31dabae0-f52d-7a27-4f76-51f4d4dfa04c   \n",
       "1  9c8adac6-5c8e-9344-b763-6beab966c63c                                     0   \n",
       "2  6749cc07-efed-ff09-4efe-43faf6f580de  d5e595c1-9ccd-4f89-8c9b-c8cc3c17076d   \n",
       "\n",
       "   is_bachelor  is_master  is_phd  is_mba  is_stem  is_ivy_league  is_top_100  \n",
       "0          0.0        0.0     0.0     0.0      0.0            0.0         0.0  \n",
       "1          0.0        0.0     0.0     0.0      0.0            0.0         0.0  \n",
       "2          0.0        0.0     1.0     0.0      0.0            0.0         0.0  "
      ]
     },
     "execution_count": 26,
     "metadata": {},
     "output_type": "execute_result"
    }
   ],
   "source": [
    "founder_degree_df.head(3)"
   ]
  },
  {
   "cell_type": "code",
   "execution_count": 27,
   "id": "enclosed-submission",
   "metadata": {},
   "outputs": [
    {
     "data": {
      "text/plain": [
       "28727"
      ]
     },
     "execution_count": 27,
     "metadata": {},
     "output_type": "execute_result"
    }
   ],
   "source": [
    "#sum the number of founder with degree classification using groupby method\n",
    "founder_degree_df_v1 = founder_degree_df[['org_uuid','is_bachelor','is_master','is_phd','is_mba','is_stem',\n",
    "                                          'is_ivy_league','is_top_100']].groupby('org_uuid').sum()\n",
    "len(founder_degree_df_v1)"
   ]
  },
  {
   "cell_type": "code",
   "execution_count": 28,
   "id": "working-limitation",
   "metadata": {},
   "outputs": [
    {
     "data": {
      "text/html": [
       "<div>\n",
       "<style scoped>\n",
       "    .dataframe tbody tr th:only-of-type {\n",
       "        vertical-align: middle;\n",
       "    }\n",
       "\n",
       "    .dataframe tbody tr th {\n",
       "        vertical-align: top;\n",
       "    }\n",
       "\n",
       "    .dataframe thead th {\n",
       "        text-align: right;\n",
       "    }\n",
       "</style>\n",
       "<table border=\"1\" class=\"dataframe\">\n",
       "  <thead>\n",
       "    <tr style=\"text-align: right;\">\n",
       "      <th></th>\n",
       "      <th>is_bachelor</th>\n",
       "      <th>is_master</th>\n",
       "      <th>is_phd</th>\n",
       "      <th>is_mba</th>\n",
       "      <th>is_stem</th>\n",
       "      <th>is_ivy_league</th>\n",
       "      <th>is_top_100</th>\n",
       "    </tr>\n",
       "    <tr>\n",
       "      <th>org_uuid</th>\n",
       "      <th></th>\n",
       "      <th></th>\n",
       "      <th></th>\n",
       "      <th></th>\n",
       "      <th></th>\n",
       "      <th></th>\n",
       "      <th></th>\n",
       "    </tr>\n",
       "  </thead>\n",
       "  <tbody>\n",
       "    <tr>\n",
       "      <th>00002470-bff7-6226-5800-0ca1b3787b6f</th>\n",
       "      <td>2.0</td>\n",
       "      <td>1.0</td>\n",
       "      <td>0.0</td>\n",
       "      <td>0.0</td>\n",
       "      <td>3.0</td>\n",
       "      <td>0.0</td>\n",
       "      <td>3.0</td>\n",
       "    </tr>\n",
       "    <tr>\n",
       "      <th>0000d497-c93a-eea3-eeb0-a943dfb4f71e</th>\n",
       "      <td>1.0</td>\n",
       "      <td>0.0</td>\n",
       "      <td>0.0</td>\n",
       "      <td>0.0</td>\n",
       "      <td>1.0</td>\n",
       "      <td>0.0</td>\n",
       "      <td>0.0</td>\n",
       "    </tr>\n",
       "    <tr>\n",
       "      <th>00040dc9-f822-267c-9cf8-1c9b92ca0588</th>\n",
       "      <td>1.0</td>\n",
       "      <td>0.0</td>\n",
       "      <td>0.0</td>\n",
       "      <td>0.0</td>\n",
       "      <td>1.0</td>\n",
       "      <td>0.0</td>\n",
       "      <td>0.0</td>\n",
       "    </tr>\n",
       "  </tbody>\n",
       "</table>\n",
       "</div>"
      ],
      "text/plain": [
       "                                      is_bachelor  is_master  is_phd  is_mba  \\\n",
       "org_uuid                                                                       \n",
       "00002470-bff7-6226-5800-0ca1b3787b6f          2.0        1.0     0.0     0.0   \n",
       "0000d497-c93a-eea3-eeb0-a943dfb4f71e          1.0        0.0     0.0     0.0   \n",
       "00040dc9-f822-267c-9cf8-1c9b92ca0588          1.0        0.0     0.0     0.0   \n",
       "\n",
       "                                      is_stem  is_ivy_league  is_top_100  \n",
       "org_uuid                                                                  \n",
       "00002470-bff7-6226-5800-0ca1b3787b6f      3.0            0.0         3.0  \n",
       "0000d497-c93a-eea3-eeb0-a943dfb4f71e      1.0            0.0         0.0  \n",
       "00040dc9-f822-267c-9cf8-1c9b92ca0588      1.0            0.0         0.0  "
      ]
     },
     "execution_count": 28,
     "metadata": {},
     "output_type": "execute_result"
    }
   ],
   "source": [
    "founder_degree_df_v1.head(3)"
   ]
  },
  {
   "cell_type": "code",
   "execution_count": 29,
   "id": "extreme-bookmark",
   "metadata": {},
   "outputs": [],
   "source": [
    "#rename folder to reflect features\n",
    "new_column_names = list ()\n",
    "\n",
    "for column_name in founder_degree_df_v1.columns: \n",
    "    new_column_names.append('num' + column_name[2:])\n",
    "    \n",
    "new_column_dict = dict(zip(founder_degree_df_v1.columns,new_column_names))\n",
    "founder_degree_df_v2 = founder_degree_df_v1.rename(columns=new_column_dict)"
   ]
  },
  {
   "cell_type": "code",
   "execution_count": 30,
   "id": "af0e318d",
   "metadata": {},
   "outputs": [
    {
     "data": {
      "text/html": [
       "<div>\n",
       "<style scoped>\n",
       "    .dataframe tbody tr th:only-of-type {\n",
       "        vertical-align: middle;\n",
       "    }\n",
       "\n",
       "    .dataframe tbody tr th {\n",
       "        vertical-align: top;\n",
       "    }\n",
       "\n",
       "    .dataframe thead th {\n",
       "        text-align: right;\n",
       "    }\n",
       "</style>\n",
       "<table border=\"1\" class=\"dataframe\">\n",
       "  <thead>\n",
       "    <tr style=\"text-align: right;\">\n",
       "      <th></th>\n",
       "      <th>num_bachelor</th>\n",
       "      <th>num_master</th>\n",
       "      <th>num_phd</th>\n",
       "      <th>num_mba</th>\n",
       "      <th>num_stem</th>\n",
       "      <th>num_ivy_league</th>\n",
       "      <th>num_top_100</th>\n",
       "    </tr>\n",
       "  </thead>\n",
       "  <tbody>\n",
       "    <tr>\n",
       "      <th>count</th>\n",
       "      <td>28727.000000</td>\n",
       "      <td>28727.000000</td>\n",
       "      <td>28727.000000</td>\n",
       "      <td>28727.000000</td>\n",
       "      <td>28727.000000</td>\n",
       "      <td>28727.000000</td>\n",
       "      <td>28727.000000</td>\n",
       "    </tr>\n",
       "    <tr>\n",
       "      <th>mean</th>\n",
       "      <td>0.263759</td>\n",
       "      <td>0.174226</td>\n",
       "      <td>0.046507</td>\n",
       "      <td>0.066244</td>\n",
       "      <td>0.206948</td>\n",
       "      <td>0.038292</td>\n",
       "      <td>0.142061</td>\n",
       "    </tr>\n",
       "    <tr>\n",
       "      <th>std</th>\n",
       "      <td>0.617813</td>\n",
       "      <td>0.532028</td>\n",
       "      <td>0.250173</td>\n",
       "      <td>0.290784</td>\n",
       "      <td>0.596197</td>\n",
       "      <td>0.243689</td>\n",
       "      <td>0.517104</td>\n",
       "    </tr>\n",
       "    <tr>\n",
       "      <th>min</th>\n",
       "      <td>0.000000</td>\n",
       "      <td>0.000000</td>\n",
       "      <td>0.000000</td>\n",
       "      <td>0.000000</td>\n",
       "      <td>0.000000</td>\n",
       "      <td>0.000000</td>\n",
       "      <td>0.000000</td>\n",
       "    </tr>\n",
       "    <tr>\n",
       "      <th>25%</th>\n",
       "      <td>0.000000</td>\n",
       "      <td>0.000000</td>\n",
       "      <td>0.000000</td>\n",
       "      <td>0.000000</td>\n",
       "      <td>0.000000</td>\n",
       "      <td>0.000000</td>\n",
       "      <td>0.000000</td>\n",
       "    </tr>\n",
       "    <tr>\n",
       "      <th>50%</th>\n",
       "      <td>0.000000</td>\n",
       "      <td>0.000000</td>\n",
       "      <td>0.000000</td>\n",
       "      <td>0.000000</td>\n",
       "      <td>0.000000</td>\n",
       "      <td>0.000000</td>\n",
       "      <td>0.000000</td>\n",
       "    </tr>\n",
       "    <tr>\n",
       "      <th>75%</th>\n",
       "      <td>0.000000</td>\n",
       "      <td>0.000000</td>\n",
       "      <td>0.000000</td>\n",
       "      <td>0.000000</td>\n",
       "      <td>0.000000</td>\n",
       "      <td>0.000000</td>\n",
       "      <td>0.000000</td>\n",
       "    </tr>\n",
       "    <tr>\n",
       "      <th>max</th>\n",
       "      <td>11.000000</td>\n",
       "      <td>22.000000</td>\n",
       "      <td>5.000000</td>\n",
       "      <td>7.000000</td>\n",
       "      <td>16.000000</td>\n",
       "      <td>8.000000</td>\n",
       "      <td>9.000000</td>\n",
       "    </tr>\n",
       "  </tbody>\n",
       "</table>\n",
       "</div>"
      ],
      "text/plain": [
       "       num_bachelor    num_master       num_phd       num_mba      num_stem  \\\n",
       "count  28727.000000  28727.000000  28727.000000  28727.000000  28727.000000   \n",
       "mean       0.263759      0.174226      0.046507      0.066244      0.206948   \n",
       "std        0.617813      0.532028      0.250173      0.290784      0.596197   \n",
       "min        0.000000      0.000000      0.000000      0.000000      0.000000   \n",
       "25%        0.000000      0.000000      0.000000      0.000000      0.000000   \n",
       "50%        0.000000      0.000000      0.000000      0.000000      0.000000   \n",
       "75%        0.000000      0.000000      0.000000      0.000000      0.000000   \n",
       "max       11.000000     22.000000      5.000000      7.000000     16.000000   \n",
       "\n",
       "       num_ivy_league   num_top_100  \n",
       "count    28727.000000  28727.000000  \n",
       "mean         0.038292      0.142061  \n",
       "std          0.243689      0.517104  \n",
       "min          0.000000      0.000000  \n",
       "25%          0.000000      0.000000  \n",
       "50%          0.000000      0.000000  \n",
       "75%          0.000000      0.000000  \n",
       "max          8.000000      9.000000  "
      ]
     },
     "execution_count": 30,
     "metadata": {},
     "output_type": "execute_result"
    }
   ],
   "source": [
    "founder_degree_df_v2.describe()"
   ]
  },
  {
   "cell_type": "code",
   "execution_count": 31,
   "id": "powerful-dylan",
   "metadata": {},
   "outputs": [],
   "source": [
    "founder_degree_df_v2.reset_index(inplace=True)"
   ]
  },
  {
   "cell_type": "code",
   "execution_count": 32,
   "id": "heard-deposit",
   "metadata": {},
   "outputs": [
    {
     "data": {
      "text/html": [
       "<div>\n",
       "<style scoped>\n",
       "    .dataframe tbody tr th:only-of-type {\n",
       "        vertical-align: middle;\n",
       "    }\n",
       "\n",
       "    .dataframe tbody tr th {\n",
       "        vertical-align: top;\n",
       "    }\n",
       "\n",
       "    .dataframe thead th {\n",
       "        text-align: right;\n",
       "    }\n",
       "</style>\n",
       "<table border=\"1\" class=\"dataframe\">\n",
       "  <thead>\n",
       "    <tr style=\"text-align: right;\">\n",
       "      <th></th>\n",
       "      <th>org_uuid</th>\n",
       "      <th>num_bachelor</th>\n",
       "      <th>num_master</th>\n",
       "      <th>num_phd</th>\n",
       "      <th>num_mba</th>\n",
       "      <th>num_stem</th>\n",
       "      <th>num_ivy_league</th>\n",
       "      <th>num_top_100</th>\n",
       "    </tr>\n",
       "  </thead>\n",
       "  <tbody>\n",
       "    <tr>\n",
       "      <th>0</th>\n",
       "      <td>00002470-bff7-6226-5800-0ca1b3787b6f</td>\n",
       "      <td>2.0</td>\n",
       "      <td>1.0</td>\n",
       "      <td>0.0</td>\n",
       "      <td>0.0</td>\n",
       "      <td>3.0</td>\n",
       "      <td>0.0</td>\n",
       "      <td>3.0</td>\n",
       "    </tr>\n",
       "    <tr>\n",
       "      <th>1</th>\n",
       "      <td>0000d497-c93a-eea3-eeb0-a943dfb4f71e</td>\n",
       "      <td>1.0</td>\n",
       "      <td>0.0</td>\n",
       "      <td>0.0</td>\n",
       "      <td>0.0</td>\n",
       "      <td>1.0</td>\n",
       "      <td>0.0</td>\n",
       "      <td>0.0</td>\n",
       "    </tr>\n",
       "    <tr>\n",
       "      <th>2</th>\n",
       "      <td>00040dc9-f822-267c-9cf8-1c9b92ca0588</td>\n",
       "      <td>1.0</td>\n",
       "      <td>0.0</td>\n",
       "      <td>0.0</td>\n",
       "      <td>0.0</td>\n",
       "      <td>1.0</td>\n",
       "      <td>0.0</td>\n",
       "      <td>0.0</td>\n",
       "    </tr>\n",
       "  </tbody>\n",
       "</table>\n",
       "</div>"
      ],
      "text/plain": [
       "                               org_uuid  num_bachelor  num_master  num_phd  \\\n",
       "0  00002470-bff7-6226-5800-0ca1b3787b6f           2.0         1.0      0.0   \n",
       "1  0000d497-c93a-eea3-eeb0-a943dfb4f71e           1.0         0.0      0.0   \n",
       "2  00040dc9-f822-267c-9cf8-1c9b92ca0588           1.0         0.0      0.0   \n",
       "\n",
       "   num_mba  num_stem  num_ivy_league  num_top_100  \n",
       "0      0.0       3.0             0.0          3.0  \n",
       "1      0.0       1.0             0.0          0.0  \n",
       "2      0.0       1.0             0.0          0.0  "
      ]
     },
     "execution_count": 32,
     "metadata": {},
     "output_type": "execute_result"
    }
   ],
   "source": [
    "founder_degree_df_v2.head(3)"
   ]
  },
  {
   "cell_type": "code",
   "execution_count": 33,
   "id": "gothic-paintball",
   "metadata": {},
   "outputs": [],
   "source": [
    "main_processing_df_v3 = pd.merge(main_processing_df_v2,\n",
    "                                 founder_degree_df_v2,\n",
    "                                 on='org_uuid',\n",
    "                                 how = 'left')"
   ]
  },
  {
   "cell_type": "code",
   "execution_count": 34,
   "id": "national-roommate",
   "metadata": {},
   "outputs": [
    {
     "data": {
      "text/html": [
       "<div>\n",
       "<style scoped>\n",
       "    .dataframe tbody tr th:only-of-type {\n",
       "        vertical-align: middle;\n",
       "    }\n",
       "\n",
       "    .dataframe tbody tr th {\n",
       "        vertical-align: top;\n",
       "    }\n",
       "\n",
       "    .dataframe thead th {\n",
       "        text-align: right;\n",
       "    }\n",
       "</style>\n",
       "<table border=\"1\" class=\"dataframe\">\n",
       "  <thead>\n",
       "    <tr style=\"text-align: right;\">\n",
       "      <th></th>\n",
       "      <th>org_uuid</th>\n",
       "      <th>num_founder</th>\n",
       "      <th>is_founder_gender_diversity</th>\n",
       "      <th>num_bachelor</th>\n",
       "      <th>num_master</th>\n",
       "      <th>num_phd</th>\n",
       "      <th>num_mba</th>\n",
       "      <th>num_stem</th>\n",
       "      <th>num_ivy_league</th>\n",
       "      <th>num_top_100</th>\n",
       "    </tr>\n",
       "  </thead>\n",
       "  <tbody>\n",
       "    <tr>\n",
       "      <th>0</th>\n",
       "      <td>9dc17185-743d-5fbc-f03b-ad0c81c8795d</td>\n",
       "      <td>1.0</td>\n",
       "      <td>0</td>\n",
       "      <td>0.0</td>\n",
       "      <td>0.0</td>\n",
       "      <td>0.0</td>\n",
       "      <td>0.0</td>\n",
       "      <td>0.0</td>\n",
       "      <td>0.0</td>\n",
       "      <td>0.0</td>\n",
       "    </tr>\n",
       "    <tr>\n",
       "      <th>1</th>\n",
       "      <td>9c8adac6-5c8e-9344-b763-6beab966c63c</td>\n",
       "      <td>0.0</td>\n",
       "      <td>0</td>\n",
       "      <td>0.0</td>\n",
       "      <td>0.0</td>\n",
       "      <td>0.0</td>\n",
       "      <td>0.0</td>\n",
       "      <td>0.0</td>\n",
       "      <td>0.0</td>\n",
       "      <td>0.0</td>\n",
       "    </tr>\n",
       "    <tr>\n",
       "      <th>2</th>\n",
       "      <td>6749cc07-efed-ff09-4efe-43faf6f580de</td>\n",
       "      <td>1.0</td>\n",
       "      <td>0</td>\n",
       "      <td>0.0</td>\n",
       "      <td>0.0</td>\n",
       "      <td>1.0</td>\n",
       "      <td>0.0</td>\n",
       "      <td>0.0</td>\n",
       "      <td>0.0</td>\n",
       "      <td>0.0</td>\n",
       "    </tr>\n",
       "  </tbody>\n",
       "</table>\n",
       "</div>"
      ],
      "text/plain": [
       "                               org_uuid  num_founder  \\\n",
       "0  9dc17185-743d-5fbc-f03b-ad0c81c8795d          1.0   \n",
       "1  9c8adac6-5c8e-9344-b763-6beab966c63c          0.0   \n",
       "2  6749cc07-efed-ff09-4efe-43faf6f580de          1.0   \n",
       "\n",
       "   is_founder_gender_diversity  num_bachelor  num_master  num_phd  num_mba  \\\n",
       "0                            0           0.0         0.0      0.0      0.0   \n",
       "1                            0           0.0         0.0      0.0      0.0   \n",
       "2                            0           0.0         0.0      1.0      0.0   \n",
       "\n",
       "   num_stem  num_ivy_league  num_top_100  \n",
       "0       0.0             0.0          0.0  \n",
       "1       0.0             0.0          0.0  \n",
       "2       0.0             0.0          0.0  "
      ]
     },
     "execution_count": 34,
     "metadata": {},
     "output_type": "execute_result"
    }
   ],
   "source": [
    "main_processing_df_v3.head(3)"
   ]
  },
  {
   "cell_type": "code",
   "execution_count": 35,
   "id": "decent-capability",
   "metadata": {},
   "outputs": [],
   "source": [
    "#assign 0 to founder with no degree information\n",
    "main_processing_df_v3.isnull().sum(axis=0)\n",
    "main_processing_df_v3.fillna(0,inplace=True)"
   ]
  },
  {
   "cell_type": "code",
   "execution_count": 36,
   "id": "continuing-handling",
   "metadata": {},
   "outputs": [
    {
     "data": {
      "text/html": [
       "<div>\n",
       "<style scoped>\n",
       "    .dataframe tbody tr th:only-of-type {\n",
       "        vertical-align: middle;\n",
       "    }\n",
       "\n",
       "    .dataframe tbody tr th {\n",
       "        vertical-align: top;\n",
       "    }\n",
       "\n",
       "    .dataframe thead th {\n",
       "        text-align: right;\n",
       "    }\n",
       "</style>\n",
       "<table border=\"1\" class=\"dataframe\">\n",
       "  <thead>\n",
       "    <tr style=\"text-align: right;\">\n",
       "      <th></th>\n",
       "      <th>org_uuid</th>\n",
       "      <th>num_founder</th>\n",
       "      <th>is_founder_gender_diversity</th>\n",
       "      <th>num_bachelor</th>\n",
       "      <th>num_master</th>\n",
       "      <th>num_phd</th>\n",
       "      <th>num_mba</th>\n",
       "      <th>num_stem</th>\n",
       "      <th>num_ivy_league</th>\n",
       "      <th>num_top_100</th>\n",
       "    </tr>\n",
       "  </thead>\n",
       "  <tbody>\n",
       "    <tr>\n",
       "      <th>0</th>\n",
       "      <td>9dc17185-743d-5fbc-f03b-ad0c81c8795d</td>\n",
       "      <td>1.0</td>\n",
       "      <td>0</td>\n",
       "      <td>0.0</td>\n",
       "      <td>0.0</td>\n",
       "      <td>0.0</td>\n",
       "      <td>0.0</td>\n",
       "      <td>0.0</td>\n",
       "      <td>0.0</td>\n",
       "      <td>0.0</td>\n",
       "    </tr>\n",
       "    <tr>\n",
       "      <th>1</th>\n",
       "      <td>9c8adac6-5c8e-9344-b763-6beab966c63c</td>\n",
       "      <td>0.0</td>\n",
       "      <td>0</td>\n",
       "      <td>0.0</td>\n",
       "      <td>0.0</td>\n",
       "      <td>0.0</td>\n",
       "      <td>0.0</td>\n",
       "      <td>0.0</td>\n",
       "      <td>0.0</td>\n",
       "      <td>0.0</td>\n",
       "    </tr>\n",
       "    <tr>\n",
       "      <th>2</th>\n",
       "      <td>6749cc07-efed-ff09-4efe-43faf6f580de</td>\n",
       "      <td>1.0</td>\n",
       "      <td>0</td>\n",
       "      <td>0.0</td>\n",
       "      <td>0.0</td>\n",
       "      <td>1.0</td>\n",
       "      <td>0.0</td>\n",
       "      <td>0.0</td>\n",
       "      <td>0.0</td>\n",
       "      <td>0.0</td>\n",
       "    </tr>\n",
       "    <tr>\n",
       "      <th>3</th>\n",
       "      <td>bbc29f4a-a798-4f74-f0a0-b1d8267692ac</td>\n",
       "      <td>0.0</td>\n",
       "      <td>0</td>\n",
       "      <td>0.0</td>\n",
       "      <td>0.0</td>\n",
       "      <td>0.0</td>\n",
       "      <td>0.0</td>\n",
       "      <td>0.0</td>\n",
       "      <td>0.0</td>\n",
       "      <td>0.0</td>\n",
       "    </tr>\n",
       "    <tr>\n",
       "      <th>4</th>\n",
       "      <td>9bbaf540-5994-029a-3346-501ad2d1fb89</td>\n",
       "      <td>2.0</td>\n",
       "      <td>0</td>\n",
       "      <td>2.0</td>\n",
       "      <td>0.0</td>\n",
       "      <td>0.0</td>\n",
       "      <td>0.0</td>\n",
       "      <td>2.0</td>\n",
       "      <td>0.0</td>\n",
       "      <td>0.0</td>\n",
       "    </tr>\n",
       "    <tr>\n",
       "      <th>5</th>\n",
       "      <td>45165225-a03d-42be-6af1-376341b7b815</td>\n",
       "      <td>1.0</td>\n",
       "      <td>0</td>\n",
       "      <td>1.0</td>\n",
       "      <td>1.0</td>\n",
       "      <td>0.0</td>\n",
       "      <td>0.0</td>\n",
       "      <td>1.0</td>\n",
       "      <td>0.0</td>\n",
       "      <td>0.0</td>\n",
       "    </tr>\n",
       "    <tr>\n",
       "      <th>6</th>\n",
       "      <td>ade298e4-0c78-7ce8-4693-b03f82336417</td>\n",
       "      <td>1.0</td>\n",
       "      <td>0</td>\n",
       "      <td>0.0</td>\n",
       "      <td>0.0</td>\n",
       "      <td>0.0</td>\n",
       "      <td>0.0</td>\n",
       "      <td>0.0</td>\n",
       "      <td>0.0</td>\n",
       "      <td>0.0</td>\n",
       "    </tr>\n",
       "    <tr>\n",
       "      <th>7</th>\n",
       "      <td>5e96c2a8-d04e-0f06-84da-f4bd4943f74d</td>\n",
       "      <td>2.0</td>\n",
       "      <td>0</td>\n",
       "      <td>0.0</td>\n",
       "      <td>0.0</td>\n",
       "      <td>0.0</td>\n",
       "      <td>0.0</td>\n",
       "      <td>0.0</td>\n",
       "      <td>0.0</td>\n",
       "      <td>0.0</td>\n",
       "    </tr>\n",
       "    <tr>\n",
       "      <th>8</th>\n",
       "      <td>db46f01e-b991-9b33-6de6-5a349b5bfdaa</td>\n",
       "      <td>1.0</td>\n",
       "      <td>0</td>\n",
       "      <td>0.0</td>\n",
       "      <td>0.0</td>\n",
       "      <td>0.0</td>\n",
       "      <td>0.0</td>\n",
       "      <td>0.0</td>\n",
       "      <td>0.0</td>\n",
       "      <td>0.0</td>\n",
       "    </tr>\n",
       "    <tr>\n",
       "      <th>9</th>\n",
       "      <td>540f9a7a-18d7-659a-a6d3-9abe42123df3</td>\n",
       "      <td>0.0</td>\n",
       "      <td>0</td>\n",
       "      <td>0.0</td>\n",
       "      <td>0.0</td>\n",
       "      <td>0.0</td>\n",
       "      <td>0.0</td>\n",
       "      <td>0.0</td>\n",
       "      <td>0.0</td>\n",
       "      <td>0.0</td>\n",
       "    </tr>\n",
       "  </tbody>\n",
       "</table>\n",
       "</div>"
      ],
      "text/plain": [
       "                               org_uuid  num_founder  \\\n",
       "0  9dc17185-743d-5fbc-f03b-ad0c81c8795d          1.0   \n",
       "1  9c8adac6-5c8e-9344-b763-6beab966c63c          0.0   \n",
       "2  6749cc07-efed-ff09-4efe-43faf6f580de          1.0   \n",
       "3  bbc29f4a-a798-4f74-f0a0-b1d8267692ac          0.0   \n",
       "4  9bbaf540-5994-029a-3346-501ad2d1fb89          2.0   \n",
       "5  45165225-a03d-42be-6af1-376341b7b815          1.0   \n",
       "6  ade298e4-0c78-7ce8-4693-b03f82336417          1.0   \n",
       "7  5e96c2a8-d04e-0f06-84da-f4bd4943f74d          2.0   \n",
       "8  db46f01e-b991-9b33-6de6-5a349b5bfdaa          1.0   \n",
       "9  540f9a7a-18d7-659a-a6d3-9abe42123df3          0.0   \n",
       "\n",
       "   is_founder_gender_diversity  num_bachelor  num_master  num_phd  num_mba  \\\n",
       "0                            0           0.0         0.0      0.0      0.0   \n",
       "1                            0           0.0         0.0      0.0      0.0   \n",
       "2                            0           0.0         0.0      1.0      0.0   \n",
       "3                            0           0.0         0.0      0.0      0.0   \n",
       "4                            0           2.0         0.0      0.0      0.0   \n",
       "5                            0           1.0         1.0      0.0      0.0   \n",
       "6                            0           0.0         0.0      0.0      0.0   \n",
       "7                            0           0.0         0.0      0.0      0.0   \n",
       "8                            0           0.0         0.0      0.0      0.0   \n",
       "9                            0           0.0         0.0      0.0      0.0   \n",
       "\n",
       "   num_stem  num_ivy_league  num_top_100  \n",
       "0       0.0             0.0          0.0  \n",
       "1       0.0             0.0          0.0  \n",
       "2       0.0             0.0          0.0  \n",
       "3       0.0             0.0          0.0  \n",
       "4       2.0             0.0          0.0  \n",
       "5       1.0             0.0          0.0  \n",
       "6       0.0             0.0          0.0  \n",
       "7       0.0             0.0          0.0  \n",
       "8       0.0             0.0          0.0  \n",
       "9       0.0             0.0          0.0  "
      ]
     },
     "execution_count": 36,
     "metadata": {},
     "output_type": "execute_result"
    }
   ],
   "source": [
    "main_processing_df_v3.head(10)"
   ]
  },
  {
   "cell_type": "markdown",
   "id": "impressive-senate",
   "metadata": {},
   "source": [
    "# Assign number of advisor"
   ]
  },
  {
   "cell_type": "code",
   "execution_count": 37,
   "id": "french-poison",
   "metadata": {},
   "outputs": [
    {
     "data": {
      "text/plain": [
       "executive         967719\n",
       "employee          395731\n",
       "board_member      154586\n",
       "advisor            57657\n",
       "board_observer      5948\n",
       "Name: job_type, dtype: int64"
      ]
     },
     "execution_count": 37,
     "metadata": {},
     "output_type": "execute_result"
    }
   ],
   "source": [
    "jobs_df['job_type'].value_counts()"
   ]
  },
  {
   "cell_type": "code",
   "execution_count": 38,
   "id": "intellectual-calculation",
   "metadata": {},
   "outputs": [],
   "source": [
    "jobs_advisor_df = jobs_df[jobs_df['job_type'] == 'advisor']"
   ]
  },
  {
   "cell_type": "code",
   "execution_count": 39,
   "id": "advanced-decade",
   "metadata": {},
   "outputs": [
    {
     "data": {
      "text/html": [
       "<div>\n",
       "<style scoped>\n",
       "    .dataframe tbody tr th:only-of-type {\n",
       "        vertical-align: middle;\n",
       "    }\n",
       "\n",
       "    .dataframe tbody tr th {\n",
       "        vertical-align: top;\n",
       "    }\n",
       "\n",
       "    .dataframe thead th {\n",
       "        text-align: right;\n",
       "    }\n",
       "</style>\n",
       "<table border=\"1\" class=\"dataframe\">\n",
       "  <thead>\n",
       "    <tr style=\"text-align: right;\">\n",
       "      <th></th>\n",
       "      <th>job_uuid</th>\n",
       "      <th>job_name</th>\n",
       "      <th>people_uuid</th>\n",
       "      <th>person_name</th>\n",
       "      <th>org_uuid</th>\n",
       "      <th>org_name</th>\n",
       "      <th>started_on</th>\n",
       "      <th>ended_on</th>\n",
       "      <th>is_current</th>\n",
       "      <th>title</th>\n",
       "      <th>job_type</th>\n",
       "      <th>is_founder</th>\n",
       "    </tr>\n",
       "  </thead>\n",
       "  <tbody>\n",
       "    <tr>\n",
       "      <th>247</th>\n",
       "      <td>b8902477-3f1d-4147-5bca-f053b3491b75</td>\n",
       "      <td>Brad Gerstner Investor / Advisor / Board Membe...</td>\n",
       "      <td>46daadf8-9ab9-1f94-24e2-f83ad6d4ad7f</td>\n",
       "      <td>Brad Gerstner</td>\n",
       "      <td>5c6f4d9e-dc72-e018-ee21-71cd23f698ad</td>\n",
       "      <td>Farecast</td>\n",
       "      <td>2006-01-01</td>\n",
       "      <td>2008-01-01</td>\n",
       "      <td>False</td>\n",
       "      <td>Investor / Advisor / Board Member</td>\n",
       "      <td>advisor</td>\n",
       "      <td>0</td>\n",
       "    </tr>\n",
       "    <tr>\n",
       "      <th>353</th>\n",
       "      <td>8986d170-77a9-a918-fe22-b8de983d1e42</td>\n",
       "      <td>Scott Rafer Advisor @ Dogster</td>\n",
       "      <td>eaadb11b-7423-0d5d-0a9d-7bf93eb64579</td>\n",
       "      <td>Scott Rafer</td>\n",
       "      <td>b683af1f-8dcf-8f82-37d9-88fbadd63e1b</td>\n",
       "      <td>Dogster</td>\n",
       "      <td>NaN</td>\n",
       "      <td>NaN</td>\n",
       "      <td>True</td>\n",
       "      <td>Advisor</td>\n",
       "      <td>advisor</td>\n",
       "      <td>0</td>\n",
       "    </tr>\n",
       "    <tr>\n",
       "      <th>444</th>\n",
       "      <td>70e011ab-472a-9f50-77fe-718af9ae9fe6</td>\n",
       "      <td>George Martin Advisor @ iLike</td>\n",
       "      <td>651ba47c-9aef-f811-a39d-d917677aded4</td>\n",
       "      <td>George Martin</td>\n",
       "      <td>3091d3e8-7934-1e90-7c82-7f1c3caf53cb</td>\n",
       "      <td>iLike</td>\n",
       "      <td>NaN</td>\n",
       "      <td>NaN</td>\n",
       "      <td>False</td>\n",
       "      <td>Advisor</td>\n",
       "      <td>advisor</td>\n",
       "      <td>0</td>\n",
       "    </tr>\n",
       "  </tbody>\n",
       "</table>\n",
       "</div>"
      ],
      "text/plain": [
       "                                 job_uuid  \\\n",
       "247  b8902477-3f1d-4147-5bca-f053b3491b75   \n",
       "353  8986d170-77a9-a918-fe22-b8de983d1e42   \n",
       "444  70e011ab-472a-9f50-77fe-718af9ae9fe6   \n",
       "\n",
       "                                              job_name  \\\n",
       "247  Brad Gerstner Investor / Advisor / Board Membe...   \n",
       "353                      Scott Rafer Advisor @ Dogster   \n",
       "444                      George Martin Advisor @ iLike   \n",
       "\n",
       "                              people_uuid    person_name  \\\n",
       "247  46daadf8-9ab9-1f94-24e2-f83ad6d4ad7f  Brad Gerstner   \n",
       "353  eaadb11b-7423-0d5d-0a9d-7bf93eb64579    Scott Rafer   \n",
       "444  651ba47c-9aef-f811-a39d-d917677aded4  George Martin   \n",
       "\n",
       "                                 org_uuid  org_name  started_on    ended_on  \\\n",
       "247  5c6f4d9e-dc72-e018-ee21-71cd23f698ad  Farecast  2006-01-01  2008-01-01   \n",
       "353  b683af1f-8dcf-8f82-37d9-88fbadd63e1b   Dogster         NaN         NaN   \n",
       "444  3091d3e8-7934-1e90-7c82-7f1c3caf53cb     iLike         NaN         NaN   \n",
       "\n",
       "     is_current                              title job_type  is_founder  \n",
       "247       False  Investor / Advisor / Board Member  advisor           0  \n",
       "353        True                            Advisor  advisor           0  \n",
       "444       False                            Advisor  advisor           0  "
      ]
     },
     "execution_count": 39,
     "metadata": {},
     "output_type": "execute_result"
    }
   ],
   "source": [
    "jobs_advisor_df.head(3)"
   ]
  },
  {
   "cell_type": "code",
   "execution_count": 40,
   "id": "lyric-recovery",
   "metadata": {},
   "outputs": [],
   "source": [
    "advisor_gb = jobs_advisor_df.groupby('org_uuid')"
   ]
  },
  {
   "cell_type": "code",
   "execution_count": 41,
   "id": "developing-psychology",
   "metadata": {},
   "outputs": [],
   "source": [
    "num_advisor = advisor_gb.size()\n",
    "num_advisor = pd.DataFrame(num_advisor,\n",
    "                          columns=['num_advisor'])"
   ]
  },
  {
   "cell_type": "code",
   "execution_count": 42,
   "id": "handled-hygiene",
   "metadata": {},
   "outputs": [],
   "source": [
    "main_processing_df_v4 = pd.merge(main_processing_df_v3,\n",
    "                                 num_advisor,\n",
    "                                 on='org_uuid',\n",
    "                                 how='left')"
   ]
  },
  {
   "cell_type": "code",
   "execution_count": 43,
   "id": "approved-lindsay",
   "metadata": {},
   "outputs": [
    {
     "data": {
      "text/html": [
       "<div>\n",
       "<style scoped>\n",
       "    .dataframe tbody tr th:only-of-type {\n",
       "        vertical-align: middle;\n",
       "    }\n",
       "\n",
       "    .dataframe tbody tr th {\n",
       "        vertical-align: top;\n",
       "    }\n",
       "\n",
       "    .dataframe thead th {\n",
       "        text-align: right;\n",
       "    }\n",
       "</style>\n",
       "<table border=\"1\" class=\"dataframe\">\n",
       "  <thead>\n",
       "    <tr style=\"text-align: right;\">\n",
       "      <th></th>\n",
       "      <th>org_uuid</th>\n",
       "      <th>num_founder</th>\n",
       "      <th>is_founder_gender_diversity</th>\n",
       "      <th>num_bachelor</th>\n",
       "      <th>num_master</th>\n",
       "      <th>num_phd</th>\n",
       "      <th>num_mba</th>\n",
       "      <th>num_stem</th>\n",
       "      <th>num_ivy_league</th>\n",
       "      <th>num_top_100</th>\n",
       "      <th>num_advisor</th>\n",
       "    </tr>\n",
       "  </thead>\n",
       "  <tbody>\n",
       "    <tr>\n",
       "      <th>0</th>\n",
       "      <td>9dc17185-743d-5fbc-f03b-ad0c81c8795d</td>\n",
       "      <td>1.0</td>\n",
       "      <td>0</td>\n",
       "      <td>0.0</td>\n",
       "      <td>0.0</td>\n",
       "      <td>0.0</td>\n",
       "      <td>0.0</td>\n",
       "      <td>0.0</td>\n",
       "      <td>0.0</td>\n",
       "      <td>0.0</td>\n",
       "      <td>NaN</td>\n",
       "    </tr>\n",
       "    <tr>\n",
       "      <th>1</th>\n",
       "      <td>9c8adac6-5c8e-9344-b763-6beab966c63c</td>\n",
       "      <td>0.0</td>\n",
       "      <td>0</td>\n",
       "      <td>0.0</td>\n",
       "      <td>0.0</td>\n",
       "      <td>0.0</td>\n",
       "      <td>0.0</td>\n",
       "      <td>0.0</td>\n",
       "      <td>0.0</td>\n",
       "      <td>0.0</td>\n",
       "      <td>NaN</td>\n",
       "    </tr>\n",
       "    <tr>\n",
       "      <th>2</th>\n",
       "      <td>6749cc07-efed-ff09-4efe-43faf6f580de</td>\n",
       "      <td>1.0</td>\n",
       "      <td>0</td>\n",
       "      <td>0.0</td>\n",
       "      <td>0.0</td>\n",
       "      <td>1.0</td>\n",
       "      <td>0.0</td>\n",
       "      <td>0.0</td>\n",
       "      <td>0.0</td>\n",
       "      <td>0.0</td>\n",
       "      <td>NaN</td>\n",
       "    </tr>\n",
       "  </tbody>\n",
       "</table>\n",
       "</div>"
      ],
      "text/plain": [
       "                               org_uuid  num_founder  \\\n",
       "0  9dc17185-743d-5fbc-f03b-ad0c81c8795d          1.0   \n",
       "1  9c8adac6-5c8e-9344-b763-6beab966c63c          0.0   \n",
       "2  6749cc07-efed-ff09-4efe-43faf6f580de          1.0   \n",
       "\n",
       "   is_founder_gender_diversity  num_bachelor  num_master  num_phd  num_mba  \\\n",
       "0                            0           0.0         0.0      0.0      0.0   \n",
       "1                            0           0.0         0.0      0.0      0.0   \n",
       "2                            0           0.0         0.0      1.0      0.0   \n",
       "\n",
       "   num_stem  num_ivy_league  num_top_100  num_advisor  \n",
       "0       0.0             0.0          0.0          NaN  \n",
       "1       0.0             0.0          0.0          NaN  \n",
       "2       0.0             0.0          0.0          NaN  "
      ]
     },
     "execution_count": 43,
     "metadata": {},
     "output_type": "execute_result"
    }
   ],
   "source": [
    "main_processing_df_v4.head(3)"
   ]
  },
  {
   "cell_type": "code",
   "execution_count": 44,
   "id": "aggregate-uruguay",
   "metadata": {},
   "outputs": [],
   "source": [
    "main_processing_df_v4['num_advisor'].fillna(0,inplace=True)"
   ]
  },
  {
   "cell_type": "code",
   "execution_count": 45,
   "id": "noticed-lesson",
   "metadata": {},
   "outputs": [
    {
     "data": {
      "text/html": [
       "<div>\n",
       "<style scoped>\n",
       "    .dataframe tbody tr th:only-of-type {\n",
       "        vertical-align: middle;\n",
       "    }\n",
       "\n",
       "    .dataframe tbody tr th {\n",
       "        vertical-align: top;\n",
       "    }\n",
       "\n",
       "    .dataframe thead th {\n",
       "        text-align: right;\n",
       "    }\n",
       "</style>\n",
       "<table border=\"1\" class=\"dataframe\">\n",
       "  <thead>\n",
       "    <tr style=\"text-align: right;\">\n",
       "      <th></th>\n",
       "      <th>org_uuid</th>\n",
       "      <th>num_founder</th>\n",
       "      <th>is_founder_gender_diversity</th>\n",
       "      <th>num_bachelor</th>\n",
       "      <th>num_master</th>\n",
       "      <th>num_phd</th>\n",
       "      <th>num_mba</th>\n",
       "      <th>num_stem</th>\n",
       "      <th>num_ivy_league</th>\n",
       "      <th>num_top_100</th>\n",
       "      <th>num_advisor</th>\n",
       "    </tr>\n",
       "  </thead>\n",
       "  <tbody>\n",
       "    <tr>\n",
       "      <th>0</th>\n",
       "      <td>9dc17185-743d-5fbc-f03b-ad0c81c8795d</td>\n",
       "      <td>1.0</td>\n",
       "      <td>0</td>\n",
       "      <td>0.0</td>\n",
       "      <td>0.0</td>\n",
       "      <td>0.0</td>\n",
       "      <td>0.0</td>\n",
       "      <td>0.0</td>\n",
       "      <td>0.0</td>\n",
       "      <td>0.0</td>\n",
       "      <td>0.0</td>\n",
       "    </tr>\n",
       "    <tr>\n",
       "      <th>1</th>\n",
       "      <td>9c8adac6-5c8e-9344-b763-6beab966c63c</td>\n",
       "      <td>0.0</td>\n",
       "      <td>0</td>\n",
       "      <td>0.0</td>\n",
       "      <td>0.0</td>\n",
       "      <td>0.0</td>\n",
       "      <td>0.0</td>\n",
       "      <td>0.0</td>\n",
       "      <td>0.0</td>\n",
       "      <td>0.0</td>\n",
       "      <td>0.0</td>\n",
       "    </tr>\n",
       "    <tr>\n",
       "      <th>2</th>\n",
       "      <td>6749cc07-efed-ff09-4efe-43faf6f580de</td>\n",
       "      <td>1.0</td>\n",
       "      <td>0</td>\n",
       "      <td>0.0</td>\n",
       "      <td>0.0</td>\n",
       "      <td>1.0</td>\n",
       "      <td>0.0</td>\n",
       "      <td>0.0</td>\n",
       "      <td>0.0</td>\n",
       "      <td>0.0</td>\n",
       "      <td>0.0</td>\n",
       "    </tr>\n",
       "  </tbody>\n",
       "</table>\n",
       "</div>"
      ],
      "text/plain": [
       "                               org_uuid  num_founder  \\\n",
       "0  9dc17185-743d-5fbc-f03b-ad0c81c8795d          1.0   \n",
       "1  9c8adac6-5c8e-9344-b763-6beab966c63c          0.0   \n",
       "2  6749cc07-efed-ff09-4efe-43faf6f580de          1.0   \n",
       "\n",
       "   is_founder_gender_diversity  num_bachelor  num_master  num_phd  num_mba  \\\n",
       "0                            0           0.0         0.0      0.0      0.0   \n",
       "1                            0           0.0         0.0      0.0      0.0   \n",
       "2                            0           0.0         0.0      1.0      0.0   \n",
       "\n",
       "   num_stem  num_ivy_league  num_top_100  num_advisor  \n",
       "0       0.0             0.0          0.0          0.0  \n",
       "1       0.0             0.0          0.0          0.0  \n",
       "2       0.0             0.0          0.0          0.0  "
      ]
     },
     "execution_count": 45,
     "metadata": {},
     "output_type": "execute_result"
    }
   ],
   "source": [
    "main_processing_df_v4.head(3)"
   ]
  },
  {
   "cell_type": "markdown",
   "id": "imported-membrane",
   "metadata": {},
   "source": [
    "# Work Experience"
   ]
  },
  {
   "cell_type": "code",
   "execution_count": 46,
   "id": "stable-material",
   "metadata": {},
   "outputs": [
    {
     "data": {
      "text/html": [
       "<div>\n",
       "<style scoped>\n",
       "    .dataframe tbody tr th:only-of-type {\n",
       "        vertical-align: middle;\n",
       "    }\n",
       "\n",
       "    .dataframe tbody tr th {\n",
       "        vertical-align: top;\n",
       "    }\n",
       "\n",
       "    .dataframe thead th {\n",
       "        text-align: right;\n",
       "    }\n",
       "</style>\n",
       "<table border=\"1\" class=\"dataframe\">\n",
       "  <thead>\n",
       "    <tr style=\"text-align: right;\">\n",
       "      <th></th>\n",
       "      <th>org_uuid</th>\n",
       "      <th>num_founder</th>\n",
       "      <th>is_founder_gender_diversity</th>\n",
       "      <th>num_bachelor</th>\n",
       "      <th>num_master</th>\n",
       "      <th>num_phd</th>\n",
       "      <th>num_mba</th>\n",
       "      <th>num_stem</th>\n",
       "      <th>num_ivy_league</th>\n",
       "      <th>num_top_100</th>\n",
       "      <th>num_advisor</th>\n",
       "    </tr>\n",
       "  </thead>\n",
       "  <tbody>\n",
       "    <tr>\n",
       "      <th>0</th>\n",
       "      <td>9dc17185-743d-5fbc-f03b-ad0c81c8795d</td>\n",
       "      <td>1.0</td>\n",
       "      <td>0</td>\n",
       "      <td>0.0</td>\n",
       "      <td>0.0</td>\n",
       "      <td>0.0</td>\n",
       "      <td>0.0</td>\n",
       "      <td>0.0</td>\n",
       "      <td>0.0</td>\n",
       "      <td>0.0</td>\n",
       "      <td>0.0</td>\n",
       "    </tr>\n",
       "    <tr>\n",
       "      <th>1</th>\n",
       "      <td>9c8adac6-5c8e-9344-b763-6beab966c63c</td>\n",
       "      <td>0.0</td>\n",
       "      <td>0</td>\n",
       "      <td>0.0</td>\n",
       "      <td>0.0</td>\n",
       "      <td>0.0</td>\n",
       "      <td>0.0</td>\n",
       "      <td>0.0</td>\n",
       "      <td>0.0</td>\n",
       "      <td>0.0</td>\n",
       "      <td>0.0</td>\n",
       "    </tr>\n",
       "    <tr>\n",
       "      <th>2</th>\n",
       "      <td>6749cc07-efed-ff09-4efe-43faf6f580de</td>\n",
       "      <td>1.0</td>\n",
       "      <td>0</td>\n",
       "      <td>0.0</td>\n",
       "      <td>0.0</td>\n",
       "      <td>1.0</td>\n",
       "      <td>0.0</td>\n",
       "      <td>0.0</td>\n",
       "      <td>0.0</td>\n",
       "      <td>0.0</td>\n",
       "      <td>0.0</td>\n",
       "    </tr>\n",
       "  </tbody>\n",
       "</table>\n",
       "</div>"
      ],
      "text/plain": [
       "                               org_uuid  num_founder  \\\n",
       "0  9dc17185-743d-5fbc-f03b-ad0c81c8795d          1.0   \n",
       "1  9c8adac6-5c8e-9344-b763-6beab966c63c          0.0   \n",
       "2  6749cc07-efed-ff09-4efe-43faf6f580de          1.0   \n",
       "\n",
       "   is_founder_gender_diversity  num_bachelor  num_master  num_phd  num_mba  \\\n",
       "0                            0           0.0         0.0      0.0      0.0   \n",
       "1                            0           0.0         0.0      0.0      0.0   \n",
       "2                            0           0.0         0.0      1.0      0.0   \n",
       "\n",
       "   num_stem  num_ivy_league  num_top_100  num_advisor  \n",
       "0       0.0             0.0          0.0          0.0  \n",
       "1       0.0             0.0          0.0          0.0  \n",
       "2       0.0             0.0          0.0          0.0  "
      ]
     },
     "execution_count": 46,
     "metadata": {},
     "output_type": "execute_result"
    }
   ],
   "source": [
    "main_processing_df_v4.head(3)"
   ]
  },
  {
   "cell_type": "code",
   "execution_count": 47,
   "id": "broke-arcade",
   "metadata": {},
   "outputs": [
    {
     "data": {
      "text/html": [
       "<div>\n",
       "<style scoped>\n",
       "    .dataframe tbody tr th:only-of-type {\n",
       "        vertical-align: middle;\n",
       "    }\n",
       "\n",
       "    .dataframe tbody tr th {\n",
       "        vertical-align: top;\n",
       "    }\n",
       "\n",
       "    .dataframe thead th {\n",
       "        text-align: right;\n",
       "    }\n",
       "</style>\n",
       "<table border=\"1\" class=\"dataframe\">\n",
       "  <thead>\n",
       "    <tr style=\"text-align: right;\">\n",
       "      <th></th>\n",
       "      <th>job_uuid</th>\n",
       "      <th>job_name</th>\n",
       "      <th>people_uuid</th>\n",
       "      <th>person_name</th>\n",
       "      <th>org_uuid</th>\n",
       "      <th>org_name</th>\n",
       "      <th>started_on</th>\n",
       "      <th>ended_on</th>\n",
       "      <th>is_current</th>\n",
       "      <th>title</th>\n",
       "      <th>job_type</th>\n",
       "      <th>is_founder</th>\n",
       "    </tr>\n",
       "  </thead>\n",
       "  <tbody>\n",
       "    <tr>\n",
       "      <th>0</th>\n",
       "      <td>697b6934-fc1f-9d63-cfb2-1a10759b378e</td>\n",
       "      <td>Ben Elowitz Co-Founder/CEO/Board of Directors ...</td>\n",
       "      <td>ed13cd36-fe2b-3707-197b-0c2d56e37a71</td>\n",
       "      <td>Ben Elowitz</td>\n",
       "      <td>e1393508-30ea-8a36-3f96-dd3226033abd</td>\n",
       "      <td>Wetpaint</td>\n",
       "      <td>NaN</td>\n",
       "      <td>NaN</td>\n",
       "      <td>False</td>\n",
       "      <td>Co-Founder/CEO/Board of Directors</td>\n",
       "      <td>executive</td>\n",
       "      <td>1</td>\n",
       "    </tr>\n",
       "    <tr>\n",
       "      <th>1</th>\n",
       "      <td>b1de3765-442e-b556-9304-551c2a055901</td>\n",
       "      <td>Kevin Flaherty VP Marketing @ Wetpaint</td>\n",
       "      <td>5ceca97b-493c-1446-6249-5aaa33464763</td>\n",
       "      <td>Kevin Flaherty</td>\n",
       "      <td>e1393508-30ea-8a36-3f96-dd3226033abd</td>\n",
       "      <td>Wetpaint</td>\n",
       "      <td>NaN</td>\n",
       "      <td>NaN</td>\n",
       "      <td>False</td>\n",
       "      <td>VP Marketing</td>\n",
       "      <td>executive</td>\n",
       "      <td>0</td>\n",
       "    </tr>\n",
       "    <tr>\n",
       "      <th>2</th>\n",
       "      <td>1319cd30-f5e8-c700-0af6-64029c6f7124</td>\n",
       "      <td>Raju Vegesna Chief Evangelist @ Zoho</td>\n",
       "      <td>9f99a98a-aa97-b30b-0d36-db67c1d277e0</td>\n",
       "      <td>Raju Vegesna</td>\n",
       "      <td>bf4d7b0e-b34d-2fd8-d292-6049c4f7efc7</td>\n",
       "      <td>Zoho</td>\n",
       "      <td>2000-11-01</td>\n",
       "      <td>NaN</td>\n",
       "      <td>True</td>\n",
       "      <td>Chief Evangelist</td>\n",
       "      <td>employee</td>\n",
       "      <td>0</td>\n",
       "    </tr>\n",
       "  </tbody>\n",
       "</table>\n",
       "</div>"
      ],
      "text/plain": [
       "                               job_uuid  \\\n",
       "0  697b6934-fc1f-9d63-cfb2-1a10759b378e   \n",
       "1  b1de3765-442e-b556-9304-551c2a055901   \n",
       "2  1319cd30-f5e8-c700-0af6-64029c6f7124   \n",
       "\n",
       "                                            job_name  \\\n",
       "0  Ben Elowitz Co-Founder/CEO/Board of Directors ...   \n",
       "1             Kevin Flaherty VP Marketing @ Wetpaint   \n",
       "2               Raju Vegesna Chief Evangelist @ Zoho   \n",
       "\n",
       "                            people_uuid     person_name  \\\n",
       "0  ed13cd36-fe2b-3707-197b-0c2d56e37a71     Ben Elowitz   \n",
       "1  5ceca97b-493c-1446-6249-5aaa33464763  Kevin Flaherty   \n",
       "2  9f99a98a-aa97-b30b-0d36-db67c1d277e0    Raju Vegesna   \n",
       "\n",
       "                               org_uuid  org_name  started_on ended_on  \\\n",
       "0  e1393508-30ea-8a36-3f96-dd3226033abd  Wetpaint         NaN      NaN   \n",
       "1  e1393508-30ea-8a36-3f96-dd3226033abd  Wetpaint         NaN      NaN   \n",
       "2  bf4d7b0e-b34d-2fd8-d292-6049c4f7efc7      Zoho  2000-11-01      NaN   \n",
       "\n",
       "   is_current                              title   job_type  is_founder  \n",
       "0       False  Co-Founder/CEO/Board of Directors  executive           1  \n",
       "1       False                       VP Marketing  executive           0  \n",
       "2        True                   Chief Evangelist   employee           0  "
      ]
     },
     "execution_count": 47,
     "metadata": {},
     "output_type": "execute_result"
    }
   ],
   "source": [
    "jobs_df.head(3)"
   ]
  },
  {
   "cell_type": "code",
   "execution_count": 48,
   "id": "mathematical-operations",
   "metadata": {},
   "outputs": [],
   "source": [
    "jobs_df_v1= jobs_df [['job_uuid','people_uuid','org_uuid','started_on','ended_on','is_current']]"
   ]
  },
  {
   "cell_type": "code",
   "execution_count": 49,
   "id": "compact-charles",
   "metadata": {},
   "outputs": [
    {
     "data": {
      "text/html": [
       "<div>\n",
       "<style scoped>\n",
       "    .dataframe tbody tr th:only-of-type {\n",
       "        vertical-align: middle;\n",
       "    }\n",
       "\n",
       "    .dataframe tbody tr th {\n",
       "        vertical-align: top;\n",
       "    }\n",
       "\n",
       "    .dataframe thead th {\n",
       "        text-align: right;\n",
       "    }\n",
       "</style>\n",
       "<table border=\"1\" class=\"dataframe\">\n",
       "  <thead>\n",
       "    <tr style=\"text-align: right;\">\n",
       "      <th></th>\n",
       "      <th>job_uuid</th>\n",
       "      <th>people_uuid</th>\n",
       "      <th>org_uuid</th>\n",
       "      <th>started_on</th>\n",
       "      <th>ended_on</th>\n",
       "      <th>is_current</th>\n",
       "    </tr>\n",
       "  </thead>\n",
       "  <tbody>\n",
       "    <tr>\n",
       "      <th>0</th>\n",
       "      <td>697b6934-fc1f-9d63-cfb2-1a10759b378e</td>\n",
       "      <td>ed13cd36-fe2b-3707-197b-0c2d56e37a71</td>\n",
       "      <td>e1393508-30ea-8a36-3f96-dd3226033abd</td>\n",
       "      <td>NaN</td>\n",
       "      <td>NaN</td>\n",
       "      <td>False</td>\n",
       "    </tr>\n",
       "    <tr>\n",
       "      <th>1</th>\n",
       "      <td>b1de3765-442e-b556-9304-551c2a055901</td>\n",
       "      <td>5ceca97b-493c-1446-6249-5aaa33464763</td>\n",
       "      <td>e1393508-30ea-8a36-3f96-dd3226033abd</td>\n",
       "      <td>NaN</td>\n",
       "      <td>NaN</td>\n",
       "      <td>False</td>\n",
       "    </tr>\n",
       "    <tr>\n",
       "      <th>2</th>\n",
       "      <td>1319cd30-f5e8-c700-0af6-64029c6f7124</td>\n",
       "      <td>9f99a98a-aa97-b30b-0d36-db67c1d277e0</td>\n",
       "      <td>bf4d7b0e-b34d-2fd8-d292-6049c4f7efc7</td>\n",
       "      <td>2000-11-01</td>\n",
       "      <td>NaN</td>\n",
       "      <td>True</td>\n",
       "    </tr>\n",
       "  </tbody>\n",
       "</table>\n",
       "</div>"
      ],
      "text/plain": [
       "                               job_uuid                           people_uuid  \\\n",
       "0  697b6934-fc1f-9d63-cfb2-1a10759b378e  ed13cd36-fe2b-3707-197b-0c2d56e37a71   \n",
       "1  b1de3765-442e-b556-9304-551c2a055901  5ceca97b-493c-1446-6249-5aaa33464763   \n",
       "2  1319cd30-f5e8-c700-0af6-64029c6f7124  9f99a98a-aa97-b30b-0d36-db67c1d277e0   \n",
       "\n",
       "                               org_uuid  started_on ended_on  is_current  \n",
       "0  e1393508-30ea-8a36-3f96-dd3226033abd         NaN      NaN       False  \n",
       "1  e1393508-30ea-8a36-3f96-dd3226033abd         NaN      NaN       False  \n",
       "2  bf4d7b0e-b34d-2fd8-d292-6049c4f7efc7  2000-11-01      NaN        True  "
      ]
     },
     "execution_count": 49,
     "metadata": {},
     "output_type": "execute_result"
    }
   ],
   "source": [
    "jobs_df_v1.head(3)"
   ]
  },
  {
   "cell_type": "code",
   "execution_count": 50,
   "id": "atomic-listening",
   "metadata": {},
   "outputs": [
    {
     "data": {
      "text/plain": [
       "1581641"
      ]
     },
     "execution_count": 50,
     "metadata": {},
     "output_type": "execute_result"
    }
   ],
   "source": [
    "len(jobs_df_v1)"
   ]
  },
  {
   "cell_type": "code",
   "execution_count": 51,
   "id": "dietary-ideal",
   "metadata": {},
   "outputs": [
    {
     "data": {
      "text/plain": [
       "job_uuid             0\n",
       "people_uuid          0\n",
       "org_uuid             0\n",
       "started_on      797831\n",
       "ended_on       1288515\n",
       "is_current           0\n",
       "dtype: int64"
      ]
     },
     "execution_count": 51,
     "metadata": {},
     "output_type": "execute_result"
    }
   ],
   "source": [
    "#drop jobs without start date. Start date is crucial to determine if jobs is before founder found company. \n",
    "jobs_df_v2 = jobs_df_v1#.dropna(subset=['started_on'])\n",
    "jobs_df_v2.isnull().sum(axis=0)"
   ]
  },
  {
   "cell_type": "code",
   "execution_count": 52,
   "id": "computational-flesh",
   "metadata": {},
   "outputs": [
    {
     "data": {
      "text/plain": [
       "1581641"
      ]
     },
     "execution_count": 52,
     "metadata": {},
     "output_type": "execute_result"
    }
   ],
   "source": [
    "len(jobs_df_v2)"
   ]
  },
  {
   "cell_type": "code",
   "execution_count": 53,
   "id": "cultural-lottery",
   "metadata": {},
   "outputs": [],
   "source": [
    "jobs_df_v3 = jobs_df_v2[jobs_df_v2['started_on'] > '1980-01-01']"
   ]
  },
  {
   "cell_type": "code",
   "execution_count": 54,
   "id": "metric-greek",
   "metadata": {},
   "outputs": [
    {
     "name": "stderr",
     "output_type": "stream",
     "text": [
      "C:\\Users\\Abdul Rahim Ab Ghani\\miniconda3\\lib\\site-packages\\ipykernel_launcher.py:1: SettingWithCopyWarning: \n",
      "A value is trying to be set on a copy of a slice from a DataFrame.\n",
      "Try using .loc[row_indexer,col_indexer] = value instead\n",
      "\n",
      "See the caveats in the documentation: https://pandas.pydata.org/pandas-docs/stable/user_guide/indexing.html#returning-a-view-versus-a-copy\n",
      "  \"\"\"Entry point for launching an IPython kernel.\n",
      "C:\\Users\\Abdul Rahim Ab Ghani\\miniconda3\\lib\\site-packages\\ipykernel_launcher.py:2: SettingWithCopyWarning: \n",
      "A value is trying to be set on a copy of a slice from a DataFrame.\n",
      "Try using .loc[row_indexer,col_indexer] = value instead\n",
      "\n",
      "See the caveats in the documentation: https://pandas.pydata.org/pandas-docs/stable/user_guide/indexing.html#returning-a-view-versus-a-copy\n",
      "  \n"
     ]
    }
   ],
   "source": [
    "jobs_df_v3['started_on'] = pd.to_datetime(jobs_df_v3['started_on'])\n",
    "jobs_df_v3['ended_on'] = pd.to_datetime(jobs_df_v3['ended_on'])"
   ]
  },
  {
   "cell_type": "code",
   "execution_count": 55,
   "id": "adjustable-lightning",
   "metadata": {},
   "outputs": [
    {
     "data": {
      "text/plain": [
       "779743"
      ]
     },
     "execution_count": 55,
     "metadata": {},
     "output_type": "execute_result"
    }
   ],
   "source": [
    "len(jobs_df_v3)"
   ]
  },
  {
   "cell_type": "code",
   "execution_count": 56,
   "id": "printable-pittsburgh",
   "metadata": {},
   "outputs": [],
   "source": [
    "org_ori_df = pd.read_csv(R\"d:\\\\msc-project\\data\\bulk_export_122020\\organizations.csv\",encoding='utf-8',\n",
    "                         parse_dates= ['founded_on'])"
   ]
  },
  {
   "cell_type": "code",
   "execution_count": 57,
   "id": "turned-convenience",
   "metadata": {},
   "outputs": [
    {
     "data": {
      "text/plain": [
       "Index(['uuid', 'name', 'type', 'permalink', 'cb_url', 'rank', 'created_at',\n",
       "       'updated_at', 'legal_name', 'roles', 'domain', 'homepage_url',\n",
       "       'country_code', 'state_code', 'region', 'city', 'address',\n",
       "       'postal_code', 'status', 'short_description', 'category_list',\n",
       "       'category_groups_list', 'num_funding_rounds', 'total_funding_usd',\n",
       "       'total_funding', 'total_funding_currency_code', 'founded_on',\n",
       "       'last_funding_on', 'closed_on', 'employee_count', 'email', 'phone',\n",
       "       'facebook_url', 'linkedin_url', 'twitter_url', 'logo_url', 'alias1',\n",
       "       'alias2', 'alias3', 'primary_role', 'num_exits'],\n",
       "      dtype='object')"
      ]
     },
     "execution_count": 57,
     "metadata": {},
     "output_type": "execute_result"
    }
   ],
   "source": [
    "org_ori_df.columns"
   ]
  },
  {
   "cell_type": "code",
   "execution_count": 58,
   "id": "blessed-albuquerque",
   "metadata": {},
   "outputs": [
    {
     "data": {
      "text/plain": [
       "779743"
      ]
     },
     "execution_count": 58,
     "metadata": {},
     "output_type": "execute_result"
    }
   ],
   "source": [
    "jobs_df_v4 = pd.merge(jobs_df_v3,\n",
    "                      org_ori_df[['uuid','category_groups_list']],\n",
    "                      left_on='org_uuid',\n",
    "                      right_on='uuid',\n",
    "                      how='left')\n",
    "len(jobs_df_v4)"
   ]
  },
  {
   "cell_type": "code",
   "execution_count": 59,
   "id": "relative-jurisdiction",
   "metadata": {},
   "outputs": [
    {
     "data": {
      "text/html": [
       "<div>\n",
       "<style scoped>\n",
       "    .dataframe tbody tr th:only-of-type {\n",
       "        vertical-align: middle;\n",
       "    }\n",
       "\n",
       "    .dataframe tbody tr th {\n",
       "        vertical-align: top;\n",
       "    }\n",
       "\n",
       "    .dataframe thead th {\n",
       "        text-align: right;\n",
       "    }\n",
       "</style>\n",
       "<table border=\"1\" class=\"dataframe\">\n",
       "  <thead>\n",
       "    <tr style=\"text-align: right;\">\n",
       "      <th></th>\n",
       "      <th>org_uuid</th>\n",
       "      <th>job_uuid</th>\n",
       "      <th>job_name</th>\n",
       "      <th>people_uuid</th>\n",
       "      <th>person_name</th>\n",
       "      <th>org_name</th>\n",
       "      <th>started_on</th>\n",
       "      <th>ended_on</th>\n",
       "      <th>is_current</th>\n",
       "      <th>title</th>\n",
       "      <th>job_type</th>\n",
       "      <th>is_founder</th>\n",
       "    </tr>\n",
       "  </thead>\n",
       "  <tbody>\n",
       "    <tr>\n",
       "      <th>0</th>\n",
       "      <td>9dc17185-743d-5fbc-f03b-ad0c81c8795d</td>\n",
       "      <td>4a470f5a-45fe-d892-f0e7-515069f107f6</td>\n",
       "      <td>Greg Raleigh Founder, CEO and President @ Airg...</td>\n",
       "      <td>31dabae0-f52d-7a27-4f76-51f4d4dfa04c</td>\n",
       "      <td>Greg Raleigh</td>\n",
       "      <td>Airgo Networks</td>\n",
       "      <td>2001-01-01</td>\n",
       "      <td>2006-01-01</td>\n",
       "      <td>False</td>\n",
       "      <td>Founder, CEO and President</td>\n",
       "      <td>executive</td>\n",
       "      <td>1.0</td>\n",
       "    </tr>\n",
       "    <tr>\n",
       "      <th>1</th>\n",
       "      <td>9c8adac6-5c8e-9344-b763-6beab966c63c</td>\n",
       "      <td>NaN</td>\n",
       "      <td>NaN</td>\n",
       "      <td>NaN</td>\n",
       "      <td>NaN</td>\n",
       "      <td>NaN</td>\n",
       "      <td>NaN</td>\n",
       "      <td>NaN</td>\n",
       "      <td>NaN</td>\n",
       "      <td>NaN</td>\n",
       "      <td>NaN</td>\n",
       "      <td>NaN</td>\n",
       "    </tr>\n",
       "    <tr>\n",
       "      <th>2</th>\n",
       "      <td>6749cc07-efed-ff09-4efe-43faf6f580de</td>\n",
       "      <td>3759384a-da72-f38a-02dc-3d28e10f6c4b</td>\n",
       "      <td>Andrey Zarur Founder &amp; CEO @ BioProcessors</td>\n",
       "      <td>d5e595c1-9ccd-4f89-8c9b-c8cc3c17076d</td>\n",
       "      <td>Andrey Zarur</td>\n",
       "      <td>BioProcessors</td>\n",
       "      <td>2002-01-01</td>\n",
       "      <td>2006-12-01</td>\n",
       "      <td>False</td>\n",
       "      <td>Founder &amp; CEO</td>\n",
       "      <td>executive</td>\n",
       "      <td>1.0</td>\n",
       "    </tr>\n",
       "  </tbody>\n",
       "</table>\n",
       "</div>"
      ],
      "text/plain": [
       "                               org_uuid                              job_uuid  \\\n",
       "0  9dc17185-743d-5fbc-f03b-ad0c81c8795d  4a470f5a-45fe-d892-f0e7-515069f107f6   \n",
       "1  9c8adac6-5c8e-9344-b763-6beab966c63c                                   NaN   \n",
       "2  6749cc07-efed-ff09-4efe-43faf6f580de  3759384a-da72-f38a-02dc-3d28e10f6c4b   \n",
       "\n",
       "                                            job_name  \\\n",
       "0  Greg Raleigh Founder, CEO and President @ Airg...   \n",
       "1                                                NaN   \n",
       "2         Andrey Zarur Founder & CEO @ BioProcessors   \n",
       "\n",
       "                            people_uuid   person_name        org_name  \\\n",
       "0  31dabae0-f52d-7a27-4f76-51f4d4dfa04c  Greg Raleigh  Airgo Networks   \n",
       "1                                   NaN           NaN             NaN   \n",
       "2  d5e595c1-9ccd-4f89-8c9b-c8cc3c17076d  Andrey Zarur   BioProcessors   \n",
       "\n",
       "   started_on    ended_on is_current                       title   job_type  \\\n",
       "0  2001-01-01  2006-01-01      False  Founder, CEO and President  executive   \n",
       "1         NaN         NaN        NaN                         NaN        NaN   \n",
       "2  2002-01-01  2006-12-01      False               Founder & CEO  executive   \n",
       "\n",
       "   is_founder  \n",
       "0         1.0  \n",
       "1         NaN  \n",
       "2         1.0  "
      ]
     },
     "execution_count": 59,
     "metadata": {},
     "output_type": "execute_result"
    }
   ],
   "source": [
    "founder_df_v1.head(3)"
   ]
  },
  {
   "cell_type": "code",
   "execution_count": 60,
   "id": "satisfactory-baltimore",
   "metadata": {},
   "outputs": [
    {
     "data": {
      "text/plain": [
       "47496"
      ]
     },
     "execution_count": 60,
     "metadata": {},
     "output_type": "execute_result"
    }
   ],
   "source": [
    "len(founder_df_v1)"
   ]
  },
  {
   "cell_type": "code",
   "execution_count": 61,
   "id": "optional-fight",
   "metadata": {},
   "outputs": [],
   "source": [
    "founder_df_v1 = founder_df_v1 [['org_uuid','job_uuid','people_uuid']]"
   ]
  },
  {
   "cell_type": "code",
   "execution_count": 62,
   "id": "patient-festival",
   "metadata": {},
   "outputs": [],
   "source": [
    "founder_df_v2 = pd.merge(founder_df_v1,\n",
    "                         org_ori_df[['uuid','founded_on','category_groups_list']],\n",
    "                         left_on='org_uuid',\n",
    "                         right_on='uuid',how='left')"
   ]
  },
  {
   "cell_type": "code",
   "execution_count": 63,
   "id": "perfect-steal",
   "metadata": {},
   "outputs": [],
   "source": [
    "founder_df_v2['founded_on'] = pd.to_datetime(founder_df_v2['founded_on'])"
   ]
  },
  {
   "cell_type": "code",
   "execution_count": 64,
   "id": "supposed-queensland",
   "metadata": {},
   "outputs": [
    {
     "data": {
      "text/html": [
       "<div>\n",
       "<style scoped>\n",
       "    .dataframe tbody tr th:only-of-type {\n",
       "        vertical-align: middle;\n",
       "    }\n",
       "\n",
       "    .dataframe tbody tr th {\n",
       "        vertical-align: top;\n",
       "    }\n",
       "\n",
       "    .dataframe thead th {\n",
       "        text-align: right;\n",
       "    }\n",
       "</style>\n",
       "<table border=\"1\" class=\"dataframe\">\n",
       "  <thead>\n",
       "    <tr style=\"text-align: right;\">\n",
       "      <th></th>\n",
       "      <th>org_uuid</th>\n",
       "      <th>job_uuid</th>\n",
       "      <th>people_uuid</th>\n",
       "      <th>uuid</th>\n",
       "      <th>founded_on</th>\n",
       "      <th>category_groups_list</th>\n",
       "    </tr>\n",
       "  </thead>\n",
       "  <tbody>\n",
       "    <tr>\n",
       "      <th>0</th>\n",
       "      <td>9dc17185-743d-5fbc-f03b-ad0c81c8795d</td>\n",
       "      <td>4a470f5a-45fe-d892-f0e7-515069f107f6</td>\n",
       "      <td>31dabae0-f52d-7a27-4f76-51f4d4dfa04c</td>\n",
       "      <td>9dc17185-743d-5fbc-f03b-ad0c81c8795d</td>\n",
       "      <td>2000-05-01</td>\n",
       "      <td>Hardware,Mobile,Software</td>\n",
       "    </tr>\n",
       "    <tr>\n",
       "      <th>1</th>\n",
       "      <td>9c8adac6-5c8e-9344-b763-6beab966c63c</td>\n",
       "      <td>NaN</td>\n",
       "      <td>NaN</td>\n",
       "      <td>9c8adac6-5c8e-9344-b763-6beab966c63c</td>\n",
       "      <td>2000-10-01</td>\n",
       "      <td>Information Technology,Other,Privacy and Security</td>\n",
       "    </tr>\n",
       "    <tr>\n",
       "      <th>2</th>\n",
       "      <td>6749cc07-efed-ff09-4efe-43faf6f580de</td>\n",
       "      <td>3759384a-da72-f38a-02dc-3d28e10f6c4b</td>\n",
       "      <td>d5e595c1-9ccd-4f89-8c9b-c8cc3c17076d</td>\n",
       "      <td>6749cc07-efed-ff09-4efe-43faf6f580de</td>\n",
       "      <td>2000-10-01</td>\n",
       "      <td>Biotechnology,Health Care,Science and Engineering</td>\n",
       "    </tr>\n",
       "  </tbody>\n",
       "</table>\n",
       "</div>"
      ],
      "text/plain": [
       "                               org_uuid                              job_uuid  \\\n",
       "0  9dc17185-743d-5fbc-f03b-ad0c81c8795d  4a470f5a-45fe-d892-f0e7-515069f107f6   \n",
       "1  9c8adac6-5c8e-9344-b763-6beab966c63c                                   NaN   \n",
       "2  6749cc07-efed-ff09-4efe-43faf6f580de  3759384a-da72-f38a-02dc-3d28e10f6c4b   \n",
       "\n",
       "                            people_uuid                                  uuid  \\\n",
       "0  31dabae0-f52d-7a27-4f76-51f4d4dfa04c  9dc17185-743d-5fbc-f03b-ad0c81c8795d   \n",
       "1                                   NaN  9c8adac6-5c8e-9344-b763-6beab966c63c   \n",
       "2  d5e595c1-9ccd-4f89-8c9b-c8cc3c17076d  6749cc07-efed-ff09-4efe-43faf6f580de   \n",
       "\n",
       "  founded_on                               category_groups_list  \n",
       "0 2000-05-01                           Hardware,Mobile,Software  \n",
       "1 2000-10-01  Information Technology,Other,Privacy and Security  \n",
       "2 2000-10-01  Biotechnology,Health Care,Science and Engineering  "
      ]
     },
     "execution_count": 64,
     "metadata": {},
     "output_type": "execute_result"
    }
   ],
   "source": [
    "founder_df_v2.head(3)"
   ]
  },
  {
   "cell_type": "code",
   "execution_count": 65,
   "id": "municipal-burton",
   "metadata": {},
   "outputs": [
    {
     "data": {
      "text/plain": [
       "86488"
      ]
     },
     "execution_count": 65,
     "metadata": {},
     "output_type": "execute_result"
    }
   ],
   "source": [
    "#reduce the size of jobs_df by filtering to only relevant companies\n",
    "jobs_df_v5 = pd.merge(founder_df_v2['people_uuid'],\n",
    "                     jobs_df_v4,\n",
    "                     on='people_uuid',\n",
    "                     how='left')\n",
    "len(jobs_df_v5)"
   ]
  },
  {
   "cell_type": "code",
   "execution_count": 66,
   "id": "quarterly-consideration",
   "metadata": {},
   "outputs": [
    {
     "data": {
      "text/html": [
       "<div>\n",
       "<style scoped>\n",
       "    .dataframe tbody tr th:only-of-type {\n",
       "        vertical-align: middle;\n",
       "    }\n",
       "\n",
       "    .dataframe tbody tr th {\n",
       "        vertical-align: top;\n",
       "    }\n",
       "\n",
       "    .dataframe thead th {\n",
       "        text-align: right;\n",
       "    }\n",
       "</style>\n",
       "<table border=\"1\" class=\"dataframe\">\n",
       "  <thead>\n",
       "    <tr style=\"text-align: right;\">\n",
       "      <th></th>\n",
       "      <th>people_uuid</th>\n",
       "      <th>job_uuid</th>\n",
       "      <th>org_uuid</th>\n",
       "      <th>started_on</th>\n",
       "      <th>ended_on</th>\n",
       "      <th>is_current</th>\n",
       "      <th>uuid</th>\n",
       "      <th>category_groups_list</th>\n",
       "    </tr>\n",
       "  </thead>\n",
       "  <tbody>\n",
       "    <tr>\n",
       "      <th>0</th>\n",
       "      <td>31dabae0-f52d-7a27-4f76-51f4d4dfa04c</td>\n",
       "      <td>fc988918-44f5-d3c3-d221-7c396aa41bc2</td>\n",
       "      <td>d98fc401-0131-96ec-b5a3-392823d11d48</td>\n",
       "      <td>2008-11-01</td>\n",
       "      <td>NaT</td>\n",
       "      <td>False</td>\n",
       "      <td>d98fc401-0131-96ec-b5a3-392823d11d48</td>\n",
       "      <td>Consumer Electronics,Hardware,Mobile,Software</td>\n",
       "    </tr>\n",
       "    <tr>\n",
       "      <th>1</th>\n",
       "      <td>31dabae0-f52d-7a27-4f76-51f4d4dfa04c</td>\n",
       "      <td>2a70709e-d305-6e73-f7d6-8b005070625b</td>\n",
       "      <td>3e3e8a2f-3700-f2c9-6568-4aaae02c07c6</td>\n",
       "      <td>2006-01-01</td>\n",
       "      <td>2008-01-01</td>\n",
       "      <td>False</td>\n",
       "      <td>3e3e8a2f-3700-f2c9-6568-4aaae02c07c6</td>\n",
       "      <td>Hardware,Manufacturing,Mobile,Software</td>\n",
       "    </tr>\n",
       "    <tr>\n",
       "      <th>2</th>\n",
       "      <td>31dabae0-f52d-7a27-4f76-51f4d4dfa04c</td>\n",
       "      <td>11e77a70-da8a-7f66-f4ac-079caa2507c5</td>\n",
       "      <td>0f01774b-68ba-a23a-f743-a91f02d333c2</td>\n",
       "      <td>2008-01-01</td>\n",
       "      <td>NaT</td>\n",
       "      <td>True</td>\n",
       "      <td>0f01774b-68ba-a23a-f743-a91f02d333c2</td>\n",
       "      <td>Financial Services,Health Care,Lending and Inv...</td>\n",
       "    </tr>\n",
       "  </tbody>\n",
       "</table>\n",
       "</div>"
      ],
      "text/plain": [
       "                            people_uuid                              job_uuid  \\\n",
       "0  31dabae0-f52d-7a27-4f76-51f4d4dfa04c  fc988918-44f5-d3c3-d221-7c396aa41bc2   \n",
       "1  31dabae0-f52d-7a27-4f76-51f4d4dfa04c  2a70709e-d305-6e73-f7d6-8b005070625b   \n",
       "2  31dabae0-f52d-7a27-4f76-51f4d4dfa04c  11e77a70-da8a-7f66-f4ac-079caa2507c5   \n",
       "\n",
       "                               org_uuid started_on   ended_on is_current  \\\n",
       "0  d98fc401-0131-96ec-b5a3-392823d11d48 2008-11-01        NaT      False   \n",
       "1  3e3e8a2f-3700-f2c9-6568-4aaae02c07c6 2006-01-01 2008-01-01      False   \n",
       "2  0f01774b-68ba-a23a-f743-a91f02d333c2 2008-01-01        NaT       True   \n",
       "\n",
       "                                   uuid  \\\n",
       "0  d98fc401-0131-96ec-b5a3-392823d11d48   \n",
       "1  3e3e8a2f-3700-f2c9-6568-4aaae02c07c6   \n",
       "2  0f01774b-68ba-a23a-f743-a91f02d333c2   \n",
       "\n",
       "                                category_groups_list  \n",
       "0      Consumer Electronics,Hardware,Mobile,Software  \n",
       "1             Hardware,Manufacturing,Mobile,Software  \n",
       "2  Financial Services,Health Care,Lending and Inv...  "
      ]
     },
     "execution_count": 66,
     "metadata": {},
     "output_type": "execute_result"
    }
   ],
   "source": [
    "jobs_df_v5.head(3)"
   ]
  },
  {
   "cell_type": "code",
   "execution_count": 67,
   "id": "straight-neighborhood",
   "metadata": {},
   "outputs": [
    {
     "data": {
      "text/plain": [
       "131425"
      ]
     },
     "execution_count": 67,
     "metadata": {},
     "output_type": "execute_result"
    }
   ],
   "source": [
    "#create a list of companies that being acquired and ipo\n",
    "mask1 = org_ori_df['status'] == 'acquired'\n",
    "mask2 = org_ori_df['status'] == 'ipo'\n",
    "set_successful_companies = set (org_ori_df[mask1 | mask2]['uuid'])\n",
    "len(set_successful_companies)"
   ]
  },
  {
   "cell_type": "code",
   "execution_count": 68,
   "id": "egyptian-jackson",
   "metadata": {},
   "outputs": [
    {
     "name": "stdout",
     "output_type": "stream",
     "text": [
      "Wall time: 5min 59s\n"
     ]
    }
   ],
   "source": [
    "%%time\n",
    "\n",
    "#create list to capture founder experience in years, number for companies, previously successful, and workin in exactly same sector\n",
    "founder_experience_num_years = list ()\n",
    "founder_experience_num_companies = list()\n",
    "founder_experience_num_successful = list ()\n",
    "founder_experience_num_same_category = list ()\n",
    "\n",
    "#get features from founders' experience\n",
    "end = len(founder_df_v2)\n",
    "\n",
    "for i in range (0,end):\n",
    "    founder = founder_df_v2.iloc[i]\n",
    "    founded_date = founder['founded_on']\n",
    "    people_uuid = founder['people_uuid']\n",
    "    org_uuid = founder['org_uuid']\n",
    "    \n",
    "    #create pd of jobs for one founder and filter\n",
    "    founder_experience_df = jobs_df_v5[jobs_df_v5['people_uuid'] == people_uuid] \n",
    "    founder_experience_df_v1 = founder_experience_df[founder_experience_df['org_uuid'] != org_uuid] #drop the company founded\n",
    "    founder_experience_df_v2 = founder_experience_df_v1[founder_experience_df_v1['started_on'] < founded_date] #filter to experience only before found compan\n",
    "    \n",
    "    #no experience found after filtering. append 0 for all features\n",
    "    if len(founder_experience_df_v2) == 0: \n",
    "        founder_experience_num_years.append(0)\n",
    "        founder_experience_num_companies.append(0)\n",
    "        founder_experience_num_successful.append(0)\n",
    "        founder_experience_num_same_category.append(0)\n",
    "        \n",
    "    else:\n",
    "            \n",
    "        #compute years of experience\n",
    "        num_years = round ((founded_date - founder_experience_df_v2['started_on'].min()).days/365,1) \n",
    "        founder_experience_num_years.append(num_years) #append years of experience to main list\n",
    "\n",
    "        #count the number of companies\n",
    "        num_companies = len(list(founder_experience_df_v2['org_uuid'].unique())) #count the number of companies by looking at unique org_uuid\n",
    "        founder_experience_num_companies.append(num_companies) #append to main list\n",
    "            \n",
    "        #count the number of company/ies previously ipoed or acquired\n",
    "        set_companies_work_uuid = set(founder_experience_df_v2['org_uuid'].unique())\n",
    "        num_successful_companies = len (set_companies_work_uuid.intersection(set_successful_companies))\n",
    "        founder_experience_num_successful.append(num_successful_companies)\n",
    "                \n",
    "        #count number of sector that overlapped with company found\n",
    "        founder_experience_df_v3 = founder_experience_df_v2[founder_experience_df_v2['category_groups_list'].notna()] #filter out company with no category groups list\n",
    "        set_category_founded = set(founder['category_groups_list'].split(','))\n",
    "        set_category_experience = set()\n",
    "        for group_list in list(founder_experience_df_v3['category_groups_list']):\n",
    "            group_list = group_list.split(',')\n",
    "            for group in group_list:\n",
    "                set_category_experience.add(group)\n",
    "        \n",
    "        #assign the score based on number of categories overlapped between company founded and experience\n",
    "        founder_experience_num_same_category.append(len(set_category_experience.intersection(set_category_founded)))"
   ]
  },
  {
   "cell_type": "code",
   "execution_count": 69,
   "id": "exclusive-scale",
   "metadata": {},
   "outputs": [
    {
     "data": {
      "text/plain": [
       "47496"
      ]
     },
     "execution_count": 69,
     "metadata": {},
     "output_type": "execute_result"
    }
   ],
   "source": [
    "len(founder_df_v2)"
   ]
  },
  {
   "cell_type": "code",
   "execution_count": 70,
   "id": "bound-backing",
   "metadata": {},
   "outputs": [
    {
     "data": {
      "text/plain": [
       "38460"
      ]
     },
     "execution_count": 70,
     "metadata": {},
     "output_type": "execute_result"
    }
   ],
   "source": [
    "founder_experience_num_years.count(0)"
   ]
  },
  {
   "cell_type": "code",
   "execution_count": 71,
   "id": "every-circuit",
   "metadata": {},
   "outputs": [
    {
     "data": {
      "text/plain": [
       "38431"
      ]
     },
     "execution_count": 71,
     "metadata": {},
     "output_type": "execute_result"
    }
   ],
   "source": [
    "founder_experience_num_companies.count(0)"
   ]
  },
  {
   "cell_type": "code",
   "execution_count": 72,
   "id": "fallen-maintenance",
   "metadata": {},
   "outputs": [
    {
     "data": {
      "text/plain": [
       "42343"
      ]
     },
     "execution_count": 72,
     "metadata": {},
     "output_type": "execute_result"
    }
   ],
   "source": [
    "founder_experience_num_successful.count(0)"
   ]
  },
  {
   "cell_type": "code",
   "execution_count": 73,
   "id": "forty-calcium",
   "metadata": {},
   "outputs": [
    {
     "data": {
      "text/plain": [
       "40862"
      ]
     },
     "execution_count": 73,
     "metadata": {},
     "output_type": "execute_result"
    }
   ],
   "source": [
    "founder_experience_num_same_category.count(0)"
   ]
  },
  {
   "cell_type": "code",
   "execution_count": 74,
   "id": "intensive-steel",
   "metadata": {},
   "outputs": [],
   "source": [
    "#assign founder experience to founder\n",
    "founder_df_v2['founder_experience_num_years'] = founder_experience_num_years\n",
    "founder_df_v2['founder_experience_num_companies'] = founder_experience_num_companies\n",
    "founder_df_v2['founder_experience_num_successful'] = founder_experience_num_successful\n",
    "founder_df_v2['founder_experience_num_same_category'] = founder_experience_num_same_category"
   ]
  },
  {
   "cell_type": "code",
   "execution_count": 75,
   "id": "accompanied-stuart",
   "metadata": {},
   "outputs": [
    {
     "data": {
      "text/html": [
       "<div>\n",
       "<style scoped>\n",
       "    .dataframe tbody tr th:only-of-type {\n",
       "        vertical-align: middle;\n",
       "    }\n",
       "\n",
       "    .dataframe tbody tr th {\n",
       "        vertical-align: top;\n",
       "    }\n",
       "\n",
       "    .dataframe thead th {\n",
       "        text-align: right;\n",
       "    }\n",
       "</style>\n",
       "<table border=\"1\" class=\"dataframe\">\n",
       "  <thead>\n",
       "    <tr style=\"text-align: right;\">\n",
       "      <th></th>\n",
       "      <th>org_uuid</th>\n",
       "      <th>job_uuid</th>\n",
       "      <th>people_uuid</th>\n",
       "      <th>uuid</th>\n",
       "      <th>founded_on</th>\n",
       "      <th>category_groups_list</th>\n",
       "      <th>founder_experience_num_years</th>\n",
       "      <th>founder_experience_num_companies</th>\n",
       "      <th>founder_experience_num_successful</th>\n",
       "      <th>founder_experience_num_same_category</th>\n",
       "    </tr>\n",
       "  </thead>\n",
       "  <tbody>\n",
       "    <tr>\n",
       "      <th>0</th>\n",
       "      <td>9dc17185-743d-5fbc-f03b-ad0c81c8795d</td>\n",
       "      <td>4a470f5a-45fe-d892-f0e7-515069f107f6</td>\n",
       "      <td>31dabae0-f52d-7a27-4f76-51f4d4dfa04c</td>\n",
       "      <td>9dc17185-743d-5fbc-f03b-ad0c81c8795d</td>\n",
       "      <td>2000-05-01</td>\n",
       "      <td>Hardware,Mobile,Software</td>\n",
       "      <td>16.3</td>\n",
       "      <td>3</td>\n",
       "      <td>2</td>\n",
       "      <td>3</td>\n",
       "    </tr>\n",
       "    <tr>\n",
       "      <th>1</th>\n",
       "      <td>9c8adac6-5c8e-9344-b763-6beab966c63c</td>\n",
       "      <td>NaN</td>\n",
       "      <td>NaN</td>\n",
       "      <td>9c8adac6-5c8e-9344-b763-6beab966c63c</td>\n",
       "      <td>2000-10-01</td>\n",
       "      <td>Information Technology,Other,Privacy and Security</td>\n",
       "      <td>0.0</td>\n",
       "      <td>0</td>\n",
       "      <td>0</td>\n",
       "      <td>0</td>\n",
       "    </tr>\n",
       "    <tr>\n",
       "      <th>2</th>\n",
       "      <td>6749cc07-efed-ff09-4efe-43faf6f580de</td>\n",
       "      <td>3759384a-da72-f38a-02dc-3d28e10f6c4b</td>\n",
       "      <td>d5e595c1-9ccd-4f89-8c9b-c8cc3c17076d</td>\n",
       "      <td>6749cc07-efed-ff09-4efe-43faf6f580de</td>\n",
       "      <td>2000-10-01</td>\n",
       "      <td>Biotechnology,Health Care,Science and Engineering</td>\n",
       "      <td>0.0</td>\n",
       "      <td>0</td>\n",
       "      <td>0</td>\n",
       "      <td>0</td>\n",
       "    </tr>\n",
       "  </tbody>\n",
       "</table>\n",
       "</div>"
      ],
      "text/plain": [
       "                               org_uuid                              job_uuid  \\\n",
       "0  9dc17185-743d-5fbc-f03b-ad0c81c8795d  4a470f5a-45fe-d892-f0e7-515069f107f6   \n",
       "1  9c8adac6-5c8e-9344-b763-6beab966c63c                                   NaN   \n",
       "2  6749cc07-efed-ff09-4efe-43faf6f580de  3759384a-da72-f38a-02dc-3d28e10f6c4b   \n",
       "\n",
       "                            people_uuid                                  uuid  \\\n",
       "0  31dabae0-f52d-7a27-4f76-51f4d4dfa04c  9dc17185-743d-5fbc-f03b-ad0c81c8795d   \n",
       "1                                   NaN  9c8adac6-5c8e-9344-b763-6beab966c63c   \n",
       "2  d5e595c1-9ccd-4f89-8c9b-c8cc3c17076d  6749cc07-efed-ff09-4efe-43faf6f580de   \n",
       "\n",
       "  founded_on                               category_groups_list  \\\n",
       "0 2000-05-01                           Hardware,Mobile,Software   \n",
       "1 2000-10-01  Information Technology,Other,Privacy and Security   \n",
       "2 2000-10-01  Biotechnology,Health Care,Science and Engineering   \n",
       "\n",
       "   founder_experience_num_years  founder_experience_num_companies  \\\n",
       "0                          16.3                                 3   \n",
       "1                           0.0                                 0   \n",
       "2                           0.0                                 0   \n",
       "\n",
       "   founder_experience_num_successful  founder_experience_num_same_category  \n",
       "0                                  2                                     3  \n",
       "1                                  0                                     0  \n",
       "2                                  0                                     0  "
      ]
     },
     "execution_count": 75,
     "metadata": {},
     "output_type": "execute_result"
    }
   ],
   "source": [
    "founder_df_v2.head(3)"
   ]
  },
  {
   "cell_type": "code",
   "execution_count": 76,
   "id": "verbal-emphasis",
   "metadata": {},
   "outputs": [],
   "source": [
    "founder_df_v3 = founder_df_v2[['org_uuid','founder_experience_num_years','founder_experience_num_companies',\n",
    "                              'founder_experience_num_successful','founder_experience_num_same_category']].groupby('org_uuid').sum()"
   ]
  },
  {
   "cell_type": "code",
   "execution_count": 77,
   "id": "guilty-belle",
   "metadata": {},
   "outputs": [
    {
     "data": {
      "text/html": [
       "<div>\n",
       "<style scoped>\n",
       "    .dataframe tbody tr th:only-of-type {\n",
       "        vertical-align: middle;\n",
       "    }\n",
       "\n",
       "    .dataframe tbody tr th {\n",
       "        vertical-align: top;\n",
       "    }\n",
       "\n",
       "    .dataframe thead th {\n",
       "        text-align: right;\n",
       "    }\n",
       "</style>\n",
       "<table border=\"1\" class=\"dataframe\">\n",
       "  <thead>\n",
       "    <tr style=\"text-align: right;\">\n",
       "      <th></th>\n",
       "      <th>founder_experience_num_years</th>\n",
       "      <th>founder_experience_num_companies</th>\n",
       "      <th>founder_experience_num_successful</th>\n",
       "      <th>founder_experience_num_same_category</th>\n",
       "    </tr>\n",
       "    <tr>\n",
       "      <th>org_uuid</th>\n",
       "      <th></th>\n",
       "      <th></th>\n",
       "      <th></th>\n",
       "      <th></th>\n",
       "    </tr>\n",
       "  </thead>\n",
       "  <tbody>\n",
       "    <tr>\n",
       "      <th>00002470-bff7-6226-5800-0ca1b3787b6f</th>\n",
       "      <td>9.6</td>\n",
       "      <td>2</td>\n",
       "      <td>0</td>\n",
       "      <td>3</td>\n",
       "    </tr>\n",
       "    <tr>\n",
       "      <th>0000d497-c93a-eea3-eeb0-a943dfb4f71e</th>\n",
       "      <td>0.0</td>\n",
       "      <td>0</td>\n",
       "      <td>0</td>\n",
       "      <td>0</td>\n",
       "    </tr>\n",
       "    <tr>\n",
       "      <th>00040dc9-f822-267c-9cf8-1c9b92ca0588</th>\n",
       "      <td>7.6</td>\n",
       "      <td>3</td>\n",
       "      <td>2</td>\n",
       "      <td>1</td>\n",
       "    </tr>\n",
       "  </tbody>\n",
       "</table>\n",
       "</div>"
      ],
      "text/plain": [
       "                                      founder_experience_num_years  \\\n",
       "org_uuid                                                             \n",
       "00002470-bff7-6226-5800-0ca1b3787b6f                           9.6   \n",
       "0000d497-c93a-eea3-eeb0-a943dfb4f71e                           0.0   \n",
       "00040dc9-f822-267c-9cf8-1c9b92ca0588                           7.6   \n",
       "\n",
       "                                      founder_experience_num_companies  \\\n",
       "org_uuid                                                                 \n",
       "00002470-bff7-6226-5800-0ca1b3787b6f                                 2   \n",
       "0000d497-c93a-eea3-eeb0-a943dfb4f71e                                 0   \n",
       "00040dc9-f822-267c-9cf8-1c9b92ca0588                                 3   \n",
       "\n",
       "                                      founder_experience_num_successful  \\\n",
       "org_uuid                                                                  \n",
       "00002470-bff7-6226-5800-0ca1b3787b6f                                  0   \n",
       "0000d497-c93a-eea3-eeb0-a943dfb4f71e                                  0   \n",
       "00040dc9-f822-267c-9cf8-1c9b92ca0588                                  2   \n",
       "\n",
       "                                      founder_experience_num_same_category  \n",
       "org_uuid                                                                    \n",
       "00002470-bff7-6226-5800-0ca1b3787b6f                                     3  \n",
       "0000d497-c93a-eea3-eeb0-a943dfb4f71e                                     0  \n",
       "00040dc9-f822-267c-9cf8-1c9b92ca0588                                     1  "
      ]
     },
     "execution_count": 77,
     "metadata": {},
     "output_type": "execute_result"
    }
   ],
   "source": [
    "founder_df_v3.head(3)"
   ]
  },
  {
   "cell_type": "code",
   "execution_count": 78,
   "id": "soviet-employer",
   "metadata": {},
   "outputs": [],
   "source": [
    "founder_df_v3.reset_index(inplace=True)"
   ]
  },
  {
   "cell_type": "code",
   "execution_count": 79,
   "id": "according-ozone",
   "metadata": {},
   "outputs": [
    {
     "data": {
      "text/html": [
       "<div>\n",
       "<style scoped>\n",
       "    .dataframe tbody tr th:only-of-type {\n",
       "        vertical-align: middle;\n",
       "    }\n",
       "\n",
       "    .dataframe tbody tr th {\n",
       "        vertical-align: top;\n",
       "    }\n",
       "\n",
       "    .dataframe thead th {\n",
       "        text-align: right;\n",
       "    }\n",
       "</style>\n",
       "<table border=\"1\" class=\"dataframe\">\n",
       "  <thead>\n",
       "    <tr style=\"text-align: right;\">\n",
       "      <th></th>\n",
       "      <th>org_uuid</th>\n",
       "      <th>num_founder</th>\n",
       "      <th>is_founder_gender_diversity</th>\n",
       "      <th>num_bachelor</th>\n",
       "      <th>num_master</th>\n",
       "      <th>num_phd</th>\n",
       "      <th>num_mba</th>\n",
       "      <th>num_stem</th>\n",
       "      <th>num_ivy_league</th>\n",
       "      <th>num_top_100</th>\n",
       "      <th>num_advisor</th>\n",
       "      <th>founder_experience_num_years</th>\n",
       "      <th>founder_experience_num_companies</th>\n",
       "      <th>founder_experience_num_successful</th>\n",
       "      <th>founder_experience_num_same_category</th>\n",
       "    </tr>\n",
       "  </thead>\n",
       "  <tbody>\n",
       "    <tr>\n",
       "      <th>0</th>\n",
       "      <td>9dc17185-743d-5fbc-f03b-ad0c81c8795d</td>\n",
       "      <td>1.0</td>\n",
       "      <td>0</td>\n",
       "      <td>0.0</td>\n",
       "      <td>0.0</td>\n",
       "      <td>0.0</td>\n",
       "      <td>0.0</td>\n",
       "      <td>0.0</td>\n",
       "      <td>0.0</td>\n",
       "      <td>0.0</td>\n",
       "      <td>0.0</td>\n",
       "      <td>16.3</td>\n",
       "      <td>3</td>\n",
       "      <td>2</td>\n",
       "      <td>3</td>\n",
       "    </tr>\n",
       "    <tr>\n",
       "      <th>1</th>\n",
       "      <td>9c8adac6-5c8e-9344-b763-6beab966c63c</td>\n",
       "      <td>0.0</td>\n",
       "      <td>0</td>\n",
       "      <td>0.0</td>\n",
       "      <td>0.0</td>\n",
       "      <td>0.0</td>\n",
       "      <td>0.0</td>\n",
       "      <td>0.0</td>\n",
       "      <td>0.0</td>\n",
       "      <td>0.0</td>\n",
       "      <td>0.0</td>\n",
       "      <td>0.0</td>\n",
       "      <td>0</td>\n",
       "      <td>0</td>\n",
       "      <td>0</td>\n",
       "    </tr>\n",
       "    <tr>\n",
       "      <th>2</th>\n",
       "      <td>6749cc07-efed-ff09-4efe-43faf6f580de</td>\n",
       "      <td>1.0</td>\n",
       "      <td>0</td>\n",
       "      <td>0.0</td>\n",
       "      <td>0.0</td>\n",
       "      <td>1.0</td>\n",
       "      <td>0.0</td>\n",
       "      <td>0.0</td>\n",
       "      <td>0.0</td>\n",
       "      <td>0.0</td>\n",
       "      <td>0.0</td>\n",
       "      <td>0.0</td>\n",
       "      <td>0</td>\n",
       "      <td>0</td>\n",
       "      <td>0</td>\n",
       "    </tr>\n",
       "  </tbody>\n",
       "</table>\n",
       "</div>"
      ],
      "text/plain": [
       "                               org_uuid  num_founder  \\\n",
       "0  9dc17185-743d-5fbc-f03b-ad0c81c8795d          1.0   \n",
       "1  9c8adac6-5c8e-9344-b763-6beab966c63c          0.0   \n",
       "2  6749cc07-efed-ff09-4efe-43faf6f580de          1.0   \n",
       "\n",
       "   is_founder_gender_diversity  num_bachelor  num_master  num_phd  num_mba  \\\n",
       "0                            0           0.0         0.0      0.0      0.0   \n",
       "1                            0           0.0         0.0      0.0      0.0   \n",
       "2                            0           0.0         0.0      1.0      0.0   \n",
       "\n",
       "   num_stem  num_ivy_league  num_top_100  num_advisor  \\\n",
       "0       0.0             0.0          0.0          0.0   \n",
       "1       0.0             0.0          0.0          0.0   \n",
       "2       0.0             0.0          0.0          0.0   \n",
       "\n",
       "   founder_experience_num_years  founder_experience_num_companies  \\\n",
       "0                          16.3                                 3   \n",
       "1                           0.0                                 0   \n",
       "2                           0.0                                 0   \n",
       "\n",
       "   founder_experience_num_successful  founder_experience_num_same_category  \n",
       "0                                  2                                     3  \n",
       "1                                  0                                     0  \n",
       "2                                  0                                     0  "
      ]
     },
     "execution_count": 79,
     "metadata": {},
     "output_type": "execute_result"
    }
   ],
   "source": [
    "main_processing_df_v5 = pd.merge(main_processing_df_v4,\n",
    "                                founder_df_v3,\n",
    "                                on='org_uuid',\n",
    "                                how='left')\n",
    "main_processing_df_v5.head(3)"
   ]
  },
  {
   "cell_type": "code",
   "execution_count": 80,
   "id": "steady-survey",
   "metadata": {},
   "outputs": [
    {
     "data": {
      "text/plain": [
       "28727"
      ]
     },
     "execution_count": 80,
     "metadata": {},
     "output_type": "execute_result"
    }
   ],
   "source": [
    "len(main_processing_df_v5)"
   ]
  },
  {
   "cell_type": "markdown",
   "id": "dependent-photographer",
   "metadata": {},
   "source": [
    "# Save final file"
   ]
  },
  {
   "cell_type": "code",
   "execution_count": 81,
   "id": "parallel-yorkshire",
   "metadata": {},
   "outputs": [
    {
     "data": {
      "text/plain": [
       "28727"
      ]
     },
     "execution_count": 81,
     "metadata": {},
     "output_type": "execute_result"
    }
   ],
   "source": [
    "len(main_processing_df_v5)"
   ]
  },
  {
   "cell_type": "code",
   "execution_count": 82,
   "id": "earlier-concentrate",
   "metadata": {},
   "outputs": [
    {
     "data": {
      "text/html": [
       "<div>\n",
       "<style scoped>\n",
       "    .dataframe tbody tr th:only-of-type {\n",
       "        vertical-align: middle;\n",
       "    }\n",
       "\n",
       "    .dataframe tbody tr th {\n",
       "        vertical-align: top;\n",
       "    }\n",
       "\n",
       "    .dataframe thead th {\n",
       "        text-align: right;\n",
       "    }\n",
       "</style>\n",
       "<table border=\"1\" class=\"dataframe\">\n",
       "  <thead>\n",
       "    <tr style=\"text-align: right;\">\n",
       "      <th></th>\n",
       "      <th>org_uuid</th>\n",
       "      <th>num_founder</th>\n",
       "      <th>is_founder_gender_diversity</th>\n",
       "      <th>num_bachelor</th>\n",
       "      <th>num_master</th>\n",
       "      <th>num_phd</th>\n",
       "      <th>num_mba</th>\n",
       "      <th>num_stem</th>\n",
       "      <th>num_ivy_league</th>\n",
       "      <th>num_top_100</th>\n",
       "      <th>num_advisor</th>\n",
       "      <th>founder_experience_num_years</th>\n",
       "      <th>founder_experience_num_companies</th>\n",
       "      <th>founder_experience_num_successful</th>\n",
       "      <th>founder_experience_num_same_category</th>\n",
       "    </tr>\n",
       "  </thead>\n",
       "  <tbody>\n",
       "    <tr>\n",
       "      <th>0</th>\n",
       "      <td>9dc17185-743d-5fbc-f03b-ad0c81c8795d</td>\n",
       "      <td>1.0</td>\n",
       "      <td>0</td>\n",
       "      <td>0.0</td>\n",
       "      <td>0.0</td>\n",
       "      <td>0.0</td>\n",
       "      <td>0.0</td>\n",
       "      <td>0.0</td>\n",
       "      <td>0.0</td>\n",
       "      <td>0.0</td>\n",
       "      <td>0.0</td>\n",
       "      <td>16.3</td>\n",
       "      <td>3</td>\n",
       "      <td>2</td>\n",
       "      <td>3</td>\n",
       "    </tr>\n",
       "    <tr>\n",
       "      <th>1</th>\n",
       "      <td>9c8adac6-5c8e-9344-b763-6beab966c63c</td>\n",
       "      <td>0.0</td>\n",
       "      <td>0</td>\n",
       "      <td>0.0</td>\n",
       "      <td>0.0</td>\n",
       "      <td>0.0</td>\n",
       "      <td>0.0</td>\n",
       "      <td>0.0</td>\n",
       "      <td>0.0</td>\n",
       "      <td>0.0</td>\n",
       "      <td>0.0</td>\n",
       "      <td>0.0</td>\n",
       "      <td>0</td>\n",
       "      <td>0</td>\n",
       "      <td>0</td>\n",
       "    </tr>\n",
       "    <tr>\n",
       "      <th>2</th>\n",
       "      <td>6749cc07-efed-ff09-4efe-43faf6f580de</td>\n",
       "      <td>1.0</td>\n",
       "      <td>0</td>\n",
       "      <td>0.0</td>\n",
       "      <td>0.0</td>\n",
       "      <td>1.0</td>\n",
       "      <td>0.0</td>\n",
       "      <td>0.0</td>\n",
       "      <td>0.0</td>\n",
       "      <td>0.0</td>\n",
       "      <td>0.0</td>\n",
       "      <td>0.0</td>\n",
       "      <td>0</td>\n",
       "      <td>0</td>\n",
       "      <td>0</td>\n",
       "    </tr>\n",
       "  </tbody>\n",
       "</table>\n",
       "</div>"
      ],
      "text/plain": [
       "                               org_uuid  num_founder  \\\n",
       "0  9dc17185-743d-5fbc-f03b-ad0c81c8795d          1.0   \n",
       "1  9c8adac6-5c8e-9344-b763-6beab966c63c          0.0   \n",
       "2  6749cc07-efed-ff09-4efe-43faf6f580de          1.0   \n",
       "\n",
       "   is_founder_gender_diversity  num_bachelor  num_master  num_phd  num_mba  \\\n",
       "0                            0           0.0         0.0      0.0      0.0   \n",
       "1                            0           0.0         0.0      0.0      0.0   \n",
       "2                            0           0.0         0.0      1.0      0.0   \n",
       "\n",
       "   num_stem  num_ivy_league  num_top_100  num_advisor  \\\n",
       "0       0.0             0.0          0.0          0.0   \n",
       "1       0.0             0.0          0.0          0.0   \n",
       "2       0.0             0.0          0.0          0.0   \n",
       "\n",
       "   founder_experience_num_years  founder_experience_num_companies  \\\n",
       "0                          16.3                                 3   \n",
       "1                           0.0                                 0   \n",
       "2                           0.0                                 0   \n",
       "\n",
       "   founder_experience_num_successful  founder_experience_num_same_category  \n",
       "0                                  2                                     3  \n",
       "1                                  0                                     0  \n",
       "2                                  0                                     0  "
      ]
     },
     "execution_count": 82,
     "metadata": {},
     "output_type": "execute_result"
    }
   ],
   "source": [
    "main_processing_df_v5.head(3)"
   ]
  },
  {
   "cell_type": "markdown",
   "id": "applicable-tutorial",
   "metadata": {},
   "source": [
    "# Rename Column and Save File"
   ]
  },
  {
   "cell_type": "code",
   "execution_count": 83,
   "id": "minimal-destiny",
   "metadata": {},
   "outputs": [],
   "source": [
    "main_processing_df_v5.set_index('org_uuid',inplace=True)"
   ]
  },
  {
   "cell_type": "code",
   "execution_count": 84,
   "id": "acknowledged-silly",
   "metadata": {},
   "outputs": [
    {
     "data": {
      "text/html": [
       "<div>\n",
       "<style scoped>\n",
       "    .dataframe tbody tr th:only-of-type {\n",
       "        vertical-align: middle;\n",
       "    }\n",
       "\n",
       "    .dataframe tbody tr th {\n",
       "        vertical-align: top;\n",
       "    }\n",
       "\n",
       "    .dataframe thead th {\n",
       "        text-align: right;\n",
       "    }\n",
       "</style>\n",
       "<table border=\"1\" class=\"dataframe\">\n",
       "  <thead>\n",
       "    <tr style=\"text-align: right;\">\n",
       "      <th></th>\n",
       "      <th>people_num_founder</th>\n",
       "      <th>people_is_founder_gender_diversity</th>\n",
       "      <th>people_num_bachelor</th>\n",
       "      <th>people_num_master</th>\n",
       "      <th>people_num_phd</th>\n",
       "      <th>people_num_mba</th>\n",
       "      <th>people_num_stem</th>\n",
       "      <th>people_num_ivy_league</th>\n",
       "      <th>people_num_top_100</th>\n",
       "      <th>people_num_advisor</th>\n",
       "      <th>people_founder_experience_num_years</th>\n",
       "      <th>people_founder_experience_num_companies</th>\n",
       "      <th>people_founder_experience_num_successful</th>\n",
       "      <th>people_founder_experience_num_same_category</th>\n",
       "    </tr>\n",
       "    <tr>\n",
       "      <th>org_uuid</th>\n",
       "      <th></th>\n",
       "      <th></th>\n",
       "      <th></th>\n",
       "      <th></th>\n",
       "      <th></th>\n",
       "      <th></th>\n",
       "      <th></th>\n",
       "      <th></th>\n",
       "      <th></th>\n",
       "      <th></th>\n",
       "      <th></th>\n",
       "      <th></th>\n",
       "      <th></th>\n",
       "      <th></th>\n",
       "    </tr>\n",
       "  </thead>\n",
       "  <tbody>\n",
       "    <tr>\n",
       "      <th>9dc17185-743d-5fbc-f03b-ad0c81c8795d</th>\n",
       "      <td>1.0</td>\n",
       "      <td>0</td>\n",
       "      <td>0.0</td>\n",
       "      <td>0.0</td>\n",
       "      <td>0.0</td>\n",
       "      <td>0.0</td>\n",
       "      <td>0.0</td>\n",
       "      <td>0.0</td>\n",
       "      <td>0.0</td>\n",
       "      <td>0.0</td>\n",
       "      <td>16.3</td>\n",
       "      <td>3</td>\n",
       "      <td>2</td>\n",
       "      <td>3</td>\n",
       "    </tr>\n",
       "    <tr>\n",
       "      <th>9c8adac6-5c8e-9344-b763-6beab966c63c</th>\n",
       "      <td>0.0</td>\n",
       "      <td>0</td>\n",
       "      <td>0.0</td>\n",
       "      <td>0.0</td>\n",
       "      <td>0.0</td>\n",
       "      <td>0.0</td>\n",
       "      <td>0.0</td>\n",
       "      <td>0.0</td>\n",
       "      <td>0.0</td>\n",
       "      <td>0.0</td>\n",
       "      <td>0.0</td>\n",
       "      <td>0</td>\n",
       "      <td>0</td>\n",
       "      <td>0</td>\n",
       "    </tr>\n",
       "    <tr>\n",
       "      <th>6749cc07-efed-ff09-4efe-43faf6f580de</th>\n",
       "      <td>1.0</td>\n",
       "      <td>0</td>\n",
       "      <td>0.0</td>\n",
       "      <td>0.0</td>\n",
       "      <td>1.0</td>\n",
       "      <td>0.0</td>\n",
       "      <td>0.0</td>\n",
       "      <td>0.0</td>\n",
       "      <td>0.0</td>\n",
       "      <td>0.0</td>\n",
       "      <td>0.0</td>\n",
       "      <td>0</td>\n",
       "      <td>0</td>\n",
       "      <td>0</td>\n",
       "    </tr>\n",
       "  </tbody>\n",
       "</table>\n",
       "</div>"
      ],
      "text/plain": [
       "                                      people_num_founder  \\\n",
       "org_uuid                                                   \n",
       "9dc17185-743d-5fbc-f03b-ad0c81c8795d                 1.0   \n",
       "9c8adac6-5c8e-9344-b763-6beab966c63c                 0.0   \n",
       "6749cc07-efed-ff09-4efe-43faf6f580de                 1.0   \n",
       "\n",
       "                                      people_is_founder_gender_diversity  \\\n",
       "org_uuid                                                                   \n",
       "9dc17185-743d-5fbc-f03b-ad0c81c8795d                                   0   \n",
       "9c8adac6-5c8e-9344-b763-6beab966c63c                                   0   \n",
       "6749cc07-efed-ff09-4efe-43faf6f580de                                   0   \n",
       "\n",
       "                                      people_num_bachelor  people_num_master  \\\n",
       "org_uuid                                                                       \n",
       "9dc17185-743d-5fbc-f03b-ad0c81c8795d                  0.0                0.0   \n",
       "9c8adac6-5c8e-9344-b763-6beab966c63c                  0.0                0.0   \n",
       "6749cc07-efed-ff09-4efe-43faf6f580de                  0.0                0.0   \n",
       "\n",
       "                                      people_num_phd  people_num_mba  \\\n",
       "org_uuid                                                               \n",
       "9dc17185-743d-5fbc-f03b-ad0c81c8795d             0.0             0.0   \n",
       "9c8adac6-5c8e-9344-b763-6beab966c63c             0.0             0.0   \n",
       "6749cc07-efed-ff09-4efe-43faf6f580de             1.0             0.0   \n",
       "\n",
       "                                      people_num_stem  people_num_ivy_league  \\\n",
       "org_uuid                                                                       \n",
       "9dc17185-743d-5fbc-f03b-ad0c81c8795d              0.0                    0.0   \n",
       "9c8adac6-5c8e-9344-b763-6beab966c63c              0.0                    0.0   \n",
       "6749cc07-efed-ff09-4efe-43faf6f580de              0.0                    0.0   \n",
       "\n",
       "                                      people_num_top_100  people_num_advisor  \\\n",
       "org_uuid                                                                       \n",
       "9dc17185-743d-5fbc-f03b-ad0c81c8795d                 0.0                 0.0   \n",
       "9c8adac6-5c8e-9344-b763-6beab966c63c                 0.0                 0.0   \n",
       "6749cc07-efed-ff09-4efe-43faf6f580de                 0.0                 0.0   \n",
       "\n",
       "                                      people_founder_experience_num_years  \\\n",
       "org_uuid                                                                    \n",
       "9dc17185-743d-5fbc-f03b-ad0c81c8795d                                 16.3   \n",
       "9c8adac6-5c8e-9344-b763-6beab966c63c                                  0.0   \n",
       "6749cc07-efed-ff09-4efe-43faf6f580de                                  0.0   \n",
       "\n",
       "                                      people_founder_experience_num_companies  \\\n",
       "org_uuid                                                                        \n",
       "9dc17185-743d-5fbc-f03b-ad0c81c8795d                                        3   \n",
       "9c8adac6-5c8e-9344-b763-6beab966c63c                                        0   \n",
       "6749cc07-efed-ff09-4efe-43faf6f580de                                        0   \n",
       "\n",
       "                                      people_founder_experience_num_successful  \\\n",
       "org_uuid                                                                         \n",
       "9dc17185-743d-5fbc-f03b-ad0c81c8795d                                         2   \n",
       "9c8adac6-5c8e-9344-b763-6beab966c63c                                         0   \n",
       "6749cc07-efed-ff09-4efe-43faf6f580de                                         0   \n",
       "\n",
       "                                      people_founder_experience_num_same_category  \n",
       "org_uuid                                                                           \n",
       "9dc17185-743d-5fbc-f03b-ad0c81c8795d                                            3  \n",
       "9c8adac6-5c8e-9344-b763-6beab966c63c                                            0  \n",
       "6749cc07-efed-ff09-4efe-43faf6f580de                                            0  "
      ]
     },
     "execution_count": 84,
     "metadata": {},
     "output_type": "execute_result"
    }
   ],
   "source": [
    "new_column_name = list()\n",
    "for column in list(main_processing_df_v5.columns):\n",
    "    new_column_name.append('people_' + column)\n",
    "new_column_dict = dict(zip(main_processing_df_v5.columns,new_column_name))\n",
    "main_processing_df_v5.rename(columns = new_column_dict,inplace=True)\n",
    "main_processing_df_v5.head(3)"
   ]
  },
  {
   "cell_type": "code",
   "execution_count": 87,
   "id": "34972f94",
   "metadata": {},
   "outputs": [
    {
     "data": {
      "text/plain": [
       "['people_num_founder',\n",
       " 'people_is_founder_gender_diversity',\n",
       " 'people_num_bachelor',\n",
       " 'people_num_master',\n",
       " 'people_num_phd',\n",
       " 'people_num_mba',\n",
       " 'people_num_stem',\n",
       " 'people_num_ivy_league',\n",
       " 'people_num_top_100',\n",
       " 'people_num_advisor',\n",
       " 'people_founder_experience_num_years',\n",
       " 'people_founder_experience_num_companies',\n",
       " 'people_founder_experience_num_successful',\n",
       " 'people_founder_experience_num_same_category']"
      ]
     },
     "execution_count": 87,
     "metadata": {},
     "output_type": "execute_result"
    }
   ],
   "source": [
    "list(main_processing_df_v5.columns)"
   ]
  },
  {
   "cell_type": "code",
   "execution_count": 88,
   "id": "67ae6b0f",
   "metadata": {},
   "outputs": [
    {
     "data": {
      "text/plain": [
       "14"
      ]
     },
     "execution_count": 88,
     "metadata": {},
     "output_type": "execute_result"
    }
   ],
   "source": [
    "len(list(main_processing_df_v5))"
   ]
  },
  {
   "cell_type": "code",
   "execution_count": 85,
   "id": "planned-turning",
   "metadata": {},
   "outputs": [],
   "source": [
    "main_processing_df_v5.to_csv(r'd:\\msc-project\\data\\final\\features_people.csv',encoding='utf=8')"
   ]
  },
  {
   "cell_type": "code",
   "execution_count": null,
   "id": "spare-tension",
   "metadata": {},
   "outputs": [],
   "source": []
  }
 ],
 "metadata": {
  "kernelspec": {
   "display_name": "Python 3",
   "language": "python",
   "name": "python3"
  },
  "language_info": {
   "codemirror_mode": {
    "name": "ipython",
    "version": 3
   },
   "file_extension": ".py",
   "mimetype": "text/x-python",
   "name": "python",
   "nbconvert_exporter": "python",
   "pygments_lexer": "ipython3",
   "version": "3.7.9"
  }
 },
 "nbformat": 4,
 "nbformat_minor": 5
}
