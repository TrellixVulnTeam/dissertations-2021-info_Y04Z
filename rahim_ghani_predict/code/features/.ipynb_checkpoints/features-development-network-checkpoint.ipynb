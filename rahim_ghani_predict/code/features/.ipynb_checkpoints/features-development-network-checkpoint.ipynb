{
 "cells": [
  {
   "cell_type": "code",
   "execution_count": 1,
   "id": "threaded-transport",
   "metadata": {},
   "outputs": [],
   "source": [
    "#Import basic packages\n",
    "import os\n",
    "import numpy as np\n",
    "import pandas as pd\n",
    "import csv\n",
    "import regex as re\n",
    "import datetime as dt "
   ]
  },
  {
   "cell_type": "code",
   "execution_count": 2,
   "id": "numeric-legislature",
   "metadata": {},
   "outputs": [],
   "source": [
    "#import outcome file with org_uuid\n",
    "main_df = pd.read_csv(R\"d:/msc-project/data/final/outcome_final_v1.csv\",encoding='utf-8',\n",
    "                         parse_dates= ['founded_on','seed_date','series_a_date','series_b_date','series_c_date'])\n",
    "main_processing_df = main_df[['org_uuid']]"
   ]
  },
  {
   "cell_type": "code",
   "execution_count": 3,
   "id": "engaged-remove",
   "metadata": {},
   "outputs": [],
   "source": [
    "#import main organisation csv\n",
    "org_ori_df = pd.read_csv(R\"d:/msc-project/data/pre-processed/organisations_preprocessed.csv\",encoding='utf-8',\n",
    "                         parse_dates= ['founded_on','went_public_on','acquired_on','closed_on'])"
   ]
  },
  {
   "cell_type": "code",
   "execution_count": 4,
   "id": "standard-listening",
   "metadata": {},
   "outputs": [
    {
     "data": {
      "text/plain": [
       "Index(['org_uuid', 'name', 'legal_name', 'homepage_url', 'country_code',\n",
       "       'state_code', 'region', 'city', 'address', 'postal_code', 'status',\n",
       "       'short_description', 'category_list', 'category_groups_list',\n",
       "       'num_funding_rounds', 'total_funding_usd', 'total_funding',\n",
       "       'total_funding_currency_code', 'founded_on', 'last_funding_on',\n",
       "       'closed_on', 'employee_count', 'email', 'phone', 'facebook_url',\n",
       "       'linkedin_url', 'twitter_url', 'logo_url', 'primary_role', 'num_exits',\n",
       "       'description', 'ipo_uuid', 'stock_exchange_symbol', 'stock_symbol',\n",
       "       'went_public_on', 'share_price_usd', 'share_price',\n",
       "       'share_price_currency_code', 'valuation_price_usd', 'valuation_price',\n",
       "       'valuation_price_currency_code', 'money_raised_usd', 'money_raised',\n",
       "       'money_raised_currency_code', 'acquisition_uuid', 'acquirer_uuid',\n",
       "       'acquirer_name', 'acquirer_country_code', 'acquirer_state_code',\n",
       "       'acquirer_region', 'acquirer_city', 'acquisition_type', 'acquired_on',\n",
       "       'price_usd', 'price', 'price_currency_code', 'parent_uuid',\n",
       "       'parent_name'],\n",
       "      dtype='object')"
      ]
     },
     "execution_count": 4,
     "metadata": {},
     "output_type": "execute_result"
    }
   ],
   "source": [
    "org_ori_df.columns"
   ]
  },
  {
   "cell_type": "markdown",
   "id": "overall-turner",
   "metadata": {},
   "source": [
    "# Social Media Presence (LinkedIn, Facebook, Twitter)"
   ]
  },
  {
   "cell_type": "code",
   "execution_count": 5,
   "id": "russian-retreat",
   "metadata": {},
   "outputs": [],
   "source": [
    "org_processing_df_v1 = org_ori_df[['org_uuid','facebook_url','linkedin_url','twitter_url']]"
   ]
  },
  {
   "cell_type": "code",
   "execution_count": 6,
   "id": "sound-moldova",
   "metadata": {},
   "outputs": [
    {
     "data": {
      "text/html": [
       "<div>\n",
       "<style scoped>\n",
       "    .dataframe tbody tr th:only-of-type {\n",
       "        vertical-align: middle;\n",
       "    }\n",
       "\n",
       "    .dataframe tbody tr th {\n",
       "        vertical-align: top;\n",
       "    }\n",
       "\n",
       "    .dataframe thead th {\n",
       "        text-align: right;\n",
       "    }\n",
       "</style>\n",
       "<table border=\"1\" class=\"dataframe\">\n",
       "  <thead>\n",
       "    <tr style=\"text-align: right;\">\n",
       "      <th></th>\n",
       "      <th>org_uuid</th>\n",
       "      <th>facebook_url</th>\n",
       "      <th>linkedin_url</th>\n",
       "      <th>twitter_url</th>\n",
       "    </tr>\n",
       "  </thead>\n",
       "  <tbody>\n",
       "    <tr>\n",
       "      <th>0</th>\n",
       "      <td>e1393508-30ea-8a36-3f96-dd3226033abd</td>\n",
       "      <td>https://www.facebook.com/Wetpaint</td>\n",
       "      <td>https://www.linkedin.com/company/wetpaint</td>\n",
       "      <td>https://twitter.com/wetpainttv</td>\n",
       "    </tr>\n",
       "    <tr>\n",
       "      <th>1</th>\n",
       "      <td>5f2b40b8-d1b3-d323-d81a-b7a8e89553d0</td>\n",
       "      <td>http://www.facebook.com/digg</td>\n",
       "      <td>http://www.linkedin.com/company/digg</td>\n",
       "      <td>http://twitter.com/digg</td>\n",
       "    </tr>\n",
       "    <tr>\n",
       "      <th>2</th>\n",
       "      <td>df662812-7f97-0b43-9d3e-12f64f504fbb</td>\n",
       "      <td>https://www.facebook.com/facebook/</td>\n",
       "      <td>http://www.linkedin.com/company/facebook</td>\n",
       "      <td>https://twitter.com/facebook</td>\n",
       "    </tr>\n",
       "    <tr>\n",
       "      <th>3</th>\n",
       "      <td>60485007-8856-bbac-aa1b-c535c41f5f47</td>\n",
       "      <td>http://www.facebook.com/Nomadesk</td>\n",
       "      <td>NaN</td>\n",
       "      <td>http://twitter.com/Nomadesk</td>\n",
       "    </tr>\n",
       "    <tr>\n",
       "      <th>4</th>\n",
       "      <td>4111dc8b-c0df-2d24-ed33-30cd137b3098</td>\n",
       "      <td>NaN</td>\n",
       "      <td>NaN</td>\n",
       "      <td>http://twitter.com/geni</td>\n",
       "    </tr>\n",
       "    <tr>\n",
       "      <th>5</th>\n",
       "      <td>5da6106f-0d27-0d37-e9d7-dcfeccc1f709</td>\n",
       "      <td>https://www.facebook.com/twitterinc</td>\n",
       "      <td>http://www.linkedin.com/company/twitter</td>\n",
       "      <td>http://twitter.com/twitter</td>\n",
       "    </tr>\n",
       "    <tr>\n",
       "      <th>6</th>\n",
       "      <td>3d16cb4c-911e-75c0-de5a-15c316b39f98</td>\n",
       "      <td>https://www.facebook.com/StumbleUpon</td>\n",
       "      <td>http://www.linkedin.com/company/stumbleupon</td>\n",
       "      <td>http://twitter.com/stumbleupon</td>\n",
       "    </tr>\n",
       "    <tr>\n",
       "      <th>7</th>\n",
       "      <td>21e77067-5537-408e-cad7-e5e72bb6ad86</td>\n",
       "      <td>http://www.facebook.com/Scribd</td>\n",
       "      <td>http://www.linkedin.com/company/scribd</td>\n",
       "      <td>http://www.twitter.com/scribd</td>\n",
       "    </tr>\n",
       "    <tr>\n",
       "      <th>8</th>\n",
       "      <td>ea091a8c-40e0-0607-e05a-86e734f94ade</td>\n",
       "      <td>http://www.facebook.com/SlackerRadio</td>\n",
       "      <td>https://www.linkedin.com/company/slacker</td>\n",
       "      <td>http://twitter.com/SlackerRadio</td>\n",
       "    </tr>\n",
       "    <tr>\n",
       "      <th>9</th>\n",
       "      <td>59fada33-1595-de45-b362-062a04cf51cf</td>\n",
       "      <td>NaN</td>\n",
       "      <td>NaN</td>\n",
       "      <td>NaN</td>\n",
       "    </tr>\n",
       "  </tbody>\n",
       "</table>\n",
       "</div>"
      ],
      "text/plain": [
       "                               org_uuid                          facebook_url  \\\n",
       "0  e1393508-30ea-8a36-3f96-dd3226033abd     https://www.facebook.com/Wetpaint   \n",
       "1  5f2b40b8-d1b3-d323-d81a-b7a8e89553d0          http://www.facebook.com/digg   \n",
       "2  df662812-7f97-0b43-9d3e-12f64f504fbb    https://www.facebook.com/facebook/   \n",
       "3  60485007-8856-bbac-aa1b-c535c41f5f47      http://www.facebook.com/Nomadesk   \n",
       "4  4111dc8b-c0df-2d24-ed33-30cd137b3098                                   NaN   \n",
       "5  5da6106f-0d27-0d37-e9d7-dcfeccc1f709   https://www.facebook.com/twitterinc   \n",
       "6  3d16cb4c-911e-75c0-de5a-15c316b39f98  https://www.facebook.com/StumbleUpon   \n",
       "7  21e77067-5537-408e-cad7-e5e72bb6ad86        http://www.facebook.com/Scribd   \n",
       "8  ea091a8c-40e0-0607-e05a-86e734f94ade  http://www.facebook.com/SlackerRadio   \n",
       "9  59fada33-1595-de45-b362-062a04cf51cf                                   NaN   \n",
       "\n",
       "                                  linkedin_url  \\\n",
       "0    https://www.linkedin.com/company/wetpaint   \n",
       "1         http://www.linkedin.com/company/digg   \n",
       "2     http://www.linkedin.com/company/facebook   \n",
       "3                                          NaN   \n",
       "4                                          NaN   \n",
       "5      http://www.linkedin.com/company/twitter   \n",
       "6  http://www.linkedin.com/company/stumbleupon   \n",
       "7       http://www.linkedin.com/company/scribd   \n",
       "8     https://www.linkedin.com/company/slacker   \n",
       "9                                          NaN   \n",
       "\n",
       "                       twitter_url  \n",
       "0   https://twitter.com/wetpainttv  \n",
       "1          http://twitter.com/digg  \n",
       "2     https://twitter.com/facebook  \n",
       "3      http://twitter.com/Nomadesk  \n",
       "4          http://twitter.com/geni  \n",
       "5       http://twitter.com/twitter  \n",
       "6   http://twitter.com/stumbleupon  \n",
       "7    http://www.twitter.com/scribd  \n",
       "8  http://twitter.com/SlackerRadio  \n",
       "9                              NaN  "
      ]
     },
     "execution_count": 6,
     "metadata": {},
     "output_type": "execute_result"
    }
   ],
   "source": [
    "org_processing_df_v1.head(10)"
   ]
  },
  {
   "cell_type": "code",
   "execution_count": 7,
   "id": "charming-abuse",
   "metadata": {},
   "outputs": [
    {
     "data": {
      "text/html": [
       "<div>\n",
       "<style scoped>\n",
       "    .dataframe tbody tr th:only-of-type {\n",
       "        vertical-align: middle;\n",
       "    }\n",
       "\n",
       "    .dataframe tbody tr th {\n",
       "        vertical-align: top;\n",
       "    }\n",
       "\n",
       "    .dataframe thead th {\n",
       "        text-align: right;\n",
       "    }\n",
       "</style>\n",
       "<table border=\"1\" class=\"dataframe\">\n",
       "  <thead>\n",
       "    <tr style=\"text-align: right;\">\n",
       "      <th></th>\n",
       "      <th>org_uuid</th>\n",
       "      <th>facebook_url</th>\n",
       "      <th>linkedin_url</th>\n",
       "      <th>twitter_url</th>\n",
       "    </tr>\n",
       "  </thead>\n",
       "  <tbody>\n",
       "    <tr>\n",
       "      <th>0</th>\n",
       "      <td>9dc17185-743d-5fbc-f03b-ad0c81c8795d</td>\n",
       "      <td>NaN</td>\n",
       "      <td>NaN</td>\n",
       "      <td>NaN</td>\n",
       "    </tr>\n",
       "    <tr>\n",
       "      <th>1</th>\n",
       "      <td>9c8adac6-5c8e-9344-b763-6beab966c63c</td>\n",
       "      <td>NaN</td>\n",
       "      <td>NaN</td>\n",
       "      <td>NaN</td>\n",
       "    </tr>\n",
       "    <tr>\n",
       "      <th>2</th>\n",
       "      <td>6749cc07-efed-ff09-4efe-43faf6f580de</td>\n",
       "      <td>NaN</td>\n",
       "      <td>NaN</td>\n",
       "      <td>NaN</td>\n",
       "    </tr>\n",
       "  </tbody>\n",
       "</table>\n",
       "</div>"
      ],
      "text/plain": [
       "                               org_uuid facebook_url linkedin_url twitter_url\n",
       "0  9dc17185-743d-5fbc-f03b-ad0c81c8795d          NaN          NaN         NaN\n",
       "1  9c8adac6-5c8e-9344-b763-6beab966c63c          NaN          NaN         NaN\n",
       "2  6749cc07-efed-ff09-4efe-43faf6f580de          NaN          NaN         NaN"
      ]
     },
     "execution_count": 7,
     "metadata": {},
     "output_type": "execute_result"
    }
   ],
   "source": [
    "org_processing_df_v1 = pd.merge(main_processing_df,\n",
    "                               org_processing_df_v1,\n",
    "                               on='org_uuid',\n",
    "                               how='left')\n",
    "org_processing_df_v1.head(3)"
   ]
  },
  {
   "cell_type": "code",
   "execution_count": 8,
   "id": "laughing-polls",
   "metadata": {},
   "outputs": [
    {
     "data": {
      "text/plain": [
       "28727"
      ]
     },
     "execution_count": 8,
     "metadata": {},
     "output_type": "execute_result"
    }
   ],
   "source": [
    "len(org_processing_df_v1)"
   ]
  },
  {
   "cell_type": "code",
   "execution_count": 9,
   "id": "indoor-advice",
   "metadata": {},
   "outputs": [],
   "source": [
    "#fill NA value with 0 and non NA with 1\n",
    "org_processing_df_v1['facebook_url'][org_processing_df_v1['facebook_url'].notnull()] = 1\n",
    "org_processing_df_v1['linkedin_url'][org_processing_df_v1['linkedin_url'].notnull()] = 1\n",
    "org_processing_df_v1['twitter_url'][org_processing_df_v1['twitter_url'].notnull()] = 1\n",
    "org_processing_df_v1.fillna(0,inplace=True)"
   ]
  },
  {
   "cell_type": "code",
   "execution_count": 10,
   "id": "human-calculator",
   "metadata": {},
   "outputs": [
    {
     "data": {
      "text/html": [
       "<div>\n",
       "<style scoped>\n",
       "    .dataframe tbody tr th:only-of-type {\n",
       "        vertical-align: middle;\n",
       "    }\n",
       "\n",
       "    .dataframe tbody tr th {\n",
       "        vertical-align: top;\n",
       "    }\n",
       "\n",
       "    .dataframe thead th {\n",
       "        text-align: right;\n",
       "    }\n",
       "</style>\n",
       "<table border=\"1\" class=\"dataframe\">\n",
       "  <thead>\n",
       "    <tr style=\"text-align: right;\">\n",
       "      <th></th>\n",
       "      <th>org_uuid</th>\n",
       "      <th>facebook_url</th>\n",
       "      <th>linkedin_url</th>\n",
       "      <th>twitter_url</th>\n",
       "    </tr>\n",
       "  </thead>\n",
       "  <tbody>\n",
       "    <tr>\n",
       "      <th>0</th>\n",
       "      <td>9dc17185-743d-5fbc-f03b-ad0c81c8795d</td>\n",
       "      <td>0</td>\n",
       "      <td>0</td>\n",
       "      <td>0</td>\n",
       "    </tr>\n",
       "    <tr>\n",
       "      <th>1</th>\n",
       "      <td>9c8adac6-5c8e-9344-b763-6beab966c63c</td>\n",
       "      <td>0</td>\n",
       "      <td>0</td>\n",
       "      <td>0</td>\n",
       "    </tr>\n",
       "    <tr>\n",
       "      <th>2</th>\n",
       "      <td>6749cc07-efed-ff09-4efe-43faf6f580de</td>\n",
       "      <td>0</td>\n",
       "      <td>0</td>\n",
       "      <td>0</td>\n",
       "    </tr>\n",
       "  </tbody>\n",
       "</table>\n",
       "</div>"
      ],
      "text/plain": [
       "                               org_uuid  facebook_url  linkedin_url  \\\n",
       "0  9dc17185-743d-5fbc-f03b-ad0c81c8795d             0             0   \n",
       "1  9c8adac6-5c8e-9344-b763-6beab966c63c             0             0   \n",
       "2  6749cc07-efed-ff09-4efe-43faf6f580de             0             0   \n",
       "\n",
       "   twitter_url  \n",
       "0            0  \n",
       "1            0  \n",
       "2            0  "
      ]
     },
     "execution_count": 10,
     "metadata": {},
     "output_type": "execute_result"
    }
   ],
   "source": [
    "org_processing_df_v1.head(3)"
   ]
  },
  {
   "cell_type": "code",
   "execution_count": 11,
   "id": "annoying-excess",
   "metadata": {},
   "outputs": [],
   "source": [
    "org_processing_df_v1.set_index('org_uuid',inplace=True)"
   ]
  },
  {
   "cell_type": "code",
   "execution_count": 12,
   "id": "certified-relation",
   "metadata": {},
   "outputs": [],
   "source": [
    "columns_name = list()\n",
    "\n",
    "for column in list(org_processing_df_v1.columns):\n",
    "    columns_name.append('has_'+ column)\n",
    "    \n",
    "columns_name_dict = dict (zip(org_processing_df_v1.columns,columns_name))\n",
    "org_processing_df_v1.rename(columns=columns_name_dict,inplace=True)"
   ]
  },
  {
   "cell_type": "code",
   "execution_count": 13,
   "id": "excess-portsmouth",
   "metadata": {},
   "outputs": [
    {
     "data": {
      "text/html": [
       "<div>\n",
       "<style scoped>\n",
       "    .dataframe tbody tr th:only-of-type {\n",
       "        vertical-align: middle;\n",
       "    }\n",
       "\n",
       "    .dataframe tbody tr th {\n",
       "        vertical-align: top;\n",
       "    }\n",
       "\n",
       "    .dataframe thead th {\n",
       "        text-align: right;\n",
       "    }\n",
       "</style>\n",
       "<table border=\"1\" class=\"dataframe\">\n",
       "  <thead>\n",
       "    <tr style=\"text-align: right;\">\n",
       "      <th></th>\n",
       "      <th>has_facebook_url</th>\n",
       "      <th>has_linkedin_url</th>\n",
       "      <th>has_twitter_url</th>\n",
       "    </tr>\n",
       "    <tr>\n",
       "      <th>org_uuid</th>\n",
       "      <th></th>\n",
       "      <th></th>\n",
       "      <th></th>\n",
       "    </tr>\n",
       "  </thead>\n",
       "  <tbody>\n",
       "    <tr>\n",
       "      <th>9dc17185-743d-5fbc-f03b-ad0c81c8795d</th>\n",
       "      <td>0</td>\n",
       "      <td>0</td>\n",
       "      <td>0</td>\n",
       "    </tr>\n",
       "    <tr>\n",
       "      <th>9c8adac6-5c8e-9344-b763-6beab966c63c</th>\n",
       "      <td>0</td>\n",
       "      <td>0</td>\n",
       "      <td>0</td>\n",
       "    </tr>\n",
       "    <tr>\n",
       "      <th>6749cc07-efed-ff09-4efe-43faf6f580de</th>\n",
       "      <td>0</td>\n",
       "      <td>0</td>\n",
       "      <td>0</td>\n",
       "    </tr>\n",
       "  </tbody>\n",
       "</table>\n",
       "</div>"
      ],
      "text/plain": [
       "                                      has_facebook_url  has_linkedin_url  \\\n",
       "org_uuid                                                                   \n",
       "9dc17185-743d-5fbc-f03b-ad0c81c8795d                 0                 0   \n",
       "9c8adac6-5c8e-9344-b763-6beab966c63c                 0                 0   \n",
       "6749cc07-efed-ff09-4efe-43faf6f580de                 0                 0   \n",
       "\n",
       "                                      has_twitter_url  \n",
       "org_uuid                                               \n",
       "9dc17185-743d-5fbc-f03b-ad0c81c8795d                0  \n",
       "9c8adac6-5c8e-9344-b763-6beab966c63c                0  \n",
       "6749cc07-efed-ff09-4efe-43faf6f580de                0  "
      ]
     },
     "execution_count": 13,
     "metadata": {},
     "output_type": "execute_result"
    }
   ],
   "source": [
    "org_processing_df_v1.head(3)"
   ]
  },
  {
   "cell_type": "markdown",
   "id": "continent-sarah",
   "metadata": {},
   "source": [
    "# Homepage URL"
   ]
  },
  {
   "cell_type": "code",
   "execution_count": 14,
   "id": "authentic-relief",
   "metadata": {},
   "outputs": [],
   "source": [
    "org_processing_df_v2 = org_ori_df[['org_uuid','homepage_url']]"
   ]
  },
  {
   "cell_type": "code",
   "execution_count": 15,
   "id": "international-jersey",
   "metadata": {},
   "outputs": [
    {
     "data": {
      "text/html": [
       "<div>\n",
       "<style scoped>\n",
       "    .dataframe tbody tr th:only-of-type {\n",
       "        vertical-align: middle;\n",
       "    }\n",
       "\n",
       "    .dataframe tbody tr th {\n",
       "        vertical-align: top;\n",
       "    }\n",
       "\n",
       "    .dataframe thead th {\n",
       "        text-align: right;\n",
       "    }\n",
       "</style>\n",
       "<table border=\"1\" class=\"dataframe\">\n",
       "  <thead>\n",
       "    <tr style=\"text-align: right;\">\n",
       "      <th></th>\n",
       "      <th>org_uuid</th>\n",
       "      <th>homepage_url</th>\n",
       "    </tr>\n",
       "  </thead>\n",
       "  <tbody>\n",
       "    <tr>\n",
       "      <th>0</th>\n",
       "      <td>9dc17185-743d-5fbc-f03b-ad0c81c8795d</td>\n",
       "      <td>NaN</td>\n",
       "    </tr>\n",
       "    <tr>\n",
       "      <th>1</th>\n",
       "      <td>9c8adac6-5c8e-9344-b763-6beab966c63c</td>\n",
       "      <td>http://nauticusnet.com/</td>\n",
       "    </tr>\n",
       "    <tr>\n",
       "      <th>2</th>\n",
       "      <td>6749cc07-efed-ff09-4efe-43faf6f580de</td>\n",
       "      <td>http://www.bioprocessors.com</td>\n",
       "    </tr>\n",
       "  </tbody>\n",
       "</table>\n",
       "</div>"
      ],
      "text/plain": [
       "                               org_uuid                  homepage_url\n",
       "0  9dc17185-743d-5fbc-f03b-ad0c81c8795d                           NaN\n",
       "1  9c8adac6-5c8e-9344-b763-6beab966c63c       http://nauticusnet.com/\n",
       "2  6749cc07-efed-ff09-4efe-43faf6f580de  http://www.bioprocessors.com"
      ]
     },
     "execution_count": 15,
     "metadata": {},
     "output_type": "execute_result"
    }
   ],
   "source": [
    "org_processing_df_v2 = pd.merge(main_processing_df,\n",
    "                               org_processing_df_v2,\n",
    "                               on='org_uuid',\n",
    "                               how='left')\n",
    "org_processing_df_v2.head(3)"
   ]
  },
  {
   "cell_type": "code",
   "execution_count": 16,
   "id": "thirty-touch",
   "metadata": {},
   "outputs": [
    {
     "data": {
      "text/html": [
       "<div>\n",
       "<style scoped>\n",
       "    .dataframe tbody tr th:only-of-type {\n",
       "        vertical-align: middle;\n",
       "    }\n",
       "\n",
       "    .dataframe tbody tr th {\n",
       "        vertical-align: top;\n",
       "    }\n",
       "\n",
       "    .dataframe thead th {\n",
       "        text-align: right;\n",
       "    }\n",
       "</style>\n",
       "<table border=\"1\" class=\"dataframe\">\n",
       "  <thead>\n",
       "    <tr style=\"text-align: right;\">\n",
       "      <th></th>\n",
       "      <th>org_uuid</th>\n",
       "      <th>homepage_url</th>\n",
       "    </tr>\n",
       "  </thead>\n",
       "  <tbody>\n",
       "    <tr>\n",
       "      <th>0</th>\n",
       "      <td>9dc17185-743d-5fbc-f03b-ad0c81c8795d</td>\n",
       "      <td>0</td>\n",
       "    </tr>\n",
       "    <tr>\n",
       "      <th>1</th>\n",
       "      <td>9c8adac6-5c8e-9344-b763-6beab966c63c</td>\n",
       "      <td>1</td>\n",
       "    </tr>\n",
       "    <tr>\n",
       "      <th>2</th>\n",
       "      <td>6749cc07-efed-ff09-4efe-43faf6f580de</td>\n",
       "      <td>1</td>\n",
       "    </tr>\n",
       "    <tr>\n",
       "      <th>3</th>\n",
       "      <td>bbc29f4a-a798-4f74-f0a0-b1d8267692ac</td>\n",
       "      <td>1</td>\n",
       "    </tr>\n",
       "    <tr>\n",
       "      <th>4</th>\n",
       "      <td>9bbaf540-5994-029a-3346-501ad2d1fb89</td>\n",
       "      <td>1</td>\n",
       "    </tr>\n",
       "  </tbody>\n",
       "</table>\n",
       "</div>"
      ],
      "text/plain": [
       "                               org_uuid  homepage_url\n",
       "0  9dc17185-743d-5fbc-f03b-ad0c81c8795d             0\n",
       "1  9c8adac6-5c8e-9344-b763-6beab966c63c             1\n",
       "2  6749cc07-efed-ff09-4efe-43faf6f580de             1\n",
       "3  bbc29f4a-a798-4f74-f0a0-b1d8267692ac             1\n",
       "4  9bbaf540-5994-029a-3346-501ad2d1fb89             1"
      ]
     },
     "execution_count": 16,
     "metadata": {},
     "output_type": "execute_result"
    }
   ],
   "source": [
    "org_processing_df_v2['homepage_url'][org_processing_df_v2['homepage_url'].notnull()] = 1\n",
    "org_processing_df_v2.fillna(0,inplace=True)\n",
    "org_processing_df_v2.head(5)"
   ]
  },
  {
   "cell_type": "code",
   "execution_count": 17,
   "id": "multiple-salad",
   "metadata": {},
   "outputs": [
    {
     "data": {
      "text/html": [
       "<div>\n",
       "<style scoped>\n",
       "    .dataframe tbody tr th:only-of-type {\n",
       "        vertical-align: middle;\n",
       "    }\n",
       "\n",
       "    .dataframe tbody tr th {\n",
       "        vertical-align: top;\n",
       "    }\n",
       "\n",
       "    .dataframe thead th {\n",
       "        text-align: right;\n",
       "    }\n",
       "</style>\n",
       "<table border=\"1\" class=\"dataframe\">\n",
       "  <thead>\n",
       "    <tr style=\"text-align: right;\">\n",
       "      <th></th>\n",
       "      <th>org_uuid</th>\n",
       "      <th>has_homepage</th>\n",
       "    </tr>\n",
       "  </thead>\n",
       "  <tbody>\n",
       "    <tr>\n",
       "      <th>0</th>\n",
       "      <td>9dc17185-743d-5fbc-f03b-ad0c81c8795d</td>\n",
       "      <td>0</td>\n",
       "    </tr>\n",
       "    <tr>\n",
       "      <th>1</th>\n",
       "      <td>9c8adac6-5c8e-9344-b763-6beab966c63c</td>\n",
       "      <td>1</td>\n",
       "    </tr>\n",
       "    <tr>\n",
       "      <th>2</th>\n",
       "      <td>6749cc07-efed-ff09-4efe-43faf6f580de</td>\n",
       "      <td>1</td>\n",
       "    </tr>\n",
       "    <tr>\n",
       "      <th>3</th>\n",
       "      <td>bbc29f4a-a798-4f74-f0a0-b1d8267692ac</td>\n",
       "      <td>1</td>\n",
       "    </tr>\n",
       "    <tr>\n",
       "      <th>4</th>\n",
       "      <td>9bbaf540-5994-029a-3346-501ad2d1fb89</td>\n",
       "      <td>1</td>\n",
       "    </tr>\n",
       "  </tbody>\n",
       "</table>\n",
       "</div>"
      ],
      "text/plain": [
       "                               org_uuid  has_homepage\n",
       "0  9dc17185-743d-5fbc-f03b-ad0c81c8795d             0\n",
       "1  9c8adac6-5c8e-9344-b763-6beab966c63c             1\n",
       "2  6749cc07-efed-ff09-4efe-43faf6f580de             1\n",
       "3  bbc29f4a-a798-4f74-f0a0-b1d8267692ac             1\n",
       "4  9bbaf540-5994-029a-3346-501ad2d1fb89             1"
      ]
     },
     "execution_count": 17,
     "metadata": {},
     "output_type": "execute_result"
    }
   ],
   "source": [
    "org_processing_df_v2.rename(columns={'homepage_url':'has_homepage'},inplace=True)\n",
    "org_processing_df_v2.head(5)"
   ]
  },
  {
   "cell_type": "code",
   "execution_count": 18,
   "id": "northern-science",
   "metadata": {},
   "outputs": [
    {
     "data": {
      "text/html": [
       "<div>\n",
       "<style scoped>\n",
       "    .dataframe tbody tr th:only-of-type {\n",
       "        vertical-align: middle;\n",
       "    }\n",
       "\n",
       "    .dataframe tbody tr th {\n",
       "        vertical-align: top;\n",
       "    }\n",
       "\n",
       "    .dataframe thead th {\n",
       "        text-align: right;\n",
       "    }\n",
       "</style>\n",
       "<table border=\"1\" class=\"dataframe\">\n",
       "  <thead>\n",
       "    <tr style=\"text-align: right;\">\n",
       "      <th></th>\n",
       "      <th>has_homepage</th>\n",
       "    </tr>\n",
       "    <tr>\n",
       "      <th>org_uuid</th>\n",
       "      <th></th>\n",
       "    </tr>\n",
       "  </thead>\n",
       "  <tbody>\n",
       "    <tr>\n",
       "      <th>9dc17185-743d-5fbc-f03b-ad0c81c8795d</th>\n",
       "      <td>0</td>\n",
       "    </tr>\n",
       "    <tr>\n",
       "      <th>9c8adac6-5c8e-9344-b763-6beab966c63c</th>\n",
       "      <td>1</td>\n",
       "    </tr>\n",
       "    <tr>\n",
       "      <th>6749cc07-efed-ff09-4efe-43faf6f580de</th>\n",
       "      <td>1</td>\n",
       "    </tr>\n",
       "    <tr>\n",
       "      <th>bbc29f4a-a798-4f74-f0a0-b1d8267692ac</th>\n",
       "      <td>1</td>\n",
       "    </tr>\n",
       "    <tr>\n",
       "      <th>9bbaf540-5994-029a-3346-501ad2d1fb89</th>\n",
       "      <td>1</td>\n",
       "    </tr>\n",
       "  </tbody>\n",
       "</table>\n",
       "</div>"
      ],
      "text/plain": [
       "                                      has_homepage\n",
       "org_uuid                                          \n",
       "9dc17185-743d-5fbc-f03b-ad0c81c8795d             0\n",
       "9c8adac6-5c8e-9344-b763-6beab966c63c             1\n",
       "6749cc07-efed-ff09-4efe-43faf6f580de             1\n",
       "bbc29f4a-a798-4f74-f0a0-b1d8267692ac             1\n",
       "9bbaf540-5994-029a-3346-501ad2d1fb89             1"
      ]
     },
     "execution_count": 18,
     "metadata": {},
     "output_type": "execute_result"
    }
   ],
   "source": [
    "org_processing_df_v2.set_index('org_uuid',inplace=True)\n",
    "org_processing_df_v2.head(5)"
   ]
  },
  {
   "cell_type": "markdown",
   "id": "sought-museum",
   "metadata": {},
   "source": [
    "# Event Appearance"
   ]
  },
  {
   "cell_type": "code",
   "execution_count": 19,
   "id": "brave-outline",
   "metadata": {},
   "outputs": [],
   "source": [
    "#import event appearance file csv\n",
    "event_appear_df = pd.read_csv(R\"d:/msc-project/data/pre-processed/event_appearances_preprocessed.csv\",encoding='utf-8')"
   ]
  },
  {
   "cell_type": "code",
   "execution_count": 20,
   "id": "annual-chicago",
   "metadata": {},
   "outputs": [
    {
     "data": {
      "text/html": [
       "<div>\n",
       "<style scoped>\n",
       "    .dataframe tbody tr th:only-of-type {\n",
       "        vertical-align: middle;\n",
       "    }\n",
       "\n",
       "    .dataframe tbody tr th {\n",
       "        vertical-align: top;\n",
       "    }\n",
       "\n",
       "    .dataframe thead th {\n",
       "        text-align: right;\n",
       "    }\n",
       "</style>\n",
       "<table border=\"1\" class=\"dataframe\">\n",
       "  <thead>\n",
       "    <tr style=\"text-align: right;\">\n",
       "      <th></th>\n",
       "      <th>event_appear_uuid</th>\n",
       "      <th>event_appear_name</th>\n",
       "      <th>type</th>\n",
       "      <th>event_uuid</th>\n",
       "      <th>event_name</th>\n",
       "      <th>participant_uuid</th>\n",
       "      <th>participant_name</th>\n",
       "      <th>participant_type</th>\n",
       "      <th>appearance_type</th>\n",
       "      <th>short_description</th>\n",
       "    </tr>\n",
       "  </thead>\n",
       "  <tbody>\n",
       "    <tr>\n",
       "      <th>0</th>\n",
       "      <td>30c4023d-b694-4704-97d7-cd99cd06ecce</td>\n",
       "      <td>Adobe MAX 2014's sponsor - CDW Corporation</td>\n",
       "      <td>event_appearance</td>\n",
       "      <td>135a927a-b238-037e-50e2-d3a2e3511ed2</td>\n",
       "      <td>Adobe MAX 2014</td>\n",
       "      <td>ae883a31-3739-7eb9-4ce0-463ee070ed79</td>\n",
       "      <td>CDW Corporation</td>\n",
       "      <td>organization</td>\n",
       "      <td>sponsor</td>\n",
       "      <td>NaN</td>\n",
       "    </tr>\n",
       "    <tr>\n",
       "      <th>1</th>\n",
       "      <td>dffe0542-3dac-4228-a997-3eed42cbd67e</td>\n",
       "      <td>Adobe MAX 2014's sponsor - Microsoft</td>\n",
       "      <td>event_appearance</td>\n",
       "      <td>135a927a-b238-037e-50e2-d3a2e3511ed2</td>\n",
       "      <td>Adobe MAX 2014</td>\n",
       "      <td>fd80725f-53fc-7009-9878-aeecf1e9ffbb</td>\n",
       "      <td>Microsoft</td>\n",
       "      <td>organization</td>\n",
       "      <td>sponsor</td>\n",
       "      <td>NaN</td>\n",
       "    </tr>\n",
       "    <tr>\n",
       "      <th>2</th>\n",
       "      <td>21884e6c-d097-4c54-8513-10536a0ea60d</td>\n",
       "      <td>Adobe MAX 2014's sponsor - Twitter</td>\n",
       "      <td>event_appearance</td>\n",
       "      <td>135a927a-b238-037e-50e2-d3a2e3511ed2</td>\n",
       "      <td>Adobe MAX 2014</td>\n",
       "      <td>5da6106f-0d27-0d37-e9d7-dcfeccc1f709</td>\n",
       "      <td>Twitter</td>\n",
       "      <td>organization</td>\n",
       "      <td>sponsor</td>\n",
       "      <td>NaN</td>\n",
       "    </tr>\n",
       "    <tr>\n",
       "      <th>3</th>\n",
       "      <td>c3782f8f-4684-47d6-8649-d0b3e1825eb5</td>\n",
       "      <td>Adobe MAX 2014's sponsor - Hewlett-Packard</td>\n",
       "      <td>event_appearance</td>\n",
       "      <td>135a927a-b238-037e-50e2-d3a2e3511ed2</td>\n",
       "      <td>Adobe MAX 2014</td>\n",
       "      <td>8adadbfb-be63-6602-8ca0-b037397a7038</td>\n",
       "      <td>Hewlett-Packard</td>\n",
       "      <td>organization</td>\n",
       "      <td>sponsor</td>\n",
       "      <td>NaN</td>\n",
       "    </tr>\n",
       "    <tr>\n",
       "      <th>4</th>\n",
       "      <td>55e2ee8b-b5b7-49d3-bd21-a63eedf6b7f2</td>\n",
       "      <td>Adobe MAX 2014's sponsor - Intel</td>\n",
       "      <td>event_appearance</td>\n",
       "      <td>135a927a-b238-037e-50e2-d3a2e3511ed2</td>\n",
       "      <td>Adobe MAX 2014</td>\n",
       "      <td>1e4f199c-363b-451b-a164-f94571075ee5</td>\n",
       "      <td>Intel</td>\n",
       "      <td>organization</td>\n",
       "      <td>sponsor</td>\n",
       "      <td>NaN</td>\n",
       "    </tr>\n",
       "  </tbody>\n",
       "</table>\n",
       "</div>"
      ],
      "text/plain": [
       "                      event_appear_uuid  \\\n",
       "0  30c4023d-b694-4704-97d7-cd99cd06ecce   \n",
       "1  dffe0542-3dac-4228-a997-3eed42cbd67e   \n",
       "2  21884e6c-d097-4c54-8513-10536a0ea60d   \n",
       "3  c3782f8f-4684-47d6-8649-d0b3e1825eb5   \n",
       "4  55e2ee8b-b5b7-49d3-bd21-a63eedf6b7f2   \n",
       "\n",
       "                            event_appear_name              type  \\\n",
       "0  Adobe MAX 2014's sponsor - CDW Corporation  event_appearance   \n",
       "1        Adobe MAX 2014's sponsor - Microsoft  event_appearance   \n",
       "2          Adobe MAX 2014's sponsor - Twitter  event_appearance   \n",
       "3  Adobe MAX 2014's sponsor - Hewlett-Packard  event_appearance   \n",
       "4            Adobe MAX 2014's sponsor - Intel  event_appearance   \n",
       "\n",
       "                             event_uuid      event_name  \\\n",
       "0  135a927a-b238-037e-50e2-d3a2e3511ed2  Adobe MAX 2014   \n",
       "1  135a927a-b238-037e-50e2-d3a2e3511ed2  Adobe MAX 2014   \n",
       "2  135a927a-b238-037e-50e2-d3a2e3511ed2  Adobe MAX 2014   \n",
       "3  135a927a-b238-037e-50e2-d3a2e3511ed2  Adobe MAX 2014   \n",
       "4  135a927a-b238-037e-50e2-d3a2e3511ed2  Adobe MAX 2014   \n",
       "\n",
       "                       participant_uuid participant_name participant_type  \\\n",
       "0  ae883a31-3739-7eb9-4ce0-463ee070ed79  CDW Corporation     organization   \n",
       "1  fd80725f-53fc-7009-9878-aeecf1e9ffbb        Microsoft     organization   \n",
       "2  5da6106f-0d27-0d37-e9d7-dcfeccc1f709          Twitter     organization   \n",
       "3  8adadbfb-be63-6602-8ca0-b037397a7038  Hewlett-Packard     organization   \n",
       "4  1e4f199c-363b-451b-a164-f94571075ee5            Intel     organization   \n",
       "\n",
       "  appearance_type short_description  \n",
       "0         sponsor               NaN  \n",
       "1         sponsor               NaN  \n",
       "2         sponsor               NaN  \n",
       "3         sponsor               NaN  \n",
       "4         sponsor               NaN  "
      ]
     },
     "execution_count": 20,
     "metadata": {},
     "output_type": "execute_result"
    }
   ],
   "source": [
    "event_appear_df.head(5)"
   ]
  },
  {
   "cell_type": "code",
   "execution_count": 21,
   "id": "preceding-sucking",
   "metadata": {},
   "outputs": [
    {
     "data": {
      "text/plain": [
       "44f32ad8-b8b4-4f33-9240-25ac4e64c5a3    3424\n",
       "55b8f2a5-0cea-be6c-a674-a2242a6d36a4    3119\n",
       "44ed4b3c-3410-a53c-ae20-bd64a63a890c    2076\n",
       "746dad2c-783e-2234-f4e9-f83cdfdb28db    1627\n",
       "55bf117e-47b1-4578-99e2-0f22f9d364d2    1408\n",
       "                                        ... \n",
       "398ea9e9-24da-4174-b3f7-d0cab98bedce       1\n",
       "9fd35cc0-9ece-4aaa-adde-2eb679448097       1\n",
       "79325ff2-4d9e-9038-9524-a19095fec068       1\n",
       "36c36538-ca0b-493b-a857-ec757c66efad       1\n",
       "097bce4e-eb66-4471-8287-8bbedd9d50cc       1\n",
       "Name: event_uuid, Length: 19445, dtype: int64"
      ]
     },
     "execution_count": 21,
     "metadata": {},
     "output_type": "execute_result"
    }
   ],
   "source": [
    "#show unique count of event\n",
    "event_appear_df['event_uuid'].value_counts()"
   ]
  },
  {
   "cell_type": "code",
   "execution_count": 22,
   "id": "identical-equation",
   "metadata": {},
   "outputs": [],
   "source": [
    "#get number of events for top 1 percentile\n",
    "percentile_1 = int(0.01*19445)\n",
    "top1percentile_events_uuid = event_appear_df['event_uuid'].value_counts().nlargest(percentile_1)"
   ]
  },
  {
   "cell_type": "code",
   "execution_count": 23,
   "id": "bottom-rabbit",
   "metadata": {},
   "outputs": [
    {
     "data": {
      "text/plain": [
       "44f32ad8-b8b4-4f33-9240-25ac4e64c5a3    3424\n",
       "55b8f2a5-0cea-be6c-a674-a2242a6d36a4    3119\n",
       "44ed4b3c-3410-a53c-ae20-bd64a63a890c    2076\n",
       "746dad2c-783e-2234-f4e9-f83cdfdb28db    1627\n",
       "55bf117e-47b1-4578-99e2-0f22f9d364d2    1408\n",
       "                                        ... \n",
       "77efb84d-60bf-487e-963e-d5ec4360bf70     306\n",
       "608ce886-0c3c-4662-b583-b43e481dafb1     306\n",
       "4bc7a540-bbfb-42ef-9331-c06325a80f6a     304\n",
       "27cf5c6b-0abb-4613-812b-8e344aa6426f     304\n",
       "758a5b72-bde7-3250-510b-427a16c2456c     304\n",
       "Name: event_uuid, Length: 194, dtype: int64"
      ]
     },
     "execution_count": 23,
     "metadata": {},
     "output_type": "execute_result"
    }
   ],
   "source": [
    "top1percentile_events_uuid"
   ]
  },
  {
   "cell_type": "code",
   "execution_count": 24,
   "id": "intended-marriage",
   "metadata": {},
   "outputs": [],
   "source": [
    "#Create df with top 1% percentile events (more than 100 occurences)\n",
    "df=event_appear_df\n",
    "top1percentile_events_df = df[df.groupby('event_uuid')['event_uuid'].transform('size') >= 304]"
   ]
  },
  {
   "cell_type": "code",
   "execution_count": 25,
   "id": "united-chicago",
   "metadata": {},
   "outputs": [
    {
     "data": {
      "text/html": [
       "<div>\n",
       "<style scoped>\n",
       "    .dataframe tbody tr th:only-of-type {\n",
       "        vertical-align: middle;\n",
       "    }\n",
       "\n",
       "    .dataframe tbody tr th {\n",
       "        vertical-align: top;\n",
       "    }\n",
       "\n",
       "    .dataframe thead th {\n",
       "        text-align: right;\n",
       "    }\n",
       "</style>\n",
       "<table border=\"1\" class=\"dataframe\">\n",
       "  <thead>\n",
       "    <tr style=\"text-align: right;\">\n",
       "      <th></th>\n",
       "      <th>event_appear_uuid</th>\n",
       "      <th>event_appear_name</th>\n",
       "      <th>type</th>\n",
       "      <th>event_uuid</th>\n",
       "      <th>event_name</th>\n",
       "      <th>participant_uuid</th>\n",
       "      <th>participant_name</th>\n",
       "      <th>participant_type</th>\n",
       "      <th>appearance_type</th>\n",
       "      <th>short_description</th>\n",
       "    </tr>\n",
       "  </thead>\n",
       "  <tbody>\n",
       "    <tr>\n",
       "      <th>304</th>\n",
       "      <td>dd9da104-32dd-40ea-a947-73dd875504b6</td>\n",
       "      <td>CES 2015 Las Vegas's exhibitor - 3D Systems</td>\n",
       "      <td>event_appearance</td>\n",
       "      <td>9e828ece-85a3-1b8a-8634-0886c770f488</td>\n",
       "      <td>CES 2015 Las Vegas</td>\n",
       "      <td>dcf536bb-6612-908f-dbdb-4ad44e9c27bd</td>\n",
       "      <td>3D Systems</td>\n",
       "      <td>organization</td>\n",
       "      <td>exhibitor</td>\n",
       "      <td>NaN</td>\n",
       "    </tr>\n",
       "    <tr>\n",
       "      <th>305</th>\n",
       "      <td>6e4007b4-5f3b-42e5-b89a-d897a02f2917</td>\n",
       "      <td>CES 2015 Las Vegas's exhibitor - Analogix Semi...</td>\n",
       "      <td>event_appearance</td>\n",
       "      <td>9e828ece-85a3-1b8a-8634-0886c770f488</td>\n",
       "      <td>CES 2015 Las Vegas</td>\n",
       "      <td>e014dc5d-374c-da88-c500-7840600d8d53</td>\n",
       "      <td>Analogix Semiconductor</td>\n",
       "      <td>organization</td>\n",
       "      <td>exhibitor</td>\n",
       "      <td>NaN</td>\n",
       "    </tr>\n",
       "    <tr>\n",
       "      <th>306</th>\n",
       "      <td>52b71cd7-cc1a-421d-8bf3-8878a8f6c325</td>\n",
       "      <td>CES 2015 Las Vegas's exhibitor - Bosch</td>\n",
       "      <td>event_appearance</td>\n",
       "      <td>9e828ece-85a3-1b8a-8634-0886c770f488</td>\n",
       "      <td>CES 2015 Las Vegas</td>\n",
       "      <td>dcf152a1-23fc-6a0e-9a76-68c3fc2ec472</td>\n",
       "      <td>Bosch</td>\n",
       "      <td>organization</td>\n",
       "      <td>exhibitor</td>\n",
       "      <td>NaN</td>\n",
       "    </tr>\n",
       "    <tr>\n",
       "      <th>307</th>\n",
       "      <td>08ed3a64-d82b-4a0d-957c-01341aae5d99</td>\n",
       "      <td>CES 2015 Las Vegas's exhibitor - Intel</td>\n",
       "      <td>event_appearance</td>\n",
       "      <td>9e828ece-85a3-1b8a-8634-0886c770f488</td>\n",
       "      <td>CES 2015 Las Vegas</td>\n",
       "      <td>1e4f199c-363b-451b-a164-f94571075ee5</td>\n",
       "      <td>Intel</td>\n",
       "      <td>organization</td>\n",
       "      <td>exhibitor</td>\n",
       "      <td>NaN</td>\n",
       "    </tr>\n",
       "    <tr>\n",
       "      <th>7323</th>\n",
       "      <td>50f8ec76-b2bf-496b-ac5d-457dc3e52146</td>\n",
       "      <td>CES 2015 Las Vegas's exhibitor - PEOPLE PEOPLE</td>\n",
       "      <td>event_appearance</td>\n",
       "      <td>9e828ece-85a3-1b8a-8634-0886c770f488</td>\n",
       "      <td>CES 2015 Las Vegas</td>\n",
       "      <td>eba013ad-ca03-e5b1-a837-a8a067e189c2</td>\n",
       "      <td>PEOPLE PEOPLE</td>\n",
       "      <td>organization</td>\n",
       "      <td>exhibitor</td>\n",
       "      <td>NaN</td>\n",
       "    </tr>\n",
       "  </tbody>\n",
       "</table>\n",
       "</div>"
      ],
      "text/plain": [
       "                         event_appear_uuid  \\\n",
       "304   dd9da104-32dd-40ea-a947-73dd875504b6   \n",
       "305   6e4007b4-5f3b-42e5-b89a-d897a02f2917   \n",
       "306   52b71cd7-cc1a-421d-8bf3-8878a8f6c325   \n",
       "307   08ed3a64-d82b-4a0d-957c-01341aae5d99   \n",
       "7323  50f8ec76-b2bf-496b-ac5d-457dc3e52146   \n",
       "\n",
       "                                      event_appear_name              type  \\\n",
       "304         CES 2015 Las Vegas's exhibitor - 3D Systems  event_appearance   \n",
       "305   CES 2015 Las Vegas's exhibitor - Analogix Semi...  event_appearance   \n",
       "306              CES 2015 Las Vegas's exhibitor - Bosch  event_appearance   \n",
       "307              CES 2015 Las Vegas's exhibitor - Intel  event_appearance   \n",
       "7323     CES 2015 Las Vegas's exhibitor - PEOPLE PEOPLE  event_appearance   \n",
       "\n",
       "                                event_uuid          event_name  \\\n",
       "304   9e828ece-85a3-1b8a-8634-0886c770f488  CES 2015 Las Vegas   \n",
       "305   9e828ece-85a3-1b8a-8634-0886c770f488  CES 2015 Las Vegas   \n",
       "306   9e828ece-85a3-1b8a-8634-0886c770f488  CES 2015 Las Vegas   \n",
       "307   9e828ece-85a3-1b8a-8634-0886c770f488  CES 2015 Las Vegas   \n",
       "7323  9e828ece-85a3-1b8a-8634-0886c770f488  CES 2015 Las Vegas   \n",
       "\n",
       "                          participant_uuid        participant_name  \\\n",
       "304   dcf536bb-6612-908f-dbdb-4ad44e9c27bd              3D Systems   \n",
       "305   e014dc5d-374c-da88-c500-7840600d8d53  Analogix Semiconductor   \n",
       "306   dcf152a1-23fc-6a0e-9a76-68c3fc2ec472                   Bosch   \n",
       "307   1e4f199c-363b-451b-a164-f94571075ee5                   Intel   \n",
       "7323  eba013ad-ca03-e5b1-a837-a8a067e189c2           PEOPLE PEOPLE   \n",
       "\n",
       "     participant_type appearance_type short_description  \n",
       "304      organization       exhibitor               NaN  \n",
       "305      organization       exhibitor               NaN  \n",
       "306      organization       exhibitor               NaN  \n",
       "307      organization       exhibitor               NaN  \n",
       "7323     organization       exhibitor               NaN  "
      ]
     },
     "execution_count": 25,
     "metadata": {},
     "output_type": "execute_result"
    }
   ],
   "source": [
    "top1percentile_events_df.head(5)"
   ]
  },
  {
   "cell_type": "code",
   "execution_count": 26,
   "id": "cutting-syndrome",
   "metadata": {},
   "outputs": [
    {
     "data": {
      "text/plain": [
       "69325"
      ]
     },
     "execution_count": 26,
     "metadata": {},
     "output_type": "execute_result"
    }
   ],
   "source": [
    "top1percentile_attendees = list (set(top1percentile_events_df['participant_uuid']))\n",
    "len(top1percentile_attendees)"
   ]
  },
  {
   "cell_type": "code",
   "execution_count": null,
   "id": "failing-argument",
   "metadata": {},
   "outputs": [],
   "source": [
    "is_attend_top1percentile_event = list()\n",
    "\n",
    "for org_uuid in list (main_processing_df['org_uuid']):\n",
    "    if org_uuid in top1percentile_attendees:\n",
    "        is_attend_top1percentile_event.append(1)\n",
    "    else:\n",
    "        is_attend_top1percentile_event.append(0)"
   ]
  },
  {
   "cell_type": "code",
   "execution_count": null,
   "id": "demanding-oxygen",
   "metadata": {},
   "outputs": [],
   "source": [
    "org_processing_df_v3 = main_processing_df.copy()"
   ]
  },
  {
   "cell_type": "code",
   "execution_count": null,
   "id": "otherwise-twins",
   "metadata": {},
   "outputs": [],
   "source": [
    "org_processing_df_v3['is_attend_top_event'] = is_attend_top1percentile_event\n",
    "org_processing_df_v3.head(3)"
   ]
  },
  {
   "cell_type": "code",
   "execution_count": null,
   "id": "bulgarian-buffalo",
   "metadata": {},
   "outputs": [],
   "source": [
    "org_processing_df_v3['is_attend_top_event'].value_counts()"
   ]
  },
  {
   "cell_type": "code",
   "execution_count": null,
   "id": "molecular-toner",
   "metadata": {},
   "outputs": [],
   "source": [
    "org_processing_df_v3.set_index('org_uuid',inplace=True)"
   ]
  },
  {
   "cell_type": "markdown",
   "id": "representative-machine",
   "metadata": {},
   "source": [
    "# Organisation Description"
   ]
  },
  {
   "cell_type": "code",
   "execution_count": null,
   "id": "offshore-uniform",
   "metadata": {},
   "outputs": [],
   "source": [
    "org_processing_df_v4 = org_ori_df[['org_uuid','description']]"
   ]
  },
  {
   "cell_type": "code",
   "execution_count": null,
   "id": "supreme-malta",
   "metadata": {},
   "outputs": [],
   "source": [
    "org_processing_df_v4 = pd.merge(main_processing_df,\n",
    "                               org_processing_df_v4,\n",
    "                               on='org_uuid',\n",
    "                               how='left')\n",
    "org_processing_df_v4.head(3)"
   ]
  },
  {
   "cell_type": "code",
   "execution_count": null,
   "id": "distributed-experience",
   "metadata": {},
   "outputs": [],
   "source": [
    "org_processing_df_v4['description'][org_processing_df_v4['description'].notnull()] = 1\n",
    "org_processing_df_v4['description'].fillna(0,inplace=True)"
   ]
  },
  {
   "cell_type": "code",
   "execution_count": null,
   "id": "flexible-subsection",
   "metadata": {},
   "outputs": [],
   "source": [
    "org_processing_df_v4.head(3)"
   ]
  },
  {
   "cell_type": "code",
   "execution_count": null,
   "id": "military-raise",
   "metadata": {},
   "outputs": [],
   "source": [
    "org_processing_df_v4.rename(columns={'description':'has_description'},inplace=True)"
   ]
  },
  {
   "cell_type": "code",
   "execution_count": null,
   "id": "boring-stewart",
   "metadata": {},
   "outputs": [],
   "source": [
    "org_processing_df_v4.head(3)"
   ]
  },
  {
   "cell_type": "code",
   "execution_count": null,
   "id": "professional-tradition",
   "metadata": {},
   "outputs": [],
   "source": [
    "org_processing_df_v4.set_index('org_uuid',inplace=True)"
   ]
  },
  {
   "cell_type": "markdown",
   "id": "collectible-poverty",
   "metadata": {},
   "source": [
    "# Merge features, rename columns and save file"
   ]
  },
  {
   "cell_type": "code",
   "execution_count": null,
   "id": "affected-paradise",
   "metadata": {},
   "outputs": [],
   "source": [
    "main_processing_df.set_index('org_uuid',inplace=True)"
   ]
  },
  {
   "cell_type": "code",
   "execution_count": null,
   "id": "informational-channel",
   "metadata": {},
   "outputs": [],
   "source": [
    "main_processing_df = pd.concat([org_processing_df_v1,\n",
    "                               org_processing_df_v2,\n",
    "                               org_processing_df_v3,\n",
    "                               org_processing_df_v4],axis=1)\n",
    "main_processing_df.head(3)"
   ]
  },
  {
   "cell_type": "code",
   "execution_count": null,
   "id": "accessible-robinson",
   "metadata": {},
   "outputs": [],
   "source": [
    "len(main_processing_df)"
   ]
  },
  {
   "cell_type": "code",
   "execution_count": null,
   "id": "sixth-prophet",
   "metadata": {},
   "outputs": [],
   "source": [
    "new_column_name = list()\n",
    "for column in list(main_processing_df.columns):\n",
    "    new_column_name.append('network_' + column)\n",
    "new_column_dict = dict(zip(main_processing_df.columns,new_column_name))\n",
    "main_processing_df.rename(columns = new_column_dict,inplace=True)\n",
    "main_processing_df.head(3)"
   ]
  },
  {
   "cell_type": "code",
   "execution_count": null,
   "id": "unnecessary-nursing",
   "metadata": {},
   "outputs": [],
   "source": [
    "main_processing_df.to_csv(r'd:\\msc-project\\data\\final\\features_network.csv',encoding='utf=8')"
   ]
  }
 ],
 "metadata": {
  "kernelspec": {
   "display_name": "Python 3",
   "language": "python",
   "name": "python3"
  },
  "language_info": {
   "codemirror_mode": {
    "name": "ipython",
    "version": 3
   },
   "file_extension": ".py",
   "mimetype": "text/x-python",
   "name": "python",
   "nbconvert_exporter": "python",
   "pygments_lexer": "ipython3",
   "version": "3.7.9"
  }
 },
 "nbformat": 4,
 "nbformat_minor": 5
}
