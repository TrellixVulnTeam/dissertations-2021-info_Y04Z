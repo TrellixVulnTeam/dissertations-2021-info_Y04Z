{
 "cells": [
  {
   "cell_type": "code",
   "execution_count": 1,
   "id": "gorgeous-rocket",
   "metadata": {},
   "outputs": [],
   "source": [
    "#Import basic packages\n",
    "import os\n",
    "import numpy as np\n",
    "import pandas as pd\n",
    "import csv\n",
    "import regex as re\n",
    "import datetime as dt "
   ]
  },
  {
   "cell_type": "code",
   "execution_count": 2,
   "id": "involved-floating",
   "metadata": {},
   "outputs": [],
   "source": [
    "#import outcome file with org_uuid\n",
    "main_df = pd.read_csv(R\"d:\\msc-project\\from-github\\dissertations-2021-info\\rahim_ghani_predict\\data\\outcome_final_v1.csv\",encoding='utf-8',\n",
    "                         index_col=False,\n",
    "                         parse_dates= ['founded_on','seed_date','series_a_date','series_b_date','series_c_date'])\n",
    "main_processing_df = main_df[['org_uuid']]"
   ]
  },
  {
   "cell_type": "code",
   "execution_count": 3,
   "id": "cosmetic-steel",
   "metadata": {},
   "outputs": [
    {
     "data": {
      "text/html": [
       "<div>\n",
       "<style scoped>\n",
       "    .dataframe tbody tr th:only-of-type {\n",
       "        vertical-align: middle;\n",
       "    }\n",
       "\n",
       "    .dataframe tbody tr th {\n",
       "        vertical-align: top;\n",
       "    }\n",
       "\n",
       "    .dataframe thead th {\n",
       "        text-align: right;\n",
       "    }\n",
       "</style>\n",
       "<table border=\"1\" class=\"dataframe\">\n",
       "  <thead>\n",
       "    <tr style=\"text-align: right;\">\n",
       "      <th></th>\n",
       "      <th>org_uuid</th>\n",
       "    </tr>\n",
       "  </thead>\n",
       "  <tbody>\n",
       "    <tr>\n",
       "      <th>0</th>\n",
       "      <td>9dc17185-743d-5fbc-f03b-ad0c81c8795d</td>\n",
       "    </tr>\n",
       "    <tr>\n",
       "      <th>1</th>\n",
       "      <td>9c8adac6-5c8e-9344-b763-6beab966c63c</td>\n",
       "    </tr>\n",
       "    <tr>\n",
       "      <th>2</th>\n",
       "      <td>6749cc07-efed-ff09-4efe-43faf6f580de</td>\n",
       "    </tr>\n",
       "  </tbody>\n",
       "</table>\n",
       "</div>"
      ],
      "text/plain": [
       "                               org_uuid\n",
       "0  9dc17185-743d-5fbc-f03b-ad0c81c8795d\n",
       "1  9c8adac6-5c8e-9344-b763-6beab966c63c\n",
       "2  6749cc07-efed-ff09-4efe-43faf6f580de"
      ]
     },
     "execution_count": 3,
     "metadata": {},
     "output_type": "execute_result"
    }
   ],
   "source": [
    "main_processing_df.head(3)"
   ]
  },
  {
   "cell_type": "code",
   "execution_count": 4,
   "id": "heard-holocaust",
   "metadata": {},
   "outputs": [
    {
     "data": {
      "text/plain": [
       "28727"
      ]
     },
     "execution_count": 4,
     "metadata": {},
     "output_type": "execute_result"
    }
   ],
   "source": [
    "len(main_processing_df)"
   ]
  },
  {
   "cell_type": "code",
   "execution_count": 5,
   "id": "closing-sixth",
   "metadata": {},
   "outputs": [
    {
     "data": {
      "text/html": [
       "<div>\n",
       "<style scoped>\n",
       "    .dataframe tbody tr th:only-of-type {\n",
       "        vertical-align: middle;\n",
       "    }\n",
       "\n",
       "    .dataframe tbody tr th {\n",
       "        vertical-align: top;\n",
       "    }\n",
       "\n",
       "    .dataframe thead th {\n",
       "        text-align: right;\n",
       "    }\n",
       "</style>\n",
       "<table border=\"1\" class=\"dataframe\">\n",
       "  <thead>\n",
       "    <tr style=\"text-align: right;\">\n",
       "      <th></th>\n",
       "      <th>job_uuid</th>\n",
       "      <th>job_name</th>\n",
       "      <th>people_uuid</th>\n",
       "      <th>person_name</th>\n",
       "      <th>org_uuid</th>\n",
       "      <th>org_name</th>\n",
       "      <th>started_on</th>\n",
       "      <th>ended_on</th>\n",
       "      <th>is_current</th>\n",
       "      <th>title</th>\n",
       "      <th>job_type</th>\n",
       "      <th>is_founder</th>\n",
       "    </tr>\n",
       "  </thead>\n",
       "  <tbody>\n",
       "    <tr>\n",
       "      <th>0</th>\n",
       "      <td>697b6934-fc1f-9d63-cfb2-1a10759b378e</td>\n",
       "      <td>Ben Elowitz Co-Founder/CEO/Board of Directors ...</td>\n",
       "      <td>ed13cd36-fe2b-3707-197b-0c2d56e37a71</td>\n",
       "      <td>Ben Elowitz</td>\n",
       "      <td>e1393508-30ea-8a36-3f96-dd3226033abd</td>\n",
       "      <td>Wetpaint</td>\n",
       "      <td>NaN</td>\n",
       "      <td>NaN</td>\n",
       "      <td>False</td>\n",
       "      <td>Co-Founder/CEO/Board of Directors</td>\n",
       "      <td>executive</td>\n",
       "      <td>1</td>\n",
       "    </tr>\n",
       "    <tr>\n",
       "      <th>1</th>\n",
       "      <td>b1de3765-442e-b556-9304-551c2a055901</td>\n",
       "      <td>Kevin Flaherty VP Marketing @ Wetpaint</td>\n",
       "      <td>5ceca97b-493c-1446-6249-5aaa33464763</td>\n",
       "      <td>Kevin Flaherty</td>\n",
       "      <td>e1393508-30ea-8a36-3f96-dd3226033abd</td>\n",
       "      <td>Wetpaint</td>\n",
       "      <td>NaN</td>\n",
       "      <td>NaN</td>\n",
       "      <td>False</td>\n",
       "      <td>VP Marketing</td>\n",
       "      <td>executive</td>\n",
       "      <td>0</td>\n",
       "    </tr>\n",
       "    <tr>\n",
       "      <th>2</th>\n",
       "      <td>1319cd30-f5e8-c700-0af6-64029c6f7124</td>\n",
       "      <td>Raju Vegesna Chief Evangelist @ Zoho</td>\n",
       "      <td>9f99a98a-aa97-b30b-0d36-db67c1d277e0</td>\n",
       "      <td>Raju Vegesna</td>\n",
       "      <td>bf4d7b0e-b34d-2fd8-d292-6049c4f7efc7</td>\n",
       "      <td>Zoho</td>\n",
       "      <td>2000-11-01</td>\n",
       "      <td>NaN</td>\n",
       "      <td>True</td>\n",
       "      <td>Chief Evangelist</td>\n",
       "      <td>employee</td>\n",
       "      <td>0</td>\n",
       "    </tr>\n",
       "  </tbody>\n",
       "</table>\n",
       "</div>"
      ],
      "text/plain": [
       "                               job_uuid  \\\n",
       "0  697b6934-fc1f-9d63-cfb2-1a10759b378e   \n",
       "1  b1de3765-442e-b556-9304-551c2a055901   \n",
       "2  1319cd30-f5e8-c700-0af6-64029c6f7124   \n",
       "\n",
       "                                            job_name  \\\n",
       "0  Ben Elowitz Co-Founder/CEO/Board of Directors ...   \n",
       "1             Kevin Flaherty VP Marketing @ Wetpaint   \n",
       "2               Raju Vegesna Chief Evangelist @ Zoho   \n",
       "\n",
       "                            people_uuid     person_name  \\\n",
       "0  ed13cd36-fe2b-3707-197b-0c2d56e37a71     Ben Elowitz   \n",
       "1  5ceca97b-493c-1446-6249-5aaa33464763  Kevin Flaherty   \n",
       "2  9f99a98a-aa97-b30b-0d36-db67c1d277e0    Raju Vegesna   \n",
       "\n",
       "                               org_uuid  org_name  started_on ended_on  \\\n",
       "0  e1393508-30ea-8a36-3f96-dd3226033abd  Wetpaint         NaN      NaN   \n",
       "1  e1393508-30ea-8a36-3f96-dd3226033abd  Wetpaint         NaN      NaN   \n",
       "2  bf4d7b0e-b34d-2fd8-d292-6049c4f7efc7      Zoho  2000-11-01      NaN   \n",
       "\n",
       "   is_current                              title   job_type  is_founder  \n",
       "0       False  Co-Founder/CEO/Board of Directors  executive           1  \n",
       "1       False                       VP Marketing  executive           0  \n",
       "2        True                   Chief Evangelist   employee           0  "
      ]
     },
     "execution_count": 5,
     "metadata": {},
     "output_type": "execute_result"
    }
   ],
   "source": [
    "#import preprocessed jobs file\n",
    "jobs_df = pd.read_csv(R\"d:/msc-project/data/crunchbase_pre-processed/jobs_preprocessed.csv\",encoding='utf-8',\n",
    "                         index_col=False,\n",
    "                         parse_dates= ['started_on','ended_on'])\n",
    "jobs_df.head(3)"
   ]
  },
  {
   "cell_type": "markdown",
   "id": "express-healing",
   "metadata": {},
   "source": [
    "# Assign Number of founder for each organisation"
   ]
  },
  {
   "cell_type": "code",
   "execution_count": 6,
   "id": "forbidden-completion",
   "metadata": {},
   "outputs": [
    {
     "data": {
      "text/html": [
       "<div>\n",
       "<style scoped>\n",
       "    .dataframe tbody tr th:only-of-type {\n",
       "        vertical-align: middle;\n",
       "    }\n",
       "\n",
       "    .dataframe tbody tr th {\n",
       "        vertical-align: top;\n",
       "    }\n",
       "\n",
       "    .dataframe thead th {\n",
       "        text-align: right;\n",
       "    }\n",
       "</style>\n",
       "<table border=\"1\" class=\"dataframe\">\n",
       "  <thead>\n",
       "    <tr style=\"text-align: right;\">\n",
       "      <th></th>\n",
       "      <th>org_uuid</th>\n",
       "      <th>num_founder</th>\n",
       "    </tr>\n",
       "  </thead>\n",
       "  <tbody>\n",
       "    <tr>\n",
       "      <th>0</th>\n",
       "      <td>9dc17185-743d-5fbc-f03b-ad0c81c8795d</td>\n",
       "      <td>1.0</td>\n",
       "    </tr>\n",
       "    <tr>\n",
       "      <th>1</th>\n",
       "      <td>9c8adac6-5c8e-9344-b763-6beab966c63c</td>\n",
       "      <td>NaN</td>\n",
       "    </tr>\n",
       "    <tr>\n",
       "      <th>2</th>\n",
       "      <td>6749cc07-efed-ff09-4efe-43faf6f580de</td>\n",
       "      <td>1.0</td>\n",
       "    </tr>\n",
       "  </tbody>\n",
       "</table>\n",
       "</div>"
      ],
      "text/plain": [
       "                               org_uuid  num_founder\n",
       "0  9dc17185-743d-5fbc-f03b-ad0c81c8795d          1.0\n",
       "1  9c8adac6-5c8e-9344-b763-6beab966c63c          NaN\n",
       "2  6749cc07-efed-ff09-4efe-43faf6f580de          1.0"
      ]
     },
     "execution_count": 6,
     "metadata": {},
     "output_type": "execute_result"
    }
   ],
   "source": [
    "num_founder = pd.DataFrame(jobs_df.groupby('org_uuid')['is_founder'].sum())\n",
    "main_processing_df_v1 = pd.merge(main_processing_df,\n",
    "                         num_founder,\n",
    "                         on='org_uuid',\n",
    "                         how='left'\n",
    "                         )\n",
    "main_processing_df_v1.rename(columns = {'is_founder':'num_founder'},inplace=True)\n",
    "main_processing_df_v1.head(3)"
   ]
  },
  {
   "cell_type": "code",
   "execution_count": 7,
   "id": "composed-tolerance",
   "metadata": {},
   "outputs": [],
   "source": [
    "#assign 0 for companies with no information of founder\n",
    "main_processing_df_v2 = main_processing_df_v1.fillna(0)"
   ]
  },
  {
   "cell_type": "code",
   "execution_count": 8,
   "id": "piano-rating",
   "metadata": {},
   "outputs": [
    {
     "data": {
      "text/plain": [
       "28727"
      ]
     },
     "execution_count": 8,
     "metadata": {},
     "output_type": "execute_result"
    }
   ],
   "source": [
    "len(main_processing_df_v2)"
   ]
  },
  {
   "cell_type": "code",
   "execution_count": 9,
   "id": "indoor-engagement",
   "metadata": {},
   "outputs": [
    {
     "data": {
      "text/html": [
       "<div>\n",
       "<style scoped>\n",
       "    .dataframe tbody tr th:only-of-type {\n",
       "        vertical-align: middle;\n",
       "    }\n",
       "\n",
       "    .dataframe tbody tr th {\n",
       "        vertical-align: top;\n",
       "    }\n",
       "\n",
       "    .dataframe thead th {\n",
       "        text-align: right;\n",
       "    }\n",
       "</style>\n",
       "<table border=\"1\" class=\"dataframe\">\n",
       "  <thead>\n",
       "    <tr style=\"text-align: right;\">\n",
       "      <th></th>\n",
       "      <th>org_uuid</th>\n",
       "      <th>num_founder</th>\n",
       "    </tr>\n",
       "  </thead>\n",
       "  <tbody>\n",
       "    <tr>\n",
       "      <th>0</th>\n",
       "      <td>9dc17185-743d-5fbc-f03b-ad0c81c8795d</td>\n",
       "      <td>1.0</td>\n",
       "    </tr>\n",
       "    <tr>\n",
       "      <th>1</th>\n",
       "      <td>9c8adac6-5c8e-9344-b763-6beab966c63c</td>\n",
       "      <td>0.0</td>\n",
       "    </tr>\n",
       "    <tr>\n",
       "      <th>2</th>\n",
       "      <td>6749cc07-efed-ff09-4efe-43faf6f580de</td>\n",
       "      <td>1.0</td>\n",
       "    </tr>\n",
       "    <tr>\n",
       "      <th>3</th>\n",
       "      <td>bbc29f4a-a798-4f74-f0a0-b1d8267692ac</td>\n",
       "      <td>0.0</td>\n",
       "    </tr>\n",
       "    <tr>\n",
       "      <th>4</th>\n",
       "      <td>9bbaf540-5994-029a-3346-501ad2d1fb89</td>\n",
       "      <td>2.0</td>\n",
       "    </tr>\n",
       "  </tbody>\n",
       "</table>\n",
       "</div>"
      ],
      "text/plain": [
       "                               org_uuid  num_founder\n",
       "0  9dc17185-743d-5fbc-f03b-ad0c81c8795d          1.0\n",
       "1  9c8adac6-5c8e-9344-b763-6beab966c63c          0.0\n",
       "2  6749cc07-efed-ff09-4efe-43faf6f580de          1.0\n",
       "3  bbc29f4a-a798-4f74-f0a0-b1d8267692ac          0.0\n",
       "4  9bbaf540-5994-029a-3346-501ad2d1fb89          2.0"
      ]
     },
     "execution_count": 9,
     "metadata": {},
     "output_type": "execute_result"
    }
   ],
   "source": [
    "main_processing_df_v2.head(5)"
   ]
  },
  {
   "cell_type": "markdown",
   "id": "agricultural-financing",
   "metadata": {},
   "source": [
    "# Assign Gender Diversity Features"
   ]
  },
  {
   "cell_type": "code",
   "execution_count": 10,
   "id": "intermediate-orange",
   "metadata": {},
   "outputs": [],
   "source": [
    "founder_df = jobs_df[jobs_df['is_founder'] == 1]\n",
    "founder_gb = founder_df.groupby('org_uuid')"
   ]
  },
  {
   "cell_type": "code",
   "execution_count": 11,
   "id": "honest-addition",
   "metadata": {},
   "outputs": [],
   "source": [
    "#import people preprocessed file\n",
    "people_df = pd.read_csv(R\"d:/msc-project/data/crunchbase_pre-processed/people_preprocessed.csv\",encoding='utf-8',\n",
    "                         index_col=False)"
   ]
  },
  {
   "cell_type": "code",
   "execution_count": 12,
   "id": "regional-matthew",
   "metadata": {},
   "outputs": [
    {
     "data": {
      "text/plain": [
       "Index(['people_uuid', 'people_name', 'first_name', 'last_name', 'gender',\n",
       "       'country_code', 'state_code', 'region', 'city', 'org_uuid',\n",
       "       'featured_job_organization_name', 'featured_job_title', 'facebook_url',\n",
       "       'linkedin_url', 'twitter_url', 'logo_url', 'description'],\n",
       "      dtype='object')"
      ]
     },
     "execution_count": 12,
     "metadata": {},
     "output_type": "execute_result"
    }
   ],
   "source": [
    "people_df.columns"
   ]
  },
  {
   "cell_type": "code",
   "execution_count": 13,
   "id": "frozen-column",
   "metadata": {},
   "outputs": [],
   "source": [
    "founder_gender_df = pd.merge(founder_df[['people_uuid','org_uuid']],\n",
    "                             people_df[['people_uuid','gender']],\n",
    "                             on='people_uuid',\n",
    "                             how='left')"
   ]
  },
  {
   "cell_type": "code",
   "execution_count": 14,
   "id": "sustained-sculpture",
   "metadata": {},
   "outputs": [
    {
     "data": {
      "text/html": [
       "<div>\n",
       "<style scoped>\n",
       "    .dataframe tbody tr th:only-of-type {\n",
       "        vertical-align: middle;\n",
       "    }\n",
       "\n",
       "    .dataframe tbody tr th {\n",
       "        vertical-align: top;\n",
       "    }\n",
       "\n",
       "    .dataframe thead th {\n",
       "        text-align: right;\n",
       "    }\n",
       "</style>\n",
       "<table border=\"1\" class=\"dataframe\">\n",
       "  <thead>\n",
       "    <tr style=\"text-align: right;\">\n",
       "      <th></th>\n",
       "      <th>people_uuid</th>\n",
       "      <th>org_uuid</th>\n",
       "      <th>gender</th>\n",
       "    </tr>\n",
       "  </thead>\n",
       "  <tbody>\n",
       "    <tr>\n",
       "      <th>0</th>\n",
       "      <td>ed13cd36-fe2b-3707-197b-0c2d56e37a71</td>\n",
       "      <td>e1393508-30ea-8a36-3f96-dd3226033abd</td>\n",
       "      <td>male</td>\n",
       "    </tr>\n",
       "    <tr>\n",
       "      <th>1</th>\n",
       "      <td>a01b8d46-d311-3333-7c34-aa3ae9c03f22</td>\n",
       "      <td>df662812-7f97-0b43-9d3e-12f64f504fbb</td>\n",
       "      <td>male</td>\n",
       "    </tr>\n",
       "    <tr>\n",
       "      <th>2</th>\n",
       "      <td>084aaa07-0795-1fe8-9c46-98bbeb02cd64</td>\n",
       "      <td>df662812-7f97-0b43-9d3e-12f64f504fbb</td>\n",
       "      <td>male</td>\n",
       "    </tr>\n",
       "  </tbody>\n",
       "</table>\n",
       "</div>"
      ],
      "text/plain": [
       "                            people_uuid                              org_uuid  \\\n",
       "0  ed13cd36-fe2b-3707-197b-0c2d56e37a71  e1393508-30ea-8a36-3f96-dd3226033abd   \n",
       "1  a01b8d46-d311-3333-7c34-aa3ae9c03f22  df662812-7f97-0b43-9d3e-12f64f504fbb   \n",
       "2  084aaa07-0795-1fe8-9c46-98bbeb02cd64  df662812-7f97-0b43-9d3e-12f64f504fbb   \n",
       "\n",
       "  gender  \n",
       "0   male  \n",
       "1   male  \n",
       "2   male  "
      ]
     },
     "execution_count": 14,
     "metadata": {},
     "output_type": "execute_result"
    }
   ],
   "source": [
    "founder_gender_df.head(3)"
   ]
  },
  {
   "cell_type": "code",
   "execution_count": 15,
   "id": "stainless-bread",
   "metadata": {},
   "outputs": [
    {
     "data": {
      "text/plain": [
       "332569"
      ]
     },
     "execution_count": 15,
     "metadata": {},
     "output_type": "execute_result"
    }
   ],
   "source": [
    "len(founder_df)"
   ]
  },
  {
   "cell_type": "code",
   "execution_count": 16,
   "id": "motivated-mobile",
   "metadata": {},
   "outputs": [
    {
     "data": {
      "text/plain": [
       "332569"
      ]
     },
     "execution_count": 16,
     "metadata": {},
     "output_type": "execute_result"
    }
   ],
   "source": [
    "len(founder_gender_df)"
   ]
  },
  {
   "cell_type": "code",
   "execution_count": 17,
   "id": "creative-plant",
   "metadata": {},
   "outputs": [],
   "source": [
    "founder_gender_gb = founder_gender_df.groupby('org_uuid')"
   ]
  },
  {
   "cell_type": "code",
   "execution_count": null,
   "id": "suitable-biodiversity",
   "metadata": {},
   "outputs": [],
   "source": [
    "is_founder_gender_diversity = list()\n",
    "\n",
    "for org_uuid in list(main_processing_df_v2['org_uuid']):\n",
    "    founders_gender = list(founder_gender_df[founder_gender_df['org_uuid'] == org_uuid]['gender']) #create list of founder's gender for one organisation\n",
    "    if 'male' in founders_gender and 'female' in founders_gender: #assign 1 if male and female in gender list\n",
    "        is_founder_gender_diversity.append(1)\n",
    "    else:\n",
    "        is_founder_gender_diversity.append(0)\n",
    "\n",
    "main_processing_df_v2['is_founder_gender_diversity'] = is_founder_gender_diversity"
   ]
  },
  {
   "cell_type": "code",
   "execution_count": null,
   "id": "phantom-pontiac",
   "metadata": {},
   "outputs": [],
   "source": [
    "len(is_founder_gender_diversity)"
   ]
  },
  {
   "cell_type": "code",
   "execution_count": null,
   "id": "explicit-mainland",
   "metadata": {},
   "outputs": [],
   "source": [
    "is_founder_gender_diversity.count(1)"
   ]
  },
  {
   "cell_type": "code",
   "execution_count": null,
   "id": "crazy-cleveland",
   "metadata": {},
   "outputs": [],
   "source": [
    "len(main_processing_df_v2)"
   ]
  },
  {
   "cell_type": "code",
   "execution_count": null,
   "id": "specific-calculation",
   "metadata": {},
   "outputs": [],
   "source": [
    "main_processing_df_v2.head(3)"
   ]
  },
  {
   "cell_type": "markdown",
   "id": "protective-programming",
   "metadata": {},
   "source": [
    "# Assigning number of founder with degree level, ivy league, and top100 to organisation."
   ]
  },
  {
   "cell_type": "code",
   "execution_count": null,
   "id": "naval-algebra",
   "metadata": {},
   "outputs": [],
   "source": [
    "#import pre processed degree file\n",
    "deg_df = pd.read_csv(R\"d:/msc-project/data/crunchbase_pre-processed/degrees_preprocessed.csv\",encoding='utf-8',\n",
    "                         index_col=False)\n",
    "deg_df.head(3)"
   ]
  },
  {
   "cell_type": "code",
   "execution_count": null,
   "id": "excess-eugene",
   "metadata": {},
   "outputs": [],
   "source": [
    "#merge founder df with main processing to compress size of founder df to only companies in sample\n",
    "founder_df_v1 = pd.merge(main_processing_df_v2['org_uuid'],\n",
    "                         founder_df,\n",
    "                         on='org_uuid',\n",
    "                         how='left')\n",
    "len(founder_df_v1)"
   ]
  },
  {
   "cell_type": "code",
   "execution_count": null,
   "id": "extensive-elephant",
   "metadata": {},
   "outputs": [],
   "source": [
    "#merge degree with founder_df\n",
    "deg_type_df = deg_df[['people_uuid','is_bachelor','is_master','is_phd','is_mba','is_stem','is_ivy_league','is_top_100']]\n",
    "founder_degree_df = pd.merge(founder_df_v1[['org_uuid','people_uuid']],\n",
    "                             deg_type_df,\n",
    "                             on='people_uuid',\n",
    "                             how='left')\n",
    "founder_degree_df.fillna(value=0,inplace=True)\n",
    "len(founder_degree_df)"
   ]
  },
  {
   "cell_type": "code",
   "execution_count": null,
   "id": "limited-alcohol",
   "metadata": {},
   "outputs": [],
   "source": [
    "founder_degree_df.head(3)"
   ]
  },
  {
   "cell_type": "code",
   "execution_count": null,
   "id": "enclosed-submission",
   "metadata": {},
   "outputs": [],
   "source": [
    "#sum the number of founder with degree classification using groupby method\n",
    "founder_degree_df_v1 = founder_degree_df[['org_uuid','is_bachelor','is_master','is_phd','is_mba','is_stem',\n",
    "                                          'is_ivy_league','is_top_100']].groupby('org_uuid').sum()\n",
    "len(founder_degree_df_v1)"
   ]
  },
  {
   "cell_type": "code",
   "execution_count": null,
   "id": "working-limitation",
   "metadata": {},
   "outputs": [],
   "source": [
    "founder_degree_df_v1.head(3)"
   ]
  },
  {
   "cell_type": "code",
   "execution_count": null,
   "id": "extreme-bookmark",
   "metadata": {},
   "outputs": [],
   "source": [
    "#rename folder to reflect features\n",
    "new_column_names = list ()\n",
    "\n",
    "for column_name in founder_degree_df_v1.columns: \n",
    "    new_column_names.append('num' + column_name[2:])\n",
    "    \n",
    "new_column_dict = dict(zip(founder_degree_df_v1.columns,new_column_names))\n",
    "founder_degree_df_v2 = founder_degree_df_v1.rename(columns=new_column_dict)"
   ]
  },
  {
   "cell_type": "code",
   "execution_count": null,
   "id": "af0e318d",
   "metadata": {},
   "outputs": [],
   "source": [
    "founder_degree_df_v2.describe()"
   ]
  },
  {
   "cell_type": "code",
   "execution_count": null,
   "id": "powerful-dylan",
   "metadata": {},
   "outputs": [],
   "source": [
    "founder_degree_df_v2.reset_index(inplace=True)"
   ]
  },
  {
   "cell_type": "code",
   "execution_count": null,
   "id": "heard-deposit",
   "metadata": {},
   "outputs": [],
   "source": [
    "founder_degree_df_v2.head(3)"
   ]
  },
  {
   "cell_type": "code",
   "execution_count": null,
   "id": "gothic-paintball",
   "metadata": {},
   "outputs": [],
   "source": [
    "main_processing_df_v3 = pd.merge(main_processing_df_v2,\n",
    "                                 founder_degree_df_v2,\n",
    "                                 on='org_uuid',\n",
    "                                 how = 'left')"
   ]
  },
  {
   "cell_type": "code",
   "execution_count": null,
   "id": "national-roommate",
   "metadata": {},
   "outputs": [],
   "source": [
    "main_processing_df_v3.head(3)"
   ]
  },
  {
   "cell_type": "code",
   "execution_count": null,
   "id": "decent-capability",
   "metadata": {},
   "outputs": [],
   "source": [
    "#assign 0 to founder with no degree information\n",
    "main_processing_df_v3.isnull().sum(axis=0)\n",
    "main_processing_df_v3.fillna(0,inplace=True)"
   ]
  },
  {
   "cell_type": "code",
   "execution_count": null,
   "id": "continuing-handling",
   "metadata": {},
   "outputs": [],
   "source": [
    "main_processing_df_v3.head(10)"
   ]
  },
  {
   "cell_type": "markdown",
   "id": "impressive-senate",
   "metadata": {},
   "source": [
    "# Assign number of advisor"
   ]
  },
  {
   "cell_type": "code",
   "execution_count": null,
   "id": "french-poison",
   "metadata": {},
   "outputs": [],
   "source": [
    "jobs_df['job_type'].value_counts()"
   ]
  },
  {
   "cell_type": "code",
   "execution_count": null,
   "id": "intellectual-calculation",
   "metadata": {},
   "outputs": [],
   "source": [
    "jobs_advisor_df = jobs_df[jobs_df['job_type'] == 'advisor']"
   ]
  },
  {
   "cell_type": "code",
   "execution_count": null,
   "id": "advanced-decade",
   "metadata": {},
   "outputs": [],
   "source": [
    "jobs_advisor_df.head(3)"
   ]
  },
  {
   "cell_type": "code",
   "execution_count": null,
   "id": "lyric-recovery",
   "metadata": {},
   "outputs": [],
   "source": [
    "advisor_gb = jobs_advisor_df.groupby('org_uuid')"
   ]
  },
  {
   "cell_type": "code",
   "execution_count": null,
   "id": "developing-psychology",
   "metadata": {},
   "outputs": [],
   "source": [
    "num_advisor = advisor_gb.size()\n",
    "num_advisor = pd.DataFrame(num_advisor,\n",
    "                          columns=['num_advisor'])"
   ]
  },
  {
   "cell_type": "code",
   "execution_count": null,
   "id": "handled-hygiene",
   "metadata": {},
   "outputs": [],
   "source": [
    "main_processing_df_v4 = pd.merge(main_processing_df_v3,\n",
    "                                 num_advisor,\n",
    "                                 on='org_uuid',\n",
    "                                 how='left')"
   ]
  },
  {
   "cell_type": "code",
   "execution_count": null,
   "id": "approved-lindsay",
   "metadata": {},
   "outputs": [],
   "source": [
    "main_processing_df_v4.head(3)"
   ]
  },
  {
   "cell_type": "code",
   "execution_count": null,
   "id": "aggregate-uruguay",
   "metadata": {},
   "outputs": [],
   "source": [
    "main_processing_df_v4['num_advisor'].fillna(0,inplace=True)"
   ]
  },
  {
   "cell_type": "code",
   "execution_count": null,
   "id": "noticed-lesson",
   "metadata": {},
   "outputs": [],
   "source": [
    "main_processing_df_v4.head(3)"
   ]
  },
  {
   "cell_type": "markdown",
   "id": "imported-membrane",
   "metadata": {},
   "source": [
    "# Work Experience"
   ]
  },
  {
   "cell_type": "code",
   "execution_count": null,
   "id": "stable-material",
   "metadata": {},
   "outputs": [],
   "source": [
    "main_processing_df_v4.head(3)"
   ]
  },
  {
   "cell_type": "code",
   "execution_count": null,
   "id": "broke-arcade",
   "metadata": {},
   "outputs": [],
   "source": [
    "jobs_df.head(3)"
   ]
  },
  {
   "cell_type": "code",
   "execution_count": null,
   "id": "mathematical-operations",
   "metadata": {},
   "outputs": [],
   "source": [
    "jobs_df_v1= jobs_df [['job_uuid','people_uuid','org_uuid','started_on','ended_on','is_current']]"
   ]
  },
  {
   "cell_type": "code",
   "execution_count": null,
   "id": "compact-charles",
   "metadata": {},
   "outputs": [],
   "source": [
    "jobs_df_v1.head(3)"
   ]
  },
  {
   "cell_type": "code",
   "execution_count": null,
   "id": "atomic-listening",
   "metadata": {},
   "outputs": [],
   "source": [
    "len(jobs_df_v1)"
   ]
  },
  {
   "cell_type": "code",
   "execution_count": null,
   "id": "dietary-ideal",
   "metadata": {},
   "outputs": [],
   "source": [
    "#drop jobs without start date. Start date is crucial to determine if jobs is before founder found company. \n",
    "jobs_df_v2 = jobs_df_v1#.dropna(subset=['started_on'])\n",
    "jobs_df_v2.isnull().sum(axis=0)"
   ]
  },
  {
   "cell_type": "code",
   "execution_count": null,
   "id": "computational-flesh",
   "metadata": {},
   "outputs": [],
   "source": [
    "len(jobs_df_v2)"
   ]
  },
  {
   "cell_type": "code",
   "execution_count": null,
   "id": "cultural-lottery",
   "metadata": {},
   "outputs": [],
   "source": [
    "jobs_df_v3 = jobs_df_v2[jobs_df_v2['started_on'] > '1980-01-01']"
   ]
  },
  {
   "cell_type": "code",
   "execution_count": null,
   "id": "metric-greek",
   "metadata": {},
   "outputs": [],
   "source": [
    "jobs_df_v3['started_on'] = pd.to_datetime(jobs_df_v3['started_on'])\n",
    "jobs_df_v3['ended_on'] = pd.to_datetime(jobs_df_v3['ended_on'])"
   ]
  },
  {
   "cell_type": "code",
   "execution_count": null,
   "id": "adjustable-lightning",
   "metadata": {},
   "outputs": [],
   "source": [
    "len(jobs_df_v3)"
   ]
  },
  {
   "cell_type": "code",
   "execution_count": null,
   "id": "printable-pittsburgh",
   "metadata": {},
   "outputs": [],
   "source": [
    "org_ori_df = pd.read_csv(R\"d:\\\\msc-project\\data\\bulk_export_122020\\organizations.csv\",encoding='utf-8',\n",
    "                         parse_dates= ['founded_on'])"
   ]
  },
  {
   "cell_type": "code",
   "execution_count": null,
   "id": "turned-convenience",
   "metadata": {},
   "outputs": [],
   "source": [
    "org_ori_df.columns"
   ]
  },
  {
   "cell_type": "code",
   "execution_count": null,
   "id": "blessed-albuquerque",
   "metadata": {},
   "outputs": [],
   "source": [
    "jobs_df_v4 = pd.merge(jobs_df_v3,\n",
    "                      org_ori_df[['uuid','category_groups_list']],\n",
    "                      left_on='org_uuid',\n",
    "                      right_on='uuid',\n",
    "                      how='left')\n",
    "len(jobs_df_v4)"
   ]
  },
  {
   "cell_type": "code",
   "execution_count": null,
   "id": "relative-jurisdiction",
   "metadata": {},
   "outputs": [],
   "source": [
    "founder_df_v1.head(3)"
   ]
  },
  {
   "cell_type": "code",
   "execution_count": null,
   "id": "satisfactory-baltimore",
   "metadata": {},
   "outputs": [],
   "source": [
    "len(founder_df_v1)"
   ]
  },
  {
   "cell_type": "code",
   "execution_count": null,
   "id": "optional-fight",
   "metadata": {},
   "outputs": [],
   "source": [
    "founder_df_v1 = founder_df_v1 [['org_uuid','job_uuid','people_uuid']]"
   ]
  },
  {
   "cell_type": "code",
   "execution_count": null,
   "id": "patient-festival",
   "metadata": {},
   "outputs": [],
   "source": [
    "founder_df_v2 = pd.merge(founder_df_v1,\n",
    "                         org_ori_df[['uuid','founded_on','category_groups_list']],\n",
    "                         left_on='org_uuid',\n",
    "                         right_on='uuid',how='left')"
   ]
  },
  {
   "cell_type": "code",
   "execution_count": null,
   "id": "perfect-steal",
   "metadata": {},
   "outputs": [],
   "source": [
    "founder_df_v2['founded_on'] = pd.to_datetime(founder_df_v2['founded_on'])"
   ]
  },
  {
   "cell_type": "code",
   "execution_count": null,
   "id": "supposed-queensland",
   "metadata": {},
   "outputs": [],
   "source": [
    "founder_df_v2.head(3)"
   ]
  },
  {
   "cell_type": "code",
   "execution_count": null,
   "id": "municipal-burton",
   "metadata": {},
   "outputs": [],
   "source": [
    "#reduce the size of jobs_df by filtering to only relevant companies\n",
    "jobs_df_v5 = pd.merge(founder_df_v2['people_uuid'],\n",
    "                     jobs_df_v4,\n",
    "                     on='people_uuid',\n",
    "                     how='left')\n",
    "len(jobs_df_v5)"
   ]
  },
  {
   "cell_type": "code",
   "execution_count": null,
   "id": "quarterly-consideration",
   "metadata": {},
   "outputs": [],
   "source": [
    "jobs_df_v5.head(3)"
   ]
  },
  {
   "cell_type": "code",
   "execution_count": null,
   "id": "straight-neighborhood",
   "metadata": {},
   "outputs": [],
   "source": [
    "#create a list of companies that being acquired and ipo\n",
    "mask1 = org_ori_df['status'] == 'acquired'\n",
    "mask2 = org_ori_df['status'] == 'ipo'\n",
    "set_successful_companies = set (org_ori_df[mask1 | mask2]['uuid'])\n",
    "len(set_successful_companies)"
   ]
  },
  {
   "cell_type": "code",
   "execution_count": null,
   "id": "egyptian-jackson",
   "metadata": {},
   "outputs": [],
   "source": [
    "%%time\n",
    "\n",
    "#create list to capture founder experience in years, number for companies, previously successful, and workin in exactly same sector\n",
    "founder_experience_num_years = list ()\n",
    "founder_experience_num_companies = list()\n",
    "founder_experience_num_successful = list ()\n",
    "founder_experience_num_same_category = list ()\n",
    "\n",
    "#get features from founders' experience\n",
    "end = len(founder_df_v2)\n",
    "\n",
    "for i in range (0,end):\n",
    "    founder = founder_df_v2.iloc[i]\n",
    "    founded_date = founder['founded_on']\n",
    "    people_uuid = founder['people_uuid']\n",
    "    org_uuid = founder['org_uuid']\n",
    "    \n",
    "    #create pd of jobs for one founder and filter\n",
    "    founder_experience_df = jobs_df_v5[jobs_df_v5['people_uuid'] == people_uuid] \n",
    "    founder_experience_df_v1 = founder_experience_df[founder_experience_df['org_uuid'] != org_uuid] #drop the company founded\n",
    "    founder_experience_df_v2 = founder_experience_df_v1[founder_experience_df_v1['started_on'] < founded_date] #filter to experience only before found compan\n",
    "    \n",
    "    #no experience found after filtering. append 0 for all features\n",
    "    if len(founder_experience_df_v2) == 0: \n",
    "        founder_experience_num_years.append(0)\n",
    "        founder_experience_num_companies.append(0)\n",
    "        founder_experience_num_successful.append(0)\n",
    "        founder_experience_num_same_category.append(0)\n",
    "        \n",
    "    else:\n",
    "            \n",
    "        #compute years of experience\n",
    "        num_years = round ((founded_date - founder_experience_df_v2['started_on'].min()).days/365,1) \n",
    "        founder_experience_num_years.append(num_years) #append years of experience to main list\n",
    "\n",
    "        #count the number of companies\n",
    "        num_companies = len(list(founder_experience_df_v2['org_uuid'].unique())) #count the number of companies by looking at unique org_uuid\n",
    "        founder_experience_num_companies.append(num_companies) #append to main list\n",
    "            \n",
    "        #count the number of company/ies previously ipoed or acquired\n",
    "        set_companies_work_uuid = set(founder_experience_df_v2['org_uuid'].unique())\n",
    "        num_successful_companies = len (set_companies_work_uuid.intersection(set_successful_companies))\n",
    "        founder_experience_num_successful.append(num_successful_companies)\n",
    "                \n",
    "        #count number of sector that overlapped with company found\n",
    "        founder_experience_df_v3 = founder_experience_df_v2[founder_experience_df_v2['category_groups_list'].notna()] #filter out company with no category groups list\n",
    "        set_category_founded = set(founder['category_groups_list'].split(','))\n",
    "        set_category_experience = set()\n",
    "        for group_list in list(founder_experience_df_v3['category_groups_list']):\n",
    "            group_list = group_list.split(',')\n",
    "            for group in group_list:\n",
    "                set_category_experience.add(group)\n",
    "        \n",
    "        #assign the score based on number of categories overlapped between company founded and experience\n",
    "        founder_experience_num_same_category.append(len(set_category_experience.intersection(set_category_founded)))"
   ]
  },
  {
   "cell_type": "code",
   "execution_count": null,
   "id": "exclusive-scale",
   "metadata": {},
   "outputs": [],
   "source": [
    "len(founder_df_v2)"
   ]
  },
  {
   "cell_type": "code",
   "execution_count": null,
   "id": "bound-backing",
   "metadata": {},
   "outputs": [],
   "source": [
    "founder_experience_num_years.count(0)"
   ]
  },
  {
   "cell_type": "code",
   "execution_count": null,
   "id": "every-circuit",
   "metadata": {},
   "outputs": [],
   "source": [
    "founder_experience_num_companies.count(0)"
   ]
  },
  {
   "cell_type": "code",
   "execution_count": null,
   "id": "fallen-maintenance",
   "metadata": {},
   "outputs": [],
   "source": [
    "founder_experience_num_successful.count(0)"
   ]
  },
  {
   "cell_type": "code",
   "execution_count": null,
   "id": "forty-calcium",
   "metadata": {},
   "outputs": [],
   "source": [
    "founder_experience_num_same_category.count(0)"
   ]
  },
  {
   "cell_type": "code",
   "execution_count": null,
   "id": "intensive-steel",
   "metadata": {},
   "outputs": [],
   "source": [
    "#assign founder experience to founder\n",
    "founder_df_v2['founder_experience_num_years'] = founder_experience_num_years\n",
    "founder_df_v2['founder_experience_num_companies'] = founder_experience_num_companies\n",
    "founder_df_v2['founder_experience_num_successful'] = founder_experience_num_successful\n",
    "founder_df_v2['founder_experience_num_same_category'] = founder_experience_num_same_category"
   ]
  },
  {
   "cell_type": "code",
   "execution_count": null,
   "id": "accompanied-stuart",
   "metadata": {},
   "outputs": [],
   "source": [
    "founder_df_v2.head(3)"
   ]
  },
  {
   "cell_type": "code",
   "execution_count": null,
   "id": "verbal-emphasis",
   "metadata": {},
   "outputs": [],
   "source": [
    "founder_df_v3 = founder_df_v2[['org_uuid','founder_experience_num_years','founder_experience_num_companies',\n",
    "                              'founder_experience_num_successful','founder_experience_num_same_category']].groupby('org_uuid').sum()"
   ]
  },
  {
   "cell_type": "code",
   "execution_count": null,
   "id": "guilty-belle",
   "metadata": {},
   "outputs": [],
   "source": [
    "founder_df_v3.head(3)"
   ]
  },
  {
   "cell_type": "code",
   "execution_count": null,
   "id": "soviet-employer",
   "metadata": {},
   "outputs": [],
   "source": [
    "founder_df_v3.reset_index(inplace=True)"
   ]
  },
  {
   "cell_type": "code",
   "execution_count": null,
   "id": "according-ozone",
   "metadata": {},
   "outputs": [],
   "source": [
    "main_processing_df_v5 = pd.merge(main_processing_df_v4,\n",
    "                                founder_df_v3,\n",
    "                                on='org_uuid',\n",
    "                                how='left')\n",
    "main_processing_df_v5.head(3)"
   ]
  },
  {
   "cell_type": "code",
   "execution_count": null,
   "id": "steady-survey",
   "metadata": {},
   "outputs": [],
   "source": [
    "len(main_processing_df_v5)"
   ]
  },
  {
   "cell_type": "markdown",
   "id": "dependent-photographer",
   "metadata": {},
   "source": [
    "# Save final file"
   ]
  },
  {
   "cell_type": "code",
   "execution_count": null,
   "id": "parallel-yorkshire",
   "metadata": {},
   "outputs": [],
   "source": [
    "len(main_processing_df_v5)"
   ]
  },
  {
   "cell_type": "code",
   "execution_count": null,
   "id": "earlier-concentrate",
   "metadata": {},
   "outputs": [],
   "source": [
    "main_processing_df_v5.head(3)"
   ]
  },
  {
   "cell_type": "markdown",
   "id": "applicable-tutorial",
   "metadata": {},
   "source": [
    "# Rename Column and Save File"
   ]
  },
  {
   "cell_type": "code",
   "execution_count": null,
   "id": "minimal-destiny",
   "metadata": {},
   "outputs": [],
   "source": [
    "main_processing_df_v5.set_index('org_uuid',inplace=True)"
   ]
  },
  {
   "cell_type": "code",
   "execution_count": null,
   "id": "acknowledged-silly",
   "metadata": {},
   "outputs": [],
   "source": [
    "new_column_name = list()\n",
    "for column in list(main_processing_df_v5.columns):\n",
    "    new_column_name.append('people_' + column)\n",
    "new_column_dict = dict(zip(main_processing_df_v5.columns,new_column_name))\n",
    "main_processing_df_v5.rename(columns = new_column_dict,inplace=True)\n",
    "main_processing_df_v5.head(3)"
   ]
  },
  {
   "cell_type": "code",
   "execution_count": null,
   "id": "34972f94",
   "metadata": {},
   "outputs": [],
   "source": [
    "list(main_processing_df_v5.columns)"
   ]
  },
  {
   "cell_type": "code",
   "execution_count": null,
   "id": "67ae6b0f",
   "metadata": {},
   "outputs": [],
   "source": [
    "len(list(main_processing_df_v5))"
   ]
  },
  {
   "cell_type": "code",
   "execution_count": null,
   "id": "planned-turning",
   "metadata": {},
   "outputs": [],
   "source": [
    "main_processing_df_v5.to_csv(r'd:\\msc-project\\from-github\\dissertations-2021-info\\rahim_ghani_predict\\data\\final\\features_people.csv',encoding='utf=8')"
   ]
  },
  {
   "cell_type": "code",
   "execution_count": null,
   "id": "spare-tension",
   "metadata": {},
   "outputs": [],
   "source": []
  }
 ],
 "metadata": {
  "kernelspec": {
   "display_name": "Python 3",
   "language": "python",
   "name": "python3"
  },
  "language_info": {
   "codemirror_mode": {
    "name": "ipython",
    "version": 3
   },
   "file_extension": ".py",
   "mimetype": "text/x-python",
   "name": "python",
   "nbconvert_exporter": "python",
   "pygments_lexer": "ipython3",
   "version": "3.7.9"
  }
 },
 "nbformat": 4,
 "nbformat_minor": 5
}
