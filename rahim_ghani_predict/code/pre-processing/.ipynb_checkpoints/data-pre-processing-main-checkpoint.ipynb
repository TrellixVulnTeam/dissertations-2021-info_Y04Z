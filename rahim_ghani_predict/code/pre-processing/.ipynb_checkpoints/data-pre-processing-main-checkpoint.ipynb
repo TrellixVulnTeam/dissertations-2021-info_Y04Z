{
 "cells": [
  {
   "cell_type": "code",
   "execution_count": 1,
   "id": "leading-effects",
   "metadata": {},
   "outputs": [],
   "source": [
    "#Import basic packages\n",
    "import os\n",
    "import numpy as np\n",
    "import pandas as pd\n",
    "import csv\n",
    "import regex as re"
   ]
  },
  {
   "cell_type": "code",
   "execution_count": 2,
   "id": "stock-glance",
   "metadata": {},
   "outputs": [],
   "source": [
    "#import organizations.csv\n",
    "org_df = pd.read_csv(R\"d:\\\\msc-project\\data\\bulk_export_122020\\organizations.csv\",encoding='utf-8')"
   ]
  },
  {
   "cell_type": "code",
   "execution_count": 3,
   "id": "collected-cooling",
   "metadata": {},
   "outputs": [
    {
     "data": {
      "text/plain": [
       "Index(['uuid', 'name', 'type', 'permalink', 'cb_url', 'rank', 'created_at',\n",
       "       'updated_at', 'legal_name', 'roles', 'domain', 'homepage_url',\n",
       "       'country_code', 'state_code', 'region', 'city', 'address',\n",
       "       'postal_code', 'status', 'short_description', 'category_list',\n",
       "       'category_groups_list', 'num_funding_rounds', 'total_funding_usd',\n",
       "       'total_funding', 'total_funding_currency_code', 'founded_on',\n",
       "       'last_funding_on', 'closed_on', 'employee_count', 'email', 'phone',\n",
       "       'facebook_url', 'linkedin_url', 'twitter_url', 'logo_url', 'alias1',\n",
       "       'alias2', 'alias3', 'primary_role', 'num_exits'],\n",
       "      dtype='object')"
      ]
     },
     "execution_count": 3,
     "metadata": {},
     "output_type": "execute_result"
    }
   ],
   "source": [
    "#check column name for organisation\n",
    "org_df.columns"
   ]
  },
  {
   "cell_type": "code",
   "execution_count": 4,
   "id": "declared-concentration",
   "metadata": {},
   "outputs": [
    {
     "data": {
      "text/html": [
       "<div>\n",
       "<style scoped>\n",
       "    .dataframe tbody tr th:only-of-type {\n",
       "        vertical-align: middle;\n",
       "    }\n",
       "\n",
       "    .dataframe tbody tr th {\n",
       "        vertical-align: top;\n",
       "    }\n",
       "\n",
       "    .dataframe thead th {\n",
       "        text-align: right;\n",
       "    }\n",
       "</style>\n",
       "<table border=\"1\" class=\"dataframe\">\n",
       "  <thead>\n",
       "    <tr style=\"text-align: right;\">\n",
       "      <th></th>\n",
       "      <th>uuid</th>\n",
       "      <th>name</th>\n",
       "      <th>type</th>\n",
       "      <th>permalink</th>\n",
       "      <th>cb_url</th>\n",
       "      <th>rank</th>\n",
       "      <th>created_at</th>\n",
       "      <th>updated_at</th>\n",
       "      <th>legal_name</th>\n",
       "      <th>roles</th>\n",
       "      <th>...</th>\n",
       "      <th>phone</th>\n",
       "      <th>facebook_url</th>\n",
       "      <th>linkedin_url</th>\n",
       "      <th>twitter_url</th>\n",
       "      <th>logo_url</th>\n",
       "      <th>alias1</th>\n",
       "      <th>alias2</th>\n",
       "      <th>alias3</th>\n",
       "      <th>primary_role</th>\n",
       "      <th>num_exits</th>\n",
       "    </tr>\n",
       "  </thead>\n",
       "  <tbody>\n",
       "    <tr>\n",
       "      <th>0</th>\n",
       "      <td>e1393508-30ea-8a36-3f96-dd3226033abd</td>\n",
       "      <td>Wetpaint</td>\n",
       "      <td>organization</td>\n",
       "      <td>wetpaint</td>\n",
       "      <td>https://www.crunchbase.com/organization/wetpaint</td>\n",
       "      <td>131437.0</td>\n",
       "      <td>2007-05-25 13:51:27</td>\n",
       "      <td>2019-06-24 22:19:25</td>\n",
       "      <td>NaN</td>\n",
       "      <td>company</td>\n",
       "      <td>...</td>\n",
       "      <td>206-859-6300</td>\n",
       "      <td>https://www.facebook.com/Wetpaint</td>\n",
       "      <td>https://www.linkedin.com/company/wetpaint</td>\n",
       "      <td>https://twitter.com/wetpainttv</td>\n",
       "      <td>https://res.cloudinary.com/crunchbase-producti...</td>\n",
       "      <td>NaN</td>\n",
       "      <td>NaN</td>\n",
       "      <td>NaN</td>\n",
       "      <td>company</td>\n",
       "      <td>NaN</td>\n",
       "    </tr>\n",
       "    <tr>\n",
       "      <th>1</th>\n",
       "      <td>bf4d7b0e-b34d-2fd8-d292-6049c4f7efc7</td>\n",
       "      <td>Zoho</td>\n",
       "      <td>organization</td>\n",
       "      <td>zoho</td>\n",
       "      <td>https://www.crunchbase.com/organization/zoho</td>\n",
       "      <td>7682.0</td>\n",
       "      <td>2007-05-26 02:30:28</td>\n",
       "      <td>2018-10-27 00:29:49</td>\n",
       "      <td>NaN</td>\n",
       "      <td>investor,company</td>\n",
       "      <td>...</td>\n",
       "      <td>NaN</td>\n",
       "      <td>http://www.facebook.com/zoho</td>\n",
       "      <td>http://www.linkedin.com/company/zoho-corporati...</td>\n",
       "      <td>http://twitter.com/zoho</td>\n",
       "      <td>https://res.cloudinary.com/crunchbase-producti...</td>\n",
       "      <td>NaN</td>\n",
       "      <td>NaN</td>\n",
       "      <td>NaN</td>\n",
       "      <td>company</td>\n",
       "      <td>1.0</td>\n",
       "    </tr>\n",
       "  </tbody>\n",
       "</table>\n",
       "<p>2 rows × 41 columns</p>\n",
       "</div>"
      ],
      "text/plain": [
       "                                   uuid      name          type permalink  \\\n",
       "0  e1393508-30ea-8a36-3f96-dd3226033abd  Wetpaint  organization  wetpaint   \n",
       "1  bf4d7b0e-b34d-2fd8-d292-6049c4f7efc7      Zoho  organization      zoho   \n",
       "\n",
       "                                             cb_url      rank  \\\n",
       "0  https://www.crunchbase.com/organization/wetpaint  131437.0   \n",
       "1      https://www.crunchbase.com/organization/zoho    7682.0   \n",
       "\n",
       "            created_at           updated_at legal_name             roles  ...  \\\n",
       "0  2007-05-25 13:51:27  2019-06-24 22:19:25        NaN           company  ...   \n",
       "1  2007-05-26 02:30:28  2018-10-27 00:29:49        NaN  investor,company  ...   \n",
       "\n",
       "          phone                       facebook_url  \\\n",
       "0  206-859-6300  https://www.facebook.com/Wetpaint   \n",
       "1           NaN       http://www.facebook.com/zoho   \n",
       "\n",
       "                                        linkedin_url  \\\n",
       "0          https://www.linkedin.com/company/wetpaint   \n",
       "1  http://www.linkedin.com/company/zoho-corporati...   \n",
       "\n",
       "                      twitter_url  \\\n",
       "0  https://twitter.com/wetpainttv   \n",
       "1         http://twitter.com/zoho   \n",
       "\n",
       "                                            logo_url alias1 alias2 alias3  \\\n",
       "0  https://res.cloudinary.com/crunchbase-producti...    NaN    NaN    NaN   \n",
       "1  https://res.cloudinary.com/crunchbase-producti...    NaN    NaN    NaN   \n",
       "\n",
       "  primary_role num_exits  \n",
       "0      company       NaN  \n",
       "1      company       1.0  \n",
       "\n",
       "[2 rows x 41 columns]"
      ]
     },
     "execution_count": 4,
     "metadata": {},
     "output_type": "execute_result"
    }
   ],
   "source": [
    "org_df.head(2)"
   ]
  },
  {
   "cell_type": "code",
   "execution_count": 5,
   "id": "compatible-knife",
   "metadata": {},
   "outputs": [
    {
     "data": {
      "text/html": [
       "<div>\n",
       "<style scoped>\n",
       "    .dataframe tbody tr th:only-of-type {\n",
       "        vertical-align: middle;\n",
       "    }\n",
       "\n",
       "    .dataframe tbody tr th {\n",
       "        vertical-align: top;\n",
       "    }\n",
       "\n",
       "    .dataframe thead th {\n",
       "        text-align: right;\n",
       "    }\n",
       "</style>\n",
       "<table border=\"1\" class=\"dataframe\">\n",
       "  <thead>\n",
       "    <tr style=\"text-align: right;\">\n",
       "      <th></th>\n",
       "      <th>uuid</th>\n",
       "      <th>name</th>\n",
       "      <th>type</th>\n",
       "      <th>permalink</th>\n",
       "      <th>cb_url</th>\n",
       "      <th>rank</th>\n",
       "      <th>created_at</th>\n",
       "      <th>updated_at</th>\n",
       "      <th>legal_name</th>\n",
       "      <th>roles</th>\n",
       "      <th>...</th>\n",
       "      <th>phone</th>\n",
       "      <th>facebook_url</th>\n",
       "      <th>linkedin_url</th>\n",
       "      <th>twitter_url</th>\n",
       "      <th>logo_url</th>\n",
       "      <th>alias1</th>\n",
       "      <th>alias2</th>\n",
       "      <th>alias3</th>\n",
       "      <th>primary_role</th>\n",
       "      <th>num_exits</th>\n",
       "    </tr>\n",
       "  </thead>\n",
       "  <tbody>\n",
       "    <tr>\n",
       "      <th>1</th>\n",
       "      <td>bf4d7b0e-b34d-2fd8-d292-6049c4f7efc7</td>\n",
       "      <td>Zoho</td>\n",
       "      <td>organization</td>\n",
       "      <td>zoho</td>\n",
       "      <td>https://www.crunchbase.com/organization/zoho</td>\n",
       "      <td>7682.0</td>\n",
       "      <td>2007-05-26 02:30:28</td>\n",
       "      <td>2018-10-27 00:29:49</td>\n",
       "      <td>NaN</td>\n",
       "      <td>investor,company</td>\n",
       "      <td>...</td>\n",
       "      <td>NaN</td>\n",
       "      <td>http://www.facebook.com/zoho</td>\n",
       "      <td>http://www.linkedin.com/company/zoho-corporati...</td>\n",
       "      <td>http://twitter.com/zoho</td>\n",
       "      <td>https://res.cloudinary.com/crunchbase-producti...</td>\n",
       "      <td>NaN</td>\n",
       "      <td>NaN</td>\n",
       "      <td>NaN</td>\n",
       "      <td>company</td>\n",
       "      <td>1.0</td>\n",
       "    </tr>\n",
       "    <tr>\n",
       "      <th>3</th>\n",
       "      <td>f4d5ab44-058b-298b-ea81-380e6e9a8eec</td>\n",
       "      <td>Omidyar Network</td>\n",
       "      <td>organization</td>\n",
       "      <td>omidyar-network</td>\n",
       "      <td>https://www.crunchbase.com/organization/omidya...</td>\n",
       "      <td>1757.0</td>\n",
       "      <td>2007-05-26 03:21:34</td>\n",
       "      <td>2019-06-19 12:17:48</td>\n",
       "      <td>NaN</td>\n",
       "      <td>investor</td>\n",
       "      <td>...</td>\n",
       "      <td>650.482.2500</td>\n",
       "      <td>http://www.facebook.com/OmidyarNetwork</td>\n",
       "      <td>http://www.linkedin.com/company/22806</td>\n",
       "      <td>http://twitter.com/OmidyarNetwork</td>\n",
       "      <td>https://res.cloudinary.com/crunchbase-producti...</td>\n",
       "      <td>NaN</td>\n",
       "      <td>NaN</td>\n",
       "      <td>NaN</td>\n",
       "      <td>investor</td>\n",
       "      <td>37.0</td>\n",
       "    </tr>\n",
       "    <tr>\n",
       "      <th>5</th>\n",
       "      <td>7ca12f7a-2f8e-48b4-a8d1-1a33a0e275b9</td>\n",
       "      <td>Trinity Ventures</td>\n",
       "      <td>organization</td>\n",
       "      <td>trinity-ventures</td>\n",
       "      <td>https://www.crunchbase.com/organization/trinit...</td>\n",
       "      <td>1956.0</td>\n",
       "      <td>2007-05-26 20:13:00</td>\n",
       "      <td>2019-09-27 22:33:49</td>\n",
       "      <td>NaN</td>\n",
       "      <td>investor</td>\n",
       "      <td>...</td>\n",
       "      <td>650.854.9500</td>\n",
       "      <td>http://www.facebook.com/pages/Menlo-Park-CA/Tr...</td>\n",
       "      <td>http://www.linkedin.com/company/trinity-ventures</td>\n",
       "      <td>http://twitter.com/trinityventures</td>\n",
       "      <td>https://res.cloudinary.com/crunchbase-producti...</td>\n",
       "      <td>NaN</td>\n",
       "      <td>NaN</td>\n",
       "      <td>NaN</td>\n",
       "      <td>investor</td>\n",
       "      <td>123.0</td>\n",
       "    </tr>\n",
       "    <tr>\n",
       "      <th>6</th>\n",
       "      <td>b08efc27-da40-505a-6f9d-c9e14247bf36</td>\n",
       "      <td>Accel</td>\n",
       "      <td>organization</td>\n",
       "      <td>accel</td>\n",
       "      <td>https://www.crunchbase.com/organization/accel</td>\n",
       "      <td>2379.0</td>\n",
       "      <td>2007-05-26 20:27:39</td>\n",
       "      <td>2020-10-12 12:50:40</td>\n",
       "      <td>Accel Partners LP</td>\n",
       "      <td>investor,company</td>\n",
       "      <td>...</td>\n",
       "      <td>650-614-4800</td>\n",
       "      <td>http://www.facebook.com/accel</td>\n",
       "      <td>https://www.linkedin.com/company/accel-vc/</td>\n",
       "      <td>http://twitter.com/accel</td>\n",
       "      <td>https://res.cloudinary.com/crunchbase-producti...</td>\n",
       "      <td>Accel Partners</td>\n",
       "      <td>NaN</td>\n",
       "      <td>NaN</td>\n",
       "      <td>investor</td>\n",
       "      <td>304.0</td>\n",
       "    </tr>\n",
       "    <tr>\n",
       "      <th>7</th>\n",
       "      <td>8d5c7e48-82da-3025-dd46-346a31bab86f</td>\n",
       "      <td>Meritech Capital Partners</td>\n",
       "      <td>organization</td>\n",
       "      <td>meritech-capital-partners</td>\n",
       "      <td>https://www.crunchbase.com/organization/merite...</td>\n",
       "      <td>21686.0</td>\n",
       "      <td>2007-05-26 20:29:59</td>\n",
       "      <td>2020-03-02 18:04:28</td>\n",
       "      <td>NaN</td>\n",
       "      <td>investor</td>\n",
       "      <td>...</td>\n",
       "      <td>(650) 475-2200</td>\n",
       "      <td>http://www.facebook.com/MeritechCapital</td>\n",
       "      <td>https://www.linkedin.com/company/meritech-capi...</td>\n",
       "      <td>http://twitter.com/MeritechCapital</td>\n",
       "      <td>https://res.cloudinary.com/crunchbase-producti...</td>\n",
       "      <td>NaN</td>\n",
       "      <td>NaN</td>\n",
       "      <td>NaN</td>\n",
       "      <td>investor</td>\n",
       "      <td>110.0</td>\n",
       "    </tr>\n",
       "    <tr>\n",
       "      <th>10</th>\n",
       "      <td>180ebf67-68d0-2316-e93d-8e1e546330ba</td>\n",
       "      <td>Flektor</td>\n",
       "      <td>organization</td>\n",
       "      <td>flektor</td>\n",
       "      <td>https://www.crunchbase.com/organization/flektor</td>\n",
       "      <td>217891.0</td>\n",
       "      <td>2007-06-01 04:11:51</td>\n",
       "      <td>2018-02-12 23:23:51</td>\n",
       "      <td>NaN</td>\n",
       "      <td>company</td>\n",
       "      <td>...</td>\n",
       "      <td>NaN</td>\n",
       "      <td>NaN</td>\n",
       "      <td>NaN</td>\n",
       "      <td>NaN</td>\n",
       "      <td>https://res.cloudinary.com/crunchbase-producti...</td>\n",
       "      <td>NaN</td>\n",
       "      <td>NaN</td>\n",
       "      <td>NaN</td>\n",
       "      <td>company</td>\n",
       "      <td>NaN</td>\n",
       "    </tr>\n",
       "    <tr>\n",
       "      <th>11</th>\n",
       "      <td>d70777cc-14bd-2416-0692-5a483781b78b</td>\n",
       "      <td>Fox Interactive Media</td>\n",
       "      <td>organization</td>\n",
       "      <td>fox-interactive-media</td>\n",
       "      <td>https://www.crunchbase.com/organization/fox-in...</td>\n",
       "      <td>118045.0</td>\n",
       "      <td>2007-06-01 04:46:57</td>\n",
       "      <td>2018-11-30 09:12:07</td>\n",
       "      <td>NaN</td>\n",
       "      <td>investor,company</td>\n",
       "      <td>...</td>\n",
       "      <td>(212) 416-3400</td>\n",
       "      <td>NaN</td>\n",
       "      <td>https://www.linkedin.com/company/fox-interacti...</td>\n",
       "      <td>NaN</td>\n",
       "      <td>https://res.cloudinary.com/crunchbase-producti...</td>\n",
       "      <td>NaN</td>\n",
       "      <td>NaN</td>\n",
       "      <td>NaN</td>\n",
       "      <td>company</td>\n",
       "      <td>1.0</td>\n",
       "    </tr>\n",
       "    <tr>\n",
       "      <th>17</th>\n",
       "      <td>a6c7c343-c004-6a4d-6c67-d856cc0ec2c2</td>\n",
       "      <td>Centennial Ventures</td>\n",
       "      <td>organization</td>\n",
       "      <td>centennial-ventures</td>\n",
       "      <td>https://www.crunchbase.com/organization/centen...</td>\n",
       "      <td>128754.0</td>\n",
       "      <td>2007-06-05 12:24:16</td>\n",
       "      <td>2020-10-05 17:41:38</td>\n",
       "      <td>NaN</td>\n",
       "      <td>investor</td>\n",
       "      <td>...</td>\n",
       "      <td>(303) 405-7500</td>\n",
       "      <td>NaN</td>\n",
       "      <td>NaN</td>\n",
       "      <td>NaN</td>\n",
       "      <td>https://res.cloudinary.com/crunchbase-producti...</td>\n",
       "      <td>NaN</td>\n",
       "      <td>NaN</td>\n",
       "      <td>NaN</td>\n",
       "      <td>investor</td>\n",
       "      <td>19.0</td>\n",
       "    </tr>\n",
       "    <tr>\n",
       "      <th>18</th>\n",
       "      <td>c6fff75f-74e6-5e98-494a-037c4202baf8</td>\n",
       "      <td>Mission Ventures</td>\n",
       "      <td>organization</td>\n",
       "      <td>mission-ventures</td>\n",
       "      <td>https://www.crunchbase.com/organization/missio...</td>\n",
       "      <td>113394.0</td>\n",
       "      <td>2007-06-05 12:24:58</td>\n",
       "      <td>2020-03-04 14:36:21</td>\n",
       "      <td>NaN</td>\n",
       "      <td>investor</td>\n",
       "      <td>...</td>\n",
       "      <td>(858)350-2100</td>\n",
       "      <td>NaN</td>\n",
       "      <td>https://www.linkedin.com/company/mission-ventu...</td>\n",
       "      <td>NaN</td>\n",
       "      <td>https://res.cloudinary.com/crunchbase-producti...</td>\n",
       "      <td>NaN</td>\n",
       "      <td>NaN</td>\n",
       "      <td>NaN</td>\n",
       "      <td>investor</td>\n",
       "      <td>29.0</td>\n",
       "    </tr>\n",
       "    <tr>\n",
       "      <th>19</th>\n",
       "      <td>313f8a67-ec94-ea8b-96a7-d88a75f9e636</td>\n",
       "      <td>Sevin Rosen Funds</td>\n",
       "      <td>organization</td>\n",
       "      <td>sevin-rosen-funds</td>\n",
       "      <td>https://www.crunchbase.com/organization/sevin-...</td>\n",
       "      <td>79887.0</td>\n",
       "      <td>2007-06-05 12:26:10</td>\n",
       "      <td>2020-03-03 16:20:30</td>\n",
       "      <td>NaN</td>\n",
       "      <td>investor</td>\n",
       "      <td>...</td>\n",
       "      <td>NaN</td>\n",
       "      <td>https://www.facebook.com/Sevin-Rosen-Funds-106...</td>\n",
       "      <td>https://www.linkedin.com/company/sevin-rosen-f...</td>\n",
       "      <td>https://www.twitter.com/srfunds</td>\n",
       "      <td>https://res.cloudinary.com/crunchbase-producti...</td>\n",
       "      <td>NaN</td>\n",
       "      <td>NaN</td>\n",
       "      <td>NaN</td>\n",
       "      <td>investor</td>\n",
       "      <td>62.0</td>\n",
       "    </tr>\n",
       "  </tbody>\n",
       "</table>\n",
       "<p>10 rows × 41 columns</p>\n",
       "</div>"
      ],
      "text/plain": [
       "                                    uuid                       name  \\\n",
       "1   bf4d7b0e-b34d-2fd8-d292-6049c4f7efc7                       Zoho   \n",
       "3   f4d5ab44-058b-298b-ea81-380e6e9a8eec            Omidyar Network   \n",
       "5   7ca12f7a-2f8e-48b4-a8d1-1a33a0e275b9           Trinity Ventures   \n",
       "6   b08efc27-da40-505a-6f9d-c9e14247bf36                      Accel   \n",
       "7   8d5c7e48-82da-3025-dd46-346a31bab86f  Meritech Capital Partners   \n",
       "10  180ebf67-68d0-2316-e93d-8e1e546330ba                    Flektor   \n",
       "11  d70777cc-14bd-2416-0692-5a483781b78b      Fox Interactive Media   \n",
       "17  a6c7c343-c004-6a4d-6c67-d856cc0ec2c2        Centennial Ventures   \n",
       "18  c6fff75f-74e6-5e98-494a-037c4202baf8           Mission Ventures   \n",
       "19  313f8a67-ec94-ea8b-96a7-d88a75f9e636          Sevin Rosen Funds   \n",
       "\n",
       "            type                  permalink  \\\n",
       "1   organization                       zoho   \n",
       "3   organization            omidyar-network   \n",
       "5   organization           trinity-ventures   \n",
       "6   organization                      accel   \n",
       "7   organization  meritech-capital-partners   \n",
       "10  organization                    flektor   \n",
       "11  organization      fox-interactive-media   \n",
       "17  organization        centennial-ventures   \n",
       "18  organization           mission-ventures   \n",
       "19  organization          sevin-rosen-funds   \n",
       "\n",
       "                                               cb_url      rank  \\\n",
       "1        https://www.crunchbase.com/organization/zoho    7682.0   \n",
       "3   https://www.crunchbase.com/organization/omidya...    1757.0   \n",
       "5   https://www.crunchbase.com/organization/trinit...    1956.0   \n",
       "6       https://www.crunchbase.com/organization/accel    2379.0   \n",
       "7   https://www.crunchbase.com/organization/merite...   21686.0   \n",
       "10    https://www.crunchbase.com/organization/flektor  217891.0   \n",
       "11  https://www.crunchbase.com/organization/fox-in...  118045.0   \n",
       "17  https://www.crunchbase.com/organization/centen...  128754.0   \n",
       "18  https://www.crunchbase.com/organization/missio...  113394.0   \n",
       "19  https://www.crunchbase.com/organization/sevin-...   79887.0   \n",
       "\n",
       "             created_at           updated_at         legal_name  \\\n",
       "1   2007-05-26 02:30:28  2018-10-27 00:29:49                NaN   \n",
       "3   2007-05-26 03:21:34  2019-06-19 12:17:48                NaN   \n",
       "5   2007-05-26 20:13:00  2019-09-27 22:33:49                NaN   \n",
       "6   2007-05-26 20:27:39  2020-10-12 12:50:40  Accel Partners LP   \n",
       "7   2007-05-26 20:29:59  2020-03-02 18:04:28                NaN   \n",
       "10  2007-06-01 04:11:51  2018-02-12 23:23:51                NaN   \n",
       "11  2007-06-01 04:46:57  2018-11-30 09:12:07                NaN   \n",
       "17  2007-06-05 12:24:16  2020-10-05 17:41:38                NaN   \n",
       "18  2007-06-05 12:24:58  2020-03-04 14:36:21                NaN   \n",
       "19  2007-06-05 12:26:10  2020-03-03 16:20:30                NaN   \n",
       "\n",
       "               roles  ...           phone  \\\n",
       "1   investor,company  ...             NaN   \n",
       "3           investor  ...    650.482.2500   \n",
       "5           investor  ...    650.854.9500   \n",
       "6   investor,company  ...    650-614-4800   \n",
       "7           investor  ...  (650) 475-2200   \n",
       "10           company  ...             NaN   \n",
       "11  investor,company  ...  (212) 416-3400   \n",
       "17          investor  ...  (303) 405-7500   \n",
       "18          investor  ...   (858)350-2100   \n",
       "19          investor  ...             NaN   \n",
       "\n",
       "                                         facebook_url  \\\n",
       "1                        http://www.facebook.com/zoho   \n",
       "3              http://www.facebook.com/OmidyarNetwork   \n",
       "5   http://www.facebook.com/pages/Menlo-Park-CA/Tr...   \n",
       "6                       http://www.facebook.com/accel   \n",
       "7             http://www.facebook.com/MeritechCapital   \n",
       "10                                                NaN   \n",
       "11                                                NaN   \n",
       "17                                                NaN   \n",
       "18                                                NaN   \n",
       "19  https://www.facebook.com/Sevin-Rosen-Funds-106...   \n",
       "\n",
       "                                         linkedin_url  \\\n",
       "1   http://www.linkedin.com/company/zoho-corporati...   \n",
       "3               http://www.linkedin.com/company/22806   \n",
       "5    http://www.linkedin.com/company/trinity-ventures   \n",
       "6          https://www.linkedin.com/company/accel-vc/   \n",
       "7   https://www.linkedin.com/company/meritech-capi...   \n",
       "10                                                NaN   \n",
       "11  https://www.linkedin.com/company/fox-interacti...   \n",
       "17                                                NaN   \n",
       "18  https://www.linkedin.com/company/mission-ventu...   \n",
       "19  https://www.linkedin.com/company/sevin-rosen-f...   \n",
       "\n",
       "                           twitter_url  \\\n",
       "1              http://twitter.com/zoho   \n",
       "3    http://twitter.com/OmidyarNetwork   \n",
       "5   http://twitter.com/trinityventures   \n",
       "6             http://twitter.com/accel   \n",
       "7   http://twitter.com/MeritechCapital   \n",
       "10                                 NaN   \n",
       "11                                 NaN   \n",
       "17                                 NaN   \n",
       "18                                 NaN   \n",
       "19     https://www.twitter.com/srfunds   \n",
       "\n",
       "                                             logo_url          alias1 alias2  \\\n",
       "1   https://res.cloudinary.com/crunchbase-producti...             NaN    NaN   \n",
       "3   https://res.cloudinary.com/crunchbase-producti...             NaN    NaN   \n",
       "5   https://res.cloudinary.com/crunchbase-producti...             NaN    NaN   \n",
       "6   https://res.cloudinary.com/crunchbase-producti...  Accel Partners    NaN   \n",
       "7   https://res.cloudinary.com/crunchbase-producti...             NaN    NaN   \n",
       "10  https://res.cloudinary.com/crunchbase-producti...             NaN    NaN   \n",
       "11  https://res.cloudinary.com/crunchbase-producti...             NaN    NaN   \n",
       "17  https://res.cloudinary.com/crunchbase-producti...             NaN    NaN   \n",
       "18  https://res.cloudinary.com/crunchbase-producti...             NaN    NaN   \n",
       "19  https://res.cloudinary.com/crunchbase-producti...             NaN    NaN   \n",
       "\n",
       "   alias3 primary_role num_exits  \n",
       "1     NaN      company       1.0  \n",
       "3     NaN     investor      37.0  \n",
       "5     NaN     investor     123.0  \n",
       "6     NaN     investor     304.0  \n",
       "7     NaN     investor     110.0  \n",
       "10    NaN      company       NaN  \n",
       "11    NaN      company       1.0  \n",
       "17    NaN     investor      19.0  \n",
       "18    NaN     investor      29.0  \n",
       "19    NaN     investor      62.0  \n",
       "\n",
       "[10 rows x 41 columns]"
      ]
     },
     "execution_count": 5,
     "metadata": {},
     "output_type": "execute_result"
    }
   ],
   "source": [
    "mask = org_df.num_funding_rounds.isna()\n",
    "org_df[mask].head(10)"
   ]
  },
  {
   "cell_type": "code",
   "execution_count": 6,
   "id": "according-occupation",
   "metadata": {},
   "outputs": [
    {
     "data": {
      "text/plain": [
       "uuid                                 0\n",
       "name                                14\n",
       "type                                 0\n",
       "permalink                            7\n",
       "cb_url                               6\n",
       "rank                               134\n",
       "created_at                           0\n",
       "updated_at                           0\n",
       "legal_name                     1035917\n",
       "roles                             8873\n",
       "domain                           79212\n",
       "homepage_url                     79211\n",
       "country_code                    191226\n",
       "state_code                      761292\n",
       "region                          191226\n",
       "city                            191226\n",
       "address                         654274\n",
       "postal_code                     684663\n",
       "status                               0\n",
       "short_description                  118\n",
       "category_list                    78059\n",
       "category_groups_list             78059\n",
       "num_funding_rounds             1024489\n",
       "total_funding_usd              1075897\n",
       "total_funding                  1075897\n",
       "total_funding_currency_code    1075897\n",
       "founded_on                      260307\n",
       "last_funding_on                1024500\n",
       "closed_on                      1202566\n",
       "employee_count                       0\n",
       "email                           462846\n",
       "phone                           405981\n",
       "facebook_url                    575710\n",
       "linkedin_url                    646209\n",
       "twitter_url                     631355\n",
       "logo_url                        189098\n",
       "alias1                         1032827\n",
       "alias2                         1183539\n",
       "alias3                         1202240\n",
       "primary_role                         0\n",
       "num_exits                      1198771\n",
       "dtype: int64"
      ]
     },
     "execution_count": 6,
     "metadata": {},
     "output_type": "execute_result"
    }
   ],
   "source": [
    "#Show the value of NaN for every colum\n",
    "org_df.isnull().sum(axis = 0)"
   ]
  },
  {
   "cell_type": "code",
   "execution_count": 7,
   "id": "german-premiere",
   "metadata": {},
   "outputs": [],
   "source": [
    "#Delete unecessary columns\n",
    "org_df_v1 = org_df.drop (columns = ['type', 'permalink', 'cb_url', 'rank', 'created_at',\n",
    "                                    'updated_at','roles', 'domain','alias1',\n",
    "                                    'alias2', 'alias3'])"
   ]
  },
  {
   "cell_type": "code",
   "execution_count": 8,
   "id": "interesting-fraud",
   "metadata": {},
   "outputs": [
    {
     "data": {
      "text/plain": [
       "Index(['uuid', 'name', 'legal_name', 'homepage_url', 'country_code',\n",
       "       'state_code', 'region', 'city', 'address', 'postal_code', 'status',\n",
       "       'short_description', 'category_list', 'category_groups_list',\n",
       "       'num_funding_rounds', 'total_funding_usd', 'total_funding',\n",
       "       'total_funding_currency_code', 'founded_on', 'last_funding_on',\n",
       "       'closed_on', 'employee_count', 'email', 'phone', 'facebook_url',\n",
       "       'linkedin_url', 'twitter_url', 'logo_url', 'primary_role', 'num_exits'],\n",
       "      dtype='object')"
      ]
     },
     "execution_count": 8,
     "metadata": {},
     "output_type": "execute_result"
    }
   ],
   "source": [
    "org_df_v1.columns"
   ]
  },
  {
   "cell_type": "code",
   "execution_count": 9,
   "id": "north-contact",
   "metadata": {},
   "outputs": [
    {
     "data": {
      "text/plain": [
       "array([ 3., nan,  6., 17.,  1., 11.,  4.,  5.,  2.,  7., 16.,  8., 14.,\n",
       "       10.,  9., 12., 13., 15., 35., 21., 23., 19., 20., 18., 29., 22.,\n",
       "       31., 24., 27., 25.,  0., 41., 34., 30., 36.])"
      ]
     },
     "execution_count": 9,
     "metadata": {},
     "output_type": "execute_result"
    }
   ],
   "source": [
    "org_df_v1['num_funding_rounds'].unique()"
   ]
  },
  {
   "cell_type": "code",
   "execution_count": 10,
   "id": "waiting-austin",
   "metadata": {},
   "outputs": [],
   "source": [
    "#delete data with no founded date, country code, category, and num_funding_rounds\n",
    "org_df_v2 = org_df_v1.dropna (subset=['founded_on','country_code','category_list','category_groups_list','num_funding_rounds'])"
   ]
  },
  {
   "cell_type": "code",
   "execution_count": 11,
   "id": "utility-gallery",
   "metadata": {},
   "outputs": [
    {
     "data": {
      "text/plain": [
       "1216445"
      ]
     },
     "execution_count": 11,
     "metadata": {},
     "output_type": "execute_result"
    }
   ],
   "source": [
    "len(org_df_v1)"
   ]
  },
  {
   "cell_type": "code",
   "execution_count": 12,
   "id": "defined-presence",
   "metadata": {},
   "outputs": [
    {
     "data": {
      "text/plain": [
       "179275"
      ]
     },
     "execution_count": 12,
     "metadata": {},
     "output_type": "execute_result"
    }
   ],
   "source": [
    "len(org_df_v2)"
   ]
  },
  {
   "cell_type": "code",
   "execution_count": 13,
   "id": "opening-spouse",
   "metadata": {},
   "outputs": [
    {
     "name": "stderr",
     "output_type": "stream",
     "text": [
      "C:\\Users\\Abdul Rahim Ab Ghani\\miniconda3\\lib\\site-packages\\pandas\\core\\frame.py:4449: SettingWithCopyWarning: \n",
      "A value is trying to be set on a copy of a slice from a DataFrame\n",
      "\n",
      "See the caveats in the documentation: https://pandas.pydata.org/pandas-docs/stable/user_guide/indexing.html#returning-a-view-versus-a-copy\n",
      "  errors=errors,\n"
     ]
    }
   ],
   "source": [
    "org_df_v2.rename(columns = {'uuid':'org_uuid'},inplace=True)"
   ]
  },
  {
   "cell_type": "code",
   "execution_count": 14,
   "id": "technical-grace",
   "metadata": {},
   "outputs": [],
   "source": [
    "#filter only company data\n",
    "#filer to company after 2000\n",
    "mask1 = org_df_v2['primary_role'] == 'company'\n",
    "mask2 = org_df_v2['founded_on'] > '2000-01-01'\n",
    "org_df_v3 = org_df_v2[mask1 & mask2]"
   ]
  },
  {
   "cell_type": "code",
   "execution_count": 15,
   "id": "hired-subsection",
   "metadata": {},
   "outputs": [
    {
     "data": {
      "text/plain": [
       "Index(['org_uuid', 'name', 'legal_name', 'homepage_url', 'country_code',\n",
       "       'state_code', 'region', 'city', 'address', 'postal_code', 'status',\n",
       "       'short_description', 'category_list', 'category_groups_list',\n",
       "       'num_funding_rounds', 'total_funding_usd', 'total_funding',\n",
       "       'total_funding_currency_code', 'founded_on', 'last_funding_on',\n",
       "       'closed_on', 'employee_count', 'email', 'phone', 'facebook_url',\n",
       "       'linkedin_url', 'twitter_url', 'logo_url', 'primary_role', 'num_exits'],\n",
       "      dtype='object')"
      ]
     },
     "execution_count": 15,
     "metadata": {},
     "output_type": "execute_result"
    }
   ],
   "source": [
    "org_df_v3.columns"
   ]
  },
  {
   "cell_type": "code",
   "execution_count": 16,
   "id": "native-turner",
   "metadata": {},
   "outputs": [
    {
     "data": {
      "text/plain": [
       "153048"
      ]
     },
     "execution_count": 16,
     "metadata": {},
     "output_type": "execute_result"
    }
   ],
   "source": [
    "len(org_df_v3)"
   ]
  },
  {
   "cell_type": "markdown",
   "id": "intensive-farmer",
   "metadata": {},
   "source": [
    "# Organization Description"
   ]
  },
  {
   "cell_type": "code",
   "execution_count": 17,
   "id": "bottom-tactics",
   "metadata": {},
   "outputs": [],
   "source": [
    "#import organisations description.csv\n",
    "org_desc_df = pd.read_csv(R\"d:/msc-project/data/bulk_export_122020/organization_descriptions.csv\",encoding='utf-8')"
   ]
  },
  {
   "cell_type": "code",
   "execution_count": 18,
   "id": "chronic-bailey",
   "metadata": {},
   "outputs": [
    {
     "data": {
      "text/plain": [
       "Index(['uuid', 'name', 'type', 'permalink', 'cb_url', 'rank', 'created_at',\n",
       "       'updated_at', 'description'],\n",
       "      dtype='object')"
      ]
     },
     "execution_count": 18,
     "metadata": {},
     "output_type": "execute_result"
    }
   ],
   "source": [
    "org_desc_df.columns"
   ]
  },
  {
   "cell_type": "code",
   "execution_count": 19,
   "id": "smart-coating",
   "metadata": {},
   "outputs": [],
   "source": [
    "#drop uneseccary columns\n",
    "org_desc_df_v1 = org_desc_df.drop(columns = ['name', 'type', 'permalink', 'cb_url', 'rank', 'created_at',\n",
    "       'updated_at'])"
   ]
  },
  {
   "cell_type": "code",
   "execution_count": 20,
   "id": "noticed-japan",
   "metadata": {},
   "outputs": [
    {
     "data": {
      "text/plain": [
       "Index(['uuid', 'description'], dtype='object')"
      ]
     },
     "execution_count": 20,
     "metadata": {},
     "output_type": "execute_result"
    }
   ],
   "source": [
    "org_desc_df_v1.columns"
   ]
  },
  {
   "cell_type": "code",
   "execution_count": 21,
   "id": "altered-bubble",
   "metadata": {},
   "outputs": [],
   "source": [
    "org_desc_df_v1.rename(columns={'uuid':'org_uuid'},inplace=True)"
   ]
  },
  {
   "cell_type": "code",
   "execution_count": 22,
   "id": "allied-darkness",
   "metadata": {},
   "outputs": [
    {
     "data": {
      "text/plain": [
       "Index(['org_uuid', 'description'], dtype='object')"
      ]
     },
     "execution_count": 22,
     "metadata": {},
     "output_type": "execute_result"
    }
   ],
   "source": [
    "org_desc_df_v1.columns"
   ]
  },
  {
   "cell_type": "code",
   "execution_count": null,
   "id": "comfortable-spirituality",
   "metadata": {},
   "outputs": [],
   "source": [
    "#combine with main org file\n",
    "main_org_df_v1 = pd.merge (org_df_v3,org_desc_df_v1,\n",
    "                         how='left',\n",
    "                         on='org_uuid'\n",
    "                         )"
   ]
  },
  {
   "cell_type": "code",
   "execution_count": null,
   "id": "increased-furniture",
   "metadata": {},
   "outputs": [],
   "source": [
    "main_org_df_v1.columns"
   ]
  },
  {
   "cell_type": "code",
   "execution_count": null,
   "id": "possible-trial",
   "metadata": {},
   "outputs": [],
   "source": [
    "len(main_org_df_v1)"
   ]
  },
  {
   "cell_type": "markdown",
   "id": "extraordinary-revolution",
   "metadata": {},
   "source": [
    "# IPOs"
   ]
  },
  {
   "cell_type": "code",
   "execution_count": null,
   "id": "guided-suggestion",
   "metadata": {},
   "outputs": [],
   "source": [
    "#import ipos.csv\n",
    "ipos_df = pd.read_csv(R\"d:\\\\msc-project\\data\\bulk_export_122020\\ipos.csv\",encoding='utf-8')"
   ]
  },
  {
   "cell_type": "code",
   "execution_count": null,
   "id": "requested-flower",
   "metadata": {},
   "outputs": [],
   "source": [
    "ipos_df.columns"
   ]
  },
  {
   "cell_type": "code",
   "execution_count": null,
   "id": "forward-edmonton",
   "metadata": {},
   "outputs": [],
   "source": [
    "#drop unecessary columns\n",
    "ipos_df_v1 = ipos_df.drop (columns = ['name','type','permalink', 'cb_url', 'rank', 'created_at',\n",
    "       'updated_at','org_name', 'org_cb_url', 'country_code',\n",
    "       'state_code', 'region', 'city'])"
   ]
  },
  {
   "cell_type": "code",
   "execution_count": null,
   "id": "ruled-contrary",
   "metadata": {},
   "outputs": [],
   "source": [
    "ipos_df_v1.columns"
   ]
  },
  {
   "cell_type": "code",
   "execution_count": null,
   "id": "trained-motel",
   "metadata": {},
   "outputs": [],
   "source": [
    "ipos_df_v1.rename (columns = {'uuid':'ipo_uuid',},inplace=True)"
   ]
  },
  {
   "cell_type": "code",
   "execution_count": null,
   "id": "excessive-rolling",
   "metadata": {},
   "outputs": [],
   "source": [
    "#Show the value of NaN for every colum\n",
    "ipos_df_v1.isnull().sum(axis = 0)"
   ]
  },
  {
   "cell_type": "code",
   "execution_count": null,
   "id": "arbitrary-evanescence",
   "metadata": {},
   "outputs": [],
   "source": [
    "ipos_df_v1.columns"
   ]
  },
  {
   "cell_type": "code",
   "execution_count": null,
   "id": "domestic-clerk",
   "metadata": {},
   "outputs": [],
   "source": [
    "#drop duplicates and only keep the first IPO\n",
    "ipos_df_v1.sort_values(by = ['org_uuid','went_public_on'],inplace=True,na_position='last',ignore_index=True)\n",
    "ipos_df_v2 = ipos_df_v1.drop_duplicates(subset=['org_uuid'],keep='first')"
   ]
  },
  {
   "cell_type": "code",
   "execution_count": null,
   "id": "healthy-bahamas",
   "metadata": {},
   "outputs": [],
   "source": [
    "len(ipos_df_v1)"
   ]
  },
  {
   "cell_type": "code",
   "execution_count": null,
   "id": "invalid-child",
   "metadata": {},
   "outputs": [],
   "source": [
    "len(ipos_df_v2)"
   ]
  },
  {
   "cell_type": "code",
   "execution_count": null,
   "id": "social-alexander",
   "metadata": {},
   "outputs": [],
   "source": [
    "main_org_df_v2 = pd.merge(main_org_df_v1,ipos_df_v2,\n",
    "                        how = 'left',\n",
    "                         on='org_uuid')"
   ]
  },
  {
   "cell_type": "code",
   "execution_count": null,
   "id": "ordinary-forestry",
   "metadata": {},
   "outputs": [],
   "source": [
    "len(main_org_df_v1)"
   ]
  },
  {
   "cell_type": "code",
   "execution_count": null,
   "id": "waiting-parts",
   "metadata": {},
   "outputs": [],
   "source": [
    "len(main_org_df_v2)"
   ]
  },
  {
   "cell_type": "code",
   "execution_count": null,
   "id": "virgin-casino",
   "metadata": {},
   "outputs": [],
   "source": [
    "main_org_df_v2.columns"
   ]
  },
  {
   "cell_type": "markdown",
   "id": "sitting-bookmark",
   "metadata": {},
   "source": [
    "# Acquisitions"
   ]
  },
  {
   "cell_type": "code",
   "execution_count": null,
   "id": "reserved-neighbor",
   "metadata": {},
   "outputs": [],
   "source": [
    "#import acquisitions.csv\n",
    "acquisitions_df = pd.read_csv(R\"d:\\\\msc-project\\data\\bulk_export_122020\\acquisitions.csv\",encoding='utf-8')"
   ]
  },
  {
   "cell_type": "code",
   "execution_count": null,
   "id": "bibliographic-academy",
   "metadata": {},
   "outputs": [],
   "source": [
    "acquisitions_df.columns"
   ]
  },
  {
   "cell_type": "code",
   "execution_count": null,
   "id": "fabulous-crest",
   "metadata": {},
   "outputs": [],
   "source": [
    "#drop unessary columns\n",
    "acquisitions_df_v1 = acquisitions_df.drop(columns = ['name', 'type', 'permalink', 'cb_url', 'rank', 'created_at','updated_at',\n",
    "        'acquiree_name', 'acquiree_cb_url','acquiree_country_code', 'acquiree_state_code', 'acquiree_region','acquiree_city','acquirer_cb_url'])"
   ]
  },
  {
   "cell_type": "code",
   "execution_count": null,
   "id": "protected-stephen",
   "metadata": {},
   "outputs": [],
   "source": [
    "acquisitions_df_v1.columns"
   ]
  },
  {
   "cell_type": "code",
   "execution_count": null,
   "id": "phantom-housing",
   "metadata": {},
   "outputs": [],
   "source": [
    "acquisitions_df_v1.rename (columns = {'uuid':'acquisition_uuid','acquiree_uuid':'org_uuid'},inplace=True)"
   ]
  },
  {
   "cell_type": "code",
   "execution_count": null,
   "id": "running-might",
   "metadata": {},
   "outputs": [],
   "source": [
    "acquisitions_df_v1.columns"
   ]
  },
  {
   "cell_type": "code",
   "execution_count": null,
   "id": "molecular-logic",
   "metadata": {},
   "outputs": [],
   "source": [
    "#drop duplicate acquisition to keep only the first acquisition\n",
    "acquisitions_df_v1.sort_values(by=['org_uuid','acquired_on'],na_position='last',inplace=True)\n",
    "acquisitions_df_v2 = acquisitions_df_v1.drop_duplicates(subset = ['org_uuid'],keep='first')"
   ]
  },
  {
   "cell_type": "code",
   "execution_count": null,
   "id": "organic-flight",
   "metadata": {},
   "outputs": [],
   "source": [
    "acquisitions_df_v2.acquisition_type.unique()"
   ]
  },
  {
   "cell_type": "code",
   "execution_count": null,
   "id": "rolled-logistics",
   "metadata": {},
   "outputs": [],
   "source": [
    "len(acquisitions_df_v2)"
   ]
  },
  {
   "cell_type": "code",
   "execution_count": null,
   "id": "ancient-respondent",
   "metadata": {},
   "outputs": [],
   "source": [
    "#Show the value of NaN for every colum\n",
    "acquisitions_df_v2.isnull().sum(axis = 0)"
   ]
  },
  {
   "cell_type": "code",
   "execution_count": null,
   "id": "terminal-adams",
   "metadata": {},
   "outputs": [],
   "source": [
    "acquisitions_df_v3 = acquisitions_df_v2.dropna(subset=['acquisition_type'])"
   ]
  },
  {
   "cell_type": "code",
   "execution_count": null,
   "id": "undefined-merchant",
   "metadata": {},
   "outputs": [],
   "source": [
    "acquisitions_df_v3.isnull().sum(axis=0)"
   ]
  },
  {
   "cell_type": "code",
   "execution_count": null,
   "id": "loved-george",
   "metadata": {},
   "outputs": [],
   "source": [
    "len(acquisitions_df_v3)"
   ]
  },
  {
   "cell_type": "code",
   "execution_count": null,
   "id": "public-refrigerator",
   "metadata": {},
   "outputs": [],
   "source": [
    "len(acquisitions_df)"
   ]
  },
  {
   "cell_type": "code",
   "execution_count": null,
   "id": "arbitrary-astrology",
   "metadata": {},
   "outputs": [],
   "source": [
    "main_org_df_v3 = pd.merge(main_org_df_v2,acquisitions_df_v3,\n",
    "                        on='org_uuid'\n",
    "                        ,how = 'left')"
   ]
  },
  {
   "cell_type": "code",
   "execution_count": null,
   "id": "healthy-worst",
   "metadata": {},
   "outputs": [],
   "source": [
    "len(main_org_df_v2)"
   ]
  },
  {
   "cell_type": "code",
   "execution_count": null,
   "id": "minor-split",
   "metadata": {},
   "outputs": [],
   "source": [
    "len(main_org_df_v3)"
   ]
  },
  {
   "cell_type": "code",
   "execution_count": null,
   "id": "weighted-token",
   "metadata": {},
   "outputs": [],
   "source": [
    "main_org_df_v3.columns"
   ]
  },
  {
   "cell_type": "markdown",
   "id": "bearing-honey",
   "metadata": {},
   "source": [
    "# Parent Organisation"
   ]
  },
  {
   "cell_type": "code",
   "execution_count": null,
   "id": "stylish-bobby",
   "metadata": {},
   "outputs": [],
   "source": [
    "#import parents organisation.csv\n",
    "parents_df = pd.read_csv(R\"d:/msc-project/data/bulk_export_122020/org_parents.csv\",encoding='utf-8')"
   ]
  },
  {
   "cell_type": "code",
   "execution_count": null,
   "id": "cathedral-trick",
   "metadata": {},
   "outputs": [],
   "source": [
    "parents_df.columns"
   ]
  },
  {
   "cell_type": "code",
   "execution_count": null,
   "id": "processed-preliminary",
   "metadata": {},
   "outputs": [],
   "source": [
    "parents_df_v1 = parents_df.drop(columns=['name', 'type', 'permalink', 'cb_url', 'rank', 'created_at',\n",
    "               'updated_at'])"
   ]
  },
  {
   "cell_type": "code",
   "execution_count": null,
   "id": "bulgarian-crowd",
   "metadata": {},
   "outputs": [],
   "source": [
    "parents_df_v1.columns"
   ]
  },
  {
   "cell_type": "code",
   "execution_count": null,
   "id": "several-satellite",
   "metadata": {},
   "outputs": [],
   "source": [
    "parents_df_v1.rename(columns={'uuid':'org_uuid'},inplace=True)"
   ]
  },
  {
   "cell_type": "code",
   "execution_count": null,
   "id": "helpful-accessory",
   "metadata": {},
   "outputs": [],
   "source": [
    "parents_df_v1.columns"
   ]
  },
  {
   "cell_type": "code",
   "execution_count": null,
   "id": "informative-examination",
   "metadata": {},
   "outputs": [],
   "source": [
    "parents_df_v1.isnull().sum(axis=0)"
   ]
  },
  {
   "cell_type": "code",
   "execution_count": null,
   "id": "binding-david",
   "metadata": {},
   "outputs": [],
   "source": [
    "main_org_df_v4 = pd.merge(main_org_df_v3,parents_df_v1,\n",
    "                         on = 'org_uuid',\n",
    "                         how = 'left')"
   ]
  },
  {
   "cell_type": "code",
   "execution_count": null,
   "id": "differential-convenience",
   "metadata": {},
   "outputs": [],
   "source": [
    "len(main_org_df_v3)"
   ]
  },
  {
   "cell_type": "code",
   "execution_count": null,
   "id": "critical-grant",
   "metadata": {},
   "outputs": [],
   "source": [
    "len(main_org_df_v4)"
   ]
  },
  {
   "cell_type": "code",
   "execution_count": null,
   "id": "aware-advertising",
   "metadata": {},
   "outputs": [],
   "source": [
    "main_org_df_v4.columns"
   ]
  },
  {
   "cell_type": "code",
   "execution_count": null,
   "id": "needed-entertainment",
   "metadata": {},
   "outputs": [],
   "source": [
    "main_org_df_v4.isnull().sum(axis=0)"
   ]
  },
  {
   "cell_type": "code",
   "execution_count": null,
   "id": "current-frequency",
   "metadata": {},
   "outputs": [],
   "source": [
    "main_org_df_v4.groupby('status')['org_uuid'].nunique()"
   ]
  },
  {
   "cell_type": "code",
   "execution_count": null,
   "id": "arabic-baker",
   "metadata": {},
   "outputs": [],
   "source": [
    "#save preprocessed file\n",
    "#organisations + organisations_description + ipo + acquisition + parent_organisation\n",
    "main_org_df_v4.to_csv(R\"d:/msc-project/data/pre-processed/organisations_preprocessed.csv\",encoding='utf-8',index=False)"
   ]
  },
  {
   "cell_type": "markdown",
   "id": "partial-panel",
   "metadata": {},
   "source": [
    "# Funding Rounds"
   ]
  },
  {
   "cell_type": "code",
   "execution_count": null,
   "id": "hazardous-cabinet",
   "metadata": {},
   "outputs": [],
   "source": [
    "#import funding_rounds\n",
    "funding_df = pd.read_csv(R\"d:/msc-project/data/bulk_export_122020/funding_rounds.csv\",encoding='utf-8')"
   ]
  },
  {
   "cell_type": "code",
   "execution_count": null,
   "id": "tracked-bacteria",
   "metadata": {},
   "outputs": [],
   "source": [
    "funding_df.columns"
   ]
  },
  {
   "cell_type": "code",
   "execution_count": null,
   "id": "combined-secret",
   "metadata": {},
   "outputs": [],
   "source": [
    "#drop unecessary columns\n",
    "funding_df_v1 = funding_df.drop(columns=['type','permalink', 'cb_url', 'rank', 'created_at',\n",
    "                'updated_at'])"
   ]
  },
  {
   "cell_type": "code",
   "execution_count": null,
   "id": "religious-freedom",
   "metadata": {},
   "outputs": [],
   "source": [
    "funding_df_v1.columns"
   ]
  },
  {
   "cell_type": "code",
   "execution_count": null,
   "id": "regional-price",
   "metadata": {},
   "outputs": [],
   "source": [
    "funding_df_v1.investment_type.unique()"
   ]
  },
  {
   "cell_type": "code",
   "execution_count": null,
   "id": "affected-weight",
   "metadata": {},
   "outputs": [],
   "source": [
    "funding_df_v1.rename(columns={'uuid':'funding_round_uuid'},inplace=True)"
   ]
  },
  {
   "cell_type": "code",
   "execution_count": null,
   "id": "closed-viking",
   "metadata": {},
   "outputs": [],
   "source": [
    "funding_df_v1.columns"
   ]
  },
  {
   "cell_type": "code",
   "execution_count": null,
   "id": "pressed-testament",
   "metadata": {},
   "outputs": [],
   "source": [
    "#check for NaN value\n",
    "funding_df_v1.isnull().sum(axis=0)"
   ]
  },
  {
   "cell_type": "code",
   "execution_count": null,
   "id": "breeding-reservoir",
   "metadata": {},
   "outputs": [],
   "source": [
    "funding_df_v1.groupby('investment_type')['org_uuid'].nunique()"
   ]
  },
  {
   "cell_type": "code",
   "execution_count": null,
   "id": "bigger-occasion",
   "metadata": {},
   "outputs": [],
   "source": [
    "#save preprocessed file\n",
    "funding_df_v1.to_csv(R\"d:/msc-project/data/pre-processed/funding_rounds_preprocessed.csv\",encoding='utf-8',index=False)"
   ]
  },
  {
   "cell_type": "markdown",
   "id": "refined-minority",
   "metadata": {},
   "source": [
    "# Investment"
   ]
  },
  {
   "cell_type": "code",
   "execution_count": null,
   "id": "desirable-welcome",
   "metadata": {},
   "outputs": [],
   "source": [
    "#import investment\n",
    "investments_df = pd.read_csv(R\"d:/msc-project/data/bulk_export_122020/investments.csv\",encoding='utf-8')"
   ]
  },
  {
   "cell_type": "code",
   "execution_count": null,
   "id": "structured-dress",
   "metadata": {},
   "outputs": [],
   "source": [
    "investments_df.columns"
   ]
  },
  {
   "cell_type": "code",
   "execution_count": null,
   "id": "virgin-edition",
   "metadata": {},
   "outputs": [],
   "source": [
    "#drop columns\n",
    "investments_df_v1 = investments_df.drop(columns = ['type', 'permalink', 'cb_url', 'rank', 'created_at',\n",
    "       'updated_at'])"
   ]
  },
  {
   "cell_type": "code",
   "execution_count": null,
   "id": "downtown-charger",
   "metadata": {},
   "outputs": [],
   "source": [
    "investments_df_v1.columns"
   ]
  },
  {
   "cell_type": "code",
   "execution_count": null,
   "id": "accessory-conviction",
   "metadata": {},
   "outputs": [],
   "source": [
    "investments_df_v1.rename(columns={'uuid':'investment_uuid'},inplace=True)"
   ]
  },
  {
   "cell_type": "code",
   "execution_count": null,
   "id": "adjusted-denver",
   "metadata": {},
   "outputs": [],
   "source": [
    "investments_df_v1.columns"
   ]
  },
  {
   "cell_type": "code",
   "execution_count": null,
   "id": "dirty-april",
   "metadata": {},
   "outputs": [],
   "source": [
    "investments_df_v1.isnull().sum(axis=0)"
   ]
  },
  {
   "cell_type": "code",
   "execution_count": null,
   "id": "virtual-ordinance",
   "metadata": {},
   "outputs": [],
   "source": [
    "#save preprocessed file\n",
    "investments_df_v1.to_csv(R\"d:/msc-project/data/pre-processed/investments_preprocessed.csv\",encoding='utf-8',index=False)"
   ]
  },
  {
   "cell_type": "markdown",
   "id": "wanted-knock",
   "metadata": {},
   "source": [
    "# Investors"
   ]
  },
  {
   "cell_type": "code",
   "execution_count": null,
   "id": "attempted-strike",
   "metadata": {},
   "outputs": [],
   "source": [
    "#import investors\n",
    "investors_df = pd.read_csv(R\"d:/msc-project/data/bulk_export_122020/investors.csv\",encoding='utf-8')"
   ]
  },
  {
   "cell_type": "code",
   "execution_count": null,
   "id": "dimensional-sunrise",
   "metadata": {},
   "outputs": [],
   "source": [
    "investors_df.columns"
   ]
  },
  {
   "cell_type": "code",
   "execution_count": null,
   "id": "running-swiss",
   "metadata": {},
   "outputs": [],
   "source": [
    "investors_df.head(3)"
   ]
  },
  {
   "cell_type": "code",
   "execution_count": null,
   "id": "future-bulletin",
   "metadata": {},
   "outputs": [],
   "source": [
    "len(investors_df)"
   ]
  },
  {
   "cell_type": "code",
   "execution_count": null,
   "id": "handled-wednesday",
   "metadata": {},
   "outputs": [],
   "source": [
    "#drop columns\n",
    "investors_df_v1 = investors_df.drop(columns=['permalink', 'cb_url', 'created_at',\n",
    "       'updated_at', 'roles','domain'])"
   ]
  },
  {
   "cell_type": "code",
   "execution_count": null,
   "id": "political-grade",
   "metadata": {},
   "outputs": [],
   "source": [
    "investors_df_v1.columns"
   ]
  },
  {
   "cell_type": "code",
   "execution_count": null,
   "id": "centered-school",
   "metadata": {},
   "outputs": [],
   "source": [
    "investors_df_v1.rename(columns={'uuid':'investor_uuid'},inplace=True)"
   ]
  },
  {
   "cell_type": "code",
   "execution_count": null,
   "id": "distinguished-glossary",
   "metadata": {},
   "outputs": [],
   "source": [
    "investors_df_v1.columns"
   ]
  },
  {
   "cell_type": "code",
   "execution_count": null,
   "id": "outer-duplicate",
   "metadata": {},
   "outputs": [],
   "source": [
    "investors_df_v1.isnull().sum(axis=0)"
   ]
  },
  {
   "cell_type": "code",
   "execution_count": null,
   "id": "offshore-history",
   "metadata": {},
   "outputs": [],
   "source": [
    "#save preprocessed file\n",
    "investors_df_v1.to_csv(R\"d:/msc-project/data/pre-processed/investors_preprocessed.csv\",encoding='utf-8',index=False)"
   ]
  },
  {
   "cell_type": "markdown",
   "id": "broad-alarm",
   "metadata": {},
   "source": [
    "# Investment Partner"
   ]
  },
  {
   "cell_type": "code",
   "execution_count": null,
   "id": "tight-retention",
   "metadata": {},
   "outputs": [],
   "source": [
    "#import investment partner\n",
    "investment_partner_df = pd.read_csv(R\"d:/msc-project/data/bulk_export_122020/investment_partners.csv\",encoding='utf-8')"
   ]
  },
  {
   "cell_type": "code",
   "execution_count": null,
   "id": "vietnamese-consensus",
   "metadata": {},
   "outputs": [],
   "source": [
    "investment_partner_df.columns"
   ]
  },
  {
   "cell_type": "code",
   "execution_count": null,
   "id": "integrated-mathematics",
   "metadata": {},
   "outputs": [],
   "source": [
    "investment_partner_df.head(2)"
   ]
  },
  {
   "cell_type": "code",
   "execution_count": null,
   "id": "prescription-exclusion",
   "metadata": {},
   "outputs": [],
   "source": [
    "#drop unecessary columns\n",
    "investment_partner_df_v1 = investment_partner_df.drop(columns=['name', 'type', 'permalink', 'cb_url', 'rank', 'created_at',\n",
    "       'updated_at', 'funding_round_uuid', 'funding_round_name',\n",
    "       'investor_uuid', 'investor_name'])"
   ]
  },
  {
   "cell_type": "code",
   "execution_count": null,
   "id": "greek-cooling",
   "metadata": {},
   "outputs": [],
   "source": [
    "investment_partner_df_v1.rename (columns={'uuid':'investment_uuid'},inplace=True)"
   ]
  },
  {
   "cell_type": "code",
   "execution_count": null,
   "id": "round-brass",
   "metadata": {},
   "outputs": [],
   "source": [
    "investment_partner_df_v1.columns"
   ]
  },
  {
   "cell_type": "code",
   "execution_count": null,
   "id": "controlling-saying",
   "metadata": {},
   "outputs": [],
   "source": [
    "#save preprocessed file\n",
    "investment_partner_df_v1.to_csv(R\"d:/msc-project/data/pre-processed/investment_partner_preprocessed.csv\",encoding='utf-8',index=False)"
   ]
  },
  {
   "cell_type": "markdown",
   "id": "vietnamese-compilation",
   "metadata": {},
   "source": [
    "# Funds"
   ]
  },
  {
   "cell_type": "code",
   "execution_count": null,
   "id": "educational-attempt",
   "metadata": {},
   "outputs": [],
   "source": [
    "funds_df = pd.read_csv(R\"d:/msc-project/data/bulk_export_122020/funds.csv\",encoding='utf-8')"
   ]
  },
  {
   "cell_type": "code",
   "execution_count": null,
   "id": "verbal-majority",
   "metadata": {},
   "outputs": [],
   "source": [
    "funds_df.columns"
   ]
  },
  {
   "cell_type": "code",
   "execution_count": null,
   "id": "chinese-chrome",
   "metadata": {},
   "outputs": [],
   "source": [
    "funds_df.head(2)"
   ]
  },
  {
   "cell_type": "code",
   "execution_count": null,
   "id": "considered-japan",
   "metadata": {},
   "outputs": [],
   "source": [
    "funds_df_v1 = funds_df.drop(columns = ['type', 'permalink', 'cb_url', 'rank', 'created_at',\n",
    "       'updated_at'])"
   ]
  },
  {
   "cell_type": "code",
   "execution_count": null,
   "id": "taken-keeping",
   "metadata": {},
   "outputs": [],
   "source": [
    "funds_df_v1.isnull().sum(axis=0)"
   ]
  },
  {
   "cell_type": "code",
   "execution_count": null,
   "id": "connected-pierce",
   "metadata": {},
   "outputs": [],
   "source": [
    "funds_df_v1.rename(columns={'uuid':'fund_uuid','entity_uuid':'org_uuid'},inplace=True)"
   ]
  },
  {
   "cell_type": "code",
   "execution_count": null,
   "id": "yellow-technical",
   "metadata": {},
   "outputs": [],
   "source": [
    "funds_df_v1.columns"
   ]
  },
  {
   "cell_type": "code",
   "execution_count": null,
   "id": "stone-retailer",
   "metadata": {},
   "outputs": [],
   "source": [
    "#save preprocessed file\n",
    "funds_df_v1.to_csv(R\"d:/msc-project/data/pre-processed/funds_preprocessed.csv\",encoding='utf-8',index=False)"
   ]
  },
  {
   "cell_type": "markdown",
   "id": "seeing-cradle",
   "metadata": {},
   "source": [
    "# Events"
   ]
  },
  {
   "cell_type": "code",
   "execution_count": null,
   "id": "joint-housing",
   "metadata": {},
   "outputs": [],
   "source": [
    "#import events.csv\n",
    "events_df = pd.read_csv(R\"d:/msc-project/data/bulk_export_122020/events.csv\",encoding='utf-8')"
   ]
  },
  {
   "cell_type": "code",
   "execution_count": null,
   "id": "behind-retailer",
   "metadata": {},
   "outputs": [],
   "source": [
    "events_df.columns"
   ]
  },
  {
   "cell_type": "code",
   "execution_count": null,
   "id": "unusual-thing",
   "metadata": {},
   "outputs": [],
   "source": [
    "events_df.head(3)"
   ]
  },
  {
   "cell_type": "code",
   "execution_count": null,
   "id": "harmful-programming",
   "metadata": {},
   "outputs": [],
   "source": [
    "events_df_v1 = events_df.drop (columns = ['type', 'permalink', 'cb_url', 'rank', 'created_at',\n",
    "       'updated_at','event_url', 'registration_url', 'venue_name','logo_url'])"
   ]
  },
  {
   "cell_type": "code",
   "execution_count": null,
   "id": "bacterial-robert",
   "metadata": {},
   "outputs": [],
   "source": [
    "events_df_v1.rename(columns = {'uuid':'event_uuid'},inplace=True)"
   ]
  },
  {
   "cell_type": "code",
   "execution_count": null,
   "id": "supposed-reset",
   "metadata": {},
   "outputs": [],
   "source": [
    "events_df_v1.columns"
   ]
  },
  {
   "cell_type": "code",
   "execution_count": null,
   "id": "honest-jacksonville",
   "metadata": {},
   "outputs": [],
   "source": [
    "events_df_v1.isnull().sum(axis=0)"
   ]
  },
  {
   "cell_type": "code",
   "execution_count": null,
   "id": "impressive-postcard",
   "metadata": {},
   "outputs": [],
   "source": [
    "#save preprocessed file\n",
    "events_df_v1.to_csv(R\"d:/msc-project/data/pre-processed/events_preprocessed.csv\",encoding='utf-8',index=False)"
   ]
  },
  {
   "cell_type": "markdown",
   "id": "canadian-alcohol",
   "metadata": {},
   "source": [
    "# Event Appearances"
   ]
  },
  {
   "cell_type": "code",
   "execution_count": null,
   "id": "forced-consequence",
   "metadata": {},
   "outputs": [],
   "source": [
    "#import event_appearances.csv\n",
    "event_appear_df = pd.read_csv(R\"d:/msc-project/data/bulk_export_122020/event_appearances.csv\",encoding='utf-8')"
   ]
  },
  {
   "cell_type": "code",
   "execution_count": null,
   "id": "tight-laugh",
   "metadata": {},
   "outputs": [],
   "source": [
    "event_appear_df.columns"
   ]
  },
  {
   "cell_type": "code",
   "execution_count": null,
   "id": "sound-shade",
   "metadata": {},
   "outputs": [],
   "source": [
    "event_appear_df.head(3)"
   ]
  },
  {
   "cell_type": "code",
   "execution_count": null,
   "id": "limited-blocking",
   "metadata": {},
   "outputs": [],
   "source": [
    "#drop unecessary columns\n",
    "event_appear_df_v1 = event_appear_df.drop (columns = ['permalink', 'cb_url', 'rank', 'created_at',\n",
    "       'updated_at'])"
   ]
  },
  {
   "cell_type": "code",
   "execution_count": null,
   "id": "continuing-conflict",
   "metadata": {},
   "outputs": [],
   "source": [
    "event_appear_df_v1.columns"
   ]
  },
  {
   "cell_type": "code",
   "execution_count": null,
   "id": "dying-meditation",
   "metadata": {},
   "outputs": [],
   "source": [
    "event_appear_df_v1.participant_type.unique()"
   ]
  },
  {
   "cell_type": "code",
   "execution_count": null,
   "id": "structured-carry",
   "metadata": {},
   "outputs": [],
   "source": [
    "event_appear_df_v1.appearance_type.unique()"
   ]
  },
  {
   "cell_type": "code",
   "execution_count": null,
   "id": "known-baking",
   "metadata": {},
   "outputs": [],
   "source": [
    "event_appear_df_v1.rename(columns={'uuid':'event_appear_uuid','name':'event_appear_name'},inplace=True)"
   ]
  },
  {
   "cell_type": "code",
   "execution_count": null,
   "id": "corresponding-search",
   "metadata": {},
   "outputs": [],
   "source": [
    "event_appear_df_v1.isnull().sum(axis=0)"
   ]
  },
  {
   "cell_type": "code",
   "execution_count": null,
   "id": "experienced-somalia",
   "metadata": {},
   "outputs": [],
   "source": [
    "#save preprocessed file\n",
    "event_appear_df_v1.to_csv(R\"d:/msc-project/data/pre-processed/event_appearances_preprocessed.csv\",encoding='utf-8',index=False)"
   ]
  },
  {
   "cell_type": "markdown",
   "id": "falling-laptop",
   "metadata": {},
   "source": [
    "# People"
   ]
  },
  {
   "cell_type": "code",
   "execution_count": null,
   "id": "nominated-shopper",
   "metadata": {},
   "outputs": [],
   "source": [
    "#import people.csv\n",
    "people_df = pd.read_csv(R\"d:/msc-project/data/bulk_export_122020/people.csv\",encoding='utf-8')"
   ]
  },
  {
   "cell_type": "code",
   "execution_count": null,
   "id": "unauthorized-armenia",
   "metadata": {},
   "outputs": [],
   "source": [
    "people_df.columns"
   ]
  },
  {
   "cell_type": "code",
   "execution_count": null,
   "id": "enclosed-syntax",
   "metadata": {},
   "outputs": [],
   "source": [
    "#drop unecessary column\n",
    "people_df_v1 = people_df.drop(columns = ['type', 'permalink', 'cb_url', 'rank', 'created_at',\n",
    "       'updated_at'])"
   ]
  },
  {
   "cell_type": "code",
   "execution_count": null,
   "id": "bored-component",
   "metadata": {},
   "outputs": [],
   "source": [
    "people_df_v1.columns"
   ]
  },
  {
   "cell_type": "code",
   "execution_count": null,
   "id": "preceding-database",
   "metadata": {},
   "outputs": [],
   "source": [
    "#change column name\n",
    "people_df_v1.rename (columns = {'uuid':'people_uuid','name':'people_name','featured_job_organization_uuid':'org_uuid'},inplace=True)"
   ]
  },
  {
   "cell_type": "code",
   "execution_count": null,
   "id": "eleven-bracket",
   "metadata": {},
   "outputs": [],
   "source": [
    "people_df_v1.head(3)"
   ]
  },
  {
   "cell_type": "code",
   "execution_count": null,
   "id": "technological-march",
   "metadata": {},
   "outputs": [],
   "source": [
    "#Check number of NA value\n",
    "people_df_v1.isnull().sum(axis=0)"
   ]
  },
  {
   "cell_type": "code",
   "execution_count": null,
   "id": "psychological-shoot",
   "metadata": {},
   "outputs": [],
   "source": [
    "people_df_v2 = people_df_v1.dropna(subset=['gender','org_uuid'])"
   ]
  },
  {
   "cell_type": "code",
   "execution_count": null,
   "id": "cooperative-whale",
   "metadata": {},
   "outputs": [],
   "source": [
    "len(people_df_v2)"
   ]
  },
  {
   "cell_type": "code",
   "execution_count": null,
   "id": "alpha-words",
   "metadata": {},
   "outputs": [],
   "source": [
    "len(people_df)"
   ]
  },
  {
   "cell_type": "markdown",
   "id": "minus-tobacco",
   "metadata": {},
   "source": [
    "# People Description"
   ]
  },
  {
   "cell_type": "code",
   "execution_count": null,
   "id": "treated-archives",
   "metadata": {},
   "outputs": [],
   "source": [
    "#import people.csv\n",
    "people_desc_df = pd.read_csv(R\"d:/msc-project/data/bulk_export_122020/people_descriptions.csv\",encoding='utf-8')"
   ]
  },
  {
   "cell_type": "code",
   "execution_count": null,
   "id": "potential-spank",
   "metadata": {},
   "outputs": [],
   "source": [
    "people_desc_df.columns"
   ]
  },
  {
   "cell_type": "code",
   "execution_count": null,
   "id": "regulated-hampton",
   "metadata": {},
   "outputs": [],
   "source": [
    "#drop unecessary columns\n",
    "people_desc_df_v1 = people_desc_df.drop (columns=['name', 'type', 'permalink', 'cb_url', 'rank', 'created_at',\n",
    "       'updated_at'])"
   ]
  },
  {
   "cell_type": "code",
   "execution_count": null,
   "id": "suburban-elder",
   "metadata": {},
   "outputs": [],
   "source": [
    "people_desc_df_v1.columns"
   ]
  },
  {
   "cell_type": "code",
   "execution_count": null,
   "id": "improving-being",
   "metadata": {},
   "outputs": [],
   "source": [
    "#change column name\n",
    "people_desc_df_v1.rename(columns = {'uuid':'people_uuid'},inplace=True)"
   ]
  },
  {
   "cell_type": "code",
   "execution_count": null,
   "id": "parallel-grill",
   "metadata": {},
   "outputs": [],
   "source": [
    "#check NA\n",
    "people_desc_df_v1.isnull().sum(axis=0)"
   ]
  },
  {
   "cell_type": "code",
   "execution_count": null,
   "id": "abandoned-biotechnology",
   "metadata": {},
   "outputs": [],
   "source": [
    "#drop data with NA\n",
    "people_desc_df_v2 = people_desc_df_v1.dropna (subset=['description'])"
   ]
  },
  {
   "cell_type": "code",
   "execution_count": null,
   "id": "hydraulic-maintenance",
   "metadata": {},
   "outputs": [],
   "source": [
    "#merge with main people data\n",
    "main_people_df_v1 = pd.merge(people_df_v2,\n",
    "                            people_desc_df_v2,\n",
    "                            on='people_uuid',\n",
    "                            how='left')"
   ]
  },
  {
   "cell_type": "code",
   "execution_count": null,
   "id": "macro-barcelona",
   "metadata": {},
   "outputs": [],
   "source": [
    "main_people_df_v1.columns"
   ]
  },
  {
   "cell_type": "code",
   "execution_count": null,
   "id": "authorized-mining",
   "metadata": {},
   "outputs": [],
   "source": [
    "len(people_df_v2)"
   ]
  },
  {
   "cell_type": "code",
   "execution_count": null,
   "id": "local-baker",
   "metadata": {},
   "outputs": [],
   "source": [
    "len(main_people_df_v1)"
   ]
  },
  {
   "cell_type": "code",
   "execution_count": null,
   "id": "thrown-cricket",
   "metadata": {},
   "outputs": [],
   "source": [
    "#save preprocessed file\n",
    "#people + people description\n",
    "main_people_df_v1.to_csv(R\"d:/msc-project/data/pre-processed/people_preprocessed.csv\",encoding='utf-8',index=False)"
   ]
  },
  {
   "cell_type": "markdown",
   "id": "sonic-entrepreneur",
   "metadata": {},
   "source": [
    "# Degrees"
   ]
  },
  {
   "cell_type": "code",
   "execution_count": null,
   "id": "interesting-assumption",
   "metadata": {},
   "outputs": [],
   "source": [
    "#import degress.csv\n",
    "deg_df = pd.read_csv(R\"d:/msc-project/data/bulk_export_122020/degrees.csv\",encoding='utf-8')"
   ]
  },
  {
   "cell_type": "code",
   "execution_count": null,
   "id": "monthly-opening",
   "metadata": {},
   "outputs": [],
   "source": [
    "deg_df.columns"
   ]
  },
  {
   "cell_type": "code",
   "execution_count": null,
   "id": "persistent-rhythm",
   "metadata": {},
   "outputs": [],
   "source": [
    "deg_df.head(2)"
   ]
  },
  {
   "cell_type": "code",
   "execution_count": null,
   "id": "through-attitude",
   "metadata": {},
   "outputs": [],
   "source": [
    "#drop uncessary columns\n",
    "deg_df_v1 = deg_df.drop(columns = ['type', 'permalink', 'cb_url', 'rank', 'created_at',\n",
    "       'updated_at'])"
   ]
  },
  {
   "cell_type": "code",
   "execution_count": null,
   "id": "married-playback",
   "metadata": {},
   "outputs": [],
   "source": [
    "deg_df_v1.columns"
   ]
  },
  {
   "cell_type": "code",
   "execution_count": null,
   "id": "centered-catalog",
   "metadata": {},
   "outputs": [],
   "source": [
    "#change column name\n",
    "deg_df_v1.rename(columns = {'uuid':'deg_uuid','name':'deg_name','person_uuid':'people_uuid'},inplace=True)"
   ]
  },
  {
   "cell_type": "code",
   "execution_count": null,
   "id": "occupied-search",
   "metadata": {},
   "outputs": [],
   "source": [
    "deg_df_v1.columns"
   ]
  },
  {
   "cell_type": "code",
   "execution_count": null,
   "id": "close-insight",
   "metadata": {},
   "outputs": [],
   "source": [
    "deg_df_v1.replace(to_replace='unknown',value='NaN',inplace=True)\n",
    "deg_df_v1.replace(to_replace='Unknown',value='NaN',inplace=True)\n",
    "deg_df_v1.isnull().sum(axis=0)"
   ]
  },
  {
   "cell_type": "code",
   "execution_count": null,
   "id": "functional-atlas",
   "metadata": {},
   "outputs": [],
   "source": [
    "deg_df_v2 = deg_df_v1[deg_df_v1.is_completed]"
   ]
  },
  {
   "cell_type": "code",
   "execution_count": null,
   "id": "common-adult",
   "metadata": {},
   "outputs": [],
   "source": [
    "#drop degree with no degree type and subject\n",
    "deg_df_v3 = deg_df_v2.dropna(subset=['degree_type','subject'])\n",
    "deg_df_v3 = deg_df_v3[deg_df_v3['degree_type'] != 'NaN']"
   ]
  },
  {
   "cell_type": "code",
   "execution_count": null,
   "id": "piano-bearing",
   "metadata": {},
   "outputs": [],
   "source": [
    "deg_df_v3.isnull().sum(axis=0)"
   ]
  },
  {
   "cell_type": "code",
   "execution_count": null,
   "id": "automotive-breakfast",
   "metadata": {},
   "outputs": [],
   "source": [
    "len(deg_df)"
   ]
  },
  {
   "cell_type": "code",
   "execution_count": null,
   "id": "editorial-scratch",
   "metadata": {},
   "outputs": [],
   "source": [
    "len(deg_df_v3)"
   ]
  },
  {
   "cell_type": "code",
   "execution_count": null,
   "id": "pointed-river",
   "metadata": {},
   "outputs": [],
   "source": [
    "#classify degree type by checking indicator in degree type for for bachelor, masters, and phd\n",
    "end = len(deg_df_v3)\n",
    "is_bachelor = [0]*end\n",
    "is_master = [0]*end\n",
    "is_phd = [0]*end\n",
    "is_mba = [0]*end\n",
    "is_stem = [0]*end\n",
    "\n",
    "deg_type = list(deg_df_v3['degree_type'])\n",
    "subjects = list(deg_df_v3['subject'])\n",
    "\n",
    "for i in range (0,end):\n",
    "    deg = deg_type[i]\n",
    "    deg = re.sub('[^A-Za-z]+', '', str(deg).lower())\n",
    "\n",
    "    sub = subjects[i]\n",
    "    sub = re.sub('[^A-Za-z]+', '', str(sub).lower())\n",
    "    \n",
    "    #check for phd and assign 1 if yes\n",
    "    cond1 = 'phd' in deg\n",
    "    cond2 = 'dphil' in deg\n",
    "    cond3 = 'dba' in deg\n",
    "    cond4 = 'engd' in deg\n",
    "    cond5 = 'doctor' in deg\n",
    "    cond6 = 'edd' in deg\n",
    "    cond7 = 'ded' in deg\n",
    "    cond8 = 'dsocsci' in deg\n",
    "    cond9 = 'dprof' in deg\n",
    "    cond10 = 'darch' in deg\n",
    "    cond11 = 'md' in deg\n",
    "    cond12 = 'thd' in deg\n",
    "    cond13 = 'ddiv' in deg\n",
    "    cond14 = 'dsc' in deg\n",
    "    cond15 = 'scd' in deg\n",
    "    cond16 = 'dlitt' in deg\n",
    "    cond17 = 'litd' in deg\n",
    "    cond43 = 'jd' in deg\n",
    "    \n",
    "    #check for master and assign 1 if yes\n",
    "    cond18 = 'master' in deg\n",
    "    cond19 = 'msc' in deg\n",
    "    cond20 = 'mba' in deg\n",
    "    cond21 = 'ma' in deg\n",
    "    cond22 = 'mfa' in deg\n",
    "    cond23 = 'mlitt' in deg\n",
    "    cond24 = 'llm' in deg\n",
    "    cond25 = 'mres' in deg\n",
    "    cond26 = 'mphil' in deg\n",
    "    cond27 = 'masters' in deg\n",
    "    cond31 = 'ms' in deg\n",
    "    cond41 = 'mpa' in deg\n",
    "    cond44 = 'meng' in deg\n",
    "    cond45 = 'mlis' in deg\n",
    "    cond46 = 'mis' in deg\n",
    "    cond47 = 'mpp' in deg\n",
    "    cond48 = 'mha' in deg\n",
    "    cond49 = 'med' in deg\n",
    "    cond50 = 'mca' in deg\n",
    "    cond51 = 'me' in deg\n",
    "    cond52 = 'mm' in deg\n",
    "    cond54 = 'post graduate' in deg\n",
    "    cond55 = 'postgraduate' in deg\n",
    "    cond62 = 'mba' in sub\n",
    "    \n",
    "    #check for bachelor and assign is_bachelor as 1 if yes\n",
    "    cond28 = 'bachelor' in deg\n",
    "    cond29 = 'bsc' in deg\n",
    "    cond30 = 'ba' in deg\n",
    "    cond32 = 'bs' in deg\n",
    "    cond33 = 'beng' in deg\n",
    "    cond34 = 'btech' in deg\n",
    "    cond35 = 'llb' in deg\n",
    "    cond36 = 'bfa' in deg\n",
    "    cond37 = 'bcom' in deg\n",
    "    cond38 = 'blaw' in deg\n",
    "    cond39 = 'bca' in deg\n",
    "    cond40 = 'be' in deg\n",
    "    cond42 = 'degree' in deg\n",
    "    cond53 = 'bit' in deg\n",
    "    cond56 = 'undergraduate' in deg\n",
    "    cond57 = 'under graduate' in deg\n",
    "    cond58 = 'graduate' in deg\n",
    "    cond59 = 'ab' in deg\n",
    "    cond60 = 'as' in deg\n",
    "    cond61 = 'aa' in deg\n",
    "    \n",
    "    if cond1 or cond2 or cond3 or cond4 or cond5 or cond6 or cond7 or cond8 or cond9 or cond10 or cond11 or cond12 or cond13 or cond14 or cond15 or cond16 or cond17 or cond43:\n",
    "        is_phd[i] = 1\n",
    "    \n",
    "    elif cond18 or cond19 or cond20 or cond21 or cond22 or cond23 or cond24 or cond25 or cond26 or cond27 or cond31 or cond41 or cond44 or cond45 or cond46 or cond47 or cond48 or cond49 or cond50 or cond51 or cond52 or cond54 or cond55 or cond62:\n",
    "        is_master[i] = 1\n",
    "    \n",
    "    elif cond28 or cond29 or cond30 or cond32 or cond33 or cond34 or cond35 or cond36 or cond37 or cond38 or cond39 or cond40 or cond42 or cond53 or cond56 or cond57 or cond58 or cond59 or cond60 or cond61: \n",
    "        is_bachelor[i] = 1\n",
    "\n",
    "    #Check for mba\n",
    "    cond1 = 'mba' in deg\n",
    "    cond2 = 'mba' in sub\n",
    "    if cond1 or cond2:\n",
    "        is_mba[i] = 1\n",
    "    \n",
    "    #check for stem\n",
    "    cond1 = 'bsc' in deg\n",
    "    cond2 = 'msc' in deg\n",
    "    cond3 = 'dsc' in deg\n",
    "    cond4 = 'scd' in deg\n",
    "    cond5 = 'bs' in deg\n",
    "    cond6 = 'ms' in deg\n",
    "    cond7 = 'as' in deg\n",
    "    \n",
    "    if cond1 or cond2 or cond3 or cond4 or cond5 or cond6 or cond7:\n",
    "        is_stem[i] = 1\n",
    "        \n",
    "deg_df_v3['is_bachelor'] = is_bachelor\n",
    "deg_df_v3['is_master'] = is_master\n",
    "deg_df_v3['is_phd'] = is_phd\n",
    "deg_df_v3['is_mba'] = is_mba\n",
    "deg_df_v3['is_stem'] = is_stem"
   ]
  },
  {
   "cell_type": "code",
   "execution_count": null,
   "id": "expired-puppy",
   "metadata": {},
   "outputs": [],
   "source": [
    "len(deg_df_v3)"
   ]
  },
  {
   "cell_type": "code",
   "execution_count": null,
   "id": "sapphire-ozone",
   "metadata": {},
   "outputs": [],
   "source": [
    "list(deg_df_v3.is_bachelor).count(1)"
   ]
  },
  {
   "cell_type": "code",
   "execution_count": null,
   "id": "integral-peoples",
   "metadata": {},
   "outputs": [],
   "source": [
    "list(deg_df_v3.is_master).count(1)"
   ]
  },
  {
   "cell_type": "code",
   "execution_count": null,
   "id": "headed-islam",
   "metadata": {},
   "outputs": [],
   "source": [
    "list(deg_df_v3.is_phd).count(1)"
   ]
  },
  {
   "cell_type": "code",
   "execution_count": null,
   "id": "saved-maker",
   "metadata": {},
   "outputs": [],
   "source": [
    "list(deg_df_v3.is_mba).count(1)"
   ]
  },
  {
   "cell_type": "code",
   "execution_count": null,
   "id": "revolutionary-telephone",
   "metadata": {},
   "outputs": [],
   "source": [
    "list(deg_df_v3.is_stem).count(1)"
   ]
  },
  {
   "cell_type": "code",
   "execution_count": null,
   "id": "elementary-relevance",
   "metadata": {},
   "outputs": [],
   "source": [
    "mask1 = deg_df_v3['is_bachelor'] == 0\n",
    "mask2 = deg_df_v3['is_master'] == 0\n",
    "mask3 = deg_df_v3['is_phd'] == 0"
   ]
  },
  {
   "cell_type": "code",
   "execution_count": null,
   "id": "alien-community",
   "metadata": {},
   "outputs": [],
   "source": [
    "len(deg_df_v3[mask1 & mask2 & mask3])"
   ]
  },
  {
   "cell_type": "code",
   "execution_count": null,
   "id": "opening-finance",
   "metadata": {},
   "outputs": [],
   "source": [
    "#save preprocessed file\n",
    "deg_df_v3.to_csv(R\"d:/msc-project/data/pre-processed/degrees_preprocessed.csv\",encoding='utf-8',index=False)"
   ]
  },
  {
   "cell_type": "code",
   "execution_count": null,
   "id": "remarkable-livestock",
   "metadata": {},
   "outputs": [],
   "source": [
    "#assign ivy league universities\n",
    "ivy_league_list = ['harvard university','yale university','princeton university','columbia university',\n",
    "                   'brown university', 'dartmouth college','university of pennsylvania', 'cornell university']\n",
    "\n",
    "inst_name = deg_df_v3['institution_name']\n",
    "is_ivy_league = list()\n",
    "\n",
    "for inst in inst_name:\n",
    "    inst = inst.lower()\n",
    "    if inst in ivy_league_list:\n",
    "        is_ivy_league.append(1)\n",
    "    else:\n",
    "        is_ivy_league.append(0)\n",
    "\n",
    "deg_df_v3['is_ivy_league'] = is_ivy_league"
   ]
  },
  {
   "cell_type": "code",
   "execution_count": null,
   "id": "continuous-cliff",
   "metadata": {},
   "outputs": [],
   "source": [
    "#save preprocessed file\n",
    "deg_df_v3.to_csv(R\"d:/msc-project/data/pre-processed/degrees_preprocessed.csv\",encoding='utf-8',index=False)"
   ]
  },
  {
   "cell_type": "code",
   "execution_count": null,
   "id": "multiple-restaurant",
   "metadata": {},
   "outputs": [],
   "source": [
    "#assign top 100 school based on 2020 QS ranking\n",
    "\n",
    "#import file\n",
    "uni_top_100 = pd.read_csv(R\"d:\\msc-project\\data\\QS-world-university-rankings\\2020-QS-World-University-Rankings-compressed.csv\",)\n",
    "\n",
    "#create list and string of uni_top_100\n",
    "uni_top_100 = list(uni_top_100['uni_name'].str.lower())\n",
    "uni_top_100 = ' '.join([str(elem) for elem in uni_top_100])\n",
    "\n",
    "#check each uni in degree df and assign 1 for top 100 uni\n",
    "is_top_100 = list()\n",
    "\n",
    "for uni in list(deg_df_v3['institution_name']):\n",
    "    uni = uni.lower()\n",
    "    if uni in uni_top_100:\n",
    "        is_top_100.append(1)\n",
    "    else:\n",
    "        is_top_100.append(0)\n",
    "\n",
    "deg_df_v3['is_top_100'] = is_top_100\n",
    "deg_df_v3[deg_df_v3['is_top_100'] == 1].head(3)"
   ]
  },
  {
   "cell_type": "code",
   "execution_count": null,
   "id": "flexible-joint",
   "metadata": {},
   "outputs": [],
   "source": [
    "#save preprocessed file\n",
    "deg_df_v3.to_csv(R\"d:/msc-project/data/pre-processed/degrees_preprocessed.csv\",encoding='utf-8',index=False)"
   ]
  },
  {
   "cell_type": "markdown",
   "id": "chicken-muslim",
   "metadata": {},
   "source": [
    "# Jobs"
   ]
  },
  {
   "cell_type": "code",
   "execution_count": null,
   "id": "uniform-participation",
   "metadata": {},
   "outputs": [],
   "source": [
    "#import jobs.csv\n",
    "jobs_df = pd.read_csv(R\"d:/msc-project/data/bulk_export_122020/jobs.csv\",encoding='utf-8')"
   ]
  },
  {
   "cell_type": "code",
   "execution_count": null,
   "id": "apart-welsh",
   "metadata": {},
   "outputs": [],
   "source": [
    "jobs_df.columns"
   ]
  },
  {
   "cell_type": "code",
   "execution_count": null,
   "id": "acknowledged-auction",
   "metadata": {},
   "outputs": [],
   "source": [
    "jobs_df.head(1)"
   ]
  },
  {
   "cell_type": "code",
   "execution_count": null,
   "id": "commercial-victim",
   "metadata": {},
   "outputs": [],
   "source": [
    "#drop unecessary columns\n",
    "jobs_df_v1 = jobs_df.drop(columns=['type', 'permalink', 'cb_url', 'rank', 'created_at',\n",
    "       'updated_at'])"
   ]
  },
  {
   "cell_type": "code",
   "execution_count": null,
   "id": "unauthorized-mattress",
   "metadata": {},
   "outputs": [],
   "source": [
    "jobs_df_v1.columns"
   ]
  },
  {
   "cell_type": "code",
   "execution_count": null,
   "id": "valuable-flush",
   "metadata": {},
   "outputs": [],
   "source": [
    "#change columns name\n",
    "jobs_df_v1.rename(columns={'uuid':'job_uuid','name':'job_name','person_uuid':'people_uuid'},inplace=True)"
   ]
  },
  {
   "cell_type": "code",
   "execution_count": null,
   "id": "american-deadline",
   "metadata": {},
   "outputs": [],
   "source": [
    "jobs_df_v1.columns"
   ]
  },
  {
   "cell_type": "code",
   "execution_count": null,
   "id": "prospective-share",
   "metadata": {},
   "outputs": [],
   "source": [
    "jobs_df_v1.head(3)"
   ]
  },
  {
   "cell_type": "code",
   "execution_count": null,
   "id": "proud-musician",
   "metadata": {},
   "outputs": [],
   "source": [
    "len(jobs_df)"
   ]
  },
  {
   "cell_type": "code",
   "execution_count": null,
   "id": "beginning-monday",
   "metadata": {},
   "outputs": [],
   "source": [
    "jobs_df_v1.isnull().sum(axis=0)"
   ]
  },
  {
   "cell_type": "code",
   "execution_count": null,
   "id": "vanilla-export",
   "metadata": {},
   "outputs": [],
   "source": [
    "len(jobs_df_v1)"
   ]
  },
  {
   "cell_type": "code",
   "execution_count": null,
   "id": "advisory-ticket",
   "metadata": {},
   "outputs": [],
   "source": [
    "#drop null in job_title\n",
    "jobs_df_v2 = jobs_df_v1.dropna(subset=['title'])"
   ]
  },
  {
   "cell_type": "code",
   "execution_count": null,
   "id": "unexpected-nelson",
   "metadata": {},
   "outputs": [],
   "source": [
    "len(jobs_df_v2)"
   ]
  },
  {
   "cell_type": "code",
   "execution_count": null,
   "id": "involved-squad",
   "metadata": {},
   "outputs": [],
   "source": [
    "jobs_df_v2.columns"
   ]
  },
  {
   "cell_type": "code",
   "execution_count": null,
   "id": "engaging-criminal",
   "metadata": {},
   "outputs": [],
   "source": [
    "#create founder column, 1 for founder role, 0 for non founder role\n",
    "is_founder = list()\n",
    "\n",
    "for title in list(jobs_df_v2.title):\n",
    "    if 'founder' in str(title).lower():\n",
    "        is_founder.append(1)\n",
    "    else:\n",
    "        is_founder.append(0)\n",
    "        \n",
    "jobs_df_v2['is_founder'] = is_founder"
   ]
  },
  {
   "cell_type": "code",
   "execution_count": null,
   "id": "precise-blowing",
   "metadata": {
    "scrolled": true
   },
   "outputs": [],
   "source": [
    "jobs_df_v2.columns"
   ]
  },
  {
   "cell_type": "code",
   "execution_count": null,
   "id": "alternative-policy",
   "metadata": {},
   "outputs": [],
   "source": [
    "len(jobs_df)"
   ]
  },
  {
   "cell_type": "code",
   "execution_count": null,
   "id": "hybrid-field",
   "metadata": {},
   "outputs": [],
   "source": [
    "len(jobs_df_v2)"
   ]
  },
  {
   "cell_type": "code",
   "execution_count": null,
   "id": "soviet-financing",
   "metadata": {},
   "outputs": [],
   "source": [
    "jobs_df_v2['is_founder'].sum()"
   ]
  },
  {
   "cell_type": "code",
   "execution_count": null,
   "id": "coordinate-merchandise",
   "metadata": {},
   "outputs": [],
   "source": [
    "len(jobs_df_v2.org_uuid.unique())"
   ]
  },
  {
   "cell_type": "code",
   "execution_count": null,
   "id": "available-runner",
   "metadata": {},
   "outputs": [],
   "source": [
    "#save file\n",
    "jobs_df_v2.to_csv(R\"d:/msc-project/data/pre-processed/jobs_preprocessed.csv\",encoding='utf-8',index=False)"
   ]
  }
 ],
 "metadata": {
  "kernelspec": {
   "display_name": "Python 3",
   "language": "python",
   "name": "python3"
  },
  "language_info": {
   "codemirror_mode": {
    "name": "ipython",
    "version": 3
   },
   "file_extension": ".py",
   "mimetype": "text/x-python",
   "name": "python",
   "nbconvert_exporter": "python",
   "pygments_lexer": "ipython3",
   "version": "3.7.9"
  }
 },
 "nbformat": 4,
 "nbformat_minor": 5
}
