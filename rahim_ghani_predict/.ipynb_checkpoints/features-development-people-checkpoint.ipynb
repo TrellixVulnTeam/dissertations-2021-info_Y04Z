{
 "cells": [
  {
   "cell_type": "code",
   "execution_count": 1,
   "id": "gorgeous-rocket",
   "metadata": {},
   "outputs": [],
   "source": [
    "#Import basic packages\n",
    "import os\n",
    "import numpy as np\n",
    "import pandas as pd\n",
    "import csv\n",
    "import regex as re\n",
    "import datetime as dt "
   ]
  },
  {
   "cell_type": "code",
   "execution_count": 2,
   "id": "involved-floating",
   "metadata": {},
   "outputs": [],
   "source": [
    "#import outcome file with org_uuid\n",
    "main_df = pd.read_csv(R\"d:/msc-project/data/final/outcome_final.csv\",encoding='utf-8',\n",
    "                         index_col=False,\n",
    "                         parse_dates= ['founded_on','seed_date','series_a_date','series_b_date','series_c_date'])\n",
    "main_processing_df = main_df[['org_uuid','name','outcome']]"
   ]
  },
  {
   "cell_type": "code",
   "execution_count": 3,
   "id": "cosmetic-steel",
   "metadata": {},
   "outputs": [
    {
     "data": {
      "text/html": [
       "<div>\n",
       "<style scoped>\n",
       "    .dataframe tbody tr th:only-of-type {\n",
       "        vertical-align: middle;\n",
       "    }\n",
       "\n",
       "    .dataframe tbody tr th {\n",
       "        vertical-align: top;\n",
       "    }\n",
       "\n",
       "    .dataframe thead th {\n",
       "        text-align: right;\n",
       "    }\n",
       "</style>\n",
       "<table border=\"1\" class=\"dataframe\">\n",
       "  <thead>\n",
       "    <tr style=\"text-align: right;\">\n",
       "      <th></th>\n",
       "      <th>org_uuid</th>\n",
       "      <th>name</th>\n",
       "      <th>outcome</th>\n",
       "    </tr>\n",
       "  </thead>\n",
       "  <tbody>\n",
       "    <tr>\n",
       "      <th>0</th>\n",
       "      <td>00107fd1-b65b-85cd-7d60-c00c4b2ae2fb</td>\n",
       "      <td>CloudAptitude</td>\n",
       "      <td>0</td>\n",
       "    </tr>\n",
       "    <tr>\n",
       "      <th>1</th>\n",
       "      <td>0013719b-13cb-9419-c604-597100dd642f</td>\n",
       "      <td>Win Win Slots</td>\n",
       "      <td>0</td>\n",
       "    </tr>\n",
       "    <tr>\n",
       "      <th>2</th>\n",
       "      <td>001c3ed9-6eb1-63b6-eeba-dcdb97f9444f</td>\n",
       "      <td>PetaData Labs SocialDNA</td>\n",
       "      <td>0</td>\n",
       "    </tr>\n",
       "  </tbody>\n",
       "</table>\n",
       "</div>"
      ],
      "text/plain": [
       "                               org_uuid                     name  outcome\n",
       "0  00107fd1-b65b-85cd-7d60-c00c4b2ae2fb            CloudAptitude        0\n",
       "1  0013719b-13cb-9419-c604-597100dd642f            Win Win Slots        0\n",
       "2  001c3ed9-6eb1-63b6-eeba-dcdb97f9444f  PetaData Labs SocialDNA        0"
      ]
     },
     "execution_count": 3,
     "metadata": {},
     "output_type": "execute_result"
    }
   ],
   "source": [
    "main_processing_df.head(3)"
   ]
  },
  {
   "cell_type": "code",
   "execution_count": 4,
   "id": "heard-holocaust",
   "metadata": {},
   "outputs": [
    {
     "data": {
      "text/plain": [
       "76806"
      ]
     },
     "execution_count": 4,
     "metadata": {},
     "output_type": "execute_result"
    }
   ],
   "source": [
    "len(main_processing_df)"
   ]
  },
  {
   "cell_type": "code",
   "execution_count": 5,
   "id": "closing-sixth",
   "metadata": {},
   "outputs": [
    {
     "data": {
      "text/html": [
       "<div>\n",
       "<style scoped>\n",
       "    .dataframe tbody tr th:only-of-type {\n",
       "        vertical-align: middle;\n",
       "    }\n",
       "\n",
       "    .dataframe tbody tr th {\n",
       "        vertical-align: top;\n",
       "    }\n",
       "\n",
       "    .dataframe thead th {\n",
       "        text-align: right;\n",
       "    }\n",
       "</style>\n",
       "<table border=\"1\" class=\"dataframe\">\n",
       "  <thead>\n",
       "    <tr style=\"text-align: right;\">\n",
       "      <th></th>\n",
       "      <th>job_uuid</th>\n",
       "      <th>job_name</th>\n",
       "      <th>people_uuid</th>\n",
       "      <th>person_name</th>\n",
       "      <th>org_uuid</th>\n",
       "      <th>org_name</th>\n",
       "      <th>started_on</th>\n",
       "      <th>ended_on</th>\n",
       "      <th>is_current</th>\n",
       "      <th>title</th>\n",
       "      <th>job_type</th>\n",
       "      <th>is_founder</th>\n",
       "    </tr>\n",
       "  </thead>\n",
       "  <tbody>\n",
       "    <tr>\n",
       "      <th>0</th>\n",
       "      <td>697b6934-fc1f-9d63-cfb2-1a10759b378e</td>\n",
       "      <td>Ben Elowitz Co-Founder/CEO/Board of Directors ...</td>\n",
       "      <td>ed13cd36-fe2b-3707-197b-0c2d56e37a71</td>\n",
       "      <td>Ben Elowitz</td>\n",
       "      <td>e1393508-30ea-8a36-3f96-dd3226033abd</td>\n",
       "      <td>Wetpaint</td>\n",
       "      <td>NaN</td>\n",
       "      <td>NaN</td>\n",
       "      <td>False</td>\n",
       "      <td>Co-Founder/CEO/Board of Directors</td>\n",
       "      <td>executive</td>\n",
       "      <td>1</td>\n",
       "    </tr>\n",
       "    <tr>\n",
       "      <th>1</th>\n",
       "      <td>b1de3765-442e-b556-9304-551c2a055901</td>\n",
       "      <td>Kevin Flaherty VP Marketing @ Wetpaint</td>\n",
       "      <td>5ceca97b-493c-1446-6249-5aaa33464763</td>\n",
       "      <td>Kevin Flaherty</td>\n",
       "      <td>e1393508-30ea-8a36-3f96-dd3226033abd</td>\n",
       "      <td>Wetpaint</td>\n",
       "      <td>NaN</td>\n",
       "      <td>NaN</td>\n",
       "      <td>False</td>\n",
       "      <td>VP Marketing</td>\n",
       "      <td>executive</td>\n",
       "      <td>0</td>\n",
       "    </tr>\n",
       "    <tr>\n",
       "      <th>2</th>\n",
       "      <td>1319cd30-f5e8-c700-0af6-64029c6f7124</td>\n",
       "      <td>Raju Vegesna Chief Evangelist @ Zoho</td>\n",
       "      <td>9f99a98a-aa97-b30b-0d36-db67c1d277e0</td>\n",
       "      <td>Raju Vegesna</td>\n",
       "      <td>bf4d7b0e-b34d-2fd8-d292-6049c4f7efc7</td>\n",
       "      <td>Zoho</td>\n",
       "      <td>2000-11-01</td>\n",
       "      <td>NaN</td>\n",
       "      <td>True</td>\n",
       "      <td>Chief Evangelist</td>\n",
       "      <td>employee</td>\n",
       "      <td>0</td>\n",
       "    </tr>\n",
       "  </tbody>\n",
       "</table>\n",
       "</div>"
      ],
      "text/plain": [
       "                               job_uuid  \\\n",
       "0  697b6934-fc1f-9d63-cfb2-1a10759b378e   \n",
       "1  b1de3765-442e-b556-9304-551c2a055901   \n",
       "2  1319cd30-f5e8-c700-0af6-64029c6f7124   \n",
       "\n",
       "                                            job_name  \\\n",
       "0  Ben Elowitz Co-Founder/CEO/Board of Directors ...   \n",
       "1             Kevin Flaherty VP Marketing @ Wetpaint   \n",
       "2               Raju Vegesna Chief Evangelist @ Zoho   \n",
       "\n",
       "                            people_uuid     person_name  \\\n",
       "0  ed13cd36-fe2b-3707-197b-0c2d56e37a71     Ben Elowitz   \n",
       "1  5ceca97b-493c-1446-6249-5aaa33464763  Kevin Flaherty   \n",
       "2  9f99a98a-aa97-b30b-0d36-db67c1d277e0    Raju Vegesna   \n",
       "\n",
       "                               org_uuid  org_name  started_on ended_on  \\\n",
       "0  e1393508-30ea-8a36-3f96-dd3226033abd  Wetpaint         NaN      NaN   \n",
       "1  e1393508-30ea-8a36-3f96-dd3226033abd  Wetpaint         NaN      NaN   \n",
       "2  bf4d7b0e-b34d-2fd8-d292-6049c4f7efc7      Zoho  2000-11-01      NaN   \n",
       "\n",
       "   is_current                              title   job_type  is_founder  \n",
       "0       False  Co-Founder/CEO/Board of Directors  executive           1  \n",
       "1       False                       VP Marketing  executive           0  \n",
       "2        True                   Chief Evangelist   employee           0  "
      ]
     },
     "execution_count": 5,
     "metadata": {},
     "output_type": "execute_result"
    }
   ],
   "source": [
    "#import jobs file\n",
    "jobs_df = pd.read_csv(R\"d:/msc-project/data/pre-processed/jobs_preprocessed.csv\",encoding='utf-8',\n",
    "                         index_col=False,\n",
    "                         parse_dates= ['started_on','ended_on'])\n",
    "jobs_df.head(3)"
   ]
  },
  {
   "cell_type": "markdown",
   "id": "express-healing",
   "metadata": {},
   "source": [
    "# Assign Number of founder for each organisation"
   ]
  },
  {
   "cell_type": "code",
   "execution_count": 24,
   "id": "forbidden-completion",
   "metadata": {},
   "outputs": [
    {
     "data": {
      "text/html": [
       "<div>\n",
       "<style scoped>\n",
       "    .dataframe tbody tr th:only-of-type {\n",
       "        vertical-align: middle;\n",
       "    }\n",
       "\n",
       "    .dataframe tbody tr th {\n",
       "        vertical-align: top;\n",
       "    }\n",
       "\n",
       "    .dataframe thead th {\n",
       "        text-align: right;\n",
       "    }\n",
       "</style>\n",
       "<table border=\"1\" class=\"dataframe\">\n",
       "  <thead>\n",
       "    <tr style=\"text-align: right;\">\n",
       "      <th></th>\n",
       "      <th>org_uuid</th>\n",
       "      <th>name</th>\n",
       "      <th>outcome</th>\n",
       "      <th>num_founder</th>\n",
       "    </tr>\n",
       "  </thead>\n",
       "  <tbody>\n",
       "    <tr>\n",
       "      <th>0</th>\n",
       "      <td>00107fd1-b65b-85cd-7d60-c00c4b2ae2fb</td>\n",
       "      <td>CloudAptitude</td>\n",
       "      <td>0</td>\n",
       "      <td>1.0</td>\n",
       "    </tr>\n",
       "    <tr>\n",
       "      <th>1</th>\n",
       "      <td>0013719b-13cb-9419-c604-597100dd642f</td>\n",
       "      <td>Win Win Slots</td>\n",
       "      <td>0</td>\n",
       "      <td>1.0</td>\n",
       "    </tr>\n",
       "    <tr>\n",
       "      <th>2</th>\n",
       "      <td>001c3ed9-6eb1-63b6-eeba-dcdb97f9444f</td>\n",
       "      <td>PetaData Labs SocialDNA</td>\n",
       "      <td>0</td>\n",
       "      <td>0.0</td>\n",
       "    </tr>\n",
       "  </tbody>\n",
       "</table>\n",
       "</div>"
      ],
      "text/plain": [
       "                               org_uuid                     name  outcome  \\\n",
       "0  00107fd1-b65b-85cd-7d60-c00c4b2ae2fb            CloudAptitude        0   \n",
       "1  0013719b-13cb-9419-c604-597100dd642f            Win Win Slots        0   \n",
       "2  001c3ed9-6eb1-63b6-eeba-dcdb97f9444f  PetaData Labs SocialDNA        0   \n",
       "\n",
       "   num_founder  \n",
       "0          1.0  \n",
       "1          1.0  \n",
       "2          0.0  "
      ]
     },
     "execution_count": 24,
     "metadata": {},
     "output_type": "execute_result"
    }
   ],
   "source": [
    "num_founder = pd.DataFrame(jobs_df.groupby('org_uuid')['is_founder'].sum())\n",
    "main_processing_df_v1 = pd.merge(main_processing_df,\n",
    "                         num_founder,\n",
    "                         on='org_uuid',\n",
    "                         how='left'\n",
    "                         )\n",
    "main_processing_df_v1.rename(columns = {'is_founder':'num_founder'},inplace=True)\n",
    "main_processing_df_v1.head(3)"
   ]
  },
  {
   "cell_type": "code",
   "execution_count": 26,
   "id": "premier-belgium",
   "metadata": {},
   "outputs": [
    {
     "data": {
      "text/html": [
       "<div>\n",
       "<style scoped>\n",
       "    .dataframe tbody tr th:only-of-type {\n",
       "        vertical-align: middle;\n",
       "    }\n",
       "\n",
       "    .dataframe tbody tr th {\n",
       "        vertical-align: top;\n",
       "    }\n",
       "\n",
       "    .dataframe thead th {\n",
       "        text-align: right;\n",
       "    }\n",
       "</style>\n",
       "<table border=\"1\" class=\"dataframe\">\n",
       "  <thead>\n",
       "    <tr style=\"text-align: right;\">\n",
       "      <th></th>\n",
       "      <th>org_uuid</th>\n",
       "      <th>name</th>\n",
       "      <th>outcome</th>\n",
       "      <th>num_founder</th>\n",
       "    </tr>\n",
       "  </thead>\n",
       "  <tbody>\n",
       "    <tr>\n",
       "      <th>7</th>\n",
       "      <td>004c2baa-36be-4d84-8731-5418ce248ab5</td>\n",
       "      <td>Altitude Products</td>\n",
       "      <td>0</td>\n",
       "      <td>NaN</td>\n",
       "    </tr>\n",
       "    <tr>\n",
       "      <th>10</th>\n",
       "      <td>00662293-6e6e-a876-9070-f1a35e5ae110</td>\n",
       "      <td>Coupsta</td>\n",
       "      <td>0</td>\n",
       "      <td>NaN</td>\n",
       "    </tr>\n",
       "    <tr>\n",
       "      <th>14</th>\n",
       "      <td>00a36480-eaaa-4c18-9ee1-ab9d50cacb12</td>\n",
       "      <td>Southern Robotic Foods</td>\n",
       "      <td>0</td>\n",
       "      <td>NaN</td>\n",
       "    </tr>\n",
       "    <tr>\n",
       "      <th>15</th>\n",
       "      <td>00a9ee84-66bd-0807-2e70-d4fb5c81cc58</td>\n",
       "      <td>Atlantis</td>\n",
       "      <td>0</td>\n",
       "      <td>NaN</td>\n",
       "    </tr>\n",
       "    <tr>\n",
       "      <th>43</th>\n",
       "      <td>020964c6-3ba9-b83a-d2c6-f34440cacc2b</td>\n",
       "      <td>UeeeU.com</td>\n",
       "      <td>0</td>\n",
       "      <td>NaN</td>\n",
       "    </tr>\n",
       "    <tr>\n",
       "      <th>...</th>\n",
       "      <td>...</td>\n",
       "      <td>...</td>\n",
       "      <td>...</td>\n",
       "      <td>...</td>\n",
       "    </tr>\n",
       "    <tr>\n",
       "      <th>76763</th>\n",
       "      <td>ffcbc4ca-0236-4b6a-a3ac-835f94740f80</td>\n",
       "      <td>Jagger</td>\n",
       "      <td>0</td>\n",
       "      <td>NaN</td>\n",
       "    </tr>\n",
       "    <tr>\n",
       "      <th>76767</th>\n",
       "      <td>ffd10ff4-06da-49b3-9d42-91ec518fe3b6</td>\n",
       "      <td>Caihong Lushi</td>\n",
       "      <td>0</td>\n",
       "      <td>NaN</td>\n",
       "    </tr>\n",
       "    <tr>\n",
       "      <th>76775</th>\n",
       "      <td>ffd958cc-7c71-4fa8-bee5-ff54cb0ae194</td>\n",
       "      <td>Cutie Pie</td>\n",
       "      <td>0</td>\n",
       "      <td>NaN</td>\n",
       "    </tr>\n",
       "    <tr>\n",
       "      <th>76784</th>\n",
       "      <td>ffe01926-79ee-4d17-984c-c9a4f74ccbab</td>\n",
       "      <td>KTVme</td>\n",
       "      <td>1</td>\n",
       "      <td>NaN</td>\n",
       "    </tr>\n",
       "    <tr>\n",
       "      <th>76803</th>\n",
       "      <td>fffd10a8-24fc-4775-947a-25b31aa778ba</td>\n",
       "      <td>Holo-X</td>\n",
       "      <td>0</td>\n",
       "      <td>NaN</td>\n",
       "    </tr>\n",
       "  </tbody>\n",
       "</table>\n",
       "<p>14752 rows × 4 columns</p>\n",
       "</div>"
      ],
      "text/plain": [
       "                                   org_uuid                    name  outcome  \\\n",
       "7      004c2baa-36be-4d84-8731-5418ce248ab5       Altitude Products        0   \n",
       "10     00662293-6e6e-a876-9070-f1a35e5ae110                 Coupsta        0   \n",
       "14     00a36480-eaaa-4c18-9ee1-ab9d50cacb12  Southern Robotic Foods        0   \n",
       "15     00a9ee84-66bd-0807-2e70-d4fb5c81cc58                Atlantis        0   \n",
       "43     020964c6-3ba9-b83a-d2c6-f34440cacc2b               UeeeU.com        0   \n",
       "...                                     ...                     ...      ...   \n",
       "76763  ffcbc4ca-0236-4b6a-a3ac-835f94740f80                  Jagger        0   \n",
       "76767  ffd10ff4-06da-49b3-9d42-91ec518fe3b6           Caihong Lushi        0   \n",
       "76775  ffd958cc-7c71-4fa8-bee5-ff54cb0ae194               Cutie Pie        0   \n",
       "76784  ffe01926-79ee-4d17-984c-c9a4f74ccbab                   KTVme        1   \n",
       "76803  fffd10a8-24fc-4775-947a-25b31aa778ba                  Holo-X        0   \n",
       "\n",
       "       num_founder  \n",
       "7              NaN  \n",
       "10             NaN  \n",
       "14             NaN  \n",
       "15             NaN  \n",
       "43             NaN  \n",
       "...            ...  \n",
       "76763          NaN  \n",
       "76767          NaN  \n",
       "76775          NaN  \n",
       "76784          NaN  \n",
       "76803          NaN  \n",
       "\n",
       "[14752 rows x 4 columns]"
      ]
     },
     "execution_count": 26,
     "metadata": {},
     "output_type": "execute_result"
    }
   ],
   "source": [
    "main_processing_df_v1[main_processing_df_v1['num_founder'].isna()]"
   ]
  },
  {
   "cell_type": "code",
   "execution_count": 31,
   "id": "composed-tolerance",
   "metadata": {},
   "outputs": [],
   "source": [
    "#drop companies with no founder info\n",
    "main_processing_df_v1.dropna(subset=['num_founder'],inplace=True)\n",
    "main_processing_df_v2 = main_processing_df_v1[main_processing_df_v1['num_founder'] > 0]"
   ]
  },
  {
   "cell_type": "code",
   "execution_count": 32,
   "id": "piano-rating",
   "metadata": {},
   "outputs": [
    {
     "data": {
      "text/plain": [
       "50236"
      ]
     },
     "execution_count": 32,
     "metadata": {},
     "output_type": "execute_result"
    }
   ],
   "source": [
    "len(main_processing_df_v2)"
   ]
  },
  {
   "cell_type": "code",
   "execution_count": 33,
   "id": "indoor-engagement",
   "metadata": {},
   "outputs": [
    {
     "data": {
      "text/html": [
       "<div>\n",
       "<style scoped>\n",
       "    .dataframe tbody tr th:only-of-type {\n",
       "        vertical-align: middle;\n",
       "    }\n",
       "\n",
       "    .dataframe tbody tr th {\n",
       "        vertical-align: top;\n",
       "    }\n",
       "\n",
       "    .dataframe thead th {\n",
       "        text-align: right;\n",
       "    }\n",
       "</style>\n",
       "<table border=\"1\" class=\"dataframe\">\n",
       "  <thead>\n",
       "    <tr style=\"text-align: right;\">\n",
       "      <th></th>\n",
       "      <th>org_uuid</th>\n",
       "      <th>name</th>\n",
       "      <th>outcome</th>\n",
       "      <th>num_founder</th>\n",
       "    </tr>\n",
       "  </thead>\n",
       "  <tbody>\n",
       "    <tr>\n",
       "      <th>0</th>\n",
       "      <td>00107fd1-b65b-85cd-7d60-c00c4b2ae2fb</td>\n",
       "      <td>CloudAptitude</td>\n",
       "      <td>0</td>\n",
       "      <td>1.0</td>\n",
       "    </tr>\n",
       "    <tr>\n",
       "      <th>1</th>\n",
       "      <td>0013719b-13cb-9419-c604-597100dd642f</td>\n",
       "      <td>Win Win Slots</td>\n",
       "      <td>0</td>\n",
       "      <td>1.0</td>\n",
       "    </tr>\n",
       "    <tr>\n",
       "      <th>3</th>\n",
       "      <td>002194d5-e7cf-cc78-86ca-4213f8edf62b</td>\n",
       "      <td>Smart Lanes</td>\n",
       "      <td>0</td>\n",
       "      <td>2.0</td>\n",
       "    </tr>\n",
       "    <tr>\n",
       "      <th>4</th>\n",
       "      <td>002542fe-a20c-aab2-1bcf-6f495fac9ab1</td>\n",
       "      <td>Clay Piggy</td>\n",
       "      <td>0</td>\n",
       "      <td>2.0</td>\n",
       "    </tr>\n",
       "    <tr>\n",
       "      <th>5</th>\n",
       "      <td>002f3cd0-9655-4f2d-834f-af6fc7a8a437</td>\n",
       "      <td>Kids on 45th</td>\n",
       "      <td>0</td>\n",
       "      <td>1.0</td>\n",
       "    </tr>\n",
       "  </tbody>\n",
       "</table>\n",
       "</div>"
      ],
      "text/plain": [
       "                               org_uuid           name  outcome  num_founder\n",
       "0  00107fd1-b65b-85cd-7d60-c00c4b2ae2fb  CloudAptitude        0          1.0\n",
       "1  0013719b-13cb-9419-c604-597100dd642f  Win Win Slots        0          1.0\n",
       "3  002194d5-e7cf-cc78-86ca-4213f8edf62b    Smart Lanes        0          2.0\n",
       "4  002542fe-a20c-aab2-1bcf-6f495fac9ab1     Clay Piggy        0          2.0\n",
       "5  002f3cd0-9655-4f2d-834f-af6fc7a8a437   Kids on 45th        0          1.0"
      ]
     },
     "execution_count": 33,
     "metadata": {},
     "output_type": "execute_result"
    }
   ],
   "source": [
    "main_processing_df_v2.head(5)"
   ]
  },
  {
   "cell_type": "markdown",
   "id": "agricultural-financing",
   "metadata": {},
   "source": [
    "# Assign Gender Diversity Features"
   ]
  },
  {
   "cell_type": "code",
   "execution_count": 34,
   "id": "intermediate-orange",
   "metadata": {},
   "outputs": [],
   "source": [
    "founder_df = jobs_df[jobs_df['is_founder'] == 1]\n",
    "founder_gb = founder_df.groupby('org_uuid')"
   ]
  },
  {
   "cell_type": "code",
   "execution_count": 35,
   "id": "honest-addition",
   "metadata": {},
   "outputs": [],
   "source": [
    "people_df = pd.read_csv(R\"d:/msc-project/data/pre-processed/people_preprocessed.csv\",encoding='utf-8',\n",
    "                         index_col=False)"
   ]
  },
  {
   "cell_type": "code",
   "execution_count": 36,
   "id": "regional-matthew",
   "metadata": {},
   "outputs": [
    {
     "data": {
      "text/plain": [
       "Index(['people_uuid', 'people_name', 'first_name', 'last_name', 'gender',\n",
       "       'country_code', 'state_code', 'region', 'city', 'org_uuid',\n",
       "       'featured_job_organization_name', 'featured_job_title', 'facebook_url',\n",
       "       'linkedin_url', 'twitter_url', 'logo_url', 'description'],\n",
       "      dtype='object')"
      ]
     },
     "execution_count": 36,
     "metadata": {},
     "output_type": "execute_result"
    }
   ],
   "source": [
    "people_df.columns"
   ]
  },
  {
   "cell_type": "code",
   "execution_count": 37,
   "id": "frozen-column",
   "metadata": {},
   "outputs": [],
   "source": [
    "founder_gender_df = pd.merge(founder_df[['people_uuid','org_uuid']],\n",
    "                             people_df[['people_uuid','gender']],\n",
    "                             on='people_uuid',\n",
    "                             how='left')"
   ]
  },
  {
   "cell_type": "code",
   "execution_count": 38,
   "id": "assisted-lesbian",
   "metadata": {},
   "outputs": [
    {
     "data": {
      "text/html": [
       "<div>\n",
       "<style scoped>\n",
       "    .dataframe tbody tr th:only-of-type {\n",
       "        vertical-align: middle;\n",
       "    }\n",
       "\n",
       "    .dataframe tbody tr th {\n",
       "        vertical-align: top;\n",
       "    }\n",
       "\n",
       "    .dataframe thead th {\n",
       "        text-align: right;\n",
       "    }\n",
       "</style>\n",
       "<table border=\"1\" class=\"dataframe\">\n",
       "  <thead>\n",
       "    <tr style=\"text-align: right;\">\n",
       "      <th></th>\n",
       "      <th>people_uuid</th>\n",
       "      <th>org_uuid</th>\n",
       "      <th>gender</th>\n",
       "    </tr>\n",
       "  </thead>\n",
       "  <tbody>\n",
       "    <tr>\n",
       "      <th>0</th>\n",
       "      <td>ed13cd36-fe2b-3707-197b-0c2d56e37a71</td>\n",
       "      <td>e1393508-30ea-8a36-3f96-dd3226033abd</td>\n",
       "      <td>male</td>\n",
       "    </tr>\n",
       "    <tr>\n",
       "      <th>1</th>\n",
       "      <td>a01b8d46-d311-3333-7c34-aa3ae9c03f22</td>\n",
       "      <td>df662812-7f97-0b43-9d3e-12f64f504fbb</td>\n",
       "      <td>male</td>\n",
       "    </tr>\n",
       "    <tr>\n",
       "      <th>2</th>\n",
       "      <td>084aaa07-0795-1fe8-9c46-98bbeb02cd64</td>\n",
       "      <td>df662812-7f97-0b43-9d3e-12f64f504fbb</td>\n",
       "      <td>male</td>\n",
       "    </tr>\n",
       "  </tbody>\n",
       "</table>\n",
       "</div>"
      ],
      "text/plain": [
       "                            people_uuid                              org_uuid  \\\n",
       "0  ed13cd36-fe2b-3707-197b-0c2d56e37a71  e1393508-30ea-8a36-3f96-dd3226033abd   \n",
       "1  a01b8d46-d311-3333-7c34-aa3ae9c03f22  df662812-7f97-0b43-9d3e-12f64f504fbb   \n",
       "2  084aaa07-0795-1fe8-9c46-98bbeb02cd64  df662812-7f97-0b43-9d3e-12f64f504fbb   \n",
       "\n",
       "  gender  \n",
       "0   male  \n",
       "1   male  \n",
       "2   male  "
      ]
     },
     "execution_count": 38,
     "metadata": {},
     "output_type": "execute_result"
    }
   ],
   "source": [
    "founder_gender_df.head(3)"
   ]
  },
  {
   "cell_type": "code",
   "execution_count": 39,
   "id": "creative-plant",
   "metadata": {},
   "outputs": [],
   "source": [
    "founder_gender_gb = founder_gender_df.groupby('org_uuid')"
   ]
  },
  {
   "cell_type": "code",
   "execution_count": null,
   "id": "suitable-biodiversity",
   "metadata": {},
   "outputs": [],
   "source": [
    "gender_diversity = list()\n",
    "\n",
    "for org_uuid in list(main_processing_df_v2['org_uuid']):\n",
    "    founders_gender = list(founder_gender_gb.get_group(org_uuid)['gender']) #create list of founder's gender for one organisation\n",
    "    if 'male' in founders_gender and 'female' in founders_gender: #assign 1 if male and female in gender list\n",
    "        gender_diversity.append(1)\n",
    "    else:\n",
    "        gender_diversity.append(0)\n",
    "\n",
    "main_processing_df_v2['gender_diversity'] = gender_diversity"
   ]
  },
  {
   "cell_type": "code",
   "execution_count": null,
   "id": "crazy-cleveland",
   "metadata": {},
   "outputs": [],
   "source": [
    "main_processing_df.shape"
   ]
  },
  {
   "cell_type": "code",
   "execution_count": null,
   "id": "specific-calculation",
   "metadata": {},
   "outputs": [],
   "source": [
    "main_processing_df.head(3)"
   ]
  },
  {
   "cell_type": "markdown",
   "id": "protective-programming",
   "metadata": {},
   "source": [
    "# Assigning degree type, ivy league, and top100 to organisation based on founder"
   ]
  },
  {
   "cell_type": "code",
   "execution_count": null,
   "id": "naval-algebra",
   "metadata": {},
   "outputs": [],
   "source": [
    "#import processed degree file\n",
    "deg_df = pd.read_csv(R\"d:/msc-project/data/pre-processed/degrees_preprocessed.csv\",encoding='utf-8',\n",
    "                         index_col=False)\n",
    "deg_df.head(3)"
   ]
  },
  {
   "cell_type": "code",
   "execution_count": null,
   "id": "extensive-elephant",
   "metadata": {},
   "outputs": [],
   "source": [
    "#merge degree with founder_df\n",
    "deg_type_df = deg_df[['people_uuid','is_bachelor','is_master','is_phd','is_mba','is_stem','is_ivy_league','is_top_100']]\n",
    "founder_degree_df = pd.merge(founder_df[['people_uuid','org_uuid']],\n",
    "                             deg_type_df,\n",
    "                             on='people_uuid',\n",
    "                             how='left')\n",
    "founder_degree_df.fillna(value=0,inplace=True)\n",
    "len(founder_degree_df)"
   ]
  },
  {
   "cell_type": "code",
   "execution_count": null,
   "id": "behind-secondary",
   "metadata": {},
   "outputs": [],
   "source": [
    "founder_degree_df.head(5)"
   ]
  },
  {
   "cell_type": "code",
   "execution_count": null,
   "id": "gothic-paintball",
   "metadata": {},
   "outputs": [],
   "source": [
    "#group by org_uuid and merge with main file\n",
    "founder_degree_df = founder_degree_df[['org_uuid','is_bachelor','is_master','is_phd','is_mba','is_stem',\n",
    "                                      'is_ivy_league','is_top_100']].groupby('org_uuid').max()\n",
    "\n",
    "main_processing_df = pd.merge(main_processing_df,\n",
    "                             founder_degree_df,\n",
    "                             on='org_uuid',\n",
    "                             how = 'left')"
   ]
  },
  {
   "cell_type": "code",
   "execution_count": null,
   "id": "decent-capability",
   "metadata": {},
   "outputs": [],
   "source": [
    "#assign 0 to founder with no degree information\n",
    "main_processing_df.isnull().sum(axis=0)"
   ]
  },
  {
   "cell_type": "code",
   "execution_count": null,
   "id": "continuing-handling",
   "metadata": {},
   "outputs": [],
   "source": [
    "main_processing_df.head(10)"
   ]
  },
  {
   "cell_type": "code",
   "execution_count": null,
   "id": "interpreted-novelty",
   "metadata": {},
   "outputs": [],
   "source": [
    "founder_df.head(3)"
   ]
  },
  {
   "cell_type": "code",
   "execution_count": null,
   "id": "flying-sailing",
   "metadata": {},
   "outputs": [],
   "source": [
    "founder_experience_df = jobs_df[['job_uuid','people_uuid','org_uuid','started_on','ended_on','is_current']]"
   ]
  },
  {
   "cell_type": "code",
   "execution_count": null,
   "id": "reliable-landscape",
   "metadata": {},
   "outputs": [],
   "source": [
    "founder_experience_df.head(3)"
   ]
  },
  {
   "cell_type": "code",
   "execution_count": null,
   "id": "checked-blink",
   "metadata": {},
   "outputs": [],
   "source": [
    "founder_experience_df = founder_experience_df[founder_experience_df['is_current'] == False]"
   ]
  },
  {
   "cell_type": "code",
   "execution_count": null,
   "id": "subject-circulation",
   "metadata": {},
   "outputs": [],
   "source": [
    "founder_experience_df.head(3)"
   ]
  },
  {
   "cell_type": "code",
   "execution_count": null,
   "id": "virgin-boxing",
   "metadata": {},
   "outputs": [],
   "source": [
    "founder_experience_df.dropna(subset=['started_on','ended_on'],inplace=True)"
   ]
  },
  {
   "cell_type": "code",
   "execution_count": null,
   "id": "varying-navigation",
   "metadata": {},
   "outputs": [],
   "source": [
    "founder_experience_df.head(3)"
   ]
  },
  {
   "cell_type": "code",
   "execution_count": null,
   "id": "pregnant-invite",
   "metadata": {},
   "outputs": [],
   "source": [
    "pd.merge(founder_experience_df,\n",
    "        )"
   ]
  },
  {
   "cell_type": "code",
   "execution_count": null,
   "id": "demanding-wellington",
   "metadata": {},
   "outputs": [],
   "source": [
    "founder_df"
   ]
  },
  {
   "cell_type": "code",
   "execution_count": null,
   "id": "supreme-april",
   "metadata": {},
   "outputs": [],
   "source": [
    "main_processing_df[main_processing_df['outcome'] == 1]"
   ]
  },
  {
   "cell_type": "code",
   "execution_count": null,
   "id": "dutch-effects",
   "metadata": {},
   "outputs": [],
   "source": [
    "founder_df[founder_df['org_uuid'] == 'ffc94591-af96-3e79-b0ec-f5d313e7d7de']"
   ]
  },
  {
   "cell_type": "code",
   "execution_count": null,
   "id": "lesbian-hostel",
   "metadata": {},
   "outputs": [],
   "source": [
    "jobs_df[jobs_df['people_uuid'] =='20360313-308e-b1aa-e462-9dde639582b8']"
   ]
  },
  {
   "cell_type": "code",
   "execution_count": null,
   "id": "naughty-hudson",
   "metadata": {},
   "outputs": [],
   "source": [
    "jobs_df[jobs_df['org_uuid'] == 'bb8d36dd-73f7-c90c-e817-5838eaf4b676']"
   ]
  },
  {
   "cell_type": "code",
   "execution_count": null,
   "id": "automated-effort",
   "metadata": {},
   "outputs": [],
   "source": [
    "jobs_df['job_type'].value_counts()"
   ]
  },
  {
   "cell_type": "code",
   "execution_count": null,
   "id": "black-silver",
   "metadata": {},
   "outputs": [],
   "source": [
    "jobs_advisor_df = jobs_df[jobs_df['job_type'] == 'advisor']"
   ]
  },
  {
   "cell_type": "code",
   "execution_count": null,
   "id": "dedicated-internship",
   "metadata": {},
   "outputs": [],
   "source": [
    "jobs_advisor_df.head(3)"
   ]
  },
  {
   "cell_type": "code",
   "execution_count": null,
   "id": "medieval-chancellor",
   "metadata": {},
   "outputs": [],
   "source": [
    "advisor_gb = jobs_advisor_df.groupby('org_uuid')"
   ]
  },
  {
   "cell_type": "code",
   "execution_count": null,
   "id": "intimate-lounge",
   "metadata": {},
   "outputs": [],
   "source": [
    "type(advisor_gb.count())"
   ]
  },
  {
   "cell_type": "code",
   "execution_count": null,
   "id": "imported-clothing",
   "metadata": {},
   "outputs": [],
   "source": [
    "num_advisor = advisor_gb.size()\n",
    "num_advisor = pd.DataFrame(num_advisor,\n",
    "                          columns=['num_advisor'])"
   ]
  },
  {
   "cell_type": "code",
   "execution_count": null,
   "id": "white-testimony",
   "metadata": {},
   "outputs": [],
   "source": [
    "type(num_advisor)"
   ]
  },
  {
   "cell_type": "code",
   "execution_count": null,
   "id": "coordinate-publisher",
   "metadata": {},
   "outputs": [],
   "source": [
    "main_processing_df_v1 = pd.merge(main_processing_df,\n",
    "                                 num_advisor,\n",
    "                                 on='org_uuid',\n",
    "                                 how='left')"
   ]
  },
  {
   "cell_type": "code",
   "execution_count": null,
   "id": "flush-emperor",
   "metadata": {},
   "outputs": [],
   "source": [
    "main_processing_df_v1.head(3)"
   ]
  },
  {
   "cell_type": "code",
   "execution_count": null,
   "id": "prompt-plain",
   "metadata": {},
   "outputs": [],
   "source": [
    "main_processing_df_v1['num_advisor'].fillna(0,inplace=True)"
   ]
  },
  {
   "cell_type": "code",
   "execution_count": null,
   "id": "infectious-classroom",
   "metadata": {},
   "outputs": [],
   "source": [
    "main_processing_df_v1.head(3)"
   ]
  },
  {
   "cell_type": "code",
   "execution_count": null,
   "id": "failing-latvia",
   "metadata": {},
   "outputs": [],
   "source": []
  }
 ],
 "metadata": {
  "kernelspec": {
   "display_name": "Python 3",
   "language": "python",
   "name": "python3"
  },
  "language_info": {
   "codemirror_mode": {
    "name": "ipython",
    "version": 3
   },
   "file_extension": ".py",
   "mimetype": "text/x-python",
   "name": "python",
   "nbconvert_exporter": "python",
   "pygments_lexer": "ipython3",
   "version": "3.7.9"
  }
 },
 "nbformat": 4,
 "nbformat_minor": 5
}
