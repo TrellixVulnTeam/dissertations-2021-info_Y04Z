{
 "cells": [
  {
   "cell_type": "code",
   "execution_count": 1,
   "id": "leading-effects",
   "metadata": {},
   "outputs": [],
   "source": [
    "#Import basic packages\n",
    "import os\n",
    "import numpy as np\n",
    "import pandas as pd\n",
    "import csv"
   ]
  },
  {
   "cell_type": "code",
   "execution_count": 2,
   "id": "stock-glance",
   "metadata": {},
   "outputs": [],
   "source": [
    "#import organizations.csv\n",
    "org_df = pd.read_csv(R\"d:\\\\msc-project\\data\\bulk_export_122020\\organizations.csv\",encoding='utf-8')"
   ]
  },
  {
   "cell_type": "code",
   "execution_count": 3,
   "id": "collected-cooling",
   "metadata": {},
   "outputs": [
    {
     "data": {
      "text/plain": [
       "Index(['uuid', 'name', 'type', 'permalink', 'cb_url', 'rank', 'created_at',\n",
       "       'updated_at', 'legal_name', 'roles', 'domain', 'homepage_url',\n",
       "       'country_code', 'state_code', 'region', 'city', 'address',\n",
       "       'postal_code', 'status', 'short_description', 'category_list',\n",
       "       'category_groups_list', 'num_funding_rounds', 'total_funding_usd',\n",
       "       'total_funding', 'total_funding_currency_code', 'founded_on',\n",
       "       'last_funding_on', 'closed_on', 'employee_count', 'email', 'phone',\n",
       "       'facebook_url', 'linkedin_url', 'twitter_url', 'logo_url', 'alias1',\n",
       "       'alias2', 'alias3', 'primary_role', 'num_exits'],\n",
       "      dtype='object')"
      ]
     },
     "execution_count": 3,
     "metadata": {},
     "output_type": "execute_result"
    }
   ],
   "source": [
    "#check column name for organisation\n",
    "org_df.columns"
   ]
  },
  {
   "cell_type": "code",
   "execution_count": 4,
   "id": "according-occupation",
   "metadata": {},
   "outputs": [
    {
     "data": {
      "text/plain": [
       "uuid                                 0\n",
       "name                                14\n",
       "type                                 0\n",
       "permalink                            7\n",
       "cb_url                               6\n",
       "rank                               134\n",
       "created_at                           0\n",
       "updated_at                           0\n",
       "legal_name                     1035917\n",
       "roles                             8873\n",
       "domain                           79212\n",
       "homepage_url                     79211\n",
       "country_code                    191226\n",
       "state_code                      761292\n",
       "region                          191226\n",
       "city                            191226\n",
       "address                         654274\n",
       "postal_code                     684663\n",
       "status                               0\n",
       "short_description                  118\n",
       "category_list                    78059\n",
       "category_groups_list             78059\n",
       "num_funding_rounds             1024489\n",
       "total_funding_usd              1075897\n",
       "total_funding                  1075897\n",
       "total_funding_currency_code    1075897\n",
       "founded_on                      260307\n",
       "last_funding_on                1024500\n",
       "closed_on                      1202566\n",
       "employee_count                       0\n",
       "email                           462846\n",
       "phone                           405981\n",
       "facebook_url                    575710\n",
       "linkedin_url                    646209\n",
       "twitter_url                     631355\n",
       "logo_url                        189098\n",
       "alias1                         1032827\n",
       "alias2                         1183539\n",
       "alias3                         1202240\n",
       "primary_role                         0\n",
       "num_exits                      1198771\n",
       "dtype: int64"
      ]
     },
     "execution_count": 4,
     "metadata": {},
     "output_type": "execute_result"
    }
   ],
   "source": [
    "#Show the value of NaN for every colum\n",
    "org_df.isnull().sum(axis = 0)"
   ]
  },
  {
   "cell_type": "code",
   "execution_count": 5,
   "id": "german-premiere",
   "metadata": {},
   "outputs": [],
   "source": [
    "#Delete unecessary columns\n",
    "org_df_v1 = org_df.drop (columns = ['type', 'permalink', 'cb_url', 'rank', 'created_at',\n",
    "                                    'updated_at','roles', 'domain', 'homepage_url','alias1',\n",
    "                                    'alias2', 'alias3']\n",
    "                                    )"
   ]
  },
  {
   "cell_type": "code",
   "execution_count": 6,
   "id": "interesting-fraud",
   "metadata": {},
   "outputs": [
    {
     "data": {
      "text/plain": [
       "Index(['uuid', 'name', 'legal_name', 'country_code', 'state_code', 'region',\n",
       "       'city', 'address', 'postal_code', 'status', 'short_description',\n",
       "       'category_list', 'category_groups_list', 'num_funding_rounds',\n",
       "       'total_funding_usd', 'total_funding', 'total_funding_currency_code',\n",
       "       'founded_on', 'last_funding_on', 'closed_on', 'employee_count', 'email',\n",
       "       'phone', 'facebook_url', 'linkedin_url', 'twitter_url', 'logo_url',\n",
       "       'primary_role', 'num_exits'],\n",
       "      dtype='object')"
      ]
     },
     "execution_count": 6,
     "metadata": {},
     "output_type": "execute_result"
    }
   ],
   "source": [
    "org_df_v1.columns"
   ]
  },
  {
   "cell_type": "code",
   "execution_count": 7,
   "id": "waiting-austin",
   "metadata": {},
   "outputs": [],
   "source": [
    "#delete data with no founded date, country code, and category\n",
    "org_df_v2 = org_df_v1.dropna (subset=['founded_on','country_code','category_list','category_groups_list'])"
   ]
  },
  {
   "cell_type": "code",
   "execution_count": 8,
   "id": "defined-presence",
   "metadata": {},
   "outputs": [
    {
     "data": {
      "text/plain": [
       "827800"
      ]
     },
     "execution_count": 8,
     "metadata": {},
     "output_type": "execute_result"
    }
   ],
   "source": [
    "len(org_df_v2)"
   ]
  },
  {
   "cell_type": "code",
   "execution_count": 9,
   "id": "opening-spouse",
   "metadata": {},
   "outputs": [
    {
     "name": "stderr",
     "output_type": "stream",
     "text": [
      "C:\\Users\\Abdul Rahim Ab Ghani\\miniconda3\\lib\\site-packages\\pandas\\core\\frame.py:4449: SettingWithCopyWarning: \n",
      "A value is trying to be set on a copy of a slice from a DataFrame\n",
      "\n",
      "See the caveats in the documentation: https://pandas.pydata.org/pandas-docs/stable/user_guide/indexing.html#returning-a-view-versus-a-copy\n",
      "  errors=errors,\n"
     ]
    }
   ],
   "source": [
    "org_df_v2.rename(columns = {'uuid':'org_uuid'},inplace=True)"
   ]
  },
  {
   "cell_type": "code",
   "execution_count": 11,
   "id": "technical-grace",
   "metadata": {},
   "outputs": [],
   "source": [
    "#filter only company data\n",
    "org_df_v3 = org_df_v2[org_df_v2.primary_role == 'company']"
   ]
  },
  {
   "cell_type": "code",
   "execution_count": 12,
   "id": "native-turner",
   "metadata": {},
   "outputs": [
    {
     "data": {
      "text/plain": [
       "803301"
      ]
     },
     "execution_count": 12,
     "metadata": {},
     "output_type": "execute_result"
    }
   ],
   "source": [
    "len(org_df_v3)"
   ]
  },
  {
   "cell_type": "code",
   "execution_count": 13,
   "id": "bottom-tactics",
   "metadata": {},
   "outputs": [],
   "source": [
    "#import organisations description.csv\n",
    "org_desc_df = pd.read_csv(R\"d:/msc-project/data/bulk_export_122020/organization_descriptions.csv\",encoding='utf-8')"
   ]
  },
  {
   "cell_type": "code",
   "execution_count": 14,
   "id": "chronic-bailey",
   "metadata": {},
   "outputs": [
    {
     "data": {
      "text/plain": [
       "Index(['uuid', 'name', 'type', 'permalink', 'cb_url', 'rank', 'created_at',\n",
       "       'updated_at', 'description'],\n",
       "      dtype='object')"
      ]
     },
     "execution_count": 14,
     "metadata": {},
     "output_type": "execute_result"
    }
   ],
   "source": [
    "org_desc_df.columns"
   ]
  },
  {
   "cell_type": "code",
   "execution_count": 15,
   "id": "smart-coating",
   "metadata": {},
   "outputs": [],
   "source": [
    "#drop uneseccary columns\n",
    "org_desc_df_v1 = org_desc_df.drop(columns = ['name', 'type', 'permalink', 'cb_url', 'rank', 'created_at',\n",
    "       'updated_at'])"
   ]
  },
  {
   "cell_type": "code",
   "execution_count": 16,
   "id": "noticed-japan",
   "metadata": {},
   "outputs": [
    {
     "data": {
      "text/plain": [
       "Index(['uuid', 'description'], dtype='object')"
      ]
     },
     "execution_count": 16,
     "metadata": {},
     "output_type": "execute_result"
    }
   ],
   "source": [
    "org_desc_df_v1.columns"
   ]
  },
  {
   "cell_type": "code",
   "execution_count": 18,
   "id": "altered-bubble",
   "metadata": {},
   "outputs": [],
   "source": [
    "org_desc_df_v1.rename(columns={'uuid':'org_uuid'},inplace=True)"
   ]
  },
  {
   "cell_type": "code",
   "execution_count": 19,
   "id": "allied-darkness",
   "metadata": {},
   "outputs": [
    {
     "data": {
      "text/plain": [
       "Index(['org_uuid', 'description'], dtype='object')"
      ]
     },
     "execution_count": 19,
     "metadata": {},
     "output_type": "execute_result"
    }
   ],
   "source": [
    "org_desc_df_v1.columns"
   ]
  },
  {
   "cell_type": "code",
   "execution_count": 20,
   "id": "comfortable-spirituality",
   "metadata": {},
   "outputs": [],
   "source": [
    "#combine with main org file\n",
    "main_org_df_v1 = pd.merge (org_df_v3,org_desc_df_v1,\n",
    "                         how='left',\n",
    "                         on='org_uuid'\n",
    "                         )"
   ]
  },
  {
   "cell_type": "code",
   "execution_count": 21,
   "id": "increased-furniture",
   "metadata": {},
   "outputs": [
    {
     "data": {
      "text/plain": [
       "Index(['org_uuid', 'name', 'legal_name', 'country_code', 'state_code',\n",
       "       'region', 'city', 'address', 'postal_code', 'status',\n",
       "       'short_description', 'category_list', 'category_groups_list',\n",
       "       'num_funding_rounds', 'total_funding_usd', 'total_funding',\n",
       "       'total_funding_currency_code', 'founded_on', 'last_funding_on',\n",
       "       'closed_on', 'employee_count', 'email', 'phone', 'facebook_url',\n",
       "       'linkedin_url', 'twitter_url', 'logo_url', 'primary_role', 'num_exits',\n",
       "       'description'],\n",
       "      dtype='object')"
      ]
     },
     "execution_count": 21,
     "metadata": {},
     "output_type": "execute_result"
    }
   ],
   "source": [
    "main_org_df_v1.columns"
   ]
  },
  {
   "cell_type": "code",
   "execution_count": 22,
   "id": "guided-suggestion",
   "metadata": {},
   "outputs": [],
   "source": [
    "#import ipos.csv\n",
    "ipos_df = pd.read_csv(R\"d:\\\\msc-project\\data\\bulk_export_122020\\ipos.csv\",encoding='utf-8')"
   ]
  },
  {
   "cell_type": "code",
   "execution_count": 23,
   "id": "requested-flower",
   "metadata": {},
   "outputs": [
    {
     "data": {
      "text/plain": [
       "Index(['uuid', 'name', 'type', 'permalink', 'cb_url', 'rank', 'created_at',\n",
       "       'updated_at', 'org_uuid', 'org_name', 'org_cb_url', 'country_code',\n",
       "       'state_code', 'region', 'city', 'stock_exchange_symbol', 'stock_symbol',\n",
       "       'went_public_on', 'share_price_usd', 'share_price',\n",
       "       'share_price_currency_code', 'valuation_price_usd', 'valuation_price',\n",
       "       'valuation_price_currency_code', 'money_raised_usd', 'money_raised',\n",
       "       'money_raised_currency_code'],\n",
       "      dtype='object')"
      ]
     },
     "execution_count": 23,
     "metadata": {},
     "output_type": "execute_result"
    }
   ],
   "source": [
    "ipos_df.columns"
   ]
  },
  {
   "cell_type": "code",
   "execution_count": 24,
   "id": "forward-edmonton",
   "metadata": {},
   "outputs": [],
   "source": [
    "#drop unecessary columns\n",
    "ipos_df_v1 = ipos_df.drop (columns = ['name','type','permalink', 'cb_url', 'rank', 'created_at',\n",
    "       'updated_at','org_name', 'org_cb_url', 'country_code',\n",
    "       'state_code', 'region', 'city'])"
   ]
  },
  {
   "cell_type": "code",
   "execution_count": 26,
   "id": "ruled-contrary",
   "metadata": {},
   "outputs": [
    {
     "data": {
      "text/plain": [
       "Index(['uuid', 'org_uuid', 'stock_exchange_symbol', 'stock_symbol',\n",
       "       'went_public_on', 'share_price_usd', 'share_price',\n",
       "       'share_price_currency_code', 'valuation_price_usd', 'valuation_price',\n",
       "       'valuation_price_currency_code', 'money_raised_usd', 'money_raised',\n",
       "       'money_raised_currency_code'],\n",
       "      dtype='object')"
      ]
     },
     "execution_count": 26,
     "metadata": {},
     "output_type": "execute_result"
    }
   ],
   "source": [
    "ipos_df_v1.columns"
   ]
  },
  {
   "cell_type": "code",
   "execution_count": 27,
   "id": "trained-motel",
   "metadata": {},
   "outputs": [],
   "source": [
    "ipos_df_v1.rename (columns = {'uuid':'ipo_uuid',},inplace=True)"
   ]
  },
  {
   "cell_type": "code",
   "execution_count": 28,
   "id": "excessive-rolling",
   "metadata": {},
   "outputs": [
    {
     "data": {
      "text/plain": [
       "ipo_uuid                             0\n",
       "org_uuid                             0\n",
       "stock_exchange_symbol               60\n",
       "stock_symbol                        21\n",
       "went_public_on                       0\n",
       "share_price_usd                  30694\n",
       "share_price                      30694\n",
       "share_price_currency_code        30694\n",
       "valuation_price_usd              32946\n",
       "valuation_price                  32946\n",
       "valuation_price_currency_code    32946\n",
       "money_raised_usd                 30171\n",
       "money_raised                     30171\n",
       "money_raised_currency_code       30171\n",
       "dtype: int64"
      ]
     },
     "execution_count": 28,
     "metadata": {},
     "output_type": "execute_result"
    }
   ],
   "source": [
    "#Show the value of NaN for every colum\n",
    "ipos_df_v1.isnull().sum(axis = 0)"
   ]
  },
  {
   "cell_type": "code",
   "execution_count": 29,
   "id": "arbitrary-evanescence",
   "metadata": {},
   "outputs": [
    {
     "data": {
      "text/plain": [
       "Index(['ipo_uuid', 'org_uuid', 'stock_exchange_symbol', 'stock_symbol',\n",
       "       'went_public_on', 'share_price_usd', 'share_price',\n",
       "       'share_price_currency_code', 'valuation_price_usd', 'valuation_price',\n",
       "       'valuation_price_currency_code', 'money_raised_usd', 'money_raised',\n",
       "       'money_raised_currency_code'],\n",
       "      dtype='object')"
      ]
     },
     "execution_count": 29,
     "metadata": {},
     "output_type": "execute_result"
    }
   ],
   "source": [
    "ipos_df_v1.columns"
   ]
  },
  {
   "cell_type": "code",
   "execution_count": 31,
   "id": "social-alexander",
   "metadata": {},
   "outputs": [],
   "source": [
    "main_org_df_v2 = pd.merge(main_org_df_v1,ipos_df_v1,\n",
    "                        how = 'left',\n",
    "                         on='org_uuid')"
   ]
  },
  {
   "cell_type": "code",
   "execution_count": 32,
   "id": "virgin-casino",
   "metadata": {},
   "outputs": [
    {
     "data": {
      "text/plain": [
       "Index(['org_uuid', 'name', 'legal_name', 'country_code', 'state_code',\n",
       "       'region', 'city', 'address', 'postal_code', 'status',\n",
       "       'short_description', 'category_list', 'category_groups_list',\n",
       "       'num_funding_rounds', 'total_funding_usd', 'total_funding',\n",
       "       'total_funding_currency_code', 'founded_on', 'last_funding_on',\n",
       "       'closed_on', 'employee_count', 'email', 'phone', 'facebook_url',\n",
       "       'linkedin_url', 'twitter_url', 'logo_url', 'primary_role', 'num_exits',\n",
       "       'description', 'ipo_uuid', 'stock_exchange_symbol', 'stock_symbol',\n",
       "       'went_public_on', 'share_price_usd', 'share_price',\n",
       "       'share_price_currency_code', 'valuation_price_usd', 'valuation_price',\n",
       "       'valuation_price_currency_code', 'money_raised_usd', 'money_raised',\n",
       "       'money_raised_currency_code'],\n",
       "      dtype='object')"
      ]
     },
     "execution_count": 32,
     "metadata": {},
     "output_type": "execute_result"
    }
   ],
   "source": [
    "main_org_df_v2.columns"
   ]
  },
  {
   "cell_type": "code",
   "execution_count": 33,
   "id": "conservative-appliance",
   "metadata": {},
   "outputs": [
    {
     "data": {
      "text/plain": [
       "804087"
      ]
     },
     "execution_count": 33,
     "metadata": {},
     "output_type": "execute_result"
    }
   ],
   "source": [
    "len(main_org_df_v2)"
   ]
  },
  {
   "cell_type": "code",
   "execution_count": 34,
   "id": "reserved-neighbor",
   "metadata": {},
   "outputs": [],
   "source": [
    "#import acquisitions.csv\n",
    "acquisitions_df = pd.read_csv(R\"d:\\\\msc-project\\data\\bulk_export_122020\\acquisitions.csv\",encoding='utf-8')"
   ]
  },
  {
   "cell_type": "code",
   "execution_count": 35,
   "id": "bibliographic-academy",
   "metadata": {},
   "outputs": [
    {
     "data": {
      "text/plain": [
       "Index(['uuid', 'name', 'type', 'permalink', 'cb_url', 'rank', 'created_at',\n",
       "       'updated_at', 'acquiree_uuid', 'acquiree_name', 'acquiree_cb_url',\n",
       "       'acquiree_country_code', 'acquiree_state_code', 'acquiree_region',\n",
       "       'acquiree_city', 'acquirer_uuid', 'acquirer_name', 'acquirer_cb_url',\n",
       "       'acquirer_country_code', 'acquirer_state_code', 'acquirer_region',\n",
       "       'acquirer_city', 'acquisition_type', 'acquired_on', 'price_usd',\n",
       "       'price', 'price_currency_code'],\n",
       "      dtype='object')"
      ]
     },
     "execution_count": 35,
     "metadata": {},
     "output_type": "execute_result"
    }
   ],
   "source": [
    "acquisitions_df.columns"
   ]
  },
  {
   "cell_type": "code",
   "execution_count": 36,
   "id": "fabulous-crest",
   "metadata": {},
   "outputs": [],
   "source": [
    "#drop columns\n",
    "acquisitions_df_v1 = acquisitions_df.drop(columns = ['name', 'type', 'permalink', 'cb_url', 'rank', 'created_at','updated_at',\n",
    "        'acquiree_name', 'acquiree_cb_url','acquiree_country_code', 'acquiree_state_code', 'acquiree_region','acquiree_city','acquirer_cb_url'])"
   ]
  },
  {
   "cell_type": "code",
   "execution_count": 37,
   "id": "protected-stephen",
   "metadata": {},
   "outputs": [
    {
     "data": {
      "text/plain": [
       "Index(['uuid', 'acquiree_uuid', 'acquirer_uuid', 'acquirer_name',\n",
       "       'acquirer_country_code', 'acquirer_state_code', 'acquirer_region',\n",
       "       'acquirer_city', 'acquisition_type', 'acquired_on', 'price_usd',\n",
       "       'price', 'price_currency_code'],\n",
       "      dtype='object')"
      ]
     },
     "execution_count": 37,
     "metadata": {},
     "output_type": "execute_result"
    }
   ],
   "source": [
    "acquisitions_df_v1.columns"
   ]
  },
  {
   "cell_type": "code",
   "execution_count": 38,
   "id": "phantom-housing",
   "metadata": {},
   "outputs": [],
   "source": [
    "acquisitions_df_v1.rename (columns = {'uuid':'acquisition_uuid','acquiree_uuid':'org_uuid'},inplace=True)"
   ]
  },
  {
   "cell_type": "code",
   "execution_count": 39,
   "id": "running-might",
   "metadata": {},
   "outputs": [
    {
     "data": {
      "text/plain": [
       "Index(['acquisition_uuid', 'org_uuid', 'acquirer_uuid', 'acquirer_name',\n",
       "       'acquirer_country_code', 'acquirer_state_code', 'acquirer_region',\n",
       "       'acquirer_city', 'acquisition_type', 'acquired_on', 'price_usd',\n",
       "       'price', 'price_currency_code'],\n",
       "      dtype='object')"
      ]
     },
     "execution_count": 39,
     "metadata": {},
     "output_type": "execute_result"
    }
   ],
   "source": [
    "acquisitions_df_v1.columns"
   ]
  },
  {
   "cell_type": "code",
   "execution_count": 40,
   "id": "ancient-respondent",
   "metadata": {},
   "outputs": [
    {
     "data": {
      "text/plain": [
       "acquisition_uuid             0\n",
       "org_uuid                     0\n",
       "acquirer_uuid                0\n",
       "acquirer_name                0\n",
       "acquirer_country_code     1052\n",
       "acquirer_state_code      46597\n",
       "acquirer_region           1052\n",
       "acquirer_city             1052\n",
       "acquisition_type          9508\n",
       "acquired_on                  0\n",
       "price_usd                90329\n",
       "price                    90329\n",
       "price_currency_code      90329\n",
       "dtype: int64"
      ]
     },
     "execution_count": 40,
     "metadata": {},
     "output_type": "execute_result"
    }
   ],
   "source": [
    "#Show the value of NaN for every colum\n",
    "acquisitions_df_v1.isnull().sum(axis = 0)"
   ]
  },
  {
   "cell_type": "code",
   "execution_count": 41,
   "id": "arbitrary-astrology",
   "metadata": {},
   "outputs": [],
   "source": [
    "main_org_df_v3 = pd.merge(main_org_df_v2,acquisitions_df_v1,\n",
    "                        on='org_uuid'\n",
    "                        ,how = 'left')"
   ]
  },
  {
   "cell_type": "code",
   "execution_count": 42,
   "id": "weighted-token",
   "metadata": {},
   "outputs": [
    {
     "data": {
      "text/plain": [
       "Index(['org_uuid', 'name', 'legal_name', 'country_code', 'state_code',\n",
       "       'region', 'city', 'address', 'postal_code', 'status',\n",
       "       'short_description', 'category_list', 'category_groups_list',\n",
       "       'num_funding_rounds', 'total_funding_usd', 'total_funding',\n",
       "       'total_funding_currency_code', 'founded_on', 'last_funding_on',\n",
       "       'closed_on', 'employee_count', 'email', 'phone', 'facebook_url',\n",
       "       'linkedin_url', 'twitter_url', 'logo_url', 'primary_role', 'num_exits',\n",
       "       'description', 'ipo_uuid', 'stock_exchange_symbol', 'stock_symbol',\n",
       "       'went_public_on', 'share_price_usd', 'share_price',\n",
       "       'share_price_currency_code', 'valuation_price_usd', 'valuation_price',\n",
       "       'valuation_price_currency_code', 'money_raised_usd', 'money_raised',\n",
       "       'money_raised_currency_code', 'acquisition_uuid', 'acquirer_uuid',\n",
       "       'acquirer_name', 'acquirer_country_code', 'acquirer_state_code',\n",
       "       'acquirer_region', 'acquirer_city', 'acquisition_type', 'acquired_on',\n",
       "       'price_usd', 'price', 'price_currency_code'],\n",
       "      dtype='object')"
      ]
     },
     "execution_count": 42,
     "metadata": {},
     "output_type": "execute_result"
    }
   ],
   "source": [
    "main_org_df_v3.columns"
   ]
  },
  {
   "cell_type": "code",
   "execution_count": 43,
   "id": "junior-trust",
   "metadata": {},
   "outputs": [
    {
     "data": {
      "text/plain": [
       "810320"
      ]
     },
     "execution_count": 43,
     "metadata": {},
     "output_type": "execute_result"
    }
   ],
   "source": [
    "len(main_org_df_v3)"
   ]
  },
  {
   "cell_type": "code",
   "execution_count": 44,
   "id": "stylish-bobby",
   "metadata": {},
   "outputs": [],
   "source": [
    "#import parents organisation.csv\n",
    "parents_df = pd.read_csv(R\"d:/msc-project/data/bulk_export_122020/org_parents.csv\",encoding='utf-8')"
   ]
  },
  {
   "cell_type": "code",
   "execution_count": 45,
   "id": "cathedral-trick",
   "metadata": {},
   "outputs": [
    {
     "data": {
      "text/plain": [
       "Index(['uuid', 'name', 'type', 'permalink', 'cb_url', 'rank', 'created_at',\n",
       "       'updated_at', 'parent_uuid', 'parent_name'],\n",
       "      dtype='object')"
      ]
     },
     "execution_count": 45,
     "metadata": {},
     "output_type": "execute_result"
    }
   ],
   "source": [
    "parents_df.columns"
   ]
  },
  {
   "cell_type": "code",
   "execution_count": 47,
   "id": "processed-preliminary",
   "metadata": {},
   "outputs": [],
   "source": [
    "parents_df_v1 = parents_df.drop(columns=['name', 'type', 'permalink', 'cb_url', 'rank', 'created_at',\n",
    "               'updated_at'])"
   ]
  },
  {
   "cell_type": "code",
   "execution_count": 48,
   "id": "bulgarian-crowd",
   "metadata": {},
   "outputs": [
    {
     "data": {
      "text/plain": [
       "Index(['uuid', 'parent_uuid', 'parent_name'], dtype='object')"
      ]
     },
     "execution_count": 48,
     "metadata": {},
     "output_type": "execute_result"
    }
   ],
   "source": [
    "parents_df_v1.columns"
   ]
  },
  {
   "cell_type": "code",
   "execution_count": 50,
   "id": "several-satellite",
   "metadata": {},
   "outputs": [],
   "source": [
    "parents_df_v1.rename(columns={'uuid':'org_uuid'},inplace=True)"
   ]
  },
  {
   "cell_type": "code",
   "execution_count": 52,
   "id": "helpful-accessory",
   "metadata": {},
   "outputs": [
    {
     "data": {
      "text/plain": [
       "Index(['org_uuid', 'parent_uuid', 'parent_name'], dtype='object')"
      ]
     },
     "execution_count": 52,
     "metadata": {},
     "output_type": "execute_result"
    }
   ],
   "source": [
    "parents_df_v1.columns"
   ]
  },
  {
   "cell_type": "code",
   "execution_count": 53,
   "id": "binding-david",
   "metadata": {},
   "outputs": [],
   "source": [
    "main_org_df_v4 = pd.merge(main_org_df_v3,parents_df_v1,\n",
    "                         on = 'org_uuid',\n",
    "                         how = 'left')"
   ]
  },
  {
   "cell_type": "code",
   "execution_count": 54,
   "id": "aware-advertising",
   "metadata": {},
   "outputs": [
    {
     "data": {
      "text/plain": [
       "Index(['org_uuid', 'name', 'legal_name', 'country_code', 'state_code',\n",
       "       'region', 'city', 'address', 'postal_code', 'status',\n",
       "       'short_description', 'category_list', 'category_groups_list',\n",
       "       'num_funding_rounds', 'total_funding_usd', 'total_funding',\n",
       "       'total_funding_currency_code', 'founded_on', 'last_funding_on',\n",
       "       'closed_on', 'employee_count', 'email', 'phone', 'facebook_url',\n",
       "       'linkedin_url', 'twitter_url', 'logo_url', 'primary_role', 'num_exits',\n",
       "       'description', 'ipo_uuid', 'stock_exchange_symbol', 'stock_symbol',\n",
       "       'went_public_on', 'share_price_usd', 'share_price',\n",
       "       'share_price_currency_code', 'valuation_price_usd', 'valuation_price',\n",
       "       'valuation_price_currency_code', 'money_raised_usd', 'money_raised',\n",
       "       'money_raised_currency_code', 'acquisition_uuid', 'acquirer_uuid',\n",
       "       'acquirer_name', 'acquirer_country_code', 'acquirer_state_code',\n",
       "       'acquirer_region', 'acquirer_city', 'acquisition_type', 'acquired_on',\n",
       "       'price_usd', 'price', 'price_currency_code', 'parent_uuid',\n",
       "       'parent_name'],\n",
       "      dtype='object')"
      ]
     },
     "execution_count": 54,
     "metadata": {},
     "output_type": "execute_result"
    }
   ],
   "source": [
    "main_org_df_v4.columns"
   ]
  },
  {
   "cell_type": "markdown",
   "id": "partial-panel",
   "metadata": {},
   "source": [
    "# Funding Rounds"
   ]
  },
  {
   "cell_type": "code",
   "execution_count": 56,
   "id": "hazardous-cabinet",
   "metadata": {},
   "outputs": [],
   "source": [
    "#import funding_rounds\n",
    "funding_df = pd.read_csv(R\"d:/msc-project/data/bulk_export_122020/funding_rounds.csv\",encoding='utf-8')"
   ]
  },
  {
   "cell_type": "code",
   "execution_count": 58,
   "id": "tracked-bacteria",
   "metadata": {},
   "outputs": [
    {
     "data": {
      "text/plain": [
       "Index(['uuid', 'name', 'type', 'permalink', 'cb_url', 'rank', 'created_at',\n",
       "       'updated_at', 'country_code', 'state_code', 'region', 'city',\n",
       "       'investment_type', 'announced_on', 'raised_amount_usd', 'raised_amount',\n",
       "       'raised_amount_currency_code', 'post_money_valuation_usd',\n",
       "       'post_money_valuation', 'post_money_valuation_currency_code',\n",
       "       'investor_count', 'org_uuid', 'org_name', 'lead_investor_uuids'],\n",
       "      dtype='object')"
      ]
     },
     "execution_count": 58,
     "metadata": {},
     "output_type": "execute_result"
    }
   ],
   "source": [
    "funding_df.columns"
   ]
  },
  {
   "cell_type": "code",
   "execution_count": 76,
   "id": "combined-secret",
   "metadata": {},
   "outputs": [],
   "source": [
    "funding_df_v1 = funding_df.drop(columns=['type','permalink', 'cb_url', 'rank', 'created_at',\n",
    "                'updated_at'])"
   ]
  },
  {
   "cell_type": "code",
   "execution_count": 77,
   "id": "religious-freedom",
   "metadata": {},
   "outputs": [
    {
     "data": {
      "text/plain": [
       "Index(['uuid', 'name', 'country_code', 'state_code', 'region', 'city',\n",
       "       'investment_type', 'announced_on', 'raised_amount_usd', 'raised_amount',\n",
       "       'raised_amount_currency_code', 'post_money_valuation_usd',\n",
       "       'post_money_valuation', 'post_money_valuation_currency_code',\n",
       "       'investor_count', 'org_uuid', 'org_name', 'lead_investor_uuids'],\n",
       "      dtype='object')"
      ]
     },
     "execution_count": 77,
     "metadata": {},
     "output_type": "execute_result"
    }
   ],
   "source": [
    "funding_df_v1.columns"
   ]
  },
  {
   "cell_type": "code",
   "execution_count": 78,
   "id": "affected-weight",
   "metadata": {},
   "outputs": [],
   "source": [
    "funding_df_v1.rename(columns={'uuid':'funding_round_uuid'},inplace=True)"
   ]
  },
  {
   "cell_type": "code",
   "execution_count": 79,
   "id": "closed-viking",
   "metadata": {},
   "outputs": [
    {
     "data": {
      "text/plain": [
       "Index(['funding_round_uuid', 'name', 'country_code', 'state_code', 'region',\n",
       "       'city', 'investment_type', 'announced_on', 'raised_amount_usd',\n",
       "       'raised_amount', 'raised_amount_currency_code',\n",
       "       'post_money_valuation_usd', 'post_money_valuation',\n",
       "       'post_money_valuation_currency_code', 'investor_count', 'org_uuid',\n",
       "       'org_name', 'lead_investor_uuids'],\n",
       "      dtype='object')"
      ]
     },
     "execution_count": 79,
     "metadata": {},
     "output_type": "execute_result"
    }
   ],
   "source": [
    "funding_df_v1.columns"
   ]
  },
  {
   "cell_type": "code",
   "execution_count": 80,
   "id": "pressed-testament",
   "metadata": {},
   "outputs": [
    {
     "data": {
      "text/plain": [
       "funding_round_uuid                         0\n",
       "name                                       0\n",
       "country_code                            4237\n",
       "state_code                            172992\n",
       "region                                  4237\n",
       "city                                    4237\n",
       "investment_type                            0\n",
       "announced_on                               0\n",
       "raised_amount_usd                      98961\n",
       "raised_amount                          98961\n",
       "raised_amount_currency_code            98961\n",
       "post_money_valuation_usd              346299\n",
       "post_money_valuation                  346299\n",
       "post_money_valuation_currency_code    346299\n",
       "investor_count                        101823\n",
       "org_uuid                                   0\n",
       "org_name                                   2\n",
       "lead_investor_uuids                   238258\n",
       "dtype: int64"
      ]
     },
     "execution_count": 80,
     "metadata": {},
     "output_type": "execute_result"
    }
   ],
   "source": [
    "#check for NaN value\n",
    "funding_df_v1.isnull().sum(axis=0)"
   ]
  },
  {
   "cell_type": "code",
   "execution_count": 70,
   "id": "desirable-welcome",
   "metadata": {},
   "outputs": [],
   "source": [
    "#import funding_rounds\n",
    "investment_df = pd.read_csv(R\"d:/msc-project/data/bulk_export_122020/investments.csv\",encoding='utf-8')"
   ]
  },
  {
   "cell_type": "code",
   "execution_count": 71,
   "id": "structured-dress",
   "metadata": {},
   "outputs": [
    {
     "data": {
      "text/plain": [
       "Index(['uuid', 'name', 'type', 'permalink', 'cb_url', 'rank', 'created_at',\n",
       "       'updated_at', 'funding_round_uuid', 'funding_round_name',\n",
       "       'investor_uuid', 'investor_name', 'investor_type', 'is_lead_investor'],\n",
       "      dtype='object')"
      ]
     },
     "execution_count": 71,
     "metadata": {},
     "output_type": "execute_result"
    }
   ],
   "source": [
    "investment_df.columns"
   ]
  },
  {
   "cell_type": "code",
   "execution_count": 81,
   "id": "virgin-edition",
   "metadata": {},
   "outputs": [],
   "source": [
    "#drop columns\n",
    "investment_df_v1 = investment_df.drop(columns = ['type', 'permalink', 'cb_url', 'rank', 'created_at',\n",
    "       'updated_at'])"
   ]
  },
  {
   "cell_type": "code",
   "execution_count": 82,
   "id": "downtown-charger",
   "metadata": {},
   "outputs": [
    {
     "data": {
      "text/plain": [
       "Index(['uuid', 'name', 'funding_round_uuid', 'funding_round_name',\n",
       "       'investor_uuid', 'investor_name', 'investor_type', 'is_lead_investor'],\n",
       "      dtype='object')"
      ]
     },
     "execution_count": 82,
     "metadata": {},
     "output_type": "execute_result"
    }
   ],
   "source": [
    "investment_df_v1.columns"
   ]
  },
  {
   "cell_type": "code",
   "execution_count": 83,
   "id": "accessory-conviction",
   "metadata": {},
   "outputs": [],
   "source": [
    "investment_df_v1.rename(columns={'uuid':'investment_uuid'},inplace=True)"
   ]
  },
  {
   "cell_type": "code",
   "execution_count": 85,
   "id": "adjusted-denver",
   "metadata": {},
   "outputs": [
    {
     "data": {
      "text/plain": [
       "Index(['investment_uuid', 'name', 'funding_round_uuid', 'funding_round_name',\n",
       "       'investor_uuid', 'investor_name', 'investor_type', 'is_lead_investor'],\n",
       "      dtype='object')"
      ]
     },
     "execution_count": 85,
     "metadata": {},
     "output_type": "execute_result"
    }
   ],
   "source": [
    "investment_df_v1.columns"
   ]
  },
  {
   "cell_type": "code",
   "execution_count": 86,
   "id": "dirty-april",
   "metadata": {},
   "outputs": [
    {
     "data": {
      "text/plain": [
       "investment_uuid            0\n",
       "name                       1\n",
       "funding_round_uuid         1\n",
       "funding_round_name         1\n",
       "investor_uuid              0\n",
       "investor_name              1\n",
       "investor_type              0\n",
       "is_lead_investor      283147\n",
       "dtype: int64"
      ]
     },
     "execution_count": 86,
     "metadata": {},
     "output_type": "execute_result"
    }
   ],
   "source": [
    "investment_df_v1.isnull().sum(axis=0)"
   ]
  },
  {
   "cell_type": "code",
   "execution_count": 87,
   "id": "attempted-strike",
   "metadata": {},
   "outputs": [],
   "source": [
    "#import investors\n",
    "investors_df = pd.read_csv(R\"d:/msc-project/data/bulk_export_122020/investors.csv\",encoding='utf-8')"
   ]
  },
  {
   "cell_type": "code",
   "execution_count": 88,
   "id": "dimensional-sunrise",
   "metadata": {},
   "outputs": [
    {
     "data": {
      "text/plain": [
       "Index(['uuid', 'name', 'type', 'permalink', 'cb_url', 'rank', 'created_at',\n",
       "       'updated_at', 'roles', 'domain', 'country_code', 'state_code', 'region',\n",
       "       'city', 'investor_types', 'investment_count', 'total_funding_usd',\n",
       "       'total_funding', 'total_funding_currency_code', 'founded_on',\n",
       "       'closed_on', 'facebook_url', 'linkedin_url', 'twitter_url', 'logo_url'],\n",
       "      dtype='object')"
      ]
     },
     "execution_count": 88,
     "metadata": {},
     "output_type": "execute_result"
    }
   ],
   "source": [
    "investors_df.columns"
   ]
  },
  {
   "cell_type": "code",
   "execution_count": 89,
   "id": "running-swiss",
   "metadata": {},
   "outputs": [
    {
     "data": {
      "text/html": [
       "<div>\n",
       "<style scoped>\n",
       "    .dataframe tbody tr th:only-of-type {\n",
       "        vertical-align: middle;\n",
       "    }\n",
       "\n",
       "    .dataframe tbody tr th {\n",
       "        vertical-align: top;\n",
       "    }\n",
       "\n",
       "    .dataframe thead th {\n",
       "        text-align: right;\n",
       "    }\n",
       "</style>\n",
       "<table border=\"1\" class=\"dataframe\">\n",
       "  <thead>\n",
       "    <tr style=\"text-align: right;\">\n",
       "      <th></th>\n",
       "      <th>uuid</th>\n",
       "      <th>name</th>\n",
       "      <th>type</th>\n",
       "      <th>permalink</th>\n",
       "      <th>cb_url</th>\n",
       "      <th>rank</th>\n",
       "      <th>created_at</th>\n",
       "      <th>updated_at</th>\n",
       "      <th>roles</th>\n",
       "      <th>domain</th>\n",
       "      <th>...</th>\n",
       "      <th>investment_count</th>\n",
       "      <th>total_funding_usd</th>\n",
       "      <th>total_funding</th>\n",
       "      <th>total_funding_currency_code</th>\n",
       "      <th>founded_on</th>\n",
       "      <th>closed_on</th>\n",
       "      <th>facebook_url</th>\n",
       "      <th>linkedin_url</th>\n",
       "      <th>twitter_url</th>\n",
       "      <th>logo_url</th>\n",
       "    </tr>\n",
       "  </thead>\n",
       "  <tbody>\n",
       "    <tr>\n",
       "      <th>0</th>\n",
       "      <td>bf4d7b0e-b34d-2fd8-d292-6049c4f7efc7</td>\n",
       "      <td>Zoho</td>\n",
       "      <td>organization</td>\n",
       "      <td>zoho</td>\n",
       "      <td>https://www.crunchbase.com/organization/zoho</td>\n",
       "      <td>7694.0</td>\n",
       "      <td>2007-05-26 02:30:28</td>\n",
       "      <td>2018-10-27 00:29:49</td>\n",
       "      <td>investor,company</td>\n",
       "      <td>zoho.com</td>\n",
       "      <td>...</td>\n",
       "      <td>6.0</td>\n",
       "      <td>NaN</td>\n",
       "      <td>NaN</td>\n",
       "      <td>NaN</td>\n",
       "      <td>1996-09-15</td>\n",
       "      <td>NaN</td>\n",
       "      <td>http://www.facebook.com/zoho</td>\n",
       "      <td>http://www.linkedin.com/company/zoho-corporati...</td>\n",
       "      <td>http://twitter.com/zoho</td>\n",
       "      <td>https://res.cloudinary.com/crunchbase-producti...</td>\n",
       "    </tr>\n",
       "    <tr>\n",
       "      <th>1</th>\n",
       "      <td>f4d5ab44-058b-298b-ea81-380e6e9a8eec</td>\n",
       "      <td>Omidyar Network</td>\n",
       "      <td>organization</td>\n",
       "      <td>omidyar-network</td>\n",
       "      <td>https://www.crunchbase.com/organization/omidya...</td>\n",
       "      <td>1758.0</td>\n",
       "      <td>2007-05-26 03:21:34</td>\n",
       "      <td>2019-06-19 12:17:48</td>\n",
       "      <td>investor</td>\n",
       "      <td>omidyar.com</td>\n",
       "      <td>...</td>\n",
       "      <td>313.0</td>\n",
       "      <td>NaN</td>\n",
       "      <td>NaN</td>\n",
       "      <td>NaN</td>\n",
       "      <td>2004-01-01</td>\n",
       "      <td>NaN</td>\n",
       "      <td>http://www.facebook.com/OmidyarNetwork</td>\n",
       "      <td>http://www.linkedin.com/company/22806</td>\n",
       "      <td>http://twitter.com/OmidyarNetwork</td>\n",
       "      <td>https://res.cloudinary.com/crunchbase-producti...</td>\n",
       "    </tr>\n",
       "    <tr>\n",
       "      <th>2</th>\n",
       "      <td>df662812-7f97-0b43-9d3e-12f64f504fbb</td>\n",
       "      <td>Facebook</td>\n",
       "      <td>organization</td>\n",
       "      <td>facebook</td>\n",
       "      <td>https://www.crunchbase.com/organization/facebook</td>\n",
       "      <td>5.0</td>\n",
       "      <td>2007-05-26 04:22:15</td>\n",
       "      <td>2020-10-21 13:53:15</td>\n",
       "      <td>investor,company</td>\n",
       "      <td>facebook.com</td>\n",
       "      <td>...</td>\n",
       "      <td>32.0</td>\n",
       "      <td>1.612282e+10</td>\n",
       "      <td>1.612282e+10</td>\n",
       "      <td>USD</td>\n",
       "      <td>2004-02-04</td>\n",
       "      <td>NaN</td>\n",
       "      <td>https://www.facebook.com/facebook/</td>\n",
       "      <td>http://www.linkedin.com/company/facebook</td>\n",
       "      <td>https://twitter.com/facebook</td>\n",
       "      <td>https://res.cloudinary.com/crunchbase-producti...</td>\n",
       "    </tr>\n",
       "  </tbody>\n",
       "</table>\n",
       "<p>3 rows × 25 columns</p>\n",
       "</div>"
      ],
      "text/plain": [
       "                                   uuid             name          type  \\\n",
       "0  bf4d7b0e-b34d-2fd8-d292-6049c4f7efc7             Zoho  organization   \n",
       "1  f4d5ab44-058b-298b-ea81-380e6e9a8eec  Omidyar Network  organization   \n",
       "2  df662812-7f97-0b43-9d3e-12f64f504fbb         Facebook  organization   \n",
       "\n",
       "         permalink                                             cb_url    rank  \\\n",
       "0             zoho       https://www.crunchbase.com/organization/zoho  7694.0   \n",
       "1  omidyar-network  https://www.crunchbase.com/organization/omidya...  1758.0   \n",
       "2         facebook   https://www.crunchbase.com/organization/facebook     5.0   \n",
       "\n",
       "            created_at           updated_at             roles        domain  \\\n",
       "0  2007-05-26 02:30:28  2018-10-27 00:29:49  investor,company      zoho.com   \n",
       "1  2007-05-26 03:21:34  2019-06-19 12:17:48          investor   omidyar.com   \n",
       "2  2007-05-26 04:22:15  2020-10-21 13:53:15  investor,company  facebook.com   \n",
       "\n",
       "   ... investment_count total_funding_usd total_funding  \\\n",
       "0  ...              6.0               NaN           NaN   \n",
       "1  ...            313.0               NaN           NaN   \n",
       "2  ...             32.0      1.612282e+10  1.612282e+10   \n",
       "\n",
       "  total_funding_currency_code  founded_on  closed_on  \\\n",
       "0                         NaN  1996-09-15        NaN   \n",
       "1                         NaN  2004-01-01        NaN   \n",
       "2                         USD  2004-02-04        NaN   \n",
       "\n",
       "                             facebook_url  \\\n",
       "0            http://www.facebook.com/zoho   \n",
       "1  http://www.facebook.com/OmidyarNetwork   \n",
       "2      https://www.facebook.com/facebook/   \n",
       "\n",
       "                                        linkedin_url  \\\n",
       "0  http://www.linkedin.com/company/zoho-corporati...   \n",
       "1              http://www.linkedin.com/company/22806   \n",
       "2           http://www.linkedin.com/company/facebook   \n",
       "\n",
       "                         twitter_url  \\\n",
       "0            http://twitter.com/zoho   \n",
       "1  http://twitter.com/OmidyarNetwork   \n",
       "2       https://twitter.com/facebook   \n",
       "\n",
       "                                            logo_url  \n",
       "0  https://res.cloudinary.com/crunchbase-producti...  \n",
       "1  https://res.cloudinary.com/crunchbase-producti...  \n",
       "2  https://res.cloudinary.com/crunchbase-producti...  \n",
       "\n",
       "[3 rows x 25 columns]"
      ]
     },
     "execution_count": 89,
     "metadata": {},
     "output_type": "execute_result"
    }
   ],
   "source": [
    "investors_df.head(3)"
   ]
  },
  {
   "cell_type": "code",
   "execution_count": 97,
   "id": "handled-wednesday",
   "metadata": {},
   "outputs": [],
   "source": [
    "investors_df_v1 = investors_df.drop(columns=['permalink', 'cb_url', 'rank', 'created_at',\n",
    "       'updated_at', 'roles','domain'])"
   ]
  },
  {
   "cell_type": "code",
   "execution_count": 98,
   "id": "political-grade",
   "metadata": {},
   "outputs": [
    {
     "data": {
      "text/plain": [
       "Index(['uuid', 'name', 'type', 'country_code', 'state_code', 'region', 'city',\n",
       "       'investor_types', 'investment_count', 'total_funding_usd',\n",
       "       'total_funding', 'total_funding_currency_code', 'founded_on',\n",
       "       'closed_on', 'facebook_url', 'linkedin_url', 'twitter_url', 'logo_url'],\n",
       "      dtype='object')"
      ]
     },
     "execution_count": 98,
     "metadata": {},
     "output_type": "execute_result"
    }
   ],
   "source": [
    "investors_df_v1.columns"
   ]
  },
  {
   "cell_type": "code",
   "execution_count": 99,
   "id": "centered-school",
   "metadata": {},
   "outputs": [],
   "source": [
    "investors_df_v1.rename(columns={'uuid':'investor_uuid'},inplace=True)"
   ]
  },
  {
   "cell_type": "code",
   "execution_count": 100,
   "id": "distinguished-glossary",
   "metadata": {},
   "outputs": [
    {
     "data": {
      "text/plain": [
       "Index(['investor_uuid', 'name', 'type', 'country_code', 'state_code', 'region',\n",
       "       'city', 'investor_types', 'investment_count', 'total_funding_usd',\n",
       "       'total_funding', 'total_funding_currency_code', 'founded_on',\n",
       "       'closed_on', 'facebook_url', 'linkedin_url', 'twitter_url', 'logo_url'],\n",
       "      dtype='object')"
      ]
     },
     "execution_count": 100,
     "metadata": {},
     "output_type": "execute_result"
    }
   ],
   "source": [
    "investors_df_v1.columns"
   ]
  },
  {
   "cell_type": "code",
   "execution_count": 101,
   "id": "outer-duplicate",
   "metadata": {},
   "outputs": [
    {
     "data": {
      "text/plain": [
       "investor_uuid                       0\n",
       "name                                2\n",
       "type                                0\n",
       "country_code                    53898\n",
       "state_code                     112472\n",
       "region                          57935\n",
       "city                            59582\n",
       "investor_types                  81201\n",
       "investment_count                83892\n",
       "total_funding_usd              162641\n",
       "total_funding                  162641\n",
       "total_funding_currency_code    162641\n",
       "founded_on                     121592\n",
       "closed_on                      166366\n",
       "facebook_url                   137548\n",
       "linkedin_url                    78483\n",
       "twitter_url                    124010\n",
       "logo_url                        42484\n",
       "dtype: int64"
      ]
     },
     "execution_count": 101,
     "metadata": {},
     "output_type": "execute_result"
    }
   ],
   "source": [
    "investors_df_v1.isnull().sum(axis=0)"
   ]
  },
  {
   "cell_type": "code",
   "execution_count": 102,
   "id": "tight-retention",
   "metadata": {},
   "outputs": [],
   "source": [
    "#import investment partner\n",
    "investment_partner_df = pd.read_csv(R\"d:/msc-project/data/bulk_export_122020/investment_partners.csv\",encoding='utf-8')"
   ]
  },
  {
   "cell_type": "code",
   "execution_count": 103,
   "id": "vietnamese-consensus",
   "metadata": {},
   "outputs": [
    {
     "data": {
      "text/plain": [
       "Index(['uuid', 'name', 'type', 'permalink', 'cb_url', 'rank', 'created_at',\n",
       "       'updated_at', 'funding_round_uuid', 'funding_round_name',\n",
       "       'investor_uuid', 'investor_name', 'partner_uuid', 'partner_name'],\n",
       "      dtype='object')"
      ]
     },
     "execution_count": 103,
     "metadata": {},
     "output_type": "execute_result"
    }
   ],
   "source": [
    "investment_partner_df.columns"
   ]
  },
  {
   "cell_type": "code",
   "execution_count": 104,
   "id": "integrated-mathematics",
   "metadata": {},
   "outputs": [
    {
     "data": {
      "text/html": [
       "<div>\n",
       "<style scoped>\n",
       "    .dataframe tbody tr th:only-of-type {\n",
       "        vertical-align: middle;\n",
       "    }\n",
       "\n",
       "    .dataframe tbody tr th {\n",
       "        vertical-align: top;\n",
       "    }\n",
       "\n",
       "    .dataframe thead th {\n",
       "        text-align: right;\n",
       "    }\n",
       "</style>\n",
       "<table border=\"1\" class=\"dataframe\">\n",
       "  <thead>\n",
       "    <tr style=\"text-align: right;\">\n",
       "      <th></th>\n",
       "      <th>uuid</th>\n",
       "      <th>name</th>\n",
       "      <th>type</th>\n",
       "      <th>permalink</th>\n",
       "      <th>cb_url</th>\n",
       "      <th>rank</th>\n",
       "      <th>created_at</th>\n",
       "      <th>updated_at</th>\n",
       "      <th>funding_round_uuid</th>\n",
       "      <th>funding_round_name</th>\n",
       "      <th>investor_uuid</th>\n",
       "      <th>investor_name</th>\n",
       "      <th>partner_uuid</th>\n",
       "      <th>partner_name</th>\n",
       "    </tr>\n",
       "  </thead>\n",
       "  <tbody>\n",
       "    <tr>\n",
       "      <th>0</th>\n",
       "      <td>524986f0-3049-54a4-fa72-f60897a5e61d</td>\n",
       "      <td>Accel investment in Series A - Facebook</td>\n",
       "      <td>investment</td>\n",
       "      <td>accel-invested-in-facebook-series-a--d950d7a5-...</td>\n",
       "      <td>https://www.crunchbase.com/investment/accel-in...</td>\n",
       "      <td>NaN</td>\n",
       "      <td>2007-05-27 06:09:10</td>\n",
       "      <td>2018-02-13 00:52:57</td>\n",
       "      <td>d950d7a5-79ff-fb93-ca87-13386b0e2feb</td>\n",
       "      <td>Series A - Facebook</td>\n",
       "      <td>b08efc27-da40-505a-6f9d-c9e14247bf36</td>\n",
       "      <td>Accel</td>\n",
       "      <td>2d78d1e7-203c-3eb6-bf1b-c51f10e0679b</td>\n",
       "      <td>Jim Breyer</td>\n",
       "    </tr>\n",
       "    <tr>\n",
       "      <th>1</th>\n",
       "      <td>524986f0-3049-54a4-fa72-f60897a5e61d</td>\n",
       "      <td>Accel investment in Series A - Facebook</td>\n",
       "      <td>investment</td>\n",
       "      <td>accel-invested-in-facebook-series-a--d950d7a5-...</td>\n",
       "      <td>https://www.crunchbase.com/investment/accel-in...</td>\n",
       "      <td>NaN</td>\n",
       "      <td>2007-05-27 06:09:10</td>\n",
       "      <td>2018-02-13 00:52:57</td>\n",
       "      <td>d950d7a5-79ff-fb93-ca87-13386b0e2feb</td>\n",
       "      <td>Series A - Facebook</td>\n",
       "      <td>b08efc27-da40-505a-6f9d-c9e14247bf36</td>\n",
       "      <td>Accel</td>\n",
       "      <td>eaf6c243-d355-32f3-e23a-2a5fc82e8b34</td>\n",
       "      <td>Kevin Efrusy</td>\n",
       "    </tr>\n",
       "  </tbody>\n",
       "</table>\n",
       "</div>"
      ],
      "text/plain": [
       "                                   uuid  \\\n",
       "0  524986f0-3049-54a4-fa72-f60897a5e61d   \n",
       "1  524986f0-3049-54a4-fa72-f60897a5e61d   \n",
       "\n",
       "                                      name        type  \\\n",
       "0  Accel investment in Series A - Facebook  investment   \n",
       "1  Accel investment in Series A - Facebook  investment   \n",
       "\n",
       "                                           permalink  \\\n",
       "0  accel-invested-in-facebook-series-a--d950d7a5-...   \n",
       "1  accel-invested-in-facebook-series-a--d950d7a5-...   \n",
       "\n",
       "                                              cb_url  rank  \\\n",
       "0  https://www.crunchbase.com/investment/accel-in...   NaN   \n",
       "1  https://www.crunchbase.com/investment/accel-in...   NaN   \n",
       "\n",
       "            created_at           updated_at  \\\n",
       "0  2007-05-27 06:09:10  2018-02-13 00:52:57   \n",
       "1  2007-05-27 06:09:10  2018-02-13 00:52:57   \n",
       "\n",
       "                     funding_round_uuid   funding_round_name  \\\n",
       "0  d950d7a5-79ff-fb93-ca87-13386b0e2feb  Series A - Facebook   \n",
       "1  d950d7a5-79ff-fb93-ca87-13386b0e2feb  Series A - Facebook   \n",
       "\n",
       "                          investor_uuid investor_name  \\\n",
       "0  b08efc27-da40-505a-6f9d-c9e14247bf36         Accel   \n",
       "1  b08efc27-da40-505a-6f9d-c9e14247bf36         Accel   \n",
       "\n",
       "                           partner_uuid  partner_name  \n",
       "0  2d78d1e7-203c-3eb6-bf1b-c51f10e0679b    Jim Breyer  \n",
       "1  eaf6c243-d355-32f3-e23a-2a5fc82e8b34  Kevin Efrusy  "
      ]
     },
     "execution_count": 104,
     "metadata": {},
     "output_type": "execute_result"
    }
   ],
   "source": [
    "investment_partner_df.head(2)"
   ]
  },
  {
   "cell_type": "code",
   "execution_count": 107,
   "id": "prescription-exclusion",
   "metadata": {},
   "outputs": [],
   "source": [
    "investment_partner_df_v1 = investment_partner_df.drop(columns=['name', 'type', 'permalink', 'cb_url', 'rank', 'created_at',\n",
    "       'updated_at', 'funding_round_uuid', 'funding_round_name',\n",
    "       'investor_uuid', 'investor_name'])"
   ]
  },
  {
   "cell_type": "code",
   "execution_count": 108,
   "id": "greek-cooling",
   "metadata": {},
   "outputs": [],
   "source": [
    "investment_partner_df_v1.rename (columns={'uuid':'investment_uuid'},inplace=True)"
   ]
  },
  {
   "cell_type": "code",
   "execution_count": 109,
   "id": "round-brass",
   "metadata": {},
   "outputs": [
    {
     "data": {
      "text/plain": [
       "Index(['investment_uuid', 'partner_uuid', 'partner_name'], dtype='object')"
      ]
     },
     "execution_count": 109,
     "metadata": {},
     "output_type": "execute_result"
    }
   ],
   "source": [
    "investment_partner_df_v1.columns"
   ]
  },
  {
   "cell_type": "code",
   "execution_count": 110,
   "id": "alien-edition",
   "metadata": {},
   "outputs": [],
   "source": [
    "main_investment_v1 = pd.merge (investment_df_v1,investment_partner_df_v1,\n",
    "                              on='investment_uuid',\n",
    "                              how='left')"
   ]
  },
  {
   "cell_type": "code",
   "execution_count": 112,
   "id": "standard-small",
   "metadata": {},
   "outputs": [
    {
     "data": {
      "text/plain": [
       "Index(['investment_uuid', 'name', 'funding_round_uuid', 'funding_round_name',\n",
       "       'investor_uuid', 'investor_name', 'investor_type', 'is_lead_investor',\n",
       "       'partner_uuid', 'partner_name'],\n",
       "      dtype='object')"
      ]
     },
     "execution_count": 112,
     "metadata": {},
     "output_type": "execute_result"
    }
   ],
   "source": [
    "main_investment_v1.columns"
   ]
  },
  {
   "cell_type": "code",
   "execution_count": null,
   "id": "later-soviet",
   "metadata": {},
   "outputs": [],
   "source": []
  }
 ],
 "metadata": {
  "kernelspec": {
   "display_name": "Python 3",
   "language": "python",
   "name": "python3"
  },
  "language_info": {
   "codemirror_mode": {
    "name": "ipython",
    "version": 3
   },
   "file_extension": ".py",
   "mimetype": "text/x-python",
   "name": "python",
   "nbconvert_exporter": "python",
   "pygments_lexer": "ipython3",
   "version": "3.7.9"
  }
 },
 "nbformat": 4,
 "nbformat_minor": 5
}
