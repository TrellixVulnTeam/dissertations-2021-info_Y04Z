{
 "cells": [
  {
   "cell_type": "code",
   "execution_count": 1,
   "id": "leading-effects",
   "metadata": {},
   "outputs": [],
   "source": [
    "#Import basic packages\n",
    "import os\n",
    "import numpy as np\n",
    "import pandas as pd\n",
    "import csv"
   ]
  },
  {
   "cell_type": "code",
   "execution_count": 2,
   "id": "stock-glance",
   "metadata": {},
   "outputs": [],
   "source": [
    "#import organizations.csv\n",
    "org_df = pd.read_csv(R\"d:\\\\msc-project\\data\\bulk_export_122020\\organizations.csv\",encoding='utf-8')"
   ]
  },
  {
   "cell_type": "code",
   "execution_count": 3,
   "id": "collected-cooling",
   "metadata": {},
   "outputs": [
    {
     "data": {
      "text/plain": [
       "Index(['uuid', 'name', 'type', 'permalink', 'cb_url', 'rank', 'created_at',\n",
       "       'updated_at', 'legal_name', 'roles', 'domain', 'homepage_url',\n",
       "       'country_code', 'state_code', 'region', 'city', 'address',\n",
       "       'postal_code', 'status', 'short_description', 'category_list',\n",
       "       'category_groups_list', 'num_funding_rounds', 'total_funding_usd',\n",
       "       'total_funding', 'total_funding_currency_code', 'founded_on',\n",
       "       'last_funding_on', 'closed_on', 'employee_count', 'email', 'phone',\n",
       "       'facebook_url', 'linkedin_url', 'twitter_url', 'logo_url', 'alias1',\n",
       "       'alias2', 'alias3', 'primary_role', 'num_exits'],\n",
       "      dtype='object')"
      ]
     },
     "execution_count": 3,
     "metadata": {},
     "output_type": "execute_result"
    }
   ],
   "source": [
    "#check column name for organisation\n",
    "org_df.columns"
   ]
  },
  {
   "cell_type": "code",
   "execution_count": 4,
   "id": "declared-concentration",
   "metadata": {},
   "outputs": [
    {
     "data": {
      "text/html": [
       "<div>\n",
       "<style scoped>\n",
       "    .dataframe tbody tr th:only-of-type {\n",
       "        vertical-align: middle;\n",
       "    }\n",
       "\n",
       "    .dataframe tbody tr th {\n",
       "        vertical-align: top;\n",
       "    }\n",
       "\n",
       "    .dataframe thead th {\n",
       "        text-align: right;\n",
       "    }\n",
       "</style>\n",
       "<table border=\"1\" class=\"dataframe\">\n",
       "  <thead>\n",
       "    <tr style=\"text-align: right;\">\n",
       "      <th></th>\n",
       "      <th>uuid</th>\n",
       "      <th>name</th>\n",
       "      <th>type</th>\n",
       "      <th>permalink</th>\n",
       "      <th>cb_url</th>\n",
       "      <th>rank</th>\n",
       "      <th>created_at</th>\n",
       "      <th>updated_at</th>\n",
       "      <th>legal_name</th>\n",
       "      <th>roles</th>\n",
       "      <th>...</th>\n",
       "      <th>phone</th>\n",
       "      <th>facebook_url</th>\n",
       "      <th>linkedin_url</th>\n",
       "      <th>twitter_url</th>\n",
       "      <th>logo_url</th>\n",
       "      <th>alias1</th>\n",
       "      <th>alias2</th>\n",
       "      <th>alias3</th>\n",
       "      <th>primary_role</th>\n",
       "      <th>num_exits</th>\n",
       "    </tr>\n",
       "  </thead>\n",
       "  <tbody>\n",
       "    <tr>\n",
       "      <th>0</th>\n",
       "      <td>e1393508-30ea-8a36-3f96-dd3226033abd</td>\n",
       "      <td>Wetpaint</td>\n",
       "      <td>organization</td>\n",
       "      <td>wetpaint</td>\n",
       "      <td>https://www.crunchbase.com/organization/wetpaint</td>\n",
       "      <td>131437.0</td>\n",
       "      <td>2007-05-25 13:51:27</td>\n",
       "      <td>2019-06-24 22:19:25</td>\n",
       "      <td>NaN</td>\n",
       "      <td>company</td>\n",
       "      <td>...</td>\n",
       "      <td>206-859-6300</td>\n",
       "      <td>https://www.facebook.com/Wetpaint</td>\n",
       "      <td>https://www.linkedin.com/company/wetpaint</td>\n",
       "      <td>https://twitter.com/wetpainttv</td>\n",
       "      <td>https://res.cloudinary.com/crunchbase-producti...</td>\n",
       "      <td>NaN</td>\n",
       "      <td>NaN</td>\n",
       "      <td>NaN</td>\n",
       "      <td>company</td>\n",
       "      <td>NaN</td>\n",
       "    </tr>\n",
       "    <tr>\n",
       "      <th>1</th>\n",
       "      <td>bf4d7b0e-b34d-2fd8-d292-6049c4f7efc7</td>\n",
       "      <td>Zoho</td>\n",
       "      <td>organization</td>\n",
       "      <td>zoho</td>\n",
       "      <td>https://www.crunchbase.com/organization/zoho</td>\n",
       "      <td>7682.0</td>\n",
       "      <td>2007-05-26 02:30:28</td>\n",
       "      <td>2018-10-27 00:29:49</td>\n",
       "      <td>NaN</td>\n",
       "      <td>investor,company</td>\n",
       "      <td>...</td>\n",
       "      <td>NaN</td>\n",
       "      <td>http://www.facebook.com/zoho</td>\n",
       "      <td>http://www.linkedin.com/company/zoho-corporati...</td>\n",
       "      <td>http://twitter.com/zoho</td>\n",
       "      <td>https://res.cloudinary.com/crunchbase-producti...</td>\n",
       "      <td>NaN</td>\n",
       "      <td>NaN</td>\n",
       "      <td>NaN</td>\n",
       "      <td>company</td>\n",
       "      <td>1.0</td>\n",
       "    </tr>\n",
       "  </tbody>\n",
       "</table>\n",
       "<p>2 rows × 41 columns</p>\n",
       "</div>"
      ],
      "text/plain": [
       "                                   uuid      name          type permalink  \\\n",
       "0  e1393508-30ea-8a36-3f96-dd3226033abd  Wetpaint  organization  wetpaint   \n",
       "1  bf4d7b0e-b34d-2fd8-d292-6049c4f7efc7      Zoho  organization      zoho   \n",
       "\n",
       "                                             cb_url      rank  \\\n",
       "0  https://www.crunchbase.com/organization/wetpaint  131437.0   \n",
       "1      https://www.crunchbase.com/organization/zoho    7682.0   \n",
       "\n",
       "            created_at           updated_at legal_name             roles  ...  \\\n",
       "0  2007-05-25 13:51:27  2019-06-24 22:19:25        NaN           company  ...   \n",
       "1  2007-05-26 02:30:28  2018-10-27 00:29:49        NaN  investor,company  ...   \n",
       "\n",
       "          phone                       facebook_url  \\\n",
       "0  206-859-6300  https://www.facebook.com/Wetpaint   \n",
       "1           NaN       http://www.facebook.com/zoho   \n",
       "\n",
       "                                        linkedin_url  \\\n",
       "0          https://www.linkedin.com/company/wetpaint   \n",
       "1  http://www.linkedin.com/company/zoho-corporati...   \n",
       "\n",
       "                      twitter_url  \\\n",
       "0  https://twitter.com/wetpainttv   \n",
       "1         http://twitter.com/zoho   \n",
       "\n",
       "                                            logo_url alias1 alias2 alias3  \\\n",
       "0  https://res.cloudinary.com/crunchbase-producti...    NaN    NaN    NaN   \n",
       "1  https://res.cloudinary.com/crunchbase-producti...    NaN    NaN    NaN   \n",
       "\n",
       "  primary_role num_exits  \n",
       "0      company       NaN  \n",
       "1      company       1.0  \n",
       "\n",
       "[2 rows x 41 columns]"
      ]
     },
     "execution_count": 4,
     "metadata": {},
     "output_type": "execute_result"
    }
   ],
   "source": [
    "org_df.head(2)"
   ]
  },
  {
   "cell_type": "code",
   "execution_count": 5,
   "id": "according-occupation",
   "metadata": {},
   "outputs": [
    {
     "data": {
      "text/plain": [
       "uuid                                 0\n",
       "name                                14\n",
       "type                                 0\n",
       "permalink                            7\n",
       "cb_url                               6\n",
       "rank                               134\n",
       "created_at                           0\n",
       "updated_at                           0\n",
       "legal_name                     1035917\n",
       "roles                             8873\n",
       "domain                           79212\n",
       "homepage_url                     79211\n",
       "country_code                    191226\n",
       "state_code                      761292\n",
       "region                          191226\n",
       "city                            191226\n",
       "address                         654274\n",
       "postal_code                     684663\n",
       "status                               0\n",
       "short_description                  118\n",
       "category_list                    78059\n",
       "category_groups_list             78059\n",
       "num_funding_rounds             1024489\n",
       "total_funding_usd              1075897\n",
       "total_funding                  1075897\n",
       "total_funding_currency_code    1075897\n",
       "founded_on                      260307\n",
       "last_funding_on                1024500\n",
       "closed_on                      1202566\n",
       "employee_count                       0\n",
       "email                           462846\n",
       "phone                           405981\n",
       "facebook_url                    575710\n",
       "linkedin_url                    646209\n",
       "twitter_url                     631355\n",
       "logo_url                        189098\n",
       "alias1                         1032827\n",
       "alias2                         1183539\n",
       "alias3                         1202240\n",
       "primary_role                         0\n",
       "num_exits                      1198771\n",
       "dtype: int64"
      ]
     },
     "execution_count": 5,
     "metadata": {},
     "output_type": "execute_result"
    }
   ],
   "source": [
    "#Show the value of NaN for every colum\n",
    "org_df.isnull().sum(axis = 0)"
   ]
  },
  {
   "cell_type": "code",
   "execution_count": 6,
   "id": "german-premiere",
   "metadata": {},
   "outputs": [],
   "source": [
    "#Delete unecessary columns\n",
    "org_df_v1 = org_df.drop (columns = ['type', 'permalink', 'cb_url', 'rank', 'created_at',\n",
    "                                    'updated_at','roles', 'domain','alias1',\n",
    "                                    'alias2', 'alias3'])"
   ]
  },
  {
   "cell_type": "code",
   "execution_count": 7,
   "id": "interesting-fraud",
   "metadata": {},
   "outputs": [
    {
     "data": {
      "text/plain": [
       "Index(['uuid', 'name', 'legal_name', 'homepage_url', 'country_code',\n",
       "       'state_code', 'region', 'city', 'address', 'postal_code', 'status',\n",
       "       'short_description', 'category_list', 'category_groups_list',\n",
       "       'num_funding_rounds', 'total_funding_usd', 'total_funding',\n",
       "       'total_funding_currency_code', 'founded_on', 'last_funding_on',\n",
       "       'closed_on', 'employee_count', 'email', 'phone', 'facebook_url',\n",
       "       'linkedin_url', 'twitter_url', 'logo_url', 'primary_role', 'num_exits'],\n",
       "      dtype='object')"
      ]
     },
     "execution_count": 7,
     "metadata": {},
     "output_type": "execute_result"
    }
   ],
   "source": [
    "org_df_v1.columns"
   ]
  },
  {
   "cell_type": "code",
   "execution_count": 8,
   "id": "north-contact",
   "metadata": {},
   "outputs": [
    {
     "data": {
      "text/plain": [
       "array([ 3., nan,  6., 17.,  1., 11.,  4.,  5.,  2.,  7., 16.,  8., 14.,\n",
       "       10.,  9., 12., 13., 15., 35., 21., 23., 19., 20., 18., 29., 22.,\n",
       "       31., 24., 27., 25.,  0., 41., 34., 30., 36.])"
      ]
     },
     "execution_count": 8,
     "metadata": {},
     "output_type": "execute_result"
    }
   ],
   "source": [
    "org_df_v1['num_funding_rounds'].unique()"
   ]
  },
  {
   "cell_type": "code",
   "execution_count": 35,
   "id": "waiting-austin",
   "metadata": {},
   "outputs": [],
   "source": [
    "#delete data with no founded date, country code, and category\n",
    "org_df_v2 = org_df_v1.dropna (subset=['founded_on','country_code','category_list','category_groups_list'])"
   ]
  },
  {
   "cell_type": "code",
   "execution_count": 36,
   "id": "defined-presence",
   "metadata": {},
   "outputs": [
    {
     "data": {
      "text/plain": [
       "827800"
      ]
     },
     "execution_count": 36,
     "metadata": {},
     "output_type": "execute_result"
    }
   ],
   "source": [
    "len(org_df_v2)"
   ]
  },
  {
   "cell_type": "code",
   "execution_count": 37,
   "id": "opening-spouse",
   "metadata": {},
   "outputs": [
    {
     "name": "stderr",
     "output_type": "stream",
     "text": [
      "C:\\Users\\Abdul Rahim Ab Ghani\\miniconda3\\lib\\site-packages\\pandas\\core\\frame.py:4449: SettingWithCopyWarning: \n",
      "A value is trying to be set on a copy of a slice from a DataFrame\n",
      "\n",
      "See the caveats in the documentation: https://pandas.pydata.org/pandas-docs/stable/user_guide/indexing.html#returning-a-view-versus-a-copy\n",
      "  errors=errors,\n"
     ]
    }
   ],
   "source": [
    "org_df_v2.rename(columns = {'uuid':'org_uuid'},inplace=True)"
   ]
  },
  {
   "cell_type": "code",
   "execution_count": 38,
   "id": "technical-grace",
   "metadata": {},
   "outputs": [],
   "source": [
    "#filter only company data\n",
    "org_df_v3 = org_df_v2[org_df_v2.primary_role == 'company']"
   ]
  },
  {
   "cell_type": "code",
   "execution_count": 39,
   "id": "native-turner",
   "metadata": {},
   "outputs": [
    {
     "data": {
      "text/plain": [
       "803301"
      ]
     },
     "execution_count": 39,
     "metadata": {},
     "output_type": "execute_result"
    }
   ],
   "source": [
    "len(org_df_v3)"
   ]
  },
  {
   "cell_type": "markdown",
   "id": "intensive-farmer",
   "metadata": {},
   "source": [
    "# Organization Description"
   ]
  },
  {
   "cell_type": "code",
   "execution_count": 40,
   "id": "bottom-tactics",
   "metadata": {},
   "outputs": [],
   "source": [
    "#import organisations description.csv\n",
    "org_desc_df = pd.read_csv(R\"d:/msc-project/data/bulk_export_122020/organization_descriptions.csv\",encoding='utf-8')"
   ]
  },
  {
   "cell_type": "code",
   "execution_count": 41,
   "id": "chronic-bailey",
   "metadata": {},
   "outputs": [
    {
     "data": {
      "text/plain": [
       "Index(['uuid', 'name', 'type', 'permalink', 'cb_url', 'rank', 'created_at',\n",
       "       'updated_at', 'description'],\n",
       "      dtype='object')"
      ]
     },
     "execution_count": 41,
     "metadata": {},
     "output_type": "execute_result"
    }
   ],
   "source": [
    "org_desc_df.columns"
   ]
  },
  {
   "cell_type": "code",
   "execution_count": 42,
   "id": "smart-coating",
   "metadata": {},
   "outputs": [],
   "source": [
    "#drop uneseccary columns\n",
    "org_desc_df_v1 = org_desc_df.drop(columns = ['name', 'type', 'permalink', 'cb_url', 'rank', 'created_at',\n",
    "       'updated_at'])"
   ]
  },
  {
   "cell_type": "code",
   "execution_count": 43,
   "id": "noticed-japan",
   "metadata": {},
   "outputs": [
    {
     "data": {
      "text/plain": [
       "Index(['uuid', 'description'], dtype='object')"
      ]
     },
     "execution_count": 43,
     "metadata": {},
     "output_type": "execute_result"
    }
   ],
   "source": [
    "org_desc_df_v1.columns"
   ]
  },
  {
   "cell_type": "code",
   "execution_count": 44,
   "id": "altered-bubble",
   "metadata": {},
   "outputs": [],
   "source": [
    "org_desc_df_v1.rename(columns={'uuid':'org_uuid'},inplace=True)"
   ]
  },
  {
   "cell_type": "code",
   "execution_count": 45,
   "id": "allied-darkness",
   "metadata": {},
   "outputs": [
    {
     "data": {
      "text/plain": [
       "Index(['org_uuid', 'description'], dtype='object')"
      ]
     },
     "execution_count": 45,
     "metadata": {},
     "output_type": "execute_result"
    }
   ],
   "source": [
    "org_desc_df_v1.columns"
   ]
  },
  {
   "cell_type": "code",
   "execution_count": 46,
   "id": "comfortable-spirituality",
   "metadata": {},
   "outputs": [],
   "source": [
    "#combine with main org file\n",
    "main_org_df_v1 = pd.merge (org_df_v3,org_desc_df_v1,\n",
    "                         how='left',\n",
    "                         on='org_uuid'\n",
    "                         )"
   ]
  },
  {
   "cell_type": "code",
   "execution_count": 47,
   "id": "increased-furniture",
   "metadata": {},
   "outputs": [
    {
     "data": {
      "text/plain": [
       "Index(['org_uuid', 'name', 'legal_name', 'homepage_url', 'country_code',\n",
       "       'state_code', 'region', 'city', 'address', 'postal_code', 'status',\n",
       "       'short_description', 'category_list', 'category_groups_list',\n",
       "       'num_funding_rounds', 'total_funding_usd', 'total_funding',\n",
       "       'total_funding_currency_code', 'founded_on', 'last_funding_on',\n",
       "       'closed_on', 'employee_count', 'email', 'phone', 'facebook_url',\n",
       "       'linkedin_url', 'twitter_url', 'logo_url', 'primary_role', 'num_exits',\n",
       "       'description'],\n",
       "      dtype='object')"
      ]
     },
     "execution_count": 47,
     "metadata": {},
     "output_type": "execute_result"
    }
   ],
   "source": [
    "main_org_df_v1.columns"
   ]
  },
  {
   "cell_type": "code",
   "execution_count": 48,
   "id": "possible-trial",
   "metadata": {},
   "outputs": [
    {
     "data": {
      "text/plain": [
       "803301"
      ]
     },
     "execution_count": 48,
     "metadata": {},
     "output_type": "execute_result"
    }
   ],
   "source": [
    "len(main_org_df_v1)"
   ]
  },
  {
   "cell_type": "markdown",
   "id": "extraordinary-revolution",
   "metadata": {},
   "source": [
    "# IPOs"
   ]
  },
  {
   "cell_type": "code",
   "execution_count": 49,
   "id": "guided-suggestion",
   "metadata": {},
   "outputs": [],
   "source": [
    "#import ipos.csv\n",
    "ipos_df = pd.read_csv(R\"d:\\\\msc-project\\data\\bulk_export_122020\\ipos.csv\",encoding='utf-8')"
   ]
  },
  {
   "cell_type": "code",
   "execution_count": 50,
   "id": "requested-flower",
   "metadata": {},
   "outputs": [
    {
     "data": {
      "text/plain": [
       "Index(['uuid', 'name', 'type', 'permalink', 'cb_url', 'rank', 'created_at',\n",
       "       'updated_at', 'org_uuid', 'org_name', 'org_cb_url', 'country_code',\n",
       "       'state_code', 'region', 'city', 'stock_exchange_symbol', 'stock_symbol',\n",
       "       'went_public_on', 'share_price_usd', 'share_price',\n",
       "       'share_price_currency_code', 'valuation_price_usd', 'valuation_price',\n",
       "       'valuation_price_currency_code', 'money_raised_usd', 'money_raised',\n",
       "       'money_raised_currency_code'],\n",
       "      dtype='object')"
      ]
     },
     "execution_count": 50,
     "metadata": {},
     "output_type": "execute_result"
    }
   ],
   "source": [
    "ipos_df.columns"
   ]
  },
  {
   "cell_type": "code",
   "execution_count": 51,
   "id": "forward-edmonton",
   "metadata": {},
   "outputs": [],
   "source": [
    "#drop unecessary columns\n",
    "ipos_df_v1 = ipos_df.drop (columns = ['name','type','permalink', 'cb_url', 'rank', 'created_at',\n",
    "       'updated_at','org_name', 'org_cb_url', 'country_code',\n",
    "       'state_code', 'region', 'city'])"
   ]
  },
  {
   "cell_type": "code",
   "execution_count": 52,
   "id": "ruled-contrary",
   "metadata": {},
   "outputs": [
    {
     "data": {
      "text/plain": [
       "Index(['uuid', 'org_uuid', 'stock_exchange_symbol', 'stock_symbol',\n",
       "       'went_public_on', 'share_price_usd', 'share_price',\n",
       "       'share_price_currency_code', 'valuation_price_usd', 'valuation_price',\n",
       "       'valuation_price_currency_code', 'money_raised_usd', 'money_raised',\n",
       "       'money_raised_currency_code'],\n",
       "      dtype='object')"
      ]
     },
     "execution_count": 52,
     "metadata": {},
     "output_type": "execute_result"
    }
   ],
   "source": [
    "ipos_df_v1.columns"
   ]
  },
  {
   "cell_type": "code",
   "execution_count": 53,
   "id": "trained-motel",
   "metadata": {},
   "outputs": [],
   "source": [
    "ipos_df_v1.rename (columns = {'uuid':'ipo_uuid',},inplace=True)"
   ]
  },
  {
   "cell_type": "code",
   "execution_count": 54,
   "id": "excessive-rolling",
   "metadata": {},
   "outputs": [
    {
     "data": {
      "text/plain": [
       "ipo_uuid                             0\n",
       "org_uuid                             0\n",
       "stock_exchange_symbol               60\n",
       "stock_symbol                        21\n",
       "went_public_on                       0\n",
       "share_price_usd                  30694\n",
       "share_price                      30694\n",
       "share_price_currency_code        30694\n",
       "valuation_price_usd              32946\n",
       "valuation_price                  32946\n",
       "valuation_price_currency_code    32946\n",
       "money_raised_usd                 30171\n",
       "money_raised                     30171\n",
       "money_raised_currency_code       30171\n",
       "dtype: int64"
      ]
     },
     "execution_count": 54,
     "metadata": {},
     "output_type": "execute_result"
    }
   ],
   "source": [
    "#Show the value of NaN for every colum\n",
    "ipos_df_v1.isnull().sum(axis = 0)"
   ]
  },
  {
   "cell_type": "code",
   "execution_count": 55,
   "id": "arbitrary-evanescence",
   "metadata": {},
   "outputs": [
    {
     "data": {
      "text/plain": [
       "Index(['ipo_uuid', 'org_uuid', 'stock_exchange_symbol', 'stock_symbol',\n",
       "       'went_public_on', 'share_price_usd', 'share_price',\n",
       "       'share_price_currency_code', 'valuation_price_usd', 'valuation_price',\n",
       "       'valuation_price_currency_code', 'money_raised_usd', 'money_raised',\n",
       "       'money_raised_currency_code'],\n",
       "      dtype='object')"
      ]
     },
     "execution_count": 55,
     "metadata": {},
     "output_type": "execute_result"
    }
   ],
   "source": [
    "ipos_df_v1.columns"
   ]
  },
  {
   "cell_type": "code",
   "execution_count": 97,
   "id": "domestic-clerk",
   "metadata": {},
   "outputs": [],
   "source": [
    "#drop duplicates and only keep the first IPO\n",
    "ipos_df_v1.sort_values(by = ['org_uuid','went_public_on'],inplace=True,na_position='last',ignore_index=True)\n",
    "ipos_df_v2 = ipos_df_v1.drop_duplicates(subset=['org_uuid'],keep='first')"
   ]
  },
  {
   "cell_type": "code",
   "execution_count": 98,
   "id": "healthy-bahamas",
   "metadata": {},
   "outputs": [
    {
     "data": {
      "text/plain": [
       "35109"
      ]
     },
     "execution_count": 98,
     "metadata": {},
     "output_type": "execute_result"
    }
   ],
   "source": [
    "len(ipos_df_v1)"
   ]
  },
  {
   "cell_type": "code",
   "execution_count": 99,
   "id": "invalid-child",
   "metadata": {},
   "outputs": [
    {
     "data": {
      "text/plain": [
       "34276"
      ]
     },
     "execution_count": 99,
     "metadata": {},
     "output_type": "execute_result"
    }
   ],
   "source": [
    "len(ipos_df_v2)"
   ]
  },
  {
   "cell_type": "code",
   "execution_count": 100,
   "id": "social-alexander",
   "metadata": {},
   "outputs": [],
   "source": [
    "main_org_df_v2 = pd.merge(main_org_df_v1,ipos_df_v2,\n",
    "                        how = 'left',\n",
    "                         on='org_uuid')"
   ]
  },
  {
   "cell_type": "code",
   "execution_count": 101,
   "id": "ordinary-forestry",
   "metadata": {},
   "outputs": [
    {
     "data": {
      "text/plain": [
       "803301"
      ]
     },
     "execution_count": 101,
     "metadata": {},
     "output_type": "execute_result"
    }
   ],
   "source": [
    "len(main_org_df_v1)"
   ]
  },
  {
   "cell_type": "code",
   "execution_count": 102,
   "id": "waiting-parts",
   "metadata": {},
   "outputs": [
    {
     "data": {
      "text/plain": [
       "803301"
      ]
     },
     "execution_count": 102,
     "metadata": {},
     "output_type": "execute_result"
    }
   ],
   "source": [
    "len(main_org_df_v2)"
   ]
  },
  {
   "cell_type": "code",
   "execution_count": 103,
   "id": "virgin-casino",
   "metadata": {},
   "outputs": [
    {
     "data": {
      "text/plain": [
       "Index(['org_uuid', 'name', 'legal_name', 'homepage_url', 'country_code',\n",
       "       'state_code', 'region', 'city', 'address', 'postal_code', 'status',\n",
       "       'short_description', 'category_list', 'category_groups_list',\n",
       "       'num_funding_rounds', 'total_funding_usd', 'total_funding',\n",
       "       'total_funding_currency_code', 'founded_on', 'last_funding_on',\n",
       "       'closed_on', 'employee_count', 'email', 'phone', 'facebook_url',\n",
       "       'linkedin_url', 'twitter_url', 'logo_url', 'primary_role', 'num_exits',\n",
       "       'description', 'ipo_uuid', 'stock_exchange_symbol', 'stock_symbol',\n",
       "       'went_public_on', 'share_price_usd', 'share_price',\n",
       "       'share_price_currency_code', 'valuation_price_usd', 'valuation_price',\n",
       "       'valuation_price_currency_code', 'money_raised_usd', 'money_raised',\n",
       "       'money_raised_currency_code'],\n",
       "      dtype='object')"
      ]
     },
     "execution_count": 103,
     "metadata": {},
     "output_type": "execute_result"
    }
   ],
   "source": [
    "main_org_df_v2.columns"
   ]
  },
  {
   "cell_type": "markdown",
   "id": "sitting-bookmark",
   "metadata": {},
   "source": [
    "# Acquisitions"
   ]
  },
  {
   "cell_type": "code",
   "execution_count": 104,
   "id": "reserved-neighbor",
   "metadata": {},
   "outputs": [],
   "source": [
    "#import acquisitions.csv\n",
    "acquisitions_df = pd.read_csv(R\"d:\\\\msc-project\\data\\bulk_export_122020\\acquisitions.csv\",encoding='utf-8')"
   ]
  },
  {
   "cell_type": "code",
   "execution_count": 105,
   "id": "bibliographic-academy",
   "metadata": {},
   "outputs": [
    {
     "data": {
      "text/plain": [
       "Index(['uuid', 'name', 'type', 'permalink', 'cb_url', 'rank', 'created_at',\n",
       "       'updated_at', 'acquiree_uuid', 'acquiree_name', 'acquiree_cb_url',\n",
       "       'acquiree_country_code', 'acquiree_state_code', 'acquiree_region',\n",
       "       'acquiree_city', 'acquirer_uuid', 'acquirer_name', 'acquirer_cb_url',\n",
       "       'acquirer_country_code', 'acquirer_state_code', 'acquirer_region',\n",
       "       'acquirer_city', 'acquisition_type', 'acquired_on', 'price_usd',\n",
       "       'price', 'price_currency_code'],\n",
       "      dtype='object')"
      ]
     },
     "execution_count": 105,
     "metadata": {},
     "output_type": "execute_result"
    }
   ],
   "source": [
    "acquisitions_df.columns"
   ]
  },
  {
   "cell_type": "code",
   "execution_count": 106,
   "id": "fabulous-crest",
   "metadata": {},
   "outputs": [],
   "source": [
    "#drop unessary columns\n",
    "acquisitions_df_v1 = acquisitions_df.drop(columns = ['name', 'type', 'permalink', 'cb_url', 'rank', 'created_at','updated_at',\n",
    "        'acquiree_name', 'acquiree_cb_url','acquiree_country_code', 'acquiree_state_code', 'acquiree_region','acquiree_city','acquirer_cb_url'])"
   ]
  },
  {
   "cell_type": "code",
   "execution_count": 107,
   "id": "protected-stephen",
   "metadata": {},
   "outputs": [
    {
     "data": {
      "text/plain": [
       "Index(['uuid', 'acquiree_uuid', 'acquirer_uuid', 'acquirer_name',\n",
       "       'acquirer_country_code', 'acquirer_state_code', 'acquirer_region',\n",
       "       'acquirer_city', 'acquisition_type', 'acquired_on', 'price_usd',\n",
       "       'price', 'price_currency_code'],\n",
       "      dtype='object')"
      ]
     },
     "execution_count": 107,
     "metadata": {},
     "output_type": "execute_result"
    }
   ],
   "source": [
    "acquisitions_df_v1.columns"
   ]
  },
  {
   "cell_type": "code",
   "execution_count": 108,
   "id": "phantom-housing",
   "metadata": {},
   "outputs": [],
   "source": [
    "acquisitions_df_v1.rename (columns = {'uuid':'acquisition_uuid','acquiree_uuid':'org_uuid'},inplace=True)"
   ]
  },
  {
   "cell_type": "code",
   "execution_count": 109,
   "id": "running-might",
   "metadata": {},
   "outputs": [
    {
     "data": {
      "text/plain": [
       "Index(['acquisition_uuid', 'org_uuid', 'acquirer_uuid', 'acquirer_name',\n",
       "       'acquirer_country_code', 'acquirer_state_code', 'acquirer_region',\n",
       "       'acquirer_city', 'acquisition_type', 'acquired_on', 'price_usd',\n",
       "       'price', 'price_currency_code'],\n",
       "      dtype='object')"
      ]
     },
     "execution_count": 109,
     "metadata": {},
     "output_type": "execute_result"
    }
   ],
   "source": [
    "acquisitions_df_v1.columns"
   ]
  },
  {
   "cell_type": "code",
   "execution_count": 110,
   "id": "molecular-logic",
   "metadata": {},
   "outputs": [],
   "source": [
    "#drop duplicate acquisition to keep only the first acquisition\n",
    "acquisitions_df_v1.sort_values(by=['org_uuid','acquired_on'],na_position='last',inplace=True)\n",
    "acquisitions_df_v2 = acquisitions_df_v1.drop_duplicates(subset = ['org_uuid'],keep='first')"
   ]
  },
  {
   "cell_type": "code",
   "execution_count": 111,
   "id": "killing-honor",
   "metadata": {},
   "outputs": [
    {
     "data": {
      "text/plain": [
       "109215"
      ]
     },
     "execution_count": 111,
     "metadata": {},
     "output_type": "execute_result"
    }
   ],
   "source": [
    "len(acquisitions_df_v1)"
   ]
  },
  {
   "cell_type": "code",
   "execution_count": 112,
   "id": "rolled-logistics",
   "metadata": {},
   "outputs": [
    {
     "data": {
      "text/plain": [
       "102447"
      ]
     },
     "execution_count": 112,
     "metadata": {},
     "output_type": "execute_result"
    }
   ],
   "source": [
    "len(acquisitions_df_v2)"
   ]
  },
  {
   "cell_type": "code",
   "execution_count": 113,
   "id": "ancient-respondent",
   "metadata": {},
   "outputs": [
    {
     "data": {
      "text/plain": [
       "acquisition_uuid             0\n",
       "org_uuid                     0\n",
       "acquirer_uuid                0\n",
       "acquirer_name                0\n",
       "acquirer_country_code     1052\n",
       "acquirer_state_code      46597\n",
       "acquirer_region           1052\n",
       "acquirer_city             1052\n",
       "acquisition_type          9508\n",
       "acquired_on                  0\n",
       "price_usd                90329\n",
       "price                    90329\n",
       "price_currency_code      90329\n",
       "dtype: int64"
      ]
     },
     "execution_count": 113,
     "metadata": {},
     "output_type": "execute_result"
    }
   ],
   "source": [
    "#Show the value of NaN for every colum\n",
    "acquisitions_df_v1.isnull().sum(axis = 0)"
   ]
  },
  {
   "cell_type": "code",
   "execution_count": 114,
   "id": "arbitrary-astrology",
   "metadata": {},
   "outputs": [],
   "source": [
    "main_org_df_v3 = pd.merge(main_org_df_v2,acquisitions_df_v2,\n",
    "                        on='org_uuid'\n",
    "                        ,how = 'left')"
   ]
  },
  {
   "cell_type": "code",
   "execution_count": 115,
   "id": "healthy-worst",
   "metadata": {},
   "outputs": [
    {
     "data": {
      "text/plain": [
       "803301"
      ]
     },
     "execution_count": 115,
     "metadata": {},
     "output_type": "execute_result"
    }
   ],
   "source": [
    "len(main_org_df_v2)"
   ]
  },
  {
   "cell_type": "code",
   "execution_count": 116,
   "id": "minor-split",
   "metadata": {},
   "outputs": [
    {
     "data": {
      "text/plain": [
       "803301"
      ]
     },
     "execution_count": 116,
     "metadata": {},
     "output_type": "execute_result"
    }
   ],
   "source": [
    "len(main_org_df_v3)"
   ]
  },
  {
   "cell_type": "code",
   "execution_count": 117,
   "id": "weighted-token",
   "metadata": {},
   "outputs": [
    {
     "data": {
      "text/plain": [
       "Index(['org_uuid', 'name', 'legal_name', 'homepage_url', 'country_code',\n",
       "       'state_code', 'region', 'city', 'address', 'postal_code', 'status',\n",
       "       'short_description', 'category_list', 'category_groups_list',\n",
       "       'num_funding_rounds', 'total_funding_usd', 'total_funding',\n",
       "       'total_funding_currency_code', 'founded_on', 'last_funding_on',\n",
       "       'closed_on', 'employee_count', 'email', 'phone', 'facebook_url',\n",
       "       'linkedin_url', 'twitter_url', 'logo_url', 'primary_role', 'num_exits',\n",
       "       'description', 'ipo_uuid', 'stock_exchange_symbol', 'stock_symbol',\n",
       "       'went_public_on', 'share_price_usd', 'share_price',\n",
       "       'share_price_currency_code', 'valuation_price_usd', 'valuation_price',\n",
       "       'valuation_price_currency_code', 'money_raised_usd', 'money_raised',\n",
       "       'money_raised_currency_code', 'acquisition_uuid', 'acquirer_uuid',\n",
       "       'acquirer_name', 'acquirer_country_code', 'acquirer_state_code',\n",
       "       'acquirer_region', 'acquirer_city', 'acquisition_type', 'acquired_on',\n",
       "       'price_usd', 'price', 'price_currency_code'],\n",
       "      dtype='object')"
      ]
     },
     "execution_count": 117,
     "metadata": {},
     "output_type": "execute_result"
    }
   ],
   "source": [
    "main_org_df_v3.columns"
   ]
  },
  {
   "cell_type": "markdown",
   "id": "bearing-honey",
   "metadata": {},
   "source": [
    "# Parent Organisation"
   ]
  },
  {
   "cell_type": "code",
   "execution_count": 118,
   "id": "stylish-bobby",
   "metadata": {},
   "outputs": [],
   "source": [
    "#import parents organisation.csv\n",
    "parents_df = pd.read_csv(R\"d:/msc-project/data/bulk_export_122020/org_parents.csv\",encoding='utf-8')"
   ]
  },
  {
   "cell_type": "code",
   "execution_count": 119,
   "id": "cathedral-trick",
   "metadata": {},
   "outputs": [
    {
     "data": {
      "text/plain": [
       "Index(['uuid', 'name', 'type', 'permalink', 'cb_url', 'rank', 'created_at',\n",
       "       'updated_at', 'parent_uuid', 'parent_name'],\n",
       "      dtype='object')"
      ]
     },
     "execution_count": 119,
     "metadata": {},
     "output_type": "execute_result"
    }
   ],
   "source": [
    "parents_df.columns"
   ]
  },
  {
   "cell_type": "code",
   "execution_count": 120,
   "id": "processed-preliminary",
   "metadata": {},
   "outputs": [],
   "source": [
    "parents_df_v1 = parents_df.drop(columns=['name', 'type', 'permalink', 'cb_url', 'rank', 'created_at',\n",
    "               'updated_at'])"
   ]
  },
  {
   "cell_type": "code",
   "execution_count": 121,
   "id": "bulgarian-crowd",
   "metadata": {},
   "outputs": [
    {
     "data": {
      "text/plain": [
       "Index(['uuid', 'parent_uuid', 'parent_name'], dtype='object')"
      ]
     },
     "execution_count": 121,
     "metadata": {},
     "output_type": "execute_result"
    }
   ],
   "source": [
    "parents_df_v1.columns"
   ]
  },
  {
   "cell_type": "code",
   "execution_count": 122,
   "id": "several-satellite",
   "metadata": {},
   "outputs": [],
   "source": [
    "parents_df_v1.rename(columns={'uuid':'org_uuid'},inplace=True)"
   ]
  },
  {
   "cell_type": "code",
   "execution_count": 123,
   "id": "helpful-accessory",
   "metadata": {},
   "outputs": [
    {
     "data": {
      "text/plain": [
       "Index(['org_uuid', 'parent_uuid', 'parent_name'], dtype='object')"
      ]
     },
     "execution_count": 123,
     "metadata": {},
     "output_type": "execute_result"
    }
   ],
   "source": [
    "parents_df_v1.columns"
   ]
  },
  {
   "cell_type": "code",
   "execution_count": 124,
   "id": "binding-david",
   "metadata": {},
   "outputs": [],
   "source": [
    "main_org_df_v4 = pd.merge(main_org_df_v3,parents_df_v1,\n",
    "                         on = 'org_uuid',\n",
    "                         how = 'left')"
   ]
  },
  {
   "cell_type": "code",
   "execution_count": 125,
   "id": "differential-convenience",
   "metadata": {},
   "outputs": [
    {
     "data": {
      "text/plain": [
       "803301"
      ]
     },
     "execution_count": 125,
     "metadata": {},
     "output_type": "execute_result"
    }
   ],
   "source": [
    "len(main_org_df_v3)"
   ]
  },
  {
   "cell_type": "code",
   "execution_count": 126,
   "id": "critical-grant",
   "metadata": {},
   "outputs": [
    {
     "data": {
      "text/plain": [
       "803301"
      ]
     },
     "execution_count": 126,
     "metadata": {},
     "output_type": "execute_result"
    }
   ],
   "source": [
    "len(main_org_df_v4)"
   ]
  },
  {
   "cell_type": "code",
   "execution_count": 127,
   "id": "aware-advertising",
   "metadata": {},
   "outputs": [
    {
     "data": {
      "text/plain": [
       "Index(['org_uuid', 'name', 'legal_name', 'homepage_url', 'country_code',\n",
       "       'state_code', 'region', 'city', 'address', 'postal_code', 'status',\n",
       "       'short_description', 'category_list', 'category_groups_list',\n",
       "       'num_funding_rounds', 'total_funding_usd', 'total_funding',\n",
       "       'total_funding_currency_code', 'founded_on', 'last_funding_on',\n",
       "       'closed_on', 'employee_count', 'email', 'phone', 'facebook_url',\n",
       "       'linkedin_url', 'twitter_url', 'logo_url', 'primary_role', 'num_exits',\n",
       "       'description', 'ipo_uuid', 'stock_exchange_symbol', 'stock_symbol',\n",
       "       'went_public_on', 'share_price_usd', 'share_price',\n",
       "       'share_price_currency_code', 'valuation_price_usd', 'valuation_price',\n",
       "       'valuation_price_currency_code', 'money_raised_usd', 'money_raised',\n",
       "       'money_raised_currency_code', 'acquisition_uuid', 'acquirer_uuid',\n",
       "       'acquirer_name', 'acquirer_country_code', 'acquirer_state_code',\n",
       "       'acquirer_region', 'acquirer_city', 'acquisition_type', 'acquired_on',\n",
       "       'price_usd', 'price', 'price_currency_code', 'parent_uuid',\n",
       "       'parent_name'],\n",
       "      dtype='object')"
      ]
     },
     "execution_count": 127,
     "metadata": {},
     "output_type": "execute_result"
    }
   ],
   "source": [
    "main_org_df_v4.columns"
   ]
  },
  {
   "cell_type": "code",
   "execution_count": 128,
   "id": "needed-entertainment",
   "metadata": {},
   "outputs": [
    {
     "data": {
      "text/plain": [
       "org_uuid                              0\n",
       "name                                  0\n",
       "legal_name                       668373\n",
       "homepage_url                      23970\n",
       "country_code                          0\n",
       "state_code                       457683\n",
       "region                                0\n",
       "city                                  0\n",
       "address                          368720\n",
       "postal_code                      386229\n",
       "status                                0\n",
       "short_description                     8\n",
       "category_list                         0\n",
       "category_groups_list                  0\n",
       "num_funding_rounds               626316\n",
       "total_funding_usd                669965\n",
       "total_funding                    669965\n",
       "total_funding_currency_code      669965\n",
       "founded_on                            0\n",
       "last_funding_on                  626325\n",
       "closed_on                        793528\n",
       "employee_count                        0\n",
       "email                            240900\n",
       "phone                            198487\n",
       "facebook_url                     328645\n",
       "linkedin_url                     341368\n",
       "twitter_url                      373086\n",
       "logo_url                          79494\n",
       "primary_role                          0\n",
       "num_exits                        800019\n",
       "description                      350280\n",
       "ipo_uuid                         773058\n",
       "stock_exchange_symbol            773107\n",
       "stock_symbol                     773074\n",
       "went_public_on                   773058\n",
       "share_price_usd                  799219\n",
       "share_price                      799219\n",
       "share_price_currency_code        799219\n",
       "valuation_price_usd              801277\n",
       "valuation_price                  801277\n",
       "valuation_price_currency_code    801277\n",
       "money_raised_usd                 798742\n",
       "money_raised                     798742\n",
       "money_raised_currency_code       798742\n",
       "acquisition_uuid                 723507\n",
       "acquirer_uuid                    723507\n",
       "acquirer_name                    723507\n",
       "acquirer_country_code            724074\n",
       "acquirer_state_code              756169\n",
       "acquirer_region                  724074\n",
       "acquirer_city                    724074\n",
       "acquisition_type                 730728\n",
       "acquired_on                      723507\n",
       "price_usd                        789022\n",
       "price                            789022\n",
       "price_currency_code              789022\n",
       "parent_uuid                      794189\n",
       "parent_name                      794189\n",
       "dtype: int64"
      ]
     },
     "execution_count": 128,
     "metadata": {},
     "output_type": "execute_result"
    }
   ],
   "source": [
    "main_org_df_v4.isnull().sum(axis=0)"
   ]
  },
  {
   "cell_type": "markdown",
   "id": "partial-panel",
   "metadata": {},
   "source": [
    "# Funding Rounds"
   ]
  },
  {
   "cell_type": "code",
   "execution_count": 129,
   "id": "hazardous-cabinet",
   "metadata": {},
   "outputs": [],
   "source": [
    "#import funding_rounds\n",
    "funding_df = pd.read_csv(R\"d:/msc-project/data/bulk_export_122020/funding_rounds.csv\",encoding='utf-8')"
   ]
  },
  {
   "cell_type": "code",
   "execution_count": 130,
   "id": "tracked-bacteria",
   "metadata": {},
   "outputs": [
    {
     "data": {
      "text/plain": [
       "Index(['uuid', 'name', 'type', 'permalink', 'cb_url', 'rank', 'created_at',\n",
       "       'updated_at', 'country_code', 'state_code', 'region', 'city',\n",
       "       'investment_type', 'announced_on', 'raised_amount_usd', 'raised_amount',\n",
       "       'raised_amount_currency_code', 'post_money_valuation_usd',\n",
       "       'post_money_valuation', 'post_money_valuation_currency_code',\n",
       "       'investor_count', 'org_uuid', 'org_name', 'lead_investor_uuids'],\n",
       "      dtype='object')"
      ]
     },
     "execution_count": 130,
     "metadata": {},
     "output_type": "execute_result"
    }
   ],
   "source": [
    "funding_df.columns"
   ]
  },
  {
   "cell_type": "code",
   "execution_count": 131,
   "id": "combined-secret",
   "metadata": {},
   "outputs": [],
   "source": [
    "#drop unecessary columns\n",
    "funding_df_v1 = funding_df.drop(columns=['type','permalink', 'cb_url', 'rank', 'created_at',\n",
    "                'updated_at'])"
   ]
  },
  {
   "cell_type": "code",
   "execution_count": 132,
   "id": "religious-freedom",
   "metadata": {},
   "outputs": [
    {
     "data": {
      "text/plain": [
       "Index(['uuid', 'name', 'country_code', 'state_code', 'region', 'city',\n",
       "       'investment_type', 'announced_on', 'raised_amount_usd', 'raised_amount',\n",
       "       'raised_amount_currency_code', 'post_money_valuation_usd',\n",
       "       'post_money_valuation', 'post_money_valuation_currency_code',\n",
       "       'investor_count', 'org_uuid', 'org_name', 'lead_investor_uuids'],\n",
       "      dtype='object')"
      ]
     },
     "execution_count": 132,
     "metadata": {},
     "output_type": "execute_result"
    }
   ],
   "source": [
    "funding_df_v1.columns"
   ]
  },
  {
   "cell_type": "code",
   "execution_count": 133,
   "id": "affected-weight",
   "metadata": {},
   "outputs": [],
   "source": [
    "funding_df_v1.rename(columns={'uuid':'funding_round_uuid'},inplace=True)"
   ]
  },
  {
   "cell_type": "code",
   "execution_count": 134,
   "id": "closed-viking",
   "metadata": {},
   "outputs": [
    {
     "data": {
      "text/plain": [
       "Index(['funding_round_uuid', 'name', 'country_code', 'state_code', 'region',\n",
       "       'city', 'investment_type', 'announced_on', 'raised_amount_usd',\n",
       "       'raised_amount', 'raised_amount_currency_code',\n",
       "       'post_money_valuation_usd', 'post_money_valuation',\n",
       "       'post_money_valuation_currency_code', 'investor_count', 'org_uuid',\n",
       "       'org_name', 'lead_investor_uuids'],\n",
       "      dtype='object')"
      ]
     },
     "execution_count": 134,
     "metadata": {},
     "output_type": "execute_result"
    }
   ],
   "source": [
    "funding_df_v1.columns"
   ]
  },
  {
   "cell_type": "code",
   "execution_count": 135,
   "id": "pressed-testament",
   "metadata": {},
   "outputs": [
    {
     "data": {
      "text/plain": [
       "funding_round_uuid                         0\n",
       "name                                       0\n",
       "country_code                            4237\n",
       "state_code                            172992\n",
       "region                                  4237\n",
       "city                                    4237\n",
       "investment_type                            0\n",
       "announced_on                               0\n",
       "raised_amount_usd                      98961\n",
       "raised_amount                          98961\n",
       "raised_amount_currency_code            98961\n",
       "post_money_valuation_usd              346299\n",
       "post_money_valuation                  346299\n",
       "post_money_valuation_currency_code    346299\n",
       "investor_count                        101823\n",
       "org_uuid                                   0\n",
       "org_name                                   2\n",
       "lead_investor_uuids                   238258\n",
       "dtype: int64"
      ]
     },
     "execution_count": 135,
     "metadata": {},
     "output_type": "execute_result"
    }
   ],
   "source": [
    "#check for NaN value\n",
    "funding_df_v1.isnull().sum(axis=0)"
   ]
  },
  {
   "cell_type": "code",
   "execution_count": 136,
   "id": "applied-hayes",
   "metadata": {},
   "outputs": [
    {
     "data": {
      "text/plain": [
       "array(['angel', 'series_a', 'series_b', 'seed', 'series_c', 'series_d',\n",
       "       'series_unknown', 'debt_financing', 'series_e', 'private_equity',\n",
       "       'series_f', 'pre_seed', 'undisclosed', 'grant', 'convertible_note',\n",
       "       'post_ipo_equity', 'post_ipo_debt', 'non_equity_assistance',\n",
       "       'corporate_round', 'series_i', 'series_g', 'secondary_market',\n",
       "       'initial_coin_offering', 'series_h', 'product_crowdfunding',\n",
       "       'equity_crowdfunding', 'post_ipo_secondary', 'series_j'],\n",
       "      dtype=object)"
      ]
     },
     "execution_count": 136,
     "metadata": {},
     "output_type": "execute_result"
    }
   ],
   "source": [
    "funding_df_v1.investment_type.unique()"
   ]
  },
  {
   "cell_type": "markdown",
   "id": "refined-minority",
   "metadata": {},
   "source": [
    "# Investment"
   ]
  },
  {
   "cell_type": "code",
   "execution_count": 160,
   "id": "desirable-welcome",
   "metadata": {},
   "outputs": [],
   "source": [
    "#import investment\n",
    "investments_df = pd.read_csv(R\"d:/msc-project/data/bulk_export_122020/investments.csv\",encoding='utf-8')"
   ]
  },
  {
   "cell_type": "code",
   "execution_count": 161,
   "id": "structured-dress",
   "metadata": {},
   "outputs": [
    {
     "data": {
      "text/plain": [
       "Index(['uuid', 'name', 'type', 'permalink', 'cb_url', 'rank', 'created_at',\n",
       "       'updated_at', 'funding_round_uuid', 'funding_round_name',\n",
       "       'investor_uuid', 'investor_name', 'investor_type', 'is_lead_investor'],\n",
       "      dtype='object')"
      ]
     },
     "execution_count": 161,
     "metadata": {},
     "output_type": "execute_result"
    }
   ],
   "source": [
    "investments_df.columns"
   ]
  },
  {
   "cell_type": "code",
   "execution_count": 162,
   "id": "virgin-edition",
   "metadata": {},
   "outputs": [],
   "source": [
    "#drop columns\n",
    "investments_df_v1 = investments_df.drop(columns = ['type', 'permalink', 'cb_url', 'rank', 'created_at',\n",
    "       'updated_at'])"
   ]
  },
  {
   "cell_type": "code",
   "execution_count": 163,
   "id": "downtown-charger",
   "metadata": {},
   "outputs": [
    {
     "data": {
      "text/plain": [
       "Index(['uuid', 'name', 'funding_round_uuid', 'funding_round_name',\n",
       "       'investor_uuid', 'investor_name', 'investor_type', 'is_lead_investor'],\n",
       "      dtype='object')"
      ]
     },
     "execution_count": 163,
     "metadata": {},
     "output_type": "execute_result"
    }
   ],
   "source": [
    "investments_df_v1.columns"
   ]
  },
  {
   "cell_type": "code",
   "execution_count": 164,
   "id": "accessory-conviction",
   "metadata": {},
   "outputs": [],
   "source": [
    "investments_df_v1.rename(columns={'uuid':'investment_uuid'},inplace=True)"
   ]
  },
  {
   "cell_type": "code",
   "execution_count": 165,
   "id": "adjusted-denver",
   "metadata": {},
   "outputs": [
    {
     "data": {
      "text/plain": [
       "Index(['investment_uuid', 'name', 'funding_round_uuid', 'funding_round_name',\n",
       "       'investor_uuid', 'investor_name', 'investor_type', 'is_lead_investor'],\n",
       "      dtype='object')"
      ]
     },
     "execution_count": 165,
     "metadata": {},
     "output_type": "execute_result"
    }
   ],
   "source": [
    "investments_df_v1.columns"
   ]
  },
  {
   "cell_type": "code",
   "execution_count": 166,
   "id": "dirty-april",
   "metadata": {},
   "outputs": [
    {
     "data": {
      "text/plain": [
       "investment_uuid            0\n",
       "name                       1\n",
       "funding_round_uuid         1\n",
       "funding_round_name         1\n",
       "investor_uuid              0\n",
       "investor_name              1\n",
       "investor_type              0\n",
       "is_lead_investor      283147\n",
       "dtype: int64"
      ]
     },
     "execution_count": 166,
     "metadata": {},
     "output_type": "execute_result"
    }
   ],
   "source": [
    "investments_df_v1.isnull().sum(axis=0)"
   ]
  },
  {
   "cell_type": "markdown",
   "id": "wanted-knock",
   "metadata": {},
   "source": [
    "# Investors"
   ]
  },
  {
   "cell_type": "code",
   "execution_count": 145,
   "id": "attempted-strike",
   "metadata": {},
   "outputs": [],
   "source": [
    "#import investors\n",
    "investors_df = pd.read_csv(R\"d:/msc-project/data/bulk_export_122020/investors.csv\",encoding='utf-8')"
   ]
  },
  {
   "cell_type": "code",
   "execution_count": 146,
   "id": "dimensional-sunrise",
   "metadata": {},
   "outputs": [
    {
     "data": {
      "text/plain": [
       "Index(['uuid', 'name', 'type', 'permalink', 'cb_url', 'rank', 'created_at',\n",
       "       'updated_at', 'roles', 'domain', 'country_code', 'state_code', 'region',\n",
       "       'city', 'investor_types', 'investment_count', 'total_funding_usd',\n",
       "       'total_funding', 'total_funding_currency_code', 'founded_on',\n",
       "       'closed_on', 'facebook_url', 'linkedin_url', 'twitter_url', 'logo_url'],\n",
       "      dtype='object')"
      ]
     },
     "execution_count": 146,
     "metadata": {},
     "output_type": "execute_result"
    }
   ],
   "source": [
    "investors_df.columns"
   ]
  },
  {
   "cell_type": "code",
   "execution_count": 147,
   "id": "running-swiss",
   "metadata": {},
   "outputs": [
    {
     "data": {
      "text/html": [
       "<div>\n",
       "<style scoped>\n",
       "    .dataframe tbody tr th:only-of-type {\n",
       "        vertical-align: middle;\n",
       "    }\n",
       "\n",
       "    .dataframe tbody tr th {\n",
       "        vertical-align: top;\n",
       "    }\n",
       "\n",
       "    .dataframe thead th {\n",
       "        text-align: right;\n",
       "    }\n",
       "</style>\n",
       "<table border=\"1\" class=\"dataframe\">\n",
       "  <thead>\n",
       "    <tr style=\"text-align: right;\">\n",
       "      <th></th>\n",
       "      <th>uuid</th>\n",
       "      <th>name</th>\n",
       "      <th>type</th>\n",
       "      <th>permalink</th>\n",
       "      <th>cb_url</th>\n",
       "      <th>rank</th>\n",
       "      <th>created_at</th>\n",
       "      <th>updated_at</th>\n",
       "      <th>roles</th>\n",
       "      <th>domain</th>\n",
       "      <th>...</th>\n",
       "      <th>investment_count</th>\n",
       "      <th>total_funding_usd</th>\n",
       "      <th>total_funding</th>\n",
       "      <th>total_funding_currency_code</th>\n",
       "      <th>founded_on</th>\n",
       "      <th>closed_on</th>\n",
       "      <th>facebook_url</th>\n",
       "      <th>linkedin_url</th>\n",
       "      <th>twitter_url</th>\n",
       "      <th>logo_url</th>\n",
       "    </tr>\n",
       "  </thead>\n",
       "  <tbody>\n",
       "    <tr>\n",
       "      <th>0</th>\n",
       "      <td>bf4d7b0e-b34d-2fd8-d292-6049c4f7efc7</td>\n",
       "      <td>Zoho</td>\n",
       "      <td>organization</td>\n",
       "      <td>zoho</td>\n",
       "      <td>https://www.crunchbase.com/organization/zoho</td>\n",
       "      <td>7694.0</td>\n",
       "      <td>2007-05-26 02:30:28</td>\n",
       "      <td>2018-10-27 00:29:49</td>\n",
       "      <td>investor,company</td>\n",
       "      <td>zoho.com</td>\n",
       "      <td>...</td>\n",
       "      <td>6.0</td>\n",
       "      <td>NaN</td>\n",
       "      <td>NaN</td>\n",
       "      <td>NaN</td>\n",
       "      <td>1996-09-15</td>\n",
       "      <td>NaN</td>\n",
       "      <td>http://www.facebook.com/zoho</td>\n",
       "      <td>http://www.linkedin.com/company/zoho-corporati...</td>\n",
       "      <td>http://twitter.com/zoho</td>\n",
       "      <td>https://res.cloudinary.com/crunchbase-producti...</td>\n",
       "    </tr>\n",
       "    <tr>\n",
       "      <th>1</th>\n",
       "      <td>f4d5ab44-058b-298b-ea81-380e6e9a8eec</td>\n",
       "      <td>Omidyar Network</td>\n",
       "      <td>organization</td>\n",
       "      <td>omidyar-network</td>\n",
       "      <td>https://www.crunchbase.com/organization/omidya...</td>\n",
       "      <td>1758.0</td>\n",
       "      <td>2007-05-26 03:21:34</td>\n",
       "      <td>2019-06-19 12:17:48</td>\n",
       "      <td>investor</td>\n",
       "      <td>omidyar.com</td>\n",
       "      <td>...</td>\n",
       "      <td>313.0</td>\n",
       "      <td>NaN</td>\n",
       "      <td>NaN</td>\n",
       "      <td>NaN</td>\n",
       "      <td>2004-01-01</td>\n",
       "      <td>NaN</td>\n",
       "      <td>http://www.facebook.com/OmidyarNetwork</td>\n",
       "      <td>http://www.linkedin.com/company/22806</td>\n",
       "      <td>http://twitter.com/OmidyarNetwork</td>\n",
       "      <td>https://res.cloudinary.com/crunchbase-producti...</td>\n",
       "    </tr>\n",
       "    <tr>\n",
       "      <th>2</th>\n",
       "      <td>df662812-7f97-0b43-9d3e-12f64f504fbb</td>\n",
       "      <td>Facebook</td>\n",
       "      <td>organization</td>\n",
       "      <td>facebook</td>\n",
       "      <td>https://www.crunchbase.com/organization/facebook</td>\n",
       "      <td>5.0</td>\n",
       "      <td>2007-05-26 04:22:15</td>\n",
       "      <td>2020-10-21 13:53:15</td>\n",
       "      <td>investor,company</td>\n",
       "      <td>facebook.com</td>\n",
       "      <td>...</td>\n",
       "      <td>32.0</td>\n",
       "      <td>1.612282e+10</td>\n",
       "      <td>1.612282e+10</td>\n",
       "      <td>USD</td>\n",
       "      <td>2004-02-04</td>\n",
       "      <td>NaN</td>\n",
       "      <td>https://www.facebook.com/facebook/</td>\n",
       "      <td>http://www.linkedin.com/company/facebook</td>\n",
       "      <td>https://twitter.com/facebook</td>\n",
       "      <td>https://res.cloudinary.com/crunchbase-producti...</td>\n",
       "    </tr>\n",
       "  </tbody>\n",
       "</table>\n",
       "<p>3 rows × 25 columns</p>\n",
       "</div>"
      ],
      "text/plain": [
       "                                   uuid             name          type  \\\n",
       "0  bf4d7b0e-b34d-2fd8-d292-6049c4f7efc7             Zoho  organization   \n",
       "1  f4d5ab44-058b-298b-ea81-380e6e9a8eec  Omidyar Network  organization   \n",
       "2  df662812-7f97-0b43-9d3e-12f64f504fbb         Facebook  organization   \n",
       "\n",
       "         permalink                                             cb_url    rank  \\\n",
       "0             zoho       https://www.crunchbase.com/organization/zoho  7694.0   \n",
       "1  omidyar-network  https://www.crunchbase.com/organization/omidya...  1758.0   \n",
       "2         facebook   https://www.crunchbase.com/organization/facebook     5.0   \n",
       "\n",
       "            created_at           updated_at             roles        domain  \\\n",
       "0  2007-05-26 02:30:28  2018-10-27 00:29:49  investor,company      zoho.com   \n",
       "1  2007-05-26 03:21:34  2019-06-19 12:17:48          investor   omidyar.com   \n",
       "2  2007-05-26 04:22:15  2020-10-21 13:53:15  investor,company  facebook.com   \n",
       "\n",
       "   ... investment_count total_funding_usd total_funding  \\\n",
       "0  ...              6.0               NaN           NaN   \n",
       "1  ...            313.0               NaN           NaN   \n",
       "2  ...             32.0      1.612282e+10  1.612282e+10   \n",
       "\n",
       "  total_funding_currency_code  founded_on  closed_on  \\\n",
       "0                         NaN  1996-09-15        NaN   \n",
       "1                         NaN  2004-01-01        NaN   \n",
       "2                         USD  2004-02-04        NaN   \n",
       "\n",
       "                             facebook_url  \\\n",
       "0            http://www.facebook.com/zoho   \n",
       "1  http://www.facebook.com/OmidyarNetwork   \n",
       "2      https://www.facebook.com/facebook/   \n",
       "\n",
       "                                        linkedin_url  \\\n",
       "0  http://www.linkedin.com/company/zoho-corporati...   \n",
       "1              http://www.linkedin.com/company/22806   \n",
       "2           http://www.linkedin.com/company/facebook   \n",
       "\n",
       "                         twitter_url  \\\n",
       "0            http://twitter.com/zoho   \n",
       "1  http://twitter.com/OmidyarNetwork   \n",
       "2       https://twitter.com/facebook   \n",
       "\n",
       "                                            logo_url  \n",
       "0  https://res.cloudinary.com/crunchbase-producti...  \n",
       "1  https://res.cloudinary.com/crunchbase-producti...  \n",
       "2  https://res.cloudinary.com/crunchbase-producti...  \n",
       "\n",
       "[3 rows x 25 columns]"
      ]
     },
     "execution_count": 147,
     "metadata": {},
     "output_type": "execute_result"
    }
   ],
   "source": [
    "investors_df.head(3)"
   ]
  },
  {
   "cell_type": "code",
   "execution_count": 148,
   "id": "handled-wednesday",
   "metadata": {},
   "outputs": [],
   "source": [
    "investors_df_v1 = investors_df.drop(columns=['permalink', 'cb_url', 'rank', 'created_at',\n",
    "       'updated_at', 'roles','domain'])"
   ]
  },
  {
   "cell_type": "code",
   "execution_count": 149,
   "id": "political-grade",
   "metadata": {},
   "outputs": [
    {
     "data": {
      "text/plain": [
       "Index(['uuid', 'name', 'type', 'country_code', 'state_code', 'region', 'city',\n",
       "       'investor_types', 'investment_count', 'total_funding_usd',\n",
       "       'total_funding', 'total_funding_currency_code', 'founded_on',\n",
       "       'closed_on', 'facebook_url', 'linkedin_url', 'twitter_url', 'logo_url'],\n",
       "      dtype='object')"
      ]
     },
     "execution_count": 149,
     "metadata": {},
     "output_type": "execute_result"
    }
   ],
   "source": [
    "investors_df_v1.columns"
   ]
  },
  {
   "cell_type": "code",
   "execution_count": 150,
   "id": "centered-school",
   "metadata": {},
   "outputs": [],
   "source": [
    "investors_df_v1.rename(columns={'uuid':'investor_uuid'},inplace=True)"
   ]
  },
  {
   "cell_type": "code",
   "execution_count": 151,
   "id": "distinguished-glossary",
   "metadata": {},
   "outputs": [
    {
     "data": {
      "text/plain": [
       "Index(['investor_uuid', 'name', 'type', 'country_code', 'state_code', 'region',\n",
       "       'city', 'investor_types', 'investment_count', 'total_funding_usd',\n",
       "       'total_funding', 'total_funding_currency_code', 'founded_on',\n",
       "       'closed_on', 'facebook_url', 'linkedin_url', 'twitter_url', 'logo_url'],\n",
       "      dtype='object')"
      ]
     },
     "execution_count": 151,
     "metadata": {},
     "output_type": "execute_result"
    }
   ],
   "source": [
    "investors_df_v1.columns"
   ]
  },
  {
   "cell_type": "code",
   "execution_count": 152,
   "id": "outer-duplicate",
   "metadata": {},
   "outputs": [
    {
     "data": {
      "text/plain": [
       "investor_uuid                       0\n",
       "name                                2\n",
       "type                                0\n",
       "country_code                    53898\n",
       "state_code                     112472\n",
       "region                          57935\n",
       "city                            59582\n",
       "investor_types                  81201\n",
       "investment_count                83892\n",
       "total_funding_usd              162641\n",
       "total_funding                  162641\n",
       "total_funding_currency_code    162641\n",
       "founded_on                     121592\n",
       "closed_on                      166366\n",
       "facebook_url                   137548\n",
       "linkedin_url                    78483\n",
       "twitter_url                    124010\n",
       "logo_url                        42484\n",
       "dtype: int64"
      ]
     },
     "execution_count": 152,
     "metadata": {},
     "output_type": "execute_result"
    }
   ],
   "source": [
    "investors_df_v1.isnull().sum(axis=0)"
   ]
  },
  {
   "cell_type": "markdown",
   "id": "broad-alarm",
   "metadata": {},
   "source": [
    "# Investment Partner"
   ]
  },
  {
   "cell_type": "code",
   "execution_count": 153,
   "id": "tight-retention",
   "metadata": {},
   "outputs": [],
   "source": [
    "#import investment partner\n",
    "investment_partner_df = pd.read_csv(R\"d:/msc-project/data/bulk_export_122020/investment_partners.csv\",encoding='utf-8')"
   ]
  },
  {
   "cell_type": "code",
   "execution_count": 154,
   "id": "vietnamese-consensus",
   "metadata": {},
   "outputs": [
    {
     "data": {
      "text/plain": [
       "Index(['uuid', 'name', 'type', 'permalink', 'cb_url', 'rank', 'created_at',\n",
       "       'updated_at', 'funding_round_uuid', 'funding_round_name',\n",
       "       'investor_uuid', 'investor_name', 'partner_uuid', 'partner_name'],\n",
       "      dtype='object')"
      ]
     },
     "execution_count": 154,
     "metadata": {},
     "output_type": "execute_result"
    }
   ],
   "source": [
    "investment_partner_df.columns"
   ]
  },
  {
   "cell_type": "code",
   "execution_count": 155,
   "id": "integrated-mathematics",
   "metadata": {},
   "outputs": [
    {
     "data": {
      "text/html": [
       "<div>\n",
       "<style scoped>\n",
       "    .dataframe tbody tr th:only-of-type {\n",
       "        vertical-align: middle;\n",
       "    }\n",
       "\n",
       "    .dataframe tbody tr th {\n",
       "        vertical-align: top;\n",
       "    }\n",
       "\n",
       "    .dataframe thead th {\n",
       "        text-align: right;\n",
       "    }\n",
       "</style>\n",
       "<table border=\"1\" class=\"dataframe\">\n",
       "  <thead>\n",
       "    <tr style=\"text-align: right;\">\n",
       "      <th></th>\n",
       "      <th>uuid</th>\n",
       "      <th>name</th>\n",
       "      <th>type</th>\n",
       "      <th>permalink</th>\n",
       "      <th>cb_url</th>\n",
       "      <th>rank</th>\n",
       "      <th>created_at</th>\n",
       "      <th>updated_at</th>\n",
       "      <th>funding_round_uuid</th>\n",
       "      <th>funding_round_name</th>\n",
       "      <th>investor_uuid</th>\n",
       "      <th>investor_name</th>\n",
       "      <th>partner_uuid</th>\n",
       "      <th>partner_name</th>\n",
       "    </tr>\n",
       "  </thead>\n",
       "  <tbody>\n",
       "    <tr>\n",
       "      <th>0</th>\n",
       "      <td>524986f0-3049-54a4-fa72-f60897a5e61d</td>\n",
       "      <td>Accel investment in Series A - Facebook</td>\n",
       "      <td>investment</td>\n",
       "      <td>accel-invested-in-facebook-series-a--d950d7a5-...</td>\n",
       "      <td>https://www.crunchbase.com/investment/accel-in...</td>\n",
       "      <td>NaN</td>\n",
       "      <td>2007-05-27 06:09:10</td>\n",
       "      <td>2018-02-13 00:52:57</td>\n",
       "      <td>d950d7a5-79ff-fb93-ca87-13386b0e2feb</td>\n",
       "      <td>Series A - Facebook</td>\n",
       "      <td>b08efc27-da40-505a-6f9d-c9e14247bf36</td>\n",
       "      <td>Accel</td>\n",
       "      <td>2d78d1e7-203c-3eb6-bf1b-c51f10e0679b</td>\n",
       "      <td>Jim Breyer</td>\n",
       "    </tr>\n",
       "    <tr>\n",
       "      <th>1</th>\n",
       "      <td>524986f0-3049-54a4-fa72-f60897a5e61d</td>\n",
       "      <td>Accel investment in Series A - Facebook</td>\n",
       "      <td>investment</td>\n",
       "      <td>accel-invested-in-facebook-series-a--d950d7a5-...</td>\n",
       "      <td>https://www.crunchbase.com/investment/accel-in...</td>\n",
       "      <td>NaN</td>\n",
       "      <td>2007-05-27 06:09:10</td>\n",
       "      <td>2018-02-13 00:52:57</td>\n",
       "      <td>d950d7a5-79ff-fb93-ca87-13386b0e2feb</td>\n",
       "      <td>Series A - Facebook</td>\n",
       "      <td>b08efc27-da40-505a-6f9d-c9e14247bf36</td>\n",
       "      <td>Accel</td>\n",
       "      <td>eaf6c243-d355-32f3-e23a-2a5fc82e8b34</td>\n",
       "      <td>Kevin Efrusy</td>\n",
       "    </tr>\n",
       "  </tbody>\n",
       "</table>\n",
       "</div>"
      ],
      "text/plain": [
       "                                   uuid  \\\n",
       "0  524986f0-3049-54a4-fa72-f60897a5e61d   \n",
       "1  524986f0-3049-54a4-fa72-f60897a5e61d   \n",
       "\n",
       "                                      name        type  \\\n",
       "0  Accel investment in Series A - Facebook  investment   \n",
       "1  Accel investment in Series A - Facebook  investment   \n",
       "\n",
       "                                           permalink  \\\n",
       "0  accel-invested-in-facebook-series-a--d950d7a5-...   \n",
       "1  accel-invested-in-facebook-series-a--d950d7a5-...   \n",
       "\n",
       "                                              cb_url  rank  \\\n",
       "0  https://www.crunchbase.com/investment/accel-in...   NaN   \n",
       "1  https://www.crunchbase.com/investment/accel-in...   NaN   \n",
       "\n",
       "            created_at           updated_at  \\\n",
       "0  2007-05-27 06:09:10  2018-02-13 00:52:57   \n",
       "1  2007-05-27 06:09:10  2018-02-13 00:52:57   \n",
       "\n",
       "                     funding_round_uuid   funding_round_name  \\\n",
       "0  d950d7a5-79ff-fb93-ca87-13386b0e2feb  Series A - Facebook   \n",
       "1  d950d7a5-79ff-fb93-ca87-13386b0e2feb  Series A - Facebook   \n",
       "\n",
       "                          investor_uuid investor_name  \\\n",
       "0  b08efc27-da40-505a-6f9d-c9e14247bf36         Accel   \n",
       "1  b08efc27-da40-505a-6f9d-c9e14247bf36         Accel   \n",
       "\n",
       "                           partner_uuid  partner_name  \n",
       "0  2d78d1e7-203c-3eb6-bf1b-c51f10e0679b    Jim Breyer  \n",
       "1  eaf6c243-d355-32f3-e23a-2a5fc82e8b34  Kevin Efrusy  "
      ]
     },
     "execution_count": 155,
     "metadata": {},
     "output_type": "execute_result"
    }
   ],
   "source": [
    "investment_partner_df.head(2)"
   ]
  },
  {
   "cell_type": "code",
   "execution_count": 156,
   "id": "prescription-exclusion",
   "metadata": {},
   "outputs": [],
   "source": [
    "#drop unecessary columns\n",
    "investment_partner_df_v1 = investment_partner_df.drop(columns=['name', 'type', 'permalink', 'cb_url', 'rank', 'created_at',\n",
    "       'updated_at', 'funding_round_uuid', 'funding_round_name',\n",
    "       'investor_uuid', 'investor_name'])"
   ]
  },
  {
   "cell_type": "code",
   "execution_count": 157,
   "id": "greek-cooling",
   "metadata": {},
   "outputs": [],
   "source": [
    "investment_partner_df_v1.rename (columns={'uuid':'investment_uuid'},inplace=True)"
   ]
  },
  {
   "cell_type": "code",
   "execution_count": 158,
   "id": "round-brass",
   "metadata": {},
   "outputs": [
    {
     "data": {
      "text/plain": [
       "Index(['investment_uuid', 'partner_uuid', 'partner_name'], dtype='object')"
      ]
     },
     "execution_count": 158,
     "metadata": {},
     "output_type": "execute_result"
    }
   ],
   "source": [
    "investment_partner_df_v1.columns"
   ]
  },
  {
   "cell_type": "code",
   "execution_count": 167,
   "id": "alien-edition",
   "metadata": {},
   "outputs": [],
   "source": [
    "#merge with investments df\n",
    "main_investments_v1 = pd.merge (investments_df_v1,investment_partner_df_v1,\n",
    "                              on='investment_uuid',\n",
    "                              how='left')"
   ]
  },
  {
   "cell_type": "code",
   "execution_count": 170,
   "id": "uniform-sailing",
   "metadata": {},
   "outputs": [
    {
     "data": {
      "text/plain": [
       "548451"
      ]
     },
     "execution_count": 170,
     "metadata": {},
     "output_type": "execute_result"
    }
   ],
   "source": [
    "len(investments_df_v1)"
   ]
  },
  {
   "cell_type": "code",
   "execution_count": 171,
   "id": "parliamentary-selection",
   "metadata": {},
   "outputs": [
    {
     "data": {
      "text/plain": [
       "558071"
      ]
     },
     "execution_count": 171,
     "metadata": {},
     "output_type": "execute_result"
    }
   ],
   "source": [
    "len(main_investments_v1)"
   ]
  },
  {
   "cell_type": "code",
   "execution_count": 176,
   "id": "opponent-neighborhood",
   "metadata": {},
   "outputs": [
    {
     "data": {
      "text/html": [
       "<div>\n",
       "<style scoped>\n",
       "    .dataframe tbody tr th:only-of-type {\n",
       "        vertical-align: middle;\n",
       "    }\n",
       "\n",
       "    .dataframe tbody tr th {\n",
       "        vertical-align: top;\n",
       "    }\n",
       "\n",
       "    .dataframe thead th {\n",
       "        text-align: right;\n",
       "    }\n",
       "</style>\n",
       "<table border=\"1\" class=\"dataframe\">\n",
       "  <thead>\n",
       "    <tr style=\"text-align: right;\">\n",
       "      <th></th>\n",
       "      <th>investment_uuid</th>\n",
       "      <th>partner_uuid</th>\n",
       "      <th>partner_name</th>\n",
       "    </tr>\n",
       "  </thead>\n",
       "  <tbody>\n",
       "    <tr>\n",
       "      <th>0</th>\n",
       "      <td>524986f0-3049-54a4-fa72-f60897a5e61d</td>\n",
       "      <td>2d78d1e7-203c-3eb6-bf1b-c51f10e0679b</td>\n",
       "      <td>Jim Breyer</td>\n",
       "    </tr>\n",
       "    <tr>\n",
       "      <th>1</th>\n",
       "      <td>524986f0-3049-54a4-fa72-f60897a5e61d</td>\n",
       "      <td>eaf6c243-d355-32f3-e23a-2a5fc82e8b34</td>\n",
       "      <td>Kevin Efrusy</td>\n",
       "    </tr>\n",
       "    <tr>\n",
       "      <th>16</th>\n",
       "      <td>076c852c-1858-7e4b-78ba-3c2332d7f6e0</td>\n",
       "      <td>11ca8beb-fcc7-1228-16b0-b46e94fc06df</td>\n",
       "      <td>Arthur Bilger</td>\n",
       "    </tr>\n",
       "    <tr>\n",
       "      <th>17</th>\n",
       "      <td>076c852c-1858-7e4b-78ba-3c2332d7f6e0</td>\n",
       "      <td>e2bd3104-d3a9-7252-4b91-1db8349ea667</td>\n",
       "      <td>Richard P. Ramirez</td>\n",
       "    </tr>\n",
       "    <tr>\n",
       "      <th>58</th>\n",
       "      <td>147202ef-94b7-ce24-c7f5-689eeb6c6993</td>\n",
       "      <td>5ed60eaf-6652-47bc-a41a-790593df396d</td>\n",
       "      <td>Neil Rimer</td>\n",
       "    </tr>\n",
       "    <tr>\n",
       "      <th>...</th>\n",
       "      <td>...</td>\n",
       "      <td>...</td>\n",
       "      <td>...</td>\n",
       "    </tr>\n",
       "    <tr>\n",
       "      <th>95615</th>\n",
       "      <td>8c2c535b-453b-47c6-8bbd-de48efffed6e</td>\n",
       "      <td>e3fc2cbc-b2df-4181-a087-27737544cf8f</td>\n",
       "      <td>Seva Zakharov</td>\n",
       "    </tr>\n",
       "    <tr>\n",
       "      <th>95619</th>\n",
       "      <td>06095fee-766b-4f90-8a07-2fe587d9cc70</td>\n",
       "      <td>036a83d7-a47a-f2da-548a-871750ec3099</td>\n",
       "      <td>Ellen Ma</td>\n",
       "    </tr>\n",
       "    <tr>\n",
       "      <th>95620</th>\n",
       "      <td>06095fee-766b-4f90-8a07-2fe587d9cc70</td>\n",
       "      <td>038f8cd4-7b1e-be6e-f45d-d952c14e6802</td>\n",
       "      <td>Wei Guo</td>\n",
       "    </tr>\n",
       "    <tr>\n",
       "      <th>95621</th>\n",
       "      <td>0251e3e7-6a49-4e35-8bd2-c537ef3f6ff8</td>\n",
       "      <td>a3d69bf9-80ef-1ef7-d618-adddf62d37a2</td>\n",
       "      <td>Karen (Appleton ) Page</td>\n",
       "    </tr>\n",
       "    <tr>\n",
       "      <th>95622</th>\n",
       "      <td>0251e3e7-6a49-4e35-8bd2-c537ef3f6ff8</td>\n",
       "      <td>fbbe8a66-ce5c-2521-bdfb-67e8647ff05b</td>\n",
       "      <td>Kabir Narang</td>\n",
       "    </tr>\n",
       "  </tbody>\n",
       "</table>\n",
       "<p>17684 rows × 3 columns</p>\n",
       "</div>"
      ],
      "text/plain": [
       "                            investment_uuid  \\\n",
       "0      524986f0-3049-54a4-fa72-f60897a5e61d   \n",
       "1      524986f0-3049-54a4-fa72-f60897a5e61d   \n",
       "16     076c852c-1858-7e4b-78ba-3c2332d7f6e0   \n",
       "17     076c852c-1858-7e4b-78ba-3c2332d7f6e0   \n",
       "58     147202ef-94b7-ce24-c7f5-689eeb6c6993   \n",
       "...                                     ...   \n",
       "95615  8c2c535b-453b-47c6-8bbd-de48efffed6e   \n",
       "95619  06095fee-766b-4f90-8a07-2fe587d9cc70   \n",
       "95620  06095fee-766b-4f90-8a07-2fe587d9cc70   \n",
       "95621  0251e3e7-6a49-4e35-8bd2-c537ef3f6ff8   \n",
       "95622  0251e3e7-6a49-4e35-8bd2-c537ef3f6ff8   \n",
       "\n",
       "                               partner_uuid            partner_name  \n",
       "0      2d78d1e7-203c-3eb6-bf1b-c51f10e0679b              Jim Breyer  \n",
       "1      eaf6c243-d355-32f3-e23a-2a5fc82e8b34            Kevin Efrusy  \n",
       "16     11ca8beb-fcc7-1228-16b0-b46e94fc06df           Arthur Bilger  \n",
       "17     e2bd3104-d3a9-7252-4b91-1db8349ea667      Richard P. Ramirez  \n",
       "58     5ed60eaf-6652-47bc-a41a-790593df396d              Neil Rimer  \n",
       "...                                     ...                     ...  \n",
       "95615  e3fc2cbc-b2df-4181-a087-27737544cf8f           Seva Zakharov  \n",
       "95619  036a83d7-a47a-f2da-548a-871750ec3099                Ellen Ma  \n",
       "95620  038f8cd4-7b1e-be6e-f45d-d952c14e6802                 Wei Guo  \n",
       "95621  a3d69bf9-80ef-1ef7-d618-adddf62d37a2  Karen (Appleton ) Page  \n",
       "95622  fbbe8a66-ce5c-2521-bdfb-67e8647ff05b            Kabir Narang  \n",
       "\n",
       "[17684 rows x 3 columns]"
      ]
     },
     "execution_count": 176,
     "metadata": {},
     "output_type": "execute_result"
    }
   ],
   "source": [
    "investment_partner_df_v1[investment_partner_df_v1.duplicated(subset=['investment_uuid'],keep=False)]"
   ]
  },
  {
   "cell_type": "code",
   "execution_count": 174,
   "id": "integral-exhaust",
   "metadata": {},
   "outputs": [
    {
     "ename": "KeyError",
     "evalue": "Index(['invesment_uuid'], dtype='object')",
     "output_type": "error",
     "traceback": [
      "\u001b[1;31m---------------------------------------------------------------------------\u001b[0m",
      "\u001b[1;31mKeyError\u001b[0m                                  Traceback (most recent call last)",
      "\u001b[1;32m<ipython-input-174-68b974ce4136>\u001b[0m in \u001b[0;36m<module>\u001b[1;34m\u001b[0m\n\u001b[1;32m----> 1\u001b[1;33m \u001b[0mlen\u001b[0m\u001b[1;33m(\u001b[0m\u001b[0minvestment_partner_df_v1\u001b[0m\u001b[1;33m[\u001b[0m\u001b[0minvestment_partner_df_v1\u001b[0m\u001b[1;33m.\u001b[0m\u001b[0mduplicated\u001b[0m\u001b[1;33m(\u001b[0m\u001b[0msubset\u001b[0m\u001b[1;33m=\u001b[0m\u001b[1;33m[\u001b[0m\u001b[1;34m'invesment_uuid'\u001b[0m\u001b[1;33m]\u001b[0m\u001b[1;33m,\u001b[0m\u001b[0mkeep\u001b[0m\u001b[1;33m=\u001b[0m\u001b[1;32mFalse\u001b[0m\u001b[1;33m)\u001b[0m\u001b[1;33m]\u001b[0m\u001b[1;33m)\u001b[0m\u001b[1;33m\u001b[0m\u001b[1;33m\u001b[0m\u001b[0m\n\u001b[0m",
      "\u001b[1;32m~\\miniconda3\\lib\\site-packages\\pandas\\core\\frame.py\u001b[0m in \u001b[0;36mduplicated\u001b[1;34m(self, subset, keep)\u001b[0m\n\u001b[0;32m   5403\u001b[0m         \u001b[0mdiff\u001b[0m \u001b[1;33m=\u001b[0m \u001b[0mIndex\u001b[0m\u001b[1;33m(\u001b[0m\u001b[0msubset\u001b[0m\u001b[1;33m)\u001b[0m\u001b[1;33m.\u001b[0m\u001b[0mdifference\u001b[0m\u001b[1;33m(\u001b[0m\u001b[0mself\u001b[0m\u001b[1;33m.\u001b[0m\u001b[0mcolumns\u001b[0m\u001b[1;33m)\u001b[0m\u001b[1;33m\u001b[0m\u001b[1;33m\u001b[0m\u001b[0m\n\u001b[0;32m   5404\u001b[0m         \u001b[1;32mif\u001b[0m \u001b[1;32mnot\u001b[0m \u001b[0mdiff\u001b[0m\u001b[1;33m.\u001b[0m\u001b[0mempty\u001b[0m\u001b[1;33m:\u001b[0m\u001b[1;33m\u001b[0m\u001b[1;33m\u001b[0m\u001b[0m\n\u001b[1;32m-> 5405\u001b[1;33m             \u001b[1;32mraise\u001b[0m \u001b[0mKeyError\u001b[0m\u001b[1;33m(\u001b[0m\u001b[0mdiff\u001b[0m\u001b[1;33m)\u001b[0m\u001b[1;33m\u001b[0m\u001b[1;33m\u001b[0m\u001b[0m\n\u001b[0m\u001b[0;32m   5406\u001b[0m \u001b[1;33m\u001b[0m\u001b[0m\n\u001b[0;32m   5407\u001b[0m         \u001b[0mvals\u001b[0m \u001b[1;33m=\u001b[0m \u001b[1;33m(\u001b[0m\u001b[0mcol\u001b[0m\u001b[1;33m.\u001b[0m\u001b[0mvalues\u001b[0m \u001b[1;32mfor\u001b[0m \u001b[0mname\u001b[0m\u001b[1;33m,\u001b[0m \u001b[0mcol\u001b[0m \u001b[1;32min\u001b[0m \u001b[0mself\u001b[0m\u001b[1;33m.\u001b[0m\u001b[0mitems\u001b[0m\u001b[1;33m(\u001b[0m\u001b[1;33m)\u001b[0m \u001b[1;32mif\u001b[0m \u001b[0mname\u001b[0m \u001b[1;32min\u001b[0m \u001b[0msubset\u001b[0m\u001b[1;33m)\u001b[0m\u001b[1;33m\u001b[0m\u001b[1;33m\u001b[0m\u001b[0m\n",
      "\u001b[1;31mKeyError\u001b[0m: Index(['invesment_uuid'], dtype='object')"
     ]
    }
   ],
   "source": [
    "len(investment_partner_df_v1[investment_partner_df_v1.duplicated(subset=['invesment_uuid'],keep=False)])"
   ]
  },
  {
   "cell_type": "code",
   "execution_count": 169,
   "id": "standard-small",
   "metadata": {},
   "outputs": [
    {
     "data": {
      "text/plain": [
       "Index(['investment_uuid', 'name', 'funding_round_uuid', 'funding_round_name',\n",
       "       'investor_uuid', 'investor_name', 'investor_type', 'is_lead_investor',\n",
       "       'partner_uuid', 'partner_name'],\n",
       "      dtype='object')"
      ]
     },
     "execution_count": 169,
     "metadata": {},
     "output_type": "execute_result"
    }
   ],
   "source": [
    "main_investments_v1.columns"
   ]
  },
  {
   "cell_type": "markdown",
   "id": "vietnamese-compilation",
   "metadata": {},
   "source": [
    "# Funds"
   ]
  },
  {
   "cell_type": "code",
   "execution_count": null,
   "id": "educational-attempt",
   "metadata": {},
   "outputs": [],
   "source": [
    "funds_df = pd.read_csv(R\"d:/msc-project/data/bulk_export_122020/funds.csv\",encoding='utf-8')"
   ]
  },
  {
   "cell_type": "code",
   "execution_count": null,
   "id": "verbal-majority",
   "metadata": {},
   "outputs": [],
   "source": [
    "funds_df.columns"
   ]
  },
  {
   "cell_type": "code",
   "execution_count": null,
   "id": "chinese-chrome",
   "metadata": {},
   "outputs": [],
   "source": [
    "funds_df.head(2)"
   ]
  },
  {
   "cell_type": "code",
   "execution_count": null,
   "id": "considered-japan",
   "metadata": {},
   "outputs": [],
   "source": [
    "funds_df_v1 = funds_df.drop(columns = ['type', 'permalink', 'cb_url', 'rank', 'created_at',\n",
    "       'updated_at'])"
   ]
  },
  {
   "cell_type": "code",
   "execution_count": null,
   "id": "taken-keeping",
   "metadata": {},
   "outputs": [],
   "source": [
    "funds_df_v1.isnull().sum(axis=0)"
   ]
  },
  {
   "cell_type": "code",
   "execution_count": null,
   "id": "connected-pierce",
   "metadata": {},
   "outputs": [],
   "source": [
    "funds_df_v1.rename(columns={'uuid':'fund_uuid','entity_uuid':'org_uuid'},inplace=True)"
   ]
  },
  {
   "cell_type": "code",
   "execution_count": null,
   "id": "yellow-technical",
   "metadata": {},
   "outputs": [],
   "source": [
    "funds_df_v1.columns"
   ]
  },
  {
   "cell_type": "markdown",
   "id": "seeing-cradle",
   "metadata": {},
   "source": [
    "# Events"
   ]
  },
  {
   "cell_type": "code",
   "execution_count": null,
   "id": "joint-housing",
   "metadata": {},
   "outputs": [],
   "source": [
    "#import events.csv\n",
    "events_df = pd.read_csv(R\"d:/msc-project/data/bulk_export_122020/events.csv\",encoding='utf-8')"
   ]
  },
  {
   "cell_type": "code",
   "execution_count": null,
   "id": "behind-retailer",
   "metadata": {},
   "outputs": [],
   "source": [
    "events_df.columns"
   ]
  },
  {
   "cell_type": "code",
   "execution_count": null,
   "id": "unusual-thing",
   "metadata": {},
   "outputs": [],
   "source": [
    "events_df.head(3)"
   ]
  },
  {
   "cell_type": "code",
   "execution_count": null,
   "id": "harmful-programming",
   "metadata": {},
   "outputs": [],
   "source": [
    "events_df_v1 = events_df.drop (columns = ['type', 'permalink', 'cb_url', 'rank', 'created_at',\n",
    "       'updated_at','event_url', 'registration_url', 'venue_name','logo_url'])"
   ]
  },
  {
   "cell_type": "code",
   "execution_count": null,
   "id": "bacterial-robert",
   "metadata": {},
   "outputs": [],
   "source": [
    "events_df_v1.rename(columns = {'uuid':'event_uuid'},inplace=True)"
   ]
  },
  {
   "cell_type": "code",
   "execution_count": null,
   "id": "supposed-reset",
   "metadata": {},
   "outputs": [],
   "source": [
    "events_df_v1.columns"
   ]
  },
  {
   "cell_type": "markdown",
   "id": "canadian-alcohol",
   "metadata": {},
   "source": [
    "# Event Appearances"
   ]
  },
  {
   "cell_type": "code",
   "execution_count": null,
   "id": "forced-consequence",
   "metadata": {},
   "outputs": [],
   "source": [
    "#import event_appearances.csv\n",
    "event_appear_df = pd.read_csv(R\"d:/msc-project/data/bulk_export_122020/event_appearances.csv\",encoding='utf-8')"
   ]
  },
  {
   "cell_type": "code",
   "execution_count": null,
   "id": "tight-laugh",
   "metadata": {},
   "outputs": [],
   "source": [
    "event_appear_df.columns"
   ]
  },
  {
   "cell_type": "code",
   "execution_count": null,
   "id": "sound-shade",
   "metadata": {},
   "outputs": [],
   "source": [
    "event_appear_df.head(3)"
   ]
  },
  {
   "cell_type": "code",
   "execution_count": null,
   "id": "sophisticated-breach",
   "metadata": {},
   "outputs": [],
   "source": [
    "set(event_appear_df.participant_type)"
   ]
  },
  {
   "cell_type": "code",
   "execution_count": null,
   "id": "rolled-territory",
   "metadata": {},
   "outputs": [],
   "source": [
    "event_appear_df[event_appear_df.participant_type == 'person']"
   ]
  },
  {
   "cell_type": "code",
   "execution_count": null,
   "id": "driving-mistress",
   "metadata": {},
   "outputs": [],
   "source": [
    "investors_df_v1[investors_df_v1.investor_uuid == '967d56ac-ffb5-9313-ee3f-e45a803ff2da']"
   ]
  },
  {
   "cell_type": "code",
   "execution_count": null,
   "id": "limited-blocking",
   "metadata": {},
   "outputs": [],
   "source": [
    "participant_uuid = list (event_appear_df.participant_uuid)\n",
    "participant_uuid.count('967d56ac-ffb5-9313-ee3f-e45a803ff2da')"
   ]
  },
  {
   "cell_type": "markdown",
   "id": "falling-laptop",
   "metadata": {},
   "source": [
    "# People"
   ]
  },
  {
   "cell_type": "code",
   "execution_count": null,
   "id": "nominated-shopper",
   "metadata": {},
   "outputs": [],
   "source": [
    "#import people.csv\n",
    "people_df = pd.read_csv(R\"d:/msc-project/data/bulk_export_122020/people.csv\",encoding='utf-8')"
   ]
  },
  {
   "cell_type": "code",
   "execution_count": null,
   "id": "unauthorized-armenia",
   "metadata": {},
   "outputs": [],
   "source": [
    "people_df.columns"
   ]
  },
  {
   "cell_type": "code",
   "execution_count": null,
   "id": "enclosed-syntax",
   "metadata": {},
   "outputs": [],
   "source": [
    "#drop unecessary column\n",
    "people_df_v1 = people_df.drop(columns = ['type', 'permalink', 'cb_url', 'rank', 'created_at',\n",
    "       'updated_at'])"
   ]
  },
  {
   "cell_type": "code",
   "execution_count": null,
   "id": "technological-march",
   "metadata": {},
   "outputs": [],
   "source": [
    "#Check number of NA value\n",
    "people_df_v1.isnull().sum(axis=0)"
   ]
  },
  {
   "cell_type": "code",
   "execution_count": null,
   "id": "preceding-database",
   "metadata": {},
   "outputs": [],
   "source": [
    "#change column name\n",
    "people_df_v1.rename (columns = {'uuid':'people_uuid','featured_job_organization_uuid':'org_uuid'},inplace=True)"
   ]
  },
  {
   "cell_type": "code",
   "execution_count": null,
   "id": "following-delta",
   "metadata": {},
   "outputs": [],
   "source": [
    "#drop people with no organisation\n",
    "people_df_v2 = people_df_v1.dropna (subset=['org_uuid'])"
   ]
  },
  {
   "cell_type": "code",
   "execution_count": null,
   "id": "noble-overall",
   "metadata": {},
   "outputs": [],
   "source": [
    "len(people_df_v2)"
   ]
  },
  {
   "cell_type": "code",
   "execution_count": null,
   "id": "blessed-syntax",
   "metadata": {},
   "outputs": [],
   "source": [
    "people_df_v2.head(3)"
   ]
  },
  {
   "cell_type": "markdown",
   "id": "minus-tobacco",
   "metadata": {},
   "source": [
    "# People Description"
   ]
  },
  {
   "cell_type": "code",
   "execution_count": null,
   "id": "treated-archives",
   "metadata": {},
   "outputs": [],
   "source": [
    "#import people.csv\n",
    "people_desc_df = pd.read_csv(R\"d:/msc-project/data/bulk_export_122020/people_descriptions.csv\",encoding='utf-8')"
   ]
  },
  {
   "cell_type": "code",
   "execution_count": null,
   "id": "potential-spank",
   "metadata": {},
   "outputs": [],
   "source": [
    "people_desc_df.columns"
   ]
  },
  {
   "cell_type": "code",
   "execution_count": null,
   "id": "regulated-hampton",
   "metadata": {},
   "outputs": [],
   "source": [
    "#drop unecessary columns\n",
    "people_desc_df_v1 = people_desc_df.drop (columns=['name', 'type', 'permalink', 'cb_url', 'rank', 'created_at',\n",
    "       'updated_at'])"
   ]
  },
  {
   "cell_type": "code",
   "execution_count": null,
   "id": "suburban-elder",
   "metadata": {},
   "outputs": [],
   "source": [
    "people_desc_df_v1.columns"
   ]
  },
  {
   "cell_type": "code",
   "execution_count": null,
   "id": "improving-being",
   "metadata": {},
   "outputs": [],
   "source": [
    "#change column name\n",
    "people_desc_df_v1.rename(columns = {'uuid':'people_uuid'},inplace=True)"
   ]
  },
  {
   "cell_type": "code",
   "execution_count": null,
   "id": "parallel-grill",
   "metadata": {},
   "outputs": [],
   "source": [
    "#check NA\n",
    "people_desc_df_v1.isnull().sum(axis=0)"
   ]
  },
  {
   "cell_type": "code",
   "execution_count": null,
   "id": "abandoned-biotechnology",
   "metadata": {},
   "outputs": [],
   "source": [
    "#drop data with NA\n",
    "people_desc_df_v2 = people_desc_df_v1.dropna (subset=['description'])"
   ]
  },
  {
   "cell_type": "code",
   "execution_count": null,
   "id": "hydraulic-maintenance",
   "metadata": {},
   "outputs": [],
   "source": [
    "#merge with main people data\n",
    "main_people_df_v1 = pd.merge(people_df_v2,\n",
    "                            people_desc_df_v2,\n",
    "                            on='people_uuid',\n",
    "                            how='left')"
   ]
  },
  {
   "cell_type": "code",
   "execution_count": null,
   "id": "macro-barcelona",
   "metadata": {},
   "outputs": [],
   "source": [
    "main_people_df_v1.columns"
   ]
  },
  {
   "cell_type": "markdown",
   "id": "sonic-entrepreneur",
   "metadata": {},
   "source": [
    "# Degrees"
   ]
  },
  {
   "cell_type": "code",
   "execution_count": null,
   "id": "interesting-assumption",
   "metadata": {},
   "outputs": [],
   "source": [
    "#import degress.csv\n",
    "deg_df = pd.read_csv(R\"d:/msc-project/data/bulk_export_122020/degrees.csv\",encoding='utf-8')"
   ]
  },
  {
   "cell_type": "code",
   "execution_count": null,
   "id": "monthly-opening",
   "metadata": {},
   "outputs": [],
   "source": [
    "deg_df.columns"
   ]
  },
  {
   "cell_type": "code",
   "execution_count": null,
   "id": "persistent-rhythm",
   "metadata": {},
   "outputs": [],
   "source": [
    "deg_df.head(2)"
   ]
  },
  {
   "cell_type": "code",
   "execution_count": null,
   "id": "emerging-literacy",
   "metadata": {},
   "outputs": [],
   "source": [
    "set(deg_df.type)"
   ]
  },
  {
   "cell_type": "code",
   "execution_count": null,
   "id": "through-attitude",
   "metadata": {},
   "outputs": [],
   "source": [
    "#drop uncessary columns\n",
    "deg_df_v2 = deg_df.drop(columns = ['type', 'permalink', 'cb_url', 'rank', 'created_at',\n",
    "       'updated_at'])"
   ]
  },
  {
   "cell_type": "code",
   "execution_count": null,
   "id": "married-playback",
   "metadata": {},
   "outputs": [],
   "source": [
    "deg_df_v2.columns"
   ]
  },
  {
   "cell_type": "code",
   "execution_count": null,
   "id": "centered-catalog",
   "metadata": {},
   "outputs": [],
   "source": [
    "#change column name\n",
    "deg_df_v2.rename(columns = {'uuid':'deg_uuid','name':'deg_name','person_uuid':'people_uuid'},inplace=True)"
   ]
  },
  {
   "cell_type": "code",
   "execution_count": null,
   "id": "occupied-search",
   "metadata": {},
   "outputs": [],
   "source": [
    "deg_df_v2.columns"
   ]
  },
  {
   "cell_type": "code",
   "execution_count": null,
   "id": "close-insight",
   "metadata": {},
   "outputs": [],
   "source": [
    "deg_df_v2.isnull().sum(axis=0)"
   ]
  },
  {
   "cell_type": "code",
   "execution_count": null,
   "id": "dependent-vegetarian",
   "metadata": {},
   "outputs": [],
   "source": [
    "#merge deg_df with main_people_df\n",
    "main_people_df_v2 = pd.merge(main_people_df_v1,\n",
    "                            deg_df_v2,\n",
    "                            on='people_uuid',\n",
    "                            how='left')"
   ]
  },
  {
   "cell_type": "code",
   "execution_count": null,
   "id": "hispanic-feeding",
   "metadata": {},
   "outputs": [],
   "source": [
    "main_people_df_v2.columns"
   ]
  },
  {
   "cell_type": "code",
   "execution_count": null,
   "id": "incredible-queensland",
   "metadata": {},
   "outputs": [],
   "source": [
    "len(main_people_df_v1)"
   ]
  },
  {
   "cell_type": "code",
   "execution_count": null,
   "id": "constitutional-medication",
   "metadata": {},
   "outputs": [],
   "source": [
    "len(main_people_df_v2)"
   ]
  },
  {
   "cell_type": "code",
   "execution_count": null,
   "id": "joined-birthday",
   "metadata": {},
   "outputs": [],
   "source": [
    "main_people_df_v2.duplicated(subset=['people_uuid'])"
   ]
  },
  {
   "cell_type": "code",
   "execution_count": null,
   "id": "canadian-savings",
   "metadata": {},
   "outputs": [],
   "source": [
    "deg_df_v2.columns"
   ]
  },
  {
   "cell_type": "code",
   "execution_count": null,
   "id": "fuzzy-feeling",
   "metadata": {},
   "outputs": [],
   "source": [
    "deg_df_v2.subject"
   ]
  },
  {
   "cell_type": "markdown",
   "id": "chicken-muslim",
   "metadata": {},
   "source": [
    "# Jobs"
   ]
  },
  {
   "cell_type": "code",
   "execution_count": null,
   "id": "uniform-participation",
   "metadata": {},
   "outputs": [],
   "source": [
    "#import jobs.csv\n",
    "jobs_df = pd.read_csv(R\"d:/msc-project/data/bulk_export_122020/jobs.csv\",encoding='utf-8')"
   ]
  },
  {
   "cell_type": "code",
   "execution_count": null,
   "id": "apart-welsh",
   "metadata": {},
   "outputs": [],
   "source": [
    "jobs_df.columns"
   ]
  },
  {
   "cell_type": "code",
   "execution_count": null,
   "id": "acknowledged-auction",
   "metadata": {},
   "outputs": [],
   "source": [
    "jobs_df.head(1)"
   ]
  },
  {
   "cell_type": "code",
   "execution_count": null,
   "id": "commercial-victim",
   "metadata": {},
   "outputs": [],
   "source": [
    "#drop unecessary columns\n",
    "jobs_df_v1 = jobs_df.drop(columns=['type', 'permalink', 'cb_url', 'rank', 'created_at',\n",
    "       'updated_at'])"
   ]
  },
  {
   "cell_type": "code",
   "execution_count": null,
   "id": "unauthorized-mattress",
   "metadata": {},
   "outputs": [],
   "source": [
    "jobs_df_v1.columns"
   ]
  },
  {
   "cell_type": "code",
   "execution_count": null,
   "id": "valuable-flush",
   "metadata": {},
   "outputs": [],
   "source": [
    "#change columns name\n",
    "jobs_df_v1.rename(columns={'uuid':'job_uuid','name':'job_name','person_uuid':'people_uuid'},inplace=True)"
   ]
  },
  {
   "cell_type": "code",
   "execution_count": null,
   "id": "american-deadline",
   "metadata": {},
   "outputs": [],
   "source": [
    "jobs_df_v1.columns"
   ]
  },
  {
   "cell_type": "code",
   "execution_count": null,
   "id": "prospective-share",
   "metadata": {},
   "outputs": [],
   "source": [
    "jobs_df.head(3)"
   ]
  },
  {
   "cell_type": "code",
   "execution_count": null,
   "id": "proud-musician",
   "metadata": {},
   "outputs": [],
   "source": []
  }
 ],
 "metadata": {
  "kernelspec": {
   "display_name": "Python 3",
   "language": "python",
   "name": "python3"
  },
  "language_info": {
   "codemirror_mode": {
    "name": "ipython",
    "version": 3
   },
   "file_extension": ".py",
   "mimetype": "text/x-python",
   "name": "python",
   "nbconvert_exporter": "python",
   "pygments_lexer": "ipython3",
   "version": "3.7.9"
  }
 },
 "nbformat": 4,
 "nbformat_minor": 5
}
