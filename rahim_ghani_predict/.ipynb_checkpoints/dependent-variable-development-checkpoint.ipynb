{
 "cells": [
  {
   "cell_type": "code",
   "execution_count": 1,
   "id": "blond-validity",
   "metadata": {},
   "outputs": [],
   "source": [
    "#Import basic packages\n",
    "import os\n",
    "import numpy as np\n",
    "import pandas as pd\n",
    "import csv\n",
    "import regex as re\n",
    "import datetime as dt "
   ]
  },
  {
   "cell_type": "code",
   "execution_count": 2,
   "id": "southeast-colleague",
   "metadata": {},
   "outputs": [],
   "source": [
    "org_ori_df = pd.read_csv(R\"d:/msc-project/data/pre-processed/organisations_preprocessed.csv\",encoding='utf-8',\n",
    "                         index_col='org_uuid',\n",
    "                         parse_dates= ['founded_on','went_public_on','acquired_on','closed_on'])"
   ]
  },
  {
   "cell_type": "code",
   "execution_count": 3,
   "id": "technical-kennedy",
   "metadata": {},
   "outputs": [
    {
     "data": {
      "text/plain": [
       "Index(['name', 'legal_name', 'homepage_url', 'country_code', 'state_code',\n",
       "       'region', 'city', 'address', 'postal_code', 'status',\n",
       "       'short_description', 'category_list', 'category_groups_list',\n",
       "       'num_funding_rounds', 'total_funding_usd', 'total_funding',\n",
       "       'total_funding_currency_code', 'founded_on', 'last_funding_on',\n",
       "       'closed_on', 'employee_count', 'email', 'phone', 'facebook_url',\n",
       "       'linkedin_url', 'twitter_url', 'logo_url', 'primary_role', 'num_exits',\n",
       "       'description', 'ipo_uuid', 'stock_exchange_symbol', 'stock_symbol',\n",
       "       'went_public_on', 'share_price_usd', 'share_price',\n",
       "       'share_price_currency_code', 'valuation_price_usd', 'valuation_price',\n",
       "       'valuation_price_currency_code', 'money_raised_usd', 'money_raised',\n",
       "       'money_raised_currency_code', 'acquisition_uuid', 'acquirer_uuid',\n",
       "       'acquirer_name', 'acquirer_country_code', 'acquirer_state_code',\n",
       "       'acquirer_region', 'acquirer_city', 'acquisition_type', 'acquired_on',\n",
       "       'price_usd', 'price', 'price_currency_code', 'parent_uuid',\n",
       "       'parent_name'],\n",
       "      dtype='object')"
      ]
     },
     "execution_count": 3,
     "metadata": {},
     "output_type": "execute_result"
    }
   ],
   "source": [
    "org_ori_df.columns"
   ]
  },
  {
   "cell_type": "code",
   "execution_count": 4,
   "id": "graduate-press",
   "metadata": {},
   "outputs": [],
   "source": [
    "funding_rounds_df = pd.read_csv(R\"d:/msc-project/data/pre-processed/funding_rounds_preprocessed.csv\",encoding='utf-8', \n",
    "            index_col='funding_round_uuid',\n",
    "           parse_dates=['announced_on'])"
   ]
  },
  {
   "cell_type": "code",
   "execution_count": 5,
   "id": "gorgeous-binding",
   "metadata": {},
   "outputs": [
    {
     "data": {
      "text/plain": [
       "Index(['name', 'country_code', 'state_code', 'region', 'city',\n",
       "       'investment_type', 'announced_on', 'raised_amount_usd', 'raised_amount',\n",
       "       'raised_amount_currency_code', 'post_money_valuation_usd',\n",
       "       'post_money_valuation', 'post_money_valuation_currency_code',\n",
       "       'investor_count', 'org_uuid', 'org_name', 'lead_investor_uuids'],\n",
       "      dtype='object')"
      ]
     },
     "execution_count": 5,
     "metadata": {},
     "output_type": "execute_result"
    }
   ],
   "source": [
    "funding_rounds_df.columns"
   ]
  },
  {
   "cell_type": "code",
   "execution_count": 6,
   "id": "weird-minimum",
   "metadata": {},
   "outputs": [
    {
     "data": {
      "text/plain": [
       "364336"
      ]
     },
     "execution_count": 6,
     "metadata": {},
     "output_type": "execute_result"
    }
   ],
   "source": [
    "len(funding_rounds_df)"
   ]
  },
  {
   "cell_type": "code",
   "execution_count": 7,
   "id": "referenced-system",
   "metadata": {},
   "outputs": [
    {
     "data": {
      "text/plain": [
       "seed                     102870\n",
       "series_unknown            61708\n",
       "series_a                  42105\n",
       "series_b                  21084\n",
       "grant                     20373\n",
       "angel                     18847\n",
       "pre_seed                  17224\n",
       "debt_financing            14249\n",
       "private_equity            11158\n",
       "series_c                   9801\n",
       "convertible_note           7386\n",
       "post_ipo_equity            6416\n",
       "equity_crowdfunding        6315\n",
       "non_equity_assistance      5381\n",
       "undisclosed                5296\n",
       "series_d                   4126\n",
       "corporate_round            3335\n",
       "series_e                   1715\n",
       "post_ipo_debt              1420\n",
       "product_crowdfunding       1025\n",
       "secondary_market            784\n",
       "initial_coin_offering       688\n",
       "series_f                    611\n",
       "series_g                    210\n",
       "post_ipo_secondary           89\n",
       "series_h                     89\n",
       "series_i                     19\n",
       "series_j                     12\n",
       "Name: investment_type, dtype: int64"
      ]
     },
     "execution_count": 7,
     "metadata": {},
     "output_type": "execute_result"
    }
   ],
   "source": [
    "funding_rounds_df.investment_type.value_counts()"
   ]
  },
  {
   "cell_type": "code",
   "execution_count": 8,
   "id": "instructional-married",
   "metadata": {},
   "outputs": [],
   "source": [
    "#create processed organisation\n",
    "org_processing_df = org_ori_df[['name','status','founded_on']]"
   ]
  },
  {
   "cell_type": "code",
   "execution_count": 9,
   "id": "variable-regression",
   "metadata": {},
   "outputs": [],
   "source": [
    "#create groupbyobject for investment_type\n",
    "investment_type = funding_rounds_df.groupby('investment_type')"
   ]
  },
  {
   "cell_type": "code",
   "execution_count": 78,
   "id": "filled-joshua",
   "metadata": {},
   "outputs": [
    {
     "data": {
      "text/html": [
       "<div>\n",
       "<style scoped>\n",
       "    .dataframe tbody tr th:only-of-type {\n",
       "        vertical-align: middle;\n",
       "    }\n",
       "\n",
       "    .dataframe tbody tr th {\n",
       "        vertical-align: top;\n",
       "    }\n",
       "\n",
       "    .dataframe thead th {\n",
       "        text-align: right;\n",
       "    }\n",
       "</style>\n",
       "<table border=\"1\" class=\"dataframe\">\n",
       "  <thead>\n",
       "    <tr style=\"text-align: right;\">\n",
       "      <th></th>\n",
       "      <th>name</th>\n",
       "      <th>status</th>\n",
       "      <th>founded_on</th>\n",
       "    </tr>\n",
       "    <tr>\n",
       "      <th>org_uuid</th>\n",
       "      <th></th>\n",
       "      <th></th>\n",
       "      <th></th>\n",
       "    </tr>\n",
       "  </thead>\n",
       "  <tbody>\n",
       "    <tr>\n",
       "      <th>e1393508-30ea-8a36-3f96-dd3226033abd</th>\n",
       "      <td>Wetpaint</td>\n",
       "      <td>acquired</td>\n",
       "      <td>2005-06-01</td>\n",
       "    </tr>\n",
       "    <tr>\n",
       "      <th>5f2b40b8-d1b3-d323-d81a-b7a8e89553d0</th>\n",
       "      <td>Digg</td>\n",
       "      <td>acquired</td>\n",
       "      <td>2004-10-11</td>\n",
       "    </tr>\n",
       "    <tr>\n",
       "      <th>df662812-7f97-0b43-9d3e-12f64f504fbb</th>\n",
       "      <td>Facebook</td>\n",
       "      <td>ipo</td>\n",
       "      <td>2004-02-04</td>\n",
       "    </tr>\n",
       "  </tbody>\n",
       "</table>\n",
       "</div>"
      ],
      "text/plain": [
       "                                          name    status founded_on\n",
       "org_uuid                                                           \n",
       "e1393508-30ea-8a36-3f96-dd3226033abd  Wetpaint  acquired 2005-06-01\n",
       "5f2b40b8-d1b3-d323-d81a-b7a8e89553d0      Digg  acquired 2004-10-11\n",
       "df662812-7f97-0b43-9d3e-12f64f504fbb  Facebook       ipo 2004-02-04"
      ]
     },
     "execution_count": 78,
     "metadata": {},
     "output_type": "execute_result"
    }
   ],
   "source": [
    "org_processing_df.head(3)"
   ]
  },
  {
   "cell_type": "code",
   "execution_count": 10,
   "id": "fatty-opinion",
   "metadata": {},
   "outputs": [
    {
     "data": {
      "text/plain": [
       "102870"
      ]
     },
     "execution_count": 10,
     "metadata": {},
     "output_type": "execute_result"
    }
   ],
   "source": [
    "#create df of company with seed funding\n",
    "seed_company_df = investment_type.get_group('seed')[['org_uuid','announced_on']]\n",
    "seed_company_df.dropna(subset=['announced_on'],inplace=True)\n",
    "seed_company_df.rename(columns={'announced_on':'seed_date'},inplace=True)\n",
    "len(seed_company_df)"
   ]
  },
  {
   "cell_type": "code",
   "execution_count": 11,
   "id": "broadband-workshop",
   "metadata": {},
   "outputs": [],
   "source": [
    "#drop duplicate of companies with more than one seed date. keep only the first seed date.\n",
    "seed_company_df.sort_values(by=['seed_date'],inplace=True)\n",
    "seed_company_df_v1 = seed_company_df.drop_duplicates(subset=['org_uuid'],keep='first')"
   ]
  },
  {
   "cell_type": "code",
   "execution_count": 12,
   "id": "convertible-jimmy",
   "metadata": {},
   "outputs": [
    {
     "data": {
      "text/plain": [
       "78970"
      ]
     },
     "execution_count": 12,
     "metadata": {},
     "output_type": "execute_result"
    }
   ],
   "source": [
    "len(seed_company_df_v1)"
   ]
  },
  {
   "cell_type": "code",
   "execution_count": 13,
   "id": "balanced-beijing",
   "metadata": {},
   "outputs": [
    {
     "data": {
      "text/html": [
       "<div>\n",
       "<style scoped>\n",
       "    .dataframe tbody tr th:only-of-type {\n",
       "        vertical-align: middle;\n",
       "    }\n",
       "\n",
       "    .dataframe tbody tr th {\n",
       "        vertical-align: top;\n",
       "    }\n",
       "\n",
       "    .dataframe thead th {\n",
       "        text-align: right;\n",
       "    }\n",
       "</style>\n",
       "<table border=\"1\" class=\"dataframe\">\n",
       "  <thead>\n",
       "    <tr style=\"text-align: right;\">\n",
       "      <th></th>\n",
       "      <th>org_uuid</th>\n",
       "      <th>seed_date</th>\n",
       "    </tr>\n",
       "    <tr>\n",
       "      <th>funding_round_uuid</th>\n",
       "      <th></th>\n",
       "      <th></th>\n",
       "    </tr>\n",
       "  </thead>\n",
       "  <tbody>\n",
       "    <tr>\n",
       "      <th>29c62cb5-bdd3-407a-a60f-a235fe819e90</th>\n",
       "      <td>65d0628c-d1d8-4699-9e61-6ef3200839ab</td>\n",
       "      <td>1950-09-20</td>\n",
       "    </tr>\n",
       "    <tr>\n",
       "      <th>24093d19-1f1d-ae85-64fe-557d2d08b368</th>\n",
       "      <td>1e4f199c-363b-451b-a164-f94571075ee5</td>\n",
       "      <td>1968-07-31</td>\n",
       "    </tr>\n",
       "    <tr>\n",
       "      <th>60fa2775-2c45-44d2-a649-bba7bf89338e</th>\n",
       "      <td>2e2cbc7a-bb1a-bd6d-3c6d-92a6def15d0a</td>\n",
       "      <td>1969-01-01</td>\n",
       "    </tr>\n",
       "  </tbody>\n",
       "</table>\n",
       "</div>"
      ],
      "text/plain": [
       "                                                                  org_uuid  \\\n",
       "funding_round_uuid                                                           \n",
       "29c62cb5-bdd3-407a-a60f-a235fe819e90  65d0628c-d1d8-4699-9e61-6ef3200839ab   \n",
       "24093d19-1f1d-ae85-64fe-557d2d08b368  1e4f199c-363b-451b-a164-f94571075ee5   \n",
       "60fa2775-2c45-44d2-a649-bba7bf89338e  2e2cbc7a-bb1a-bd6d-3c6d-92a6def15d0a   \n",
       "\n",
       "                                      seed_date  \n",
       "funding_round_uuid                               \n",
       "29c62cb5-bdd3-407a-a60f-a235fe819e90 1950-09-20  \n",
       "24093d19-1f1d-ae85-64fe-557d2d08b368 1968-07-31  \n",
       "60fa2775-2c45-44d2-a649-bba7bf89338e 1969-01-01  "
      ]
     },
     "execution_count": 13,
     "metadata": {},
     "output_type": "execute_result"
    }
   ],
   "source": [
    "seed_company_df_v1.head(3)"
   ]
  },
  {
   "cell_type": "code",
   "execution_count": 14,
   "id": "associate-batch",
   "metadata": {},
   "outputs": [
    {
     "data": {
      "text/plain": [
       "42105"
      ]
     },
     "execution_count": 14,
     "metadata": {},
     "output_type": "execute_result"
    }
   ],
   "source": [
    "#create df of company with series_a funding\n",
    "series_a_company_df = investment_type.get_group('series_a')[['org_uuid','announced_on']]\n",
    "series_a_company_df.dropna(subset=['announced_on'],inplace=True)\n",
    "series_a_company_df.rename(columns={'announced_on':'series_a_date'},inplace=True)\n",
    "len(series_a_company_df)"
   ]
  },
  {
   "cell_type": "code",
   "execution_count": 15,
   "id": "clean-cleaning",
   "metadata": {},
   "outputs": [
    {
     "data": {
      "text/plain": [
       "37375"
      ]
     },
     "execution_count": 15,
     "metadata": {},
     "output_type": "execute_result"
    }
   ],
   "source": [
    "#drop companies with more than one series a funding. keep only the first series a date\n",
    "series_a_company_df.sort_values(by=['series_a_date'],inplace=True)\n",
    "series_a_company_df_v1 = series_a_company_df.drop_duplicates(subset=['org_uuid'],keep='first')\n",
    "len(series_a_company_df_v1)"
   ]
  },
  {
   "cell_type": "code",
   "execution_count": 16,
   "id": "active-reading",
   "metadata": {},
   "outputs": [
    {
     "data": {
      "text/html": [
       "<div>\n",
       "<style scoped>\n",
       "    .dataframe tbody tr th:only-of-type {\n",
       "        vertical-align: middle;\n",
       "    }\n",
       "\n",
       "    .dataframe tbody tr th {\n",
       "        vertical-align: top;\n",
       "    }\n",
       "\n",
       "    .dataframe thead th {\n",
       "        text-align: right;\n",
       "    }\n",
       "</style>\n",
       "<table border=\"1\" class=\"dataframe\">\n",
       "  <thead>\n",
       "    <tr style=\"text-align: right;\">\n",
       "      <th></th>\n",
       "      <th>org_uuid</th>\n",
       "      <th>series_a_date</th>\n",
       "    </tr>\n",
       "    <tr>\n",
       "      <th>funding_round_uuid</th>\n",
       "      <th></th>\n",
       "      <th></th>\n",
       "    </tr>\n",
       "  </thead>\n",
       "  <tbody>\n",
       "    <tr>\n",
       "      <th>9184700e-351d-4677-b240-ad2cc3b59d43</th>\n",
       "      <td>79ff0cd7-b392-41e5-80df-870bb2b40d96</td>\n",
       "      <td>1980-09-04</td>\n",
       "    </tr>\n",
       "    <tr>\n",
       "      <th>dba36c7a-4142-c372-d426-7784a6de74ee</th>\n",
       "      <td>27bb6fe7-0a5d-01c6-30af-55bd8e94c8e6</td>\n",
       "      <td>1981-09-01</td>\n",
       "    </tr>\n",
       "    <tr>\n",
       "      <th>46c353a8-2491-70cc-4b6a-b89a522fefdc</th>\n",
       "      <td>322eee3f-a036-651f-5754-0f8759374699</td>\n",
       "      <td>1982-06-01</td>\n",
       "    </tr>\n",
       "  </tbody>\n",
       "</table>\n",
       "</div>"
      ],
      "text/plain": [
       "                                                                  org_uuid  \\\n",
       "funding_round_uuid                                                           \n",
       "9184700e-351d-4677-b240-ad2cc3b59d43  79ff0cd7-b392-41e5-80df-870bb2b40d96   \n",
       "dba36c7a-4142-c372-d426-7784a6de74ee  27bb6fe7-0a5d-01c6-30af-55bd8e94c8e6   \n",
       "46c353a8-2491-70cc-4b6a-b89a522fefdc  322eee3f-a036-651f-5754-0f8759374699   \n",
       "\n",
       "                                     series_a_date  \n",
       "funding_round_uuid                                  \n",
       "9184700e-351d-4677-b240-ad2cc3b59d43    1980-09-04  \n",
       "dba36c7a-4142-c372-d426-7784a6de74ee    1981-09-01  \n",
       "46c353a8-2491-70cc-4b6a-b89a522fefdc    1982-06-01  "
      ]
     },
     "execution_count": 16,
     "metadata": {},
     "output_type": "execute_result"
    }
   ],
   "source": [
    "series_a_company_df_v1.head(3)"
   ]
  },
  {
   "cell_type": "code",
   "execution_count": 17,
   "id": "vital-fiction",
   "metadata": {},
   "outputs": [
    {
     "data": {
      "text/plain": [
       "61708"
      ]
     },
     "execution_count": 17,
     "metadata": {},
     "output_type": "execute_result"
    }
   ],
   "source": [
    "#create df of company with series_uknown funding. Possibility of series to be series a\n",
    "series_unknown_company_df = investment_type.get_group('series_unknown')[['org_uuid','announced_on']]\n",
    "series_unknown_company_df.dropna(subset=['announced_on'],inplace=True)\n",
    "series_unknown_company_df.rename(columns={'announced_on':'series_unknown_date'},inplace=True)\n",
    "len(series_unknown_company_df)"
   ]
  },
  {
   "cell_type": "code",
   "execution_count": 18,
   "id": "aggressive-airfare",
   "metadata": {},
   "outputs": [
    {
     "data": {
      "text/plain": [
       "45102"
      ]
     },
     "execution_count": 18,
     "metadata": {},
     "output_type": "execute_result"
    }
   ],
   "source": [
    "#drop companies with more than one series_unknown funding. keep only the first funding\n",
    "series_unknown_company_df.sort_values(by=['series_unknown_date'],inplace=True)\n",
    "series_unknown_company_df_v1 = series_unknown_company_df.drop_duplicates(subset=['org_uuid'],keep='first')\n",
    "len(series_unknown_company_df_v1)"
   ]
  },
  {
   "cell_type": "code",
   "execution_count": 82,
   "id": "bound-fisher",
   "metadata": {},
   "outputs": [],
   "source": [
    "org_processing_df_v1 = pd.merge(org_processing_df,\n",
    "                                seed_company_df,\n",
    "                                on='org_uuid',\n",
    "                                how='left')"
   ]
  },
  {
   "cell_type": "code",
   "execution_count": 95,
   "id": "ambient-celebration",
   "metadata": {},
   "outputs": [
    {
     "data": {
      "text/plain": [
       "176253"
      ]
     },
     "execution_count": 95,
     "metadata": {},
     "output_type": "execute_result"
    }
   ],
   "source": [
    "len(org_processing_df_v1)"
   ]
  },
  {
   "cell_type": "code",
   "execution_count": 83,
   "id": "introductory-merchant",
   "metadata": {},
   "outputs": [
    {
     "data": {
      "text/html": [
       "<div>\n",
       "<style scoped>\n",
       "    .dataframe tbody tr th:only-of-type {\n",
       "        vertical-align: middle;\n",
       "    }\n",
       "\n",
       "    .dataframe tbody tr th {\n",
       "        vertical-align: top;\n",
       "    }\n",
       "\n",
       "    .dataframe thead th {\n",
       "        text-align: right;\n",
       "    }\n",
       "</style>\n",
       "<table border=\"1\" class=\"dataframe\">\n",
       "  <thead>\n",
       "    <tr style=\"text-align: right;\">\n",
       "      <th></th>\n",
       "      <th>org_uuid</th>\n",
       "      <th>name</th>\n",
       "      <th>status</th>\n",
       "      <th>founded_on</th>\n",
       "      <th>seed_date</th>\n",
       "    </tr>\n",
       "  </thead>\n",
       "  <tbody>\n",
       "    <tr>\n",
       "      <th>0</th>\n",
       "      <td>e1393508-30ea-8a36-3f96-dd3226033abd</td>\n",
       "      <td>Wetpaint</td>\n",
       "      <td>acquired</td>\n",
       "      <td>2005-06-01</td>\n",
       "      <td>NaT</td>\n",
       "    </tr>\n",
       "    <tr>\n",
       "      <th>1</th>\n",
       "      <td>5f2b40b8-d1b3-d323-d81a-b7a8e89553d0</td>\n",
       "      <td>Digg</td>\n",
       "      <td>acquired</td>\n",
       "      <td>2004-10-11</td>\n",
       "      <td>NaT</td>\n",
       "    </tr>\n",
       "    <tr>\n",
       "      <th>2</th>\n",
       "      <td>df662812-7f97-0b43-9d3e-12f64f504fbb</td>\n",
       "      <td>Facebook</td>\n",
       "      <td>ipo</td>\n",
       "      <td>2004-02-04</td>\n",
       "      <td>NaT</td>\n",
       "    </tr>\n",
       "  </tbody>\n",
       "</table>\n",
       "</div>"
      ],
      "text/plain": [
       "                               org_uuid      name    status founded_on  \\\n",
       "0  e1393508-30ea-8a36-3f96-dd3226033abd  Wetpaint  acquired 2005-06-01   \n",
       "1  5f2b40b8-d1b3-d323-d81a-b7a8e89553d0      Digg  acquired 2004-10-11   \n",
       "2  df662812-7f97-0b43-9d3e-12f64f504fbb  Facebook       ipo 2004-02-04   \n",
       "\n",
       "  seed_date  \n",
       "0       NaT  \n",
       "1       NaT  \n",
       "2       NaT  "
      ]
     },
     "execution_count": 83,
     "metadata": {},
     "output_type": "execute_result"
    }
   ],
   "source": [
    "org_processing_df_v1.head(3)"
   ]
  },
  {
   "cell_type": "code",
   "execution_count": 85,
   "id": "reserved-element",
   "metadata": {},
   "outputs": [],
   "source": [
    "org_processing_df_v2 = pd.merge(org_processing_df_v1,\n",
    "                                series_a_company_df,\n",
    "                                on ='org_uuid',\n",
    "                                how ='left')"
   ]
  },
  {
   "cell_type": "code",
   "execution_count": 86,
   "id": "gothic-cisco",
   "metadata": {},
   "outputs": [
    {
     "data": {
      "text/html": [
       "<div>\n",
       "<style scoped>\n",
       "    .dataframe tbody tr th:only-of-type {\n",
       "        vertical-align: middle;\n",
       "    }\n",
       "\n",
       "    .dataframe tbody tr th {\n",
       "        vertical-align: top;\n",
       "    }\n",
       "\n",
       "    .dataframe thead th {\n",
       "        text-align: right;\n",
       "    }\n",
       "</style>\n",
       "<table border=\"1\" class=\"dataframe\">\n",
       "  <thead>\n",
       "    <tr style=\"text-align: right;\">\n",
       "      <th></th>\n",
       "      <th>org_uuid</th>\n",
       "      <th>name</th>\n",
       "      <th>status</th>\n",
       "      <th>founded_on</th>\n",
       "      <th>seed_date</th>\n",
       "      <th>series_a_date</th>\n",
       "    </tr>\n",
       "  </thead>\n",
       "  <tbody>\n",
       "    <tr>\n",
       "      <th>0</th>\n",
       "      <td>e1393508-30ea-8a36-3f96-dd3226033abd</td>\n",
       "      <td>Wetpaint</td>\n",
       "      <td>acquired</td>\n",
       "      <td>2005-06-01</td>\n",
       "      <td>NaT</td>\n",
       "      <td>2005-10-01</td>\n",
       "    </tr>\n",
       "    <tr>\n",
       "      <th>1</th>\n",
       "      <td>5f2b40b8-d1b3-d323-d81a-b7a8e89553d0</td>\n",
       "      <td>Digg</td>\n",
       "      <td>acquired</td>\n",
       "      <td>2004-10-11</td>\n",
       "      <td>NaT</td>\n",
       "      <td>2005-10-28</td>\n",
       "    </tr>\n",
       "    <tr>\n",
       "      <th>2</th>\n",
       "      <td>df662812-7f97-0b43-9d3e-12f64f504fbb</td>\n",
       "      <td>Facebook</td>\n",
       "      <td>ipo</td>\n",
       "      <td>2004-02-04</td>\n",
       "      <td>NaT</td>\n",
       "      <td>2005-05-01</td>\n",
       "    </tr>\n",
       "  </tbody>\n",
       "</table>\n",
       "</div>"
      ],
      "text/plain": [
       "                               org_uuid      name    status founded_on  \\\n",
       "0  e1393508-30ea-8a36-3f96-dd3226033abd  Wetpaint  acquired 2005-06-01   \n",
       "1  5f2b40b8-d1b3-d323-d81a-b7a8e89553d0      Digg  acquired 2004-10-11   \n",
       "2  df662812-7f97-0b43-9d3e-12f64f504fbb  Facebook       ipo 2004-02-04   \n",
       "\n",
       "  seed_date series_a_date  \n",
       "0       NaT    2005-10-01  \n",
       "1       NaT    2005-10-28  \n",
       "2       NaT    2005-05-01  "
      ]
     },
     "execution_count": 86,
     "metadata": {},
     "output_type": "execute_result"
    }
   ],
   "source": [
    "org_processing_df_v2.head(3)"
   ]
  },
  {
   "cell_type": "code",
   "execution_count": 87,
   "id": "regional-section",
   "metadata": {},
   "outputs": [
    {
     "data": {
      "text/plain": [
       "181779"
      ]
     },
     "execution_count": 87,
     "metadata": {},
     "output_type": "execute_result"
    }
   ],
   "source": [
    "len(org_processing_df_v2)"
   ]
  },
  {
   "cell_type": "code",
   "execution_count": 99,
   "id": "reduced-intention",
   "metadata": {},
   "outputs": [
    {
     "data": {
      "text/plain": [
       "122513"
      ]
     },
     "execution_count": 99,
     "metadata": {},
     "output_type": "execute_result"
    }
   ],
   "source": [
    "#drop companies with no seed and series_a date\n",
    "org_processing_df_v3 = org_processing_df_v2.dropna(subset=['seed_date','series_a_date'],\n",
    "                                                  how='all')\n",
    "len(org_processing_df_v3)"
   ]
  },
  {
   "cell_type": "code",
   "execution_count": 100,
   "id": "micro-structure",
   "metadata": {},
   "outputs": [
    {
     "data": {
      "text/html": [
       "<div>\n",
       "<style scoped>\n",
       "    .dataframe tbody tr th:only-of-type {\n",
       "        vertical-align: middle;\n",
       "    }\n",
       "\n",
       "    .dataframe tbody tr th {\n",
       "        vertical-align: top;\n",
       "    }\n",
       "\n",
       "    .dataframe thead th {\n",
       "        text-align: right;\n",
       "    }\n",
       "</style>\n",
       "<table border=\"1\" class=\"dataframe\">\n",
       "  <thead>\n",
       "    <tr style=\"text-align: right;\">\n",
       "      <th></th>\n",
       "      <th>org_uuid</th>\n",
       "      <th>name</th>\n",
       "      <th>status</th>\n",
       "      <th>founded_on</th>\n",
       "      <th>seed_date</th>\n",
       "      <th>series_a_date</th>\n",
       "    </tr>\n",
       "  </thead>\n",
       "  <tbody>\n",
       "    <tr>\n",
       "      <th>0</th>\n",
       "      <td>e1393508-30ea-8a36-3f96-dd3226033abd</td>\n",
       "      <td>Wetpaint</td>\n",
       "      <td>acquired</td>\n",
       "      <td>2005-06-01</td>\n",
       "      <td>NaT</td>\n",
       "      <td>2005-10-01</td>\n",
       "    </tr>\n",
       "    <tr>\n",
       "      <th>1</th>\n",
       "      <td>5f2b40b8-d1b3-d323-d81a-b7a8e89553d0</td>\n",
       "      <td>Digg</td>\n",
       "      <td>acquired</td>\n",
       "      <td>2004-10-11</td>\n",
       "      <td>NaT</td>\n",
       "      <td>2005-10-28</td>\n",
       "    </tr>\n",
       "    <tr>\n",
       "      <th>2</th>\n",
       "      <td>df662812-7f97-0b43-9d3e-12f64f504fbb</td>\n",
       "      <td>Facebook</td>\n",
       "      <td>ipo</td>\n",
       "      <td>2004-02-04</td>\n",
       "      <td>NaT</td>\n",
       "      <td>2005-05-01</td>\n",
       "    </tr>\n",
       "  </tbody>\n",
       "</table>\n",
       "</div>"
      ],
      "text/plain": [
       "                               org_uuid      name    status founded_on  \\\n",
       "0  e1393508-30ea-8a36-3f96-dd3226033abd  Wetpaint  acquired 2005-06-01   \n",
       "1  5f2b40b8-d1b3-d323-d81a-b7a8e89553d0      Digg  acquired 2004-10-11   \n",
       "2  df662812-7f97-0b43-9d3e-12f64f504fbb  Facebook       ipo 2004-02-04   \n",
       "\n",
       "  seed_date series_a_date  \n",
       "0       NaT    2005-10-01  \n",
       "1       NaT    2005-10-28  \n",
       "2       NaT    2005-05-01  "
      ]
     },
     "execution_count": 100,
     "metadata": {},
     "output_type": "execute_result"
    }
   ],
   "source": [
    "org_processing_df_v3.head(3)"
   ]
  },
  {
   "cell_type": "code",
   "execution_count": 102,
   "id": "homeless-incident",
   "metadata": {},
   "outputs": [
    {
     "name": "stderr",
     "output_type": "stream",
     "text": [
      "C:\\Users\\Abdul Rahim Ab Ghani\\miniconda3\\lib\\site-packages\\ipykernel_launcher.py:2: SettingWithCopyWarning: \n",
      "A value is trying to be set on a copy of a slice from a DataFrame\n",
      "\n",
      "See the caveats in the documentation: https://pandas.pydata.org/pandas-docs/stable/user_guide/indexing.html#returning-a-view-versus-a-copy\n",
      "  \n"
     ]
    }
   ],
   "source": [
    "#sort by date and drop duplicated rounds\n",
    "org_processing_df_v3.sort_values(by=['seed_date','series_a_date'],inplace=True)\n",
    "org_processing_df_v4 = org_processing_df_v3.drop_duplicates(subset=['org_uuid'],keep='first')"
   ]
  },
  {
   "cell_type": "code",
   "execution_count": 103,
   "id": "vertical-intervention",
   "metadata": {},
   "outputs": [
    {
     "data": {
      "text/plain": [
       "93782"
      ]
     },
     "execution_count": 103,
     "metadata": {},
     "output_type": "execute_result"
    }
   ],
   "source": [
    "len(org_processing_df_v4)"
   ]
  },
  {
   "cell_type": "code",
   "execution_count": 104,
   "id": "blank-intranet",
   "metadata": {},
   "outputs": [
    {
     "data": {
      "text/html": [
       "<div>\n",
       "<style scoped>\n",
       "    .dataframe tbody tr th:only-of-type {\n",
       "        vertical-align: middle;\n",
       "    }\n",
       "\n",
       "    .dataframe tbody tr th {\n",
       "        vertical-align: top;\n",
       "    }\n",
       "\n",
       "    .dataframe thead th {\n",
       "        text-align: right;\n",
       "    }\n",
       "</style>\n",
       "<table border=\"1\" class=\"dataframe\">\n",
       "  <thead>\n",
       "    <tr style=\"text-align: right;\">\n",
       "      <th></th>\n",
       "      <th>org_uuid</th>\n",
       "      <th>name</th>\n",
       "      <th>status</th>\n",
       "      <th>founded_on</th>\n",
       "      <th>seed_date</th>\n",
       "      <th>series_a_date</th>\n",
       "    </tr>\n",
       "  </thead>\n",
       "  <tbody>\n",
       "    <tr>\n",
       "      <th>39190</th>\n",
       "      <td>1f4f771f-e0f4-6b06-424b-adb5995951cc</td>\n",
       "      <td>Grand Junction</td>\n",
       "      <td>acquired</td>\n",
       "      <td>2013-10-01</td>\n",
       "      <td>1993-06-01</td>\n",
       "      <td>NaT</td>\n",
       "    </tr>\n",
       "    <tr>\n",
       "      <th>74298</th>\n",
       "      <td>a006c611-beae-2533-574a-2fd052909433</td>\n",
       "      <td>Carrier Access Corporation</td>\n",
       "      <td>operating</td>\n",
       "      <td>2003-01-01</td>\n",
       "      <td>1997-06-01</td>\n",
       "      <td>NaT</td>\n",
       "    </tr>\n",
       "    <tr>\n",
       "      <th>1300</th>\n",
       "      <td>5d2dafc0-e465-e861-06c9-62fb576e9c08</td>\n",
       "      <td>GasBuddy</td>\n",
       "      <td>acquired</td>\n",
       "      <td>2000-06-11</td>\n",
       "      <td>1999-12-01</td>\n",
       "      <td>NaT</td>\n",
       "    </tr>\n",
       "  </tbody>\n",
       "</table>\n",
       "</div>"
      ],
      "text/plain": [
       "                                   org_uuid                        name  \\\n",
       "39190  1f4f771f-e0f4-6b06-424b-adb5995951cc              Grand Junction   \n",
       "74298  a006c611-beae-2533-574a-2fd052909433  Carrier Access Corporation   \n",
       "1300   5d2dafc0-e465-e861-06c9-62fb576e9c08                    GasBuddy   \n",
       "\n",
       "          status founded_on  seed_date series_a_date  \n",
       "39190   acquired 2013-10-01 1993-06-01           NaT  \n",
       "74298  operating 2003-01-01 1997-06-01           NaT  \n",
       "1300    acquired 2000-06-11 1999-12-01           NaT  "
      ]
     },
     "execution_count": 104,
     "metadata": {},
     "output_type": "execute_result"
    }
   ],
   "source": [
    "org_processing_df_v4.head(3)"
   ]
  },
  {
   "cell_type": "code",
   "execution_count": 105,
   "id": "accredited-praise",
   "metadata": {},
   "outputs": [
    {
     "name": "stderr",
     "output_type": "stream",
     "text": [
      "C:\\Users\\Abdul Rahim Ab Ghani\\miniconda3\\lib\\site-packages\\ipykernel_launcher.py:1: SettingWithCopyWarning: \n",
      "A value is trying to be set on a copy of a slice from a DataFrame.\n",
      "Try using .loc[row_indexer,col_indexer] = value instead\n",
      "\n",
      "See the caveats in the documentation: https://pandas.pydata.org/pandas-docs/stable/user_guide/indexing.html#returning-a-view-versus-a-copy\n",
      "  \"\"\"Entry point for launching an IPython kernel.\n"
     ]
    },
    {
     "data": {
      "text/html": [
       "<div>\n",
       "<style scoped>\n",
       "    .dataframe tbody tr th:only-of-type {\n",
       "        vertical-align: middle;\n",
       "    }\n",
       "\n",
       "    .dataframe tbody tr th {\n",
       "        vertical-align: top;\n",
       "    }\n",
       "\n",
       "    .dataframe thead th {\n",
       "        text-align: right;\n",
       "    }\n",
       "</style>\n",
       "<table border=\"1\" class=\"dataframe\">\n",
       "  <thead>\n",
       "    <tr style=\"text-align: right;\">\n",
       "      <th></th>\n",
       "      <th>org_uuid</th>\n",
       "      <th>name</th>\n",
       "      <th>status</th>\n",
       "      <th>founded_on</th>\n",
       "      <th>seed_date</th>\n",
       "      <th>series_a_date</th>\n",
       "      <th>first_fund_date</th>\n",
       "    </tr>\n",
       "  </thead>\n",
       "  <tbody>\n",
       "    <tr>\n",
       "      <th>39190</th>\n",
       "      <td>1f4f771f-e0f4-6b06-424b-adb5995951cc</td>\n",
       "      <td>Grand Junction</td>\n",
       "      <td>acquired</td>\n",
       "      <td>2013-10-01</td>\n",
       "      <td>1993-06-01</td>\n",
       "      <td>NaT</td>\n",
       "      <td>1993-06-01</td>\n",
       "    </tr>\n",
       "    <tr>\n",
       "      <th>74298</th>\n",
       "      <td>a006c611-beae-2533-574a-2fd052909433</td>\n",
       "      <td>Carrier Access Corporation</td>\n",
       "      <td>operating</td>\n",
       "      <td>2003-01-01</td>\n",
       "      <td>1997-06-01</td>\n",
       "      <td>NaT</td>\n",
       "      <td>1997-06-01</td>\n",
       "    </tr>\n",
       "    <tr>\n",
       "      <th>1300</th>\n",
       "      <td>5d2dafc0-e465-e861-06c9-62fb576e9c08</td>\n",
       "      <td>GasBuddy</td>\n",
       "      <td>acquired</td>\n",
       "      <td>2000-06-11</td>\n",
       "      <td>1999-12-01</td>\n",
       "      <td>NaT</td>\n",
       "      <td>1999-12-01</td>\n",
       "    </tr>\n",
       "  </tbody>\n",
       "</table>\n",
       "</div>"
      ],
      "text/plain": [
       "                                   org_uuid                        name  \\\n",
       "39190  1f4f771f-e0f4-6b06-424b-adb5995951cc              Grand Junction   \n",
       "74298  a006c611-beae-2533-574a-2fd052909433  Carrier Access Corporation   \n",
       "1300   5d2dafc0-e465-e861-06c9-62fb576e9c08                    GasBuddy   \n",
       "\n",
       "          status founded_on  seed_date series_a_date first_fund_date  \n",
       "39190   acquired 2013-10-01 1993-06-01           NaT      1993-06-01  \n",
       "74298  operating 2003-01-01 1997-06-01           NaT      1997-06-01  \n",
       "1300    acquired 2000-06-11 1999-12-01           NaT      1999-12-01  "
      ]
     },
     "execution_count": 105,
     "metadata": {},
     "output_type": "execute_result"
    }
   ],
   "source": [
    "org_processing_df_v4['first_fund_date'] = org_processing_df_v4[['seed_date','series_a_date']].min(axis=1)\n",
    "org_processing_df_v4.head(3)"
   ]
  },
  {
   "cell_type": "code",
   "execution_count": 106,
   "id": "prepared-memorabilia",
   "metadata": {},
   "outputs": [
    {
     "name": "stderr",
     "output_type": "stream",
     "text": [
      "C:\\Users\\Abdul Rahim Ab Ghani\\miniconda3\\lib\\site-packages\\ipykernel_launcher.py:1: SettingWithCopyWarning: \n",
      "A value is trying to be set on a copy of a slice from a DataFrame.\n",
      "Try using .loc[row_indexer,col_indexer] = value instead\n",
      "\n",
      "See the caveats in the documentation: https://pandas.pydata.org/pandas-docs/stable/user_guide/indexing.html#returning-a-view-versus-a-copy\n",
      "  \"\"\"Entry point for launching an IPython kernel.\n"
     ]
    },
    {
     "data": {
      "text/html": [
       "<div>\n",
       "<style scoped>\n",
       "    .dataframe tbody tr th:only-of-type {\n",
       "        vertical-align: middle;\n",
       "    }\n",
       "\n",
       "    .dataframe tbody tr th {\n",
       "        vertical-align: top;\n",
       "    }\n",
       "\n",
       "    .dataframe thead th {\n",
       "        text-align: right;\n",
       "    }\n",
       "</style>\n",
       "<table border=\"1\" class=\"dataframe\">\n",
       "  <thead>\n",
       "    <tr style=\"text-align: right;\">\n",
       "      <th></th>\n",
       "      <th>org_uuid</th>\n",
       "      <th>name</th>\n",
       "      <th>status</th>\n",
       "      <th>founded_on</th>\n",
       "      <th>seed_date</th>\n",
       "      <th>series_a_date</th>\n",
       "      <th>first_fund_date</th>\n",
       "      <th>founded_to_first_fund_years</th>\n",
       "    </tr>\n",
       "  </thead>\n",
       "  <tbody>\n",
       "    <tr>\n",
       "      <th>39190</th>\n",
       "      <td>1f4f771f-e0f4-6b06-424b-adb5995951cc</td>\n",
       "      <td>Grand Junction</td>\n",
       "      <td>acquired</td>\n",
       "      <td>2013-10-01</td>\n",
       "      <td>1993-06-01</td>\n",
       "      <td>NaT</td>\n",
       "      <td>1993-06-01</td>\n",
       "      <td>-20.3</td>\n",
       "    </tr>\n",
       "    <tr>\n",
       "      <th>74298</th>\n",
       "      <td>a006c611-beae-2533-574a-2fd052909433</td>\n",
       "      <td>Carrier Access Corporation</td>\n",
       "      <td>operating</td>\n",
       "      <td>2003-01-01</td>\n",
       "      <td>1997-06-01</td>\n",
       "      <td>NaT</td>\n",
       "      <td>1997-06-01</td>\n",
       "      <td>-5.6</td>\n",
       "    </tr>\n",
       "    <tr>\n",
       "      <th>1300</th>\n",
       "      <td>5d2dafc0-e465-e861-06c9-62fb576e9c08</td>\n",
       "      <td>GasBuddy</td>\n",
       "      <td>acquired</td>\n",
       "      <td>2000-06-11</td>\n",
       "      <td>1999-12-01</td>\n",
       "      <td>NaT</td>\n",
       "      <td>1999-12-01</td>\n",
       "      <td>-0.5</td>\n",
       "    </tr>\n",
       "  </tbody>\n",
       "</table>\n",
       "</div>"
      ],
      "text/plain": [
       "                                   org_uuid                        name  \\\n",
       "39190  1f4f771f-e0f4-6b06-424b-adb5995951cc              Grand Junction   \n",
       "74298  a006c611-beae-2533-574a-2fd052909433  Carrier Access Corporation   \n",
       "1300   5d2dafc0-e465-e861-06c9-62fb576e9c08                    GasBuddy   \n",
       "\n",
       "          status founded_on  seed_date series_a_date first_fund_date  \\\n",
       "39190   acquired 2013-10-01 1993-06-01           NaT      1993-06-01   \n",
       "74298  operating 2003-01-01 1997-06-01           NaT      1997-06-01   \n",
       "1300    acquired 2000-06-11 1999-12-01           NaT      1999-12-01   \n",
       "\n",
       "       founded_to_first_fund_years  \n",
       "39190                        -20.3  \n",
       "74298                         -5.6  \n",
       "1300                          -0.5  "
      ]
     },
     "execution_count": 106,
     "metadata": {},
     "output_type": "execute_result"
    }
   ],
   "source": [
    "#calculate duration in years from founded to first fund\n",
    "org_processing_df_v4['founded_to_first_fund_years'] = ((org_processing_df_v4['first_fund_date'] - org_processing_df_v4['founded_on']).dt.days/365).astype(float).round(1)\n",
    "org_processing_df_v4.head(3)"
   ]
  },
  {
   "cell_type": "code",
   "execution_count": 109,
   "id": "eight-algebra",
   "metadata": {},
   "outputs": [
    {
     "data": {
      "text/plain": [
       "80048"
      ]
     },
     "execution_count": 109,
     "metadata": {},
     "output_type": "execute_result"
    }
   ],
   "source": [
    "#filter company with more than 0 year and less than 4 year for first fund to occur\n",
    "mask1 = org_processing_df_v4['founded_to_first_fund_years'] >=0\n",
    "mask2 = org_processing_df_v4['founded_to_first_fund_years'] <=4\n",
    "org_processing_df_v5 = org_processing_df_v4[mask1 & mask2]\n",
    "len(org_processing_df_v5)"
   ]
  },
  {
   "cell_type": "code",
   "execution_count": 110,
   "id": "abstract-daily",
   "metadata": {},
   "outputs": [
    {
     "data": {
      "text/plain": [
       "org_uuid                           0\n",
       "name                               0\n",
       "status                             0\n",
       "founded_on                         0\n",
       "seed_date                      15455\n",
       "series_a_date                  53873\n",
       "first_fund_date                    0\n",
       "founded_to_first_fund_years        0\n",
       "dtype: int64"
      ]
     },
     "execution_count": 110,
     "metadata": {},
     "output_type": "execute_result"
    }
   ],
   "source": [
    "org_processing_df_v5.isnull().sum(axis=0)"
   ]
  },
  {
   "cell_type": "code",
   "execution_count": 111,
   "id": "missing-differential",
   "metadata": {},
   "outputs": [
    {
     "data": {
      "text/plain": [
       "81755"
      ]
     },
     "execution_count": 111,
     "metadata": {},
     "output_type": "execute_result"
    }
   ],
   "source": [
    "#add series_b date\n",
    "org_processing_df_v6 = pd.merge(org_processing_df_v5,\n",
    "                             investment_type.get_group('series_b')[['org_uuid','announced_on']],\n",
    "                            on='org_uuid',\n",
    "                            how = 'left')\n",
    "#org_processing_df.dropna(subset=['announced_on'],inplace=True)\n",
    "org_processing_df_v6.rename(columns={'announced_on':'series_b_date'},inplace=True)\n",
    "len(org_processing_df_v6)"
   ]
  },
  {
   "cell_type": "code",
   "execution_count": 112,
   "id": "closing-italian",
   "metadata": {},
   "outputs": [
    {
     "data": {
      "text/html": [
       "<div>\n",
       "<style scoped>\n",
       "    .dataframe tbody tr th:only-of-type {\n",
       "        vertical-align: middle;\n",
       "    }\n",
       "\n",
       "    .dataframe tbody tr th {\n",
       "        vertical-align: top;\n",
       "    }\n",
       "\n",
       "    .dataframe thead th {\n",
       "        text-align: right;\n",
       "    }\n",
       "</style>\n",
       "<table border=\"1\" class=\"dataframe\">\n",
       "  <thead>\n",
       "    <tr style=\"text-align: right;\">\n",
       "      <th></th>\n",
       "      <th>org_uuid</th>\n",
       "      <th>name</th>\n",
       "      <th>status</th>\n",
       "      <th>founded_on</th>\n",
       "      <th>seed_date</th>\n",
       "      <th>series_a_date</th>\n",
       "      <th>first_fund_date</th>\n",
       "      <th>founded_to_first_fund_years</th>\n",
       "      <th>series_b_date</th>\n",
       "    </tr>\n",
       "  </thead>\n",
       "  <tbody>\n",
       "    <tr>\n",
       "      <th>0</th>\n",
       "      <td>61184ecb-b507-cba5-feb5-ad3226367aa2</td>\n",
       "      <td>eMerges.com</td>\n",
       "      <td>operating</td>\n",
       "      <td>2000-02-14</td>\n",
       "      <td>2000-02-14</td>\n",
       "      <td>NaT</td>\n",
       "      <td>2000-02-14</td>\n",
       "      <td>0.0</td>\n",
       "      <td>NaT</td>\n",
       "    </tr>\n",
       "    <tr>\n",
       "      <th>1</th>\n",
       "      <td>50706f8c-551e-6d3b-e3ca-345a0ab6f8df</td>\n",
       "      <td>e-LogiT</td>\n",
       "      <td>operating</td>\n",
       "      <td>2000-02-14</td>\n",
       "      <td>2000-02-14</td>\n",
       "      <td>NaT</td>\n",
       "      <td>2000-02-14</td>\n",
       "      <td>0.0</td>\n",
       "      <td>NaT</td>\n",
       "    </tr>\n",
       "    <tr>\n",
       "      <th>2</th>\n",
       "      <td>f9b46711-601c-0d15-cc58-20f838b51f92</td>\n",
       "      <td>iMusica</td>\n",
       "      <td>operating</td>\n",
       "      <td>2000-02-11</td>\n",
       "      <td>2000-03-01</td>\n",
       "      <td>2004-04-01</td>\n",
       "      <td>2000-03-01</td>\n",
       "      <td>0.1</td>\n",
       "      <td>NaT</td>\n",
       "    </tr>\n",
       "  </tbody>\n",
       "</table>\n",
       "</div>"
      ],
      "text/plain": [
       "                               org_uuid         name     status founded_on  \\\n",
       "0  61184ecb-b507-cba5-feb5-ad3226367aa2  eMerges.com  operating 2000-02-14   \n",
       "1  50706f8c-551e-6d3b-e3ca-345a0ab6f8df      e-LogiT  operating 2000-02-14   \n",
       "2  f9b46711-601c-0d15-cc58-20f838b51f92      iMusica  operating 2000-02-11   \n",
       "\n",
       "   seed_date series_a_date first_fund_date  founded_to_first_fund_years  \\\n",
       "0 2000-02-14           NaT      2000-02-14                          0.0   \n",
       "1 2000-02-14           NaT      2000-02-14                          0.0   \n",
       "2 2000-03-01    2004-04-01      2000-03-01                          0.1   \n",
       "\n",
       "  series_b_date  \n",
       "0           NaT  \n",
       "1           NaT  \n",
       "2           NaT  "
      ]
     },
     "execution_count": 112,
     "metadata": {},
     "output_type": "execute_result"
    }
   ],
   "source": [
    "org_processing_df_v6.head(3)"
   ]
  },
  {
   "cell_type": "code",
   "execution_count": 113,
   "id": "radical-inspection",
   "metadata": {},
   "outputs": [
    {
     "data": {
      "text/plain": [
       "82632"
      ]
     },
     "execution_count": 113,
     "metadata": {},
     "output_type": "execute_result"
    }
   ],
   "source": [
    "#add series c date\n",
    "org_processing_df_v7 = pd.merge(org_processing_df_v6,\n",
    "                                investment_type.get_group('series_c')[['org_uuid','announced_on']],\n",
    "                                on='org_uuid',\n",
    "                                how = 'left')\n",
    "org_processing_df_v7.rename(columns={'announced_on':'series_c_date'},inplace=True)\n",
    "len(org_processing_df_v7)"
   ]
  },
  {
   "cell_type": "code",
   "execution_count": 114,
   "id": "accessory-longitude",
   "metadata": {},
   "outputs": [
    {
     "data": {
      "text/html": [
       "<div>\n",
       "<style scoped>\n",
       "    .dataframe tbody tr th:only-of-type {\n",
       "        vertical-align: middle;\n",
       "    }\n",
       "\n",
       "    .dataframe tbody tr th {\n",
       "        vertical-align: top;\n",
       "    }\n",
       "\n",
       "    .dataframe thead th {\n",
       "        text-align: right;\n",
       "    }\n",
       "</style>\n",
       "<table border=\"1\" class=\"dataframe\">\n",
       "  <thead>\n",
       "    <tr style=\"text-align: right;\">\n",
       "      <th></th>\n",
       "      <th>org_uuid</th>\n",
       "      <th>name</th>\n",
       "      <th>status</th>\n",
       "      <th>founded_on</th>\n",
       "      <th>seed_date</th>\n",
       "      <th>series_a_date</th>\n",
       "      <th>first_fund_date</th>\n",
       "      <th>founded_to_first_fund_years</th>\n",
       "      <th>series_b_date</th>\n",
       "      <th>series_c_date</th>\n",
       "    </tr>\n",
       "  </thead>\n",
       "  <tbody>\n",
       "    <tr>\n",
       "      <th>0</th>\n",
       "      <td>61184ecb-b507-cba5-feb5-ad3226367aa2</td>\n",
       "      <td>eMerges.com</td>\n",
       "      <td>operating</td>\n",
       "      <td>2000-02-14</td>\n",
       "      <td>2000-02-14</td>\n",
       "      <td>NaT</td>\n",
       "      <td>2000-02-14</td>\n",
       "      <td>0.0</td>\n",
       "      <td>NaT</td>\n",
       "      <td>NaT</td>\n",
       "    </tr>\n",
       "    <tr>\n",
       "      <th>1</th>\n",
       "      <td>50706f8c-551e-6d3b-e3ca-345a0ab6f8df</td>\n",
       "      <td>e-LogiT</td>\n",
       "      <td>operating</td>\n",
       "      <td>2000-02-14</td>\n",
       "      <td>2000-02-14</td>\n",
       "      <td>NaT</td>\n",
       "      <td>2000-02-14</td>\n",
       "      <td>0.0</td>\n",
       "      <td>NaT</td>\n",
       "      <td>NaT</td>\n",
       "    </tr>\n",
       "    <tr>\n",
       "      <th>2</th>\n",
       "      <td>f9b46711-601c-0d15-cc58-20f838b51f92</td>\n",
       "      <td>iMusica</td>\n",
       "      <td>operating</td>\n",
       "      <td>2000-02-11</td>\n",
       "      <td>2000-03-01</td>\n",
       "      <td>2004-04-01</td>\n",
       "      <td>2000-03-01</td>\n",
       "      <td>0.1</td>\n",
       "      <td>NaT</td>\n",
       "      <td>NaT</td>\n",
       "    </tr>\n",
       "  </tbody>\n",
       "</table>\n",
       "</div>"
      ],
      "text/plain": [
       "                               org_uuid         name     status founded_on  \\\n",
       "0  61184ecb-b507-cba5-feb5-ad3226367aa2  eMerges.com  operating 2000-02-14   \n",
       "1  50706f8c-551e-6d3b-e3ca-345a0ab6f8df      e-LogiT  operating 2000-02-14   \n",
       "2  f9b46711-601c-0d15-cc58-20f838b51f92      iMusica  operating 2000-02-11   \n",
       "\n",
       "   seed_date series_a_date first_fund_date  founded_to_first_fund_years  \\\n",
       "0 2000-02-14           NaT      2000-02-14                          0.0   \n",
       "1 2000-02-14           NaT      2000-02-14                          0.0   \n",
       "2 2000-03-01    2004-04-01      2000-03-01                          0.1   \n",
       "\n",
       "  series_b_date series_c_date  \n",
       "0           NaT           NaT  \n",
       "1           NaT           NaT  \n",
       "2           NaT           NaT  "
      ]
     },
     "execution_count": 114,
     "metadata": {},
     "output_type": "execute_result"
    }
   ],
   "source": [
    "org_processing_df_v7.head(3)"
   ]
  },
  {
   "cell_type": "code",
   "execution_count": 115,
   "id": "welcome-lightweight",
   "metadata": {},
   "outputs": [
    {
     "data": {
      "text/plain": [
       "80048"
      ]
     },
     "execution_count": 115,
     "metadata": {},
     "output_type": "execute_result"
    }
   ],
   "source": [
    "#drop duplicate company\n",
    "org_processing_df_v7.sort_values(by=['series_b_date','series_c_date'],axis=0,\n",
    "                                 inplace=True,\n",
    "                                 ignore_index=True)\n",
    "org_processing_df_v8 = org_processing_df_v7.drop_duplicates(subset=['org_uuid'])\n",
    "len(org_processing_df_v8)"
   ]
  },
  {
   "cell_type": "code",
   "execution_count": 116,
   "id": "descending-original",
   "metadata": {
    "scrolled": true
   },
   "outputs": [
    {
     "data": {
      "text/html": [
       "<div>\n",
       "<style scoped>\n",
       "    .dataframe tbody tr th:only-of-type {\n",
       "        vertical-align: middle;\n",
       "    }\n",
       "\n",
       "    .dataframe tbody tr th {\n",
       "        vertical-align: top;\n",
       "    }\n",
       "\n",
       "    .dataframe thead th {\n",
       "        text-align: right;\n",
       "    }\n",
       "</style>\n",
       "<table border=\"1\" class=\"dataframe\">\n",
       "  <thead>\n",
       "    <tr style=\"text-align: right;\">\n",
       "      <th></th>\n",
       "      <th>org_uuid</th>\n",
       "      <th>name</th>\n",
       "      <th>status</th>\n",
       "      <th>founded_on</th>\n",
       "      <th>seed_date</th>\n",
       "      <th>series_a_date</th>\n",
       "      <th>first_fund_date</th>\n",
       "      <th>founded_to_first_fund_years</th>\n",
       "      <th>series_b_date</th>\n",
       "      <th>series_c_date</th>\n",
       "      <th>num_funding_rounds</th>\n",
       "    </tr>\n",
       "  </thead>\n",
       "  <tbody>\n",
       "    <tr>\n",
       "      <th>0</th>\n",
       "      <td>30b1084f-a57f-9dcd-d8b7-6985e8c76c14</td>\n",
       "      <td>Navic Networks</td>\n",
       "      <td>acquired</td>\n",
       "      <td>2000-01-03</td>\n",
       "      <td>NaT</td>\n",
       "      <td>2000-02-14</td>\n",
       "      <td>2000-02-14</td>\n",
       "      <td>0.1</td>\n",
       "      <td>2000-06-07</td>\n",
       "      <td>2001-02-26</td>\n",
       "      <td>3.0</td>\n",
       "    </tr>\n",
       "    <tr>\n",
       "      <th>1</th>\n",
       "      <td>2c640b60-6594-25ca-7d04-6d0e5ed4964d</td>\n",
       "      <td>Riot Entertainment</td>\n",
       "      <td>closed</td>\n",
       "      <td>2000-02-01</td>\n",
       "      <td>NaT</td>\n",
       "      <td>2000-02-01</td>\n",
       "      <td>2000-02-01</td>\n",
       "      <td>0.0</td>\n",
       "      <td>2000-10-13</td>\n",
       "      <td>NaT</td>\n",
       "      <td>2.0</td>\n",
       "    </tr>\n",
       "    <tr>\n",
       "      <th>2</th>\n",
       "      <td>f7e7a793-3c80-02ed-eae7-1d095e32861a</td>\n",
       "      <td>Performance Logic</td>\n",
       "      <td>operating</td>\n",
       "      <td>2000-04-15</td>\n",
       "      <td>NaT</td>\n",
       "      <td>2000-05-08</td>\n",
       "      <td>2000-05-08</td>\n",
       "      <td>0.1</td>\n",
       "      <td>2000-12-21</td>\n",
       "      <td>NaT</td>\n",
       "      <td>2.0</td>\n",
       "    </tr>\n",
       "  </tbody>\n",
       "</table>\n",
       "</div>"
      ],
      "text/plain": [
       "                               org_uuid                name     status  \\\n",
       "0  30b1084f-a57f-9dcd-d8b7-6985e8c76c14      Navic Networks   acquired   \n",
       "1  2c640b60-6594-25ca-7d04-6d0e5ed4964d  Riot Entertainment     closed   \n",
       "2  f7e7a793-3c80-02ed-eae7-1d095e32861a   Performance Logic  operating   \n",
       "\n",
       "  founded_on seed_date series_a_date first_fund_date  \\\n",
       "0 2000-01-03       NaT    2000-02-14      2000-02-14   \n",
       "1 2000-02-01       NaT    2000-02-01      2000-02-01   \n",
       "2 2000-04-15       NaT    2000-05-08      2000-05-08   \n",
       "\n",
       "   founded_to_first_fund_years series_b_date series_c_date  num_funding_rounds  \n",
       "0                          0.1    2000-06-07    2001-02-26                 3.0  \n",
       "1                          0.0    2000-10-13           NaT                 2.0  \n",
       "2                          0.1    2000-12-21           NaT                 2.0  "
      ]
     },
     "execution_count": 116,
     "metadata": {},
     "output_type": "execute_result"
    }
   ],
   "source": [
    "org_processing_df_v9 = pd.merge(org_processing_df_v8,\n",
    "                                org_ori_df[['num_funding_rounds']],\n",
    "                                on='org_uuid',\n",
    "                                how='left')\n",
    "org_processing_df_v9.head(3)"
   ]
  },
  {
   "cell_type": "code",
   "execution_count": 117,
   "id": "killing-minimum",
   "metadata": {},
   "outputs": [
    {
     "data": {
      "text/plain": [
       "1.0     35410\n",
       "2.0     18505\n",
       "3.0     10636\n",
       "4.0      6345\n",
       "5.0      3783\n",
       "6.0      2214\n",
       "7.0      1281\n",
       "8.0       768\n",
       "9.0       441\n",
       "10.0      219\n",
       "11.0      160\n",
       "12.0       93\n",
       "13.0       60\n",
       "14.0       38\n",
       "15.0       22\n",
       "16.0       18\n",
       "17.0       14\n",
       "18.0       11\n",
       "19.0        6\n",
       "20.0        4\n",
       "22.0        4\n",
       "23.0        4\n",
       "21.0        3\n",
       "25.0        2\n",
       "31.0        2\n",
       "29.0        1\n",
       "24.0        1\n",
       "35.0        1\n",
       "30.0        1\n",
       "27.0        1\n",
       "Name: num_funding_rounds, dtype: int64"
      ]
     },
     "execution_count": 117,
     "metadata": {},
     "output_type": "execute_result"
    }
   ],
   "source": [
    "org_processing_df_v9['num_funding_rounds'].value_countsounts()"
   ]
  },
  {
   "cell_type": "code",
   "execution_count": 118,
   "id": "pleased-incidence",
   "metadata": {},
   "outputs": [
    {
     "data": {
      "text/plain": [
       "org_uuid                           0\n",
       "name                               0\n",
       "status                             0\n",
       "founded_on                         0\n",
       "seed_date                      15455\n",
       "series_a_date                  53873\n",
       "first_fund_date                    0\n",
       "founded_to_first_fund_years        0\n",
       "series_b_date                  68865\n",
       "series_c_date                  75090\n",
       "num_funding_rounds                 0\n",
       "dtype: int64"
      ]
     },
     "execution_count": 118,
     "metadata": {},
     "output_type": "execute_result"
    }
   ],
   "source": [
    "org_processing_df_v9.isnull().sum(axis=0)"
   ]
  },
  {
   "cell_type": "code",
   "execution_count": 120,
   "id": "voluntary-event",
   "metadata": {},
   "outputs": [
    {
     "data": {
      "text/plain": [
       "7863"
      ]
     },
     "execution_count": 120,
     "metadata": {},
     "output_type": "execute_result"
    }
   ],
   "source": [
    "#create dataframe for acquired companies\n",
    "org_acquired_df = org_processing_df_v9[org_processing_df_v9['status'] == 'acquired']\n",
    "len(org_acquired_df)"
   ]
  },
  {
   "cell_type": "code",
   "execution_count": 121,
   "id": "competent-chamber",
   "metadata": {},
   "outputs": [
    {
     "data": {
      "text/html": [
       "<div>\n",
       "<style scoped>\n",
       "    .dataframe tbody tr th:only-of-type {\n",
       "        vertical-align: middle;\n",
       "    }\n",
       "\n",
       "    .dataframe tbody tr th {\n",
       "        vertical-align: top;\n",
       "    }\n",
       "\n",
       "    .dataframe thead th {\n",
       "        text-align: right;\n",
       "    }\n",
       "</style>\n",
       "<table border=\"1\" class=\"dataframe\">\n",
       "  <thead>\n",
       "    <tr style=\"text-align: right;\">\n",
       "      <th></th>\n",
       "      <th>org_uuid</th>\n",
       "      <th>name</th>\n",
       "      <th>status</th>\n",
       "      <th>founded_on</th>\n",
       "      <th>seed_date</th>\n",
       "      <th>series_a_date</th>\n",
       "      <th>first_fund_date</th>\n",
       "      <th>founded_to_first_fund_years</th>\n",
       "      <th>series_b_date</th>\n",
       "      <th>series_c_date</th>\n",
       "      <th>num_funding_rounds</th>\n",
       "    </tr>\n",
       "  </thead>\n",
       "  <tbody>\n",
       "    <tr>\n",
       "      <th>0</th>\n",
       "      <td>30b1084f-a57f-9dcd-d8b7-6985e8c76c14</td>\n",
       "      <td>Navic Networks</td>\n",
       "      <td>acquired</td>\n",
       "      <td>2000-01-03</td>\n",
       "      <td>NaT</td>\n",
       "      <td>2000-02-14</td>\n",
       "      <td>2000-02-14</td>\n",
       "      <td>0.1</td>\n",
       "      <td>2000-06-07</td>\n",
       "      <td>2001-02-26</td>\n",
       "      <td>3.0</td>\n",
       "    </tr>\n",
       "    <tr>\n",
       "      <th>5</th>\n",
       "      <td>6fb9ae50-a96d-13da-3cf9-acca7198674a</td>\n",
       "      <td>CRF Health</td>\n",
       "      <td>acquired</td>\n",
       "      <td>2000-09-01</td>\n",
       "      <td>NaT</td>\n",
       "      <td>2000-10-25</td>\n",
       "      <td>2000-10-25</td>\n",
       "      <td>0.1</td>\n",
       "      <td>2001-02-15</td>\n",
       "      <td>2002-12-18</td>\n",
       "      <td>8.0</td>\n",
       "    </tr>\n",
       "    <tr>\n",
       "      <th>6</th>\n",
       "      <td>fa6d7097-5a28-e3ca-4cdc-c90a084738e7</td>\n",
       "      <td>Captus Networks</td>\n",
       "      <td>acquired</td>\n",
       "      <td>2000-04-01</td>\n",
       "      <td>NaT</td>\n",
       "      <td>2000-12-01</td>\n",
       "      <td>2000-12-01</td>\n",
       "      <td>0.7</td>\n",
       "      <td>2001-05-02</td>\n",
       "      <td>2002-02-22</td>\n",
       "      <td>5.0</td>\n",
       "    </tr>\n",
       "  </tbody>\n",
       "</table>\n",
       "</div>"
      ],
      "text/plain": [
       "                               org_uuid             name    status founded_on  \\\n",
       "0  30b1084f-a57f-9dcd-d8b7-6985e8c76c14   Navic Networks  acquired 2000-01-03   \n",
       "5  6fb9ae50-a96d-13da-3cf9-acca7198674a       CRF Health  acquired 2000-09-01   \n",
       "6  fa6d7097-5a28-e3ca-4cdc-c90a084738e7  Captus Networks  acquired 2000-04-01   \n",
       "\n",
       "  seed_date series_a_date first_fund_date  founded_to_first_fund_years  \\\n",
       "0       NaT    2000-02-14      2000-02-14                          0.1   \n",
       "5       NaT    2000-10-25      2000-10-25                          0.1   \n",
       "6       NaT    2000-12-01      2000-12-01                          0.7   \n",
       "\n",
       "  series_b_date series_c_date  num_funding_rounds  \n",
       "0    2000-06-07    2001-02-26                 3.0  \n",
       "5    2001-02-15    2002-12-18                 8.0  \n",
       "6    2001-05-02    2002-02-22                 5.0  "
      ]
     },
     "execution_count": 121,
     "metadata": {},
     "output_type": "execute_result"
    }
   ],
   "source": [
    "org_acquired_df.head(3)"
   ]
  },
  {
   "cell_type": "code",
   "execution_count": 125,
   "id": "annoying-digest",
   "metadata": {},
   "outputs": [
    {
     "data": {
      "text/plain": [
       "7863"
      ]
     },
     "execution_count": 125,
     "metadata": {},
     "output_type": "execute_result"
    }
   ],
   "source": [
    "#merge with acquired_on date from original data frame\n",
    "org_acquired_df_v1 = pd.merge(org_acquired_df,\n",
    "                             org_ori_df['acquired_on'],\n",
    "                             on='org_uuid',\n",
    "                             how='left')\n",
    "len(org_acquired_df_v1)"
   ]
  },
  {
   "cell_type": "code",
   "execution_count": 163,
   "id": "trying-monroe",
   "metadata": {},
   "outputs": [
    {
     "data": {
      "text/plain": [
       "7863"
      ]
     },
     "execution_count": 163,
     "metadata": {},
     "output_type": "execute_result"
    }
   ],
   "source": [
    "#drop company with no acquisition date\n",
    "org_acquired_df_v2 = org_acquired_df_v1 #.dropna(subset=['acquired_on'])\n",
    "len(org_acquired_df_v2)"
   ]
  },
  {
   "cell_type": "code",
   "execution_count": 164,
   "id": "handled-representative",
   "metadata": {},
   "outputs": [
    {
     "data": {
      "text/plain": [
       "6690"
      ]
     },
     "execution_count": 164,
     "metadata": {},
     "output_type": "execute_result"
    }
   ],
   "source": [
    "#calculate the duration from founded to acquisition and drop inconsistent data\n",
    "org_acquired_df_v2['first_fund_to_acquired_years'] = ((org_acquired_df_v2['acquired_on'] - org_acquired_df_v2['first_fund_date']).dt.days/365).astype(float).round(decimals=1)\n",
    "\n",
    "#drop company with acquire date before founded date\n",
    "mask = org_acquired_df_v2['first_fund_to_acquired_years'] > 0\n",
    "org_acquired_df_v3 = org_acquired_df_v2[mask]\n",
    "len(org_acquired_df_v3)"
   ]
  },
  {
   "cell_type": "code",
   "execution_count": 165,
   "id": "amateur-armstrong",
   "metadata": {},
   "outputs": [
    {
     "data": {
      "text/plain": [
       "78875"
      ]
     },
     "execution_count": 165,
     "metadata": {},
     "output_type": "execute_result"
    }
   ],
   "source": [
    "#merge with main processing df\n",
    "org_processing_df_v10 = pd.concat([org_acquired_df_v3,\n",
    "                                  org_processing_df_v9[org_processing_df_v9['status'] != 'acquired']],\n",
    "                                  axis ='index',\n",
    "                                  ignore_index=True)\n",
    "len(org_processing_df_v10)"
   ]
  },
  {
   "cell_type": "code",
   "execution_count": 130,
   "id": "exceptional-hydrogen",
   "metadata": {},
   "outputs": [
    {
     "data": {
      "text/html": [
       "<div>\n",
       "<style scoped>\n",
       "    .dataframe tbody tr th:only-of-type {\n",
       "        vertical-align: middle;\n",
       "    }\n",
       "\n",
       "    .dataframe tbody tr th {\n",
       "        vertical-align: top;\n",
       "    }\n",
       "\n",
       "    .dataframe thead th {\n",
       "        text-align: right;\n",
       "    }\n",
       "</style>\n",
       "<table border=\"1\" class=\"dataframe\">\n",
       "  <thead>\n",
       "    <tr style=\"text-align: right;\">\n",
       "      <th></th>\n",
       "      <th>org_uuid</th>\n",
       "      <th>name</th>\n",
       "      <th>status</th>\n",
       "      <th>founded_on</th>\n",
       "      <th>seed_date</th>\n",
       "      <th>series_a_date</th>\n",
       "      <th>first_fund_date</th>\n",
       "      <th>founded_to_first_fund_years</th>\n",
       "      <th>series_b_date</th>\n",
       "      <th>series_c_date</th>\n",
       "      <th>num_funding_rounds</th>\n",
       "      <th>acquired_on</th>\n",
       "      <th>first_fund_to_acquired_years</th>\n",
       "    </tr>\n",
       "  </thead>\n",
       "  <tbody>\n",
       "    <tr>\n",
       "      <th>0</th>\n",
       "      <td>30b1084f-a57f-9dcd-d8b7-6985e8c76c14</td>\n",
       "      <td>Navic Networks</td>\n",
       "      <td>acquired</td>\n",
       "      <td>2000-01-03</td>\n",
       "      <td>NaT</td>\n",
       "      <td>2000-02-14</td>\n",
       "      <td>2000-02-14</td>\n",
       "      <td>0.1</td>\n",
       "      <td>2000-06-07</td>\n",
       "      <td>2001-02-26</td>\n",
       "      <td>3.0</td>\n",
       "      <td>2008-06-18</td>\n",
       "      <td>8.3</td>\n",
       "    </tr>\n",
       "    <tr>\n",
       "      <th>1</th>\n",
       "      <td>6fb9ae50-a96d-13da-3cf9-acca7198674a</td>\n",
       "      <td>CRF Health</td>\n",
       "      <td>acquired</td>\n",
       "      <td>2000-09-01</td>\n",
       "      <td>NaT</td>\n",
       "      <td>2000-10-25</td>\n",
       "      <td>2000-10-25</td>\n",
       "      <td>0.1</td>\n",
       "      <td>2001-02-15</td>\n",
       "      <td>2002-12-18</td>\n",
       "      <td>8.0</td>\n",
       "      <td>2013-01-01</td>\n",
       "      <td>12.2</td>\n",
       "    </tr>\n",
       "    <tr>\n",
       "      <th>2</th>\n",
       "      <td>fa6d7097-5a28-e3ca-4cdc-c90a084738e7</td>\n",
       "      <td>Captus Networks</td>\n",
       "      <td>acquired</td>\n",
       "      <td>2000-04-01</td>\n",
       "      <td>NaT</td>\n",
       "      <td>2000-12-01</td>\n",
       "      <td>2000-12-01</td>\n",
       "      <td>0.7</td>\n",
       "      <td>2001-05-02</td>\n",
       "      <td>2002-02-22</td>\n",
       "      <td>5.0</td>\n",
       "      <td>2007-01-30</td>\n",
       "      <td>6.2</td>\n",
       "    </tr>\n",
       "  </tbody>\n",
       "</table>\n",
       "</div>"
      ],
      "text/plain": [
       "                               org_uuid             name    status founded_on  \\\n",
       "0  30b1084f-a57f-9dcd-d8b7-6985e8c76c14   Navic Networks  acquired 2000-01-03   \n",
       "1  6fb9ae50-a96d-13da-3cf9-acca7198674a       CRF Health  acquired 2000-09-01   \n",
       "2  fa6d7097-5a28-e3ca-4cdc-c90a084738e7  Captus Networks  acquired 2000-04-01   \n",
       "\n",
       "  seed_date series_a_date first_fund_date  founded_to_first_fund_years  \\\n",
       "0       NaT    2000-02-14      2000-02-14                          0.1   \n",
       "1       NaT    2000-10-25      2000-10-25                          0.1   \n",
       "2       NaT    2000-12-01      2000-12-01                          0.7   \n",
       "\n",
       "  series_b_date series_c_date  num_funding_rounds acquired_on  \\\n",
       "0    2000-06-07    2001-02-26                 3.0  2008-06-18   \n",
       "1    2001-02-15    2002-12-18                 8.0  2013-01-01   \n",
       "2    2001-05-02    2002-02-22                 5.0  2007-01-30   \n",
       "\n",
       "   first_fund_to_acquired_years  \n",
       "0                           8.3  \n",
       "1                          12.2  \n",
       "2                           6.2  "
      ]
     },
     "execution_count": 130,
     "metadata": {},
     "output_type": "execute_result"
    }
   ],
   "source": [
    "org_processing_df_v10.head(3)"
   ]
  },
  {
   "cell_type": "code",
   "execution_count": 132,
   "id": "otherwise-technical",
   "metadata": {},
   "outputs": [
    {
     "data": {
      "text/plain": [
       "889"
      ]
     },
     "execution_count": 132,
     "metadata": {},
     "output_type": "execute_result"
    }
   ],
   "source": [
    "#create df for ipoed companies\n",
    "org_ipo_df = org_processing_df_v10[org_processing_df_v10['status'] == 'ipo']\n",
    "len(org_ipo_df)"
   ]
  },
  {
   "cell_type": "code",
   "execution_count": 166,
   "id": "wooden-hayes",
   "metadata": {},
   "outputs": [
    {
     "data": {
      "text/plain": [
       "889"
      ]
     },
     "execution_count": 166,
     "metadata": {},
     "output_type": "execute_result"
    }
   ],
   "source": [
    "#merge with announced date from original data frame and drop companies with no went_public_on date\n",
    "org_ipo_df_v1 = pd.merge(org_ipo_df,\n",
    "                         org_ori_df['went_public_on'],\n",
    "                         on='org_uuid',\n",
    "                         how='left')\n",
    "org_ipo_df_v2 = org_ipo_df_v1#.dropna(subset=['went_public_on'])\n",
    "len(org_ipo_df_v2)"
   ]
  },
  {
   "cell_type": "code",
   "execution_count": 167,
   "id": "cubic-tiger",
   "metadata": {},
   "outputs": [
    {
     "data": {
      "text/html": [
       "<div>\n",
       "<style scoped>\n",
       "    .dataframe tbody tr th:only-of-type {\n",
       "        vertical-align: middle;\n",
       "    }\n",
       "\n",
       "    .dataframe tbody tr th {\n",
       "        vertical-align: top;\n",
       "    }\n",
       "\n",
       "    .dataframe thead th {\n",
       "        text-align: right;\n",
       "    }\n",
       "</style>\n",
       "<table border=\"1\" class=\"dataframe\">\n",
       "  <thead>\n",
       "    <tr style=\"text-align: right;\">\n",
       "      <th></th>\n",
       "      <th>org_uuid</th>\n",
       "      <th>name</th>\n",
       "      <th>status</th>\n",
       "      <th>founded_on</th>\n",
       "      <th>seed_date</th>\n",
       "      <th>series_a_date</th>\n",
       "      <th>first_fund_date</th>\n",
       "      <th>founded_to_first_fund_years</th>\n",
       "      <th>series_b_date</th>\n",
       "      <th>series_c_date</th>\n",
       "      <th>num_funding_rounds</th>\n",
       "      <th>acquired_on</th>\n",
       "      <th>first_fund_to_acquired_years</th>\n",
       "      <th>went_public_on</th>\n",
       "    </tr>\n",
       "  </thead>\n",
       "  <tbody>\n",
       "    <tr>\n",
       "      <th>0</th>\n",
       "      <td>d21a6980-f3a2-90ab-2255-2ab443ecaf18</td>\n",
       "      <td>Sumavision</td>\n",
       "      <td>ipo</td>\n",
       "      <td>2000-03-01</td>\n",
       "      <td>NaT</td>\n",
       "      <td>2001-04-01</td>\n",
       "      <td>2001-04-01</td>\n",
       "      <td>1.1</td>\n",
       "      <td>2001-10-01</td>\n",
       "      <td>2004-11-01</td>\n",
       "      <td>7.0</td>\n",
       "      <td>NaT</td>\n",
       "      <td>NaN</td>\n",
       "      <td>2010-05-07</td>\n",
       "    </tr>\n",
       "    <tr>\n",
       "      <th>1</th>\n",
       "      <td>51ee0def-f0ac-c663-d359-d94bf7c2b9bf</td>\n",
       "      <td>Voltari</td>\n",
       "      <td>ipo</td>\n",
       "      <td>2001-01-01</td>\n",
       "      <td>NaT</td>\n",
       "      <td>2001-01-01</td>\n",
       "      <td>2001-01-01</td>\n",
       "      <td>0.0</td>\n",
       "      <td>2002-01-01</td>\n",
       "      <td>NaT</td>\n",
       "      <td>5.0</td>\n",
       "      <td>NaT</td>\n",
       "      <td>NaN</td>\n",
       "      <td>2010-06-25</td>\n",
       "    </tr>\n",
       "    <tr>\n",
       "      <th>2</th>\n",
       "      <td>ef205a8a-ce41-9b7f-6a62-f9bcfc58a8b3</td>\n",
       "      <td>Aspen Aerogels</td>\n",
       "      <td>ipo</td>\n",
       "      <td>2001-01-01</td>\n",
       "      <td>NaT</td>\n",
       "      <td>2001-05-17</td>\n",
       "      <td>2001-05-17</td>\n",
       "      <td>0.4</td>\n",
       "      <td>2002-06-20</td>\n",
       "      <td>2003-12-24</td>\n",
       "      <td>11.0</td>\n",
       "      <td>NaT</td>\n",
       "      <td>NaN</td>\n",
       "      <td>2014-06-13</td>\n",
       "    </tr>\n",
       "  </tbody>\n",
       "</table>\n",
       "</div>"
      ],
      "text/plain": [
       "                               org_uuid            name status founded_on  \\\n",
       "0  d21a6980-f3a2-90ab-2255-2ab443ecaf18      Sumavision    ipo 2000-03-01   \n",
       "1  51ee0def-f0ac-c663-d359-d94bf7c2b9bf         Voltari    ipo 2001-01-01   \n",
       "2  ef205a8a-ce41-9b7f-6a62-f9bcfc58a8b3  Aspen Aerogels    ipo 2001-01-01   \n",
       "\n",
       "  seed_date series_a_date first_fund_date  founded_to_first_fund_years  \\\n",
       "0       NaT    2001-04-01      2001-04-01                          1.1   \n",
       "1       NaT    2001-01-01      2001-01-01                          0.0   \n",
       "2       NaT    2001-05-17      2001-05-17                          0.4   \n",
       "\n",
       "  series_b_date series_c_date  num_funding_rounds acquired_on  \\\n",
       "0    2001-10-01    2004-11-01                 7.0         NaT   \n",
       "1    2002-01-01           NaT                 5.0         NaT   \n",
       "2    2002-06-20    2003-12-24                11.0         NaT   \n",
       "\n",
       "   first_fund_to_acquired_years went_public_on  \n",
       "0                           NaN     2010-05-07  \n",
       "1                           NaN     2010-06-25  \n",
       "2                           NaN     2014-06-13  "
      ]
     },
     "execution_count": 167,
     "metadata": {},
     "output_type": "execute_result"
    }
   ],
   "source": [
    "org_ipo_df_v2.head(3)"
   ]
  },
  {
   "cell_type": "code",
   "execution_count": 168,
   "id": "waiting-marine",
   "metadata": {},
   "outputs": [
    {
     "data": {
      "text/plain": [
       "859"
      ]
     },
     "execution_count": 168,
     "metadata": {},
     "output_type": "execute_result"
    }
   ],
   "source": [
    "#calculate duration from first fund to IPO date and drop companies with duration <0\n",
    "org_ipo_df_v2['first_fund_to_ipo_years'] = ((org_ipo_df_v2['went_public_on'] - org_ipo_df_v2['first_fund_date']).dt.days/365).astype(float).round(decimals=1)\n",
    "\n",
    "mask = org_ipo_df_v2['first_fund_to_ipo_years'] > 0\n",
    "org_ipo_df_v3 = org_ipo_df_v2[mask]\n",
    "len(org_ipo_df_v3)"
   ]
  },
  {
   "cell_type": "code",
   "execution_count": 136,
   "id": "honey-rochester",
   "metadata": {},
   "outputs": [
    {
     "data": {
      "text/html": [
       "<div>\n",
       "<style scoped>\n",
       "    .dataframe tbody tr th:only-of-type {\n",
       "        vertical-align: middle;\n",
       "    }\n",
       "\n",
       "    .dataframe tbody tr th {\n",
       "        vertical-align: top;\n",
       "    }\n",
       "\n",
       "    .dataframe thead th {\n",
       "        text-align: right;\n",
       "    }\n",
       "</style>\n",
       "<table border=\"1\" class=\"dataframe\">\n",
       "  <thead>\n",
       "    <tr style=\"text-align: right;\">\n",
       "      <th></th>\n",
       "      <th>org_uuid</th>\n",
       "      <th>name</th>\n",
       "      <th>status</th>\n",
       "      <th>founded_on</th>\n",
       "      <th>seed_date</th>\n",
       "      <th>series_a_date</th>\n",
       "      <th>first_fund_date</th>\n",
       "      <th>founded_to_first_fund_years</th>\n",
       "      <th>series_b_date</th>\n",
       "      <th>series_c_date</th>\n",
       "      <th>num_funding_rounds</th>\n",
       "      <th>acquired_on</th>\n",
       "      <th>first_fund_to_acquired_years</th>\n",
       "      <th>went_public_on</th>\n",
       "      <th>first_fund_to_ipo_years</th>\n",
       "    </tr>\n",
       "  </thead>\n",
       "  <tbody>\n",
       "    <tr>\n",
       "      <th>0</th>\n",
       "      <td>d21a6980-f3a2-90ab-2255-2ab443ecaf18</td>\n",
       "      <td>Sumavision</td>\n",
       "      <td>ipo</td>\n",
       "      <td>2000-03-01</td>\n",
       "      <td>NaT</td>\n",
       "      <td>2001-04-01</td>\n",
       "      <td>2001-04-01</td>\n",
       "      <td>1.1</td>\n",
       "      <td>2001-10-01</td>\n",
       "      <td>2004-11-01</td>\n",
       "      <td>7.0</td>\n",
       "      <td>NaT</td>\n",
       "      <td>NaN</td>\n",
       "      <td>2010-05-07</td>\n",
       "      <td>9.1</td>\n",
       "    </tr>\n",
       "    <tr>\n",
       "      <th>1</th>\n",
       "      <td>51ee0def-f0ac-c663-d359-d94bf7c2b9bf</td>\n",
       "      <td>Voltari</td>\n",
       "      <td>ipo</td>\n",
       "      <td>2001-01-01</td>\n",
       "      <td>NaT</td>\n",
       "      <td>2001-01-01</td>\n",
       "      <td>2001-01-01</td>\n",
       "      <td>0.0</td>\n",
       "      <td>2002-01-01</td>\n",
       "      <td>NaT</td>\n",
       "      <td>5.0</td>\n",
       "      <td>NaT</td>\n",
       "      <td>NaN</td>\n",
       "      <td>2010-06-25</td>\n",
       "      <td>9.5</td>\n",
       "    </tr>\n",
       "    <tr>\n",
       "      <th>2</th>\n",
       "      <td>ef205a8a-ce41-9b7f-6a62-f9bcfc58a8b3</td>\n",
       "      <td>Aspen Aerogels</td>\n",
       "      <td>ipo</td>\n",
       "      <td>2001-01-01</td>\n",
       "      <td>NaT</td>\n",
       "      <td>2001-05-17</td>\n",
       "      <td>2001-05-17</td>\n",
       "      <td>0.4</td>\n",
       "      <td>2002-06-20</td>\n",
       "      <td>2003-12-24</td>\n",
       "      <td>11.0</td>\n",
       "      <td>NaT</td>\n",
       "      <td>NaN</td>\n",
       "      <td>2014-06-13</td>\n",
       "      <td>13.1</td>\n",
       "    </tr>\n",
       "  </tbody>\n",
       "</table>\n",
       "</div>"
      ],
      "text/plain": [
       "                               org_uuid            name status founded_on  \\\n",
       "0  d21a6980-f3a2-90ab-2255-2ab443ecaf18      Sumavision    ipo 2000-03-01   \n",
       "1  51ee0def-f0ac-c663-d359-d94bf7c2b9bf         Voltari    ipo 2001-01-01   \n",
       "2  ef205a8a-ce41-9b7f-6a62-f9bcfc58a8b3  Aspen Aerogels    ipo 2001-01-01   \n",
       "\n",
       "  seed_date series_a_date first_fund_date  founded_to_first_fund_years  \\\n",
       "0       NaT    2001-04-01      2001-04-01                          1.1   \n",
       "1       NaT    2001-01-01      2001-01-01                          0.0   \n",
       "2       NaT    2001-05-17      2001-05-17                          0.4   \n",
       "\n",
       "  series_b_date series_c_date  num_funding_rounds acquired_on  \\\n",
       "0    2001-10-01    2004-11-01                 7.0         NaT   \n",
       "1    2002-01-01           NaT                 5.0         NaT   \n",
       "2    2002-06-20    2003-12-24                11.0         NaT   \n",
       "\n",
       "   first_fund_to_acquired_years went_public_on  first_fund_to_ipo_years  \n",
       "0                           NaN     2010-05-07                      9.1  \n",
       "1                           NaN     2010-06-25                      9.5  \n",
       "2                           NaN     2014-06-13                     13.1  "
      ]
     },
     "execution_count": 136,
     "metadata": {},
     "output_type": "execute_result"
    }
   ],
   "source": [
    "org_ipo_df_v3.head(3)"
   ]
  },
  {
   "cell_type": "code",
   "execution_count": 138,
   "id": "frozen-discharge",
   "metadata": {},
   "outputs": [
    {
     "data": {
      "text/plain": [
       "78845"
      ]
     },
     "execution_count": 138,
     "metadata": {},
     "output_type": "execute_result"
    }
   ],
   "source": [
    "#concatenate with main data frame\n",
    "org_processing_df_v11 = pd.concat([org_ipo_df_v3,\n",
    "                                   org_processing_df_v10[org_processing_df_v10['status']!='ipo']],\n",
    "                                  axis=0,\n",
    "                                  ignore_index=True)\n",
    "len(org_processing_df_v11)"
   ]
  },
  {
   "cell_type": "code",
   "execution_count": 139,
   "id": "micro-function",
   "metadata": {},
   "outputs": [
    {
     "data": {
      "text/html": [
       "<div>\n",
       "<style scoped>\n",
       "    .dataframe tbody tr th:only-of-type {\n",
       "        vertical-align: middle;\n",
       "    }\n",
       "\n",
       "    .dataframe tbody tr th {\n",
       "        vertical-align: top;\n",
       "    }\n",
       "\n",
       "    .dataframe thead th {\n",
       "        text-align: right;\n",
       "    }\n",
       "</style>\n",
       "<table border=\"1\" class=\"dataframe\">\n",
       "  <thead>\n",
       "    <tr style=\"text-align: right;\">\n",
       "      <th></th>\n",
       "      <th>org_uuid</th>\n",
       "      <th>name</th>\n",
       "      <th>status</th>\n",
       "      <th>founded_on</th>\n",
       "      <th>seed_date</th>\n",
       "      <th>series_a_date</th>\n",
       "      <th>first_fund_date</th>\n",
       "      <th>founded_to_first_fund_years</th>\n",
       "      <th>series_b_date</th>\n",
       "      <th>series_c_date</th>\n",
       "      <th>num_funding_rounds</th>\n",
       "      <th>acquired_on</th>\n",
       "      <th>first_fund_to_acquired_years</th>\n",
       "      <th>went_public_on</th>\n",
       "      <th>first_fund_to_ipo_years</th>\n",
       "    </tr>\n",
       "  </thead>\n",
       "  <tbody>\n",
       "    <tr>\n",
       "      <th>0</th>\n",
       "      <td>d21a6980-f3a2-90ab-2255-2ab443ecaf18</td>\n",
       "      <td>Sumavision</td>\n",
       "      <td>ipo</td>\n",
       "      <td>2000-03-01</td>\n",
       "      <td>NaT</td>\n",
       "      <td>2001-04-01</td>\n",
       "      <td>2001-04-01</td>\n",
       "      <td>1.1</td>\n",
       "      <td>2001-10-01</td>\n",
       "      <td>2004-11-01</td>\n",
       "      <td>7.0</td>\n",
       "      <td>NaT</td>\n",
       "      <td>NaN</td>\n",
       "      <td>2010-05-07</td>\n",
       "      <td>9.1</td>\n",
       "    </tr>\n",
       "    <tr>\n",
       "      <th>1</th>\n",
       "      <td>51ee0def-f0ac-c663-d359-d94bf7c2b9bf</td>\n",
       "      <td>Voltari</td>\n",
       "      <td>ipo</td>\n",
       "      <td>2001-01-01</td>\n",
       "      <td>NaT</td>\n",
       "      <td>2001-01-01</td>\n",
       "      <td>2001-01-01</td>\n",
       "      <td>0.0</td>\n",
       "      <td>2002-01-01</td>\n",
       "      <td>NaT</td>\n",
       "      <td>5.0</td>\n",
       "      <td>NaT</td>\n",
       "      <td>NaN</td>\n",
       "      <td>2010-06-25</td>\n",
       "      <td>9.5</td>\n",
       "    </tr>\n",
       "    <tr>\n",
       "      <th>2</th>\n",
       "      <td>ef205a8a-ce41-9b7f-6a62-f9bcfc58a8b3</td>\n",
       "      <td>Aspen Aerogels</td>\n",
       "      <td>ipo</td>\n",
       "      <td>2001-01-01</td>\n",
       "      <td>NaT</td>\n",
       "      <td>2001-05-17</td>\n",
       "      <td>2001-05-17</td>\n",
       "      <td>0.4</td>\n",
       "      <td>2002-06-20</td>\n",
       "      <td>2003-12-24</td>\n",
       "      <td>11.0</td>\n",
       "      <td>NaT</td>\n",
       "      <td>NaN</td>\n",
       "      <td>2014-06-13</td>\n",
       "      <td>13.1</td>\n",
       "    </tr>\n",
       "  </tbody>\n",
       "</table>\n",
       "</div>"
      ],
      "text/plain": [
       "                               org_uuid            name status founded_on  \\\n",
       "0  d21a6980-f3a2-90ab-2255-2ab443ecaf18      Sumavision    ipo 2000-03-01   \n",
       "1  51ee0def-f0ac-c663-d359-d94bf7c2b9bf         Voltari    ipo 2001-01-01   \n",
       "2  ef205a8a-ce41-9b7f-6a62-f9bcfc58a8b3  Aspen Aerogels    ipo 2001-01-01   \n",
       "\n",
       "  seed_date series_a_date first_fund_date  founded_to_first_fund_years  \\\n",
       "0       NaT    2001-04-01      2001-04-01                          1.1   \n",
       "1       NaT    2001-01-01      2001-01-01                          0.0   \n",
       "2       NaT    2001-05-17      2001-05-17                          0.4   \n",
       "\n",
       "  series_b_date series_c_date  num_funding_rounds acquired_on  \\\n",
       "0    2001-10-01    2004-11-01                 7.0         NaT   \n",
       "1    2002-01-01           NaT                 5.0         NaT   \n",
       "2    2002-06-20    2003-12-24                11.0         NaT   \n",
       "\n",
       "   first_fund_to_acquired_years went_public_on  first_fund_to_ipo_years  \n",
       "0                           NaN     2010-05-07                      9.1  \n",
       "1                           NaN     2010-06-25                      9.5  \n",
       "2                           NaN     2014-06-13                     13.1  "
      ]
     },
     "execution_count": 139,
     "metadata": {},
     "output_type": "execute_result"
    }
   ],
   "source": [
    "org_processing_df_v11.head(3)"
   ]
  },
  {
   "cell_type": "code",
   "execution_count": 140,
   "id": "swedish-bishop",
   "metadata": {},
   "outputs": [
    {
     "data": {
      "text/plain": [
       "5773"
      ]
     },
     "execution_count": 140,
     "metadata": {},
     "output_type": "execute_result"
    }
   ],
   "source": [
    "#create data frame for closed companies\n",
    "org_closed_df = org_processing_df_v11[org_processing_df_v11['status'] == 'closed']\n",
    "len(org_closed_df)"
   ]
  },
  {
   "cell_type": "code",
   "execution_count": 146,
   "id": "tender-century",
   "metadata": {},
   "outputs": [
    {
     "data": {
      "text/plain": [
       "5773"
      ]
     },
     "execution_count": 146,
     "metadata": {},
     "output_type": "execute_result"
    }
   ],
   "source": [
    "#merge with close and acquire date\n",
    "org_closed_df_v1 = pd.merge(org_closed_df,\n",
    "                           org_ori_df[['closed_on','acquired_on']],\n",
    "                           on='org_uuid',\n",
    "                           how='left')\n",
    "len(org_closed_df_v1)"
   ]
  },
  {
   "cell_type": "code",
   "execution_count": 147,
   "id": "limited-toner",
   "metadata": {},
   "outputs": [
    {
     "data": {
      "text/html": [
       "<div>\n",
       "<style scoped>\n",
       "    .dataframe tbody tr th:only-of-type {\n",
       "        vertical-align: middle;\n",
       "    }\n",
       "\n",
       "    .dataframe tbody tr th {\n",
       "        vertical-align: top;\n",
       "    }\n",
       "\n",
       "    .dataframe thead th {\n",
       "        text-align: right;\n",
       "    }\n",
       "</style>\n",
       "<table border=\"1\" class=\"dataframe\">\n",
       "  <thead>\n",
       "    <tr style=\"text-align: right;\">\n",
       "      <th></th>\n",
       "      <th>org_uuid</th>\n",
       "      <th>name</th>\n",
       "      <th>status</th>\n",
       "      <th>founded_on</th>\n",
       "      <th>seed_date</th>\n",
       "      <th>series_a_date</th>\n",
       "      <th>first_fund_date</th>\n",
       "      <th>founded_to_first_fund_years</th>\n",
       "      <th>series_b_date</th>\n",
       "      <th>series_c_date</th>\n",
       "      <th>num_funding_rounds</th>\n",
       "      <th>acquired_on_x</th>\n",
       "      <th>first_fund_to_acquired_years</th>\n",
       "      <th>went_public_on</th>\n",
       "      <th>first_fund_to_ipo_years</th>\n",
       "      <th>closed_on</th>\n",
       "      <th>acquired_on_y</th>\n",
       "    </tr>\n",
       "  </thead>\n",
       "  <tbody>\n",
       "    <tr>\n",
       "      <th>0</th>\n",
       "      <td>2c640b60-6594-25ca-7d04-6d0e5ed4964d</td>\n",
       "      <td>Riot Entertainment</td>\n",
       "      <td>closed</td>\n",
       "      <td>2000-02-01</td>\n",
       "      <td>NaT</td>\n",
       "      <td>2000-02-01</td>\n",
       "      <td>2000-02-01</td>\n",
       "      <td>0.0</td>\n",
       "      <td>2000-10-13</td>\n",
       "      <td>NaT</td>\n",
       "      <td>2.0</td>\n",
       "      <td>NaT</td>\n",
       "      <td>NaN</td>\n",
       "      <td>NaT</td>\n",
       "      <td>NaN</td>\n",
       "      <td>NaT</td>\n",
       "      <td>NaT</td>\n",
       "    </tr>\n",
       "    <tr>\n",
       "      <th>1</th>\n",
       "      <td>3a9f4866-24fa-e703-ebdd-337f8a0b2c67</td>\n",
       "      <td>Corrent Corp.</td>\n",
       "      <td>closed</td>\n",
       "      <td>2000-08-01</td>\n",
       "      <td>NaT</td>\n",
       "      <td>2000-12-01</td>\n",
       "      <td>2000-12-01</td>\n",
       "      <td>0.3</td>\n",
       "      <td>2001-01-01</td>\n",
       "      <td>2002-02-14</td>\n",
       "      <td>3.0</td>\n",
       "      <td>NaT</td>\n",
       "      <td>NaN</td>\n",
       "      <td>NaT</td>\n",
       "      <td>NaN</td>\n",
       "      <td>NaT</td>\n",
       "      <td>NaT</td>\n",
       "    </tr>\n",
       "    <tr>\n",
       "      <th>2</th>\n",
       "      <td>eb37f7c8-c036-a915-bb7c-63f445330f66</td>\n",
       "      <td>Ceyba</td>\n",
       "      <td>closed</td>\n",
       "      <td>2000-05-01</td>\n",
       "      <td>NaT</td>\n",
       "      <td>2000-06-26</td>\n",
       "      <td>2000-06-26</td>\n",
       "      <td>0.2</td>\n",
       "      <td>2001-05-31</td>\n",
       "      <td>NaT</td>\n",
       "      <td>2.0</td>\n",
       "      <td>NaT</td>\n",
       "      <td>NaN</td>\n",
       "      <td>NaT</td>\n",
       "      <td>NaN</td>\n",
       "      <td>2003-08-05</td>\n",
       "      <td>NaT</td>\n",
       "    </tr>\n",
       "  </tbody>\n",
       "</table>\n",
       "</div>"
      ],
      "text/plain": [
       "                               org_uuid                name  status  \\\n",
       "0  2c640b60-6594-25ca-7d04-6d0e5ed4964d  Riot Entertainment  closed   \n",
       "1  3a9f4866-24fa-e703-ebdd-337f8a0b2c67       Corrent Corp.  closed   \n",
       "2  eb37f7c8-c036-a915-bb7c-63f445330f66               Ceyba  closed   \n",
       "\n",
       "  founded_on seed_date series_a_date first_fund_date  \\\n",
       "0 2000-02-01       NaT    2000-02-01      2000-02-01   \n",
       "1 2000-08-01       NaT    2000-12-01      2000-12-01   \n",
       "2 2000-05-01       NaT    2000-06-26      2000-06-26   \n",
       "\n",
       "   founded_to_first_fund_years series_b_date series_c_date  \\\n",
       "0                          0.0    2000-10-13           NaT   \n",
       "1                          0.3    2001-01-01    2002-02-14   \n",
       "2                          0.2    2001-05-31           NaT   \n",
       "\n",
       "   num_funding_rounds acquired_on_x  first_fund_to_acquired_years  \\\n",
       "0                 2.0           NaT                           NaN   \n",
       "1                 3.0           NaT                           NaN   \n",
       "2                 2.0           NaT                           NaN   \n",
       "\n",
       "  went_public_on  first_fund_to_ipo_years  closed_on acquired_on_y  \n",
       "0            NaT                      NaN        NaT           NaT  \n",
       "1            NaT                      NaN        NaT           NaT  \n",
       "2            NaT                      NaN 2003-08-05           NaT  "
      ]
     },
     "execution_count": 147,
     "metadata": {},
     "output_type": "execute_result"
    }
   ],
   "source": [
    "org_closed_df_v1.head(3)"
   ]
  },
  {
   "cell_type": "code",
   "execution_count": 148,
   "id": "looking-satellite",
   "metadata": {},
   "outputs": [
    {
     "data": {
      "text/plain": [
       "400"
      ]
     },
     "execution_count": 148,
     "metadata": {},
     "output_type": "execute_result"
    }
   ],
   "source": [
    "#get acquired companies from companies label as close. The companies are closed after acquired\n",
    "org_acquired_df_v4 = org_closed_df_v1[org_closed_df_v1['acquired_on_y'].notna()]\n",
    "len(org_acquired_df_v4)"
   ]
  },
  {
   "cell_type": "code",
   "execution_count": 149,
   "id": "animated-pierre",
   "metadata": {},
   "outputs": [
    {
     "name": "stderr",
     "output_type": "stream",
     "text": [
      "C:\\Users\\Abdul Rahim Ab Ghani\\miniconda3\\lib\\site-packages\\ipykernel_launcher.py:2: SettingWithCopyWarning: \n",
      "A value is trying to be set on a copy of a slice from a DataFrame.\n",
      "Try using .loc[row_indexer,col_indexer] = value instead\n",
      "\n",
      "See the caveats in the documentation: https://pandas.pydata.org/pandas-docs/stable/user_guide/indexing.html#returning-a-view-versus-a-copy\n",
      "  \n"
     ]
    }
   ],
   "source": [
    "#change the status to acquired\n",
    "org_acquired_df_v4['status'] = 'acquired'"
   ]
  },
  {
   "cell_type": "code",
   "execution_count": 150,
   "id": "leading-astrology",
   "metadata": {},
   "outputs": [
    {
     "data": {
      "text/html": [
       "<div>\n",
       "<style scoped>\n",
       "    .dataframe tbody tr th:only-of-type {\n",
       "        vertical-align: middle;\n",
       "    }\n",
       "\n",
       "    .dataframe tbody tr th {\n",
       "        vertical-align: top;\n",
       "    }\n",
       "\n",
       "    .dataframe thead th {\n",
       "        text-align: right;\n",
       "    }\n",
       "</style>\n",
       "<table border=\"1\" class=\"dataframe\">\n",
       "  <thead>\n",
       "    <tr style=\"text-align: right;\">\n",
       "      <th></th>\n",
       "      <th>org_uuid</th>\n",
       "      <th>name</th>\n",
       "      <th>status</th>\n",
       "      <th>founded_on</th>\n",
       "      <th>seed_date</th>\n",
       "      <th>series_a_date</th>\n",
       "      <th>first_fund_date</th>\n",
       "      <th>founded_to_first_fund_years</th>\n",
       "      <th>series_b_date</th>\n",
       "      <th>series_c_date</th>\n",
       "      <th>num_funding_rounds</th>\n",
       "      <th>acquired_on_x</th>\n",
       "      <th>first_fund_to_acquired_years</th>\n",
       "      <th>went_public_on</th>\n",
       "      <th>first_fund_to_ipo_years</th>\n",
       "      <th>closed_on</th>\n",
       "      <th>acquired_on_y</th>\n",
       "    </tr>\n",
       "  </thead>\n",
       "  <tbody>\n",
       "    <tr>\n",
       "      <th>9</th>\n",
       "      <td>9dc17185-743d-5fbc-f03b-ad0c81c8795d</td>\n",
       "      <td>Airgo Networks</td>\n",
       "      <td>acquired</td>\n",
       "      <td>2000-05-01</td>\n",
       "      <td>NaT</td>\n",
       "      <td>2000-12-01</td>\n",
       "      <td>2000-12-01</td>\n",
       "      <td>0.6</td>\n",
       "      <td>2002-02-19</td>\n",
       "      <td>2003-05-01</td>\n",
       "      <td>6.0</td>\n",
       "      <td>NaT</td>\n",
       "      <td>NaN</td>\n",
       "      <td>NaT</td>\n",
       "      <td>NaN</td>\n",
       "      <td>NaT</td>\n",
       "      <td>2006-12-04</td>\n",
       "    </tr>\n",
       "    <tr>\n",
       "      <th>12</th>\n",
       "      <td>9c8adac6-5c8e-9344-b763-6beab966c63c</td>\n",
       "      <td>Nauticus Networks</td>\n",
       "      <td>acquired</td>\n",
       "      <td>2000-10-01</td>\n",
       "      <td>NaT</td>\n",
       "      <td>2001-02-12</td>\n",
       "      <td>2001-02-12</td>\n",
       "      <td>0.4</td>\n",
       "      <td>2002-06-12</td>\n",
       "      <td>NaT</td>\n",
       "      <td>2.0</td>\n",
       "      <td>NaT</td>\n",
       "      <td>NaN</td>\n",
       "      <td>NaT</td>\n",
       "      <td>NaN</td>\n",
       "      <td>2004-01-01</td>\n",
       "      <td>2004-01-21</td>\n",
       "    </tr>\n",
       "    <tr>\n",
       "      <th>20</th>\n",
       "      <td>6749cc07-efed-ff09-4efe-43faf6f580de</td>\n",
       "      <td>BioProcessors</td>\n",
       "      <td>acquired</td>\n",
       "      <td>2000-10-01</td>\n",
       "      <td>NaT</td>\n",
       "      <td>2002-02-01</td>\n",
       "      <td>2002-02-01</td>\n",
       "      <td>1.3</td>\n",
       "      <td>2003-07-11</td>\n",
       "      <td>2006-06-13</td>\n",
       "      <td>5.0</td>\n",
       "      <td>NaT</td>\n",
       "      <td>NaN</td>\n",
       "      <td>NaT</td>\n",
       "      <td>NaN</td>\n",
       "      <td>NaT</td>\n",
       "      <td>2009-03-10</td>\n",
       "    </tr>\n",
       "  </tbody>\n",
       "</table>\n",
       "</div>"
      ],
      "text/plain": [
       "                                org_uuid               name    status  \\\n",
       "9   9dc17185-743d-5fbc-f03b-ad0c81c8795d     Airgo Networks  acquired   \n",
       "12  9c8adac6-5c8e-9344-b763-6beab966c63c  Nauticus Networks  acquired   \n",
       "20  6749cc07-efed-ff09-4efe-43faf6f580de      BioProcessors  acquired   \n",
       "\n",
       "   founded_on seed_date series_a_date first_fund_date  \\\n",
       "9  2000-05-01       NaT    2000-12-01      2000-12-01   \n",
       "12 2000-10-01       NaT    2001-02-12      2001-02-12   \n",
       "20 2000-10-01       NaT    2002-02-01      2002-02-01   \n",
       "\n",
       "    founded_to_first_fund_years series_b_date series_c_date  \\\n",
       "9                           0.6    2002-02-19    2003-05-01   \n",
       "12                          0.4    2002-06-12           NaT   \n",
       "20                          1.3    2003-07-11    2006-06-13   \n",
       "\n",
       "    num_funding_rounds acquired_on_x  first_fund_to_acquired_years  \\\n",
       "9                  6.0           NaT                           NaN   \n",
       "12                 2.0           NaT                           NaN   \n",
       "20                 5.0           NaT                           NaN   \n",
       "\n",
       "   went_public_on  first_fund_to_ipo_years  closed_on acquired_on_y  \n",
       "9             NaT                      NaN        NaT    2006-12-04  \n",
       "12            NaT                      NaN 2004-01-01    2004-01-21  \n",
       "20            NaT                      NaN        NaT    2009-03-10  "
      ]
     },
     "execution_count": 150,
     "metadata": {},
     "output_type": "execute_result"
    }
   ],
   "source": [
    "org_acquired_df_v4.head(3)"
   ]
  },
  {
   "cell_type": "code",
   "execution_count": 155,
   "id": "invalid-composite",
   "metadata": {},
   "outputs": [
    {
     "name": "stderr",
     "output_type": "stream",
     "text": [
      "C:\\Users\\Abdul Rahim Ab Ghani\\miniconda3\\lib\\site-packages\\ipykernel_launcher.py:2: SettingWithCopyWarning: \n",
      "A value is trying to be set on a copy of a slice from a DataFrame.\n",
      "Try using .loc[row_indexer,col_indexer] = value instead\n",
      "\n",
      "See the caveats in the documentation: https://pandas.pydata.org/pandas-docs/stable/user_guide/indexing.html#returning-a-view-versus-a-copy\n",
      "  \n"
     ]
    },
    {
     "data": {
      "text/plain": [
       "395"
      ]
     },
     "execution_count": 155,
     "metadata": {},
     "output_type": "execute_result"
    }
   ],
   "source": [
    "#calculate the duration from founded to acquisition and drop inconsistent data\n",
    "org_acquired_df_v4['first_fund_to_acquired_years'] = ((org_acquired_df_v4['acquired_on_y'] - org_acquired_df_v4['first_fund_date']).dt.days/365).astype(float).round(1)\n",
    "\n",
    "#drop company with acquire date before founded date\n",
    "mask = org_acquired_df_v4['first_fund_to_acquired_years'] > 0\n",
    "org_acquired_df_v5 = org_acquired_df_v4[mask]\n",
    "len(org_acquired_df_v5)"
   ]
  },
  {
   "cell_type": "code",
   "execution_count": 156,
   "id": "south-petroleum",
   "metadata": {},
   "outputs": [
    {
     "data": {
      "text/html": [
       "<div>\n",
       "<style scoped>\n",
       "    .dataframe tbody tr th:only-of-type {\n",
       "        vertical-align: middle;\n",
       "    }\n",
       "\n",
       "    .dataframe tbody tr th {\n",
       "        vertical-align: top;\n",
       "    }\n",
       "\n",
       "    .dataframe thead th {\n",
       "        text-align: right;\n",
       "    }\n",
       "</style>\n",
       "<table border=\"1\" class=\"dataframe\">\n",
       "  <thead>\n",
       "    <tr style=\"text-align: right;\">\n",
       "      <th></th>\n",
       "      <th>org_uuid</th>\n",
       "      <th>name</th>\n",
       "      <th>status</th>\n",
       "      <th>founded_on</th>\n",
       "      <th>seed_date</th>\n",
       "      <th>series_a_date</th>\n",
       "      <th>first_fund_date</th>\n",
       "      <th>founded_to_first_fund_years</th>\n",
       "      <th>series_b_date</th>\n",
       "      <th>series_c_date</th>\n",
       "      <th>num_funding_rounds</th>\n",
       "      <th>acquired_on_x</th>\n",
       "      <th>first_fund_to_acquired_years</th>\n",
       "      <th>went_public_on</th>\n",
       "      <th>first_fund_to_ipo_years</th>\n",
       "      <th>closed_on</th>\n",
       "      <th>acquired_on_y</th>\n",
       "    </tr>\n",
       "  </thead>\n",
       "  <tbody>\n",
       "    <tr>\n",
       "      <th>9</th>\n",
       "      <td>9dc17185-743d-5fbc-f03b-ad0c81c8795d</td>\n",
       "      <td>Airgo Networks</td>\n",
       "      <td>acquired</td>\n",
       "      <td>2000-05-01</td>\n",
       "      <td>NaT</td>\n",
       "      <td>2000-12-01</td>\n",
       "      <td>2000-12-01</td>\n",
       "      <td>0.6</td>\n",
       "      <td>2002-02-19</td>\n",
       "      <td>2003-05-01</td>\n",
       "      <td>6.0</td>\n",
       "      <td>NaT</td>\n",
       "      <td>6.0</td>\n",
       "      <td>NaT</td>\n",
       "      <td>NaN</td>\n",
       "      <td>NaT</td>\n",
       "      <td>2006-12-04</td>\n",
       "    </tr>\n",
       "    <tr>\n",
       "      <th>12</th>\n",
       "      <td>9c8adac6-5c8e-9344-b763-6beab966c63c</td>\n",
       "      <td>Nauticus Networks</td>\n",
       "      <td>acquired</td>\n",
       "      <td>2000-10-01</td>\n",
       "      <td>NaT</td>\n",
       "      <td>2001-02-12</td>\n",
       "      <td>2001-02-12</td>\n",
       "      <td>0.4</td>\n",
       "      <td>2002-06-12</td>\n",
       "      <td>NaT</td>\n",
       "      <td>2.0</td>\n",
       "      <td>NaT</td>\n",
       "      <td>2.9</td>\n",
       "      <td>NaT</td>\n",
       "      <td>NaN</td>\n",
       "      <td>2004-01-01</td>\n",
       "      <td>2004-01-21</td>\n",
       "    </tr>\n",
       "    <tr>\n",
       "      <th>20</th>\n",
       "      <td>6749cc07-efed-ff09-4efe-43faf6f580de</td>\n",
       "      <td>BioProcessors</td>\n",
       "      <td>acquired</td>\n",
       "      <td>2000-10-01</td>\n",
       "      <td>NaT</td>\n",
       "      <td>2002-02-01</td>\n",
       "      <td>2002-02-01</td>\n",
       "      <td>1.3</td>\n",
       "      <td>2003-07-11</td>\n",
       "      <td>2006-06-13</td>\n",
       "      <td>5.0</td>\n",
       "      <td>NaT</td>\n",
       "      <td>7.1</td>\n",
       "      <td>NaT</td>\n",
       "      <td>NaN</td>\n",
       "      <td>NaT</td>\n",
       "      <td>2009-03-10</td>\n",
       "    </tr>\n",
       "  </tbody>\n",
       "</table>\n",
       "</div>"
      ],
      "text/plain": [
       "                                org_uuid               name    status  \\\n",
       "9   9dc17185-743d-5fbc-f03b-ad0c81c8795d     Airgo Networks  acquired   \n",
       "12  9c8adac6-5c8e-9344-b763-6beab966c63c  Nauticus Networks  acquired   \n",
       "20  6749cc07-efed-ff09-4efe-43faf6f580de      BioProcessors  acquired   \n",
       "\n",
       "   founded_on seed_date series_a_date first_fund_date  \\\n",
       "9  2000-05-01       NaT    2000-12-01      2000-12-01   \n",
       "12 2000-10-01       NaT    2001-02-12      2001-02-12   \n",
       "20 2000-10-01       NaT    2002-02-01      2002-02-01   \n",
       "\n",
       "    founded_to_first_fund_years series_b_date series_c_date  \\\n",
       "9                           0.6    2002-02-19    2003-05-01   \n",
       "12                          0.4    2002-06-12           NaT   \n",
       "20                          1.3    2003-07-11    2006-06-13   \n",
       "\n",
       "    num_funding_rounds acquired_on_x  first_fund_to_acquired_years  \\\n",
       "9                  6.0           NaT                           6.0   \n",
       "12                 2.0           NaT                           2.9   \n",
       "20                 5.0           NaT                           7.1   \n",
       "\n",
       "   went_public_on  first_fund_to_ipo_years  closed_on acquired_on_y  \n",
       "9             NaT                      NaN        NaT    2006-12-04  \n",
       "12            NaT                      NaN 2004-01-01    2004-01-21  \n",
       "20            NaT                      NaN        NaT    2009-03-10  "
      ]
     },
     "execution_count": 156,
     "metadata": {},
     "output_type": "execute_result"
    }
   ],
   "source": [
    "org_acquired_df_v5.head(3)"
   ]
  },
  {
   "cell_type": "code",
   "execution_count": 157,
   "id": "laden-mobility",
   "metadata": {},
   "outputs": [
    {
     "name": "stderr",
     "output_type": "stream",
     "text": [
      "C:\\Users\\Abdul Rahim Ab Ghani\\miniconda3\\lib\\site-packages\\pandas\\core\\frame.py:4315: SettingWithCopyWarning: \n",
      "A value is trying to be set on a copy of a slice from a DataFrame\n",
      "\n",
      "See the caveats in the documentation: https://pandas.pydata.org/pandas-docs/stable/user_guide/indexing.html#returning-a-view-versus-a-copy\n",
      "  errors=errors,\n",
      "C:\\Users\\Abdul Rahim Ab Ghani\\miniconda3\\lib\\site-packages\\pandas\\core\\frame.py:4449: SettingWithCopyWarning: \n",
      "A value is trying to be set on a copy of a slice from a DataFrame\n",
      "\n",
      "See the caveats in the documentation: https://pandas.pydata.org/pandas-docs/stable/user_guide/indexing.html#returning-a-view-versus-a-copy\n",
      "  errors=errors,\n"
     ]
    },
    {
     "data": {
      "text/html": [
       "<div>\n",
       "<style scoped>\n",
       "    .dataframe tbody tr th:only-of-type {\n",
       "        vertical-align: middle;\n",
       "    }\n",
       "\n",
       "    .dataframe tbody tr th {\n",
       "        vertical-align: top;\n",
       "    }\n",
       "\n",
       "    .dataframe thead th {\n",
       "        text-align: right;\n",
       "    }\n",
       "</style>\n",
       "<table border=\"1\" class=\"dataframe\">\n",
       "  <thead>\n",
       "    <tr style=\"text-align: right;\">\n",
       "      <th></th>\n",
       "      <th>org_uuid</th>\n",
       "      <th>name</th>\n",
       "      <th>status</th>\n",
       "      <th>founded_on</th>\n",
       "      <th>seed_date</th>\n",
       "      <th>series_a_date</th>\n",
       "      <th>first_fund_date</th>\n",
       "      <th>founded_to_first_fund_years</th>\n",
       "      <th>series_b_date</th>\n",
       "      <th>series_c_date</th>\n",
       "      <th>num_funding_rounds</th>\n",
       "      <th>first_fund_to_acquired_years</th>\n",
       "      <th>went_public_on</th>\n",
       "      <th>first_fund_to_ipo_years</th>\n",
       "      <th>closed_on</th>\n",
       "      <th>acquired_on</th>\n",
       "    </tr>\n",
       "  </thead>\n",
       "  <tbody>\n",
       "    <tr>\n",
       "      <th>9</th>\n",
       "      <td>9dc17185-743d-5fbc-f03b-ad0c81c8795d</td>\n",
       "      <td>Airgo Networks</td>\n",
       "      <td>acquired</td>\n",
       "      <td>2000-05-01</td>\n",
       "      <td>NaT</td>\n",
       "      <td>2000-12-01</td>\n",
       "      <td>2000-12-01</td>\n",
       "      <td>0.6</td>\n",
       "      <td>2002-02-19</td>\n",
       "      <td>2003-05-01</td>\n",
       "      <td>6.0</td>\n",
       "      <td>6.0</td>\n",
       "      <td>NaT</td>\n",
       "      <td>NaN</td>\n",
       "      <td>NaT</td>\n",
       "      <td>2006-12-04</td>\n",
       "    </tr>\n",
       "    <tr>\n",
       "      <th>12</th>\n",
       "      <td>9c8adac6-5c8e-9344-b763-6beab966c63c</td>\n",
       "      <td>Nauticus Networks</td>\n",
       "      <td>acquired</td>\n",
       "      <td>2000-10-01</td>\n",
       "      <td>NaT</td>\n",
       "      <td>2001-02-12</td>\n",
       "      <td>2001-02-12</td>\n",
       "      <td>0.4</td>\n",
       "      <td>2002-06-12</td>\n",
       "      <td>NaT</td>\n",
       "      <td>2.0</td>\n",
       "      <td>2.9</td>\n",
       "      <td>NaT</td>\n",
       "      <td>NaN</td>\n",
       "      <td>2004-01-01</td>\n",
       "      <td>2004-01-21</td>\n",
       "    </tr>\n",
       "    <tr>\n",
       "      <th>20</th>\n",
       "      <td>6749cc07-efed-ff09-4efe-43faf6f580de</td>\n",
       "      <td>BioProcessors</td>\n",
       "      <td>acquired</td>\n",
       "      <td>2000-10-01</td>\n",
       "      <td>NaT</td>\n",
       "      <td>2002-02-01</td>\n",
       "      <td>2002-02-01</td>\n",
       "      <td>1.3</td>\n",
       "      <td>2003-07-11</td>\n",
       "      <td>2006-06-13</td>\n",
       "      <td>5.0</td>\n",
       "      <td>7.1</td>\n",
       "      <td>NaT</td>\n",
       "      <td>NaN</td>\n",
       "      <td>NaT</td>\n",
       "      <td>2009-03-10</td>\n",
       "    </tr>\n",
       "  </tbody>\n",
       "</table>\n",
       "</div>"
      ],
      "text/plain": [
       "                                org_uuid               name    status  \\\n",
       "9   9dc17185-743d-5fbc-f03b-ad0c81c8795d     Airgo Networks  acquired   \n",
       "12  9c8adac6-5c8e-9344-b763-6beab966c63c  Nauticus Networks  acquired   \n",
       "20  6749cc07-efed-ff09-4efe-43faf6f580de      BioProcessors  acquired   \n",
       "\n",
       "   founded_on seed_date series_a_date first_fund_date  \\\n",
       "9  2000-05-01       NaT    2000-12-01      2000-12-01   \n",
       "12 2000-10-01       NaT    2001-02-12      2001-02-12   \n",
       "20 2000-10-01       NaT    2002-02-01      2002-02-01   \n",
       "\n",
       "    founded_to_first_fund_years series_b_date series_c_date  \\\n",
       "9                           0.6    2002-02-19    2003-05-01   \n",
       "12                          0.4    2002-06-12           NaT   \n",
       "20                          1.3    2003-07-11    2006-06-13   \n",
       "\n",
       "    num_funding_rounds  first_fund_to_acquired_years went_public_on  \\\n",
       "9                  6.0                           6.0            NaT   \n",
       "12                 2.0                           2.9            NaT   \n",
       "20                 5.0                           7.1            NaT   \n",
       "\n",
       "    first_fund_to_ipo_years  closed_on acquired_on  \n",
       "9                       NaN        NaT  2006-12-04  \n",
       "12                      NaN 2004-01-01  2004-01-21  \n",
       "20                      NaN        NaT  2009-03-10  "
      ]
     },
     "execution_count": 157,
     "metadata": {},
     "output_type": "execute_result"
    }
   ],
   "source": [
    "#modified column to make it consistent with main processing file\n",
    "org_acquired_df_v5.drop(columns=['acquired_on_x'],inplace=True)\n",
    "org_acquired_df_v5.rename(columns={'acquired_on_y':'acquired_on'},inplace=True)\n",
    "org_acquired_df_v5.head(3)"
   ]
  },
  {
   "cell_type": "code",
   "execution_count": 158,
   "id": "speaking-baghdad",
   "metadata": {},
   "outputs": [
    {
     "name": "stderr",
     "output_type": "stream",
     "text": [
      "C:\\Users\\Abdul Rahim Ab Ghani\\miniconda3\\lib\\site-packages\\ipykernel_launcher.py:3: UserWarning: Boolean Series key will be reindexed to match DataFrame index.\n",
      "  This is separate from the ipykernel package so we can avoid doing imports until\n"
     ]
    },
    {
     "data": {
      "text/plain": [
       "73424"
      ]
     },
     "execution_count": 158,
     "metadata": {},
     "output_type": "execute_result"
    }
   ],
   "source": [
    "#merge with main processing df\n",
    "org_processing_df_v12 = pd.concat([org_acquired_df_v5,\n",
    "                                  org_processing_df_v11[org_processing_df_v6['status'] != 'closed']],\n",
    "                                 axis ='index',\n",
    "                                 ignore_index=True)\n",
    "len(org_processing_df_v12)"
   ]
  },
  {
   "cell_type": "code",
   "execution_count": 159,
   "id": "fallen-local",
   "metadata": {},
   "outputs": [
    {
     "data": {
      "text/html": [
       "<div>\n",
       "<style scoped>\n",
       "    .dataframe tbody tr th:only-of-type {\n",
       "        vertical-align: middle;\n",
       "    }\n",
       "\n",
       "    .dataframe tbody tr th {\n",
       "        vertical-align: top;\n",
       "    }\n",
       "\n",
       "    .dataframe thead th {\n",
       "        text-align: right;\n",
       "    }\n",
       "</style>\n",
       "<table border=\"1\" class=\"dataframe\">\n",
       "  <thead>\n",
       "    <tr style=\"text-align: right;\">\n",
       "      <th></th>\n",
       "      <th>org_uuid</th>\n",
       "      <th>name</th>\n",
       "      <th>status</th>\n",
       "      <th>founded_on</th>\n",
       "      <th>seed_date</th>\n",
       "      <th>series_a_date</th>\n",
       "      <th>first_fund_date</th>\n",
       "      <th>founded_to_first_fund_years</th>\n",
       "      <th>series_b_date</th>\n",
       "      <th>series_c_date</th>\n",
       "      <th>num_funding_rounds</th>\n",
       "      <th>first_fund_to_acquired_years</th>\n",
       "      <th>went_public_on</th>\n",
       "      <th>first_fund_to_ipo_years</th>\n",
       "      <th>closed_on</th>\n",
       "      <th>acquired_on</th>\n",
       "    </tr>\n",
       "  </thead>\n",
       "  <tbody>\n",
       "    <tr>\n",
       "      <th>0</th>\n",
       "      <td>9dc17185-743d-5fbc-f03b-ad0c81c8795d</td>\n",
       "      <td>Airgo Networks</td>\n",
       "      <td>acquired</td>\n",
       "      <td>2000-05-01</td>\n",
       "      <td>NaT</td>\n",
       "      <td>2000-12-01</td>\n",
       "      <td>2000-12-01</td>\n",
       "      <td>0.6</td>\n",
       "      <td>2002-02-19</td>\n",
       "      <td>2003-05-01</td>\n",
       "      <td>6.0</td>\n",
       "      <td>6.0</td>\n",
       "      <td>NaT</td>\n",
       "      <td>NaN</td>\n",
       "      <td>NaT</td>\n",
       "      <td>2006-12-04</td>\n",
       "    </tr>\n",
       "    <tr>\n",
       "      <th>1</th>\n",
       "      <td>9c8adac6-5c8e-9344-b763-6beab966c63c</td>\n",
       "      <td>Nauticus Networks</td>\n",
       "      <td>acquired</td>\n",
       "      <td>2000-10-01</td>\n",
       "      <td>NaT</td>\n",
       "      <td>2001-02-12</td>\n",
       "      <td>2001-02-12</td>\n",
       "      <td>0.4</td>\n",
       "      <td>2002-06-12</td>\n",
       "      <td>NaT</td>\n",
       "      <td>2.0</td>\n",
       "      <td>2.9</td>\n",
       "      <td>NaT</td>\n",
       "      <td>NaN</td>\n",
       "      <td>2004-01-01</td>\n",
       "      <td>2004-01-21</td>\n",
       "    </tr>\n",
       "    <tr>\n",
       "      <th>2</th>\n",
       "      <td>6749cc07-efed-ff09-4efe-43faf6f580de</td>\n",
       "      <td>BioProcessors</td>\n",
       "      <td>acquired</td>\n",
       "      <td>2000-10-01</td>\n",
       "      <td>NaT</td>\n",
       "      <td>2002-02-01</td>\n",
       "      <td>2002-02-01</td>\n",
       "      <td>1.3</td>\n",
       "      <td>2003-07-11</td>\n",
       "      <td>2006-06-13</td>\n",
       "      <td>5.0</td>\n",
       "      <td>7.1</td>\n",
       "      <td>NaT</td>\n",
       "      <td>NaN</td>\n",
       "      <td>NaT</td>\n",
       "      <td>2009-03-10</td>\n",
       "    </tr>\n",
       "  </tbody>\n",
       "</table>\n",
       "</div>"
      ],
      "text/plain": [
       "                               org_uuid               name    status  \\\n",
       "0  9dc17185-743d-5fbc-f03b-ad0c81c8795d     Airgo Networks  acquired   \n",
       "1  9c8adac6-5c8e-9344-b763-6beab966c63c  Nauticus Networks  acquired   \n",
       "2  6749cc07-efed-ff09-4efe-43faf6f580de      BioProcessors  acquired   \n",
       "\n",
       "  founded_on seed_date series_a_date first_fund_date  \\\n",
       "0 2000-05-01       NaT    2000-12-01      2000-12-01   \n",
       "1 2000-10-01       NaT    2001-02-12      2001-02-12   \n",
       "2 2000-10-01       NaT    2002-02-01      2002-02-01   \n",
       "\n",
       "   founded_to_first_fund_years series_b_date series_c_date  \\\n",
       "0                          0.6    2002-02-19    2003-05-01   \n",
       "1                          0.4    2002-06-12           NaT   \n",
       "2                          1.3    2003-07-11    2006-06-13   \n",
       "\n",
       "   num_funding_rounds  first_fund_to_acquired_years went_public_on  \\\n",
       "0                 6.0                           6.0            NaT   \n",
       "1                 2.0                           2.9            NaT   \n",
       "2                 5.0                           7.1            NaT   \n",
       "\n",
       "   first_fund_to_ipo_years  closed_on acquired_on  \n",
       "0                      NaN        NaT  2006-12-04  \n",
       "1                      NaN 2004-01-01  2004-01-21  \n",
       "2                      NaN        NaT  2009-03-10  "
      ]
     },
     "execution_count": 159,
     "metadata": {},
     "output_type": "execute_result"
    }
   ],
   "source": [
    "org_processing_df_v12.head(3)"
   ]
  },
  {
   "cell_type": "code",
   "execution_count": 161,
   "id": "foreign-assets",
   "metadata": {},
   "outputs": [
    {
     "data": {
      "text/plain": [
       "5373"
      ]
     },
     "execution_count": 161,
     "metadata": {},
     "output_type": "execute_result"
    }
   ],
   "source": [
    "#get companies which are closed and not acquired\n",
    "org_closed_df_v2 = org_closed_df_v1[org_closed_df_v1['acquired_on_y'].isna()]\n",
    "len(org_closed_df_v2)"
   ]
  },
  {
   "cell_type": "code",
   "execution_count": 169,
   "id": "designed-wallpaper",
   "metadata": {},
   "outputs": [
    {
     "data": {
      "text/plain": [
       "5373"
      ]
     },
     "execution_count": 169,
     "metadata": {},
     "output_type": "execute_result"
    }
   ],
   "source": [
    "#drop companies with no close date (optional)\n",
    "org_closed_df_v3 = org_closed_df_v2 #.dropna(subset=['closed_on'])\n",
    "len(org_closed_df_v3)"
   ]
  },
  {
   "cell_type": "code",
   "execution_count": 170,
   "id": "representative-channel",
   "metadata": {},
   "outputs": [
    {
     "name": "stderr",
     "output_type": "stream",
     "text": [
      "C:\\Users\\Abdul Rahim Ab Ghani\\miniconda3\\lib\\site-packages\\ipykernel_launcher.py:2: SettingWithCopyWarning: \n",
      "A value is trying to be set on a copy of a slice from a DataFrame.\n",
      "Try using .loc[row_indexer,col_indexer] = value instead\n",
      "\n",
      "See the caveats in the documentation: https://pandas.pydata.org/pandas-docs/stable/user_guide/indexing.html#returning-a-view-versus-a-copy\n",
      "  \n"
     ]
    },
    {
     "data": {
      "text/plain": [
       "3491"
      ]
     },
     "execution_count": 170,
     "metadata": {},
     "output_type": "execute_result"
    }
   ],
   "source": [
    "#calculate duration from first fund to close and drop companies with inconsistent data\n",
    "org_closed_df_v3['first_fund_to_close_years'] = ((org_closed_df_v3['closed_on'] - org_closed_df_v3['first_fund_date']).dt.days/365).astype(float).round(1)\n",
    "\n",
    "mask = org_closed_df_v3['first_fund_to_close_years'] > 0\n",
    "org_closed_df_v4 = org_closed_df_v3[mask]\n",
    "len(org_closed_df_v4)"
   ]
  },
  {
   "cell_type": "code",
   "execution_count": 173,
   "id": "prerequisite-aberdeen",
   "metadata": {},
   "outputs": [
    {
     "data": {
      "text/html": [
       "<div>\n",
       "<style scoped>\n",
       "    .dataframe tbody tr th:only-of-type {\n",
       "        vertical-align: middle;\n",
       "    }\n",
       "\n",
       "    .dataframe tbody tr th {\n",
       "        vertical-align: top;\n",
       "    }\n",
       "\n",
       "    .dataframe thead th {\n",
       "        text-align: right;\n",
       "    }\n",
       "</style>\n",
       "<table border=\"1\" class=\"dataframe\">\n",
       "  <thead>\n",
       "    <tr style=\"text-align: right;\">\n",
       "      <th></th>\n",
       "      <th>org_uuid</th>\n",
       "      <th>name</th>\n",
       "      <th>status</th>\n",
       "      <th>founded_on</th>\n",
       "      <th>seed_date</th>\n",
       "      <th>series_a_date</th>\n",
       "      <th>first_fund_date</th>\n",
       "      <th>founded_to_first_fund_years</th>\n",
       "      <th>series_b_date</th>\n",
       "      <th>series_c_date</th>\n",
       "      <th>num_funding_rounds</th>\n",
       "      <th>acquired_on_x</th>\n",
       "      <th>first_fund_to_acquired_years</th>\n",
       "      <th>went_public_on</th>\n",
       "      <th>first_fund_to_ipo_years</th>\n",
       "      <th>closed_on</th>\n",
       "      <th>acquired_on_y</th>\n",
       "    </tr>\n",
       "  </thead>\n",
       "  <tbody>\n",
       "    <tr>\n",
       "      <th>9</th>\n",
       "      <td>9dc17185-743d-5fbc-f03b-ad0c81c8795d</td>\n",
       "      <td>Airgo Networks</td>\n",
       "      <td>acquired</td>\n",
       "      <td>2000-05-01</td>\n",
       "      <td>NaT</td>\n",
       "      <td>2000-12-01</td>\n",
       "      <td>2000-12-01</td>\n",
       "      <td>0.6</td>\n",
       "      <td>2002-02-19</td>\n",
       "      <td>2003-05-01</td>\n",
       "      <td>6.0</td>\n",
       "      <td>NaT</td>\n",
       "      <td>6.0</td>\n",
       "      <td>NaT</td>\n",
       "      <td>NaN</td>\n",
       "      <td>NaT</td>\n",
       "      <td>2006-12-04</td>\n",
       "    </tr>\n",
       "    <tr>\n",
       "      <th>12</th>\n",
       "      <td>9c8adac6-5c8e-9344-b763-6beab966c63c</td>\n",
       "      <td>Nauticus Networks</td>\n",
       "      <td>acquired</td>\n",
       "      <td>2000-10-01</td>\n",
       "      <td>NaT</td>\n",
       "      <td>2001-02-12</td>\n",
       "      <td>2001-02-12</td>\n",
       "      <td>0.4</td>\n",
       "      <td>2002-06-12</td>\n",
       "      <td>NaT</td>\n",
       "      <td>2.0</td>\n",
       "      <td>NaT</td>\n",
       "      <td>2.9</td>\n",
       "      <td>NaT</td>\n",
       "      <td>NaN</td>\n",
       "      <td>2004-01-01</td>\n",
       "      <td>2004-01-21</td>\n",
       "    </tr>\n",
       "    <tr>\n",
       "      <th>20</th>\n",
       "      <td>6749cc07-efed-ff09-4efe-43faf6f580de</td>\n",
       "      <td>BioProcessors</td>\n",
       "      <td>acquired</td>\n",
       "      <td>2000-10-01</td>\n",
       "      <td>NaT</td>\n",
       "      <td>2002-02-01</td>\n",
       "      <td>2002-02-01</td>\n",
       "      <td>1.3</td>\n",
       "      <td>2003-07-11</td>\n",
       "      <td>2006-06-13</td>\n",
       "      <td>5.0</td>\n",
       "      <td>NaT</td>\n",
       "      <td>7.1</td>\n",
       "      <td>NaT</td>\n",
       "      <td>NaN</td>\n",
       "      <td>NaT</td>\n",
       "      <td>2009-03-10</td>\n",
       "    </tr>\n",
       "  </tbody>\n",
       "</table>\n",
       "</div>"
      ],
      "text/plain": [
       "                                org_uuid               name    status  \\\n",
       "9   9dc17185-743d-5fbc-f03b-ad0c81c8795d     Airgo Networks  acquired   \n",
       "12  9c8adac6-5c8e-9344-b763-6beab966c63c  Nauticus Networks  acquired   \n",
       "20  6749cc07-efed-ff09-4efe-43faf6f580de      BioProcessors  acquired   \n",
       "\n",
       "   founded_on seed_date series_a_date first_fund_date  \\\n",
       "9  2000-05-01       NaT    2000-12-01      2000-12-01   \n",
       "12 2000-10-01       NaT    2001-02-12      2001-02-12   \n",
       "20 2000-10-01       NaT    2002-02-01      2002-02-01   \n",
       "\n",
       "    founded_to_first_fund_years series_b_date series_c_date  \\\n",
       "9                           0.6    2002-02-19    2003-05-01   \n",
       "12                          0.4    2002-06-12           NaT   \n",
       "20                          1.3    2003-07-11    2006-06-13   \n",
       "\n",
       "    num_funding_rounds acquired_on_x  first_fund_to_acquired_years  \\\n",
       "9                  6.0           NaT                           6.0   \n",
       "12                 2.0           NaT                           2.9   \n",
       "20                 5.0           NaT                           7.1   \n",
       "\n",
       "   went_public_on  first_fund_to_ipo_years  closed_on acquired_on_y  \n",
       "9             NaT                      NaN        NaT    2006-12-04  \n",
       "12            NaT                      NaN 2004-01-01    2004-01-21  \n",
       "20            NaT                      NaN        NaT    2009-03-10  "
      ]
     },
     "execution_count": 173,
     "metadata": {},
     "output_type": "execute_result"
    }
   ],
   "source": [
    "org_acquired_df_v4.head(3)"
   ]
  },
  {
   "cell_type": "code",
   "execution_count": 174,
   "id": "adolescent-waterproof",
   "metadata": {},
   "outputs": [
    {
     "name": "stderr",
     "output_type": "stream",
     "text": [
      "C:\\Users\\Abdul Rahim Ab Ghani\\miniconda3\\lib\\site-packages\\pandas\\core\\frame.py:4315: SettingWithCopyWarning: \n",
      "A value is trying to be set on a copy of a slice from a DataFrame\n",
      "\n",
      "See the caveats in the documentation: https://pandas.pydata.org/pandas-docs/stable/user_guide/indexing.html#returning-a-view-versus-a-copy\n",
      "  errors=errors,\n"
     ]
    }
   ],
   "source": [
    "#modified column to be consistent with main processing\n",
    "org_closed_df_v4.drop(columns=['acquired_on_x','acquired_on_y'],inplace=True)"
   ]
  },
  {
   "cell_type": "code",
   "execution_count": 175,
   "id": "matched-thread",
   "metadata": {},
   "outputs": [
    {
     "data": {
      "text/plain": [
       "76915"
      ]
     },
     "execution_count": 175,
     "metadata": {},
     "output_type": "execute_result"
    }
   ],
   "source": [
    "#merge closed companies with main data frame\n",
    "org_processing_df_v13 = pd.concat([org_closed_df_v4,\n",
    "                                  org_processing_df_v12],\n",
    "                                  axis=0,\n",
    "                                  ignore_index=True)\n",
    "len(org_processing_df_v13)"
   ]
  },
  {
   "cell_type": "code",
   "execution_count": 176,
   "id": "wooden-implementation",
   "metadata": {},
   "outputs": [
    {
     "data": {
      "text/html": [
       "<div>\n",
       "<style scoped>\n",
       "    .dataframe tbody tr th:only-of-type {\n",
       "        vertical-align: middle;\n",
       "    }\n",
       "\n",
       "    .dataframe tbody tr th {\n",
       "        vertical-align: top;\n",
       "    }\n",
       "\n",
       "    .dataframe thead th {\n",
       "        text-align: right;\n",
       "    }\n",
       "</style>\n",
       "<table border=\"1\" class=\"dataframe\">\n",
       "  <thead>\n",
       "    <tr style=\"text-align: right;\">\n",
       "      <th></th>\n",
       "      <th>org_uuid</th>\n",
       "      <th>name</th>\n",
       "      <th>status</th>\n",
       "      <th>founded_on</th>\n",
       "      <th>seed_date</th>\n",
       "      <th>series_a_date</th>\n",
       "      <th>first_fund_date</th>\n",
       "      <th>founded_to_first_fund_years</th>\n",
       "      <th>series_b_date</th>\n",
       "      <th>series_c_date</th>\n",
       "      <th>num_funding_rounds</th>\n",
       "      <th>first_fund_to_acquired_years</th>\n",
       "      <th>went_public_on</th>\n",
       "      <th>first_fund_to_ipo_years</th>\n",
       "      <th>closed_on</th>\n",
       "      <th>first_fund_to_close_years</th>\n",
       "      <th>acquired_on</th>\n",
       "    </tr>\n",
       "  </thead>\n",
       "  <tbody>\n",
       "    <tr>\n",
       "      <th>0</th>\n",
       "      <td>eb37f7c8-c036-a915-bb7c-63f445330f66</td>\n",
       "      <td>Ceyba</td>\n",
       "      <td>closed</td>\n",
       "      <td>2000-05-01</td>\n",
       "      <td>NaT</td>\n",
       "      <td>2000-06-26</td>\n",
       "      <td>2000-06-26</td>\n",
       "      <td>0.2</td>\n",
       "      <td>2001-05-31</td>\n",
       "      <td>NaT</td>\n",
       "      <td>2.0</td>\n",
       "      <td>NaN</td>\n",
       "      <td>NaT</td>\n",
       "      <td>NaN</td>\n",
       "      <td>2003-08-05</td>\n",
       "      <td>3.1</td>\n",
       "      <td>NaT</td>\n",
       "    </tr>\n",
       "    <tr>\n",
       "      <th>1</th>\n",
       "      <td>0a88fa0e-7abe-c4ac-ab69-877b01a9cb60</td>\n",
       "      <td>IceFyre Semiconductor</td>\n",
       "      <td>closed</td>\n",
       "      <td>2001-01-01</td>\n",
       "      <td>NaT</td>\n",
       "      <td>2001-03-12</td>\n",
       "      <td>2001-03-12</td>\n",
       "      <td>0.2</td>\n",
       "      <td>2001-08-08</td>\n",
       "      <td>2003-02-18</td>\n",
       "      <td>4.0</td>\n",
       "      <td>NaN</td>\n",
       "      <td>NaT</td>\n",
       "      <td>NaN</td>\n",
       "      <td>2005-05-01</td>\n",
       "      <td>4.1</td>\n",
       "      <td>NaT</td>\n",
       "    </tr>\n",
       "    <tr>\n",
       "      <th>2</th>\n",
       "      <td>de462c42-b0a5-c5af-9637-ec426b4e991f</td>\n",
       "      <td>ORMvision</td>\n",
       "      <td>closed</td>\n",
       "      <td>2000-12-01</td>\n",
       "      <td>NaT</td>\n",
       "      <td>2001-05-01</td>\n",
       "      <td>2001-05-01</td>\n",
       "      <td>0.4</td>\n",
       "      <td>2001-11-06</td>\n",
       "      <td>NaT</td>\n",
       "      <td>2.0</td>\n",
       "      <td>NaN</td>\n",
       "      <td>NaT</td>\n",
       "      <td>NaN</td>\n",
       "      <td>2007-01-01</td>\n",
       "      <td>5.7</td>\n",
       "      <td>NaT</td>\n",
       "    </tr>\n",
       "  </tbody>\n",
       "</table>\n",
       "</div>"
      ],
      "text/plain": [
       "                               org_uuid                   name  status  \\\n",
       "0  eb37f7c8-c036-a915-bb7c-63f445330f66                  Ceyba  closed   \n",
       "1  0a88fa0e-7abe-c4ac-ab69-877b01a9cb60  IceFyre Semiconductor  closed   \n",
       "2  de462c42-b0a5-c5af-9637-ec426b4e991f              ORMvision  closed   \n",
       "\n",
       "  founded_on seed_date series_a_date first_fund_date  \\\n",
       "0 2000-05-01       NaT    2000-06-26      2000-06-26   \n",
       "1 2001-01-01       NaT    2001-03-12      2001-03-12   \n",
       "2 2000-12-01       NaT    2001-05-01      2001-05-01   \n",
       "\n",
       "   founded_to_first_fund_years series_b_date series_c_date  \\\n",
       "0                          0.2    2001-05-31           NaT   \n",
       "1                          0.2    2001-08-08    2003-02-18   \n",
       "2                          0.4    2001-11-06           NaT   \n",
       "\n",
       "   num_funding_rounds  first_fund_to_acquired_years went_public_on  \\\n",
       "0                 2.0                           NaN            NaT   \n",
       "1                 4.0                           NaN            NaT   \n",
       "2                 2.0                           NaN            NaT   \n",
       "\n",
       "   first_fund_to_ipo_years  closed_on  first_fund_to_close_years acquired_on  \n",
       "0                      NaN 2003-08-05                        3.1         NaT  \n",
       "1                      NaN 2005-05-01                        4.1         NaT  \n",
       "2                      NaN 2007-01-01                        5.7         NaT  "
      ]
     },
     "execution_count": 176,
     "metadata": {},
     "output_type": "execute_result"
    }
   ],
   "source": [
    "org_processing_df_v13.head(3)"
   ]
  },
  {
   "cell_type": "code",
   "execution_count": 178,
   "id": "incomplete-butterfly",
   "metadata": {},
   "outputs": [
    {
     "data": {
      "text/html": [
       "<div>\n",
       "<style scoped>\n",
       "    .dataframe tbody tr th:only-of-type {\n",
       "        vertical-align: middle;\n",
       "    }\n",
       "\n",
       "    .dataframe tbody tr th {\n",
       "        vertical-align: top;\n",
       "    }\n",
       "\n",
       "    .dataframe thead th {\n",
       "        text-align: right;\n",
       "    }\n",
       "</style>\n",
       "<table border=\"1\" class=\"dataframe\">\n",
       "  <thead>\n",
       "    <tr style=\"text-align: right;\">\n",
       "      <th></th>\n",
       "      <th>org_uuid</th>\n",
       "      <th>name</th>\n",
       "      <th>status</th>\n",
       "      <th>founded_on</th>\n",
       "      <th>seed_date</th>\n",
       "      <th>series_a_date</th>\n",
       "      <th>first_fund_date</th>\n",
       "      <th>founded_to_first_fund_years</th>\n",
       "      <th>series_b_date</th>\n",
       "      <th>series_c_date</th>\n",
       "      <th>num_funding_rounds</th>\n",
       "      <th>first_fund_to_acquired_years</th>\n",
       "      <th>went_public_on</th>\n",
       "      <th>first_fund_to_ipo_years</th>\n",
       "      <th>closed_on</th>\n",
       "      <th>first_fund_to_close_years</th>\n",
       "      <th>acquired_on</th>\n",
       "      <th>first_fund_to_series_a_years</th>\n",
       "      <th>first_fund_to_series_b_years</th>\n",
       "      <th>first_fund_to_series_c_years</th>\n",
       "    </tr>\n",
       "  </thead>\n",
       "  <tbody>\n",
       "    <tr>\n",
       "      <th>0</th>\n",
       "      <td>eb37f7c8-c036-a915-bb7c-63f445330f66</td>\n",
       "      <td>Ceyba</td>\n",
       "      <td>closed</td>\n",
       "      <td>2000-05-01</td>\n",
       "      <td>NaT</td>\n",
       "      <td>2000-06-26</td>\n",
       "      <td>2000-06-26</td>\n",
       "      <td>0.2</td>\n",
       "      <td>2001-05-31</td>\n",
       "      <td>NaT</td>\n",
       "      <td>2.0</td>\n",
       "      <td>NaN</td>\n",
       "      <td>NaT</td>\n",
       "      <td>NaN</td>\n",
       "      <td>2003-08-05</td>\n",
       "      <td>3.1</td>\n",
       "      <td>NaT</td>\n",
       "      <td>0.0</td>\n",
       "      <td>0.93</td>\n",
       "      <td>NaN</td>\n",
       "    </tr>\n",
       "    <tr>\n",
       "      <th>1</th>\n",
       "      <td>0a88fa0e-7abe-c4ac-ab69-877b01a9cb60</td>\n",
       "      <td>IceFyre Semiconductor</td>\n",
       "      <td>closed</td>\n",
       "      <td>2001-01-01</td>\n",
       "      <td>NaT</td>\n",
       "      <td>2001-03-12</td>\n",
       "      <td>2001-03-12</td>\n",
       "      <td>0.2</td>\n",
       "      <td>2001-08-08</td>\n",
       "      <td>2003-02-18</td>\n",
       "      <td>4.0</td>\n",
       "      <td>NaN</td>\n",
       "      <td>NaT</td>\n",
       "      <td>NaN</td>\n",
       "      <td>2005-05-01</td>\n",
       "      <td>4.1</td>\n",
       "      <td>NaT</td>\n",
       "      <td>0.0</td>\n",
       "      <td>0.41</td>\n",
       "      <td>1.94</td>\n",
       "    </tr>\n",
       "    <tr>\n",
       "      <th>2</th>\n",
       "      <td>de462c42-b0a5-c5af-9637-ec426b4e991f</td>\n",
       "      <td>ORMvision</td>\n",
       "      <td>closed</td>\n",
       "      <td>2000-12-01</td>\n",
       "      <td>NaT</td>\n",
       "      <td>2001-05-01</td>\n",
       "      <td>2001-05-01</td>\n",
       "      <td>0.4</td>\n",
       "      <td>2001-11-06</td>\n",
       "      <td>NaT</td>\n",
       "      <td>2.0</td>\n",
       "      <td>NaN</td>\n",
       "      <td>NaT</td>\n",
       "      <td>NaN</td>\n",
       "      <td>2007-01-01</td>\n",
       "      <td>5.7</td>\n",
       "      <td>NaT</td>\n",
       "      <td>0.0</td>\n",
       "      <td>0.52</td>\n",
       "      <td>NaN</td>\n",
       "    </tr>\n",
       "  </tbody>\n",
       "</table>\n",
       "</div>"
      ],
      "text/plain": [
       "                               org_uuid                   name  status  \\\n",
       "0  eb37f7c8-c036-a915-bb7c-63f445330f66                  Ceyba  closed   \n",
       "1  0a88fa0e-7abe-c4ac-ab69-877b01a9cb60  IceFyre Semiconductor  closed   \n",
       "2  de462c42-b0a5-c5af-9637-ec426b4e991f              ORMvision  closed   \n",
       "\n",
       "  founded_on seed_date series_a_date first_fund_date  \\\n",
       "0 2000-05-01       NaT    2000-06-26      2000-06-26   \n",
       "1 2001-01-01       NaT    2001-03-12      2001-03-12   \n",
       "2 2000-12-01       NaT    2001-05-01      2001-05-01   \n",
       "\n",
       "   founded_to_first_fund_years series_b_date series_c_date  \\\n",
       "0                          0.2    2001-05-31           NaT   \n",
       "1                          0.2    2001-08-08    2003-02-18   \n",
       "2                          0.4    2001-11-06           NaT   \n",
       "\n",
       "   num_funding_rounds  first_fund_to_acquired_years went_public_on  \\\n",
       "0                 2.0                           NaN            NaT   \n",
       "1                 4.0                           NaN            NaT   \n",
       "2                 2.0                           NaN            NaT   \n",
       "\n",
       "   first_fund_to_ipo_years  closed_on  first_fund_to_close_years acquired_on  \\\n",
       "0                      NaN 2003-08-05                        3.1         NaT   \n",
       "1                      NaN 2005-05-01                        4.1         NaT   \n",
       "2                      NaN 2007-01-01                        5.7         NaT   \n",
       "\n",
       "   first_fund_to_series_a_years  first_fund_to_series_b_years  \\\n",
       "0                           0.0                          0.93   \n",
       "1                           0.0                          0.41   \n",
       "2                           0.0                          0.52   \n",
       "\n",
       "   first_fund_to_series_c_years  \n",
       "0                           NaN  \n",
       "1                          1.94  \n",
       "2                           NaN  "
      ]
     },
     "execution_count": 178,
     "metadata": {},
     "output_type": "execute_result"
    }
   ],
   "source": [
    "#Calculate duration from first fund to next funding round\n",
    "funding_rounds = ['series_a','series_b','series_c']\n",
    "\n",
    "for invest_round in funding_rounds:\n",
    "    new_column = str('first_fund_to_' + invest_round +'_years')\n",
    "    exist_column = str (invest_round+'_date')\n",
    "    org_processing_df_v13[new_column] = ((org_processing_df_v13[exist_column] - org_processing_df_v13['first_fund_date']).dt.days/365).astype(float).round(2)\n",
    "\n",
    "org_processing_df_v13.head(3)"
   ]
  },
  {
   "cell_type": "code",
   "execution_count": 179,
   "id": "transparent-minute",
   "metadata": {},
   "outputs": [
    {
     "data": {
      "text/plain": [
       "Index(['org_uuid', 'name', 'status', 'founded_on', 'seed_date',\n",
       "       'series_a_date', 'first_fund_date', 'founded_to_first_fund_years',\n",
       "       'series_b_date', 'series_c_date', 'num_funding_rounds',\n",
       "       'first_fund_to_acquired_years', 'went_public_on',\n",
       "       'first_fund_to_ipo_years', 'closed_on', 'first_fund_to_close_years',\n",
       "       'acquired_on', 'first_fund_to_series_a_years',\n",
       "       'first_fund_to_series_b_years', 'first_fund_to_series_c_years'],\n",
       "      dtype='object')"
      ]
     },
     "execution_count": 179,
     "metadata": {},
     "output_type": "execute_result"
    }
   ],
   "source": [
    "org_processing_df_v13.columns"
   ]
  },
  {
   "cell_type": "code",
   "execution_count": 180,
   "id": "revolutionary-stopping",
   "metadata": {},
   "outputs": [],
   "source": [
    "#rearrange columns\n",
    "org_processing_df_v14 = org_processing_df_v13[['org_uuid', 'name', 'status', 'founded_on','num_funding_rounds',\n",
    "                                              'seed_date','series_a_date', 'first_fund_date','series_b_date', 'series_c_date',\n",
    "                                              'acquired_on','went_public_on','closed_on',\n",
    "                                              'founded_to_first_fund_years','first_fund_to_series_a_years','first_fund_to_series_b_years','first_fund_to_series_c_years',\n",
    "                                              'first_fund_to_acquired_years','first_fund_to_ipo_years','first_fund_to_close_years']]"
   ]
  },
  {
   "cell_type": "code",
   "execution_count": 181,
   "id": "local-duncan",
   "metadata": {},
   "outputs": [
    {
     "data": {
      "text/html": [
       "<div>\n",
       "<style scoped>\n",
       "    .dataframe tbody tr th:only-of-type {\n",
       "        vertical-align: middle;\n",
       "    }\n",
       "\n",
       "    .dataframe tbody tr th {\n",
       "        vertical-align: top;\n",
       "    }\n",
       "\n",
       "    .dataframe thead th {\n",
       "        text-align: right;\n",
       "    }\n",
       "</style>\n",
       "<table border=\"1\" class=\"dataframe\">\n",
       "  <thead>\n",
       "    <tr style=\"text-align: right;\">\n",
       "      <th></th>\n",
       "      <th>org_uuid</th>\n",
       "      <th>name</th>\n",
       "      <th>status</th>\n",
       "      <th>founded_on</th>\n",
       "      <th>num_funding_rounds</th>\n",
       "      <th>seed_date</th>\n",
       "      <th>series_a_date</th>\n",
       "      <th>first_fund_date</th>\n",
       "      <th>series_b_date</th>\n",
       "      <th>series_c_date</th>\n",
       "      <th>acquired_on</th>\n",
       "      <th>went_public_on</th>\n",
       "      <th>closed_on</th>\n",
       "      <th>founded_to_first_fund_years</th>\n",
       "      <th>first_fund_to_series_a_years</th>\n",
       "      <th>first_fund_to_series_b_years</th>\n",
       "      <th>first_fund_to_series_c_years</th>\n",
       "      <th>first_fund_to_acquired_years</th>\n",
       "      <th>first_fund_to_ipo_years</th>\n",
       "      <th>first_fund_to_close_years</th>\n",
       "    </tr>\n",
       "  </thead>\n",
       "  <tbody>\n",
       "    <tr>\n",
       "      <th>0</th>\n",
       "      <td>eb37f7c8-c036-a915-bb7c-63f445330f66</td>\n",
       "      <td>Ceyba</td>\n",
       "      <td>closed</td>\n",
       "      <td>2000-05-01</td>\n",
       "      <td>2.0</td>\n",
       "      <td>NaT</td>\n",
       "      <td>2000-06-26</td>\n",
       "      <td>2000-06-26</td>\n",
       "      <td>2001-05-31</td>\n",
       "      <td>NaT</td>\n",
       "      <td>NaT</td>\n",
       "      <td>NaT</td>\n",
       "      <td>2003-08-05</td>\n",
       "      <td>0.2</td>\n",
       "      <td>0.0</td>\n",
       "      <td>0.93</td>\n",
       "      <td>NaN</td>\n",
       "      <td>NaN</td>\n",
       "      <td>NaN</td>\n",
       "      <td>3.1</td>\n",
       "    </tr>\n",
       "    <tr>\n",
       "      <th>1</th>\n",
       "      <td>0a88fa0e-7abe-c4ac-ab69-877b01a9cb60</td>\n",
       "      <td>IceFyre Semiconductor</td>\n",
       "      <td>closed</td>\n",
       "      <td>2001-01-01</td>\n",
       "      <td>4.0</td>\n",
       "      <td>NaT</td>\n",
       "      <td>2001-03-12</td>\n",
       "      <td>2001-03-12</td>\n",
       "      <td>2001-08-08</td>\n",
       "      <td>2003-02-18</td>\n",
       "      <td>NaT</td>\n",
       "      <td>NaT</td>\n",
       "      <td>2005-05-01</td>\n",
       "      <td>0.2</td>\n",
       "      <td>0.0</td>\n",
       "      <td>0.41</td>\n",
       "      <td>1.94</td>\n",
       "      <td>NaN</td>\n",
       "      <td>NaN</td>\n",
       "      <td>4.1</td>\n",
       "    </tr>\n",
       "    <tr>\n",
       "      <th>2</th>\n",
       "      <td>de462c42-b0a5-c5af-9637-ec426b4e991f</td>\n",
       "      <td>ORMvision</td>\n",
       "      <td>closed</td>\n",
       "      <td>2000-12-01</td>\n",
       "      <td>2.0</td>\n",
       "      <td>NaT</td>\n",
       "      <td>2001-05-01</td>\n",
       "      <td>2001-05-01</td>\n",
       "      <td>2001-11-06</td>\n",
       "      <td>NaT</td>\n",
       "      <td>NaT</td>\n",
       "      <td>NaT</td>\n",
       "      <td>2007-01-01</td>\n",
       "      <td>0.4</td>\n",
       "      <td>0.0</td>\n",
       "      <td>0.52</td>\n",
       "      <td>NaN</td>\n",
       "      <td>NaN</td>\n",
       "      <td>NaN</td>\n",
       "      <td>5.7</td>\n",
       "    </tr>\n",
       "  </tbody>\n",
       "</table>\n",
       "</div>"
      ],
      "text/plain": [
       "                               org_uuid                   name  status  \\\n",
       "0  eb37f7c8-c036-a915-bb7c-63f445330f66                  Ceyba  closed   \n",
       "1  0a88fa0e-7abe-c4ac-ab69-877b01a9cb60  IceFyre Semiconductor  closed   \n",
       "2  de462c42-b0a5-c5af-9637-ec426b4e991f              ORMvision  closed   \n",
       "\n",
       "  founded_on  num_funding_rounds seed_date series_a_date first_fund_date  \\\n",
       "0 2000-05-01                 2.0       NaT    2000-06-26      2000-06-26   \n",
       "1 2001-01-01                 4.0       NaT    2001-03-12      2001-03-12   \n",
       "2 2000-12-01                 2.0       NaT    2001-05-01      2001-05-01   \n",
       "\n",
       "  series_b_date series_c_date acquired_on went_public_on  closed_on  \\\n",
       "0    2001-05-31           NaT         NaT            NaT 2003-08-05   \n",
       "1    2001-08-08    2003-02-18         NaT            NaT 2005-05-01   \n",
       "2    2001-11-06           NaT         NaT            NaT 2007-01-01   \n",
       "\n",
       "   founded_to_first_fund_years  first_fund_to_series_a_years  \\\n",
       "0                          0.2                           0.0   \n",
       "1                          0.2                           0.0   \n",
       "2                          0.4                           0.0   \n",
       "\n",
       "   first_fund_to_series_b_years  first_fund_to_series_c_years  \\\n",
       "0                          0.93                           NaN   \n",
       "1                          0.41                          1.94   \n",
       "2                          0.52                           NaN   \n",
       "\n",
       "   first_fund_to_acquired_years  first_fund_to_ipo_years  \\\n",
       "0                           NaN                      NaN   \n",
       "1                           NaN                      NaN   \n",
       "2                           NaN                      NaN   \n",
       "\n",
       "   first_fund_to_close_years  \n",
       "0                        3.1  \n",
       "1                        4.1  \n",
       "2                        5.7  "
      ]
     },
     "execution_count": 181,
     "metadata": {},
     "output_type": "execute_result"
    }
   ],
   "source": [
    "org_processing_df_v14.head(3)"
   ]
  },
  {
   "cell_type": "code",
   "execution_count": 182,
   "id": "framed-conservative",
   "metadata": {},
   "outputs": [
    {
     "data": {
      "text/plain": [
       "76915"
      ]
     },
     "execution_count": 182,
     "metadata": {},
     "output_type": "execute_result"
    }
   ],
   "source": [
    "len(org_processing_df_v14)"
   ]
  },
  {
   "cell_type": "code",
   "execution_count": 184,
   "id": "round-appliance",
   "metadata": {},
   "outputs": [],
   "source": [
    "#select companies founded after 2000-01-01 and before 2013-12-31\n",
    "mask1 = org_processing_df_v14['founded_on'] >= '2000-01-01'\n",
    "mask2 = org_processing_df_v14['founded_on'] <= '2013-12-31'\n",
    "org_processing_df_v15 = org_processing_df_v14[mask1 & mask2]"
   ]
  },
  {
   "cell_type": "code",
   "execution_count": 186,
   "id": "hydraulic-wings",
   "metadata": {},
   "outputs": [
    {
     "data": {
      "text/plain": [
       "32632"
      ]
     },
     "execution_count": 186,
     "metadata": {},
     "output_type": "execute_result"
    }
   ],
   "source": [
    "len(org_processing_df_v15)"
   ]
  },
  {
   "cell_type": "code",
   "execution_count": 187,
   "id": "hearing-input",
   "metadata": {},
   "outputs": [
    {
     "data": {
      "text/plain": [
       "operating    21277\n",
       "closed        6400\n",
       "acquired      4362\n",
       "ipo            593\n",
       "Name: status, dtype: int64"
      ]
     },
     "execution_count": 187,
     "metadata": {},
     "output_type": "execute_result"
    }
   ],
   "source": [
    "org_processing_df_v15['status'].value_counts()"
   ]
  },
  {
   "cell_type": "code",
   "execution_count": 188,
   "id": "australian-minister",
   "metadata": {},
   "outputs": [
    {
     "data": {
      "text/plain": [
       "Index(['org_uuid', 'name', 'status', 'founded_on', 'num_funding_rounds',\n",
       "       'seed_date', 'series_a_date', 'first_fund_date', 'series_b_date',\n",
       "       'series_c_date', 'acquired_on', 'went_public_on', 'closed_on',\n",
       "       'founded_to_first_fund_years', 'first_fund_to_series_a_years',\n",
       "       'first_fund_to_series_b_years', 'first_fund_to_series_c_years',\n",
       "       'first_fund_to_acquired_years', 'first_fund_to_ipo_years',\n",
       "       'first_fund_to_close_years'],\n",
       "      dtype='object')"
      ]
     },
     "execution_count": 188,
     "metadata": {},
     "output_type": "execute_result"
    }
   ],
   "source": [
    "org_processing_df_v15.columns"
   ]
  },
  {
   "cell_type": "code",
   "execution_count": 189,
   "id": "cosmetic-postage",
   "metadata": {},
   "outputs": [
    {
     "name": "stderr",
     "output_type": "stream",
     "text": [
      "C:\\Users\\Abdul Rahim Ab Ghani\\miniconda3\\lib\\site-packages\\ipykernel_launcher.py:27: SettingWithCopyWarning: \n",
      "A value is trying to be set on a copy of a slice from a DataFrame.\n",
      "Try using .loc[row_indexer,col_indexer] = value instead\n",
      "\n",
      "See the caveats in the documentation: https://pandas.pydata.org/pandas-docs/stable/user_guide/indexing.html#returning-a-view-versus-a-copy\n"
     ]
    }
   ],
   "source": [
    "#assign dependent variable, 1 for success and 0 for non-success\n",
    "org_processing_df_v15.reset_index(drop=True,inplace=True)\n",
    "outcome = list()\n",
    "end = len(org_processing_df_v15)\n",
    "\n",
    "for i in range(0,end):\n",
    "    company = org_processing_df_v15.loc[i]\n",
    "    #set success condition for operating company\n",
    "    #company got funding series_a in within 3 years from first funding\n",
    "    cond1 = company['first_fund_to_series_a_years'] <= 3 and company['first_fund_to_series_a_years'] > 0 #add condition more than 0 if first fund = series a\n",
    "    #company got funding series_b 3 years from first funding\n",
    "    cond2 = company['first_fund_to_series_b_years'] <= 3 \n",
    "    #company got funding series_c within 3 years from first funding\n",
    "    cond3 = company['first_fund_to_series_c_years'] <= 3\n",
    "    \n",
    "    #for company with closed status\n",
    "    if company['status'] == 'closed':\n",
    "        outcome.append(0)\n",
    "    elif company ['status'] == 'acquired' or company['status'] == 'ipo':\n",
    "        outcome.append (1)\n",
    "    elif company ['status'] == 'operating':\n",
    "        if cond1 or cond2 or cond3:\n",
    "            outcome.append(1)\n",
    "        else:\n",
    "            outcome.append(0)\n",
    "            \n",
    "org_processing_df_v15['outcome'] = outcome"
   ]
  },
  {
   "cell_type": "code",
   "execution_count": 190,
   "id": "parallel-grenada",
   "metadata": {},
   "outputs": [
    {
     "data": {
      "text/plain": [
       "0    23656\n",
       "1     8976\n",
       "Name: outcome, dtype: int64"
      ]
     },
     "execution_count": 190,
     "metadata": {},
     "output_type": "execute_result"
    }
   ],
   "source": [
    "org_processing_df_v15['outcome'].value_counts()"
   ]
  },
  {
   "cell_type": "code",
   "execution_count": 191,
   "id": "driven-middle",
   "metadata": {},
   "outputs": [
    {
     "data": {
      "text/html": [
       "<div>\n",
       "<style scoped>\n",
       "    .dataframe tbody tr th:only-of-type {\n",
       "        vertical-align: middle;\n",
       "    }\n",
       "\n",
       "    .dataframe tbody tr th {\n",
       "        vertical-align: top;\n",
       "    }\n",
       "\n",
       "    .dataframe thead th {\n",
       "        text-align: right;\n",
       "    }\n",
       "</style>\n",
       "<table border=\"1\" class=\"dataframe\">\n",
       "  <thead>\n",
       "    <tr style=\"text-align: right;\">\n",
       "      <th></th>\n",
       "      <th>success</th>\n",
       "      <th>failure</th>\n",
       "    </tr>\n",
       "    <tr>\n",
       "      <th>status</th>\n",
       "      <th></th>\n",
       "      <th></th>\n",
       "    </tr>\n",
       "  </thead>\n",
       "  <tbody>\n",
       "    <tr>\n",
       "      <th>acquired</th>\n",
       "      <td>4362.0</td>\n",
       "      <td>NaN</td>\n",
       "    </tr>\n",
       "    <tr>\n",
       "      <th>ipo</th>\n",
       "      <td>593.0</td>\n",
       "      <td>NaN</td>\n",
       "    </tr>\n",
       "    <tr>\n",
       "      <th>operating</th>\n",
       "      <td>4021.0</td>\n",
       "      <td>17256.0</td>\n",
       "    </tr>\n",
       "    <tr>\n",
       "      <th>closed</th>\n",
       "      <td>NaN</td>\n",
       "      <td>6400.0</td>\n",
       "    </tr>\n",
       "  </tbody>\n",
       "</table>\n",
       "</div>"
      ],
      "text/plain": [
       "           success  failure\n",
       "status                     \n",
       "acquired    4362.0      NaN\n",
       "ipo          593.0      NaN\n",
       "operating   4021.0  17256.0\n",
       "closed         NaN   6400.0"
      ]
     },
     "execution_count": 191,
     "metadata": {},
     "output_type": "execute_result"
    }
   ],
   "source": [
    "success = (org_processing_df_v15[org_processing_df_v15.outcome == 1]).groupby('status').size().astype(int)\n",
    "failure = (org_processing_df_v15[org_processing_df_v15.outcome == 0].groupby('status').size()).astype(int)\n",
    "\n",
    "pd.concat ([success,failure], axis=1,keys = ['success','failure'])"
   ]
  },
  {
   "cell_type": "code",
   "execution_count": 192,
   "id": "quick-medium",
   "metadata": {},
   "outputs": [
    {
     "data": {
      "text/plain": [
       "status\n",
       "acquired      4362\n",
       "closed        6400\n",
       "ipo            593\n",
       "operating    21277\n",
       "dtype: int64"
      ]
     },
     "execution_count": 192,
     "metadata": {},
     "output_type": "execute_result"
    }
   ],
   "source": [
    "org_processing_df_v15.groupby('status').size()"
   ]
  },
  {
   "cell_type": "code",
   "execution_count": 193,
   "id": "necessary-welcome",
   "metadata": {},
   "outputs": [
    {
     "data": {
      "text/plain": [
       "32632"
      ]
     },
     "execution_count": 193,
     "metadata": {},
     "output_type": "execute_result"
    }
   ],
   "source": [
    "len(org_processing_df_v15)"
   ]
  },
  {
   "cell_type": "code",
   "execution_count": 194,
   "id": "authentic-image",
   "metadata": {},
   "outputs": [],
   "source": [
    "#save processed dataframe with outcome\n",
    "org_processing_df_v15.to_csv(R\"d:/msc-project/data/final/outcome_final_v1.csv\",encoding='utf-8',index=False)"
   ]
  },
  {
   "cell_type": "code",
   "execution_count": null,
   "id": "documentary-skiing",
   "metadata": {},
   "outputs": [],
   "source": []
  }
 ],
 "metadata": {
  "kernelspec": {
   "display_name": "Python 3",
   "language": "python",
   "name": "python3"
  },
  "language_info": {
   "codemirror_mode": {
    "name": "ipython",
    "version": 3
   },
   "file_extension": ".py",
   "mimetype": "text/x-python",
   "name": "python",
   "nbconvert_exporter": "python",
   "pygments_lexer": "ipython3",
   "version": "3.7.9"
  }
 },
 "nbformat": 4,
 "nbformat_minor": 5
}
