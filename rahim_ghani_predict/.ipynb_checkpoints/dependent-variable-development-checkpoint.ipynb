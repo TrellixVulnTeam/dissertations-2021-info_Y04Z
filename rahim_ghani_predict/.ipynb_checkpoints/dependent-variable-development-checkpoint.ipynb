{
 "cells": [
  {
   "cell_type": "code",
   "execution_count": 1,
   "id": "blond-validity",
   "metadata": {},
   "outputs": [],
   "source": [
    "#Import basic packages\n",
    "import os\n",
    "import numpy as np\n",
    "import pandas as pd\n",
    "import csv\n",
    "import regex as re\n",
    "import datetime as dt "
   ]
  },
  {
   "cell_type": "code",
   "execution_count": 2,
   "id": "southeast-colleague",
   "metadata": {},
   "outputs": [],
   "source": [
    "org_ori_df = pd.read_csv(R\"d:/msc-project/data/pre-processed/organisations_preprocessed.csv\",encoding='utf-8',\n",
    "                         index_col=False,\n",
    "                         parse_dates= ['founded_on','went_public_on','acquired_on','closed_on'])"
   ]
  },
  {
   "cell_type": "code",
   "execution_count": 3,
   "id": "technical-kennedy",
   "metadata": {},
   "outputs": [
    {
     "data": {
      "text/plain": [
       "Index(['org_uuid', 'name', 'legal_name', 'homepage_url', 'country_code',\n",
       "       'state_code', 'region', 'city', 'address', 'postal_code', 'status',\n",
       "       'short_description', 'category_list', 'category_groups_list',\n",
       "       'num_funding_rounds', 'total_funding_usd', 'total_funding',\n",
       "       'total_funding_currency_code', 'founded_on', 'last_funding_on',\n",
       "       'closed_on', 'employee_count', 'email', 'phone', 'facebook_url',\n",
       "       'linkedin_url', 'twitter_url', 'logo_url', 'primary_role', 'num_exits',\n",
       "       'description', 'ipo_uuid', 'stock_exchange_symbol', 'stock_symbol',\n",
       "       'went_public_on', 'share_price_usd', 'share_price',\n",
       "       'share_price_currency_code', 'valuation_price_usd', 'valuation_price',\n",
       "       'valuation_price_currency_code', 'money_raised_usd', 'money_raised',\n",
       "       'money_raised_currency_code', 'acquisition_uuid', 'acquirer_uuid',\n",
       "       'acquirer_name', 'acquirer_country_code', 'acquirer_state_code',\n",
       "       'acquirer_region', 'acquirer_city', 'acquisition_type', 'acquired_on',\n",
       "       'price_usd', 'price', 'price_currency_code', 'parent_uuid',\n",
       "       'parent_name'],\n",
       "      dtype='object')"
      ]
     },
     "execution_count": 3,
     "metadata": {},
     "output_type": "execute_result"
    }
   ],
   "source": [
    "org_ori_df.columns"
   ]
  },
  {
   "cell_type": "code",
   "execution_count": 4,
   "id": "graduate-press",
   "metadata": {},
   "outputs": [],
   "source": [
    "funding_rounds_df = pd.read_csv(R\"d:/msc-project/data/pre-processed/funding_rounds_preprocessed.csv\",encoding='utf-8', \n",
    "            index_col=False,\n",
    "           parse_dates=['announced_on'])"
   ]
  },
  {
   "cell_type": "code",
   "execution_count": 5,
   "id": "instructional-married",
   "metadata": {},
   "outputs": [],
   "source": [
    "#create processed organisation\n",
    "org_processing_df = org_ori_df[['org_uuid','name','status','founded_on']]"
   ]
  },
  {
   "cell_type": "code",
   "execution_count": 6,
   "id": "variable-regression",
   "metadata": {},
   "outputs": [],
   "source": [
    "#create groupbyobject for investment_type\n",
    "investment_type = funding_rounds_df.groupby('investment_type')"
   ]
  },
  {
   "cell_type": "code",
   "execution_count": 7,
   "id": "complex-flesh",
   "metadata": {},
   "outputs": [],
   "source": [
    "#filter to company with seed round \n",
    "org_processing_df = pd.merge(org_processing_df,\n",
    "                             investment_type.get_group('seed')[['org_uuid','announced_on']],\n",
    "                            on='org_uuid',\n",
    "                            how = 'left')\n",
    "#org_processing_df.dropna(subset=['announced_on'],inplace=True)\n",
    "org_processing_df.rename(columns={'announced_on':'seed_date'},inplace=True)"
   ]
  },
  {
   "cell_type": "code",
   "execution_count": 8,
   "id": "promotional-leadership",
   "metadata": {},
   "outputs": [
    {
     "data": {
      "text/plain": [
       "176253"
      ]
     },
     "execution_count": 8,
     "metadata": {},
     "output_type": "execute_result"
    }
   ],
   "source": [
    "len(org_processing_df)"
   ]
  },
  {
   "cell_type": "code",
   "execution_count": 9,
   "id": "scenic-remove",
   "metadata": {},
   "outputs": [
    {
     "data": {
      "text/plain": [
       "181779"
      ]
     },
     "execution_count": 9,
     "metadata": {},
     "output_type": "execute_result"
    }
   ],
   "source": [
    "#filter to company with series_a\n",
    "org_processing_df = pd.merge(org_processing_df,\n",
    "                             investment_type.get_group('series_a')[['org_uuid','announced_on']],\n",
    "                            on='org_uuid',\n",
    "                            how = 'left')\n",
    "#org_processing_df.dropna(subset=['announced_on'],inplace=True)\n",
    "org_processing_df.rename(columns={'announced_on':'series_a_date'},inplace=True)\n",
    "len(org_processing_df)"
   ]
  },
  {
   "cell_type": "code",
   "execution_count": 10,
   "id": "missing-differential",
   "metadata": {},
   "outputs": [
    {
     "data": {
      "text/plain": [
       "184898"
      ]
     },
     "execution_count": 10,
     "metadata": {},
     "output_type": "execute_result"
    }
   ],
   "source": [
    "#filter to company with series_b\n",
    "org_processing_df = pd.merge(org_processing_df,\n",
    "                             investment_type.get_group('series_b')[['org_uuid','announced_on']],\n",
    "                            on='org_uuid',\n",
    "                            how = 'left')\n",
    "#org_processing_df.dropna(subset=['announced_on'],inplace=True)\n",
    "org_processing_df.rename(columns={'announced_on':'series_b_date'},inplace=True)\n",
    "len(org_processing_df)"
   ]
  },
  {
   "cell_type": "code",
   "execution_count": 11,
   "id": "radical-inspection",
   "metadata": {},
   "outputs": [
    {
     "data": {
      "text/plain": [
       "186337"
      ]
     },
     "execution_count": 11,
     "metadata": {},
     "output_type": "execute_result"
    }
   ],
   "source": [
    "#combine with series_c information but do not drop companies without series_c\n",
    "org_processing_df = pd.merge(org_processing_df,\n",
    "                             investment_type.get_group('series_c')[['org_uuid','announced_on']],\n",
    "                            on='org_uuid',\n",
    "                            how = 'left')\n",
    "org_processing_df.rename(columns={'announced_on':'series_c_date'},inplace=True)\n",
    "len(org_processing_df)"
   ]
  },
  {
   "cell_type": "code",
   "execution_count": 12,
   "id": "welcome-lightweight",
   "metadata": {},
   "outputs": [
    {
     "data": {
      "text/plain": [
       "153048"
      ]
     },
     "execution_count": 12,
     "metadata": {},
     "output_type": "execute_result"
    }
   ],
   "source": [
    "#drop duplicate company\n",
    "org_processing_df.sort_values(by=['org_uuid','seed_date','series_a_date','series_b_date','series_c_date'],axis=0,\n",
    "                              inplace=True,\n",
    "                             ignore_index=True)\n",
    "org_processing_df.drop_duplicates(subset=['org_uuid'],inplace=True)\n",
    "len(org_processing_df)"
   ]
  },
  {
   "cell_type": "code",
   "execution_count": 13,
   "id": "descending-original",
   "metadata": {
    "scrolled": true
   },
   "outputs": [
    {
     "data": {
      "text/html": [
       "<div>\n",
       "<style scoped>\n",
       "    .dataframe tbody tr th:only-of-type {\n",
       "        vertical-align: middle;\n",
       "    }\n",
       "\n",
       "    .dataframe tbody tr th {\n",
       "        vertical-align: top;\n",
       "    }\n",
       "\n",
       "    .dataframe thead th {\n",
       "        text-align: right;\n",
       "    }\n",
       "</style>\n",
       "<table border=\"1\" class=\"dataframe\">\n",
       "  <thead>\n",
       "    <tr style=\"text-align: right;\">\n",
       "      <th></th>\n",
       "      <th>org_uuid</th>\n",
       "      <th>name</th>\n",
       "      <th>status</th>\n",
       "      <th>founded_on</th>\n",
       "      <th>seed_date</th>\n",
       "      <th>series_a_date</th>\n",
       "      <th>series_b_date</th>\n",
       "      <th>series_c_date</th>\n",
       "      <th>num_funding_rounds</th>\n",
       "    </tr>\n",
       "  </thead>\n",
       "  <tbody>\n",
       "    <tr>\n",
       "      <th>0</th>\n",
       "      <td>000014da-0c46-b9cb-0941-3a93c027b119</td>\n",
       "      <td>Resilio</td>\n",
       "      <td>operating</td>\n",
       "      <td>2016-11-01</td>\n",
       "      <td>NaT</td>\n",
       "      <td>NaT</td>\n",
       "      <td>NaT</td>\n",
       "      <td>NaT</td>\n",
       "      <td>7.0</td>\n",
       "    </tr>\n",
       "    <tr>\n",
       "      <th>1</th>\n",
       "      <td>00002470-bff7-6226-5800-0ca1b3787b6f</td>\n",
       "      <td>Codementor</td>\n",
       "      <td>operating</td>\n",
       "      <td>2013-01-01</td>\n",
       "      <td>2013-08-05</td>\n",
       "      <td>NaT</td>\n",
       "      <td>NaT</td>\n",
       "      <td>NaT</td>\n",
       "      <td>5.0</td>\n",
       "    </tr>\n",
       "    <tr>\n",
       "      <th>2</th>\n",
       "      <td>000095de-8e2b-82f1-32a7-c222ba3d5682</td>\n",
       "      <td>Ultraprise Loan Technologies</td>\n",
       "      <td>operating</td>\n",
       "      <td>2001-01-01</td>\n",
       "      <td>NaT</td>\n",
       "      <td>NaT</td>\n",
       "      <td>NaT</td>\n",
       "      <td>NaT</td>\n",
       "      <td>1.0</td>\n",
       "    </tr>\n",
       "  </tbody>\n",
       "</table>\n",
       "</div>"
      ],
      "text/plain": [
       "                               org_uuid                          name  \\\n",
       "0  000014da-0c46-b9cb-0941-3a93c027b119                       Resilio   \n",
       "1  00002470-bff7-6226-5800-0ca1b3787b6f                    Codementor   \n",
       "2  000095de-8e2b-82f1-32a7-c222ba3d5682  Ultraprise Loan Technologies   \n",
       "\n",
       "      status founded_on  seed_date series_a_date series_b_date series_c_date  \\\n",
       "0  operating 2016-11-01        NaT           NaT           NaT           NaT   \n",
       "1  operating 2013-01-01 2013-08-05           NaT           NaT           NaT   \n",
       "2  operating 2001-01-01        NaT           NaT           NaT           NaT   \n",
       "\n",
       "   num_funding_rounds  \n",
       "0                 7.0  \n",
       "1                 5.0  \n",
       "2                 1.0  "
      ]
     },
     "execution_count": 13,
     "metadata": {},
     "output_type": "execute_result"
    }
   ],
   "source": [
    "org_processing_df = pd.merge(org_processing_df,\n",
    "                    org_ori_df[['org_uuid','num_funding_rounds']],\n",
    "                    on='org_uuid',\n",
    "                    how='left')\n",
    "org_processing_df.head(3)"
   ]
  },
  {
   "cell_type": "code",
   "execution_count": 14,
   "id": "pleased-incidence",
   "metadata": {},
   "outputs": [
    {
     "data": {
      "text/plain": [
       "org_uuid                   0\n",
       "name                       0\n",
       "status                     0\n",
       "founded_on                 0\n",
       "seed_date              80601\n",
       "series_a_date         120138\n",
       "series_b_date         137685\n",
       "series_c_date         146305\n",
       "num_funding_rounds         0\n",
       "dtype: int64"
      ]
     },
     "execution_count": 14,
     "metadata": {},
     "output_type": "execute_result"
    }
   ],
   "source": [
    "org_processing_df.isnull().sum(axis=0)"
   ]
  },
  {
   "cell_type": "code",
   "execution_count": 15,
   "id": "difficult-official",
   "metadata": {},
   "outputs": [
    {
     "name": "stderr",
     "output_type": "stream",
     "text": [
      "C:\\Users\\Abdul Rahim Ab Ghani\\miniconda3\\lib\\site-packages\\ipykernel_launcher.py:4: SettingWithCopyWarning: \n",
      "A value is trying to be set on a copy of a slice from a DataFrame\n",
      "\n",
      "See the caveats in the documentation: https://pandas.pydata.org/pandas-docs/stable/user_guide/indexing.html#returning-a-view-versus-a-copy\n",
      "  after removing the cwd from sys.path.\n",
      "C:\\Users\\Abdul Rahim Ab Ghani\\miniconda3\\lib\\site-packages\\ipykernel_launcher.py:5: SettingWithCopyWarning: \n",
      "A value is trying to be set on a copy of a slice from a DataFrame.\n",
      "Try using .loc[row_indexer,col_indexer] = value instead\n",
      "\n",
      "See the caveats in the documentation: https://pandas.pydata.org/pandas-docs/stable/user_guide/indexing.html#returning-a-view-versus-a-copy\n",
      "  \"\"\"\n",
      "C:\\Users\\Abdul Rahim Ab Ghani\\miniconda3\\lib\\site-packages\\ipykernel_launcher.py:8: SettingWithCopyWarning: \n",
      "A value is trying to be set on a copy of a slice from a DataFrame.\n",
      "Try using .loc[row_indexer,col_indexer] = value instead\n",
      "\n",
      "See the caveats in the documentation: https://pandas.pydata.org/pandas-docs/stable/user_guide/indexing.html#returning-a-view-versus-a-copy\n",
      "  \n"
     ]
    },
    {
     "data": {
      "text/plain": [
       "153048"
      ]
     },
     "execution_count": 15,
     "metadata": {},
     "output_type": "execute_result"
    }
   ],
   "source": [
    "#calculate duration from founded to acquired for company with acquired status\n",
    "status = org_ori_df.groupby('status')\n",
    "org_acquired_df = status.get_group('acquired')\n",
    "org_acquired_df.dropna(subset = ['acquired_on'],inplace=True)\n",
    "org_acquired_df['duration_to_acquisition_days'] = org_acquired_df['acquired_on'] - org_acquired_df['founded_on']\n",
    "\n",
    "import datetime as dt \n",
    "org_acquired_df['duration_to_acquisition_years'] = (org_acquired_df['duration_to_acquisition_days'].dt.days/365).astype(float).round(decimals=1)\n",
    "\n",
    "#filter inconsistent data\n",
    "mask = org_acquired_df.duration_to_acquisition_years > 0\n",
    "org_acquired_df_v1 = org_acquired_df[mask]\n",
    "\n",
    "#merge with main data frame\n",
    "org_processing_df = pd.merge(org_processing_df,\n",
    "                            org_acquired_df_v1[['org_uuid','duration_to_acquisition_years']],\n",
    "                            on='org_uuid',\n",
    "                            how='left')\n",
    "len(org_processing_df)"
   ]
  },
  {
   "cell_type": "code",
   "execution_count": 16,
   "id": "endangered-space",
   "metadata": {},
   "outputs": [
    {
     "data": {
      "text/html": [
       "<div>\n",
       "<style scoped>\n",
       "    .dataframe tbody tr th:only-of-type {\n",
       "        vertical-align: middle;\n",
       "    }\n",
       "\n",
       "    .dataframe tbody tr th {\n",
       "        vertical-align: top;\n",
       "    }\n",
       "\n",
       "    .dataframe thead th {\n",
       "        text-align: right;\n",
       "    }\n",
       "</style>\n",
       "<table border=\"1\" class=\"dataframe\">\n",
       "  <thead>\n",
       "    <tr style=\"text-align: right;\">\n",
       "      <th></th>\n",
       "      <th>org_uuid</th>\n",
       "      <th>name</th>\n",
       "      <th>status</th>\n",
       "      <th>founded_on</th>\n",
       "      <th>seed_date</th>\n",
       "      <th>series_a_date</th>\n",
       "      <th>series_b_date</th>\n",
       "      <th>series_c_date</th>\n",
       "      <th>num_funding_rounds</th>\n",
       "      <th>duration_to_acquisition_years</th>\n",
       "    </tr>\n",
       "  </thead>\n",
       "  <tbody>\n",
       "    <tr>\n",
       "      <th>0</th>\n",
       "      <td>000014da-0c46-b9cb-0941-3a93c027b119</td>\n",
       "      <td>Resilio</td>\n",
       "      <td>operating</td>\n",
       "      <td>2016-11-01</td>\n",
       "      <td>NaT</td>\n",
       "      <td>NaT</td>\n",
       "      <td>NaT</td>\n",
       "      <td>NaT</td>\n",
       "      <td>7.0</td>\n",
       "      <td>NaN</td>\n",
       "    </tr>\n",
       "    <tr>\n",
       "      <th>1</th>\n",
       "      <td>00002470-bff7-6226-5800-0ca1b3787b6f</td>\n",
       "      <td>Codementor</td>\n",
       "      <td>operating</td>\n",
       "      <td>2013-01-01</td>\n",
       "      <td>2013-08-05</td>\n",
       "      <td>NaT</td>\n",
       "      <td>NaT</td>\n",
       "      <td>NaT</td>\n",
       "      <td>5.0</td>\n",
       "      <td>NaN</td>\n",
       "    </tr>\n",
       "    <tr>\n",
       "      <th>2</th>\n",
       "      <td>000095de-8e2b-82f1-32a7-c222ba3d5682</td>\n",
       "      <td>Ultraprise Loan Technologies</td>\n",
       "      <td>operating</td>\n",
       "      <td>2001-01-01</td>\n",
       "      <td>NaT</td>\n",
       "      <td>NaT</td>\n",
       "      <td>NaT</td>\n",
       "      <td>NaT</td>\n",
       "      <td>1.0</td>\n",
       "      <td>NaN</td>\n",
       "    </tr>\n",
       "  </tbody>\n",
       "</table>\n",
       "</div>"
      ],
      "text/plain": [
       "                               org_uuid                          name  \\\n",
       "0  000014da-0c46-b9cb-0941-3a93c027b119                       Resilio   \n",
       "1  00002470-bff7-6226-5800-0ca1b3787b6f                    Codementor   \n",
       "2  000095de-8e2b-82f1-32a7-c222ba3d5682  Ultraprise Loan Technologies   \n",
       "\n",
       "      status founded_on  seed_date series_a_date series_b_date series_c_date  \\\n",
       "0  operating 2016-11-01        NaT           NaT           NaT           NaT   \n",
       "1  operating 2013-01-01 2013-08-05           NaT           NaT           NaT   \n",
       "2  operating 2001-01-01        NaT           NaT           NaT           NaT   \n",
       "\n",
       "   num_funding_rounds  duration_to_acquisition_years  \n",
       "0                 7.0                            NaN  \n",
       "1                 5.0                            NaN  \n",
       "2                 1.0                            NaN  "
      ]
     },
     "execution_count": 16,
     "metadata": {},
     "output_type": "execute_result"
    }
   ],
   "source": [
    "org_processing_df.head(3)"
   ]
  },
  {
   "cell_type": "code",
   "execution_count": 17,
   "id": "equipped-apparel",
   "metadata": {},
   "outputs": [
    {
     "name": "stderr",
     "output_type": "stream",
     "text": [
      "C:\\Users\\Abdul Rahim Ab Ghani\\miniconda3\\lib\\site-packages\\ipykernel_launcher.py:4: SettingWithCopyWarning: \n",
      "A value is trying to be set on a copy of a slice from a DataFrame\n",
      "\n",
      "See the caveats in the documentation: https://pandas.pydata.org/pandas-docs/stable/user_guide/indexing.html#returning-a-view-versus-a-copy\n",
      "  after removing the cwd from sys.path.\n",
      "C:\\Users\\Abdul Rahim Ab Ghani\\miniconda3\\lib\\site-packages\\ipykernel_launcher.py:5: SettingWithCopyWarning: \n",
      "A value is trying to be set on a copy of a slice from a DataFrame.\n",
      "Try using .loc[row_indexer,col_indexer] = value instead\n",
      "\n",
      "See the caveats in the documentation: https://pandas.pydata.org/pandas-docs/stable/user_guide/indexing.html#returning-a-view-versus-a-copy\n",
      "  \"\"\"\n",
      "C:\\Users\\Abdul Rahim Ab Ghani\\miniconda3\\lib\\site-packages\\ipykernel_launcher.py:7: SettingWithCopyWarning: \n",
      "A value is trying to be set on a copy of a slice from a DataFrame.\n",
      "Try using .loc[row_indexer,col_indexer] = value instead\n",
      "\n",
      "See the caveats in the documentation: https://pandas.pydata.org/pandas-docs/stable/user_guide/indexing.html#returning-a-view-versus-a-copy\n",
      "  import sys\n"
     ]
    },
    {
     "data": {
      "text/plain": [
       "153048"
      ]
     },
     "execution_count": 17,
     "metadata": {},
     "output_type": "execute_result"
    }
   ],
   "source": [
    "#calculate duration from founded to ipo for company with ipo status\n",
    "status = org_ori_df.groupby('status')\n",
    "org_ipo_df = status.get_group('ipo')\n",
    "org_ipo_df.dropna(subset = ['went_public_on'],inplace=True)\n",
    "org_ipo_df['duration_to_ipo_days'] = org_ipo_df['went_public_on'] - org_ipo_df['founded_on']\n",
    "\n",
    "org_ipo_df['duration_to_ipo_years'] = (org_ipo_df['duration_to_ipo_days'].dt.days/365).astype(float).round(decimals=1)\n",
    "\n",
    "mask = org_ipo_df['duration_to_ipo_years'] > 0\n",
    "org_ipo_df_v1 = org_ipo_df[mask]\n",
    "\n",
    "#merge with main data frame\n",
    "org_processing_df = pd.merge(org_processing_df,\n",
    "                            org_ipo_df_v1[['org_uuid','duration_to_ipo_years']],\n",
    "                            on='org_uuid',\n",
    "                            how='left')\n",
    "len(org_processing_df)\n",
    "\n",
    "#filter IPO duration for success definition \n",
    "#mask1 = org_ipo_df_v1['duration_to_ipo_years'] < 8\n",
    "#mask2 = org_ipo_df_v1['duration_to_ipo_years'] > 4\n",
    "#org_ipo_df_v1[mask1 & mask2]"
   ]
  },
  {
   "cell_type": "code",
   "execution_count": 18,
   "id": "objective-storm",
   "metadata": {},
   "outputs": [
    {
     "data": {
      "text/html": [
       "<div>\n",
       "<style scoped>\n",
       "    .dataframe tbody tr th:only-of-type {\n",
       "        vertical-align: middle;\n",
       "    }\n",
       "\n",
       "    .dataframe tbody tr th {\n",
       "        vertical-align: top;\n",
       "    }\n",
       "\n",
       "    .dataframe thead th {\n",
       "        text-align: right;\n",
       "    }\n",
       "</style>\n",
       "<table border=\"1\" class=\"dataframe\">\n",
       "  <thead>\n",
       "    <tr style=\"text-align: right;\">\n",
       "      <th></th>\n",
       "      <th>org_uuid</th>\n",
       "      <th>name</th>\n",
       "      <th>status</th>\n",
       "      <th>founded_on</th>\n",
       "      <th>seed_date</th>\n",
       "      <th>series_a_date</th>\n",
       "      <th>series_b_date</th>\n",
       "      <th>series_c_date</th>\n",
       "      <th>num_funding_rounds</th>\n",
       "      <th>duration_to_acquisition_years</th>\n",
       "      <th>duration_to_ipo_years</th>\n",
       "    </tr>\n",
       "  </thead>\n",
       "  <tbody>\n",
       "    <tr>\n",
       "      <th>0</th>\n",
       "      <td>000014da-0c46-b9cb-0941-3a93c027b119</td>\n",
       "      <td>Resilio</td>\n",
       "      <td>operating</td>\n",
       "      <td>2016-11-01</td>\n",
       "      <td>NaT</td>\n",
       "      <td>NaT</td>\n",
       "      <td>NaT</td>\n",
       "      <td>NaT</td>\n",
       "      <td>7.0</td>\n",
       "      <td>NaN</td>\n",
       "      <td>NaN</td>\n",
       "    </tr>\n",
       "    <tr>\n",
       "      <th>1</th>\n",
       "      <td>00002470-bff7-6226-5800-0ca1b3787b6f</td>\n",
       "      <td>Codementor</td>\n",
       "      <td>operating</td>\n",
       "      <td>2013-01-01</td>\n",
       "      <td>2013-08-05</td>\n",
       "      <td>NaT</td>\n",
       "      <td>NaT</td>\n",
       "      <td>NaT</td>\n",
       "      <td>5.0</td>\n",
       "      <td>NaN</td>\n",
       "      <td>NaN</td>\n",
       "    </tr>\n",
       "    <tr>\n",
       "      <th>2</th>\n",
       "      <td>000095de-8e2b-82f1-32a7-c222ba3d5682</td>\n",
       "      <td>Ultraprise Loan Technologies</td>\n",
       "      <td>operating</td>\n",
       "      <td>2001-01-01</td>\n",
       "      <td>NaT</td>\n",
       "      <td>NaT</td>\n",
       "      <td>NaT</td>\n",
       "      <td>NaT</td>\n",
       "      <td>1.0</td>\n",
       "      <td>NaN</td>\n",
       "      <td>NaN</td>\n",
       "    </tr>\n",
       "  </tbody>\n",
       "</table>\n",
       "</div>"
      ],
      "text/plain": [
       "                               org_uuid                          name  \\\n",
       "0  000014da-0c46-b9cb-0941-3a93c027b119                       Resilio   \n",
       "1  00002470-bff7-6226-5800-0ca1b3787b6f                    Codementor   \n",
       "2  000095de-8e2b-82f1-32a7-c222ba3d5682  Ultraprise Loan Technologies   \n",
       "\n",
       "      status founded_on  seed_date series_a_date series_b_date series_c_date  \\\n",
       "0  operating 2016-11-01        NaT           NaT           NaT           NaT   \n",
       "1  operating 2013-01-01 2013-08-05           NaT           NaT           NaT   \n",
       "2  operating 2001-01-01        NaT           NaT           NaT           NaT   \n",
       "\n",
       "   num_funding_rounds  duration_to_acquisition_years  duration_to_ipo_years  \n",
       "0                 7.0                            NaN                    NaN  \n",
       "1                 5.0                            NaN                    NaN  \n",
       "2                 1.0                            NaN                    NaN  "
      ]
     },
     "execution_count": 18,
     "metadata": {},
     "output_type": "execute_result"
    }
   ],
   "source": [
    "org_processing_df.head(3)"
   ]
  },
  {
   "cell_type": "code",
   "execution_count": 19,
   "id": "matched-thread",
   "metadata": {},
   "outputs": [
    {
     "name": "stderr",
     "output_type": "stream",
     "text": [
      "C:\\Users\\Abdul Rahim Ab Ghani\\miniconda3\\lib\\site-packages\\ipykernel_launcher.py:3: SettingWithCopyWarning: \n",
      "A value is trying to be set on a copy of a slice from a DataFrame\n",
      "\n",
      "See the caveats in the documentation: https://pandas.pydata.org/pandas-docs/stable/user_guide/indexing.html#returning-a-view-versus-a-copy\n",
      "  This is separate from the ipykernel package so we can avoid doing imports until\n",
      "C:\\Users\\Abdul Rahim Ab Ghani\\miniconda3\\lib\\site-packages\\ipykernel_launcher.py:4: SettingWithCopyWarning: \n",
      "A value is trying to be set on a copy of a slice from a DataFrame.\n",
      "Try using .loc[row_indexer,col_indexer] = value instead\n",
      "\n",
      "See the caveats in the documentation: https://pandas.pydata.org/pandas-docs/stable/user_guide/indexing.html#returning-a-view-versus-a-copy\n",
      "  after removing the cwd from sys.path.\n",
      "C:\\Users\\Abdul Rahim Ab Ghani\\miniconda3\\lib\\site-packages\\ipykernel_launcher.py:6: SettingWithCopyWarning: \n",
      "A value is trying to be set on a copy of a slice from a DataFrame.\n",
      "Try using .loc[row_indexer,col_indexer] = value instead\n",
      "\n",
      "See the caveats in the documentation: https://pandas.pydata.org/pandas-docs/stable/user_guide/indexing.html#returning-a-view-versus-a-copy\n",
      "  \n"
     ]
    },
    {
     "data": {
      "text/plain": [
       "153048"
      ]
     },
     "execution_count": 19,
     "metadata": {},
     "output_type": "execute_result"
    }
   ],
   "source": [
    "#calculate duration from founded to closed for company with closed status\n",
    "org_closed_df = status.get_group('closed')\n",
    "org_closed_df.dropna(subset = ['closed_on'],inplace=True)\n",
    "org_closed_df['duration_to_closed_days'] = org_closed_df['closed_on'] - org_closed_df['founded_on']\n",
    "\n",
    "org_closed_df['duration_to_closed_years'] = (org_closed_df['duration_to_closed_days'].dt.days/365).astype(float).round(decimals=1)\n",
    "\n",
    "mask = org_closed_df['duration_to_closed_years'] > 0\n",
    "org_closed_df_v1 = org_closed_df[mask]\n",
    "\n",
    "#merge with main data frame\n",
    "org_processing_df = pd.merge(org_processing_df,\n",
    "                            org_closed_df_v1[['org_uuid','duration_to_closed_years']],\n",
    "                            on='org_uuid',\n",
    "                            how='left')\n",
    "len(org_processing_df)"
   ]
  },
  {
   "cell_type": "code",
   "execution_count": 20,
   "id": "amazing-mediterranean",
   "metadata": {},
   "outputs": [
    {
     "data": {
      "text/html": [
       "<div>\n",
       "<style scoped>\n",
       "    .dataframe tbody tr th:only-of-type {\n",
       "        vertical-align: middle;\n",
       "    }\n",
       "\n",
       "    .dataframe tbody tr th {\n",
       "        vertical-align: top;\n",
       "    }\n",
       "\n",
       "    .dataframe thead th {\n",
       "        text-align: right;\n",
       "    }\n",
       "</style>\n",
       "<table border=\"1\" class=\"dataframe\">\n",
       "  <thead>\n",
       "    <tr style=\"text-align: right;\">\n",
       "      <th></th>\n",
       "      <th>org_uuid</th>\n",
       "      <th>name</th>\n",
       "      <th>status</th>\n",
       "      <th>founded_on</th>\n",
       "      <th>seed_date</th>\n",
       "      <th>series_a_date</th>\n",
       "      <th>series_b_date</th>\n",
       "      <th>series_c_date</th>\n",
       "      <th>num_funding_rounds</th>\n",
       "      <th>duration_to_acquisition_years</th>\n",
       "      <th>duration_to_ipo_years</th>\n",
       "      <th>duration_to_closed_years</th>\n",
       "    </tr>\n",
       "  </thead>\n",
       "  <tbody>\n",
       "    <tr>\n",
       "      <th>0</th>\n",
       "      <td>000014da-0c46-b9cb-0941-3a93c027b119</td>\n",
       "      <td>Resilio</td>\n",
       "      <td>operating</td>\n",
       "      <td>2016-11-01</td>\n",
       "      <td>NaT</td>\n",
       "      <td>NaT</td>\n",
       "      <td>NaT</td>\n",
       "      <td>NaT</td>\n",
       "      <td>7.0</td>\n",
       "      <td>NaN</td>\n",
       "      <td>NaN</td>\n",
       "      <td>NaN</td>\n",
       "    </tr>\n",
       "    <tr>\n",
       "      <th>1</th>\n",
       "      <td>00002470-bff7-6226-5800-0ca1b3787b6f</td>\n",
       "      <td>Codementor</td>\n",
       "      <td>operating</td>\n",
       "      <td>2013-01-01</td>\n",
       "      <td>2013-08-05</td>\n",
       "      <td>NaT</td>\n",
       "      <td>NaT</td>\n",
       "      <td>NaT</td>\n",
       "      <td>5.0</td>\n",
       "      <td>NaN</td>\n",
       "      <td>NaN</td>\n",
       "      <td>NaN</td>\n",
       "    </tr>\n",
       "    <tr>\n",
       "      <th>2</th>\n",
       "      <td>000095de-8e2b-82f1-32a7-c222ba3d5682</td>\n",
       "      <td>Ultraprise Loan Technologies</td>\n",
       "      <td>operating</td>\n",
       "      <td>2001-01-01</td>\n",
       "      <td>NaT</td>\n",
       "      <td>NaT</td>\n",
       "      <td>NaT</td>\n",
       "      <td>NaT</td>\n",
       "      <td>1.0</td>\n",
       "      <td>NaN</td>\n",
       "      <td>NaN</td>\n",
       "      <td>NaN</td>\n",
       "    </tr>\n",
       "  </tbody>\n",
       "</table>\n",
       "</div>"
      ],
      "text/plain": [
       "                               org_uuid                          name  \\\n",
       "0  000014da-0c46-b9cb-0941-3a93c027b119                       Resilio   \n",
       "1  00002470-bff7-6226-5800-0ca1b3787b6f                    Codementor   \n",
       "2  000095de-8e2b-82f1-32a7-c222ba3d5682  Ultraprise Loan Technologies   \n",
       "\n",
       "      status founded_on  seed_date series_a_date series_b_date series_c_date  \\\n",
       "0  operating 2016-11-01        NaT           NaT           NaT           NaT   \n",
       "1  operating 2013-01-01 2013-08-05           NaT           NaT           NaT   \n",
       "2  operating 2001-01-01        NaT           NaT           NaT           NaT   \n",
       "\n",
       "   num_funding_rounds  duration_to_acquisition_years  duration_to_ipo_years  \\\n",
       "0                 7.0                            NaN                    NaN   \n",
       "1                 5.0                            NaN                    NaN   \n",
       "2                 1.0                            NaN                    NaN   \n",
       "\n",
       "   duration_to_closed_years  \n",
       "0                       NaN  \n",
       "1                       NaN  \n",
       "2                       NaN  "
      ]
     },
     "execution_count": 20,
     "metadata": {},
     "output_type": "execute_result"
    }
   ],
   "source": [
    "org_processing_df.head(3)"
   ]
  },
  {
   "cell_type": "code",
   "execution_count": 21,
   "id": "constitutional-stanford",
   "metadata": {},
   "outputs": [
    {
     "name": "stderr",
     "output_type": "stream",
     "text": [
      "C:\\Users\\Abdul Rahim Ab Ghani\\miniconda3\\lib\\site-packages\\ipykernel_launcher.py:3: SettingWithCopyWarning: \n",
      "A value is trying to be set on a copy of a slice from a DataFrame.\n",
      "Try using .loc[row_indexer,col_indexer] = value instead\n",
      "\n",
      "See the caveats in the documentation: https://pandas.pydata.org/pandas-docs/stable/user_guide/indexing.html#returning-a-view-versus-a-copy\n",
      "  This is separate from the ipykernel package so we can avoid doing imports until\n",
      "C:\\Users\\Abdul Rahim Ab Ghani\\miniconda3\\lib\\site-packages\\ipykernel_launcher.py:5: SettingWithCopyWarning: \n",
      "A value is trying to be set on a copy of a slice from a DataFrame.\n",
      "Try using .loc[row_indexer,col_indexer] = value instead\n",
      "\n",
      "See the caveats in the documentation: https://pandas.pydata.org/pandas-docs/stable/user_guide/indexing.html#returning-a-view-versus-a-copy\n",
      "  \"\"\"\n"
     ]
    },
    {
     "data": {
      "text/plain": [
       "153048"
      ]
     },
     "execution_count": 21,
     "metadata": {},
     "output_type": "execute_result"
    }
   ],
   "source": [
    "#calculate duration from founded to 31-12-2020 for company with operating status\n",
    "org_operating_df = status.get_group('operating')\n",
    "org_operating_df['duration_to_current_days'] = pd.Timestamp('2020-12-31') - org_operating_df['founded_on']\n",
    "\n",
    "org_operating_df['duration_to_current_years'] = (org_operating_df['duration_to_current_days'].dt.days/365).astype(float).round(decimals=1)\n",
    "\n",
    "#merge with main data frame\n",
    "org_processing_df = pd.merge(org_processing_df,\n",
    "                            org_operating_df[['org_uuid','duration_to_current_years']],\n",
    "                            on='org_uuid',\n",
    "                            how='left')\n",
    "len(org_processing_df)"
   ]
  },
  {
   "cell_type": "code",
   "execution_count": 22,
   "id": "hourly-track",
   "metadata": {},
   "outputs": [
    {
     "data": {
      "text/html": [
       "<div>\n",
       "<style scoped>\n",
       "    .dataframe tbody tr th:only-of-type {\n",
       "        vertical-align: middle;\n",
       "    }\n",
       "\n",
       "    .dataframe tbody tr th {\n",
       "        vertical-align: top;\n",
       "    }\n",
       "\n",
       "    .dataframe thead th {\n",
       "        text-align: right;\n",
       "    }\n",
       "</style>\n",
       "<table border=\"1\" class=\"dataframe\">\n",
       "  <thead>\n",
       "    <tr style=\"text-align: right;\">\n",
       "      <th></th>\n",
       "      <th>org_uuid</th>\n",
       "      <th>name</th>\n",
       "      <th>status</th>\n",
       "      <th>founded_on</th>\n",
       "      <th>seed_date</th>\n",
       "      <th>series_a_date</th>\n",
       "      <th>series_b_date</th>\n",
       "      <th>series_c_date</th>\n",
       "      <th>num_funding_rounds</th>\n",
       "      <th>duration_to_acquisition_years</th>\n",
       "      <th>duration_to_ipo_years</th>\n",
       "      <th>duration_to_closed_years</th>\n",
       "      <th>duration_to_current_years</th>\n",
       "    </tr>\n",
       "  </thead>\n",
       "  <tbody>\n",
       "    <tr>\n",
       "      <th>0</th>\n",
       "      <td>000014da-0c46-b9cb-0941-3a93c027b119</td>\n",
       "      <td>Resilio</td>\n",
       "      <td>operating</td>\n",
       "      <td>2016-11-01</td>\n",
       "      <td>NaT</td>\n",
       "      <td>NaT</td>\n",
       "      <td>NaT</td>\n",
       "      <td>NaT</td>\n",
       "      <td>7.0</td>\n",
       "      <td>NaN</td>\n",
       "      <td>NaN</td>\n",
       "      <td>NaN</td>\n",
       "      <td>4.2</td>\n",
       "    </tr>\n",
       "    <tr>\n",
       "      <th>1</th>\n",
       "      <td>00002470-bff7-6226-5800-0ca1b3787b6f</td>\n",
       "      <td>Codementor</td>\n",
       "      <td>operating</td>\n",
       "      <td>2013-01-01</td>\n",
       "      <td>2013-08-05</td>\n",
       "      <td>NaT</td>\n",
       "      <td>NaT</td>\n",
       "      <td>NaT</td>\n",
       "      <td>5.0</td>\n",
       "      <td>NaN</td>\n",
       "      <td>NaN</td>\n",
       "      <td>NaN</td>\n",
       "      <td>8.0</td>\n",
       "    </tr>\n",
       "    <tr>\n",
       "      <th>2</th>\n",
       "      <td>000095de-8e2b-82f1-32a7-c222ba3d5682</td>\n",
       "      <td>Ultraprise Loan Technologies</td>\n",
       "      <td>operating</td>\n",
       "      <td>2001-01-01</td>\n",
       "      <td>NaT</td>\n",
       "      <td>NaT</td>\n",
       "      <td>NaT</td>\n",
       "      <td>NaT</td>\n",
       "      <td>1.0</td>\n",
       "      <td>NaN</td>\n",
       "      <td>NaN</td>\n",
       "      <td>NaN</td>\n",
       "      <td>20.0</td>\n",
       "    </tr>\n",
       "  </tbody>\n",
       "</table>\n",
       "</div>"
      ],
      "text/plain": [
       "                               org_uuid                          name  \\\n",
       "0  000014da-0c46-b9cb-0941-3a93c027b119                       Resilio   \n",
       "1  00002470-bff7-6226-5800-0ca1b3787b6f                    Codementor   \n",
       "2  000095de-8e2b-82f1-32a7-c222ba3d5682  Ultraprise Loan Technologies   \n",
       "\n",
       "      status founded_on  seed_date series_a_date series_b_date series_c_date  \\\n",
       "0  operating 2016-11-01        NaT           NaT           NaT           NaT   \n",
       "1  operating 2013-01-01 2013-08-05           NaT           NaT           NaT   \n",
       "2  operating 2001-01-01        NaT           NaT           NaT           NaT   \n",
       "\n",
       "   num_funding_rounds  duration_to_acquisition_years  duration_to_ipo_years  \\\n",
       "0                 7.0                            NaN                    NaN   \n",
       "1                 5.0                            NaN                    NaN   \n",
       "2                 1.0                            NaN                    NaN   \n",
       "\n",
       "   duration_to_closed_years  duration_to_current_years  \n",
       "0                       NaN                        4.2  \n",
       "1                       NaN                        8.0  \n",
       "2                       NaN                       20.0  "
      ]
     },
     "execution_count": 22,
     "metadata": {},
     "output_type": "execute_result"
    }
   ],
   "source": [
    "org_processing_df.head(3)"
   ]
  },
  {
   "cell_type": "code",
   "execution_count": 23,
   "id": "isolated-franchise",
   "metadata": {},
   "outputs": [
    {
     "data": {
      "text/plain": [
       "147840"
      ]
     },
     "execution_count": 23,
     "metadata": {},
     "output_type": "execute_result"
    }
   ],
   "source": [
    "#drop companies with incomplete information on duration\n",
    "org_processing_df.dropna (subset=['duration_to_acquisition_years','duration_to_ipo_years',\n",
    "                                'duration_to_closed_years','duration_to_current_years'],\n",
    "                            how='all',\n",
    "                            inplace=True)\n",
    "len(org_processing_df)"
   ]
  },
  {
   "cell_type": "code",
   "execution_count": 24,
   "id": "alive-involvement",
   "metadata": {},
   "outputs": [
    {
     "data": {
      "text/html": [
       "<div>\n",
       "<style scoped>\n",
       "    .dataframe tbody tr th:only-of-type {\n",
       "        vertical-align: middle;\n",
       "    }\n",
       "\n",
       "    .dataframe tbody tr th {\n",
       "        vertical-align: top;\n",
       "    }\n",
       "\n",
       "    .dataframe thead th {\n",
       "        text-align: right;\n",
       "    }\n",
       "</style>\n",
       "<table border=\"1\" class=\"dataframe\">\n",
       "  <thead>\n",
       "    <tr style=\"text-align: right;\">\n",
       "      <th></th>\n",
       "      <th>org_uuid</th>\n",
       "      <th>name</th>\n",
       "      <th>status</th>\n",
       "      <th>founded_on</th>\n",
       "      <th>seed_date</th>\n",
       "      <th>series_a_date</th>\n",
       "      <th>series_b_date</th>\n",
       "      <th>series_c_date</th>\n",
       "      <th>num_funding_rounds</th>\n",
       "      <th>duration_to_acquisition_years</th>\n",
       "      <th>duration_to_ipo_years</th>\n",
       "      <th>duration_to_closed_years</th>\n",
       "      <th>duration_to_current_years</th>\n",
       "    </tr>\n",
       "  </thead>\n",
       "  <tbody>\n",
       "    <tr>\n",
       "      <th>0</th>\n",
       "      <td>000014da-0c46-b9cb-0941-3a93c027b119</td>\n",
       "      <td>Resilio</td>\n",
       "      <td>operating</td>\n",
       "      <td>2016-11-01</td>\n",
       "      <td>NaT</td>\n",
       "      <td>NaT</td>\n",
       "      <td>NaT</td>\n",
       "      <td>NaT</td>\n",
       "      <td>7.0</td>\n",
       "      <td>NaN</td>\n",
       "      <td>NaN</td>\n",
       "      <td>NaN</td>\n",
       "      <td>4.2</td>\n",
       "    </tr>\n",
       "    <tr>\n",
       "      <th>1</th>\n",
       "      <td>00002470-bff7-6226-5800-0ca1b3787b6f</td>\n",
       "      <td>Codementor</td>\n",
       "      <td>operating</td>\n",
       "      <td>2013-01-01</td>\n",
       "      <td>2013-08-05</td>\n",
       "      <td>NaT</td>\n",
       "      <td>NaT</td>\n",
       "      <td>NaT</td>\n",
       "      <td>5.0</td>\n",
       "      <td>NaN</td>\n",
       "      <td>NaN</td>\n",
       "      <td>NaN</td>\n",
       "      <td>8.0</td>\n",
       "    </tr>\n",
       "    <tr>\n",
       "      <th>2</th>\n",
       "      <td>000095de-8e2b-82f1-32a7-c222ba3d5682</td>\n",
       "      <td>Ultraprise Loan Technologies</td>\n",
       "      <td>operating</td>\n",
       "      <td>2001-01-01</td>\n",
       "      <td>NaT</td>\n",
       "      <td>NaT</td>\n",
       "      <td>NaT</td>\n",
       "      <td>NaT</td>\n",
       "      <td>1.0</td>\n",
       "      <td>NaN</td>\n",
       "      <td>NaN</td>\n",
       "      <td>NaN</td>\n",
       "      <td>20.0</td>\n",
       "    </tr>\n",
       "    <tr>\n",
       "      <th>3</th>\n",
       "      <td>0000d497-c93a-eea3-eeb0-a943dfb4f71e</td>\n",
       "      <td>AutoOffer</td>\n",
       "      <td>operating</td>\n",
       "      <td>2013-01-01</td>\n",
       "      <td>2015-11-17</td>\n",
       "      <td>NaT</td>\n",
       "      <td>NaT</td>\n",
       "      <td>NaT</td>\n",
       "      <td>2.0</td>\n",
       "      <td>NaN</td>\n",
       "      <td>NaN</td>\n",
       "      <td>NaN</td>\n",
       "      <td>8.0</td>\n",
       "    </tr>\n",
       "    <tr>\n",
       "      <th>4</th>\n",
       "      <td>0001a8cc-0cdc-4a30-b4d3-da1b425069e1</td>\n",
       "      <td>SnapClarity</td>\n",
       "      <td>acquired</td>\n",
       "      <td>2016-01-01</td>\n",
       "      <td>NaT</td>\n",
       "      <td>NaT</td>\n",
       "      <td>NaT</td>\n",
       "      <td>NaT</td>\n",
       "      <td>3.0</td>\n",
       "      <td>4.5</td>\n",
       "      <td>NaN</td>\n",
       "      <td>NaN</td>\n",
       "      <td>NaN</td>\n",
       "    </tr>\n",
       "  </tbody>\n",
       "</table>\n",
       "</div>"
      ],
      "text/plain": [
       "                               org_uuid                          name  \\\n",
       "0  000014da-0c46-b9cb-0941-3a93c027b119                       Resilio   \n",
       "1  00002470-bff7-6226-5800-0ca1b3787b6f                    Codementor   \n",
       "2  000095de-8e2b-82f1-32a7-c222ba3d5682  Ultraprise Loan Technologies   \n",
       "3  0000d497-c93a-eea3-eeb0-a943dfb4f71e                     AutoOffer   \n",
       "4  0001a8cc-0cdc-4a30-b4d3-da1b425069e1                   SnapClarity   \n",
       "\n",
       "      status founded_on  seed_date series_a_date series_b_date series_c_date  \\\n",
       "0  operating 2016-11-01        NaT           NaT           NaT           NaT   \n",
       "1  operating 2013-01-01 2013-08-05           NaT           NaT           NaT   \n",
       "2  operating 2001-01-01        NaT           NaT           NaT           NaT   \n",
       "3  operating 2013-01-01 2015-11-17           NaT           NaT           NaT   \n",
       "4   acquired 2016-01-01        NaT           NaT           NaT           NaT   \n",
       "\n",
       "   num_funding_rounds  duration_to_acquisition_years  duration_to_ipo_years  \\\n",
       "0                 7.0                            NaN                    NaN   \n",
       "1                 5.0                            NaN                    NaN   \n",
       "2                 1.0                            NaN                    NaN   \n",
       "3                 2.0                            NaN                    NaN   \n",
       "4                 3.0                            4.5                    NaN   \n",
       "\n",
       "   duration_to_closed_years  duration_to_current_years  \n",
       "0                       NaN                        4.2  \n",
       "1                       NaN                        8.0  \n",
       "2                       NaN                       20.0  \n",
       "3                       NaN                        8.0  \n",
       "4                       NaN                        NaN  "
      ]
     },
     "execution_count": 24,
     "metadata": {},
     "output_type": "execute_result"
    }
   ],
   "source": [
    "org_processing_df.head(5)"
   ]
  },
  {
   "cell_type": "code",
   "execution_count": 25,
   "id": "incomplete-butterfly",
   "metadata": {},
   "outputs": [
    {
     "data": {
      "text/html": [
       "<div>\n",
       "<style scoped>\n",
       "    .dataframe tbody tr th:only-of-type {\n",
       "        vertical-align: middle;\n",
       "    }\n",
       "\n",
       "    .dataframe tbody tr th {\n",
       "        vertical-align: top;\n",
       "    }\n",
       "\n",
       "    .dataframe thead th {\n",
       "        text-align: right;\n",
       "    }\n",
       "</style>\n",
       "<table border=\"1\" class=\"dataframe\">\n",
       "  <thead>\n",
       "    <tr style=\"text-align: right;\">\n",
       "      <th></th>\n",
       "      <th>org_uuid</th>\n",
       "      <th>name</th>\n",
       "      <th>status</th>\n",
       "      <th>founded_on</th>\n",
       "      <th>seed_date</th>\n",
       "      <th>series_a_date</th>\n",
       "      <th>series_b_date</th>\n",
       "      <th>series_c_date</th>\n",
       "      <th>num_funding_rounds</th>\n",
       "      <th>duration_to_acquisition_years</th>\n",
       "      <th>duration_to_ipo_years</th>\n",
       "      <th>duration_to_closed_years</th>\n",
       "      <th>duration_to_current_years</th>\n",
       "      <th>duration_to_seed_years</th>\n",
       "      <th>duration_to_series_a_years</th>\n",
       "      <th>duration_to_series_b_years</th>\n",
       "      <th>duration_to_series_c_years</th>\n",
       "    </tr>\n",
       "  </thead>\n",
       "  <tbody>\n",
       "    <tr>\n",
       "      <th>0</th>\n",
       "      <td>000014da-0c46-b9cb-0941-3a93c027b119</td>\n",
       "      <td>Resilio</td>\n",
       "      <td>operating</td>\n",
       "      <td>2016-11-01</td>\n",
       "      <td>NaT</td>\n",
       "      <td>NaT</td>\n",
       "      <td>NaT</td>\n",
       "      <td>NaT</td>\n",
       "      <td>7.0</td>\n",
       "      <td>NaN</td>\n",
       "      <td>NaN</td>\n",
       "      <td>NaN</td>\n",
       "      <td>4.2</td>\n",
       "      <td>NaN</td>\n",
       "      <td>NaN</td>\n",
       "      <td>NaN</td>\n",
       "      <td>NaN</td>\n",
       "    </tr>\n",
       "    <tr>\n",
       "      <th>1</th>\n",
       "      <td>00002470-bff7-6226-5800-0ca1b3787b6f</td>\n",
       "      <td>Codementor</td>\n",
       "      <td>operating</td>\n",
       "      <td>2013-01-01</td>\n",
       "      <td>2013-08-05</td>\n",
       "      <td>NaT</td>\n",
       "      <td>NaT</td>\n",
       "      <td>NaT</td>\n",
       "      <td>5.0</td>\n",
       "      <td>NaN</td>\n",
       "      <td>NaN</td>\n",
       "      <td>NaN</td>\n",
       "      <td>8.0</td>\n",
       "      <td>0.59</td>\n",
       "      <td>NaN</td>\n",
       "      <td>NaN</td>\n",
       "      <td>NaN</td>\n",
       "    </tr>\n",
       "    <tr>\n",
       "      <th>2</th>\n",
       "      <td>000095de-8e2b-82f1-32a7-c222ba3d5682</td>\n",
       "      <td>Ultraprise Loan Technologies</td>\n",
       "      <td>operating</td>\n",
       "      <td>2001-01-01</td>\n",
       "      <td>NaT</td>\n",
       "      <td>NaT</td>\n",
       "      <td>NaT</td>\n",
       "      <td>NaT</td>\n",
       "      <td>1.0</td>\n",
       "      <td>NaN</td>\n",
       "      <td>NaN</td>\n",
       "      <td>NaN</td>\n",
       "      <td>20.0</td>\n",
       "      <td>NaN</td>\n",
       "      <td>NaN</td>\n",
       "      <td>NaN</td>\n",
       "      <td>NaN</td>\n",
       "    </tr>\n",
       "  </tbody>\n",
       "</table>\n",
       "</div>"
      ],
      "text/plain": [
       "                               org_uuid                          name  \\\n",
       "0  000014da-0c46-b9cb-0941-3a93c027b119                       Resilio   \n",
       "1  00002470-bff7-6226-5800-0ca1b3787b6f                    Codementor   \n",
       "2  000095de-8e2b-82f1-32a7-c222ba3d5682  Ultraprise Loan Technologies   \n",
       "\n",
       "      status founded_on  seed_date series_a_date series_b_date series_c_date  \\\n",
       "0  operating 2016-11-01        NaT           NaT           NaT           NaT   \n",
       "1  operating 2013-01-01 2013-08-05           NaT           NaT           NaT   \n",
       "2  operating 2001-01-01        NaT           NaT           NaT           NaT   \n",
       "\n",
       "   num_funding_rounds  duration_to_acquisition_years  duration_to_ipo_years  \\\n",
       "0                 7.0                            NaN                    NaN   \n",
       "1                 5.0                            NaN                    NaN   \n",
       "2                 1.0                            NaN                    NaN   \n",
       "\n",
       "   duration_to_closed_years  duration_to_current_years  \\\n",
       "0                       NaN                        4.2   \n",
       "1                       NaN                        8.0   \n",
       "2                       NaN                       20.0   \n",
       "\n",
       "   duration_to_seed_years  duration_to_series_a_years  \\\n",
       "0                     NaN                         NaN   \n",
       "1                    0.59                         NaN   \n",
       "2                     NaN                         NaN   \n",
       "\n",
       "   duration_to_series_b_years  duration_to_series_c_years  \n",
       "0                         NaN                         NaN  \n",
       "1                         NaN                         NaN  \n",
       "2                         NaN                         NaN  "
      ]
     },
     "execution_count": 25,
     "metadata": {},
     "output_type": "execute_result"
    }
   ],
   "source": [
    "#Calculate duration from founded to funding rounds\n",
    "funding_rounds = ['seed','series_a','series_b','series_c']\n",
    "\n",
    "for invest_round in funding_rounds:\n",
    "    new_column = str('duration_to_' + invest_round + '_years')\n",
    "    exist_column = str (invest_round+'_date')\n",
    "    org_processing_df[new_column] = ((org_processing_df[exist_column] - org_processing_df ['founded_on']).dt.days/365).astype(float).round(2)\n",
    "\n",
    "org_processing_df.head(3)"
   ]
  },
  {
   "cell_type": "code",
   "execution_count": 26,
   "id": "imposed-charleston",
   "metadata": {},
   "outputs": [
    {
     "data": {
      "text/plain": [
       "Index(['org_uuid', 'name', 'status', 'founded_on', 'seed_date',\n",
       "       'series_a_date', 'series_b_date', 'series_c_date', 'num_funding_rounds',\n",
       "       'duration_to_acquisition_years', 'duration_to_ipo_years',\n",
       "       'duration_to_closed_years', 'duration_to_current_years',\n",
       "       'duration_to_seed_years', 'duration_to_series_a_years',\n",
       "       'duration_to_series_b_years', 'duration_to_series_c_years'],\n",
       "      dtype='object')"
      ]
     },
     "execution_count": 26,
     "metadata": {},
     "output_type": "execute_result"
    }
   ],
   "source": [
    "org_processing_df.columns"
   ]
  },
  {
   "cell_type": "code",
   "execution_count": 27,
   "id": "considered-bones",
   "metadata": {},
   "outputs": [
    {
     "data": {
      "text/plain": [
       "146062"
      ]
     },
     "execution_count": 27,
     "metadata": {},
     "output_type": "execute_result"
    }
   ],
   "source": [
    "# delete companies with series C funding during warm-up window\n",
    "mask1 = org_processing_df['duration_to_series_c_years'] > 4\n",
    "mask2 = org_processing_df['duration_to_series_c_years'].isna()\n",
    "org_processing_df = org_processing_df[mask1 | mask2]\n",
    "len(org_processing_df)"
   ]
  },
  {
   "cell_type": "code",
   "execution_count": 28,
   "id": "signed-revelation",
   "metadata": {},
   "outputs": [
    {
     "data": {
      "text/plain": [
       "143297"
      ]
     },
     "execution_count": 28,
     "metadata": {},
     "output_type": "execute_result"
    }
   ],
   "source": [
    "# delete companies acquired during warm-up window\n",
    "mask1 = org_processing_df['duration_to_acquisition_years'] > 4\n",
    "mask2 = org_processing_df['duration_to_acquisition_years'].isna()\n",
    "org_processing_df = org_processing_df[mask1 | mask2]\n",
    "len(org_processing_df)"
   ]
  },
  {
   "cell_type": "code",
   "execution_count": 29,
   "id": "large-there",
   "metadata": {},
   "outputs": [
    {
     "data": {
      "text/plain": [
       "142245"
      ]
     },
     "execution_count": 29,
     "metadata": {},
     "output_type": "execute_result"
    }
   ],
   "source": [
    "# delete companies have IPO during warm-up window\n",
    "mask1 = org_processing_df['duration_to_ipo_years'] > 4\n",
    "mask2 = org_processing_df['duration_to_ipo_years'].isna()\n",
    "org_processing_df = org_processing_df[mask1 | mask2]\n",
    "len(org_processing_df)"
   ]
  },
  {
   "cell_type": "code",
   "execution_count": 30,
   "id": "cosmetic-postage",
   "metadata": {},
   "outputs": [],
   "source": [
    "#assign dependent variable, 1 for success and 0 for non-success\n",
    "org_processing_df.reset_index(drop=True,inplace=True)\n",
    "end = len(org_processing_df)\n",
    "outcome = [0]*end\n",
    "\n",
    "for i in range (0,end):\n",
    "    company = org_processing_df.loc[i]\n",
    "    #set success condition\n",
    "    #company IPOed in simulation window\n",
    "    cond1 = company['duration_to_ipo_years'] <= 7\n",
    "    #company acquired in simulation window\n",
    "    cond2 = company['duration_to_acquisition_years'] <= 7  \n",
    "    #company got seed funding in simulation window\n",
    "    cond3 = company['duration_to_seed_years'] <= 7 and company['duration_to_seed_years'] > 4 \n",
    "    #company got funding series_a in simulation\n",
    "    cond4 = company['duration_to_series_a_years'] <= 7 and company['duration_to_series_a_years'] > 4\n",
    "    #company got funding series_b in simulation window\n",
    "    cond5 = company['duration_to_series_b_years'] <= 7 and company['duration_to_series_b_years'] > 4\n",
    "    #company got funding series_c in simulation window\n",
    "    cond6 = company['duration_to_series_c_years'] <= 7\n",
    "    \n",
    "    #for company with closed status\n",
    "    if company['status'] == 'closed':\n",
    "        #check if company been acquired or IPOed in simulation window. Assign 1 if yes, maintain 0 if not.\n",
    "        if cond1 or cond2:\n",
    "            outcome[i] = 1\n",
    "    \n",
    "    #for company with ipo, acquired and, operating status        \n",
    "    else:\n",
    "        #assign 1 if company meet any of success criteria above and maintain 0 if not. \n",
    "        if cond1 or cond2 or cond3 or cond4 or cond5 or cond6:\n",
    "            outcome[i] = 1\n",
    "            \n",
    "org_processing_df['outcome'] = outcome"
   ]
  },
  {
   "cell_type": "code",
   "execution_count": 31,
   "id": "parallel-grenada",
   "metadata": {},
   "outputs": [
    {
     "data": {
      "text/plain": [
       "0    121666\n",
       "1     20579\n",
       "Name: outcome, dtype: int64"
      ]
     },
     "execution_count": 31,
     "metadata": {},
     "output_type": "execute_result"
    }
   ],
   "source": [
    "org_processing_df['outcome'].value_counts()"
   ]
  },
  {
   "cell_type": "code",
   "execution_count": 32,
   "id": "driven-middle",
   "metadata": {},
   "outputs": [
    {
     "data": {
      "text/html": [
       "<div>\n",
       "<style scoped>\n",
       "    .dataframe tbody tr th:only-of-type {\n",
       "        vertical-align: middle;\n",
       "    }\n",
       "\n",
       "    .dataframe tbody tr th {\n",
       "        vertical-align: top;\n",
       "    }\n",
       "\n",
       "    .dataframe thead th {\n",
       "        text-align: right;\n",
       "    }\n",
       "</style>\n",
       "<table border=\"1\" class=\"dataframe\">\n",
       "  <thead>\n",
       "    <tr style=\"text-align: right;\">\n",
       "      <th></th>\n",
       "      <th>success</th>\n",
       "      <th>failure</th>\n",
       "    </tr>\n",
       "    <tr>\n",
       "      <th>status</th>\n",
       "      <th></th>\n",
       "      <th></th>\n",
       "    </tr>\n",
       "  </thead>\n",
       "  <tbody>\n",
       "    <tr>\n",
       "      <th>acquired</th>\n",
       "      <td>5104.0</td>\n",
       "      <td>3202</td>\n",
       "    </tr>\n",
       "    <tr>\n",
       "      <th>ipo</th>\n",
       "      <td>1070.0</td>\n",
       "      <td>995</td>\n",
       "    </tr>\n",
       "    <tr>\n",
       "      <th>operating</th>\n",
       "      <td>14405.0</td>\n",
       "      <td>111852</td>\n",
       "    </tr>\n",
       "    <tr>\n",
       "      <th>closed</th>\n",
       "      <td>NaN</td>\n",
       "      <td>5617</td>\n",
       "    </tr>\n",
       "  </tbody>\n",
       "</table>\n",
       "</div>"
      ],
      "text/plain": [
       "           success  failure\n",
       "status                     \n",
       "acquired    5104.0     3202\n",
       "ipo         1070.0      995\n",
       "operating  14405.0   111852\n",
       "closed         NaN     5617"
      ]
     },
     "execution_count": 32,
     "metadata": {},
     "output_type": "execute_result"
    }
   ],
   "source": [
    "success = (org_processing_df[org_processing_df.outcome == 1]).groupby('status').size().astype(int)\n",
    "failure = (org_processing_df[org_processing_df.outcome == 0].groupby('status').size()).astype(int)\n",
    "\n",
    "pd.concat ([success,failure], axis=1,keys = ['success','failure'])"
   ]
  },
  {
   "cell_type": "code",
   "execution_count": 33,
   "id": "authentic-image",
   "metadata": {},
   "outputs": [],
   "source": [
    "#save processed dataframe with outcome\n",
    "org_processing_df.to_csv(R\"d:/msc-project/data/final/outcome_final.csv\",encoding='utf-8',index=False)"
   ]
  }
 ],
 "metadata": {
  "kernelspec": {
   "display_name": "Python 3",
   "language": "python",
   "name": "python3"
  },
  "language_info": {
   "codemirror_mode": {
    "name": "ipython",
    "version": 3
   },
   "file_extension": ".py",
   "mimetype": "text/x-python",
   "name": "python",
   "nbconvert_exporter": "python",
   "pygments_lexer": "ipython3",
   "version": "3.7.9"
  }
 },
 "nbformat": 4,
 "nbformat_minor": 5
}
