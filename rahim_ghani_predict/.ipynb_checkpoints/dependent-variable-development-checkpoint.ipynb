{
 "cells": [
  {
   "cell_type": "code",
   "execution_count": 1,
   "id": "blond-validity",
   "metadata": {},
   "outputs": [],
   "source": [
    "#Import basic packages\n",
    "import os\n",
    "import numpy as np\n",
    "import pandas as pd\n",
    "import csv\n",
    "import regex as re\n",
    "import datetime as dt "
   ]
  },
  {
   "cell_type": "code",
   "execution_count": 2,
   "id": "southeast-colleague",
   "metadata": {},
   "outputs": [],
   "source": [
    "org_ori_df = pd.read_csv(R\"d:/msc-project/data/pre-processed/organisations_preprocessed.csv\",encoding='utf-8',\n",
    "                         index_col='org_uuid',\n",
    "                         parse_dates= ['founded_on','went_public_on','acquired_on','closed_on'])"
   ]
  },
  {
   "cell_type": "code",
   "execution_count": 3,
   "id": "technical-kennedy",
   "metadata": {},
   "outputs": [
    {
     "data": {
      "text/plain": [
       "Index(['name', 'legal_name', 'homepage_url', 'country_code', 'state_code',\n",
       "       'region', 'city', 'address', 'postal_code', 'status',\n",
       "       'short_description', 'category_list', 'category_groups_list',\n",
       "       'num_funding_rounds', 'total_funding_usd', 'total_funding',\n",
       "       'total_funding_currency_code', 'founded_on', 'last_funding_on',\n",
       "       'closed_on', 'employee_count', 'email', 'phone', 'facebook_url',\n",
       "       'linkedin_url', 'twitter_url', 'logo_url', 'primary_role', 'num_exits',\n",
       "       'description', 'ipo_uuid', 'stock_exchange_symbol', 'stock_symbol',\n",
       "       'went_public_on', 'share_price_usd', 'share_price',\n",
       "       'share_price_currency_code', 'valuation_price_usd', 'valuation_price',\n",
       "       'valuation_price_currency_code', 'money_raised_usd', 'money_raised',\n",
       "       'money_raised_currency_code', 'acquisition_uuid', 'acquirer_uuid',\n",
       "       'acquirer_name', 'acquirer_country_code', 'acquirer_state_code',\n",
       "       'acquirer_region', 'acquirer_city', 'acquisition_type', 'acquired_on',\n",
       "       'price_usd', 'price', 'price_currency_code', 'parent_uuid',\n",
       "       'parent_name'],\n",
       "      dtype='object')"
      ]
     },
     "execution_count": 3,
     "metadata": {},
     "output_type": "execute_result"
    }
   ],
   "source": [
    "org_ori_df.columns"
   ]
  },
  {
   "cell_type": "code",
   "execution_count": 4,
   "id": "graduate-press",
   "metadata": {},
   "outputs": [],
   "source": [
    "funding_rounds_df = pd.read_csv(R\"d:/msc-project/data/pre-processed/funding_rounds_preprocessed.csv\",encoding='utf-8', \n",
    "            index_col='funding_round_uuid',\n",
    "           parse_dates=['announced_on'])"
   ]
  },
  {
   "cell_type": "code",
   "execution_count": 5,
   "id": "gorgeous-binding",
   "metadata": {},
   "outputs": [
    {
     "data": {
      "text/plain": [
       "Index(['name', 'country_code', 'state_code', 'region', 'city',\n",
       "       'investment_type', 'announced_on', 'raised_amount_usd', 'raised_amount',\n",
       "       'raised_amount_currency_code', 'post_money_valuation_usd',\n",
       "       'post_money_valuation', 'post_money_valuation_currency_code',\n",
       "       'investor_count', 'org_uuid', 'org_name', 'lead_investor_uuids'],\n",
       "      dtype='object')"
      ]
     },
     "execution_count": 5,
     "metadata": {},
     "output_type": "execute_result"
    }
   ],
   "source": [
    "funding_rounds_df.columns"
   ]
  },
  {
   "cell_type": "code",
   "execution_count": 6,
   "id": "weird-minimum",
   "metadata": {},
   "outputs": [
    {
     "data": {
      "text/plain": [
       "364336"
      ]
     },
     "execution_count": 6,
     "metadata": {},
     "output_type": "execute_result"
    }
   ],
   "source": [
    "len(funding_rounds_df)"
   ]
  },
  {
   "cell_type": "code",
   "execution_count": 7,
   "id": "referenced-system",
   "metadata": {},
   "outputs": [
    {
     "data": {
      "text/plain": [
       "seed                     102870\n",
       "series_unknown            61708\n",
       "series_a                  42105\n",
       "series_b                  21084\n",
       "grant                     20373\n",
       "angel                     18847\n",
       "pre_seed                  17224\n",
       "debt_financing            14249\n",
       "private_equity            11158\n",
       "series_c                   9801\n",
       "convertible_note           7386\n",
       "post_ipo_equity            6416\n",
       "equity_crowdfunding        6315\n",
       "non_equity_assistance      5381\n",
       "undisclosed                5296\n",
       "series_d                   4126\n",
       "corporate_round            3335\n",
       "series_e                   1715\n",
       "post_ipo_debt              1420\n",
       "product_crowdfunding       1025\n",
       "secondary_market            784\n",
       "initial_coin_offering       688\n",
       "series_f                    611\n",
       "series_g                    210\n",
       "series_h                     89\n",
       "post_ipo_secondary           89\n",
       "series_i                     19\n",
       "series_j                     12\n",
       "Name: investment_type, dtype: int64"
      ]
     },
     "execution_count": 7,
     "metadata": {},
     "output_type": "execute_result"
    }
   ],
   "source": [
    "funding_rounds_df.investment_type.value_counts()"
   ]
  },
  {
   "cell_type": "code",
   "execution_count": 8,
   "id": "instructional-married",
   "metadata": {},
   "outputs": [],
   "source": [
    "#create processed organisation\n",
    "org_processing_df = org_ori_df[['name','status','founded_on']]"
   ]
  },
  {
   "cell_type": "code",
   "execution_count": 9,
   "id": "variable-regression",
   "metadata": {},
   "outputs": [],
   "source": [
    "#create groupbyobject for investment_type\n",
    "investment_type = funding_rounds_df.groupby('investment_type')"
   ]
  },
  {
   "cell_type": "code",
   "execution_count": 10,
   "id": "fatty-opinion",
   "metadata": {},
   "outputs": [
    {
     "data": {
      "text/plain": [
       "102870"
      ]
     },
     "execution_count": 10,
     "metadata": {},
     "output_type": "execute_result"
    }
   ],
   "source": [
    "#create df of company with seed funding\n",
    "seed_company_df = investment_type.get_group('seed')[['org_uuid','announced_on']]\n",
    "seed_company_df.dropna(subset=['announced_on'],inplace=True)\n",
    "seed_company_df.rename(columns={'announced_on':'seed_date'},inplace=True)\n",
    "len(seed_company_df)"
   ]
  },
  {
   "cell_type": "code",
   "execution_count": 11,
   "id": "broadband-workshop",
   "metadata": {},
   "outputs": [],
   "source": [
    "#drop duplicate of companies with more than one seed date. keep only the first seed date.\n",
    "seed_company_df.sort_values(by=['seed_date'],inplace=True)\n",
    "seed_company_df_v1 = seed_company_df.drop_duplicates(subset=['org_uuid'],keep='first')"
   ]
  },
  {
   "cell_type": "code",
   "execution_count": 12,
   "id": "convertible-jimmy",
   "metadata": {},
   "outputs": [
    {
     "data": {
      "text/plain": [
       "78970"
      ]
     },
     "execution_count": 12,
     "metadata": {},
     "output_type": "execute_result"
    }
   ],
   "source": [
    "len(seed_company_df_v1)"
   ]
  },
  {
   "cell_type": "code",
   "execution_count": 13,
   "id": "balanced-beijing",
   "metadata": {},
   "outputs": [
    {
     "data": {
      "text/html": [
       "<div>\n",
       "<style scoped>\n",
       "    .dataframe tbody tr th:only-of-type {\n",
       "        vertical-align: middle;\n",
       "    }\n",
       "\n",
       "    .dataframe tbody tr th {\n",
       "        vertical-align: top;\n",
       "    }\n",
       "\n",
       "    .dataframe thead th {\n",
       "        text-align: right;\n",
       "    }\n",
       "</style>\n",
       "<table border=\"1\" class=\"dataframe\">\n",
       "  <thead>\n",
       "    <tr style=\"text-align: right;\">\n",
       "      <th></th>\n",
       "      <th>org_uuid</th>\n",
       "      <th>seed_date</th>\n",
       "    </tr>\n",
       "    <tr>\n",
       "      <th>funding_round_uuid</th>\n",
       "      <th></th>\n",
       "      <th></th>\n",
       "    </tr>\n",
       "  </thead>\n",
       "  <tbody>\n",
       "    <tr>\n",
       "      <th>29c62cb5-bdd3-407a-a60f-a235fe819e90</th>\n",
       "      <td>65d0628c-d1d8-4699-9e61-6ef3200839ab</td>\n",
       "      <td>1950-09-20</td>\n",
       "    </tr>\n",
       "    <tr>\n",
       "      <th>24093d19-1f1d-ae85-64fe-557d2d08b368</th>\n",
       "      <td>1e4f199c-363b-451b-a164-f94571075ee5</td>\n",
       "      <td>1968-07-31</td>\n",
       "    </tr>\n",
       "    <tr>\n",
       "      <th>60fa2775-2c45-44d2-a649-bba7bf89338e</th>\n",
       "      <td>2e2cbc7a-bb1a-bd6d-3c6d-92a6def15d0a</td>\n",
       "      <td>1969-01-01</td>\n",
       "    </tr>\n",
       "  </tbody>\n",
       "</table>\n",
       "</div>"
      ],
      "text/plain": [
       "                                                                  org_uuid  \\\n",
       "funding_round_uuid                                                           \n",
       "29c62cb5-bdd3-407a-a60f-a235fe819e90  65d0628c-d1d8-4699-9e61-6ef3200839ab   \n",
       "24093d19-1f1d-ae85-64fe-557d2d08b368  1e4f199c-363b-451b-a164-f94571075ee5   \n",
       "60fa2775-2c45-44d2-a649-bba7bf89338e  2e2cbc7a-bb1a-bd6d-3c6d-92a6def15d0a   \n",
       "\n",
       "                                      seed_date  \n",
       "funding_round_uuid                               \n",
       "29c62cb5-bdd3-407a-a60f-a235fe819e90 1950-09-20  \n",
       "24093d19-1f1d-ae85-64fe-557d2d08b368 1968-07-31  \n",
       "60fa2775-2c45-44d2-a649-bba7bf89338e 1969-01-01  "
      ]
     },
     "execution_count": 13,
     "metadata": {},
     "output_type": "execute_result"
    }
   ],
   "source": [
    "seed_company_df_v1.head(3)"
   ]
  },
  {
   "cell_type": "code",
   "execution_count": 14,
   "id": "associate-batch",
   "metadata": {},
   "outputs": [
    {
     "data": {
      "text/plain": [
       "42105"
      ]
     },
     "execution_count": 14,
     "metadata": {},
     "output_type": "execute_result"
    }
   ],
   "source": [
    "#create df of company with series_a funding\n",
    "series_a_company_df = investment_type.get_group('series_a')[['org_uuid','announced_on']]\n",
    "series_a_company_df.dropna(subset=['announced_on'],inplace=True)\n",
    "series_a_company_df.rename(columns={'announced_on':'series_a_date'},inplace=True)\n",
    "len(series_a_company_df)"
   ]
  },
  {
   "cell_type": "code",
   "execution_count": 15,
   "id": "clean-cleaning",
   "metadata": {},
   "outputs": [
    {
     "data": {
      "text/plain": [
       "37375"
      ]
     },
     "execution_count": 15,
     "metadata": {},
     "output_type": "execute_result"
    }
   ],
   "source": [
    "#drop companies with more than one series a funding. keep only the first series a date\n",
    "series_a_company_df.sort_values(by=['series_a_date'],inplace=True)\n",
    "series_a_company_df_v1 = series_a_company_df.drop_duplicates(subset=['org_uuid'],keep='first')\n",
    "len(series_a_company_df_v1)"
   ]
  },
  {
   "cell_type": "code",
   "execution_count": 16,
   "id": "active-reading",
   "metadata": {},
   "outputs": [
    {
     "data": {
      "text/html": [
       "<div>\n",
       "<style scoped>\n",
       "    .dataframe tbody tr th:only-of-type {\n",
       "        vertical-align: middle;\n",
       "    }\n",
       "\n",
       "    .dataframe tbody tr th {\n",
       "        vertical-align: top;\n",
       "    }\n",
       "\n",
       "    .dataframe thead th {\n",
       "        text-align: right;\n",
       "    }\n",
       "</style>\n",
       "<table border=\"1\" class=\"dataframe\">\n",
       "  <thead>\n",
       "    <tr style=\"text-align: right;\">\n",
       "      <th></th>\n",
       "      <th>org_uuid</th>\n",
       "      <th>series_a_date</th>\n",
       "    </tr>\n",
       "    <tr>\n",
       "      <th>funding_round_uuid</th>\n",
       "      <th></th>\n",
       "      <th></th>\n",
       "    </tr>\n",
       "  </thead>\n",
       "  <tbody>\n",
       "    <tr>\n",
       "      <th>9184700e-351d-4677-b240-ad2cc3b59d43</th>\n",
       "      <td>79ff0cd7-b392-41e5-80df-870bb2b40d96</td>\n",
       "      <td>1980-09-04</td>\n",
       "    </tr>\n",
       "    <tr>\n",
       "      <th>dba36c7a-4142-c372-d426-7784a6de74ee</th>\n",
       "      <td>27bb6fe7-0a5d-01c6-30af-55bd8e94c8e6</td>\n",
       "      <td>1981-09-01</td>\n",
       "    </tr>\n",
       "    <tr>\n",
       "      <th>46c353a8-2491-70cc-4b6a-b89a522fefdc</th>\n",
       "      <td>322eee3f-a036-651f-5754-0f8759374699</td>\n",
       "      <td>1982-06-01</td>\n",
       "    </tr>\n",
       "  </tbody>\n",
       "</table>\n",
       "</div>"
      ],
      "text/plain": [
       "                                                                  org_uuid  \\\n",
       "funding_round_uuid                                                           \n",
       "9184700e-351d-4677-b240-ad2cc3b59d43  79ff0cd7-b392-41e5-80df-870bb2b40d96   \n",
       "dba36c7a-4142-c372-d426-7784a6de74ee  27bb6fe7-0a5d-01c6-30af-55bd8e94c8e6   \n",
       "46c353a8-2491-70cc-4b6a-b89a522fefdc  322eee3f-a036-651f-5754-0f8759374699   \n",
       "\n",
       "                                     series_a_date  \n",
       "funding_round_uuid                                  \n",
       "9184700e-351d-4677-b240-ad2cc3b59d43    1980-09-04  \n",
       "dba36c7a-4142-c372-d426-7784a6de74ee    1981-09-01  \n",
       "46c353a8-2491-70cc-4b6a-b89a522fefdc    1982-06-01  "
      ]
     },
     "execution_count": 16,
     "metadata": {},
     "output_type": "execute_result"
    }
   ],
   "source": [
    "series_a_company_df_v1.head(3)"
   ]
  },
  {
   "cell_type": "code",
   "execution_count": 17,
   "id": "vital-fiction",
   "metadata": {},
   "outputs": [
    {
     "data": {
      "text/plain": [
       "61708"
      ]
     },
     "execution_count": 17,
     "metadata": {},
     "output_type": "execute_result"
    }
   ],
   "source": [
    "#create df of company with series_uknown funding. Possibility of series to be series a\n",
    "series_unknown_company_df = investment_type.get_group('series_unknown')[['org_uuid','announced_on']]\n",
    "series_unknown_company_df.dropna(subset=['announced_on'],inplace=True)\n",
    "series_unknown_company_df.rename(columns={'announced_on':'series_unknown_date'},inplace=True)\n",
    "len(series_unknown_company_df)"
   ]
  },
  {
   "cell_type": "code",
   "execution_count": 18,
   "id": "aggressive-airfare",
   "metadata": {},
   "outputs": [
    {
     "data": {
      "text/plain": [
       "45102"
      ]
     },
     "execution_count": 18,
     "metadata": {},
     "output_type": "execute_result"
    }
   ],
   "source": [
    "#drop companies with more than one series_unknown funding. keep only the first funding\n",
    "series_unknown_company_df.sort_values(by=['series_unknown_date'],inplace=True)\n",
    "series_unknown_company_df_v1 = series_unknown_company_df.drop_duplicates(subset=['org_uuid'],keep='first')\n",
    "len(series_unknown_company_df_v1)"
   ]
  },
  {
   "cell_type": "code",
   "execution_count": 21,
   "id": "original-absolute",
   "metadata": {},
   "outputs": [],
   "source": [
    "#merge series a with series unknown\n",
    "first_funding_df = pd.merge(series_a_company_df_v1,\n",
    "                           series_unknown_company_df_v1,\n",
    "                           on='org_uuid',\n",
    "                           how='left')"
   ]
  },
  {
   "cell_type": "code",
   "execution_count": 22,
   "id": "scenic-remove",
   "metadata": {},
   "outputs": [],
   "source": [
    "#fill NaN series_a date using series_unknown date. Assume series_unknown as series_a\n",
    "first_funding_df['series_a_date'] = first_funding_df['series_a_date'].fillna(first_funding_df['series_unknown_date'])"
   ]
  },
  {
   "cell_type": "code",
   "execution_count": 23,
   "id": "functional-accountability",
   "metadata": {},
   "outputs": [],
   "source": [
    "#drop series_uknown date\n",
    "first_funding_df.drop(columns=['series_unknown_date'],inplace=True)"
   ]
  },
  {
   "cell_type": "code",
   "execution_count": 24,
   "id": "accredited-praise",
   "metadata": {},
   "outputs": [
    {
     "data": {
      "text/html": [
       "<div>\n",
       "<style scoped>\n",
       "    .dataframe tbody tr th:only-of-type {\n",
       "        vertical-align: middle;\n",
       "    }\n",
       "\n",
       "    .dataframe tbody tr th {\n",
       "        vertical-align: top;\n",
       "    }\n",
       "\n",
       "    .dataframe thead th {\n",
       "        text-align: right;\n",
       "    }\n",
       "</style>\n",
       "<table border=\"1\" class=\"dataframe\">\n",
       "  <thead>\n",
       "    <tr style=\"text-align: right;\">\n",
       "      <th></th>\n",
       "      <th>org_uuid</th>\n",
       "      <th>series_a_date</th>\n",
       "    </tr>\n",
       "  </thead>\n",
       "  <tbody>\n",
       "    <tr>\n",
       "      <th>0</th>\n",
       "      <td>79ff0cd7-b392-41e5-80df-870bb2b40d96</td>\n",
       "      <td>1980-09-04</td>\n",
       "    </tr>\n",
       "    <tr>\n",
       "      <th>1</th>\n",
       "      <td>27bb6fe7-0a5d-01c6-30af-55bd8e94c8e6</td>\n",
       "      <td>1981-09-01</td>\n",
       "    </tr>\n",
       "    <tr>\n",
       "      <th>2</th>\n",
       "      <td>322eee3f-a036-651f-5754-0f8759374699</td>\n",
       "      <td>1982-06-01</td>\n",
       "    </tr>\n",
       "  </tbody>\n",
       "</table>\n",
       "</div>"
      ],
      "text/plain": [
       "                               org_uuid series_a_date\n",
       "0  79ff0cd7-b392-41e5-80df-870bb2b40d96    1980-09-04\n",
       "1  27bb6fe7-0a5d-01c6-30af-55bd8e94c8e6    1981-09-01\n",
       "2  322eee3f-a036-651f-5754-0f8759374699    1982-06-01"
      ]
     },
     "execution_count": 24,
     "metadata": {},
     "output_type": "execute_result"
    }
   ],
   "source": [
    "first_funding_df.head(3)"
   ]
  },
  {
   "cell_type": "code",
   "execution_count": 25,
   "id": "controlled-supervision",
   "metadata": {},
   "outputs": [
    {
     "data": {
      "text/plain": [
       "104464"
      ]
     },
     "execution_count": 25,
     "metadata": {},
     "output_type": "execute_result"
    }
   ],
   "source": [
    "#merge with seed fund companies\n",
    "first_funding_df_v1 = pd.merge (seed_company_df_v1,\n",
    "                                first_funding_df,\n",
    "                                on='org_uuid',\n",
    "                                how='outer')\n",
    "len(first_funding_df_v1)"
   ]
  },
  {
   "cell_type": "code",
   "execution_count": 26,
   "id": "liquid-albert",
   "metadata": {},
   "outputs": [
    {
     "data": {
      "text/html": [
       "<div>\n",
       "<style scoped>\n",
       "    .dataframe tbody tr th:only-of-type {\n",
       "        vertical-align: middle;\n",
       "    }\n",
       "\n",
       "    .dataframe tbody tr th {\n",
       "        vertical-align: top;\n",
       "    }\n",
       "\n",
       "    .dataframe thead th {\n",
       "        text-align: right;\n",
       "    }\n",
       "</style>\n",
       "<table border=\"1\" class=\"dataframe\">\n",
       "  <thead>\n",
       "    <tr style=\"text-align: right;\">\n",
       "      <th></th>\n",
       "      <th>org_uuid</th>\n",
       "      <th>seed_date</th>\n",
       "      <th>series_a_date</th>\n",
       "    </tr>\n",
       "  </thead>\n",
       "  <tbody>\n",
       "    <tr>\n",
       "      <th>0</th>\n",
       "      <td>65d0628c-d1d8-4699-9e61-6ef3200839ab</td>\n",
       "      <td>1950-09-20</td>\n",
       "      <td>NaT</td>\n",
       "    </tr>\n",
       "    <tr>\n",
       "      <th>1</th>\n",
       "      <td>1e4f199c-363b-451b-a164-f94571075ee5</td>\n",
       "      <td>1968-07-31</td>\n",
       "      <td>NaT</td>\n",
       "    </tr>\n",
       "    <tr>\n",
       "      <th>2</th>\n",
       "      <td>2e2cbc7a-bb1a-bd6d-3c6d-92a6def15d0a</td>\n",
       "      <td>1969-01-01</td>\n",
       "      <td>NaT</td>\n",
       "    </tr>\n",
       "  </tbody>\n",
       "</table>\n",
       "</div>"
      ],
      "text/plain": [
       "                               org_uuid  seed_date series_a_date\n",
       "0  65d0628c-d1d8-4699-9e61-6ef3200839ab 1950-09-20           NaT\n",
       "1  1e4f199c-363b-451b-a164-f94571075ee5 1968-07-31           NaT\n",
       "2  2e2cbc7a-bb1a-bd6d-3c6d-92a6def15d0a 1969-01-01           NaT"
      ]
     },
     "execution_count": 26,
     "metadata": {},
     "output_type": "execute_result"
    }
   ],
   "source": [
    "first_funding_df_v1.head(3)"
   ]
  },
  {
   "cell_type": "code",
   "execution_count": 27,
   "id": "marine-avatar",
   "metadata": {},
   "outputs": [
    {
     "data": {
      "text/plain": [
       "104464"
      ]
     },
     "execution_count": 27,
     "metadata": {},
     "output_type": "execute_result"
    }
   ],
   "source": [
    "#drop any company with no first funding\n",
    "first_funding_df_v1.dropna(subset=['seed_date','series_a_date',],\n",
    "                           how='all',\n",
    "                           inplace=True)\n",
    "len(first_funding_df_v1)"
   ]
  },
  {
   "cell_type": "code",
   "execution_count": 28,
   "id": "average-pound",
   "metadata": {},
   "outputs": [
    {
     "data": {
      "text/plain": [
       "104464"
      ]
     },
     "execution_count": 28,
     "metadata": {},
     "output_type": "execute_result"
    }
   ],
   "source": [
    "#drop any duplicated round, if any.\n",
    "first_funding_df_v1.sort_values(by=['seed_date','series_a_date'],inplace=True)\n",
    "first_funding_df_v1.drop_duplicates(subset=['org_uuid'],keep='first',inplace=True)\n",
    "len(first_funding_df_v1)"
   ]
  },
  {
   "cell_type": "code",
   "execution_count": 29,
   "id": "conventional-program",
   "metadata": {},
   "outputs": [
    {
     "data": {
      "text/plain": [
       "org_uuid             0\n",
       "seed_date        25494\n",
       "series_a_date    67089\n",
       "dtype: int64"
      ]
     },
     "execution_count": 29,
     "metadata": {},
     "output_type": "execute_result"
    }
   ],
   "source": [
    "first_funding_df_v1.isnull().sum(axis=0)"
   ]
  },
  {
   "cell_type": "code",
   "execution_count": 30,
   "id": "seeing-texture",
   "metadata": {},
   "outputs": [
    {
     "data": {
      "text/plain": [
       "153048"
      ]
     },
     "execution_count": 30,
     "metadata": {},
     "output_type": "execute_result"
    }
   ],
   "source": [
    "#merge with main processing df\n",
    "org_processing_df_v1 = pd.merge(org_processing_df,\n",
    "                                first_funding_df_v1,\n",
    "                                on='org_uuid',\n",
    "                                how='left')\n",
    "len(org_processing_df_v1)"
   ]
  },
  {
   "cell_type": "code",
   "execution_count": 31,
   "id": "honey-woman",
   "metadata": {},
   "outputs": [
    {
     "data": {
      "text/html": [
       "<div>\n",
       "<style scoped>\n",
       "    .dataframe tbody tr th:only-of-type {\n",
       "        vertical-align: middle;\n",
       "    }\n",
       "\n",
       "    .dataframe tbody tr th {\n",
       "        vertical-align: top;\n",
       "    }\n",
       "\n",
       "    .dataframe thead th {\n",
       "        text-align: right;\n",
       "    }\n",
       "</style>\n",
       "<table border=\"1\" class=\"dataframe\">\n",
       "  <thead>\n",
       "    <tr style=\"text-align: right;\">\n",
       "      <th></th>\n",
       "      <th>org_uuid</th>\n",
       "      <th>name</th>\n",
       "      <th>status</th>\n",
       "      <th>founded_on</th>\n",
       "      <th>seed_date</th>\n",
       "      <th>series_a_date</th>\n",
       "    </tr>\n",
       "  </thead>\n",
       "  <tbody>\n",
       "    <tr>\n",
       "      <th>0</th>\n",
       "      <td>e1393508-30ea-8a36-3f96-dd3226033abd</td>\n",
       "      <td>Wetpaint</td>\n",
       "      <td>acquired</td>\n",
       "      <td>2005-06-01</td>\n",
       "      <td>NaT</td>\n",
       "      <td>2005-10-01</td>\n",
       "    </tr>\n",
       "    <tr>\n",
       "      <th>1</th>\n",
       "      <td>5f2b40b8-d1b3-d323-d81a-b7a8e89553d0</td>\n",
       "      <td>Digg</td>\n",
       "      <td>acquired</td>\n",
       "      <td>2004-10-11</td>\n",
       "      <td>NaT</td>\n",
       "      <td>2005-10-28</td>\n",
       "    </tr>\n",
       "    <tr>\n",
       "      <th>2</th>\n",
       "      <td>df662812-7f97-0b43-9d3e-12f64f504fbb</td>\n",
       "      <td>Facebook</td>\n",
       "      <td>ipo</td>\n",
       "      <td>2004-02-04</td>\n",
       "      <td>NaT</td>\n",
       "      <td>2005-05-01</td>\n",
       "    </tr>\n",
       "  </tbody>\n",
       "</table>\n",
       "</div>"
      ],
      "text/plain": [
       "                               org_uuid      name    status founded_on  \\\n",
       "0  e1393508-30ea-8a36-3f96-dd3226033abd  Wetpaint  acquired 2005-06-01   \n",
       "1  5f2b40b8-d1b3-d323-d81a-b7a8e89553d0      Digg  acquired 2004-10-11   \n",
       "2  df662812-7f97-0b43-9d3e-12f64f504fbb  Facebook       ipo 2004-02-04   \n",
       "\n",
       "  seed_date series_a_date  \n",
       "0       NaT    2005-10-01  \n",
       "1       NaT    2005-10-28  \n",
       "2       NaT    2005-05-01  "
      ]
     },
     "execution_count": 31,
     "metadata": {},
     "output_type": "execute_result"
    }
   ],
   "source": [
    "org_processing_df_v1.head(3)"
   ]
  },
  {
   "cell_type": "code",
   "execution_count": 33,
   "id": "lovely-person",
   "metadata": {},
   "outputs": [
    {
     "data": {
      "text/plain": [
       "93782"
      ]
     },
     "execution_count": 33,
     "metadata": {},
     "output_type": "execute_result"
    }
   ],
   "source": [
    "#drop companies with no funding round information\n",
    "org_processing_df_v1.dropna(subset=['seed_date','series_a_date'],how='all',inplace=True)\n",
    "len(org_processing_df_v1)"
   ]
  },
  {
   "cell_type": "code",
   "execution_count": 35,
   "id": "sporting-model",
   "metadata": {},
   "outputs": [],
   "source": [
    "org_processing_df_v1['first_fund_date'] = org_processing_df_v1[['seed_date','series_a_date']].min(axis=1)"
   ]
  },
  {
   "cell_type": "code",
   "execution_count": 36,
   "id": "recorded-power",
   "metadata": {},
   "outputs": [
    {
     "data": {
      "text/html": [
       "<div>\n",
       "<style scoped>\n",
       "    .dataframe tbody tr th:only-of-type {\n",
       "        vertical-align: middle;\n",
       "    }\n",
       "\n",
       "    .dataframe tbody tr th {\n",
       "        vertical-align: top;\n",
       "    }\n",
       "\n",
       "    .dataframe thead th {\n",
       "        text-align: right;\n",
       "    }\n",
       "</style>\n",
       "<table border=\"1\" class=\"dataframe\">\n",
       "  <thead>\n",
       "    <tr style=\"text-align: right;\">\n",
       "      <th></th>\n",
       "      <th>org_uuid</th>\n",
       "      <th>name</th>\n",
       "      <th>status</th>\n",
       "      <th>founded_on</th>\n",
       "      <th>seed_date</th>\n",
       "      <th>series_a_date</th>\n",
       "      <th>first_fund_date</th>\n",
       "    </tr>\n",
       "  </thead>\n",
       "  <tbody>\n",
       "    <tr>\n",
       "      <th>0</th>\n",
       "      <td>e1393508-30ea-8a36-3f96-dd3226033abd</td>\n",
       "      <td>Wetpaint</td>\n",
       "      <td>acquired</td>\n",
       "      <td>2005-06-01</td>\n",
       "      <td>NaT</td>\n",
       "      <td>2005-10-01</td>\n",
       "      <td>2005-10-01</td>\n",
       "    </tr>\n",
       "    <tr>\n",
       "      <th>1</th>\n",
       "      <td>5f2b40b8-d1b3-d323-d81a-b7a8e89553d0</td>\n",
       "      <td>Digg</td>\n",
       "      <td>acquired</td>\n",
       "      <td>2004-10-11</td>\n",
       "      <td>NaT</td>\n",
       "      <td>2005-10-28</td>\n",
       "      <td>2005-10-28</td>\n",
       "    </tr>\n",
       "    <tr>\n",
       "      <th>2</th>\n",
       "      <td>df662812-7f97-0b43-9d3e-12f64f504fbb</td>\n",
       "      <td>Facebook</td>\n",
       "      <td>ipo</td>\n",
       "      <td>2004-02-04</td>\n",
       "      <td>NaT</td>\n",
       "      <td>2005-05-01</td>\n",
       "      <td>2005-05-01</td>\n",
       "    </tr>\n",
       "  </tbody>\n",
       "</table>\n",
       "</div>"
      ],
      "text/plain": [
       "                               org_uuid      name    status founded_on  \\\n",
       "0  e1393508-30ea-8a36-3f96-dd3226033abd  Wetpaint  acquired 2005-06-01   \n",
       "1  5f2b40b8-d1b3-d323-d81a-b7a8e89553d0      Digg  acquired 2004-10-11   \n",
       "2  df662812-7f97-0b43-9d3e-12f64f504fbb  Facebook       ipo 2004-02-04   \n",
       "\n",
       "  seed_date series_a_date first_fund_date  \n",
       "0       NaT    2005-10-01      2005-10-01  \n",
       "1       NaT    2005-10-28      2005-10-28  \n",
       "2       NaT    2005-05-01      2005-05-01  "
      ]
     },
     "execution_count": 36,
     "metadata": {},
     "output_type": "execute_result"
    }
   ],
   "source": [
    "org_processing_df_v1.head(3)"
   ]
  },
  {
   "cell_type": "code",
   "execution_count": 37,
   "id": "abstract-daily",
   "metadata": {},
   "outputs": [
    {
     "data": {
      "text/plain": [
       "org_uuid               0\n",
       "name                   0\n",
       "status                 0\n",
       "founded_on             0\n",
       "seed_date          21335\n",
       "series_a_date      60872\n",
       "first_fund_date        0\n",
       "dtype: int64"
      ]
     },
     "execution_count": 37,
     "metadata": {},
     "output_type": "execute_result"
    }
   ],
   "source": [
    "org_processing_df_v1.isnull().sum(axis=0)"
   ]
  },
  {
   "cell_type": "code",
   "execution_count": 38,
   "id": "missing-differential",
   "metadata": {},
   "outputs": [
    {
     "data": {
      "text/plain": [
       "95755"
      ]
     },
     "execution_count": 38,
     "metadata": {},
     "output_type": "execute_result"
    }
   ],
   "source": [
    "#add series_b date\n",
    "org_processing_df_v2 = pd.merge(org_processing_df_v1,\n",
    "                             investment_type.get_group('series_b')[['org_uuid','announced_on']],\n",
    "                            on='org_uuid',\n",
    "                            how = 'left')\n",
    "#org_processing_df.dropna(subset=['announced_on'],inplace=True)\n",
    "org_processing_df_v2.rename(columns={'announced_on':'series_b_date'},inplace=True)\n",
    "len(org_processing_df_v2)"
   ]
  },
  {
   "cell_type": "code",
   "execution_count": 39,
   "id": "closing-italian",
   "metadata": {},
   "outputs": [
    {
     "data": {
      "text/html": [
       "<div>\n",
       "<style scoped>\n",
       "    .dataframe tbody tr th:only-of-type {\n",
       "        vertical-align: middle;\n",
       "    }\n",
       "\n",
       "    .dataframe tbody tr th {\n",
       "        vertical-align: top;\n",
       "    }\n",
       "\n",
       "    .dataframe thead th {\n",
       "        text-align: right;\n",
       "    }\n",
       "</style>\n",
       "<table border=\"1\" class=\"dataframe\">\n",
       "  <thead>\n",
       "    <tr style=\"text-align: right;\">\n",
       "      <th></th>\n",
       "      <th>org_uuid</th>\n",
       "      <th>name</th>\n",
       "      <th>status</th>\n",
       "      <th>founded_on</th>\n",
       "      <th>seed_date</th>\n",
       "      <th>series_a_date</th>\n",
       "      <th>first_fund_date</th>\n",
       "      <th>series_b_date</th>\n",
       "    </tr>\n",
       "  </thead>\n",
       "  <tbody>\n",
       "    <tr>\n",
       "      <th>0</th>\n",
       "      <td>e1393508-30ea-8a36-3f96-dd3226033abd</td>\n",
       "      <td>Wetpaint</td>\n",
       "      <td>acquired</td>\n",
       "      <td>2005-06-01</td>\n",
       "      <td>NaT</td>\n",
       "      <td>2005-10-01</td>\n",
       "      <td>2005-10-01</td>\n",
       "      <td>2007-01-01</td>\n",
       "    </tr>\n",
       "    <tr>\n",
       "      <th>1</th>\n",
       "      <td>5f2b40b8-d1b3-d323-d81a-b7a8e89553d0</td>\n",
       "      <td>Digg</td>\n",
       "      <td>acquired</td>\n",
       "      <td>2004-10-11</td>\n",
       "      <td>NaT</td>\n",
       "      <td>2005-10-28</td>\n",
       "      <td>2005-10-28</td>\n",
       "      <td>2006-12-01</td>\n",
       "    </tr>\n",
       "    <tr>\n",
       "      <th>2</th>\n",
       "      <td>df662812-7f97-0b43-9d3e-12f64f504fbb</td>\n",
       "      <td>Facebook</td>\n",
       "      <td>ipo</td>\n",
       "      <td>2004-02-04</td>\n",
       "      <td>NaT</td>\n",
       "      <td>2005-05-01</td>\n",
       "      <td>2005-05-01</td>\n",
       "      <td>2006-04-01</td>\n",
       "    </tr>\n",
       "  </tbody>\n",
       "</table>\n",
       "</div>"
      ],
      "text/plain": [
       "                               org_uuid      name    status founded_on  \\\n",
       "0  e1393508-30ea-8a36-3f96-dd3226033abd  Wetpaint  acquired 2005-06-01   \n",
       "1  5f2b40b8-d1b3-d323-d81a-b7a8e89553d0      Digg  acquired 2004-10-11   \n",
       "2  df662812-7f97-0b43-9d3e-12f64f504fbb  Facebook       ipo 2004-02-04   \n",
       "\n",
       "  seed_date series_a_date first_fund_date series_b_date  \n",
       "0       NaT    2005-10-01      2005-10-01    2007-01-01  \n",
       "1       NaT    2005-10-28      2005-10-28    2006-12-01  \n",
       "2       NaT    2005-05-01      2005-05-01    2006-04-01  "
      ]
     },
     "execution_count": 39,
     "metadata": {},
     "output_type": "execute_result"
    }
   ],
   "source": [
    "org_processing_df_v2.head(3)"
   ]
  },
  {
   "cell_type": "code",
   "execution_count": 40,
   "id": "radical-inspection",
   "metadata": {},
   "outputs": [
    {
     "data": {
      "text/plain": [
       "96722"
      ]
     },
     "execution_count": 40,
     "metadata": {},
     "output_type": "execute_result"
    }
   ],
   "source": [
    "#add series c date\n",
    "org_processing_df_v3 = pd.merge(org_processing_df_v2,\n",
    "                                investment_type.get_group('series_c')[['org_uuid','announced_on']],\n",
    "                                on='org_uuid',\n",
    "                                how = 'left')\n",
    "org_processing_df_v3.rename(columns={'announced_on':'series_c_date'},inplace=True)\n",
    "len(org_processing_df_v3)"
   ]
  },
  {
   "cell_type": "code",
   "execution_count": 41,
   "id": "accessory-longitude",
   "metadata": {},
   "outputs": [
    {
     "data": {
      "text/html": [
       "<div>\n",
       "<style scoped>\n",
       "    .dataframe tbody tr th:only-of-type {\n",
       "        vertical-align: middle;\n",
       "    }\n",
       "\n",
       "    .dataframe tbody tr th {\n",
       "        vertical-align: top;\n",
       "    }\n",
       "\n",
       "    .dataframe thead th {\n",
       "        text-align: right;\n",
       "    }\n",
       "</style>\n",
       "<table border=\"1\" class=\"dataframe\">\n",
       "  <thead>\n",
       "    <tr style=\"text-align: right;\">\n",
       "      <th></th>\n",
       "      <th>org_uuid</th>\n",
       "      <th>name</th>\n",
       "      <th>status</th>\n",
       "      <th>founded_on</th>\n",
       "      <th>seed_date</th>\n",
       "      <th>series_a_date</th>\n",
       "      <th>first_fund_date</th>\n",
       "      <th>series_b_date</th>\n",
       "      <th>series_c_date</th>\n",
       "    </tr>\n",
       "  </thead>\n",
       "  <tbody>\n",
       "    <tr>\n",
       "      <th>0</th>\n",
       "      <td>e1393508-30ea-8a36-3f96-dd3226033abd</td>\n",
       "      <td>Wetpaint</td>\n",
       "      <td>acquired</td>\n",
       "      <td>2005-06-01</td>\n",
       "      <td>NaT</td>\n",
       "      <td>2005-10-01</td>\n",
       "      <td>2005-10-01</td>\n",
       "      <td>2007-01-01</td>\n",
       "      <td>2008-05-19</td>\n",
       "    </tr>\n",
       "    <tr>\n",
       "      <th>1</th>\n",
       "      <td>5f2b40b8-d1b3-d323-d81a-b7a8e89553d0</td>\n",
       "      <td>Digg</td>\n",
       "      <td>acquired</td>\n",
       "      <td>2004-10-11</td>\n",
       "      <td>NaT</td>\n",
       "      <td>2005-10-28</td>\n",
       "      <td>2005-10-28</td>\n",
       "      <td>2006-12-01</td>\n",
       "      <td>2008-09-24</td>\n",
       "    </tr>\n",
       "    <tr>\n",
       "      <th>2</th>\n",
       "      <td>5f2b40b8-d1b3-d323-d81a-b7a8e89553d0</td>\n",
       "      <td>Digg</td>\n",
       "      <td>acquired</td>\n",
       "      <td>2004-10-11</td>\n",
       "      <td>NaT</td>\n",
       "      <td>2005-10-28</td>\n",
       "      <td>2005-10-28</td>\n",
       "      <td>2006-12-01</td>\n",
       "      <td>2016-09-13</td>\n",
       "    </tr>\n",
       "  </tbody>\n",
       "</table>\n",
       "</div>"
      ],
      "text/plain": [
       "                               org_uuid      name    status founded_on  \\\n",
       "0  e1393508-30ea-8a36-3f96-dd3226033abd  Wetpaint  acquired 2005-06-01   \n",
       "1  5f2b40b8-d1b3-d323-d81a-b7a8e89553d0      Digg  acquired 2004-10-11   \n",
       "2  5f2b40b8-d1b3-d323-d81a-b7a8e89553d0      Digg  acquired 2004-10-11   \n",
       "\n",
       "  seed_date series_a_date first_fund_date series_b_date series_c_date  \n",
       "0       NaT    2005-10-01      2005-10-01    2007-01-01    2008-05-19  \n",
       "1       NaT    2005-10-28      2005-10-28    2006-12-01    2008-09-24  \n",
       "2       NaT    2005-10-28      2005-10-28    2006-12-01    2016-09-13  "
      ]
     },
     "execution_count": 41,
     "metadata": {},
     "output_type": "execute_result"
    }
   ],
   "source": [
    "org_processing_df_v3.head(3)"
   ]
  },
  {
   "cell_type": "code",
   "execution_count": 42,
   "id": "welcome-lightweight",
   "metadata": {},
   "outputs": [
    {
     "data": {
      "text/plain": [
       "93782"
      ]
     },
     "execution_count": 42,
     "metadata": {},
     "output_type": "execute_result"
    }
   ],
   "source": [
    "#drop duplicate company\n",
    "org_processing_df_v3.sort_values(by=['org_uuid','seed_date','series_a_date','series_b_date','series_c_date'],axis=0,\n",
    "                                 inplace=True,\n",
    "                                 ignore_index=True)\n",
    "org_processing_df_v3.drop_duplicates(subset=['org_uuid'],inplace=True)\n",
    "len(org_processing_df_v3)"
   ]
  },
  {
   "cell_type": "code",
   "execution_count": 43,
   "id": "descending-original",
   "metadata": {
    "scrolled": true
   },
   "outputs": [
    {
     "data": {
      "text/html": [
       "<div>\n",
       "<style scoped>\n",
       "    .dataframe tbody tr th:only-of-type {\n",
       "        vertical-align: middle;\n",
       "    }\n",
       "\n",
       "    .dataframe tbody tr th {\n",
       "        vertical-align: top;\n",
       "    }\n",
       "\n",
       "    .dataframe thead th {\n",
       "        text-align: right;\n",
       "    }\n",
       "</style>\n",
       "<table border=\"1\" class=\"dataframe\">\n",
       "  <thead>\n",
       "    <tr style=\"text-align: right;\">\n",
       "      <th></th>\n",
       "      <th>org_uuid</th>\n",
       "      <th>name</th>\n",
       "      <th>status</th>\n",
       "      <th>founded_on</th>\n",
       "      <th>seed_date</th>\n",
       "      <th>series_a_date</th>\n",
       "      <th>first_fund_date</th>\n",
       "      <th>series_b_date</th>\n",
       "      <th>series_c_date</th>\n",
       "      <th>num_funding_rounds</th>\n",
       "    </tr>\n",
       "  </thead>\n",
       "  <tbody>\n",
       "    <tr>\n",
       "      <th>0</th>\n",
       "      <td>00002470-bff7-6226-5800-0ca1b3787b6f</td>\n",
       "      <td>Codementor</td>\n",
       "      <td>operating</td>\n",
       "      <td>2013-01-01</td>\n",
       "      <td>2013-08-05</td>\n",
       "      <td>NaT</td>\n",
       "      <td>2013-08-05</td>\n",
       "      <td>NaT</td>\n",
       "      <td>NaT</td>\n",
       "      <td>5.0</td>\n",
       "    </tr>\n",
       "    <tr>\n",
       "      <th>1</th>\n",
       "      <td>0000d497-c93a-eea3-eeb0-a943dfb4f71e</td>\n",
       "      <td>AutoOffer</td>\n",
       "      <td>operating</td>\n",
       "      <td>2013-01-01</td>\n",
       "      <td>2015-11-17</td>\n",
       "      <td>NaT</td>\n",
       "      <td>2015-11-17</td>\n",
       "      <td>NaT</td>\n",
       "      <td>NaT</td>\n",
       "      <td>2.0</td>\n",
       "    </tr>\n",
       "    <tr>\n",
       "      <th>2</th>\n",
       "      <td>0002aa63-f21b-4c54-9495-895a1d09e0d4</td>\n",
       "      <td>86 Repairs</td>\n",
       "      <td>operating</td>\n",
       "      <td>2018-01-01</td>\n",
       "      <td>2019-05-14</td>\n",
       "      <td>NaT</td>\n",
       "      <td>2019-05-14</td>\n",
       "      <td>NaT</td>\n",
       "      <td>NaT</td>\n",
       "      <td>1.0</td>\n",
       "    </tr>\n",
       "  </tbody>\n",
       "</table>\n",
       "</div>"
      ],
      "text/plain": [
       "                               org_uuid        name     status founded_on  \\\n",
       "0  00002470-bff7-6226-5800-0ca1b3787b6f  Codementor  operating 2013-01-01   \n",
       "1  0000d497-c93a-eea3-eeb0-a943dfb4f71e   AutoOffer  operating 2013-01-01   \n",
       "2  0002aa63-f21b-4c54-9495-895a1d09e0d4  86 Repairs  operating 2018-01-01   \n",
       "\n",
       "   seed_date series_a_date first_fund_date series_b_date series_c_date  \\\n",
       "0 2013-08-05           NaT      2013-08-05           NaT           NaT   \n",
       "1 2015-11-17           NaT      2015-11-17           NaT           NaT   \n",
       "2 2019-05-14           NaT      2019-05-14           NaT           NaT   \n",
       "\n",
       "   num_funding_rounds  \n",
       "0                 5.0  \n",
       "1                 2.0  \n",
       "2                 1.0  "
      ]
     },
     "execution_count": 43,
     "metadata": {},
     "output_type": "execute_result"
    }
   ],
   "source": [
    "org_processing_df_v4 = pd.merge(org_processing_df_v3,\n",
    "                                org_ori_df[['num_funding_rounds']],\n",
    "                                on='org_uuid',\n",
    "                                how='left')\n",
    "org_processing_df_v4.head(3)"
   ]
  },
  {
   "cell_type": "code",
   "execution_count": 44,
   "id": "pleased-incidence",
   "metadata": {},
   "outputs": [
    {
     "data": {
      "text/plain": [
       "org_uuid                  0\n",
       "name                      0\n",
       "status                    0\n",
       "founded_on                0\n",
       "seed_date             21335\n",
       "series_a_date         60872\n",
       "first_fund_date           0\n",
       "series_b_date         80627\n",
       "series_c_date         88166\n",
       "num_funding_rounds        0\n",
       "dtype: int64"
      ]
     },
     "execution_count": 44,
     "metadata": {},
     "output_type": "execute_result"
    }
   ],
   "source": [
    "org_processing_df_v4.isnull().sum(axis=0)"
   ]
  },
  {
   "cell_type": "code",
   "execution_count": 61,
   "id": "voluntary-event",
   "metadata": {},
   "outputs": [
    {
     "data": {
      "text/plain": [
       "8932"
      ]
     },
     "execution_count": 61,
     "metadata": {},
     "output_type": "execute_result"
    }
   ],
   "source": [
    "#create dataframe for acquired companies\n",
    "org_acquired_df = org_processing_df_v4[org_processing_df_v4['status'] == 'acquired']\n",
    "len(org_acquired_df)"
   ]
  },
  {
   "cell_type": "code",
   "execution_count": 52,
   "id": "competent-chamber",
   "metadata": {},
   "outputs": [
    {
     "data": {
      "text/html": [
       "<div>\n",
       "<style scoped>\n",
       "    .dataframe tbody tr th:only-of-type {\n",
       "        vertical-align: middle;\n",
       "    }\n",
       "\n",
       "    .dataframe tbody tr th {\n",
       "        vertical-align: top;\n",
       "    }\n",
       "\n",
       "    .dataframe thead th {\n",
       "        text-align: right;\n",
       "    }\n",
       "</style>\n",
       "<table border=\"1\" class=\"dataframe\">\n",
       "  <thead>\n",
       "    <tr style=\"text-align: right;\">\n",
       "      <th></th>\n",
       "      <th>org_uuid</th>\n",
       "      <th>name</th>\n",
       "      <th>status</th>\n",
       "      <th>founded_on</th>\n",
       "      <th>seed_date</th>\n",
       "      <th>series_a_date</th>\n",
       "      <th>first_fund_date</th>\n",
       "      <th>series_b_date</th>\n",
       "      <th>series_c_date</th>\n",
       "      <th>num_funding_rounds</th>\n",
       "    </tr>\n",
       "  </thead>\n",
       "  <tbody>\n",
       "    <tr>\n",
       "      <th>7</th>\n",
       "      <td>000607fc-cea0-535c-6324-e83ba07c8cc7</td>\n",
       "      <td>BioVigilant Systems</td>\n",
       "      <td>acquired</td>\n",
       "      <td>2005-01-01</td>\n",
       "      <td>NaT</td>\n",
       "      <td>2006-05-23</td>\n",
       "      <td>2006-05-23</td>\n",
       "      <td>NaT</td>\n",
       "      <td>NaT</td>\n",
       "      <td>1.0</td>\n",
       "    </tr>\n",
       "    <tr>\n",
       "      <th>14</th>\n",
       "      <td>000cff2d-58df-0a9a-97ea-6b73ed9ec601</td>\n",
       "      <td>Termaxia</td>\n",
       "      <td>acquired</td>\n",
       "      <td>2015-01-01</td>\n",
       "      <td>2016-06-22</td>\n",
       "      <td>NaT</td>\n",
       "      <td>2016-06-22</td>\n",
       "      <td>NaT</td>\n",
       "      <td>NaT</td>\n",
       "      <td>2.0</td>\n",
       "    </tr>\n",
       "    <tr>\n",
       "      <th>52</th>\n",
       "      <td>002d06bc-916e-b5ae-68a4-13b8fc40055b</td>\n",
       "      <td>Smart Device Media</td>\n",
       "      <td>acquired</td>\n",
       "      <td>2010-01-01</td>\n",
       "      <td>2011-03-08</td>\n",
       "      <td>NaT</td>\n",
       "      <td>2011-03-08</td>\n",
       "      <td>NaT</td>\n",
       "      <td>NaT</td>\n",
       "      <td>1.0</td>\n",
       "    </tr>\n",
       "  </tbody>\n",
       "</table>\n",
       "</div>"
      ],
      "text/plain": [
       "                                org_uuid                 name    status  \\\n",
       "7   000607fc-cea0-535c-6324-e83ba07c8cc7  BioVigilant Systems  acquired   \n",
       "14  000cff2d-58df-0a9a-97ea-6b73ed9ec601             Termaxia  acquired   \n",
       "52  002d06bc-916e-b5ae-68a4-13b8fc40055b   Smart Device Media  acquired   \n",
       "\n",
       "   founded_on  seed_date series_a_date first_fund_date series_b_date  \\\n",
       "7  2005-01-01        NaT    2006-05-23      2006-05-23           NaT   \n",
       "14 2015-01-01 2016-06-22           NaT      2016-06-22           NaT   \n",
       "52 2010-01-01 2011-03-08           NaT      2011-03-08           NaT   \n",
       "\n",
       "   series_c_date  num_funding_rounds  \n",
       "7            NaT                 1.0  \n",
       "14           NaT                 2.0  \n",
       "52           NaT                 1.0  "
      ]
     },
     "execution_count": 52,
     "metadata": {},
     "output_type": "execute_result"
    }
   ],
   "source": [
    "org_acquired_df.head(3)"
   ]
  },
  {
   "cell_type": "code",
   "execution_count": 63,
   "id": "annoying-digest",
   "metadata": {},
   "outputs": [
    {
     "data": {
      "text/plain": [
       "8932"
      ]
     },
     "execution_count": 63,
     "metadata": {},
     "output_type": "execute_result"
    }
   ],
   "source": [
    "#merge with acquired_on date from original data frame\n",
    "org_acquired_df_v1 = pd.merge(org_acquired_df,\n",
    "                             org_ori_df['acquired_on'],\n",
    "                             on='org_uuid',\n",
    "                             how='left')\n",
    "len(org_acquired_df)"
   ]
  },
  {
   "cell_type": "code",
   "execution_count": 64,
   "id": "trying-monroe",
   "metadata": {},
   "outputs": [
    {
     "data": {
      "text/plain": [
       "7717"
      ]
     },
     "execution_count": 64,
     "metadata": {},
     "output_type": "execute_result"
    }
   ],
   "source": [
    "#drop company with no acquisition date\n",
    "org_acquired_df_v1.dropna(subset=['acquired_on'],inplace=True)\n",
    "len(org_acquired_df_v1)"
   ]
  },
  {
   "cell_type": "code",
   "execution_count": 66,
   "id": "handled-representative",
   "metadata": {},
   "outputs": [
    {
     "data": {
      "text/plain": [
       "7690"
      ]
     },
     "execution_count": 66,
     "metadata": {},
     "output_type": "execute_result"
    }
   ],
   "source": [
    "#calculate the duration from founded to acquisition and drop inconsistent data\n",
    "org_acquired_df_v1['duration_to_acquisition_days'] = org_acquired_df_v1['acquired_on'] - org_acquired_df_v1['founded_on']\n",
    "\n",
    "import datetime as dt \n",
    "org_acquired_df_v1['duration_to_acquisition_years'] = (org_acquired_df_v1['duration_to_acquisition_days'].dt.days/365).astype(float).round(decimals=1)\n",
    "\n",
    "#drop company with acquire date before founded date\n",
    "mask = org_acquired_df_v1.duration_to_acquisition_years > 0\n",
    "org_acquired_df_v2 = org_acquired_df_v1[mask]\n",
    "len(org_acquired_df_v2)"
   ]
  },
  {
   "cell_type": "code",
   "execution_count": 82,
   "id": "amateur-armstrong",
   "metadata": {},
   "outputs": [
    {
     "data": {
      "text/plain": [
       "92540"
      ]
     },
     "execution_count": 82,
     "metadata": {},
     "output_type": "execute_result"
    }
   ],
   "source": [
    "#merge with main processing df\n",
    "org_processing_df_v5 = pd.concat([org_acquired_df_v2[list(org_processing_df_v4.columns)],\n",
    "                                  org_processing_df_v4[org_processing_df_v4['status'] != 'acquired']],\n",
    "                                 axis ='index',\n",
    "                                 ignore_index=True)\n",
    "len(org_processing_df_v5)"
   ]
  },
  {
   "cell_type": "code",
   "execution_count": 83,
   "id": "exceptional-hydrogen",
   "metadata": {},
   "outputs": [
    {
     "data": {
      "text/html": [
       "<div>\n",
       "<style scoped>\n",
       "    .dataframe tbody tr th:only-of-type {\n",
       "        vertical-align: middle;\n",
       "    }\n",
       "\n",
       "    .dataframe tbody tr th {\n",
       "        vertical-align: top;\n",
       "    }\n",
       "\n",
       "    .dataframe thead th {\n",
       "        text-align: right;\n",
       "    }\n",
       "</style>\n",
       "<table border=\"1\" class=\"dataframe\">\n",
       "  <thead>\n",
       "    <tr style=\"text-align: right;\">\n",
       "      <th></th>\n",
       "      <th>org_uuid</th>\n",
       "      <th>name</th>\n",
       "      <th>status</th>\n",
       "      <th>founded_on</th>\n",
       "      <th>seed_date</th>\n",
       "      <th>series_a_date</th>\n",
       "      <th>first_fund_date</th>\n",
       "      <th>series_b_date</th>\n",
       "      <th>series_c_date</th>\n",
       "      <th>num_funding_rounds</th>\n",
       "    </tr>\n",
       "  </thead>\n",
       "  <tbody>\n",
       "    <tr>\n",
       "      <th>0</th>\n",
       "      <td>000607fc-cea0-535c-6324-e83ba07c8cc7</td>\n",
       "      <td>BioVigilant Systems</td>\n",
       "      <td>acquired</td>\n",
       "      <td>2005-01-01</td>\n",
       "      <td>NaT</td>\n",
       "      <td>2006-05-23</td>\n",
       "      <td>2006-05-23</td>\n",
       "      <td>NaT</td>\n",
       "      <td>NaT</td>\n",
       "      <td>1.0</td>\n",
       "    </tr>\n",
       "    <tr>\n",
       "      <th>1</th>\n",
       "      <td>002d06bc-916e-b5ae-68a4-13b8fc40055b</td>\n",
       "      <td>Smart Device Media</td>\n",
       "      <td>acquired</td>\n",
       "      <td>2010-01-01</td>\n",
       "      <td>2011-03-08</td>\n",
       "      <td>NaT</td>\n",
       "      <td>2011-03-08</td>\n",
       "      <td>NaT</td>\n",
       "      <td>NaT</td>\n",
       "      <td>1.0</td>\n",
       "    </tr>\n",
       "    <tr>\n",
       "      <th>2</th>\n",
       "      <td>002e7bde-3d8c-8607-11f8-84181e531b27</td>\n",
       "      <td>Blurble</td>\n",
       "      <td>acquired</td>\n",
       "      <td>2011-01-01</td>\n",
       "      <td>2013-01-01</td>\n",
       "      <td>NaT</td>\n",
       "      <td>2013-01-01</td>\n",
       "      <td>NaT</td>\n",
       "      <td>NaT</td>\n",
       "      <td>1.0</td>\n",
       "    </tr>\n",
       "  </tbody>\n",
       "</table>\n",
       "</div>"
      ],
      "text/plain": [
       "                               org_uuid                 name    status  \\\n",
       "0  000607fc-cea0-535c-6324-e83ba07c8cc7  BioVigilant Systems  acquired   \n",
       "1  002d06bc-916e-b5ae-68a4-13b8fc40055b   Smart Device Media  acquired   \n",
       "2  002e7bde-3d8c-8607-11f8-84181e531b27              Blurble  acquired   \n",
       "\n",
       "  founded_on  seed_date series_a_date first_fund_date series_b_date  \\\n",
       "0 2005-01-01        NaT    2006-05-23      2006-05-23           NaT   \n",
       "1 2010-01-01 2011-03-08           NaT      2011-03-08           NaT   \n",
       "2 2011-01-01 2013-01-01           NaT      2013-01-01           NaT   \n",
       "\n",
       "  series_c_date  num_funding_rounds  \n",
       "0           NaT                 1.0  \n",
       "1           NaT                 1.0  \n",
       "2           NaT                 1.0  "
      ]
     },
     "execution_count": 83,
     "metadata": {},
     "output_type": "execute_result"
    }
   ],
   "source": [
    "org_processing_df_v5.head(3)"
   ]
  },
  {
   "cell_type": "code",
   "execution_count": 84,
   "id": "otherwise-technical",
   "metadata": {},
   "outputs": [
    {
     "data": {
      "text/plain": [
       "1265"
      ]
     },
     "execution_count": 84,
     "metadata": {},
     "output_type": "execute_result"
    }
   ],
   "source": [
    "#create df for ipoed companies\n",
    "org_ipo_df = org_processing_df_v5[org_processing_df_v5['status'] == 'ipo']\n",
    "len(org_ipo_df)"
   ]
  },
  {
   "cell_type": "code",
   "execution_count": 86,
   "id": "wooden-hayes",
   "metadata": {},
   "outputs": [
    {
     "data": {
      "text/plain": [
       "1265"
      ]
     },
     "execution_count": 86,
     "metadata": {},
     "output_type": "execute_result"
    }
   ],
   "source": [
    "#merge with announced date from original data frame and drop companies with no went_public_on date\n",
    "org_ipo_df_v1 = pd.merge(org_ipo_df,\n",
    "                         org_ori_df['went_public_on'],\n",
    "                         on='org_uuid',\n",
    "                         how='left')\n",
    "org_ipo_df_v1.dropna(subset=['went_public_on'],inplace=True)\n",
    "len(org_ipo_df_v1)"
   ]
  },
  {
   "cell_type": "code",
   "execution_count": 87,
   "id": "cubic-tiger",
   "metadata": {},
   "outputs": [
    {
     "data": {
      "text/html": [
       "<div>\n",
       "<style scoped>\n",
       "    .dataframe tbody tr th:only-of-type {\n",
       "        vertical-align: middle;\n",
       "    }\n",
       "\n",
       "    .dataframe tbody tr th {\n",
       "        vertical-align: top;\n",
       "    }\n",
       "\n",
       "    .dataframe thead th {\n",
       "        text-align: right;\n",
       "    }\n",
       "</style>\n",
       "<table border=\"1\" class=\"dataframe\">\n",
       "  <thead>\n",
       "    <tr style=\"text-align: right;\">\n",
       "      <th></th>\n",
       "      <th>org_uuid</th>\n",
       "      <th>name</th>\n",
       "      <th>status</th>\n",
       "      <th>founded_on</th>\n",
       "      <th>seed_date</th>\n",
       "      <th>series_a_date</th>\n",
       "      <th>first_fund_date</th>\n",
       "      <th>series_b_date</th>\n",
       "      <th>series_c_date</th>\n",
       "      <th>num_funding_rounds</th>\n",
       "      <th>went_public_on</th>\n",
       "    </tr>\n",
       "  </thead>\n",
       "  <tbody>\n",
       "    <tr>\n",
       "      <th>0</th>\n",
       "      <td>002cb90c-69c4-d9fd-4316-4a1f95286e21</td>\n",
       "      <td>Sino-Global Shipping America</td>\n",
       "      <td>ipo</td>\n",
       "      <td>2001-01-01</td>\n",
       "      <td>2019-07-29</td>\n",
       "      <td>NaT</td>\n",
       "      <td>2019-07-29</td>\n",
       "      <td>NaT</td>\n",
       "      <td>NaT</td>\n",
       "      <td>2.0</td>\n",
       "      <td>2008-05-21</td>\n",
       "    </tr>\n",
       "    <tr>\n",
       "      <th>1</th>\n",
       "      <td>0055e28d-cb67-4413-8fab-be7b886b6b60</td>\n",
       "      <td>Mechanist Games</td>\n",
       "      <td>ipo</td>\n",
       "      <td>2011-04-07</td>\n",
       "      <td>NaT</td>\n",
       "      <td>2015-01-21</td>\n",
       "      <td>2015-01-21</td>\n",
       "      <td>NaT</td>\n",
       "      <td>NaT</td>\n",
       "      <td>2.0</td>\n",
       "      <td>2016-08-16</td>\n",
       "    </tr>\n",
       "    <tr>\n",
       "      <th>2</th>\n",
       "      <td>007ee3e7-8511-44e6-a1c8-0326ede9b1fc</td>\n",
       "      <td>51liucheng.com</td>\n",
       "      <td>ipo</td>\n",
       "      <td>2011-05-26</td>\n",
       "      <td>NaT</td>\n",
       "      <td>2014-10-31</td>\n",
       "      <td>2014-10-31</td>\n",
       "      <td>NaT</td>\n",
       "      <td>NaT</td>\n",
       "      <td>7.0</td>\n",
       "      <td>2016-02-22</td>\n",
       "    </tr>\n",
       "  </tbody>\n",
       "</table>\n",
       "</div>"
      ],
      "text/plain": [
       "                               org_uuid                          name status  \\\n",
       "0  002cb90c-69c4-d9fd-4316-4a1f95286e21  Sino-Global Shipping America    ipo   \n",
       "1  0055e28d-cb67-4413-8fab-be7b886b6b60               Mechanist Games    ipo   \n",
       "2  007ee3e7-8511-44e6-a1c8-0326ede9b1fc                51liucheng.com    ipo   \n",
       "\n",
       "  founded_on  seed_date series_a_date first_fund_date series_b_date  \\\n",
       "0 2001-01-01 2019-07-29           NaT      2019-07-29           NaT   \n",
       "1 2011-04-07        NaT    2015-01-21      2015-01-21           NaT   \n",
       "2 2011-05-26        NaT    2014-10-31      2014-10-31           NaT   \n",
       "\n",
       "  series_c_date  num_funding_rounds went_public_on  \n",
       "0           NaT                 2.0     2008-05-21  \n",
       "1           NaT                 2.0     2016-08-16  \n",
       "2           NaT                 7.0     2016-02-22  "
      ]
     },
     "execution_count": 87,
     "metadata": {},
     "output_type": "execute_result"
    }
   ],
   "source": [
    "org_ipo_df_v1.head(3)"
   ]
  },
  {
   "cell_type": "code",
   "execution_count": 88,
   "id": "waiting-marine",
   "metadata": {},
   "outputs": [
    {
     "data": {
      "text/plain": [
       "1243"
      ]
     },
     "execution_count": 88,
     "metadata": {},
     "output_type": "execute_result"
    }
   ],
   "source": [
    "#calculate duration from founded to IPO date and drop companies with inconsistent data\n",
    "org_ipo_df_v1['duration_to_ipo_days'] = org_ipo_df_v1['went_public_on'] - org_ipo_df_v1['founded_on']\n",
    "org_ipo_df_v1['duration_to_ipo_years'] = (org_ipo_df_v1['duration_to_ipo_days'].dt.days/365).astype(float).round(decimals=1)\n",
    "\n",
    "mask = org_ipo_df_v1['duration_to_ipo_years'] > 0\n",
    "org_ipo_df_v2 = org_ipo_df_v1[mask]\n",
    "len(org_ipo_df_v2)"
   ]
  },
  {
   "cell_type": "code",
   "execution_count": 91,
   "id": "frozen-discharge",
   "metadata": {},
   "outputs": [
    {
     "data": {
      "text/plain": [
       "92518"
      ]
     },
     "execution_count": 91,
     "metadata": {},
     "output_type": "execute_result"
    }
   ],
   "source": [
    "#concatenate with main data frame\n",
    "org_processing_df_v6 = pd.concat([org_ipo_df_v2[list(org_processing_df_v5.columns)],\n",
    "                                 org_processing_df_v5[org_processing_df_v5['status']!='ipo']],\n",
    "                                axis=0,\n",
    "                                ignore_index=True)\n",
    "len(org_processing_df_v6)"
   ]
  },
  {
   "cell_type": "code",
   "execution_count": 92,
   "id": "micro-function",
   "metadata": {},
   "outputs": [
    {
     "data": {
      "text/html": [
       "<div>\n",
       "<style scoped>\n",
       "    .dataframe tbody tr th:only-of-type {\n",
       "        vertical-align: middle;\n",
       "    }\n",
       "\n",
       "    .dataframe tbody tr th {\n",
       "        vertical-align: top;\n",
       "    }\n",
       "\n",
       "    .dataframe thead th {\n",
       "        text-align: right;\n",
       "    }\n",
       "</style>\n",
       "<table border=\"1\" class=\"dataframe\">\n",
       "  <thead>\n",
       "    <tr style=\"text-align: right;\">\n",
       "      <th></th>\n",
       "      <th>org_uuid</th>\n",
       "      <th>name</th>\n",
       "      <th>status</th>\n",
       "      <th>founded_on</th>\n",
       "      <th>seed_date</th>\n",
       "      <th>series_a_date</th>\n",
       "      <th>first_fund_date</th>\n",
       "      <th>series_b_date</th>\n",
       "      <th>series_c_date</th>\n",
       "      <th>num_funding_rounds</th>\n",
       "    </tr>\n",
       "  </thead>\n",
       "  <tbody>\n",
       "    <tr>\n",
       "      <th>0</th>\n",
       "      <td>002cb90c-69c4-d9fd-4316-4a1f95286e21</td>\n",
       "      <td>Sino-Global Shipping America</td>\n",
       "      <td>ipo</td>\n",
       "      <td>2001-01-01</td>\n",
       "      <td>2019-07-29</td>\n",
       "      <td>NaT</td>\n",
       "      <td>2019-07-29</td>\n",
       "      <td>NaT</td>\n",
       "      <td>NaT</td>\n",
       "      <td>2.0</td>\n",
       "    </tr>\n",
       "    <tr>\n",
       "      <th>1</th>\n",
       "      <td>0055e28d-cb67-4413-8fab-be7b886b6b60</td>\n",
       "      <td>Mechanist Games</td>\n",
       "      <td>ipo</td>\n",
       "      <td>2011-04-07</td>\n",
       "      <td>NaT</td>\n",
       "      <td>2015-01-21</td>\n",
       "      <td>2015-01-21</td>\n",
       "      <td>NaT</td>\n",
       "      <td>NaT</td>\n",
       "      <td>2.0</td>\n",
       "    </tr>\n",
       "    <tr>\n",
       "      <th>2</th>\n",
       "      <td>007ee3e7-8511-44e6-a1c8-0326ede9b1fc</td>\n",
       "      <td>51liucheng.com</td>\n",
       "      <td>ipo</td>\n",
       "      <td>2011-05-26</td>\n",
       "      <td>NaT</td>\n",
       "      <td>2014-10-31</td>\n",
       "      <td>2014-10-31</td>\n",
       "      <td>NaT</td>\n",
       "      <td>NaT</td>\n",
       "      <td>7.0</td>\n",
       "    </tr>\n",
       "  </tbody>\n",
       "</table>\n",
       "</div>"
      ],
      "text/plain": [
       "                               org_uuid                          name status  \\\n",
       "0  002cb90c-69c4-d9fd-4316-4a1f95286e21  Sino-Global Shipping America    ipo   \n",
       "1  0055e28d-cb67-4413-8fab-be7b886b6b60               Mechanist Games    ipo   \n",
       "2  007ee3e7-8511-44e6-a1c8-0326ede9b1fc                51liucheng.com    ipo   \n",
       "\n",
       "  founded_on  seed_date series_a_date first_fund_date series_b_date  \\\n",
       "0 2001-01-01 2019-07-29           NaT      2019-07-29           NaT   \n",
       "1 2011-04-07        NaT    2015-01-21      2015-01-21           NaT   \n",
       "2 2011-05-26        NaT    2014-10-31      2014-10-31           NaT   \n",
       "\n",
       "  series_c_date  num_funding_rounds  \n",
       "0           NaT                 2.0  \n",
       "1           NaT                 2.0  \n",
       "2           NaT                 7.0  "
      ]
     },
     "execution_count": 92,
     "metadata": {},
     "output_type": "execute_result"
    }
   ],
   "source": [
    "org_processing_df_v6.head(3)"
   ]
  },
  {
   "cell_type": "code",
   "execution_count": 93,
   "id": "swedish-bishop",
   "metadata": {},
   "outputs": [
    {
     "data": {
      "text/plain": [
       "6127"
      ]
     },
     "execution_count": 93,
     "metadata": {},
     "output_type": "execute_result"
    }
   ],
   "source": [
    "#create data frame for closed companies\n",
    "org_closed_df = org_processing_df_v6[org_processing_df_v6['status'] == 'closed']\n",
    "len(org_closed_df)"
   ]
  },
  {
   "cell_type": "code",
   "execution_count": 109,
   "id": "tender-century",
   "metadata": {},
   "outputs": [
    {
     "data": {
      "text/plain": [
       "6127"
      ]
     },
     "execution_count": 109,
     "metadata": {},
     "output_type": "execute_result"
    }
   ],
   "source": [
    "org_closed_df_v1 = pd.merge(org_closed_df,\n",
    "                           org_ori_df[['closed_on','acquired_on']],\n",
    "                           on='org_uuid',\n",
    "                           how='left')\n",
    "#org_closed_df_v1.dropna(subset=['closed_on'],inplace=True)\n",
    "len(org_closed_df_v1)"
   ]
  },
  {
   "cell_type": "code",
   "execution_count": 115,
   "id": "looking-satellite",
   "metadata": {},
   "outputs": [
    {
     "data": {
      "text/plain": [
       "431"
      ]
     },
     "execution_count": 115,
     "metadata": {},
     "output_type": "execute_result"
    }
   ],
   "source": [
    "#get acquired companies from companies label as close. The companies are closed after acquired\n",
    "org_acquired_df_v3 = org_closed_df_v1[org_closed_df_v1['acquired_on'].notna()]\n",
    "len(org_acquired_df_v3)"
   ]
  },
  {
   "cell_type": "code",
   "execution_count": 116,
   "id": "animated-pierre",
   "metadata": {},
   "outputs": [
    {
     "name": "stderr",
     "output_type": "stream",
     "text": [
      "C:\\Users\\Abdul Rahim Ab Ghani\\miniconda3\\lib\\site-packages\\ipykernel_launcher.py:1: SettingWithCopyWarning: \n",
      "A value is trying to be set on a copy of a slice from a DataFrame.\n",
      "Try using .loc[row_indexer,col_indexer] = value instead\n",
      "\n",
      "See the caveats in the documentation: https://pandas.pydata.org/pandas-docs/stable/user_guide/indexing.html#returning-a-view-versus-a-copy\n",
      "  \"\"\"Entry point for launching an IPython kernel.\n"
     ]
    }
   ],
   "source": [
    "#change the status to acquired\n",
    "org_acquired_df_v3['status'] = 'acquired'"
   ]
  },
  {
   "cell_type": "code",
   "execution_count": 118,
   "id": "leading-astrology",
   "metadata": {},
   "outputs": [
    {
     "data": {
      "text/html": [
       "<div>\n",
       "<style scoped>\n",
       "    .dataframe tbody tr th:only-of-type {\n",
       "        vertical-align: middle;\n",
       "    }\n",
       "\n",
       "    .dataframe tbody tr th {\n",
       "        vertical-align: top;\n",
       "    }\n",
       "\n",
       "    .dataframe thead th {\n",
       "        text-align: right;\n",
       "    }\n",
       "</style>\n",
       "<table border=\"1\" class=\"dataframe\">\n",
       "  <thead>\n",
       "    <tr style=\"text-align: right;\">\n",
       "      <th></th>\n",
       "      <th>org_uuid</th>\n",
       "      <th>name</th>\n",
       "      <th>status</th>\n",
       "      <th>founded_on</th>\n",
       "      <th>seed_date</th>\n",
       "      <th>series_a_date</th>\n",
       "      <th>first_fund_date</th>\n",
       "      <th>series_b_date</th>\n",
       "      <th>series_c_date</th>\n",
       "      <th>num_funding_rounds</th>\n",
       "      <th>closed_on</th>\n",
       "      <th>acquired_on</th>\n",
       "    </tr>\n",
       "  </thead>\n",
       "  <tbody>\n",
       "    <tr>\n",
       "      <th>15</th>\n",
       "      <td>00771e9e-79d3-9afe-df5a-1d5f26dd30c8</td>\n",
       "      <td>Advanced BioHealing</td>\n",
       "      <td>acquired</td>\n",
       "      <td>2003-01-01</td>\n",
       "      <td>NaT</td>\n",
       "      <td>2004-10-05</td>\n",
       "      <td>2004-10-05</td>\n",
       "      <td>2005-11-21</td>\n",
       "      <td>2007-02-27</td>\n",
       "      <td>3.0</td>\n",
       "      <td>NaT</td>\n",
       "      <td>2011-05-17</td>\n",
       "    </tr>\n",
       "    <tr>\n",
       "      <th>30</th>\n",
       "      <td>0109360f-babd-5c36-8047-cf82bd8ce575</td>\n",
       "      <td>ChangeCoin</td>\n",
       "      <td>acquired</td>\n",
       "      <td>2013-01-01</td>\n",
       "      <td>2014-05-05</td>\n",
       "      <td>NaT</td>\n",
       "      <td>2014-05-05</td>\n",
       "      <td>NaT</td>\n",
       "      <td>NaT</td>\n",
       "      <td>2.0</td>\n",
       "      <td>2016-11-18</td>\n",
       "      <td>2016-04-13</td>\n",
       "    </tr>\n",
       "    <tr>\n",
       "      <th>56</th>\n",
       "      <td>01eda286-ae1b-f88c-46e1-1f6895445118</td>\n",
       "      <td>GroundLink</td>\n",
       "      <td>acquired</td>\n",
       "      <td>2004-07-10</td>\n",
       "      <td>NaT</td>\n",
       "      <td>2008-04-01</td>\n",
       "      <td>2008-04-01</td>\n",
       "      <td>NaT</td>\n",
       "      <td>NaT</td>\n",
       "      <td>2.0</td>\n",
       "      <td>2020-08-31</td>\n",
       "      <td>2017-01-27</td>\n",
       "    </tr>\n",
       "  </tbody>\n",
       "</table>\n",
       "</div>"
      ],
      "text/plain": [
       "                                org_uuid                 name    status  \\\n",
       "15  00771e9e-79d3-9afe-df5a-1d5f26dd30c8  Advanced BioHealing  acquired   \n",
       "30  0109360f-babd-5c36-8047-cf82bd8ce575           ChangeCoin  acquired   \n",
       "56  01eda286-ae1b-f88c-46e1-1f6895445118           GroundLink  acquired   \n",
       "\n",
       "   founded_on  seed_date series_a_date first_fund_date series_b_date  \\\n",
       "15 2003-01-01        NaT    2004-10-05      2004-10-05    2005-11-21   \n",
       "30 2013-01-01 2014-05-05           NaT      2014-05-05           NaT   \n",
       "56 2004-07-10        NaT    2008-04-01      2008-04-01           NaT   \n",
       "\n",
       "   series_c_date  num_funding_rounds  closed_on acquired_on  \n",
       "15    2007-02-27                 3.0        NaT  2011-05-17  \n",
       "30           NaT                 2.0 2016-11-18  2016-04-13  \n",
       "56           NaT                 2.0 2020-08-31  2017-01-27  "
      ]
     },
     "execution_count": 118,
     "metadata": {},
     "output_type": "execute_result"
    }
   ],
   "source": [
    "org_acquired_df_v3.head(3)"
   ]
  },
  {
   "cell_type": "code",
   "execution_count": 119,
   "id": "invalid-composite",
   "metadata": {},
   "outputs": [
    {
     "name": "stderr",
     "output_type": "stream",
     "text": [
      "C:\\Users\\Abdul Rahim Ab Ghani\\miniconda3\\lib\\site-packages\\ipykernel_launcher.py:2: SettingWithCopyWarning: \n",
      "A value is trying to be set on a copy of a slice from a DataFrame.\n",
      "Try using .loc[row_indexer,col_indexer] = value instead\n",
      "\n",
      "See the caveats in the documentation: https://pandas.pydata.org/pandas-docs/stable/user_guide/indexing.html#returning-a-view-versus-a-copy\n",
      "  \n",
      "C:\\Users\\Abdul Rahim Ab Ghani\\miniconda3\\lib\\site-packages\\ipykernel_launcher.py:5: SettingWithCopyWarning: \n",
      "A value is trying to be set on a copy of a slice from a DataFrame.\n",
      "Try using .loc[row_indexer,col_indexer] = value instead\n",
      "\n",
      "See the caveats in the documentation: https://pandas.pydata.org/pandas-docs/stable/user_guide/indexing.html#returning-a-view-versus-a-copy\n",
      "  \"\"\"\n"
     ]
    },
    {
     "data": {
      "text/plain": [
       "431"
      ]
     },
     "execution_count": 119,
     "metadata": {},
     "output_type": "execute_result"
    }
   ],
   "source": [
    "#calculate the duration from founded to acquisition and drop inconsistent data\n",
    "org_acquired_df_v3['duration_to_acquisition_days'] = org_acquired_df_v3['acquired_on'] - org_acquired_df_v3['founded_on']\n",
    "\n",
    "import datetime as dt \n",
    "org_acquired_df_v3['duration_to_acquisition_years'] = (org_acquired_df_v3['duration_to_acquisition_days'].dt.days/365).astype(float).round(decimals=1)\n",
    "\n",
    "#drop company with acquire date before founded date\n",
    "mask = org_acquired_df_v3.duration_to_acquisition_years > 0\n",
    "org_acquired_df_v4 = org_acquired_df_v3[mask]\n",
    "len(org_acquired_df_v3)"
   ]
  },
  {
   "cell_type": "code",
   "execution_count": 122,
   "id": "speaking-baghdad",
   "metadata": {},
   "outputs": [
    {
     "data": {
      "text/plain": [
       "86821"
      ]
     },
     "execution_count": 122,
     "metadata": {},
     "output_type": "execute_result"
    }
   ],
   "source": [
    "#merge with main processing df\n",
    "org_processing_df_v7 = pd.concat([org_acquired_df_v4[list(org_processing_df_v6.columns)],\n",
    "                                  org_processing_df_v6[org_processing_df_v6['status'] != 'closed']],\n",
    "                                 axis ='index',\n",
    "                                 ignore_index=True)\n",
    "len(org_processing_df_v7)"
   ]
  },
  {
   "cell_type": "code",
   "execution_count": 125,
   "id": "fallen-local",
   "metadata": {},
   "outputs": [
    {
     "data": {
      "text/html": [
       "<div>\n",
       "<style scoped>\n",
       "    .dataframe tbody tr th:only-of-type {\n",
       "        vertical-align: middle;\n",
       "    }\n",
       "\n",
       "    .dataframe tbody tr th {\n",
       "        vertical-align: top;\n",
       "    }\n",
       "\n",
       "    .dataframe thead th {\n",
       "        text-align: right;\n",
       "    }\n",
       "</style>\n",
       "<table border=\"1\" class=\"dataframe\">\n",
       "  <thead>\n",
       "    <tr style=\"text-align: right;\">\n",
       "      <th></th>\n",
       "      <th>org_uuid</th>\n",
       "      <th>name</th>\n",
       "      <th>status</th>\n",
       "      <th>founded_on</th>\n",
       "      <th>seed_date</th>\n",
       "      <th>series_a_date</th>\n",
       "      <th>first_fund_date</th>\n",
       "      <th>series_b_date</th>\n",
       "      <th>series_c_date</th>\n",
       "      <th>num_funding_rounds</th>\n",
       "    </tr>\n",
       "  </thead>\n",
       "  <tbody>\n",
       "    <tr>\n",
       "      <th>0</th>\n",
       "      <td>00771e9e-79d3-9afe-df5a-1d5f26dd30c8</td>\n",
       "      <td>Advanced BioHealing</td>\n",
       "      <td>acquired</td>\n",
       "      <td>2003-01-01</td>\n",
       "      <td>NaT</td>\n",
       "      <td>2004-10-05</td>\n",
       "      <td>2004-10-05</td>\n",
       "      <td>2005-11-21</td>\n",
       "      <td>2007-02-27</td>\n",
       "      <td>3.0</td>\n",
       "    </tr>\n",
       "    <tr>\n",
       "      <th>1</th>\n",
       "      <td>0109360f-babd-5c36-8047-cf82bd8ce575</td>\n",
       "      <td>ChangeCoin</td>\n",
       "      <td>acquired</td>\n",
       "      <td>2013-01-01</td>\n",
       "      <td>2014-05-05</td>\n",
       "      <td>NaT</td>\n",
       "      <td>2014-05-05</td>\n",
       "      <td>NaT</td>\n",
       "      <td>NaT</td>\n",
       "      <td>2.0</td>\n",
       "    </tr>\n",
       "    <tr>\n",
       "      <th>2</th>\n",
       "      <td>01eda286-ae1b-f88c-46e1-1f6895445118</td>\n",
       "      <td>GroundLink</td>\n",
       "      <td>acquired</td>\n",
       "      <td>2004-07-10</td>\n",
       "      <td>NaT</td>\n",
       "      <td>2008-04-01</td>\n",
       "      <td>2008-04-01</td>\n",
       "      <td>NaT</td>\n",
       "      <td>NaT</td>\n",
       "      <td>2.0</td>\n",
       "    </tr>\n",
       "  </tbody>\n",
       "</table>\n",
       "</div>"
      ],
      "text/plain": [
       "                               org_uuid                 name    status  \\\n",
       "0  00771e9e-79d3-9afe-df5a-1d5f26dd30c8  Advanced BioHealing  acquired   \n",
       "1  0109360f-babd-5c36-8047-cf82bd8ce575           ChangeCoin  acquired   \n",
       "2  01eda286-ae1b-f88c-46e1-1f6895445118           GroundLink  acquired   \n",
       "\n",
       "  founded_on  seed_date series_a_date first_fund_date series_b_date  \\\n",
       "0 2003-01-01        NaT    2004-10-05      2004-10-05    2005-11-21   \n",
       "1 2013-01-01 2014-05-05           NaT      2014-05-05           NaT   \n",
       "2 2004-07-10        NaT    2008-04-01      2008-04-01           NaT   \n",
       "\n",
       "  series_c_date  num_funding_rounds  \n",
       "0    2007-02-27                 3.0  \n",
       "1           NaT                 2.0  \n",
       "2           NaT                 2.0  "
      ]
     },
     "execution_count": 125,
     "metadata": {},
     "output_type": "execute_result"
    }
   ],
   "source": [
    "org_processing_df_v7.head(3)"
   ]
  },
  {
   "cell_type": "code",
   "execution_count": 126,
   "id": "foreign-assets",
   "metadata": {},
   "outputs": [
    {
     "data": {
      "text/plain": [
       "5696"
      ]
     },
     "execution_count": 126,
     "metadata": {},
     "output_type": "execute_result"
    }
   ],
   "source": [
    "#get companies which are closed and not acquired\n",
    "org_closed_df_v2 = org_closed_df_v1[org_closed_df_v1['acquired_on'].isna()]\n",
    "len(org_closed_df_v2)"
   ]
  },
  {
   "cell_type": "code",
   "execution_count": 127,
   "id": "designed-wallpaper",
   "metadata": {},
   "outputs": [
    {
     "name": "stderr",
     "output_type": "stream",
     "text": [
      "C:\\Users\\Abdul Rahim Ab Ghani\\miniconda3\\lib\\site-packages\\ipykernel_launcher.py:1: SettingWithCopyWarning: \n",
      "A value is trying to be set on a copy of a slice from a DataFrame\n",
      "\n",
      "See the caveats in the documentation: https://pandas.pydata.org/pandas-docs/stable/user_guide/indexing.html#returning-a-view-versus-a-copy\n",
      "  \"\"\"Entry point for launching an IPython kernel.\n"
     ]
    },
    {
     "data": {
      "text/plain": [
       "3737"
      ]
     },
     "execution_count": 127,
     "metadata": {},
     "output_type": "execute_result"
    }
   ],
   "source": [
    "org_closed_df_v2.dropna(subset=['closed_on'],inplace=True)\n",
    "len(org_closed_df_v2)"
   ]
  },
  {
   "cell_type": "code",
   "execution_count": 129,
   "id": "representative-channel",
   "metadata": {},
   "outputs": [
    {
     "name": "stderr",
     "output_type": "stream",
     "text": [
      "C:\\Users\\Abdul Rahim Ab Ghani\\miniconda3\\lib\\site-packages\\ipykernel_launcher.py:2: SettingWithCopyWarning: \n",
      "A value is trying to be set on a copy of a slice from a DataFrame.\n",
      "Try using .loc[row_indexer,col_indexer] = value instead\n",
      "\n",
      "See the caveats in the documentation: https://pandas.pydata.org/pandas-docs/stable/user_guide/indexing.html#returning-a-view-versus-a-copy\n",
      "  \n",
      "C:\\Users\\Abdul Rahim Ab Ghani\\miniconda3\\lib\\site-packages\\ipykernel_launcher.py:3: SettingWithCopyWarning: \n",
      "A value is trying to be set on a copy of a slice from a DataFrame.\n",
      "Try using .loc[row_indexer,col_indexer] = value instead\n",
      "\n",
      "See the caveats in the documentation: https://pandas.pydata.org/pandas-docs/stable/user_guide/indexing.html#returning-a-view-versus-a-copy\n",
      "  This is separate from the ipykernel package so we can avoid doing imports until\n"
     ]
    },
    {
     "data": {
      "text/plain": [
       "3724"
      ]
     },
     "execution_count": 129,
     "metadata": {},
     "output_type": "execute_result"
    }
   ],
   "source": [
    "#calculate duration from founded to closed and drop companies with inconsistent data\n",
    "org_closed_df_v2['duration_to_closed_days'] = org_closed_df_v2['closed_on'] - org_closed_df_v2['founded_on']\n",
    "org_closed_df_v2['duration_to_closed_years'] = (org_closed_df_v2['duration_to_closed_days'].dt.days/365).astype(float).round(decimals=1)\n",
    "\n",
    "mask = org_closed_df_v2['duration_to_closed_years'] > 0\n",
    "org_closed_df_v3 = org_closed_df_v2[mask]\n",
    "len(org_closed_df_v3)"
   ]
  },
  {
   "cell_type": "code",
   "execution_count": 131,
   "id": "matched-thread",
   "metadata": {},
   "outputs": [
    {
     "data": {
      "text/plain": [
       "90545"
      ]
     },
     "execution_count": 131,
     "metadata": {},
     "output_type": "execute_result"
    }
   ],
   "source": [
    "#merge closed companies with main data frame\n",
    "org_processing_df_v8 = pd.concat([org_closed_df_v3[list(org_processing_df_v7)],\n",
    "                                  org_processing_df_v7],\n",
    "                                  axis=0,\n",
    "                                  ignore_index=True)\n",
    "len(org_processing_df_v8)"
   ]
  },
  {
   "cell_type": "code",
   "execution_count": 132,
   "id": "wooden-implementation",
   "metadata": {},
   "outputs": [
    {
     "data": {
      "text/html": [
       "<div>\n",
       "<style scoped>\n",
       "    .dataframe tbody tr th:only-of-type {\n",
       "        vertical-align: middle;\n",
       "    }\n",
       "\n",
       "    .dataframe tbody tr th {\n",
       "        vertical-align: top;\n",
       "    }\n",
       "\n",
       "    .dataframe thead th {\n",
       "        text-align: right;\n",
       "    }\n",
       "</style>\n",
       "<table border=\"1\" class=\"dataframe\">\n",
       "  <thead>\n",
       "    <tr style=\"text-align: right;\">\n",
       "      <th></th>\n",
       "      <th>org_uuid</th>\n",
       "      <th>name</th>\n",
       "      <th>status</th>\n",
       "      <th>founded_on</th>\n",
       "      <th>seed_date</th>\n",
       "      <th>series_a_date</th>\n",
       "      <th>first_fund_date</th>\n",
       "      <th>series_b_date</th>\n",
       "      <th>series_c_date</th>\n",
       "      <th>num_funding_rounds</th>\n",
       "    </tr>\n",
       "  </thead>\n",
       "  <tbody>\n",
       "    <tr>\n",
       "      <th>0</th>\n",
       "      <td>00107fd1-b65b-85cd-7d60-c00c4b2ae2fb</td>\n",
       "      <td>CloudAptitude</td>\n",
       "      <td>closed</td>\n",
       "      <td>2012-01-28</td>\n",
       "      <td>2012-01-29</td>\n",
       "      <td>NaT</td>\n",
       "      <td>2012-01-29</td>\n",
       "      <td>NaT</td>\n",
       "      <td>NaT</td>\n",
       "      <td>1.0</td>\n",
       "    </tr>\n",
       "    <tr>\n",
       "      <th>1</th>\n",
       "      <td>0013719b-13cb-9419-c604-597100dd642f</td>\n",
       "      <td>Win Win Slots</td>\n",
       "      <td>closed</td>\n",
       "      <td>2012-06-06</td>\n",
       "      <td>2013-01-01</td>\n",
       "      <td>NaT</td>\n",
       "      <td>2013-01-01</td>\n",
       "      <td>NaT</td>\n",
       "      <td>NaT</td>\n",
       "      <td>1.0</td>\n",
       "    </tr>\n",
       "    <tr>\n",
       "      <th>2</th>\n",
       "      <td>001c3ed9-6eb1-63b6-eeba-dcdb97f9444f</td>\n",
       "      <td>PetaData Labs SocialDNA</td>\n",
       "      <td>closed</td>\n",
       "      <td>2013-01-10</td>\n",
       "      <td>2014-05-12</td>\n",
       "      <td>NaT</td>\n",
       "      <td>2014-05-12</td>\n",
       "      <td>NaT</td>\n",
       "      <td>NaT</td>\n",
       "      <td>1.0</td>\n",
       "    </tr>\n",
       "  </tbody>\n",
       "</table>\n",
       "</div>"
      ],
      "text/plain": [
       "                               org_uuid                     name  status  \\\n",
       "0  00107fd1-b65b-85cd-7d60-c00c4b2ae2fb            CloudAptitude  closed   \n",
       "1  0013719b-13cb-9419-c604-597100dd642f            Win Win Slots  closed   \n",
       "2  001c3ed9-6eb1-63b6-eeba-dcdb97f9444f  PetaData Labs SocialDNA  closed   \n",
       "\n",
       "  founded_on  seed_date series_a_date first_fund_date series_b_date  \\\n",
       "0 2012-01-28 2012-01-29           NaT      2012-01-29           NaT   \n",
       "1 2012-06-06 2013-01-01           NaT      2013-01-01           NaT   \n",
       "2 2013-01-10 2014-05-12           NaT      2014-05-12           NaT   \n",
       "\n",
       "  series_c_date  num_funding_rounds  \n",
       "0           NaT                 1.0  \n",
       "1           NaT                 1.0  \n",
       "2           NaT                 1.0  "
      ]
     },
     "execution_count": 132,
     "metadata": {},
     "output_type": "execute_result"
    }
   ],
   "source": [
    "org_processing_df_v8.head(3)"
   ]
  },
  {
   "cell_type": "code",
   "execution_count": 134,
   "id": "identified-omega",
   "metadata": {},
   "outputs": [
    {
     "data": {
      "text/html": [
       "<div>\n",
       "<style scoped>\n",
       "    .dataframe tbody tr th:only-of-type {\n",
       "        vertical-align: middle;\n",
       "    }\n",
       "\n",
       "    .dataframe tbody tr th {\n",
       "        vertical-align: top;\n",
       "    }\n",
       "\n",
       "    .dataframe thead th {\n",
       "        text-align: right;\n",
       "    }\n",
       "</style>\n",
       "<table border=\"1\" class=\"dataframe\">\n",
       "  <thead>\n",
       "    <tr style=\"text-align: right;\">\n",
       "      <th></th>\n",
       "      <th>org_uuid</th>\n",
       "      <th>name</th>\n",
       "      <th>status</th>\n",
       "      <th>founded_on</th>\n",
       "      <th>seed_date</th>\n",
       "      <th>series_a_date</th>\n",
       "      <th>first_fund_date</th>\n",
       "      <th>series_b_date</th>\n",
       "      <th>series_c_date</th>\n",
       "      <th>num_funding_rounds</th>\n",
       "      <th>duration_founded_to_first_fund</th>\n",
       "    </tr>\n",
       "  </thead>\n",
       "  <tbody>\n",
       "    <tr>\n",
       "      <th>0</th>\n",
       "      <td>00107fd1-b65b-85cd-7d60-c00c4b2ae2fb</td>\n",
       "      <td>CloudAptitude</td>\n",
       "      <td>closed</td>\n",
       "      <td>2012-01-28</td>\n",
       "      <td>2012-01-29</td>\n",
       "      <td>NaT</td>\n",
       "      <td>2012-01-29</td>\n",
       "      <td>NaT</td>\n",
       "      <td>NaT</td>\n",
       "      <td>1.0</td>\n",
       "      <td>0.00</td>\n",
       "    </tr>\n",
       "    <tr>\n",
       "      <th>1</th>\n",
       "      <td>0013719b-13cb-9419-c604-597100dd642f</td>\n",
       "      <td>Win Win Slots</td>\n",
       "      <td>closed</td>\n",
       "      <td>2012-06-06</td>\n",
       "      <td>2013-01-01</td>\n",
       "      <td>NaT</td>\n",
       "      <td>2013-01-01</td>\n",
       "      <td>NaT</td>\n",
       "      <td>NaT</td>\n",
       "      <td>1.0</td>\n",
       "      <td>0.57</td>\n",
       "    </tr>\n",
       "    <tr>\n",
       "      <th>2</th>\n",
       "      <td>001c3ed9-6eb1-63b6-eeba-dcdb97f9444f</td>\n",
       "      <td>PetaData Labs SocialDNA</td>\n",
       "      <td>closed</td>\n",
       "      <td>2013-01-10</td>\n",
       "      <td>2014-05-12</td>\n",
       "      <td>NaT</td>\n",
       "      <td>2014-05-12</td>\n",
       "      <td>NaT</td>\n",
       "      <td>NaT</td>\n",
       "      <td>1.0</td>\n",
       "      <td>1.33</td>\n",
       "    </tr>\n",
       "  </tbody>\n",
       "</table>\n",
       "</div>"
      ],
      "text/plain": [
       "                               org_uuid                     name  status  \\\n",
       "0  00107fd1-b65b-85cd-7d60-c00c4b2ae2fb            CloudAptitude  closed   \n",
       "1  0013719b-13cb-9419-c604-597100dd642f            Win Win Slots  closed   \n",
       "2  001c3ed9-6eb1-63b6-eeba-dcdb97f9444f  PetaData Labs SocialDNA  closed   \n",
       "\n",
       "  founded_on  seed_date series_a_date first_fund_date series_b_date  \\\n",
       "0 2012-01-28 2012-01-29           NaT      2012-01-29           NaT   \n",
       "1 2012-06-06 2013-01-01           NaT      2013-01-01           NaT   \n",
       "2 2013-01-10 2014-05-12           NaT      2014-05-12           NaT   \n",
       "\n",
       "  series_c_date  num_funding_rounds  duration_founded_to_first_fund  \n",
       "0           NaT                 1.0                            0.00  \n",
       "1           NaT                 1.0                            0.57  \n",
       "2           NaT                 1.0                            1.33  "
      ]
     },
     "execution_count": 134,
     "metadata": {},
     "output_type": "execute_result"
    }
   ],
   "source": [
    "#compute duration from founded to first fund date\n",
    "org_processing_df_v8['duration_founded_to_first_fund'] = ((org_processing_df_v8['first_fund_date'] - org_processing_df_v8['founded_on']).dt.days/365).astype(float).round(2)\n",
    "org_processing_df_v8.head(3)"
   ]
  },
  {
   "cell_type": "code",
   "execution_count": 135,
   "id": "loaded-ebony",
   "metadata": {},
   "outputs": [
    {
     "data": {
      "text/plain": [
       "89741"
      ]
     },
     "execution_count": 135,
     "metadata": {},
     "output_type": "execute_result"
    }
   ],
   "source": [
    "#drop companies with first fund before founded\n",
    "org_processing_df_v9 = org_processing_df_v8[org_processing_df_v8['duration_founded_to_first_fund'] >=0]\n",
    "len(org_processing_df_v9)"
   ]
  },
  {
   "cell_type": "code",
   "execution_count": 136,
   "id": "coordinate-africa",
   "metadata": {},
   "outputs": [
    {
     "data": {
      "text/plain": [
       "76806"
      ]
     },
     "execution_count": 136,
     "metadata": {},
     "output_type": "execute_result"
    }
   ],
   "source": [
    "#drop companies received first fund after 4 years\n",
    "org_processing_df_v10 = org_processing_df_v9[org_processing_df_v9['duration_founded_to_first_fund'] <=4]\n",
    "len(org_processing_df_v10)"
   ]
  },
  {
   "cell_type": "code",
   "execution_count": 137,
   "id": "hydraulic-investing",
   "metadata": {},
   "outputs": [
    {
     "data": {
      "text/html": [
       "<div>\n",
       "<style scoped>\n",
       "    .dataframe tbody tr th:only-of-type {\n",
       "        vertical-align: middle;\n",
       "    }\n",
       "\n",
       "    .dataframe tbody tr th {\n",
       "        vertical-align: top;\n",
       "    }\n",
       "\n",
       "    .dataframe thead th {\n",
       "        text-align: right;\n",
       "    }\n",
       "</style>\n",
       "<table border=\"1\" class=\"dataframe\">\n",
       "  <thead>\n",
       "    <tr style=\"text-align: right;\">\n",
       "      <th></th>\n",
       "      <th>org_uuid</th>\n",
       "      <th>name</th>\n",
       "      <th>status</th>\n",
       "      <th>founded_on</th>\n",
       "      <th>seed_date</th>\n",
       "      <th>series_a_date</th>\n",
       "      <th>first_fund_date</th>\n",
       "      <th>series_b_date</th>\n",
       "      <th>series_c_date</th>\n",
       "      <th>num_funding_rounds</th>\n",
       "      <th>duration_founded_to_first_fund</th>\n",
       "    </tr>\n",
       "  </thead>\n",
       "  <tbody>\n",
       "    <tr>\n",
       "      <th>0</th>\n",
       "      <td>00107fd1-b65b-85cd-7d60-c00c4b2ae2fb</td>\n",
       "      <td>CloudAptitude</td>\n",
       "      <td>closed</td>\n",
       "      <td>2012-01-28</td>\n",
       "      <td>2012-01-29</td>\n",
       "      <td>NaT</td>\n",
       "      <td>2012-01-29</td>\n",
       "      <td>NaT</td>\n",
       "      <td>NaT</td>\n",
       "      <td>1.0</td>\n",
       "      <td>0.00</td>\n",
       "    </tr>\n",
       "    <tr>\n",
       "      <th>1</th>\n",
       "      <td>0013719b-13cb-9419-c604-597100dd642f</td>\n",
       "      <td>Win Win Slots</td>\n",
       "      <td>closed</td>\n",
       "      <td>2012-06-06</td>\n",
       "      <td>2013-01-01</td>\n",
       "      <td>NaT</td>\n",
       "      <td>2013-01-01</td>\n",
       "      <td>NaT</td>\n",
       "      <td>NaT</td>\n",
       "      <td>1.0</td>\n",
       "      <td>0.57</td>\n",
       "    </tr>\n",
       "    <tr>\n",
       "      <th>2</th>\n",
       "      <td>001c3ed9-6eb1-63b6-eeba-dcdb97f9444f</td>\n",
       "      <td>PetaData Labs SocialDNA</td>\n",
       "      <td>closed</td>\n",
       "      <td>2013-01-10</td>\n",
       "      <td>2014-05-12</td>\n",
       "      <td>NaT</td>\n",
       "      <td>2014-05-12</td>\n",
       "      <td>NaT</td>\n",
       "      <td>NaT</td>\n",
       "      <td>1.0</td>\n",
       "      <td>1.33</td>\n",
       "    </tr>\n",
       "  </tbody>\n",
       "</table>\n",
       "</div>"
      ],
      "text/plain": [
       "                               org_uuid                     name  status  \\\n",
       "0  00107fd1-b65b-85cd-7d60-c00c4b2ae2fb            CloudAptitude  closed   \n",
       "1  0013719b-13cb-9419-c604-597100dd642f            Win Win Slots  closed   \n",
       "2  001c3ed9-6eb1-63b6-eeba-dcdb97f9444f  PetaData Labs SocialDNA  closed   \n",
       "\n",
       "  founded_on  seed_date series_a_date first_fund_date series_b_date  \\\n",
       "0 2012-01-28 2012-01-29           NaT      2012-01-29           NaT   \n",
       "1 2012-06-06 2013-01-01           NaT      2013-01-01           NaT   \n",
       "2 2013-01-10 2014-05-12           NaT      2014-05-12           NaT   \n",
       "\n",
       "  series_c_date  num_funding_rounds  duration_founded_to_first_fund  \n",
       "0           NaT                 1.0                            0.00  \n",
       "1           NaT                 1.0                            0.57  \n",
       "2           NaT                 1.0                            1.33  "
      ]
     },
     "execution_count": 137,
     "metadata": {},
     "output_type": "execute_result"
    }
   ],
   "source": [
    "org_processing_df_v10.head(3)"
   ]
  },
  {
   "cell_type": "code",
   "execution_count": 139,
   "id": "incomplete-butterfly",
   "metadata": {},
   "outputs": [
    {
     "name": "stderr",
     "output_type": "stream",
     "text": [
      "C:\\Users\\Abdul Rahim Ab Ghani\\miniconda3\\lib\\site-packages\\ipykernel_launcher.py:7: SettingWithCopyWarning: \n",
      "A value is trying to be set on a copy of a slice from a DataFrame.\n",
      "Try using .loc[row_indexer,col_indexer] = value instead\n",
      "\n",
      "See the caveats in the documentation: https://pandas.pydata.org/pandas-docs/stable/user_guide/indexing.html#returning-a-view-versus-a-copy\n",
      "  import sys\n"
     ]
    },
    {
     "data": {
      "text/html": [
       "<div>\n",
       "<style scoped>\n",
       "    .dataframe tbody tr th:only-of-type {\n",
       "        vertical-align: middle;\n",
       "    }\n",
       "\n",
       "    .dataframe tbody tr th {\n",
       "        vertical-align: top;\n",
       "    }\n",
       "\n",
       "    .dataframe thead th {\n",
       "        text-align: right;\n",
       "    }\n",
       "</style>\n",
       "<table border=\"1\" class=\"dataframe\">\n",
       "  <thead>\n",
       "    <tr style=\"text-align: right;\">\n",
       "      <th></th>\n",
       "      <th>org_uuid</th>\n",
       "      <th>name</th>\n",
       "      <th>status</th>\n",
       "      <th>founded_on</th>\n",
       "      <th>seed_date</th>\n",
       "      <th>series_a_date</th>\n",
       "      <th>first_fund_date</th>\n",
       "      <th>series_b_date</th>\n",
       "      <th>series_c_date</th>\n",
       "      <th>num_funding_rounds</th>\n",
       "      <th>duration_founded_to_first_fund</th>\n",
       "      <th>duration_first_fund_to_series_a</th>\n",
       "      <th>duration_first_fund_to_series_b</th>\n",
       "      <th>duration_first_fund_to_series_c</th>\n",
       "    </tr>\n",
       "  </thead>\n",
       "  <tbody>\n",
       "    <tr>\n",
       "      <th>0</th>\n",
       "      <td>00107fd1-b65b-85cd-7d60-c00c4b2ae2fb</td>\n",
       "      <td>CloudAptitude</td>\n",
       "      <td>closed</td>\n",
       "      <td>2012-01-28</td>\n",
       "      <td>2012-01-29</td>\n",
       "      <td>NaT</td>\n",
       "      <td>2012-01-29</td>\n",
       "      <td>NaT</td>\n",
       "      <td>NaT</td>\n",
       "      <td>1.0</td>\n",
       "      <td>0.00</td>\n",
       "      <td>NaN</td>\n",
       "      <td>NaN</td>\n",
       "      <td>NaN</td>\n",
       "    </tr>\n",
       "    <tr>\n",
       "      <th>1</th>\n",
       "      <td>0013719b-13cb-9419-c604-597100dd642f</td>\n",
       "      <td>Win Win Slots</td>\n",
       "      <td>closed</td>\n",
       "      <td>2012-06-06</td>\n",
       "      <td>2013-01-01</td>\n",
       "      <td>NaT</td>\n",
       "      <td>2013-01-01</td>\n",
       "      <td>NaT</td>\n",
       "      <td>NaT</td>\n",
       "      <td>1.0</td>\n",
       "      <td>0.57</td>\n",
       "      <td>NaN</td>\n",
       "      <td>NaN</td>\n",
       "      <td>NaN</td>\n",
       "    </tr>\n",
       "    <tr>\n",
       "      <th>2</th>\n",
       "      <td>001c3ed9-6eb1-63b6-eeba-dcdb97f9444f</td>\n",
       "      <td>PetaData Labs SocialDNA</td>\n",
       "      <td>closed</td>\n",
       "      <td>2013-01-10</td>\n",
       "      <td>2014-05-12</td>\n",
       "      <td>NaT</td>\n",
       "      <td>2014-05-12</td>\n",
       "      <td>NaT</td>\n",
       "      <td>NaT</td>\n",
       "      <td>1.0</td>\n",
       "      <td>1.33</td>\n",
       "      <td>NaN</td>\n",
       "      <td>NaN</td>\n",
       "      <td>NaN</td>\n",
       "    </tr>\n",
       "  </tbody>\n",
       "</table>\n",
       "</div>"
      ],
      "text/plain": [
       "                               org_uuid                     name  status  \\\n",
       "0  00107fd1-b65b-85cd-7d60-c00c4b2ae2fb            CloudAptitude  closed   \n",
       "1  0013719b-13cb-9419-c604-597100dd642f            Win Win Slots  closed   \n",
       "2  001c3ed9-6eb1-63b6-eeba-dcdb97f9444f  PetaData Labs SocialDNA  closed   \n",
       "\n",
       "  founded_on  seed_date series_a_date first_fund_date series_b_date  \\\n",
       "0 2012-01-28 2012-01-29           NaT      2012-01-29           NaT   \n",
       "1 2012-06-06 2013-01-01           NaT      2013-01-01           NaT   \n",
       "2 2013-01-10 2014-05-12           NaT      2014-05-12           NaT   \n",
       "\n",
       "  series_c_date  num_funding_rounds  duration_founded_to_first_fund  \\\n",
       "0           NaT                 1.0                            0.00   \n",
       "1           NaT                 1.0                            0.57   \n",
       "2           NaT                 1.0                            1.33   \n",
       "\n",
       "   duration_first_fund_to_series_a  duration_first_fund_to_series_b  \\\n",
       "0                              NaN                              NaN   \n",
       "1                              NaN                              NaN   \n",
       "2                              NaN                              NaN   \n",
       "\n",
       "   duration_first_fund_to_series_c  \n",
       "0                              NaN  \n",
       "1                              NaN  \n",
       "2                              NaN  "
      ]
     },
     "execution_count": 139,
     "metadata": {},
     "output_type": "execute_result"
    }
   ],
   "source": [
    "#Calculate duration from first fund to next funding round\n",
    "funding_rounds = ['series_a','series_b','series_c']\n",
    "\n",
    "for invest_round in funding_rounds:\n",
    "    new_column = str('duration_first_fund_to_' + invest_round)\n",
    "    exist_column = str (invest_round+'_date')\n",
    "    org_processing_df_v10[new_column] = ((org_processing_df_v10[exist_column] - org_processing_df_v10['first_fund_date']).dt.days/365).astype(float).round(2)\n",
    "\n",
    "org_processing_df_v10.head(3)"
   ]
  },
  {
   "cell_type": "code",
   "execution_count": 142,
   "id": "cosmetic-postage",
   "metadata": {},
   "outputs": [
    {
     "name": "stderr",
     "output_type": "stream",
     "text": [
      "C:\\Users\\Abdul Rahim Ab Ghani\\miniconda3\\lib\\site-packages\\ipykernel_launcher.py:27: SettingWithCopyWarning: \n",
      "A value is trying to be set on a copy of a slice from a DataFrame.\n",
      "Try using .loc[row_indexer,col_indexer] = value instead\n",
      "\n",
      "See the caveats in the documentation: https://pandas.pydata.org/pandas-docs/stable/user_guide/indexing.html#returning-a-view-versus-a-copy\n"
     ]
    }
   ],
   "source": [
    "#assign dependent variable, 1 for success and 0 for non-success\n",
    "org_processing_df_v10.reset_index(drop=True,inplace=True)\n",
    "outcome = list()\n",
    "end = len(org_processing_df_v10)\n",
    "\n",
    "for i in range(0,end):\n",
    "    company = org_processing_df_v10.loc[i]\n",
    "    #set success condition for operating company\n",
    "    #company got funding series_a in within 3 years from first funding, given first funding is seed fund\n",
    "    cond1 = company['duration_first_fund_to_series_a'] <= 3 and company['duration_first_fund_to_series_a'] > 0\n",
    "    #company got funding series_b 3 years from first funding\n",
    "    cond2 = company['duration_first_fund_to_series_b'] <= 3 and company['duration_first_fund_to_series_b'] > 0 \n",
    "    #company got funding series_c within 3 years from first funding\n",
    "    cond3 = company['duration_first_fund_to_series_c'] <= 3 and company['duration_first_fund_to_series_c'] > 0\n",
    "    \n",
    "    #for company with closed status\n",
    "    if company['status'] == 'closed':\n",
    "        outcome.append(0)\n",
    "    elif company ['status'] == 'acquired' or company['status'] == 'ipo':\n",
    "        outcome.append (1)\n",
    "    elif company ['status'] == 'operating':\n",
    "        if cond1 or cond2 or cond3:\n",
    "            outcome.append(1)\n",
    "        else:\n",
    "            outcome.append(0)\n",
    "            \n",
    "org_processing_df_v10['outcome'] = outcome"
   ]
  },
  {
   "cell_type": "code",
   "execution_count": 143,
   "id": "parallel-grenada",
   "metadata": {},
   "outputs": [
    {
     "data": {
      "text/plain": [
       "0    58022\n",
       "1    18784\n",
       "Name: outcome, dtype: int64"
      ]
     },
     "execution_count": 143,
     "metadata": {},
     "output_type": "execute_result"
    }
   ],
   "source": [
    "org_processing_df_v10['outcome'].value_counts()"
   ]
  },
  {
   "cell_type": "code",
   "execution_count": 145,
   "id": "driven-middle",
   "metadata": {},
   "outputs": [
    {
     "data": {
      "text/html": [
       "<div>\n",
       "<style scoped>\n",
       "    .dataframe tbody tr th:only-of-type {\n",
       "        vertical-align: middle;\n",
       "    }\n",
       "\n",
       "    .dataframe tbody tr th {\n",
       "        vertical-align: top;\n",
       "    }\n",
       "\n",
       "    .dataframe thead th {\n",
       "        text-align: right;\n",
       "    }\n",
       "</style>\n",
       "<table border=\"1\" class=\"dataframe\">\n",
       "  <thead>\n",
       "    <tr style=\"text-align: right;\">\n",
       "      <th></th>\n",
       "      <th>success</th>\n",
       "      <th>failure</th>\n",
       "    </tr>\n",
       "    <tr>\n",
       "      <th>status</th>\n",
       "      <th></th>\n",
       "      <th></th>\n",
       "    </tr>\n",
       "  </thead>\n",
       "  <tbody>\n",
       "    <tr>\n",
       "      <th>acquired</th>\n",
       "      <td>7121.0</td>\n",
       "      <td>NaN</td>\n",
       "    </tr>\n",
       "    <tr>\n",
       "      <th>ipo</th>\n",
       "      <td>871.0</td>\n",
       "      <td>NaN</td>\n",
       "    </tr>\n",
       "    <tr>\n",
       "      <th>operating</th>\n",
       "      <td>10792.0</td>\n",
       "      <td>54486.0</td>\n",
       "    </tr>\n",
       "    <tr>\n",
       "      <th>closed</th>\n",
       "      <td>NaN</td>\n",
       "      <td>3536.0</td>\n",
       "    </tr>\n",
       "  </tbody>\n",
       "</table>\n",
       "</div>"
      ],
      "text/plain": [
       "           success  failure\n",
       "status                     \n",
       "acquired    7121.0      NaN\n",
       "ipo          871.0      NaN\n",
       "operating  10792.0  54486.0\n",
       "closed         NaN   3536.0"
      ]
     },
     "execution_count": 145,
     "metadata": {},
     "output_type": "execute_result"
    }
   ],
   "source": [
    "success = (org_processing_df_v10[org_processing_df_v10.outcome == 1]).groupby('status').size().astype(int)\n",
    "failure = (org_processing_df_v10[org_processing_df_v10.outcome == 0].groupby('status').size()).astype(int)\n",
    "\n",
    "pd.concat ([success,failure], axis=1,keys = ['success','failure'])"
   ]
  },
  {
   "cell_type": "code",
   "execution_count": 146,
   "id": "quick-medium",
   "metadata": {},
   "outputs": [
    {
     "data": {
      "text/plain": [
       "status\n",
       "acquired      7121\n",
       "closed        3536\n",
       "ipo            871\n",
       "operating    65278\n",
       "dtype: int64"
      ]
     },
     "execution_count": 146,
     "metadata": {},
     "output_type": "execute_result"
    }
   ],
   "source": [
    "org_processing_df_v10.groupby('status').size()"
   ]
  },
  {
   "cell_type": "code",
   "execution_count": 147,
   "id": "necessary-welcome",
   "metadata": {},
   "outputs": [
    {
     "data": {
      "text/plain": [
       "76806"
      ]
     },
     "execution_count": 147,
     "metadata": {},
     "output_type": "execute_result"
    }
   ],
   "source": [
    "len(org_processing_df_v10)"
   ]
  },
  {
   "cell_type": "code",
   "execution_count": 148,
   "id": "authentic-image",
   "metadata": {},
   "outputs": [],
   "source": [
    "#save processed dataframe with outcome\n",
    "org_processing_df_v10.to_csv(R\"d:/msc-project/data/final/outcome_final.csv\",encoding='utf-8',index=False)"
   ]
  }
 ],
 "metadata": {
  "kernelspec": {
   "display_name": "Python 3",
   "language": "python",
   "name": "python3"
  },
  "language_info": {
   "codemirror_mode": {
    "name": "ipython",
    "version": 3
   },
   "file_extension": ".py",
   "mimetype": "text/x-python",
   "name": "python",
   "nbconvert_exporter": "python",
   "pygments_lexer": "ipython3",
   "version": "3.7.9"
  }
 },
 "nbformat": 4,
 "nbformat_minor": 5
}
