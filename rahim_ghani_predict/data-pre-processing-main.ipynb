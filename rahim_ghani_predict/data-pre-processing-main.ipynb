{
 "cells": [
  {
   "cell_type": "code",
   "execution_count": 1,
   "id": "leading-effects",
   "metadata": {},
   "outputs": [],
   "source": [
    "#Import basic packages\n",
    "import os\n",
    "import numpy as np\n",
    "import pandas as pd\n",
    "import csv\n",
    "import regex as re"
   ]
  },
  {
   "cell_type": "code",
   "execution_count": 2,
   "id": "stock-glance",
   "metadata": {},
   "outputs": [],
   "source": [
    "#import organizations.csv\n",
    "org_df = pd.read_csv(R\"d:\\\\msc-project\\data\\bulk_export_122020\\organizations.csv\",encoding='utf-8')"
   ]
  },
  {
   "cell_type": "code",
   "execution_count": 3,
   "id": "collected-cooling",
   "metadata": {},
   "outputs": [
    {
     "data": {
      "text/plain": [
       "Index(['uuid', 'name', 'type', 'permalink', 'cb_url', 'rank', 'created_at',\n",
       "       'updated_at', 'legal_name', 'roles', 'domain', 'homepage_url',\n",
       "       'country_code', 'state_code', 'region', 'city', 'address',\n",
       "       'postal_code', 'status', 'short_description', 'category_list',\n",
       "       'category_groups_list', 'num_funding_rounds', 'total_funding_usd',\n",
       "       'total_funding', 'total_funding_currency_code', 'founded_on',\n",
       "       'last_funding_on', 'closed_on', 'employee_count', 'email', 'phone',\n",
       "       'facebook_url', 'linkedin_url', 'twitter_url', 'logo_url', 'alias1',\n",
       "       'alias2', 'alias3', 'primary_role', 'num_exits'],\n",
       "      dtype='object')"
      ]
     },
     "execution_count": 3,
     "metadata": {},
     "output_type": "execute_result"
    }
   ],
   "source": [
    "#check column name for organisation\n",
    "org_df.columns"
   ]
  },
  {
   "cell_type": "code",
   "execution_count": 4,
   "id": "declared-concentration",
   "metadata": {},
   "outputs": [
    {
     "data": {
      "text/html": [
       "<div>\n",
       "<style scoped>\n",
       "    .dataframe tbody tr th:only-of-type {\n",
       "        vertical-align: middle;\n",
       "    }\n",
       "\n",
       "    .dataframe tbody tr th {\n",
       "        vertical-align: top;\n",
       "    }\n",
       "\n",
       "    .dataframe thead th {\n",
       "        text-align: right;\n",
       "    }\n",
       "</style>\n",
       "<table border=\"1\" class=\"dataframe\">\n",
       "  <thead>\n",
       "    <tr style=\"text-align: right;\">\n",
       "      <th></th>\n",
       "      <th>uuid</th>\n",
       "      <th>name</th>\n",
       "      <th>type</th>\n",
       "      <th>permalink</th>\n",
       "      <th>cb_url</th>\n",
       "      <th>rank</th>\n",
       "      <th>created_at</th>\n",
       "      <th>updated_at</th>\n",
       "      <th>legal_name</th>\n",
       "      <th>roles</th>\n",
       "      <th>...</th>\n",
       "      <th>phone</th>\n",
       "      <th>facebook_url</th>\n",
       "      <th>linkedin_url</th>\n",
       "      <th>twitter_url</th>\n",
       "      <th>logo_url</th>\n",
       "      <th>alias1</th>\n",
       "      <th>alias2</th>\n",
       "      <th>alias3</th>\n",
       "      <th>primary_role</th>\n",
       "      <th>num_exits</th>\n",
       "    </tr>\n",
       "  </thead>\n",
       "  <tbody>\n",
       "    <tr>\n",
       "      <th>0</th>\n",
       "      <td>e1393508-30ea-8a36-3f96-dd3226033abd</td>\n",
       "      <td>Wetpaint</td>\n",
       "      <td>organization</td>\n",
       "      <td>wetpaint</td>\n",
       "      <td>https://www.crunchbase.com/organization/wetpaint</td>\n",
       "      <td>131437.0</td>\n",
       "      <td>2007-05-25 13:51:27</td>\n",
       "      <td>2019-06-24 22:19:25</td>\n",
       "      <td>NaN</td>\n",
       "      <td>company</td>\n",
       "      <td>...</td>\n",
       "      <td>206-859-6300</td>\n",
       "      <td>https://www.facebook.com/Wetpaint</td>\n",
       "      <td>https://www.linkedin.com/company/wetpaint</td>\n",
       "      <td>https://twitter.com/wetpainttv</td>\n",
       "      <td>https://res.cloudinary.com/crunchbase-producti...</td>\n",
       "      <td>NaN</td>\n",
       "      <td>NaN</td>\n",
       "      <td>NaN</td>\n",
       "      <td>company</td>\n",
       "      <td>NaN</td>\n",
       "    </tr>\n",
       "    <tr>\n",
       "      <th>1</th>\n",
       "      <td>bf4d7b0e-b34d-2fd8-d292-6049c4f7efc7</td>\n",
       "      <td>Zoho</td>\n",
       "      <td>organization</td>\n",
       "      <td>zoho</td>\n",
       "      <td>https://www.crunchbase.com/organization/zoho</td>\n",
       "      <td>7682.0</td>\n",
       "      <td>2007-05-26 02:30:28</td>\n",
       "      <td>2018-10-27 00:29:49</td>\n",
       "      <td>NaN</td>\n",
       "      <td>investor,company</td>\n",
       "      <td>...</td>\n",
       "      <td>NaN</td>\n",
       "      <td>http://www.facebook.com/zoho</td>\n",
       "      <td>http://www.linkedin.com/company/zoho-corporati...</td>\n",
       "      <td>http://twitter.com/zoho</td>\n",
       "      <td>https://res.cloudinary.com/crunchbase-producti...</td>\n",
       "      <td>NaN</td>\n",
       "      <td>NaN</td>\n",
       "      <td>NaN</td>\n",
       "      <td>company</td>\n",
       "      <td>1.0</td>\n",
       "    </tr>\n",
       "  </tbody>\n",
       "</table>\n",
       "<p>2 rows × 41 columns</p>\n",
       "</div>"
      ],
      "text/plain": [
       "                                   uuid      name          type permalink  \\\n",
       "0  e1393508-30ea-8a36-3f96-dd3226033abd  Wetpaint  organization  wetpaint   \n",
       "1  bf4d7b0e-b34d-2fd8-d292-6049c4f7efc7      Zoho  organization      zoho   \n",
       "\n",
       "                                             cb_url      rank  \\\n",
       "0  https://www.crunchbase.com/organization/wetpaint  131437.0   \n",
       "1      https://www.crunchbase.com/organization/zoho    7682.0   \n",
       "\n",
       "            created_at           updated_at legal_name             roles  ...  \\\n",
       "0  2007-05-25 13:51:27  2019-06-24 22:19:25        NaN           company  ...   \n",
       "1  2007-05-26 02:30:28  2018-10-27 00:29:49        NaN  investor,company  ...   \n",
       "\n",
       "          phone                       facebook_url  \\\n",
       "0  206-859-6300  https://www.facebook.com/Wetpaint   \n",
       "1           NaN       http://www.facebook.com/zoho   \n",
       "\n",
       "                                        linkedin_url  \\\n",
       "0          https://www.linkedin.com/company/wetpaint   \n",
       "1  http://www.linkedin.com/company/zoho-corporati...   \n",
       "\n",
       "                      twitter_url  \\\n",
       "0  https://twitter.com/wetpainttv   \n",
       "1         http://twitter.com/zoho   \n",
       "\n",
       "                                            logo_url alias1 alias2 alias3  \\\n",
       "0  https://res.cloudinary.com/crunchbase-producti...    NaN    NaN    NaN   \n",
       "1  https://res.cloudinary.com/crunchbase-producti...    NaN    NaN    NaN   \n",
       "\n",
       "  primary_role num_exits  \n",
       "0      company       NaN  \n",
       "1      company       1.0  \n",
       "\n",
       "[2 rows x 41 columns]"
      ]
     },
     "execution_count": 4,
     "metadata": {},
     "output_type": "execute_result"
    }
   ],
   "source": [
    "org_df.head(2)"
   ]
  },
  {
   "cell_type": "code",
   "execution_count": 5,
   "id": "compatible-knife",
   "metadata": {},
   "outputs": [
    {
     "data": {
      "text/html": [
       "<div>\n",
       "<style scoped>\n",
       "    .dataframe tbody tr th:only-of-type {\n",
       "        vertical-align: middle;\n",
       "    }\n",
       "\n",
       "    .dataframe tbody tr th {\n",
       "        vertical-align: top;\n",
       "    }\n",
       "\n",
       "    .dataframe thead th {\n",
       "        text-align: right;\n",
       "    }\n",
       "</style>\n",
       "<table border=\"1\" class=\"dataframe\">\n",
       "  <thead>\n",
       "    <tr style=\"text-align: right;\">\n",
       "      <th></th>\n",
       "      <th>uuid</th>\n",
       "      <th>name</th>\n",
       "      <th>type</th>\n",
       "      <th>permalink</th>\n",
       "      <th>cb_url</th>\n",
       "      <th>rank</th>\n",
       "      <th>created_at</th>\n",
       "      <th>updated_at</th>\n",
       "      <th>legal_name</th>\n",
       "      <th>roles</th>\n",
       "      <th>...</th>\n",
       "      <th>phone</th>\n",
       "      <th>facebook_url</th>\n",
       "      <th>linkedin_url</th>\n",
       "      <th>twitter_url</th>\n",
       "      <th>logo_url</th>\n",
       "      <th>alias1</th>\n",
       "      <th>alias2</th>\n",
       "      <th>alias3</th>\n",
       "      <th>primary_role</th>\n",
       "      <th>num_exits</th>\n",
       "    </tr>\n",
       "  </thead>\n",
       "  <tbody>\n",
       "    <tr>\n",
       "      <th>1</th>\n",
       "      <td>bf4d7b0e-b34d-2fd8-d292-6049c4f7efc7</td>\n",
       "      <td>Zoho</td>\n",
       "      <td>organization</td>\n",
       "      <td>zoho</td>\n",
       "      <td>https://www.crunchbase.com/organization/zoho</td>\n",
       "      <td>7682.0</td>\n",
       "      <td>2007-05-26 02:30:28</td>\n",
       "      <td>2018-10-27 00:29:49</td>\n",
       "      <td>NaN</td>\n",
       "      <td>investor,company</td>\n",
       "      <td>...</td>\n",
       "      <td>NaN</td>\n",
       "      <td>http://www.facebook.com/zoho</td>\n",
       "      <td>http://www.linkedin.com/company/zoho-corporati...</td>\n",
       "      <td>http://twitter.com/zoho</td>\n",
       "      <td>https://res.cloudinary.com/crunchbase-producti...</td>\n",
       "      <td>NaN</td>\n",
       "      <td>NaN</td>\n",
       "      <td>NaN</td>\n",
       "      <td>company</td>\n",
       "      <td>1.0</td>\n",
       "    </tr>\n",
       "    <tr>\n",
       "      <th>3</th>\n",
       "      <td>f4d5ab44-058b-298b-ea81-380e6e9a8eec</td>\n",
       "      <td>Omidyar Network</td>\n",
       "      <td>organization</td>\n",
       "      <td>omidyar-network</td>\n",
       "      <td>https://www.crunchbase.com/organization/omidya...</td>\n",
       "      <td>1757.0</td>\n",
       "      <td>2007-05-26 03:21:34</td>\n",
       "      <td>2019-06-19 12:17:48</td>\n",
       "      <td>NaN</td>\n",
       "      <td>investor</td>\n",
       "      <td>...</td>\n",
       "      <td>650.482.2500</td>\n",
       "      <td>http://www.facebook.com/OmidyarNetwork</td>\n",
       "      <td>http://www.linkedin.com/company/22806</td>\n",
       "      <td>http://twitter.com/OmidyarNetwork</td>\n",
       "      <td>https://res.cloudinary.com/crunchbase-producti...</td>\n",
       "      <td>NaN</td>\n",
       "      <td>NaN</td>\n",
       "      <td>NaN</td>\n",
       "      <td>investor</td>\n",
       "      <td>37.0</td>\n",
       "    </tr>\n",
       "    <tr>\n",
       "      <th>5</th>\n",
       "      <td>7ca12f7a-2f8e-48b4-a8d1-1a33a0e275b9</td>\n",
       "      <td>Trinity Ventures</td>\n",
       "      <td>organization</td>\n",
       "      <td>trinity-ventures</td>\n",
       "      <td>https://www.crunchbase.com/organization/trinit...</td>\n",
       "      <td>1956.0</td>\n",
       "      <td>2007-05-26 20:13:00</td>\n",
       "      <td>2019-09-27 22:33:49</td>\n",
       "      <td>NaN</td>\n",
       "      <td>investor</td>\n",
       "      <td>...</td>\n",
       "      <td>650.854.9500</td>\n",
       "      <td>http://www.facebook.com/pages/Menlo-Park-CA/Tr...</td>\n",
       "      <td>http://www.linkedin.com/company/trinity-ventures</td>\n",
       "      <td>http://twitter.com/trinityventures</td>\n",
       "      <td>https://res.cloudinary.com/crunchbase-producti...</td>\n",
       "      <td>NaN</td>\n",
       "      <td>NaN</td>\n",
       "      <td>NaN</td>\n",
       "      <td>investor</td>\n",
       "      <td>123.0</td>\n",
       "    </tr>\n",
       "    <tr>\n",
       "      <th>6</th>\n",
       "      <td>b08efc27-da40-505a-6f9d-c9e14247bf36</td>\n",
       "      <td>Accel</td>\n",
       "      <td>organization</td>\n",
       "      <td>accel</td>\n",
       "      <td>https://www.crunchbase.com/organization/accel</td>\n",
       "      <td>2379.0</td>\n",
       "      <td>2007-05-26 20:27:39</td>\n",
       "      <td>2020-10-12 12:50:40</td>\n",
       "      <td>Accel Partners LP</td>\n",
       "      <td>investor,company</td>\n",
       "      <td>...</td>\n",
       "      <td>650-614-4800</td>\n",
       "      <td>http://www.facebook.com/accel</td>\n",
       "      <td>https://www.linkedin.com/company/accel-vc/</td>\n",
       "      <td>http://twitter.com/accel</td>\n",
       "      <td>https://res.cloudinary.com/crunchbase-producti...</td>\n",
       "      <td>Accel Partners</td>\n",
       "      <td>NaN</td>\n",
       "      <td>NaN</td>\n",
       "      <td>investor</td>\n",
       "      <td>304.0</td>\n",
       "    </tr>\n",
       "    <tr>\n",
       "      <th>7</th>\n",
       "      <td>8d5c7e48-82da-3025-dd46-346a31bab86f</td>\n",
       "      <td>Meritech Capital Partners</td>\n",
       "      <td>organization</td>\n",
       "      <td>meritech-capital-partners</td>\n",
       "      <td>https://www.crunchbase.com/organization/merite...</td>\n",
       "      <td>21686.0</td>\n",
       "      <td>2007-05-26 20:29:59</td>\n",
       "      <td>2020-03-02 18:04:28</td>\n",
       "      <td>NaN</td>\n",
       "      <td>investor</td>\n",
       "      <td>...</td>\n",
       "      <td>(650) 475-2200</td>\n",
       "      <td>http://www.facebook.com/MeritechCapital</td>\n",
       "      <td>https://www.linkedin.com/company/meritech-capi...</td>\n",
       "      <td>http://twitter.com/MeritechCapital</td>\n",
       "      <td>https://res.cloudinary.com/crunchbase-producti...</td>\n",
       "      <td>NaN</td>\n",
       "      <td>NaN</td>\n",
       "      <td>NaN</td>\n",
       "      <td>investor</td>\n",
       "      <td>110.0</td>\n",
       "    </tr>\n",
       "    <tr>\n",
       "      <th>10</th>\n",
       "      <td>180ebf67-68d0-2316-e93d-8e1e546330ba</td>\n",
       "      <td>Flektor</td>\n",
       "      <td>organization</td>\n",
       "      <td>flektor</td>\n",
       "      <td>https://www.crunchbase.com/organization/flektor</td>\n",
       "      <td>217891.0</td>\n",
       "      <td>2007-06-01 04:11:51</td>\n",
       "      <td>2018-02-12 23:23:51</td>\n",
       "      <td>NaN</td>\n",
       "      <td>company</td>\n",
       "      <td>...</td>\n",
       "      <td>NaN</td>\n",
       "      <td>NaN</td>\n",
       "      <td>NaN</td>\n",
       "      <td>NaN</td>\n",
       "      <td>https://res.cloudinary.com/crunchbase-producti...</td>\n",
       "      <td>NaN</td>\n",
       "      <td>NaN</td>\n",
       "      <td>NaN</td>\n",
       "      <td>company</td>\n",
       "      <td>NaN</td>\n",
       "    </tr>\n",
       "    <tr>\n",
       "      <th>11</th>\n",
       "      <td>d70777cc-14bd-2416-0692-5a483781b78b</td>\n",
       "      <td>Fox Interactive Media</td>\n",
       "      <td>organization</td>\n",
       "      <td>fox-interactive-media</td>\n",
       "      <td>https://www.crunchbase.com/organization/fox-in...</td>\n",
       "      <td>118045.0</td>\n",
       "      <td>2007-06-01 04:46:57</td>\n",
       "      <td>2018-11-30 09:12:07</td>\n",
       "      <td>NaN</td>\n",
       "      <td>investor,company</td>\n",
       "      <td>...</td>\n",
       "      <td>(212) 416-3400</td>\n",
       "      <td>NaN</td>\n",
       "      <td>https://www.linkedin.com/company/fox-interacti...</td>\n",
       "      <td>NaN</td>\n",
       "      <td>https://res.cloudinary.com/crunchbase-producti...</td>\n",
       "      <td>NaN</td>\n",
       "      <td>NaN</td>\n",
       "      <td>NaN</td>\n",
       "      <td>company</td>\n",
       "      <td>1.0</td>\n",
       "    </tr>\n",
       "    <tr>\n",
       "      <th>17</th>\n",
       "      <td>a6c7c343-c004-6a4d-6c67-d856cc0ec2c2</td>\n",
       "      <td>Centennial Ventures</td>\n",
       "      <td>organization</td>\n",
       "      <td>centennial-ventures</td>\n",
       "      <td>https://www.crunchbase.com/organization/centen...</td>\n",
       "      <td>128754.0</td>\n",
       "      <td>2007-06-05 12:24:16</td>\n",
       "      <td>2020-10-05 17:41:38</td>\n",
       "      <td>NaN</td>\n",
       "      <td>investor</td>\n",
       "      <td>...</td>\n",
       "      <td>(303) 405-7500</td>\n",
       "      <td>NaN</td>\n",
       "      <td>NaN</td>\n",
       "      <td>NaN</td>\n",
       "      <td>https://res.cloudinary.com/crunchbase-producti...</td>\n",
       "      <td>NaN</td>\n",
       "      <td>NaN</td>\n",
       "      <td>NaN</td>\n",
       "      <td>investor</td>\n",
       "      <td>19.0</td>\n",
       "    </tr>\n",
       "    <tr>\n",
       "      <th>18</th>\n",
       "      <td>c6fff75f-74e6-5e98-494a-037c4202baf8</td>\n",
       "      <td>Mission Ventures</td>\n",
       "      <td>organization</td>\n",
       "      <td>mission-ventures</td>\n",
       "      <td>https://www.crunchbase.com/organization/missio...</td>\n",
       "      <td>113394.0</td>\n",
       "      <td>2007-06-05 12:24:58</td>\n",
       "      <td>2020-03-04 14:36:21</td>\n",
       "      <td>NaN</td>\n",
       "      <td>investor</td>\n",
       "      <td>...</td>\n",
       "      <td>(858)350-2100</td>\n",
       "      <td>NaN</td>\n",
       "      <td>https://www.linkedin.com/company/mission-ventu...</td>\n",
       "      <td>NaN</td>\n",
       "      <td>https://res.cloudinary.com/crunchbase-producti...</td>\n",
       "      <td>NaN</td>\n",
       "      <td>NaN</td>\n",
       "      <td>NaN</td>\n",
       "      <td>investor</td>\n",
       "      <td>29.0</td>\n",
       "    </tr>\n",
       "    <tr>\n",
       "      <th>19</th>\n",
       "      <td>313f8a67-ec94-ea8b-96a7-d88a75f9e636</td>\n",
       "      <td>Sevin Rosen Funds</td>\n",
       "      <td>organization</td>\n",
       "      <td>sevin-rosen-funds</td>\n",
       "      <td>https://www.crunchbase.com/organization/sevin-...</td>\n",
       "      <td>79887.0</td>\n",
       "      <td>2007-06-05 12:26:10</td>\n",
       "      <td>2020-03-03 16:20:30</td>\n",
       "      <td>NaN</td>\n",
       "      <td>investor</td>\n",
       "      <td>...</td>\n",
       "      <td>NaN</td>\n",
       "      <td>https://www.facebook.com/Sevin-Rosen-Funds-106...</td>\n",
       "      <td>https://www.linkedin.com/company/sevin-rosen-f...</td>\n",
       "      <td>https://www.twitter.com/srfunds</td>\n",
       "      <td>https://res.cloudinary.com/crunchbase-producti...</td>\n",
       "      <td>NaN</td>\n",
       "      <td>NaN</td>\n",
       "      <td>NaN</td>\n",
       "      <td>investor</td>\n",
       "      <td>62.0</td>\n",
       "    </tr>\n",
       "  </tbody>\n",
       "</table>\n",
       "<p>10 rows × 41 columns</p>\n",
       "</div>"
      ],
      "text/plain": [
       "                                    uuid                       name  \\\n",
       "1   bf4d7b0e-b34d-2fd8-d292-6049c4f7efc7                       Zoho   \n",
       "3   f4d5ab44-058b-298b-ea81-380e6e9a8eec            Omidyar Network   \n",
       "5   7ca12f7a-2f8e-48b4-a8d1-1a33a0e275b9           Trinity Ventures   \n",
       "6   b08efc27-da40-505a-6f9d-c9e14247bf36                      Accel   \n",
       "7   8d5c7e48-82da-3025-dd46-346a31bab86f  Meritech Capital Partners   \n",
       "10  180ebf67-68d0-2316-e93d-8e1e546330ba                    Flektor   \n",
       "11  d70777cc-14bd-2416-0692-5a483781b78b      Fox Interactive Media   \n",
       "17  a6c7c343-c004-6a4d-6c67-d856cc0ec2c2        Centennial Ventures   \n",
       "18  c6fff75f-74e6-5e98-494a-037c4202baf8           Mission Ventures   \n",
       "19  313f8a67-ec94-ea8b-96a7-d88a75f9e636          Sevin Rosen Funds   \n",
       "\n",
       "            type                  permalink  \\\n",
       "1   organization                       zoho   \n",
       "3   organization            omidyar-network   \n",
       "5   organization           trinity-ventures   \n",
       "6   organization                      accel   \n",
       "7   organization  meritech-capital-partners   \n",
       "10  organization                    flektor   \n",
       "11  organization      fox-interactive-media   \n",
       "17  organization        centennial-ventures   \n",
       "18  organization           mission-ventures   \n",
       "19  organization          sevin-rosen-funds   \n",
       "\n",
       "                                               cb_url      rank  \\\n",
       "1        https://www.crunchbase.com/organization/zoho    7682.0   \n",
       "3   https://www.crunchbase.com/organization/omidya...    1757.0   \n",
       "5   https://www.crunchbase.com/organization/trinit...    1956.0   \n",
       "6       https://www.crunchbase.com/organization/accel    2379.0   \n",
       "7   https://www.crunchbase.com/organization/merite...   21686.0   \n",
       "10    https://www.crunchbase.com/organization/flektor  217891.0   \n",
       "11  https://www.crunchbase.com/organization/fox-in...  118045.0   \n",
       "17  https://www.crunchbase.com/organization/centen...  128754.0   \n",
       "18  https://www.crunchbase.com/organization/missio...  113394.0   \n",
       "19  https://www.crunchbase.com/organization/sevin-...   79887.0   \n",
       "\n",
       "             created_at           updated_at         legal_name  \\\n",
       "1   2007-05-26 02:30:28  2018-10-27 00:29:49                NaN   \n",
       "3   2007-05-26 03:21:34  2019-06-19 12:17:48                NaN   \n",
       "5   2007-05-26 20:13:00  2019-09-27 22:33:49                NaN   \n",
       "6   2007-05-26 20:27:39  2020-10-12 12:50:40  Accel Partners LP   \n",
       "7   2007-05-26 20:29:59  2020-03-02 18:04:28                NaN   \n",
       "10  2007-06-01 04:11:51  2018-02-12 23:23:51                NaN   \n",
       "11  2007-06-01 04:46:57  2018-11-30 09:12:07                NaN   \n",
       "17  2007-06-05 12:24:16  2020-10-05 17:41:38                NaN   \n",
       "18  2007-06-05 12:24:58  2020-03-04 14:36:21                NaN   \n",
       "19  2007-06-05 12:26:10  2020-03-03 16:20:30                NaN   \n",
       "\n",
       "               roles  ...           phone  \\\n",
       "1   investor,company  ...             NaN   \n",
       "3           investor  ...    650.482.2500   \n",
       "5           investor  ...    650.854.9500   \n",
       "6   investor,company  ...    650-614-4800   \n",
       "7           investor  ...  (650) 475-2200   \n",
       "10           company  ...             NaN   \n",
       "11  investor,company  ...  (212) 416-3400   \n",
       "17          investor  ...  (303) 405-7500   \n",
       "18          investor  ...   (858)350-2100   \n",
       "19          investor  ...             NaN   \n",
       "\n",
       "                                         facebook_url  \\\n",
       "1                        http://www.facebook.com/zoho   \n",
       "3              http://www.facebook.com/OmidyarNetwork   \n",
       "5   http://www.facebook.com/pages/Menlo-Park-CA/Tr...   \n",
       "6                       http://www.facebook.com/accel   \n",
       "7             http://www.facebook.com/MeritechCapital   \n",
       "10                                                NaN   \n",
       "11                                                NaN   \n",
       "17                                                NaN   \n",
       "18                                                NaN   \n",
       "19  https://www.facebook.com/Sevin-Rosen-Funds-106...   \n",
       "\n",
       "                                         linkedin_url  \\\n",
       "1   http://www.linkedin.com/company/zoho-corporati...   \n",
       "3               http://www.linkedin.com/company/22806   \n",
       "5    http://www.linkedin.com/company/trinity-ventures   \n",
       "6          https://www.linkedin.com/company/accel-vc/   \n",
       "7   https://www.linkedin.com/company/meritech-capi...   \n",
       "10                                                NaN   \n",
       "11  https://www.linkedin.com/company/fox-interacti...   \n",
       "17                                                NaN   \n",
       "18  https://www.linkedin.com/company/mission-ventu...   \n",
       "19  https://www.linkedin.com/company/sevin-rosen-f...   \n",
       "\n",
       "                           twitter_url  \\\n",
       "1              http://twitter.com/zoho   \n",
       "3    http://twitter.com/OmidyarNetwork   \n",
       "5   http://twitter.com/trinityventures   \n",
       "6             http://twitter.com/accel   \n",
       "7   http://twitter.com/MeritechCapital   \n",
       "10                                 NaN   \n",
       "11                                 NaN   \n",
       "17                                 NaN   \n",
       "18                                 NaN   \n",
       "19     https://www.twitter.com/srfunds   \n",
       "\n",
       "                                             logo_url          alias1 alias2  \\\n",
       "1   https://res.cloudinary.com/crunchbase-producti...             NaN    NaN   \n",
       "3   https://res.cloudinary.com/crunchbase-producti...             NaN    NaN   \n",
       "5   https://res.cloudinary.com/crunchbase-producti...             NaN    NaN   \n",
       "6   https://res.cloudinary.com/crunchbase-producti...  Accel Partners    NaN   \n",
       "7   https://res.cloudinary.com/crunchbase-producti...             NaN    NaN   \n",
       "10  https://res.cloudinary.com/crunchbase-producti...             NaN    NaN   \n",
       "11  https://res.cloudinary.com/crunchbase-producti...             NaN    NaN   \n",
       "17  https://res.cloudinary.com/crunchbase-producti...             NaN    NaN   \n",
       "18  https://res.cloudinary.com/crunchbase-producti...             NaN    NaN   \n",
       "19  https://res.cloudinary.com/crunchbase-producti...             NaN    NaN   \n",
       "\n",
       "   alias3 primary_role num_exits  \n",
       "1     NaN      company       1.0  \n",
       "3     NaN     investor      37.0  \n",
       "5     NaN     investor     123.0  \n",
       "6     NaN     investor     304.0  \n",
       "7     NaN     investor     110.0  \n",
       "10    NaN      company       NaN  \n",
       "11    NaN      company       1.0  \n",
       "17    NaN     investor      19.0  \n",
       "18    NaN     investor      29.0  \n",
       "19    NaN     investor      62.0  \n",
       "\n",
       "[10 rows x 41 columns]"
      ]
     },
     "execution_count": 5,
     "metadata": {},
     "output_type": "execute_result"
    }
   ],
   "source": [
    "mask = org_df.num_funding_rounds.isna()\n",
    "org_df[mask].head(10)"
   ]
  },
  {
   "cell_type": "code",
   "execution_count": 6,
   "id": "according-occupation",
   "metadata": {},
   "outputs": [
    {
     "data": {
      "text/plain": [
       "uuid                                 0\n",
       "name                                14\n",
       "type                                 0\n",
       "permalink                            7\n",
       "cb_url                               6\n",
       "rank                               134\n",
       "created_at                           0\n",
       "updated_at                           0\n",
       "legal_name                     1035917\n",
       "roles                             8873\n",
       "domain                           79212\n",
       "homepage_url                     79211\n",
       "country_code                    191226\n",
       "state_code                      761292\n",
       "region                          191226\n",
       "city                            191226\n",
       "address                         654274\n",
       "postal_code                     684663\n",
       "status                               0\n",
       "short_description                  118\n",
       "category_list                    78059\n",
       "category_groups_list             78059\n",
       "num_funding_rounds             1024489\n",
       "total_funding_usd              1075897\n",
       "total_funding                  1075897\n",
       "total_funding_currency_code    1075897\n",
       "founded_on                      260307\n",
       "last_funding_on                1024500\n",
       "closed_on                      1202566\n",
       "employee_count                       0\n",
       "email                           462846\n",
       "phone                           405981\n",
       "facebook_url                    575710\n",
       "linkedin_url                    646209\n",
       "twitter_url                     631355\n",
       "logo_url                        189098\n",
       "alias1                         1032827\n",
       "alias2                         1183539\n",
       "alias3                         1202240\n",
       "primary_role                         0\n",
       "num_exits                      1198771\n",
       "dtype: int64"
      ]
     },
     "execution_count": 6,
     "metadata": {},
     "output_type": "execute_result"
    }
   ],
   "source": [
    "#Show the value of NaN for every colum\n",
    "org_df.isnull().sum(axis = 0)"
   ]
  },
  {
   "cell_type": "code",
   "execution_count": 7,
   "id": "german-premiere",
   "metadata": {},
   "outputs": [],
   "source": [
    "#Delete unecessary columns\n",
    "org_df_v1 = org_df.drop (columns = ['type', 'permalink', 'cb_url', 'rank', 'created_at',\n",
    "                                    'updated_at','roles', 'domain','alias1',\n",
    "                                    'alias2', 'alias3'])"
   ]
  },
  {
   "cell_type": "code",
   "execution_count": 8,
   "id": "interesting-fraud",
   "metadata": {},
   "outputs": [
    {
     "data": {
      "text/plain": [
       "Index(['uuid', 'name', 'legal_name', 'homepage_url', 'country_code',\n",
       "       'state_code', 'region', 'city', 'address', 'postal_code', 'status',\n",
       "       'short_description', 'category_list', 'category_groups_list',\n",
       "       'num_funding_rounds', 'total_funding_usd', 'total_funding',\n",
       "       'total_funding_currency_code', 'founded_on', 'last_funding_on',\n",
       "       'closed_on', 'employee_count', 'email', 'phone', 'facebook_url',\n",
       "       'linkedin_url', 'twitter_url', 'logo_url', 'primary_role', 'num_exits'],\n",
       "      dtype='object')"
      ]
     },
     "execution_count": 8,
     "metadata": {},
     "output_type": "execute_result"
    }
   ],
   "source": [
    "org_df_v1.columns"
   ]
  },
  {
   "cell_type": "code",
   "execution_count": 9,
   "id": "north-contact",
   "metadata": {},
   "outputs": [
    {
     "data": {
      "text/plain": [
       "array([ 3., nan,  6., 17.,  1., 11.,  4.,  5.,  2.,  7., 16.,  8., 14.,\n",
       "       10.,  9., 12., 13., 15., 35., 21., 23., 19., 20., 18., 29., 22.,\n",
       "       31., 24., 27., 25.,  0., 41., 34., 30., 36.])"
      ]
     },
     "execution_count": 9,
     "metadata": {},
     "output_type": "execute_result"
    }
   ],
   "source": [
    "org_df_v1['num_funding_rounds'].unique()"
   ]
  },
  {
   "cell_type": "code",
   "execution_count": 10,
   "id": "waiting-austin",
   "metadata": {},
   "outputs": [],
   "source": [
    "#delete data with no founded date, country code, category, and num_funding_rounds\n",
    "org_df_v2 = org_df_v1.dropna (subset=['founded_on','country_code','category_list','category_groups_list','num_funding_rounds'])"
   ]
  },
  {
   "cell_type": "code",
   "execution_count": 11,
   "id": "defined-presence",
   "metadata": {},
   "outputs": [
    {
     "data": {
      "text/plain": [
       "179275"
      ]
     },
     "execution_count": 11,
     "metadata": {},
     "output_type": "execute_result"
    }
   ],
   "source": [
    "len(org_df_v2)"
   ]
  },
  {
   "cell_type": "code",
   "execution_count": 12,
   "id": "opening-spouse",
   "metadata": {},
   "outputs": [
    {
     "name": "stderr",
     "output_type": "stream",
     "text": [
      "C:\\Users\\Abdul Rahim Ab Ghani\\miniconda3\\lib\\site-packages\\pandas\\core\\frame.py:4449: SettingWithCopyWarning: \n",
      "A value is trying to be set on a copy of a slice from a DataFrame\n",
      "\n",
      "See the caveats in the documentation: https://pandas.pydata.org/pandas-docs/stable/user_guide/indexing.html#returning-a-view-versus-a-copy\n",
      "  errors=errors,\n"
     ]
    }
   ],
   "source": [
    "org_df_v2.rename(columns = {'uuid':'org_uuid'},inplace=True)"
   ]
  },
  {
   "cell_type": "code",
   "execution_count": 13,
   "id": "technical-grace",
   "metadata": {},
   "outputs": [],
   "source": [
    "#filter only company data and company after 2000\n",
    "org_df_v3 = org_df_v2[(org_df_v2.founded_on > '2000-01-01') & (org_df_v2.primary_role == 'company')]"
   ]
  },
  {
   "cell_type": "code",
   "execution_count": 14,
   "id": "hired-subsection",
   "metadata": {},
   "outputs": [
    {
     "data": {
      "text/plain": [
       "Index(['org_uuid', 'name', 'legal_name', 'homepage_url', 'country_code',\n",
       "       'state_code', 'region', 'city', 'address', 'postal_code', 'status',\n",
       "       'short_description', 'category_list', 'category_groups_list',\n",
       "       'num_funding_rounds', 'total_funding_usd', 'total_funding',\n",
       "       'total_funding_currency_code', 'founded_on', 'last_funding_on',\n",
       "       'closed_on', 'employee_count', 'email', 'phone', 'facebook_url',\n",
       "       'linkedin_url', 'twitter_url', 'logo_url', 'primary_role', 'num_exits'],\n",
       "      dtype='object')"
      ]
     },
     "execution_count": 14,
     "metadata": {},
     "output_type": "execute_result"
    }
   ],
   "source": [
    "org_df_v3.columns"
   ]
  },
  {
   "cell_type": "code",
   "execution_count": 15,
   "id": "native-turner",
   "metadata": {},
   "outputs": [
    {
     "data": {
      "text/plain": [
       "153048"
      ]
     },
     "execution_count": 15,
     "metadata": {},
     "output_type": "execute_result"
    }
   ],
   "source": [
    "len(org_df_v3)"
   ]
  },
  {
   "cell_type": "markdown",
   "id": "intensive-farmer",
   "metadata": {},
   "source": [
    "# Organization Description"
   ]
  },
  {
   "cell_type": "code",
   "execution_count": 16,
   "id": "bottom-tactics",
   "metadata": {},
   "outputs": [],
   "source": [
    "#import organisations description.csv\n",
    "org_desc_df = pd.read_csv(R\"d:/msc-project/data/bulk_export_122020/organization_descriptions.csv\",encoding='utf-8')"
   ]
  },
  {
   "cell_type": "code",
   "execution_count": 17,
   "id": "chronic-bailey",
   "metadata": {},
   "outputs": [
    {
     "data": {
      "text/plain": [
       "Index(['uuid', 'name', 'type', 'permalink', 'cb_url', 'rank', 'created_at',\n",
       "       'updated_at', 'description'],\n",
       "      dtype='object')"
      ]
     },
     "execution_count": 17,
     "metadata": {},
     "output_type": "execute_result"
    }
   ],
   "source": [
    "org_desc_df.columns"
   ]
  },
  {
   "cell_type": "code",
   "execution_count": 18,
   "id": "smart-coating",
   "metadata": {},
   "outputs": [],
   "source": [
    "#drop uneseccary columns\n",
    "org_desc_df_v1 = org_desc_df.drop(columns = ['name', 'type', 'permalink', 'cb_url', 'rank', 'created_at',\n",
    "       'updated_at'])"
   ]
  },
  {
   "cell_type": "code",
   "execution_count": 19,
   "id": "noticed-japan",
   "metadata": {},
   "outputs": [
    {
     "data": {
      "text/plain": [
       "Index(['uuid', 'description'], dtype='object')"
      ]
     },
     "execution_count": 19,
     "metadata": {},
     "output_type": "execute_result"
    }
   ],
   "source": [
    "org_desc_df_v1.columns"
   ]
  },
  {
   "cell_type": "code",
   "execution_count": 20,
   "id": "altered-bubble",
   "metadata": {},
   "outputs": [],
   "source": [
    "org_desc_df_v1.rename(columns={'uuid':'org_uuid'},inplace=True)"
   ]
  },
  {
   "cell_type": "code",
   "execution_count": 21,
   "id": "allied-darkness",
   "metadata": {},
   "outputs": [
    {
     "data": {
      "text/plain": [
       "Index(['org_uuid', 'description'], dtype='object')"
      ]
     },
     "execution_count": 21,
     "metadata": {},
     "output_type": "execute_result"
    }
   ],
   "source": [
    "org_desc_df_v1.columns"
   ]
  },
  {
   "cell_type": "code",
   "execution_count": 22,
   "id": "comfortable-spirituality",
   "metadata": {},
   "outputs": [],
   "source": [
    "#combine with main org file\n",
    "main_org_df_v1 = pd.merge (org_df_v3,org_desc_df_v1,\n",
    "                         how='left',\n",
    "                         on='org_uuid'\n",
    "                         )"
   ]
  },
  {
   "cell_type": "code",
   "execution_count": 23,
   "id": "increased-furniture",
   "metadata": {},
   "outputs": [
    {
     "data": {
      "text/plain": [
       "Index(['org_uuid', 'name', 'legal_name', 'homepage_url', 'country_code',\n",
       "       'state_code', 'region', 'city', 'address', 'postal_code', 'status',\n",
       "       'short_description', 'category_list', 'category_groups_list',\n",
       "       'num_funding_rounds', 'total_funding_usd', 'total_funding',\n",
       "       'total_funding_currency_code', 'founded_on', 'last_funding_on',\n",
       "       'closed_on', 'employee_count', 'email', 'phone', 'facebook_url',\n",
       "       'linkedin_url', 'twitter_url', 'logo_url', 'primary_role', 'num_exits',\n",
       "       'description'],\n",
       "      dtype='object')"
      ]
     },
     "execution_count": 23,
     "metadata": {},
     "output_type": "execute_result"
    }
   ],
   "source": [
    "main_org_df_v1.columns"
   ]
  },
  {
   "cell_type": "code",
   "execution_count": 24,
   "id": "possible-trial",
   "metadata": {},
   "outputs": [
    {
     "data": {
      "text/plain": [
       "153048"
      ]
     },
     "execution_count": 24,
     "metadata": {},
     "output_type": "execute_result"
    }
   ],
   "source": [
    "len(main_org_df_v1)"
   ]
  },
  {
   "cell_type": "markdown",
   "id": "extraordinary-revolution",
   "metadata": {},
   "source": [
    "# IPOs"
   ]
  },
  {
   "cell_type": "code",
   "execution_count": 25,
   "id": "guided-suggestion",
   "metadata": {},
   "outputs": [],
   "source": [
    "#import ipos.csv\n",
    "ipos_df = pd.read_csv(R\"d:\\\\msc-project\\data\\bulk_export_122020\\ipos.csv\",encoding='utf-8')"
   ]
  },
  {
   "cell_type": "code",
   "execution_count": 26,
   "id": "requested-flower",
   "metadata": {},
   "outputs": [
    {
     "data": {
      "text/plain": [
       "Index(['uuid', 'name', 'type', 'permalink', 'cb_url', 'rank', 'created_at',\n",
       "       'updated_at', 'org_uuid', 'org_name', 'org_cb_url', 'country_code',\n",
       "       'state_code', 'region', 'city', 'stock_exchange_symbol', 'stock_symbol',\n",
       "       'went_public_on', 'share_price_usd', 'share_price',\n",
       "       'share_price_currency_code', 'valuation_price_usd', 'valuation_price',\n",
       "       'valuation_price_currency_code', 'money_raised_usd', 'money_raised',\n",
       "       'money_raised_currency_code'],\n",
       "      dtype='object')"
      ]
     },
     "execution_count": 26,
     "metadata": {},
     "output_type": "execute_result"
    }
   ],
   "source": [
    "ipos_df.columns"
   ]
  },
  {
   "cell_type": "code",
   "execution_count": 27,
   "id": "forward-edmonton",
   "metadata": {},
   "outputs": [],
   "source": [
    "#drop unecessary columns\n",
    "ipos_df_v1 = ipos_df.drop (columns = ['name','type','permalink', 'cb_url', 'rank', 'created_at',\n",
    "       'updated_at','org_name', 'org_cb_url', 'country_code',\n",
    "       'state_code', 'region', 'city'])"
   ]
  },
  {
   "cell_type": "code",
   "execution_count": 28,
   "id": "ruled-contrary",
   "metadata": {},
   "outputs": [
    {
     "data": {
      "text/plain": [
       "Index(['uuid', 'org_uuid', 'stock_exchange_symbol', 'stock_symbol',\n",
       "       'went_public_on', 'share_price_usd', 'share_price',\n",
       "       'share_price_currency_code', 'valuation_price_usd', 'valuation_price',\n",
       "       'valuation_price_currency_code', 'money_raised_usd', 'money_raised',\n",
       "       'money_raised_currency_code'],\n",
       "      dtype='object')"
      ]
     },
     "execution_count": 28,
     "metadata": {},
     "output_type": "execute_result"
    }
   ],
   "source": [
    "ipos_df_v1.columns"
   ]
  },
  {
   "cell_type": "code",
   "execution_count": 29,
   "id": "trained-motel",
   "metadata": {},
   "outputs": [],
   "source": [
    "ipos_df_v1.rename (columns = {'uuid':'ipo_uuid',},inplace=True)"
   ]
  },
  {
   "cell_type": "code",
   "execution_count": 30,
   "id": "excessive-rolling",
   "metadata": {},
   "outputs": [
    {
     "data": {
      "text/plain": [
       "ipo_uuid                             0\n",
       "org_uuid                             0\n",
       "stock_exchange_symbol               60\n",
       "stock_symbol                        21\n",
       "went_public_on                       0\n",
       "share_price_usd                  30694\n",
       "share_price                      30694\n",
       "share_price_currency_code        30694\n",
       "valuation_price_usd              32946\n",
       "valuation_price                  32946\n",
       "valuation_price_currency_code    32946\n",
       "money_raised_usd                 30171\n",
       "money_raised                     30171\n",
       "money_raised_currency_code       30171\n",
       "dtype: int64"
      ]
     },
     "execution_count": 30,
     "metadata": {},
     "output_type": "execute_result"
    }
   ],
   "source": [
    "#Show the value of NaN for every colum\n",
    "ipos_df_v1.isnull().sum(axis = 0)"
   ]
  },
  {
   "cell_type": "code",
   "execution_count": 31,
   "id": "arbitrary-evanescence",
   "metadata": {},
   "outputs": [
    {
     "data": {
      "text/plain": [
       "Index(['ipo_uuid', 'org_uuid', 'stock_exchange_symbol', 'stock_symbol',\n",
       "       'went_public_on', 'share_price_usd', 'share_price',\n",
       "       'share_price_currency_code', 'valuation_price_usd', 'valuation_price',\n",
       "       'valuation_price_currency_code', 'money_raised_usd', 'money_raised',\n",
       "       'money_raised_currency_code'],\n",
       "      dtype='object')"
      ]
     },
     "execution_count": 31,
     "metadata": {},
     "output_type": "execute_result"
    }
   ],
   "source": [
    "ipos_df_v1.columns"
   ]
  },
  {
   "cell_type": "code",
   "execution_count": 32,
   "id": "domestic-clerk",
   "metadata": {},
   "outputs": [],
   "source": [
    "#drop duplicates and only keep the first IPO\n",
    "ipos_df_v1.sort_values(by = ['org_uuid','went_public_on'],inplace=True,na_position='last',ignore_index=True)\n",
    "ipos_df_v2 = ipos_df_v1.drop_duplicates(subset=['org_uuid'],keep='first')"
   ]
  },
  {
   "cell_type": "code",
   "execution_count": 33,
   "id": "healthy-bahamas",
   "metadata": {},
   "outputs": [
    {
     "data": {
      "text/plain": [
       "35109"
      ]
     },
     "execution_count": 33,
     "metadata": {},
     "output_type": "execute_result"
    }
   ],
   "source": [
    "len(ipos_df_v1)"
   ]
  },
  {
   "cell_type": "code",
   "execution_count": 34,
   "id": "invalid-child",
   "metadata": {},
   "outputs": [
    {
     "data": {
      "text/plain": [
       "34276"
      ]
     },
     "execution_count": 34,
     "metadata": {},
     "output_type": "execute_result"
    }
   ],
   "source": [
    "len(ipos_df_v2)"
   ]
  },
  {
   "cell_type": "code",
   "execution_count": 35,
   "id": "social-alexander",
   "metadata": {},
   "outputs": [],
   "source": [
    "main_org_df_v2 = pd.merge(main_org_df_v1,ipos_df_v2,\n",
    "                        how = 'left',\n",
    "                         on='org_uuid')"
   ]
  },
  {
   "cell_type": "code",
   "execution_count": 36,
   "id": "ordinary-forestry",
   "metadata": {},
   "outputs": [
    {
     "data": {
      "text/plain": [
       "153048"
      ]
     },
     "execution_count": 36,
     "metadata": {},
     "output_type": "execute_result"
    }
   ],
   "source": [
    "len(main_org_df_v1)"
   ]
  },
  {
   "cell_type": "code",
   "execution_count": 37,
   "id": "waiting-parts",
   "metadata": {},
   "outputs": [
    {
     "data": {
      "text/plain": [
       "153048"
      ]
     },
     "execution_count": 37,
     "metadata": {},
     "output_type": "execute_result"
    }
   ],
   "source": [
    "len(main_org_df_v2)"
   ]
  },
  {
   "cell_type": "code",
   "execution_count": 38,
   "id": "virgin-casino",
   "metadata": {},
   "outputs": [
    {
     "data": {
      "text/plain": [
       "Index(['org_uuid', 'name', 'legal_name', 'homepage_url', 'country_code',\n",
       "       'state_code', 'region', 'city', 'address', 'postal_code', 'status',\n",
       "       'short_description', 'category_list', 'category_groups_list',\n",
       "       'num_funding_rounds', 'total_funding_usd', 'total_funding',\n",
       "       'total_funding_currency_code', 'founded_on', 'last_funding_on',\n",
       "       'closed_on', 'employee_count', 'email', 'phone', 'facebook_url',\n",
       "       'linkedin_url', 'twitter_url', 'logo_url', 'primary_role', 'num_exits',\n",
       "       'description', 'ipo_uuid', 'stock_exchange_symbol', 'stock_symbol',\n",
       "       'went_public_on', 'share_price_usd', 'share_price',\n",
       "       'share_price_currency_code', 'valuation_price_usd', 'valuation_price',\n",
       "       'valuation_price_currency_code', 'money_raised_usd', 'money_raised',\n",
       "       'money_raised_currency_code'],\n",
       "      dtype='object')"
      ]
     },
     "execution_count": 38,
     "metadata": {},
     "output_type": "execute_result"
    }
   ],
   "source": [
    "main_org_df_v2.columns"
   ]
  },
  {
   "cell_type": "markdown",
   "id": "sitting-bookmark",
   "metadata": {},
   "source": [
    "# Acquisitions"
   ]
  },
  {
   "cell_type": "code",
   "execution_count": 39,
   "id": "reserved-neighbor",
   "metadata": {},
   "outputs": [],
   "source": [
    "#import acquisitions.csv\n",
    "acquisitions_df = pd.read_csv(R\"d:\\\\msc-project\\data\\bulk_export_122020\\acquisitions.csv\",encoding='utf-8')"
   ]
  },
  {
   "cell_type": "code",
   "execution_count": 40,
   "id": "bibliographic-academy",
   "metadata": {},
   "outputs": [
    {
     "data": {
      "text/plain": [
       "Index(['uuid', 'name', 'type', 'permalink', 'cb_url', 'rank', 'created_at',\n",
       "       'updated_at', 'acquiree_uuid', 'acquiree_name', 'acquiree_cb_url',\n",
       "       'acquiree_country_code', 'acquiree_state_code', 'acquiree_region',\n",
       "       'acquiree_city', 'acquirer_uuid', 'acquirer_name', 'acquirer_cb_url',\n",
       "       'acquirer_country_code', 'acquirer_state_code', 'acquirer_region',\n",
       "       'acquirer_city', 'acquisition_type', 'acquired_on', 'price_usd',\n",
       "       'price', 'price_currency_code'],\n",
       "      dtype='object')"
      ]
     },
     "execution_count": 40,
     "metadata": {},
     "output_type": "execute_result"
    }
   ],
   "source": [
    "acquisitions_df.columns"
   ]
  },
  {
   "cell_type": "code",
   "execution_count": 41,
   "id": "fabulous-crest",
   "metadata": {},
   "outputs": [],
   "source": [
    "#drop unessary columns\n",
    "acquisitions_df_v1 = acquisitions_df.drop(columns = ['name', 'type', 'permalink', 'cb_url', 'rank', 'created_at','updated_at',\n",
    "        'acquiree_name', 'acquiree_cb_url','acquiree_country_code', 'acquiree_state_code', 'acquiree_region','acquiree_city','acquirer_cb_url'])"
   ]
  },
  {
   "cell_type": "code",
   "execution_count": 42,
   "id": "protected-stephen",
   "metadata": {},
   "outputs": [
    {
     "data": {
      "text/plain": [
       "Index(['uuid', 'acquiree_uuid', 'acquirer_uuid', 'acquirer_name',\n",
       "       'acquirer_country_code', 'acquirer_state_code', 'acquirer_region',\n",
       "       'acquirer_city', 'acquisition_type', 'acquired_on', 'price_usd',\n",
       "       'price', 'price_currency_code'],\n",
       "      dtype='object')"
      ]
     },
     "execution_count": 42,
     "metadata": {},
     "output_type": "execute_result"
    }
   ],
   "source": [
    "acquisitions_df_v1.columns"
   ]
  },
  {
   "cell_type": "code",
   "execution_count": 43,
   "id": "phantom-housing",
   "metadata": {},
   "outputs": [],
   "source": [
    "acquisitions_df_v1.rename (columns = {'uuid':'acquisition_uuid','acquiree_uuid':'org_uuid'},inplace=True)"
   ]
  },
  {
   "cell_type": "code",
   "execution_count": 44,
   "id": "running-might",
   "metadata": {},
   "outputs": [
    {
     "data": {
      "text/plain": [
       "Index(['acquisition_uuid', 'org_uuid', 'acquirer_uuid', 'acquirer_name',\n",
       "       'acquirer_country_code', 'acquirer_state_code', 'acquirer_region',\n",
       "       'acquirer_city', 'acquisition_type', 'acquired_on', 'price_usd',\n",
       "       'price', 'price_currency_code'],\n",
       "      dtype='object')"
      ]
     },
     "execution_count": 44,
     "metadata": {},
     "output_type": "execute_result"
    }
   ],
   "source": [
    "acquisitions_df_v1.columns"
   ]
  },
  {
   "cell_type": "code",
   "execution_count": 45,
   "id": "molecular-logic",
   "metadata": {},
   "outputs": [],
   "source": [
    "#drop duplicate acquisition to keep only the first acquisition\n",
    "acquisitions_df_v1.sort_values(by=['org_uuid','acquired_on'],na_position='last',inplace=True)\n",
    "acquisitions_df_v2 = acquisitions_df_v1.drop_duplicates(subset = ['org_uuid'],keep='first')"
   ]
  },
  {
   "cell_type": "code",
   "execution_count": 46,
   "id": "organic-flight",
   "metadata": {},
   "outputs": [
    {
     "data": {
      "text/plain": [
       "array(['lbo', nan, 'acquisition', 'management_buyout', 'merge',\n",
       "       'acquihire'], dtype=object)"
      ]
     },
     "execution_count": 46,
     "metadata": {},
     "output_type": "execute_result"
    }
   ],
   "source": [
    "acquisitions_df_v2.acquisition_type.unique()"
   ]
  },
  {
   "cell_type": "code",
   "execution_count": 47,
   "id": "rolled-logistics",
   "metadata": {},
   "outputs": [
    {
     "data": {
      "text/plain": [
       "102447"
      ]
     },
     "execution_count": 47,
     "metadata": {},
     "output_type": "execute_result"
    }
   ],
   "source": [
    "len(acquisitions_df_v2)"
   ]
  },
  {
   "cell_type": "code",
   "execution_count": 48,
   "id": "ancient-respondent",
   "metadata": {},
   "outputs": [
    {
     "data": {
      "text/plain": [
       "acquisition_uuid             0\n",
       "org_uuid                     0\n",
       "acquirer_uuid                0\n",
       "acquirer_name                0\n",
       "acquirer_country_code      979\n",
       "acquirer_state_code      43094\n",
       "acquirer_region            979\n",
       "acquirer_city              979\n",
       "acquisition_type          9206\n",
       "acquired_on                  0\n",
       "price_usd                85306\n",
       "price                    85306\n",
       "price_currency_code      85306\n",
       "dtype: int64"
      ]
     },
     "execution_count": 48,
     "metadata": {},
     "output_type": "execute_result"
    }
   ],
   "source": [
    "#Show the value of NaN for every colum\n",
    "acquisitions_df_v2.isnull().sum(axis = 0)"
   ]
  },
  {
   "cell_type": "code",
   "execution_count": 49,
   "id": "terminal-adams",
   "metadata": {},
   "outputs": [],
   "source": [
    "acquisitions_df_v3 = acquisitions_df_v2.dropna(subset=['acquisition_type'])"
   ]
  },
  {
   "cell_type": "code",
   "execution_count": 50,
   "id": "undefined-merchant",
   "metadata": {},
   "outputs": [
    {
     "data": {
      "text/plain": [
       "acquisition_uuid             0\n",
       "org_uuid                     0\n",
       "acquirer_uuid                0\n",
       "acquirer_name                0\n",
       "acquirer_country_code      819\n",
       "acquirer_state_code      40895\n",
       "acquirer_region            819\n",
       "acquirer_city              819\n",
       "acquisition_type             0\n",
       "acquired_on                  0\n",
       "price_usd                76833\n",
       "price                    76833\n",
       "price_currency_code      76833\n",
       "dtype: int64"
      ]
     },
     "execution_count": 50,
     "metadata": {},
     "output_type": "execute_result"
    }
   ],
   "source": [
    "acquisitions_df_v3.isnull().sum(axis=0)"
   ]
  },
  {
   "cell_type": "code",
   "execution_count": 51,
   "id": "loved-george",
   "metadata": {},
   "outputs": [
    {
     "data": {
      "text/plain": [
       "93241"
      ]
     },
     "execution_count": 51,
     "metadata": {},
     "output_type": "execute_result"
    }
   ],
   "source": [
    "len(acquisitions_df_v3)"
   ]
  },
  {
   "cell_type": "code",
   "execution_count": 52,
   "id": "public-refrigerator",
   "metadata": {},
   "outputs": [
    {
     "data": {
      "text/plain": [
       "109215"
      ]
     },
     "execution_count": 52,
     "metadata": {},
     "output_type": "execute_result"
    }
   ],
   "source": [
    "len(acquisitions_df)"
   ]
  },
  {
   "cell_type": "code",
   "execution_count": 53,
   "id": "arbitrary-astrology",
   "metadata": {},
   "outputs": [],
   "source": [
    "main_org_df_v3 = pd.merge(main_org_df_v2,acquisitions_df_v3,\n",
    "                        on='org_uuid'\n",
    "                        ,how = 'left')"
   ]
  },
  {
   "cell_type": "code",
   "execution_count": 54,
   "id": "healthy-worst",
   "metadata": {},
   "outputs": [
    {
     "data": {
      "text/plain": [
       "153048"
      ]
     },
     "execution_count": 54,
     "metadata": {},
     "output_type": "execute_result"
    }
   ],
   "source": [
    "len(main_org_df_v2)"
   ]
  },
  {
   "cell_type": "code",
   "execution_count": 55,
   "id": "minor-split",
   "metadata": {},
   "outputs": [
    {
     "data": {
      "text/plain": [
       "153048"
      ]
     },
     "execution_count": 55,
     "metadata": {},
     "output_type": "execute_result"
    }
   ],
   "source": [
    "len(main_org_df_v3)"
   ]
  },
  {
   "cell_type": "code",
   "execution_count": 56,
   "id": "weighted-token",
   "metadata": {},
   "outputs": [
    {
     "data": {
      "text/plain": [
       "Index(['org_uuid', 'name', 'legal_name', 'homepage_url', 'country_code',\n",
       "       'state_code', 'region', 'city', 'address', 'postal_code', 'status',\n",
       "       'short_description', 'category_list', 'category_groups_list',\n",
       "       'num_funding_rounds', 'total_funding_usd', 'total_funding',\n",
       "       'total_funding_currency_code', 'founded_on', 'last_funding_on',\n",
       "       'closed_on', 'employee_count', 'email', 'phone', 'facebook_url',\n",
       "       'linkedin_url', 'twitter_url', 'logo_url', 'primary_role', 'num_exits',\n",
       "       'description', 'ipo_uuid', 'stock_exchange_symbol', 'stock_symbol',\n",
       "       'went_public_on', 'share_price_usd', 'share_price',\n",
       "       'share_price_currency_code', 'valuation_price_usd', 'valuation_price',\n",
       "       'valuation_price_currency_code', 'money_raised_usd', 'money_raised',\n",
       "       'money_raised_currency_code', 'acquisition_uuid', 'acquirer_uuid',\n",
       "       'acquirer_name', 'acquirer_country_code', 'acquirer_state_code',\n",
       "       'acquirer_region', 'acquirer_city', 'acquisition_type', 'acquired_on',\n",
       "       'price_usd', 'price', 'price_currency_code'],\n",
       "      dtype='object')"
      ]
     },
     "execution_count": 56,
     "metadata": {},
     "output_type": "execute_result"
    }
   ],
   "source": [
    "main_org_df_v3.columns"
   ]
  },
  {
   "cell_type": "markdown",
   "id": "bearing-honey",
   "metadata": {},
   "source": [
    "# Parent Organisation"
   ]
  },
  {
   "cell_type": "code",
   "execution_count": 57,
   "id": "stylish-bobby",
   "metadata": {},
   "outputs": [],
   "source": [
    "#import parents organisation.csv\n",
    "parents_df = pd.read_csv(R\"d:/msc-project/data/bulk_export_122020/org_parents.csv\",encoding='utf-8')"
   ]
  },
  {
   "cell_type": "code",
   "execution_count": 58,
   "id": "cathedral-trick",
   "metadata": {},
   "outputs": [
    {
     "data": {
      "text/plain": [
       "Index(['uuid', 'name', 'type', 'permalink', 'cb_url', 'rank', 'created_at',\n",
       "       'updated_at', 'parent_uuid', 'parent_name'],\n",
       "      dtype='object')"
      ]
     },
     "execution_count": 58,
     "metadata": {},
     "output_type": "execute_result"
    }
   ],
   "source": [
    "parents_df.columns"
   ]
  },
  {
   "cell_type": "code",
   "execution_count": 59,
   "id": "processed-preliminary",
   "metadata": {},
   "outputs": [],
   "source": [
    "parents_df_v1 = parents_df.drop(columns=['name', 'type', 'permalink', 'cb_url', 'rank', 'created_at',\n",
    "               'updated_at'])"
   ]
  },
  {
   "cell_type": "code",
   "execution_count": 60,
   "id": "bulgarian-crowd",
   "metadata": {},
   "outputs": [
    {
     "data": {
      "text/plain": [
       "Index(['uuid', 'parent_uuid', 'parent_name'], dtype='object')"
      ]
     },
     "execution_count": 60,
     "metadata": {},
     "output_type": "execute_result"
    }
   ],
   "source": [
    "parents_df_v1.columns"
   ]
  },
  {
   "cell_type": "code",
   "execution_count": 61,
   "id": "several-satellite",
   "metadata": {},
   "outputs": [],
   "source": [
    "parents_df_v1.rename(columns={'uuid':'org_uuid'},inplace=True)"
   ]
  },
  {
   "cell_type": "code",
   "execution_count": 62,
   "id": "helpful-accessory",
   "metadata": {},
   "outputs": [
    {
     "data": {
      "text/plain": [
       "Index(['org_uuid', 'parent_uuid', 'parent_name'], dtype='object')"
      ]
     },
     "execution_count": 62,
     "metadata": {},
     "output_type": "execute_result"
    }
   ],
   "source": [
    "parents_df_v1.columns"
   ]
  },
  {
   "cell_type": "code",
   "execution_count": 63,
   "id": "informative-examination",
   "metadata": {},
   "outputs": [
    {
     "data": {
      "text/plain": [
       "org_uuid       0\n",
       "parent_uuid    0\n",
       "parent_name    0\n",
       "dtype: int64"
      ]
     },
     "execution_count": 63,
     "metadata": {},
     "output_type": "execute_result"
    }
   ],
   "source": [
    "parents_df_v1.isnull().sum(axis=0)"
   ]
  },
  {
   "cell_type": "code",
   "execution_count": 64,
   "id": "binding-david",
   "metadata": {},
   "outputs": [],
   "source": [
    "main_org_df_v4 = pd.merge(main_org_df_v3,parents_df_v1,\n",
    "                         on = 'org_uuid',\n",
    "                         how = 'left')"
   ]
  },
  {
   "cell_type": "code",
   "execution_count": 65,
   "id": "differential-convenience",
   "metadata": {},
   "outputs": [
    {
     "data": {
      "text/plain": [
       "153048"
      ]
     },
     "execution_count": 65,
     "metadata": {},
     "output_type": "execute_result"
    }
   ],
   "source": [
    "len(main_org_df_v3)"
   ]
  },
  {
   "cell_type": "code",
   "execution_count": 66,
   "id": "critical-grant",
   "metadata": {},
   "outputs": [
    {
     "data": {
      "text/plain": [
       "153048"
      ]
     },
     "execution_count": 66,
     "metadata": {},
     "output_type": "execute_result"
    }
   ],
   "source": [
    "len(main_org_df_v4)"
   ]
  },
  {
   "cell_type": "code",
   "execution_count": 67,
   "id": "aware-advertising",
   "metadata": {},
   "outputs": [
    {
     "data": {
      "text/plain": [
       "Index(['org_uuid', 'name', 'legal_name', 'homepage_url', 'country_code',\n",
       "       'state_code', 'region', 'city', 'address', 'postal_code', 'status',\n",
       "       'short_description', 'category_list', 'category_groups_list',\n",
       "       'num_funding_rounds', 'total_funding_usd', 'total_funding',\n",
       "       'total_funding_currency_code', 'founded_on', 'last_funding_on',\n",
       "       'closed_on', 'employee_count', 'email', 'phone', 'facebook_url',\n",
       "       'linkedin_url', 'twitter_url', 'logo_url', 'primary_role', 'num_exits',\n",
       "       'description', 'ipo_uuid', 'stock_exchange_symbol', 'stock_symbol',\n",
       "       'went_public_on', 'share_price_usd', 'share_price',\n",
       "       'share_price_currency_code', 'valuation_price_usd', 'valuation_price',\n",
       "       'valuation_price_currency_code', 'money_raised_usd', 'money_raised',\n",
       "       'money_raised_currency_code', 'acquisition_uuid', 'acquirer_uuid',\n",
       "       'acquirer_name', 'acquirer_country_code', 'acquirer_state_code',\n",
       "       'acquirer_region', 'acquirer_city', 'acquisition_type', 'acquired_on',\n",
       "       'price_usd', 'price', 'price_currency_code', 'parent_uuid',\n",
       "       'parent_name'],\n",
       "      dtype='object')"
      ]
     },
     "execution_count": 67,
     "metadata": {},
     "output_type": "execute_result"
    }
   ],
   "source": [
    "main_org_df_v4.columns"
   ]
  },
  {
   "cell_type": "code",
   "execution_count": 68,
   "id": "needed-entertainment",
   "metadata": {},
   "outputs": [
    {
     "data": {
      "text/plain": [
       "org_uuid                              0\n",
       "name                                  0\n",
       "legal_name                       102389\n",
       "homepage_url                       5006\n",
       "country_code                          0\n",
       "state_code                        80375\n",
       "region                                0\n",
       "city                                  0\n",
       "address                           46898\n",
       "postal_code                       52368\n",
       "status                                0\n",
       "short_description                     2\n",
       "category_list                         0\n",
       "category_groups_list                  0\n",
       "num_funding_rounds                    0\n",
       "total_funding_usd                 36352\n",
       "total_funding                     36352\n",
       "total_funding_currency_code       36352\n",
       "founded_on                            0\n",
       "last_funding_on                       6\n",
       "closed_on                        147337\n",
       "employee_count                        0\n",
       "email                             42121\n",
       "phone                             58917\n",
       "facebook_url                      63856\n",
       "linkedin_url                      54008\n",
       "twitter_url                       59309\n",
       "logo_url                           3313\n",
       "primary_role                          0\n",
       "num_exits                        152626\n",
       "description                       17942\n",
       "ipo_uuid                         149037\n",
       "stock_exchange_symbol            149045\n",
       "stock_symbol                     149044\n",
       "went_public_on                   149037\n",
       "share_price_usd                  151905\n",
       "share_price                      151905\n",
       "share_price_currency_code        151905\n",
       "valuation_price_usd              152135\n",
       "valuation_price                  152135\n",
       "valuation_price_currency_code    152135\n",
       "money_raised_usd                 151723\n",
       "money_raised                     151723\n",
       "money_raised_currency_code       151723\n",
       "acquisition_uuid                 140838\n",
       "acquirer_uuid                    140838\n",
       "acquirer_name                    140838\n",
       "acquirer_country_code            140928\n",
       "acquirer_state_code              145190\n",
       "acquirer_region                  140928\n",
       "acquirer_city                    140928\n",
       "acquisition_type                 140838\n",
       "acquired_on                      140838\n",
       "price_usd                        150404\n",
       "price                            150404\n",
       "price_currency_code              150404\n",
       "parent_uuid                      151574\n",
       "parent_name                      151574\n",
       "dtype: int64"
      ]
     },
     "execution_count": 68,
     "metadata": {},
     "output_type": "execute_result"
    }
   ],
   "source": [
    "main_org_df_v4.isnull().sum(axis=0)"
   ]
  },
  {
   "cell_type": "code",
   "execution_count": 69,
   "id": "current-frequency",
   "metadata": {},
   "outputs": [
    {
     "data": {
      "text/plain": [
       "status\n",
       "acquired      13278\n",
       "closed         8970\n",
       "ipo            3537\n",
       "operating    127263\n",
       "Name: org_uuid, dtype: int64"
      ]
     },
     "execution_count": 69,
     "metadata": {},
     "output_type": "execute_result"
    }
   ],
   "source": [
    "main_org_df_v4.groupby('status')['org_uuid'].nunique()"
   ]
  },
  {
   "cell_type": "code",
   "execution_count": 70,
   "id": "arabic-baker",
   "metadata": {},
   "outputs": [],
   "source": [
    "#save preprocessed file\n",
    "#organisations + organisations_description + ipo + acquisition + parent_organisation\n",
    "main_org_df_v4.to_csv(R\"d:/msc-project/data/pre-processed/organisations_preprocessed.csv\",encoding='utf-8',index=False)"
   ]
  },
  {
   "cell_type": "markdown",
   "id": "partial-panel",
   "metadata": {},
   "source": [
    "# Funding Rounds"
   ]
  },
  {
   "cell_type": "code",
   "execution_count": 71,
   "id": "hazardous-cabinet",
   "metadata": {},
   "outputs": [],
   "source": [
    "#import funding_rounds\n",
    "funding_df = pd.read_csv(R\"d:/msc-project/data/bulk_export_122020/funding_rounds.csv\",encoding='utf-8')"
   ]
  },
  {
   "cell_type": "code",
   "execution_count": 72,
   "id": "tracked-bacteria",
   "metadata": {},
   "outputs": [
    {
     "data": {
      "text/plain": [
       "Index(['uuid', 'name', 'type', 'permalink', 'cb_url', 'rank', 'created_at',\n",
       "       'updated_at', 'country_code', 'state_code', 'region', 'city',\n",
       "       'investment_type', 'announced_on', 'raised_amount_usd', 'raised_amount',\n",
       "       'raised_amount_currency_code', 'post_money_valuation_usd',\n",
       "       'post_money_valuation', 'post_money_valuation_currency_code',\n",
       "       'investor_count', 'org_uuid', 'org_name', 'lead_investor_uuids'],\n",
       "      dtype='object')"
      ]
     },
     "execution_count": 72,
     "metadata": {},
     "output_type": "execute_result"
    }
   ],
   "source": [
    "funding_df.columns"
   ]
  },
  {
   "cell_type": "code",
   "execution_count": 73,
   "id": "combined-secret",
   "metadata": {},
   "outputs": [],
   "source": [
    "#drop unecessary columns\n",
    "funding_df_v1 = funding_df.drop(columns=['type','permalink', 'cb_url', 'rank', 'created_at',\n",
    "                'updated_at'])"
   ]
  },
  {
   "cell_type": "code",
   "execution_count": 74,
   "id": "religious-freedom",
   "metadata": {},
   "outputs": [
    {
     "data": {
      "text/plain": [
       "Index(['uuid', 'name', 'country_code', 'state_code', 'region', 'city',\n",
       "       'investment_type', 'announced_on', 'raised_amount_usd', 'raised_amount',\n",
       "       'raised_amount_currency_code', 'post_money_valuation_usd',\n",
       "       'post_money_valuation', 'post_money_valuation_currency_code',\n",
       "       'investor_count', 'org_uuid', 'org_name', 'lead_investor_uuids'],\n",
       "      dtype='object')"
      ]
     },
     "execution_count": 74,
     "metadata": {},
     "output_type": "execute_result"
    }
   ],
   "source": [
    "funding_df_v1.columns"
   ]
  },
  {
   "cell_type": "code",
   "execution_count": 75,
   "id": "regional-price",
   "metadata": {},
   "outputs": [
    {
     "data": {
      "text/plain": [
       "array(['angel', 'series_a', 'series_b', 'seed', 'series_c', 'series_d',\n",
       "       'series_unknown', 'debt_financing', 'series_e', 'private_equity',\n",
       "       'series_f', 'pre_seed', 'undisclosed', 'grant', 'convertible_note',\n",
       "       'post_ipo_equity', 'post_ipo_debt', 'non_equity_assistance',\n",
       "       'corporate_round', 'series_i', 'series_g', 'secondary_market',\n",
       "       'initial_coin_offering', 'series_h', 'product_crowdfunding',\n",
       "       'equity_crowdfunding', 'post_ipo_secondary', 'series_j'],\n",
       "      dtype=object)"
      ]
     },
     "execution_count": 75,
     "metadata": {},
     "output_type": "execute_result"
    }
   ],
   "source": [
    "funding_df_v1.investment_type.unique()"
   ]
  },
  {
   "cell_type": "code",
   "execution_count": 76,
   "id": "affected-weight",
   "metadata": {},
   "outputs": [],
   "source": [
    "funding_df_v1.rename(columns={'uuid':'funding_round_uuid'},inplace=True)"
   ]
  },
  {
   "cell_type": "code",
   "execution_count": 77,
   "id": "closed-viking",
   "metadata": {},
   "outputs": [
    {
     "data": {
      "text/plain": [
       "Index(['funding_round_uuid', 'name', 'country_code', 'state_code', 'region',\n",
       "       'city', 'investment_type', 'announced_on', 'raised_amount_usd',\n",
       "       'raised_amount', 'raised_amount_currency_code',\n",
       "       'post_money_valuation_usd', 'post_money_valuation',\n",
       "       'post_money_valuation_currency_code', 'investor_count', 'org_uuid',\n",
       "       'org_name', 'lead_investor_uuids'],\n",
       "      dtype='object')"
      ]
     },
     "execution_count": 77,
     "metadata": {},
     "output_type": "execute_result"
    }
   ],
   "source": [
    "funding_df_v1.columns"
   ]
  },
  {
   "cell_type": "code",
   "execution_count": 78,
   "id": "pressed-testament",
   "metadata": {},
   "outputs": [
    {
     "data": {
      "text/plain": [
       "funding_round_uuid                         0\n",
       "name                                       0\n",
       "country_code                            4237\n",
       "state_code                            172992\n",
       "region                                  4237\n",
       "city                                    4237\n",
       "investment_type                            0\n",
       "announced_on                               0\n",
       "raised_amount_usd                      98961\n",
       "raised_amount                          98961\n",
       "raised_amount_currency_code            98961\n",
       "post_money_valuation_usd              346299\n",
       "post_money_valuation                  346299\n",
       "post_money_valuation_currency_code    346299\n",
       "investor_count                        101823\n",
       "org_uuid                                   0\n",
       "org_name                                   2\n",
       "lead_investor_uuids                   238258\n",
       "dtype: int64"
      ]
     },
     "execution_count": 78,
     "metadata": {},
     "output_type": "execute_result"
    }
   ],
   "source": [
    "#check for NaN value\n",
    "funding_df_v1.isnull().sum(axis=0)"
   ]
  },
  {
   "cell_type": "code",
   "execution_count": 79,
   "id": "breeding-reservoir",
   "metadata": {},
   "outputs": [
    {
     "data": {
      "text/plain": [
       "investment_type\n",
       "angel                    17074\n",
       "convertible_note          5942\n",
       "corporate_round           2865\n",
       "debt_financing           11095\n",
       "equity_crowdfunding       5571\n",
       "grant                    15104\n",
       "initial_coin_offering      579\n",
       "non_equity_assistance     5130\n",
       "post_ipo_debt             1070\n",
       "post_ipo_equity           3814\n",
       "post_ipo_secondary          82\n",
       "pre_seed                 14691\n",
       "private_equity           10142\n",
       "product_crowdfunding       893\n",
       "secondary_market           619\n",
       "seed                     78970\n",
       "series_a                 37375\n",
       "series_b                 18589\n",
       "series_c                  8683\n",
       "series_d                  3698\n",
       "series_e                  1521\n",
       "series_f                   553\n",
       "series_g                   185\n",
       "series_h                    67\n",
       "series_i                    15\n",
       "series_j                     6\n",
       "series_unknown           45102\n",
       "undisclosed               4691\n",
       "Name: org_uuid, dtype: int64"
      ]
     },
     "execution_count": 79,
     "metadata": {},
     "output_type": "execute_result"
    }
   ],
   "source": [
    "funding_df_v1.groupby('investment_type')['org_uuid'].nunique()"
   ]
  },
  {
   "cell_type": "code",
   "execution_count": 80,
   "id": "bigger-occasion",
   "metadata": {},
   "outputs": [],
   "source": [
    "#save preprocessed file\n",
    "funding_df_v1.to_csv(R\"d:/msc-project/data/pre-processed/funding_rounds_preprocessed.csv\",encoding='utf-8',index=False)"
   ]
  },
  {
   "cell_type": "markdown",
   "id": "refined-minority",
   "metadata": {},
   "source": [
    "# Investment"
   ]
  },
  {
   "cell_type": "code",
   "execution_count": 81,
   "id": "desirable-welcome",
   "metadata": {},
   "outputs": [],
   "source": [
    "#import investment\n",
    "investments_df = pd.read_csv(R\"d:/msc-project/data/bulk_export_122020/investments.csv\",encoding='utf-8')"
   ]
  },
  {
   "cell_type": "code",
   "execution_count": 82,
   "id": "structured-dress",
   "metadata": {},
   "outputs": [
    {
     "data": {
      "text/plain": [
       "Index(['uuid', 'name', 'type', 'permalink', 'cb_url', 'rank', 'created_at',\n",
       "       'updated_at', 'funding_round_uuid', 'funding_round_name',\n",
       "       'investor_uuid', 'investor_name', 'investor_type', 'is_lead_investor'],\n",
       "      dtype='object')"
      ]
     },
     "execution_count": 82,
     "metadata": {},
     "output_type": "execute_result"
    }
   ],
   "source": [
    "investments_df.columns"
   ]
  },
  {
   "cell_type": "code",
   "execution_count": 83,
   "id": "virgin-edition",
   "metadata": {},
   "outputs": [],
   "source": [
    "#drop columns\n",
    "investments_df_v1 = investments_df.drop(columns = ['type', 'permalink', 'cb_url', 'rank', 'created_at',\n",
    "       'updated_at'])"
   ]
  },
  {
   "cell_type": "code",
   "execution_count": 84,
   "id": "downtown-charger",
   "metadata": {},
   "outputs": [
    {
     "data": {
      "text/plain": [
       "Index(['uuid', 'name', 'funding_round_uuid', 'funding_round_name',\n",
       "       'investor_uuid', 'investor_name', 'investor_type', 'is_lead_investor'],\n",
       "      dtype='object')"
      ]
     },
     "execution_count": 84,
     "metadata": {},
     "output_type": "execute_result"
    }
   ],
   "source": [
    "investments_df_v1.columns"
   ]
  },
  {
   "cell_type": "code",
   "execution_count": 85,
   "id": "accessory-conviction",
   "metadata": {},
   "outputs": [],
   "source": [
    "investments_df_v1.rename(columns={'uuid':'investment_uuid'},inplace=True)"
   ]
  },
  {
   "cell_type": "code",
   "execution_count": 86,
   "id": "adjusted-denver",
   "metadata": {},
   "outputs": [
    {
     "data": {
      "text/plain": [
       "Index(['investment_uuid', 'name', 'funding_round_uuid', 'funding_round_name',\n",
       "       'investor_uuid', 'investor_name', 'investor_type', 'is_lead_investor'],\n",
       "      dtype='object')"
      ]
     },
     "execution_count": 86,
     "metadata": {},
     "output_type": "execute_result"
    }
   ],
   "source": [
    "investments_df_v1.columns"
   ]
  },
  {
   "cell_type": "code",
   "execution_count": 87,
   "id": "dirty-april",
   "metadata": {},
   "outputs": [
    {
     "data": {
      "text/plain": [
       "investment_uuid            0\n",
       "name                       1\n",
       "funding_round_uuid         1\n",
       "funding_round_name         1\n",
       "investor_uuid              0\n",
       "investor_name              1\n",
       "investor_type              0\n",
       "is_lead_investor      283147\n",
       "dtype: int64"
      ]
     },
     "execution_count": 87,
     "metadata": {},
     "output_type": "execute_result"
    }
   ],
   "source": [
    "investments_df_v1.isnull().sum(axis=0)"
   ]
  },
  {
   "cell_type": "code",
   "execution_count": 88,
   "id": "virtual-ordinance",
   "metadata": {},
   "outputs": [],
   "source": [
    "#save preprocessed file\n",
    "investments_df_v1.to_csv(R\"d:/msc-project/data/pre-processed/investments_preprocessed.csv\",encoding='utf-8',index=False)"
   ]
  },
  {
   "cell_type": "markdown",
   "id": "wanted-knock",
   "metadata": {},
   "source": [
    "# Investors"
   ]
  },
  {
   "cell_type": "code",
   "execution_count": 89,
   "id": "attempted-strike",
   "metadata": {},
   "outputs": [],
   "source": [
    "#import investors\n",
    "investors_df = pd.read_csv(R\"d:/msc-project/data/bulk_export_122020/investors.csv\",encoding='utf-8')"
   ]
  },
  {
   "cell_type": "code",
   "execution_count": 90,
   "id": "dimensional-sunrise",
   "metadata": {},
   "outputs": [
    {
     "data": {
      "text/plain": [
       "Index(['uuid', 'name', 'type', 'permalink', 'cb_url', 'rank', 'created_at',\n",
       "       'updated_at', 'roles', 'domain', 'country_code', 'state_code', 'region',\n",
       "       'city', 'investor_types', 'investment_count', 'total_funding_usd',\n",
       "       'total_funding', 'total_funding_currency_code', 'founded_on',\n",
       "       'closed_on', 'facebook_url', 'linkedin_url', 'twitter_url', 'logo_url'],\n",
       "      dtype='object')"
      ]
     },
     "execution_count": 90,
     "metadata": {},
     "output_type": "execute_result"
    }
   ],
   "source": [
    "investors_df.columns"
   ]
  },
  {
   "cell_type": "code",
   "execution_count": 91,
   "id": "running-swiss",
   "metadata": {},
   "outputs": [
    {
     "data": {
      "text/html": [
       "<div>\n",
       "<style scoped>\n",
       "    .dataframe tbody tr th:only-of-type {\n",
       "        vertical-align: middle;\n",
       "    }\n",
       "\n",
       "    .dataframe tbody tr th {\n",
       "        vertical-align: top;\n",
       "    }\n",
       "\n",
       "    .dataframe thead th {\n",
       "        text-align: right;\n",
       "    }\n",
       "</style>\n",
       "<table border=\"1\" class=\"dataframe\">\n",
       "  <thead>\n",
       "    <tr style=\"text-align: right;\">\n",
       "      <th></th>\n",
       "      <th>uuid</th>\n",
       "      <th>name</th>\n",
       "      <th>type</th>\n",
       "      <th>permalink</th>\n",
       "      <th>cb_url</th>\n",
       "      <th>rank</th>\n",
       "      <th>created_at</th>\n",
       "      <th>updated_at</th>\n",
       "      <th>roles</th>\n",
       "      <th>domain</th>\n",
       "      <th>...</th>\n",
       "      <th>investment_count</th>\n",
       "      <th>total_funding_usd</th>\n",
       "      <th>total_funding</th>\n",
       "      <th>total_funding_currency_code</th>\n",
       "      <th>founded_on</th>\n",
       "      <th>closed_on</th>\n",
       "      <th>facebook_url</th>\n",
       "      <th>linkedin_url</th>\n",
       "      <th>twitter_url</th>\n",
       "      <th>logo_url</th>\n",
       "    </tr>\n",
       "  </thead>\n",
       "  <tbody>\n",
       "    <tr>\n",
       "      <th>0</th>\n",
       "      <td>bf4d7b0e-b34d-2fd8-d292-6049c4f7efc7</td>\n",
       "      <td>Zoho</td>\n",
       "      <td>organization</td>\n",
       "      <td>zoho</td>\n",
       "      <td>https://www.crunchbase.com/organization/zoho</td>\n",
       "      <td>7694.0</td>\n",
       "      <td>2007-05-26 02:30:28</td>\n",
       "      <td>2018-10-27 00:29:49</td>\n",
       "      <td>investor,company</td>\n",
       "      <td>zoho.com</td>\n",
       "      <td>...</td>\n",
       "      <td>6.0</td>\n",
       "      <td>NaN</td>\n",
       "      <td>NaN</td>\n",
       "      <td>NaN</td>\n",
       "      <td>1996-09-15</td>\n",
       "      <td>NaN</td>\n",
       "      <td>http://www.facebook.com/zoho</td>\n",
       "      <td>http://www.linkedin.com/company/zoho-corporati...</td>\n",
       "      <td>http://twitter.com/zoho</td>\n",
       "      <td>https://res.cloudinary.com/crunchbase-producti...</td>\n",
       "    </tr>\n",
       "    <tr>\n",
       "      <th>1</th>\n",
       "      <td>f4d5ab44-058b-298b-ea81-380e6e9a8eec</td>\n",
       "      <td>Omidyar Network</td>\n",
       "      <td>organization</td>\n",
       "      <td>omidyar-network</td>\n",
       "      <td>https://www.crunchbase.com/organization/omidya...</td>\n",
       "      <td>1758.0</td>\n",
       "      <td>2007-05-26 03:21:34</td>\n",
       "      <td>2019-06-19 12:17:48</td>\n",
       "      <td>investor</td>\n",
       "      <td>omidyar.com</td>\n",
       "      <td>...</td>\n",
       "      <td>313.0</td>\n",
       "      <td>NaN</td>\n",
       "      <td>NaN</td>\n",
       "      <td>NaN</td>\n",
       "      <td>2004-01-01</td>\n",
       "      <td>NaN</td>\n",
       "      <td>http://www.facebook.com/OmidyarNetwork</td>\n",
       "      <td>http://www.linkedin.com/company/22806</td>\n",
       "      <td>http://twitter.com/OmidyarNetwork</td>\n",
       "      <td>https://res.cloudinary.com/crunchbase-producti...</td>\n",
       "    </tr>\n",
       "    <tr>\n",
       "      <th>2</th>\n",
       "      <td>df662812-7f97-0b43-9d3e-12f64f504fbb</td>\n",
       "      <td>Facebook</td>\n",
       "      <td>organization</td>\n",
       "      <td>facebook</td>\n",
       "      <td>https://www.crunchbase.com/organization/facebook</td>\n",
       "      <td>5.0</td>\n",
       "      <td>2007-05-26 04:22:15</td>\n",
       "      <td>2020-10-21 13:53:15</td>\n",
       "      <td>investor,company</td>\n",
       "      <td>facebook.com</td>\n",
       "      <td>...</td>\n",
       "      <td>32.0</td>\n",
       "      <td>1.612282e+10</td>\n",
       "      <td>1.612282e+10</td>\n",
       "      <td>USD</td>\n",
       "      <td>2004-02-04</td>\n",
       "      <td>NaN</td>\n",
       "      <td>https://www.facebook.com/facebook/</td>\n",
       "      <td>http://www.linkedin.com/company/facebook</td>\n",
       "      <td>https://twitter.com/facebook</td>\n",
       "      <td>https://res.cloudinary.com/crunchbase-producti...</td>\n",
       "    </tr>\n",
       "  </tbody>\n",
       "</table>\n",
       "<p>3 rows × 25 columns</p>\n",
       "</div>"
      ],
      "text/plain": [
       "                                   uuid             name          type  \\\n",
       "0  bf4d7b0e-b34d-2fd8-d292-6049c4f7efc7             Zoho  organization   \n",
       "1  f4d5ab44-058b-298b-ea81-380e6e9a8eec  Omidyar Network  organization   \n",
       "2  df662812-7f97-0b43-9d3e-12f64f504fbb         Facebook  organization   \n",
       "\n",
       "         permalink                                             cb_url    rank  \\\n",
       "0             zoho       https://www.crunchbase.com/organization/zoho  7694.0   \n",
       "1  omidyar-network  https://www.crunchbase.com/organization/omidya...  1758.0   \n",
       "2         facebook   https://www.crunchbase.com/organization/facebook     5.0   \n",
       "\n",
       "            created_at           updated_at             roles        domain  \\\n",
       "0  2007-05-26 02:30:28  2018-10-27 00:29:49  investor,company      zoho.com   \n",
       "1  2007-05-26 03:21:34  2019-06-19 12:17:48          investor   omidyar.com   \n",
       "2  2007-05-26 04:22:15  2020-10-21 13:53:15  investor,company  facebook.com   \n",
       "\n",
       "   ... investment_count total_funding_usd total_funding  \\\n",
       "0  ...              6.0               NaN           NaN   \n",
       "1  ...            313.0               NaN           NaN   \n",
       "2  ...             32.0      1.612282e+10  1.612282e+10   \n",
       "\n",
       "  total_funding_currency_code  founded_on  closed_on  \\\n",
       "0                         NaN  1996-09-15        NaN   \n",
       "1                         NaN  2004-01-01        NaN   \n",
       "2                         USD  2004-02-04        NaN   \n",
       "\n",
       "                             facebook_url  \\\n",
       "0            http://www.facebook.com/zoho   \n",
       "1  http://www.facebook.com/OmidyarNetwork   \n",
       "2      https://www.facebook.com/facebook/   \n",
       "\n",
       "                                        linkedin_url  \\\n",
       "0  http://www.linkedin.com/company/zoho-corporati...   \n",
       "1              http://www.linkedin.com/company/22806   \n",
       "2           http://www.linkedin.com/company/facebook   \n",
       "\n",
       "                         twitter_url  \\\n",
       "0            http://twitter.com/zoho   \n",
       "1  http://twitter.com/OmidyarNetwork   \n",
       "2       https://twitter.com/facebook   \n",
       "\n",
       "                                            logo_url  \n",
       "0  https://res.cloudinary.com/crunchbase-producti...  \n",
       "1  https://res.cloudinary.com/crunchbase-producti...  \n",
       "2  https://res.cloudinary.com/crunchbase-producti...  \n",
       "\n",
       "[3 rows x 25 columns]"
      ]
     },
     "execution_count": 91,
     "metadata": {},
     "output_type": "execute_result"
    }
   ],
   "source": [
    "investors_df.head(3)"
   ]
  },
  {
   "cell_type": "code",
   "execution_count": 92,
   "id": "handled-wednesday",
   "metadata": {},
   "outputs": [],
   "source": [
    "#drop columns\n",
    "investors_df_v1 = investors_df.drop(columns=['permalink', 'cb_url', 'rank', 'created_at',\n",
    "       'updated_at', 'roles','domain'])"
   ]
  },
  {
   "cell_type": "code",
   "execution_count": 93,
   "id": "political-grade",
   "metadata": {},
   "outputs": [
    {
     "data": {
      "text/plain": [
       "Index(['uuid', 'name', 'type', 'country_code', 'state_code', 'region', 'city',\n",
       "       'investor_types', 'investment_count', 'total_funding_usd',\n",
       "       'total_funding', 'total_funding_currency_code', 'founded_on',\n",
       "       'closed_on', 'facebook_url', 'linkedin_url', 'twitter_url', 'logo_url'],\n",
       "      dtype='object')"
      ]
     },
     "execution_count": 93,
     "metadata": {},
     "output_type": "execute_result"
    }
   ],
   "source": [
    "investors_df_v1.columns"
   ]
  },
  {
   "cell_type": "code",
   "execution_count": 94,
   "id": "centered-school",
   "metadata": {},
   "outputs": [],
   "source": [
    "investors_df_v1.rename(columns={'uuid':'investor_uuid'},inplace=True)"
   ]
  },
  {
   "cell_type": "code",
   "execution_count": 95,
   "id": "distinguished-glossary",
   "metadata": {},
   "outputs": [
    {
     "data": {
      "text/plain": [
       "Index(['investor_uuid', 'name', 'type', 'country_code', 'state_code', 'region',\n",
       "       'city', 'investor_types', 'investment_count', 'total_funding_usd',\n",
       "       'total_funding', 'total_funding_currency_code', 'founded_on',\n",
       "       'closed_on', 'facebook_url', 'linkedin_url', 'twitter_url', 'logo_url'],\n",
       "      dtype='object')"
      ]
     },
     "execution_count": 95,
     "metadata": {},
     "output_type": "execute_result"
    }
   ],
   "source": [
    "investors_df_v1.columns"
   ]
  },
  {
   "cell_type": "code",
   "execution_count": 96,
   "id": "outer-duplicate",
   "metadata": {},
   "outputs": [
    {
     "data": {
      "text/plain": [
       "investor_uuid                       0\n",
       "name                                2\n",
       "type                                0\n",
       "country_code                    53898\n",
       "state_code                     112472\n",
       "region                          57935\n",
       "city                            59582\n",
       "investor_types                  81201\n",
       "investment_count                83892\n",
       "total_funding_usd              162641\n",
       "total_funding                  162641\n",
       "total_funding_currency_code    162641\n",
       "founded_on                     121592\n",
       "closed_on                      166366\n",
       "facebook_url                   137548\n",
       "linkedin_url                    78483\n",
       "twitter_url                    124010\n",
       "logo_url                        42484\n",
       "dtype: int64"
      ]
     },
     "execution_count": 96,
     "metadata": {},
     "output_type": "execute_result"
    }
   ],
   "source": [
    "investors_df_v1.isnull().sum(axis=0)"
   ]
  },
  {
   "cell_type": "code",
   "execution_count": 97,
   "id": "offshore-history",
   "metadata": {},
   "outputs": [],
   "source": [
    "#save preprocessed file\n",
    "investors_df_v1.to_csv(R\"d:/msc-project/data/pre-processed/investors_preprocessed.csv\",encoding='utf-8',index=False)"
   ]
  },
  {
   "cell_type": "markdown",
   "id": "broad-alarm",
   "metadata": {},
   "source": [
    "# Investment Partner"
   ]
  },
  {
   "cell_type": "code",
   "execution_count": 98,
   "id": "tight-retention",
   "metadata": {},
   "outputs": [],
   "source": [
    "#import investment partner\n",
    "investment_partner_df = pd.read_csv(R\"d:/msc-project/data/bulk_export_122020/investment_partners.csv\",encoding='utf-8')"
   ]
  },
  {
   "cell_type": "code",
   "execution_count": 99,
   "id": "vietnamese-consensus",
   "metadata": {},
   "outputs": [
    {
     "data": {
      "text/plain": [
       "Index(['uuid', 'name', 'type', 'permalink', 'cb_url', 'rank', 'created_at',\n",
       "       'updated_at', 'funding_round_uuid', 'funding_round_name',\n",
       "       'investor_uuid', 'investor_name', 'partner_uuid', 'partner_name'],\n",
       "      dtype='object')"
      ]
     },
     "execution_count": 99,
     "metadata": {},
     "output_type": "execute_result"
    }
   ],
   "source": [
    "investment_partner_df.columns"
   ]
  },
  {
   "cell_type": "code",
   "execution_count": 100,
   "id": "integrated-mathematics",
   "metadata": {},
   "outputs": [
    {
     "data": {
      "text/html": [
       "<div>\n",
       "<style scoped>\n",
       "    .dataframe tbody tr th:only-of-type {\n",
       "        vertical-align: middle;\n",
       "    }\n",
       "\n",
       "    .dataframe tbody tr th {\n",
       "        vertical-align: top;\n",
       "    }\n",
       "\n",
       "    .dataframe thead th {\n",
       "        text-align: right;\n",
       "    }\n",
       "</style>\n",
       "<table border=\"1\" class=\"dataframe\">\n",
       "  <thead>\n",
       "    <tr style=\"text-align: right;\">\n",
       "      <th></th>\n",
       "      <th>uuid</th>\n",
       "      <th>name</th>\n",
       "      <th>type</th>\n",
       "      <th>permalink</th>\n",
       "      <th>cb_url</th>\n",
       "      <th>rank</th>\n",
       "      <th>created_at</th>\n",
       "      <th>updated_at</th>\n",
       "      <th>funding_round_uuid</th>\n",
       "      <th>funding_round_name</th>\n",
       "      <th>investor_uuid</th>\n",
       "      <th>investor_name</th>\n",
       "      <th>partner_uuid</th>\n",
       "      <th>partner_name</th>\n",
       "    </tr>\n",
       "  </thead>\n",
       "  <tbody>\n",
       "    <tr>\n",
       "      <th>0</th>\n",
       "      <td>524986f0-3049-54a4-fa72-f60897a5e61d</td>\n",
       "      <td>Accel investment in Series A - Facebook</td>\n",
       "      <td>investment</td>\n",
       "      <td>accel-invested-in-facebook-series-a--d950d7a5-...</td>\n",
       "      <td>https://www.crunchbase.com/investment/accel-in...</td>\n",
       "      <td>NaN</td>\n",
       "      <td>2007-05-27 06:09:10</td>\n",
       "      <td>2018-02-13 00:52:57</td>\n",
       "      <td>d950d7a5-79ff-fb93-ca87-13386b0e2feb</td>\n",
       "      <td>Series A - Facebook</td>\n",
       "      <td>b08efc27-da40-505a-6f9d-c9e14247bf36</td>\n",
       "      <td>Accel</td>\n",
       "      <td>2d78d1e7-203c-3eb6-bf1b-c51f10e0679b</td>\n",
       "      <td>Jim Breyer</td>\n",
       "    </tr>\n",
       "    <tr>\n",
       "      <th>1</th>\n",
       "      <td>524986f0-3049-54a4-fa72-f60897a5e61d</td>\n",
       "      <td>Accel investment in Series A - Facebook</td>\n",
       "      <td>investment</td>\n",
       "      <td>accel-invested-in-facebook-series-a--d950d7a5-...</td>\n",
       "      <td>https://www.crunchbase.com/investment/accel-in...</td>\n",
       "      <td>NaN</td>\n",
       "      <td>2007-05-27 06:09:10</td>\n",
       "      <td>2018-02-13 00:52:57</td>\n",
       "      <td>d950d7a5-79ff-fb93-ca87-13386b0e2feb</td>\n",
       "      <td>Series A - Facebook</td>\n",
       "      <td>b08efc27-da40-505a-6f9d-c9e14247bf36</td>\n",
       "      <td>Accel</td>\n",
       "      <td>eaf6c243-d355-32f3-e23a-2a5fc82e8b34</td>\n",
       "      <td>Kevin Efrusy</td>\n",
       "    </tr>\n",
       "  </tbody>\n",
       "</table>\n",
       "</div>"
      ],
      "text/plain": [
       "                                   uuid  \\\n",
       "0  524986f0-3049-54a4-fa72-f60897a5e61d   \n",
       "1  524986f0-3049-54a4-fa72-f60897a5e61d   \n",
       "\n",
       "                                      name        type  \\\n",
       "0  Accel investment in Series A - Facebook  investment   \n",
       "1  Accel investment in Series A - Facebook  investment   \n",
       "\n",
       "                                           permalink  \\\n",
       "0  accel-invested-in-facebook-series-a--d950d7a5-...   \n",
       "1  accel-invested-in-facebook-series-a--d950d7a5-...   \n",
       "\n",
       "                                              cb_url  rank  \\\n",
       "0  https://www.crunchbase.com/investment/accel-in...   NaN   \n",
       "1  https://www.crunchbase.com/investment/accel-in...   NaN   \n",
       "\n",
       "            created_at           updated_at  \\\n",
       "0  2007-05-27 06:09:10  2018-02-13 00:52:57   \n",
       "1  2007-05-27 06:09:10  2018-02-13 00:52:57   \n",
       "\n",
       "                     funding_round_uuid   funding_round_name  \\\n",
       "0  d950d7a5-79ff-fb93-ca87-13386b0e2feb  Series A - Facebook   \n",
       "1  d950d7a5-79ff-fb93-ca87-13386b0e2feb  Series A - Facebook   \n",
       "\n",
       "                          investor_uuid investor_name  \\\n",
       "0  b08efc27-da40-505a-6f9d-c9e14247bf36         Accel   \n",
       "1  b08efc27-da40-505a-6f9d-c9e14247bf36         Accel   \n",
       "\n",
       "                           partner_uuid  partner_name  \n",
       "0  2d78d1e7-203c-3eb6-bf1b-c51f10e0679b    Jim Breyer  \n",
       "1  eaf6c243-d355-32f3-e23a-2a5fc82e8b34  Kevin Efrusy  "
      ]
     },
     "execution_count": 100,
     "metadata": {},
     "output_type": "execute_result"
    }
   ],
   "source": [
    "investment_partner_df.head(2)"
   ]
  },
  {
   "cell_type": "code",
   "execution_count": 101,
   "id": "prescription-exclusion",
   "metadata": {},
   "outputs": [],
   "source": [
    "#drop unecessary columns\n",
    "investment_partner_df_v1 = investment_partner_df.drop(columns=['name', 'type', 'permalink', 'cb_url', 'rank', 'created_at',\n",
    "       'updated_at', 'funding_round_uuid', 'funding_round_name',\n",
    "       'investor_uuid', 'investor_name'])"
   ]
  },
  {
   "cell_type": "code",
   "execution_count": 102,
   "id": "greek-cooling",
   "metadata": {},
   "outputs": [],
   "source": [
    "investment_partner_df_v1.rename (columns={'uuid':'investment_uuid'},inplace=True)"
   ]
  },
  {
   "cell_type": "code",
   "execution_count": 103,
   "id": "round-brass",
   "metadata": {},
   "outputs": [
    {
     "data": {
      "text/plain": [
       "Index(['investment_uuid', 'partner_uuid', 'partner_name'], dtype='object')"
      ]
     },
     "execution_count": 103,
     "metadata": {},
     "output_type": "execute_result"
    }
   ],
   "source": [
    "investment_partner_df_v1.columns"
   ]
  },
  {
   "cell_type": "code",
   "execution_count": 104,
   "id": "controlling-saying",
   "metadata": {},
   "outputs": [],
   "source": [
    "#save preprocessed file\n",
    "investment_partner_df_v1.to_csv(R\"d:/msc-project/data/pre-processed/investment_partner_preprocessed.csv\",encoding='utf-8',index=False)"
   ]
  },
  {
   "cell_type": "markdown",
   "id": "vietnamese-compilation",
   "metadata": {},
   "source": [
    "# Funds"
   ]
  },
  {
   "cell_type": "code",
   "execution_count": 105,
   "id": "educational-attempt",
   "metadata": {},
   "outputs": [],
   "source": [
    "funds_df = pd.read_csv(R\"d:/msc-project/data/bulk_export_122020/funds.csv\",encoding='utf-8')"
   ]
  },
  {
   "cell_type": "code",
   "execution_count": 106,
   "id": "verbal-majority",
   "metadata": {},
   "outputs": [
    {
     "data": {
      "text/plain": [
       "Index(['uuid', 'name', 'type', 'permalink', 'cb_url', 'rank', 'created_at',\n",
       "       'updated_at', 'entity_uuid', 'entity_name', 'entity_type',\n",
       "       'announced_on', 'raised_amount_usd', 'raised_amount',\n",
       "       'raised_amount_currency_code'],\n",
       "      dtype='object')"
      ]
     },
     "execution_count": 106,
     "metadata": {},
     "output_type": "execute_result"
    }
   ],
   "source": [
    "funds_df.columns"
   ]
  },
  {
   "cell_type": "code",
   "execution_count": 107,
   "id": "chinese-chrome",
   "metadata": {},
   "outputs": [
    {
     "data": {
      "text/html": [
       "<div>\n",
       "<style scoped>\n",
       "    .dataframe tbody tr th:only-of-type {\n",
       "        vertical-align: middle;\n",
       "    }\n",
       "\n",
       "    .dataframe tbody tr th {\n",
       "        vertical-align: top;\n",
       "    }\n",
       "\n",
       "    .dataframe thead th {\n",
       "        text-align: right;\n",
       "    }\n",
       "</style>\n",
       "<table border=\"1\" class=\"dataframe\">\n",
       "  <thead>\n",
       "    <tr style=\"text-align: right;\">\n",
       "      <th></th>\n",
       "      <th>uuid</th>\n",
       "      <th>name</th>\n",
       "      <th>type</th>\n",
       "      <th>permalink</th>\n",
       "      <th>cb_url</th>\n",
       "      <th>rank</th>\n",
       "      <th>created_at</th>\n",
       "      <th>updated_at</th>\n",
       "      <th>entity_uuid</th>\n",
       "      <th>entity_name</th>\n",
       "      <th>entity_type</th>\n",
       "      <th>announced_on</th>\n",
       "      <th>raised_amount_usd</th>\n",
       "      <th>raised_amount</th>\n",
       "      <th>raised_amount_currency_code</th>\n",
       "    </tr>\n",
       "  </thead>\n",
       "  <tbody>\n",
       "    <tr>\n",
       "      <th>0</th>\n",
       "      <td>8190b28a-3c78-0ac4-1e7c-f0b5edce4b2e</td>\n",
       "      <td>DFJ Dragon Second Fund</td>\n",
       "      <td>fund</td>\n",
       "      <td>dfj-dragonfund-raised-dfj-dragon-second-fund--...</td>\n",
       "      <td>https://www.crunchbase.com/fund/dfj-dragonfund...</td>\n",
       "      <td>NaN</td>\n",
       "      <td>2008-12-17 03:07:16</td>\n",
       "      <td>2018-02-12 23:51:25</td>\n",
       "      <td>fe743289-a4aa-a470-00d8-bbe937e0955b</td>\n",
       "      <td>DFJ DragonFund</td>\n",
       "      <td>organization</td>\n",
       "      <td>2008-12-16</td>\n",
       "      <td>300000000.0</td>\n",
       "      <td>300000000.0</td>\n",
       "      <td>USD</td>\n",
       "    </tr>\n",
       "    <tr>\n",
       "      <th>1</th>\n",
       "      <td>cbb6644a-eafb-4686-5505-61f32e1c3638</td>\n",
       "      <td>Sequoia Israel Fund IV</td>\n",
       "      <td>fund</td>\n",
       "      <td>sequoia-capital-raised-sequoia-israel-fund-iv-...</td>\n",
       "      <td>https://www.crunchbase.com/fund/sequoia-capita...</td>\n",
       "      <td>NaN</td>\n",
       "      <td>2008-12-18 22:04:42</td>\n",
       "      <td>2018-02-13 00:38:07</td>\n",
       "      <td>0c867fde-2b9a-df10-fdb9-66b74f355f91</td>\n",
       "      <td>Sequoia Capital</td>\n",
       "      <td>organization</td>\n",
       "      <td>2008-12-17</td>\n",
       "      <td>200750000.0</td>\n",
       "      <td>200750000.0</td>\n",
       "      <td>USD</td>\n",
       "    </tr>\n",
       "  </tbody>\n",
       "</table>\n",
       "</div>"
      ],
      "text/plain": [
       "                                   uuid                    name  type  \\\n",
       "0  8190b28a-3c78-0ac4-1e7c-f0b5edce4b2e  DFJ Dragon Second Fund  fund   \n",
       "1  cbb6644a-eafb-4686-5505-61f32e1c3638  Sequoia Israel Fund IV  fund   \n",
       "\n",
       "                                           permalink  \\\n",
       "0  dfj-dragonfund-raised-dfj-dragon-second-fund--...   \n",
       "1  sequoia-capital-raised-sequoia-israel-fund-iv-...   \n",
       "\n",
       "                                              cb_url  rank  \\\n",
       "0  https://www.crunchbase.com/fund/dfj-dragonfund...   NaN   \n",
       "1  https://www.crunchbase.com/fund/sequoia-capita...   NaN   \n",
       "\n",
       "            created_at           updated_at  \\\n",
       "0  2008-12-17 03:07:16  2018-02-12 23:51:25   \n",
       "1  2008-12-18 22:04:42  2018-02-13 00:38:07   \n",
       "\n",
       "                            entity_uuid      entity_name   entity_type  \\\n",
       "0  fe743289-a4aa-a470-00d8-bbe937e0955b   DFJ DragonFund  organization   \n",
       "1  0c867fde-2b9a-df10-fdb9-66b74f355f91  Sequoia Capital  organization   \n",
       "\n",
       "  announced_on  raised_amount_usd  raised_amount raised_amount_currency_code  \n",
       "0   2008-12-16        300000000.0    300000000.0                         USD  \n",
       "1   2008-12-17        200750000.0    200750000.0                         USD  "
      ]
     },
     "execution_count": 107,
     "metadata": {},
     "output_type": "execute_result"
    }
   ],
   "source": [
    "funds_df.head(2)"
   ]
  },
  {
   "cell_type": "code",
   "execution_count": 108,
   "id": "considered-japan",
   "metadata": {},
   "outputs": [],
   "source": [
    "funds_df_v1 = funds_df.drop(columns = ['type', 'permalink', 'cb_url', 'rank', 'created_at',\n",
    "       'updated_at'])"
   ]
  },
  {
   "cell_type": "code",
   "execution_count": 109,
   "id": "taken-keeping",
   "metadata": {},
   "outputs": [
    {
     "data": {
      "text/plain": [
       "uuid                              0\n",
       "name                              0\n",
       "entity_uuid                       0\n",
       "entity_name                       0\n",
       "entity_type                       0\n",
       "announced_on                    301\n",
       "raised_amount_usd              2927\n",
       "raised_amount                  2919\n",
       "raised_amount_currency_code    2919\n",
       "dtype: int64"
      ]
     },
     "execution_count": 109,
     "metadata": {},
     "output_type": "execute_result"
    }
   ],
   "source": [
    "funds_df_v1.isnull().sum(axis=0)"
   ]
  },
  {
   "cell_type": "code",
   "execution_count": 110,
   "id": "connected-pierce",
   "metadata": {},
   "outputs": [],
   "source": [
    "funds_df_v1.rename(columns={'uuid':'fund_uuid','entity_uuid':'org_uuid'},inplace=True)"
   ]
  },
  {
   "cell_type": "code",
   "execution_count": 111,
   "id": "yellow-technical",
   "metadata": {},
   "outputs": [
    {
     "data": {
      "text/plain": [
       "Index(['fund_uuid', 'name', 'org_uuid', 'entity_name', 'entity_type',\n",
       "       'announced_on', 'raised_amount_usd', 'raised_amount',\n",
       "       'raised_amount_currency_code'],\n",
       "      dtype='object')"
      ]
     },
     "execution_count": 111,
     "metadata": {},
     "output_type": "execute_result"
    }
   ],
   "source": [
    "funds_df_v1.columns"
   ]
  },
  {
   "cell_type": "code",
   "execution_count": 112,
   "id": "stone-retailer",
   "metadata": {},
   "outputs": [],
   "source": [
    "#save preprocessed file\n",
    "funds_df_v1.to_csv(R\"d:/msc-project/data/pre-processed/funds_preprocessed.csv\",encoding='utf-8',index=False)"
   ]
  },
  {
   "cell_type": "markdown",
   "id": "seeing-cradle",
   "metadata": {},
   "source": [
    "# Events"
   ]
  },
  {
   "cell_type": "code",
   "execution_count": 113,
   "id": "joint-housing",
   "metadata": {},
   "outputs": [],
   "source": [
    "#import events.csv\n",
    "events_df = pd.read_csv(R\"d:/msc-project/data/bulk_export_122020/events.csv\",encoding='utf-8')"
   ]
  },
  {
   "cell_type": "code",
   "execution_count": 114,
   "id": "behind-retailer",
   "metadata": {},
   "outputs": [
    {
     "data": {
      "text/plain": [
       "Index(['uuid', 'name', 'type', 'permalink', 'cb_url', 'rank', 'created_at',\n",
       "       'updated_at', 'short_description', 'started_on', 'ended_on',\n",
       "       'event_url', 'registration_url', 'venue_name', 'description',\n",
       "       'country_code', 'state_code', 'region', 'city', 'logo_url',\n",
       "       'event_roles'],\n",
       "      dtype='object')"
      ]
     },
     "execution_count": 114,
     "metadata": {},
     "output_type": "execute_result"
    }
   ],
   "source": [
    "events_df.columns"
   ]
  },
  {
   "cell_type": "code",
   "execution_count": 115,
   "id": "unusual-thing",
   "metadata": {},
   "outputs": [
    {
     "data": {
      "text/html": [
       "<div>\n",
       "<style scoped>\n",
       "    .dataframe tbody tr th:only-of-type {\n",
       "        vertical-align: middle;\n",
       "    }\n",
       "\n",
       "    .dataframe tbody tr th {\n",
       "        vertical-align: top;\n",
       "    }\n",
       "\n",
       "    .dataframe thead th {\n",
       "        text-align: right;\n",
       "    }\n",
       "</style>\n",
       "<table border=\"1\" class=\"dataframe\">\n",
       "  <thead>\n",
       "    <tr style=\"text-align: right;\">\n",
       "      <th></th>\n",
       "      <th>uuid</th>\n",
       "      <th>name</th>\n",
       "      <th>type</th>\n",
       "      <th>permalink</th>\n",
       "      <th>cb_url</th>\n",
       "      <th>rank</th>\n",
       "      <th>created_at</th>\n",
       "      <th>updated_at</th>\n",
       "      <th>short_description</th>\n",
       "      <th>started_on</th>\n",
       "      <th>...</th>\n",
       "      <th>event_url</th>\n",
       "      <th>registration_url</th>\n",
       "      <th>venue_name</th>\n",
       "      <th>description</th>\n",
       "      <th>country_code</th>\n",
       "      <th>state_code</th>\n",
       "      <th>region</th>\n",
       "      <th>city</th>\n",
       "      <th>logo_url</th>\n",
       "      <th>event_roles</th>\n",
       "    </tr>\n",
       "  </thead>\n",
       "  <tbody>\n",
       "    <tr>\n",
       "      <th>0</th>\n",
       "      <td>6a21f93a-3cae-02ac-44c7-c166c0ed50fa</td>\n",
       "      <td>SF New Tech</td>\n",
       "      <td>event</td>\n",
       "      <td>sfnt-201272-san-francisco</td>\n",
       "      <td>https://www.crunchbase.com/event/sfnt-201272-s...</td>\n",
       "      <td>18739.0</td>\n",
       "      <td>2014-10-03 18:12:25</td>\n",
       "      <td>2018-02-13 01:14:28</td>\n",
       "      <td>Join us on Wed, Oct 15th for another edition o...</td>\n",
       "      <td>2014-10-14</td>\n",
       "      <td>...</td>\n",
       "      <td>NaN</td>\n",
       "      <td>http://1015sfnt-meetup.eventbrite.com</td>\n",
       "      <td>RocketStudios</td>\n",
       "      <td>NaN</td>\n",
       "      <td>USA</td>\n",
       "      <td>CA</td>\n",
       "      <td>California</td>\n",
       "      <td>San Francisco</td>\n",
       "      <td>NaN</td>\n",
       "      <td>conference</td>\n",
       "    </tr>\n",
       "    <tr>\n",
       "      <th>1</th>\n",
       "      <td>135a927a-b238-037e-50e2-d3a2e3511ed2</td>\n",
       "      <td>Adobe MAX 2014</td>\n",
       "      <td>event</td>\n",
       "      <td>adobe-max-2014104-los-angeles</td>\n",
       "      <td>https://www.crunchbase.com/event/adobe-max-201...</td>\n",
       "      <td>8883.0</td>\n",
       "      <td>2014-10-03 18:14:15</td>\n",
       "      <td>2018-02-13 01:14:24</td>\n",
       "      <td>Sessions, labs, and creativity workshops where...</td>\n",
       "      <td>2014-10-04</td>\n",
       "      <td>...</td>\n",
       "      <td>NaN</td>\n",
       "      <td>http://max.adobe.com/registration/</td>\n",
       "      <td>Los Angeles Convention Center</td>\n",
       "      <td>NaN</td>\n",
       "      <td>USA</td>\n",
       "      <td>CA</td>\n",
       "      <td>California</td>\n",
       "      <td>Los Angeles</td>\n",
       "      <td>https://res.cloudinary.com/crunchbase-producti...</td>\n",
       "      <td>conference</td>\n",
       "    </tr>\n",
       "    <tr>\n",
       "      <th>2</th>\n",
       "      <td>c6006d9f-e796-2a2a-2efc-c4e55caa98f8</td>\n",
       "      <td>ad:tech New York</td>\n",
       "      <td>event</td>\n",
       "      <td>ad-tech-new-york-2014105-new-york</td>\n",
       "      <td>https://www.crunchbase.com/event/ad-tech-new-y...</td>\n",
       "      <td>8346.0</td>\n",
       "      <td>2014-10-03 18:40:03</td>\n",
       "      <td>2018-02-13 01:14:23</td>\n",
       "      <td>ad:tech New York will showcase keynote speaker...</td>\n",
       "      <td>2014-10-05</td>\n",
       "      <td>...</td>\n",
       "      <td>NaN</td>\n",
       "      <td>http://ad-tech.com/ny/registration</td>\n",
       "      <td>Javits Center</td>\n",
       "      <td>NaN</td>\n",
       "      <td>USA</td>\n",
       "      <td>NY</td>\n",
       "      <td>New York</td>\n",
       "      <td>New York</td>\n",
       "      <td>https://res.cloudinary.com/crunchbase-producti...</td>\n",
       "      <td>conference</td>\n",
       "    </tr>\n",
       "  </tbody>\n",
       "</table>\n",
       "<p>3 rows × 21 columns</p>\n",
       "</div>"
      ],
      "text/plain": [
       "                                   uuid              name   type  \\\n",
       "0  6a21f93a-3cae-02ac-44c7-c166c0ed50fa       SF New Tech  event   \n",
       "1  135a927a-b238-037e-50e2-d3a2e3511ed2    Adobe MAX 2014  event   \n",
       "2  c6006d9f-e796-2a2a-2efc-c4e55caa98f8  ad:tech New York  event   \n",
       "\n",
       "                           permalink  \\\n",
       "0          sfnt-201272-san-francisco   \n",
       "1      adobe-max-2014104-los-angeles   \n",
       "2  ad-tech-new-york-2014105-new-york   \n",
       "\n",
       "                                              cb_url     rank  \\\n",
       "0  https://www.crunchbase.com/event/sfnt-201272-s...  18739.0   \n",
       "1  https://www.crunchbase.com/event/adobe-max-201...   8883.0   \n",
       "2  https://www.crunchbase.com/event/ad-tech-new-y...   8346.0   \n",
       "\n",
       "            created_at           updated_at  \\\n",
       "0  2014-10-03 18:12:25  2018-02-13 01:14:28   \n",
       "1  2014-10-03 18:14:15  2018-02-13 01:14:24   \n",
       "2  2014-10-03 18:40:03  2018-02-13 01:14:23   \n",
       "\n",
       "                                   short_description  started_on  ...  \\\n",
       "0  Join us on Wed, Oct 15th for another edition o...  2014-10-14  ...   \n",
       "1  Sessions, labs, and creativity workshops where...  2014-10-04  ...   \n",
       "2  ad:tech New York will showcase keynote speaker...  2014-10-05  ...   \n",
       "\n",
       "  event_url                       registration_url  \\\n",
       "0       NaN  http://1015sfnt-meetup.eventbrite.com   \n",
       "1       NaN     http://max.adobe.com/registration/   \n",
       "2       NaN     http://ad-tech.com/ny/registration   \n",
       "\n",
       "                      venue_name description country_code state_code  \\\n",
       "0                  RocketStudios         NaN          USA         CA   \n",
       "1  Los Angeles Convention Center         NaN          USA         CA   \n",
       "2                  Javits Center         NaN          USA         NY   \n",
       "\n",
       "       region           city  \\\n",
       "0  California  San Francisco   \n",
       "1  California    Los Angeles   \n",
       "2    New York       New York   \n",
       "\n",
       "                                            logo_url event_roles  \n",
       "0                                                NaN  conference  \n",
       "1  https://res.cloudinary.com/crunchbase-producti...  conference  \n",
       "2  https://res.cloudinary.com/crunchbase-producti...  conference  \n",
       "\n",
       "[3 rows x 21 columns]"
      ]
     },
     "execution_count": 115,
     "metadata": {},
     "output_type": "execute_result"
    }
   ],
   "source": [
    "events_df.head(3)"
   ]
  },
  {
   "cell_type": "code",
   "execution_count": 116,
   "id": "harmful-programming",
   "metadata": {},
   "outputs": [],
   "source": [
    "events_df_v1 = events_df.drop (columns = ['type', 'permalink', 'cb_url', 'rank', 'created_at',\n",
    "       'updated_at','event_url', 'registration_url', 'venue_name','logo_url'])"
   ]
  },
  {
   "cell_type": "code",
   "execution_count": 117,
   "id": "bacterial-robert",
   "metadata": {},
   "outputs": [],
   "source": [
    "events_df_v1.rename(columns = {'uuid':'event_uuid'},inplace=True)"
   ]
  },
  {
   "cell_type": "code",
   "execution_count": 118,
   "id": "supposed-reset",
   "metadata": {},
   "outputs": [
    {
     "data": {
      "text/plain": [
       "Index(['event_uuid', 'name', 'short_description', 'started_on', 'ended_on',\n",
       "       'description', 'country_code', 'state_code', 'region', 'city',\n",
       "       'event_roles'],\n",
       "      dtype='object')"
      ]
     },
     "execution_count": 118,
     "metadata": {},
     "output_type": "execute_result"
    }
   ],
   "source": [
    "events_df_v1.columns"
   ]
  },
  {
   "cell_type": "code",
   "execution_count": 119,
   "id": "honest-jacksonville",
   "metadata": {},
   "outputs": [
    {
     "data": {
      "text/plain": [
       "event_uuid               0\n",
       "name                     0\n",
       "short_description        0\n",
       "started_on               0\n",
       "ended_on                 0\n",
       "description           5762\n",
       "country_code          2427\n",
       "state_code           11515\n",
       "region                2427\n",
       "city                  2427\n",
       "event_roles              0\n",
       "dtype: int64"
      ]
     },
     "execution_count": 119,
     "metadata": {},
     "output_type": "execute_result"
    }
   ],
   "source": [
    "events_df_v1.isnull().sum(axis=0)"
   ]
  },
  {
   "cell_type": "code",
   "execution_count": 120,
   "id": "impressive-postcard",
   "metadata": {},
   "outputs": [],
   "source": [
    "#save preprocessed file\n",
    "events_df_v1.to_csv(R\"d:/msc-project/data/pre-processed/events_preprocessed.csv\",encoding='utf-8',index=False)"
   ]
  },
  {
   "cell_type": "markdown",
   "id": "canadian-alcohol",
   "metadata": {},
   "source": [
    "# Event Appearances"
   ]
  },
  {
   "cell_type": "code",
   "execution_count": 121,
   "id": "forced-consequence",
   "metadata": {},
   "outputs": [],
   "source": [
    "#import event_appearances.csv\n",
    "event_appear_df = pd.read_csv(R\"d:/msc-project/data/bulk_export_122020/event_appearances.csv\",encoding='utf-8')"
   ]
  },
  {
   "cell_type": "code",
   "execution_count": 122,
   "id": "tight-laugh",
   "metadata": {},
   "outputs": [
    {
     "data": {
      "text/plain": [
       "Index(['uuid', 'name', 'type', 'permalink', 'cb_url', 'rank', 'created_at',\n",
       "       'updated_at', 'event_uuid', 'event_name', 'participant_uuid',\n",
       "       'participant_name', 'participant_type', 'appearance_type',\n",
       "       'short_description'],\n",
       "      dtype='object')"
      ]
     },
     "execution_count": 122,
     "metadata": {},
     "output_type": "execute_result"
    }
   ],
   "source": [
    "event_appear_df.columns"
   ]
  },
  {
   "cell_type": "code",
   "execution_count": 123,
   "id": "sound-shade",
   "metadata": {},
   "outputs": [
    {
     "data": {
      "text/html": [
       "<div>\n",
       "<style scoped>\n",
       "    .dataframe tbody tr th:only-of-type {\n",
       "        vertical-align: middle;\n",
       "    }\n",
       "\n",
       "    .dataframe tbody tr th {\n",
       "        vertical-align: top;\n",
       "    }\n",
       "\n",
       "    .dataframe thead th {\n",
       "        text-align: right;\n",
       "    }\n",
       "</style>\n",
       "<table border=\"1\" class=\"dataframe\">\n",
       "  <thead>\n",
       "    <tr style=\"text-align: right;\">\n",
       "      <th></th>\n",
       "      <th>uuid</th>\n",
       "      <th>name</th>\n",
       "      <th>type</th>\n",
       "      <th>permalink</th>\n",
       "      <th>cb_url</th>\n",
       "      <th>rank</th>\n",
       "      <th>created_at</th>\n",
       "      <th>updated_at</th>\n",
       "      <th>event_uuid</th>\n",
       "      <th>event_name</th>\n",
       "      <th>participant_uuid</th>\n",
       "      <th>participant_name</th>\n",
       "      <th>participant_type</th>\n",
       "      <th>appearance_type</th>\n",
       "      <th>short_description</th>\n",
       "    </tr>\n",
       "  </thead>\n",
       "  <tbody>\n",
       "    <tr>\n",
       "      <th>0</th>\n",
       "      <td>30c4023d-b694-4704-97d7-cd99cd06ecce</td>\n",
       "      <td>Adobe MAX 2014's sponsor - CDW Corporation</td>\n",
       "      <td>event_appearance</td>\n",
       "      <td>cdw-corporation-sponsor-adobe-max-2014104-los-...</td>\n",
       "      <td>https://www.crunchbase.com/event_appearance/cd...</td>\n",
       "      <td>NaN</td>\n",
       "      <td>2014-10-03 18:21:26</td>\n",
       "      <td>2018-02-13 01:16:54</td>\n",
       "      <td>135a927a-b238-037e-50e2-d3a2e3511ed2</td>\n",
       "      <td>Adobe MAX 2014</td>\n",
       "      <td>ae883a31-3739-7eb9-4ce0-463ee070ed79</td>\n",
       "      <td>CDW Corporation</td>\n",
       "      <td>organization</td>\n",
       "      <td>sponsor</td>\n",
       "      <td>NaN</td>\n",
       "    </tr>\n",
       "    <tr>\n",
       "      <th>1</th>\n",
       "      <td>dffe0542-3dac-4228-a997-3eed42cbd67e</td>\n",
       "      <td>Adobe MAX 2014's sponsor - Microsoft</td>\n",
       "      <td>event_appearance</td>\n",
       "      <td>microsoft-sponsor-adobe-max-2014104-los-angele...</td>\n",
       "      <td>https://www.crunchbase.com/event_appearance/mi...</td>\n",
       "      <td>NaN</td>\n",
       "      <td>2014-10-03 18:21:42</td>\n",
       "      <td>2018-02-13 01:16:21</td>\n",
       "      <td>135a927a-b238-037e-50e2-d3a2e3511ed2</td>\n",
       "      <td>Adobe MAX 2014</td>\n",
       "      <td>fd80725f-53fc-7009-9878-aeecf1e9ffbb</td>\n",
       "      <td>Microsoft</td>\n",
       "      <td>organization</td>\n",
       "      <td>sponsor</td>\n",
       "      <td>NaN</td>\n",
       "    </tr>\n",
       "    <tr>\n",
       "      <th>2</th>\n",
       "      <td>21884e6c-d097-4c54-8513-10536a0ea60d</td>\n",
       "      <td>Adobe MAX 2014's sponsor - Twitter</td>\n",
       "      <td>event_appearance</td>\n",
       "      <td>twitter-sponsor-adobe-max-2014104-los-angeles-...</td>\n",
       "      <td>https://www.crunchbase.com/event_appearance/tw...</td>\n",
       "      <td>NaN</td>\n",
       "      <td>2014-10-03 18:21:55</td>\n",
       "      <td>2018-02-13 01:16:23</td>\n",
       "      <td>135a927a-b238-037e-50e2-d3a2e3511ed2</td>\n",
       "      <td>Adobe MAX 2014</td>\n",
       "      <td>5da6106f-0d27-0d37-e9d7-dcfeccc1f709</td>\n",
       "      <td>Twitter</td>\n",
       "      <td>organization</td>\n",
       "      <td>sponsor</td>\n",
       "      <td>NaN</td>\n",
       "    </tr>\n",
       "  </tbody>\n",
       "</table>\n",
       "</div>"
      ],
      "text/plain": [
       "                                   uuid  \\\n",
       "0  30c4023d-b694-4704-97d7-cd99cd06ecce   \n",
       "1  dffe0542-3dac-4228-a997-3eed42cbd67e   \n",
       "2  21884e6c-d097-4c54-8513-10536a0ea60d   \n",
       "\n",
       "                                         name              type  \\\n",
       "0  Adobe MAX 2014's sponsor - CDW Corporation  event_appearance   \n",
       "1        Adobe MAX 2014's sponsor - Microsoft  event_appearance   \n",
       "2          Adobe MAX 2014's sponsor - Twitter  event_appearance   \n",
       "\n",
       "                                           permalink  \\\n",
       "0  cdw-corporation-sponsor-adobe-max-2014104-los-...   \n",
       "1  microsoft-sponsor-adobe-max-2014104-los-angele...   \n",
       "2  twitter-sponsor-adobe-max-2014104-los-angeles-...   \n",
       "\n",
       "                                              cb_url  rank  \\\n",
       "0  https://www.crunchbase.com/event_appearance/cd...   NaN   \n",
       "1  https://www.crunchbase.com/event_appearance/mi...   NaN   \n",
       "2  https://www.crunchbase.com/event_appearance/tw...   NaN   \n",
       "\n",
       "            created_at           updated_at  \\\n",
       "0  2014-10-03 18:21:26  2018-02-13 01:16:54   \n",
       "1  2014-10-03 18:21:42  2018-02-13 01:16:21   \n",
       "2  2014-10-03 18:21:55  2018-02-13 01:16:23   \n",
       "\n",
       "                             event_uuid      event_name  \\\n",
       "0  135a927a-b238-037e-50e2-d3a2e3511ed2  Adobe MAX 2014   \n",
       "1  135a927a-b238-037e-50e2-d3a2e3511ed2  Adobe MAX 2014   \n",
       "2  135a927a-b238-037e-50e2-d3a2e3511ed2  Adobe MAX 2014   \n",
       "\n",
       "                       participant_uuid participant_name participant_type  \\\n",
       "0  ae883a31-3739-7eb9-4ce0-463ee070ed79  CDW Corporation     organization   \n",
       "1  fd80725f-53fc-7009-9878-aeecf1e9ffbb        Microsoft     organization   \n",
       "2  5da6106f-0d27-0d37-e9d7-dcfeccc1f709          Twitter     organization   \n",
       "\n",
       "  appearance_type short_description  \n",
       "0         sponsor               NaN  \n",
       "1         sponsor               NaN  \n",
       "2         sponsor               NaN  "
      ]
     },
     "execution_count": 123,
     "metadata": {},
     "output_type": "execute_result"
    }
   ],
   "source": [
    "event_appear_df.head(3)"
   ]
  },
  {
   "cell_type": "code",
   "execution_count": 124,
   "id": "limited-blocking",
   "metadata": {},
   "outputs": [],
   "source": [
    "#drop unecessary columns\n",
    "event_appear_df_v1 = event_appear_df.drop (columns = ['permalink', 'cb_url', 'rank', 'created_at',\n",
    "       'updated_at'])"
   ]
  },
  {
   "cell_type": "code",
   "execution_count": 125,
   "id": "continuing-conflict",
   "metadata": {},
   "outputs": [
    {
     "data": {
      "text/plain": [
       "Index(['uuid', 'name', 'type', 'event_uuid', 'event_name', 'participant_uuid',\n",
       "       'participant_name', 'participant_type', 'appearance_type',\n",
       "       'short_description'],\n",
       "      dtype='object')"
      ]
     },
     "execution_count": 125,
     "metadata": {},
     "output_type": "execute_result"
    }
   ],
   "source": [
    "event_appear_df_v1.columns"
   ]
  },
  {
   "cell_type": "code",
   "execution_count": 126,
   "id": "dying-meditation",
   "metadata": {},
   "outputs": [
    {
     "data": {
      "text/plain": [
       "array(['organization', 'person'], dtype=object)"
      ]
     },
     "execution_count": 126,
     "metadata": {},
     "output_type": "execute_result"
    }
   ],
   "source": [
    "event_appear_df_v1.participant_type.unique()"
   ]
  },
  {
   "cell_type": "code",
   "execution_count": 127,
   "id": "structured-carry",
   "metadata": {},
   "outputs": [
    {
     "data": {
      "text/plain": [
       "array(['sponsor', 'speaker', 'organizer', 'exhibitor', 'contestant'],\n",
       "      dtype=object)"
      ]
     },
     "execution_count": 127,
     "metadata": {},
     "output_type": "execute_result"
    }
   ],
   "source": [
    "event_appear_df_v1.appearance_type.unique()"
   ]
  },
  {
   "cell_type": "code",
   "execution_count": 128,
   "id": "known-baking",
   "metadata": {},
   "outputs": [],
   "source": [
    "event_appear_df_v1.rename(columns={'uuid':'event_appear_uuid','name':'event_appear_name'},inplace=True)"
   ]
  },
  {
   "cell_type": "code",
   "execution_count": 129,
   "id": "corresponding-search",
   "metadata": {},
   "outputs": [
    {
     "data": {
      "text/plain": [
       "event_appear_uuid         0\n",
       "event_appear_name         0\n",
       "type                      0\n",
       "event_uuid                0\n",
       "event_name                0\n",
       "participant_uuid          0\n",
       "participant_name          0\n",
       "participant_type          0\n",
       "appearance_type           0\n",
       "short_description    359559\n",
       "dtype: int64"
      ]
     },
     "execution_count": 129,
     "metadata": {},
     "output_type": "execute_result"
    }
   ],
   "source": [
    "event_appear_df_v1.isnull().sum(axis=0)"
   ]
  },
  {
   "cell_type": "code",
   "execution_count": 130,
   "id": "experienced-somalia",
   "metadata": {},
   "outputs": [],
   "source": [
    "#save preprocessed file\n",
    "event_appear_df_v1.to_csv(R\"d:/msc-project/data/pre-processed/event_appearances_preprocessed.csv\",encoding='utf-8',index=False)"
   ]
  },
  {
   "cell_type": "markdown",
   "id": "falling-laptop",
   "metadata": {},
   "source": [
    "# People"
   ]
  },
  {
   "cell_type": "code",
   "execution_count": 131,
   "id": "nominated-shopper",
   "metadata": {},
   "outputs": [],
   "source": [
    "#import people.csv\n",
    "people_df = pd.read_csv(R\"d:/msc-project/data/bulk_export_122020/people.csv\",encoding='utf-8')"
   ]
  },
  {
   "cell_type": "code",
   "execution_count": 132,
   "id": "unauthorized-armenia",
   "metadata": {},
   "outputs": [
    {
     "data": {
      "text/plain": [
       "Index(['uuid', 'name', 'type', 'permalink', 'cb_url', 'rank', 'created_at',\n",
       "       'updated_at', 'first_name', 'last_name', 'gender', 'country_code',\n",
       "       'state_code', 'region', 'city', 'featured_job_organization_uuid',\n",
       "       'featured_job_organization_name', 'featured_job_title', 'facebook_url',\n",
       "       'linkedin_url', 'twitter_url', 'logo_url'],\n",
       "      dtype='object')"
      ]
     },
     "execution_count": 132,
     "metadata": {},
     "output_type": "execute_result"
    }
   ],
   "source": [
    "people_df.columns"
   ]
  },
  {
   "cell_type": "code",
   "execution_count": 133,
   "id": "enclosed-syntax",
   "metadata": {},
   "outputs": [],
   "source": [
    "#drop unecessary column\n",
    "people_df_v1 = people_df.drop(columns = ['type', 'permalink', 'cb_url', 'rank', 'created_at',\n",
    "       'updated_at'])"
   ]
  },
  {
   "cell_type": "code",
   "execution_count": 134,
   "id": "bored-component",
   "metadata": {},
   "outputs": [
    {
     "data": {
      "text/plain": [
       "Index(['uuid', 'name', 'first_name', 'last_name', 'gender', 'country_code',\n",
       "       'state_code', 'region', 'city', 'featured_job_organization_uuid',\n",
       "       'featured_job_organization_name', 'featured_job_title', 'facebook_url',\n",
       "       'linkedin_url', 'twitter_url', 'logo_url'],\n",
       "      dtype='object')"
      ]
     },
     "execution_count": 134,
     "metadata": {},
     "output_type": "execute_result"
    }
   ],
   "source": [
    "people_df_v1.columns"
   ]
  },
  {
   "cell_type": "code",
   "execution_count": 135,
   "id": "preceding-database",
   "metadata": {},
   "outputs": [],
   "source": [
    "#change column name\n",
    "people_df_v1.rename (columns = {'uuid':'people_uuid','name':'people_name','featured_job_organization_uuid':'org_uuid'},inplace=True)"
   ]
  },
  {
   "cell_type": "code",
   "execution_count": 136,
   "id": "eleven-bracket",
   "metadata": {},
   "outputs": [
    {
     "data": {
      "text/html": [
       "<div>\n",
       "<style scoped>\n",
       "    .dataframe tbody tr th:only-of-type {\n",
       "        vertical-align: middle;\n",
       "    }\n",
       "\n",
       "    .dataframe tbody tr th {\n",
       "        vertical-align: top;\n",
       "    }\n",
       "\n",
       "    .dataframe thead th {\n",
       "        text-align: right;\n",
       "    }\n",
       "</style>\n",
       "<table border=\"1\" class=\"dataframe\">\n",
       "  <thead>\n",
       "    <tr style=\"text-align: right;\">\n",
       "      <th></th>\n",
       "      <th>people_uuid</th>\n",
       "      <th>people_name</th>\n",
       "      <th>first_name</th>\n",
       "      <th>last_name</th>\n",
       "      <th>gender</th>\n",
       "      <th>country_code</th>\n",
       "      <th>state_code</th>\n",
       "      <th>region</th>\n",
       "      <th>city</th>\n",
       "      <th>org_uuid</th>\n",
       "      <th>featured_job_organization_name</th>\n",
       "      <th>featured_job_title</th>\n",
       "      <th>facebook_url</th>\n",
       "      <th>linkedin_url</th>\n",
       "      <th>twitter_url</th>\n",
       "      <th>logo_url</th>\n",
       "    </tr>\n",
       "  </thead>\n",
       "  <tbody>\n",
       "    <tr>\n",
       "      <th>0</th>\n",
       "      <td>ed13cd36-fe2b-3707-197b-0c2d56e37a71</td>\n",
       "      <td>Ben Elowitz</td>\n",
       "      <td>Ben</td>\n",
       "      <td>Elowitz</td>\n",
       "      <td>male</td>\n",
       "      <td>USA</td>\n",
       "      <td>WA</td>\n",
       "      <td>Washington</td>\n",
       "      <td>Seattle</td>\n",
       "      <td>cf253887-5eac-21a2-28d3-47db7311f7e9</td>\n",
       "      <td>Madrona Venture Group</td>\n",
       "      <td>Managing Director</td>\n",
       "      <td>http://www.facebook.com/elowitz</td>\n",
       "      <td>https://www.linkedin.com/in/elowitz/</td>\n",
       "      <td>http://twitter.com/elowitz</td>\n",
       "      <td>https://res.cloudinary.com/crunchbase-producti...</td>\n",
       "    </tr>\n",
       "    <tr>\n",
       "      <th>1</th>\n",
       "      <td>5ceca97b-493c-1446-6249-5aaa33464763</td>\n",
       "      <td>Kevin Flaherty</td>\n",
       "      <td>Kevin</td>\n",
       "      <td>Flaherty</td>\n",
       "      <td>male</td>\n",
       "      <td>NaN</td>\n",
       "      <td>NaN</td>\n",
       "      <td>NaN</td>\n",
       "      <td>NaN</td>\n",
       "      <td>789e5e4d-0c90-d06e-92a0-b800b461c3da</td>\n",
       "      <td>DRSmedia</td>\n",
       "      <td>Team Member</td>\n",
       "      <td>NaN</td>\n",
       "      <td>http://www.linkedin.com/in/kevinflaherty</td>\n",
       "      <td>https://twitter.com/tallkp</td>\n",
       "      <td>https://res.cloudinary.com/crunchbase-producti...</td>\n",
       "    </tr>\n",
       "    <tr>\n",
       "      <th>2</th>\n",
       "      <td>9f99a98a-aa97-b30b-0d36-db67c1d277e0</td>\n",
       "      <td>Raju Vegesna</td>\n",
       "      <td>Raju</td>\n",
       "      <td>Vegesna</td>\n",
       "      <td>male</td>\n",
       "      <td>USA</td>\n",
       "      <td>CA</td>\n",
       "      <td>California</td>\n",
       "      <td>San Francisco</td>\n",
       "      <td>bf4d7b0e-b34d-2fd8-d292-6049c4f7efc7</td>\n",
       "      <td>Zoho</td>\n",
       "      <td>Chief Evangelist</td>\n",
       "      <td>NaN</td>\n",
       "      <td>https://www.linkedin.com/pub/raju-vegesna/1/65...</td>\n",
       "      <td>NaN</td>\n",
       "      <td>https://res.cloudinary.com/crunchbase-producti...</td>\n",
       "    </tr>\n",
       "  </tbody>\n",
       "</table>\n",
       "</div>"
      ],
      "text/plain": [
       "                            people_uuid     people_name first_name last_name  \\\n",
       "0  ed13cd36-fe2b-3707-197b-0c2d56e37a71     Ben Elowitz        Ben   Elowitz   \n",
       "1  5ceca97b-493c-1446-6249-5aaa33464763  Kevin Flaherty      Kevin  Flaherty   \n",
       "2  9f99a98a-aa97-b30b-0d36-db67c1d277e0    Raju Vegesna       Raju   Vegesna   \n",
       "\n",
       "  gender country_code state_code      region           city  \\\n",
       "0   male          USA         WA  Washington        Seattle   \n",
       "1   male          NaN        NaN         NaN            NaN   \n",
       "2   male          USA         CA  California  San Francisco   \n",
       "\n",
       "                               org_uuid featured_job_organization_name  \\\n",
       "0  cf253887-5eac-21a2-28d3-47db7311f7e9          Madrona Venture Group   \n",
       "1  789e5e4d-0c90-d06e-92a0-b800b461c3da                       DRSmedia   \n",
       "2  bf4d7b0e-b34d-2fd8-d292-6049c4f7efc7                           Zoho   \n",
       "\n",
       "  featured_job_title                     facebook_url  \\\n",
       "0  Managing Director  http://www.facebook.com/elowitz   \n",
       "1        Team Member                              NaN   \n",
       "2   Chief Evangelist                              NaN   \n",
       "\n",
       "                                        linkedin_url  \\\n",
       "0               https://www.linkedin.com/in/elowitz/   \n",
       "1           http://www.linkedin.com/in/kevinflaherty   \n",
       "2  https://www.linkedin.com/pub/raju-vegesna/1/65...   \n",
       "\n",
       "                  twitter_url  \\\n",
       "0  http://twitter.com/elowitz   \n",
       "1  https://twitter.com/tallkp   \n",
       "2                         NaN   \n",
       "\n",
       "                                            logo_url  \n",
       "0  https://res.cloudinary.com/crunchbase-producti...  \n",
       "1  https://res.cloudinary.com/crunchbase-producti...  \n",
       "2  https://res.cloudinary.com/crunchbase-producti...  "
      ]
     },
     "execution_count": 136,
     "metadata": {},
     "output_type": "execute_result"
    }
   ],
   "source": [
    "people_df_v1.head(3)"
   ]
  },
  {
   "cell_type": "code",
   "execution_count": 137,
   "id": "technological-march",
   "metadata": {},
   "outputs": [
    {
     "data": {
      "text/plain": [
       "people_uuid                             0\n",
       "people_name                             0\n",
       "first_name                             31\n",
       "last_name                              30\n",
       "gender                              21326\n",
       "country_code                       481302\n",
       "state_code                         781037\n",
       "region                             526030\n",
       "city                               542070\n",
       "org_uuid                           424214\n",
       "featured_job_organization_name     424215\n",
       "featured_job_title                 424228\n",
       "facebook_url                      1004027\n",
       "linkedin_url                       465506\n",
       "twitter_url                        905142\n",
       "logo_url                           287433\n",
       "dtype: int64"
      ]
     },
     "execution_count": 137,
     "metadata": {},
     "output_type": "execute_result"
    }
   ],
   "source": [
    "#Check number of NA value\n",
    "people_df_v1.isnull().sum(axis=0)"
   ]
  },
  {
   "cell_type": "code",
   "execution_count": 138,
   "id": "psychological-shoot",
   "metadata": {},
   "outputs": [],
   "source": [
    "people_df_v2 = people_df_v1.dropna(subset=['gender','org_uuid'])"
   ]
  },
  {
   "cell_type": "code",
   "execution_count": 139,
   "id": "cooperative-whale",
   "metadata": {},
   "outputs": [
    {
     "data": {
      "text/plain": [
       "673352"
      ]
     },
     "execution_count": 139,
     "metadata": {},
     "output_type": "execute_result"
    }
   ],
   "source": [
    "len(people_df_v2)"
   ]
  },
  {
   "cell_type": "code",
   "execution_count": 140,
   "id": "alpha-words",
   "metadata": {},
   "outputs": [
    {
     "data": {
      "text/plain": [
       "1099621"
      ]
     },
     "execution_count": 140,
     "metadata": {},
     "output_type": "execute_result"
    }
   ],
   "source": [
    "len(people_df)"
   ]
  },
  {
   "cell_type": "markdown",
   "id": "minus-tobacco",
   "metadata": {},
   "source": [
    "# People Description"
   ]
  },
  {
   "cell_type": "code",
   "execution_count": 141,
   "id": "treated-archives",
   "metadata": {},
   "outputs": [],
   "source": [
    "#import people.csv\n",
    "people_desc_df = pd.read_csv(R\"d:/msc-project/data/bulk_export_122020/people_descriptions.csv\",encoding='utf-8')"
   ]
  },
  {
   "cell_type": "code",
   "execution_count": 142,
   "id": "potential-spank",
   "metadata": {},
   "outputs": [
    {
     "data": {
      "text/plain": [
       "Index(['uuid', 'name', 'type', 'permalink', 'cb_url', 'rank', 'created_at',\n",
       "       'updated_at', 'description'],\n",
       "      dtype='object')"
      ]
     },
     "execution_count": 142,
     "metadata": {},
     "output_type": "execute_result"
    }
   ],
   "source": [
    "people_desc_df.columns"
   ]
  },
  {
   "cell_type": "code",
   "execution_count": 143,
   "id": "regulated-hampton",
   "metadata": {},
   "outputs": [],
   "source": [
    "#drop unecessary columns\n",
    "people_desc_df_v1 = people_desc_df.drop (columns=['name', 'type', 'permalink', 'cb_url', 'rank', 'created_at',\n",
    "       'updated_at'])"
   ]
  },
  {
   "cell_type": "code",
   "execution_count": 144,
   "id": "suburban-elder",
   "metadata": {},
   "outputs": [
    {
     "data": {
      "text/plain": [
       "Index(['uuid', 'description'], dtype='object')"
      ]
     },
     "execution_count": 144,
     "metadata": {},
     "output_type": "execute_result"
    }
   ],
   "source": [
    "people_desc_df_v1.columns"
   ]
  },
  {
   "cell_type": "code",
   "execution_count": 145,
   "id": "improving-being",
   "metadata": {},
   "outputs": [],
   "source": [
    "#change column name\n",
    "people_desc_df_v1.rename(columns = {'uuid':'people_uuid'},inplace=True)"
   ]
  },
  {
   "cell_type": "code",
   "execution_count": 146,
   "id": "parallel-grill",
   "metadata": {},
   "outputs": [
    {
     "data": {
      "text/plain": [
       "people_uuid     0\n",
       "description    12\n",
       "dtype: int64"
      ]
     },
     "execution_count": 146,
     "metadata": {},
     "output_type": "execute_result"
    }
   ],
   "source": [
    "#check NA\n",
    "people_desc_df_v1.isnull().sum(axis=0)"
   ]
  },
  {
   "cell_type": "code",
   "execution_count": 147,
   "id": "abandoned-biotechnology",
   "metadata": {},
   "outputs": [],
   "source": [
    "#drop data with NA\n",
    "people_desc_df_v2 = people_desc_df_v1.dropna (subset=['description'])"
   ]
  },
  {
   "cell_type": "code",
   "execution_count": 148,
   "id": "hydraulic-maintenance",
   "metadata": {},
   "outputs": [],
   "source": [
    "#merge with main people data\n",
    "main_people_df_v1 = pd.merge(people_df_v2,\n",
    "                            people_desc_df_v2,\n",
    "                            on='people_uuid',\n",
    "                            how='left')"
   ]
  },
  {
   "cell_type": "code",
   "execution_count": 149,
   "id": "macro-barcelona",
   "metadata": {},
   "outputs": [
    {
     "data": {
      "text/plain": [
       "Index(['people_uuid', 'people_name', 'first_name', 'last_name', 'gender',\n",
       "       'country_code', 'state_code', 'region', 'city', 'org_uuid',\n",
       "       'featured_job_organization_name', 'featured_job_title', 'facebook_url',\n",
       "       'linkedin_url', 'twitter_url', 'logo_url', 'description'],\n",
       "      dtype='object')"
      ]
     },
     "execution_count": 149,
     "metadata": {},
     "output_type": "execute_result"
    }
   ],
   "source": [
    "main_people_df_v1.columns"
   ]
  },
  {
   "cell_type": "code",
   "execution_count": 150,
   "id": "authorized-mining",
   "metadata": {},
   "outputs": [
    {
     "data": {
      "text/plain": [
       "673352"
      ]
     },
     "execution_count": 150,
     "metadata": {},
     "output_type": "execute_result"
    }
   ],
   "source": [
    "len(people_df_v2)"
   ]
  },
  {
   "cell_type": "code",
   "execution_count": 151,
   "id": "local-baker",
   "metadata": {},
   "outputs": [
    {
     "data": {
      "text/plain": [
       "673352"
      ]
     },
     "execution_count": 151,
     "metadata": {},
     "output_type": "execute_result"
    }
   ],
   "source": [
    "len(main_people_df_v1)"
   ]
  },
  {
   "cell_type": "code",
   "execution_count": 152,
   "id": "thrown-cricket",
   "metadata": {},
   "outputs": [],
   "source": [
    "#save preprocessed file\n",
    "#people + people description\n",
    "main_people_df_v1.to_csv(R\"d:/msc-project/data/pre-processed/people_preprocessed.csv\",encoding='utf-8',index=False)"
   ]
  },
  {
   "cell_type": "markdown",
   "id": "sonic-entrepreneur",
   "metadata": {},
   "source": [
    "# Degrees"
   ]
  },
  {
   "cell_type": "code",
   "execution_count": 153,
   "id": "interesting-assumption",
   "metadata": {},
   "outputs": [],
   "source": [
    "#import degress.csv\n",
    "deg_df = pd.read_csv(R\"d:/msc-project/data/bulk_export_122020/degrees.csv\",encoding='utf-8')"
   ]
  },
  {
   "cell_type": "code",
   "execution_count": 154,
   "id": "monthly-opening",
   "metadata": {},
   "outputs": [
    {
     "data": {
      "text/plain": [
       "Index(['uuid', 'name', 'type', 'permalink', 'cb_url', 'rank', 'created_at',\n",
       "       'updated_at', 'person_uuid', 'person_name', 'institution_uuid',\n",
       "       'institution_name', 'degree_type', 'subject', 'started_on',\n",
       "       'completed_on', 'is_completed'],\n",
       "      dtype='object')"
      ]
     },
     "execution_count": 154,
     "metadata": {},
     "output_type": "execute_result"
    }
   ],
   "source": [
    "deg_df.columns"
   ]
  },
  {
   "cell_type": "code",
   "execution_count": 155,
   "id": "persistent-rhythm",
   "metadata": {},
   "outputs": [
    {
     "data": {
      "text/html": [
       "<div>\n",
       "<style scoped>\n",
       "    .dataframe tbody tr th:only-of-type {\n",
       "        vertical-align: middle;\n",
       "    }\n",
       "\n",
       "    .dataframe tbody tr th {\n",
       "        vertical-align: top;\n",
       "    }\n",
       "\n",
       "    .dataframe thead th {\n",
       "        text-align: right;\n",
       "    }\n",
       "</style>\n",
       "<table border=\"1\" class=\"dataframe\">\n",
       "  <thead>\n",
       "    <tr style=\"text-align: right;\">\n",
       "      <th></th>\n",
       "      <th>uuid</th>\n",
       "      <th>name</th>\n",
       "      <th>type</th>\n",
       "      <th>permalink</th>\n",
       "      <th>cb_url</th>\n",
       "      <th>rank</th>\n",
       "      <th>created_at</th>\n",
       "      <th>updated_at</th>\n",
       "      <th>person_uuid</th>\n",
       "      <th>person_name</th>\n",
       "      <th>institution_uuid</th>\n",
       "      <th>institution_name</th>\n",
       "      <th>degree_type</th>\n",
       "      <th>subject</th>\n",
       "      <th>started_on</th>\n",
       "      <th>completed_on</th>\n",
       "      <th>is_completed</th>\n",
       "    </tr>\n",
       "  </thead>\n",
       "  <tbody>\n",
       "    <tr>\n",
       "      <th>0</th>\n",
       "      <td>205fdfd1-ecac-aa43-262f-219f11755f67</td>\n",
       "      <td>MS  Mass Communication @ Boston University</td>\n",
       "      <td>degree</td>\n",
       "      <td>NaN</td>\n",
       "      <td>NaN</td>\n",
       "      <td>NaN</td>\n",
       "      <td>2008-02-19 17:58:31</td>\n",
       "      <td>2018-02-13 01:40:03</td>\n",
       "      <td>4897dba9-3141-ecc0-2c4b-c9d844e6440f</td>\n",
       "      <td>John Green</td>\n",
       "      <td>1eab62d2-15d9-0db7-930f-2aa77d4688e1</td>\n",
       "      <td>Boston University</td>\n",
       "      <td>MS</td>\n",
       "      <td>Mass Communication</td>\n",
       "      <td>NaN</td>\n",
       "      <td>1992-01-01</td>\n",
       "      <td>True</td>\n",
       "    </tr>\n",
       "    <tr>\n",
       "      <th>1</th>\n",
       "      <td>1a2ac288-eb99-3318-fde5-1517bc168f51</td>\n",
       "      <td>BA  English, French @ Washington University in...</td>\n",
       "      <td>degree</td>\n",
       "      <td>NaN</td>\n",
       "      <td>NaN</td>\n",
       "      <td>NaN</td>\n",
       "      <td>2008-02-19 17:58:31</td>\n",
       "      <td>2018-02-13 01:39:57</td>\n",
       "      <td>4897dba9-3141-ecc0-2c4b-c9d844e6440f</td>\n",
       "      <td>John Green</td>\n",
       "      <td>6ae9957a-8fb4-0ab1-73fa-dd547c4d3da4</td>\n",
       "      <td>Washington University in St. Louis</td>\n",
       "      <td>BA</td>\n",
       "      <td>English, French</td>\n",
       "      <td>NaN</td>\n",
       "      <td>1990-01-01</td>\n",
       "      <td>True</td>\n",
       "    </tr>\n",
       "  </tbody>\n",
       "</table>\n",
       "</div>"
      ],
      "text/plain": [
       "                                   uuid  \\\n",
       "0  205fdfd1-ecac-aa43-262f-219f11755f67   \n",
       "1  1a2ac288-eb99-3318-fde5-1517bc168f51   \n",
       "\n",
       "                                                name    type  permalink  \\\n",
       "0         MS  Mass Communication @ Boston University  degree        NaN   \n",
       "1  BA  English, French @ Washington University in...  degree        NaN   \n",
       "\n",
       "   cb_url  rank           created_at           updated_at  \\\n",
       "0     NaN   NaN  2008-02-19 17:58:31  2018-02-13 01:40:03   \n",
       "1     NaN   NaN  2008-02-19 17:58:31  2018-02-13 01:39:57   \n",
       "\n",
       "                            person_uuid person_name  \\\n",
       "0  4897dba9-3141-ecc0-2c4b-c9d844e6440f  John Green   \n",
       "1  4897dba9-3141-ecc0-2c4b-c9d844e6440f  John Green   \n",
       "\n",
       "                       institution_uuid                    institution_name  \\\n",
       "0  1eab62d2-15d9-0db7-930f-2aa77d4688e1                   Boston University   \n",
       "1  6ae9957a-8fb4-0ab1-73fa-dd547c4d3da4  Washington University in St. Louis   \n",
       "\n",
       "  degree_type             subject started_on completed_on  is_completed  \n",
       "0          MS  Mass Communication        NaN   1992-01-01          True  \n",
       "1          BA     English, French        NaN   1990-01-01          True  "
      ]
     },
     "execution_count": 155,
     "metadata": {},
     "output_type": "execute_result"
    }
   ],
   "source": [
    "deg_df.head(2)"
   ]
  },
  {
   "cell_type": "code",
   "execution_count": 156,
   "id": "through-attitude",
   "metadata": {},
   "outputs": [],
   "source": [
    "#drop uncessary columns\n",
    "deg_df_v1 = deg_df.drop(columns = ['type', 'permalink', 'cb_url', 'rank', 'created_at',\n",
    "       'updated_at'])"
   ]
  },
  {
   "cell_type": "code",
   "execution_count": 157,
   "id": "married-playback",
   "metadata": {},
   "outputs": [
    {
     "data": {
      "text/plain": [
       "Index(['uuid', 'name', 'person_uuid', 'person_name', 'institution_uuid',\n",
       "       'institution_name', 'degree_type', 'subject', 'started_on',\n",
       "       'completed_on', 'is_completed'],\n",
       "      dtype='object')"
      ]
     },
     "execution_count": 157,
     "metadata": {},
     "output_type": "execute_result"
    }
   ],
   "source": [
    "deg_df_v1.columns"
   ]
  },
  {
   "cell_type": "code",
   "execution_count": 158,
   "id": "centered-catalog",
   "metadata": {},
   "outputs": [],
   "source": [
    "#change column name\n",
    "deg_df_v1.rename(columns = {'uuid':'deg_uuid','name':'deg_name','person_uuid':'people_uuid'},inplace=True)"
   ]
  },
  {
   "cell_type": "code",
   "execution_count": 159,
   "id": "occupied-search",
   "metadata": {},
   "outputs": [
    {
     "data": {
      "text/plain": [
       "Index(['deg_uuid', 'deg_name', 'people_uuid', 'person_name',\n",
       "       'institution_uuid', 'institution_name', 'degree_type', 'subject',\n",
       "       'started_on', 'completed_on', 'is_completed'],\n",
       "      dtype='object')"
      ]
     },
     "execution_count": 159,
     "metadata": {},
     "output_type": "execute_result"
    }
   ],
   "source": [
    "deg_df_v1.columns"
   ]
  },
  {
   "cell_type": "code",
   "execution_count": 160,
   "id": "close-insight",
   "metadata": {},
   "outputs": [
    {
     "data": {
      "text/plain": [
       "deg_uuid                 0\n",
       "deg_name             30043\n",
       "people_uuid              0\n",
       "person_name              0\n",
       "institution_uuid         0\n",
       "institution_name         0\n",
       "degree_type          11767\n",
       "subject              27049\n",
       "started_on          221885\n",
       "completed_on        169164\n",
       "is_completed             0\n",
       "dtype: int64"
      ]
     },
     "execution_count": 160,
     "metadata": {},
     "output_type": "execute_result"
    }
   ],
   "source": [
    "deg_df_v1.replace(to_replace='unknown',value='NaN',inplace=True)\n",
    "deg_df_v1.replace(to_replace='Unknown',value='NaN',inplace=True)\n",
    "deg_df_v1.isnull().sum(axis=0)"
   ]
  },
  {
   "cell_type": "code",
   "execution_count": 161,
   "id": "functional-atlas",
   "metadata": {},
   "outputs": [],
   "source": [
    "deg_df_v2 = deg_df_v1[deg_df_v1.is_completed]"
   ]
  },
  {
   "cell_type": "code",
   "execution_count": 162,
   "id": "common-adult",
   "metadata": {},
   "outputs": [],
   "source": [
    "#drop degree with no degree type and subject\n",
    "deg_df_v3 = deg_df_v2.dropna(subset=['degree_type','subject'])"
   ]
  },
  {
   "cell_type": "code",
   "execution_count": 163,
   "id": "piano-bearing",
   "metadata": {},
   "outputs": [
    {
     "data": {
      "text/plain": [
       "deg_uuid                0\n",
       "deg_name                0\n",
       "people_uuid             0\n",
       "person_name             0\n",
       "institution_uuid        0\n",
       "institution_name        0\n",
       "degree_type             0\n",
       "subject                 0\n",
       "started_on          54801\n",
       "completed_on            0\n",
       "is_completed            0\n",
       "dtype: int64"
      ]
     },
     "execution_count": 163,
     "metadata": {},
     "output_type": "execute_result"
    }
   ],
   "source": [
    "deg_df_v3.isnull().sum(axis=0)"
   ]
  },
  {
   "cell_type": "code",
   "execution_count": 164,
   "id": "automotive-breakfast",
   "metadata": {},
   "outputs": [
    {
     "data": {
      "text/plain": [
       "369516"
      ]
     },
     "execution_count": 164,
     "metadata": {},
     "output_type": "execute_result"
    }
   ],
   "source": [
    "len(deg_df)"
   ]
  },
  {
   "cell_type": "code",
   "execution_count": 165,
   "id": "editorial-scratch",
   "metadata": {},
   "outputs": [
    {
     "data": {
      "text/plain": [
       "186941"
      ]
     },
     "execution_count": 165,
     "metadata": {},
     "output_type": "execute_result"
    }
   ],
   "source": [
    "len(deg_df_v3)"
   ]
  },
  {
   "cell_type": "code",
   "execution_count": 166,
   "id": "pointed-river",
   "metadata": {},
   "outputs": [
    {
     "name": "stderr",
     "output_type": "stream",
     "text": [
      "C:\\Users\\Abdul Rahim Ab Ghani\\miniconda3\\lib\\site-packages\\ipykernel_launcher.py:34: SettingWithCopyWarning: \n",
      "A value is trying to be set on a copy of a slice from a DataFrame.\n",
      "Try using .loc[row_indexer,col_indexer] = value instead\n",
      "\n",
      "See the caveats in the documentation: https://pandas.pydata.org/pandas-docs/stable/user_guide/indexing.html#returning-a-view-versus-a-copy\n",
      "C:\\Users\\Abdul Rahim Ab Ghani\\miniconda3\\lib\\site-packages\\ipykernel_launcher.py:35: SettingWithCopyWarning: \n",
      "A value is trying to be set on a copy of a slice from a DataFrame.\n",
      "Try using .loc[row_indexer,col_indexer] = value instead\n",
      "\n",
      "See the caveats in the documentation: https://pandas.pydata.org/pandas-docs/stable/user_guide/indexing.html#returning-a-view-versus-a-copy\n",
      "C:\\Users\\Abdul Rahim Ab Ghani\\miniconda3\\lib\\site-packages\\ipykernel_launcher.py:36: SettingWithCopyWarning: \n",
      "A value is trying to be set on a copy of a slice from a DataFrame.\n",
      "Try using .loc[row_indexer,col_indexer] = value instead\n",
      "\n",
      "See the caveats in the documentation: https://pandas.pydata.org/pandas-docs/stable/user_guide/indexing.html#returning-a-view-versus-a-copy\n"
     ]
    }
   ],
   "source": [
    "#classify degree type by one hot encode for bachelor, masters, and phd\n",
    "is_bachelor = list ()\n",
    "is_master = list ()\n",
    "is_phd = list ()\n",
    "\n",
    "for deg in list (deg_df_v3.degree_type):\n",
    "    deg = re.sub('[^A-Za-z]+', '', str(deg).lower())\n",
    "    \n",
    "    if deg == '':\n",
    "        is_bachelor.append (0)\n",
    "        is_master.append(0)\n",
    "        is_phd.append(0)\n",
    "    \n",
    "    elif deg[0] == 'b' or 'bachelor' in deg or 'bsc' in deg: \n",
    "        is_bachelor.append (1)\n",
    "        is_master.append(0)\n",
    "        is_phd.append(0)\n",
    "    \n",
    "    elif deg[0] == 'm' or 'master' in deg or 'msc' in deg:\n",
    "        is_master.append(1)\n",
    "        is_bachelor.append (0)\n",
    "        is_phd.append(0)\n",
    "    \n",
    "    elif 'phd' in deg or 'doctor' in deg:\n",
    "        is_phd.append(1)\n",
    "        is_bachelor.append (0)\n",
    "        is_master.append(0)\n",
    "    \n",
    "    else:\n",
    "        is_bachelor.append (0)\n",
    "        is_master.append(0)\n",
    "        is_phd.append(0)\n",
    "    \n",
    "deg_df_v3['is_bachelor'] = is_bachelor\n",
    "deg_df_v3['is_master'] = is_master\n",
    "deg_df_v3['is_phd'] = is_phd"
   ]
  },
  {
   "cell_type": "code",
   "execution_count": 167,
   "id": "consolidated-rating",
   "metadata": {},
   "outputs": [
    {
     "data": {
      "text/plain": [
       "Index(['deg_uuid', 'deg_name', 'people_uuid', 'person_name',\n",
       "       'institution_uuid', 'institution_name', 'degree_type', 'subject',\n",
       "       'started_on', 'completed_on', 'is_completed', 'is_bachelor',\n",
       "       'is_master', 'is_phd'],\n",
       "      dtype='object')"
      ]
     },
     "execution_count": 167,
     "metadata": {},
     "output_type": "execute_result"
    }
   ],
   "source": [
    "deg_df_v3.columns"
   ]
  },
  {
   "cell_type": "code",
   "execution_count": 168,
   "id": "swiss-australia",
   "metadata": {},
   "outputs": [
    {
     "data": {
      "text/plain": [
       "369516"
      ]
     },
     "execution_count": 168,
     "metadata": {},
     "output_type": "execute_result"
    }
   ],
   "source": [
    "len(deg_df)"
   ]
  },
  {
   "cell_type": "code",
   "execution_count": 169,
   "id": "turned-belfast",
   "metadata": {},
   "outputs": [
    {
     "data": {
      "text/plain": [
       "186941"
      ]
     },
     "execution_count": 169,
     "metadata": {},
     "output_type": "execute_result"
    }
   ],
   "source": [
    "len(deg_df_v3)"
   ]
  },
  {
   "cell_type": "code",
   "execution_count": 170,
   "id": "sapphire-ozone",
   "metadata": {},
   "outputs": [
    {
     "data": {
      "text/plain": [
       "87800"
      ]
     },
     "execution_count": 170,
     "metadata": {},
     "output_type": "execute_result"
    }
   ],
   "source": [
    "list(deg_df_v3.is_bachelor).count(1)"
   ]
  },
  {
   "cell_type": "code",
   "execution_count": 171,
   "id": "integral-peoples",
   "metadata": {},
   "outputs": [
    {
     "data": {
      "text/plain": [
       "59649"
      ]
     },
     "execution_count": 171,
     "metadata": {},
     "output_type": "execute_result"
    }
   ],
   "source": [
    "list(deg_df_v3.is_master).count(1)"
   ]
  },
  {
   "cell_type": "code",
   "execution_count": 172,
   "id": "headed-islam",
   "metadata": {},
   "outputs": [
    {
     "data": {
      "text/plain": [
       "11118"
      ]
     },
     "execution_count": 172,
     "metadata": {},
     "output_type": "execute_result"
    }
   ],
   "source": [
    "list(deg_df_v3.is_phd).count(1)"
   ]
  },
  {
   "cell_type": "code",
   "execution_count": 173,
   "id": "apart-mustang",
   "metadata": {},
   "outputs": [
    {
     "data": {
      "text/plain": [
       "3894"
      ]
     },
     "execution_count": 173,
     "metadata": {},
     "output_type": "execute_result"
    }
   ],
   "source": [
    "len(deg_df_v3[(deg_df_v3.is_bachelor == 0) & (deg_df_v3.is_master == 0) & (deg_df_v3.is_phd == 0)].degree_type.unique())"
   ]
  },
  {
   "cell_type": "code",
   "execution_count": 174,
   "id": "opening-finance",
   "metadata": {},
   "outputs": [],
   "source": [
    "#save preprocessed file\n",
    "deg_df_v3.to_csv(R\"d:/msc-project/data/pre-processed/degrees_preprocessed.csv\",encoding='utf-8',index=False)"
   ]
  },
  {
   "cell_type": "markdown",
   "id": "chicken-muslim",
   "metadata": {},
   "source": [
    "# Jobs"
   ]
  },
  {
   "cell_type": "code",
   "execution_count": 175,
   "id": "uniform-participation",
   "metadata": {},
   "outputs": [],
   "source": [
    "#import jobs.csv\n",
    "jobs_df = pd.read_csv(R\"d:/msc-project/data/bulk_export_122020/jobs.csv\",encoding='utf-8')"
   ]
  },
  {
   "cell_type": "code",
   "execution_count": 176,
   "id": "apart-welsh",
   "metadata": {},
   "outputs": [
    {
     "data": {
      "text/plain": [
       "Index(['uuid', 'name', 'type', 'permalink', 'cb_url', 'rank', 'created_at',\n",
       "       'updated_at', 'person_uuid', 'person_name', 'org_uuid', 'org_name',\n",
       "       'started_on', 'ended_on', 'is_current', 'title', 'job_type'],\n",
       "      dtype='object')"
      ]
     },
     "execution_count": 176,
     "metadata": {},
     "output_type": "execute_result"
    }
   ],
   "source": [
    "jobs_df.columns"
   ]
  },
  {
   "cell_type": "code",
   "execution_count": 177,
   "id": "acknowledged-auction",
   "metadata": {},
   "outputs": [
    {
     "data": {
      "text/html": [
       "<div>\n",
       "<style scoped>\n",
       "    .dataframe tbody tr th:only-of-type {\n",
       "        vertical-align: middle;\n",
       "    }\n",
       "\n",
       "    .dataframe tbody tr th {\n",
       "        vertical-align: top;\n",
       "    }\n",
       "\n",
       "    .dataframe thead th {\n",
       "        text-align: right;\n",
       "    }\n",
       "</style>\n",
       "<table border=\"1\" class=\"dataframe\">\n",
       "  <thead>\n",
       "    <tr style=\"text-align: right;\">\n",
       "      <th></th>\n",
       "      <th>uuid</th>\n",
       "      <th>name</th>\n",
       "      <th>type</th>\n",
       "      <th>permalink</th>\n",
       "      <th>cb_url</th>\n",
       "      <th>rank</th>\n",
       "      <th>created_at</th>\n",
       "      <th>updated_at</th>\n",
       "      <th>person_uuid</th>\n",
       "      <th>person_name</th>\n",
       "      <th>org_uuid</th>\n",
       "      <th>org_name</th>\n",
       "      <th>started_on</th>\n",
       "      <th>ended_on</th>\n",
       "      <th>is_current</th>\n",
       "      <th>title</th>\n",
       "      <th>job_type</th>\n",
       "    </tr>\n",
       "  </thead>\n",
       "  <tbody>\n",
       "    <tr>\n",
       "      <th>0</th>\n",
       "      <td>697b6934-fc1f-9d63-cfb2-1a10759b378e</td>\n",
       "      <td>Ben Elowitz Co-Founder/CEO/Board of Directors ...</td>\n",
       "      <td>job</td>\n",
       "      <td>ben-elowitz-executive-wetpaint--697b6934</td>\n",
       "      <td>https://www.crunchbase.com/job/ben-elowitz-exe...</td>\n",
       "      <td>NaN</td>\n",
       "      <td>2007-05-25 07:03:54</td>\n",
       "      <td>2018-02-13 01:26:54</td>\n",
       "      <td>ed13cd36-fe2b-3707-197b-0c2d56e37a71</td>\n",
       "      <td>Ben Elowitz</td>\n",
       "      <td>e1393508-30ea-8a36-3f96-dd3226033abd</td>\n",
       "      <td>Wetpaint</td>\n",
       "      <td>NaN</td>\n",
       "      <td>NaN</td>\n",
       "      <td>False</td>\n",
       "      <td>Co-Founder/CEO/Board of Directors</td>\n",
       "      <td>executive</td>\n",
       "    </tr>\n",
       "  </tbody>\n",
       "</table>\n",
       "</div>"
      ],
      "text/plain": [
       "                                   uuid  \\\n",
       "0  697b6934-fc1f-9d63-cfb2-1a10759b378e   \n",
       "\n",
       "                                                name type  \\\n",
       "0  Ben Elowitz Co-Founder/CEO/Board of Directors ...  job   \n",
       "\n",
       "                                  permalink  \\\n",
       "0  ben-elowitz-executive-wetpaint--697b6934   \n",
       "\n",
       "                                              cb_url  rank  \\\n",
       "0  https://www.crunchbase.com/job/ben-elowitz-exe...   NaN   \n",
       "\n",
       "            created_at           updated_at  \\\n",
       "0  2007-05-25 07:03:54  2018-02-13 01:26:54   \n",
       "\n",
       "                            person_uuid  person_name  \\\n",
       "0  ed13cd36-fe2b-3707-197b-0c2d56e37a71  Ben Elowitz   \n",
       "\n",
       "                               org_uuid  org_name started_on ended_on  \\\n",
       "0  e1393508-30ea-8a36-3f96-dd3226033abd  Wetpaint        NaN      NaN   \n",
       "\n",
       "   is_current                              title   job_type  \n",
       "0       False  Co-Founder/CEO/Board of Directors  executive  "
      ]
     },
     "execution_count": 177,
     "metadata": {},
     "output_type": "execute_result"
    }
   ],
   "source": [
    "jobs_df.head(1)"
   ]
  },
  {
   "cell_type": "code",
   "execution_count": 178,
   "id": "commercial-victim",
   "metadata": {},
   "outputs": [],
   "source": [
    "#drop unecessary columns\n",
    "jobs_df_v1 = jobs_df.drop(columns=['type', 'permalink', 'cb_url', 'rank', 'created_at',\n",
    "       'updated_at'])"
   ]
  },
  {
   "cell_type": "code",
   "execution_count": 179,
   "id": "unauthorized-mattress",
   "metadata": {},
   "outputs": [
    {
     "data": {
      "text/plain": [
       "Index(['uuid', 'name', 'person_uuid', 'person_name', 'org_uuid', 'org_name',\n",
       "       'started_on', 'ended_on', 'is_current', 'title', 'job_type'],\n",
       "      dtype='object')"
      ]
     },
     "execution_count": 179,
     "metadata": {},
     "output_type": "execute_result"
    }
   ],
   "source": [
    "jobs_df_v1.columns"
   ]
  },
  {
   "cell_type": "code",
   "execution_count": 180,
   "id": "valuable-flush",
   "metadata": {},
   "outputs": [],
   "source": [
    "#change columns name\n",
    "jobs_df_v1.rename(columns={'uuid':'job_uuid','name':'job_name','person_uuid':'people_uuid'},inplace=True)"
   ]
  },
  {
   "cell_type": "code",
   "execution_count": 181,
   "id": "american-deadline",
   "metadata": {},
   "outputs": [
    {
     "data": {
      "text/plain": [
       "Index(['job_uuid', 'job_name', 'people_uuid', 'person_name', 'org_uuid',\n",
       "       'org_name', 'started_on', 'ended_on', 'is_current', 'title',\n",
       "       'job_type'],\n",
       "      dtype='object')"
      ]
     },
     "execution_count": 181,
     "metadata": {},
     "output_type": "execute_result"
    }
   ],
   "source": [
    "jobs_df_v1.columns"
   ]
  },
  {
   "cell_type": "code",
   "execution_count": 182,
   "id": "prospective-share",
   "metadata": {},
   "outputs": [
    {
     "data": {
      "text/html": [
       "<div>\n",
       "<style scoped>\n",
       "    .dataframe tbody tr th:only-of-type {\n",
       "        vertical-align: middle;\n",
       "    }\n",
       "\n",
       "    .dataframe tbody tr th {\n",
       "        vertical-align: top;\n",
       "    }\n",
       "\n",
       "    .dataframe thead th {\n",
       "        text-align: right;\n",
       "    }\n",
       "</style>\n",
       "<table border=\"1\" class=\"dataframe\">\n",
       "  <thead>\n",
       "    <tr style=\"text-align: right;\">\n",
       "      <th></th>\n",
       "      <th>job_uuid</th>\n",
       "      <th>job_name</th>\n",
       "      <th>people_uuid</th>\n",
       "      <th>person_name</th>\n",
       "      <th>org_uuid</th>\n",
       "      <th>org_name</th>\n",
       "      <th>started_on</th>\n",
       "      <th>ended_on</th>\n",
       "      <th>is_current</th>\n",
       "      <th>title</th>\n",
       "      <th>job_type</th>\n",
       "    </tr>\n",
       "  </thead>\n",
       "  <tbody>\n",
       "    <tr>\n",
       "      <th>0</th>\n",
       "      <td>697b6934-fc1f-9d63-cfb2-1a10759b378e</td>\n",
       "      <td>Ben Elowitz Co-Founder/CEO/Board of Directors ...</td>\n",
       "      <td>ed13cd36-fe2b-3707-197b-0c2d56e37a71</td>\n",
       "      <td>Ben Elowitz</td>\n",
       "      <td>e1393508-30ea-8a36-3f96-dd3226033abd</td>\n",
       "      <td>Wetpaint</td>\n",
       "      <td>NaN</td>\n",
       "      <td>NaN</td>\n",
       "      <td>False</td>\n",
       "      <td>Co-Founder/CEO/Board of Directors</td>\n",
       "      <td>executive</td>\n",
       "    </tr>\n",
       "    <tr>\n",
       "      <th>1</th>\n",
       "      <td>b1de3765-442e-b556-9304-551c2a055901</td>\n",
       "      <td>Kevin Flaherty VP Marketing @ Wetpaint</td>\n",
       "      <td>5ceca97b-493c-1446-6249-5aaa33464763</td>\n",
       "      <td>Kevin Flaherty</td>\n",
       "      <td>e1393508-30ea-8a36-3f96-dd3226033abd</td>\n",
       "      <td>Wetpaint</td>\n",
       "      <td>NaN</td>\n",
       "      <td>NaN</td>\n",
       "      <td>False</td>\n",
       "      <td>VP Marketing</td>\n",
       "      <td>executive</td>\n",
       "    </tr>\n",
       "    <tr>\n",
       "      <th>2</th>\n",
       "      <td>1319cd30-f5e8-c700-0af6-64029c6f7124</td>\n",
       "      <td>Raju Vegesna Chief Evangelist @ Zoho</td>\n",
       "      <td>9f99a98a-aa97-b30b-0d36-db67c1d277e0</td>\n",
       "      <td>Raju Vegesna</td>\n",
       "      <td>bf4d7b0e-b34d-2fd8-d292-6049c4f7efc7</td>\n",
       "      <td>Zoho</td>\n",
       "      <td>2000-11-01</td>\n",
       "      <td>NaN</td>\n",
       "      <td>True</td>\n",
       "      <td>Chief Evangelist</td>\n",
       "      <td>employee</td>\n",
       "    </tr>\n",
       "  </tbody>\n",
       "</table>\n",
       "</div>"
      ],
      "text/plain": [
       "                               job_uuid  \\\n",
       "0  697b6934-fc1f-9d63-cfb2-1a10759b378e   \n",
       "1  b1de3765-442e-b556-9304-551c2a055901   \n",
       "2  1319cd30-f5e8-c700-0af6-64029c6f7124   \n",
       "\n",
       "                                            job_name  \\\n",
       "0  Ben Elowitz Co-Founder/CEO/Board of Directors ...   \n",
       "1             Kevin Flaherty VP Marketing @ Wetpaint   \n",
       "2               Raju Vegesna Chief Evangelist @ Zoho   \n",
       "\n",
       "                            people_uuid     person_name  \\\n",
       "0  ed13cd36-fe2b-3707-197b-0c2d56e37a71     Ben Elowitz   \n",
       "1  5ceca97b-493c-1446-6249-5aaa33464763  Kevin Flaherty   \n",
       "2  9f99a98a-aa97-b30b-0d36-db67c1d277e0    Raju Vegesna   \n",
       "\n",
       "                               org_uuid  org_name  started_on ended_on  \\\n",
       "0  e1393508-30ea-8a36-3f96-dd3226033abd  Wetpaint         NaN      NaN   \n",
       "1  e1393508-30ea-8a36-3f96-dd3226033abd  Wetpaint         NaN      NaN   \n",
       "2  bf4d7b0e-b34d-2fd8-d292-6049c4f7efc7      Zoho  2000-11-01      NaN   \n",
       "\n",
       "   is_current                              title   job_type  \n",
       "0       False  Co-Founder/CEO/Board of Directors  executive  \n",
       "1       False                       VP Marketing  executive  \n",
       "2        True                   Chief Evangelist   employee  "
      ]
     },
     "execution_count": 182,
     "metadata": {},
     "output_type": "execute_result"
    }
   ],
   "source": [
    "jobs_df_v1.head(3)"
   ]
  },
  {
   "cell_type": "code",
   "execution_count": 183,
   "id": "proud-musician",
   "metadata": {},
   "outputs": [
    {
     "data": {
      "text/plain": [
       "1581722"
      ]
     },
     "execution_count": 183,
     "metadata": {},
     "output_type": "execute_result"
    }
   ],
   "source": [
    "len(jobs_df)"
   ]
  },
  {
   "cell_type": "code",
   "execution_count": 184,
   "id": "beginning-monday",
   "metadata": {},
   "outputs": [
    {
     "data": {
      "text/plain": [
       "job_uuid             0\n",
       "job_name             0\n",
       "people_uuid          0\n",
       "person_name          0\n",
       "org_uuid             0\n",
       "org_name             4\n",
       "started_on      797881\n",
       "ended_on       1288569\n",
       "is_current           0\n",
       "title               81\n",
       "job_type             0\n",
       "dtype: int64"
      ]
     },
     "execution_count": 184,
     "metadata": {},
     "output_type": "execute_result"
    }
   ],
   "source": [
    "jobs_df_v1.isnull().sum(axis=0)"
   ]
  },
  {
   "cell_type": "code",
   "execution_count": 185,
   "id": "advisory-ticket",
   "metadata": {},
   "outputs": [],
   "source": [
    "#drop null in job_title\n",
    "jobs_df_v2 = jobs_df_v1.dropna(subset=['title'])"
   ]
  },
  {
   "cell_type": "code",
   "execution_count": 186,
   "id": "involved-squad",
   "metadata": {},
   "outputs": [
    {
     "data": {
      "text/plain": [
       "Index(['job_uuid', 'job_name', 'people_uuid', 'person_name', 'org_uuid',\n",
       "       'org_name', 'started_on', 'ended_on', 'is_current', 'title',\n",
       "       'job_type'],\n",
       "      dtype='object')"
      ]
     },
     "execution_count": 186,
     "metadata": {},
     "output_type": "execute_result"
    }
   ],
   "source": [
    "jobs_df_v2.columns"
   ]
  },
  {
   "cell_type": "code",
   "execution_count": 187,
   "id": "engaging-criminal",
   "metadata": {},
   "outputs": [
    {
     "name": "stderr",
     "output_type": "stream",
     "text": [
      "C:\\Users\\Abdul Rahim Ab Ghani\\miniconda3\\lib\\site-packages\\ipykernel_launcher.py:10: SettingWithCopyWarning: \n",
      "A value is trying to be set on a copy of a slice from a DataFrame.\n",
      "Try using .loc[row_indexer,col_indexer] = value instead\n",
      "\n",
      "See the caveats in the documentation: https://pandas.pydata.org/pandas-docs/stable/user_guide/indexing.html#returning-a-view-versus-a-copy\n",
      "  # Remove the CWD from sys.path while we load stuff.\n"
     ]
    }
   ],
   "source": [
    "#create founder column, 1 for founder role, 0 for non founder role\n",
    "is_founder = list()\n",
    "\n",
    "for title in list(jobs_df_v2.title):\n",
    "    if 'founder' in str(title).lower():\n",
    "        is_founder.append(1)\n",
    "    else:\n",
    "        is_founder.append(0)\n",
    "        \n",
    "jobs_df_v2['is_founder'] = is_founder"
   ]
  },
  {
   "cell_type": "code",
   "execution_count": 188,
   "id": "precise-blowing",
   "metadata": {
    "scrolled": true
   },
   "outputs": [
    {
     "data": {
      "text/plain": [
       "Index(['job_uuid', 'job_name', 'people_uuid', 'person_name', 'org_uuid',\n",
       "       'org_name', 'started_on', 'ended_on', 'is_current', 'title', 'job_type',\n",
       "       'is_founder'],\n",
       "      dtype='object')"
      ]
     },
     "execution_count": 188,
     "metadata": {},
     "output_type": "execute_result"
    }
   ],
   "source": [
    "jobs_df_v2.columns"
   ]
  },
  {
   "cell_type": "code",
   "execution_count": 189,
   "id": "alternative-policy",
   "metadata": {},
   "outputs": [
    {
     "data": {
      "text/plain": [
       "1581722"
      ]
     },
     "execution_count": 189,
     "metadata": {},
     "output_type": "execute_result"
    }
   ],
   "source": [
    "len(jobs_df)"
   ]
  },
  {
   "cell_type": "code",
   "execution_count": 190,
   "id": "hybrid-field",
   "metadata": {},
   "outputs": [
    {
     "data": {
      "text/plain": [
       "1581641"
      ]
     },
     "execution_count": 190,
     "metadata": {},
     "output_type": "execute_result"
    }
   ],
   "source": [
    "len(jobs_df_v2)"
   ]
  },
  {
   "cell_type": "code",
   "execution_count": 191,
   "id": "soviet-financing",
   "metadata": {},
   "outputs": [
    {
     "data": {
      "text/plain": [
       "332569"
      ]
     },
     "execution_count": 191,
     "metadata": {},
     "output_type": "execute_result"
    }
   ],
   "source": [
    "jobs_df_v2.is_founder.sum()"
   ]
  },
  {
   "cell_type": "code",
   "execution_count": 192,
   "id": "coordinate-merchandise",
   "metadata": {},
   "outputs": [
    {
     "data": {
      "text/plain": [
       "437075"
      ]
     },
     "execution_count": 192,
     "metadata": {},
     "output_type": "execute_result"
    }
   ],
   "source": [
    "len(jobs_df_v2.org_uuid.unique())"
   ]
  },
  {
   "cell_type": "code",
   "execution_count": 193,
   "id": "available-runner",
   "metadata": {},
   "outputs": [],
   "source": [
    "#save file\n",
    "jobs_df_v2.to_csv(R\"d:/msc-project/data/pre-processed/jobs_preprocessed.csv\",encoding='utf-8',index=False)"
   ]
  }
 ],
 "metadata": {
  "kernelspec": {
   "display_name": "Python 3",
   "language": "python",
   "name": "python3"
  },
  "language_info": {
   "codemirror_mode": {
    "name": "ipython",
    "version": 3
   },
   "file_extension": ".py",
   "mimetype": "text/x-python",
   "name": "python",
   "nbconvert_exporter": "python",
   "pygments_lexer": "ipython3",
   "version": "3.7.9"
  }
 },
 "nbformat": 4,
 "nbformat_minor": 5
}
