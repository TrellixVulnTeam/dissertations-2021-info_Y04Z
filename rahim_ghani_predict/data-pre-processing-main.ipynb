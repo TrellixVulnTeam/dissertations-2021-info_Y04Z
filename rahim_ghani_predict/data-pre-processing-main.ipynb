{
 "cells": [
  {
   "cell_type": "code",
   "execution_count": 1,
   "id": "leading-effects",
   "metadata": {},
   "outputs": [],
   "source": [
    "#Import basic packages\n",
    "import os\n",
    "import numpy as np\n",
    "import pandas as pd\n",
    "import csv"
   ]
  },
  {
   "cell_type": "code",
   "execution_count": 2,
   "id": "stock-glance",
   "metadata": {},
   "outputs": [],
   "source": [
    "#import organizations.csv\n",
    "org_df = pd.read_csv(R\"d:\\\\msc-project\\data\\bulk_export_122020\\organizations.csv\",encoding='utf-8')"
   ]
  },
  {
   "cell_type": "code",
   "execution_count": 3,
   "id": "collected-cooling",
   "metadata": {},
   "outputs": [
    {
     "data": {
      "text/plain": [
       "Index(['uuid', 'name', 'type', 'permalink', 'cb_url', 'rank', 'created_at',\n",
       "       'updated_at', 'legal_name', 'roles', 'domain', 'homepage_url',\n",
       "       'country_code', 'state_code', 'region', 'city', 'address',\n",
       "       'postal_code', 'status', 'short_description', 'category_list',\n",
       "       'category_groups_list', 'num_funding_rounds', 'total_funding_usd',\n",
       "       'total_funding', 'total_funding_currency_code', 'founded_on',\n",
       "       'last_funding_on', 'closed_on', 'employee_count', 'email', 'phone',\n",
       "       'facebook_url', 'linkedin_url', 'twitter_url', 'logo_url', 'alias1',\n",
       "       'alias2', 'alias3', 'primary_role', 'num_exits'],\n",
       "      dtype='object')"
      ]
     },
     "execution_count": 3,
     "metadata": {},
     "output_type": "execute_result"
    }
   ],
   "source": [
    "#check column name for organisation\n",
    "org_df.columns"
   ]
  },
  {
   "cell_type": "code",
   "execution_count": 4,
   "id": "according-occupation",
   "metadata": {},
   "outputs": [
    {
     "data": {
      "text/plain": [
       "uuid                                 0\n",
       "name                                14\n",
       "type                                 0\n",
       "permalink                            7\n",
       "cb_url                               6\n",
       "rank                               134\n",
       "created_at                           0\n",
       "updated_at                           0\n",
       "legal_name                     1035917\n",
       "roles                             8873\n",
       "domain                           79212\n",
       "homepage_url                     79211\n",
       "country_code                    191226\n",
       "state_code                      761292\n",
       "region                          191226\n",
       "city                            191226\n",
       "address                         654274\n",
       "postal_code                     684663\n",
       "status                               0\n",
       "short_description                  118\n",
       "category_list                    78059\n",
       "category_groups_list             78059\n",
       "num_funding_rounds             1024489\n",
       "total_funding_usd              1075897\n",
       "total_funding                  1075897\n",
       "total_funding_currency_code    1075897\n",
       "founded_on                      260307\n",
       "last_funding_on                1024500\n",
       "closed_on                      1202566\n",
       "employee_count                       0\n",
       "email                           462846\n",
       "phone                           405981\n",
       "facebook_url                    575710\n",
       "linkedin_url                    646209\n",
       "twitter_url                     631355\n",
       "logo_url                        189098\n",
       "alias1                         1032827\n",
       "alias2                         1183539\n",
       "alias3                         1202240\n",
       "primary_role                         0\n",
       "num_exits                      1198771\n",
       "dtype: int64"
      ]
     },
     "execution_count": 4,
     "metadata": {},
     "output_type": "execute_result"
    }
   ],
   "source": [
    "#Show the value of NaN for every colum\n",
    "org_df.isnull().sum(axis = 0)"
   ]
  },
  {
   "cell_type": "code",
   "execution_count": 5,
   "id": "german-premiere",
   "metadata": {},
   "outputs": [],
   "source": [
    "#Delete unecessary columns\n",
    "org_df_v1 = org_df.drop (columns = ['type', 'permalink', 'cb_url', 'rank', 'created_at',\n",
    "                                    'updated_at','roles', 'domain', 'homepage_url','alias1',\n",
    "                                    'alias2', 'alias3']\n",
    "                                    )"
   ]
  },
  {
   "cell_type": "code",
   "execution_count": 6,
   "id": "interesting-fraud",
   "metadata": {},
   "outputs": [
    {
     "data": {
      "text/plain": [
       "Index(['uuid', 'name', 'legal_name', 'country_code', 'state_code', 'region',\n",
       "       'city', 'address', 'postal_code', 'status', 'short_description',\n",
       "       'category_list', 'category_groups_list', 'num_funding_rounds',\n",
       "       'total_funding_usd', 'total_funding', 'total_funding_currency_code',\n",
       "       'founded_on', 'last_funding_on', 'closed_on', 'employee_count', 'email',\n",
       "       'phone', 'facebook_url', 'linkedin_url', 'twitter_url', 'logo_url',\n",
       "       'primary_role', 'num_exits'],\n",
       "      dtype='object')"
      ]
     },
     "execution_count": 6,
     "metadata": {},
     "output_type": "execute_result"
    }
   ],
   "source": [
    "org_df_v1.columns"
   ]
  },
  {
   "cell_type": "code",
   "execution_count": 7,
   "id": "waiting-austin",
   "metadata": {},
   "outputs": [],
   "source": [
    "#delete data with no founded date, country code, and category\n",
    "org_df_v2 = org_df_v1.dropna (subset=['founded_on','country_code','category_list','category_groups_list'])"
   ]
  },
  {
   "cell_type": "code",
   "execution_count": 8,
   "id": "defined-presence",
   "metadata": {},
   "outputs": [
    {
     "data": {
      "text/plain": [
       "827800"
      ]
     },
     "execution_count": 8,
     "metadata": {},
     "output_type": "execute_result"
    }
   ],
   "source": [
    "len(org_df_v2)"
   ]
  },
  {
   "cell_type": "code",
   "execution_count": 9,
   "id": "opening-spouse",
   "metadata": {},
   "outputs": [
    {
     "name": "stderr",
     "output_type": "stream",
     "text": [
      "C:\\Users\\Abdul Rahim Ab Ghani\\miniconda3\\lib\\site-packages\\pandas\\core\\frame.py:4449: SettingWithCopyWarning: \n",
      "A value is trying to be set on a copy of a slice from a DataFrame\n",
      "\n",
      "See the caveats in the documentation: https://pandas.pydata.org/pandas-docs/stable/user_guide/indexing.html#returning-a-view-versus-a-copy\n",
      "  errors=errors,\n"
     ]
    }
   ],
   "source": [
    "org_df_v2.rename(columns = {'uuid':'org_uuid'},inplace=True)"
   ]
  },
  {
   "cell_type": "code",
   "execution_count": 10,
   "id": "technical-grace",
   "metadata": {},
   "outputs": [],
   "source": [
    "#filter only company data\n",
    "org_df_v3 = org_df_v2[org_df_v2.primary_role == 'company']"
   ]
  },
  {
   "cell_type": "code",
   "execution_count": 11,
   "id": "native-turner",
   "metadata": {},
   "outputs": [
    {
     "data": {
      "text/plain": [
       "803301"
      ]
     },
     "execution_count": 11,
     "metadata": {},
     "output_type": "execute_result"
    }
   ],
   "source": [
    "len(org_df_v3)"
   ]
  },
  {
   "cell_type": "code",
   "execution_count": 12,
   "id": "bottom-tactics",
   "metadata": {},
   "outputs": [],
   "source": [
    "#import organisations description.csv\n",
    "org_desc_df = pd.read_csv(R\"d:/msc-project/data/bulk_export_122020/organization_descriptions.csv\",encoding='utf-8')"
   ]
  },
  {
   "cell_type": "code",
   "execution_count": 13,
   "id": "chronic-bailey",
   "metadata": {},
   "outputs": [
    {
     "data": {
      "text/plain": [
       "Index(['uuid', 'name', 'type', 'permalink', 'cb_url', 'rank', 'created_at',\n",
       "       'updated_at', 'description'],\n",
       "      dtype='object')"
      ]
     },
     "execution_count": 13,
     "metadata": {},
     "output_type": "execute_result"
    }
   ],
   "source": [
    "org_desc_df.columns"
   ]
  },
  {
   "cell_type": "code",
   "execution_count": 14,
   "id": "smart-coating",
   "metadata": {},
   "outputs": [],
   "source": [
    "#drop uneseccary columns\n",
    "org_desc_df_v1 = org_desc_df.drop(columns = ['name', 'type', 'permalink', 'cb_url', 'rank', 'created_at',\n",
    "       'updated_at'])"
   ]
  },
  {
   "cell_type": "code",
   "execution_count": 15,
   "id": "noticed-japan",
   "metadata": {},
   "outputs": [
    {
     "data": {
      "text/plain": [
       "Index(['uuid', 'description'], dtype='object')"
      ]
     },
     "execution_count": 15,
     "metadata": {},
     "output_type": "execute_result"
    }
   ],
   "source": [
    "org_desc_df_v1.columns"
   ]
  },
  {
   "cell_type": "code",
   "execution_count": 16,
   "id": "altered-bubble",
   "metadata": {},
   "outputs": [],
   "source": [
    "org_desc_df_v1.rename(columns={'uuid':'org_uuid'},inplace=True)"
   ]
  },
  {
   "cell_type": "code",
   "execution_count": 17,
   "id": "allied-darkness",
   "metadata": {},
   "outputs": [
    {
     "data": {
      "text/plain": [
       "Index(['org_uuid', 'description'], dtype='object')"
      ]
     },
     "execution_count": 17,
     "metadata": {},
     "output_type": "execute_result"
    }
   ],
   "source": [
    "org_desc_df_v1.columns"
   ]
  },
  {
   "cell_type": "code",
   "execution_count": 18,
   "id": "comfortable-spirituality",
   "metadata": {},
   "outputs": [],
   "source": [
    "#combine with main org file\n",
    "main_org_df_v1 = pd.merge (org_df_v3,org_desc_df_v1,\n",
    "                         how='left',\n",
    "                         on='org_uuid'\n",
    "                         )"
   ]
  },
  {
   "cell_type": "code",
   "execution_count": 19,
   "id": "increased-furniture",
   "metadata": {},
   "outputs": [
    {
     "data": {
      "text/plain": [
       "Index(['org_uuid', 'name', 'legal_name', 'country_code', 'state_code',\n",
       "       'region', 'city', 'address', 'postal_code', 'status',\n",
       "       'short_description', 'category_list', 'category_groups_list',\n",
       "       'num_funding_rounds', 'total_funding_usd', 'total_funding',\n",
       "       'total_funding_currency_code', 'founded_on', 'last_funding_on',\n",
       "       'closed_on', 'employee_count', 'email', 'phone', 'facebook_url',\n",
       "       'linkedin_url', 'twitter_url', 'logo_url', 'primary_role', 'num_exits',\n",
       "       'description'],\n",
       "      dtype='object')"
      ]
     },
     "execution_count": 19,
     "metadata": {},
     "output_type": "execute_result"
    }
   ],
   "source": [
    "main_org_df_v1.columns"
   ]
  },
  {
   "cell_type": "code",
   "execution_count": 20,
   "id": "guided-suggestion",
   "metadata": {},
   "outputs": [],
   "source": [
    "#import ipos.csv\n",
    "ipos_df = pd.read_csv(R\"d:\\\\msc-project\\data\\bulk_export_122020\\ipos.csv\",encoding='utf-8')"
   ]
  },
  {
   "cell_type": "code",
   "execution_count": 21,
   "id": "requested-flower",
   "metadata": {},
   "outputs": [
    {
     "data": {
      "text/plain": [
       "Index(['uuid', 'name', 'type', 'permalink', 'cb_url', 'rank', 'created_at',\n",
       "       'updated_at', 'org_uuid', 'org_name', 'org_cb_url', 'country_code',\n",
       "       'state_code', 'region', 'city', 'stock_exchange_symbol', 'stock_symbol',\n",
       "       'went_public_on', 'share_price_usd', 'share_price',\n",
       "       'share_price_currency_code', 'valuation_price_usd', 'valuation_price',\n",
       "       'valuation_price_currency_code', 'money_raised_usd', 'money_raised',\n",
       "       'money_raised_currency_code'],\n",
       "      dtype='object')"
      ]
     },
     "execution_count": 21,
     "metadata": {},
     "output_type": "execute_result"
    }
   ],
   "source": [
    "ipos_df.columns"
   ]
  },
  {
   "cell_type": "code",
   "execution_count": 22,
   "id": "forward-edmonton",
   "metadata": {},
   "outputs": [],
   "source": [
    "#drop unecessary columns\n",
    "ipos_df_v1 = ipos_df.drop (columns = ['name','type','permalink', 'cb_url', 'rank', 'created_at',\n",
    "       'updated_at','org_name', 'org_cb_url', 'country_code',\n",
    "       'state_code', 'region', 'city'])"
   ]
  },
  {
   "cell_type": "code",
   "execution_count": 23,
   "id": "ruled-contrary",
   "metadata": {},
   "outputs": [
    {
     "data": {
      "text/plain": [
       "Index(['uuid', 'org_uuid', 'stock_exchange_symbol', 'stock_symbol',\n",
       "       'went_public_on', 'share_price_usd', 'share_price',\n",
       "       'share_price_currency_code', 'valuation_price_usd', 'valuation_price',\n",
       "       'valuation_price_currency_code', 'money_raised_usd', 'money_raised',\n",
       "       'money_raised_currency_code'],\n",
       "      dtype='object')"
      ]
     },
     "execution_count": 23,
     "metadata": {},
     "output_type": "execute_result"
    }
   ],
   "source": [
    "ipos_df_v1.columns"
   ]
  },
  {
   "cell_type": "code",
   "execution_count": 24,
   "id": "trained-motel",
   "metadata": {},
   "outputs": [],
   "source": [
    "ipos_df_v1.rename (columns = {'uuid':'ipo_uuid',},inplace=True)"
   ]
  },
  {
   "cell_type": "code",
   "execution_count": 25,
   "id": "excessive-rolling",
   "metadata": {},
   "outputs": [
    {
     "data": {
      "text/plain": [
       "ipo_uuid                             0\n",
       "org_uuid                             0\n",
       "stock_exchange_symbol               60\n",
       "stock_symbol                        21\n",
       "went_public_on                       0\n",
       "share_price_usd                  30694\n",
       "share_price                      30694\n",
       "share_price_currency_code        30694\n",
       "valuation_price_usd              32946\n",
       "valuation_price                  32946\n",
       "valuation_price_currency_code    32946\n",
       "money_raised_usd                 30171\n",
       "money_raised                     30171\n",
       "money_raised_currency_code       30171\n",
       "dtype: int64"
      ]
     },
     "execution_count": 25,
     "metadata": {},
     "output_type": "execute_result"
    }
   ],
   "source": [
    "#Show the value of NaN for every colum\n",
    "ipos_df_v1.isnull().sum(axis = 0)"
   ]
  },
  {
   "cell_type": "code",
   "execution_count": 26,
   "id": "arbitrary-evanescence",
   "metadata": {},
   "outputs": [
    {
     "data": {
      "text/plain": [
       "Index(['ipo_uuid', 'org_uuid', 'stock_exchange_symbol', 'stock_symbol',\n",
       "       'went_public_on', 'share_price_usd', 'share_price',\n",
       "       'share_price_currency_code', 'valuation_price_usd', 'valuation_price',\n",
       "       'valuation_price_currency_code', 'money_raised_usd', 'money_raised',\n",
       "       'money_raised_currency_code'],\n",
       "      dtype='object')"
      ]
     },
     "execution_count": 26,
     "metadata": {},
     "output_type": "execute_result"
    }
   ],
   "source": [
    "ipos_df_v1.columns"
   ]
  },
  {
   "cell_type": "code",
   "execution_count": 27,
   "id": "social-alexander",
   "metadata": {},
   "outputs": [],
   "source": [
    "main_org_df_v2 = pd.merge(main_org_df_v1,ipos_df_v1,\n",
    "                        how = 'left',\n",
    "                         on='org_uuid')"
   ]
  },
  {
   "cell_type": "code",
   "execution_count": 28,
   "id": "virgin-casino",
   "metadata": {},
   "outputs": [
    {
     "data": {
      "text/plain": [
       "Index(['org_uuid', 'name', 'legal_name', 'country_code', 'state_code',\n",
       "       'region', 'city', 'address', 'postal_code', 'status',\n",
       "       'short_description', 'category_list', 'category_groups_list',\n",
       "       'num_funding_rounds', 'total_funding_usd', 'total_funding',\n",
       "       'total_funding_currency_code', 'founded_on', 'last_funding_on',\n",
       "       'closed_on', 'employee_count', 'email', 'phone', 'facebook_url',\n",
       "       'linkedin_url', 'twitter_url', 'logo_url', 'primary_role', 'num_exits',\n",
       "       'description', 'ipo_uuid', 'stock_exchange_symbol', 'stock_symbol',\n",
       "       'went_public_on', 'share_price_usd', 'share_price',\n",
       "       'share_price_currency_code', 'valuation_price_usd', 'valuation_price',\n",
       "       'valuation_price_currency_code', 'money_raised_usd', 'money_raised',\n",
       "       'money_raised_currency_code'],\n",
       "      dtype='object')"
      ]
     },
     "execution_count": 28,
     "metadata": {},
     "output_type": "execute_result"
    }
   ],
   "source": [
    "main_org_df_v2.columns"
   ]
  },
  {
   "cell_type": "code",
   "execution_count": 29,
   "id": "conservative-appliance",
   "metadata": {},
   "outputs": [
    {
     "data": {
      "text/plain": [
       "804087"
      ]
     },
     "execution_count": 29,
     "metadata": {},
     "output_type": "execute_result"
    }
   ],
   "source": [
    "len(main_org_df_v2)"
   ]
  },
  {
   "cell_type": "code",
   "execution_count": 30,
   "id": "reserved-neighbor",
   "metadata": {},
   "outputs": [],
   "source": [
    "#import acquisitions.csv\n",
    "acquisitions_df = pd.read_csv(R\"d:\\\\msc-project\\data\\bulk_export_122020\\acquisitions.csv\",encoding='utf-8')"
   ]
  },
  {
   "cell_type": "code",
   "execution_count": 31,
   "id": "bibliographic-academy",
   "metadata": {},
   "outputs": [
    {
     "data": {
      "text/plain": [
       "Index(['uuid', 'name', 'type', 'permalink', 'cb_url', 'rank', 'created_at',\n",
       "       'updated_at', 'acquiree_uuid', 'acquiree_name', 'acquiree_cb_url',\n",
       "       'acquiree_country_code', 'acquiree_state_code', 'acquiree_region',\n",
       "       'acquiree_city', 'acquirer_uuid', 'acquirer_name', 'acquirer_cb_url',\n",
       "       'acquirer_country_code', 'acquirer_state_code', 'acquirer_region',\n",
       "       'acquirer_city', 'acquisition_type', 'acquired_on', 'price_usd',\n",
       "       'price', 'price_currency_code'],\n",
       "      dtype='object')"
      ]
     },
     "execution_count": 31,
     "metadata": {},
     "output_type": "execute_result"
    }
   ],
   "source": [
    "acquisitions_df.columns"
   ]
  },
  {
   "cell_type": "code",
   "execution_count": 32,
   "id": "fabulous-crest",
   "metadata": {},
   "outputs": [],
   "source": [
    "#drop columns\n",
    "acquisitions_df_v1 = acquisitions_df.drop(columns = ['name', 'type', 'permalink', 'cb_url', 'rank', 'created_at','updated_at',\n",
    "        'acquiree_name', 'acquiree_cb_url','acquiree_country_code', 'acquiree_state_code', 'acquiree_region','acquiree_city','acquirer_cb_url'])"
   ]
  },
  {
   "cell_type": "code",
   "execution_count": 33,
   "id": "protected-stephen",
   "metadata": {},
   "outputs": [
    {
     "data": {
      "text/plain": [
       "Index(['uuid', 'acquiree_uuid', 'acquirer_uuid', 'acquirer_name',\n",
       "       'acquirer_country_code', 'acquirer_state_code', 'acquirer_region',\n",
       "       'acquirer_city', 'acquisition_type', 'acquired_on', 'price_usd',\n",
       "       'price', 'price_currency_code'],\n",
       "      dtype='object')"
      ]
     },
     "execution_count": 33,
     "metadata": {},
     "output_type": "execute_result"
    }
   ],
   "source": [
    "acquisitions_df_v1.columns"
   ]
  },
  {
   "cell_type": "code",
   "execution_count": 34,
   "id": "phantom-housing",
   "metadata": {},
   "outputs": [],
   "source": [
    "acquisitions_df_v1.rename (columns = {'uuid':'acquisition_uuid','acquiree_uuid':'org_uuid'},inplace=True)"
   ]
  },
  {
   "cell_type": "code",
   "execution_count": 35,
   "id": "running-might",
   "metadata": {},
   "outputs": [
    {
     "data": {
      "text/plain": [
       "Index(['acquisition_uuid', 'org_uuid', 'acquirer_uuid', 'acquirer_name',\n",
       "       'acquirer_country_code', 'acquirer_state_code', 'acquirer_region',\n",
       "       'acquirer_city', 'acquisition_type', 'acquired_on', 'price_usd',\n",
       "       'price', 'price_currency_code'],\n",
       "      dtype='object')"
      ]
     },
     "execution_count": 35,
     "metadata": {},
     "output_type": "execute_result"
    }
   ],
   "source": [
    "acquisitions_df_v1.columns"
   ]
  },
  {
   "cell_type": "code",
   "execution_count": 36,
   "id": "ancient-respondent",
   "metadata": {},
   "outputs": [
    {
     "data": {
      "text/plain": [
       "acquisition_uuid             0\n",
       "org_uuid                     0\n",
       "acquirer_uuid                0\n",
       "acquirer_name                0\n",
       "acquirer_country_code     1052\n",
       "acquirer_state_code      46597\n",
       "acquirer_region           1052\n",
       "acquirer_city             1052\n",
       "acquisition_type          9508\n",
       "acquired_on                  0\n",
       "price_usd                90329\n",
       "price                    90329\n",
       "price_currency_code      90329\n",
       "dtype: int64"
      ]
     },
     "execution_count": 36,
     "metadata": {},
     "output_type": "execute_result"
    }
   ],
   "source": [
    "#Show the value of NaN for every colum\n",
    "acquisitions_df_v1.isnull().sum(axis = 0)"
   ]
  },
  {
   "cell_type": "code",
   "execution_count": 37,
   "id": "arbitrary-astrology",
   "metadata": {},
   "outputs": [],
   "source": [
    "main_org_df_v3 = pd.merge(main_org_df_v2,acquisitions_df_v1,\n",
    "                        on='org_uuid'\n",
    "                        ,how = 'left')"
   ]
  },
  {
   "cell_type": "code",
   "execution_count": 38,
   "id": "weighted-token",
   "metadata": {},
   "outputs": [
    {
     "data": {
      "text/plain": [
       "Index(['org_uuid', 'name', 'legal_name', 'country_code', 'state_code',\n",
       "       'region', 'city', 'address', 'postal_code', 'status',\n",
       "       'short_description', 'category_list', 'category_groups_list',\n",
       "       'num_funding_rounds', 'total_funding_usd', 'total_funding',\n",
       "       'total_funding_currency_code', 'founded_on', 'last_funding_on',\n",
       "       'closed_on', 'employee_count', 'email', 'phone', 'facebook_url',\n",
       "       'linkedin_url', 'twitter_url', 'logo_url', 'primary_role', 'num_exits',\n",
       "       'description', 'ipo_uuid', 'stock_exchange_symbol', 'stock_symbol',\n",
       "       'went_public_on', 'share_price_usd', 'share_price',\n",
       "       'share_price_currency_code', 'valuation_price_usd', 'valuation_price',\n",
       "       'valuation_price_currency_code', 'money_raised_usd', 'money_raised',\n",
       "       'money_raised_currency_code', 'acquisition_uuid', 'acquirer_uuid',\n",
       "       'acquirer_name', 'acquirer_country_code', 'acquirer_state_code',\n",
       "       'acquirer_region', 'acquirer_city', 'acquisition_type', 'acquired_on',\n",
       "       'price_usd', 'price', 'price_currency_code'],\n",
       "      dtype='object')"
      ]
     },
     "execution_count": 38,
     "metadata": {},
     "output_type": "execute_result"
    }
   ],
   "source": [
    "main_org_df_v3.columns"
   ]
  },
  {
   "cell_type": "code",
   "execution_count": 39,
   "id": "junior-trust",
   "metadata": {},
   "outputs": [
    {
     "data": {
      "text/plain": [
       "810320"
      ]
     },
     "execution_count": 39,
     "metadata": {},
     "output_type": "execute_result"
    }
   ],
   "source": [
    "len(main_org_df_v3)"
   ]
  },
  {
   "cell_type": "code",
   "execution_count": 40,
   "id": "stylish-bobby",
   "metadata": {},
   "outputs": [],
   "source": [
    "#import parents organisation.csv\n",
    "parents_df = pd.read_csv(R\"d:/msc-project/data/bulk_export_122020/org_parents.csv\",encoding='utf-8')"
   ]
  },
  {
   "cell_type": "code",
   "execution_count": 41,
   "id": "cathedral-trick",
   "metadata": {},
   "outputs": [
    {
     "data": {
      "text/plain": [
       "Index(['uuid', 'name', 'type', 'permalink', 'cb_url', 'rank', 'created_at',\n",
       "       'updated_at', 'parent_uuid', 'parent_name'],\n",
       "      dtype='object')"
      ]
     },
     "execution_count": 41,
     "metadata": {},
     "output_type": "execute_result"
    }
   ],
   "source": [
    "parents_df.columns"
   ]
  },
  {
   "cell_type": "code",
   "execution_count": 42,
   "id": "processed-preliminary",
   "metadata": {},
   "outputs": [],
   "source": [
    "parents_df_v1 = parents_df.drop(columns=['name', 'type', 'permalink', 'cb_url', 'rank', 'created_at',\n",
    "               'updated_at'])"
   ]
  },
  {
   "cell_type": "code",
   "execution_count": 43,
   "id": "bulgarian-crowd",
   "metadata": {},
   "outputs": [
    {
     "data": {
      "text/plain": [
       "Index(['uuid', 'parent_uuid', 'parent_name'], dtype='object')"
      ]
     },
     "execution_count": 43,
     "metadata": {},
     "output_type": "execute_result"
    }
   ],
   "source": [
    "parents_df_v1.columns"
   ]
  },
  {
   "cell_type": "code",
   "execution_count": 44,
   "id": "several-satellite",
   "metadata": {},
   "outputs": [],
   "source": [
    "parents_df_v1.rename(columns={'uuid':'org_uuid'},inplace=True)"
   ]
  },
  {
   "cell_type": "code",
   "execution_count": 45,
   "id": "helpful-accessory",
   "metadata": {},
   "outputs": [
    {
     "data": {
      "text/plain": [
       "Index(['org_uuid', 'parent_uuid', 'parent_name'], dtype='object')"
      ]
     },
     "execution_count": 45,
     "metadata": {},
     "output_type": "execute_result"
    }
   ],
   "source": [
    "parents_df_v1.columns"
   ]
  },
  {
   "cell_type": "code",
   "execution_count": 46,
   "id": "binding-david",
   "metadata": {},
   "outputs": [],
   "source": [
    "main_org_df_v4 = pd.merge(main_org_df_v3,parents_df_v1,\n",
    "                         on = 'org_uuid',\n",
    "                         how = 'left')"
   ]
  },
  {
   "cell_type": "code",
   "execution_count": 47,
   "id": "aware-advertising",
   "metadata": {},
   "outputs": [
    {
     "data": {
      "text/plain": [
       "Index(['org_uuid', 'name', 'legal_name', 'country_code', 'state_code',\n",
       "       'region', 'city', 'address', 'postal_code', 'status',\n",
       "       'short_description', 'category_list', 'category_groups_list',\n",
       "       'num_funding_rounds', 'total_funding_usd', 'total_funding',\n",
       "       'total_funding_currency_code', 'founded_on', 'last_funding_on',\n",
       "       'closed_on', 'employee_count', 'email', 'phone', 'facebook_url',\n",
       "       'linkedin_url', 'twitter_url', 'logo_url', 'primary_role', 'num_exits',\n",
       "       'description', 'ipo_uuid', 'stock_exchange_symbol', 'stock_symbol',\n",
       "       'went_public_on', 'share_price_usd', 'share_price',\n",
       "       'share_price_currency_code', 'valuation_price_usd', 'valuation_price',\n",
       "       'valuation_price_currency_code', 'money_raised_usd', 'money_raised',\n",
       "       'money_raised_currency_code', 'acquisition_uuid', 'acquirer_uuid',\n",
       "       'acquirer_name', 'acquirer_country_code', 'acquirer_state_code',\n",
       "       'acquirer_region', 'acquirer_city', 'acquisition_type', 'acquired_on',\n",
       "       'price_usd', 'price', 'price_currency_code', 'parent_uuid',\n",
       "       'parent_name'],\n",
       "      dtype='object')"
      ]
     },
     "execution_count": 47,
     "metadata": {},
     "output_type": "execute_result"
    }
   ],
   "source": [
    "main_org_df_v4.columns"
   ]
  },
  {
   "cell_type": "markdown",
   "id": "partial-panel",
   "metadata": {},
   "source": [
    "# Funding Rounds"
   ]
  },
  {
   "cell_type": "code",
   "execution_count": 48,
   "id": "hazardous-cabinet",
   "metadata": {},
   "outputs": [],
   "source": [
    "#import funding_rounds\n",
    "funding_df = pd.read_csv(R\"d:/msc-project/data/bulk_export_122020/funding_rounds.csv\",encoding='utf-8')"
   ]
  },
  {
   "cell_type": "code",
   "execution_count": 49,
   "id": "tracked-bacteria",
   "metadata": {},
   "outputs": [
    {
     "data": {
      "text/plain": [
       "Index(['uuid', 'name', 'type', 'permalink', 'cb_url', 'rank', 'created_at',\n",
       "       'updated_at', 'country_code', 'state_code', 'region', 'city',\n",
       "       'investment_type', 'announced_on', 'raised_amount_usd', 'raised_amount',\n",
       "       'raised_amount_currency_code', 'post_money_valuation_usd',\n",
       "       'post_money_valuation', 'post_money_valuation_currency_code',\n",
       "       'investor_count', 'org_uuid', 'org_name', 'lead_investor_uuids'],\n",
       "      dtype='object')"
      ]
     },
     "execution_count": 49,
     "metadata": {},
     "output_type": "execute_result"
    }
   ],
   "source": [
    "funding_df.columns"
   ]
  },
  {
   "cell_type": "code",
   "execution_count": 50,
   "id": "combined-secret",
   "metadata": {},
   "outputs": [],
   "source": [
    "funding_df_v1 = funding_df.drop(columns=['type','permalink', 'cb_url', 'rank', 'created_at',\n",
    "                'updated_at'])"
   ]
  },
  {
   "cell_type": "code",
   "execution_count": 51,
   "id": "religious-freedom",
   "metadata": {},
   "outputs": [
    {
     "data": {
      "text/plain": [
       "Index(['uuid', 'name', 'country_code', 'state_code', 'region', 'city',\n",
       "       'investment_type', 'announced_on', 'raised_amount_usd', 'raised_amount',\n",
       "       'raised_amount_currency_code', 'post_money_valuation_usd',\n",
       "       'post_money_valuation', 'post_money_valuation_currency_code',\n",
       "       'investor_count', 'org_uuid', 'org_name', 'lead_investor_uuids'],\n",
       "      dtype='object')"
      ]
     },
     "execution_count": 51,
     "metadata": {},
     "output_type": "execute_result"
    }
   ],
   "source": [
    "funding_df_v1.columns"
   ]
  },
  {
   "cell_type": "code",
   "execution_count": 52,
   "id": "affected-weight",
   "metadata": {},
   "outputs": [],
   "source": [
    "funding_df_v1.rename(columns={'uuid':'funding_round_uuid'},inplace=True)"
   ]
  },
  {
   "cell_type": "code",
   "execution_count": 53,
   "id": "closed-viking",
   "metadata": {},
   "outputs": [
    {
     "data": {
      "text/plain": [
       "Index(['funding_round_uuid', 'name', 'country_code', 'state_code', 'region',\n",
       "       'city', 'investment_type', 'announced_on', 'raised_amount_usd',\n",
       "       'raised_amount', 'raised_amount_currency_code',\n",
       "       'post_money_valuation_usd', 'post_money_valuation',\n",
       "       'post_money_valuation_currency_code', 'investor_count', 'org_uuid',\n",
       "       'org_name', 'lead_investor_uuids'],\n",
       "      dtype='object')"
      ]
     },
     "execution_count": 53,
     "metadata": {},
     "output_type": "execute_result"
    }
   ],
   "source": [
    "funding_df_v1.columns"
   ]
  },
  {
   "cell_type": "code",
   "execution_count": 54,
   "id": "pressed-testament",
   "metadata": {},
   "outputs": [
    {
     "data": {
      "text/plain": [
       "funding_round_uuid                         0\n",
       "name                                       0\n",
       "country_code                            4237\n",
       "state_code                            172992\n",
       "region                                  4237\n",
       "city                                    4237\n",
       "investment_type                            0\n",
       "announced_on                               0\n",
       "raised_amount_usd                      98961\n",
       "raised_amount                          98961\n",
       "raised_amount_currency_code            98961\n",
       "post_money_valuation_usd              346299\n",
       "post_money_valuation                  346299\n",
       "post_money_valuation_currency_code    346299\n",
       "investor_count                        101823\n",
       "org_uuid                                   0\n",
       "org_name                                   2\n",
       "lead_investor_uuids                   238258\n",
       "dtype: int64"
      ]
     },
     "execution_count": 54,
     "metadata": {},
     "output_type": "execute_result"
    }
   ],
   "source": [
    "#check for NaN value\n",
    "funding_df_v1.isnull().sum(axis=0)"
   ]
  },
  {
   "cell_type": "code",
   "execution_count": 55,
   "id": "desirable-welcome",
   "metadata": {},
   "outputs": [],
   "source": [
    "#import funding_rounds\n",
    "investment_df = pd.read_csv(R\"d:/msc-project/data/bulk_export_122020/investments.csv\",encoding='utf-8')"
   ]
  },
  {
   "cell_type": "code",
   "execution_count": 56,
   "id": "structured-dress",
   "metadata": {},
   "outputs": [
    {
     "data": {
      "text/plain": [
       "Index(['uuid', 'name', 'type', 'permalink', 'cb_url', 'rank', 'created_at',\n",
       "       'updated_at', 'funding_round_uuid', 'funding_round_name',\n",
       "       'investor_uuid', 'investor_name', 'investor_type', 'is_lead_investor'],\n",
       "      dtype='object')"
      ]
     },
     "execution_count": 56,
     "metadata": {},
     "output_type": "execute_result"
    }
   ],
   "source": [
    "investment_df.columns"
   ]
  },
  {
   "cell_type": "code",
   "execution_count": 57,
   "id": "virgin-edition",
   "metadata": {},
   "outputs": [],
   "source": [
    "#drop columns\n",
    "investment_df_v1 = investment_df.drop(columns = ['type', 'permalink', 'cb_url', 'rank', 'created_at',\n",
    "       'updated_at'])"
   ]
  },
  {
   "cell_type": "code",
   "execution_count": 58,
   "id": "downtown-charger",
   "metadata": {},
   "outputs": [
    {
     "data": {
      "text/plain": [
       "Index(['uuid', 'name', 'funding_round_uuid', 'funding_round_name',\n",
       "       'investor_uuid', 'investor_name', 'investor_type', 'is_lead_investor'],\n",
       "      dtype='object')"
      ]
     },
     "execution_count": 58,
     "metadata": {},
     "output_type": "execute_result"
    }
   ],
   "source": [
    "investment_df_v1.columns"
   ]
  },
  {
   "cell_type": "code",
   "execution_count": 59,
   "id": "accessory-conviction",
   "metadata": {},
   "outputs": [],
   "source": [
    "investment_df_v1.rename(columns={'uuid':'investment_uuid'},inplace=True)"
   ]
  },
  {
   "cell_type": "code",
   "execution_count": 60,
   "id": "adjusted-denver",
   "metadata": {},
   "outputs": [
    {
     "data": {
      "text/plain": [
       "Index(['investment_uuid', 'name', 'funding_round_uuid', 'funding_round_name',\n",
       "       'investor_uuid', 'investor_name', 'investor_type', 'is_lead_investor'],\n",
       "      dtype='object')"
      ]
     },
     "execution_count": 60,
     "metadata": {},
     "output_type": "execute_result"
    }
   ],
   "source": [
    "investment_df_v1.columns"
   ]
  },
  {
   "cell_type": "code",
   "execution_count": 61,
   "id": "dirty-april",
   "metadata": {},
   "outputs": [
    {
     "data": {
      "text/plain": [
       "investment_uuid            0\n",
       "name                       1\n",
       "funding_round_uuid         1\n",
       "funding_round_name         1\n",
       "investor_uuid              0\n",
       "investor_name              1\n",
       "investor_type              0\n",
       "is_lead_investor      283147\n",
       "dtype: int64"
      ]
     },
     "execution_count": 61,
     "metadata": {},
     "output_type": "execute_result"
    }
   ],
   "source": [
    "investment_df_v1.isnull().sum(axis=0)"
   ]
  },
  {
   "cell_type": "code",
   "execution_count": 62,
   "id": "attempted-strike",
   "metadata": {},
   "outputs": [],
   "source": [
    "#import investors\n",
    "investors_df = pd.read_csv(R\"d:/msc-project/data/bulk_export_122020/investors.csv\",encoding='utf-8')"
   ]
  },
  {
   "cell_type": "code",
   "execution_count": 63,
   "id": "dimensional-sunrise",
   "metadata": {},
   "outputs": [
    {
     "data": {
      "text/plain": [
       "Index(['uuid', 'name', 'type', 'permalink', 'cb_url', 'rank', 'created_at',\n",
       "       'updated_at', 'roles', 'domain', 'country_code', 'state_code', 'region',\n",
       "       'city', 'investor_types', 'investment_count', 'total_funding_usd',\n",
       "       'total_funding', 'total_funding_currency_code', 'founded_on',\n",
       "       'closed_on', 'facebook_url', 'linkedin_url', 'twitter_url', 'logo_url'],\n",
       "      dtype='object')"
      ]
     },
     "execution_count": 63,
     "metadata": {},
     "output_type": "execute_result"
    }
   ],
   "source": [
    "investors_df.columns"
   ]
  },
  {
   "cell_type": "code",
   "execution_count": 64,
   "id": "running-swiss",
   "metadata": {},
   "outputs": [
    {
     "data": {
      "text/html": [
       "<div>\n",
       "<style scoped>\n",
       "    .dataframe tbody tr th:only-of-type {\n",
       "        vertical-align: middle;\n",
       "    }\n",
       "\n",
       "    .dataframe tbody tr th {\n",
       "        vertical-align: top;\n",
       "    }\n",
       "\n",
       "    .dataframe thead th {\n",
       "        text-align: right;\n",
       "    }\n",
       "</style>\n",
       "<table border=\"1\" class=\"dataframe\">\n",
       "  <thead>\n",
       "    <tr style=\"text-align: right;\">\n",
       "      <th></th>\n",
       "      <th>uuid</th>\n",
       "      <th>name</th>\n",
       "      <th>type</th>\n",
       "      <th>permalink</th>\n",
       "      <th>cb_url</th>\n",
       "      <th>rank</th>\n",
       "      <th>created_at</th>\n",
       "      <th>updated_at</th>\n",
       "      <th>roles</th>\n",
       "      <th>domain</th>\n",
       "      <th>...</th>\n",
       "      <th>investment_count</th>\n",
       "      <th>total_funding_usd</th>\n",
       "      <th>total_funding</th>\n",
       "      <th>total_funding_currency_code</th>\n",
       "      <th>founded_on</th>\n",
       "      <th>closed_on</th>\n",
       "      <th>facebook_url</th>\n",
       "      <th>linkedin_url</th>\n",
       "      <th>twitter_url</th>\n",
       "      <th>logo_url</th>\n",
       "    </tr>\n",
       "  </thead>\n",
       "  <tbody>\n",
       "    <tr>\n",
       "      <th>0</th>\n",
       "      <td>bf4d7b0e-b34d-2fd8-d292-6049c4f7efc7</td>\n",
       "      <td>Zoho</td>\n",
       "      <td>organization</td>\n",
       "      <td>zoho</td>\n",
       "      <td>https://www.crunchbase.com/organization/zoho</td>\n",
       "      <td>7694.0</td>\n",
       "      <td>2007-05-26 02:30:28</td>\n",
       "      <td>2018-10-27 00:29:49</td>\n",
       "      <td>investor,company</td>\n",
       "      <td>zoho.com</td>\n",
       "      <td>...</td>\n",
       "      <td>6.0</td>\n",
       "      <td>NaN</td>\n",
       "      <td>NaN</td>\n",
       "      <td>NaN</td>\n",
       "      <td>1996-09-15</td>\n",
       "      <td>NaN</td>\n",
       "      <td>http://www.facebook.com/zoho</td>\n",
       "      <td>http://www.linkedin.com/company/zoho-corporati...</td>\n",
       "      <td>http://twitter.com/zoho</td>\n",
       "      <td>https://res.cloudinary.com/crunchbase-producti...</td>\n",
       "    </tr>\n",
       "    <tr>\n",
       "      <th>1</th>\n",
       "      <td>f4d5ab44-058b-298b-ea81-380e6e9a8eec</td>\n",
       "      <td>Omidyar Network</td>\n",
       "      <td>organization</td>\n",
       "      <td>omidyar-network</td>\n",
       "      <td>https://www.crunchbase.com/organization/omidya...</td>\n",
       "      <td>1758.0</td>\n",
       "      <td>2007-05-26 03:21:34</td>\n",
       "      <td>2019-06-19 12:17:48</td>\n",
       "      <td>investor</td>\n",
       "      <td>omidyar.com</td>\n",
       "      <td>...</td>\n",
       "      <td>313.0</td>\n",
       "      <td>NaN</td>\n",
       "      <td>NaN</td>\n",
       "      <td>NaN</td>\n",
       "      <td>2004-01-01</td>\n",
       "      <td>NaN</td>\n",
       "      <td>http://www.facebook.com/OmidyarNetwork</td>\n",
       "      <td>http://www.linkedin.com/company/22806</td>\n",
       "      <td>http://twitter.com/OmidyarNetwork</td>\n",
       "      <td>https://res.cloudinary.com/crunchbase-producti...</td>\n",
       "    </tr>\n",
       "    <tr>\n",
       "      <th>2</th>\n",
       "      <td>df662812-7f97-0b43-9d3e-12f64f504fbb</td>\n",
       "      <td>Facebook</td>\n",
       "      <td>organization</td>\n",
       "      <td>facebook</td>\n",
       "      <td>https://www.crunchbase.com/organization/facebook</td>\n",
       "      <td>5.0</td>\n",
       "      <td>2007-05-26 04:22:15</td>\n",
       "      <td>2020-10-21 13:53:15</td>\n",
       "      <td>investor,company</td>\n",
       "      <td>facebook.com</td>\n",
       "      <td>...</td>\n",
       "      <td>32.0</td>\n",
       "      <td>1.612282e+10</td>\n",
       "      <td>1.612282e+10</td>\n",
       "      <td>USD</td>\n",
       "      <td>2004-02-04</td>\n",
       "      <td>NaN</td>\n",
       "      <td>https://www.facebook.com/facebook/</td>\n",
       "      <td>http://www.linkedin.com/company/facebook</td>\n",
       "      <td>https://twitter.com/facebook</td>\n",
       "      <td>https://res.cloudinary.com/crunchbase-producti...</td>\n",
       "    </tr>\n",
       "  </tbody>\n",
       "</table>\n",
       "<p>3 rows × 25 columns</p>\n",
       "</div>"
      ],
      "text/plain": [
       "                                   uuid             name          type  \\\n",
       "0  bf4d7b0e-b34d-2fd8-d292-6049c4f7efc7             Zoho  organization   \n",
       "1  f4d5ab44-058b-298b-ea81-380e6e9a8eec  Omidyar Network  organization   \n",
       "2  df662812-7f97-0b43-9d3e-12f64f504fbb         Facebook  organization   \n",
       "\n",
       "         permalink                                             cb_url    rank  \\\n",
       "0             zoho       https://www.crunchbase.com/organization/zoho  7694.0   \n",
       "1  omidyar-network  https://www.crunchbase.com/organization/omidya...  1758.0   \n",
       "2         facebook   https://www.crunchbase.com/organization/facebook     5.0   \n",
       "\n",
       "            created_at           updated_at             roles        domain  \\\n",
       "0  2007-05-26 02:30:28  2018-10-27 00:29:49  investor,company      zoho.com   \n",
       "1  2007-05-26 03:21:34  2019-06-19 12:17:48          investor   omidyar.com   \n",
       "2  2007-05-26 04:22:15  2020-10-21 13:53:15  investor,company  facebook.com   \n",
       "\n",
       "   ... investment_count total_funding_usd total_funding  \\\n",
       "0  ...              6.0               NaN           NaN   \n",
       "1  ...            313.0               NaN           NaN   \n",
       "2  ...             32.0      1.612282e+10  1.612282e+10   \n",
       "\n",
       "  total_funding_currency_code  founded_on  closed_on  \\\n",
       "0                         NaN  1996-09-15        NaN   \n",
       "1                         NaN  2004-01-01        NaN   \n",
       "2                         USD  2004-02-04        NaN   \n",
       "\n",
       "                             facebook_url  \\\n",
       "0            http://www.facebook.com/zoho   \n",
       "1  http://www.facebook.com/OmidyarNetwork   \n",
       "2      https://www.facebook.com/facebook/   \n",
       "\n",
       "                                        linkedin_url  \\\n",
       "0  http://www.linkedin.com/company/zoho-corporati...   \n",
       "1              http://www.linkedin.com/company/22806   \n",
       "2           http://www.linkedin.com/company/facebook   \n",
       "\n",
       "                         twitter_url  \\\n",
       "0            http://twitter.com/zoho   \n",
       "1  http://twitter.com/OmidyarNetwork   \n",
       "2       https://twitter.com/facebook   \n",
       "\n",
       "                                            logo_url  \n",
       "0  https://res.cloudinary.com/crunchbase-producti...  \n",
       "1  https://res.cloudinary.com/crunchbase-producti...  \n",
       "2  https://res.cloudinary.com/crunchbase-producti...  \n",
       "\n",
       "[3 rows x 25 columns]"
      ]
     },
     "execution_count": 64,
     "metadata": {},
     "output_type": "execute_result"
    }
   ],
   "source": [
    "investors_df.head(3)"
   ]
  },
  {
   "cell_type": "code",
   "execution_count": 65,
   "id": "handled-wednesday",
   "metadata": {},
   "outputs": [],
   "source": [
    "investors_df_v1 = investors_df.drop(columns=['permalink', 'cb_url', 'rank', 'created_at',\n",
    "       'updated_at', 'roles','domain'])"
   ]
  },
  {
   "cell_type": "code",
   "execution_count": 66,
   "id": "political-grade",
   "metadata": {},
   "outputs": [
    {
     "data": {
      "text/plain": [
       "Index(['uuid', 'name', 'type', 'country_code', 'state_code', 'region', 'city',\n",
       "       'investor_types', 'investment_count', 'total_funding_usd',\n",
       "       'total_funding', 'total_funding_currency_code', 'founded_on',\n",
       "       'closed_on', 'facebook_url', 'linkedin_url', 'twitter_url', 'logo_url'],\n",
       "      dtype='object')"
      ]
     },
     "execution_count": 66,
     "metadata": {},
     "output_type": "execute_result"
    }
   ],
   "source": [
    "investors_df_v1.columns"
   ]
  },
  {
   "cell_type": "code",
   "execution_count": 67,
   "id": "centered-school",
   "metadata": {},
   "outputs": [],
   "source": [
    "investors_df_v1.rename(columns={'uuid':'investor_uuid'},inplace=True)"
   ]
  },
  {
   "cell_type": "code",
   "execution_count": 68,
   "id": "distinguished-glossary",
   "metadata": {},
   "outputs": [
    {
     "data": {
      "text/plain": [
       "Index(['investor_uuid', 'name', 'type', 'country_code', 'state_code', 'region',\n",
       "       'city', 'investor_types', 'investment_count', 'total_funding_usd',\n",
       "       'total_funding', 'total_funding_currency_code', 'founded_on',\n",
       "       'closed_on', 'facebook_url', 'linkedin_url', 'twitter_url', 'logo_url'],\n",
       "      dtype='object')"
      ]
     },
     "execution_count": 68,
     "metadata": {},
     "output_type": "execute_result"
    }
   ],
   "source": [
    "investors_df_v1.columns"
   ]
  },
  {
   "cell_type": "code",
   "execution_count": 69,
   "id": "outer-duplicate",
   "metadata": {},
   "outputs": [
    {
     "data": {
      "text/plain": [
       "investor_uuid                       0\n",
       "name                                2\n",
       "type                                0\n",
       "country_code                    53898\n",
       "state_code                     112472\n",
       "region                          57935\n",
       "city                            59582\n",
       "investor_types                  81201\n",
       "investment_count                83892\n",
       "total_funding_usd              162641\n",
       "total_funding                  162641\n",
       "total_funding_currency_code    162641\n",
       "founded_on                     121592\n",
       "closed_on                      166366\n",
       "facebook_url                   137548\n",
       "linkedin_url                    78483\n",
       "twitter_url                    124010\n",
       "logo_url                        42484\n",
       "dtype: int64"
      ]
     },
     "execution_count": 69,
     "metadata": {},
     "output_type": "execute_result"
    }
   ],
   "source": [
    "investors_df_v1.isnull().sum(axis=0)"
   ]
  },
  {
   "cell_type": "code",
   "execution_count": 70,
   "id": "tight-retention",
   "metadata": {},
   "outputs": [],
   "source": [
    "#import investment partner\n",
    "investment_partner_df = pd.read_csv(R\"d:/msc-project/data/bulk_export_122020/investment_partners.csv\",encoding='utf-8')"
   ]
  },
  {
   "cell_type": "code",
   "execution_count": 71,
   "id": "vietnamese-consensus",
   "metadata": {},
   "outputs": [
    {
     "data": {
      "text/plain": [
       "Index(['uuid', 'name', 'type', 'permalink', 'cb_url', 'rank', 'created_at',\n",
       "       'updated_at', 'funding_round_uuid', 'funding_round_name',\n",
       "       'investor_uuid', 'investor_name', 'partner_uuid', 'partner_name'],\n",
       "      dtype='object')"
      ]
     },
     "execution_count": 71,
     "metadata": {},
     "output_type": "execute_result"
    }
   ],
   "source": [
    "investment_partner_df.columns"
   ]
  },
  {
   "cell_type": "code",
   "execution_count": 72,
   "id": "integrated-mathematics",
   "metadata": {},
   "outputs": [
    {
     "data": {
      "text/html": [
       "<div>\n",
       "<style scoped>\n",
       "    .dataframe tbody tr th:only-of-type {\n",
       "        vertical-align: middle;\n",
       "    }\n",
       "\n",
       "    .dataframe tbody tr th {\n",
       "        vertical-align: top;\n",
       "    }\n",
       "\n",
       "    .dataframe thead th {\n",
       "        text-align: right;\n",
       "    }\n",
       "</style>\n",
       "<table border=\"1\" class=\"dataframe\">\n",
       "  <thead>\n",
       "    <tr style=\"text-align: right;\">\n",
       "      <th></th>\n",
       "      <th>uuid</th>\n",
       "      <th>name</th>\n",
       "      <th>type</th>\n",
       "      <th>permalink</th>\n",
       "      <th>cb_url</th>\n",
       "      <th>rank</th>\n",
       "      <th>created_at</th>\n",
       "      <th>updated_at</th>\n",
       "      <th>funding_round_uuid</th>\n",
       "      <th>funding_round_name</th>\n",
       "      <th>investor_uuid</th>\n",
       "      <th>investor_name</th>\n",
       "      <th>partner_uuid</th>\n",
       "      <th>partner_name</th>\n",
       "    </tr>\n",
       "  </thead>\n",
       "  <tbody>\n",
       "    <tr>\n",
       "      <th>0</th>\n",
       "      <td>524986f0-3049-54a4-fa72-f60897a5e61d</td>\n",
       "      <td>Accel investment in Series A - Facebook</td>\n",
       "      <td>investment</td>\n",
       "      <td>accel-invested-in-facebook-series-a--d950d7a5-...</td>\n",
       "      <td>https://www.crunchbase.com/investment/accel-in...</td>\n",
       "      <td>NaN</td>\n",
       "      <td>2007-05-27 06:09:10</td>\n",
       "      <td>2018-02-13 00:52:57</td>\n",
       "      <td>d950d7a5-79ff-fb93-ca87-13386b0e2feb</td>\n",
       "      <td>Series A - Facebook</td>\n",
       "      <td>b08efc27-da40-505a-6f9d-c9e14247bf36</td>\n",
       "      <td>Accel</td>\n",
       "      <td>2d78d1e7-203c-3eb6-bf1b-c51f10e0679b</td>\n",
       "      <td>Jim Breyer</td>\n",
       "    </tr>\n",
       "    <tr>\n",
       "      <th>1</th>\n",
       "      <td>524986f0-3049-54a4-fa72-f60897a5e61d</td>\n",
       "      <td>Accel investment in Series A - Facebook</td>\n",
       "      <td>investment</td>\n",
       "      <td>accel-invested-in-facebook-series-a--d950d7a5-...</td>\n",
       "      <td>https://www.crunchbase.com/investment/accel-in...</td>\n",
       "      <td>NaN</td>\n",
       "      <td>2007-05-27 06:09:10</td>\n",
       "      <td>2018-02-13 00:52:57</td>\n",
       "      <td>d950d7a5-79ff-fb93-ca87-13386b0e2feb</td>\n",
       "      <td>Series A - Facebook</td>\n",
       "      <td>b08efc27-da40-505a-6f9d-c9e14247bf36</td>\n",
       "      <td>Accel</td>\n",
       "      <td>eaf6c243-d355-32f3-e23a-2a5fc82e8b34</td>\n",
       "      <td>Kevin Efrusy</td>\n",
       "    </tr>\n",
       "  </tbody>\n",
       "</table>\n",
       "</div>"
      ],
      "text/plain": [
       "                                   uuid  \\\n",
       "0  524986f0-3049-54a4-fa72-f60897a5e61d   \n",
       "1  524986f0-3049-54a4-fa72-f60897a5e61d   \n",
       "\n",
       "                                      name        type  \\\n",
       "0  Accel investment in Series A - Facebook  investment   \n",
       "1  Accel investment in Series A - Facebook  investment   \n",
       "\n",
       "                                           permalink  \\\n",
       "0  accel-invested-in-facebook-series-a--d950d7a5-...   \n",
       "1  accel-invested-in-facebook-series-a--d950d7a5-...   \n",
       "\n",
       "                                              cb_url  rank  \\\n",
       "0  https://www.crunchbase.com/investment/accel-in...   NaN   \n",
       "1  https://www.crunchbase.com/investment/accel-in...   NaN   \n",
       "\n",
       "            created_at           updated_at  \\\n",
       "0  2007-05-27 06:09:10  2018-02-13 00:52:57   \n",
       "1  2007-05-27 06:09:10  2018-02-13 00:52:57   \n",
       "\n",
       "                     funding_round_uuid   funding_round_name  \\\n",
       "0  d950d7a5-79ff-fb93-ca87-13386b0e2feb  Series A - Facebook   \n",
       "1  d950d7a5-79ff-fb93-ca87-13386b0e2feb  Series A - Facebook   \n",
       "\n",
       "                          investor_uuid investor_name  \\\n",
       "0  b08efc27-da40-505a-6f9d-c9e14247bf36         Accel   \n",
       "1  b08efc27-da40-505a-6f9d-c9e14247bf36         Accel   \n",
       "\n",
       "                           partner_uuid  partner_name  \n",
       "0  2d78d1e7-203c-3eb6-bf1b-c51f10e0679b    Jim Breyer  \n",
       "1  eaf6c243-d355-32f3-e23a-2a5fc82e8b34  Kevin Efrusy  "
      ]
     },
     "execution_count": 72,
     "metadata": {},
     "output_type": "execute_result"
    }
   ],
   "source": [
    "investment_partner_df.head(2)"
   ]
  },
  {
   "cell_type": "code",
   "execution_count": 73,
   "id": "prescription-exclusion",
   "metadata": {},
   "outputs": [],
   "source": [
    "investment_partner_df_v1 = investment_partner_df.drop(columns=['name', 'type', 'permalink', 'cb_url', 'rank', 'created_at',\n",
    "       'updated_at', 'funding_round_uuid', 'funding_round_name',\n",
    "       'investor_uuid', 'investor_name'])"
   ]
  },
  {
   "cell_type": "code",
   "execution_count": 74,
   "id": "greek-cooling",
   "metadata": {},
   "outputs": [],
   "source": [
    "investment_partner_df_v1.rename (columns={'uuid':'investment_uuid'},inplace=True)"
   ]
  },
  {
   "cell_type": "code",
   "execution_count": 75,
   "id": "round-brass",
   "metadata": {},
   "outputs": [
    {
     "data": {
      "text/plain": [
       "Index(['investment_uuid', 'partner_uuid', 'partner_name'], dtype='object')"
      ]
     },
     "execution_count": 75,
     "metadata": {},
     "output_type": "execute_result"
    }
   ],
   "source": [
    "investment_partner_df_v1.columns"
   ]
  },
  {
   "cell_type": "code",
   "execution_count": 76,
   "id": "alien-edition",
   "metadata": {},
   "outputs": [],
   "source": [
    "main_investment_v1 = pd.merge (investment_df_v1,investment_partner_df_v1,\n",
    "                              on='investment_uuid',\n",
    "                              how='left')"
   ]
  },
  {
   "cell_type": "code",
   "execution_count": 77,
   "id": "standard-small",
   "metadata": {},
   "outputs": [
    {
     "data": {
      "text/plain": [
       "Index(['investment_uuid', 'name', 'funding_round_uuid', 'funding_round_name',\n",
       "       'investor_uuid', 'investor_name', 'investor_type', 'is_lead_investor',\n",
       "       'partner_uuid', 'partner_name'],\n",
       "      dtype='object')"
      ]
     },
     "execution_count": 77,
     "metadata": {},
     "output_type": "execute_result"
    }
   ],
   "source": [
    "main_investment_v1.columns"
   ]
  },
  {
   "cell_type": "markdown",
   "id": "vietnamese-compilation",
   "metadata": {},
   "source": [
    "# Funds"
   ]
  },
  {
   "cell_type": "code",
   "execution_count": 78,
   "id": "educational-attempt",
   "metadata": {},
   "outputs": [],
   "source": [
    "funds_df = pd.read_csv(R\"d:/msc-project/data/bulk_export_122020/funds.csv\",encoding='utf-8')"
   ]
  },
  {
   "cell_type": "code",
   "execution_count": 79,
   "id": "verbal-majority",
   "metadata": {},
   "outputs": [
    {
     "data": {
      "text/plain": [
       "Index(['uuid', 'name', 'type', 'permalink', 'cb_url', 'rank', 'created_at',\n",
       "       'updated_at', 'entity_uuid', 'entity_name', 'entity_type',\n",
       "       'announced_on', 'raised_amount_usd', 'raised_amount',\n",
       "       'raised_amount_currency_code'],\n",
       "      dtype='object')"
      ]
     },
     "execution_count": 79,
     "metadata": {},
     "output_type": "execute_result"
    }
   ],
   "source": [
    "funds_df.columns"
   ]
  },
  {
   "cell_type": "code",
   "execution_count": 80,
   "id": "chinese-chrome",
   "metadata": {},
   "outputs": [
    {
     "data": {
      "text/html": [
       "<div>\n",
       "<style scoped>\n",
       "    .dataframe tbody tr th:only-of-type {\n",
       "        vertical-align: middle;\n",
       "    }\n",
       "\n",
       "    .dataframe tbody tr th {\n",
       "        vertical-align: top;\n",
       "    }\n",
       "\n",
       "    .dataframe thead th {\n",
       "        text-align: right;\n",
       "    }\n",
       "</style>\n",
       "<table border=\"1\" class=\"dataframe\">\n",
       "  <thead>\n",
       "    <tr style=\"text-align: right;\">\n",
       "      <th></th>\n",
       "      <th>uuid</th>\n",
       "      <th>name</th>\n",
       "      <th>type</th>\n",
       "      <th>permalink</th>\n",
       "      <th>cb_url</th>\n",
       "      <th>rank</th>\n",
       "      <th>created_at</th>\n",
       "      <th>updated_at</th>\n",
       "      <th>entity_uuid</th>\n",
       "      <th>entity_name</th>\n",
       "      <th>entity_type</th>\n",
       "      <th>announced_on</th>\n",
       "      <th>raised_amount_usd</th>\n",
       "      <th>raised_amount</th>\n",
       "      <th>raised_amount_currency_code</th>\n",
       "    </tr>\n",
       "  </thead>\n",
       "  <tbody>\n",
       "    <tr>\n",
       "      <th>0</th>\n",
       "      <td>8190b28a-3c78-0ac4-1e7c-f0b5edce4b2e</td>\n",
       "      <td>DFJ Dragon Second Fund</td>\n",
       "      <td>fund</td>\n",
       "      <td>dfj-dragonfund-raised-dfj-dragon-second-fund--...</td>\n",
       "      <td>https://www.crunchbase.com/fund/dfj-dragonfund...</td>\n",
       "      <td>NaN</td>\n",
       "      <td>2008-12-17 03:07:16</td>\n",
       "      <td>2018-02-12 23:51:25</td>\n",
       "      <td>fe743289-a4aa-a470-00d8-bbe937e0955b</td>\n",
       "      <td>DFJ DragonFund</td>\n",
       "      <td>organization</td>\n",
       "      <td>2008-12-16</td>\n",
       "      <td>300000000.0</td>\n",
       "      <td>300000000.0</td>\n",
       "      <td>USD</td>\n",
       "    </tr>\n",
       "    <tr>\n",
       "      <th>1</th>\n",
       "      <td>cbb6644a-eafb-4686-5505-61f32e1c3638</td>\n",
       "      <td>Sequoia Israel Fund IV</td>\n",
       "      <td>fund</td>\n",
       "      <td>sequoia-capital-raised-sequoia-israel-fund-iv-...</td>\n",
       "      <td>https://www.crunchbase.com/fund/sequoia-capita...</td>\n",
       "      <td>NaN</td>\n",
       "      <td>2008-12-18 22:04:42</td>\n",
       "      <td>2018-02-13 00:38:07</td>\n",
       "      <td>0c867fde-2b9a-df10-fdb9-66b74f355f91</td>\n",
       "      <td>Sequoia Capital</td>\n",
       "      <td>organization</td>\n",
       "      <td>2008-12-17</td>\n",
       "      <td>200750000.0</td>\n",
       "      <td>200750000.0</td>\n",
       "      <td>USD</td>\n",
       "    </tr>\n",
       "  </tbody>\n",
       "</table>\n",
       "</div>"
      ],
      "text/plain": [
       "                                   uuid                    name  type  \\\n",
       "0  8190b28a-3c78-0ac4-1e7c-f0b5edce4b2e  DFJ Dragon Second Fund  fund   \n",
       "1  cbb6644a-eafb-4686-5505-61f32e1c3638  Sequoia Israel Fund IV  fund   \n",
       "\n",
       "                                           permalink  \\\n",
       "0  dfj-dragonfund-raised-dfj-dragon-second-fund--...   \n",
       "1  sequoia-capital-raised-sequoia-israel-fund-iv-...   \n",
       "\n",
       "                                              cb_url  rank  \\\n",
       "0  https://www.crunchbase.com/fund/dfj-dragonfund...   NaN   \n",
       "1  https://www.crunchbase.com/fund/sequoia-capita...   NaN   \n",
       "\n",
       "            created_at           updated_at  \\\n",
       "0  2008-12-17 03:07:16  2018-02-12 23:51:25   \n",
       "1  2008-12-18 22:04:42  2018-02-13 00:38:07   \n",
       "\n",
       "                            entity_uuid      entity_name   entity_type  \\\n",
       "0  fe743289-a4aa-a470-00d8-bbe937e0955b   DFJ DragonFund  organization   \n",
       "1  0c867fde-2b9a-df10-fdb9-66b74f355f91  Sequoia Capital  organization   \n",
       "\n",
       "  announced_on  raised_amount_usd  raised_amount raised_amount_currency_code  \n",
       "0   2008-12-16        300000000.0    300000000.0                         USD  \n",
       "1   2008-12-17        200750000.0    200750000.0                         USD  "
      ]
     },
     "execution_count": 80,
     "metadata": {},
     "output_type": "execute_result"
    }
   ],
   "source": [
    "funds_df.head(2)"
   ]
  },
  {
   "cell_type": "code",
   "execution_count": 81,
   "id": "considered-japan",
   "metadata": {},
   "outputs": [],
   "source": [
    "funds_df_v1 = funds_df.drop(columns = ['type', 'permalink', 'cb_url', 'rank', 'created_at',\n",
    "       'updated_at'])"
   ]
  },
  {
   "cell_type": "code",
   "execution_count": 82,
   "id": "taken-keeping",
   "metadata": {},
   "outputs": [
    {
     "data": {
      "text/plain": [
       "uuid                              0\n",
       "name                              0\n",
       "entity_uuid                       0\n",
       "entity_name                       0\n",
       "entity_type                       0\n",
       "announced_on                    301\n",
       "raised_amount_usd              2927\n",
       "raised_amount                  2919\n",
       "raised_amount_currency_code    2919\n",
       "dtype: int64"
      ]
     },
     "execution_count": 82,
     "metadata": {},
     "output_type": "execute_result"
    }
   ],
   "source": [
    "funds_df_v1.isnull().sum(axis=0)"
   ]
  },
  {
   "cell_type": "code",
   "execution_count": 83,
   "id": "connected-pierce",
   "metadata": {},
   "outputs": [],
   "source": [
    "funds_df_v1.rename(columns={'uuid':'fund_uuid','entity_uuid':'org_uuid'},inplace=True)"
   ]
  },
  {
   "cell_type": "code",
   "execution_count": 84,
   "id": "yellow-technical",
   "metadata": {},
   "outputs": [
    {
     "data": {
      "text/plain": [
       "Index(['fund_uuid', 'name', 'org_uuid', 'entity_name', 'entity_type',\n",
       "       'announced_on', 'raised_amount_usd', 'raised_amount',\n",
       "       'raised_amount_currency_code'],\n",
       "      dtype='object')"
      ]
     },
     "execution_count": 84,
     "metadata": {},
     "output_type": "execute_result"
    }
   ],
   "source": [
    "funds_df_v1.columns"
   ]
  },
  {
   "cell_type": "markdown",
   "id": "seeing-cradle",
   "metadata": {},
   "source": [
    "# Events"
   ]
  },
  {
   "cell_type": "code",
   "execution_count": 85,
   "id": "joint-housing",
   "metadata": {},
   "outputs": [],
   "source": [
    "#import events.csv\n",
    "events_df = pd.read_csv(R\"d:/msc-project/data/bulk_export_122020/events.csv\",encoding='utf-8')"
   ]
  },
  {
   "cell_type": "code",
   "execution_count": 86,
   "id": "behind-retailer",
   "metadata": {},
   "outputs": [
    {
     "data": {
      "text/plain": [
       "Index(['uuid', 'name', 'type', 'permalink', 'cb_url', 'rank', 'created_at',\n",
       "       'updated_at', 'short_description', 'started_on', 'ended_on',\n",
       "       'event_url', 'registration_url', 'venue_name', 'description',\n",
       "       'country_code', 'state_code', 'region', 'city', 'logo_url',\n",
       "       'event_roles'],\n",
       "      dtype='object')"
      ]
     },
     "execution_count": 86,
     "metadata": {},
     "output_type": "execute_result"
    }
   ],
   "source": [
    "events_df.columns"
   ]
  },
  {
   "cell_type": "code",
   "execution_count": 87,
   "id": "unusual-thing",
   "metadata": {},
   "outputs": [
    {
     "data": {
      "text/html": [
       "<div>\n",
       "<style scoped>\n",
       "    .dataframe tbody tr th:only-of-type {\n",
       "        vertical-align: middle;\n",
       "    }\n",
       "\n",
       "    .dataframe tbody tr th {\n",
       "        vertical-align: top;\n",
       "    }\n",
       "\n",
       "    .dataframe thead th {\n",
       "        text-align: right;\n",
       "    }\n",
       "</style>\n",
       "<table border=\"1\" class=\"dataframe\">\n",
       "  <thead>\n",
       "    <tr style=\"text-align: right;\">\n",
       "      <th></th>\n",
       "      <th>uuid</th>\n",
       "      <th>name</th>\n",
       "      <th>type</th>\n",
       "      <th>permalink</th>\n",
       "      <th>cb_url</th>\n",
       "      <th>rank</th>\n",
       "      <th>created_at</th>\n",
       "      <th>updated_at</th>\n",
       "      <th>short_description</th>\n",
       "      <th>started_on</th>\n",
       "      <th>...</th>\n",
       "      <th>event_url</th>\n",
       "      <th>registration_url</th>\n",
       "      <th>venue_name</th>\n",
       "      <th>description</th>\n",
       "      <th>country_code</th>\n",
       "      <th>state_code</th>\n",
       "      <th>region</th>\n",
       "      <th>city</th>\n",
       "      <th>logo_url</th>\n",
       "      <th>event_roles</th>\n",
       "    </tr>\n",
       "  </thead>\n",
       "  <tbody>\n",
       "    <tr>\n",
       "      <th>0</th>\n",
       "      <td>6a21f93a-3cae-02ac-44c7-c166c0ed50fa</td>\n",
       "      <td>SF New Tech</td>\n",
       "      <td>event</td>\n",
       "      <td>sfnt-201272-san-francisco</td>\n",
       "      <td>https://www.crunchbase.com/event/sfnt-201272-s...</td>\n",
       "      <td>18739.0</td>\n",
       "      <td>2014-10-03 18:12:25</td>\n",
       "      <td>2018-02-13 01:14:28</td>\n",
       "      <td>Join us on Wed, Oct 15th for another edition o...</td>\n",
       "      <td>2014-10-14</td>\n",
       "      <td>...</td>\n",
       "      <td>NaN</td>\n",
       "      <td>http://1015sfnt-meetup.eventbrite.com</td>\n",
       "      <td>RocketStudios</td>\n",
       "      <td>NaN</td>\n",
       "      <td>USA</td>\n",
       "      <td>CA</td>\n",
       "      <td>California</td>\n",
       "      <td>San Francisco</td>\n",
       "      <td>NaN</td>\n",
       "      <td>conference</td>\n",
       "    </tr>\n",
       "    <tr>\n",
       "      <th>1</th>\n",
       "      <td>135a927a-b238-037e-50e2-d3a2e3511ed2</td>\n",
       "      <td>Adobe MAX 2014</td>\n",
       "      <td>event</td>\n",
       "      <td>adobe-max-2014104-los-angeles</td>\n",
       "      <td>https://www.crunchbase.com/event/adobe-max-201...</td>\n",
       "      <td>8883.0</td>\n",
       "      <td>2014-10-03 18:14:15</td>\n",
       "      <td>2018-02-13 01:14:24</td>\n",
       "      <td>Sessions, labs, and creativity workshops where...</td>\n",
       "      <td>2014-10-04</td>\n",
       "      <td>...</td>\n",
       "      <td>NaN</td>\n",
       "      <td>http://max.adobe.com/registration/</td>\n",
       "      <td>Los Angeles Convention Center</td>\n",
       "      <td>NaN</td>\n",
       "      <td>USA</td>\n",
       "      <td>CA</td>\n",
       "      <td>California</td>\n",
       "      <td>Los Angeles</td>\n",
       "      <td>https://res.cloudinary.com/crunchbase-producti...</td>\n",
       "      <td>conference</td>\n",
       "    </tr>\n",
       "    <tr>\n",
       "      <th>2</th>\n",
       "      <td>c6006d9f-e796-2a2a-2efc-c4e55caa98f8</td>\n",
       "      <td>ad:tech New York</td>\n",
       "      <td>event</td>\n",
       "      <td>ad-tech-new-york-2014105-new-york</td>\n",
       "      <td>https://www.crunchbase.com/event/ad-tech-new-y...</td>\n",
       "      <td>8346.0</td>\n",
       "      <td>2014-10-03 18:40:03</td>\n",
       "      <td>2018-02-13 01:14:23</td>\n",
       "      <td>ad:tech New York will showcase keynote speaker...</td>\n",
       "      <td>2014-10-05</td>\n",
       "      <td>...</td>\n",
       "      <td>NaN</td>\n",
       "      <td>http://ad-tech.com/ny/registration</td>\n",
       "      <td>Javits Center</td>\n",
       "      <td>NaN</td>\n",
       "      <td>USA</td>\n",
       "      <td>NY</td>\n",
       "      <td>New York</td>\n",
       "      <td>New York</td>\n",
       "      <td>https://res.cloudinary.com/crunchbase-producti...</td>\n",
       "      <td>conference</td>\n",
       "    </tr>\n",
       "  </tbody>\n",
       "</table>\n",
       "<p>3 rows × 21 columns</p>\n",
       "</div>"
      ],
      "text/plain": [
       "                                   uuid              name   type  \\\n",
       "0  6a21f93a-3cae-02ac-44c7-c166c0ed50fa       SF New Tech  event   \n",
       "1  135a927a-b238-037e-50e2-d3a2e3511ed2    Adobe MAX 2014  event   \n",
       "2  c6006d9f-e796-2a2a-2efc-c4e55caa98f8  ad:tech New York  event   \n",
       "\n",
       "                           permalink  \\\n",
       "0          sfnt-201272-san-francisco   \n",
       "1      adobe-max-2014104-los-angeles   \n",
       "2  ad-tech-new-york-2014105-new-york   \n",
       "\n",
       "                                              cb_url     rank  \\\n",
       "0  https://www.crunchbase.com/event/sfnt-201272-s...  18739.0   \n",
       "1  https://www.crunchbase.com/event/adobe-max-201...   8883.0   \n",
       "2  https://www.crunchbase.com/event/ad-tech-new-y...   8346.0   \n",
       "\n",
       "            created_at           updated_at  \\\n",
       "0  2014-10-03 18:12:25  2018-02-13 01:14:28   \n",
       "1  2014-10-03 18:14:15  2018-02-13 01:14:24   \n",
       "2  2014-10-03 18:40:03  2018-02-13 01:14:23   \n",
       "\n",
       "                                   short_description  started_on  ...  \\\n",
       "0  Join us on Wed, Oct 15th for another edition o...  2014-10-14  ...   \n",
       "1  Sessions, labs, and creativity workshops where...  2014-10-04  ...   \n",
       "2  ad:tech New York will showcase keynote speaker...  2014-10-05  ...   \n",
       "\n",
       "  event_url                       registration_url  \\\n",
       "0       NaN  http://1015sfnt-meetup.eventbrite.com   \n",
       "1       NaN     http://max.adobe.com/registration/   \n",
       "2       NaN     http://ad-tech.com/ny/registration   \n",
       "\n",
       "                      venue_name description country_code state_code  \\\n",
       "0                  RocketStudios         NaN          USA         CA   \n",
       "1  Los Angeles Convention Center         NaN          USA         CA   \n",
       "2                  Javits Center         NaN          USA         NY   \n",
       "\n",
       "       region           city  \\\n",
       "0  California  San Francisco   \n",
       "1  California    Los Angeles   \n",
       "2    New York       New York   \n",
       "\n",
       "                                            logo_url event_roles  \n",
       "0                                                NaN  conference  \n",
       "1  https://res.cloudinary.com/crunchbase-producti...  conference  \n",
       "2  https://res.cloudinary.com/crunchbase-producti...  conference  \n",
       "\n",
       "[3 rows x 21 columns]"
      ]
     },
     "execution_count": 87,
     "metadata": {},
     "output_type": "execute_result"
    }
   ],
   "source": [
    "events_df.head(3)"
   ]
  },
  {
   "cell_type": "code",
   "execution_count": 88,
   "id": "harmful-programming",
   "metadata": {},
   "outputs": [],
   "source": [
    "events_df_v1 = events_df.drop (columns = ['type', 'permalink', 'cb_url', 'rank', 'created_at',\n",
    "       'updated_at','event_url', 'registration_url', 'venue_name','logo_url'])"
   ]
  },
  {
   "cell_type": "code",
   "execution_count": 89,
   "id": "bacterial-robert",
   "metadata": {},
   "outputs": [],
   "source": [
    "events_df_v1.rename(columns = {'uuid':'event_uuid'},inplace=True)"
   ]
  },
  {
   "cell_type": "code",
   "execution_count": 90,
   "id": "supposed-reset",
   "metadata": {},
   "outputs": [
    {
     "data": {
      "text/plain": [
       "Index(['event_uuid', 'name', 'short_description', 'started_on', 'ended_on',\n",
       "       'description', 'country_code', 'state_code', 'region', 'city',\n",
       "       'event_roles'],\n",
       "      dtype='object')"
      ]
     },
     "execution_count": 90,
     "metadata": {},
     "output_type": "execute_result"
    }
   ],
   "source": [
    "events_df_v1.columns"
   ]
  },
  {
   "cell_type": "markdown",
   "id": "canadian-alcohol",
   "metadata": {},
   "source": [
    "# Event Appearances"
   ]
  },
  {
   "cell_type": "code",
   "execution_count": 91,
   "id": "forced-consequence",
   "metadata": {},
   "outputs": [],
   "source": [
    "#import event_appearances.csv\n",
    "event_appear_df = pd.read_csv(R\"d:/msc-project/data/bulk_export_122020/event_appearances.csv\",encoding='utf-8')"
   ]
  },
  {
   "cell_type": "code",
   "execution_count": 92,
   "id": "tight-laugh",
   "metadata": {},
   "outputs": [
    {
     "data": {
      "text/plain": [
       "Index(['uuid', 'name', 'type', 'permalink', 'cb_url', 'rank', 'created_at',\n",
       "       'updated_at', 'event_uuid', 'event_name', 'participant_uuid',\n",
       "       'participant_name', 'participant_type', 'appearance_type',\n",
       "       'short_description'],\n",
       "      dtype='object')"
      ]
     },
     "execution_count": 92,
     "metadata": {},
     "output_type": "execute_result"
    }
   ],
   "source": [
    "event_appear_df.columns"
   ]
  },
  {
   "cell_type": "code",
   "execution_count": 93,
   "id": "sound-shade",
   "metadata": {},
   "outputs": [
    {
     "data": {
      "text/html": [
       "<div>\n",
       "<style scoped>\n",
       "    .dataframe tbody tr th:only-of-type {\n",
       "        vertical-align: middle;\n",
       "    }\n",
       "\n",
       "    .dataframe tbody tr th {\n",
       "        vertical-align: top;\n",
       "    }\n",
       "\n",
       "    .dataframe thead th {\n",
       "        text-align: right;\n",
       "    }\n",
       "</style>\n",
       "<table border=\"1\" class=\"dataframe\">\n",
       "  <thead>\n",
       "    <tr style=\"text-align: right;\">\n",
       "      <th></th>\n",
       "      <th>uuid</th>\n",
       "      <th>name</th>\n",
       "      <th>type</th>\n",
       "      <th>permalink</th>\n",
       "      <th>cb_url</th>\n",
       "      <th>rank</th>\n",
       "      <th>created_at</th>\n",
       "      <th>updated_at</th>\n",
       "      <th>event_uuid</th>\n",
       "      <th>event_name</th>\n",
       "      <th>participant_uuid</th>\n",
       "      <th>participant_name</th>\n",
       "      <th>participant_type</th>\n",
       "      <th>appearance_type</th>\n",
       "      <th>short_description</th>\n",
       "    </tr>\n",
       "  </thead>\n",
       "  <tbody>\n",
       "    <tr>\n",
       "      <th>0</th>\n",
       "      <td>30c4023d-b694-4704-97d7-cd99cd06ecce</td>\n",
       "      <td>Adobe MAX 2014's sponsor - CDW Corporation</td>\n",
       "      <td>event_appearance</td>\n",
       "      <td>cdw-corporation-sponsor-adobe-max-2014104-los-...</td>\n",
       "      <td>https://www.crunchbase.com/event_appearance/cd...</td>\n",
       "      <td>NaN</td>\n",
       "      <td>2014-10-03 18:21:26</td>\n",
       "      <td>2018-02-13 01:16:54</td>\n",
       "      <td>135a927a-b238-037e-50e2-d3a2e3511ed2</td>\n",
       "      <td>Adobe MAX 2014</td>\n",
       "      <td>ae883a31-3739-7eb9-4ce0-463ee070ed79</td>\n",
       "      <td>CDW Corporation</td>\n",
       "      <td>organization</td>\n",
       "      <td>sponsor</td>\n",
       "      <td>NaN</td>\n",
       "    </tr>\n",
       "    <tr>\n",
       "      <th>1</th>\n",
       "      <td>dffe0542-3dac-4228-a997-3eed42cbd67e</td>\n",
       "      <td>Adobe MAX 2014's sponsor - Microsoft</td>\n",
       "      <td>event_appearance</td>\n",
       "      <td>microsoft-sponsor-adobe-max-2014104-los-angele...</td>\n",
       "      <td>https://www.crunchbase.com/event_appearance/mi...</td>\n",
       "      <td>NaN</td>\n",
       "      <td>2014-10-03 18:21:42</td>\n",
       "      <td>2018-02-13 01:16:21</td>\n",
       "      <td>135a927a-b238-037e-50e2-d3a2e3511ed2</td>\n",
       "      <td>Adobe MAX 2014</td>\n",
       "      <td>fd80725f-53fc-7009-9878-aeecf1e9ffbb</td>\n",
       "      <td>Microsoft</td>\n",
       "      <td>organization</td>\n",
       "      <td>sponsor</td>\n",
       "      <td>NaN</td>\n",
       "    </tr>\n",
       "    <tr>\n",
       "      <th>2</th>\n",
       "      <td>21884e6c-d097-4c54-8513-10536a0ea60d</td>\n",
       "      <td>Adobe MAX 2014's sponsor - Twitter</td>\n",
       "      <td>event_appearance</td>\n",
       "      <td>twitter-sponsor-adobe-max-2014104-los-angeles-...</td>\n",
       "      <td>https://www.crunchbase.com/event_appearance/tw...</td>\n",
       "      <td>NaN</td>\n",
       "      <td>2014-10-03 18:21:55</td>\n",
       "      <td>2018-02-13 01:16:23</td>\n",
       "      <td>135a927a-b238-037e-50e2-d3a2e3511ed2</td>\n",
       "      <td>Adobe MAX 2014</td>\n",
       "      <td>5da6106f-0d27-0d37-e9d7-dcfeccc1f709</td>\n",
       "      <td>Twitter</td>\n",
       "      <td>organization</td>\n",
       "      <td>sponsor</td>\n",
       "      <td>NaN</td>\n",
       "    </tr>\n",
       "  </tbody>\n",
       "</table>\n",
       "</div>"
      ],
      "text/plain": [
       "                                   uuid  \\\n",
       "0  30c4023d-b694-4704-97d7-cd99cd06ecce   \n",
       "1  dffe0542-3dac-4228-a997-3eed42cbd67e   \n",
       "2  21884e6c-d097-4c54-8513-10536a0ea60d   \n",
       "\n",
       "                                         name              type  \\\n",
       "0  Adobe MAX 2014's sponsor - CDW Corporation  event_appearance   \n",
       "1        Adobe MAX 2014's sponsor - Microsoft  event_appearance   \n",
       "2          Adobe MAX 2014's sponsor - Twitter  event_appearance   \n",
       "\n",
       "                                           permalink  \\\n",
       "0  cdw-corporation-sponsor-adobe-max-2014104-los-...   \n",
       "1  microsoft-sponsor-adobe-max-2014104-los-angele...   \n",
       "2  twitter-sponsor-adobe-max-2014104-los-angeles-...   \n",
       "\n",
       "                                              cb_url  rank  \\\n",
       "0  https://www.crunchbase.com/event_appearance/cd...   NaN   \n",
       "1  https://www.crunchbase.com/event_appearance/mi...   NaN   \n",
       "2  https://www.crunchbase.com/event_appearance/tw...   NaN   \n",
       "\n",
       "            created_at           updated_at  \\\n",
       "0  2014-10-03 18:21:26  2018-02-13 01:16:54   \n",
       "1  2014-10-03 18:21:42  2018-02-13 01:16:21   \n",
       "2  2014-10-03 18:21:55  2018-02-13 01:16:23   \n",
       "\n",
       "                             event_uuid      event_name  \\\n",
       "0  135a927a-b238-037e-50e2-d3a2e3511ed2  Adobe MAX 2014   \n",
       "1  135a927a-b238-037e-50e2-d3a2e3511ed2  Adobe MAX 2014   \n",
       "2  135a927a-b238-037e-50e2-d3a2e3511ed2  Adobe MAX 2014   \n",
       "\n",
       "                       participant_uuid participant_name participant_type  \\\n",
       "0  ae883a31-3739-7eb9-4ce0-463ee070ed79  CDW Corporation     organization   \n",
       "1  fd80725f-53fc-7009-9878-aeecf1e9ffbb        Microsoft     organization   \n",
       "2  5da6106f-0d27-0d37-e9d7-dcfeccc1f709          Twitter     organization   \n",
       "\n",
       "  appearance_type short_description  \n",
       "0         sponsor               NaN  \n",
       "1         sponsor               NaN  \n",
       "2         sponsor               NaN  "
      ]
     },
     "execution_count": 93,
     "metadata": {},
     "output_type": "execute_result"
    }
   ],
   "source": [
    "event_appear_df.head(3)"
   ]
  },
  {
   "cell_type": "code",
   "execution_count": 94,
   "id": "sophisticated-breach",
   "metadata": {},
   "outputs": [
    {
     "data": {
      "text/plain": [
       "{'organization', 'person'}"
      ]
     },
     "execution_count": 94,
     "metadata": {},
     "output_type": "execute_result"
    }
   ],
   "source": [
    "set(event_appear_df.participant_type)"
   ]
  },
  {
   "cell_type": "code",
   "execution_count": 95,
   "id": "rolled-territory",
   "metadata": {},
   "outputs": [
    {
     "data": {
      "text/html": [
       "<div>\n",
       "<style scoped>\n",
       "    .dataframe tbody tr th:only-of-type {\n",
       "        vertical-align: middle;\n",
       "    }\n",
       "\n",
       "    .dataframe tbody tr th {\n",
       "        vertical-align: top;\n",
       "    }\n",
       "\n",
       "    .dataframe thead th {\n",
       "        text-align: right;\n",
       "    }\n",
       "</style>\n",
       "<table border=\"1\" class=\"dataframe\">\n",
       "  <thead>\n",
       "    <tr style=\"text-align: right;\">\n",
       "      <th></th>\n",
       "      <th>uuid</th>\n",
       "      <th>name</th>\n",
       "      <th>type</th>\n",
       "      <th>permalink</th>\n",
       "      <th>cb_url</th>\n",
       "      <th>rank</th>\n",
       "      <th>created_at</th>\n",
       "      <th>updated_at</th>\n",
       "      <th>event_uuid</th>\n",
       "      <th>event_name</th>\n",
       "      <th>participant_uuid</th>\n",
       "      <th>participant_name</th>\n",
       "      <th>participant_type</th>\n",
       "      <th>appearance_type</th>\n",
       "      <th>short_description</th>\n",
       "    </tr>\n",
       "  </thead>\n",
       "  <tbody>\n",
       "    <tr>\n",
       "      <th>5</th>\n",
       "      <td>f854bd3f-056b-40f6-923f-8b841c4e0d8d</td>\n",
       "      <td>ad:tech New York's speaker - Samir Arora</td>\n",
       "      <td>event_appearance</td>\n",
       "      <td>samir-arora-speaker-ad-tech-new-york-2014105-n...</td>\n",
       "      <td>https://www.crunchbase.com/event_appearance/sa...</td>\n",
       "      <td>NaN</td>\n",
       "      <td>2014-10-03 18:42:47</td>\n",
       "      <td>2018-02-13 01:15:06</td>\n",
       "      <td>c6006d9f-e796-2a2a-2efc-c4e55caa98f8</td>\n",
       "      <td>ad:tech New York</td>\n",
       "      <td>967d56ac-ffb5-9313-ee3f-e45a803ff2da</td>\n",
       "      <td>Samir Arora</td>\n",
       "      <td>person</td>\n",
       "      <td>speaker</td>\n",
       "      <td>NaN</td>\n",
       "    </tr>\n",
       "    <tr>\n",
       "      <th>6</th>\n",
       "      <td>e003dd92-93bd-40a7-bf24-cbf46ec748c1</td>\n",
       "      <td>ad:tech New York's speaker - Cynthia Breazeal</td>\n",
       "      <td>event_appearance</td>\n",
       "      <td>cynthia-breazeal-speaker-ad-tech-new-york-2014...</td>\n",
       "      <td>https://www.crunchbase.com/event_appearance/cy...</td>\n",
       "      <td>NaN</td>\n",
       "      <td>2014-10-03 18:42:58</td>\n",
       "      <td>2018-02-13 01:15:48</td>\n",
       "      <td>c6006d9f-e796-2a2a-2efc-c4e55caa98f8</td>\n",
       "      <td>ad:tech New York</td>\n",
       "      <td>4109671d-5563-a6e0-c650-c4d75b29cef4</td>\n",
       "      <td>Cynthia Breazeal</td>\n",
       "      <td>person</td>\n",
       "      <td>speaker</td>\n",
       "      <td>NaN</td>\n",
       "    </tr>\n",
       "    <tr>\n",
       "      <th>11</th>\n",
       "      <td>56d319df-5b63-4a86-b0c5-aa5dece14912</td>\n",
       "      <td>Engadget Expand's speaker - Alex Gruzen</td>\n",
       "      <td>event_appearance</td>\n",
       "      <td>alex-gruzen-speaker-engadget-expand-2014107-ne...</td>\n",
       "      <td>https://www.crunchbase.com/event_appearance/al...</td>\n",
       "      <td>NaN</td>\n",
       "      <td>2014-10-03 18:52:11</td>\n",
       "      <td>2018-02-13 01:17:22</td>\n",
       "      <td>2710319a-f022-5cd3-f855-6594fd0d6db3</td>\n",
       "      <td>Engadget Expand</td>\n",
       "      <td>62b071b5-0f53-43ea-0ac2-463da6298ddb</td>\n",
       "      <td>Alex Gruzen</td>\n",
       "      <td>person</td>\n",
       "      <td>speaker</td>\n",
       "      <td>NaN</td>\n",
       "    </tr>\n",
       "    <tr>\n",
       "      <th>16</th>\n",
       "      <td>d615fc99-9403-4af2-be93-a74aa838cdee</td>\n",
       "      <td>Dreamforce 2014's speaker - Marc Benioff</td>\n",
       "      <td>event_appearance</td>\n",
       "      <td>marc-benioff-speaker-dreamforce-20141013-san-f...</td>\n",
       "      <td>https://www.crunchbase.com/event_appearance/ma...</td>\n",
       "      <td>NaN</td>\n",
       "      <td>2014-10-03 19:12:14</td>\n",
       "      <td>2018-02-13 01:17:22</td>\n",
       "      <td>35e61ac8-58bf-0492-8285-39dc9c2b236d</td>\n",
       "      <td>Dreamforce 2014</td>\n",
       "      <td>61d19fc5-3a69-e4f7-9a6d-83d4fb6a0212</td>\n",
       "      <td>Marc Benioff</td>\n",
       "      <td>person</td>\n",
       "      <td>speaker</td>\n",
       "      <td>NaN</td>\n",
       "    </tr>\n",
       "    <tr>\n",
       "      <th>17</th>\n",
       "      <td>2d47d06a-29fc-4444-add9-b3d281976aa5</td>\n",
       "      <td>Dreamforce 2014's speaker - Marc Andreessen</td>\n",
       "      <td>event_appearance</td>\n",
       "      <td>marc-andreessen-speaker-dreamforce-20141013-sa...</td>\n",
       "      <td>https://www.crunchbase.com/event_appearance/ma...</td>\n",
       "      <td>NaN</td>\n",
       "      <td>2014-10-03 19:12:24</td>\n",
       "      <td>2018-02-13 01:17:30</td>\n",
       "      <td>35e61ac8-58bf-0492-8285-39dc9c2b236d</td>\n",
       "      <td>Dreamforce 2014</td>\n",
       "      <td>3ba9203f-c79b-3166-2183-c1d690f00bcb</td>\n",
       "      <td>Marc Andreessen</td>\n",
       "      <td>person</td>\n",
       "      <td>speaker</td>\n",
       "      <td>NaN</td>\n",
       "    </tr>\n",
       "    <tr>\n",
       "      <th>...</th>\n",
       "      <td>...</td>\n",
       "      <td>...</td>\n",
       "      <td>...</td>\n",
       "      <td>...</td>\n",
       "      <td>...</td>\n",
       "      <td>...</td>\n",
       "      <td>...</td>\n",
       "      <td>...</td>\n",
       "      <td>...</td>\n",
       "      <td>...</td>\n",
       "      <td>...</td>\n",
       "      <td>...</td>\n",
       "      <td>...</td>\n",
       "      <td>...</td>\n",
       "      <td>...</td>\n",
       "    </tr>\n",
       "    <tr>\n",
       "      <th>413316</th>\n",
       "      <td>154bbeb3-b459-4f53-bae6-4b2b59aef462</td>\n",
       "      <td>C5 Anti-Corruption Switzerland's speaker - Pau...</td>\n",
       "      <td>event_appearance</td>\n",
       "      <td>paul-wang-5ba3-speaker-c5-anti-corruption-swit...</td>\n",
       "      <td>https://www.crunchbase.com/event_appearance/pa...</td>\n",
       "      <td>NaN</td>\n",
       "      <td>2020-12-12 15:09:40</td>\n",
       "      <td>2020-12-12 15:09:40</td>\n",
       "      <td>76461038-e4da-4fa8-8cc8-a50ea197ada9</td>\n",
       "      <td>C5 Anti-Corruption Switzerland</td>\n",
       "      <td>57488442-1cb2-4024-b035-0214b5055ba3</td>\n",
       "      <td>Paul Wang</td>\n",
       "      <td>person</td>\n",
       "      <td>speaker</td>\n",
       "      <td>NaN</td>\n",
       "    </tr>\n",
       "    <tr>\n",
       "      <th>413317</th>\n",
       "      <td>41110c24-b12a-4fa1-8ca5-79b73aed3faf</td>\n",
       "      <td>Blue City Awards 2020's contestant - Lucky Gupta</td>\n",
       "      <td>event_appearance</td>\n",
       "      <td>lucky-gupta-contestant-blue-city-awards-2020--...</td>\n",
       "      <td>https://www.crunchbase.com/event_appearance/lu...</td>\n",
       "      <td>NaN</td>\n",
       "      <td>2020-12-12 19:18:24</td>\n",
       "      <td>2020-12-12 19:18:24</td>\n",
       "      <td>7d2b93d3-0eca-4522-b311-72da7c4b31c5</td>\n",
       "      <td>Blue City Awards 2020</td>\n",
       "      <td>4804805c-e3ba-4416-8396-f866d9f1f71d</td>\n",
       "      <td>Lucky Gupta</td>\n",
       "      <td>person</td>\n",
       "      <td>contestant</td>\n",
       "      <td>Influencer</td>\n",
       "    </tr>\n",
       "    <tr>\n",
       "      <th>413324</th>\n",
       "      <td>b33e76fd-381e-49ea-b390-42ed1f0f20e8</td>\n",
       "      <td>NMSDC Virtual Awards Ceremony Celebration's sp...</td>\n",
       "      <td>event_appearance</td>\n",
       "      <td>ian-conyers-speaker-nmsdc-virtual-awards-cerem...</td>\n",
       "      <td>https://www.crunchbase.com/event_appearance/ia...</td>\n",
       "      <td>NaN</td>\n",
       "      <td>2020-12-14 18:41:13</td>\n",
       "      <td>2020-12-14 18:41:13</td>\n",
       "      <td>95bc69cb-764e-4401-a193-e1580ff57aa7</td>\n",
       "      <td>NMSDC Virtual Awards Ceremony Celebration</td>\n",
       "      <td>267cd3aa-a22c-47fd-948f-00c3c29eb066</td>\n",
       "      <td>Ian Conyers</td>\n",
       "      <td>person</td>\n",
       "      <td>speaker</td>\n",
       "      <td>2020 NMSDC Judge</td>\n",
       "    </tr>\n",
       "    <tr>\n",
       "      <th>413325</th>\n",
       "      <td>36141649-3d31-44f5-b1b0-b35dcee7aca9</td>\n",
       "      <td>ASIS International Webinar's speaker - Paul Wang</td>\n",
       "      <td>event_appearance</td>\n",
       "      <td>paul-wang-5ba3-speaker-asis-international-webi...</td>\n",
       "      <td>https://www.crunchbase.com/event_appearance/pa...</td>\n",
       "      <td>NaN</td>\n",
       "      <td>2020-12-14 22:02:39</td>\n",
       "      <td>2020-12-14 22:02:39</td>\n",
       "      <td>e86700eb-13f3-4754-b2e1-62f5f2534008</td>\n",
       "      <td>ASIS International Webinar</td>\n",
       "      <td>57488442-1cb2-4024-b035-0214b5055ba3</td>\n",
       "      <td>Paul Wang</td>\n",
       "      <td>person</td>\n",
       "      <td>speaker</td>\n",
       "      <td>NaN</td>\n",
       "    </tr>\n",
       "    <tr>\n",
       "      <th>413326</th>\n",
       "      <td>d5cba3ba-931f-4875-bcf8-c95eb6bd7bb1</td>\n",
       "      <td>Developer Week 2020's speaker - Anu Srivastava</td>\n",
       "      <td>event_appearance</td>\n",
       "      <td>anu-srivastava-speaker-developer-week-2020--d5...</td>\n",
       "      <td>https://www.crunchbase.com/event_appearance/an...</td>\n",
       "      <td>NaN</td>\n",
       "      <td>2020-12-14 22:16:38</td>\n",
       "      <td>2020-12-14 22:16:38</td>\n",
       "      <td>9f5cdcb3-e532-40e6-a8a3-5e8e16f7402f</td>\n",
       "      <td>Developer Week 2020</td>\n",
       "      <td>7f52b78a-e8d0-435c-9139-924c94ff4e92</td>\n",
       "      <td>Anu Srivastava</td>\n",
       "      <td>person</td>\n",
       "      <td>speaker</td>\n",
       "      <td>How to work smarter with Conversational AI</td>\n",
       "    </tr>\n",
       "  </tbody>\n",
       "</table>\n",
       "<p>224825 rows × 15 columns</p>\n",
       "</div>"
      ],
      "text/plain": [
       "                                        uuid  \\\n",
       "5       f854bd3f-056b-40f6-923f-8b841c4e0d8d   \n",
       "6       e003dd92-93bd-40a7-bf24-cbf46ec748c1   \n",
       "11      56d319df-5b63-4a86-b0c5-aa5dece14912   \n",
       "16      d615fc99-9403-4af2-be93-a74aa838cdee   \n",
       "17      2d47d06a-29fc-4444-add9-b3d281976aa5   \n",
       "...                                      ...   \n",
       "413316  154bbeb3-b459-4f53-bae6-4b2b59aef462   \n",
       "413317  41110c24-b12a-4fa1-8ca5-79b73aed3faf   \n",
       "413324  b33e76fd-381e-49ea-b390-42ed1f0f20e8   \n",
       "413325  36141649-3d31-44f5-b1b0-b35dcee7aca9   \n",
       "413326  d5cba3ba-931f-4875-bcf8-c95eb6bd7bb1   \n",
       "\n",
       "                                                     name              type  \\\n",
       "5                ad:tech New York's speaker - Samir Arora  event_appearance   \n",
       "6           ad:tech New York's speaker - Cynthia Breazeal  event_appearance   \n",
       "11                Engadget Expand's speaker - Alex Gruzen  event_appearance   \n",
       "16               Dreamforce 2014's speaker - Marc Benioff  event_appearance   \n",
       "17            Dreamforce 2014's speaker - Marc Andreessen  event_appearance   \n",
       "...                                                   ...               ...   \n",
       "413316  C5 Anti-Corruption Switzerland's speaker - Pau...  event_appearance   \n",
       "413317   Blue City Awards 2020's contestant - Lucky Gupta  event_appearance   \n",
       "413324  NMSDC Virtual Awards Ceremony Celebration's sp...  event_appearance   \n",
       "413325   ASIS International Webinar's speaker - Paul Wang  event_appearance   \n",
       "413326     Developer Week 2020's speaker - Anu Srivastava  event_appearance   \n",
       "\n",
       "                                                permalink  \\\n",
       "5       samir-arora-speaker-ad-tech-new-york-2014105-n...   \n",
       "6       cynthia-breazeal-speaker-ad-tech-new-york-2014...   \n",
       "11      alex-gruzen-speaker-engadget-expand-2014107-ne...   \n",
       "16      marc-benioff-speaker-dreamforce-20141013-san-f...   \n",
       "17      marc-andreessen-speaker-dreamforce-20141013-sa...   \n",
       "...                                                   ...   \n",
       "413316  paul-wang-5ba3-speaker-c5-anti-corruption-swit...   \n",
       "413317  lucky-gupta-contestant-blue-city-awards-2020--...   \n",
       "413324  ian-conyers-speaker-nmsdc-virtual-awards-cerem...   \n",
       "413325  paul-wang-5ba3-speaker-asis-international-webi...   \n",
       "413326  anu-srivastava-speaker-developer-week-2020--d5...   \n",
       "\n",
       "                                                   cb_url  rank  \\\n",
       "5       https://www.crunchbase.com/event_appearance/sa...   NaN   \n",
       "6       https://www.crunchbase.com/event_appearance/cy...   NaN   \n",
       "11      https://www.crunchbase.com/event_appearance/al...   NaN   \n",
       "16      https://www.crunchbase.com/event_appearance/ma...   NaN   \n",
       "17      https://www.crunchbase.com/event_appearance/ma...   NaN   \n",
       "...                                                   ...   ...   \n",
       "413316  https://www.crunchbase.com/event_appearance/pa...   NaN   \n",
       "413317  https://www.crunchbase.com/event_appearance/lu...   NaN   \n",
       "413324  https://www.crunchbase.com/event_appearance/ia...   NaN   \n",
       "413325  https://www.crunchbase.com/event_appearance/pa...   NaN   \n",
       "413326  https://www.crunchbase.com/event_appearance/an...   NaN   \n",
       "\n",
       "                 created_at           updated_at  \\\n",
       "5       2014-10-03 18:42:47  2018-02-13 01:15:06   \n",
       "6       2014-10-03 18:42:58  2018-02-13 01:15:48   \n",
       "11      2014-10-03 18:52:11  2018-02-13 01:17:22   \n",
       "16      2014-10-03 19:12:14  2018-02-13 01:17:22   \n",
       "17      2014-10-03 19:12:24  2018-02-13 01:17:30   \n",
       "...                     ...                  ...   \n",
       "413316  2020-12-12 15:09:40  2020-12-12 15:09:40   \n",
       "413317  2020-12-12 19:18:24  2020-12-12 19:18:24   \n",
       "413324  2020-12-14 18:41:13  2020-12-14 18:41:13   \n",
       "413325  2020-12-14 22:02:39  2020-12-14 22:02:39   \n",
       "413326  2020-12-14 22:16:38  2020-12-14 22:16:38   \n",
       "\n",
       "                                  event_uuid  \\\n",
       "5       c6006d9f-e796-2a2a-2efc-c4e55caa98f8   \n",
       "6       c6006d9f-e796-2a2a-2efc-c4e55caa98f8   \n",
       "11      2710319a-f022-5cd3-f855-6594fd0d6db3   \n",
       "16      35e61ac8-58bf-0492-8285-39dc9c2b236d   \n",
       "17      35e61ac8-58bf-0492-8285-39dc9c2b236d   \n",
       "...                                      ...   \n",
       "413316  76461038-e4da-4fa8-8cc8-a50ea197ada9   \n",
       "413317  7d2b93d3-0eca-4522-b311-72da7c4b31c5   \n",
       "413324  95bc69cb-764e-4401-a193-e1580ff57aa7   \n",
       "413325  e86700eb-13f3-4754-b2e1-62f5f2534008   \n",
       "413326  9f5cdcb3-e532-40e6-a8a3-5e8e16f7402f   \n",
       "\n",
       "                                       event_name  \\\n",
       "5                                ad:tech New York   \n",
       "6                                ad:tech New York   \n",
       "11                                Engadget Expand   \n",
       "16                                Dreamforce 2014   \n",
       "17                                Dreamforce 2014   \n",
       "...                                           ...   \n",
       "413316             C5 Anti-Corruption Switzerland   \n",
       "413317                      Blue City Awards 2020   \n",
       "413324  NMSDC Virtual Awards Ceremony Celebration   \n",
       "413325                 ASIS International Webinar   \n",
       "413326                        Developer Week 2020   \n",
       "\n",
       "                            participant_uuid  participant_name  \\\n",
       "5       967d56ac-ffb5-9313-ee3f-e45a803ff2da       Samir Arora   \n",
       "6       4109671d-5563-a6e0-c650-c4d75b29cef4  Cynthia Breazeal   \n",
       "11      62b071b5-0f53-43ea-0ac2-463da6298ddb       Alex Gruzen   \n",
       "16      61d19fc5-3a69-e4f7-9a6d-83d4fb6a0212      Marc Benioff   \n",
       "17      3ba9203f-c79b-3166-2183-c1d690f00bcb   Marc Andreessen   \n",
       "...                                      ...               ...   \n",
       "413316  57488442-1cb2-4024-b035-0214b5055ba3         Paul Wang   \n",
       "413317  4804805c-e3ba-4416-8396-f866d9f1f71d       Lucky Gupta   \n",
       "413324  267cd3aa-a22c-47fd-948f-00c3c29eb066       Ian Conyers   \n",
       "413325  57488442-1cb2-4024-b035-0214b5055ba3         Paul Wang   \n",
       "413326  7f52b78a-e8d0-435c-9139-924c94ff4e92    Anu Srivastava   \n",
       "\n",
       "       participant_type appearance_type  \\\n",
       "5                person         speaker   \n",
       "6                person         speaker   \n",
       "11               person         speaker   \n",
       "16               person         speaker   \n",
       "17               person         speaker   \n",
       "...                 ...             ...   \n",
       "413316           person         speaker   \n",
       "413317           person      contestant   \n",
       "413324           person         speaker   \n",
       "413325           person         speaker   \n",
       "413326           person         speaker   \n",
       "\n",
       "                                 short_description  \n",
       "5                                              NaN  \n",
       "6                                              NaN  \n",
       "11                                             NaN  \n",
       "16                                             NaN  \n",
       "17                                             NaN  \n",
       "...                                            ...  \n",
       "413316                                         NaN  \n",
       "413317                                  Influencer  \n",
       "413324                            2020 NMSDC Judge  \n",
       "413325                                         NaN  \n",
       "413326  How to work smarter with Conversational AI  \n",
       "\n",
       "[224825 rows x 15 columns]"
      ]
     },
     "execution_count": 95,
     "metadata": {},
     "output_type": "execute_result"
    }
   ],
   "source": [
    "event_appear_df[event_appear_df.participant_type == 'person']"
   ]
  },
  {
   "cell_type": "code",
   "execution_count": 96,
   "id": "driving-mistress",
   "metadata": {},
   "outputs": [
    {
     "data": {
      "text/html": [
       "<div>\n",
       "<style scoped>\n",
       "    .dataframe tbody tr th:only-of-type {\n",
       "        vertical-align: middle;\n",
       "    }\n",
       "\n",
       "    .dataframe tbody tr th {\n",
       "        vertical-align: top;\n",
       "    }\n",
       "\n",
       "    .dataframe thead th {\n",
       "        text-align: right;\n",
       "    }\n",
       "</style>\n",
       "<table border=\"1\" class=\"dataframe\">\n",
       "  <thead>\n",
       "    <tr style=\"text-align: right;\">\n",
       "      <th></th>\n",
       "      <th>investor_uuid</th>\n",
       "      <th>name</th>\n",
       "      <th>type</th>\n",
       "      <th>country_code</th>\n",
       "      <th>state_code</th>\n",
       "      <th>region</th>\n",
       "      <th>city</th>\n",
       "      <th>investor_types</th>\n",
       "      <th>investment_count</th>\n",
       "      <th>total_funding_usd</th>\n",
       "      <th>total_funding</th>\n",
       "      <th>total_funding_currency_code</th>\n",
       "      <th>founded_on</th>\n",
       "      <th>closed_on</th>\n",
       "      <th>facebook_url</th>\n",
       "      <th>linkedin_url</th>\n",
       "      <th>twitter_url</th>\n",
       "      <th>logo_url</th>\n",
       "    </tr>\n",
       "  </thead>\n",
       "  <tbody>\n",
       "    <tr>\n",
       "      <th>200</th>\n",
       "      <td>967d56ac-ffb5-9313-ee3f-e45a803ff2da</td>\n",
       "      <td>Samir Arora</td>\n",
       "      <td>person</td>\n",
       "      <td>USA</td>\n",
       "      <td>NY</td>\n",
       "      <td>New York</td>\n",
       "      <td>New York</td>\n",
       "      <td>NaN</td>\n",
       "      <td>NaN</td>\n",
       "      <td>NaN</td>\n",
       "      <td>NaN</td>\n",
       "      <td>NaN</td>\n",
       "      <td>NaN</td>\n",
       "      <td>NaN</td>\n",
       "      <td>http://www.facebook.com/samirarora</td>\n",
       "      <td>https://www.linkedin.com/in/arorasamir</td>\n",
       "      <td>http://twitter.com/samirarora</td>\n",
       "      <td>https://res.cloudinary.com/crunchbase-producti...</td>\n",
       "    </tr>\n",
       "  </tbody>\n",
       "</table>\n",
       "</div>"
      ],
      "text/plain": [
       "                            investor_uuid         name    type country_code  \\\n",
       "200  967d56ac-ffb5-9313-ee3f-e45a803ff2da  Samir Arora  person          USA   \n",
       "\n",
       "    state_code    region      city investor_types  investment_count  \\\n",
       "200         NY  New York  New York            NaN               NaN   \n",
       "\n",
       "     total_funding_usd  total_funding total_funding_currency_code founded_on  \\\n",
       "200                NaN            NaN                         NaN        NaN   \n",
       "\n",
       "    closed_on                        facebook_url  \\\n",
       "200       NaN  http://www.facebook.com/samirarora   \n",
       "\n",
       "                               linkedin_url                    twitter_url  \\\n",
       "200  https://www.linkedin.com/in/arorasamir  http://twitter.com/samirarora   \n",
       "\n",
       "                                              logo_url  \n",
       "200  https://res.cloudinary.com/crunchbase-producti...  "
      ]
     },
     "execution_count": 96,
     "metadata": {},
     "output_type": "execute_result"
    }
   ],
   "source": [
    "investors_df_v1[investors_df_v1.investor_uuid == '967d56ac-ffb5-9313-ee3f-e45a803ff2da']"
   ]
  },
  {
   "cell_type": "code",
   "execution_count": 97,
   "id": "limited-blocking",
   "metadata": {},
   "outputs": [
    {
     "data": {
      "text/plain": [
       "3"
      ]
     },
     "execution_count": 97,
     "metadata": {},
     "output_type": "execute_result"
    }
   ],
   "source": [
    "participant_uuid = list (event_appear_df.participant_uuid)\n",
    "participant_uuid.count('967d56ac-ffb5-9313-ee3f-e45a803ff2da')"
   ]
  },
  {
   "cell_type": "markdown",
   "id": "falling-laptop",
   "metadata": {},
   "source": [
    "# People"
   ]
  },
  {
   "cell_type": "code",
   "execution_count": 99,
   "id": "nominated-shopper",
   "metadata": {},
   "outputs": [],
   "source": [
    "#import people.csv\n",
    "people_df = pd.read_csv(R\"d:/msc-project/data/bulk_export_122020/people.csv\",encoding='utf-8')"
   ]
  },
  {
   "cell_type": "code",
   "execution_count": 100,
   "id": "unauthorized-armenia",
   "metadata": {},
   "outputs": [
    {
     "data": {
      "text/plain": [
       "Index(['uuid', 'name', 'type', 'permalink', 'cb_url', 'rank', 'created_at',\n",
       "       'updated_at', 'first_name', 'last_name', 'gender', 'country_code',\n",
       "       'state_code', 'region', 'city', 'featured_job_organization_uuid',\n",
       "       'featured_job_organization_name', 'featured_job_title', 'facebook_url',\n",
       "       'linkedin_url', 'twitter_url', 'logo_url'],\n",
       "      dtype='object')"
      ]
     },
     "execution_count": 100,
     "metadata": {},
     "output_type": "execute_result"
    }
   ],
   "source": [
    "people_df.columns"
   ]
  },
  {
   "cell_type": "code",
   "execution_count": 107,
   "id": "enclosed-syntax",
   "metadata": {},
   "outputs": [],
   "source": [
    "#drop unecessary column\n",
    "people_df_v1 = people_df.drop(columns = ['type', 'permalink', 'cb_url', 'rank', 'created_at',\n",
    "       'updated_at'])"
   ]
  },
  {
   "cell_type": "code",
   "execution_count": 109,
   "id": "technological-march",
   "metadata": {},
   "outputs": [
    {
     "data": {
      "text/plain": [
       "uuid                                    0\n",
       "name                                    0\n",
       "first_name                             31\n",
       "last_name                              30\n",
       "gender                              21326\n",
       "country_code                       481302\n",
       "state_code                         781037\n",
       "region                             526030\n",
       "city                               542070\n",
       "featured_job_organization_uuid     424214\n",
       "featured_job_organization_name     424215\n",
       "featured_job_title                 424228\n",
       "facebook_url                      1004027\n",
       "linkedin_url                       465506\n",
       "twitter_url                        905142\n",
       "logo_url                           287433\n",
       "dtype: int64"
      ]
     },
     "execution_count": 109,
     "metadata": {},
     "output_type": "execute_result"
    }
   ],
   "source": [
    "#Check number of NA value\n",
    "people_df_v1.isnull().sum(axis=0)"
   ]
  },
  {
   "cell_type": "code",
   "execution_count": 117,
   "id": "preceding-database",
   "metadata": {},
   "outputs": [],
   "source": [
    "#change column name\n",
    "people_df_v1.rename (columns = {'uuid':'people_uuid','featured_job_organization_uuid':'org_uuid'},inplace=True)"
   ]
  },
  {
   "cell_type": "code",
   "execution_count": 118,
   "id": "following-delta",
   "metadata": {},
   "outputs": [],
   "source": [
    "#drop people with no organisation\n",
    "people_df_v2 = people_df_v1.dropna (subset=['org_uuid'])"
   ]
  },
  {
   "cell_type": "code",
   "execution_count": 119,
   "id": "noble-overall",
   "metadata": {},
   "outputs": [
    {
     "data": {
      "text/plain": [
       "675407"
      ]
     },
     "execution_count": 119,
     "metadata": {},
     "output_type": "execute_result"
    }
   ],
   "source": [
    "len(people_df_v2)"
   ]
  },
  {
   "cell_type": "code",
   "execution_count": 120,
   "id": "blessed-syntax",
   "metadata": {},
   "outputs": [
    {
     "data": {
      "text/html": [
       "<div>\n",
       "<style scoped>\n",
       "    .dataframe tbody tr th:only-of-type {\n",
       "        vertical-align: middle;\n",
       "    }\n",
       "\n",
       "    .dataframe tbody tr th {\n",
       "        vertical-align: top;\n",
       "    }\n",
       "\n",
       "    .dataframe thead th {\n",
       "        text-align: right;\n",
       "    }\n",
       "</style>\n",
       "<table border=\"1\" class=\"dataframe\">\n",
       "  <thead>\n",
       "    <tr style=\"text-align: right;\">\n",
       "      <th></th>\n",
       "      <th>people_uuid</th>\n",
       "      <th>name</th>\n",
       "      <th>first_name</th>\n",
       "      <th>last_name</th>\n",
       "      <th>gender</th>\n",
       "      <th>country_code</th>\n",
       "      <th>state_code</th>\n",
       "      <th>region</th>\n",
       "      <th>city</th>\n",
       "      <th>org_uuid</th>\n",
       "      <th>featured_job_organization_name</th>\n",
       "      <th>featured_job_title</th>\n",
       "      <th>facebook_url</th>\n",
       "      <th>linkedin_url</th>\n",
       "      <th>twitter_url</th>\n",
       "      <th>logo_url</th>\n",
       "    </tr>\n",
       "  </thead>\n",
       "  <tbody>\n",
       "    <tr>\n",
       "      <th>0</th>\n",
       "      <td>ed13cd36-fe2b-3707-197b-0c2d56e37a71</td>\n",
       "      <td>Ben Elowitz</td>\n",
       "      <td>Ben</td>\n",
       "      <td>Elowitz</td>\n",
       "      <td>male</td>\n",
       "      <td>USA</td>\n",
       "      <td>WA</td>\n",
       "      <td>Washington</td>\n",
       "      <td>Seattle</td>\n",
       "      <td>cf253887-5eac-21a2-28d3-47db7311f7e9</td>\n",
       "      <td>Madrona Venture Group</td>\n",
       "      <td>Managing Director</td>\n",
       "      <td>http://www.facebook.com/elowitz</td>\n",
       "      <td>https://www.linkedin.com/in/elowitz/</td>\n",
       "      <td>http://twitter.com/elowitz</td>\n",
       "      <td>https://res.cloudinary.com/crunchbase-producti...</td>\n",
       "    </tr>\n",
       "    <tr>\n",
       "      <th>1</th>\n",
       "      <td>5ceca97b-493c-1446-6249-5aaa33464763</td>\n",
       "      <td>Kevin Flaherty</td>\n",
       "      <td>Kevin</td>\n",
       "      <td>Flaherty</td>\n",
       "      <td>male</td>\n",
       "      <td>NaN</td>\n",
       "      <td>NaN</td>\n",
       "      <td>NaN</td>\n",
       "      <td>NaN</td>\n",
       "      <td>789e5e4d-0c90-d06e-92a0-b800b461c3da</td>\n",
       "      <td>DRSmedia</td>\n",
       "      <td>Team Member</td>\n",
       "      <td>NaN</td>\n",
       "      <td>http://www.linkedin.com/in/kevinflaherty</td>\n",
       "      <td>https://twitter.com/tallkp</td>\n",
       "      <td>https://res.cloudinary.com/crunchbase-producti...</td>\n",
       "    </tr>\n",
       "    <tr>\n",
       "      <th>2</th>\n",
       "      <td>9f99a98a-aa97-b30b-0d36-db67c1d277e0</td>\n",
       "      <td>Raju Vegesna</td>\n",
       "      <td>Raju</td>\n",
       "      <td>Vegesna</td>\n",
       "      <td>male</td>\n",
       "      <td>USA</td>\n",
       "      <td>CA</td>\n",
       "      <td>California</td>\n",
       "      <td>San Francisco</td>\n",
       "      <td>bf4d7b0e-b34d-2fd8-d292-6049c4f7efc7</td>\n",
       "      <td>Zoho</td>\n",
       "      <td>Chief Evangelist</td>\n",
       "      <td>NaN</td>\n",
       "      <td>https://www.linkedin.com/pub/raju-vegesna/1/65...</td>\n",
       "      <td>NaN</td>\n",
       "      <td>https://res.cloudinary.com/crunchbase-producti...</td>\n",
       "    </tr>\n",
       "  </tbody>\n",
       "</table>\n",
       "</div>"
      ],
      "text/plain": [
       "                            people_uuid            name first_name last_name  \\\n",
       "0  ed13cd36-fe2b-3707-197b-0c2d56e37a71     Ben Elowitz        Ben   Elowitz   \n",
       "1  5ceca97b-493c-1446-6249-5aaa33464763  Kevin Flaherty      Kevin  Flaherty   \n",
       "2  9f99a98a-aa97-b30b-0d36-db67c1d277e0    Raju Vegesna       Raju   Vegesna   \n",
       "\n",
       "  gender country_code state_code      region           city  \\\n",
       "0   male          USA         WA  Washington        Seattle   \n",
       "1   male          NaN        NaN         NaN            NaN   \n",
       "2   male          USA         CA  California  San Francisco   \n",
       "\n",
       "                               org_uuid featured_job_organization_name  \\\n",
       "0  cf253887-5eac-21a2-28d3-47db7311f7e9          Madrona Venture Group   \n",
       "1  789e5e4d-0c90-d06e-92a0-b800b461c3da                       DRSmedia   \n",
       "2  bf4d7b0e-b34d-2fd8-d292-6049c4f7efc7                           Zoho   \n",
       "\n",
       "  featured_job_title                     facebook_url  \\\n",
       "0  Managing Director  http://www.facebook.com/elowitz   \n",
       "1        Team Member                              NaN   \n",
       "2   Chief Evangelist                              NaN   \n",
       "\n",
       "                                        linkedin_url  \\\n",
       "0               https://www.linkedin.com/in/elowitz/   \n",
       "1           http://www.linkedin.com/in/kevinflaherty   \n",
       "2  https://www.linkedin.com/pub/raju-vegesna/1/65...   \n",
       "\n",
       "                  twitter_url  \\\n",
       "0  http://twitter.com/elowitz   \n",
       "1  https://twitter.com/tallkp   \n",
       "2                         NaN   \n",
       "\n",
       "                                            logo_url  \n",
       "0  https://res.cloudinary.com/crunchbase-producti...  \n",
       "1  https://res.cloudinary.com/crunchbase-producti...  \n",
       "2  https://res.cloudinary.com/crunchbase-producti...  "
      ]
     },
     "execution_count": 120,
     "metadata": {},
     "output_type": "execute_result"
    }
   ],
   "source": [
    "people_df_v2.head(3)"
   ]
  },
  {
   "cell_type": "markdown",
   "id": "minus-tobacco",
   "metadata": {},
   "source": [
    "# People Description"
   ]
  },
  {
   "cell_type": "code",
   "execution_count": 121,
   "id": "treated-archives",
   "metadata": {},
   "outputs": [],
   "source": [
    "#import people.csv\n",
    "people_desc_df = pd.read_csv(R\"d:/msc-project/data/bulk_export_122020/people_descriptions.csv\",encoding='utf-8')"
   ]
  },
  {
   "cell_type": "code",
   "execution_count": 122,
   "id": "potential-spank",
   "metadata": {},
   "outputs": [
    {
     "data": {
      "text/plain": [
       "Index(['uuid', 'name', 'type', 'permalink', 'cb_url', 'rank', 'created_at',\n",
       "       'updated_at', 'description'],\n",
       "      dtype='object')"
      ]
     },
     "execution_count": 122,
     "metadata": {},
     "output_type": "execute_result"
    }
   ],
   "source": [
    "people_desc_df.columns"
   ]
  },
  {
   "cell_type": "code",
   "execution_count": 123,
   "id": "regulated-hampton",
   "metadata": {},
   "outputs": [],
   "source": [
    "#drop unecessary columns\n",
    "people_desc_df_v1 = people_desc_df.drop (columns=['name', 'type', 'permalink', 'cb_url', 'rank', 'created_at',\n",
    "       'updated_at'])"
   ]
  },
  {
   "cell_type": "code",
   "execution_count": 124,
   "id": "suburban-elder",
   "metadata": {},
   "outputs": [
    {
     "data": {
      "text/plain": [
       "Index(['uuid', 'description'], dtype='object')"
      ]
     },
     "execution_count": 124,
     "metadata": {},
     "output_type": "execute_result"
    }
   ],
   "source": [
    "people_desc_df_v1.columns"
   ]
  },
  {
   "cell_type": "code",
   "execution_count": 125,
   "id": "improving-being",
   "metadata": {},
   "outputs": [],
   "source": [
    "#change column name\n",
    "people_desc_df_v1.rename(columns = {'uuid':'people_uuid'},inplace=True)"
   ]
  },
  {
   "cell_type": "code",
   "execution_count": 127,
   "id": "parallel-grill",
   "metadata": {},
   "outputs": [
    {
     "data": {
      "text/plain": [
       "people_uuid     0\n",
       "description    12\n",
       "dtype: int64"
      ]
     },
     "execution_count": 127,
     "metadata": {},
     "output_type": "execute_result"
    }
   ],
   "source": [
    "#check NA\n",
    "people_desc_df_v1.isnull().sum(axis=0)"
   ]
  },
  {
   "cell_type": "code",
   "execution_count": 130,
   "id": "abandoned-biotechnology",
   "metadata": {},
   "outputs": [],
   "source": [
    "#drop data with NA\n",
    "people_desc_df_v2 = people_desc_df_v1.dropna (subset=['description'])"
   ]
  },
  {
   "cell_type": "code",
   "execution_count": 131,
   "id": "hydraulic-maintenance",
   "metadata": {},
   "outputs": [],
   "source": [
    "#merge with main people data\n",
    "main_people_df_v1 = pd.merge(people_df_v2,\n",
    "                            people_desc_df_v2,\n",
    "                            on='people_uuid',\n",
    "                            how='left')"
   ]
  },
  {
   "cell_type": "code",
   "execution_count": 132,
   "id": "macro-barcelona",
   "metadata": {},
   "outputs": [
    {
     "data": {
      "text/plain": [
       "Index(['people_uuid', 'name', 'first_name', 'last_name', 'gender',\n",
       "       'country_code', 'state_code', 'region', 'city', 'org_uuid',\n",
       "       'featured_job_organization_name', 'featured_job_title', 'facebook_url',\n",
       "       'linkedin_url', 'twitter_url', 'logo_url', 'description'],\n",
       "      dtype='object')"
      ]
     },
     "execution_count": 132,
     "metadata": {},
     "output_type": "execute_result"
    }
   ],
   "source": [
    "main_people_df_v1.columns"
   ]
  },
  {
   "cell_type": "markdown",
   "id": "sonic-entrepreneur",
   "metadata": {},
   "source": [
    "# Degrees"
   ]
  },
  {
   "cell_type": "code",
   "execution_count": 135,
   "id": "interesting-assumption",
   "metadata": {},
   "outputs": [],
   "source": [
    "#import degress.csv\n",
    "deg_df = pd.read_csv(R\"d:/msc-project/data/bulk_export_122020/degrees.csv\",encoding='utf-8')"
   ]
  },
  {
   "cell_type": "code",
   "execution_count": 137,
   "id": "monthly-opening",
   "metadata": {},
   "outputs": [
    {
     "data": {
      "text/plain": [
       "Index(['uuid', 'name', 'type', 'permalink', 'cb_url', 'rank', 'created_at',\n",
       "       'updated_at', 'person_uuid', 'person_name', 'institution_uuid',\n",
       "       'institution_name', 'degree_type', 'subject', 'started_on',\n",
       "       'completed_on', 'is_completed'],\n",
       "      dtype='object')"
      ]
     },
     "execution_count": 137,
     "metadata": {},
     "output_type": "execute_result"
    }
   ],
   "source": [
    "deg_df.columns"
   ]
  },
  {
   "cell_type": "code",
   "execution_count": 138,
   "id": "persistent-rhythm",
   "metadata": {},
   "outputs": [
    {
     "data": {
      "text/html": [
       "<div>\n",
       "<style scoped>\n",
       "    .dataframe tbody tr th:only-of-type {\n",
       "        vertical-align: middle;\n",
       "    }\n",
       "\n",
       "    .dataframe tbody tr th {\n",
       "        vertical-align: top;\n",
       "    }\n",
       "\n",
       "    .dataframe thead th {\n",
       "        text-align: right;\n",
       "    }\n",
       "</style>\n",
       "<table border=\"1\" class=\"dataframe\">\n",
       "  <thead>\n",
       "    <tr style=\"text-align: right;\">\n",
       "      <th></th>\n",
       "      <th>uuid</th>\n",
       "      <th>name</th>\n",
       "      <th>type</th>\n",
       "      <th>permalink</th>\n",
       "      <th>cb_url</th>\n",
       "      <th>rank</th>\n",
       "      <th>created_at</th>\n",
       "      <th>updated_at</th>\n",
       "      <th>person_uuid</th>\n",
       "      <th>person_name</th>\n",
       "      <th>institution_uuid</th>\n",
       "      <th>institution_name</th>\n",
       "      <th>degree_type</th>\n",
       "      <th>subject</th>\n",
       "      <th>started_on</th>\n",
       "      <th>completed_on</th>\n",
       "      <th>is_completed</th>\n",
       "    </tr>\n",
       "  </thead>\n",
       "  <tbody>\n",
       "    <tr>\n",
       "      <th>0</th>\n",
       "      <td>205fdfd1-ecac-aa43-262f-219f11755f67</td>\n",
       "      <td>MS  Mass Communication @ Boston University</td>\n",
       "      <td>degree</td>\n",
       "      <td>NaN</td>\n",
       "      <td>NaN</td>\n",
       "      <td>NaN</td>\n",
       "      <td>2008-02-19 17:58:31</td>\n",
       "      <td>2018-02-13 01:40:03</td>\n",
       "      <td>4897dba9-3141-ecc0-2c4b-c9d844e6440f</td>\n",
       "      <td>John Green</td>\n",
       "      <td>1eab62d2-15d9-0db7-930f-2aa77d4688e1</td>\n",
       "      <td>Boston University</td>\n",
       "      <td>MS</td>\n",
       "      <td>Mass Communication</td>\n",
       "      <td>NaN</td>\n",
       "      <td>1992-01-01</td>\n",
       "      <td>True</td>\n",
       "    </tr>\n",
       "    <tr>\n",
       "      <th>1</th>\n",
       "      <td>1a2ac288-eb99-3318-fde5-1517bc168f51</td>\n",
       "      <td>BA  English, French @ Washington University in...</td>\n",
       "      <td>degree</td>\n",
       "      <td>NaN</td>\n",
       "      <td>NaN</td>\n",
       "      <td>NaN</td>\n",
       "      <td>2008-02-19 17:58:31</td>\n",
       "      <td>2018-02-13 01:39:57</td>\n",
       "      <td>4897dba9-3141-ecc0-2c4b-c9d844e6440f</td>\n",
       "      <td>John Green</td>\n",
       "      <td>6ae9957a-8fb4-0ab1-73fa-dd547c4d3da4</td>\n",
       "      <td>Washington University in St. Louis</td>\n",
       "      <td>BA</td>\n",
       "      <td>English, French</td>\n",
       "      <td>NaN</td>\n",
       "      <td>1990-01-01</td>\n",
       "      <td>True</td>\n",
       "    </tr>\n",
       "  </tbody>\n",
       "</table>\n",
       "</div>"
      ],
      "text/plain": [
       "                                   uuid  \\\n",
       "0  205fdfd1-ecac-aa43-262f-219f11755f67   \n",
       "1  1a2ac288-eb99-3318-fde5-1517bc168f51   \n",
       "\n",
       "                                                name    type  permalink  \\\n",
       "0         MS  Mass Communication @ Boston University  degree        NaN   \n",
       "1  BA  English, French @ Washington University in...  degree        NaN   \n",
       "\n",
       "   cb_url  rank           created_at           updated_at  \\\n",
       "0     NaN   NaN  2008-02-19 17:58:31  2018-02-13 01:40:03   \n",
       "1     NaN   NaN  2008-02-19 17:58:31  2018-02-13 01:39:57   \n",
       "\n",
       "                            person_uuid person_name  \\\n",
       "0  4897dba9-3141-ecc0-2c4b-c9d844e6440f  John Green   \n",
       "1  4897dba9-3141-ecc0-2c4b-c9d844e6440f  John Green   \n",
       "\n",
       "                       institution_uuid                    institution_name  \\\n",
       "0  1eab62d2-15d9-0db7-930f-2aa77d4688e1                   Boston University   \n",
       "1  6ae9957a-8fb4-0ab1-73fa-dd547c4d3da4  Washington University in St. Louis   \n",
       "\n",
       "  degree_type             subject started_on completed_on  is_completed  \n",
       "0          MS  Mass Communication        NaN   1992-01-01          True  \n",
       "1          BA     English, French        NaN   1990-01-01          True  "
      ]
     },
     "execution_count": 138,
     "metadata": {},
     "output_type": "execute_result"
    }
   ],
   "source": [
    "deg_df.head(2)"
   ]
  },
  {
   "cell_type": "code",
   "execution_count": 139,
   "id": "emerging-literacy",
   "metadata": {},
   "outputs": [
    {
     "data": {
      "text/plain": [
       "{'degree'}"
      ]
     },
     "execution_count": 139,
     "metadata": {},
     "output_type": "execute_result"
    }
   ],
   "source": [
    "set(deg_df.type)"
   ]
  },
  {
   "cell_type": "code",
   "execution_count": 140,
   "id": "through-attitude",
   "metadata": {},
   "outputs": [],
   "source": [
    "#drop uncessary columns\n",
    "deg_df_v2 = deg_df.drop(columns = ['type', 'permalink', 'cb_url', 'rank', 'created_at',\n",
    "       'updated_at'])"
   ]
  },
  {
   "cell_type": "code",
   "execution_count": 141,
   "id": "married-playback",
   "metadata": {},
   "outputs": [
    {
     "data": {
      "text/plain": [
       "Index(['uuid', 'name', 'person_uuid', 'person_name', 'institution_uuid',\n",
       "       'institution_name', 'degree_type', 'subject', 'started_on',\n",
       "       'completed_on', 'is_completed'],\n",
       "      dtype='object')"
      ]
     },
     "execution_count": 141,
     "metadata": {},
     "output_type": "execute_result"
    }
   ],
   "source": [
    "deg_df_v2.columns"
   ]
  },
  {
   "cell_type": "code",
   "execution_count": 147,
   "id": "centered-catalog",
   "metadata": {},
   "outputs": [],
   "source": [
    "#change column name\n",
    "deg_df_v2.rename(columns = {'uuid':'deg_uuid','name':'deg_name','person_uuid':'people_uuid'},inplace=True)"
   ]
  },
  {
   "cell_type": "code",
   "execution_count": 148,
   "id": "occupied-search",
   "metadata": {},
   "outputs": [
    {
     "data": {
      "text/plain": [
       "Index(['deg_uuid', 'deg_name', 'people_uuid', 'person_name',\n",
       "       'institution_uuid', 'institution_name', 'degree_type', 'subject',\n",
       "       'started_on', 'completed_on', 'is_completed'],\n",
       "      dtype='object')"
      ]
     },
     "execution_count": 148,
     "metadata": {},
     "output_type": "execute_result"
    }
   ],
   "source": [
    "deg_df_v2.columns"
   ]
  },
  {
   "cell_type": "code",
   "execution_count": 149,
   "id": "close-insight",
   "metadata": {},
   "outputs": [
    {
     "data": {
      "text/plain": [
       "deg_uuid                 0\n",
       "deg_name             30043\n",
       "people_uuid              0\n",
       "person_name              0\n",
       "institution_uuid         0\n",
       "institution_name         0\n",
       "degree_type          11767\n",
       "subject              27049\n",
       "started_on          221885\n",
       "completed_on        169164\n",
       "is_completed             0\n",
       "dtype: int64"
      ]
     },
     "execution_count": 149,
     "metadata": {},
     "output_type": "execute_result"
    }
   ],
   "source": [
    "deg_df_v2.isnull().sum(axis=0)"
   ]
  },
  {
   "cell_type": "code",
   "execution_count": 150,
   "id": "dependent-vegetarian",
   "metadata": {},
   "outputs": [],
   "source": [
    "#merge deg_df with main_people_df\n",
    "main_people_df_v2 = pd.merge(main_people_df_v1,\n",
    "                            deg_df_v2,\n",
    "                            on='people_uuid',\n",
    "                            how='left')"
   ]
  },
  {
   "cell_type": "code",
   "execution_count": 151,
   "id": "hispanic-feeding",
   "metadata": {},
   "outputs": [
    {
     "data": {
      "text/plain": [
       "Index(['people_uuid', 'name', 'first_name', 'last_name', 'gender',\n",
       "       'country_code', 'state_code', 'region', 'city', 'org_uuid',\n",
       "       'featured_job_organization_name', 'featured_job_title', 'facebook_url',\n",
       "       'linkedin_url', 'twitter_url', 'logo_url', 'description', 'deg_uuid',\n",
       "       'deg_name', 'person_name', 'institution_uuid', 'institution_name',\n",
       "       'degree_type', 'subject', 'started_on', 'completed_on', 'is_completed'],\n",
       "      dtype='object')"
      ]
     },
     "execution_count": 151,
     "metadata": {},
     "output_type": "execute_result"
    }
   ],
   "source": [
    "main_people_df_v2.columns"
   ]
  },
  {
   "cell_type": "code",
   "execution_count": 152,
   "id": "incredible-queensland",
   "metadata": {},
   "outputs": [
    {
     "data": {
      "text/plain": [
       "675407"
      ]
     },
     "execution_count": 152,
     "metadata": {},
     "output_type": "execute_result"
    }
   ],
   "source": [
    "len(main_people_df_v1)"
   ]
  },
  {
   "cell_type": "code",
   "execution_count": 153,
   "id": "constitutional-medication",
   "metadata": {},
   "outputs": [
    {
     "data": {
      "text/plain": [
       "753309"
      ]
     },
     "execution_count": 153,
     "metadata": {},
     "output_type": "execute_result"
    }
   ],
   "source": [
    "len(main_people_df_v2)"
   ]
  },
  {
   "cell_type": "code",
   "execution_count": 155,
   "id": "joined-birthday",
   "metadata": {},
   "outputs": [
    {
     "data": {
      "text/plain": [
       "0         False\n",
       "1          True\n",
       "2         False\n",
       "3          True\n",
       "4         False\n",
       "          ...  \n",
       "753304    False\n",
       "753305    False\n",
       "753306    False\n",
       "753307    False\n",
       "753308    False\n",
       "Length: 753309, dtype: bool"
      ]
     },
     "execution_count": 155,
     "metadata": {},
     "output_type": "execute_result"
    }
   ],
   "source": [
    "main_people_df_v2.duplicated(subset=['people_uuid'])"
   ]
  },
  {
   "cell_type": "code",
   "execution_count": 156,
   "id": "canadian-savings",
   "metadata": {},
   "outputs": [
    {
     "data": {
      "text/plain": [
       "Index(['deg_uuid', 'deg_name', 'people_uuid', 'person_name',\n",
       "       'institution_uuid', 'institution_name', 'degree_type', 'subject',\n",
       "       'started_on', 'completed_on', 'is_completed'],\n",
       "      dtype='object')"
      ]
     },
     "execution_count": 156,
     "metadata": {},
     "output_type": "execute_result"
    }
   ],
   "source": [
    "deg_df_v2.columns"
   ]
  },
  {
   "cell_type": "code",
   "execution_count": 163,
   "id": "fuzzy-feeling",
   "metadata": {},
   "outputs": [
    {
     "data": {
      "text/plain": [
       "0                                     Mass Communication\n",
       "1                                        English, French\n",
       "2                                    Internet Technology\n",
       "3                                       Computer Science\n",
       "4                                       Computer Science\n",
       "                               ...                      \n",
       "369511                                        Government\n",
       "369512                       Urban and Regional Planning\n",
       "369513                              Chemical Engineering\n",
       "369514    Aeronautics & Astronautics, History of Science\n",
       "369515       Corporate Communication & Crisis Management\n",
       "Name: subject, Length: 369516, dtype: object"
      ]
     },
     "execution_count": 163,
     "metadata": {},
     "output_type": "execute_result"
    }
   ],
   "source": [
    "deg_df_v2.subject"
   ]
  },
  {
   "cell_type": "markdown",
   "id": "chicken-muslim",
   "metadata": {},
   "source": [
    "# Jobs"
   ]
  },
  {
   "cell_type": "code",
   "execution_count": 164,
   "id": "uniform-participation",
   "metadata": {},
   "outputs": [],
   "source": [
    "#import jobs.csv\n",
    "jobs_df = pd.read_csv(R\"d:/msc-project/data/bulk_export_122020/jobs.csv\",encoding='utf-8')"
   ]
  },
  {
   "cell_type": "code",
   "execution_count": 165,
   "id": "pleased-panic",
   "metadata": {},
   "outputs": [
    {
     "data": {
      "text/plain": [
       "1581722"
      ]
     },
     "execution_count": 165,
     "metadata": {},
     "output_type": "execute_result"
    }
   ],
   "source": [
    "len(jobs_df)"
   ]
  },
  {
   "cell_type": "code",
   "execution_count": 166,
   "id": "occasional-ottawa",
   "metadata": {},
   "outputs": [
    {
     "data": {
      "text/plain": [
       "Index(['uuid', 'name', 'type', 'permalink', 'cb_url', 'rank', 'created_at',\n",
       "       'updated_at', 'person_uuid', 'person_name', 'org_uuid', 'org_name',\n",
       "       'started_on', 'ended_on', 'is_current', 'title', 'job_type'],\n",
       "      dtype='object')"
      ]
     },
     "execution_count": 166,
     "metadata": {},
     "output_type": "execute_result"
    }
   ],
   "source": [
    "jobs_df.columns"
   ]
  },
  {
   "cell_type": "code",
   "execution_count": 167,
   "id": "affecting-topic",
   "metadata": {},
   "outputs": [
    {
     "data": {
      "text/html": [
       "<div>\n",
       "<style scoped>\n",
       "    .dataframe tbody tr th:only-of-type {\n",
       "        vertical-align: middle;\n",
       "    }\n",
       "\n",
       "    .dataframe tbody tr th {\n",
       "        vertical-align: top;\n",
       "    }\n",
       "\n",
       "    .dataframe thead th {\n",
       "        text-align: right;\n",
       "    }\n",
       "</style>\n",
       "<table border=\"1\" class=\"dataframe\">\n",
       "  <thead>\n",
       "    <tr style=\"text-align: right;\">\n",
       "      <th></th>\n",
       "      <th>uuid</th>\n",
       "      <th>name</th>\n",
       "      <th>type</th>\n",
       "      <th>permalink</th>\n",
       "      <th>cb_url</th>\n",
       "      <th>rank</th>\n",
       "      <th>created_at</th>\n",
       "      <th>updated_at</th>\n",
       "      <th>person_uuid</th>\n",
       "      <th>person_name</th>\n",
       "      <th>org_uuid</th>\n",
       "      <th>org_name</th>\n",
       "      <th>started_on</th>\n",
       "      <th>ended_on</th>\n",
       "      <th>is_current</th>\n",
       "      <th>title</th>\n",
       "      <th>job_type</th>\n",
       "    </tr>\n",
       "  </thead>\n",
       "  <tbody>\n",
       "    <tr>\n",
       "      <th>0</th>\n",
       "      <td>697b6934-fc1f-9d63-cfb2-1a10759b378e</td>\n",
       "      <td>Ben Elowitz Co-Founder/CEO/Board of Directors ...</td>\n",
       "      <td>job</td>\n",
       "      <td>ben-elowitz-executive-wetpaint--697b6934</td>\n",
       "      <td>https://www.crunchbase.com/job/ben-elowitz-exe...</td>\n",
       "      <td>NaN</td>\n",
       "      <td>2007-05-25 07:03:54</td>\n",
       "      <td>2018-02-13 01:26:54</td>\n",
       "      <td>ed13cd36-fe2b-3707-197b-0c2d56e37a71</td>\n",
       "      <td>Ben Elowitz</td>\n",
       "      <td>e1393508-30ea-8a36-3f96-dd3226033abd</td>\n",
       "      <td>Wetpaint</td>\n",
       "      <td>NaN</td>\n",
       "      <td>NaN</td>\n",
       "      <td>False</td>\n",
       "      <td>Co-Founder/CEO/Board of Directors</td>\n",
       "      <td>executive</td>\n",
       "    </tr>\n",
       "    <tr>\n",
       "      <th>1</th>\n",
       "      <td>b1de3765-442e-b556-9304-551c2a055901</td>\n",
       "      <td>Kevin Flaherty VP Marketing @ Wetpaint</td>\n",
       "      <td>job</td>\n",
       "      <td>kevin-flaherty-executive-wetpaint--b1de3765</td>\n",
       "      <td>https://www.crunchbase.com/job/kevin-flaherty-...</td>\n",
       "      <td>NaN</td>\n",
       "      <td>2007-05-25 07:04:16</td>\n",
       "      <td>2018-02-13 01:32:51</td>\n",
       "      <td>5ceca97b-493c-1446-6249-5aaa33464763</td>\n",
       "      <td>Kevin Flaherty</td>\n",
       "      <td>e1393508-30ea-8a36-3f96-dd3226033abd</td>\n",
       "      <td>Wetpaint</td>\n",
       "      <td>NaN</td>\n",
       "      <td>NaN</td>\n",
       "      <td>False</td>\n",
       "      <td>VP Marketing</td>\n",
       "      <td>executive</td>\n",
       "    </tr>\n",
       "  </tbody>\n",
       "</table>\n",
       "</div>"
      ],
      "text/plain": [
       "                                   uuid  \\\n",
       "0  697b6934-fc1f-9d63-cfb2-1a10759b378e   \n",
       "1  b1de3765-442e-b556-9304-551c2a055901   \n",
       "\n",
       "                                                name type  \\\n",
       "0  Ben Elowitz Co-Founder/CEO/Board of Directors ...  job   \n",
       "1             Kevin Flaherty VP Marketing @ Wetpaint  job   \n",
       "\n",
       "                                     permalink  \\\n",
       "0     ben-elowitz-executive-wetpaint--697b6934   \n",
       "1  kevin-flaherty-executive-wetpaint--b1de3765   \n",
       "\n",
       "                                              cb_url  rank  \\\n",
       "0  https://www.crunchbase.com/job/ben-elowitz-exe...   NaN   \n",
       "1  https://www.crunchbase.com/job/kevin-flaherty-...   NaN   \n",
       "\n",
       "            created_at           updated_at  \\\n",
       "0  2007-05-25 07:03:54  2018-02-13 01:26:54   \n",
       "1  2007-05-25 07:04:16  2018-02-13 01:32:51   \n",
       "\n",
       "                            person_uuid     person_name  \\\n",
       "0  ed13cd36-fe2b-3707-197b-0c2d56e37a71     Ben Elowitz   \n",
       "1  5ceca97b-493c-1446-6249-5aaa33464763  Kevin Flaherty   \n",
       "\n",
       "                               org_uuid  org_name started_on ended_on  \\\n",
       "0  e1393508-30ea-8a36-3f96-dd3226033abd  Wetpaint        NaN      NaN   \n",
       "1  e1393508-30ea-8a36-3f96-dd3226033abd  Wetpaint        NaN      NaN   \n",
       "\n",
       "   is_current                              title   job_type  \n",
       "0       False  Co-Founder/CEO/Board of Directors  executive  \n",
       "1       False                       VP Marketing  executive  "
      ]
     },
     "execution_count": 167,
     "metadata": {},
     "output_type": "execute_result"
    }
   ],
   "source": [
    "jobs_df.head(2)"
   ]
  },
  {
   "cell_type": "code",
   "execution_count": 168,
   "id": "narrative-istanbul",
   "metadata": {},
   "outputs": [
    {
     "data": {
      "text/plain": [
       "{'advisor', 'board_member', 'board_observer', 'employee', 'executive'}"
      ]
     },
     "execution_count": 168,
     "metadata": {},
     "output_type": "execute_result"
    }
   ],
   "source": [
    "set(jobs_df.job_type)"
   ]
  },
  {
   "cell_type": "code",
   "execution_count": 174,
   "id": "efficient-ozone",
   "metadata": {},
   "outputs": [
    {
     "data": {
      "text/plain": [
       "0                          Co-Founder/CEO/Board of Directors\n",
       "1                                               VP Marketing\n",
       "2                                           Chief Evangelist\n",
       "3                                    VP Business Development\n",
       "4                                                        CEO\n",
       "                                 ...                        \n",
       "1581717    Head of Global Customer Experience Strategy & ...\n",
       "1581718                                     Public relations\n",
       "1581719                                             Engineer\n",
       "1581720                                   General Contractor\n",
       "1581721                                  Structural Engineer\n",
       "Name: title, Length: 1581722, dtype: object"
      ]
     },
     "execution_count": 174,
     "metadata": {},
     "output_type": "execute_result"
    }
   ],
   "source": [
    "jobs_df.title"
   ]
  },
  {
   "cell_type": "code",
   "execution_count": 173,
   "id": "informational-baltimore",
   "metadata": {},
   "outputs": [
    {
     "data": {
      "text/plain": [
       "Index(['people_uuid', 'name', 'first_name', 'last_name', 'gender',\n",
       "       'country_code', 'state_code', 'region', 'city', 'org_uuid',\n",
       "       'featured_job_organization_name', 'featured_job_title', 'facebook_url',\n",
       "       'linkedin_url', 'twitter_url', 'logo_url'],\n",
       "      dtype='object')"
      ]
     },
     "execution_count": 173,
     "metadata": {},
     "output_type": "execute_result"
    }
   ],
   "source": [
    "people_df_v2.columns"
   ]
  },
  {
   "cell_type": "code",
   "execution_count": 179,
   "id": "turned-spencer",
   "metadata": {},
   "outputs": [
    {
     "data": {
      "text/plain": [
       "Index(['org_uuid', 'name', 'legal_name', 'country_code', 'state_code',\n",
       "       'region', 'city', 'address', 'postal_code', 'status',\n",
       "       'short_description', 'category_list', 'category_groups_list',\n",
       "       'num_funding_rounds', 'total_funding_usd', 'total_funding',\n",
       "       'total_funding_currency_code', 'founded_on', 'last_funding_on',\n",
       "       'closed_on', 'employee_count', 'email', 'phone', 'facebook_url',\n",
       "       'linkedin_url', 'twitter_url', 'logo_url', 'primary_role', 'num_exits'],\n",
       "      dtype='object')"
      ]
     },
     "execution_count": 179,
     "metadata": {},
     "output_type": "execute_result"
    }
   ],
   "source": [
    "org_df_v3.columns"
   ]
  },
  {
   "cell_type": "code",
   "execution_count": null,
   "id": "bulgarian-stocks",
   "metadata": {},
   "outputs": [],
   "source": [
    "set(org_df_v3.num_funding_rounds)"
   ]
  },
  {
   "cell_type": "code",
   "execution_count": null,
   "id": "apart-welsh",
   "metadata": {},
   "outputs": [],
   "source": []
  }
 ],
 "metadata": {
  "kernelspec": {
   "display_name": "Python 3",
   "language": "python",
   "name": "python3"
  },
  "language_info": {
   "codemirror_mode": {
    "name": "ipython",
    "version": 3
   },
   "file_extension": ".py",
   "mimetype": "text/x-python",
   "name": "python",
   "nbconvert_exporter": "python",
   "pygments_lexer": "ipython3",
   "version": "3.7.9"
  }
 },
 "nbformat": 4,
 "nbformat_minor": 5
}
